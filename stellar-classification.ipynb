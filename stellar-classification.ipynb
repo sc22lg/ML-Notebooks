{
 "cells": [
  {
   "cell_type": "code",
   "execution_count": 1,
   "id": "f034ed70",
   "metadata": {
    "_cell_guid": "b1076dfc-b9ad-4769-8c92-a6c4dae69d19",
    "_uuid": "8f2839f25d086af736a60e9eeb907d3b93b6e0e5",
    "execution": {
     "iopub.execute_input": "2025-08-05T14:50:26.026237Z",
     "iopub.status.busy": "2025-08-05T14:50:26.025387Z",
     "iopub.status.idle": "2025-08-05T14:50:27.580042Z",
     "shell.execute_reply": "2025-08-05T14:50:27.579064Z"
    },
    "papermill": {
     "duration": 1.55916,
     "end_time": "2025-08-05T14:50:27.581458",
     "exception": false,
     "start_time": "2025-08-05T14:50:26.022298",
     "status": "completed"
    },
    "tags": []
   },
   "outputs": [
    {
     "name": "stdout",
     "output_type": "stream",
     "text": [
      "/kaggle/input/stellar-classification-dataset-sdss17/star_classification.csv\n"
     ]
    }
   ],
   "source": [
    "# This Python 3 environment comes with many helpful analytics libraries installed\n",
    "# It is defined by the kaggle/python Docker image: https://github.com/kaggle/docker-python\n",
    "# For example, here's several helpful packages to load\n",
    "\n",
    "import numpy as np # linear algebra\n",
    "import pandas as pd # data processing, CSV file I/O (e.g. pd.read_csv)\n",
    "\n",
    "# Input data files are available in the read-only \"../input/\" directory\n",
    "# For example, running this (by clicking run or pressing Shift+Enter) will list all files under the input directory\n",
    "\n",
    "import os\n",
    "for dirname, _, filenames in os.walk('/kaggle/input'):\n",
    "    for filename in filenames:\n",
    "        print(os.path.join(dirname, filename))\n",
    "\n",
    "# You can write up to 20GB to the current directory (/kaggle/working/) that gets preserved as output when you create a version using \"Save & Run All\" \n",
    "# You can also write temporary files to /kaggle/temp/, but they won't be saved outside of the current session"
   ]
  },
  {
   "cell_type": "code",
   "execution_count": 2,
   "id": "ada85881",
   "metadata": {
    "execution": {
     "iopub.execute_input": "2025-08-05T14:50:27.586205Z",
     "iopub.status.busy": "2025-08-05T14:50:27.585393Z",
     "iopub.status.idle": "2025-08-05T14:50:28.066384Z",
     "shell.execute_reply": "2025-08-05T14:50:28.065516Z"
    },
    "papermill": {
     "duration": 0.484694,
     "end_time": "2025-08-05T14:50:28.067966",
     "exception": false,
     "start_time": "2025-08-05T14:50:27.583272",
     "status": "completed"
    },
    "tags": []
   },
   "outputs": [
    {
     "name": "stdout",
     "output_type": "stream",
     "text": [
      "             obj_ID       alpha      delta         u         g         r  \\\n",
      "0      1.237661e+18  135.689107  32.494632  23.87882  22.27530  20.39501   \n",
      "1      1.237665e+18  144.826101  31.274185  24.77759  22.83188  22.58444   \n",
      "2      1.237661e+18  142.188790  35.582444  25.26307  22.66389  20.60976   \n",
      "3      1.237663e+18  338.741038  -0.402828  22.13682  23.77656  21.61162   \n",
      "4      1.237680e+18  345.282593  21.183866  19.43718  17.58028  16.49747   \n",
      "...             ...         ...        ...       ...       ...       ...   \n",
      "99995  1.237679e+18   39.620709  -2.594074  22.16759  22.97586  21.90404   \n",
      "99996  1.237679e+18   29.493819  19.798874  22.69118  22.38628  20.45003   \n",
      "99997  1.237668e+18  224.587407  15.700707  21.16916  19.26997  18.20428   \n",
      "99998  1.237661e+18  212.268621  46.660365  25.35039  21.63757  19.91386   \n",
      "99999  1.237661e+18  196.896053  49.464643  22.62171  21.79745  20.60115   \n",
      "\n",
      "              i         z  run_ID  rerun_ID  cam_col  field_ID   spec_obj_ID  \\\n",
      "0      19.16573  18.79371    3606       301        2        79  6.543777e+18   \n",
      "1      21.16812  21.61427    4518       301        5       119  1.176014e+19   \n",
      "2      19.34857  18.94827    3606       301        2       120  5.152200e+18   \n",
      "3      20.50454  19.25010    4192       301        3       214  1.030107e+19   \n",
      "4      15.97711  15.54461    8102       301        3       137  6.891865e+18   \n",
      "...         ...       ...     ...       ...      ...       ...           ...   \n",
      "99995  21.30548  20.73569    7778       301        2       581  1.055431e+19   \n",
      "99996  19.75759  19.41526    7917       301        1       289  8.586351e+18   \n",
      "99997  17.69034  17.35221    5314       301        4       308  3.112008e+18   \n",
      "99998  19.07254  18.62482    3650       301        4       131  7.601080e+18   \n",
      "99999  20.00959  19.28075    3650       301        4        60  8.343152e+18   \n",
      "\n",
      "        class  redshift  plate    MJD  fiber_ID  \n",
      "0      GALAXY  0.634794   5812  56354       171  \n",
      "1      GALAXY  0.779136  10445  58158       427  \n",
      "2      GALAXY  0.644195   4576  55592       299  \n",
      "3      GALAXY  0.932346   9149  58039       775  \n",
      "4      GALAXY  0.116123   6121  56187       842  \n",
      "...       ...       ...    ...    ...       ...  \n",
      "99995  GALAXY  0.000000   9374  57749       438  \n",
      "99996  GALAXY  0.404895   7626  56934       866  \n",
      "99997  GALAXY  0.143366   2764  54535        74  \n",
      "99998  GALAXY  0.455040   6751  56368       470  \n",
      "99999  GALAXY  0.542944   7410  57104       851  \n",
      "\n",
      "[100000 rows x 18 columns]\n"
     ]
    }
   ],
   "source": [
    "star_data = pd.read_csv(\"/kaggle/input/stellar-classification-dataset-sdss17/star_classification.csv\")\n",
    "print(str(star_data))"
   ]
  }
 ],
 "metadata": {
  "kaggle": {
   "accelerator": "none",
   "dataSources": [
    {
     "datasetId": 1866141,
     "sourceId": 3047436,
     "sourceType": "datasetVersion"
    }
   ],
   "dockerImageVersionId": 31089,
   "isGpuEnabled": false,
   "isInternetEnabled": false,
   "language": "python",
   "sourceType": "notebook"
  },
  "kernelspec": {
   "display_name": "Python 3",
   "language": "python",
   "name": "python3"
  },
  "language_info": {
   "codemirror_mode": {
    "name": "ipython",
    "version": 3
   },
   "file_extension": ".py",
   "mimetype": "text/x-python",
   "name": "python",
   "nbconvert_exporter": "python",
   "pygments_lexer": "ipython3",
   "version": "3.11.13"
  },
  "papermill": {
   "default_parameters": {},
   "duration": 7.405623,
   "end_time": "2025-08-05T14:50:28.487032",
   "environment_variables": {},
   "exception": null,
   "input_path": "__notebook__.ipynb",
   "output_path": "__notebook__.ipynb",
   "parameters": {},
   "start_time": "2025-08-05T14:50:21.081409",
   "version": "2.6.0"
  }
 },
 "nbformat": 4,
 "nbformat_minor": 5
}
