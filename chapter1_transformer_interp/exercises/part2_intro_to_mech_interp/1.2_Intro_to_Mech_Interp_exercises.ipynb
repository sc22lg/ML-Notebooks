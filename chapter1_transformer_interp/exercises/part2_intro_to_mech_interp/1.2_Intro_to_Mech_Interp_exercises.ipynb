{
  "cells": [
    {
      "cell_type": "markdown",
      "metadata": {
        "id": "view-in-github",
        "colab_type": "text"
      },
      "source": [
        "<a href=\"https://colab.research.google.com/github/sc22lg/ML-Notebooks/blob/TransformerLens_Intro/chapter1_transformer_interp/exercises/part2_intro_to_mech_interp/1.2_Intro_to_Mech_Interp_exercises.ipynb\" target=\"_parent\"><img src=\"https://colab.research.google.com/assets/colab-badge.svg\" alt=\"Open In Colab\"/></a>"
      ]
    },
    {
      "cell_type": "markdown",
      "metadata": {
        "id": "Kell8QXsXliP"
      },
      "source": [
        "# [1.2] Intro to Mechanistic Interpretability: TransformerLens & induction circuits (exercises)\n",
        "\n",
        "> **ARENA [Streamlit Page](https://arena-chapter1-transformer-interp.streamlit.app/02_[1.2]_Intro_to_Mech_Interp)**\n",
        ">\n",
        "> **Colab: [exercises](https://colab.research.google.com/github/callummcdougall/ARENA_3.0/blob/main/chapter1_transformer_interp/exercises/part2_intro_to_mech_interp/1.2_Intro_to_Mech_Interp_exercises.ipynb?t=20250731) | [solutions](https://colab.research.google.com/github/callummcdougall/ARENA_3.0/blob/main/chapter1_transformer_interp/exercises/part2_intro_to_mech_interp/1.2_Intro_to_Mech_Interp_solutions.ipynb?t=20250731)**\n",
        "\n",
        "Please send any problems / bugs on the `#errata` channel in the [Slack group](https://join.slack.com/t/arena-uk/shared_invite/zt-3afdmdhye-Mdb3Sv~ss_V_mEaXEbkABA), and ask any questions on the dedicated channels for this chapter of material.\n",
        "\n",
        "You can collapse each section so only the headers are visible, by clicking the arrow symbol on the left hand side of the markdown header cells.\n",
        "\n",
        "Links to all other chapters: [(0) Fundamentals](https://arena-chapter0-fundamentals.streamlit.app/), [(1) Transformer Interpretability](https://arena-chapter1-transformer-interp.streamlit.app/), [(2) RL](https://arena-chapter2-rl.streamlit.app/)."
      ]
    },
    {
      "cell_type": "markdown",
      "metadata": {
        "id": "IvjjONMbXliT"
      },
      "source": [
        "<img src=\"https://raw.githubusercontent.com/info-arena/ARENA_img/main/misc/headers/header-12.png\" width=\"350\">"
      ]
    },
    {
      "cell_type": "markdown",
      "metadata": {
        "id": "-TXNIa8iXliT"
      },
      "source": [
        "# Introduction"
      ]
    },
    {
      "cell_type": "markdown",
      "metadata": {
        "id": "0GJ40_XrXliT"
      },
      "source": [
        "These pages are designed to get you introduced to the core concepts of mechanistic interpretability, via Neel Nanda's **TransformerLens** library.\n",
        "\n",
        "Most of the sections are constructed in the following way:\n",
        "\n",
        "1. A particular feature of TransformerLens is introduced.\n",
        "2. You are given an exercise, in which you have to apply the feature.\n",
        "\n",
        "The running theme of the exercises is **induction circuits**. Induction circuits are a particular type of circuit in a transformer, which can perform basic in-context learning. You should read the [corresponding section of Neel's glossary](https://dynalist.io/d/n2ZWtnoYHrU1s4vnFSAQ519J#z=_Jzi6YHRHKP1JziwdE02qdYZ), before continuing. This [LessWrong post](https://www.lesswrong.com/posts/TvrfY4c9eaGLeyDkE/induction-heads-illustrated) might also help; it contains some diagrams (like the one below) which walk through the induction mechanism step by step.\n",
        "\n",
        "Each exercise will have a difficulty and importance rating out of 5, as well as an estimated maximum time you should spend on these exercises and sometimes a short annotation. You should interpret the ratings & time estimates relatively (e.g. if you find yourself spending about 50% longer on the exercises than the time estimates, adjust accordingly). Please do skip exercises / look at solutions if you don't feel like they're important enough to be worth doing, and you'd rather get to the good stuff!\n",
        "\n",
        "For a lecture on the material today, which provides some high-level understanding before you dive into the material, watch the video below:\n",
        "\n",
        "<iframe width=\"540\" height=\"304\" src=\"https://www.youtube.com/embed/lfwT79Hgytc\" frameborder=\"0\" allow=\"accelerometer; autoplay; encrypted-media; gyroscope; picture-in-picture\" allowfullscreen></iframe>"
      ]
    },
    {
      "cell_type": "markdown",
      "metadata": {
        "id": "Ye9QFNIvXliU"
      },
      "source": [
        "<img src=\"https://raw.githubusercontent.com/info-arena/ARENA_img/main/misc/kcomp_diagram.png\" width=\"1000\">"
      ]
    },
    {
      "cell_type": "markdown",
      "metadata": {
        "id": "ZfYqUQoFXliU"
      },
      "source": [
        "## Content & Learning Objectives\n",
        "\n",
        "### 1️⃣ TransformerLens: Introduction\n",
        "\n",
        "This section is designed to get you up to speed with the TransformerLens library. You'll learn how to load and run models, and learn about the shared architecture template for all of these models (the latter of which should be familiar to you if you've already done the exercises that come before these, since many of the same design principles are followed).\n",
        "\n",
        "> ##### Learning Objectives\n",
        ">\n",
        "> - Load and run a `HookedTransformer` model\n",
        "> - Understand the basic architecture of these models\n",
        "> - Use the model's tokenizer to convert text to tokens, and vice versa\n",
        "> - Know how to cache activations, and to access activations from the cache\n",
        "> - Use `circuitsvis` to visualise attention heads\n",
        "\n",
        "### 2️⃣ Finding induction heads\n",
        "\n",
        "Here, you'll learn about induction heads, how they work and why they are important. You'll also learn how to identify them from the characteristic induction head stripe in their attention patterns when the model input is a repeating sequence.\n",
        "\n",
        "> ##### Learning Objectives\n",
        ">\n",
        "> - Understand what induction heads are, and the algorithm they are implementing\n",
        "> - Inspect activation patterns to identify basic attention head patterns, and write your own functions to detect attention heads for you\n",
        "> - Identify induction heads by looking at the attention patterns produced from a repeating random sequence\n",
        "\n",
        "### 3️⃣ TransformerLens: Hooks\n",
        "\n",
        "Next, you'll learn about hooks, which are a great feature of TransformerLens allowing you to access and intervene on activations within the model. We will mainly focus on the basics of hooks and using them to access activations (we'll mainly save the causal interventions for the later IOI exercises). You will also build some tools to perform logit attribution within your model, so you can identify which components are responsible for your model's performance on certain tasks.\n",
        "\n",
        "> ##### Learning Objectives\n",
        ">\n",
        "> - Understand what hooks are, and how they are used in TransformerLens\n",
        "> - Use hooks to access activations, process the results, and write them to an external tensor\n",
        "> - Build tools to perform attribution, i.e. detecting which components of your model are responsible for performance on a given task\n",
        "> - Understand how hooks can be used to perform basic interventions like **ablation**\n",
        "\n",
        "### 4️⃣ Reverse-engineering induction circuits\n",
        "\n",
        "Lastly, these exercises show you how you can reverse-engineer a circuit by looking directly at a transformer's weights (which can be considered a \"gold standard\" of interpretability; something not possible in every situation). You'll examine QK and OV circuits by multiplying through matrices (and learn how the FactoredMatrix class makes matrices like these much easier to analyse). You'll also look for evidence of composition between two induction heads, and once you've found it then you'll investigate the functionality of the full circuit formed from this composition.\n",
        "\n",
        "> ##### Learning Objectives\n",
        ">\n",
        "> - Understand the difference between investigating a circuit by looking at activation patterns, and reverse-engineering a circuit by looking directly at the weights\n",
        "> - Use the factored matrix class to inspect the QK and OV circuits within an induction circuit\n",
        "> - Perform further exploration of induction circuits: composition scores, and targeted ablations"
      ]
    },
    {
      "cell_type": "markdown",
      "metadata": {
        "id": "adOZjk36XliV"
      },
      "source": [
        "## Setup code"
      ]
    },
    {
      "cell_type": "code",
      "execution_count": 1,
      "metadata": {
        "colab": {
          "base_uri": "https://localhost:8080/"
        },
        "id": "jWsyjDXQXliV",
        "outputId": "0702e5e5-c33c-4a2c-a195-d563c6f30cbb",
        "collapsed": true
      },
      "outputs": [
        {
          "output_type": "stream",
          "name": "stderr",
          "text": [
            "/tmp/ipython-input-3198469199.py:5: DeprecationWarning: pkg_resources is deprecated as an API. See https://setuptools.pypa.io/en/latest/pkg_resources.html\n",
            "  import pkg_resources\n"
          ]
        }
      ],
      "source": [
        "import os\n",
        "import sys\n",
        "from pathlib import Path\n",
        "\n",
        "import pkg_resources\n",
        "\n",
        "IN_COLAB = \"google.colab\" in sys.modules\n",
        "\n",
        "chapter = \"chapter1_transformer_interp\"\n",
        "repo = \"ARENA_3.0\"\n",
        "branch = \"main\"\n",
        "\n",
        "# Install dependencies\n",
        "installed_packages = [pkg.key for pkg in pkg_resources.working_set]\n",
        "if \"transformer-lens\" not in installed_packages:\n",
        "    %pip install transformer_lens==2.11.0 einops eindex-callum jaxtyping git+https://github.com/callummcdougall/CircuitsVis.git#subdirectory=python\n",
        "\n",
        "# Get root directory, handling 3 different cases: (1) Colab, (2) notebook not in ARENA repo, (3) notebook in ARENA repo\n",
        "root = (\n",
        "    \"/content\"\n",
        "    if IN_COLAB\n",
        "    else \"/root\"\n",
        "    if repo not in os.getcwd()\n",
        "    else str(next(p for p in Path.cwd().parents if p.name == repo))\n",
        ")\n",
        "\n",
        "if Path(root).exists() and not Path(f\"{root}/{chapter}\").exists():\n",
        "    if not IN_COLAB:\n",
        "        !sudo apt-get install unzip\n",
        "        %pip install jupyter ipython --upgrade\n",
        "\n",
        "    if not os.path.exists(f\"{root}/{chapter}\"):\n",
        "        !wget -P {root} https://github.com/callummcdougall/ARENA_3.0/archive/refs/heads/{branch}.zip\n",
        "        !unzip {root}/{branch}.zip '{repo}-{branch}/{chapter}/exercises/*' -d {root}\n",
        "        !mv {root}/{repo}-{branch}/{chapter} {root}/{chapter}\n",
        "        !rm {root}/{branch}.zip\n",
        "        !rmdir {root}/ARENA_3.0-{branch}\n",
        "\n",
        "\n",
        "if f\"{root}/{chapter}/exercises\" not in sys.path:\n",
        "    sys.path.append(f\"{root}/{chapter}/exercises\")\n",
        "\n",
        "os.chdir(f\"{root}/{chapter}/exercises\")"
      ]
    },
    {
      "cell_type": "code",
      "execution_count": 2,
      "metadata": {
        "id": "SS3PjTn0XliW"
      },
      "outputs": [],
      "source": [
        "import functools\n",
        "import sys\n",
        "from pathlib import Path\n",
        "from typing import Callable\n",
        "\n",
        "import circuitsvis as cv\n",
        "import einops\n",
        "import numpy as np\n",
        "import torch as t\n",
        "import torch.nn as nn\n",
        "import torch.nn.functional as F\n",
        "from eindex import eindex\n",
        "from IPython.display import display\n",
        "from jaxtyping import Float, Int\n",
        "from torch import Tensor\n",
        "from tqdm import tqdm\n",
        "from transformer_lens import (\n",
        "    ActivationCache,\n",
        "    FactoredMatrix,\n",
        "    HookedTransformer,\n",
        "    HookedTransformerConfig,\n",
        "    utils,\n",
        ")\n",
        "from transformer_lens.hook_points import HookPoint\n",
        "\n",
        "device = t.device(\n",
        "    \"mps\" if t.backends.mps.is_available() else \"cuda\" if t.cuda.is_available() else \"cpu\"\n",
        ")\n",
        "\n",
        "# Make sure exercises are in the path\n",
        "chapter = \"chapter1_transformer_interp\"\n",
        "section = \"part2_intro_to_mech_interp\"\n",
        "root_dir = next(p for p in Path.cwd().parents if (p / chapter).exists())\n",
        "exercises_dir = root_dir / chapter / \"exercises\"\n",
        "section_dir = exercises_dir / section\n",
        "\n",
        "import part2_intro_to_mech_interp.tests as tests\n",
        "from plotly_utils import (\n",
        "    hist,\n",
        "    imshow,\n",
        "    plot_comp_scores,\n",
        "    plot_logit_attribution,\n",
        "    plot_loss_difference,\n",
        ")\n",
        "\n",
        "# Saves computation time, since we don't need it for the contents of this notebook\n",
        "t.set_grad_enabled(False)\n",
        "\n",
        "MAIN = __name__ == \"__main__\""
      ]
    },
    {
      "cell_type": "markdown",
      "metadata": {
        "id": "ssFLQrq2XliX"
      },
      "source": [
        "# 1️⃣ TransformerLens: Introduction\n",
        "\n",
        "> ##### Learning Objectives\n",
        ">\n",
        "> - Load and run a `HookedTransformer` model\n",
        "> - Understand the basic architecture of these models\n",
        "> - Use the model's tokenizer to convert text to tokens, and vice versa\n",
        "> - Know how to cache activations, and to access activations from the cache\n",
        "> - Use `circuitsvis` to visualise attention heads"
      ]
    },
    {
      "cell_type": "markdown",
      "metadata": {
        "id": "2zXZiVgYXliX"
      },
      "source": [
        "## Introduction\n",
        "\n",
        "*Note - most of this is written from the POV of Neel Nanda.*\n",
        "\n",
        "This is a demo notebook for [TransformerLens](https://github.com/neelnanda-io/TransformerLens), **a library I ([Neel Nanda](neelnanda.io)) wrote for doing [mechanistic interpretability](https://distill.pub/2020/circuits/zoom-in/) of GPT-2 Style language models.** The goal of mechanistic interpretability is to take a trained model and reverse engineer the algorithms the model learned during training from its weights. It is a fact about the world today that we have computer programs that can essentially speak English at a human level (GPT-3, PaLM, etc), yet we have no idea how they work nor how to write one ourselves. This offends me greatly, and I would like to solve this! Mechanistic interpretability is a very young and small field, and there are a *lot* of open problems - if you would like to help, please try working on one! **Check out my [list of concrete open problems](https://docs.google.com/document/d/1WONBzNqfKIxERejrrPlQMyKqg7jSFW92x5UMXNrMdPo/edit#) to figure out where to start.**\n",
        "\n",
        "I wrote this library because after I left the Anthropic interpretability team and started doing independent research, I got extremely frustrated by the state of open source tooling. There's a lot of excellent infrastructure like HuggingFace and DeepSpeed to *use* or *train* models, but very little to dig into their internals and reverse engineer how they work. **This library tries to solve that**, and to make it easy to get into the field even if you don't work at an industry org with real infrastructure! The core features were heavily inspired by [Anthropic's excellent Garcon tool](https://transformer-circuits.pub/2021/garcon/index.html). Credit to Nelson Elhage and Chris Olah for building Garcon and showing me the value of good infrastructure for accelerating exploratory research!\n",
        "\n",
        "The core design principle I've followed is to enable exploratory analysis - one of the most fun parts of mechanistic interpretability compared to normal ML is the extremely short feedback loops! The point of this library is to keep the gap between having an experiment idea and seeing the results as small as possible, to make it easy for **research to feel like play** and to enter a flow state. This notebook demonstrates how the library works and how to use it, but if you want to see how well it works for exploratory research, check out [my notebook analysing Indirect Objection Identification](https://github.com/neelnanda-io/TransformerLens/blob/main/Exploratory_Analysis_Demo.ipynb) or [my recording of myself doing research](https://www.youtube.com/watch?v=yo4QvDn-vsU)!"
      ]
    },
    {
      "cell_type": "markdown",
      "metadata": {
        "id": "UI5qhY7LXliX"
      },
      "source": [
        "## Loading and Running Models\n",
        "\n",
        "TransformerLens comes loaded with >40 open source GPT-style models. You can load any of them in with `HookedTransformer.from_pretrained(MODEL_NAME)`. For this demo notebook we'll look at GPT-2 Small, an 80M parameter model, see the Available Models section for info on the rest."
      ]
    },
    {
      "cell_type": "code",
      "execution_count": null,
      "metadata": {
        "id": "1_jELonXXliX"
      },
      "outputs": [],
      "source": [
        "gpt2_small: HookedTransformer = HookedTransformer.from_pretrained(\"gpt2-small\")"
      ]
    },
    {
      "cell_type": "markdown",
      "metadata": {
        "id": "XF7C8fUTXliX"
      },
      "source": [
        "### HookedTransformerConfig\n",
        "\n",
        "Alternatively, you can define a config object, then call `HookedTransformer.from_config(cfg)` to define your model. This is particularly useful when you want to have finer control over the architecture of your model. We'll see an example of this in the next section, when we define an attention-only model to study induction heads.\n",
        "\n",
        "Even if you don't define your model in this way, you can still access the config object through the `cfg` attribute of the model."
      ]
    },
    {
      "cell_type": "markdown",
      "metadata": {
        "id": "Q7ytkkpQXliY"
      },
      "source": [
        "### Exercise - inspect your model\n",
        "\n",
        "> ```yaml\n",
        "> Difficulty: 🔴⚪⚪⚪⚪\n",
        "> Importance: 🔵🔵🔵⚪⚪\n",
        "> ```\n",
        "\n",
        "Use `gpt2_small.cfg` to find the following, for your GPT-2 Small model:\n",
        "\n",
        "* Number of layers\n",
        "* Number of heads per layer\n",
        "* Maximum context window\n",
        "\n",
        "You might have to check out the documentation page for some of these. If you're in VSCode then you can reach it by right-clicking on `HookedTransformerConfig` and choosing \"Go to definition\". If you're in Colab, then you can read the [GitHub page](https://github.com/neelnanda-io/TransformerLens).\n",
        "\n",
        "<details>\n",
        "<summary>Answer</summary>\n",
        "\n",
        "The following parameters in the config object give you the answers:\n",
        "\n",
        "```\n",
        "cfg.n_layers == 12\n",
        "cfg.n_heads == 12\n",
        "cfg.n_ctx == 1024\n",
        "```\n",
        "\n",
        "</details>"
      ]
    },
    {
      "cell_type": "code",
      "source": [
        "print(gpt2_small.cfg)\n",
        "print(f'Number of layers: {gpt2_small.cfg.n_layers}\\nNumber of heads per layer: {gpt2_small.cfg.n_heads}\\nMaximum context window: {gpt2_small.cfg.n_ctx}')"
      ],
      "metadata": {
        "colab": {
          "base_uri": "https://localhost:8080/"
        },
        "id": "8hdzv-3Oau3k",
        "outputId": "b50915ba-35f9-4598-ad67-0892d5adbe1e"
      },
      "execution_count": 4,
      "outputs": [
        {
          "output_type": "stream",
          "name": "stdout",
          "text": [
            "HookedTransformerConfig:\n",
            "{'NTK_by_parts_factor': 8.0,\n",
            " 'NTK_by_parts_high_freq_factor': 4.0,\n",
            " 'NTK_by_parts_low_freq_factor': 1.0,\n",
            " 'act_fn': 'gelu_new',\n",
            " 'attention_dir': 'causal',\n",
            " 'attn_only': False,\n",
            " 'attn_scale': 8.0,\n",
            " 'attn_scores_soft_cap': -1.0,\n",
            " 'attn_types': None,\n",
            " 'checkpoint_index': None,\n",
            " 'checkpoint_label_type': None,\n",
            " 'checkpoint_value': None,\n",
            " 'd_head': 64,\n",
            " 'd_mlp': 3072,\n",
            " 'd_model': 768,\n",
            " 'd_vocab': 50257,\n",
            " 'd_vocab_out': 50257,\n",
            " 'decoder_start_token_id': None,\n",
            " 'default_prepend_bos': True,\n",
            " 'device': device(type='cpu'),\n",
            " 'dtype': torch.float32,\n",
            " 'eps': 1e-05,\n",
            " 'experts_per_token': None,\n",
            " 'final_rms': False,\n",
            " 'from_checkpoint': False,\n",
            " 'gated_mlp': False,\n",
            " 'init_mode': 'gpt2',\n",
            " 'init_weights': False,\n",
            " 'initializer_range': 0.02886751345948129,\n",
            " 'load_in_4bit': False,\n",
            " 'model_name': 'gpt2',\n",
            " 'n_ctx': 1024,\n",
            " 'n_devices': 1,\n",
            " 'n_heads': 12,\n",
            " 'n_key_value_heads': None,\n",
            " 'n_layers': 12,\n",
            " 'n_params': 84934656,\n",
            " 'normalization_type': 'LNPre',\n",
            " 'num_experts': None,\n",
            " 'original_architecture': 'GPT2LMHeadModel',\n",
            " 'output_logits_soft_cap': -1.0,\n",
            " 'parallel_attn_mlp': False,\n",
            " 'positional_embedding_type': 'standard',\n",
            " 'post_embedding_ln': False,\n",
            " 'relative_attention_max_distance': None,\n",
            " 'relative_attention_num_buckets': None,\n",
            " 'rotary_adjacent_pairs': False,\n",
            " 'rotary_base': 10000,\n",
            " 'rotary_dim': None,\n",
            " 'scale_attn_by_inverse_layer_idx': False,\n",
            " 'seed': None,\n",
            " 'tie_word_embeddings': False,\n",
            " 'tokenizer_name': 'gpt2',\n",
            " 'tokenizer_prepends_bos': False,\n",
            " 'trust_remote_code': False,\n",
            " 'ungroup_grouped_query_attention': False,\n",
            " 'use_NTK_by_parts_rope': False,\n",
            " 'use_attn_in': False,\n",
            " 'use_attn_result': False,\n",
            " 'use_attn_scale': True,\n",
            " 'use_hook_mlp_in': False,\n",
            " 'use_hook_tokens': False,\n",
            " 'use_local_attn': False,\n",
            " 'use_normalization_before_and_after': False,\n",
            " 'use_split_qkv_input': False,\n",
            " 'window_size': None}\n",
            "Number of layers: 12\n",
            "Number of heads per layer: 12\n",
            "Maximum context window: 1024\n"
          ]
        }
      ]
    },
    {
      "cell_type": "markdown",
      "metadata": {
        "id": "IJ4i__fbXliY"
      },
      "source": [
        "### Running your model\n",
        "\n",
        "Models can be run on a single string or a tensor of tokens (shape: `[batch, position]`, all integers). The possible return types are:\n",
        "\n",
        "* `\"logits\"` (shape `[batch, position, d_vocab]`, floats),\n",
        "* `\"loss\"` (the cross-entropy loss when predicting the next token),\n",
        "* `\"both\"` (a tuple of `(logits, loss)`)\n",
        "* `None` (run the model, but don't calculate the logits - this is faster when we only want to use intermediate activations)"
      ]
    },
    {
      "cell_type": "code",
      "execution_count": 5,
      "metadata": {
        "colab": {
          "base_uri": "https://localhost:8080/",
          "height": 192
        },
        "id": "Ww3nbpfFXliY",
        "outputId": "ce502f7a-014f-4283-9ef8-2f118bed6a23"
      },
      "outputs": [
        {
          "output_type": "stream",
          "name": "stdout",
          "text": [
            "Model loss: tensor(4.3443)\n",
            "Model logits: tensor([[[ 7.5261, 11.1214,  7.8919,  ..., -3.1299, -3.3873,  8.5934],\n",
            "         [ 6.4374,  6.6423,  7.9894,  ..., -3.1102, -3.3172,  6.9129],\n",
            "         [ 9.9369,  5.4857,  4.5168,  ...,  0.8547, -1.9129,  8.6622],\n",
            "         ...,\n",
            "         [ 5.8265,  3.7776,  2.6125,  ..., -1.4690, -1.6947,  5.3947],\n",
            "         [11.2830,  6.5782,  6.8157,  ..., -1.9103, -1.2812, 10.0311],\n",
            "         [ 6.6811,  4.1927,  8.6574,  ..., -3.2836, -2.3790, 12.7244]]])\n"
          ]
        },
        {
          "output_type": "execute_result",
          "data": {
            "text/plain": [
              "\"\\n\\n...\\n\\n##uge onformer\\n with with all100 models models modelsIM modelsbased models.\\n can use them of these from your thehookedTransformer`.load`modelend_modelULE_NAME,`.\\n model has a with the ` `TransTransformer.. and to be used and easy and easyable-free.\\n\\n## example tutorial,, will use at thePT-style., Medium openxbized with\\n load out model, following is, you's use the `less the model:\\n\""
            ],
            "application/vnd.google.colaboratory.intrinsic+json": {
              "type": "string"
            }
          },
          "metadata": {},
          "execution_count": 5
        }
      ],
      "source": [
        "model_description_text = \"\"\"## Loading Models\n",
        "\n",
        "HookedTransformer comes loaded with >40 open source GPT-style models. You can load any of them in with `HookedTransformer.from_pretrained(MODEL_NAME)`. Each model is loaded into the consistent HookedTransformer architecture, designed to be clean, consistent and interpretability-friendly.\n",
        "\n",
        "For this demo notebook we'll look at GPT-2 Small, an 80M parameter model. To try the model the model out, let's find the loss on this paragraph!\"\"\"\n",
        "\n",
        "logits, loss = gpt2_small(model_description_text, return_type=\"both\")\n",
        "print(\"Model loss:\", loss)\n",
        "print(\"Model logits:\", logits)\n",
        "gpt2_small.to_string(logits.argmax(dim=-1).squeeze())"
      ]
    },
    {
      "cell_type": "markdown",
      "metadata": {
        "id": "uWsSookZXliY"
      },
      "source": [
        "<pre style=\"white-space:pre;overflow-x:auto;line-height:normal;font-family:Menlo,'DejaVu Sans Mono',consolas,'Courier New',monospace\">Model loss: tensor(4.3443, device='cuda:0')</pre>"
      ]
    },
    {
      "cell_type": "markdown",
      "metadata": {
        "id": "Mq0hLE5dXliY"
      },
      "source": [
        "## Transformer architecture\n",
        "\n",
        "HookedTransformer is a somewhat adapted GPT-2 architecture, but is computationally identical. The most significant changes are to the internal structure of the attention heads:\n",
        "\n",
        "* The weights `W_K`, `W_Q`, `W_V` mapping the residual stream to queries, keys and values are 3 separate matrices, rather than big concatenated one.\n",
        "* The weight matrices `W_K`, `W_Q`, `W_V`, `W_O` and activations have separate `head_index` and `d_head` axes, rather than flattening them into one big axis.\n",
        "    * The activations all have shape `[batch, position, head_index, d_head]`.\n",
        "    * `W_K`, `W_Q`, `W_V` have shape `[head_index, d_model, d_head]` and `W_O` has shape `[head_index, d_head, d_model]`\n",
        "* **Important - we generally follow the convention that weight matrices multiply on the right rather than the left.** In other words, they have shape `[input, output]`, and we have `new_activation = old_activation @ weights + bias`.\n",
        "    * Click the dropdown below for examples of this, if it seems unintuitive.\n",
        "\n",
        "<details>\n",
        "<summary>Examples of matrix multiplication in our model</summary>\n",
        "\n",
        "* **Query matrices**\n",
        "    * Each query matrix `W_Q` for a particular layer and head has shape `[d_model, d_head]`.\n",
        "    * So if a vector `x` in the residual stream has length `d_model`, then the corresponding query vector is `x @ W_Q`, which has length `d_head`.\n",
        "* **Embedding matrix**\n",
        "    * The embedding matrix `W_E` has shape `[d_vocab, d_model]`.\n",
        "    * So if `A` is a one-hot-encoded vector of length `d_vocab` corresponding to a particular token, then the embedding vector for this token is `A @ W_E`, which has length `d_model`.\n",
        "\n",
        "</details>\n",
        "\n",
        "The actual code is a bit of a mess, as there's a variety of Boolean flags to make it consistent with the various different model families in TransformerLens - to understand it and the internal structure, I instead recommend reading the code in [CleanTransformerDemo](https://colab.research.google.com/github/neelnanda-io/TransformerLens/blob/clean-transformer-demo/Clean_Transformer_Demo.ipynb)."
      ]
    },
    {
      "cell_type": "markdown",
      "metadata": {
        "id": "Uysu6PKKXliY"
      },
      "source": [
        "### Parameters and Activations\n",
        "\n",
        "It's important to distinguish between parameters and activations in the model.\n",
        "\n",
        "* **Parameters** are the weights and biases that are learned during training.\n",
        "    * These don't change when the model input changes.\n",
        "    * They can be accessed directly from the model, e.g. `model.W_E` for the embedding matrix.\n",
        "* **Activations** are temporary numbers calculated during a forward pass, that are functions of the input.\n",
        "    * We can think of these values as only existing for the duration of a single forward pass, and disappearing afterwards.\n",
        "    * We can use hooks to access these values during a forward pass (more on hooks later), but it doesn't make sense to talk about a model's activations outside the context of some particular input.\n",
        "    * Attention scores and patterns are activations (this is slightly non-intuitve because they're used in a matrix multiplication with another activation).\n",
        "\n",
        "The link below shows a diagram of a single layer (called a `TransformerBlock`) for an attention-only model with no biases. Each box corresponds to an **activation** (and also tells you the name of the corresponding hook point, which we will eventually use to access those activations). The red text below each box tells you the shape of the activation (ignoring the batch dimension). Each arrow corresponds to an operation on an activation; where there are **parameters** involved these are labelled on the arrows.\n",
        "\n",
        "[Link to diagram](https://raw.githubusercontent.com/info-arena/ARENA_img/main/misc/small-merm.svg)\n",
        "\n",
        "The next link is to a diagram of a `TransformerBlock` with full features (including biases, layernorms, and MLPs). Don't worry if not all of this makes sense at first - we'll return to some of the details later. As we work with these transformers, we'll get more comfortable with their architecture.\n",
        "\n",
        "[Link to diagram](https://raw.githubusercontent.com/info-arena/ARENA_img/main/misc/full-merm.svg)"
      ]
    },
    {
      "cell_type": "markdown",
      "metadata": {
        "id": "KI1aaJHXXliZ"
      },
      "source": [
        "A few shortcuts to make your lives easier when using these models:\n",
        "\n",
        "* You can index weights like `W_Q` directly from the model via e.g. `model.blocks[0].attn.W_Q` (which gives you the `[nheads, d_model, d_head]` query weights for all heads in layer 0).\n",
        "    * But an easier way is just to index with `model.W_Q`, which gives you the `[nlayers, nheads, d_model, d_head]` tensor containing **every** query weight in the model.\n",
        "* Similarly, there exist shortcuts `model.W_E`, `model.W_U` and `model.W_pos` for the embeddings, unembeddings and positional embeddings respectively.\n",
        "* With models containing MLP layers, you also have `model.W_in` and `model.W_out` for the linear layers.\n",
        "* The same is true for all biases (e.g. `model.b_Q` for all query biases)."
      ]
    },
    {
      "cell_type": "markdown",
      "metadata": {
        "id": "P6DXGdsfXliZ"
      },
      "source": [
        "## Tokenization\n",
        "\n",
        "The tokenizer is stored inside the model, and you can access it using `model.tokenizer`. There are also a few helper methods that call the tokenizer under the hood, for instance:\n",
        "\n",
        "* `model.to_str_tokens(text)` converts a string into a list of tokens-as-strings (or a list of strings into a list of lists of tokens-as-strings).\n",
        "* `model.to_tokens(text)` converts a string into a tensor of tokens.\n",
        "* `model.to_string(tokens)` converts a tensor of tokens into a string.\n",
        "\n",
        "Examples of use:"
      ]
    },
    {
      "cell_type": "code",
      "execution_count": 6,
      "metadata": {
        "colab": {
          "base_uri": "https://localhost:8080/"
        },
        "id": "7CGxTYtaXliZ",
        "outputId": "9ccc478f-34e5-4543-a577-90183fbf523e"
      },
      "outputs": [
        {
          "output_type": "stream",
          "name": "stdout",
          "text": [
            "['<|endoftext|>', 'g', 'pt', '2']\n",
            "[['<|endoftext|>', 'g', 'pt', '2'], ['<|endoftext|>', 'g', 'pt', '2']]\n",
            "tensor([[50256,    70,   457,    17]])\n",
            "<|endoftext|>gpt2\n",
            "tensor([[50256,  3123,    78, 39451]])\n",
            "['<|endoftext|>', 'Le', 'o', ' Gott']\n"
          ]
        }
      ],
      "source": [
        "print(gpt2_small.to_str_tokens(\"gpt2\"))\n",
        "print(gpt2_small.to_str_tokens([\"gpt2\", \"gpt2\"]))\n",
        "print(gpt2_small.to_tokens(\"gpt2\"))\n",
        "print(gpt2_small.to_string([50256, 70, 457, 17]))\n",
        "\n",
        "print(gpt2_small.to_tokens(\"Leo Gott\"))\n",
        "print(gpt2_small.to_str_tokens(\"Leo Gott\"))"
      ]
    },
    {
      "cell_type": "markdown",
      "metadata": {
        "id": "4MYUvWj2XliZ"
      },
      "source": [
        "<pre style=\"white-space:pre;overflow-x:auto;line-height:normal;font-family:Menlo,'DejaVu Sans Mono',consolas,'Courier New',monospace\">['<|endoftext|>', 'g', 'pt', '2']\n",
        "[['<|endoftext|>', 'g', 'pt', '2'], ['<|endoftext|>', 'g', 'pt', '2']]\n",
        "tensor([[50256,    70,   457,    17]], device='cuda:0')\n",
        "<|endoftext|>gpt2</pre>"
      ]
    },
    {
      "cell_type": "markdown",
      "metadata": {
        "id": "-pzfagBRXliZ"
      },
      "source": [
        "<details>\n",
        "<summary>Aside - <code><|endoftext|></code></summary>\n",
        "\n",
        "A weirdness you may have noticed in the above is that `to_tokens` and `to_str_tokens` added a weird `<|endoftext|>` to the start of each prompt. We encountered this in the previous set of exercises, and noted that this was the **Beginning of Sequence (BOS)** token (which for GPT-2 is also the same as the EOS and PAD tokens - index `50256`.\n",
        "\n",
        "TransformerLens appends this token by default, and it can easily trip up new users. Notably, **this includes** `model.forward` (which is what's implicitly used when you do eg `model(\"Hello World\")`). You can disable this behaviour by setting the flag `prepend_bos=False` in `to_tokens`, `to_str_tokens`, `model.forward` and any other function that converts strings to multi-token tensors.\n",
        "\n",
        "`prepend_bos` is a bit of a hack, and I've gone back and forth on what the correct default here is. The reason I do this is that transformers tend to treat the first token weirdly - this doesn't really matter in training (where all inputs are >1000 tokens), but this can be a big issue when investigating short prompts! The reason for this is that attention patterns are a probability distribution and so need to add up to one, so to simulate being \"off\" they normally look at the first token. Giving them a BOS token lets the heads rest by looking at that, preserving the information in the first \"real\" token.\n",
        "\n",
        "Further, *some* models are trained to need a BOS token (OPT and my interpretability-friendly models are, GPT-2 and GPT-Neo are not). But despite GPT-2 not being trained with this, empirically it seems to make interpretability easier.\n",
        "\n",
        "</details>"
      ]
    },
    {
      "cell_type": "markdown",
      "metadata": {
        "id": "YPmT8Z9KXliZ"
      },
      "source": [
        "### Exercise - how many tokens does your model guess correctly?\n",
        "\n",
        "> ```yaml\n",
        "> Difficulty: 🔴🔴⚪⚪⚪\n",
        "> Importance: 🔵🔵🔵⚪⚪\n",
        ">\n",
        "> You should spend up to ~10 minutes on this exercise.\n",
        "> ```\n",
        "\n",
        "Consider the `model_description_text` you fed into your model above. How many tokens did your model guess correctly? Which tokens were correct?"
      ]
    },
    {
      "cell_type": "code",
      "execution_count": 7,
      "metadata": {
        "colab": {
          "base_uri": "https://localhost:8080/"
        },
        "id": "0DwdgXGaXliZ",
        "outputId": "99313ccf-b2d4-4f3a-b83e-25dc8a99d09e"
      },
      "outputs": [
        {
          "output_type": "stream",
          "name": "stdout",
          "text": [
            "## Loading Models\n",
            "\n",
            "HookedTransformer comes loaded with >40 open source GPT-style models. You can load any of them in with `HookedTransformer.from_pretrained(MODEL_NAME)`. Each model is loaded into the consistent HookedTransformer architecture, designed to be clean, consistent and interpretability-friendly.\n",
            "\n",
            "For this demo notebook we'll look at GPT-2 Small, an 80M parameter model. To try the model the model out, let's find the loss on this paragraph!\n",
            "tensor([  198,   198,   986,   198,   198,  2235,  2217,   319, 16354,   198,\n",
            "          351,   351,   477,  3064,  4981,  4981,  4981,  3955,  4981,  3106,\n",
            "         4981,    13,   198,   460,   779,   606,   286,   777,   422,   534,\n",
            "          262,    71, 46288,  8291, 16354, 44646,  2220,    63, 19849,   437,\n",
            "           62, 19849, 24212,    62, 20608,    11, 44646,   198,  2746,   468,\n",
            "          257,   351,   262,  4600,  4600,  8291,  8291, 16354,    13,    13,\n",
            "          290,   284,   307,   973,   290,  2562,   290,  2562,   540,    12,\n",
            "         5787,    13,   198,   198,  2235,  1672, 11808,    11,    11,   481,\n",
            "          779,   379,   262, 11571,    12,  7635,    13,    11, 13398,  1280,\n",
            "           87,    65,  1143,   351,   198,  3440,   503,  2746,    11,  1708,\n",
            "          318,    11,   345,   338,   779,   262,  4600,  1203,   262,  2746,\n",
            "           25])\n",
            "tensor([50256,  2235, 12320, 32329,   198,   198,    39, 46288,  8291, 16354,\n",
            "         2058,  9639,   351,  1875,  1821,  1280,  2723,   402, 11571,    12,\n",
            "         7635,  4981,    13,   921,   460,  3440,   597,   286,   606,   287,\n",
            "          351,  4600,    39, 46288,  8291, 16354,    13,  6738,    62,  5310,\n",
            "        13363,     7, 33365,  3698,    62, 20608,     8, 44646,  5501,  2746,\n",
            "          318,  9639,   656,   262,  6414, 18531,   276,  8291, 16354, 10959,\n",
            "           11,  3562,   284,   307,  3424,    11,  6414,   290,  6179,  1799,\n",
            "           12, 13120,    13,   198,   198,  1890,   428, 13605, 20922,   356,\n",
            "         1183,   804,   379,   402, 11571,    12,    17, 10452,    11,   281,\n",
            "         4019,    44, 11507,  2746,    13,  1675,  1949,   262,  2746,   262,\n",
            "         2746,   503,    11,  1309,   338,  1064,   262,  2994,   319,   428,\n",
            "         7322,     0])\n",
            "Model accuracy: 33/111\n",
            "Correct tokens: [3, tensor(198), 4, tensor(198), 8, tensor(16354), 11, tensor(351), 20, tensor(4981), 21, tensor(13), 23, tensor(460), 26, tensor(286), 32, tensor(46288), 33, tensor(8291), 34, tensor(16354), 43, tensor(62), 44, tensor(20608), 46, tensor(44646), 48, tensor(2746), 52, tensor(262), 56, tensor(8291), 57, tensor(16354), 61, tensor(284), 62, tensor(307), 66, tensor(290), 69, tensor(12), 71, tensor(13), 72, tensor(198), 73, tensor(198), 81, tensor(379), 83, tensor(11571), 84, tensor(12), 87, tensor(11), 97, tensor(2746), 101, tensor(11), 103, tensor(338), 105, tensor(262)]\n"
          ]
        }
      ],
      "source": [
        "logits: Tensor = gpt2_small(model_description_text, return_type=\"logits\")\n",
        "prediction = logits.argmax(dim=-1).squeeze()[:-1]\n",
        "\n",
        "# YOUR CODE HERE - get the model's prediction on the text\n",
        "print(model_description_text)\n",
        "print(prediction)\n",
        "\n",
        "tokenised_input = gpt2_small.to_tokens(model_description_text).squeeze()\n",
        "print(tokenised_input)\n",
        "\n",
        "correct_counter = 0\n",
        "correct_tokens = []\n",
        "for i in range(len(prediction)-1):\n",
        "  if prediction[i] == tokenised_input[i+1]:\n",
        "    correct_counter += 1\n",
        "    correct_tokens += (i, prediction[i])\n",
        "\n",
        "print(f\"Model accuracy: {correct_counter}/{len(prediction)}\")\n",
        "print(f\"Correct tokens: {correct_tokens}\")"
      ]
    },
    {
      "cell_type": "markdown",
      "metadata": {
        "id": "AEDXVFZsXliZ"
      },
      "source": [
        "<details>\n",
        "<summary>Hint</summary>\n",
        "\n",
        "Use `return_type=\"logits\"` to get the model's predictions, then take argmax across the vocab dimension. Then, compare these predictions with the actual tokens, derived from the `model_description_text`.\n",
        "\n",
        "Remember, you should be comparing the `[:-1]`th elements of this tensor of predictions with the `[1:]`th elements of the input tokens (because your model's output represents a probability distribution over the *next* token, not the current one).\n",
        "\n",
        "Also, remember to handle the batch dimension (since `logits`, and the output of `to_tokens`, will both have batch dimensions by default).\n",
        "\n",
        "</details>\n",
        "\n",
        "<details>\n",
        "<summary>Answer - what you should see</summary>\n",
        "\n",
        "<pre style=\"white-space:pre;overflow-x:auto;line-height:normal;font-family:Menlo,'DejaVu Sans Mono',consolas,'Courier New',monospace\">Model accuracy: 33/111\n",
        "Correct tokens: ['\\n', '\\n', 'former', ' with', ' models', '.', ' can', ' of', 'ooked', 'Trans', 'former', '_', 'NAME', '`.', ' model', ' the', 'Trans', 'former', ' to', ' be', ' and', '-', '.', '\\n', '\\n', ' at', 'PT', '-', ',', ' model', ',', \"'s\", ' the']\n",
        "</pre>\n",
        "\n",
        "So the model got 33 out of 111 tokens correct. Not too bad!\n",
        "\n",
        "</details>\n",
        "\n",
        "\n",
        "<details><summary>Solution</summary>\n",
        "\n",
        "```python\n",
        "logits: Tensor = gpt2_small(model_description_text, return_type=\"logits\")\n",
        "prediction = logits.argmax(dim=-1).squeeze()[:-1]\n",
        "\n",
        "true_tokens = gpt2_small.to_tokens(model_description_text).squeeze()[1:]\n",
        "is_correct = prediction == true_tokens\n",
        "\n",
        "print(f\"Model accuracy: {is_correct.sum()}/{len(true_tokens)}\")\n",
        "print(f\"Correct tokens: {gpt2_small.to_str_tokens(prediction[is_correct])}\")\n",
        "```\n",
        "</details>"
      ]
    },
    {
      "cell_type": "markdown",
      "metadata": {
        "id": "-Wif7unsXlia"
      },
      "source": [
        "**Induction heads** are a special kind of attention head which we'll examine a lot more in coming exercises. They allow a model to perform in-context learning of a specific form: generalising from one observation that token `B` follows token `A`, to predict that token `B` will follow `A` in future occurrences of `A`, even if these two tokens had never appeared together in the model's training data.\n",
        "\n",
        "**Can you see evidence of any induction heads at work, on this text?**\n",
        "\n",
        "<details>\n",
        "<summary>Evidence of induction heads</summary>\n",
        "\n",
        "The evidence for induction heads comes from the fact that the model successfully predicted `'ooked', 'Trans', 'former'` following the token `'H'`. This is because it's the second time that `HookedTransformer` had appeared in this text string, and the model predicted it the second time but not the first. (The model did predict `former` the first time, but we can reasonably assume that `Transformer` is a word this model had already been exposed to during training, so this prediction wouldn't require the induction capability, unlike `HookedTransformer`.)\n",
        "\n",
        "```python\n",
        "print(gpt2_small.to_str_tokens(\"HookedTransformer\", prepend_bos=False))     # --> ['H', 'ooked', 'Trans', 'former']\n",
        "```\n",
        "</details>"
      ]
    },
    {
      "cell_type": "markdown",
      "metadata": {
        "id": "F3kZViG3Xlia"
      },
      "source": [
        "## Caching all Activations\n",
        "\n",
        "The first basic operation when doing mechanistic interpretability is to break open the black box of the model and look at all of the internal activations of a model. This can be done with `logits, cache = model.run_with_cache(tokens)`. Let's try this out, on the first sentence from the GPT-2 paper.\n",
        "\n",
        "<details>\n",
        "<summary>Aside - a note on <code>remove_batch_dim</code></summary>\n",
        "\n",
        "Every activation inside the model begins with a batch dimension. Here, because we only entered a single batch dimension, that dimension is always length 1 and kinda annoying, so passing in the `remove_batch_dim=True` keyword removes it.\n",
        "\n",
        "`gpt2_cache_no_batch_dim = gpt2_cache.remove_batch_dim()` would have achieved the same effect.\n",
        "</details>"
      ]
    },
    {
      "cell_type": "code",
      "execution_count": 8,
      "metadata": {
        "colab": {
          "base_uri": "https://localhost:8080/"
        },
        "id": "HQPlSfPxXlia",
        "outputId": "754efa28-2a29-4af9-bd59-cd5f0df8cb79"
      },
      "outputs": [
        {
          "output_type": "stream",
          "name": "stdout",
          "text": [
            "<class 'torch.Tensor'> <class 'transformer_lens.ActivationCache.ActivationCache'>\n"
          ]
        }
      ],
      "source": [
        "gpt2_text = \"Natural language processing tasks, such as question answering, machine translation, reading comprehension, and summarization, are typically approached with supervised learning on task-specific datasets.\"\n",
        "gpt2_tokens = gpt2_small.to_tokens(gpt2_text)\n",
        "gpt2_logits, gpt2_cache = gpt2_small.run_with_cache(gpt2_tokens, remove_batch_dim=True)\n",
        "\n",
        "print(type(gpt2_logits), type(gpt2_cache))"
      ]
    },
    {
      "cell_type": "markdown",
      "metadata": {
        "id": "21DC1PJ1Xlia"
      },
      "source": [
        "If you inspect the `gpt2_cache` object, you should see that it contains a very large number of keys, each one corresponding to a different activation in the model. You can access the keys by indexing the cache directly, or by a more convenient indexing shorthand. For instance, here are 2 ways to extract the attention patterns for layer 0:"
      ]
    },
    {
      "cell_type": "code",
      "execution_count": 9,
      "metadata": {
        "id": "Fn70QBEZXlia"
      },
      "outputs": [],
      "source": [
        "attn_patterns_from_shorthand = gpt2_cache[\"pattern\", 0]\n",
        "attn_patterns_from_full_name = gpt2_cache[\"blocks.0.attn.hook_pattern\"]\n",
        "\n",
        "t.testing.assert_close(attn_patterns_from_shorthand, attn_patterns_from_full_name)"
      ]
    },
    {
      "cell_type": "markdown",
      "metadata": {
        "id": "nC_IrgewXlia"
      },
      "source": [
        "<details>\n",
        "<summary>Aside: <code>utils.get_act_name</code></summary>\n",
        "\n",
        "The reason these are the same is that, under the hood, the first example actually indexes by `utils.get_act_name(\"pattern\", 0)`, which evaluates to `\"blocks.0.attn.hook_pattern\"`.\n",
        "\n",
        "In general, `utils.get_act_name` is a useful function for getting the full name of an activation, given its short name and layer number.\n",
        "\n",
        "You can use the diagram from the **Transformer Architecture** section to help you find activation names.\n",
        "</details>"
      ]
    },
    {
      "cell_type": "markdown",
      "metadata": {
        "id": "mmz9Yf5iXlib"
      },
      "source": [
        "### Exercise - verify activations\n",
        "\n",
        "> ```yaml\n",
        "> Difficulty: 🔴🔴🔴⚪⚪\n",
        "> Importance: 🔵🔵🔵⚪⚪\n",
        ">\n",
        "> You should spend up to 10-15 minutes on this exercise.\n",
        ">\n",
        "> If you're already comfortable implementing things like attention calculations (e.g. having gone through Neel's transformer walkthrough) you can skip this exercise. However, it might serve as a useful refresher.\n",
        "> ```\n",
        "\n",
        "Verify that `hook_q`, `hook_k` and `hook_pattern` are related to each other in the way implied by the diagram. Do this by computing `layer0_pattern_from_cache` (the attention pattern taken directly from the cache, for layer 0) and `layer0_pattern_from_q_and_k` (the attention pattern calculated from `hook_q` and `hook_k`, for layer 0). Remember that attention pattern is the probabilities, so you'll need to scale and softmax appropriately."
      ]
    },
    {
      "cell_type": "code",
      "execution_count": 10,
      "metadata": {
        "colab": {
          "base_uri": "https://localhost:8080/"
        },
        "id": "ct9Rf8xTXlib",
        "outputId": "0ba7fc75-1942-4d2c-854e-4e9eff17c34e"
      },
      "outputs": [
        {
          "output_type": "stream",
          "name": "stdout",
          "text": [
            "torch.Size([33, 12, 64])\n",
            "torch.Size([33, 12, 64])\n",
            "torch.Size([33, 12, 64])\n",
            "torch.Size([12, 33, 33])\n",
            "Tests passed!\n"
          ]
        }
      ],
      "source": [
        "layer0_pattern_from_cache = gpt2_cache[\"pattern\", 0]\n",
        "\n",
        "# YOUR CODE HERE - define `layer0_pattern_from_q_and_k` manually, by manually performing the\n",
        "# steps of the attention calculation (dot product, masking, scaling, softmax)\n",
        "\n",
        "key_from_cache = gpt2_cache[\"k\", 0]\n",
        "query_from_cache = gpt2_cache[\"q\", 0]\n",
        "value_from_cache = gpt2_cache[\"v\", 0]\n",
        "\n",
        "print(key_from_cache.shape)\n",
        "print(query_from_cache.shape)\n",
        "print(value_from_cache.shape)\n",
        "\n",
        "# combine key and query matricies\n",
        "attn_scores = einops.einsum(query_from_cache, key_from_cache, \"Q_pos n_heads d_head, K_pos n_heads d_head -> n_heads Q_pos K_pos\")\n",
        "attn_scores = attn_scores / (query_from_cache.shape[-1] ** 0.5) # apply some normalisation\n",
        "\n",
        "# create and apply mask\n",
        "mask = t.triu(t.ones((query_from_cache.shape[0], key_from_cache.shape[0]), dtype=t.bool), diagonal=1).to(device)\n",
        "masked_attn_scores = attn_scores.masked_fill_(mask, -1e9)\n",
        "\n",
        "# apply softmax along key dimension\n",
        "attention_pattern = masked_attn_scores.softmax(dim=-1)\n",
        "print(attention_pattern.shape)\n",
        "\n",
        "layer0_pattern_from_q_and_k = attention_pattern\n",
        "t.testing.assert_close(layer0_pattern_from_cache, layer0_pattern_from_q_and_k)\n",
        "print(\"Tests passed!\")"
      ]
    },
    {
      "cell_type": "markdown",
      "metadata": {
        "id": "ZZP6Dk9qXlib"
      },
      "source": [
        "<details>\n",
        "<summary>Hint</summary>\n",
        "\n",
        "You'll need to use three different cache indexes in all:\n",
        "\n",
        "* `gpt2_cache[\"pattern\", 0]` to get the attention patterns, which have shape `[nhead, seqQ, seqK]`\n",
        "* `gpt2_cache[\"q\", 0]` to get the query vectors, which have shape `[seqQ, nhead, headsize]`\n",
        "* `gpt2_cache[\"k\", 0]` to get the key vectors, which have shape `[seqK, nhead, headsize]`\n",
        "\n",
        "</details>\n",
        "\n",
        "\n",
        "<details><summary>Solution</summary>\n",
        "\n",
        "```python\n",
        "layer0_pattern_from_cache = gpt2_cache[\"pattern\", 0]\n",
        "\n",
        "q, k = gpt2_cache[\"q\", 0], gpt2_cache[\"k\", 0]\n",
        "seq, nhead, headsize = q.shape\n",
        "layer0_attn_scores = einops.einsum(q, k, \"seqQ n h, seqK n h -> n seqQ seqK\")\n",
        "mask = t.triu(t.ones((seq, seq), dtype=t.bool), diagonal=1).to(device)\n",
        "layer0_attn_scores.masked_fill_(mask, -1e9)\n",
        "layer0_pattern_from_q_and_k = (layer0_attn_scores / headsize**0.5).softmax(-1)\n",
        "```\n",
        "</details>"
      ]
    },
    {
      "cell_type": "markdown",
      "metadata": {
        "id": "r91d3_nbXlib"
      },
      "source": [
        "## Visualising Attention Heads\n",
        "\n",
        "A key insight from the Mathematical Frameworks paper is that we should focus on interpreting the parts of the model that are intrinsically interpretable - the input tokens, the output logits and the attention patterns. Everything else (the residual stream, keys, queries, values, etc) are compressed intermediate states when calculating meaningful things. So a natural place to start is classifying heads by their attention patterns on various texts.\n",
        "\n",
        "When doing interpretability, it's always good to begin by visualising your data, rather than taking summary statistics. Summary statistics can be super misleading! But now that we have visualised the attention patterns, we can create some basic summary statistics and use our visualisations to validate them! (Accordingly, being good at web dev/data visualisation is a surprisingly useful skillset! Neural networks are very high-dimensional object.)\n",
        "\n",
        "Let's visualize the attention pattern of all the heads in layer 0, using [Alan Cooney's CircuitsVis library](https://github.com/alan-cooney/CircuitsVis) (based on Anthropic's PySvelte library). If you did the previous set of exercises, you'll have seen this library before.\n",
        "\n",
        "We will use the function `cv.attention.attention_patterns`, which takes two important arguments:\n",
        "\n",
        "* `attention`: the attention head patterns, of shape `[n_heads, seq_len, seq_len]`. This consists of the stacked grid of attention probabilities for each head, i.e. `attention[head, d, s]` is the attention probability from destination position `d` to source position `s` in attention head `head`.\n",
        "* `tokens`: List of tokens, which should have the same length as the `seq_len` dimension of `attention`. Make sure you're not accidentally passing in a list with a dummy dimension, or that differs from `seq_len` because of the BOS token!\n",
        "\n",
        "This visualization is interactive! Try hovering over a token or head, and click to lock. The grid on the top left and for each head is the attention pattern as a destination position by source position grid. It's lower triangular because GPT-2 has **causal attention**, attention can only look backwards, so information can only move forwards in the network.\n",
        "\n",
        "> Note - you can also use the `cv.attention.attention_heads` function, which presents the data in a different way (the syntax is exactly the same as `attention_patterns`). Note, if you display this in VSCode then it may exhibit a bug where the main plot continually shrinks in size - if this happens, you should instead save the HTML (i.e. with `html = cv.attention.attention_heads(...); with open(\"attn_heads.html\", \"w\") as f: f.write(str(html))`) and open the plot in your browser."
      ]
    },
    {
      "cell_type": "code",
      "execution_count": null,
      "metadata": {
        "id": "SqfzpIl0Xlib"
      },
      "outputs": [],
      "source": [
        "print(type(gpt2_cache))\n",
        "attention_pattern = gpt2_cache[\"pattern\", 0]\n",
        "print(attention_pattern.shape)\n",
        "gpt2_str_tokens = gpt2_small.to_str_tokens(gpt2_text)\n",
        "\n",
        "print(\"Layer 0 Head Attention Patterns:\")\n",
        "display(\n",
        "    cv.attention.attention_patterns(\n",
        "        tokens=gpt2_str_tokens,\n",
        "        attention=attention_pattern,\n",
        "        attention_head_names=[f\"L0H{i}\" for i in range(12)],\n",
        "    )\n",
        ")"
      ]
    },
    {
      "cell_type": "markdown",
      "metadata": {
        "id": "4CyX4AjoXlif"
      },
      "source": [
        "Hover over heads to see the attention patterns; click on a head to lock it. Hover over each token to see which other tokens it attends to (or which other tokens attend to it - you can see this by changing the dropdown to `Destination <- Source`)."
      ]
    },
    {
      "cell_type": "markdown",
      "metadata": {
        "id": "8xLjqBXRXlif"
      },
      "source": [
        "<details>\n",
        "<summary>Other circuitsvis functions - neuron activations</summary>\n",
        "\n",
        "The `circuitsvis` library also has a number of cool visualisations for **neuron activations**. Here are some more of them (you don't have to understand them all now, but you can come back to them later).\n",
        "\n",
        "The function below visualises neuron activations. The example shows just one sequence, but it can also show multiple sequences (if `tokens` is a list of lists of strings, and `activations` is a list of tensors).\n",
        "\n",
        "```python\n",
        "neuron_activations_for_all_layers = t.stack([\n",
        "    gpt2_cache[\"post\", layer] for layer in range(gpt2_small.cfg.n_layers)\n",
        "], dim=1)\n",
        "# shape = (seq_pos, layers, neurons)\n",
        "\n",
        "cv.activations.text_neuron_activations(\n",
        "    tokens=gpt2_str_tokens,\n",
        "    activations=neuron_activations_for_all_layers\n",
        ")\n",
        "```\n",
        "\n",
        "The next function shows which words each of the neurons activates most / least on (note that it requires some weird indexing to work correctly).\n",
        "\n",
        "```python\n",
        "neuron_activations_for_all_layers_rearranged = utils.to_numpy(einops.rearrange(neuron_activations_for_all_layers, \"seq layers neurons -> 1 layers seq neurons\"))\n",
        "\n",
        "cv.topk_tokens.topk_tokens(\n",
        "    # Some weird indexing required here ¯\\_(ツ)_/¯\n",
        "    tokens=[gpt2_str_tokens],\n",
        "    activations=neuron_activations_for_all_layers_rearranged,\n",
        "    max_k=7,\n",
        "    first_dimension_name=\"Layer\",\n",
        "    third_dimension_name=\"Neuron\",\n",
        "    first_dimension_labels=list(range(12))\n",
        ")\n",
        "```\n",
        "</details>"
      ]
    },
    {
      "cell_type": "code",
      "source": [
        "neuron_activations_for_all_layers = t.stack([\n",
        "    gpt2_cache[\"post\", layer] for layer in range(gpt2_small.cfg.n_layers)\n",
        "], dim=1)\n",
        "# shape = (seq_pos, layers, neurons)\n",
        "\n",
        "cv.activations.text_neuron_activations(\n",
        "    tokens=gpt2_str_tokens,\n",
        "    activations=neuron_activations_for_all_layers\n",
        ")"
      ],
      "metadata": {
        "id": "UGNprY1AEhXY"
      },
      "execution_count": null,
      "outputs": []
    },
    {
      "cell_type": "code",
      "source": [
        "neuron_activations_for_all_layers_rearranged = utils.to_numpy(einops.rearrange(neuron_activations_for_all_layers, \"seq layers neurons -> 1 layers seq neurons\"))\n",
        "\n",
        "cv.topk_tokens.topk_tokens(\n",
        "    # Some weird indexing required here ¯\\_(ツ)_/¯\n",
        "    tokens=[gpt2_str_tokens],\n",
        "    activations=neuron_activations_for_all_layers_rearranged,\n",
        "    max_k=7,\n",
        "    first_dimension_name=\"Layer\",\n",
        "    third_dimension_name=\"Neuron\",\n",
        "    first_dimension_labels=list(range(12))\n",
        ")"
      ],
      "metadata": {
        "id": "AFL2l5iyFUtP"
      },
      "execution_count": null,
      "outputs": []
    },
    {
      "cell_type": "markdown",
      "metadata": {
        "id": "C5fjzFcRXlig"
      },
      "source": [
        "# 2️⃣ Finding induction heads\n",
        "\n",
        "> ##### Learning Objectives\n",
        ">\n",
        "> - Understand what induction heads are, and the algorithm they are implementing\n",
        "> - Inspect activation patterns to identify basic attention head patterns, and write your own functions to detect attention heads for you\n",
        "> - Identify induction heads by looking at the attention patterns produced from a repeating random sequence"
      ]
    },
    {
      "cell_type": "markdown",
      "metadata": {
        "id": "sL7q0CZFXlig"
      },
      "source": [
        "## Introducing Our Toy Attention-Only Model\n",
        "\n",
        "Here we introduce a toy 2L attention-only transformer trained specifically for today. Some changes to make them easier to interpret:\n",
        "- It has only attention blocks.\n",
        "- The positional embeddings are only added to the residual stream before calculating each key and query vector in the attention layers as opposed to the token embeddings - i.e. we compute queries as `Q = (resid + pos_embed) @ W_Q + b_Q` and same for keys, but values as `V = resid @ W_V + b_V`. This means that **the residual stream can't directly encode positional information**.\n",
        "    - This turns out to make it *way* easier for induction heads to form, it happens 2-3x times earlier - [see the comparison of two training runs](https://wandb.ai/mechanistic-interpretability/attn-only/reports/loss_ewma-22-08-24-11-08-83---VmlldzoyNTI0MDMz?accessToken=8ap8ir6y072uqa4f9uinotdtrwmoa8d8k2je4ec0lyasf1jcm3mtdh37ouijgdbm) here. (The bump in each curve is the formation of induction heads.)\n",
        "    - The argument that does this below is `positional_embedding_type=\"shortformer\"`.\n",
        "- It has no MLP layers, no LayerNorms, and no biases.\n",
        "- There are separate embed and unembed matrices (i.e. the weights are not tied).\n",
        "\n",
        "We now define our model with a `HookedTransformerConfig` object. This is similar to the `Config` object we used in the previous set of exercises, although it has a lot more features. You can look at the documentation page (Right-click, \"Go to Definition\" in VSCode) to seee what the different arguments do."
      ]
    },
    {
      "cell_type": "code",
      "execution_count": 14,
      "metadata": {
        "id": "8ykgzWFwXlig"
      },
      "outputs": [],
      "source": [
        "cfg = HookedTransformerConfig(\n",
        "    d_model=768,\n",
        "    d_head=64,\n",
        "    n_heads=12,\n",
        "    n_layers=2,\n",
        "    n_ctx=2048,\n",
        "    d_vocab=50278,\n",
        "    attention_dir=\"causal\",\n",
        "    attn_only=True,  # defaults to False\n",
        "    tokenizer_name=\"EleutherAI/gpt-neox-20b\",\n",
        "    seed=398,\n",
        "    use_attn_result=True,\n",
        "    normalization_type=None,  # defaults to \"LN\", i.e. layernorm with weights & biases\n",
        "    positional_embedding_type=\"shortformer\",\n",
        ")"
      ]
    },
    {
      "cell_type": "markdown",
      "metadata": {
        "id": "Jh1DlSovXlig"
      },
      "source": [
        "Note that in the last section we had to define a tokenizer explicitly, and passed it into our model. But here, we just pass a tokenizer name, and the model will automatically create a tokenizer for us (under the hood, it calls `AutoTokenizer.from_pretrained(tokenizer_name)`).\n",
        "\n",
        "Below, you'll load in your weights, with some boilerplate code to download your state dict from HuggingFace (you can do this for any model you've uploaded to HuggingFace yourself):"
      ]
    },
    {
      "cell_type": "code",
      "execution_count": null,
      "metadata": {
        "id": "GQDBdffdXlih"
      },
      "outputs": [],
      "source": [
        "from huggingface_hub import hf_hub_download\n",
        "\n",
        "REPO_ID = \"callummcdougall/attn_only_2L_half\"\n",
        "FILENAME = \"attn_only_2L_half.pth\"\n",
        "\n",
        "weights_path = hf_hub_download(repo_id=REPO_ID, filename=FILENAME)"
      ]
    },
    {
      "cell_type": "markdown",
      "metadata": {
        "id": "b9cKUh0lXlih"
      },
      "source": [
        "Finally, we'll create our model and load in the weights:"
      ]
    },
    {
      "cell_type": "code",
      "execution_count": null,
      "metadata": {
        "id": "CP_0dNHDXlih",
        "collapsed": true
      },
      "outputs": [],
      "source": [
        "model = HookedTransformer(cfg)\n",
        "pretrained_weights = t.load(weights_path, map_location=device, weights_only=True)\n",
        "model.load_state_dict(pretrained_weights)"
      ]
    },
    {
      "cell_type": "markdown",
      "metadata": {
        "id": "MyVsDVifXlih"
      },
      "source": [
        "Use the [diagram at this link](https://raw.githubusercontent.com/info-arena/ARENA_img/main/misc/small-merm.svg) to remind yourself of the relevant hook names."
      ]
    },
    {
      "cell_type": "markdown",
      "metadata": {
        "id": "reoQVSxhXlih"
      },
      "source": [
        "### Exercise - visualise & inspect attention patterns\n",
        "\n",
        "> ```yaml\n",
        "> Difficulty: 🔴🔴⚪⚪⚪\n",
        "> Importance: 🔵🔵🔵⚪⚪\n",
        ">\n",
        "> You should spend up to ~10 minutes on this exercise.\n",
        ">\n",
        "> It's important to be comfortable using circuitsvis, and the cache object.\n",
        "> ```\n",
        "\n",
        "*This exercise should be very quick - you can reuse code from the previous section. You should look at the solution if you're still stuck after 5-10 minutes.*\n",
        "\n",
        "Visualise the attention patterns for both layers of your model, on the following prompt:"
      ]
    },
    {
      "cell_type": "code",
      "execution_count": 17,
      "metadata": {
        "id": "sYKI3ctfXlii"
      },
      "outputs": [],
      "source": [
        "text = \"We think that powerful, significantly superhuman machine intelligence is more likely than not to be created this century. If current machine learning techniques were scaled up to this level, we think they would by default produce systems that are deceptive or manipulative, and that no solid plans are known for how to avoid this.\"\n",
        "# text = \"Except as otherwise noted, the content of this page is licensed under the Creative Commons Attribution 4.0 License, and code samples are licensed under the Apache 2.0 License.\"\n",
        "text = \"We think that powerful, significantly superhuman machine intelligence is more likely than not to be created this century. This superhuman machine intelligence will be created this century\"\n",
        "logits, cache = model.run_with_cache(text, remove_batch_dim=True)"
      ]
    },
    {
      "cell_type": "markdown",
      "metadata": {
        "id": "aIqOdAXUXlii"
      },
      "source": [
        "*(Note that we've run the model on the string `text`, rather than on tokens like we did previously when creating a cache - this is something that `HookedTransformer` allows.)*\n",
        "\n",
        "Inspect the attention patterns. What do you notice about the attention heads?\n",
        "\n",
        "You should spot three relatively distinctive basic patterns, which occur in multiple heads. What are these patterns, and can you guess why they might be present?"
      ]
    },
    {
      "cell_type": "code",
      "execution_count": null,
      "metadata": {
        "id": "LP3rojAtXlii"
      },
      "outputs": [],
      "source": [
        "# YOUR CODE HERE - visualize attention\n",
        "for layer in range(model.cfg.n_layers):\n",
        "  attention_pattern = cache[\"pattern\", layer]\n",
        "\n",
        "  # use CircuitVis library\n",
        "  display(\n",
        "      cv.attention.attention_patterns(\n",
        "          attention=attention_pattern,\n",
        "          tokens = model.to_str_tokens(text),\n",
        "          attention_head_names=[f\"L{layer}H{i}\" for i in range(12)],\n",
        "      )\n",
        "  )"
      ]
    },
    {
      "cell_type": "markdown",
      "metadata": {
        "id": "HnDP03CEXlii"
      },
      "source": [
        "<details>\n",
        "<summary>Aside - what to do if your plots won't show up</summary>\n",
        "\n",
        "A common mistake is to fail to pass the tokens in as arguments. If you do this, your attention patterns won't render.\n",
        "\n",
        "If this isn't the problem, then it might be an issue with the Circuitsvis library.Rather than plotting inline, you can do the following, and then open in your browser from the left-hand file explorer menu of VSCode:\n",
        "</details>\n",
        "\n",
        "<details>\n",
        "<summary>Discussion of results </summary>\n",
        "\n",
        "We notice that there are three basic patterns which repeat quite frequently:\n",
        "\n",
        "* `prev_token_heads`, which attend mainly to the previous token (e.g. head `0.7`)\n",
        "* `current_token_heads`, which attend mainly to the current token (e.g. head `1.6`)\n",
        "* `first_token_heads`, which attend mainly to the first token (e.g. heads `0.3` or `1.4`, although these are a bit less clear-cut than the other two)\n",
        "\n",
        "The `prev_token_heads` and `current_token_heads` are perhaps unsurprising, because words that are close together in a sequence probably have a lot more mutual information (i.e. we could get quite far using bigram or trigram prediction).\n",
        "\n",
        "The `first_token_heads` are a bit more surprising. The basic intuition here is that the first token in a sequence is often used as a resting or null position for heads that only sometimes activate (since our attention probabilities always have to add up to 1).\n",
        "</details>\n",
        "\n",
        "\n",
        "<details><summary>Solution</summary>\n",
        "\n",
        "```python\n",
        "str_tokens = model.to_str_tokens(text)\n",
        "for layer in range(model.cfg.n_layers):\n",
        "    attention_pattern = cache[\"pattern\", layer]\n",
        "    display(cv.attention.attention_patterns(tokens=str_tokens, attention=attention_pattern))\n",
        "```\n",
        "</details>"
      ]
    },
    {
      "cell_type": "markdown",
      "source": [
        "### Recognised patterns:\n",
        "- Previous word attention heads\n",
        "  - LOH4, LOH7, LOH9\n",
        "- Start of sentence heads\n",
        "  - LOH1, LOH2, LOH10, LOH5\n",
        "- Self Attention heads:\n",
        " - LOH11\n",
        "- Attends from first word in context:\n",
        "  - LOH3, LOH6"
      ],
      "metadata": {
        "id": "ZhogbfZvQPpn"
      }
    },
    {
      "cell_type": "markdown",
      "metadata": {
        "id": "0Mb5oKp3Xlii"
      },
      "source": [
        "Now that we've observed our three basic attention patterns, it's time to make detectors for those patterns!"
      ]
    },
    {
      "cell_type": "markdown",
      "metadata": {
        "id": "q8sABEYnXlii"
      },
      "source": [
        "### Exercise - write your own detectors\n",
        "\n",
        "> ```yaml\n",
        "> Difficulty: 🔴🔴⚪⚪⚪\n",
        "> Importance: 🔵🔵🔵⚪⚪\n",
        ">\n",
        "> You shouldn't spend more than 10-25 minutes on these exercises.\n",
        "> These exercises aren't meant to be too challenging, just to get you thinking about how to characterize head behaviour.\n",
        "> Use the hints if you're stuck.\n",
        "> ```\n",
        "\n",
        "You should fill in the functions below, which act as detectors for particular types of heads. Validate your detectors by comparing these results to the visual attention patterns above - summary statistics on their own can be dodgy, but are much more reliable if you can validate it by directly playing with the data.\n",
        "\n",
        "Tasks like this are useful, because we need to be able to take our observations / intuitions about what a model is doing, and translate these into quantitative measures. As the exercises proceed, we'll be creating some much more interesting tools and detectors!\n",
        "\n",
        "Note - there's no objectively correct answer for which heads are doing which tasks, and which detectors can spot them. You should just try and come up with something plausible-seeming, which identifies the kind of behaviour you're looking for. **Don't spend too much time here looking for a perfect solution, just one that seems to roughly match up with your visual inspection of the attention patterns.**"
      ]
    },
    {
      "cell_type": "code",
      "execution_count": 19,
      "metadata": {
        "id": "m88N4Kq9Xlii",
        "colab": {
          "base_uri": "https://localhost:8080/"
        },
        "outputId": "ef1fda6c-4198-4baa-8fda-0e5adf69e6d4"
      },
      "outputs": [
        {
          "output_type": "stream",
          "name": "stdout",
          "text": [
            "Heads attending to current token  =  0.9, 0.11, 1.6\n",
            "Heads attending to previous token =  0.7, 0.9\n",
            "Heads attending to first token    =  0.1, 0.2, 0.3, 0.6, 1.1, 1.3, 1.4, 1.10\n"
          ]
        }
      ],
      "source": [
        "def current_attn_detector(cache: ActivationCache) -> list[str]:\n",
        "    \"\"\"\n",
        "    Returns a list e.g. [\"0.2\", \"1.4\", \"1.9\"] of \"layer.head\" which you judge to be current-token heads\n",
        "    Goal heads: 0.11, 0.9, 1.6\n",
        "    \"\"\"\n",
        "    attn_heads = []\n",
        "    for layer in range(model.cfg.n_layers):\n",
        "        for head in range(model.cfg.n_heads):\n",
        "            attention_pattern = cache[\"pattern\", layer][head]\n",
        "            # take avg of diagonal elements\n",
        "            score = attention_pattern.diagonal().mean()\n",
        "            if score > 0.3:\n",
        "                attn_heads.append(f\"{layer}.{head}\")\n",
        "    return attn_heads\n",
        "\n",
        "\n",
        "def prev_attn_detector(cache: ActivationCache) -> list[str]:\n",
        "    \"\"\"\n",
        "    Returns a list e.g. [\"0.2\", \"1.4\", \"1.9\"] of \"layer.head\" which you judge to be prev-token heads\n",
        "    \"\"\"\n",
        "    attn_heads = []\n",
        "    for layer in range(model.cfg.n_layers):\n",
        "        for head in range(model.cfg.n_heads):\n",
        "            attention_pattern = cache[\"pattern\", layer][head]\n",
        "            # take average of previous token elements\n",
        "            score = attention_pattern.diagonal(-1).mean()\n",
        "            if score > 0.3:\n",
        "               attn_heads.append(f\"{layer}.{head}\")\n",
        "    return attn_heads\n",
        "\n",
        "\n",
        "def first_attn_detector(cache: ActivationCache) -> list[str]:\n",
        "    \"\"\"\n",
        "    Returns a list e.g. [\"0.2\", \"1.4\", \"1.9\"] of \"layer.head\" which you judge to be first-token heads\n",
        "    \"\"\"\n",
        "    attn_heads = []\n",
        "    for layer in range(model.cfg.n_layers):\n",
        "        for head in range(model.cfg.n_heads):\n",
        "          attention_pattern = cache[\"pattern\", layer][head]\n",
        "          #take average of first element\n",
        "          score = attention_pattern[:, 0].mean()\n",
        "          if score > 0.4:\n",
        "            attn_heads.append(f\"{layer}.{head}\")\n",
        "    return attn_heads\n",
        "\n",
        "\n",
        "print(\"Heads attending to current token  = \", \", \".join(current_attn_detector(cache)))\n",
        "print(\"Heads attending to previous token = \", \", \".join(prev_attn_detector(cache)))\n",
        "print(\"Heads attending to first token    = \", \", \".join(first_attn_detector(cache)))"
      ]
    },
    {
      "cell_type": "markdown",
      "metadata": {
        "id": "KWZOZQt4Xlij"
      },
      "source": [
        "<details>\n",
        "<summary>Hint</summary>\n",
        "\n",
        "Try and compute the average attention probability along the relevant tokens. For instance, you can get the tokens just below the diagonal by using `t.diagonal` with appropriate `offset` parameter:\n",
        "\n",
        "```python\n",
        ">>> arr = t.arange(9).reshape(3, 3)\n",
        ">>> arr\n",
        "tensor([[0, 1, 2],\n",
        "        [3, 4, 5],\n",
        "        [6, 7, 8]])\n",
        "\n",
        ">>> arr.diagonal()\n",
        "tensor([0, 4, 8])\n",
        "\n",
        ">>> arr.diagonal(-1)\n",
        "tensor([3, 7])\n",
        "```\n",
        "\n",
        "Remember that you should be using `cache[\"pattern\", layer]` to get all the attention probabilities for a given layer, and then indexing on the 0th dimension to get the correct head.\n",
        "</details>\n",
        "\n",
        "<details>\n",
        "<summary>Expected output (yours might vary slightly depending on method)</summary>\n",
        "\n",
        "<pre style=\"white-space:pre;overflow-x:auto;line-height:normal;font-family:Menlo,'DejaVu Sans Mono',consolas,'Courier New',monospace\">Heads attending to current token  =  0.9\n",
        "Heads attending to previous token =  0.7\n",
        "Heads attending to first token    =  0.3, 1.4, 1.10\n",
        "</pre>\n",
        "\n",
        "</details>\n",
        "\n",
        "<details>\n",
        "<summary>Solution (one possible method)</summary>\n",
        "\n",
        "Note - choosing `score=0.4` as a threshold in the code below is a bit arbitrary, but it seems to work well enough. In this particular case, a threshold of `0.5` results in no head being classified as a current-token head.\n",
        "\n",
        "```python\n",
        "def current_attn_detector(cache: ActivationCache) -> list[str]:\n",
        "    \"\"\"\n",
        "    Returns a list e.g. [\"0.2\", \"1.4\", \"1.9\"] of \"layer.head\" which you judge to be current-token heads\n",
        "    \"\"\"\n",
        "    attn_heads = []\n",
        "    for layer in range(model.cfg.n_layers):\n",
        "        for head in range(model.cfg.n_heads):\n",
        "            attention_pattern = cache[\"pattern\", layer][head]\n",
        "            # take avg of diagonal elements\n",
        "            score = attention_pattern.diagonal().mean()\n",
        "            if score > 0.4:\n",
        "                attn_heads.append(f\"{layer}.{head}\")\n",
        "    return attn_heads\n",
        "\n",
        "\n",
        "def prev_attn_detector(cache: ActivationCache) -> list[str]:\n",
        "    \"\"\"\n",
        "    Returns a list e.g. [\"0.2\", \"1.4\", \"1.9\"] of \"layer.head\" which you judge to be prev-token heads\n",
        "    \"\"\"\n",
        "    attn_heads = []\n",
        "    for layer in range(model.cfg.n_layers):\n",
        "        for head in range(model.cfg.n_heads):\n",
        "            attention_pattern = cache[\"pattern\", layer][head]\n",
        "            # take avg of sub-diagonal elements\n",
        "            score = attention_pattern.diagonal(-1).mean()\n",
        "            if score > 0.4:\n",
        "                attn_heads.append(f\"{layer}.{head}\")\n",
        "    return attn_heads\n",
        "\n",
        "\n",
        "def first_attn_detector(cache: ActivationCache) -> list[str]:\n",
        "    \"\"\"\n",
        "    Returns a list e.g. [\"0.2\", \"1.4\", \"1.9\"] of \"layer.head\" which you judge to be first-token heads\n",
        "    \"\"\"\n",
        "    attn_heads = []\n",
        "    for layer in range(model.cfg.n_layers):\n",
        "        for head in range(model.cfg.n_heads):\n",
        "            attention_pattern = cache[\"pattern\", layer][head]\n",
        "            # take avg of 0th elements\n",
        "            score = attention_pattern[:, 0].mean()\n",
        "            if score > 0.4:\n",
        "                attn_heads.append(f\"{layer}.{head}\")\n",
        "    return attn_heads\n",
        "```\n",
        "\n",
        "</details>"
      ]
    },
    {
      "cell_type": "markdown",
      "metadata": {
        "id": "cGItZ3BPXlij"
      },
      "source": [
        "Compare the printouts to your attention visualisations above. Do they seem to make sense? As a bonus exercise, try inputting different text, and see how stable your results are. Do certain heads always get classified the same way?"
      ]
    },
    {
      "cell_type": "markdown",
      "source": [
        "### Results of new text input\n",
        "- L1H8 appears to attend to multi-word names/titles, and attends to the first token when none present"
      ],
      "metadata": {
        "id": "ZRYea7MAhLQa"
      }
    },
    {
      "cell_type": "markdown",
      "metadata": {
        "id": "VwRP2MdIXlij"
      },
      "source": [
        "Now, it's time to turn our attention to induction heads.\n",
        "\n",
        "## What are induction heads?\n",
        "\n",
        "(Note: I use induction **head** to refer to the head in the second layer which attends to the 'token immediately after the copy of the current token', and induction **circuit** to refer to the circuit consisting of the composition of a **previous token head** in layer 0 and an **induction head** in layer 1)\n",
        "\n",
        "[Induction heads](https://transformer-circuits.pub/2021/framework/index.html#induction-heads) are the first sophisticated circuit we see in transformers! And are sufficiently interesting that we wrote [another paper just about them](https://transformer-circuits.pub/2022/in-context-learning-and-induction-heads/index.html).\n",
        "\n",
        "<details>\n",
        "<summary>An aside on why induction heads are a big deal</summary>\n",
        "\n",
        "There's a few particularly striking things about induction heads:\n",
        "\n",
        "* They develop fairly suddenly in a phase change - from about 2B to 4B tokens we go from no induction heads to pretty well developed ones. This is a striking divergence from a 1L model [see the comparison of in context learning performance curves curves for models with different layers](https://transformer-circuits.pub/2022/in-context-learning-and-induction-heads/index.html#:~:text=Our%20first%20observation) and can be observed in much larger models (eg a 13B one)\n",
        "    * Phase changes are particularly interesting (and depressing) from an alignment perspective, because the prospect of a sharp left turn, or emergent capabilities like deception or situational awareness seems like worlds where alignment may be harder, and we get caught by surprise without warning shots or simpler but analogous models to test our techniques on.\n",
        "* They are responsible for a significant loss decrease - so much so that there's a visible bump in the loss curve when they develop (this change in loss can be pretty comparable to the increase in loss from major increases in model size, though this is hard to make an apples-to-apples comparison)\n",
        "* They seem to be responsible for the vast majority of in-context learning - the ability to use far back tokens in the context to predict the next token. This is a significant way in which transformers outperform older architectures like RNNs or LSTMs, and induction heads seem to be a big part of this.\n",
        "* The same core circuit seems to be used in a bunch of more sophisticated settings, such as translation or few-shot learning - there are heads that seem clearly responsible for those *and* which double as induction heads.\n",
        "\n",
        "</details>\n",
        "\n",
        "Again, you are strongly recommended to read the [corresponding section of the glossary](https://dynalist.io/d/n2ZWtnoYHrU1s4vnFSAQ519J#z=_Jzi6YHRHKP1JziwdE02qdYZ), before continuing (or [this LessWrong post](https://www.lesswrong.com/posts/TvrfY4c9eaGLeyDkE/induction-heads-illustrated)). In brief, however, the induction circuit consists of a previous token head in layer 0 and an induction head in layer 1, where the induction head learns to attend to the token immediately *after* copies of the current token via K-Composition with the previous token head.\n",
        "\n",
        "##### Question - why couldn't an induction head form in a 1L model?\n",
        "\n",
        "<details>\n",
        "<summary>Answer</summary>\n",
        "\n",
        "Because this would require a head which attends a key position based on the *value of the token before it*. Attention scores are just a function of the key token and the query token, and are not a function of other tokens.\n",
        "\n",
        "(The attention pattern *does* in fact include effects from other tokens because of softmax - if another key token has a high attention score, softmax inhibits this pair. But this inhibition is symmetric across positions, so can't systematically favour the token *next* to the relevant one.)\n",
        "\n",
        "Note that a key detail is that the value of adjacent tokens are (approximately) unrelated - if the model wanted to attend based on relative *position* this is easy.\n",
        "</details>"
      ]
    },
    {
      "cell_type": "markdown",
      "metadata": {
        "id": "wy6Bw0juXlij"
      },
      "source": [
        "## Checking for the induction capability\n",
        "\n",
        "A striking thing about models with induction heads is that, given a repeated sequence of random tokens, they can predict the repeated half of the sequence. This is nothing like it's training data, so this is kind of wild! The ability to predict this kind of out of distribution generalisation is a strong point of evidence that you've really understood a circuit.\n",
        "\n",
        "To check that this model has induction heads, we're going to run it on exactly that, and compare performance on the two halves - you should see a striking difference in the per token losses.\n",
        "\n",
        "Note - we're using small sequences (and just one sequence), since the results are very obvious and this makes it easier to visualise. In practice we'd obviously use larger ones on more subtle tasks. But it's often easiest to iterate and debug on small tasks."
      ]
    },
    {
      "cell_type": "markdown",
      "metadata": {
        "id": "-18NT5z_Xlij"
      },
      "source": [
        "### Exercise - plot per-token loss on repeated sequence\n",
        "\n",
        "> ```yaml\n",
        "> Difficulty: 🔴🔴⚪⚪⚪\n",
        "> Importance: 🔵🔵⚪⚪⚪\n",
        ">\n",
        "> You shouldn't spend more than 10-15 minutes on these exercises.\n",
        "> ```\n",
        "\n",
        "You should fill in the functions below. We've given you the first line of the first function, which defines a prefix (remember we need the BOS token for GPT-2, since it was trained to have one). We've also given you the `get_log_probs` function from the previous set of exercises."
      ]
    },
    {
      "cell_type": "code",
      "execution_count": null,
      "metadata": {
        "id": "dP8MOyy-Xlik"
      },
      "outputs": [],
      "source": [
        "def generate_repeated_tokens(\n",
        "    model: HookedTransformer, seq_len: int, batch_size: int = 1\n",
        ") -> Int[Tensor, \"batch_size full_seq_len\"]:\n",
        "    \"\"\"\n",
        "    Generates a sequence of repeated random tokens\n",
        "\n",
        "    Outputs are:\n",
        "        rep_tokens: [batch_size, 1+2*seq_len]\n",
        "    \"\"\"\n",
        "    t.manual_seed(0)  # for reproducibility\n",
        "    prefix = (t.ones(batch_size, 1) * model.tokenizer.bos_token_id).long()\n",
        "    rep_tokens_half = t.randint(1, 10, (batch_size, seq_len))\n",
        "    return t.concat([prefix, rep_tokens_half, rep_tokens_half], axis=1)\n",
        "\n",
        "\n",
        "def run_and_cache_model_repeated_tokens(\n",
        "    model: HookedTransformer, seq_len: int, batch_size: int = 1\n",
        ") -> tuple[Tensor, Tensor, ActivationCache]:\n",
        "    \"\"\"\n",
        "    Generates a sequence of repeated random tokens, and runs the model on it, returning (tokens,\n",
        "    logits, cache). This function should use the `generate_repeated_tokens` function above.\n",
        "\n",
        "    Outputs are:\n",
        "        rep_tokens: [batch_size, 1+2*seq_len]\n",
        "        rep_logits: [batch_size, 1+2*seq_len, d_vocab]\n",
        "        rep_cache: The cache of the model run on rep_tokens\n",
        "    \"\"\"\n",
        "    model = HookedTransformer(cfg)\n",
        "    pretrained_weights = t.load(weights_path, map_location=device, weights_only=True)\n",
        "    model.load_state_dict(pretrained_weights)\n",
        "\n",
        "    token_sequence = generate_repeated_tokens(model, seq_len, batch_size)\n",
        "    rep_logits, rep_cache = model.run_with_cache(token_sequence, remove_batch_dim = True)\n",
        "\n",
        "    return token_sequence, rep_logits, rep_cache\n",
        "\n",
        "\n",
        "def get_log_probs(\n",
        "    logits: Float[Tensor, \"batch posn d_vocab\"], tokens: Int[Tensor, \"batch posn\"]\n",
        ") -> Float[Tensor, \"batch posn-1\"]:\n",
        "    logprobs = logits.log_softmax(dim=-1)\n",
        "    # We want to get logprobs[b, s, tokens[b, s+1]], in eindex syntax this looks like:\n",
        "    correct_logprobs = eindex(logprobs, tokens, \"b s [b s+1]\")\n",
        "    return correct_logprobs\n",
        "\n",
        "\n",
        "seq_len = 50\n",
        "batch_size = 1\n",
        "(rep_tokens, rep_logits, rep_cache) = run_and_cache_model_repeated_tokens(\n",
        "    model, seq_len, batch_size\n",
        ")\n",
        "rep_cache.remove_batch_dim()\n",
        "rep_str = model.to_str_tokens(rep_tokens)\n",
        "model.reset_hooks()\n",
        "log_probs = get_log_probs(rep_logits, rep_tokens).squeeze()\n",
        "\n",
        "print(f\"Performance on the first half: {log_probs[:seq_len].mean():.3f}\")\n",
        "print(f\"Performance on the second half: {log_probs[seq_len:].mean():.3f}\")\n",
        "\n",
        "plot_loss_difference(log_probs, rep_str, seq_len)"
      ]
    },
    {
      "cell_type": "markdown",
      "metadata": {
        "id": "-xam6BjfXlik"
      },
      "source": [
        "<details>\n",
        "<summary>Hint</summary>\n",
        "\n",
        "You can define the first half of the repeated tokens using `t.randint(low, high, shape)`. Also remember to specify `dtype=t.long`.\n",
        "\n",
        "Then you can concatenate together your prefix and two copies of the repeated tokens, using `t.concat`.\n",
        "</details>\n",
        "\n",
        "\n",
        "<details><summary>Solution</summary>\n",
        "\n",
        "```python\n",
        "def generate_repeated_tokens(\n",
        "    model: HookedTransformer, seq_len: int, batch_size: int = 1\n",
        ") -> Int[Tensor, \"batch_size full_seq_len\"]:\n",
        "    \"\"\"\n",
        "    Generates a sequence of repeated random tokens\n",
        "\n",
        "    Outputs are:\n",
        "        rep_tokens: [batch_size, 1+2*seq_len]\n",
        "    \"\"\"\n",
        "    t.manual_seed(0)  # for reproducibility\n",
        "    prefix = (t.ones(batch_size, 1) * model.tokenizer.bos_token_id).long()\n",
        "    rep_tokens_half = t.randint(0, model.cfg.d_vocab, (batch_size, seq_len), dtype=t.int64)\n",
        "    rep_tokens = t.cat([prefix, rep_tokens_half, rep_tokens_half], dim=-1).to(device)\n",
        "    return rep_tokens\n",
        "\n",
        "\n",
        "def run_and_cache_model_repeated_tokens(\n",
        "    model: HookedTransformer, seq_len: int, batch_size: int = 1\n",
        ") -> tuple[Tensor, Tensor, ActivationCache]:\n",
        "    \"\"\"\n",
        "    Generates a sequence of repeated random tokens, and runs the model on it, returning (tokens,\n",
        "    logits, cache). This function should use the `generate_repeated_tokens` function above.\n",
        "\n",
        "    Outputs are:\n",
        "        rep_tokens: [batch_size, 1+2*seq_len]\n",
        "        rep_logits: [batch_size, 1+2*seq_len, d_vocab]\n",
        "        rep_cache: The cache of the model run on rep_tokens\n",
        "    \"\"\"\n",
        "    rep_tokens = generate_repeated_tokens(model, seq_len, batch_size)\n",
        "    rep_logits, rep_cache = model.run_with_cache(rep_tokens)\n",
        "    return rep_tokens, rep_logits, rep_cache\n",
        "```\n",
        "</details>"
      ]
    },
    {
      "cell_type": "markdown",
      "metadata": {
        "id": "eaNHt4xmXlik"
      },
      "source": [
        "### Looking for Induction Attention Patterns\n",
        "\n",
        "The next natural thing to check for is the induction attention pattern.\n",
        "\n",
        "First, go back to the attention patterns visualisation code from earlier (i.e. `cv.attention.attention_heads` or `attention_patterns`) and manually check for likely heads in the second layer. Which ones do you think might be serving as induction heads?\n",
        "\n",
        "Note - above, we defined the `rep_str` object for you, so you can use it in your `circuitsvis` functions."
      ]
    },
    {
      "cell_type": "code",
      "execution_count": 21,
      "metadata": {
        "id": "FnQT3XGqXlio",
        "colab": {
          "base_uri": "https://localhost:8080/",
          "height": 49
        },
        "outputId": "3c31acbc-fafb-4a0f-b613-d24178ac4302"
      },
      "outputs": [
        {
          "output_type": "stream",
          "name": "stdout",
          "text": [
            "2\n"
          ]
        },
        {
          "output_type": "display_data",
          "data": {
            "text/plain": [
              "<circuitsvis.utils.render.RenderedHTML at 0x7acaf472f750>"
            ],
            "text/html": [
              "<div id=\"circuits-vis-27598288-4d45\" style=\"margin: 15px 0;\"/>\n",
              "    <script crossorigin type=\"module\">\n",
              "    import { render, AttentionPatterns } from \"https://unpkg.com/circuitsvis@1.41.0/dist/cdn/esm.js\";\n",
              "    render(\n",
              "      \"circuits-vis-27598288-4d45\",\n",
              "      AttentionPatterns,\n",
              "      {\"tokens\": [\"<|endoftext|>\", \"(\", \"<|padding|>\", \"\\\"\", \"&\", \"'\", \"&\", \"'\", \"!\", \"!\", \"<|padding|>\", \"(\", \"\\\"\", \"&\", \"#\", \"!\", \"\\\"\", \"<|padding|>\", \"<|padding|>\", \"%\", \"#\", \"(\", \"\\\"\", \"(\", \"\\\"\", \"(\", \"%\", \"'\", \"(\", \"&\", \"<|padding|>\", \"!\", \"<|padding|>\", \"(\", \"&\", \"!\", \"&\", \"!\", \"(\", \"(\", \"'\", \"\\\"\", \"#\", \"'\", \"'\", \"!\", \"%\", \"$\", \"'\", \"%\", \"'\", \"(\", \"<|padding|>\", \"\\\"\", \"&\", \"'\", \"&\", \"'\", \"!\", \"!\", \"<|padding|>\", \"(\", \"\\\"\", \"&\", \"#\", \"!\", \"\\\"\", \"<|padding|>\", \"<|padding|>\", \"%\", \"#\", \"(\", \"\\\"\", \"(\", \"\\\"\", \"(\", \"%\", \"'\", \"(\", \"&\", \"<|padding|>\", \"!\", \"<|padding|>\", \"(\", \"&\", \"!\", \"&\", \"!\", \"(\", \"(\", \"'\", \"\\\"\", \"#\", \"'\", \"'\", \"!\", \"%\", \"$\", \"'\", \"%\", \"'\"], \"attention\": [[[1.0, 0.0, 0.0, 0.0, 0.0, 0.0, 0.0, 0.0, 0.0, 0.0, 0.0, 0.0, 0.0, 0.0, 0.0, 0.0, 0.0, 0.0, 0.0, 0.0, 0.0, 0.0, 0.0, 0.0, 0.0, 0.0, 0.0, 0.0, 0.0, 0.0, 0.0, 0.0], [0.9117152094841003, 0.08828476071357727, 0.0, 0.0, 0.0, 0.0, 0.0, 0.0, 0.0, 0.0, 0.0, 0.0, 0.0, 0.0, 0.0, 0.0, 0.0, 0.0, 0.0, 0.0, 0.0, 0.0, 0.0, 0.0, 0.0, 0.0, 0.0, 0.0, 0.0, 0.0, 0.0, 0.0], [0.7586268186569214, 0.1905536651611328, 0.05081949755549431, 0.0, 0.0, 0.0, 0.0, 0.0, 0.0, 0.0, 0.0, 0.0, 0.0, 0.0, 0.0, 0.0, 0.0, 0.0, 0.0, 0.0, 0.0, 0.0, 0.0, 0.0, 0.0, 0.0, 0.0, 0.0, 0.0, 0.0, 0.0, 0.0], [0.45267724990844727, 0.023567117750644684, 0.5118808150291443, 0.011874760501086712, 0.0, 0.0, 0.0, 0.0, 0.0, 0.0, 0.0, 0.0, 0.0, 0.0, 0.0, 0.0, 0.0, 0.0, 0.0, 0.0, 0.0, 0.0, 0.0, 0.0, 0.0, 0.0, 0.0, 0.0, 0.0, 0.0, 0.0, 0.0], [0.7285256385803223, 0.1258760690689087, 0.03791873902082443, 0.06425866484642029, 0.043420929461717606, 0.0, 0.0, 0.0, 0.0, 0.0, 0.0, 0.0, 0.0, 0.0, 0.0, 0.0, 0.0, 0.0, 0.0, 0.0, 0.0, 0.0, 0.0, 0.0, 0.0, 0.0, 0.0, 0.0, 0.0, 0.0, 0.0, 0.0], [0.23100115358829498, 0.2074001133441925, 0.18061144649982452, 0.025847164914011955, 0.3496806025505066, 0.005459529813379049, 0.0, 0.0, 0.0, 0.0, 0.0, 0.0, 0.0, 0.0, 0.0, 0.0, 0.0, 0.0, 0.0, 0.0, 0.0, 0.0, 0.0, 0.0, 0.0, 0.0, 0.0, 0.0, 0.0, 0.0, 0.0, 0.0], [0.5995336771011353, 0.035008370876312256, 0.044055208563804626, 0.04558872804045677, 0.07754390686750412, 0.11948628723621368, 0.0787837877869606, 0.0, 0.0, 0.0, 0.0, 0.0, 0.0, 0.0, 0.0, 0.0, 0.0, 0.0, 0.0, 0.0, 0.0, 0.0, 0.0, 0.0, 0.0, 0.0, 0.0, 0.0, 0.0, 0.0, 0.0, 0.0], [0.45623457431793213, 0.0695684626698494, 0.03143443539738655, 0.029351534321904182, 0.04350438714027405, 0.0833643227815628, 0.14937274158000946, 0.13716955482959747, 0.0, 0.0, 0.0, 0.0, 0.0, 0.0, 0.0, 0.0, 0.0, 0.0, 0.0, 0.0, 0.0, 0.0, 0.0, 0.0, 0.0, 0.0, 0.0, 0.0, 0.0, 0.0, 0.0, 0.0], [0.5736038684844971, 0.03352555260062218, 0.0143050542101264, 0.04590102285146713, 0.0220181941986084, 0.09280768036842346, 0.04939686506986618, 0.10171323269605637, 0.06672842055559158, 0.0, 0.0, 0.0, 0.0, 0.0, 0.0, 0.0, 0.0, 0.0, 0.0, 0.0, 0.0, 0.0, 0.0, 0.0, 0.0, 0.0, 0.0, 0.0, 0.0, 0.0, 0.0, 0.0], [0.3726758062839508, 0.033488865941762924, 0.0384964793920517, 0.022523600608110428, 0.047947995364665985, 0.04386075213551521, 0.17725969851016998, 0.06309272348880768, 0.12463703751564026, 0.07601701468229294, 0.0, 0.0, 0.0, 0.0, 0.0, 0.0, 0.0, 0.0, 0.0, 0.0, 0.0, 0.0, 0.0, 0.0, 0.0, 0.0, 0.0, 0.0, 0.0, 0.0, 0.0, 0.0], [0.5763247013092041, 0.012373082339763641, 0.013835313729941845, 0.02466569095849991, 0.02709324099123478, 0.03668307140469551, 0.11631463468074799, 0.04163091629743576, 0.05044350400567055, 0.02520214393734932, 0.07543368637561798, 0.0, 0.0, 0.0, 0.0, 0.0, 0.0, 0.0, 0.0, 0.0, 0.0, 0.0, 0.0, 0.0, 0.0, 0.0, 0.0, 0.0, 0.0, 0.0, 0.0, 0.0], [0.33303120732307434, 0.04929734393954277, 0.019584551453590393, 0.1876918226480484, 0.013775195926427841, 0.20436473190784454, 0.03102119080722332, 0.012706920504570007, 0.017610663548111916, 0.013503053225576878, 0.04859965667128563, 0.06881367415189743, 0.0, 0.0, 0.0, 0.0, 0.0, 0.0, 0.0, 0.0, 0.0, 0.0, 0.0, 0.0, 0.0, 0.0, 0.0, 0.0, 0.0, 0.0, 0.0, 0.0], [0.39635881781578064, 0.05455336719751358, 0.037378981709480286, 0.05125347152352333, 0.03155205771327019, 0.047708701342344284, 0.08573467284440994, 0.0240926593542099, 0.03386427089571953, 0.04168940708041191, 0.07806989550590515, 0.07713931798934937, 0.04060438647866249, 0.0, 0.0, 0.0, 0.0, 0.0, 0.0, 0.0, 0.0, 0.0, 0.0, 0.0, 0.0, 0.0, 0.0, 0.0, 0.0, 0.0, 0.0, 0.0], [0.3960440754890442, 0.01606304571032524, 0.014684737659990788, 0.022615570574998856, 0.03957265615463257, 0.04209719970822334, 0.10061956942081451, 0.01924476958811283, 0.03374633565545082, 0.03402509540319443, 0.0670156478881836, 0.06025397777557373, 0.053125541657209396, 0.10089179873466492, 0.0, 0.0, 0.0, 0.0, 0.0, 0.0, 0.0, 0.0, 0.0, 0.0, 0.0, 0.0, 0.0, 0.0, 0.0, 0.0, 0.0, 0.0], [0.3132552206516266, 0.03747041895985603, 0.025982094928622246, 0.03979840874671936, 0.027239078655838966, 0.04974302649497986, 0.021983839571475983, 0.017455151304602623, 0.029073184356093407, 0.03649269416928291, 0.04566139727830887, 0.06785812228918076, 0.06148785352706909, 0.14522722363471985, 0.0812721773982048, 0.0, 0.0, 0.0, 0.0, 0.0, 0.0, 0.0, 0.0, 0.0, 0.0, 0.0, 0.0, 0.0, 0.0, 0.0, 0.0, 0.0], [0.2064235508441925, 0.02127285860478878, 0.004047733265906572, 0.036836039274930954, 0.016050584614276886, 0.03218790888786316, 0.02020532265305519, 0.006327551789581776, 0.01543485652655363, 0.017792437225580215, 0.02892998233437538, 0.034878816455602646, 0.04064600542187691, 0.07039012014865875, 0.24768972396850586, 0.20088647305965424, 0.0, 0.0, 0.0, 0.0, 0.0, 0.0, 0.0, 0.0, 0.0, 0.0, 0.0, 0.0, 0.0, 0.0, 0.0, 0.0], [0.1521407514810562, 0.009191935881972313, 0.00451375637203455, 0.03166692331433296, 0.0024456409737467766, 0.027421647682785988, 0.02151908539235592, 0.013300644233822823, 0.0047109234146773815, 0.006210003513842821, 0.006869410630315542, 0.10991319268941879, 0.008775056339800358, 0.020539863035082817, 0.23338761925697327, 0.20802117884159088, 0.1393723487854004, 0.0, 0.0, 0.0, 0.0, 0.0, 0.0, 0.0, 0.0, 0.0, 0.0, 0.0, 0.0, 0.0, 0.0, 0.0], [0.08647947758436203, 0.007992406375706196, 0.00290758372284472, 0.04150882735848427, 0.0015596322482451797, 0.028566930443048477, 0.008329266682267189, 0.0030507997144013643, 0.0021661240607500076, 0.0015149378450587392, 0.005371863953769207, 0.03523842990398407, 0.006290145218372345, 0.02998608909547329, 0.2231789529323578, 0.2663877606391907, 0.20146584510803223, 0.04800499975681305, 0.0, 0.0, 0.0, 0.0, 0.0, 0.0, 0.0, 0.0, 0.0, 0.0, 0.0, 0.0, 0.0, 0.0], [0.26295408606529236, 0.009550847113132477, 0.007052394561469555, 0.016359882429242134, 0.006230765487998724, 0.020883619785308838, 0.01598462462425232, 0.004678801633417606, 0.005549748428165913, 0.003985472954809666, 0.010810015723109245, 0.025182262063026428, 0.0219633337110281, 0.062266815453767776, 0.14940166473388672, 0.12864583730697632, 0.14171597361564636, 0.08605802804231644, 0.020725827664136887, 0.0, 0.0, 0.0, 0.0, 0.0, 0.0, 0.0, 0.0, 0.0, 0.0, 0.0, 0.0, 0.0], [0.18884626030921936, 0.01778620295226574, 0.018755363300442696, 0.022665591910481453, 0.0051221284084022045, 0.02263794094324112, 0.01523207314312458, 0.006826369091868401, 0.0036950979847460985, 0.0060874889604747295, 0.01022673025727272, 0.05636359751224518, 0.009769084863364697, 0.04994485527276993, 0.17304949462413788, 0.06328552961349487, 0.10413268953561783, 0.09260348975658417, 0.04986989498138428, 0.08310019969940186, 0.0, 0.0, 0.0, 0.0, 0.0, 0.0, 0.0, 0.0, 0.0, 0.0, 0.0, 0.0], [0.3821450471878052, 0.007263459265232086, 0.008141898550093174, 0.005458580330014229, 0.01251258235424757, 0.007048571482300758, 0.038214411586523056, 0.005482861772179604, 0.016971487551927567, 0.013889067806303501, 0.021215150132775307, 0.011355586349964142, 0.0161012951284647, 0.030202742666006088, 0.02050241082906723, 0.022151190787553787, 0.016941944137215614, 0.05305211618542671, 0.051383353769779205, 0.07974983751773834, 0.18021643161773682, 0.0, 0.0, 0.0, 0.0, 0.0, 0.0, 0.0, 0.0, 0.0, 0.0, 0.0], [0.11538951098918915, 0.009847152046859264, 0.0285054761916399, 0.004711788147687912, 0.017698777839541435, 0.004212573170661926, 0.042653750628232956, 0.005836231634020805, 0.02237742766737938, 0.03170522674918175, 0.022136010229587555, 0.028148185461759567, 0.011667405255138874, 0.018244687467813492, 0.0036953913513571024, 0.007935874164104462, 0.0039362832903862, 0.06041686609387398, 0.17036834359169006, 0.007349303923547268, 0.3583071529865265, 0.024856658652424812, 0.0, 0.0, 0.0, 0.0, 0.0, 0.0, 0.0, 0.0, 0.0, 0.0], [0.1667620986700058, 0.011956746689975262, 0.0072381277568638325, 0.00710815517231822, 0.006835826672613621, 0.020945554599165916, 0.020680319517850876, 0.008763407357037067, 0.0050954571925103664, 0.009511499665677547, 0.009627170860767365, 0.025562860071659088, 0.007351109758019447, 0.03367334231734276, 0.056767579168081284, 0.029119348153471947, 0.027588581666350365, 0.030916551128029823, 0.032258935272693634, 0.023705558851361275, 0.04008862376213074, 0.3604695200920105, 0.057973623275756836, 0.0, 0.0, 0.0, 0.0, 0.0, 0.0, 0.0, 0.0, 0.0], [0.19683189690113068, 0.013054921291768551, 0.004685026593506336, 0.004092346876859665, 0.005925179459154606, 0.009242162108421326, 0.021355733275413513, 0.020118912681937218, 0.016186565160751343, 0.01431610994040966, 0.014122805558145046, 0.008667473681271076, 0.00631385063752532, 0.01799968257546425, 0.015962477773427963, 0.014924095943570137, 0.023167794570326805, 0.020109418779611588, 0.035400763154029846, 0.051763132214546204, 0.07779237627983093, 0.1433400809764862, 0.09384769201278687, 0.17077942192554474, 0.0, 0.0, 0.0, 0.0, 0.0, 0.0, 0.0, 0.0], [0.22817133367061615, 0.006316893734037876, 0.002052297815680504, 0.005956034641712904, 0.002763054333627224, 0.00974820926785469, 0.005994979292154312, 0.010998035781085491, 0.007694498635828495, 0.005550861824303865, 0.0059615750797092915, 0.006807385012507439, 0.0041843680664896965, 0.009680921211838722, 0.018170848488807678, 0.025742845609784126, 0.02350238338112831, 0.026575136929750443, 0.01199363637715578, 0.03714315965771675, 0.051968809217214584, 0.2095315009355545, 0.08959832787513733, 0.12464885413646698, 0.06924407929182053, 0.0, 0.0, 0.0, 0.0, 0.0, 0.0, 0.0], [0.16245056688785553, 0.008225832134485245, 0.00800826121121645, 0.0035220542922616005, 0.006758891511708498, 0.005408974830061197, 0.02408694475889206, 0.00686323968693614, 0.014616270549595356, 0.009074418805539608, 0.01825372315943241, 0.013051234185695648, 0.0097566032782197, 0.017683563753962517, 0.011921604163944721, 0.016976382583379745, 0.01830584742128849, 0.030081642791628838, 0.02354257181286812, 0.05183904990553856, 0.10960280895233154, 0.04024459049105644, 0.11865522712469101, 0.06811093538999557, 0.13178375363349915, 0.0711749717593193, 0.0, 0.0, 0.0, 0.0, 0.0, 0.0], [0.3143717050552368, 0.0038683407474309206, 0.004180500283837318, 0.006088447757065296, 0.0046793133951723576, 0.00579321663826704, 0.01897440478205681, 0.0063516427762806416, 0.0065978579223155975, 0.0033307834528386593, 0.009421891532838345, 0.0184364914894104, 0.009617135860025883, 0.01842770352959633, 0.022839967161417007, 0.02685130015015602, 0.03104698285460472, 0.030842822045087814, 0.0072387452237308025, 0.02618567645549774, 0.040694478899240494, 0.04658966511487961, 0.09942805767059326, 0.05764611437916756, 0.06071577966213226, 0.03218124061822891, 0.0875997245311737, 0.0, 0.0, 0.0, 0.0, 0.0], [0.129628986120224, 0.003155304351821542, 0.0017621740698814392, 0.0062097301706671715, 0.0012918851571157575, 0.007691422943025827, 0.002515853615477681, 0.0009459469583816826, 0.0016141697997227311, 0.0013885530643165112, 0.0035555162467062473, 0.007326004095375538, 0.0033670016564428806, 0.009698966518044472, 0.04833360016345978, 0.02456188015639782, 0.007299517281353474, 0.016515469178557396, 0.006542158778756857, 0.05886197090148926, 0.02068481408059597, 0.14158980548381805, 0.3442104458808899, 0.011416814289987087, 0.02013029344379902, 0.016752734780311584, 0.045006606727838516, 0.05794232711195946, 0.0, 0.0, 0.0, 0.0], [0.08479909598827362, 0.0027470269706100225, 0.0013074491871520877, 0.016774095594882965, 0.0005312561406753957, 0.010553996078670025, 0.003415686311200261, 0.0011573663214221597, 0.0009040850563906133, 0.0005657727597281337, 0.0021814533974975348, 0.014077612198889256, 0.002214534441009164, 0.00953907985240221, 0.05926890671253204, 0.07381531596183777, 0.0515415221452713, 0.012797548435628414, 0.001845755148679018, 0.030462907627224922, 0.011296134442090988, 0.12501707673072815, 0.18954838812351227, 0.013769221492111683, 0.011062328703701496, 0.006798976566642523, 0.02594079077243805, 0.16866421699523926, 0.06740237027406693, 0.0, 0.0, 0.0], [0.22115035355091095, 0.002569909207522869, 0.0028749192133545876, 0.006170767825096846, 0.002147180028259754, 0.006414362229406834, 0.006533424369990826, 0.001826061517931521, 0.0023294908460229635, 0.0014386603143066168, 0.004782937467098236, 0.009851167909801006, 0.008297272026538849, 0.01926220953464508, 0.03542301803827286, 0.030950678512454033, 0.032556433230638504, 0.01977306418120861, 0.004902954678982496, 0.031807150691747665, 0.020171383395791054, 0.06528151780366898, 0.13113850355148315, 0.013459442183375359, 0.01829623617231846, 0.012876300141215324, 0.04592379555106163, 0.10527210682630539, 0.11167185753583908, 0.024846788495779037, 0.0, 0.0], [0.16295520961284637, 0.005411829799413681, 0.00789391715079546, 0.009733297862112522, 0.0019816795829683542, 0.00813197810202837, 0.0072249616496264935, 0.003324644174426794, 0.0018915630644187331, 0.002658647717908025, 0.005180809646844864, 0.027013305574655533, 0.004487514030188322, 0.02039242349565029, 0.049776796251535416, 0.01713036745786667, 0.024137448519468307, 0.02138783596456051, 0.012119420804083347, 0.022768082097172737, 0.01829981431365013, 0.03834041208028793, 0.04459976404905319, 0.019401106983423233, 0.011152408085763454, 0.017476681619882584, 0.03400541469454765, 0.07207120954990387, 0.12387288361787796, 0.07477671653032303, 0.1304018497467041, 0.0], [0.2714168429374695, 0.0021293594036251307, 0.0027286894619464874, 0.002303638495504856, 0.004548350814729929, 0.002292461460456252, 0.015181021764874458, 0.002216444117948413, 0.007100843824446201, 0.004882684908807278, 0.008458701893687248, 0.004409334156662226, 0.006247938610613346, 0.010117610916495323, 0.0055592735297977924, 0.005655156448483467, 0.0034994720481336117, 0.009812237694859505, 0.00947941467165947, 0.01581885851919651, 0.03948167338967323, 0.020641284063458443, 0.0499897301197052, 0.009394404478371143, 0.0352977029979229, 0.02800796553492546, 0.05325460433959961, 0.019650854170322418, 0.04765765368938446, 0.05563291534781456, 0.0817481055855751, 0.16538473963737488]], [[1.0, 0.0, 0.0, 0.0, 0.0, 0.0, 0.0, 0.0, 0.0, 0.0, 0.0, 0.0, 0.0, 0.0, 0.0, 0.0, 0.0, 0.0, 0.0, 0.0, 0.0, 0.0, 0.0, 0.0, 0.0, 0.0, 0.0, 0.0, 0.0, 0.0, 0.0, 0.0], [0.9507849216461182, 0.049215108156204224, 0.0, 0.0, 0.0, 0.0, 0.0, 0.0, 0.0, 0.0, 0.0, 0.0, 0.0, 0.0, 0.0, 0.0, 0.0, 0.0, 0.0, 0.0, 0.0, 0.0, 0.0, 0.0, 0.0, 0.0, 0.0, 0.0, 0.0, 0.0, 0.0, 0.0], [0.8253860473632812, 0.11625619977712631, 0.05835777521133423, 0.0, 0.0, 0.0, 0.0, 0.0, 0.0, 0.0, 0.0, 0.0, 0.0, 0.0, 0.0, 0.0, 0.0, 0.0, 0.0, 0.0, 0.0, 0.0, 0.0, 0.0, 0.0, 0.0, 0.0, 0.0, 0.0, 0.0, 0.0, 0.0], [0.7130884528160095, 0.14353100955486298, 0.07766082137823105, 0.06571970134973526, 0.0, 0.0, 0.0, 0.0, 0.0, 0.0, 0.0, 0.0, 0.0, 0.0, 0.0, 0.0, 0.0, 0.0, 0.0, 0.0, 0.0, 0.0, 0.0, 0.0, 0.0, 0.0, 0.0, 0.0, 0.0, 0.0, 0.0, 0.0], [0.737333357334137, 0.09197784215211868, 0.06147483363747597, 0.045911431312561035, 0.06330249458551407, 0.0, 0.0, 0.0, 0.0, 0.0, 0.0, 0.0, 0.0, 0.0, 0.0, 0.0, 0.0, 0.0, 0.0, 0.0, 0.0, 0.0, 0.0, 0.0, 0.0, 0.0, 0.0, 0.0, 0.0, 0.0, 0.0, 0.0], [0.6348984837532043, 0.026265019550919533, 0.07419199496507645, 0.10832606256008148, 0.025537658482789993, 0.13078074157238007, 0.0, 0.0, 0.0, 0.0, 0.0, 0.0, 0.0, 0.0, 0.0, 0.0, 0.0, 0.0, 0.0, 0.0, 0.0, 0.0, 0.0, 0.0, 0.0, 0.0, 0.0, 0.0, 0.0, 0.0, 0.0, 0.0], [0.4449959099292755, 0.12301792949438095, 0.10024837404489517, 0.08696188032627106, 0.11523082852363586, 0.05067899450659752, 0.07886611670255661, 0.0, 0.0, 0.0, 0.0, 0.0, 0.0, 0.0, 0.0, 0.0, 0.0, 0.0, 0.0, 0.0, 0.0, 0.0, 0.0, 0.0, 0.0, 0.0, 0.0, 0.0, 0.0, 0.0, 0.0, 0.0], [0.6408795118331909, 0.05841834470629692, 0.023839974775910378, 0.021753747016191483, 0.05597669631242752, 0.03971226513385773, 0.052937835454940796, 0.10648158192634583, 0.0, 0.0, 0.0, 0.0, 0.0, 0.0, 0.0, 0.0, 0.0, 0.0, 0.0, 0.0, 0.0, 0.0, 0.0, 0.0, 0.0, 0.0, 0.0, 0.0, 0.0, 0.0, 0.0, 0.0], [0.6170545220375061, 0.04275854676961899, 0.023711415007710457, 0.014379067346453667, 0.027737360447645187, 0.03535904735326767, 0.053965773433446884, 0.14108900725841522, 0.043945323675870895, 0.0, 0.0, 0.0, 0.0, 0.0, 0.0, 0.0, 0.0, 0.0, 0.0, 0.0, 0.0, 0.0, 0.0, 0.0, 0.0, 0.0, 0.0, 0.0, 0.0, 0.0, 0.0, 0.0], [0.5905019640922546, 0.07982823252677917, 0.05129677429795265, 0.045745112001895905, 0.031458478420972824, 0.05054408311843872, 0.06739452481269836, 0.027319926768541336, 0.011440499685704708, 0.04447035491466522, 0.0, 0.0, 0.0, 0.0, 0.0, 0.0, 0.0, 0.0, 0.0, 0.0, 0.0, 0.0, 0.0, 0.0, 0.0, 0.0, 0.0, 0.0, 0.0, 0.0, 0.0, 0.0], [0.5453324913978577, 0.06999116390943527, 0.030395543202757835, 0.026853585615754128, 0.03812367841601372, 0.044086962938308716, 0.05959631875157356, 0.027538679540157318, 0.01696840301156044, 0.07225576788187027, 0.06885731220245361, 0.0, 0.0, 0.0, 0.0, 0.0, 0.0, 0.0, 0.0, 0.0, 0.0, 0.0, 0.0, 0.0, 0.0, 0.0, 0.0, 0.0, 0.0, 0.0, 0.0, 0.0], [0.4641228914260864, 0.0818147361278534, 0.11783861368894577, 0.09422262012958527, 0.0367969386279583, 0.02051062323153019, 0.06593669950962067, 0.014622872695326805, 0.008178465999662876, 0.019398964941501617, 0.03409735858440399, 0.04245929792523384, 0.0, 0.0, 0.0, 0.0, 0.0, 0.0, 0.0, 0.0, 0.0, 0.0, 0.0, 0.0, 0.0, 0.0, 0.0, 0.0, 0.0, 0.0, 0.0, 0.0], [0.49445033073425293, 0.04163883626461029, 0.01786044053733349, 0.018661435693502426, 0.03984874486923218, 0.010016907006502151, 0.07093881070613861, 0.02656071074306965, 0.013786166906356812, 0.09657970815896988, 0.05938342958688736, 0.06595252454280853, 0.044321946799755096, 0.0, 0.0, 0.0, 0.0, 0.0, 0.0, 0.0, 0.0, 0.0, 0.0, 0.0, 0.0, 0.0, 0.0, 0.0, 0.0, 0.0, 0.0, 0.0], [0.49404165148735046, 0.05625984072685242, 0.030945993959903717, 0.028298262506723404, 0.02682889625430107, 0.01690765842795372, 0.03656741604208946, 0.020330658182501793, 0.012362843379378319, 0.04471079632639885, 0.03759594261646271, 0.08526811748743057, 0.016694748774170876, 0.09318717569112778, 0.0, 0.0, 0.0, 0.0, 0.0, 0.0, 0.0, 0.0, 0.0, 0.0, 0.0, 0.0, 0.0, 0.0, 0.0, 0.0, 0.0, 0.0], [0.4957519471645355, 0.028285373002290726, 0.0232794638723135, 0.027461005374789238, 0.020901275798678398, 0.016528217121958733, 0.025175781920552254, 0.031220929697155952, 0.024975981563329697, 0.041768938302993774, 0.05609874799847603, 0.03599485382437706, 0.02953140251338482, 0.06159420683979988, 0.08143188804388046, 0.0, 0.0, 0.0, 0.0, 0.0, 0.0, 0.0, 0.0, 0.0, 0.0, 0.0, 0.0, 0.0, 0.0, 0.0, 0.0, 0.0], [0.3058794140815735, 0.04599500447511673, 0.04336543008685112, 0.05721202492713928, 0.019570745527744293, 0.00991071853786707, 0.032939404249191284, 0.014868092723190784, 0.006430554669350386, 0.015735091641545296, 0.02985958941280842, 0.05618490278720856, 0.01886734925210476, 0.16755662858486176, 0.08005943894386292, 0.09556562453508377, 0.0, 0.0, 0.0, 0.0, 0.0, 0.0, 0.0, 0.0, 0.0, 0.0, 0.0, 0.0, 0.0, 0.0, 0.0, 0.0], [0.4614526927471161, 0.01053385529667139, 0.016515864059329033, 0.011949338018894196, 0.01703236810863018, 0.009341205470263958, 0.02476862445473671, 0.018259789794683456, 0.010727694258093834, 0.03323809430003166, 0.05681047588586807, 0.034678563475608826, 0.015813764184713364, 0.10864780098199844, 0.05827594920992851, 0.06426913291215897, 0.04768475890159607, 0.0, 0.0, 0.0, 0.0, 0.0, 0.0, 0.0, 0.0, 0.0, 0.0, 0.0, 0.0, 0.0, 0.0, 0.0], [0.1403326839208603, 0.009064694866538048, 0.03438728302717209, 0.012739527970552444, 0.01847376674413681, 0.003107160795480013, 0.01325463317334652, 0.013784438371658325, 0.003109731012955308, 0.009245428256690502, 0.023284489288926125, 0.021664468571543694, 0.0062688905745744705, 0.4351518154144287, 0.035733453929424286, 0.0638875812292099, 0.13816295564174652, 0.01834702119231224, 0.0, 0.0, 0.0, 0.0, 0.0, 0.0, 0.0, 0.0, 0.0, 0.0, 0.0, 0.0, 0.0, 0.0], [0.4196639060974121, 0.03309386223554611, 0.017530251294374466, 0.012947427108883858, 0.015411739237606525, 0.01978749968111515, 0.021864384412765503, 0.011675382032990456, 0.005047667771577835, 0.021691007539629936, 0.02539975382387638, 0.02392568811774254, 0.015358581207692623, 0.04242076352238655, 0.039273034781217575, 0.05130147561430931, 0.03223448991775513, 0.030271712690591812, 0.16110144555568695, 0.0, 0.0, 0.0, 0.0, 0.0, 0.0, 0.0, 0.0, 0.0, 0.0, 0.0, 0.0, 0.0], [0.3165914714336395, 0.029168568551540375, 0.009115551598370075, 0.00778286624699831, 0.01085907593369484, 0.007592396344989538, 0.021989261731505394, 0.013511682860553265, 0.006114093121141195, 0.03156206011772156, 0.02454640157520771, 0.03407452628016472, 0.016527269035577774, 0.034041885286569595, 0.029096277430653572, 0.050520606338977814, 0.008671888150274754, 0.06499433517456055, 0.1471649706363678, 0.13607479631900787, 0.0, 0.0, 0.0, 0.0, 0.0, 0.0, 0.0, 0.0, 0.0, 0.0, 0.0, 0.0], [0.367628276348114, 0.041981521993875504, 0.009963149204850197, 0.008036887273192406, 0.009051665663719177, 0.010576102882623672, 0.021969249472022057, 0.0034042755141854286, 0.0016113141318783164, 0.013040964491665363, 0.011943722143769264, 0.03639068827033043, 0.008059314452111721, 0.02166188322007656, 0.022638650611042976, 0.05729340761899948, 0.0037831722293049097, 0.06161528453230858, 0.11807709187269211, 0.08533363789319992, 0.08593978732824326, 0.0, 0.0, 0.0, 0.0, 0.0, 0.0, 0.0, 0.0, 0.0, 0.0, 0.0], [0.2956785261631012, 0.007869435474276543, 0.00176996027585119, 0.007118818815797567, 0.0009686871198937297, 0.004663331434130669, 0.005260569043457508, 0.0016217243392020464, 0.0011571883223950863, 0.001759153325110674, 0.0030998014844954014, 0.04252107813954353, 0.008157571777701378, 0.004252227488905191, 0.025584779679775238, 0.031591542065143585, 0.017299480736255646, 0.04692930355668068, 0.022748218849301338, 0.12009043991565704, 0.019466973841190338, 0.3303912878036499, 0.0, 0.0, 0.0, 0.0, 0.0, 0.0, 0.0, 0.0, 0.0, 0.0], [0.15414100885391235, 0.0153556689620018, 0.0016495316522195935, 0.0020641025621443987, 0.0022068689577281475, 0.0024464859161525965, 0.005107139237225056, 0.004597606603056192, 0.00201966124586761, 0.006550489459186792, 0.003660421120002866, 0.011525964364409447, 0.009171133860945702, 0.004862305708229542, 0.006480468437075615, 0.01327503751963377, 0.003786045592278242, 0.028044994920492172, 0.028722167015075684, 0.0816260576248169, 0.049577876925468445, 0.22776633501052856, 0.33536267280578613, 0.0, 0.0, 0.0, 0.0, 0.0, 0.0, 0.0, 0.0, 0.0], [0.21125629544258118, 0.007974185049533844, 0.0022882535122334957, 0.0018187487730756402, 0.005226083565503359, 0.0038829068653285503, 0.006259534973651171, 0.009903792291879654, 0.0052275387570261955, 0.016609711572527885, 0.009274782612919807, 0.010609614662826061, 0.0059056635946035385, 0.007002448663115501, 0.011008164845407009, 0.015124352648854256, 0.006577884312719107, 0.02430608496069908, 0.05621718242764473, 0.04401521384716034, 0.07562258839607239, 0.24376259744167328, 0.12018439173698425, 0.09994202852249146, 0.0, 0.0, 0.0, 0.0, 0.0, 0.0, 0.0, 0.0], [0.16209475696086884, 0.0044371518306434155, 0.0017503536073490977, 0.0009812603238970041, 0.002013388555496931, 0.0026119945105165243, 0.004394228104501963, 0.008925786241889, 0.0028720598202198744, 0.011254417710006237, 0.006715892348438501, 0.005351139698177576, 0.002022666623815894, 0.0035184482112526894, 0.005291405599564314, 0.009146924130618572, 0.0017634123796597123, 0.015241754241287708, 0.03494083508849144, 0.035676222294569016, 0.058669500052928925, 0.333518922328949, 0.11960966140031815, 0.13053105771541595, 0.03666674345731735, 0.0, 0.0, 0.0, 0.0, 0.0, 0.0, 0.0], [0.13548508286476135, 0.00853774044662714, 0.004485560581088066, 0.00319886626675725, 0.002555897692218423, 0.003997370135039091, 0.005262869410216808, 0.0017636626726016402, 0.0007312371162697673, 0.0033139456063508987, 0.0038782323244959116, 0.006496254354715347, 0.0013254209188744426, 0.0057169110514223576, 0.005867264699190855, 0.01090915221720934, 0.0019120493670925498, 0.008998596109449863, 0.02739107608795166, 0.02305150404572487, 0.023915905505418777, 0.41762083768844604, 0.2219732403755188, 0.026689892634749413, 0.008876643143594265, 0.03604474291205406, 0.0, 0.0, 0.0, 0.0, 0.0, 0.0], [0.1295849233865738, 0.008018720895051956, 0.002887334208935499, 0.0019563529640436172, 0.0028123671654611826, 0.003259038319811225, 0.004475826397538185, 0.0017095782095566392, 0.0010574364569038153, 0.005044607445597649, 0.0043688430450856686, 0.007048202212899923, 0.0017579884734004736, 0.0050851572304964066, 0.004961025435477495, 0.011097677052021027, 0.0022778217680752277, 0.011198442429304123, 0.031546272337436676, 0.0222511887550354, 0.029682330787181854, 0.30219408869743347, 0.24185626208782196, 0.02913849614560604, 0.01481273677200079, 0.06625401973724365, 0.05366330221295357, 0.0, 0.0, 0.0, 0.0, 0.0], [0.16533637046813965, 0.010831463150680065, 0.007354343309998512, 0.004551068879663944, 0.002652053954079747, 0.001639127149246633, 0.004803206771612167, 0.0016857031732797623, 0.0008563103619962931, 0.002618306316435337, 0.0030168206430971622, 0.005006089806556702, 0.001639957306906581, 0.01264760922640562, 0.004055528435856104, 0.009422392584383488, 0.004883166402578354, 0.005392758175730705, 0.021877862513065338, 0.020566154271364212, 0.017302127555012703, 0.2559732496738434, 0.2689957022666931, 0.0299371350556612, 0.012648659758269787, 0.033575866371393204, 0.04183819890022278, 0.048892728984355927, 0.0, 0.0, 0.0, 0.0], [0.0368669219315052, 0.0009255367913283408, 0.003986122086644173, 0.0011798630002886057, 0.0016715952660888433, 0.00029632728546857834, 0.0012306190328672528, 0.0011711223050951958, 0.0003040617739316076, 0.0008624540641903877, 0.0018718157662078738, 0.001468774862587452, 0.00036759598879143596, 0.030437571927905083, 0.0022155707702040672, 0.004564614966511726, 0.010292013175785542, 0.0013927622931078076, 0.0313347764313221, 0.0026754236314445734, 0.010556558147072792, 0.07848601788282394, 0.02656187303364277, 0.02217203564941883, 0.005076485686004162, 0.013018800877034664, 0.036982499063014984, 0.6636499166488647, 0.008380236104130745, 0.0, 0.0, 0.0], [0.1507643312215805, 0.004679696634411812, 0.0030404941644519567, 0.0018341360846534371, 0.0020152288489043713, 0.002681734971702099, 0.0031932429410517216, 0.0016765568871051073, 0.0008378719794563949, 0.003033626824617386, 0.003167556133121252, 0.002300633816048503, 0.0013630870962515473, 0.003852168098092079, 0.0029845305252820253, 0.004267838317900896, 0.002919205464422703, 0.0029281137976795435, 0.01760031096637249, 0.014669584110379219, 0.01845034956932068, 0.2870953381061554, 0.1943562626838684, 0.025837816298007965, 0.011357991024851799, 0.03992138430476189, 0.046789366751909256, 0.030187683179974556, 0.02237652987241745, 0.09381727129220963, 0.0, 0.0], [0.14991870522499084, 0.0045744492672383785, 0.0017961564008146524, 0.0012272809399291873, 0.001742462394759059, 0.001350302598439157, 0.0044705369509756565, 0.0024556212592869997, 0.0011167807970196009, 0.005015586037188768, 0.003920589108020067, 0.004817083943635225, 0.0017681914614513516, 0.0036827607546001673, 0.0025694987270981073, 0.004991655237972736, 0.0007606071303598583, 0.007736485917121172, 0.020038843154907227, 0.017405765131115913, 0.029003676027059555, 0.12644663453102112, 0.13370132446289062, 0.03156249597668648, 0.013649907894432545, 0.06185704097151756, 0.051563069224357605, 0.02318825200200081, 0.061095643788576126, 0.1198783591389656, 0.10669424384832382, 0.0], [0.15923938155174255, 0.006504507269710302, 0.001838078023865819, 0.0012938661966472864, 0.0014767766697332263, 0.0018775153439491987, 0.004859373439103365, 0.0006723009282723069, 0.00030905540916137397, 0.002037759404629469, 0.001847561215981841, 0.00518827885389328, 0.000962824618909508, 0.0022344791796058416, 0.0019819927401840687, 0.005265170242637396, 0.00033212441485375166, 0.006966880522668362, 0.013341356068849564, 0.009849868714809418, 0.01313327718526125, 0.18972264230251312, 0.15886667370796204, 0.008593732491135597, 0.004100463818758726, 0.027021799236536026, 0.026520539075136185, 0.013233884237706661, 0.06679755449295044, 0.0949452593922615, 0.08419051766395569, 0.08479445427656174]], [[1.0, 0.0, 0.0, 0.0, 0.0, 0.0, 0.0, 0.0, 0.0, 0.0, 0.0, 0.0, 0.0, 0.0, 0.0, 0.0, 0.0, 0.0, 0.0, 0.0, 0.0, 0.0, 0.0, 0.0, 0.0, 0.0, 0.0, 0.0, 0.0, 0.0, 0.0, 0.0], [0.9748935699462891, 0.025106491521000862, 0.0, 0.0, 0.0, 0.0, 0.0, 0.0, 0.0, 0.0, 0.0, 0.0, 0.0, 0.0, 0.0, 0.0, 0.0, 0.0, 0.0, 0.0, 0.0, 0.0, 0.0, 0.0, 0.0, 0.0, 0.0, 0.0, 0.0, 0.0, 0.0, 0.0], [0.9375592470169067, 0.029095914214849472, 0.03334483131766319, 0.0, 0.0, 0.0, 0.0, 0.0, 0.0, 0.0, 0.0, 0.0, 0.0, 0.0, 0.0, 0.0, 0.0, 0.0, 0.0, 0.0, 0.0, 0.0, 0.0, 0.0, 0.0, 0.0, 0.0, 0.0, 0.0, 0.0, 0.0, 0.0], [0.8151788711547852, 0.05286303535103798, 0.11625124514102936, 0.015706852078437805, 0.0, 0.0, 0.0, 0.0, 0.0, 0.0, 0.0, 0.0, 0.0, 0.0, 0.0, 0.0, 0.0, 0.0, 0.0, 0.0, 0.0, 0.0, 0.0, 0.0, 0.0, 0.0, 0.0, 0.0, 0.0, 0.0, 0.0, 0.0], [0.8972122669219971, 0.020999720320105553, 0.033371198922395706, 0.033755794167518616, 0.014661043882369995, 0.0, 0.0, 0.0, 0.0, 0.0, 0.0, 0.0, 0.0, 0.0, 0.0, 0.0, 0.0, 0.0, 0.0, 0.0, 0.0, 0.0, 0.0, 0.0, 0.0, 0.0, 0.0, 0.0, 0.0, 0.0, 0.0, 0.0], [0.6612943410873413, 0.054364435374736786, 0.09762957692146301, 0.08005140721797943, 0.1011158898472786, 0.005544338840991259, 0.0, 0.0, 0.0, 0.0, 0.0, 0.0, 0.0, 0.0, 0.0, 0.0, 0.0, 0.0, 0.0, 0.0, 0.0, 0.0, 0.0, 0.0, 0.0, 0.0, 0.0, 0.0, 0.0, 0.0, 0.0, 0.0], [0.7680428624153137, 0.02941707707941532, 0.015204772353172302, 0.06973506510257721, 0.02049533650279045, 0.09158477932214737, 0.005520057864487171, 0.0, 0.0, 0.0, 0.0, 0.0, 0.0, 0.0, 0.0, 0.0, 0.0, 0.0, 0.0, 0.0, 0.0, 0.0, 0.0, 0.0, 0.0, 0.0, 0.0, 0.0, 0.0, 0.0, 0.0, 0.0], [0.7376887798309326, 0.017263881862163544, 0.028870370239019394, 0.03234288841485977, 0.032025232911109924, 0.06660802662372589, 0.0190382469445467, 0.06616251170635223, 0.0, 0.0, 0.0, 0.0, 0.0, 0.0, 0.0, 0.0, 0.0, 0.0, 0.0, 0.0, 0.0, 0.0, 0.0, 0.0, 0.0, 0.0, 0.0, 0.0, 0.0, 0.0, 0.0, 0.0], [0.8223954439163208, 0.010085399262607098, 0.011990890838205814, 0.03276040405035019, 0.010049204342067242, 0.0396868921816349, 0.0056814998388290405, 0.04469235613942146, 0.022657867521047592, 0.0, 0.0, 0.0, 0.0, 0.0, 0.0, 0.0, 0.0, 0.0, 0.0, 0.0, 0.0, 0.0, 0.0, 0.0, 0.0, 0.0, 0.0, 0.0, 0.0, 0.0, 0.0, 0.0], [0.7194889783859253, 0.02522413432598114, 0.011629228480160236, 0.09923683851957321, 0.01193375512957573, 0.06904228776693344, 0.008016316220164299, 0.02770083397626877, 0.01918884925544262, 0.008538770489394665, 0.0, 0.0, 0.0, 0.0, 0.0, 0.0, 0.0, 0.0, 0.0, 0.0, 0.0, 0.0, 0.0, 0.0, 0.0, 0.0, 0.0, 0.0, 0.0, 0.0, 0.0, 0.0], [0.777255654335022, 0.01299375481903553, 0.005039664916694164, 0.06152264028787613, 0.003576217917725444, 0.10706193745136261, 0.001342393341474235, 0.014984245412051678, 0.0052495659328997135, 0.0029818988405168056, 0.00799200776964426, 0.0, 0.0, 0.0, 0.0, 0.0, 0.0, 0.0, 0.0, 0.0, 0.0, 0.0, 0.0, 0.0, 0.0, 0.0, 0.0, 0.0, 0.0, 0.0, 0.0, 0.0], [0.29682230949401855, 0.02139345370233059, 0.06385234743356705, 0.0104166055098176, 0.07655379921197891, 0.0029128033202141523, 0.1653425693511963, 0.035109322518110275, 0.08411320298910141, 0.08748875558376312, 0.13645221292972565, 0.019542651250958443, 0.0, 0.0, 0.0, 0.0, 0.0, 0.0, 0.0, 0.0, 0.0, 0.0, 0.0, 0.0, 0.0, 0.0, 0.0, 0.0, 0.0, 0.0, 0.0, 0.0], [0.28985023498535156, 0.016143182292580605, 0.039551954716444016, 0.01820579543709755, 0.07076003402471542, 0.011945494450628757, 0.0698670968413353, 0.07645513862371445, 0.0834880918264389, 0.07809499651193619, 0.17858974635601044, 0.010602886788547039, 0.056445322930812836, 0.0, 0.0, 0.0, 0.0, 0.0, 0.0, 0.0, 0.0, 0.0, 0.0, 0.0, 0.0, 0.0, 0.0, 0.0, 0.0, 0.0, 0.0, 0.0], [0.5707879662513733, 0.025526484474539757, 0.027529366314411163, 0.04325425624847412, 0.02561316266655922, 0.017778465524315834, 0.027173088863492012, 0.03251957148313522, 0.02608993463218212, 0.01923438347876072, 0.05404243245720863, 0.06189463287591934, 0.014209369197487831, 0.054346926510334015, 0.0, 0.0, 0.0, 0.0, 0.0, 0.0, 0.0, 0.0, 0.0, 0.0, 0.0, 0.0, 0.0, 0.0, 0.0, 0.0, 0.0, 0.0], [0.11094152182340622, 0.01156898494809866, 0.03978976607322693, 0.00405722064897418, 0.06590627133846283, 0.0010816979920491576, 0.23178143799304962, 0.031578145921230316, 0.07574127614498138, 0.04004913941025734, 0.15387113392353058, 0.0052553582936525345, 0.09987927228212357, 0.12578463554382324, 0.002714048605412245, 0.0, 0.0, 0.0, 0.0, 0.0, 0.0, 0.0, 0.0, 0.0, 0.0, 0.0, 0.0, 0.0, 0.0, 0.0, 0.0, 0.0], [0.22433079779148102, 0.020093565806746483, 0.03973968327045441, 0.02263771928846836, 0.06780466437339783, 0.006939469836652279, 0.09101983904838562, 0.03260478377342224, 0.0617065355181694, 0.05187808722257614, 0.13196471333503723, 0.03526298329234123, 0.03053806535899639, 0.13259243965148926, 0.019150827080011368, 0.031735822558403015, 0.0, 0.0, 0.0, 0.0, 0.0, 0.0, 0.0, 0.0, 0.0, 0.0, 0.0, 0.0, 0.0, 0.0, 0.0, 0.0], [0.16249586641788483, 0.020456019788980484, 0.038315627723932266, 0.012362604960799217, 0.07122326642274857, 0.0034185145050287247, 0.10863110423088074, 0.03431714326143265, 0.10709110647439957, 0.07663841545581818, 0.17336180806159973, 0.007679634261876345, 0.02349686622619629, 0.14054229855537415, 0.006212473846971989, 0.00880865752696991, 0.0049485680647194386, 0.0, 0.0, 0.0, 0.0, 0.0, 0.0, 0.0, 0.0, 0.0, 0.0, 0.0, 0.0, 0.0, 0.0, 0.0], [0.3628998100757599, 0.01456662267446518, 0.032630596309900284, 0.011451499536633492, 0.046373579651117325, 0.006652087438851595, 0.05412007123231888, 0.03164650872349739, 0.07188339531421661, 0.05084224417805672, 0.1267833262681961, 0.01860872656106949, 0.013176549226045609, 0.11023198068141937, 0.0182700976729393, 0.011324272491037846, 0.011016403324902058, 0.0075221979059278965, 0.0, 0.0, 0.0, 0.0, 0.0, 0.0, 0.0, 0.0, 0.0, 0.0, 0.0, 0.0, 0.0, 0.0], [0.29246512055397034, 0.02757573500275612, 0.008955860510468483, 0.07514765858650208, 0.01514555886387825, 0.015354767441749573, 0.00947549007833004, 0.017311211675405502, 0.012317080982029438, 0.00787576287984848, 0.028262348845601082, 0.1411452740430832, 0.00556775089353323, 0.028573771938681602, 0.02009378932416439, 0.012971434742212296, 0.03390540927648544, 0.2247951328754425, 0.023060809820890427, 0.0, 0.0, 0.0, 0.0, 0.0, 0.0, 0.0, 0.0, 0.0, 0.0, 0.0, 0.0, 0.0], [0.18114334344863892, 0.013290919363498688, 0.04544603079557419, 0.006001976318657398, 0.05499178543686867, 0.0033015403896570206, 0.1031617522239685, 0.032441526651382446, 0.07502920925617218, 0.06733371317386627, 0.13053204119205475, 0.006167674902826548, 0.03035837598145008, 0.11019996553659439, 0.0106675885617733, 0.02122684009373188, 0.0075857872143387794, 0.003630437422543764, 0.08182975649833679, 0.015659742057323456, 0.0, 0.0, 0.0, 0.0, 0.0, 0.0, 0.0, 0.0, 0.0, 0.0, 0.0, 0.0], [0.4430795907974243, 0.017495781183242798, 0.003947808872908354, 0.10138029605150223, 0.005393679253757, 0.04695770889520645, 0.0025382989551872015, 0.016273977234959602, 0.0066832806915044785, 0.004588868003338575, 0.009956274181604385, 0.04762136936187744, 0.0011226848000660539, 0.01625821553170681, 0.06594885140657425, 0.004584008827805519, 0.08083242923021317, 0.062291018664836884, 0.01496109738945961, 0.02806144952774048, 0.02002321556210518, 0.0, 0.0, 0.0, 0.0, 0.0, 0.0, 0.0, 0.0, 0.0, 0.0, 0.0], [0.10584568977355957, 0.020390823483467102, 0.01946284994482994, 0.011822931468486786, 0.03183111548423767, 0.0018693219171836972, 0.14190909266471863, 0.01269648689776659, 0.04297100007534027, 0.022998658940196037, 0.05612367019057274, 0.004635886754840612, 0.015743784606456757, 0.08686836063861847, 0.0028612834867089987, 0.0687294453382492, 0.0068010808899998665, 0.006589414086192846, 0.11737656593322754, 0.04347889497876167, 0.1759071797132492, 0.0030864528380334377, 0.0, 0.0, 0.0, 0.0, 0.0, 0.0, 0.0, 0.0, 0.0, 0.0], [0.10349742323160172, 0.009644091129302979, 0.04109346121549606, 0.002638626843690872, 0.05011047050356865, 0.000794333522208035, 0.12230955064296722, 0.01669071614742279, 0.05580618605017662, 0.04081668704748154, 0.08810017257928848, 0.0028376756235957146, 0.037119802087545395, 0.09493611007928848, 0.004330939147621393, 0.02219090797007084, 0.002936864271759987, 0.0020102185662835836, 0.07200957089662552, 0.009820914827287197, 0.19775740802288055, 0.0026745260693132877, 0.019873447716236115, 0.0, 0.0, 0.0, 0.0, 0.0, 0.0, 0.0, 0.0, 0.0], [0.2519305646419525, 0.007240812294185162, 0.009257890284061432, 0.013883591629564762, 0.013186180964112282, 0.02122952975332737, 0.0069137560203671455, 0.02450760081410408, 0.03285130485892296, 0.023516226559877396, 0.04043089225888252, 0.004738504998385906, 0.0037626605480909348, 0.022923508659005165, 0.027188066393136978, 0.0016104982933029532, 0.030013591051101685, 0.0032193888910114765, 0.023096906021237373, 0.018582414835691452, 0.09876624494791031, 0.2315584123134613, 0.03067406453192234, 0.05891737714409828, 0.0, 0.0, 0.0, 0.0, 0.0, 0.0, 0.0, 0.0], [0.4182749092578888, 0.00574896577745676, 0.005536841694265604, 0.018804455175995827, 0.0060385665856301785, 0.01696542091667652, 0.0031684378627687693, 0.02368493378162384, 0.011679927818477154, 0.006199330557137728, 0.0210827998816967, 0.006028071511536837, 0.0019988976418972015, 0.01201670803129673, 0.030645787715911865, 0.0015891981311142445, 0.04299644008278847, 0.00673004100099206, 0.012074720114469528, 0.011987588368356228, 0.05741862207651138, 0.1464444398880005, 0.03206717595458031, 0.06969094276428223, 0.031126786023378372, 0.0, 0.0, 0.0, 0.0, 0.0, 0.0, 0.0], [0.3064430058002472, 0.011936772614717484, 0.004092565272003412, 0.04539971798658371, 0.005171183496713638, 0.025879085063934326, 0.002926381304860115, 0.011533955112099648, 0.007510542869567871, 0.002794399857521057, 0.00952074583619833, 0.012303946539759636, 0.0015493456739932299, 0.011706352233886719, 0.029390806332230568, 0.003010278334841132, 0.04292235150933266, 0.016048487275838852, 0.013507558964192867, 0.02518068067729473, 0.04100662097334862, 0.23359423875808716, 0.06101898103952408, 0.041241977363824844, 0.025182673707604408, 0.009127233177423477, 0.0, 0.0, 0.0, 0.0, 0.0, 0.0], [0.2957649827003479, 0.005390162579715252, 0.0016751951770856977, 0.02294357493519783, 0.0013713587541133165, 0.03350834548473358, 0.0004692408547271043, 0.0052081323228776455, 0.0018545655766502023, 0.0008728075190447271, 0.002299909945577383, 0.007053406909108162, 0.00035947488504461944, 0.003845693077892065, 0.031880807131528854, 0.002100684680044651, 0.03580499067902565, 0.009769253432750702, 0.004561328329145908, 0.0068086786195635796, 0.013260499574244022, 0.45138832926750183, 0.022676188498735428, 0.021484356373548508, 0.006338305305689573, 0.003018585266545415, 0.008291120640933514, 0.0, 0.0, 0.0, 0.0, 0.0], [0.11446558684110641, 0.012398676946759224, 0.024005066603422165, 0.006245425436645746, 0.031801529228687286, 0.001346481847576797, 0.0329485647380352, 0.01011034194380045, 0.02875528670847416, 0.023346323519945145, 0.03952159360051155, 0.008486507460474968, 0.01179258432239294, 0.05050116404891014, 0.00418007280677557, 0.014283125288784504, 0.003154739737510681, 0.0050313700921833515, 0.05350806564092636, 0.01809081807732582, 0.12238316237926483, 0.006577017717063427, 0.08075309544801712, 0.026742108166217804, 0.07489213347434998, 0.06278426200151443, 0.10804319381713867, 0.023851703852415085, 0.0, 0.0, 0.0, 0.0], [0.1803172528743744, 0.006269314792007208, 0.014837096445262432, 0.004776111338287592, 0.02160121500492096, 0.0025565950199961662, 0.022187365218997, 0.012504173442721367, 0.030955800786614418, 0.019117530435323715, 0.047840915620326996, 0.005831357557326555, 0.004939681850373745, 0.042287155985832214, 0.006706950254738331, 0.004409958142787218, 0.00444616936147213, 0.0028579989448189735, 0.0359516404569149, 0.014887087047100067, 0.09749387949705124, 0.010356688871979713, 0.0715995654463768, 0.03452756628394127, 0.08381437510251999, 0.054097291082143784, 0.1443505436182022, 0.013862071558833122, 0.004616645164787769, 0.0, 0.0, 0.0], [0.13661861419677734, 0.01028059609234333, 0.003517556469887495, 0.028988724574446678, 0.005910144187510014, 0.00581087451428175, 0.0033164892811328173, 0.006411370355635881, 0.00464348029345274, 0.0024220049381256104, 0.009373926557600498, 0.04771853983402252, 0.001925852382555604, 0.009199590422213078, 0.006973913870751858, 0.004803451709449291, 0.013424110598862171, 0.09477637708187103, 0.008542540483176708, 0.017436007037758827, 0.020498862490057945, 0.04414590820670128, 0.08113792538642883, 0.023036150261759758, 0.017471764236688614, 0.009401384741067886, 0.04301454499363899, 0.10831350088119507, 0.21342243254184723, 0.017463399097323418, 0.0, 0.0], [0.10736249387264252, 0.005989940837025642, 0.021065950393676758, 0.002940263831987977, 0.027400538325309753, 0.0014695088611915708, 0.04826934635639191, 0.014804533682763577, 0.03487583249807358, 0.025270111858844757, 0.05451628193259239, 0.0024008103646337986, 0.010988461785018444, 0.04132966697216034, 0.004042454529553652, 0.008504711091518402, 0.003295647446066141, 0.0015942166792228818, 0.03813348710536957, 0.007008642889559269, 0.1312328428030014, 0.004349441733211279, 0.019612643867731094, 0.031908806413412094, 0.0739101991057396, 0.05700606480240822, 0.12762153148651123, 0.010733602568507195, 0.002671562833711505, 0.06828287988901138, 0.011407542042434216, 0.0], [0.2578149735927582, 0.006801166571676731, 0.0016969835851341486, 0.04520650580525398, 0.002433577086776495, 0.019701290875673294, 0.0010670189512893558, 0.007336253300309181, 0.0028142144437879324, 0.0015955922426655889, 0.0038592370692640543, 0.016816088929772377, 0.0003722485271282494, 0.005165510345250368, 0.022313378751277924, 0.0014909906312823296, 0.030244547873735428, 0.024492338299751282, 0.006137589458376169, 0.011105462908744812, 0.00839286670088768, 0.22666069865226746, 0.03778744861483574, 0.027404703199863434, 0.010205603204667568, 0.0059909881092607975, 0.015725284814834595, 0.08491755276918411, 0.05685685575008392, 0.013412275351583958, 0.02604357898235321, 0.018137117847800255]], [[1.0, 0.0, 0.0, 0.0, 0.0, 0.0, 0.0, 0.0, 0.0, 0.0, 0.0, 0.0, 0.0, 0.0, 0.0, 0.0, 0.0, 0.0, 0.0, 0.0, 0.0, 0.0, 0.0, 0.0, 0.0, 0.0, 0.0, 0.0, 0.0, 0.0, 0.0, 0.0], [0.9973666071891785, 0.0026333993300795555, 0.0, 0.0, 0.0, 0.0, 0.0, 0.0, 0.0, 0.0, 0.0, 0.0, 0.0, 0.0, 0.0, 0.0, 0.0, 0.0, 0.0, 0.0, 0.0, 0.0, 0.0, 0.0, 0.0, 0.0, 0.0, 0.0, 0.0, 0.0, 0.0, 0.0], [0.9894182085990906, 0.0025154543109238148, 0.008066302165389061, 0.0, 0.0, 0.0, 0.0, 0.0, 0.0, 0.0, 0.0, 0.0, 0.0, 0.0, 0.0, 0.0, 0.0, 0.0, 0.0, 0.0, 0.0, 0.0, 0.0, 0.0, 0.0, 0.0, 0.0, 0.0, 0.0, 0.0, 0.0, 0.0], [0.9859943389892578, 0.0015265581896528602, 0.00579450698569417, 0.006684601306915283, 0.0, 0.0, 0.0, 0.0, 0.0, 0.0, 0.0, 0.0, 0.0, 0.0, 0.0, 0.0, 0.0, 0.0, 0.0, 0.0, 0.0, 0.0, 0.0, 0.0, 0.0, 0.0, 0.0, 0.0, 0.0, 0.0, 0.0, 0.0], [0.9891934990882874, 0.0012269634753465652, 0.0043141902424395084, 0.0032654094975441694, 0.0020000224467366934, 0.0, 0.0, 0.0, 0.0, 0.0, 0.0, 0.0, 0.0, 0.0, 0.0, 0.0, 0.0, 0.0, 0.0, 0.0, 0.0, 0.0, 0.0, 0.0, 0.0, 0.0, 0.0, 0.0, 0.0, 0.0, 0.0, 0.0], [0.9434327483177185, 0.002444161567837, 0.007474000100046396, 0.006221005227416754, 0.004280664958059788, 0.03614736720919609, 0.0, 0.0, 0.0, 0.0, 0.0, 0.0, 0.0, 0.0, 0.0, 0.0, 0.0, 0.0, 0.0, 0.0, 0.0, 0.0, 0.0, 0.0, 0.0, 0.0, 0.0, 0.0, 0.0, 0.0, 0.0, 0.0], [0.9657812714576721, 0.003441039938479662, 0.00693881930783391, 0.0059297457337379456, 0.003234539180994034, 0.010471940040588379, 0.004202656447887421, 0.0, 0.0, 0.0, 0.0, 0.0, 0.0, 0.0, 0.0, 0.0, 0.0, 0.0, 0.0, 0.0, 0.0, 0.0, 0.0, 0.0, 0.0, 0.0, 0.0, 0.0, 0.0, 0.0, 0.0, 0.0], [0.9708122611045837, 0.00210689683444798, 0.006619448307901621, 0.0036918804980814457, 0.0034690690226852894, 0.006174566689878702, 0.0038360387552529573, 0.003289848333224654, 0.0, 0.0, 0.0, 0.0, 0.0, 0.0, 0.0, 0.0, 0.0, 0.0, 0.0, 0.0, 0.0, 0.0, 0.0, 0.0, 0.0, 0.0, 0.0, 0.0, 0.0, 0.0, 0.0, 0.0], [0.9678450226783752, 0.0012552477419376373, 0.004922768566757441, 0.003995061386376619, 0.002692759968340397, 0.010262275114655495, 0.002659571822732687, 0.0029851223807781935, 0.0033822241239249706, 0.0, 0.0, 0.0, 0.0, 0.0, 0.0, 0.0, 0.0, 0.0, 0.0, 0.0, 0.0, 0.0, 0.0, 0.0, 0.0, 0.0, 0.0, 0.0, 0.0, 0.0, 0.0, 0.0], [0.9694236516952515, 0.0015079544391483068, 0.004122478887438774, 0.0034023672342300415, 0.0020375470630824566, 0.00791853852570057, 0.0020779904443770647, 0.002944385400041938, 0.0026557177770882845, 0.003909445833414793, 0.0, 0.0, 0.0, 0.0, 0.0, 0.0, 0.0, 0.0, 0.0, 0.0, 0.0, 0.0, 0.0, 0.0, 0.0, 0.0, 0.0, 0.0, 0.0, 0.0, 0.0, 0.0], [0.9645799994468689, 0.00176329561509192, 0.0037354109808802605, 0.0032683531753718853, 0.0015957995783537626, 0.008139306679368019, 0.0019664193969219923, 0.0028079296462237835, 0.0025083899963647127, 0.0049059391021728516, 0.004729109350591898, 0.0, 0.0, 0.0, 0.0, 0.0, 0.0, 0.0, 0.0, 0.0, 0.0, 0.0, 0.0, 0.0, 0.0, 0.0, 0.0, 0.0, 0.0, 0.0, 0.0, 0.0], [0.9445419311523438, 0.0036534417886286974, 0.005546459462493658, 0.005894537549465895, 0.0030396755319088697, 0.008151783607900143, 0.0036552995443344116, 0.00531804421916604, 0.0035907430574297905, 0.006736072711646557, 0.007375846151262522, 0.002496145898476243, 0.0, 0.0, 0.0, 0.0, 0.0, 0.0, 0.0, 0.0, 0.0, 0.0, 0.0, 0.0, 0.0, 0.0, 0.0, 0.0, 0.0, 0.0, 0.0, 0.0], [0.9089175462722778, 0.004224118776619434, 0.009782311506569386, 0.005848946515470743, 0.0044790031388401985, 0.012888222932815552, 0.004264133982360363, 0.007470735348761082, 0.005514988210052252, 0.012687822803854942, 0.011117703281342983, 0.004081729333847761, 0.008722761645913124, 0.0, 0.0, 0.0, 0.0, 0.0, 0.0, 0.0, 0.0, 0.0, 0.0, 0.0, 0.0, 0.0, 0.0, 0.0, 0.0, 0.0, 0.0, 0.0], [0.9299944043159485, 0.002557050436735153, 0.006830822676420212, 0.005235026124864817, 0.0034229697193950415, 0.009752858430147171, 0.004360485821962357, 0.00493096187710762, 0.0036808184813708067, 0.005779474042356014, 0.0070427414029836655, 0.0027228433173149824, 0.006823032163083553, 0.006866568699479103, 0.0, 0.0, 0.0, 0.0, 0.0, 0.0, 0.0, 0.0, 0.0, 0.0, 0.0, 0.0, 0.0, 0.0, 0.0, 0.0, 0.0, 0.0], [0.9106050729751587, 0.0028844706248492002, 0.007578080520033836, 0.005513565614819527, 0.0047297487035393715, 0.012404097244143486, 0.003716715844348073, 0.005222334526479244, 0.004645779728889465, 0.00900175143033266, 0.009083633311092854, 0.004205169156193733, 0.005368838552385569, 0.007286386098712683, 0.0077542467042803764, 0.0, 0.0, 0.0, 0.0, 0.0, 0.0, 0.0, 0.0, 0.0, 0.0, 0.0, 0.0, 0.0, 0.0, 0.0, 0.0, 0.0], [0.9133710265159607, 0.004963262937963009, 0.007568692788481712, 0.006276231724768877, 0.0034942820202559233, 0.011124961078166962, 0.004120913799852133, 0.00686205830425024, 0.003599063493311405, 0.005602646619081497, 0.007628127001225948, 0.0031649477314203978, 0.004296394996345043, 0.006461405195295811, 0.008034591563045979, 0.003431354882195592, 0.0, 0.0, 0.0, 0.0, 0.0, 0.0, 0.0, 0.0, 0.0, 0.0, 0.0, 0.0, 0.0, 0.0, 0.0, 0.0], [0.9023541212081909, 0.0027744064573198557, 0.00595946004614234, 0.005749890580773354, 0.003512371564283967, 0.009411581791937351, 0.003562245052307844, 0.005325013771653175, 0.004004007671028376, 0.006367605645209551, 0.007105762138962746, 0.0026634910609573126, 0.004923501517623663, 0.006724829785525799, 0.008042448200285435, 0.0026140103582292795, 0.018905283883213997, 0.0, 0.0, 0.0, 0.0, 0.0, 0.0, 0.0, 0.0, 0.0, 0.0, 0.0, 0.0, 0.0, 0.0, 0.0], [0.9021815657615662, 0.00410876190289855, 0.00466789910569787, 0.00440262584015727, 0.002513878745958209, 0.007342697121202946, 0.0025638039223849773, 0.004823966417461634, 0.003215112956240773, 0.005494029261171818, 0.006317699793726206, 0.0027228211984038353, 0.0025732286740094423, 0.00468482356518507, 0.008690587244927883, 0.0016468308167532086, 0.025588735938072205, 0.006460873875766993, 0.0, 0.0, 0.0, 0.0, 0.0, 0.0, 0.0, 0.0, 0.0, 0.0, 0.0, 0.0, 0.0, 0.0], [0.9273940324783325, 0.0023191594518721104, 0.003710614051669836, 0.003487661713734269, 0.0020599274430423975, 0.006637150421738625, 0.002412213711068034, 0.0034818523563444614, 0.0025621617678552866, 0.003636044915765524, 0.0046658809296786785, 0.0016670047771185637, 0.003339563962072134, 0.00438343221321702, 0.0051881480030715466, 0.0014821953373029828, 0.012288417667150497, 0.0045761712826788425, 0.004708502907305956, 0.0, 0.0, 0.0, 0.0, 0.0, 0.0, 0.0, 0.0, 0.0, 0.0, 0.0, 0.0, 0.0], [0.9042531251907349, 0.0019705218728631735, 0.0055344137363135815, 0.005320054478943348, 0.0032378577161580324, 0.007616276852786541, 0.002870432799682021, 0.0036137159913778305, 0.0030007839668542147, 0.0067539699375629425, 0.005734759382903576, 0.0023098101373761892, 0.004577492829412222, 0.005614867899566889, 0.005271675530821085, 0.002031669719144702, 0.008113549090921879, 0.004862042143940926, 0.00620521092787385, 0.011107726022601128, 0.0, 0.0, 0.0, 0.0, 0.0, 0.0, 0.0, 0.0, 0.0, 0.0, 0.0, 0.0], [0.938915491104126, 0.000997169059701264, 0.0030268668197095394, 0.002595322672277689, 0.0017558822873979807, 0.005942135583609343, 0.0021241032518446445, 0.0014981948770582676, 0.0019416891736909747, 0.0033439737744629383, 0.003259324235841632, 0.0012939010048285127, 0.0031285914592444897, 0.002865871647372842, 0.0026159563567489386, 0.0015041347360238433, 0.004409770481288433, 0.004027945920825005, 0.00311482697725296, 0.006275176536291838, 0.005363753531128168, 0.0, 0.0, 0.0, 0.0, 0.0, 0.0, 0.0, 0.0, 0.0, 0.0, 0.0], [0.9114602208137512, 0.0012208466650918126, 0.0033388794399797916, 0.0035854869056493044, 0.0029695264529436827, 0.005611547734588385, 0.004651528783142567, 0.0021342954132705927, 0.0025086880195885897, 0.0028263318818062544, 0.003605496371164918, 0.001636431086808443, 0.005203953478485346, 0.005555287003517151, 0.002871357835829258, 0.0022466364316642284, 0.005613576155155897, 0.0030945255421102047, 0.0037378256674855947, 0.009082778356969357, 0.011188363656401634, 0.0058564855717122555, 0.0, 0.0, 0.0, 0.0, 0.0, 0.0, 0.0, 0.0, 0.0, 0.0], [0.8865541219711304, 0.0019361397717148066, 0.003921907860785723, 0.005009928718209267, 0.0033704747911542654, 0.0069839428178966045, 0.0027064995374530554, 0.00262222858145833, 0.0029323743656277657, 0.005330804269760847, 0.004582617431879044, 0.0019371869275346398, 0.003627317026257515, 0.005905503407120705, 0.005220338702201843, 0.0021220860071480274, 0.007711592596024275, 0.0033251293934881687, 0.004928025417029858, 0.008902565576136112, 0.007807205896824598, 0.010167330503463745, 0.012394768185913563, 0.0, 0.0, 0.0, 0.0, 0.0, 0.0, 0.0, 0.0, 0.0], [0.8770136833190918, 0.0024173876736313105, 0.00615278584882617, 0.003466713009402156, 0.0033548439387232065, 0.005780222360044718, 0.003737630555406213, 0.0031642059329897165, 0.003104632720351219, 0.00779818557202816, 0.005416817031800747, 0.0025769525673240423, 0.005690814461559057, 0.004052256233990192, 0.0028543013613671064, 0.0012967855436727405, 0.0030346119310706854, 0.006419667974114418, 0.005622900556772947, 0.011371077969670296, 0.010530112311244011, 0.01060575433075428, 0.01054217480123043, 0.003995405975729227, 0.0, 0.0, 0.0, 0.0, 0.0, 0.0, 0.0, 0.0], [0.8725889921188354, 0.0014457314973697066, 0.004736484959721565, 0.003781441133469343, 0.002660806756466627, 0.009461440145969391, 0.0027109018992632627, 0.0028199998196214437, 0.0031969810370355844, 0.005818602163344622, 0.005291520152240992, 0.0018748020520433784, 0.0037517130840569735, 0.005079321563243866, 0.004393808078020811, 0.0017530329059809446, 0.0071906838566064835, 0.004738382529467344, 0.005459777545183897, 0.008697840385138988, 0.00985617097467184, 0.014419855549931526, 0.010914156213402748, 0.0037648489233106375, 0.003592738416045904, 0.0, 0.0, 0.0, 0.0, 0.0, 0.0, 0.0], [0.8721479177474976, 0.0018197997706010938, 0.004275353159755468, 0.0034687677398324013, 0.0022178906947374344, 0.008046687580645084, 0.002271820791065693, 0.003012504894286394, 0.00276909489184618, 0.0038633125368505716, 0.004649856127798557, 0.0017203689785674214, 0.00276202242821455, 0.0045741950161755085, 0.00639695581048727, 0.0016000330215319991, 0.014488928951323032, 0.004213267005980015, 0.0050176032818853855, 0.006728227250277996, 0.007621884346008301, 0.014349580742418766, 0.010713912546634674, 0.0037365835160017014, 0.0029045213013887405, 0.004628904163837433, 0.0, 0.0, 0.0, 0.0, 0.0, 0.0], [0.8783644437789917, 0.001985483104363084, 0.003571770852431655, 0.0030142911709845066, 0.001591418869793415, 0.007636356167495251, 0.001933966064825654, 0.0026747947558760643, 0.0024030935019254684, 0.004485343582928181, 0.004493131302297115, 0.0016312790103256702, 0.001971477409824729, 0.0034745302982628345, 0.00589213240891695, 0.0014980875421315432, 0.014064052142202854, 0.004414823837578297, 0.0047914027236402035, 0.004915308207273483, 0.005441734101623297, 0.014850067906081676, 0.00844904500991106, 0.0034709316678345203, 0.0025534280575811863, 0.005566911771893501, 0.004860675428062677, 0.0, 0.0, 0.0, 0.0, 0.0], [0.8257879018783569, 0.0035742244217544794, 0.005944991949945688, 0.00536838686093688, 0.0031787839252501726, 0.007732099387794733, 0.003945627249777317, 0.004107967484742403, 0.0035636955872178078, 0.005923398770391941, 0.006544401403516531, 0.00237422832287848, 0.004203408025205135, 0.0053834086284041405, 0.006561202462762594, 0.002556734951213002, 0.011556337587535381, 0.005822368431836367, 0.006392721552401781, 0.01007556077092886, 0.009026292711496353, 0.01706821843981743, 0.012797549366950989, 0.005133035127073526, 0.00383647414855659, 0.00679486058652401, 0.006867790594696999, 0.007878328673541546, 0.0, 0.0, 0.0, 0.0], [0.8346273899078369, 0.0036263116635382175, 0.004104435909539461, 0.0038889155257493258, 0.002196904271841049, 0.006515637040138245, 0.0022759023122489452, 0.0041176797822117805, 0.002854855265468359, 0.004909954033792019, 0.005598457995802164, 0.002495202701538801, 0.0022698049433529377, 0.004064798355102539, 0.007318346761167049, 0.001401676214300096, 0.02128877118229866, 0.005699248984456062, 0.005543247796595097, 0.006148125510662794, 0.008115359582006931, 0.015652867034077644, 0.012161760590970516, 0.00523481797426939, 0.0029366486705839634, 0.005915436893701553, 0.005956518929451704, 0.007070229854434729, 0.006010634824633598, 0.0, 0.0, 0.0], [0.8389232754707336, 0.002573641249909997, 0.004289704840630293, 0.0036501719150692225, 0.002327798865735531, 0.007067052647471428, 0.0027598924934864044, 0.003931553103029728, 0.0028882217593491077, 0.0039574806578457355, 0.005314221139997244, 0.001975812017917633, 0.0037700061220675707, 0.004694629926234484, 0.005466862581670284, 0.0016593547770753503, 0.01260631624609232, 0.005372942425310612, 0.005182391963899136, 0.009303509257733822, 0.009222811087965965, 0.015098674222826958, 0.01258152723312378, 0.005211837124079466, 0.0031186353880912066, 0.004573496989905834, 0.005712928716093302, 0.005424037110060453, 0.00579418707638979, 0.005547077860683203, 0.0, 0.0], [0.8468517065048218, 0.001694299397058785, 0.004728578496724367, 0.004348482936620712, 0.0028422612231224775, 0.006100173108279705, 0.0025637878570705652, 0.0029862599913030863, 0.002573569305241108, 0.005563084036111832, 0.004822832066565752, 0.0019512856379151344, 0.003937202505767345, 0.0047609335742890835, 0.004133094102144241, 0.0016928385011851788, 0.006188792642205954, 0.0039717149920761585, 0.005181239452213049, 0.00947852898389101, 0.008076222613453865, 0.01078320387750864, 0.010546383447945118, 0.003785190172493458, 0.002845020731911063, 0.006469098385423422, 0.005152448080480099, 0.0049509634263813496, 0.004335762467235327, 0.005279868841171265, 0.011405049823224545, 0.0], [0.8836299777030945, 0.000998090486973524, 0.0030349791049957275, 0.0026467253919690847, 0.0018471545772626996, 0.005874607712030411, 0.0022259815596044064, 0.001598434173502028, 0.002015241887420416, 0.0035508209839463234, 0.0034256596118211746, 0.0013730480568483472, 0.0033262879587709904, 0.002898847684264183, 0.002600223058834672, 0.0015355654759332538, 0.004299891646951437, 0.00403991574421525, 0.003219346283003688, 0.0066958642564713955, 0.005915247835218906, 0.007877735421061516, 0.006818376015871763, 0.0021134030539542437, 0.002278900472447276, 0.0041130464524030685, 0.003789697540923953, 0.0031452171970158815, 0.004338396713137627, 0.003337493631988764, 0.008161111734807491, 0.007274751551449299]], [[1.0, 0.0, 0.0, 0.0, 0.0, 0.0, 0.0, 0.0, 0.0, 0.0, 0.0, 0.0, 0.0, 0.0, 0.0, 0.0, 0.0, 0.0, 0.0, 0.0, 0.0, 0.0, 0.0, 0.0, 0.0, 0.0, 0.0, 0.0, 0.0, 0.0, 0.0, 0.0], [0.9630289077758789, 0.03697105869650841, 0.0, 0.0, 0.0, 0.0, 0.0, 0.0, 0.0, 0.0, 0.0, 0.0, 0.0, 0.0, 0.0, 0.0, 0.0, 0.0, 0.0, 0.0, 0.0, 0.0, 0.0, 0.0, 0.0, 0.0, 0.0, 0.0, 0.0, 0.0, 0.0, 0.0], [0.6484465003013611, 0.26222673058509827, 0.08932673931121826, 0.0, 0.0, 0.0, 0.0, 0.0, 0.0, 0.0, 0.0, 0.0, 0.0, 0.0, 0.0, 0.0, 0.0, 0.0, 0.0, 0.0, 0.0, 0.0, 0.0, 0.0, 0.0, 0.0, 0.0, 0.0, 0.0, 0.0, 0.0, 0.0], [0.4859672784805298, 0.2609191834926605, 0.14470307528972626, 0.10841048508882523, 0.0, 0.0, 0.0, 0.0, 0.0, 0.0, 0.0, 0.0, 0.0, 0.0, 0.0, 0.0, 0.0, 0.0, 0.0, 0.0, 0.0, 0.0, 0.0, 0.0, 0.0, 0.0, 0.0, 0.0, 0.0, 0.0, 0.0, 0.0], [0.2520214915275574, 0.19155357778072357, 0.29108455777168274, 0.18232759833335876, 0.08301286399364471, 0.0, 0.0, 0.0, 0.0, 0.0, 0.0, 0.0, 0.0, 0.0, 0.0, 0.0, 0.0, 0.0, 0.0, 0.0, 0.0, 0.0, 0.0, 0.0, 0.0, 0.0, 0.0, 0.0, 0.0, 0.0, 0.0, 0.0], [0.22716784477233887, 0.08780025690793991, 0.14030791819095612, 0.2384016066789627, 0.2533179223537445, 0.05300441384315491, 0.0, 0.0, 0.0, 0.0, 0.0, 0.0, 0.0, 0.0, 0.0, 0.0, 0.0, 0.0, 0.0, 0.0, 0.0, 0.0, 0.0, 0.0, 0.0, 0.0, 0.0, 0.0, 0.0, 0.0, 0.0, 0.0], [0.156474307179451, 0.026382096111774445, 0.07721013575792313, 0.17041698098182678, 0.3753643035888672, 0.12792913615703583, 0.06622301042079926, 0.0, 0.0, 0.0, 0.0, 0.0, 0.0, 0.0, 0.0, 0.0, 0.0, 0.0, 0.0, 0.0, 0.0, 0.0, 0.0, 0.0, 0.0, 0.0, 0.0, 0.0, 0.0, 0.0, 0.0, 0.0], [0.22356395423412323, 0.01624317653477192, 0.029891978949308395, 0.061248958110809326, 0.18187125027179718, 0.18408703804016113, 0.19151315093040466, 0.11158047616481781, 0.0, 0.0, 0.0, 0.0, 0.0, 0.0, 0.0, 0.0, 0.0, 0.0, 0.0, 0.0, 0.0, 0.0, 0.0, 0.0, 0.0, 0.0, 0.0, 0.0, 0.0, 0.0, 0.0, 0.0], [0.10669609159231186, 0.005925700068473816, 0.011317700147628784, 0.021654320880770683, 0.07326851040124893, 0.1128239706158638, 0.29741841554641724, 0.30077970027923584, 0.0701155811548233, 0.0, 0.0, 0.0, 0.0, 0.0, 0.0, 0.0, 0.0, 0.0, 0.0, 0.0, 0.0, 0.0, 0.0, 0.0, 0.0, 0.0, 0.0, 0.0, 0.0, 0.0, 0.0, 0.0], [0.15362033247947693, 0.004785281606018543, 0.005597688257694244, 0.007312803063541651, 0.028646869584918022, 0.05306422710418701, 0.15412652492523193, 0.31170347332954407, 0.19018596410751343, 0.09095680713653564, 0.0, 0.0, 0.0, 0.0, 0.0, 0.0, 0.0, 0.0, 0.0, 0.0, 0.0, 0.0, 0.0, 0.0, 0.0, 0.0, 0.0, 0.0, 0.0, 0.0, 0.0, 0.0], [0.12682773172855377, 0.0022533920127898455, 0.0013519570929929614, 0.003175253514200449, 0.00960343424230814, 0.015738796442747116, 0.058046117424964905, 0.17092116177082062, 0.2533191740512848, 0.2684045732021332, 0.09035833179950714, 0.0, 0.0, 0.0, 0.0, 0.0, 0.0, 0.0, 0.0, 0.0, 0.0, 0.0, 0.0, 0.0, 0.0, 0.0, 0.0, 0.0, 0.0, 0.0, 0.0, 0.0], [0.15279574692249298, 0.002299719024449587, 0.001001342199742794, 0.000366328313248232, 0.0052102189511060715, 0.009152662009000778, 0.016933312639594078, 0.033053845167160034, 0.13871753215789795, 0.32049888372421265, 0.26627370715141296, 0.05369679257273674, 0.0, 0.0, 0.0, 0.0, 0.0, 0.0, 0.0, 0.0, 0.0, 0.0, 0.0, 0.0, 0.0, 0.0, 0.0, 0.0, 0.0, 0.0, 0.0, 0.0], [0.14279280602931976, 0.005270665977150202, 0.0017375341849401593, 0.0007363430340774357, 0.00311500602401793, 0.004059418570250273, 0.009129997342824936, 0.020338138565421104, 0.04678438603878021, 0.17844434082508087, 0.40441441535949707, 0.15378320217132568, 0.029393736273050308, 0.0, 0.0, 0.0, 0.0, 0.0, 0.0, 0.0, 0.0, 0.0, 0.0, 0.0, 0.0, 0.0, 0.0, 0.0, 0.0, 0.0, 0.0, 0.0], [0.09386653453111649, 0.010687804780900478, 0.005217975936830044, 0.001757315592840314, 0.0021077794954180717, 0.0026910207234323025, 0.006660644896328449, 0.013352891430258751, 0.016696829348802567, 0.058650217950344086, 0.25057053565979004, 0.40974804759025574, 0.07291004806756973, 0.05508235841989517, 0.0, 0.0, 0.0, 0.0, 0.0, 0.0, 0.0, 0.0, 0.0, 0.0, 0.0, 0.0, 0.0, 0.0, 0.0, 0.0, 0.0, 0.0], [0.11395493894815445, 0.010473336093127728, 0.004927822854369879, 0.002258759457617998, 0.002246342832222581, 0.001128003466874361, 0.0031178162898868322, 0.01365007646381855, 0.012686062604188919, 0.02956468239426613, 0.11971674859523773, 0.24043682217597961, 0.1260005086660385, 0.23571671545505524, 0.08412127941846848, 0.0, 0.0, 0.0, 0.0, 0.0, 0.0, 0.0, 0.0, 0.0, 0.0, 0.0, 0.0, 0.0, 0.0, 0.0, 0.0, 0.0], [0.13812854886054993, 0.014267577789723873, 0.004612780176103115, 0.0027705451939255, 0.002928121481090784, 0.0008828568970784545, 0.0013943397207185626, 0.008660249412059784, 0.015091318637132645, 0.02292807400226593, 0.04161140322685242, 0.02986278012394905, 0.09508775919675827, 0.34808850288391113, 0.2340160608291626, 0.03966906666755676, 0.0, 0.0, 0.0, 0.0, 0.0, 0.0, 0.0, 0.0, 0.0, 0.0, 0.0, 0.0, 0.0, 0.0, 0.0, 0.0], [0.13450992107391357, 0.008774787187576294, 0.0025889838580042124, 0.0024423685390502214, 0.003923580050468445, 0.0013999778311699629, 0.0010607591830193996, 0.0038814502768218517, 0.008313855156302452, 0.02129638008773327, 0.03681299090385437, 0.02508523501455784, 0.030589018017053604, 0.20278331637382507, 0.33164238929748535, 0.12442728132009506, 0.060467712581157684, 0.0, 0.0, 0.0, 0.0, 0.0, 0.0, 0.0, 0.0, 0.0, 0.0, 0.0, 0.0, 0.0, 0.0, 0.0], [0.1755414605140686, 0.011392035521566868, 0.004289790987968445, 0.0006763191777281463, 0.005164984613656998, 0.001452895114198327, 0.0008428358123637736, 0.0016015039291232824, 0.006013279780745506, 0.02118672803044319, 0.04968728497624397, 0.015421554446220398, 0.035176534205675125, 0.07387852668762207, 0.3274727761745453, 0.15719468891620636, 0.08656870573759079, 0.02643810212612152, 0.0, 0.0, 0.0, 0.0, 0.0, 0.0, 0.0, 0.0, 0.0, 0.0, 0.0, 0.0, 0.0, 0.0], [0.11316259950399399, 0.016760630533099174, 0.004126291256397963, 0.001299911760725081, 0.0044384123757481575, 0.0023189682979136705, 0.00172479881439358, 0.0019663905259221792, 0.006339324172586203, 0.019604161381721497, 0.02525741420686245, 0.022328779101371765, 0.010294794104993343, 0.03060774691402912, 0.12315433472394943, 0.08820173144340515, 0.1530277580022812, 0.2259848713874817, 0.14940111339092255, 0.0, 0.0, 0.0, 0.0, 0.0, 0.0, 0.0, 0.0, 0.0, 0.0, 0.0, 0.0, 0.0], [0.10660456120967865, 0.01483238860964775, 0.006914153229445219, 0.004290631506592035, 0.0048501272685825825, 0.006166850682348013, 0.004036235623061657, 0.0036178044974803925, 0.00326498388312757, 0.007146846037358046, 0.01300541590899229, 0.009438966400921345, 0.005822495091706514, 0.011776731349527836, 0.052576325833797455, 0.04913349449634552, 0.0934906005859375, 0.18608705699443817, 0.3409808576107025, 0.07596345990896225, 0.0, 0.0, 0.0, 0.0, 0.0, 0.0, 0.0, 0.0, 0.0, 0.0, 0.0, 0.0], [0.06683408468961716, 0.010644347406923771, 0.007929199375212193, 0.004665889777243137, 0.005468932446092367, 0.005976477637887001, 0.004748295061290264, 0.0024338189978152514, 0.001565166050568223, 0.0036973729729652405, 0.004591156262904406, 0.009870188310742378, 0.002682003891095519, 0.003332053078338504, 0.0037469533272087574, 0.009282717481255531, 0.031111998483538628, 0.15310612320899963, 0.3687170445919037, 0.19851122796535492, 0.10108494013547897, 0.0, 0.0, 0.0, 0.0, 0.0, 0.0, 0.0, 0.0, 0.0, 0.0, 0.0], [0.0700574591755867, 0.006617395672947168, 0.0022492490243166685, 0.0013649374013766646, 0.0029126412700861692, 0.004045313689857721, 0.004535114858299494, 0.008530102670192719, 0.0037315937224775553, 0.0029997096862643957, 0.0029064202681183815, 0.004566718824207783, 0.003461850108578801, 0.0027651176787912846, 0.003475382924079895, 0.0027448765467852354, 0.00768066244199872, 0.03528790920972824, 0.16689293086528778, 0.2658882141113281, 0.32861271500587463, 0.06867370009422302, 0.0, 0.0, 0.0, 0.0, 0.0, 0.0, 0.0, 0.0, 0.0, 0.0], [0.1252107471227646, 0.007494612131267786, 0.0013946163235232234, 0.0014025684213265777, 0.001293595996685326, 0.0015358272939920425, 0.003295827191323042, 0.007086035329848528, 0.0037510667461901903, 0.0023036969359964132, 0.001479970058426261, 0.0008636558195576072, 0.0017112571513280272, 0.002392742084339261, 0.0023674946278333664, 0.0004517158668022603, 0.0011029167799279094, 0.003826790489256382, 0.034308820962905884, 0.09339511394500732, 0.2393295168876648, 0.38601750135421753, 0.07798386365175247, 0.0, 0.0, 0.0, 0.0, 0.0, 0.0, 0.0, 0.0, 0.0], [0.14930497109889984, 0.006213563494384289, 0.0014124372974038124, 0.0007688102778047323, 0.0011817944468930364, 0.0010648933239281178, 0.00206382991746068, 0.0068095652386546135, 0.007291989866644144, 0.005410423967987299, 0.0021769448649138212, 0.0016253766370937228, 0.0015731650637462735, 0.004053712822496891, 0.004084746818989515, 0.0017570104682818055, 0.0044777365401387215, 0.006858155131340027, 0.025224583223462105, 0.03838890790939331, 0.2533436715602875, 0.1792694479227066, 0.2071847766637802, 0.0884595587849617, 0.0, 0.0, 0.0, 0.0, 0.0, 0.0, 0.0, 0.0], [0.05844849720597267, 0.002436206443235278, 0.0006499398150481284, 0.00036705422098748386, 0.000678247248288244, 0.0008747430983930826, 0.0010133233154192567, 0.00239766133017838, 0.0020538661628961563, 0.0031155722681432962, 0.0010086202528327703, 0.0008568379562348127, 0.00026493449695408344, 0.0010095209581777453, 0.001908636768348515, 0.004252634476870298, 0.009456050582230091, 0.01505126804113388, 0.015919154509902, 0.013864846900105476, 0.06958222389221191, 0.09409937262535095, 0.3803521394729614, 0.26056432723999023, 0.059774335473775864, 0.0, 0.0, 0.0, 0.0, 0.0, 0.0, 0.0], [0.06788305193185806, 0.0026085826102644205, 0.0007690091733820736, 0.00018310148152522743, 0.00034371332731097937, 0.0009182145004160702, 0.0009599569602869451, 0.001222250866703689, 0.0015268201241269708, 0.002809789963066578, 0.0019152716267853975, 0.001091879210434854, 0.00023868160496931523, 0.00030699133640155196, 0.0010672644712030888, 0.0019996578339487314, 0.00452401302754879, 0.007956217043101788, 0.013592732138931751, 0.00687908660620451, 0.03455192968249321, 0.038905948400497437, 0.18855944275856018, 0.29090383648872375, 0.23458412289619446, 0.0936983972787857, 0.0, 0.0, 0.0, 0.0, 0.0, 0.0], [0.07136325538158417, 0.0032699955627322197, 0.001354209496639669, 0.0004969933070242405, 0.00027528678765520453, 0.0004026513488497585, 0.0006954365526326001, 0.0007133902981877327, 0.0005096566746942699, 0.0012978644808754325, 0.0015630052657797933, 0.0014252756955102086, 0.0002847239375114441, 0.00027503803721629083, 0.0005044275894761086, 0.0013057056348770857, 0.0026055590715259314, 0.004783293232321739, 0.017336469143629074, 0.006501265335828066, 0.013331756927073002, 0.008815686218440533, 0.060649335384368896, 0.16246214509010315, 0.29084014892578125, 0.2690775990486145, 0.07785987854003906, 0.0, 0.0, 0.0, 0.0, 0.0], [0.14248736202716827, 0.002048368100076914, 0.0011307207169011235, 0.0001416968007106334, 0.0002501515846233815, 0.00032290848321281374, 0.0007956501212902367, 0.0010126193519681692, 0.0007807275978848338, 0.0015047118067741394, 0.0029631382785737514, 0.004085696302354336, 0.0013023101491853595, 0.0008525060256943107, 0.001444344175979495, 0.0009844250744208694, 0.001282380078919232, 0.00259604980237782, 0.009873172268271446, 0.005387942306697369, 0.015199894085526466, 0.0120345838367939, 0.024219442158937454, 0.060783714056015015, 0.16184884309768677, 0.30928951501846313, 0.1835227757692337, 0.05185438692569733, 0.0, 0.0, 0.0, 0.0], [0.07708097994327545, 0.0007922338554635644, 0.00035489394213072956, 2.4387303710682318e-05, 0.00013770099030807614, 0.0001052173538482748, 0.0003131924895569682, 0.000517207954544574, 0.0007396406726911664, 0.002057090401649475, 0.0078038484789431095, 0.004002533853054047, 0.0037294519133865833, 0.0013084069360047579, 0.0015758186345919967, 0.0007378251175396144, 0.0007206674199551344, 0.0006580457556992769, 0.003646518336609006, 0.0024503872264176607, 0.0059777433052659035, 0.005123480223119259, 0.011488772928714752, 0.016087815165519714, 0.06573083251714706, 0.21933473646640778, 0.43437445163726807, 0.1184488981962204, 0.014677319675683975, 0.0, 0.0, 0.0], [0.058040641248226166, 0.0011781026842072606, 0.0004237583198118955, 8.700185571797192e-05, 0.0001522111997473985, 0.00012238028284627944, 0.00046141192433424294, 0.0008056342485360801, 0.0010681758867576718, 0.002926948480308056, 0.009381736628711224, 0.019020024687051773, 0.006304549518972635, 0.0038077414501458406, 0.002792431740090251, 0.0008809102582745254, 0.0014603018062189221, 0.0032390705309808254, 0.00607111444696784, 0.005030122119933367, 0.010231527499854565, 0.004932863637804985, 0.007830186747014523, 0.007075448054820299, 0.021956397220492363, 0.12574784457683563, 0.23944221436977386, 0.1744888871908188, 0.18203282356262207, 0.10300756245851517, 0.0, 0.0], [0.07714882493019104, 0.0013582343235611916, 0.0008400845690630376, 0.0006208003615029156, 0.0003732004261109978, 0.00039044691948220134, 0.0009939954616129398, 0.0030206164810806513, 0.0017512975027784705, 0.0022552222944796085, 0.0054944949224591255, 0.006989668123424053, 0.009075510315597057, 0.01055325847119093, 0.009873805567622185, 0.0009136110311374068, 0.0010227723978459835, 0.001477451529353857, 0.005860668141394854, 0.005447749979794025, 0.015630654990673065, 0.007421385496854782, 0.005612324457615614, 0.00377298123203218, 0.0036777853965759277, 0.024569539353251457, 0.0745164081454277, 0.10804939270019531, 0.17106032371520996, 0.3702259063720703, 0.0700015127658844, 0.0], [0.05390292406082153, 0.0016573163447901607, 0.001338047324679792, 0.001166379195638001, 0.0006868615746498108, 0.0003722447145264596, 0.000690353277605027, 0.0017082904232665896, 0.0013113014865666628, 0.0018355337670072913, 0.0019751894287765026, 0.005022707395255566, 0.004968851804733276, 0.01037337351590395, 0.0042564114555716515, 0.000700556964147836, 0.0006986688240431249, 0.0010450948029756546, 0.0028901409823447466, 0.005697093438357115, 0.012513142079114914, 0.006770461797714233, 0.006090263836085796, 0.0011770023265853524, 0.0011268456000834703, 0.013131167739629745, 0.029964923858642578, 0.06792816519737244, 0.15023024380207062, 0.3617247939109802, 0.17521411180496216, 0.07183154672384262]], [[1.0, 0.0, 0.0, 0.0, 0.0, 0.0, 0.0, 0.0, 0.0, 0.0, 0.0, 0.0, 0.0, 0.0, 0.0, 0.0, 0.0, 0.0, 0.0, 0.0, 0.0, 0.0, 0.0, 0.0, 0.0, 0.0, 0.0, 0.0, 0.0, 0.0, 0.0, 0.0], [0.7262797951698303, 0.2737202048301697, 0.0, 0.0, 0.0, 0.0, 0.0, 0.0, 0.0, 0.0, 0.0, 0.0, 0.0, 0.0, 0.0, 0.0, 0.0, 0.0, 0.0, 0.0, 0.0, 0.0, 0.0, 0.0, 0.0, 0.0, 0.0, 0.0, 0.0, 0.0, 0.0, 0.0], [0.6243202686309814, 0.03774435445666313, 0.33793535828590393, 0.0, 0.0, 0.0, 0.0, 0.0, 0.0, 0.0, 0.0, 0.0, 0.0, 0.0, 0.0, 0.0, 0.0, 0.0, 0.0, 0.0, 0.0, 0.0, 0.0, 0.0, 0.0, 0.0, 0.0, 0.0, 0.0, 0.0, 0.0, 0.0], [0.7881166934967041, 0.18725483119487762, 0.0005035580834373832, 0.02412485145032406, 0.0, 0.0, 0.0, 0.0, 0.0, 0.0, 0.0, 0.0, 0.0, 0.0, 0.0, 0.0, 0.0, 0.0, 0.0, 0.0, 0.0, 0.0, 0.0, 0.0, 0.0, 0.0, 0.0, 0.0, 0.0, 0.0, 0.0, 0.0], [0.34395134449005127, 0.008476478047668934, 0.5517817735671997, 0.02786167338490486, 0.0679287537932396, 0.0, 0.0, 0.0, 0.0, 0.0, 0.0, 0.0, 0.0, 0.0, 0.0, 0.0, 0.0, 0.0, 0.0, 0.0, 0.0, 0.0, 0.0, 0.0, 0.0, 0.0, 0.0, 0.0, 0.0, 0.0, 0.0, 0.0], [0.500754714012146, 0.4382714629173279, 0.0010861762566491961, 0.048543140292167664, 0.011293870396912098, 5.066109952167608e-05, 0.0, 0.0, 0.0, 0.0, 0.0, 0.0, 0.0, 0.0, 0.0, 0.0, 0.0, 0.0, 0.0, 0.0, 0.0, 0.0, 0.0, 0.0, 0.0, 0.0, 0.0, 0.0, 0.0, 0.0, 0.0, 0.0], [0.44678252935409546, 0.08610521256923676, 0.13386185467243195, 0.07884243875741959, 0.09555301070213318, 0.029473954811692238, 0.12938103079795837, 0.0, 0.0, 0.0, 0.0, 0.0, 0.0, 0.0, 0.0, 0.0, 0.0, 0.0, 0.0, 0.0, 0.0, 0.0, 0.0, 0.0, 0.0, 0.0, 0.0, 0.0, 0.0, 0.0, 0.0, 0.0], [0.5964308381080627, 0.0979156345129013, 0.06090095639228821, 0.0829208642244339, 0.06017705798149109, 0.0028137534391134977, 0.0521579347550869, 0.046682994812726974, 0.0, 0.0, 0.0, 0.0, 0.0, 0.0, 0.0, 0.0, 0.0, 0.0, 0.0, 0.0, 0.0, 0.0, 0.0, 0.0, 0.0, 0.0, 0.0, 0.0, 0.0, 0.0, 0.0, 0.0], [0.24143175780773163, 0.1028098538517952, 0.06954186409711838, 0.19907885789871216, 0.08703875541687012, 0.00042034481884911656, 0.08685482293367386, 0.11072801053524017, 0.10209576785564423, 0.0, 0.0, 0.0, 0.0, 0.0, 0.0, 0.0, 0.0, 0.0, 0.0, 0.0, 0.0, 0.0, 0.0, 0.0, 0.0, 0.0, 0.0, 0.0, 0.0, 0.0, 0.0, 0.0], [0.060056447982788086, 0.07231523841619492, 0.12193851172924042, 0.06697915494441986, 0.2042854130268097, 0.0003163318906445056, 0.1713898777961731, 0.06316766887903214, 0.18389107286930084, 0.055660270154476166, 0.0, 0.0, 0.0, 0.0, 0.0, 0.0, 0.0, 0.0, 0.0, 0.0, 0.0, 0.0, 0.0, 0.0, 0.0, 0.0, 0.0, 0.0, 0.0, 0.0, 0.0, 0.0], [0.05738436058163643, 0.04283633455634117, 0.1178131252527237, 0.050416428595781326, 0.14279145002365112, 0.0001521014200989157, 0.18529269099235535, 0.051876574754714966, 0.1470184475183487, 0.040418241173028946, 0.16400013864040375, 0.0, 0.0, 0.0, 0.0, 0.0, 0.0, 0.0, 0.0, 0.0, 0.0, 0.0, 0.0, 0.0, 0.0, 0.0, 0.0, 0.0, 0.0, 0.0, 0.0, 0.0], [0.3462904095649719, 0.18515078723430634, 0.046662211418151855, 0.10192839056253433, 0.08512603491544724, 0.004370737820863724, 0.04227113723754883, 0.04899550601840019, 0.03528633341193199, 0.01381260808557272, 0.03292767331004143, 0.05717812106013298, 0.0, 0.0, 0.0, 0.0, 0.0, 0.0, 0.0, 0.0, 0.0, 0.0, 0.0, 0.0, 0.0, 0.0, 0.0, 0.0, 0.0, 0.0, 0.0, 0.0], [0.47429773211479187, 0.10327190905809402, 0.028608271852135658, 0.03624134138226509, 0.03884075954556465, 0.02310316078364849, 0.041763242334127426, 0.03561661019921303, 0.0336906872689724, 0.022586967796087265, 0.03470556065440178, 0.07261254638433456, 0.05466129630804062, 0.0, 0.0, 0.0, 0.0, 0.0, 0.0, 0.0, 0.0, 0.0, 0.0, 0.0, 0.0, 0.0, 0.0, 0.0, 0.0, 0.0, 0.0, 0.0], [0.05332339555025101, 0.003716857172548771, 0.041283320635557175, 0.007212238386273384, 0.00769331818446517, 0.7737868428230286, 0.008713876828551292, 0.004678065422922373, 0.010056836530566216, 0.00948816817253828, 0.014593871310353279, 0.03034858964383602, 0.003993205260485411, 0.03111136704683304, 0.0, 0.0, 0.0, 0.0, 0.0, 0.0, 0.0, 0.0, 0.0, 0.0, 0.0, 0.0, 0.0, 0.0, 0.0, 0.0, 0.0, 0.0], [0.5500726699829102, 0.2710135877132416, 0.000947102380450815, 0.01428160909563303, 0.004426637198776007, 0.0004887741524726152, 0.003589038737118244, 0.011368953622877598, 0.0014864190015941858, 0.00045989928185008466, 0.0010320936562493443, 0.017330525442957878, 0.10636896640062332, 0.009525667876005173, 0.007608022540807724, 0.0, 0.0, 0.0, 0.0, 0.0, 0.0, 0.0, 0.0, 0.0, 0.0, 0.0, 0.0, 0.0, 0.0, 0.0, 0.0, 0.0], [0.4676104485988617, 0.19005873799324036, 0.004180938936769962, 0.028465410694479942, 0.015551608055830002, 0.0008451510220766068, 0.015834413468837738, 0.02746882662177086, 0.00783069059252739, 0.004195729736238718, 0.006356320809572935, 0.02576766349375248, 0.0642758384346962, 0.03934011235833168, 0.01319359615445137, 0.08902455866336823, 0.0, 0.0, 0.0, 0.0, 0.0, 0.0, 0.0, 0.0, 0.0, 0.0, 0.0, 0.0, 0.0, 0.0, 0.0, 0.0], [0.5127254128456116, 0.2990037798881531, 0.000620948791038245, 0.017206775024533272, 0.002635846845805645, 3.4963297366630286e-05, 0.0015966756036505103, 0.008279237896203995, 0.0016239057295024395, 0.0006617187173105776, 0.0011935976799577475, 0.007453919388353825, 0.03293324634432793, 0.0076937018893659115, 0.003398220520466566, 0.02959042228758335, 0.0733475387096405, 0.0, 0.0, 0.0, 0.0, 0.0, 0.0, 0.0, 0.0, 0.0, 0.0, 0.0, 0.0, 0.0, 0.0, 0.0], [0.19186735153198242, 0.1205357238650322, 0.023315250873565674, 0.048549849539995193, 0.044654399156570435, 0.0014008588623255491, 0.01793060079216957, 0.024552321061491966, 0.022172311320900917, 0.009059356525540352, 0.022309906780719757, 0.0380716510117054, 0.024083727970719337, 0.09685391187667847, 0.04526215046644211, 0.058680981397628784, 0.12018047273159027, 0.09051908552646637, 0.0, 0.0, 0.0, 0.0, 0.0, 0.0, 0.0, 0.0, 0.0, 0.0, 0.0, 0.0, 0.0, 0.0], [0.001136675477027893, 4.472723594517447e-05, 0.005014384631067514, 8.518634422216564e-05, 0.0007514915778301656, 0.9609103202819824, 0.00031538837356492877, 5.460240208776668e-05, 0.0007500931969843805, 0.0005347564583644271, 0.0013259719125926495, 0.0008721617050468922, 6.473216490121558e-05, 0.0017828879645094275, 0.014786990359425545, 0.00042574244434945285, 0.0001065057804225944, 5.1987222832394764e-05, 0.01098531112074852, 0.0, 0.0, 0.0, 0.0, 0.0, 0.0, 0.0, 0.0, 0.0, 0.0, 0.0, 0.0, 0.0], [0.5348114371299744, 0.11527962982654572, 0.0025817384012043476, 0.018661823123693466, 0.008799538016319275, 0.00015596312005072832, 0.007991642691195011, 0.012300879694521427, 0.004634740762412548, 0.0024634837172925472, 0.004414123948663473, 0.011383268982172012, 0.027068736031651497, 0.014778872951865196, 0.0060956114903092384, 0.03743286430835724, 0.06169026345014572, 0.040085408836603165, 0.005960565526038408, 0.08340934664011002, 0.0, 0.0, 0.0, 0.0, 0.0, 0.0, 0.0, 0.0, 0.0, 0.0, 0.0, 0.0], [0.02924678847193718, 0.011049233376979828, 0.09568184614181519, 0.008235710673034191, 0.03676838055253029, 0.008648013696074486, 0.03368047624826431, 0.005687202326953411, 0.023679034784436226, 0.007852029986679554, 0.02983185090124607, 0.06622064858675003, 0.003230928909033537, 0.11209344118833542, 0.05011039972305298, 0.048949968069791794, 0.018687088042497635, 0.015352532267570496, 0.10679977387189865, 0.010465653613209724, 0.2777290940284729, 0.0, 0.0, 0.0, 0.0, 0.0, 0.0, 0.0, 0.0, 0.0, 0.0, 0.0], [0.1322772204875946, 0.5847141146659851, 0.00016263245197478682, 0.007737837266176939, 0.003270057262852788, 1.6947213907769765e-06, 0.0013337379787117243, 0.006487662438303232, 0.000606801884714514, 0.00026192874065600336, 0.0005489986506290734, 0.004697632975876331, 0.03781058266758919, 0.002816079882904887, 0.0009404884767718613, 0.021408727392554283, 0.047045934945344925, 0.06255774199962616, 0.00024959066649898887, 0.08251599967479706, 0.002538783708587289, 1.5740186427137814e-05, 0.0, 0.0, 0.0, 0.0, 0.0, 0.0, 0.0, 0.0, 0.0, 0.0], [0.570652425289154, 0.14018234610557556, 0.0008976187673397362, 0.008566572330892086, 0.003952540922909975, 3.465590634732507e-05, 0.002874580677598715, 0.0057663400657474995, 0.0012607119278982282, 0.0006465798942372203, 0.0010918660555034876, 0.005542632658034563, 0.011667916551232338, 0.005219732876867056, 0.00255923462100327, 0.0258016437292099, 0.03315550461411476, 0.020353145897388458, 0.0014272964326664805, 0.04450172185897827, 0.006389004644006491, 0.0002063100109808147, 0.10724951326847076, 0.0, 0.0, 0.0, 0.0, 0.0, 0.0, 0.0, 0.0, 0.0], [0.2658799886703491, 0.043599456548690796, 0.029308373108506203, 0.02393113262951374, 0.027115652337670326, 0.0014875010820105672, 0.025390855967998505, 0.01589864306151867, 0.026818139478564262, 0.01252646092325449, 0.02846393547952175, 0.02326381206512451, 0.009855394251644611, 0.04605909809470177, 0.02038055844604969, 0.02972262166440487, 0.05310311168432236, 0.02903902716934681, 0.05268867686390877, 0.03711017966270447, 0.10407805442810059, 0.007745812181383371, 0.051351383328437805, 0.035182125866413116, 0.0, 0.0, 0.0, 0.0, 0.0, 0.0, 0.0, 0.0], [0.08782584965229034, 0.034867625683546066, 0.018426889553666115, 0.03660744056105614, 0.022484540939331055, 0.00013428878446575254, 0.021352939307689667, 0.02275049313902855, 0.02083108387887478, 0.007494282443076372, 0.01635582372546196, 0.03382737934589386, 0.010854294523596764, 0.04934043437242508, 0.014834781177341938, 0.04928472638130188, 0.14226390421390533, 0.07209528237581253, 0.02108004316687584, 0.04229094088077545, 0.0904390960931778, 0.000943817081861198, 0.08146405965089798, 0.05544907599687576, 0.04670093208551407, 0.0, 0.0, 0.0, 0.0, 0.0, 0.0, 0.0], [0.015973059460520744, 0.021971190348267555, 0.028836332261562347, 0.011708283796906471, 0.047791413962841034, 8.76753474585712e-05, 0.039176177233457565, 0.012179856188595295, 0.03567780181765556, 0.009965559467673302, 0.0345793180167675, 0.03705311194062233, 0.005625453311949968, 0.08656375110149384, 0.006681640166789293, 0.018074560910463333, 0.02047830820083618, 0.03716692700982094, 0.03812059387564659, 0.01814073510468006, 0.27749103307724, 0.0009870873764157295, 0.03856148570775986, 0.03336760401725769, 0.09723939746618271, 0.02650158293545246, 0.0, 0.0, 0.0, 0.0, 0.0, 0.0], [0.0168919637799263, 0.014804758131504059, 0.031188800930976868, 0.009538399055600166, 0.03186487779021263, 4.824628194910474e-05, 0.0412762276828289, 0.009786280803382397, 0.029414711520075798, 0.007253068964928389, 0.029773706570267677, 0.035337094217538834, 0.0038173850625753403, 0.08497932553291321, 0.004842149093747139, 0.023746611550450325, 0.01858392357826233, 0.028369711712002754, 0.03526787459850311, 0.011190766468644142, 0.2598247826099396, 0.0005221561877988279, 0.025057654827833176, 0.02894970402121544, 0.08998910337686539, 0.02071431465446949, 0.10696645826101303, 0.0, 0.0, 0.0, 0.0, 0.0], [0.1643781214952469, 0.06944897770881653, 0.013159763999283314, 0.016993774101138115, 0.015059210360050201, 0.0002949484915006906, 0.010212140157818794, 0.00889397133141756, 0.008873248472809792, 0.0026831775903701782, 0.007258674129843712, 0.02201532945036888, 0.006740684621036053, 0.0341557152569294, 0.012941725552082062, 0.03892633691430092, 0.05077493190765381, 0.0334431529045105, 0.014999426901340485, 0.04872678592801094, 0.06023833528161049, 0.003208924550563097, 0.18839611113071442, 0.032933205366134644, 0.031207365915179253, 0.009231251664459705, 0.027361078187823296, 0.0674435943365097, 0.0, 0.0, 0.0, 0.0], [0.08320283144712448, 0.04657655581831932, 0.008753237314522266, 0.015915468335151672, 0.015100485645234585, 0.0004368274239823222, 0.006747162435203791, 0.00823714304715395, 0.007661791518330574, 0.0026807300746440887, 0.006955951452255249, 0.012320250272750854, 0.0070314048789441586, 0.02907651476562023, 0.012185103259980679, 0.019895855337381363, 0.03775965794920921, 0.03353216126561165, 0.012310478836297989, 0.06976955384016037, 0.03819827362895012, 0.004995874594897032, 0.30192679166793823, 0.03009096346795559, 0.0282910093665123, 0.010186142288148403, 0.027175094932317734, 0.05491551384329796, 0.06807117164134979, 0.0, 0.0, 0.0], [0.00027196286828257143, 6.920956366229802e-06, 0.0012517768191173673, 1.6482266801176593e-05, 0.0001527258282294497, 0.25879010558128357, 7.659759285161272e-05, 1.1400786206650082e-05, 0.00017936374933924526, 0.00011548466136446223, 0.0003058768343180418, 0.0001831411791499704, 1.1521685337356757e-05, 0.00035247646155767143, 0.0027288959827274084, 8.175947732524946e-05, 1.864528348960448e-05, 1.0547854799369816e-05, 0.0025079818442463875, 4.1700750443851575e-05, 0.0007884218939580023, 0.7248872518539429, 0.0001004544974421151, 3.8004614907549694e-05, 0.0005628775106742978, 0.00026951171457767487, 0.0008328550611622632, 0.0009651654399931431, 2.245548603241332e-05, 0.004417649004608393, 0.0, 0.0], [0.4652591347694397, 0.05925243720412254, 0.001458154059946537, 0.008997895754873753, 0.004994913470000029, 7.954442844493315e-05, 0.005217340309172869, 0.006844513118267059, 0.0025939529296010733, 0.0011719802860170603, 0.0023213201202452183, 0.006311007775366306, 0.01425844430923462, 0.008029183372855186, 0.002458081813529134, 0.01892784982919693, 0.02525462582707405, 0.020414503291249275, 0.0028595183975994587, 0.04398209601640701, 0.010400112718343735, 0.0003928035730496049, 0.1116747036576271, 0.016194358468055725, 0.006093229167163372, 0.0032934739720076323, 0.006732534151524305, 0.015934579074382782, 0.04077586904168129, 0.005094799213111401, 0.0827270895242691, 0.0], [0.01979248598217964, 0.00364425266161561, 0.043523482978343964, 0.0027809517923742533, 0.016369817778468132, 0.004270749166607857, 0.016253381967544556, 0.002315076533704996, 0.010056262835860252, 0.002993563888594508, 0.011651970446109772, 0.02761715278029442, 0.0011691446416079998, 0.049348585307598114, 0.01654164120554924, 0.01688619889318943, 0.005180194973945618, 0.005198802798986435, 0.04053408280014992, 0.0035083522088825703, 0.12702351808547974, 0.029585707932710648, 0.011385396122932434, 0.007030512671917677, 0.0321364626288414, 0.008939006365835667, 0.04622313007712364, 0.09086762368679047, 0.01146294642239809, 0.0839398056268692, 0.00817975401878357, 0.24359005689620972]], [[1.0, 0.0, 0.0, 0.0, 0.0, 0.0, 0.0, 0.0, 0.0, 0.0, 0.0, 0.0, 0.0, 0.0, 0.0, 0.0, 0.0, 0.0, 0.0, 0.0, 0.0, 0.0, 0.0, 0.0, 0.0, 0.0, 0.0, 0.0, 0.0, 0.0, 0.0, 0.0], [0.6306540369987488, 0.36934593319892883, 0.0, 0.0, 0.0, 0.0, 0.0, 0.0, 0.0, 0.0, 0.0, 0.0, 0.0, 0.0, 0.0, 0.0, 0.0, 0.0, 0.0, 0.0, 0.0, 0.0, 0.0, 0.0, 0.0, 0.0, 0.0, 0.0, 0.0, 0.0, 0.0, 0.0], [0.8540881872177124, 0.09208796918392181, 0.05382382869720459, 0.0, 0.0, 0.0, 0.0, 0.0, 0.0, 0.0, 0.0, 0.0, 0.0, 0.0, 0.0, 0.0, 0.0, 0.0, 0.0, 0.0, 0.0, 0.0, 0.0, 0.0, 0.0, 0.0, 0.0, 0.0, 0.0, 0.0, 0.0, 0.0], [0.8603088855743408, 0.04775990918278694, 0.05647236853837967, 0.035458825528621674, 0.0, 0.0, 0.0, 0.0, 0.0, 0.0, 0.0, 0.0, 0.0, 0.0, 0.0, 0.0, 0.0, 0.0, 0.0, 0.0, 0.0, 0.0, 0.0, 0.0, 0.0, 0.0, 0.0, 0.0, 0.0, 0.0, 0.0, 0.0], [0.8325243592262268, 0.028114771470427513, 0.02703283168375492, 0.01567378081381321, 0.09665428102016449, 0.0, 0.0, 0.0, 0.0, 0.0, 0.0, 0.0, 0.0, 0.0, 0.0, 0.0, 0.0, 0.0, 0.0, 0.0, 0.0, 0.0, 0.0, 0.0, 0.0, 0.0, 0.0, 0.0, 0.0, 0.0, 0.0, 0.0], [0.8019688129425049, 0.010280164889991283, 0.03039022907614708, 0.02963274158537388, 0.1034049540758133, 0.024323083460330963, 0.0, 0.0, 0.0, 0.0, 0.0, 0.0, 0.0, 0.0, 0.0, 0.0, 0.0, 0.0, 0.0, 0.0, 0.0, 0.0, 0.0, 0.0, 0.0, 0.0, 0.0, 0.0, 0.0, 0.0, 0.0, 0.0], [0.7744814157485962, 0.047803014516830444, 0.03863869607448578, 0.031203364953398705, 0.02141769416630268, 0.03662082552909851, 0.04983498528599739, 0.0, 0.0, 0.0, 0.0, 0.0, 0.0, 0.0, 0.0, 0.0, 0.0, 0.0, 0.0, 0.0, 0.0, 0.0, 0.0, 0.0, 0.0, 0.0, 0.0, 0.0, 0.0, 0.0, 0.0, 0.0], [0.8699086308479309, 0.025609532371163368, 0.013338223099708557, 0.013096395879983902, 0.00639557559043169, 0.03268329054117203, 0.004355488810688257, 0.03461287170648575, 0.0, 0.0, 0.0, 0.0, 0.0, 0.0, 0.0, 0.0, 0.0, 0.0, 0.0, 0.0, 0.0, 0.0, 0.0, 0.0, 0.0, 0.0, 0.0, 0.0, 0.0, 0.0, 0.0, 0.0], [0.732620358467102, 0.010952700860798359, 0.013802009634673595, 0.009204281494021416, 0.031435612589120865, 0.03153984621167183, 0.02083556354045868, 0.013682151213288307, 0.1359274536371231, 0.0, 0.0, 0.0, 0.0, 0.0, 0.0, 0.0, 0.0, 0.0, 0.0, 0.0, 0.0, 0.0, 0.0, 0.0, 0.0, 0.0, 0.0, 0.0, 0.0, 0.0, 0.0, 0.0], [0.6469838619232178, 0.011533216573297977, 0.011730501428246498, 0.016059717163443565, 0.028917809948325157, 0.031151076778769493, 0.02551518753170967, 0.009233830496668816, 0.020365912467241287, 0.1985088288784027, 0.0, 0.0, 0.0, 0.0, 0.0, 0.0, 0.0, 0.0, 0.0, 0.0, 0.0, 0.0, 0.0, 0.0, 0.0, 0.0, 0.0, 0.0, 0.0, 0.0, 0.0, 0.0], [0.5850640535354614, 0.019476616755127907, 0.012117346748709679, 0.010004794225096703, 0.03809701278805733, 0.019742146134376526, 0.032711293548345566, 0.004719991702586412, 0.031111449003219604, 0.05979616194963455, 0.18715916574001312, 0.0, 0.0, 0.0, 0.0, 0.0, 0.0, 0.0, 0.0, 0.0, 0.0, 0.0, 0.0, 0.0, 0.0, 0.0, 0.0, 0.0, 0.0, 0.0, 0.0, 0.0], [0.4465358257293701, 0.04667295888066292, 0.05944381281733513, 0.02088983729481697, 0.06990338116884232, 0.016033422201871872, 0.11247505247592926, 0.012347369454801083, 0.03601408377289772, 0.04911920055747032, 0.061995651572942734, 0.06856931000947952, 0.0, 0.0, 0.0, 0.0, 0.0, 0.0, 0.0, 0.0, 0.0, 0.0, 0.0, 0.0, 0.0, 0.0, 0.0, 0.0, 0.0, 0.0, 0.0, 0.0], [0.5386838316917419, 0.049318309873342514, 0.04221873730421066, 0.023909563198685646, 0.046398669481277466, 0.026849109679460526, 0.06763652712106705, 0.013095694594085217, 0.032508306205272675, 0.02891874685883522, 0.04277076572179794, 0.06385141611099243, 0.023840181529521942, 0.0, 0.0, 0.0, 0.0, 0.0, 0.0, 0.0, 0.0, 0.0, 0.0, 0.0, 0.0, 0.0, 0.0, 0.0, 0.0, 0.0, 0.0, 0.0], [0.5528542995452881, 0.044402144849300385, 0.02374064177274704, 0.01746409386396408, 0.04140370339155197, 0.03191036731004715, 0.05740607902407646, 0.008456867188215256, 0.036294709891080856, 0.02746952697634697, 0.05832531675696373, 0.04376779496669769, 0.009243312291800976, 0.04726111888885498, 0.0, 0.0, 0.0, 0.0, 0.0, 0.0, 0.0, 0.0, 0.0, 0.0, 0.0, 0.0, 0.0, 0.0, 0.0, 0.0, 0.0, 0.0], [0.3900408148765564, 0.03728756681084633, 0.05579562485218048, 0.033262815326452255, 0.053610991686582565, 0.028353335335850716, 0.08016125857830048, 0.012584315612912178, 0.05685092508792877, 0.03192014619708061, 0.055486712604761124, 0.06643129140138626, 0.01901472732424736, 0.05307665467262268, 0.02612280286848545, 0.0, 0.0, 0.0, 0.0, 0.0, 0.0, 0.0, 0.0, 0.0, 0.0, 0.0, 0.0, 0.0, 0.0, 0.0, 0.0, 0.0], [0.45806217193603516, 0.07956808060407639, 0.04989555478096008, 0.01716085895895958, 0.033789850771427155, 0.019735505804419518, 0.06142601743340492, 0.01111995056271553, 0.035352665930986404, 0.02410082332789898, 0.03483051806688309, 0.06331969052553177, 0.01814705692231655, 0.0425756499171257, 0.01788221299648285, 0.033033404499292374, 0.0, 0.0, 0.0, 0.0, 0.0, 0.0, 0.0, 0.0, 0.0, 0.0, 0.0, 0.0, 0.0, 0.0, 0.0, 0.0], [0.37962132692337036, 0.041012946516275406, 0.0407678559422493, 0.020314859226346016, 0.05459616705775261, 0.022014064714312553, 0.05762864276766777, 0.014587108977138996, 0.054646700620651245, 0.06380869448184967, 0.07808718085289001, 0.058630410581827164, 0.016350800171494484, 0.04375273361802101, 0.013288922607898712, 0.01840870827436447, 0.02248281240463257, 0.0, 0.0, 0.0, 0.0, 0.0, 0.0, 0.0, 0.0, 0.0, 0.0, 0.0, 0.0, 0.0, 0.0, 0.0], [0.35943037271499634, 0.04514352232217789, 0.04710540920495987, 0.014627178199589252, 0.05050130933523178, 0.011822500266134739, 0.0884968712925911, 0.00936858355998993, 0.03205807879567146, 0.044747188687324524, 0.07776892930269241, 0.06533300131559372, 0.017667628824710846, 0.06028785929083824, 0.009546731598675251, 0.02796187438070774, 0.012707366608083248, 0.025425581261515617, 0.0, 0.0, 0.0, 0.0, 0.0, 0.0, 0.0, 0.0, 0.0, 0.0, 0.0, 0.0, 0.0, 0.0], [0.446439266204834, 0.040994301438331604, 0.026916172355413437, 0.01942998729646206, 0.03192155808210373, 0.02030125819146633, 0.036175936460494995, 0.008117091841995716, 0.018082832917571068, 0.048929065465927124, 0.0436752624809742, 0.04811614006757736, 0.012889665551483631, 0.028488213196396828, 0.012631391175091267, 0.017041021957993507, 0.013281646184623241, 0.01658122055232525, 0.10998789966106415, 0.0, 0.0, 0.0, 0.0, 0.0, 0.0, 0.0, 0.0, 0.0, 0.0, 0.0, 0.0, 0.0], [0.40306615829467773, 0.02281099371612072, 0.025901667773723602, 0.01751609705388546, 0.036040227860212326, 0.018132256343960762, 0.03344681113958359, 0.010914494283497334, 0.019132457673549652, 0.06602068990468979, 0.040669191628694534, 0.041190315037965775, 0.012773893773555756, 0.0225746538490057, 0.014476644806563854, 0.017876269295811653, 0.01561644021421671, 0.013942921534180641, 0.09775613248348236, 0.07014169543981552, 0.0, 0.0, 0.0, 0.0, 0.0, 0.0, 0.0, 0.0, 0.0, 0.0, 0.0, 0.0], [0.48848578333854675, 0.004439943004399538, 0.012058841064572334, 0.023788023740053177, 0.0193130224943161, 0.02336200699210167, 0.028579704463481903, 0.004186632111668587, 0.014734107069671154, 0.006756688468158245, 0.016055913642048836, 0.023046350106596947, 0.009530525654554367, 0.013574063777923584, 0.008370581082999706, 0.01008277665823698, 0.024360109120607376, 0.008839709684252739, 0.02808315120637417, 0.016472266986966133, 0.21587981283664703, 0.0, 0.0, 0.0, 0.0, 0.0, 0.0, 0.0, 0.0, 0.0, 0.0, 0.0], [0.30529165267944336, 0.008745350874960423, 0.019066477194428444, 0.03849319741129875, 0.02350977249443531, 0.032891664654016495, 0.049144305288791656, 0.006159528158605099, 0.009797845035791397, 0.014070696197450161, 0.010473130270838737, 0.0413290299475193, 0.004288006108254194, 0.01967884972691536, 0.015736160799860954, 0.012343534268438816, 0.04031131789088249, 0.014600160531699657, 0.05584832653403282, 0.026189642027020454, 0.0650041252374649, 0.1870271861553192, 0.0, 0.0, 0.0, 0.0, 0.0, 0.0, 0.0, 0.0, 0.0, 0.0], [0.4295268654823303, 0.01599801704287529, 0.017862197011709213, 0.016768120229244232, 0.029588472098112106, 0.021005094051361084, 0.026195654645562172, 0.010184010490775108, 0.016686944290995598, 0.0476086251437664, 0.032590124756097794, 0.026852091774344444, 0.011682146228849888, 0.014714210294187069, 0.012194652110338211, 0.015239049680531025, 0.013401376083493233, 0.011667598970234394, 0.05119889974594116, 0.06291526556015015, 0.03372674807906151, 0.00955186877399683, 0.07284197211265564, 0.0, 0.0, 0.0, 0.0, 0.0, 0.0, 0.0, 0.0, 0.0], [0.595731794834137, 0.018390202894806862, 0.013265627436339855, 0.013186276890337467, 0.007872078567743301, 0.029908139258623123, 0.00569515535607934, 0.0318770669400692, 0.026130035519599915, 0.010541421361267567, 0.005941734183579683, 0.027983805164694786, 0.009860266931355, 0.0028069468680769205, 0.016819698736071587, 0.008787965402007103, 0.03377829119563103, 0.02368512935936451, 0.012445694766938686, 0.020264673978090286, 0.012939807958900928, 0.015373094007372856, 0.02335963025689125, 0.033355388790369034, 0.0, 0.0, 0.0, 0.0, 0.0, 0.0, 0.0, 0.0], [0.44148603081703186, 0.007879975251853466, 0.013646339997649193, 0.008748366497457027, 0.03225615620613098, 0.0243795458227396, 0.023788701742887497, 0.010719187557697296, 0.11598490178585052, 0.01488968450576067, 0.04120325669646263, 0.02313283458352089, 0.0052324761636555195, 0.012904832139611244, 0.004046748857945204, 0.006055792327970266, 0.018288766965270042, 0.010246433317661285, 0.02225358411669731, 0.010083488188683987, 0.04004433751106262, 0.006686225533485413, 0.00949288159608841, 0.009214508347213268, 0.08733490854501724, 0.0, 0.0, 0.0, 0.0, 0.0, 0.0, 0.0], [0.29834941029548645, 0.008139964193105698, 0.009087898768484592, 0.012133735232055187, 0.0225002970546484, 0.019960999488830566, 0.020837342366576195, 0.0063400245271623135, 0.01330301258713007, 0.14503496885299683, 0.07632821053266525, 0.019351504743099213, 0.005207982379943132, 0.012967254966497421, 0.005185911897569895, 0.008273189887404442, 0.005326447542756796, 0.006506806239485741, 0.05179417505860329, 0.04039943963289261, 0.015315762721002102, 0.004545082803815603, 0.046652037650346756, 0.007166010793298483, 0.01162621658295393, 0.12766630947589874, 0.0, 0.0, 0.0, 0.0, 0.0, 0.0], [0.29298195242881775, 0.013590147718787193, 0.0099349869415164, 0.007342998869717121, 0.033911142498254776, 0.0127274040132761, 0.030869977548718452, 0.0032043596729636192, 0.022760853171348572, 0.04653920978307724, 0.16187143325805664, 0.015683291479945183, 0.005228978116065264, 0.02730594389140606, 0.0026606665924191475, 0.010068954899907112, 0.0026161139830946922, 0.0064879111014306545, 0.028869926929473877, 0.015979347750544548, 0.017955884337425232, 0.0027146744541823864, 0.01915849559009075, 0.003241466823965311, 0.019389774650335312, 0.04092474281787872, 0.1459793895483017, 0.0, 0.0, 0.0, 0.0, 0.0], [0.30912694334983826, 0.0427049845457077, 0.028328152373433113, 0.01713002845644951, 0.025276493281126022, 0.01530125830322504, 0.039951078593730927, 0.005559502635151148, 0.017748111858963966, 0.029524890705943108, 0.03713003918528557, 0.03883052617311478, 0.008919124491512775, 0.02788865938782692, 0.011695547960698605, 0.01866159401834011, 0.012734546326100826, 0.017034953460097313, 0.06649672985076904, 0.023617051541805267, 0.03076992556452751, 0.00936391856521368, 0.030394932255148888, 0.007604177109897137, 0.018941955640912056, 0.031055547297000885, 0.04294431209564209, 0.035265009850263596, 0.0, 0.0, 0.0, 0.0], [0.19271184504032135, 0.027603620663285255, 0.02962353453040123, 0.009687360376119614, 0.03560016676783562, 0.007674687542021275, 0.06534485518932343, 0.005921465344727039, 0.019527442753314972, 0.030531994998455048, 0.05314375087618828, 0.04005083814263344, 0.010095302946865559, 0.038966499269008636, 0.005564365070313215, 0.018122810870409012, 0.008938285522162914, 0.01628747023642063, 0.09309849888086319, 0.02340574748814106, 0.05375232547521591, 0.005074651911854744, 0.034903332591056824, 0.008948136121034622, 0.022027961909770966, 0.03480280935764313, 0.06245874613523483, 0.030410533770918846, 0.01572095789015293, 0.0, 0.0, 0.0], [0.25021883845329285, 0.025664418935775757, 0.016672395169734955, 0.01206174399703741, 0.02314954437315464, 0.01343061588704586, 0.026110725477337837, 0.005924750119447708, 0.012128599919378757, 0.034449078142642975, 0.03218813240528107, 0.03150378540158272, 0.008743253536522388, 0.01910809800028801, 0.007987070828676224, 0.012035057879984379, 0.009434148669242859, 0.012449574656784534, 0.08825267851352692, 0.029617344960570335, 0.03688951954245567, 0.008190326392650604, 0.04555586352944374, 0.008436216041445732, 0.013444924727082253, 0.04016836732625961, 0.038203995674848557, 0.021870780736207962, 0.01330944150686264, 0.10280071943998337, 0.0, 0.0], [0.24761757254600525, 0.013064669445157051, 0.01510166097432375, 0.009949020110070705, 0.022707680240273476, 0.01089649461209774, 0.023824501782655716, 0.0066335429437458515, 0.011856142431497574, 0.04144646227359772, 0.02627682313323021, 0.0259386096149683, 0.0073953839018940926, 0.014344272203743458, 0.007894139736890793, 0.010765952989459038, 0.009517134167253971, 0.009181155823171139, 0.07066693156957626, 0.048864588141441345, 0.032834526151418686, 0.005487432237714529, 0.05739539489150047, 0.010185187682509422, 0.013286782428622246, 0.05028736591339111, 0.03474598005414009, 0.01489318162202835, 0.009809576906263828, 0.08540629595518112, 0.05172543600201607, 0.0], [0.30539366602897644, 0.0028788787312805653, 0.0080955745652318, 0.01598685048520565, 0.013893160969018936, 0.01609068550169468, 0.022205401211977005, 0.003046213649213314, 0.01066350843757391, 0.005298781208693981, 0.01205712091177702, 0.016442695632576942, 0.007048749830573797, 0.010345080867409706, 0.005757072474807501, 0.007157303858548403, 0.016892366111278534, 0.006314561236649752, 0.02196018397808075, 0.014014750719070435, 0.17340543866157532, 0.008953304961323738, 0.021336618810892105, 0.004007350653409958, 0.011255134828388691, 0.006758708506822586, 0.01449198741465807, 0.015144326724112034, 0.006831921637058258, 0.02529161609709263, 0.014068817719817162, 0.17691215872764587]], [[1.0, 0.0, 0.0, 0.0, 0.0, 0.0, 0.0, 0.0, 0.0, 0.0, 0.0, 0.0, 0.0, 0.0, 0.0, 0.0, 0.0, 0.0, 0.0, 0.0, 0.0, 0.0, 0.0, 0.0, 0.0, 0.0, 0.0, 0.0, 0.0, 0.0, 0.0, 0.0], [0.9999022483825684, 9.77374947979115e-05, 0.0, 0.0, 0.0, 0.0, 0.0, 0.0, 0.0, 0.0, 0.0, 0.0, 0.0, 0.0, 0.0, 0.0, 0.0, 0.0, 0.0, 0.0, 0.0, 0.0, 0.0, 0.0, 0.0, 0.0, 0.0, 0.0, 0.0, 0.0, 0.0, 0.0], [9.872894588625059e-05, 0.9997879862785339, 0.00011330345296300948, 0.0, 0.0, 0.0, 0.0, 0.0, 0.0, 0.0, 0.0, 0.0, 0.0, 0.0, 0.0, 0.0, 0.0, 0.0, 0.0, 0.0, 0.0, 0.0, 0.0, 0.0, 0.0, 0.0, 0.0, 0.0, 0.0, 0.0, 0.0, 0.0], [4.048344521834224e-07, 0.0010697210673242807, 0.9982153177261353, 0.00071457534795627, 0.0, 0.0, 0.0, 0.0, 0.0, 0.0, 0.0, 0.0, 0.0, 0.0, 0.0, 0.0, 0.0, 0.0, 0.0, 0.0, 0.0, 0.0, 0.0, 0.0, 0.0, 0.0, 0.0, 0.0, 0.0, 0.0, 0.0, 0.0], [1.5805559083759135e-09, 5.183812845643843e-07, 0.00010473507427377626, 0.9998801946640015, 1.4598334018955939e-05, 0.0, 0.0, 0.0, 0.0, 0.0, 0.0, 0.0, 0.0, 0.0, 0.0, 0.0, 0.0, 0.0, 0.0, 0.0, 0.0, 0.0, 0.0, 0.0, 0.0, 0.0, 0.0, 0.0, 0.0, 0.0, 0.0, 0.0], [4.989332680338521e-08, 1.593032727953414e-08, 1.366954074910609e-05, 0.0003272733883932233, 0.9990684390068054, 0.000590552925132215, 0.0, 0.0, 0.0, 0.0, 0.0, 0.0, 0.0, 0.0, 0.0, 0.0, 0.0, 0.0, 0.0, 0.0, 0.0, 0.0, 0.0, 0.0, 0.0, 0.0, 0.0, 0.0, 0.0, 0.0, 0.0, 0.0], [2.696710225791321e-06, 6.02504579561014e-09, 5.230865185446021e-10, 2.924191733200132e-07, 3.758277671295218e-06, 0.999962568283081, 3.0691273423144594e-05, 0.0, 0.0, 0.0, 0.0, 0.0, 0.0, 0.0, 0.0, 0.0, 0.0, 0.0, 0.0, 0.0, 0.0, 0.0, 0.0, 0.0, 0.0, 0.0, 0.0, 0.0, 0.0, 0.0, 0.0, 0.0], [0.002619286300614476, 2.85642315356327e-10, 1.0469313416194836e-08, 6.079822756355213e-10, 1.990488453884609e-05, 0.0006511058891192079, 0.9966310858726501, 7.85759330028668e-05, 0.0, 0.0, 0.0, 0.0, 0.0, 0.0, 0.0, 0.0, 0.0, 0.0, 0.0, 0.0, 0.0, 0.0, 0.0, 0.0, 0.0, 0.0, 0.0, 0.0, 0.0, 0.0, 0.0, 0.0], [0.0003116843872703612, 1.4102945157176694e-12, 8.054608412536024e-14, 7.080708935847113e-11, 4.9755460196365675e-08, 1.3462204151437618e-05, 0.00454563507810235, 0.9950449466705322, 8.422604878433049e-05, 0.0, 0.0, 0.0, 0.0, 0.0, 0.0, 0.0, 0.0, 0.0, 0.0, 0.0, 0.0, 0.0, 0.0, 0.0, 0.0, 0.0, 0.0, 0.0, 0.0, 0.0, 0.0, 0.0], [9.29093403101433e-06, 4.12651206607717e-12, 5.103085177191914e-14, 2.569795721704682e-12, 1.001966865032955e-07, 7.223920306387299e-08, 1.3424591998045798e-06, 0.00033144818735308945, 0.9970366954803467, 0.002621107269078493, 0.0, 0.0, 0.0, 0.0, 0.0, 0.0, 0.0, 0.0, 0.0, 0.0, 0.0, 0.0, 0.0, 0.0, 0.0, 0.0, 0.0, 0.0, 0.0, 0.0, 0.0, 0.0], [6.782748096156865e-05, 2.598348869398137e-09, 1.1527554605825511e-16, 1.2377407908096373e-16, 4.964114090898501e-15, 1.1437134225800172e-11, 6.616049288282744e-12, 2.1983879605613765e-08, 0.00046370242489501834, 0.9983506202697754, 0.001117862295359373, 0.0, 0.0, 0.0, 0.0, 0.0, 0.0, 0.0, 0.0, 0.0, 0.0, 0.0, 0.0, 0.0, 0.0, 0.0, 0.0, 0.0, 0.0, 0.0, 0.0, 0.0], [1.0780469494875433e-07, 1.3138954334246389e-11, 6.259802443802834e-17, 2.5013476737431583e-22, 1.073206809569658e-19, 2.6936531151580957e-17, 1.3232187765746702e-14, 7.35349450873158e-15, 1.563907198187664e-10, 6.078350452298764e-06, 0.9999821186065674, 1.1727371202141512e-05, 0.0, 0.0, 0.0, 0.0, 0.0, 0.0, 0.0, 0.0, 0.0, 0.0, 0.0, 0.0, 0.0, 0.0, 0.0, 0.0, 0.0, 0.0, 0.0, 0.0], [2.5798872229643166e-05, 6.151802622866853e-09, 3.9838094032396826e-15, 7.916752806264726e-19, 7.203307201492267e-20, 6.834320910305107e-15, 1.3099216806741754e-13, 3.239531212728686e-11, 2.3827591375674695e-12, 1.2361050849563071e-08, 0.0001231889909831807, 0.9998494386672974, 1.5186168411673862e-06, 0.0, 0.0, 0.0, 0.0, 0.0, 0.0, 0.0, 0.0, 0.0, 0.0, 0.0, 0.0, 0.0, 0.0, 0.0, 0.0, 0.0, 0.0, 0.0], [1.8989054524354287e-06, 1.3062428472210286e-08, 1.888665786264898e-11, 6.971794696457659e-14, 3.202422593599763e-13, 1.2305204056227426e-13, 6.107697680945989e-11, 6.965539114389685e-07, 5.0855931021942524e-08, 1.3601435533416861e-09, 6.160741463645536e-07, 0.02438829094171524, 0.9755842685699463, 2.4161843612091616e-05, 0.0, 0.0, 0.0, 0.0, 0.0, 0.0, 0.0, 0.0, 0.0, 0.0, 0.0, 0.0, 0.0, 0.0, 0.0, 0.0, 0.0, 0.0], [7.723892705979729e-12, 9.744158604996223e-12, 1.586967048657767e-14, 2.8842474741018476e-13, 2.3911891889293047e-13, 4.419050824560082e-16, 6.833555430748805e-17, 1.3353591843401347e-10, 1.0710539122271712e-08, 1.1055033555251725e-09, 5.779530742877625e-10, 1.0325761934382172e-07, 0.0006785001023672521, 0.993886411190033, 0.005434913095086813, 0.0, 0.0, 0.0, 0.0, 0.0, 0.0, 0.0, 0.0, 0.0, 0.0, 0.0, 0.0, 0.0, 0.0, 0.0, 0.0, 0.0], [1.9553052550019302e-15, 1.3365125521060117e-13, 2.8457228062981222e-15, 4.141369072252889e-16, 1.0014221719459337e-16, 5.590805192790516e-19, 1.80188932154393e-22, 3.9421853766174034e-19, 2.955021644046596e-12, 2.6053539881054633e-10, 2.7249234119119947e-11, 8.459386077915021e-13, 2.154208614876113e-13, 4.777180038217921e-07, 0.9999988079071045, 7.443387630701181e-07, 0.0, 0.0, 0.0, 0.0, 0.0, 0.0, 0.0, 0.0, 0.0, 0.0, 0.0, 0.0, 0.0, 0.0, 0.0, 0.0], [7.240722778301123e-12, 1.3195046617842099e-11, 1.6235671729020358e-14, 1.4804226785151398e-17, 4.702425167668416e-16, 2.4235391390134767e-16, 1.5246496115349373e-19, 6.43922315058296e-19, 1.573235790773564e-12, 5.572501393658058e-08, 9.133334515354363e-07, 7.684666097906856e-11, 2.855883281596694e-12, 4.2578200520893006e-08, 0.005728865507990122, 0.9942699670791626, 8.66437517288432e-08, 0.0, 0.0, 0.0, 0.0, 0.0, 0.0, 0.0, 0.0, 0.0, 0.0, 0.0, 0.0, 0.0, 0.0, 0.0], [0.00017395133909303695, 3.329181907929524e-08, 1.3913742120258421e-12, 2.1491387499922993e-14, 4.664040963338334e-13, 7.416484648636867e-10, 1.7479665284647616e-11, 2.8336619162239174e-10, 2.3002832971741327e-09, 1.1064793170589837e-06, 8.324014743266162e-06, 8.84055509686732e-07, 6.343465308589202e-09, 3.2806038441357543e-10, 2.870693833756377e-07, 8.956946840044111e-05, 0.999312162399292, 0.0004137323412578553, 0.0, 0.0, 0.0, 0.0, 0.0, 0.0, 0.0, 0.0, 0.0, 0.0, 0.0, 0.0, 0.0, 0.0], [2.681437884233251e-11, 2.952226019203863e-08, 3.134154380793862e-14, 6.528198316184344e-19, 1.1968559001091013e-17, 1.931052875307247e-16, 8.563048478276317e-17, 3.125877794722444e-19, 4.7423326617571595e-17, 1.8900648461692843e-13, 4.743174741861367e-09, 6.163144439241819e-10, 6.394637965846661e-14, 4.13601602461754e-19, 6.518460630208084e-14, 1.348503975151516e-08, 4.523212555795908e-05, 0.999954342842102, 3.7520709383898065e-07, 0.0, 0.0, 0.0, 0.0, 0.0, 0.0, 0.0, 0.0, 0.0, 0.0, 0.0, 0.0, 0.0], [2.462520342305652e-06, 1.9982035581733726e-08, 9.277354058589982e-12, 2.5791213037321993e-14, 4.4578524086100885e-14, 4.072041592806386e-10, 1.0401014771677097e-10, 6.379680637935703e-12, 6.049397924457649e-15, 6.12619899470826e-14, 5.911516068324296e-12, 2.0255086496945296e-07, 1.8211132601919644e-09, 3.263677502774923e-16, 2.789857330597116e-16, 2.499890756641615e-13, 1.7129963453044184e-05, 0.0010494185844436288, 0.9976010918617249, 0.0013296527322381735, 0.0, 0.0, 0.0, 0.0, 0.0, 0.0, 0.0, 0.0, 0.0, 0.0, 0.0, 0.0], [7.643877324881032e-06, 1.1978998522288453e-11, 4.359575634521606e-12, 5.132954066129625e-13, 5.55659823708865e-11, 1.1279891687365762e-08, 1.0265003993481514e-06, 2.3321035769185983e-07, 2.2597600873863755e-12, 2.706355181530452e-15, 3.5747929689992236e-16, 5.268844735506484e-11, 1.568728896783611e-10, 9.042359409185802e-16, 1.8113654044944192e-19, 8.459863569842676e-19, 9.375785703369388e-10, 8.814361684983396e-09, 0.0006415258394554257, 0.9969577789306641, 0.0023917779326438904, 0.0, 0.0, 0.0, 0.0, 0.0, 0.0, 0.0, 0.0, 0.0, 0.0, 0.0], [1.9145478290738538e-05, 5.353607368616814e-14, 7.561028486358079e-16, 2.1758055494575275e-14, 1.4712442375497403e-10, 1.1055450999108984e-09, 2.3057300779782963e-07, 4.884868030785583e-05, 5.681645376398592e-08, 4.349352475396806e-12, 7.7042469346622045e-16, 1.866875388003078e-13, 7.5094805374043e-11, 1.0060834110259265e-11, 9.647568896921973e-15, 5.574129273000478e-17, 8.229915013369116e-12, 7.976429304383525e-13, 1.3455041525389788e-09, 0.00014610694779548794, 0.9997381567955017, 4.7434707084903494e-05, 0.0, 0.0, 0.0, 0.0, 0.0, 0.0, 0.0, 0.0, 0.0, 0.0], [9.511321877653245e-06, 9.305749530327811e-13, 4.496019782034794e-17, 5.432741739351402e-16, 2.206955016686215e-14, 5.213226768677193e-13, 3.6296581517290816e-13, 4.434876910153207e-09, 1.0825891294530265e-08, 2.300336143790105e-09, 2.1189626930265965e-13, 4.5074228095624835e-13, 7.409695079729772e-11, 5.6445141893846085e-09, 2.3313985408890403e-08, 7.935202495090721e-11, 3.584150753965787e-09, 5.135203785637532e-13, 7.198199284894069e-13, 8.739651363720569e-11, 0.00018987897783517838, 0.9932485818862915, 0.006552018225193024, 0.0, 0.0, 0.0, 0.0, 0.0, 0.0, 0.0, 0.0, 0.0], [1.4341651781088482e-12, 6.265678622642545e-13, 1.2663850628056135e-16, 6.829488126808215e-20, 1.6679036192996204e-18, 2.1302061782590757e-19, 3.5237900557107515e-20, 6.9971204986634735e-22, 8.517762470556297e-15, 3.364214289092171e-12, 8.271583938623817e-12, 6.373960515175644e-16, 1.0180421164239206e-17, 4.0465972451142126e-14, 1.1753370721123702e-08, 5.259923341327521e-07, 6.020917098226164e-11, 3.870856524201827e-09, 1.1557039293323842e-15, 1.8326732410316613e-17, 1.6138321148190249e-12, 2.3725114317585394e-07, 0.9999990463256836, 2.2959035561598284e-07, 0.0, 0.0, 0.0, 0.0, 0.0, 0.0, 0.0, 0.0], [3.252176083989866e-09, 6.209669009462487e-14, 1.7896440293496888e-21, 1.5594589902328651e-24, 4.708249101862484e-23, 3.801436304392078e-18, 9.141183702671472e-18, 1.7899541186818196e-18, 4.3040582830455706e-19, 5.049927422301308e-14, 5.9230443256498306e-15, 2.0978026665097052e-15, 9.640210366641897e-20, 6.00284071859389e-22, 2.8576337720218836e-18, 5.355505101889424e-12, 4.6161248157261525e-09, 3.711322221766622e-11, 2.6636358049780817e-12, 1.3516309721310106e-14, 7.022164533881936e-12, 1.6530057109775953e-05, 0.006070554722100496, 0.9934374690055847, 0.0004753320827148855, 0.0, 0.0, 0.0, 0.0, 0.0, 0.0, 0.0], [2.5747518006546954e-10, 2.5923185852701897e-14, 8.063206684680889e-20, 4.048719819523584e-26, 4.0651262158296763e-25, 4.209274548554089e-21, 1.7687148088884487e-18, 1.1778977605746955e-20, 3.144757521735306e-21, 2.6214915328801947e-17, 8.533075504871257e-13, 4.525993295423358e-12, 4.1652454751981094e-17, 2.682483327336238e-23, 6.047610152686992e-22, 5.713215206373627e-15, 6.638703042155525e-12, 1.4349585963913114e-09, 1.4116792457219418e-10, 1.2259454282086916e-14, 1.2016648899624682e-14, 4.945024424662936e-12, 3.7651496143098484e-08, 0.0001227343745995313, 0.999686598777771, 0.00019065354717895389, 0.0, 0.0, 0.0, 0.0, 0.0, 0.0], [1.9613498807302676e-06, 2.564223518849301e-13, 1.1703019548800771e-18, 2.1142385066653766e-21, 4.965881291632442e-23, 3.735962477366668e-18, 2.8346063458983568e-15, 4.3635719495192793e-13, 5.72188292099266e-18, 2.2610393091540874e-16, 1.6004394253212018e-15, 1.3048383706859568e-08, 7.495671292857831e-13, 2.360794561331961e-18, 1.9312650343550727e-22, 7.039509155088458e-19, 9.650256939039425e-13, 6.612207526304759e-13, 9.452975069379477e-10, 1.6520441958878251e-10, 1.4744962195667455e-10, 1.4621853727803114e-09, 3.734059589310945e-11, 1.960388772204169e-06, 0.00021305831614881754, 0.9997621178627014, 2.0863941244897433e-05, 0.0, 0.0, 0.0, 0.0, 0.0], [2.5587424540285397e-11, 5.126364098978009e-16, 5.658814302544007e-20, 1.9184558817407194e-24, 2.0264333086242442e-23, 1.9470483424656813e-23, 6.70984200882216e-19, 3.5303314155044573e-16, 2.145661510337231e-16, 5.17146066248542e-16, 4.7186064083826196e-11, 1.6586605700030788e-10, 1.0679749307129782e-09, 9.99666505580336e-15, 6.623463598910055e-16, 5.276154993557236e-16, 6.64674959342126e-16, 2.30191723565561e-14, 1.6867787641842535e-16, 6.1956445155482084e-15, 7.519077049357448e-13, 4.256558213538986e-12, 1.9614639079623686e-10, 1.4706449391610477e-09, 3.288279003754724e-06, 0.0001718864223221317, 0.9998146891593933, 1.0094610843225382e-05, 0.0, 0.0, 0.0, 0.0], [2.950632271847553e-08, 3.7049962266731944e-16, 1.1793034829398955e-20, 3.3738536338246417e-21, 2.317581831674327e-23, 1.4929653628998885e-19, 4.794141134190948e-18, 4.2470891387091925e-11, 3.2101998468335446e-13, 1.421451281333197e-12, 4.806191000739091e-10, 1.0689520877349423e-06, 6.435806199078797e-08, 3.753517496818404e-10, 9.020791112788334e-14, 1.0232790101168837e-15, 2.076203141701538e-12, 6.996971247331312e-17, 1.4191696862814185e-13, 1.1416296510566304e-13, 1.212921429960545e-10, 2.1050146348233767e-10, 1.6838628744391543e-13, 1.4358429722971522e-10, 3.2819541528894547e-10, 0.00013227570161689073, 0.00647558830678463, 0.9931134581565857, 0.00027750845765694976, 0.0, 0.0, 0.0], [7.499290901810673e-13, 2.27976456063992e-16, 1.6355547568917794e-19, 1.2262870993948374e-20, 4.398731430597737e-19, 7.231389821729729e-21, 9.97137574896256e-17, 8.262132297764957e-13, 4.4073864566632204e-13, 8.573009982782722e-16, 3.4475406470585446e-13, 1.5015871879242582e-09, 2.1350246015572338e-07, 1.0039721658194889e-11, 1.1332001146908272e-13, 1.8263062250616875e-19, 2.030929372972331e-14, 3.753219252316392e-14, 6.775492645703503e-18, 2.824427323966372e-12, 4.3412797662290004e-11, 1.1338097751249429e-13, 4.19692119870297e-16, 9.440163171995089e-18, 1.9158327520362714e-16, 6.019663933987118e-11, 2.2261369849729817e-06, 4.817082663066685e-05, 0.9999492168426514, 1.2032590746002825e-07, 0.0, 0.0], [2.1016059725820213e-10, 1.9517158470088217e-16, 1.3625470010435263e-18, 2.6779071564804425e-15, 1.3658120400855895e-15, 4.909836219638445e-15, 2.6298410013390764e-15, 1.217487355376079e-08, 1.0140401851543857e-09, 2.006488237279308e-13, 1.18243959787018e-16, 1.6361261304109753e-11, 1.0559737262383351e-07, 2.6175209200118843e-07, 1.862879628333758e-09, 9.37686462318554e-19, 2.9792174857743575e-14, 1.7302829636534693e-19, 1.0841573723835286e-16, 8.065175826179379e-15, 2.4182060798239036e-09, 3.4661393200074997e-10, 4.436377836408234e-15, 6.936771027583172e-16, 9.237050937136647e-20, 1.34121636323134e-13, 9.542820526842188e-12, 1.1478666237962898e-05, 9.598585165804252e-05, 0.999710738658905, 0.0001814673887565732, 0.0], [1.4147203577347632e-15, 3.073347172934381e-18, 1.8265113400042065e-19, 1.3110447426006985e-16, 7.231692017949359e-17, 1.918202372201149e-19, 5.751539956741494e-20, 2.7252251697711463e-14, 2.197908305009988e-12, 4.0953471252506025e-15, 4.976311327288655e-19, 1.7190343412985138e-17, 4.159185203276433e-13, 2.3202368026886688e-08, 2.696181944372711e-08, 1.107389487658354e-15, 8.137947788340006e-17, 2.1082171376867118e-22, 2.874727783305512e-23, 2.0013589684280756e-20, 4.900161409314907e-15, 4.727801483639382e-10, 3.553877569832664e-13, 4.102298850380172e-18, 6.633113255723721e-24, 4.0052476231904e-20, 5.4814136289291736e-15, 5.181383655461502e-10, 4.021241863938485e-07, 0.0005507205496542156, 0.9994055032730103, 4.334201003075577e-05]], [[1.0, 0.0, 0.0, 0.0, 0.0, 0.0, 0.0, 0.0, 0.0, 0.0, 0.0, 0.0, 0.0, 0.0, 0.0, 0.0, 0.0, 0.0, 0.0, 0.0, 0.0, 0.0, 0.0, 0.0, 0.0, 0.0, 0.0, 0.0, 0.0, 0.0, 0.0, 0.0], [0.9864429235458374, 0.013557118363678455, 0.0, 0.0, 0.0, 0.0, 0.0, 0.0, 0.0, 0.0, 0.0, 0.0, 0.0, 0.0, 0.0, 0.0, 0.0, 0.0, 0.0, 0.0, 0.0, 0.0, 0.0, 0.0, 0.0, 0.0, 0.0, 0.0, 0.0, 0.0, 0.0, 0.0], [0.6932665705680847, 0.04814426973462105, 0.2585891783237457, 0.0, 0.0, 0.0, 0.0, 0.0, 0.0, 0.0, 0.0, 0.0, 0.0, 0.0, 0.0, 0.0, 0.0, 0.0, 0.0, 0.0, 0.0, 0.0, 0.0, 0.0, 0.0, 0.0, 0.0, 0.0, 0.0, 0.0, 0.0, 0.0], [0.4540055990219116, 0.03676164522767067, 0.3720434904098511, 0.13718923926353455, 0.0, 0.0, 0.0, 0.0, 0.0, 0.0, 0.0, 0.0, 0.0, 0.0, 0.0, 0.0, 0.0, 0.0, 0.0, 0.0, 0.0, 0.0, 0.0, 0.0, 0.0, 0.0, 0.0, 0.0, 0.0, 0.0, 0.0, 0.0], [0.5257104635238647, 0.06767017394304276, 0.2517399489879608, 0.036224115639925, 0.11865521967411041, 0.0, 0.0, 0.0, 0.0, 0.0, 0.0, 0.0, 0.0, 0.0, 0.0, 0.0, 0.0, 0.0, 0.0, 0.0, 0.0, 0.0, 0.0, 0.0, 0.0, 0.0, 0.0, 0.0, 0.0, 0.0, 0.0, 0.0], [0.38353604078292847, 0.044768888503313065, 0.18124693632125854, 0.14318150281906128, 0.0282798632979393, 0.21898683905601501, 0.0, 0.0, 0.0, 0.0, 0.0, 0.0, 0.0, 0.0, 0.0, 0.0, 0.0, 0.0, 0.0, 0.0, 0.0, 0.0, 0.0, 0.0, 0.0, 0.0, 0.0, 0.0, 0.0, 0.0, 0.0, 0.0], [0.2603912651538849, 0.08713162690401077, 0.20899175107479095, 0.020466025918722153, 0.08692533522844315, 0.013148454949259758, 0.32294556498527527, 0.0, 0.0, 0.0, 0.0, 0.0, 0.0, 0.0, 0.0, 0.0, 0.0, 0.0, 0.0, 0.0, 0.0, 0.0, 0.0, 0.0, 0.0, 0.0, 0.0, 0.0, 0.0, 0.0, 0.0, 0.0], [0.5625491738319397, 0.02702305093407631, 0.15378256142139435, 0.03524041548371315, 0.09162644296884537, 0.02881401963531971, 0.06526563316583633, 0.035698775202035904, 0.0, 0.0, 0.0, 0.0, 0.0, 0.0, 0.0, 0.0, 0.0, 0.0, 0.0, 0.0, 0.0, 0.0, 0.0, 0.0, 0.0, 0.0, 0.0, 0.0, 0.0, 0.0, 0.0, 0.0], [0.47628891468048096, 0.02959274873137474, 0.1254315823316574, 0.017954010516405106, 0.08031824976205826, 0.008563177660107613, 0.1048727035522461, 0.04596252739429474, 0.11101614683866501, 0.0, 0.0, 0.0, 0.0, 0.0, 0.0, 0.0, 0.0, 0.0, 0.0, 0.0, 0.0, 0.0, 0.0, 0.0, 0.0, 0.0, 0.0, 0.0, 0.0, 0.0, 0.0, 0.0], [0.3227066993713379, 0.07701390236616135, 0.14857476949691772, 0.018309876322746277, 0.11650530993938446, 0.01406101230531931, 0.10782337933778763, 0.03130047023296356, 0.04833480343222618, 0.11536986380815506, 0.0, 0.0, 0.0, 0.0, 0.0, 0.0, 0.0, 0.0, 0.0, 0.0, 0.0, 0.0, 0.0, 0.0, 0.0, 0.0, 0.0, 0.0, 0.0, 0.0, 0.0, 0.0], [0.2624052166938782, 0.06456426531076431, 0.11347588896751404, 0.018990861251950264, 0.11403804272413254, 0.00808408111333847, 0.11866056174039841, 0.030233534052968025, 0.06739376485347748, 0.09739767014980316, 0.10475603491067886, 0.0, 0.0, 0.0, 0.0, 0.0, 0.0, 0.0, 0.0, 0.0, 0.0, 0.0, 0.0, 0.0, 0.0, 0.0, 0.0, 0.0, 0.0, 0.0, 0.0, 0.0], [0.17675229907035828, 0.06996671110391617, 0.14877504110336304, 0.011048625223338604, 0.08009698987007141, 0.007613474037498236, 0.14674799144268036, 0.04542120173573494, 0.050679899752140045, 0.08180398494005203, 0.14092287421226501, 0.040170881897211075, 0.0, 0.0, 0.0, 0.0, 0.0, 0.0, 0.0, 0.0, 0.0, 0.0, 0.0, 0.0, 0.0, 0.0, 0.0, 0.0, 0.0, 0.0, 0.0, 0.0], [0.22004976868629456, 0.07511274516582489, 0.13777026534080505, 0.06467264145612717, 0.036266129463911057, 0.06377287209033966, 0.08486118167638779, 0.0362081415951252, 0.037845030426979065, 0.08126276731491089, 0.07186424732208252, 0.06030568107962608, 0.030008472502231598, 0.0, 0.0, 0.0, 0.0, 0.0, 0.0, 0.0, 0.0, 0.0, 0.0, 0.0, 0.0, 0.0, 0.0, 0.0, 0.0, 0.0, 0.0, 0.0], [0.20109258592128754, 0.07750998437404633, 0.11608283966779709, 0.019471392035484314, 0.04841132089495659, 0.011089461855590343, 0.10988311469554901, 0.03220628947019577, 0.04921663925051689, 0.08177878707647324, 0.11760171502828598, 0.03205616772174835, 0.03387223929166794, 0.06972748041152954, 0.0, 0.0, 0.0, 0.0, 0.0, 0.0, 0.0, 0.0, 0.0, 0.0, 0.0, 0.0, 0.0, 0.0, 0.0, 0.0, 0.0, 0.0], [0.1961054801940918, 0.06936343759298325, 0.19385387003421783, 0.05784990265965462, 0.03738279640674591, 0.02159598469734192, 0.09016620367765427, 0.03094145655632019, 0.02692435309290886, 0.05017578974366188, 0.061629489064216614, 0.057894110679626465, 0.022618813440203667, 0.05566629767417908, 0.027832020074129105, 0.0, 0.0, 0.0, 0.0, 0.0, 0.0, 0.0, 0.0, 0.0, 0.0, 0.0, 0.0, 0.0, 0.0, 0.0, 0.0, 0.0], [0.14348441362380981, 0.055615611374378204, 0.16808360815048218, 0.01699148118495941, 0.057193074375391006, 0.007045775186270475, 0.1283654272556305, 0.03670866787433624, 0.041177306324243546, 0.06719505041837692, 0.113660529255867, 0.029704587534070015, 0.022304270416498184, 0.07414881139993668, 0.013303242623806, 0.02501811273396015, 0.0, 0.0, 0.0, 0.0, 0.0, 0.0, 0.0, 0.0, 0.0, 0.0, 0.0, 0.0, 0.0, 0.0, 0.0, 0.0], [0.16335207223892212, 0.02662372775375843, 0.13931196928024292, 0.03689618781208992, 0.0414382629096508, 0.019225765019655228, 0.06933411210775375, 0.028784146532416344, 0.03472895175218582, 0.0672135204076767, 0.08094464987516403, 0.05181717127561569, 0.03612436726689339, 0.07196194678544998, 0.026935234665870667, 0.045559339225292206, 0.05974859744310379, 0.0, 0.0, 0.0, 0.0, 0.0, 0.0, 0.0, 0.0, 0.0, 0.0, 0.0, 0.0, 0.0, 0.0, 0.0], [0.17068466544151306, 0.05327028036117554, 0.12035031616687775, 0.009055230766534805, 0.04602543264627457, 0.004124365746974945, 0.13424524664878845, 0.0310828760266304, 0.0384674072265625, 0.04889090359210968, 0.1267540454864502, 0.026239687576889992, 0.03334001451730728, 0.07500141113996506, 0.010175196453928947, 0.03944232687354088, 0.012160376645624638, 0.02069024182856083, 0.0, 0.0, 0.0, 0.0, 0.0, 0.0, 0.0, 0.0, 0.0, 0.0, 0.0, 0.0, 0.0, 0.0], [0.1114765927195549, 0.08385706692934036, 0.12246683984994888, 0.006554808467626572, 0.08895410597324371, 0.003319427603855729, 0.10796009749174118, 0.02158486470580101, 0.03675927221775055, 0.08469296246767044, 0.11272279918193817, 0.013300826773047447, 0.01655718684196472, 0.10776789486408234, 0.012521965429186821, 0.01656712219119072, 0.006462152116000652, 0.009245684370398521, 0.03722835332155228, 0.0, 0.0, 0.0, 0.0, 0.0, 0.0, 0.0, 0.0, 0.0, 0.0, 0.0, 0.0, 0.0], [0.1688547134399414, 0.02814408950507641, 0.03902265802025795, 0.07713567465543747, 0.016141312196850777, 0.07326286286115646, 0.027183333411812782, 0.015510178171098232, 0.01301689725369215, 0.03386832773685455, 0.01744113117456436, 0.07053643465042114, 0.021492592990398407, 0.03285786882042885, 0.05493832379579544, 0.02611931599676609, 0.18524739146232605, 0.02007163316011429, 0.024272438138723373, 0.054882876574993134, 0.0, 0.0, 0.0, 0.0, 0.0, 0.0, 0.0, 0.0, 0.0, 0.0, 0.0, 0.0], [0.1992167979478836, 0.06773128360509872, 0.05034429952502251, 0.027390338480472565, 0.02676335908472538, 0.010439128614962101, 0.04744327813386917, 0.013825846835970879, 0.024572229012846947, 0.02570328861474991, 0.03002149984240532, 0.0267739649862051, 0.049078840762376785, 0.05973566323518753, 0.01268499344587326, 0.04791676625609398, 0.015857776626944542, 0.02511558122932911, 0.02193078212440014, 0.10556669533252716, 0.11188752204179764, 0.0, 0.0, 0.0, 0.0, 0.0, 0.0, 0.0, 0.0, 0.0, 0.0, 0.0], [0.22959905862808228, 0.09463341534137726, 0.05633202940225601, 0.025144323706626892, 0.018681542947888374, 0.012124783359467983, 0.08328526467084885, 0.017437374219298363, 0.011240219697356224, 0.01875476725399494, 0.028419388458132744, 0.046763915568590164, 0.012378540821373463, 0.05419672280550003, 0.021862108260393143, 0.018737534061074257, 0.06825672835111618, 0.022332750260829926, 0.022501299157738686, 0.021873515099287033, 0.09952733665704727, 0.015917418524622917, 0.0, 0.0, 0.0, 0.0, 0.0, 0.0, 0.0, 0.0, 0.0, 0.0], [0.1981397122144699, 0.024620793759822845, 0.02841818518936634, 0.06909792125225067, 0.011291350238025188, 0.05748799815773964, 0.022028248757123947, 0.010018824599683285, 0.007852114737033844, 0.02050076238811016, 0.009874405339360237, 0.04826670140028, 0.011248530820012093, 0.02173794060945511, 0.034759946167469025, 0.01356527116149664, 0.1743457317352295, 0.014217482879757881, 0.01783832348883152, 0.03772890195250511, 0.025644568726420403, 0.054430149495601654, 0.08688610792160034, 0.0, 0.0, 0.0, 0.0, 0.0, 0.0, 0.0, 0.0, 0.0], [0.26294636726379395, 0.020447127521038055, 0.05616090074181557, 0.017244236543774605, 0.041196778416633606, 0.013625017367303371, 0.033105429261922836, 0.011808844283223152, 0.019780950620770454, 0.06013732776045799, 0.03234873712062836, 0.0216065663844347, 0.005978558678179979, 0.035740483552217484, 0.041433125734329224, 0.005220418330281973, 0.04951911047101021, 0.006033171433955431, 0.034257471561431885, 0.021108565852046013, 0.11910263448953629, 0.008471882902085781, 0.06276282668113708, 0.019963452592492104, 0.0, 0.0, 0.0, 0.0, 0.0, 0.0, 0.0, 0.0], [0.17333906888961792, 0.016314785927534103, 0.037123411893844604, 0.006377265322953463, 0.02797769382596016, 0.0029478459618985653, 0.04147832840681076, 0.013108423911035061, 0.02783951908349991, 0.030145982280373573, 0.04823403060436249, 0.011822393164038658, 0.030657559633255005, 0.046975720673799515, 0.005330656189471483, 0.030924923717975616, 0.005183592438697815, 0.018454302102327347, 0.03166115656495094, 0.07252264767885208, 0.1638694554567337, 0.004217382520437241, 0.061639219522476196, 0.02553844079375267, 0.06631629914045334, 0.0, 0.0, 0.0, 0.0, 0.0, 0.0, 0.0], [0.1283576339483261, 0.051345355808734894, 0.05667893961071968, 0.008157320320606232, 0.049662671983242035, 0.005948708392679691, 0.048825811594724655, 0.011930624023079872, 0.016516095027327538, 0.038300562649965286, 0.029287761077284813, 0.013750594109296799, 0.008026175200939178, 0.05220787227153778, 0.013756784610450268, 0.009534737095236778, 0.010350934229791164, 0.00844655092805624, 0.03328787907958031, 0.03016778640449047, 0.1625319868326187, 0.004088296554982662, 0.08209554851055145, 0.02190759964287281, 0.029183348640799522, 0.0756523609161377, 0.0, 0.0, 0.0, 0.0, 0.0, 0.0], [0.08656634390354156, 0.03996121510863304, 0.04190638288855553, 0.0063901636749506, 0.04248205944895744, 0.0024630262050777674, 0.050080977380275726, 0.010196034796535969, 0.02161257527768612, 0.028602086007595062, 0.030350366607308388, 0.009210264310240746, 0.01936609111726284, 0.055247992277145386, 0.005059989169239998, 0.018546272069215775, 0.0031208908185362816, 0.010272020474076271, 0.02483660727739334, 0.056281328201293945, 0.16837036609649658, 0.0021970109082758427, 0.08191744238138199, 0.02051388844847679, 0.04553013667464256, 0.05868395045399666, 0.06023450940847397, 0.0, 0.0, 0.0, 0.0, 0.0], [0.09728783369064331, 0.027997219935059547, 0.050385937094688416, 0.006201758980751038, 0.023937541991472244, 0.004429214168339968, 0.03190138563513756, 0.011736591346561909, 0.013147737830877304, 0.025891024619340897, 0.03417113423347473, 0.013945065438747406, 0.013462518341839314, 0.03217344358563423, 0.0067517198622226715, 0.028260890394449234, 0.014077229425311089, 0.016883525997400284, 0.028769174590706825, 0.0293576717376709, 0.13789772987365723, 0.005702557973563671, 0.04671406373381615, 0.030008917674422264, 0.03553398326039314, 0.06823142617940903, 0.0874154269695282, 0.0777273178100586, 0.0, 0.0, 0.0, 0.0], [0.09475021809339523, 0.03318088501691818, 0.06013134866952896, 0.003998760133981705, 0.021495308727025986, 0.0017634733812883496, 0.061440255492925644, 0.012486244551837444, 0.01633370667695999, 0.018936755135655403, 0.04739397391676903, 0.008978763595223427, 0.011170576326549053, 0.02798054739832878, 0.003395934123545885, 0.01639941893517971, 0.004938157740980387, 0.010658551007509232, 0.019355347380042076, 0.018569476902484894, 0.17681702971458435, 0.0012089560041204095, 0.0325605608522892, 0.028529446572065353, 0.043494660407304764, 0.046255629509687424, 0.11603017896413803, 0.047401297837495804, 0.014344535768032074, 0.0, 0.0, 0.0], [0.050916336476802826, 0.03828171640634537, 0.050986748188734055, 0.0024939945433288813, 0.033364471048116684, 0.0012441385770216584, 0.04271713271737099, 0.007899018935859203, 0.01448286883533001, 0.028668014332652092, 0.0403447225689888, 0.004131189081817865, 0.0051432945765554905, 0.032394565641880035, 0.003423644695430994, 0.006201684474945068, 0.0021858022082597017, 0.0042144013568758965, 0.01725628599524498, 0.014536459930241108, 0.22809307277202606, 0.0009028790518641472, 0.040362775325775146, 0.017812669277191162, 0.03692423552274704, 0.07920479774475098, 0.11579445749521255, 0.04535529762506485, 0.007293870206922293, 0.027369458228349686, 0.0, 0.0], [0.11539733409881592, 0.017443396151065826, 0.020543448626995087, 0.038111891597509384, 0.007379595190286636, 0.03693193197250366, 0.014465242624282837, 0.006886097136884928, 0.005741043947637081, 0.013316929340362549, 0.0069482638500630856, 0.028733856976032257, 0.007177260704338551, 0.011906110681593418, 0.01808653026819229, 0.009012067690491676, 0.07906247675418854, 0.009650588035583496, 0.013221904635429382, 0.026846474036574364, 0.01765168271958828, 0.04547642543911934, 0.06751082837581635, 0.01840907521545887, 0.016150329262018204, 0.03830099478363991, 0.01791759766638279, 0.209342822432518, 0.017260640859603882, 0.02019365131855011, 0.04492346569895744, 0.0], [0.14143727719783783, 0.04064704850316048, 0.026846669614315033, 0.013781012035906315, 0.012904707342386246, 0.005513711366802454, 0.024482782930135727, 0.006410000380128622, 0.011098791845142841, 0.011042213998734951, 0.012462199665606022, 0.01167117990553379, 0.0184852983802557, 0.02428670972585678, 0.004458203911781311, 0.018047142773866653, 0.00683160126209259, 0.01284869760274887, 0.012570463120937347, 0.05819728597998619, 0.05846184864640236, 0.005708005279302597, 0.06969871371984482, 0.014746480621397495, 0.031102346256375313, 0.029551468789577484, 0.030440300703048706, 0.0890190377831459, 0.02161189541220665, 0.018253855407238007, 0.07738970965147018, 0.0799933448433876]], [[1.0, 0.0, 0.0, 0.0, 0.0, 0.0, 0.0, 0.0, 0.0, 0.0, 0.0, 0.0, 0.0, 0.0, 0.0, 0.0, 0.0, 0.0, 0.0, 0.0, 0.0, 0.0, 0.0, 0.0, 0.0, 0.0, 0.0, 0.0, 0.0, 0.0, 0.0, 0.0], [0.7060514092445374, 0.29394859075546265, 0.0, 0.0, 0.0, 0.0, 0.0, 0.0, 0.0, 0.0, 0.0, 0.0, 0.0, 0.0, 0.0, 0.0, 0.0, 0.0, 0.0, 0.0, 0.0, 0.0, 0.0, 0.0, 0.0, 0.0, 0.0, 0.0, 0.0, 0.0, 0.0, 0.0], [0.5568602085113525, 0.118836410343647, 0.32430335879325867, 0.0, 0.0, 0.0, 0.0, 0.0, 0.0, 0.0, 0.0, 0.0, 0.0, 0.0, 0.0, 0.0, 0.0, 0.0, 0.0, 0.0, 0.0, 0.0, 0.0, 0.0, 0.0, 0.0, 0.0, 0.0, 0.0, 0.0, 0.0, 0.0], [0.34943562746047974, 0.09275222569704056, 0.3840201199054718, 0.17379193007946014, 0.0, 0.0, 0.0, 0.0, 0.0, 0.0, 0.0, 0.0, 0.0, 0.0, 0.0, 0.0, 0.0, 0.0, 0.0, 0.0, 0.0, 0.0, 0.0, 0.0, 0.0, 0.0, 0.0, 0.0, 0.0, 0.0, 0.0, 0.0], [0.26286780834198, 0.040258049964904785, 0.09161409735679626, 0.2180880904197693, 0.3871719241142273, 0.0, 0.0, 0.0, 0.0, 0.0, 0.0, 0.0, 0.0, 0.0, 0.0, 0.0, 0.0, 0.0, 0.0, 0.0, 0.0, 0.0, 0.0, 0.0, 0.0, 0.0, 0.0, 0.0, 0.0, 0.0, 0.0, 0.0], [0.27175837755203247, 0.023270033299922943, 0.007276346441358328, 0.24240314960479736, 0.010128088295459747, 0.4451639950275421, 0.0, 0.0, 0.0, 0.0, 0.0, 0.0, 0.0, 0.0, 0.0, 0.0, 0.0, 0.0, 0.0, 0.0, 0.0, 0.0, 0.0, 0.0, 0.0, 0.0, 0.0, 0.0, 0.0, 0.0, 0.0, 0.0], [0.44180479645729065, 0.030268752947449684, 0.030624790117144585, 0.020553236827254295, 0.06320973485708237, 0.24826067686080933, 0.16527792811393738, 0.0, 0.0, 0.0, 0.0, 0.0, 0.0, 0.0, 0.0, 0.0, 0.0, 0.0, 0.0, 0.0, 0.0, 0.0, 0.0, 0.0, 0.0, 0.0, 0.0, 0.0, 0.0, 0.0, 0.0, 0.0], [0.06718796491622925, 0.004876508843153715, 0.0037526164669543505, 0.004009191878139973, 0.02190260961651802, 0.024532977491617203, 0.06041831895709038, 0.8133198618888855, 0.0, 0.0, 0.0, 0.0, 0.0, 0.0, 0.0, 0.0, 0.0, 0.0, 0.0, 0.0, 0.0, 0.0, 0.0, 0.0, 0.0, 0.0, 0.0, 0.0, 0.0, 0.0, 0.0, 0.0], [0.11202437430620193, 0.00271191936917603, 0.000607713998761028, 0.001375502091832459, 0.016590671613812447, 0.0038639246486127377, 0.01914028823375702, 0.45320573449134827, 0.3904799222946167, 0.0, 0.0, 0.0, 0.0, 0.0, 0.0, 0.0, 0.0, 0.0, 0.0, 0.0, 0.0, 0.0, 0.0, 0.0, 0.0, 0.0, 0.0, 0.0, 0.0, 0.0, 0.0, 0.0], [0.15623195469379425, 0.0003554814320523292, 0.0002825242409016937, 0.0013615915086120367, 0.00499389274045825, 0.0008263858617283404, 0.008922015316784382, 0.07560272514820099, 0.282592236995697, 0.4688311815261841, 0.0, 0.0, 0.0, 0.0, 0.0, 0.0, 0.0, 0.0, 0.0, 0.0, 0.0, 0.0, 0.0, 0.0, 0.0, 0.0, 0.0, 0.0, 0.0, 0.0, 0.0, 0.0], [0.18052494525909424, 0.00022839083976577967, 6.163542275317013e-05, 9.781261178432032e-05, 0.0011448165168985724, 6.483591278083622e-05, 0.001337265013717115, 0.005540975835174322, 0.041691854596138, 0.4212063252925873, 0.3481011390686035, 0.0, 0.0, 0.0, 0.0, 0.0, 0.0, 0.0, 0.0, 0.0, 0.0, 0.0, 0.0, 0.0, 0.0, 0.0, 0.0, 0.0, 0.0, 0.0, 0.0, 0.0], [0.09753894060850143, 0.0018298303475603461, 0.000784360512625426, 0.0011752700665965676, 0.001184040680527687, 0.0012156721204519272, 0.004638357553631067, 0.006600358989089727, 0.0449528843164444, 0.14479097723960876, 0.3715797960758209, 0.32370951771736145, 0.0, 0.0, 0.0, 0.0, 0.0, 0.0, 0.0, 0.0, 0.0, 0.0, 0.0, 0.0, 0.0, 0.0, 0.0, 0.0, 0.0, 0.0, 0.0, 0.0], [0.05210811272263527, 0.016034968197345734, 0.00604037381708622, 0.0013133551692590117, 0.0003888465871568769, 0.002325231907889247, 0.00122908188495785, 0.0033728349953889847, 0.0030791806057095528, 0.02097638137638569, 0.06631278991699219, 0.7280611991882324, 0.09875772148370743, 0.0, 0.0, 0.0, 0.0, 0.0, 0.0, 0.0, 0.0, 0.0, 0.0, 0.0, 0.0, 0.0, 0.0, 0.0, 0.0, 0.0, 0.0, 0.0], [0.18879705667495728, 0.020189829170703888, 0.011581907980144024, 0.002673877403140068, 0.0011931753251701593, 0.0010240263072773814, 0.0007934250752441585, 0.005179734900593758, 0.009824208915233612, 0.05356130376458168, 0.12602636218070984, 0.16611099243164062, 0.1828577071428299, 0.2301863133907318, 0.0, 0.0, 0.0, 0.0, 0.0, 0.0, 0.0, 0.0, 0.0, 0.0, 0.0, 0.0, 0.0, 0.0, 0.0, 0.0, 0.0, 0.0], [0.09571777284145355, 0.002239953726530075, 0.0008804361568763852, 0.0007044946542009711, 0.006009039469063282, 0.0002898257807828486, 0.003188863629475236, 0.001857358729466796, 0.0055135078728199005, 0.003919322043657303, 0.029364783316850662, 0.041686464101076126, 0.13746190071105957, 0.6034212708473206, 0.06774502247571945, 0.0, 0.0, 0.0, 0.0, 0.0, 0.0, 0.0, 0.0, 0.0, 0.0, 0.0, 0.0, 0.0, 0.0, 0.0, 0.0, 0.0], [0.13390792906284332, 0.04627155885100365, 0.011575516313314438, 0.0016795606352388859, 0.001454157056286931, 0.0017703580670058727, 0.0002148206258425489, 0.0020810537971556187, 0.006531103979796171, 0.01759113371372223, 0.03424100577831268, 0.07332701236009598, 0.026629894971847534, 0.1533362716436386, 0.17717432975769043, 0.31221437454223633, 0.0, 0.0, 0.0, 0.0, 0.0, 0.0, 0.0, 0.0, 0.0, 0.0, 0.0, 0.0, 0.0, 0.0, 0.0, 0.0], [0.1173064261674881, 0.008373523131012917, 0.0004248850455041975, 0.0009386208257637918, 0.0009801199194043875, 0.0001988993026316166, 0.00045431501348502934, 0.00027261863579042256, 0.004993130452930927, 0.005239322315901518, 0.01120818592607975, 0.011329559609293938, 0.001962458249181509, 0.005820991471409798, 0.12020374089479446, 0.37007975578308105, 0.34021347761154175, 0.0, 0.0, 0.0, 0.0, 0.0, 0.0, 0.0, 0.0, 0.0, 0.0, 0.0, 0.0, 0.0, 0.0, 0.0], [0.2972158193588257, 0.06339291483163834, 0.0054608723148703575, 0.0025661096442490816, 0.002549398224800825, 0.0014433691976591945, 0.0003244226681999862, 0.001606387784704566, 0.007814770564436913, 0.01493994053453207, 0.02443726733326912, 0.010785636492073536, 0.001417257939465344, 0.01097005046904087, 0.007198459003120661, 0.07397150993347168, 0.27751845121383667, 0.19638735055923462, 0.0, 0.0, 0.0, 0.0, 0.0, 0.0, 0.0, 0.0, 0.0, 0.0, 0.0, 0.0, 0.0, 0.0], [0.11112624406814575, 0.007348845712840557, 0.0013165957061573863, 0.0003692918980959803, 0.0011843243846669793, 0.0012193811126053333, 0.0003732631739694625, 0.00046504949568770826, 0.0011867869179695845, 0.003950316458940506, 0.008803170174360275, 0.0024973852559924126, 0.0015908553032204509, 0.0014294455759227276, 0.001976453699171543, 0.009385809302330017, 0.1382886916399002, 0.1872289925813675, 0.5202591419219971, 0.0, 0.0, 0.0, 0.0, 0.0, 0.0, 0.0, 0.0, 0.0, 0.0, 0.0, 0.0, 0.0], [0.08141136914491653, 0.0028334520757198334, 0.004611976444721222, 0.0021039186976850033, 0.0013536317273974419, 0.0015595309669151902, 0.000639392645098269, 0.0006377581157721579, 0.0005068558384664357, 0.000797209853772074, 0.0011264579370617867, 0.003565235761925578, 0.000972164620179683, 0.002057499485090375, 0.00025365749024786055, 0.003456675913184881, 0.0271762702614069, 0.09475920349359512, 0.41487351059913635, 0.3553042411804199, 0.0, 0.0, 0.0, 0.0, 0.0, 0.0, 0.0, 0.0, 0.0, 0.0, 0.0, 0.0], [0.06984519958496094, 0.0002263905480504036, 0.0004652844800148159, 0.0014968204777687788, 0.0012346090516075492, 0.000316801480948925, 0.0012673764722421765, 0.0004608968738466501, 0.001385261188261211, 0.0014962867135182023, 0.0007563080871477723, 0.0003362330899108201, 0.0001984901464311406, 0.0006275643245317042, 0.0004432672285474837, 0.00027284823590889573, 0.004854788538068533, 0.008989560417830944, 0.16488875448703766, 0.11141705513000488, 0.6290201544761658, 0.0, 0.0, 0.0, 0.0, 0.0, 0.0, 0.0, 0.0, 0.0, 0.0, 0.0], [0.18229328095912933, 0.006018389482051134, 0.00036730480496771634, 0.00022754725068807602, 0.00017374558956362307, 0.001578166033141315, 0.00024646747624501586, 0.00461562117561698, 0.0025022621266543865, 0.0007619454408995807, 0.0002714433067012578, 0.0009161256020888686, 0.0003947292861994356, 0.0005968009936623275, 0.0008105686283670366, 0.0005118026747368276, 0.0019994208123534918, 0.006612221244722605, 0.007593858055770397, 0.03835473954677582, 0.22213637828826904, 0.5210171341896057, 0.0, 0.0, 0.0, 0.0, 0.0, 0.0, 0.0, 0.0, 0.0, 0.0], [0.05971347540616989, 0.0014310207916423678, 0.00038153326022438705, 0.00019011844415217638, 3.732282493729144e-05, 0.0002778619236778468, 3.913614636985585e-05, 0.0003315074718557298, 0.0003746054135262966, 0.0006653760792687535, 0.0002431828179396689, 0.00017910428869072348, 0.00022697370150126517, 0.0005877648363821208, 0.00036500580608844757, 0.0008370961295440793, 0.0009093857370316982, 0.000610071700066328, 0.0024225343950092793, 0.011974490247666836, 0.03357416018843651, 0.10185705870389938, 0.7827711701393127, 0.0, 0.0, 0.0, 0.0, 0.0, 0.0, 0.0, 0.0, 0.0], [0.029171235859394073, 0.0019688603933900595, 0.00015378737589344382, 3.463330722297542e-05, 8.490483014611527e-05, 3.2136562367668375e-05, 2.9362592613324523e-05, 0.0010386836947873235, 0.001011424814350903, 0.0017590912757441401, 0.0006994626019150019, 0.00017651896632742137, 4.9282098188996315e-05, 0.00015322520630434155, 0.0005536408862099051, 0.00044645078014582396, 0.003021383425220847, 0.0021918441634625196, 0.005625329911708832, 0.00875794980674982, 0.013600407168269157, 0.014700891450047493, 0.3850193917751312, 0.52972012758255, 0.0, 0.0, 0.0, 0.0, 0.0, 0.0, 0.0, 0.0], [0.02728697657585144, 0.0007356039131991565, 3.042571188416332e-05, 9.70529617916327e-06, 4.3562955397646874e-05, 9.192962352244649e-06, 1.36048065542127e-05, 0.00018084175826516002, 0.0001994987396756187, 0.0008053443161770701, 0.000593125238083303, 0.0001418176689185202, 2.66031547653256e-05, 2.435424357827287e-05, 0.00010812558321049437, 0.00014743667270522565, 0.0013446779921650887, 0.0011621381854638457, 0.00836217775940895, 0.010287625715136528, 0.004685382358729839, 0.0019188432488590479, 0.37037044763565063, 0.2836315929889679, 0.28788086771965027, 0.0, 0.0, 0.0, 0.0, 0.0, 0.0, 0.0], [0.08599141985177994, 0.00029423233354464173, 0.0001440127525711432, 9.634804882807657e-05, 5.463553316076286e-05, 8.549117410439067e-06, 6.979213503655046e-05, 0.0002419972006464377, 0.00022448193340096623, 0.000844446592964232, 0.0011631008237600327, 0.00011839016224257648, 6.931224197614938e-05, 9.00885570445098e-05, 2.439184572722297e-05, 5.5328717280644923e-05, 0.00017648882931098342, 0.00030227977549657226, 0.005974949337542057, 0.009507660754024982, 0.005147705785930157, 0.0014696256257593632, 0.02574766054749489, 0.06410857290029526, 0.25300610065460205, 0.5450683832168579, 0.0, 0.0, 0.0, 0.0, 0.0, 0.0], [0.10915282368659973, 0.0001155636491603218, 3.9872233173809946e-05, 2.0721772671095096e-05, 3.353015927132219e-05, 8.903178354557895e-07, 2.3222870368044823e-05, 8.557621913496405e-05, 9.94711444946006e-05, 0.00047536176862195134, 0.000943963008467108, 6.311372999334708e-05, 0.0001688371557975188, 0.00019282718130853027, 1.7152187865576707e-05, 1.8104661648976617e-05, 4.317709317547269e-05, 3.925530472770333e-05, 0.0016497207107022405, 0.004419156815856695, 0.0026800641790032387, 0.0001109256554627791, 0.005782446824014187, 0.005835282150655985, 0.04155554994940758, 0.5080136060714722, 0.318419873714447, 0.0, 0.0, 0.0, 0.0, 0.0], [0.02683851681649685, 0.0004604633431881666, 2.3009350115898997e-05, 6.1895407270640135e-06, 4.933546279062284e-06, 6.093906449677888e-06, 1.4222991012502462e-05, 3.676701453514397e-05, 0.00020823467639274895, 0.00045118099660612643, 0.0010609657038003206, 0.0005824950058013201, 0.0003502095059957355, 0.0005125736352056265, 7.118226494640112e-05, 0.00012263446114957333, 0.0002483260177541524, 0.00022670063481200486, 0.000582221255172044, 0.0007218616083264351, 0.002013044198974967, 0.0005432770703919232, 0.0038196153473109007, 0.0021483583841472864, 0.03048027493059635, 0.21217291057109833, 0.34751594066619873, 0.3687777519226074, 0.0, 0.0, 0.0, 0.0], [0.06541130691766739, 0.0019233225611969829, 0.0001903626398416236, 7.060644566081464e-05, 2.5914587240549736e-05, 1.0643970199453179e-05, 1.2894197425339371e-05, 0.00027379952371120453, 0.0010512005537748337, 0.0010832720436155796, 0.002883047563955188, 0.003031614003702998, 0.0006661064689978957, 0.0033526390325278044, 0.00034272889024578035, 0.00037378337583504617, 0.0006247944547794759, 0.00033755472395569086, 0.00252343388274312, 0.007595761213451624, 0.0031255874782800674, 0.00034435358247719705, 0.02266879566013813, 0.005831914022564888, 0.02897956594824791, 0.13731452822685242, 0.3432896137237549, 0.21988236904144287, 0.14677847921848297, 0.0, 0.0, 0.0], [0.0503208227455616, 0.000253962236456573, 6.578348984476179e-05, 2.5665940484032035e-05, 4.460363561520353e-05, 2.4909042622311972e-05, 3.214929165551439e-05, 0.00022855415591038764, 0.0007301752921193838, 0.0014918535016477108, 0.0039612166583538055, 0.0018014161614701152, 0.003728749928995967, 0.0034366974141448736, 0.0012170092668384314, 0.0003159529296681285, 0.0013895436422899365, 0.00065714301308617, 0.0016925401287153363, 0.0029703702311962843, 0.004428430926054716, 0.0009450450306758285, 0.0025645510759204626, 0.0010407567024230957, 0.0023948217276483774, 0.025276200845837593, 0.09405503422021866, 0.09777970612049103, 0.19443219900131226, 0.5026940703392029, 0.0, 0.0], [0.041694387793540955, 0.00012065217015333474, 0.00017833139281719923, 0.0001724572794046253, 8.57187042129226e-05, 4.516338594839908e-05, 3.470811134320684e-05, 0.00020729677635245025, 0.00048651208635419607, 0.0007474468438886106, 0.0008016288629733026, 0.0016522830119356513, 0.001189874717965722, 0.007467247545719147, 0.0007571848691441119, 0.0006430791108869016, 0.0008146557956933975, 0.0003780261904466897, 0.0006203629891388118, 0.0010123115498572588, 0.002518983790650964, 0.0013058772310614586, 0.004216959699988365, 0.00040514266584068537, 0.00028804634348489344, 0.001969340955838561, 0.006682097911834717, 0.015247995965182781, 0.08575807511806488, 0.4490167796611786, 0.3734813332557678, 0.0], [0.024944141507148743, 1.4513263522530906e-05, 3.692692189360969e-05, 0.0002650085953064263, 0.0002156630071112886, 2.0548104657791555e-05, 5.209065056988038e-05, 4.4159758544992656e-05, 0.0004648713511414826, 0.0009754501515999436, 0.0005997465341351926, 0.00014518530224449933, 0.00013075422612018883, 0.0014699824387207627, 0.002782819326967001, 0.000359768804628402, 0.000724094279576093, 0.00013491831487044692, 0.00032383008510805666, 0.0001221656275447458, 0.0021926918998360634, 0.000578440201934427, 0.0005595462862402201, 0.00012981516192667186, 0.0002200943126808852, 0.0008602884481661022, 0.002635866403579712, 0.0023538353852927685, 0.01294514536857605, 0.19534529745578766, 0.14899949729442596, 0.5993528962135315]], [[1.0, 0.0, 0.0, 0.0, 0.0, 0.0, 0.0, 0.0, 0.0, 0.0, 0.0, 0.0, 0.0, 0.0, 0.0, 0.0, 0.0, 0.0, 0.0, 0.0, 0.0, 0.0, 0.0, 0.0, 0.0, 0.0, 0.0, 0.0, 0.0, 0.0, 0.0, 0.0], [0.9308941960334778, 0.06910575926303864, 0.0, 0.0, 0.0, 0.0, 0.0, 0.0, 0.0, 0.0, 0.0, 0.0, 0.0, 0.0, 0.0, 0.0, 0.0, 0.0, 0.0, 0.0, 0.0, 0.0, 0.0, 0.0, 0.0, 0.0, 0.0, 0.0, 0.0, 0.0, 0.0, 0.0], [0.7291266918182373, 0.17664039134979248, 0.09423287212848663, 0.0, 0.0, 0.0, 0.0, 0.0, 0.0, 0.0, 0.0, 0.0, 0.0, 0.0, 0.0, 0.0, 0.0, 0.0, 0.0, 0.0, 0.0, 0.0, 0.0, 0.0, 0.0, 0.0, 0.0, 0.0, 0.0, 0.0, 0.0, 0.0], [0.4760091304779053, 0.20028643310070038, 0.1863606721162796, 0.13734368979930878, 0.0, 0.0, 0.0, 0.0, 0.0, 0.0, 0.0, 0.0, 0.0, 0.0, 0.0, 0.0, 0.0, 0.0, 0.0, 0.0, 0.0, 0.0, 0.0, 0.0, 0.0, 0.0, 0.0, 0.0, 0.0, 0.0, 0.0, 0.0], [0.4380289316177368, 0.20662522315979004, 0.13603882491588593, 0.18860922753810883, 0.030697835609316826, 0.0, 0.0, 0.0, 0.0, 0.0, 0.0, 0.0, 0.0, 0.0, 0.0, 0.0, 0.0, 0.0, 0.0, 0.0, 0.0, 0.0, 0.0, 0.0, 0.0, 0.0, 0.0, 0.0, 0.0, 0.0, 0.0, 0.0], [0.27557241916656494, 0.19002197682857513, 0.12586472928524017, 0.29585012793540955, 0.06861578673124313, 0.044074900448322296, 0.0, 0.0, 0.0, 0.0, 0.0, 0.0, 0.0, 0.0, 0.0, 0.0, 0.0, 0.0, 0.0, 0.0, 0.0, 0.0, 0.0, 0.0, 0.0, 0.0, 0.0, 0.0, 0.0, 0.0, 0.0, 0.0], [0.2978721857070923, 0.19770114123821259, 0.10871735215187073, 0.17392051219940186, 0.04657091572880745, 0.040499504655599594, 0.1347183734178543, 0.0, 0.0, 0.0, 0.0, 0.0, 0.0, 0.0, 0.0, 0.0, 0.0, 0.0, 0.0, 0.0, 0.0, 0.0, 0.0, 0.0, 0.0, 0.0, 0.0, 0.0, 0.0, 0.0, 0.0, 0.0], [0.32429492473602295, 0.09269097447395325, 0.14511562883853912, 0.17137238383293152, 0.058230746537446976, 0.07092472165822983, 0.09476396441459656, 0.04260671138763428, 0.0, 0.0, 0.0, 0.0, 0.0, 0.0, 0.0, 0.0, 0.0, 0.0, 0.0, 0.0, 0.0, 0.0, 0.0, 0.0, 0.0, 0.0, 0.0, 0.0, 0.0, 0.0, 0.0, 0.0], [0.27194151282310486, 0.06537703424692154, 0.11176838725805283, 0.15508213639259338, 0.06383444368839264, 0.11313193291425705, 0.10367461293935776, 0.0867021456360817, 0.028487853705883026, 0.0, 0.0, 0.0, 0.0, 0.0, 0.0, 0.0, 0.0, 0.0, 0.0, 0.0, 0.0, 0.0, 0.0, 0.0, 0.0, 0.0, 0.0, 0.0, 0.0, 0.0, 0.0, 0.0], [0.29717686772346497, 0.09799815714359283, 0.12230963259935379, 0.09821119159460068, 0.04713878780603409, 0.06814773380756378, 0.200306698679924, 0.030431373044848442, 0.012724699452519417, 0.0255548395216465, 0.0, 0.0, 0.0, 0.0, 0.0, 0.0, 0.0, 0.0, 0.0, 0.0, 0.0, 0.0, 0.0, 0.0, 0.0, 0.0, 0.0, 0.0, 0.0, 0.0, 0.0, 0.0], [0.2581551969051361, 0.05225589498877525, 0.09301789104938507, 0.10429447889328003, 0.05208553746342659, 0.07478717714548111, 0.23321488499641418, 0.04920230433344841, 0.016827091574668884, 0.04698849469423294, 0.019171012565493584, 0.0, 0.0, 0.0, 0.0, 0.0, 0.0, 0.0, 0.0, 0.0, 0.0, 0.0, 0.0, 0.0, 0.0, 0.0, 0.0, 0.0, 0.0, 0.0, 0.0, 0.0], [0.43001997470855713, 0.047741711139678955, 0.06690958142280579, 0.08895017951726913, 0.028712306171655655, 0.04544491693377495, 0.04439779743552208, 0.02000710368156433, 0.03068280965089798, 0.015131368301808834, 0.03546567261219025, 0.14653663337230682, 0.0, 0.0, 0.0, 0.0, 0.0, 0.0, 0.0, 0.0, 0.0, 0.0, 0.0, 0.0, 0.0, 0.0, 0.0, 0.0, 0.0, 0.0, 0.0, 0.0], [0.2807771861553192, 0.06472939252853394, 0.04417677968740463, 0.11800176650285721, 0.006198026705533266, 0.024750806391239166, 0.021241141483187675, 0.029236702248454094, 0.012233898974955082, 0.027993202209472656, 0.034851446747779846, 0.3257719874382019, 0.010037576779723167, 0.0, 0.0, 0.0, 0.0, 0.0, 0.0, 0.0, 0.0, 0.0, 0.0, 0.0, 0.0, 0.0, 0.0, 0.0, 0.0, 0.0, 0.0, 0.0], [0.22128362953662872, 0.059048380702733994, 0.018886666744947433, 0.054470036178827286, 0.006746693514287472, 0.018950534984469414, 0.019526422023773193, 0.014095136895775795, 0.011336815543472767, 0.012003688141703606, 0.01193149946630001, 0.23726895451545715, 0.20095939934253693, 0.11349210143089294, 0.0, 0.0, 0.0, 0.0, 0.0, 0.0, 0.0, 0.0, 0.0, 0.0, 0.0, 0.0, 0.0, 0.0, 0.0, 0.0, 0.0, 0.0], [0.1677073836326599, 0.01570705883204937, 0.023158125579357147, 0.03901822119951248, 0.006507283076643944, 0.017301281914114952, 0.018813923001289368, 0.00792220514267683, 0.006843670271337032, 0.021056510508060455, 0.06802228093147278, 0.28955721855163574, 0.09212905168533325, 0.07205652445554733, 0.1541992425918579, 0.0, 0.0, 0.0, 0.0, 0.0, 0.0, 0.0, 0.0, 0.0, 0.0, 0.0, 0.0, 0.0, 0.0, 0.0, 0.0, 0.0], [0.12809023261070251, 0.020545719191432, 0.014275754801928997, 0.042047783732414246, 0.004128062166273594, 0.00941197108477354, 0.01723834127187729, 0.006544726900756359, 0.004284530412405729, 0.007668260484933853, 0.0056988256983459, 0.21420690417289734, 0.19046902656555176, 0.1363431066274643, 0.11621052771806717, 0.08283617347478867, 0.0, 0.0, 0.0, 0.0, 0.0, 0.0, 0.0, 0.0, 0.0, 0.0, 0.0, 0.0, 0.0, 0.0, 0.0, 0.0], [0.08101068437099457, 0.019868621602654457, 0.006969325710088015, 0.012615914456546307, 0.005616743583232164, 0.0037740611005574465, 0.02025192603468895, 0.0019576079212129116, 0.003142805304378271, 0.003883564146235585, 0.005253493785858154, 0.06851674616336823, 0.10504217445850372, 0.17481957376003265, 0.15241335332393646, 0.28303882479667664, 0.05182453989982605, 0.0, 0.0, 0.0, 0.0, 0.0, 0.0, 0.0, 0.0, 0.0, 0.0, 0.0, 0.0, 0.0, 0.0, 0.0], [0.06504378467798233, 0.014788615517318249, 0.009532048366963863, 0.011622562073171139, 0.0032053205650299788, 0.0029589124023914337, 0.005594861228018999, 0.0016041987109929323, 0.0018587505910545588, 0.0015536102000623941, 0.0015272194286808372, 0.035165462642908096, 0.13144616782665253, 0.09311236441135406, 0.27488231658935547, 0.23373885452747345, 0.07232420891523361, 0.04004068300127983, 0.0, 0.0, 0.0, 0.0, 0.0, 0.0, 0.0, 0.0, 0.0, 0.0, 0.0, 0.0, 0.0, 0.0], [0.05303872749209404, 0.017144476994872093, 0.00567643903195858, 0.009483182802796364, 0.0034136888571083546, 0.0017677737632766366, 0.010403912514448166, 0.001703797373920679, 0.0016177139477804303, 0.0031380727887153625, 0.0035009600687772036, 0.0367659255862236, 0.08408351987600327, 0.08766543120145798, 0.0932295173406601, 0.2642575204372406, 0.1382756382226944, 0.0996130108833313, 0.08522067964076996, 0.0, 0.0, 0.0, 0.0, 0.0, 0.0, 0.0, 0.0, 0.0, 0.0, 0.0, 0.0, 0.0], [0.2797772288322449, 0.020253879949450493, 0.011576719582080841, 0.013349050655961037, 0.00286573963239789, 0.0034658920485526323, 0.009741902351379395, 0.0018984396010637283, 0.002412920817732811, 0.006368095986545086, 0.007529178634285927, 0.0282349344342947, 0.04581628739833832, 0.04955964535474777, 0.12017197161912918, 0.09245651960372925, 0.10851932317018509, 0.0574040450155735, 0.11343289166688919, 0.025165263563394547, 0.0, 0.0, 0.0, 0.0, 0.0, 0.0, 0.0, 0.0, 0.0, 0.0, 0.0, 0.0], [0.05848076194524765, 0.009885471314191818, 0.005977525841444731, 0.0069838520139455795, 0.0011176656698808074, 0.001623514574021101, 0.007593844551593065, 0.0008257859735749662, 0.0002817416680045426, 0.00045681235496886075, 0.0010790677042677999, 0.04484778270125389, 0.07089216262102127, 0.04305226728320122, 0.05879594013094902, 0.13291075825691223, 0.11415937542915344, 0.11497938632965088, 0.2292529195547104, 0.07606177031993866, 0.020741546526551247, 0.0, 0.0, 0.0, 0.0, 0.0, 0.0, 0.0, 0.0, 0.0, 0.0, 0.0], [0.08457677066326141, 0.004620067309588194, 0.007316839415580034, 0.010235952213406563, 0.002896261401474476, 0.00508317444473505, 0.006294836290180683, 0.002556863008067012, 0.003310155589133501, 0.005825632251799107, 0.006966745480895042, 0.031150752678513527, 0.03411417827010155, 0.03368392214179039, 0.0583924874663353, 0.08808291703462601, 0.1922498196363449, 0.09834928065538406, 0.09829799085855484, 0.04763877019286156, 0.1307355910539627, 0.04762096330523491, 0.0, 0.0, 0.0, 0.0, 0.0, 0.0, 0.0, 0.0, 0.0, 0.0], [0.3272235095500946, 0.015501710586249828, 0.004416421987116337, 0.006864722818136215, 0.0013935321476310492, 0.005179938860237598, 0.0020043940749019384, 0.0015915200347080827, 0.0018744803965091705, 0.003076106309890747, 0.005975022912025452, 0.01175818219780922, 0.006423491518944502, 0.010829474776983261, 0.024349268525838852, 0.014032542705535889, 0.04208558425307274, 0.01725373975932598, 0.038051411509513855, 0.024059349671006203, 0.05172194913029671, 0.19696836173534393, 0.18736527860164642, 0.0, 0.0, 0.0, 0.0, 0.0, 0.0, 0.0, 0.0, 0.0], [0.11172745376825333, 0.006981337908655405, 0.005689053330570459, 0.005241626873612404, 0.0019577171187847853, 0.0022690347395837307, 0.004365456756204367, 0.0019041282357648015, 0.0008300856570713222, 0.0028198035433888435, 0.002105215098708868, 0.015872495248913765, 0.02305014245212078, 0.01627332530915737, 0.02736431360244751, 0.03588573634624481, 0.033492401242256165, 0.038256529718637466, 0.06838876754045486, 0.06972179561853409, 0.0966210812330246, 0.05482383444905281, 0.33671894669532776, 0.037639718502759933, 0.0, 0.0, 0.0, 0.0, 0.0, 0.0, 0.0, 0.0], [0.0722908303141594, 0.0034359500277787447, 0.003051940118893981, 0.0035560301039367914, 0.001488242531195283, 0.002377794124186039, 0.0024047561455518007, 0.0021244415547698736, 0.0006126145599409938, 0.0017760974587872624, 0.001261579105630517, 0.012691580690443516, 0.024712784215807915, 0.011681878939270973, 0.018540360033512115, 0.026456821709871292, 0.03285522013902664, 0.03872118145227432, 0.06517629325389862, 0.10019020736217499, 0.08969265222549438, 0.03546762093901634, 0.3606370985507965, 0.07191737741231918, 0.016878647729754448, 0.0, 0.0, 0.0, 0.0, 0.0, 0.0, 0.0], [0.08221704512834549, 0.006469023879617453, 0.0046025048941373825, 0.0028750477358698845, 0.0013392979744821787, 0.001758123398758471, 0.004371295217424631, 0.0007757644052617252, 0.0003233586612623185, 0.0007266749162226915, 0.0004774298286065459, 0.012881617061793804, 0.018722454085946083, 0.015113544650375843, 0.02789320982992649, 0.04283483698964119, 0.03733264282345772, 0.030001457780599594, 0.04446423798799515, 0.040829576551914215, 0.04621794447302818, 0.037162456661462784, 0.4860718250274658, 0.027574922889471054, 0.008497891016304493, 0.018465830013155937, 0.0, 0.0, 0.0, 0.0, 0.0, 0.0], [0.08445765823125839, 0.004485398530960083, 0.004783952608704567, 0.003566667903214693, 0.0014406985137611628, 0.0017757825553417206, 0.004725179634988308, 0.0009738961234688759, 0.000365784129826352, 0.0010658318642526865, 0.000421308126533404, 0.011789613403379917, 0.02829141728579998, 0.01607968844473362, 0.027101362124085426, 0.05883725732564926, 0.03203325346112251, 0.027123961597681046, 0.06288348883390427, 0.045628491789102554, 0.05890423804521561, 0.03758770972490311, 0.36716169118881226, 0.05136175826191902, 0.014263692311942577, 0.038169361650943756, 0.014720850624144077, 0.0, 0.0, 0.0, 0.0, 0.0], [0.2782609760761261, 0.007098415866494179, 0.004080082755535841, 0.004812486935406923, 0.0008872633916325867, 0.0017811460420489311, 0.001949758268892765, 0.0006048038485459983, 0.0010818358277902007, 0.0007674678927287459, 0.0010771782835945487, 0.008930803276598454, 0.012672149576246738, 0.01480064820498228, 0.032237738370895386, 0.028461046516895294, 0.0192260704934597, 0.008527413010597229, 0.01227355096489191, 0.009066478349268436, 0.02609846368432045, 0.0562826506793499, 0.14793036878108978, 0.01902119070291519, 0.029339080676436424, 0.019770657643675804, 0.02752344124019146, 0.22543680667877197, 0.0, 0.0, 0.0, 0.0], [0.12350799888372421, 0.0048252856358885765, 0.00409665098413825, 0.003644790966063738, 0.0008125495514832437, 0.0009517131256870925, 0.0021815889049321413, 0.0005516656674444675, 0.000731130363419652, 0.0005728302639909089, 0.0005251825787127018, 0.010453685186803341, 0.025934016332030296, 0.015722891315817833, 0.048668961971998215, 0.045472919940948486, 0.016250556334853172, 0.009374476037919521, 0.011653835885226727, 0.00856497697532177, 0.020003249868750572, 0.021709036082029343, 0.08498550951480865, 0.018277928233146667, 0.022699085995554924, 0.016170352697372437, 0.016664685681462288, 0.3646439015865326, 0.10034863650798798, 0.0, 0.0, 0.0], [0.06370251625776291, 0.0026560137048363686, 0.001233711838722229, 0.0016160563100129366, 0.0005132713704369962, 0.00033904987503774464, 0.0024513958487659693, 0.00039622123586013913, 0.0004044785746373236, 0.0006917474092915654, 0.0008614225080236793, 0.00728607177734375, 0.009658184833824635, 0.008425520732998848, 0.008200477808713913, 0.023607050999999046, 0.013587906025350094, 0.010065090842545033, 0.010034000501036644, 0.01182714942842722, 0.025192851200699806, 0.00850523542612791, 0.08107215911149979, 0.011249418370425701, 0.01279950700700283, 0.019904302433133125, 0.027054931968450546, 0.3832254111766815, 0.14722570776939392, 0.10621315240859985, 0.0, 0.0], [0.27474987506866455, 0.0025895964354276657, 0.0024225672241300344, 0.0022407625801861286, 0.0004357235156930983, 0.0005759460036642849, 0.002591795288026333, 0.0004208827158436179, 0.0004884923691861331, 0.0012200186029076576, 0.001742754364386201, 0.006644848734140396, 0.007493324112147093, 0.005998857319355011, 0.011861413717269897, 0.008061465807259083, 0.009020977653563023, 0.005008467007428408, 0.011940623633563519, 0.0032366837840527296, 0.01874125376343727, 0.011536598205566406, 0.029001014307141304, 0.006449781823903322, 0.009105153381824493, 0.023813394829630852, 0.03548542410135269, 0.22396337985992432, 0.08272566646337509, 0.169129878282547, 0.031303372234106064, 0.0], [0.038378290832042694, 0.0010526913683861494, 0.0009355708607472479, 0.0010071268770843744, 0.00015560018073301762, 0.0002481300907675177, 0.0016106001567095518, 0.0001729892974253744, 4.9612859584158286e-05, 7.205752626759931e-05, 0.0002098763216054067, 0.008706207387149334, 0.009919237345457077, 0.004279046319425106, 0.0044246818870306015, 0.007732067722827196, 0.006511264946311712, 0.007329110987484455, 0.01541790459305048, 0.006007904652506113, 0.0017944698920473456, 0.0032063862308859825, 0.037599969655275345, 0.0030780513770878315, 0.0013582961400970817, 0.0022626365534961224, 0.0076057640835642815, 0.2671680450439453, 0.16280198097229004, 0.29010939598083496, 0.08921246230602264, 0.019582655280828476]], [[1.0, 0.0, 0.0, 0.0, 0.0, 0.0, 0.0, 0.0, 0.0, 0.0, 0.0, 0.0, 0.0, 0.0, 0.0, 0.0, 0.0, 0.0, 0.0, 0.0, 0.0, 0.0, 0.0, 0.0, 0.0, 0.0, 0.0, 0.0, 0.0, 0.0, 0.0, 0.0], [0.9864069819450378, 0.013593033887445927, 0.0, 0.0, 0.0, 0.0, 0.0, 0.0, 0.0, 0.0, 0.0, 0.0, 0.0, 0.0, 0.0, 0.0, 0.0, 0.0, 0.0, 0.0, 0.0, 0.0, 0.0, 0.0, 0.0, 0.0, 0.0, 0.0, 0.0, 0.0, 0.0, 0.0], [0.8913038969039917, 0.038840584456920624, 0.06985548883676529, 0.0, 0.0, 0.0, 0.0, 0.0, 0.0, 0.0, 0.0, 0.0, 0.0, 0.0, 0.0, 0.0, 0.0, 0.0, 0.0, 0.0, 0.0, 0.0, 0.0, 0.0, 0.0, 0.0, 0.0, 0.0, 0.0, 0.0, 0.0, 0.0], [0.9362480044364929, 0.008636804297566414, 0.0423530675470829, 0.012762068770825863, 0.0, 0.0, 0.0, 0.0, 0.0, 0.0, 0.0, 0.0, 0.0, 0.0, 0.0, 0.0, 0.0, 0.0, 0.0, 0.0, 0.0, 0.0, 0.0, 0.0, 0.0, 0.0, 0.0, 0.0, 0.0, 0.0, 0.0, 0.0], [0.5109446048736572, 0.027638444676995277, 0.08851930499076843, 0.008091050200164318, 0.3648066222667694, 0.0, 0.0, 0.0, 0.0, 0.0, 0.0, 0.0, 0.0, 0.0, 0.0, 0.0, 0.0, 0.0, 0.0, 0.0, 0.0, 0.0, 0.0, 0.0, 0.0, 0.0, 0.0, 0.0, 0.0, 0.0, 0.0, 0.0], [0.3031313419342041, 0.04981504753232002, 0.07713828235864639, 0.14355774223804474, 0.1795351505279541, 0.24682249128818512, 0.0, 0.0, 0.0, 0.0, 0.0, 0.0, 0.0, 0.0, 0.0, 0.0, 0.0, 0.0, 0.0, 0.0, 0.0, 0.0, 0.0, 0.0, 0.0, 0.0, 0.0, 0.0, 0.0, 0.0, 0.0, 0.0], [0.13908562064170837, 0.017116667702794075, 0.033329397439956665, 0.005769366864115, 0.11116667091846466, 0.013252196833491325, 0.6802801489830017, 0.0, 0.0, 0.0, 0.0, 0.0, 0.0, 0.0, 0.0, 0.0, 0.0, 0.0, 0.0, 0.0, 0.0, 0.0, 0.0, 0.0, 0.0, 0.0, 0.0, 0.0, 0.0, 0.0, 0.0, 0.0], [0.6732413172721863, 0.033711280673742294, 0.019566889852285385, 0.001308913342654705, 0.05852021276950836, 0.1027667224407196, 0.006473460700362921, 0.10441110283136368, 0.0, 0.0, 0.0, 0.0, 0.0, 0.0, 0.0, 0.0, 0.0, 0.0, 0.0, 0.0, 0.0, 0.0, 0.0, 0.0, 0.0, 0.0, 0.0, 0.0, 0.0, 0.0, 0.0, 0.0], [0.16618920862674713, 0.0009019110002554953, 0.0028197208885103464, 0.00022080779308453202, 0.011625123210251331, 0.0014222324825823307, 0.003987551666796207, 0.02624090202152729, 0.7865926027297974, 0.0, 0.0, 0.0, 0.0, 0.0, 0.0, 0.0, 0.0, 0.0, 0.0, 0.0, 0.0, 0.0, 0.0, 0.0, 0.0, 0.0, 0.0, 0.0, 0.0, 0.0, 0.0, 0.0], [0.19736248254776, 0.0007315740804187953, 0.002303134184330702, 0.003166241804137826, 0.03482937067747116, 0.0037301790434867144, 0.0004736744740512222, 0.00401621637865901, 0.05304073169827461, 0.7003464102745056, 0.0, 0.0, 0.0, 0.0, 0.0, 0.0, 0.0, 0.0, 0.0, 0.0, 0.0, 0.0, 0.0, 0.0, 0.0, 0.0, 0.0, 0.0, 0.0, 0.0, 0.0, 0.0], [0.20220692455768585, 0.0012385075679048896, 0.0003810593916568905, 0.0005072619533166289, 0.019026437774300575, 0.0006986615480855107, 0.00015450562932528555, 0.013084041886031628, 0.04344083368778229, 0.022087400779128075, 0.6971743702888489, 0.0, 0.0, 0.0, 0.0, 0.0, 0.0, 0.0, 0.0, 0.0, 0.0, 0.0, 0.0, 0.0, 0.0, 0.0, 0.0, 0.0, 0.0, 0.0, 0.0, 0.0], [0.1846584677696228, 0.002939867787063122, 0.058774933218955994, 0.033832523971796036, 0.0041405754163861275, 0.003968403209000826, 0.020702285692095757, 0.024098698049783707, 0.042569294571876526, 0.1402563899755478, 0.2680067718029022, 0.21605177223682404, 0.0, 0.0, 0.0, 0.0, 0.0, 0.0, 0.0, 0.0, 0.0, 0.0, 0.0, 0.0, 0.0, 0.0, 0.0, 0.0, 0.0, 0.0, 0.0, 0.0], [0.39880165457725525, 0.0341009683907032, 0.04512481763958931, 0.0013421960175037384, 0.012567808851599693, 0.005856302101165056, 0.014953222125768661, 0.000970090797636658, 0.011759371496737003, 0.019574416801333427, 0.04414176195859909, 0.16140472888946533, 0.24940261244773865, 0.0, 0.0, 0.0, 0.0, 0.0, 0.0, 0.0, 0.0, 0.0, 0.0, 0.0, 0.0, 0.0, 0.0, 0.0, 0.0, 0.0, 0.0, 0.0], [0.19539090991020203, 0.10720423609018326, 0.023641612380743027, 0.04671233147382736, 0.019671417772769928, 0.001188274472951889, 0.0015914279501885176, 0.0021408183965831995, 0.014719923958182335, 0.01869470812380314, 0.029363594949245453, 0.2607109546661377, 0.04531613364815712, 0.23365366458892822, 0.0, 0.0, 0.0, 0.0, 0.0, 0.0, 0.0, 0.0, 0.0, 0.0, 0.0, 0.0, 0.0, 0.0, 0.0, 0.0, 0.0, 0.0], [0.3301750421524048, 0.13448446989059448, 0.06294533610343933, 0.0071642762050032616, 0.02639387547969818, 0.006600317545235157, 0.003792342497035861, 0.0017301103798672557, 0.03838956356048584, 0.009646193124353886, 0.005295233801007271, 0.010062607936561108, 0.0902927964925766, 0.15710753202438354, 0.11592027544975281, 0.0, 0.0, 0.0, 0.0, 0.0, 0.0, 0.0, 0.0, 0.0, 0.0, 0.0, 0.0, 0.0, 0.0, 0.0, 0.0, 0.0], [0.07957975566387177, 0.02812410518527031, 0.08037549257278442, 0.01832485944032669, 0.02515665628015995, 0.0007063983357511461, 0.003771413816139102, 0.000897617603186518, 0.012938526459038258, 0.04743954539299011, 0.021856483072042465, 0.10711955279111862, 0.025270849466323853, 0.16032467782497406, 0.21620984375476837, 0.17190422117710114, 0.0, 0.0, 0.0, 0.0, 0.0, 0.0, 0.0, 0.0, 0.0, 0.0, 0.0, 0.0, 0.0, 0.0, 0.0, 0.0], [0.1250254064798355, 0.01156061701476574, 0.003934795036911964, 2.670687717909459e-05, 0.02893434837460518, 0.00044431944843381643, 0.0005162272718735039, 1.778108526195865e-05, 0.0010515982285141945, 0.007833427749574184, 0.0013536544283851981, 0.0014427588321268559, 0.010474171489477158, 0.5455518960952759, 0.011020534671843052, 0.14272823929786682, 0.10808352380990982, 0.0, 0.0, 0.0, 0.0, 0.0, 0.0, 0.0, 0.0, 0.0, 0.0, 0.0, 0.0, 0.0, 0.0, 0.0], [0.1897062212228775, 0.01025147084146738, 0.017121924087405205, 0.016105402261018753, 0.016281049698591232, 0.002357732504606247, 0.004184203688055277, 0.005337813403457403, 0.009755377657711506, 0.04474461078643799, 0.04304857552051544, 0.012110073119401932, 0.035407379269599915, 0.003373259212821722, 0.37410756945610046, 0.011443051509559155, 0.016039323061704636, 0.18862506747245789, 0.0, 0.0, 0.0, 0.0, 0.0, 0.0, 0.0, 0.0, 0.0, 0.0, 0.0, 0.0, 0.0, 0.0], [0.42198747396469116, 0.0023403125815093517, 0.006482759024947882, 0.002255947096273303, 0.03601113706827164, 0.007020606193691492, 0.0017005016561597586, 0.0021741087548434734, 0.013729775324463844, 0.05132285878062248, 0.05232841148972511, 0.004265966359525919, 0.01681789942085743, 0.00456574559211731, 0.005592614412307739, 0.007143522147089243, 0.02117791958153248, 0.014673850499093533, 0.3284086585044861, 0.0, 0.0, 0.0, 0.0, 0.0, 0.0, 0.0, 0.0, 0.0, 0.0, 0.0, 0.0, 0.0], [0.512782633304596, 0.0013326311018317938, 0.005511983297765255, 0.0004565210547298193, 0.009011054411530495, 0.030297962948679924, 0.009126025252044201, 0.001098757260479033, 0.002542516216635704, 0.0027190521359443665, 0.0026793477591127157, 0.01187529880553484, 0.0046844822354614735, 0.007668140809983015, 0.0037810017820447683, 0.008820981718599796, 0.02834572084248066, 0.056464944034814835, 0.2667682468891144, 0.03403278440237045, 0.0, 0.0, 0.0, 0.0, 0.0, 0.0, 0.0, 0.0, 0.0, 0.0, 0.0, 0.0], [0.02619142085313797, 0.0002849843294825405, 0.0008133630035445094, 0.0046324473805725574, 0.00389287737198174, 7.612926128786057e-05, 0.0004008362884633243, 0.001323077129200101, 0.0005065127043053508, 0.0005610853550024331, 0.002542531816288829, 0.0007257985998876393, 0.00022595454356633127, 0.0012350064935162663, 0.009414606727659702, 5.231923205428757e-05, 0.001507571549154818, 0.0016900496557354927, 0.019087767228484154, 0.0777694582939148, 0.8470662236213684, 0.0, 0.0, 0.0, 0.0, 0.0, 0.0, 0.0, 0.0, 0.0, 0.0, 0.0], [0.05644843727350235, 0.0015599936014041305, 6.536506407428533e-05, 0.0007018833421170712, 0.00043501530308276415, 0.0027155368588864803, 6.0691840189974755e-05, 0.0004256731772329658, 0.0007006086525507271, 0.0010462281061336398, 9.940364543581381e-05, 0.010641220957040787, 0.004186992067843676, 0.0016742961015552282, 0.011746786534786224, 0.012145958840847015, 0.012990832328796387, 0.03653055056929588, 0.004503911826759577, 0.011838714592158794, 0.0018207516986876726, 0.8276610374450684, 0.0, 0.0, 0.0, 0.0, 0.0, 0.0, 0.0, 0.0, 0.0, 0.0], [0.5348102450370789, 0.0018006579484790564, 0.0032489458099007607, 0.0004274719103705138, 0.0051248567178845406, 0.014674224890768528, 0.001615662476979196, 0.0019343422027304769, 0.003868385450914502, 0.008286680094897747, 0.0030135854613035917, 0.006554178427904844, 0.003413781290873885, 0.004714460577815771, 0.009852797724306583, 0.0011286280350759625, 0.00765877915546298, 0.013672889210283756, 0.010625817812979221, 0.0030829492025077343, 0.02138165384531021, 0.3129529654979706, 0.026156110689044, 0.0, 0.0, 0.0, 0.0, 0.0, 0.0, 0.0, 0.0, 0.0], [0.4492034614086151, 0.03487001731991768, 0.009411475621163845, 0.000310160598019138, 0.013853581622242928, 0.0048048305325210094, 0.0003531607799232006, 0.005646249745041132, 0.008754669688642025, 0.016165457665920258, 0.012537042610347271, 0.00042446597944945097, 0.00400419719517231, 0.001228627748787403, 0.001974534709006548, 0.010378558188676834, 0.010494263842701912, 0.013834988698363304, 0.03282961621880531, 0.0028579682111740112, 0.01718243956565857, 0.1452254205942154, 0.034847334027290344, 0.1688074916601181, 0.0, 0.0, 0.0, 0.0, 0.0, 0.0, 0.0, 0.0], [0.04814048111438751, 0.0003416827239561826, 0.0005603673635050654, 2.26356387429405e-05, 0.0012428569607436657, 8.936702943174168e-05, 0.0001516995398560539, 0.00063705985667184, 0.020331891253590584, 0.0009123903582803905, 0.0009139230824075639, 0.0001714995305519551, 0.0007921279175207019, 0.0003308280720375478, 1.9375142073840834e-05, 0.00040118175093084574, 0.0003703939728438854, 0.0004944998072460294, 0.008039014413952827, 0.0003615864843595773, 0.0035597432870417833, 0.001343452837318182, 0.0032359049655497074, 0.031145861372351646, 0.876390278339386, 0.0, 0.0, 0.0, 0.0, 0.0, 0.0, 0.0], [0.07917651534080505, 0.0005044262506999075, 0.0012508040526881814, 0.0008040834218263626, 0.006001592148095369, 0.0003532230912242085, 5.4054598876973614e-05, 0.00036524003371596336, 0.002181641524657607, 0.032861556857824326, 0.016318049281835556, 0.0022063152864575386, 0.0026586682070046663, 0.0003654337488114834, 0.00010084138921229169, 0.0003987239906564355, 0.0006284763803705573, 0.0016515314346179366, 0.013514920137822628, 0.002563808113336563, 0.0004525025433395058, 0.0035533832851797342, 0.0031590433791279793, 0.004448933992534876, 0.07124277949333191, 0.7531834244728088, 0.0, 0.0, 0.0, 0.0, 0.0, 0.0], [0.07998138666152954, 0.0006832390790805221, 0.00033574140979908407, 0.0003217282355763018, 0.006340330932289362, 9.082260658033192e-05, 3.098529123235494e-05, 0.0028218026272952557, 0.004035947844386101, 0.0010448399698361754, 0.03647143766283989, 0.000735435460228473, 0.006267501041293144, 0.0006653090240433812, 0.0001687697076704353, 0.00018597222515381873, 0.0003357891400810331, 0.000504535622894764, 0.008222250267863274, 0.009956255555152893, 0.004430020693689585, 0.0005237431614659727, 0.02005692943930626, 0.01816020905971527, 0.06190740689635277, 0.028829308226704597, 0.7068922519683838, 0.0, 0.0, 0.0, 0.0, 0.0], [0.1308528631925583, 0.05456764996051788, 0.018826080486178398, 0.0028100539930164814, 0.0026239685248583555, 0.00206134095788002, 0.0004901000647805631, 0.000549580086953938, 0.0020425044931471348, 0.0011745201190933585, 0.0014637812273576856, 0.00798865593969822, 0.007050690241158009, 0.007442426402121782, 0.03339805826544762, 0.0010597939835861325, 0.03284115716814995, 0.014656026847660542, 0.0034155019093304873, 0.009054232388734818, 0.015430524945259094, 0.019196301698684692, 0.03757478669285774, 0.0038018901832401752, 0.01767502911388874, 0.015247874893248081, 0.03176724165678024, 0.5249373912811279, 0.0, 0.0, 0.0, 0.0], [0.05577195808291435, 0.001468164031393826, 0.004041563719511032, 0.0025034546852111816, 0.001315905712544918, 0.0001039783819578588, 0.0004415565636008978, 0.0013236133381724358, 0.0028476007282733917, 0.008405751548707485, 0.00904805213212967, 0.0036101904697716236, 0.015245720744132996, 0.0014016962377354503, 0.05139796435832977, 0.0005545738385990262, 0.00047276695840992033, 0.005316589958965778, 0.026620548218488693, 0.07593199610710144, 0.022842012345790863, 0.00234014424495399, 0.1709909439086914, 0.010784021578729153, 0.021780041977763176, 0.14782389998435974, 0.19372837245464325, 0.014866246841847897, 0.14702069759368896, 0.0, 0.0, 0.0], [0.19897975027561188, 0.00038472446613013744, 0.0021446249447762966, 0.0007853930001147091, 0.0088351396843791, 0.0006817755638621747, 0.00032785796793177724, 0.001410981989465654, 0.0076388148590922356, 0.022006835788488388, 0.020165538415312767, 0.001897159731015563, 0.014178868383169174, 0.003658118424937129, 0.002354990690946579, 0.0007873920840211213, 0.0014178829733282328, 0.0007333550020121038, 0.022683385759592056, 0.013270914554595947, 0.005197940394282341, 0.01582147181034088, 0.005426920484751463, 0.00325107597745955, 0.020172594115138054, 0.14617380499839783, 0.11381030827760696, 0.009128233417868614, 0.010358765721321106, 0.34631529450416565, 0.0, 0.0], [0.4131665527820587, 0.0004173132183495909, 0.0026419050991535187, 0.0002603722969070077, 0.0038651630748063326, 0.007604167331010103, 0.0030383632984012365, 0.000895159610081464, 0.002833428792655468, 0.002695894567295909, 0.0018976129358634353, 0.006879790686070919, 0.0036764161195605993, 0.010238904505968094, 0.0037705819122493267, 0.003042688127607107, 0.005810622591525316, 0.0056505464017391205, 0.018634537234902382, 0.0031514414586126804, 0.010021938942372799, 0.06184098497033119, 0.0030613173730671406, 0.002037328202277422, 0.004586295690387487, 0.009267672896385193, 0.008440413512289524, 0.01505493838340044, 0.04345199838280678, 0.301373690366745, 0.04069188982248306, 0.0], [0.0059591359458863735, 2.7978987418464385e-05, 0.0001160993633675389, 0.000825130264274776, 0.0007401479524560273, 8.467736734019127e-06, 4.069707210874185e-05, 0.0001706405309960246, 0.00010133806063095108, 0.00017740693874657154, 0.0008166822954080999, 0.0001317994319833815, 3.2399351766798645e-05, 0.000356453558197245, 0.0033017804380506277, 1.5080006050993688e-05, 0.00016000380855984986, 0.00011076673399657011, 0.0005480645340867341, 0.0013679229887202382, 0.022846011444926262, 3.243601895519532e-05, 0.007403544615954161, 0.0010747706983238459, 0.00027823870186693966, 0.0004491836589295417, 0.004253809805959463, 0.001318646245636046, 0.0017323545180261135, 0.014578006230294704, 0.06632353365421295, 0.8647015690803528]]], \"headLabels\": [\"L0H0\", \"L0H1\", \"L0H2\", \"L0H3\", \"L0H4\", \"L0H5\", \"L0H6\", \"L0H7\", \"L0H8\", \"L0H9\", \"L0H10\", \"L0H11\"]}\n",
              "    )\n",
              "    </script>"
            ]
          },
          "metadata": {}
        },
        {
          "output_type": "display_data",
          "data": {
            "text/plain": [
              "<circuitsvis.utils.render.RenderedHTML at 0x7acb0ea0d490>"
            ],
            "text/html": [
              "<div id=\"circuits-vis-dbbaaa2f-0bce\" style=\"margin: 15px 0;\"/>\n",
              "    <script crossorigin type=\"module\">\n",
              "    import { render, AttentionPatterns } from \"https://unpkg.com/circuitsvis@1.41.0/dist/cdn/esm.js\";\n",
              "    render(\n",
              "      \"circuits-vis-dbbaaa2f-0bce\",\n",
              "      AttentionPatterns,\n",
              "      {\"tokens\": [\"<|endoftext|>\", \"(\", \"<|padding|>\", \"\\\"\", \"&\", \"'\", \"&\", \"'\", \"!\", \"!\", \"<|padding|>\", \"(\", \"\\\"\", \"&\", \"#\", \"!\", \"\\\"\", \"<|padding|>\", \"<|padding|>\", \"%\", \"#\", \"(\", \"\\\"\", \"(\", \"\\\"\", \"(\", \"%\", \"'\", \"(\", \"&\", \"<|padding|>\", \"!\", \"<|padding|>\", \"(\", \"&\", \"!\", \"&\", \"!\", \"(\", \"(\", \"'\", \"\\\"\", \"#\", \"'\", \"'\", \"!\", \"%\", \"$\", \"'\", \"%\", \"'\", \"(\", \"<|padding|>\", \"\\\"\", \"&\", \"'\", \"&\", \"'\", \"!\", \"!\", \"<|padding|>\", \"(\", \"\\\"\", \"&\", \"#\", \"!\", \"\\\"\", \"<|padding|>\", \"<|padding|>\", \"%\", \"#\", \"(\", \"\\\"\", \"(\", \"\\\"\", \"(\", \"%\", \"'\", \"(\", \"&\", \"<|padding|>\", \"!\", \"<|padding|>\", \"(\", \"&\", \"!\", \"&\", \"!\", \"(\", \"(\", \"'\", \"\\\"\", \"#\", \"'\", \"'\", \"!\", \"%\", \"$\", \"'\", \"%\", \"'\"], \"attention\": [[[1.0, 0.0, 0.0, 0.0, 0.0, 0.0, 0.0, 0.0, 0.0, 0.0, 0.0, 0.0, 0.0, 0.0, 0.0, 0.0, 0.0, 0.0, 0.0, 0.0, 0.0, 0.0, 0.0, 0.0, 0.0, 0.0, 0.0, 0.0, 0.0, 0.0, 0.0, 0.0], [0.7369100451469421, 0.26308998465538025, 0.0, 0.0, 0.0, 0.0, 0.0, 0.0, 0.0, 0.0, 0.0, 0.0, 0.0, 0.0, 0.0, 0.0, 0.0, 0.0, 0.0, 0.0, 0.0, 0.0, 0.0, 0.0, 0.0, 0.0, 0.0, 0.0, 0.0, 0.0, 0.0, 0.0], [0.8448434472084045, 0.13156825304031372, 0.023588281124830246, 0.0, 0.0, 0.0, 0.0, 0.0, 0.0, 0.0, 0.0, 0.0, 0.0, 0.0, 0.0, 0.0, 0.0, 0.0, 0.0, 0.0, 0.0, 0.0, 0.0, 0.0, 0.0, 0.0, 0.0, 0.0, 0.0, 0.0, 0.0, 0.0], [0.7984011173248291, 0.10069509595632553, 0.01304616779088974, 0.08785765618085861, 0.0, 0.0, 0.0, 0.0, 0.0, 0.0, 0.0, 0.0, 0.0, 0.0, 0.0, 0.0, 0.0, 0.0, 0.0, 0.0, 0.0, 0.0, 0.0, 0.0, 0.0, 0.0, 0.0, 0.0, 0.0, 0.0, 0.0, 0.0], [0.694502055644989, 0.13390739262104034, 0.03150514140725136, 0.079318106174469, 0.06076723709702492, 0.0, 0.0, 0.0, 0.0, 0.0, 0.0, 0.0, 0.0, 0.0, 0.0, 0.0, 0.0, 0.0, 0.0, 0.0, 0.0, 0.0, 0.0, 0.0, 0.0, 0.0, 0.0, 0.0, 0.0, 0.0, 0.0, 0.0], [0.6278273463249207, 0.11984648555517197, 0.0355064794421196, 0.08169349282979965, 0.08441728353500366, 0.050708893686532974, 0.0, 0.0, 0.0, 0.0, 0.0, 0.0, 0.0, 0.0, 0.0, 0.0, 0.0, 0.0, 0.0, 0.0, 0.0, 0.0, 0.0, 0.0, 0.0, 0.0, 0.0, 0.0, 0.0, 0.0, 0.0, 0.0], [0.4948521554470062, 0.11405269801616669, 0.05793935805559158, 0.06186457350850105, 0.0679892748594284, 0.05131487920880318, 0.15198712050914764, 0.0, 0.0, 0.0, 0.0, 0.0, 0.0, 0.0, 0.0, 0.0, 0.0, 0.0, 0.0, 0.0, 0.0, 0.0, 0.0, 0.0, 0.0, 0.0, 0.0, 0.0, 0.0, 0.0, 0.0, 0.0], [0.027688633650541306, 0.00731709785759449, 0.16835008561611176, 0.03572548180818558, 0.1505480855703354, 0.24375340342521667, 0.3311513364315033, 0.03546585887670517, 0.0, 0.0, 0.0, 0.0, 0.0, 0.0, 0.0, 0.0, 0.0, 0.0, 0.0, 0.0, 0.0, 0.0, 0.0, 0.0, 0.0, 0.0, 0.0, 0.0, 0.0, 0.0, 0.0, 0.0], [0.07152611762285233, 0.04258894547820091, 0.06192091479897499, 0.152327761054039, 0.061848144978284836, 0.4304119348526001, 0.029938170686364174, 0.07393039762973785, 0.07550762593746185, 0.0, 0.0, 0.0, 0.0, 0.0, 0.0, 0.0, 0.0, 0.0, 0.0, 0.0, 0.0, 0.0, 0.0, 0.0, 0.0, 0.0, 0.0, 0.0, 0.0, 0.0, 0.0, 0.0], [0.4547959566116333, 0.07553045451641083, 0.02808900736272335, 0.12205801159143448, 0.03813003748655319, 0.16857528686523438, 0.024939900264143944, 0.040274228900671005, 0.02174014039337635, 0.025866974145174026, 0.0, 0.0, 0.0, 0.0, 0.0, 0.0, 0.0, 0.0, 0.0, 0.0, 0.0, 0.0, 0.0, 0.0, 0.0, 0.0, 0.0, 0.0, 0.0, 0.0, 0.0, 0.0], [0.7272342443466187, 0.07039567083120346, 0.017474573105573654, 0.0560046061873436, 0.01573559269309044, 0.0732646957039833, 0.003560682525858283, 0.0113243218511343, 0.004813580308109522, 0.007564552593976259, 0.012627455405890942, 0.0, 0.0, 0.0, 0.0, 0.0, 0.0, 0.0, 0.0, 0.0, 0.0, 0.0, 0.0, 0.0, 0.0, 0.0, 0.0, 0.0, 0.0, 0.0, 0.0, 0.0], [0.07775764167308807, 0.010725612752139568, 0.22180674970149994, 0.014782540500164032, 0.09049153327941895, 0.011101702228188515, 0.10837459564208984, 0.02285829558968544, 0.053709954023361206, 0.07824108004570007, 0.06722797453403473, 0.2429223209619522, 0.0, 0.0, 0.0, 0.0, 0.0, 0.0, 0.0, 0.0, 0.0, 0.0, 0.0, 0.0, 0.0, 0.0, 0.0, 0.0, 0.0, 0.0, 0.0, 0.0], [0.0318993479013443, 0.006882424466311932, 0.19520679116249084, 0.010594218038022518, 0.06236221641302109, 0.010605630464851856, 0.1620015949010849, 0.01930772326886654, 0.0516977496445179, 0.03626549243927002, 0.021912135183811188, 0.1475011110305786, 0.24376358091831207, 0.0, 0.0, 0.0, 0.0, 0.0, 0.0, 0.0, 0.0, 0.0, 0.0, 0.0, 0.0, 0.0, 0.0, 0.0, 0.0, 0.0, 0.0, 0.0], [0.17897839844226837, 0.06827855855226517, 0.12596167623996735, 0.05184164270758629, 0.09589757770299911, 0.020853573456406593, 0.06678405404090881, 0.029216250404715538, 0.01860424131155014, 0.02438434399664402, 0.03282441198825836, 0.047565214335918427, 0.03118721768260002, 0.20762282609939575, 0.0, 0.0, 0.0, 0.0, 0.0, 0.0, 0.0, 0.0, 0.0, 0.0, 0.0, 0.0, 0.0, 0.0, 0.0, 0.0, 0.0, 0.0], [0.22561408579349518, 0.08704264461994171, 0.0472712367773056, 0.09939088672399521, 0.12046880275011063, 0.021218134090304375, 0.03084014169871807, 0.08357531577348709, 0.03497471660375595, 0.02853316068649292, 0.026137806475162506, 0.02024986408650875, 0.06101156026124954, 0.06588874757289886, 0.047782957553863525, 0.0, 0.0, 0.0, 0.0, 0.0, 0.0, 0.0, 0.0, 0.0, 0.0, 0.0, 0.0, 0.0, 0.0, 0.0, 0.0, 0.0], [0.09814396500587463, 0.05275315046310425, 0.07855894416570663, 0.08038473129272461, 0.09365449100732803, 0.03507561609148979, 0.05915813520550728, 0.043996021151542664, 0.05446099862456322, 0.07877463847398758, 0.05619899183511734, 0.04476553201675415, 0.04729476571083069, 0.03839767724275589, 0.04705936834216118, 0.0913228988647461, 0.0, 0.0, 0.0, 0.0, 0.0, 0.0, 0.0, 0.0, 0.0, 0.0, 0.0, 0.0, 0.0, 0.0, 0.0, 0.0], [0.06504681706428528, 0.02317909337580204, 0.012230434454977512, 0.05169824883341789, 0.014712431468069553, 0.05285006761550903, 0.004630854353308678, 0.033134762197732925, 0.024576719850301743, 0.019909383729100227, 0.006145073566585779, 0.027353208512067795, 0.03549840673804283, 0.0047210524789988995, 0.046341657638549805, 0.1032465249300003, 0.47472524642944336, 0.0, 0.0, 0.0, 0.0, 0.0, 0.0, 0.0, 0.0, 0.0, 0.0, 0.0, 0.0, 0.0, 0.0, 0.0], [0.046260423958301544, 0.011026496067643166, 0.07772546261548996, 0.006473413668572903, 0.05194906145334244, 0.004511578939855099, 0.05246051028370857, 0.02183237113058567, 0.07157056778669357, 0.0960562452673912, 0.054524216800928116, 0.07250186800956726, 0.025469379499554634, 0.045520514249801636, 0.009271994233131409, 0.047713685780763626, 0.03326912224292755, 0.27186310291290283, 0.0, 0.0, 0.0, 0.0, 0.0, 0.0, 0.0, 0.0, 0.0, 0.0, 0.0, 0.0, 0.0, 0.0], [0.28951799869537354, 0.07714341580867767, 0.08737947791814804, 0.02266008034348488, 0.06570648401975632, 0.009621331468224525, 0.04920843616127968, 0.030113378539681435, 0.04061940312385559, 0.049864280968904495, 0.057026684284210205, 0.0466197244822979, 0.01102356892079115, 0.02708142250776291, 0.01871689222753048, 0.021535823121666908, 0.020447131246328354, 0.03792193904519081, 0.037792596966028214, 0.0, 0.0, 0.0, 0.0, 0.0, 0.0, 0.0, 0.0, 0.0, 0.0, 0.0, 0.0, 0.0], [0.3891123831272125, 0.08155735582113266, 0.010513052344322205, 0.0455806627869606, 0.017493553459644318, 0.007823328487575054, 0.014690469019114971, 0.041452597826719284, 0.033106353133916855, 0.04428482800722122, 0.02258438803255558, 0.01648683287203312, 0.017712604254484177, 0.0016895444132387638, 0.017948197200894356, 0.014312060549855232, 0.0262890737503767, 0.004399178083986044, 0.001214361866004765, 0.19174909591674805, 0.0, 0.0, 0.0, 0.0, 0.0, 0.0, 0.0, 0.0, 0.0, 0.0, 0.0, 0.0], [0.3122994005680084, 0.04566492885351181, 0.04132389649748802, 0.05990112945437431, 0.04304038733243942, 0.06323540955781937, 0.03422567993402481, 0.0221280325204134, 0.01573396474123001, 0.015523106791079044, 0.026195980608463287, 0.02000083215534687, 0.010828284546732903, 0.02940153330564499, 0.02472533844411373, 0.015815328806638718, 0.020233236253261566, 0.004023646470159292, 0.01654500514268875, 0.07181701064109802, 0.10733787715435028, 0.0, 0.0, 0.0, 0.0, 0.0, 0.0, 0.0, 0.0, 0.0, 0.0, 0.0], [0.7316958904266357, 0.07404603064060211, 0.002834188286215067, 0.02076505869626999, 0.006422126200050116, 0.0019771233201026917, 0.0037682668771594763, 0.010051324032247066, 0.00166237261146307, 0.0019247288582846522, 0.002496973844245076, 0.000969578861258924, 0.006334848701953888, 0.0004248645855113864, 0.00267964624799788, 0.0022196201607584953, 0.0035287353675812483, 0.0012606907403096557, 0.0008884976850822568, 0.08182390034198761, 0.012094144709408283, 0.030131394043564796, 0.0, 0.0, 0.0, 0.0, 0.0, 0.0, 0.0, 0.0, 0.0, 0.0], [0.2426416426897049, 0.04806772619485855, 0.00687164394184947, 0.05360982194542885, 0.00822699535638094, 0.010976290330290794, 0.009732535108923912, 0.044951487332582474, 0.028910251334309578, 0.015630267560482025, 0.007406332995742559, 0.004824004601687193, 0.016282236203551292, 0.0004954047035425901, 0.010004649870097637, 0.01249586883932352, 0.0159508865326643, 0.0029854625463485718, 0.0004187941667623818, 0.10005895048379898, 0.08570297807455063, 0.08903387188911438, 0.184721902012825, 0.0, 0.0, 0.0, 0.0, 0.0, 0.0, 0.0, 0.0, 0.0], [0.0660792663693428, 0.019694898277521133, 0.04441671445965767, 0.04367673024535179, 0.054863959550857544, 0.0376104936003685, 0.07479576021432877, 0.02911239117383957, 0.10211188346147537, 0.048911698162555695, 0.0355750247836113, 0.013334084302186966, 0.03735321760177612, 0.012974618934094906, 0.012761544436216354, 0.04001954197883606, 0.08902276307344437, 0.008776792325079441, 0.004456519614905119, 0.016543205827474594, 0.09472402930259705, 0.026207374408841133, 0.01862001046538353, 0.06835748255252838, 0.0, 0.0, 0.0, 0.0, 0.0, 0.0, 0.0, 0.0], [0.023232009261846542, 0.023313865065574646, 0.013404729776084423, 0.0866953581571579, 0.015444671735167503, 0.07160140573978424, 0.007768386974930763, 0.03276025876402855, 0.02079903893172741, 0.02231511101126671, 0.015417416580021381, 0.012416730634868145, 0.028909670189023018, 0.0012134505668655038, 0.019721057265996933, 0.027700187638401985, 0.14240264892578125, 0.004925233777612448, 0.00020690553355962038, 0.038446441292762756, 0.05696442723274231, 0.07697942107915878, 0.03368862718343735, 0.14721374213695526, 0.0764591172337532, 0.0, 0.0, 0.0, 0.0, 0.0, 0.0, 0.0], [0.12407129257917404, 0.04532056674361229, 0.01116807758808136, 0.08268950134515762, 0.01738637499511242, 0.06831178069114685, 0.012081473134458065, 0.025086916983127594, 0.009610041044652462, 0.011178418062627316, 0.013211066834628582, 0.010005258023738861, 0.01403151173144579, 0.0036373387556523085, 0.016625070944428444, 0.010050090029835701, 0.025028763338923454, 0.0021139723248779774, 0.0009656756883487105, 0.05166977643966675, 0.052603594958782196, 0.15532416105270386, 0.09127292782068253, 0.08833981305360794, 0.026458092033863068, 0.031758446246385574, 0.0, 0.0, 0.0, 0.0, 0.0, 0.0], [0.3155215382575989, 0.04975607991218567, 0.008984602987766266, 0.047553692013025284, 0.010031692683696747, 0.04049120098352432, 0.0022349152714014053, 0.008991039358079433, 0.0027938997372984886, 0.004157221410423517, 0.00571515504270792, 0.012935706414282322, 0.0033743735402822495, 0.00107265030965209, 0.008076030761003494, 0.002100051147863269, 0.0076802265830338, 0.001041125738993287, 0.0006082181353121996, 0.04099614918231964, 0.026914624497294426, 0.2033795565366745, 0.11726079881191254, 0.04647483676671982, 0.008556864224374294, 0.010141835547983646, 0.01315595768392086, 0.0, 0.0, 0.0, 0.0, 0.0], [0.22683878242969513, 0.05980813503265381, 0.039687465876340866, 0.05165774002671242, 0.03383024036884308, 0.01420836616307497, 0.00874356646090746, 0.01590016856789589, 0.008811748586595058, 0.013836191967129707, 0.014574765227735043, 0.014069615863263607, 0.020154332742094994, 0.002440728945657611, 0.009354195557534695, 0.015291356481611729, 0.03329150751233101, 0.004951078910380602, 0.0012895907275378704, 0.03957260772585869, 0.044305719435214996, 0.07642419636249542, 0.07420091331005096, 0.04849802330136299, 0.020682644098997116, 0.022841794416308403, 0.023650875315070152, 0.061083611100912094, 0.0, 0.0, 0.0, 0.0], [0.045405417680740356, 0.01172681711614132, 0.10572909563779831, 0.0062735555693507195, 0.04093652963638306, 0.0030730152502655983, 0.033143822103738785, 0.010631583631038666, 0.018094196915626526, 0.026405716314911842, 0.026211384683847427, 0.018271876499056816, 0.030205579474568367, 0.06158224865794182, 0.0019983507227152586, 0.022917915135622025, 0.015181991271674633, 0.02782260999083519, 0.04751789569854736, 0.009496801532804966, 0.07857104390859604, 0.009389401413500309, 0.01079636998474598, 0.028057532384991646, 0.03531821072101593, 0.047749344259500504, 0.04966046288609505, 0.042355384677648544, 0.13547591865062714, 0.0, 0.0, 0.0], [0.20063158869743347, 0.05013372376561165, 0.06428337842226028, 0.012754499912261963, 0.05022411793470383, 0.005690299905836582, 0.03034241870045662, 0.022773314267396927, 0.01894126459956169, 0.02616993524134159, 0.035034358501434326, 0.017402539029717445, 0.01101410947740078, 0.012739535421133041, 0.004965932574123144, 0.008738553151488304, 0.00819119531661272, 0.008809922263026237, 0.01630481705069542, 0.027900559827685356, 0.051514338701963425, 0.036636944860219955, 0.03912510350346565, 0.03603870049118996, 0.027710190042853355, 0.029377290979027748, 0.04564925283193588, 0.04373764991760254, 0.027306927368044853, 0.029857534915208817, 0.0, 0.0], [0.17414042353630066, 0.031204497441649437, 0.0047108824364840984, 0.017043495550751686, 0.008036608807742596, 0.003757223952561617, 0.004245213698595762, 0.017098115757107735, 0.010361012071371078, 0.014425174333155155, 0.008297714404761791, 0.005383019335567951, 0.009931745938956738, 0.000940599013119936, 0.004043446853756905, 0.005362470168620348, 0.012679923325777054, 0.0011295092990621924, 0.0006653531454503536, 0.06245844066143036, 0.07026246935129166, 0.032290972769260406, 0.07781579345464706, 0.1663878709077835, 0.04147152230143547, 0.04223861172795296, 0.024331236258149147, 0.014560665003955364, 0.003912478219717741, 0.0014171423390507698, 0.12939640879631042, 0.0], [0.1529051512479782, 0.022262850776314735, 0.021339718252420425, 0.02694644033908844, 0.02264224924147129, 0.02741660736501217, 0.01636102795600891, 0.015399803407490253, 0.007953962311148643, 0.008559184148907661, 0.010901054367423058, 0.009342195466160774, 0.009330553002655506, 0.015504829585552216, 0.007976165041327477, 0.009109467267990112, 0.011769130825996399, 0.0016099585918709636, 0.00934931542724371, 0.030246911570429802, 0.0417124405503273, 0.2183956801891327, 0.033768780529499054, 0.031133180484175682, 0.022054847329854965, 0.019449099898338318, 0.02515331469476223, 0.02520480938255787, 0.008585827425122261, 0.022206934168934822, 0.06619127094745636, 0.049217235296964645]], [[1.0, 0.0, 0.0, 0.0, 0.0, 0.0, 0.0, 0.0, 0.0, 0.0, 0.0, 0.0, 0.0, 0.0, 0.0, 0.0, 0.0, 0.0, 0.0, 0.0, 0.0, 0.0, 0.0, 0.0, 0.0, 0.0, 0.0, 0.0, 0.0, 0.0, 0.0, 0.0], [0.31395429372787476, 0.6860457062721252, 0.0, 0.0, 0.0, 0.0, 0.0, 0.0, 0.0, 0.0, 0.0, 0.0, 0.0, 0.0, 0.0, 0.0, 0.0, 0.0, 0.0, 0.0, 0.0, 0.0, 0.0, 0.0, 0.0, 0.0, 0.0, 0.0, 0.0, 0.0, 0.0, 0.0], [0.671194851398468, 0.209391251206398, 0.11941396445035934, 0.0, 0.0, 0.0, 0.0, 0.0, 0.0, 0.0, 0.0, 0.0, 0.0, 0.0, 0.0, 0.0, 0.0, 0.0, 0.0, 0.0, 0.0, 0.0, 0.0, 0.0, 0.0, 0.0, 0.0, 0.0, 0.0, 0.0, 0.0, 0.0], [0.6922858953475952, 0.14371053874492645, 0.10683923214673996, 0.05716434866189957, 0.0, 0.0, 0.0, 0.0, 0.0, 0.0, 0.0, 0.0, 0.0, 0.0, 0.0, 0.0, 0.0, 0.0, 0.0, 0.0, 0.0, 0.0, 0.0, 0.0, 0.0, 0.0, 0.0, 0.0, 0.0, 0.0, 0.0, 0.0], [0.6487102508544922, 0.12671706080436707, 0.09636310487985611, 0.03434854373335838, 0.09386094659566879, 0.0, 0.0, 0.0, 0.0, 0.0, 0.0, 0.0, 0.0, 0.0, 0.0, 0.0, 0.0, 0.0, 0.0, 0.0, 0.0, 0.0, 0.0, 0.0, 0.0, 0.0, 0.0, 0.0, 0.0, 0.0, 0.0, 0.0], [0.26469486951828003, 0.04449835792183876, 0.010644445195794106, 0.019819701090455055, 0.01906709186732769, 0.6412755250930786, 0.0, 0.0, 0.0, 0.0, 0.0, 0.0, 0.0, 0.0, 0.0, 0.0, 0.0, 0.0, 0.0, 0.0, 0.0, 0.0, 0.0, 0.0, 0.0, 0.0, 0.0, 0.0, 0.0, 0.0, 0.0, 0.0], [0.17970198392868042, 0.05994986742734909, 0.013834245502948761, 0.015969131141901016, 0.014984380453824997, 0.7048674821853638, 0.0106929000467062, 0.0, 0.0, 0.0, 0.0, 0.0, 0.0, 0.0, 0.0, 0.0, 0.0, 0.0, 0.0, 0.0, 0.0, 0.0, 0.0, 0.0, 0.0, 0.0, 0.0, 0.0, 0.0, 0.0, 0.0, 0.0], [0.2921772003173828, 0.23036473989486694, 0.013364650309085846, 0.0266123004257679, 0.03884240239858627, 0.301715224981308, 0.027620088309049606, 0.06930336356163025, 0.0, 0.0, 0.0, 0.0, 0.0, 0.0, 0.0, 0.0, 0.0, 0.0, 0.0, 0.0, 0.0, 0.0, 0.0, 0.0, 0.0, 0.0, 0.0, 0.0, 0.0, 0.0, 0.0, 0.0], [0.10091319680213928, 0.10582023113965988, 0.030853208154439926, 0.06094019114971161, 0.0350884273648262, 0.3307999074459076, 0.059599488973617554, 0.052181657403707504, 0.22380363941192627, 0.0, 0.0, 0.0, 0.0, 0.0, 0.0, 0.0, 0.0, 0.0, 0.0, 0.0, 0.0, 0.0, 0.0, 0.0, 0.0, 0.0, 0.0, 0.0, 0.0, 0.0, 0.0, 0.0], [0.6140515804290771, 0.11844554543495178, 0.0365985706448555, 0.05184834077954292, 0.014476346783339977, 0.0679900273680687, 0.005113961640745401, 0.029444610700011253, 0.022374389693140984, 0.03965656831860542, 0.0, 0.0, 0.0, 0.0, 0.0, 0.0, 0.0, 0.0, 0.0, 0.0, 0.0, 0.0, 0.0, 0.0, 0.0, 0.0, 0.0, 0.0, 0.0, 0.0, 0.0, 0.0], [0.8045053482055664, 0.04798397421836853, 0.02526198886334896, 0.02641512081027031, 0.004674882628023624, 0.040337275713682175, 0.0016609696904197335, 0.007467448711395264, 0.011365702375769615, 0.014015468768775463, 0.016311727464199066, 0.0, 0.0, 0.0, 0.0, 0.0, 0.0, 0.0, 0.0, 0.0, 0.0, 0.0, 0.0, 0.0, 0.0, 0.0, 0.0, 0.0, 0.0, 0.0, 0.0, 0.0], [0.5010557770729065, 0.17769891023635864, 0.06217370182275772, 0.06270228326320648, 0.026934657245874405, 0.03009111061692238, 0.009385853074491024, 0.017851753160357475, 0.02094932459294796, 0.022826852276921272, 0.0282279122620821, 0.04010189697146416, 0.0, 0.0, 0.0, 0.0, 0.0, 0.0, 0.0, 0.0, 0.0, 0.0, 0.0, 0.0, 0.0, 0.0, 0.0, 0.0, 0.0, 0.0, 0.0, 0.0], [0.527749240398407, 0.060215484350919724, 0.05159180238842964, 0.03128072991967201, 0.031232530251145363, 0.043286070227622986, 0.028919588774442673, 0.023496193811297417, 0.04569442197680473, 0.0370786190032959, 0.033163271844387054, 0.023427067324519157, 0.0628649890422821, 0.0, 0.0, 0.0, 0.0, 0.0, 0.0, 0.0, 0.0, 0.0, 0.0, 0.0, 0.0, 0.0, 0.0, 0.0, 0.0, 0.0, 0.0, 0.0], [0.8108289837837219, 0.03913066163659096, 0.01857278123497963, 0.015149427577853203, 0.014617919921875, 0.014783059246838093, 0.003751707961782813, 0.011381804011762142, 0.008034888654947281, 0.008650276809930801, 0.0053687794134020805, 0.0028729387558996677, 0.018067745491862297, 0.028788933530449867, 0.0, 0.0, 0.0, 0.0, 0.0, 0.0, 0.0, 0.0, 0.0, 0.0, 0.0, 0.0, 0.0, 0.0, 0.0, 0.0, 0.0, 0.0], [0.24009744822978973, 0.11525309085845947, 0.04534079506993294, 0.043782494962215424, 0.06643305718898773, 0.011311528272926807, 0.035872481763362885, 0.05913007631897926, 0.09810690581798553, 0.07395391166210175, 0.05350446328520775, 0.024622298777103424, 0.03923960030078888, 0.00416803453117609, 0.08918384462594986, 0.0, 0.0, 0.0, 0.0, 0.0, 0.0, 0.0, 0.0, 0.0, 0.0, 0.0, 0.0, 0.0, 0.0, 0.0, 0.0, 0.0], [0.7515541315078735, 0.042046088725328445, 0.014303702861070633, 0.009787522256374359, 0.01239495538175106, 0.010526185855269432, 0.003537069307640195, 0.011129272170364857, 0.0323658213019371, 0.020721839740872383, 0.008714614436030388, 0.0031436311546713114, 0.006469015497714281, 0.0075690122321248055, 0.049597881734371185, 0.016139185056090355, 0.0, 0.0, 0.0, 0.0, 0.0, 0.0, 0.0, 0.0, 0.0, 0.0, 0.0, 0.0, 0.0, 0.0, 0.0, 0.0], [0.30923211574554443, 0.30544647574424744, 0.028771035373210907, 0.02121395617723465, 0.03913873806595802, 0.009231274016201496, 0.010142720304429531, 0.016915330663323402, 0.03357734531164169, 0.0510488785803318, 0.02723393589258194, 0.0049662115052342415, 0.028791062533855438, 0.017076417803764343, 0.016253869980573654, 0.021961500868201256, 0.05899907648563385, 0.0, 0.0, 0.0, 0.0, 0.0, 0.0, 0.0, 0.0, 0.0, 0.0, 0.0, 0.0, 0.0, 0.0, 0.0], [0.381608247756958, 0.09483575075864792, 0.02725290320813656, 0.04060850664973259, 0.03468717262148857, 0.01058373786509037, 0.014705827459692955, 0.017821861431002617, 0.03500216454267502, 0.05547042563557625, 0.037463363260030746, 0.006800699979066849, 0.030109921470284462, 0.017490137368440628, 0.08316720277070999, 0.024745777249336243, 0.0632651150226593, 0.024381177499890327, 0.0, 0.0, 0.0, 0.0, 0.0, 0.0, 0.0, 0.0, 0.0, 0.0, 0.0, 0.0, 0.0, 0.0], [0.24159033596515656, 0.024189695715904236, 0.09129861742258072, 0.04251405969262123, 0.05220538750290871, 0.03795189410448074, 0.032220229506492615, 0.019735505804419518, 0.05488893762230873, 0.03606647253036499, 0.043173160403966904, 0.03994026407599449, 0.03938081115484238, 0.010395675897598267, 0.10872264951467514, 0.030138084664940834, 0.035811200737953186, 0.0467931292951107, 0.012983905151486397, 0.0, 0.0, 0.0, 0.0, 0.0, 0.0, 0.0, 0.0, 0.0, 0.0, 0.0, 0.0, 0.0], [0.5527024865150452, 0.05517297983169556, 0.03282107412815094, 0.044441819190979004, 0.023025723174214363, 0.007863622158765793, 0.01737065240740776, 0.032402120530605316, 0.019719472154974937, 0.06609632074832916, 0.01829581893980503, 0.018373889848589897, 0.011782684363424778, 0.0008650426170788705, 0.020108191296458244, 0.016843119636178017, 0.012541297823190689, 0.01173631101846695, 0.0004092079761903733, 0.037428226321935654, 0.0, 0.0, 0.0, 0.0, 0.0, 0.0, 0.0, 0.0, 0.0, 0.0, 0.0, 0.0], [0.5067297220230103, 0.014765250496566296, 0.06961151212453842, 0.021995775401592255, 0.024607999250292778, 0.012486680410802364, 0.020465707406401634, 0.018893582746386528, 0.06283915042877197, 0.04379785805940628, 0.034445345401763916, 0.02726873569190502, 0.012613981030881405, 0.006193268112838268, 0.018363073468208313, 0.016352996230125427, 0.015758050605654716, 0.012009411118924618, 0.003205789951607585, 0.011578408069908619, 0.046017639338970184, 0.0, 0.0, 0.0, 0.0, 0.0, 0.0, 0.0, 0.0, 0.0, 0.0, 0.0], [0.3119952976703644, 0.09901441633701324, 0.05667626112699509, 0.04765333607792854, 0.04445699602365494, 0.04223615676164627, 0.023748120293021202, 0.08712778240442276, 0.02307439036667347, 0.041070811450481415, 0.03612060472369194, 0.04358219355344772, 0.033318158239126205, 0.0013814207632094622, 0.013700020499527454, 0.022483430802822113, 0.007242484483867884, 0.019578108564019203, 0.0006722171092405915, 0.017516860738396645, 0.012988545931875706, 0.01436245534569025, 0.0, 0.0, 0.0, 0.0, 0.0, 0.0, 0.0, 0.0, 0.0, 0.0], [0.4095507264137268, 0.06371592730283737, 0.01940731331706047, 0.035628512501716614, 0.027969565242528915, 0.011516263708472252, 0.013513556681573391, 0.04933064803481102, 0.014875874854624271, 0.07444366812705994, 0.019848397001624107, 0.02391672693192959, 0.013665953651070595, 0.0007530185976065695, 0.015077244490385056, 0.02072451077401638, 0.014873704873025417, 0.009243382140994072, 0.00035063395625911653, 0.04076465964317322, 0.05777273699641228, 0.018120961263775826, 0.04493594914674759, 0.0, 0.0, 0.0, 0.0, 0.0, 0.0, 0.0, 0.0, 0.0], [0.13557462394237518, 0.0921616405248642, 0.008890196681022644, 0.022025909274816513, 0.02442006580531597, 0.029447009786963463, 0.015067754313349724, 0.03458264097571373, 0.06881368160247803, 0.11922986060380936, 0.04406537115573883, 0.00639314716681838, 0.018038110807538033, 0.0025198834482580423, 0.0038388215471059084, 0.004851216450333595, 0.004702830221503973, 0.004068765323609114, 0.012201518751680851, 0.07044326514005661, 0.11226766556501389, 0.015799185261130333, 0.07875177264213562, 0.07184503227472305, 0.0, 0.0, 0.0, 0.0, 0.0, 0.0, 0.0, 0.0], [0.09693752974271774, 0.0469980388879776, 0.012536127120256424, 0.044451337307691574, 0.018859703093767166, 0.082151859998703, 0.025908585637807846, 0.033126529306173325, 0.05642731860280037, 0.05583660304546356, 0.03795364499092102, 0.03838269039988518, 0.03192633017897606, 0.004158614668995142, 0.029518354684114456, 0.013833734206855297, 0.030603505671024323, 0.01000772975385189, 0.014456597156822681, 0.06086857616901398, 0.01619987189769745, 0.051922909915447235, 0.035767726600170135, 0.04747018590569496, 0.10369593650102615, 0.0, 0.0, 0.0, 0.0, 0.0, 0.0, 0.0], [0.4769234359264374, 0.05323231220245361, 0.013902081176638603, 0.04324443265795708, 0.009300184436142445, 0.03497691825032234, 0.0023944831918925047, 0.021453531458973885, 0.006708504166454077, 0.021559467539191246, 0.020551351830363274, 0.046175744384527206, 0.008434169925749302, 0.0014936611987650394, 0.027389980852603912, 0.005678229499608278, 0.0069367000833153725, 0.004015002399682999, 0.0009791876655071974, 0.026107750833034515, 0.01168583333492279, 0.03896563500165939, 0.02008672244846821, 0.04666757211089134, 0.010261510498821735, 0.04087565094232559, 0.0, 0.0, 0.0, 0.0, 0.0, 0.0], [0.6063432693481445, 0.028211114928126335, 0.010844104923307896, 0.025474444031715393, 0.003156365128234029, 0.018000980839133263, 0.000745116441976279, 0.005787715315818787, 0.0035115687642246485, 0.008218497969210148, 0.008434916846454144, 0.11233239620923996, 0.008511115796864033, 0.00028773132362402976, 0.0406498908996582, 0.004608528688549995, 0.010190009139478207, 0.005049343686550856, 0.00013128475984558463, 0.016275975853204727, 0.002432726789265871, 0.037978317588567734, 0.005429936107248068, 0.009595037437975407, 0.0038423200603574514, 0.011105614714324474, 0.012851589359343052, 0.0, 0.0, 0.0, 0.0, 0.0], [0.03627502918243408, 0.05634564533829689, 0.002222247188910842, 0.009196200408041477, 0.0020176407415419817, 0.0026318873278796673, 0.0004531406448222697, 0.0029734347481280565, 0.0007789054070599377, 0.001548674888908863, 0.0021134745329618454, 0.0029988910537213087, 0.007925480604171753, 0.0006874589598737657, 0.0018962596077471972, 0.0014095742953941226, 0.004751297179609537, 0.0012216295581310987, 0.0012004799209535122, 0.044012732803821564, 0.001754400902427733, 0.005769377574324608, 0.7918745875358582, 0.0065594883635640144, 0.0014504552818834782, 0.0021926970221102238, 0.0034874610137194395, 0.00425138371065259, 0.0, 0.0, 0.0, 0.0], [0.461327463388443, 0.049330297857522964, 0.01230794657021761, 0.028819283470511436, 0.009200042113661766, 0.008943571709096432, 0.001756601152010262, 0.009515435434877872, 0.008042540401220322, 0.007924560457468033, 0.005598968826234341, 0.003957988228648901, 0.020219316706061363, 0.00896399188786745, 0.03965579345822334, 0.006884078029543161, 0.027150312438607216, 0.0058304681442677975, 0.02553367428481579, 0.08388477563858032, 0.019322499632835388, 0.07420412451028824, 0.03533124178647995, 0.013152399100363255, 0.007768306881189346, 0.009026219137012959, 0.007875731214880943, 0.004070186987519264, 0.0044021387584507465, 0.0, 0.0, 0.0], [0.3181610405445099, 0.016981983557343483, 0.056064095348119736, 0.03245943412184715, 0.0326385423541069, 0.03482251241803169, 0.007603357546031475, 0.013729576021432877, 0.016951216384768486, 0.011262288317084312, 0.017148137092590332, 0.030931489542126656, 0.03073812834918499, 0.00775480642914772, 0.06491019576787949, 0.012356942519545555, 0.02251262590289116, 0.014951701276004314, 0.008028249256312847, 0.017081478610634804, 0.01420239545404911, 0.06503447145223618, 0.0012997939484193921, 0.01581769995391369, 0.016781320795416832, 0.01347113773226738, 0.025607049465179443, 0.027027856558561325, 0.03920477628707886, 0.01446568500250578, 0.0, 0.0], [0.46676841378211975, 0.035157669335603714, 0.013160346075892448, 0.025745252147316933, 0.010224618017673492, 0.007900015451014042, 0.004846830386668444, 0.018723344430327415, 0.0077449544332921505, 0.024819403886795044, 0.0066673168912529945, 0.010149016976356506, 0.008318749256432056, 0.00043972322600893676, 0.009905003011226654, 0.007132959086447954, 0.008162394165992737, 0.004219622351229191, 0.000205583157367073, 0.02500264160335064, 0.02769731543958187, 0.023837365210056305, 0.014974820427596569, 0.07045113295316696, 0.016193540766835213, 0.05140984058380127, 0.015600243583321571, 0.018842913210392, 0.013749519363045692, 0.0005684231291525066, 0.05138096958398819, 0.0], [0.4314149022102356, 0.009269865229725838, 0.046669743955135345, 0.016330746933817863, 0.016983240842819214, 0.015181886032223701, 0.009320979006588459, 0.01271229237318039, 0.027995610609650612, 0.01794629544019699, 0.015269814990460873, 0.020986348390579224, 0.010198893956840038, 0.005295795854181051, 0.017065709456801414, 0.010628549382090569, 0.013914413750171661, 0.007038032170385122, 0.002451858017593622, 0.00714669656008482, 0.01883642002940178, 0.04827861487865448, 0.0013161463430151343, 0.03403124585747719, 0.04312077909708023, 0.028239168226718903, 0.026894912123680115, 0.021752938628196716, 0.017808955162763596, 0.004578022751957178, 0.014432265423238277, 0.026888860389590263]], [[1.0, 0.0, 0.0, 0.0, 0.0, 0.0, 0.0, 0.0, 0.0, 0.0, 0.0, 0.0, 0.0, 0.0, 0.0, 0.0, 0.0, 0.0, 0.0, 0.0, 0.0, 0.0, 0.0, 0.0, 0.0, 0.0, 0.0, 0.0, 0.0, 0.0, 0.0, 0.0], [0.6014326810836792, 0.3985673189163208, 0.0, 0.0, 0.0, 0.0, 0.0, 0.0, 0.0, 0.0, 0.0, 0.0, 0.0, 0.0, 0.0, 0.0, 0.0, 0.0, 0.0, 0.0, 0.0, 0.0, 0.0, 0.0, 0.0, 0.0, 0.0, 0.0, 0.0, 0.0, 0.0, 0.0], [0.20038829743862152, 0.16651402413845062, 0.6330976486206055, 0.0, 0.0, 0.0, 0.0, 0.0, 0.0, 0.0, 0.0, 0.0, 0.0, 0.0, 0.0, 0.0, 0.0, 0.0, 0.0, 0.0, 0.0, 0.0, 0.0, 0.0, 0.0, 0.0, 0.0, 0.0, 0.0, 0.0, 0.0, 0.0], [0.12858983874320984, 0.29813352227211, 0.09814254194498062, 0.47513407468795776, 0.0, 0.0, 0.0, 0.0, 0.0, 0.0, 0.0, 0.0, 0.0, 0.0, 0.0, 0.0, 0.0, 0.0, 0.0, 0.0, 0.0, 0.0, 0.0, 0.0, 0.0, 0.0, 0.0, 0.0, 0.0, 0.0, 0.0, 0.0], [0.5311863422393799, 0.21473900973796844, 0.012567218393087387, 0.18684928119182587, 0.05465811491012573, 0.0, 0.0, 0.0, 0.0, 0.0, 0.0, 0.0, 0.0, 0.0, 0.0, 0.0, 0.0, 0.0, 0.0, 0.0, 0.0, 0.0, 0.0, 0.0, 0.0, 0.0, 0.0, 0.0, 0.0, 0.0, 0.0, 0.0], [0.09020150452852249, 0.027809863910079002, 0.0169079527258873, 0.02863735519349575, 0.07480888813734055, 0.761634349822998, 0.0, 0.0, 0.0, 0.0, 0.0, 0.0, 0.0, 0.0, 0.0, 0.0, 0.0, 0.0, 0.0, 0.0, 0.0, 0.0, 0.0, 0.0, 0.0, 0.0, 0.0, 0.0, 0.0, 0.0, 0.0, 0.0], [0.02011403813958168, 0.0589425228536129, 0.12920844554901123, 0.16181127727031708, 0.22889938950538635, 0.11035436391830444, 0.2906699478626251, 0.0, 0.0, 0.0, 0.0, 0.0, 0.0, 0.0, 0.0, 0.0, 0.0, 0.0, 0.0, 0.0, 0.0, 0.0, 0.0, 0.0, 0.0, 0.0, 0.0, 0.0, 0.0, 0.0, 0.0, 0.0], [0.6501832008361816, 0.06047334149479866, 0.022724168375134468, 0.07898473739624023, 0.02996196784079075, 0.1194775179028511, 0.0004796644498128444, 0.03771531209349632, 0.0, 0.0, 0.0, 0.0, 0.0, 0.0, 0.0, 0.0, 0.0, 0.0, 0.0, 0.0, 0.0, 0.0, 0.0, 0.0, 0.0, 0.0, 0.0, 0.0, 0.0, 0.0, 0.0, 0.0], [0.7895327210426331, 0.02770952880382538, 0.0008363094530068338, 0.0770627111196518, 0.004545025993138552, 0.021648818626999855, 0.0031088553369045258, 0.03140806406736374, 0.04414805769920349, 0.0, 0.0, 0.0, 0.0, 0.0, 0.0, 0.0, 0.0, 0.0, 0.0, 0.0, 0.0, 0.0, 0.0, 0.0, 0.0, 0.0, 0.0, 0.0, 0.0, 0.0, 0.0, 0.0], [0.6596910953521729, 0.08244170993566513, 0.0032062469981610775, 0.14396941661834717, 0.008792278356850147, 0.032523952424526215, 0.0007917179609648883, 0.05054008960723877, 0.00838314089924097, 0.00966043584048748, 0.0, 0.0, 0.0, 0.0, 0.0, 0.0, 0.0, 0.0, 0.0, 0.0, 0.0, 0.0, 0.0, 0.0, 0.0, 0.0, 0.0, 0.0, 0.0, 0.0, 0.0, 0.0], [0.554190456867218, 0.11156697571277618, 0.012597909197211266, 0.0627337172627449, 0.04433020204305649, 0.011092484928667545, 0.005697126034647226, 0.05460185557603836, 0.043780408799648285, 0.024851176887750626, 0.07455769181251526, 0.0, 0.0, 0.0, 0.0, 0.0, 0.0, 0.0, 0.0, 0.0, 0.0, 0.0, 0.0, 0.0, 0.0, 0.0, 0.0, 0.0, 0.0, 0.0, 0.0, 0.0], [0.08709561824798584, 0.016044288873672485, 0.24029949307441711, 0.0032735890708863735, 0.17031285166740417, 0.004499442875385284, 0.014192885719239712, 0.01966821402311325, 0.07612551748752594, 0.04134761914610863, 0.07710756361484528, 0.2500329613685608, 0.0, 0.0, 0.0, 0.0, 0.0, 0.0, 0.0, 0.0, 0.0, 0.0, 0.0, 0.0, 0.0, 0.0, 0.0, 0.0, 0.0, 0.0, 0.0, 0.0], [0.38642629981040955, 0.012375441379845142, 0.007106336299329996, 0.008521762676537037, 0.004008796997368336, 0.015749378129839897, 0.0004969793371856213, 0.01377410814166069, 0.02317766845226288, 0.0013364854967221618, 0.0033707397524267435, 0.22468583285808563, 0.29897013306617737, 0.0, 0.0, 0.0, 0.0, 0.0, 0.0, 0.0, 0.0, 0.0, 0.0, 0.0, 0.0, 0.0, 0.0, 0.0, 0.0, 0.0, 0.0, 0.0], [0.13694557547569275, 0.03651918098330498, 0.03567156568169594, 0.00647576991468668, 0.017897266894578934, 0.031218595802783966, 0.005374282598495483, 0.04232509061694145, 0.029420385137200356, 0.015139545314013958, 0.011334491893649101, 0.077728770673275, 0.48204219341278076, 0.07190737873315811, 0.0, 0.0, 0.0, 0.0, 0.0, 0.0, 0.0, 0.0, 0.0, 0.0, 0.0, 0.0, 0.0, 0.0, 0.0, 0.0, 0.0, 0.0], [0.048833783715963364, 0.016765950247645378, 0.208952397108078, 0.0029805884696543217, 0.09854051470756531, 0.025237981230020523, 0.07008448243141174, 0.017153669148683548, 0.10535068064928055, 0.019629236310720444, 0.027182959020137787, 0.026710327714681625, 0.07398585975170135, 0.20389188826084137, 0.054699644446372986, 0.0, 0.0, 0.0, 0.0, 0.0, 0.0, 0.0, 0.0, 0.0, 0.0, 0.0, 0.0, 0.0, 0.0, 0.0, 0.0, 0.0], [0.02993273176252842, 0.004253491759300232, 0.11609582602977753, 0.0015903112944215536, 0.15095283091068268, 0.002655068878084421, 0.02075750008225441, 0.008083541877567768, 0.05412343889474869, 0.015093756839632988, 0.056800149381160736, 0.024391738697886467, 0.04635893180966377, 0.3958284854888916, 0.0073081315495073795, 0.0657740905880928, 0.0, 0.0, 0.0, 0.0, 0.0, 0.0, 0.0, 0.0, 0.0, 0.0, 0.0, 0.0, 0.0, 0.0, 0.0, 0.0], [0.1255233883857727, 0.0049581206403672695, 0.12128609418869019, 0.008545917458832264, 0.1148262768983841, 0.003804389853030443, 0.029253540560603142, 0.014470363035798073, 0.04822199046611786, 0.013141371309757233, 0.02867678552865982, 0.019364548847079277, 0.04668460786342621, 0.2110396921634674, 0.023820504546165466, 0.10993333160877228, 0.07644914835691452, 0.0, 0.0, 0.0, 0.0, 0.0, 0.0, 0.0, 0.0, 0.0, 0.0, 0.0, 0.0, 0.0, 0.0, 0.0], [0.04352407157421112, 0.005579178221523762, 0.15194536745548248, 0.002700286451727152, 0.12214366346597672, 0.001383464434184134, 0.02483416721224785, 0.0151820732280612, 0.07872196286916733, 0.05129646137356758, 0.05894383415579796, 0.012615570798516273, 0.03405970335006714, 0.20932388305664062, 0.006314502563327551, 0.036686018109321594, 0.011843904852867126, 0.1329018622636795, 0.0, 0.0, 0.0, 0.0, 0.0, 0.0, 0.0, 0.0, 0.0, 0.0, 0.0, 0.0, 0.0, 0.0], [0.4220031797885895, 0.02697100304067135, 0.016016269102692604, 0.006962693762034178, 0.01842108927667141, 0.007691117934882641, 0.0024968713987618685, 0.02550848014652729, 0.049281902611255646, 0.017309138551354408, 0.03408046439290047, 0.04345845431089401, 0.07121077924966812, 0.009133992716670036, 0.06790713965892792, 0.014749468304216862, 0.11118728667497635, 0.04247233271598816, 0.013138274662196636, 0.0, 0.0, 0.0, 0.0, 0.0, 0.0, 0.0, 0.0, 0.0, 0.0, 0.0, 0.0, 0.0], [0.022640623152256012, 0.0031459361780434847, 0.0005697670858353376, 0.003604820230975747, 0.0005572219379246235, 0.0017349402187392116, 1.7430073057767004e-05, 0.0008351246360689402, 0.00029268197249621153, 0.00019750063074752688, 0.00038831401616334915, 0.0007472684374079108, 0.0008707872475497425, 0.00017884330009110272, 0.003689672565087676, 0.0004994900082238019, 0.0016593846958130598, 0.0003122579655610025, 9.275543561670929e-05, 0.9579651951789856, 0.0, 0.0, 0.0, 0.0, 0.0, 0.0, 0.0, 0.0, 0.0, 0.0, 0.0, 0.0], [0.3461499810218811, 0.005483550019562244, 0.0004943686071783304, 0.01285469438880682, 0.0033676361199468374, 0.010241026058793068, 0.0002598772116471082, 0.005517289508134127, 0.00747422082349658, 0.001209885929711163, 0.0022483905777335167, 0.005310375709086657, 0.003508059773594141, 0.0003997555759269744, 0.024187244474887848, 0.003973484970629215, 0.03569255769252777, 0.002779862377792597, 0.00031870321254245937, 0.5141056776046753, 0.014423420652747154, 0.0, 0.0, 0.0, 0.0, 0.0, 0.0, 0.0, 0.0, 0.0, 0.0, 0.0], [0.056804947555065155, 0.021273484453558922, 0.0915481373667717, 0.005553066730499268, 0.18160662055015564, 0.002745815319940448, 0.052583128213882446, 0.013140160590410233, 0.03682935610413551, 0.046523094177246094, 0.06108732149004936, 0.022427016869187355, 0.027783026918768883, 0.11620374023914337, 0.0015549762174487114, 0.006048616953194141, 0.000602882297243923, 0.011220542713999748, 0.11922718584537506, 0.00612582266330719, 0.10761832445859909, 0.011492754332721233, 0.0, 0.0, 0.0, 0.0, 0.0, 0.0, 0.0, 0.0, 0.0, 0.0], [0.027121158316731453, 0.02484274096786976, 0.0011734225554391742, 0.015989836305379868, 0.003081495640799403, 0.017371011897921562, 0.0004535619227681309, 0.005065923556685448, 0.00114341638982296, 0.0013172042090445757, 0.0009702618699520826, 0.004276134539395571, 0.002679845318198204, 0.0005638530710712075, 0.003211126895621419, 0.0009286791319027543, 0.0020206936169415712, 0.0011927898740395904, 0.00036993587855249643, 0.39545905590057373, 0.011892789974808693, 0.012224406003952026, 0.46665069460868835, 0.0, 0.0, 0.0, 0.0, 0.0, 0.0, 0.0, 0.0, 0.0], [0.07513649761676788, 0.0033062512520700693, 7.413130515487865e-05, 0.0038455736357718706, 0.0004672777431551367, 0.0021748722065240145, 3.104932829955942e-06, 0.0014550258638337255, 5.7916768128052354e-05, 6.294683407759294e-05, 3.393189035705291e-05, 0.00019058340694755316, 8.282423368655145e-05, 1.1430719496274833e-05, 0.0025726037565618753, 9.25705098779872e-05, 0.001432177727110684, 4.88321966258809e-05, 1.2269993021618575e-05, 0.5330361127853394, 9.810832852963358e-05, 0.001686424482613802, 0.36415567994117737, 0.009962870739400387, 0.0, 0.0, 0.0, 0.0, 0.0, 0.0, 0.0, 0.0], [0.07110749930143356, 0.0020303698256611824, 1.1315234587527812e-05, 0.0059763905592262745, 0.00016781057638581842, 0.001281381701119244, 6.282750837272033e-05, 0.001772503019310534, 0.0008051455952227116, 7.330437074415386e-05, 9.487801435170695e-05, 0.00023342861095443368, 0.0003433341917116195, 9.283952749683522e-06, 0.005529804155230522, 0.00024196060257963836, 0.0019302669679746032, 6.022749585099518e-05, 8.847934623190667e-06, 0.6891703009605408, 2.6123050702153705e-05, 0.0010423407657071948, 0.2091958373785019, 0.005678271874785423, 0.0031465294305235147, 0.0, 0.0, 0.0, 0.0, 0.0, 0.0, 0.0], [0.058705199509859085, 0.004121128935366869, 6.710951856803149e-05, 0.00846959464251995, 0.0004110464360564947, 0.0019331531366333365, 3.7263369449647143e-05, 0.002561031375080347, 0.00015881603758316487, 0.0002824687398970127, 0.0001238654658664018, 0.0014588873600587249, 0.001127846771851182, 1.8163367712986656e-05, 0.017064373940229416, 0.0004820576577913016, 0.006912147626280785, 0.0003651297010947019, 2.9132077543181367e-05, 0.5905227065086365, 3.368844772921875e-05, 0.004651463124901056, 0.2927439510822296, 0.006491628475487232, 0.000599774532020092, 0.0006283542606979609, 0.0, 0.0, 0.0, 0.0, 0.0, 0.0], [0.16603994369506836, 0.01814056932926178, 0.0012479886645451188, 0.011706703342497349, 0.007702752016484737, 0.001767345704138279, 0.000998559407889843, 0.009239350445568562, 0.0038029414135962725, 0.002623968059197068, 0.006712666712701321, 0.02119831182062626, 0.007911925204098225, 0.0004493958840612322, 0.036717597395181656, 0.003375785192474723, 0.011979485861957073, 0.003841838100925088, 0.0006109038949944079, 0.3987278938293457, 0.001526589272543788, 0.010125037282705307, 0.20364263653755188, 0.03298404812812805, 0.014387905597686768, 0.006128926295787096, 0.01640889048576355, 0.0, 0.0, 0.0, 0.0, 0.0], [0.1696874350309372, 0.004712267778813839, 0.038217708468437195, 0.0017804688541218638, 0.07365493476390839, 0.00045446722651831806, 0.002126920036971569, 0.004617782775312662, 0.006465767044574022, 0.005507069174200296, 0.020896559581160545, 0.12552525103092194, 0.021991439163684845, 0.044011473655700684, 0.008191259577870369, 0.01640751212835312, 0.010179474018514156, 0.02964695170521736, 0.045645542442798615, 0.011018777266144753, 0.01734318770468235, 0.004145078361034393, 0.0025010888930410147, 0.017825013026595116, 0.020547695457935333, 0.014023459516465664, 0.05054705962538719, 0.23232834041118622, 0.0, 0.0, 0.0, 0.0], [0.04977310076355934, 0.004980533849447966, 0.05713870748877525, 0.0007700961432419717, 0.06297149509191513, 0.0002858397492673248, 0.006096367258578539, 0.006125734653323889, 0.015284206718206406, 0.01137197483330965, 0.026286162436008453, 0.040039755403995514, 0.021524658426642418, 0.1273583471775055, 0.004329501185566187, 0.01507017482072115, 0.008354668505489826, 0.04125675559043884, 0.15255090594291687, 0.0008361395448446274, 0.022757727652788162, 0.012028508819639683, 0.001174087286926806, 0.013685514219105244, 0.03370976448059082, 0.02427017316222191, 0.07064949721097946, 0.09666351228952408, 0.07265611737966537, 0.0, 0.0, 0.0], [0.26801592111587524, 0.016982391476631165, 0.007890589535236359, 0.002039192710071802, 0.011172110214829445, 0.004038934595882893, 0.0013893122086301446, 0.010891713201999664, 0.01182179432362318, 0.005880114622414112, 0.014743071980774403, 0.08645133674144745, 0.059510476887226105, 0.008116988465189934, 0.04489792883396149, 0.007658221293240786, 0.05927027016878128, 0.019531136378645897, 0.01167260017246008, 0.011366192251443863, 0.008630914613604546, 0.05001801997423172, 0.005069048143923283, 0.014773374423384666, 0.021271001547574997, 0.010837703943252563, 0.03021176904439926, 0.04232622683048248, 0.10912720859050751, 0.04439447075128555, 0.0, 0.0], [0.00806606188416481, 0.0008805459947325289, 0.00011588938650675118, 0.0006305741262622178, 0.00011884575360454619, 0.00047820815234445035, 2.021518639594433e-06, 0.00020902467076666653, 4.041780630359426e-05, 3.211414878023788e-05, 6.135118746897206e-05, 0.0003093736304435879, 0.0003084940544795245, 5.425294875749387e-05, 0.0011929640313610435, 0.00012185872037662193, 0.0006001833244226873, 6.362465501297265e-05, 2.6689100195653737e-05, 0.310283899307251, 0.0012670474825426936, 0.0007993928156793118, 0.010760745964944363, 0.0015097488649189472, 0.00015109147352632135, 6.076627323636785e-05, 0.00011898524826392531, 0.0015301135135814548, 0.00023031535965856165, 7.804411870893091e-05, 0.6598973870277405, 0.0], [0.24450884759426117, 0.003081244183704257, 0.00031198025681078434, 0.005046057049185038, 0.0017598558915778995, 0.007196625228971243, 0.00012858194531872869, 0.0027238938491791487, 0.0025294742081314325, 0.0004576590145006776, 0.0007765911286696792, 0.004210440907627344, 0.0030156909488141537, 0.00031832230160944164, 0.015290101058781147, 0.0022480881307274103, 0.0246236901730299, 0.001279264222830534, 0.0002034202916547656, 0.21832118928432465, 0.0063738515600562096, 0.012329304590821266, 0.01359086949378252, 0.009651966392993927, 0.005202161613851786, 0.0006352912168949842, 0.001362680341117084, 0.005019309464842081, 0.002988182008266449, 0.00040127962711267173, 0.39135220646858215, 0.013061800971627235]], [[1.0, 0.0, 0.0, 0.0, 0.0, 0.0, 0.0, 0.0, 0.0, 0.0, 0.0, 0.0, 0.0, 0.0, 0.0, 0.0, 0.0, 0.0, 0.0, 0.0, 0.0, 0.0, 0.0, 0.0, 0.0, 0.0, 0.0, 0.0, 0.0, 0.0, 0.0, 0.0], [0.4084659814834595, 0.5915340185165405, 0.0, 0.0, 0.0, 0.0, 0.0, 0.0, 0.0, 0.0, 0.0, 0.0, 0.0, 0.0, 0.0, 0.0, 0.0, 0.0, 0.0, 0.0, 0.0, 0.0, 0.0, 0.0, 0.0, 0.0, 0.0, 0.0, 0.0, 0.0, 0.0, 0.0], [0.4328307509422302, 0.3957368731498718, 0.17143231630325317, 0.0, 0.0, 0.0, 0.0, 0.0, 0.0, 0.0, 0.0, 0.0, 0.0, 0.0, 0.0, 0.0, 0.0, 0.0, 0.0, 0.0, 0.0, 0.0, 0.0, 0.0, 0.0, 0.0, 0.0, 0.0, 0.0, 0.0, 0.0, 0.0], [0.5658496618270874, 0.30984118580818176, 0.06650801748037338, 0.05780118331313133, 0.0, 0.0, 0.0, 0.0, 0.0, 0.0, 0.0, 0.0, 0.0, 0.0, 0.0, 0.0, 0.0, 0.0, 0.0, 0.0, 0.0, 0.0, 0.0, 0.0, 0.0, 0.0, 0.0, 0.0, 0.0, 0.0, 0.0, 0.0], [0.3295859396457672, 0.32916101813316345, 0.07736245542764664, 0.08531296253204346, 0.17857769131660461, 0.0, 0.0, 0.0, 0.0, 0.0, 0.0, 0.0, 0.0, 0.0, 0.0, 0.0, 0.0, 0.0, 0.0, 0.0, 0.0, 0.0, 0.0, 0.0, 0.0, 0.0, 0.0, 0.0, 0.0, 0.0, 0.0, 0.0], [0.2936226725578308, 0.21800753474235535, 0.1186499074101448, 0.04543975740671158, 0.29547834396362305, 0.028801709413528442, 0.0, 0.0, 0.0, 0.0, 0.0, 0.0, 0.0, 0.0, 0.0, 0.0, 0.0, 0.0, 0.0, 0.0, 0.0, 0.0, 0.0, 0.0, 0.0, 0.0, 0.0, 0.0, 0.0, 0.0, 0.0, 0.0], [0.46181973814964294, 0.2574509084224701, 0.04409355670213699, 0.055296268314123154, 0.054963886737823486, 0.04368456453084946, 0.08269111812114716, 0.0, 0.0, 0.0, 0.0, 0.0, 0.0, 0.0, 0.0, 0.0, 0.0, 0.0, 0.0, 0.0, 0.0, 0.0, 0.0, 0.0, 0.0, 0.0, 0.0, 0.0, 0.0, 0.0, 0.0, 0.0], [0.3575727045536041, 0.05968498811125755, 0.09850968420505524, 0.01701159030199051, 0.19096067547798157, 0.05636928975582123, 0.18002979457378387, 0.03986120596528053, 0.0, 0.0, 0.0, 0.0, 0.0, 0.0, 0.0, 0.0, 0.0, 0.0, 0.0, 0.0, 0.0, 0.0, 0.0, 0.0, 0.0, 0.0, 0.0, 0.0, 0.0, 0.0, 0.0, 0.0], [0.58392733335495, 0.17981749773025513, 0.0325181670486927, 0.013543817214667797, 0.05068649351596832, 0.029914259910583496, 0.006524043157696724, 0.05075658857822418, 0.052311770617961884, 0.0, 0.0, 0.0, 0.0, 0.0, 0.0, 0.0, 0.0, 0.0, 0.0, 0.0, 0.0, 0.0, 0.0, 0.0, 0.0, 0.0, 0.0, 0.0, 0.0, 0.0, 0.0, 0.0], [0.22868017852306366, 0.2484772503376007, 0.0726165622472763, 0.050513166934251785, 0.11963421106338501, 0.052003730088472366, 0.06074293702840805, 0.042472366243600845, 0.05254153907299042, 0.07231796532869339, 0.0, 0.0, 0.0, 0.0, 0.0, 0.0, 0.0, 0.0, 0.0, 0.0, 0.0, 0.0, 0.0, 0.0, 0.0, 0.0, 0.0, 0.0, 0.0, 0.0, 0.0, 0.0], [0.403677374124527, 0.23070015013217926, 0.047840479761362076, 0.016984740272164345, 0.07709986716508865, 0.032483719289302826, 0.015560654923319817, 0.02725048176944256, 0.03136904910206795, 0.050361551344394684, 0.0666719600558281, 0.0, 0.0, 0.0, 0.0, 0.0, 0.0, 0.0, 0.0, 0.0, 0.0, 0.0, 0.0, 0.0, 0.0, 0.0, 0.0, 0.0, 0.0, 0.0, 0.0, 0.0], [0.7239341735839844, 0.0770874172449112, 0.04149443656206131, 0.007151493802666664, 0.04666414111852646, 0.02704472839832306, 0.005678656976670027, 0.013338332995772362, 0.01551387645304203, 0.01966233365237713, 0.013376131653785706, 0.009054317139089108, 0.0, 0.0, 0.0, 0.0, 0.0, 0.0, 0.0, 0.0, 0.0, 0.0, 0.0, 0.0, 0.0, 0.0, 0.0, 0.0, 0.0, 0.0, 0.0, 0.0], [0.8893977999687195, 0.028760671615600586, 0.01243696827441454, 0.0053673698566854, 0.013094624504446983, 0.0192517451941967, 0.003379050176590681, 0.0038893113378435373, 0.0030383609700948, 0.0028734763618558645, 0.0016808274667710066, 0.0017760266782715917, 0.015053849667310715, 0.0, 0.0, 0.0, 0.0, 0.0, 0.0, 0.0, 0.0, 0.0, 0.0, 0.0, 0.0, 0.0, 0.0, 0.0, 0.0, 0.0, 0.0, 0.0], [0.6150133013725281, 0.14700466394424438, 0.039061978459358215, 0.013938252814114094, 0.025948461145162582, 0.021001126617193222, 0.011471363715827465, 0.009419956244528294, 0.011283439584076405, 0.016986388713121414, 0.01056833378970623, 0.01943953149020672, 0.04782621189951897, 0.011036979965865612, 0.0, 0.0, 0.0, 0.0, 0.0, 0.0, 0.0, 0.0, 0.0, 0.0, 0.0, 0.0, 0.0, 0.0, 0.0, 0.0, 0.0, 0.0], [0.5940758585929871, 0.0347750224173069, 0.003059361595660448, 0.022136136889457703, 0.003843276295810938, 0.05886119231581688, 0.0010515473550185561, 0.009697656147181988, 0.012341245077550411, 0.0019050444243475795, 0.0006091445684432983, 0.007160402834415436, 0.054644450545310974, 0.00019176416390109807, 0.19564788043498993, 0.0, 0.0, 0.0, 0.0, 0.0, 0.0, 0.0, 0.0, 0.0, 0.0, 0.0, 0.0, 0.0, 0.0, 0.0, 0.0, 0.0], [0.47790971398353577, 0.0730593353509903, 0.01844801940023899, 0.018651269376277924, 0.0264541357755661, 0.08908116072416306, 0.004279348533600569, 0.01583096757531166, 0.01752793975174427, 0.019084833562374115, 0.007366039790213108, 0.01663014106452465, 0.036923542618751526, 0.003442681161686778, 0.09317343682050705, 0.08213729411363602, 0.0, 0.0, 0.0, 0.0, 0.0, 0.0, 0.0, 0.0, 0.0, 0.0, 0.0, 0.0, 0.0, 0.0, 0.0, 0.0], [0.23169028759002686, 0.04170249402523041, 0.058266717940568924, 0.02253962680697441, 0.06990732997655869, 0.07998727262020111, 0.007206660695374012, 0.02130035124719143, 0.02301417663693428, 0.022032001987099648, 0.009429235011339188, 0.012808304280042648, 0.061773937195539474, 0.08016183972358704, 0.09443163871765137, 0.07009869813919067, 0.09364950656890869, 0.0, 0.0, 0.0, 0.0, 0.0, 0.0, 0.0, 0.0, 0.0, 0.0, 0.0, 0.0, 0.0, 0.0, 0.0], [0.5810604095458984, 0.04265986755490303, 0.03945842385292053, 0.005098751746118069, 0.06350777298212051, 0.03782372921705246, 0.010521152056753635, 0.010073255747556686, 0.02492782287299633, 0.039775099605321884, 0.01900264248251915, 0.004997601732611656, 0.03789529949426651, 0.009011826477944851, 0.011477700434625149, 0.02028963342308998, 0.022729992866516113, 0.019689055159687996, 0.0, 0.0, 0.0, 0.0, 0.0, 0.0, 0.0, 0.0, 0.0, 0.0, 0.0, 0.0, 0.0, 0.0], [0.5281688570976257, 0.11070431768894196, 0.03181029111146927, 0.012918498367071152, 0.0362200103700161, 0.02835669368505478, 0.0069186026230454445, 0.014243398793041706, 0.015440486371517181, 0.022552229464054108, 0.01703878678381443, 0.009415488690137863, 0.04949568212032318, 0.010189272463321686, 0.025727370753884315, 0.024327285587787628, 0.018812578171491623, 0.014390344731509686, 0.023269755765795708, 0.0, 0.0, 0.0, 0.0, 0.0, 0.0, 0.0, 0.0, 0.0, 0.0, 0.0, 0.0, 0.0], [0.6107320785522461, 0.06528320908546448, 0.012018394656479359, 0.010652824304997921, 0.007281432393938303, 0.046469226479530334, 0.0037290563341230154, 0.006451677065342665, 0.00997794046998024, 0.004695015959441662, 0.003107235999777913, 0.009606449864804745, 0.02769908867776394, 0.0016956723993644118, 0.025448260828852654, 0.013769429177045822, 0.015674104914069176, 0.008179191499948502, 0.0020488277077674866, 0.11548091471195221, 0.0, 0.0, 0.0, 0.0, 0.0, 0.0, 0.0, 0.0, 0.0, 0.0, 0.0, 0.0], [0.5235277414321899, 0.09391649067401886, 0.0248810276389122, 0.019222375005483627, 0.017715921625494957, 0.01679094322025776, 0.009577813558280468, 0.0047837174497544765, 0.0046605877578258514, 0.006463911850005388, 0.005222526378929615, 0.007824900560081005, 0.023560184985399246, 0.011316739954054356, 0.03811541572213173, 0.016753017902374268, 0.012032542377710342, 0.004328230861574411, 0.008739531971514225, 0.07685637474060059, 0.07370997220277786, 0.0, 0.0, 0.0, 0.0, 0.0, 0.0, 0.0, 0.0, 0.0, 0.0, 0.0], [0.3689895272254944, 0.15958315134048462, 0.03159303218126297, 0.034698277711868286, 0.015240953303873539, 0.03148747235536575, 0.01828998140990734, 0.018574286252260208, 0.007223263382911682, 0.011485937982797623, 0.002952034119516611, 0.007022629026323557, 0.03431396931409836, 0.000640927639324218, 0.012288597412407398, 0.02857908047735691, 0.030759135261178017, 0.017014112323522568, 0.0004592264594975859, 0.03172379359602928, 0.04072852432727814, 0.09635202586650848, 0.0, 0.0, 0.0, 0.0, 0.0, 0.0, 0.0, 0.0, 0.0, 0.0], [0.5076149106025696, 0.034766409546136856, 0.005933654494583607, 0.017801502719521523, 0.008933378383517265, 0.05606956034898758, 0.0026047334540635347, 0.01827746443450451, 0.011184570379555225, 0.0016817261930555105, 0.000792831415310502, 0.003050391096621752, 0.024013694375753403, 0.003127563279122114, 0.008485487662255764, 0.004736737348139286, 0.009786534123122692, 0.0028238841332495213, 0.006295588333159685, 0.062441643327474594, 0.017291352152824402, 0.028563082218170166, 0.16372333467006683, 0.0, 0.0, 0.0, 0.0, 0.0, 0.0, 0.0, 0.0, 0.0], [0.1188495084643364, 0.027938207611441612, 0.03799454867839813, 0.01993349753320217, 0.0458388477563858, 0.10383092612028122, 0.07143925130367279, 0.012079202570021152, 0.0643407553434372, 0.0762505754828453, 0.01962517946958542, 0.004061443265527487, 0.006279278080910444, 0.0027734043542295694, 0.006825585849583149, 0.00790761224925518, 0.007627442944794893, 0.010805399157106876, 0.0008148220949806273, 0.006049597170203924, 0.202468603849411, 0.0278095081448555, 0.028746753931045532, 0.08971002697944641, 0.0, 0.0, 0.0, 0.0, 0.0, 0.0, 0.0, 0.0], [0.37883952260017395, 0.07404882460832596, 0.011620509438216686, 0.011165826581418514, 0.01709914207458496, 0.05818069353699684, 0.0030902379658073187, 0.02278601936995983, 0.02246139757335186, 0.01590130478143692, 0.003763610729947686, 0.007894996553659439, 0.014217120595276356, 0.0015405364101752639, 0.013005165383219719, 0.008680886588990688, 0.01971847005188465, 0.006611471064388752, 0.0005479205283336341, 0.03942003846168518, 0.02190648764371872, 0.04335443675518036, 0.06788702309131622, 0.08521153032779694, 0.05104678124189377, 0.0, 0.0, 0.0, 0.0, 0.0, 0.0, 0.0], [0.07626572996377945, 0.07990158349275589, 0.02520168386399746, 0.034106768667697906, 0.053602807223796844, 0.05702681466937065, 0.031458452343940735, 0.019985103979706764, 0.016973385587334633, 0.017635304480791092, 0.011981946416199207, 0.011726243421435356, 0.04745158553123474, 0.013384723104536533, 0.018970029428601265, 0.019993606954813004, 0.013915812596678734, 0.011966312304139137, 0.006167286075651646, 0.02875017188489437, 0.08638489991426468, 0.11997711658477783, 0.06503749638795853, 0.05749199539422989, 0.035386823117733, 0.039256345480680466, 0.0, 0.0, 0.0, 0.0, 0.0, 0.0], [0.16463196277618408, 0.11900762468576431, 0.023980190977454185, 0.016335533931851387, 0.04842047393321991, 0.041792891919612885, 0.010910173878073692, 0.01569060981273651, 0.011764204129576683, 0.01472508441656828, 0.013290983624756336, 0.03964846208691597, 0.04688078910112381, 0.016115307807922363, 0.031226688995957375, 0.013724757358431816, 0.01872125454246998, 0.013627135194838047, 0.007645453326404095, 0.03401642292737961, 0.05598456785082817, 0.08324621617794037, 0.05698706954717636, 0.03844079747796059, 0.018369441851973534, 0.023507896810770035, 0.021308081224560738, 0.0, 0.0, 0.0, 0.0, 0.0], [0.1668902337551117, 0.0677710771560669, 0.05124465003609657, 0.01623034104704857, 0.0652996227145195, 0.026158172637224197, 0.016838783398270607, 0.013948342762887478, 0.00822369009256363, 0.017560292035341263, 0.00883923377841711, 0.004968137480318546, 0.04153324291110039, 0.018363747745752335, 0.013607841916382313, 0.013058490119874477, 0.011107302270829678, 0.011325224302709103, 0.01651221700012684, 0.03603155165910721, 0.12184135615825653, 0.08301731944084167, 0.05368299037218094, 0.03251546248793602, 0.016274213790893555, 0.02843068167567253, 0.015422264114022255, 0.023303497582674026, 0.0, 0.0, 0.0, 0.0], [0.7142621874809265, 0.03137115016579628, 0.014778099954128265, 0.0036956826224923134, 0.023553134873509407, 0.012541227973997593, 0.004167613573372364, 0.004247609525918961, 0.0045120869763195515, 0.005966020282357931, 0.0039155138656497, 0.0012131273979321122, 0.026037240400910378, 0.0027462514117360115, 0.002745604608207941, 0.0036728582344949245, 0.0023594906087964773, 0.002290191361680627, 0.0039782170206308365, 0.014902538619935513, 0.0274040549993515, 0.03647143021225929, 0.018979374319314957, 0.011654457077383995, 0.007084877695888281, 0.004908174276351929, 0.0039970241487026215, 0.0026078044902533293, 0.003936877008527517, 0.0, 0.0, 0.0], [0.3992551267147064, 0.05064241215586662, 0.011808468028903008, 0.009305408224463463, 0.017208639532327652, 0.01625685766339302, 0.0035724511835724115, 0.010053536854684353, 0.005835312884300947, 0.006522859446704388, 0.0046094609424471855, 0.0032712200190871954, 0.0272390004247427, 0.005683094263076782, 0.011077230796217918, 0.006350518669933081, 0.004769390914589167, 0.0031933265272527933, 0.010516194626688957, 0.11152336001396179, 0.04902087524533272, 0.08326283097267151, 0.07397349178791046, 0.018262840807437897, 0.009342006407678127, 0.006027491297572851, 0.005197229329496622, 0.006025985348969698, 0.006575906183570623, 0.023617444559931755, 0.0, 0.0], [0.5539248585700989, 0.031820811331272125, 0.005181408021599054, 0.0065241968259215355, 0.0035700758453458548, 0.023212824016809464, 0.0013954523019492626, 0.0033536257687956095, 0.0036920644342899323, 0.0014236376155167818, 0.0009272855240851641, 0.0031219397205859423, 0.016111360862851143, 0.0009868352208286524, 0.010722325183451176, 0.005236608441919088, 0.0062263463623821735, 0.0025666910223662853, 0.0011803563684225082, 0.059007760137319565, 0.012507048435509205, 0.0621078796684742, 0.044334277510643005, 0.009244631044566631, 0.008315646089613438, 0.0016580685041844845, 0.0012173812137916684, 0.0040742941200733185, 0.0075582112185657024, 0.0023735836148262024, 0.10642257332801819, 0.0], [0.3947279751300812, 0.0400327630341053, 0.007900203578174114, 0.009061611257493496, 0.007609305903315544, 0.010264914482831955, 0.0030615213327109814, 0.0028772950172424316, 0.0016914415173232555, 0.0017785114469006658, 0.0010801866883412004, 0.002655656775459647, 0.012629267759621143, 0.0059480625204741955, 0.02077273093163967, 0.005235276184976101, 0.005056566558778286, 0.0012349715689197183, 0.005575383547693491, 0.040865253657102585, 0.02188989333808422, 0.16102614998817444, 0.04531632363796234, 0.007356078829616308, 0.004608436021953821, 0.002562382025644183, 0.0019048608373850584, 0.005728248041123152, 0.006310830824077129, 0.016066495329141617, 0.09605804085731506, 0.051113344728946686]], [[1.0, 0.0, 0.0, 0.0, 0.0, 0.0, 0.0, 0.0, 0.0, 0.0, 0.0, 0.0, 0.0, 0.0, 0.0, 0.0, 0.0, 0.0, 0.0, 0.0, 0.0, 0.0, 0.0, 0.0, 0.0, 0.0, 0.0, 0.0, 0.0, 0.0, 0.0, 0.0], [0.9386780261993408, 0.061322007328271866, 0.0, 0.0, 0.0, 0.0, 0.0, 0.0, 0.0, 0.0, 0.0, 0.0, 0.0, 0.0, 0.0, 0.0, 0.0, 0.0, 0.0, 0.0, 0.0, 0.0, 0.0, 0.0, 0.0, 0.0, 0.0, 0.0, 0.0, 0.0, 0.0, 0.0], [0.9342514276504517, 0.02404533512890339, 0.04170328751206398, 0.0, 0.0, 0.0, 0.0, 0.0, 0.0, 0.0, 0.0, 0.0, 0.0, 0.0, 0.0, 0.0, 0.0, 0.0, 0.0, 0.0, 0.0, 0.0, 0.0, 0.0, 0.0, 0.0, 0.0, 0.0, 0.0, 0.0, 0.0, 0.0], [0.9436221122741699, 0.024208128452301025, 0.0007664261502213776, 0.03140338510274887, 0.0, 0.0, 0.0, 0.0, 0.0, 0.0, 0.0, 0.0, 0.0, 0.0, 0.0, 0.0, 0.0, 0.0, 0.0, 0.0, 0.0, 0.0, 0.0, 0.0, 0.0, 0.0, 0.0, 0.0, 0.0, 0.0, 0.0, 0.0], [0.9855784177780151, 0.008315377868711948, 0.0007500126375816762, 0.0011953595094382763, 0.004160773009061813, 0.0, 0.0, 0.0, 0.0, 0.0, 0.0, 0.0, 0.0, 0.0, 0.0, 0.0, 0.0, 0.0, 0.0, 0.0, 0.0, 0.0, 0.0, 0.0, 0.0, 0.0, 0.0, 0.0, 0.0, 0.0, 0.0, 0.0], [0.956812858581543, 0.020079370588064194, 0.000616803125012666, 0.002429908374324441, 0.005045820493251085, 0.015015149489045143, 0.0, 0.0, 0.0, 0.0, 0.0, 0.0, 0.0, 0.0, 0.0, 0.0, 0.0, 0.0, 0.0, 0.0, 0.0, 0.0, 0.0, 0.0, 0.0, 0.0, 0.0, 0.0, 0.0, 0.0, 0.0, 0.0], [0.9192488193511963, 0.00451125530526042, 0.004803484305739403, 0.0033489030320197344, 0.0034524090588092804, 0.06318637728691101, 0.001448724651709199, 0.0, 0.0, 0.0, 0.0, 0.0, 0.0, 0.0, 0.0, 0.0, 0.0, 0.0, 0.0, 0.0, 0.0, 0.0, 0.0, 0.0, 0.0, 0.0, 0.0, 0.0, 0.0, 0.0, 0.0, 0.0], [0.9847151041030884, 0.007456270977854729, 0.005249775014817715, 8.989935849967878e-06, 5.030882675782777e-06, 0.002245768904685974, 4.185024408798199e-06, 0.0003147696843370795, 0.0, 0.0, 0.0, 0.0, 0.0, 0.0, 0.0, 0.0, 0.0, 0.0, 0.0, 0.0, 0.0, 0.0, 0.0, 0.0, 0.0, 0.0, 0.0, 0.0, 0.0, 0.0, 0.0, 0.0], [0.9622515439987183, 0.01703242026269436, 0.0005807137931697071, 0.00021296240447554737, 0.00010209106403635815, 0.016886122524738312, 3.864993414026685e-05, 0.0023757154121994972, 0.0005197508726269007, 0.0, 0.0, 0.0, 0.0, 0.0, 0.0, 0.0, 0.0, 0.0, 0.0, 0.0, 0.0, 0.0, 0.0, 0.0, 0.0, 0.0, 0.0, 0.0, 0.0, 0.0, 0.0, 0.0], [0.9897952675819397, 0.008428079076111317, 0.001018425216898322, 5.941577910562046e-05, 1.3866633707948495e-05, 0.00023385623353533447, 6.464633042924106e-05, 9.468436473980546e-05, 6.669085996691138e-05, 0.0002250535471830517, 0.0, 0.0, 0.0, 0.0, 0.0, 0.0, 0.0, 0.0, 0.0, 0.0, 0.0, 0.0, 0.0, 0.0, 0.0, 0.0, 0.0, 0.0, 0.0, 0.0, 0.0, 0.0], [0.9813442230224609, 0.00363342952914536, 0.007715370040386915, 0.0001061783405020833, 6.840766582172364e-05, 0.0008669702219776809, 1.5092215107870288e-05, 0.004668974317610264, 4.240591078996658e-05, 0.0001236388343386352, 0.0014153115916997194, 0.0, 0.0, 0.0, 0.0, 0.0, 0.0, 0.0, 0.0, 0.0, 0.0, 0.0, 0.0, 0.0, 0.0, 0.0, 0.0, 0.0, 0.0, 0.0, 0.0, 0.0], [0.977449357509613, 0.005932536907494068, 0.012141511775553226, 0.000675047398544848, 0.00021243274386506528, 0.00023504857381340116, 0.00019946981046814471, 0.0025064568035304546, 0.0005371533334255219, 1.1557254765648395e-05, 1.570217136759311e-06, 9.786841837922111e-05, 0.0, 0.0, 0.0, 0.0, 0.0, 0.0, 0.0, 0.0, 0.0, 0.0, 0.0, 0.0, 0.0, 0.0, 0.0, 0.0, 0.0, 0.0, 0.0, 0.0], [0.8848063349723816, 0.006183797959238291, 0.0016367301577702165, 0.0008604312315583229, 0.0001803653867682442, 0.004296731203794479, 0.00033814480411820114, 0.012392490170896053, 0.0014979055849835277, 0.0009557711891829967, 4.429170803632587e-05, 0.00011829484719783068, 0.08668876439332962, 0.0, 0.0, 0.0, 0.0, 0.0, 0.0, 0.0, 0.0, 0.0, 0.0, 0.0, 0.0, 0.0, 0.0, 0.0, 0.0, 0.0, 0.0, 0.0], [0.912982165813446, 0.003495375160127878, 0.004075926728546619, 0.005324400030076504, 0.0006854323437437415, 0.0009363158023916185, 0.0007882419740781188, 0.055862393230199814, 1.1916419680346735e-05, 5.022380719310604e-05, 8.56183578434866e-06, 0.00043183716479688883, 0.012629756703972816, 0.0027174619026482105, 0.0, 0.0, 0.0, 0.0, 0.0, 0.0, 0.0, 0.0, 0.0, 0.0, 0.0, 0.0, 0.0, 0.0, 0.0, 0.0, 0.0, 0.0], [0.8933649063110352, 0.016796845942735672, 0.0005719175678677857, 0.030599161982536316, 0.023872237652540207, 0.0009778107050806284, 0.01526019349694252, 0.001900890376418829, 7.339635430980707e-06, 3.3760745282052085e-05, 1.7192487575812265e-06, 6.085932454880094e-06, 0.008112248033285141, 0.0006064767949283123, 0.00788846705108881, 0.0, 0.0, 0.0, 0.0, 0.0, 0.0, 0.0, 0.0, 0.0, 0.0, 0.0, 0.0, 0.0, 0.0, 0.0, 0.0, 0.0], [0.8450632095336914, 0.01704869233071804, 0.0033036533277481794, 0.0032642288133502007, 0.0017033162293955684, 0.0014174518873915076, 0.0003554731956683099, 0.100368931889534, 2.3394559320877306e-05, 4.109931251150556e-05, 3.5383409340283833e-06, 0.00018974811246152967, 0.006463188678026199, 0.0004059677303303033, 0.00699975248426199, 0.013348283246159554, 0.0, 0.0, 0.0, 0.0, 0.0, 0.0, 0.0, 0.0, 0.0, 0.0, 0.0, 0.0, 0.0, 0.0, 0.0, 0.0], [0.8031017184257507, 0.019724475219845772, 0.0025668181478977203, 0.0009882370941340923, 0.0015943588223308325, 0.0004769675724674016, 0.000789637619163841, 0.003932006191462278, 3.839829332719091e-06, 6.233844760572538e-05, 5.881264769413974e-06, 2.9021410227869637e-05, 0.001904515316709876, 0.0002525012823753059, 0.00237803696654737, 0.012108318507671356, 0.15008126199245453, 0.0, 0.0, 0.0, 0.0, 0.0, 0.0, 0.0, 0.0, 0.0, 0.0, 0.0, 0.0, 0.0, 0.0, 0.0], [0.6015154719352722, 0.02176549844443798, 0.0010430694092065096, 0.0003511157410684973, 0.00038031593430787325, 0.0002599565195851028, 0.0001003391807898879, 0.01058149803429842, 3.774615834117867e-05, 9.256367775378749e-06, 3.870288765028818e-06, 0.00010759464203147218, 0.012474266812205315, 0.0002261055342387408, 0.0002433710906188935, 0.0006622481159865856, 0.3368077874183655, 0.013430523686110973, 0.0, 0.0, 0.0, 0.0, 0.0, 0.0, 0.0, 0.0, 0.0, 0.0, 0.0, 0.0, 0.0, 0.0], [0.9283294081687927, 0.0177435502409935, 0.0004854146100115031, 0.00012044745380990207, 0.00011171677033416927, 0.0017498440574854612, 0.00011901753168785945, 0.0026667690835893154, 0.0002190660743508488, 1.0044149348686915e-05, 1.7225129340658896e-05, 3.60122139682062e-05, 0.003487324109300971, 0.002368783112615347, 0.0003147099632769823, 0.0006373420474119484, 0.0031374620739370584, 0.001755354693159461, 0.03669044375419617, 0.0, 0.0, 0.0, 0.0, 0.0, 0.0, 0.0, 0.0, 0.0, 0.0, 0.0, 0.0, 0.0], [0.9416065812110901, 0.01991540752351284, 0.00198532547801733, 3.879702853737399e-05, 0.00033311339211650193, 0.01169518195092678, 0.00017308951646555215, 0.011355012655258179, 0.0003387293254490942, 0.00035185314482077956, 3.731938704731874e-05, 9.930759551934898e-05, 0.0011023744009435177, 0.0007230513147078454, 9.366072481498122e-05, 9.025767940329388e-05, 0.00048734666779637337, 0.00015927318600006402, 0.0005945781012997031, 0.00881965085864067, 0.0, 0.0, 0.0, 0.0, 0.0, 0.0, 0.0, 0.0, 0.0, 0.0, 0.0, 0.0], [0.9780300855636597, 0.007139837834984064, 0.00037111726123839617, 0.00010521327931201085, 0.0005174271645955741, 0.0004999144002795219, 0.0006042083841748536, 0.0021316655911505222, 2.4979097361210734e-05, 0.00012180906924186274, 0.00013483149814419448, 0.0001653750950936228, 0.00030115130357444286, 0.00021473783999681473, 0.0004140355158597231, 0.0004554488114081323, 0.00012853325461037457, 0.000363239087164402, 6.531121471198276e-05, 0.0006261615199036896, 0.007585028652101755, 0.0, 0.0, 0.0, 0.0, 0.0, 0.0, 0.0, 0.0, 0.0, 0.0, 0.0], [0.9760140180587769, 0.012417983263731003, 0.0010618731612339616, 0.0006666133995167911, 0.0020633800886571407, 0.00032311322866007686, 0.002263920148834586, 0.00020521470287349075, 3.4443524782545865e-05, 1.4456741155299824e-05, 1.7824542737798765e-05, 9.034795766638126e-06, 0.0007531162118539214, 2.324585511814803e-05, 4.8661437176633626e-05, 0.0008830577717162669, 0.00013361027231439948, 0.00011796980834333226, 0.00033065516618080437, 8.628666546428576e-05, 0.0004976721247658134, 0.0020339733455330133, 0.0, 0.0, 0.0, 0.0, 0.0, 0.0, 0.0, 0.0, 0.0, 0.0], [0.8059941530227661, 0.017298497259616852, 0.0024344054982066154, 0.00016278002294711769, 0.0006851285579614341, 0.0396408773958683, 0.00023769729887135327, 0.018642079085111618, 0.0004994592163711786, 0.0001827100059017539, 1.3744398529524915e-05, 0.00016623912961222231, 0.002269044052809477, 0.0006070119561627507, 0.00013589240552391857, 0.00018484750762581825, 0.0005444328999146819, 0.00017978559480980039, 0.00040094152791425586, 0.004438693169504404, 0.10230623930692673, 0.001864057034254074, 0.001111430930905044, 0.0, 0.0, 0.0, 0.0, 0.0, 0.0, 0.0, 0.0, 0.0], [0.7896922826766968, 0.00570960296317935, 0.0020676071289926767, 2.577393843239406e-06, 9.744219369167695e-07, 0.0015354120405390859, 1.6134425777636352e-06, 0.00015716020425315946, 0.19764545559883118, 4.918667036690749e-05, 5.4647087381454185e-05, 3.1389070045406697e-06, 0.0001902598305605352, 0.0007387721561826766, 9.550939239488798e-07, 8.71440192895534e-07, 3.103627705058898e-06, 3.115608706139028e-06, 2.0180548744974658e-05, 0.0007880686898715794, 0.0005762297078035772, 0.00015752168837934732, 6.658295751549304e-05, 0.0005347109399735928, 0.0, 0.0, 0.0, 0.0, 0.0, 0.0, 0.0, 0.0], [0.9129878282546997, 0.01585349068045616, 0.0005078068352304399, 0.00011368819104973227, 7.62005292926915e-05, 0.030158299952745438, 5.345355748431757e-05, 0.0015515027334913611, 0.00035030688741244376, 0.029237397015094757, 0.0008566071046516299, 0.0002642956387717277, 7.399610331049189e-05, 0.0003816468524746597, 1.196076027554227e-05, 1.0799187293741852e-05, 4.991471996618202e-06, 1.5565698049613275e-05, 8.469494787277654e-06, 9.710143058327958e-05, 0.0008805794059298933, 0.00016788122593425214, 0.0002550727513153106, 0.0017209367360919714, 0.004359966143965721, 0.0, 0.0, 0.0, 0.0, 0.0, 0.0, 0.0], [0.8261052370071411, 0.005455555394291878, 0.0008761172648519278, 3.0840717954561114e-05, 6.8430604187597055e-06, 0.00021441436547320336, 4.818895104108378e-05, 4.449181869858876e-05, 3.100729009020142e-05, 0.0001880065829027444, 0.16518773138523102, 0.0008564114687032998, 3.155824015266262e-05, 1.085248095478164e-05, 3.2115626709128264e-06, 4.945572072756477e-06, 1.5294842796720332e-06, 2.5801189622143283e-05, 3.2666891911503626e-06, 1.735230762278661e-05, 4.86967182951048e-05, 2.2653268388239667e-05, 0.0002714300644584, 4.54269684269093e-05, 2.725780359469354e-05, 0.0004411666886880994, 0.0, 0.0, 0.0, 0.0, 0.0, 0.0], [0.9205946922302246, 0.002674068557098508, 0.0062321447767317295, 7.28714294382371e-05, 5.099190093460493e-05, 0.0009132227278314531, 1.5110466847545467e-05, 0.0026860979851335287, 2.0510313333943486e-05, 0.00011159386485815048, 0.0012383719440549612, 0.051829081028699875, 0.006553624290972948, 4.126351632294245e-05, 0.0006578173488378525, 1.8498678400646895e-05, 0.0003070085949730128, 2.4835213480400853e-05, 0.00010963674139929935, 7.4865369242616e-05, 0.0008082029526121914, 0.00016568585124332458, 0.0001385059586027637, 0.0011252721305936575, 1.8875858586397953e-05, 0.00025779075804166496, 0.0032593170180916786, 0.0, 0.0, 0.0, 0.0, 0.0], [0.9283011555671692, 0.0012219405034556985, 0.0023990271147340536, 9.457962005399168e-05, 5.606821650872007e-05, 0.0002593225799500942, 3.634717359091155e-05, 0.0019395415438339114, 1.8220642232336104e-05, 5.376302397053223e-06, 3.069266767852241e-06, 0.00017093407223001122, 0.06143122538924217, 0.00029069685842841864, 0.00040171772707253695, 3.123703208984807e-05, 0.001274452661164105, 7.590059976791963e-05, 0.0005285530933178961, 4.898506449535489e-05, 6.967574881855398e-05, 8.757468458497897e-05, 0.000182056101039052, 0.00022368844656739384, 2.067654531856533e-05, 1.49815177792334e-05, 8.459813216177281e-06, 0.0008044682326726615, 0.0, 0.0, 0.0, 0.0], [0.7315593957901001, 0.0021346465218812227, 0.0011179362190887332, 0.000587552844081074, 0.00018046928744297475, 0.0004850000550504774, 0.00016748800408095121, 0.0021106696221977472, 2.5623367037042044e-05, 4.1522916944813915e-06, 1.700892198641668e-06, 0.00012957154831383377, 0.1909112185239792, 0.0008154116803780198, 0.0003509569796733558, 0.0002526010503061116, 0.00822473131120205, 6.442941958084702e-05, 0.04581046104431152, 0.0003440602158661932, 0.0003042867756448686, 2.446279177092947e-05, 0.00020518008386716247, 0.0009887939086183906, 2.5003106202348135e-05, 8.29751843411941e-06, 4.10749134971411e-06, 0.0004522327799350023, 0.012709571979939938, 0.0, 0.0, 0.0], [0.9037880301475525, 0.004571089521050453, 0.00039594731060788035, 7.382835610769689e-05, 3.433239180594683e-05, 0.0018695398466661572, 6.862475856905803e-05, 0.0006201229407452047, 0.00016612379113212228, 4.752534550789278e-06, 1.0407491572550498e-05, 3.359906258992851e-05, 0.007024571765214205, 0.0025933042634278536, 0.00022300421551335603, 0.00014469055167865008, 0.00014984322478994727, 3.67645661754068e-05, 0.001270716660656035, 0.06211467459797859, 0.002110961824655533, 0.00012719588994514197, 2.8673426641034894e-05, 0.0013140365481376648, 0.00016426356160081923, 8.836699635139666e-06, 2.172051063098479e-05, 0.00010470114648342133, 0.00033860193798318505, 0.010587029159069061, 0.0, 0.0], [0.5875559449195862, 0.0050116232596337795, 0.0009276203927583992, 1.582786899234634e-05, 9.457125997869298e-05, 0.011432379484176636, 8.892785990610719e-05, 0.0026274181436747313, 0.00014905004354659468, 0.00013846946239937097, 1.837080708355643e-05, 6.515576387755573e-05, 0.0008377526537515223, 0.000501293980050832, 5.544330269913189e-05, 2.248049531772267e-05, 4.118852302781306e-05, 9.923624020302668e-06, 4.3302792619215325e-05, 0.002151472494006157, 0.2875894606113434, 0.0028930429834872484, 0.0001341242459602654, 0.08219413459300995, 0.0016655506333336234, 0.0005665445933118463, 4.8529120249440894e-05, 0.0002814054023474455, 0.0003024316974915564, 0.00034000538289546967, 0.012196533381938934, 0.0], [0.7558217644691467, 0.003287640633061528, 0.00019215108477510512, 5.7677381846588105e-05, 0.0002320659696124494, 0.0005121722933836281, 0.00036281999200582504, 0.0007155235507525504, 1.0187869520450477e-05, 4.474432353163138e-05, 5.281273479340598e-05, 0.00010214073699899018, 0.00022496831661555916, 0.00015183044888544828, 0.00033926242031157017, 0.00023401103680953383, 2.3436870833393186e-05, 4.652904317481443e-05, 1.205483749799896e-05, 0.0002695331641007215, 0.00278374832123518, 0.21712836623191833, 0.0015203425427898765, 0.0052507370710372925, 0.00016604585107415915, 0.0003249581786803901, 0.0002444867277517915, 0.0008827543933875859, 0.000981605495326221, 8.037895895540714e-05, 0.001533094677142799, 0.006410166155546904]], [[1.0, 0.0, 0.0, 0.0, 0.0, 0.0, 0.0, 0.0, 0.0, 0.0, 0.0, 0.0, 0.0, 0.0, 0.0, 0.0, 0.0, 0.0, 0.0, 0.0, 0.0, 0.0, 0.0, 0.0, 0.0, 0.0, 0.0, 0.0, 0.0, 0.0, 0.0, 0.0], [0.13235728442668915, 0.8676427006721497, 0.0, 0.0, 0.0, 0.0, 0.0, 0.0, 0.0, 0.0, 0.0, 0.0, 0.0, 0.0, 0.0, 0.0, 0.0, 0.0, 0.0, 0.0, 0.0, 0.0, 0.0, 0.0, 0.0, 0.0, 0.0, 0.0, 0.0, 0.0, 0.0, 0.0], [0.22232139110565186, 0.5766921639442444, 0.20098648965358734, 0.0, 0.0, 0.0, 0.0, 0.0, 0.0, 0.0, 0.0, 0.0, 0.0, 0.0, 0.0, 0.0, 0.0, 0.0, 0.0, 0.0, 0.0, 0.0, 0.0, 0.0, 0.0, 0.0, 0.0, 0.0, 0.0, 0.0, 0.0, 0.0], [0.012696956284344196, 0.06229322403669357, 0.29310503602027893, 0.6319047212600708, 0.0, 0.0, 0.0, 0.0, 0.0, 0.0, 0.0, 0.0, 0.0, 0.0, 0.0, 0.0, 0.0, 0.0, 0.0, 0.0, 0.0, 0.0, 0.0, 0.0, 0.0, 0.0, 0.0, 0.0, 0.0, 0.0, 0.0, 0.0], [0.04200827702879906, 0.22873398661613464, 0.14418555796146393, 0.31092604994773865, 0.2741461992263794, 0.0, 0.0, 0.0, 0.0, 0.0, 0.0, 0.0, 0.0, 0.0, 0.0, 0.0, 0.0, 0.0, 0.0, 0.0, 0.0, 0.0, 0.0, 0.0, 0.0, 0.0, 0.0, 0.0, 0.0, 0.0, 0.0, 0.0], [0.05250241979956627, 0.32653573155403137, 0.07831066846847534, 0.20989584922790527, 0.21423448622226715, 0.1185208335518837, 0.0, 0.0, 0.0, 0.0, 0.0, 0.0, 0.0, 0.0, 0.0, 0.0, 0.0, 0.0, 0.0, 0.0, 0.0, 0.0, 0.0, 0.0, 0.0, 0.0, 0.0, 0.0, 0.0, 0.0, 0.0, 0.0], [0.014228614047169685, 0.012897245585918427, 0.1575818955898285, 0.07524091005325317, 0.1515820324420929, 0.14030730724334717, 0.4481619894504547, 0.0, 0.0, 0.0, 0.0, 0.0, 0.0, 0.0, 0.0, 0.0, 0.0, 0.0, 0.0, 0.0, 0.0, 0.0, 0.0, 0.0, 0.0, 0.0, 0.0, 0.0, 0.0, 0.0, 0.0, 0.0], [0.26162847876548767, 0.15780109167099, 0.2733178734779358, 0.0328785665333271, 0.22285547852516174, 0.006066971458494663, 0.007876829244196415, 0.03757471963763237, 0.0, 0.0, 0.0, 0.0, 0.0, 0.0, 0.0, 0.0, 0.0, 0.0, 0.0, 0.0, 0.0, 0.0, 0.0, 0.0, 0.0, 0.0, 0.0, 0.0, 0.0, 0.0, 0.0, 0.0], [0.023896686732769012, 0.09449745714664459, 0.12235989421606064, 0.0820244699716568, 0.2211126983165741, 0.04221698269248009, 0.04286820814013481, 0.046898253262043, 0.3241253197193146, 0.0, 0.0, 0.0, 0.0, 0.0, 0.0, 0.0, 0.0, 0.0, 0.0, 0.0, 0.0, 0.0, 0.0, 0.0, 0.0, 0.0, 0.0, 0.0, 0.0, 0.0, 0.0, 0.0], [0.02809813991189003, 0.1352037787437439, 0.1496841460466385, 0.1360110342502594, 0.14692749083042145, 0.022490767762064934, 0.04761224612593651, 0.05178019404411316, 0.17429952323436737, 0.10789268463850021, 0.0, 0.0, 0.0, 0.0, 0.0, 0.0, 0.0, 0.0, 0.0, 0.0, 0.0, 0.0, 0.0, 0.0, 0.0, 0.0, 0.0, 0.0, 0.0, 0.0, 0.0, 0.0], [0.008017389103770256, 0.08559739589691162, 0.11147546023130417, 0.21141237020492554, 0.061090853065252304, 0.07194456458091736, 0.08784612268209457, 0.024807218462228775, 0.1024155542254448, 0.0656837448477745, 0.16970928013324738, 0.0, 0.0, 0.0, 0.0, 0.0, 0.0, 0.0, 0.0, 0.0, 0.0, 0.0, 0.0, 0.0, 0.0, 0.0, 0.0, 0.0, 0.0, 0.0, 0.0, 0.0], [0.016104279085993767, 0.13068485260009766, 0.24655483663082123, 0.06259573996067047, 0.15039798617362976, 0.011121440678834915, 0.033886343240737915, 0.02341468818485737, 0.19291861355304718, 0.01348099671304226, 0.06479891389608383, 0.054041288793087006, 0.0, 0.0, 0.0, 0.0, 0.0, 0.0, 0.0, 0.0, 0.0, 0.0, 0.0, 0.0, 0.0, 0.0, 0.0, 0.0, 0.0, 0.0, 0.0, 0.0], [0.053655292838811874, 0.024564504623413086, 0.31781911849975586, 0.030090169981122017, 0.21450109779834747, 0.06244021654129028, 0.026322707533836365, 0.003667338751256466, 0.13493332266807556, 0.014195209369063377, 0.04925137385725975, 0.027005691081285477, 0.04155398905277252, 0.0, 0.0, 0.0, 0.0, 0.0, 0.0, 0.0, 0.0, 0.0, 0.0, 0.0, 0.0, 0.0, 0.0, 0.0, 0.0, 0.0, 0.0, 0.0], [0.0033392924815416336, 0.024373095482587814, 0.12083856016397476, 0.05741509050130844, 0.11910430341959, 0.022839102894067764, 0.12805065512657166, 0.004906330723315477, 0.10537664592266083, 0.033185865730047226, 0.07494661957025528, 0.03740987554192543, 0.059870216995477676, 0.2083442509174347, 0.0, 0.0, 0.0, 0.0, 0.0, 0.0, 0.0, 0.0, 0.0, 0.0, 0.0, 0.0, 0.0, 0.0, 0.0, 0.0, 0.0, 0.0], [0.019826063886284828, 0.05004075914621353, 0.16564948856830597, 0.05074639990925789, 0.16756975650787354, 0.017842359840869904, 0.042578309774398804, 0.02911241352558136, 0.1967294067144394, 0.021858153864741325, 0.07184381783008575, 0.029733214527368546, 0.042737457901239395, 0.028856700286269188, 0.06487570703029633, 0.0, 0.0, 0.0, 0.0, 0.0, 0.0, 0.0, 0.0, 0.0, 0.0, 0.0, 0.0, 0.0, 0.0, 0.0, 0.0, 0.0], [0.00034644987317733467, 0.005013075191527605, 0.1598115861415863, 0.05831579864025116, 0.15169493854045868, 0.024934224784374237, 0.03203549608588219, 0.01280086487531662, 0.09306848794221878, 0.021705467253923416, 0.09929099678993225, 0.028512965887784958, 0.019337553530931473, 0.19216082990169525, 0.05005358159542084, 0.050917696207761765, 0.0, 0.0, 0.0, 0.0, 0.0, 0.0, 0.0, 0.0, 0.0, 0.0, 0.0, 0.0, 0.0, 0.0, 0.0, 0.0], [0.0031049009412527084, 0.01935773901641369, 0.2874009311199188, 0.08280127495527267, 0.15254326164722443, 0.004731334745883942, 0.04481150954961777, 0.031207682564854622, 0.10501967370510101, 0.013655507937073708, 0.06755835562944412, 0.017164872959256172, 0.013447081670165062, 0.02935783751308918, 0.033287275582551956, 0.04149659350514412, 0.053054146468639374, 0.0, 0.0, 0.0, 0.0, 0.0, 0.0, 0.0, 0.0, 0.0, 0.0, 0.0, 0.0, 0.0, 0.0, 0.0], [0.015095370821654797, 0.037831343710422516, 0.1550731509923935, 0.06650777161121368, 0.10769964754581451, 0.018418535590171814, 0.018232161179184914, 0.02694290690124035, 0.07619857788085938, 0.015561655163764954, 0.04206506162881851, 0.025246068835258484, 0.020184049382805824, 0.09111708402633667, 0.04941476136445999, 0.056506916880607605, 0.12607724964618683, 0.05182766169309616, 0.0, 0.0, 0.0, 0.0, 0.0, 0.0, 0.0, 0.0, 0.0, 0.0, 0.0, 0.0, 0.0, 0.0], [0.036594949662685394, 0.07291373610496521, 0.060375336557626724, 0.08876313269138336, 0.13222837448120117, 0.028458688408136368, 0.020816849544644356, 0.03144168108701706, 0.08887948095798492, 0.039682019501924515, 0.0768180564045906, 0.025044506415724754, 0.028489740565419197, 0.05085112154483795, 0.0570368655025959, 0.02908344566822052, 0.04084675386548042, 0.01068057119846344, 0.08099471032619476, 0.0, 0.0, 0.0, 0.0, 0.0, 0.0, 0.0, 0.0, 0.0, 0.0, 0.0, 0.0, 0.0], [0.004423810169100761, 0.013544684275984764, 0.10224488377571106, 0.04990534111857414, 0.11396721750497818, 0.048023074865341187, 0.025976048782467842, 0.018194807693362236, 0.18478551506996155, 0.05379355326294899, 0.11401592195034027, 0.040991708636283875, 0.020007992163300514, 0.05054667964577675, 0.033715032041072845, 0.017789725214242935, 0.02905718982219696, 0.00804498977959156, 0.04236158728599548, 0.028610315173864365, 0.0, 0.0, 0.0, 0.0, 0.0, 0.0, 0.0, 0.0, 0.0, 0.0, 0.0, 0.0], [0.0633125901222229, 0.06334780156612396, 0.02287667617201805, 0.1141403391957283, 0.03935243561863899, 0.05815064534544945, 0.012577325105667114, 0.007167259696871042, 0.031366974115371704, 0.005942085757851601, 0.014397885650396347, 0.02647610940039158, 0.026248056441545486, 0.024515943601727486, 0.025814613327383995, 0.0295991413295269, 0.08771742880344391, 0.022043421864509583, 0.04548505321145058, 0.0799044668674469, 0.19956371188163757, 0.0, 0.0, 0.0, 0.0, 0.0, 0.0, 0.0, 0.0, 0.0, 0.0, 0.0], [0.9951350092887878, 0.001717086648568511, 0.00021111896785441786, 0.00021152020781300962, 0.00018966769857797772, 0.00013742988812737167, 1.049889215209987e-05, 0.00027293115272186697, 0.000215218446101062, 9.854246309259906e-05, 9.11057650228031e-05, 4.593190169543959e-05, 5.341982250683941e-05, 8.967624125943985e-06, 2.2978363631409593e-05, 2.2603548131883144e-05, 0.00015859893755987287, 2.0876315829809755e-05, 1.720235013635829e-05, 0.0001495346805313602, 0.0004116938216611743, 0.0007980185328051448, 0.0, 0.0, 0.0, 0.0, 0.0, 0.0, 0.0, 0.0, 0.0, 0.0], [0.006235869601368904, 0.01374869141727686, 0.039654139429330826, 0.06470703333616257, 0.057695962488651276, 0.03499487042427063, 0.05066487938165665, 0.017209742218255997, 0.07170230895280838, 0.02986244671046734, 0.036823466420173645, 0.0721665695309639, 0.015820873901247978, 0.027336617931723595, 0.018102584406733513, 0.014026732183992863, 0.012548817321658134, 0.011196020059287548, 0.009139293804764748, 0.009957585483789444, 0.208767831325531, 0.1724400520324707, 0.005197578575462103, 0.0, 0.0, 0.0, 0.0, 0.0, 0.0, 0.0, 0.0, 0.0], [0.13163945078849792, 0.09697907418012619, 0.0836724191904068, 0.02961152046918869, 0.10248830914497375, 0.003980244509875774, 0.0033706396352499723, 0.032177168875932693, 0.08945921808481216, 0.021575715392827988, 0.03524136170744896, 0.04341500997543335, 0.01979135163128376, 0.0015099468873813748, 0.008012677542865276, 0.013372432440519333, 0.031738679856061935, 0.009130989201366901, 0.0016201497055590153, 0.04625353217124939, 0.03400905802845955, 0.013305704109370708, 0.04648032784461975, 0.10116506367921829, 0.0, 0.0, 0.0, 0.0, 0.0, 0.0, 0.0, 0.0], [0.00833713449537754, 0.020133687183260918, 0.03490573540329933, 0.02457071840763092, 0.08752567321062088, 0.010720965452492237, 0.013451239094138145, 0.0123202009126544, 0.08742094039916992, 0.011363844387233257, 0.057075537741184235, 0.03484101593494415, 0.020433025434613228, 0.025543110445141792, 0.0221102312207222, 0.021356860175728798, 0.016446363180875778, 0.009206931106746197, 0.00821730587631464, 0.0484125018119812, 0.14565446972846985, 0.01862742006778717, 0.047408320009708405, 0.03650689125061035, 0.17740987241268158, 0.0, 0.0, 0.0, 0.0, 0.0, 0.0, 0.0], [0.01211800891906023, 0.033792123198509216, 0.05148931220173836, 0.05058668181300163, 0.0785733163356781, 0.004055457189679146, 0.02012164704501629, 0.020310642197728157, 0.05943065509200096, 0.04181688278913498, 0.058460965752601624, 0.1393747180700302, 0.03357098996639252, 0.0053266482427716255, 0.017256828024983406, 0.018211567774415016, 0.013691267929971218, 0.012996151112020016, 0.001459353370591998, 0.01893598772585392, 0.031074481084942818, 0.02348787896335125, 0.021428696811199188, 0.051010940223932266, 0.09373074024915695, 0.08768806606531143, 0.0, 0.0, 0.0, 0.0, 0.0, 0.0], [0.0026836965698748827, 0.01869100145995617, 0.04561742767691612, 0.0741456151008606, 0.03725935146212578, 0.013632869347929955, 0.041879575699567795, 0.00822524819523096, 0.035427771508693695, 0.025043854489922523, 0.05400954186916351, 0.10652720928192139, 0.027408095076680183, 0.012374644167721272, 0.024757442995905876, 0.01539801899343729, 0.018883200362324715, 0.010198182426393032, 0.0025894655846059322, 0.005199703853577375, 0.06889718025922775, 0.07198041677474976, 0.005495026241987944, 0.014580498449504375, 0.04191713407635689, 0.05736863613128662, 0.15980911254882812, 0.0, 0.0, 0.0, 0.0, 0.0], [0.006127824541181326, 0.02641887590289116, 0.07064719498157501, 0.04623335599899292, 0.08159547299146652, 0.0052789649926126, 0.021308695897459984, 0.008982313796877861, 0.036559559404850006, 0.01429509837180376, 0.046700336039066315, 0.026124348863959312, 0.018303798511624336, 0.03761576488614082, 0.010291185230016708, 0.012464221566915512, 0.012618870474398136, 0.010393000207841396, 0.009143567644059658, 0.006969223730266094, 0.08221817761659622, 0.11442237347364426, 0.0077478778548538685, 0.019586320966482162, 0.04668392613530159, 0.028046399354934692, 0.11186327785253525, 0.08135995268821716, 0.0, 0.0, 0.0, 0.0], [0.053493354469537735, 0.06478513777256012, 0.11415746062994003, 0.039341848343610764, 0.09333112835884094, 0.007926270365715027, 0.013217855244874954, 0.0062740095891058445, 0.03434421494603157, 0.005375990644097328, 0.018282776698470116, 0.023736171424388885, 0.021424753591418266, 0.05104437097907066, 0.014716348610818386, 0.025109313428401947, 0.06376492232084274, 0.017450306564569473, 0.0337260439991951, 0.01007167063653469, 0.047915197908878326, 0.04215226694941521, 0.013304492458701134, 0.011030105873942375, 0.03147391229867935, 0.006206206977367401, 0.03121812455356121, 0.0743253082036972, 0.030800431966781616, 0.0, 0.0, 0.0], [0.04133036732673645, 0.03675723820924759, 0.032687246799468994, 0.0389966182410717, 0.08162593841552734, 0.012678295373916626, 0.013183907605707645, 0.007744541857391596, 0.043842773884534836, 0.016490513458848, 0.032918255776166916, 0.019671494141221046, 0.014383809641003609, 0.042726799845695496, 0.01769907958805561, 0.009209290146827698, 0.014968310482800007, 0.0038187664467841387, 0.028440114110708237, 0.015346797183156013, 0.07638400048017502, 0.03909975290298462, 0.01114242896437645, 0.019735325127840042, 0.0724494606256485, 0.040899138897657394, 0.09794870018959045, 0.02772342786192894, 0.012142069637775421, 0.07795552909374237, 0.0, 0.0], [0.0027091284282505512, 0.005066519603133202, 0.04141920059919357, 0.018311703577637672, 0.05794626474380493, 0.016562489792704582, 0.008218794129788876, 0.004372121766209602, 0.06760682910680771, 0.016766227781772614, 0.037566084414720535, 0.01889483816921711, 0.00703226076439023, 0.0342305451631546, 0.009669368155300617, 0.004996930714696646, 0.010836823843419552, 0.002298192586749792, 0.017389964312314987, 0.008391792885959148, 0.14323358237743378, 0.030133957043290138, 0.0012447754852473736, 0.011720173060894012, 0.13828037679195404, 0.05121592804789543, 0.13201941549777985, 0.03234611824154854, 0.008814990520477295, 0.04139110445976257, 0.019313516095280647, 0.0], [0.047137852758169174, 0.036766987293958664, 0.013505317270755768, 0.057367339730262756, 0.02855541557073593, 0.029805058613419533, 0.007129023317247629, 0.0030757153872400522, 0.019582634791731834, 0.0028951128479093313, 0.006260732188820839, 0.014354053884744644, 0.011735239997506142, 0.018594197928905487, 0.010408027097582817, 0.01054377295076847, 0.04136662930250168, 0.007653838023543358, 0.018700748682022095, 0.03748203441500664, 0.09922150522470474, 0.07020241767168045, 0.03382285311818123, 0.01424936018884182, 0.04318420588970184, 0.006633567623794079, 0.01717437617480755, 0.024897916242480278, 0.010421039536595345, 0.030965721234679222, 0.07398314028978348, 0.15232416987419128]], [[1.0, 0.0, 0.0, 0.0, 0.0, 0.0, 0.0, 0.0, 0.0, 0.0, 0.0, 0.0, 0.0, 0.0, 0.0, 0.0, 0.0, 0.0, 0.0, 0.0, 0.0, 0.0, 0.0, 0.0, 0.0, 0.0, 0.0, 0.0, 0.0, 0.0, 0.0, 0.0], [0.2615147829055786, 0.7384852170944214, 0.0, 0.0, 0.0, 0.0, 0.0, 0.0, 0.0, 0.0, 0.0, 0.0, 0.0, 0.0, 0.0, 0.0, 0.0, 0.0, 0.0, 0.0, 0.0, 0.0, 0.0, 0.0, 0.0, 0.0, 0.0, 0.0, 0.0, 0.0, 0.0, 0.0], [0.03417054936289787, 0.3024253845214844, 0.6634040474891663, 0.0, 0.0, 0.0, 0.0, 0.0, 0.0, 0.0, 0.0, 0.0, 0.0, 0.0, 0.0, 0.0, 0.0, 0.0, 0.0, 0.0, 0.0, 0.0, 0.0, 0.0, 0.0, 0.0, 0.0, 0.0, 0.0, 0.0, 0.0, 0.0], [0.025513892993330956, 0.004607466980814934, 0.015058732591569424, 0.9548199772834778, 0.0, 0.0, 0.0, 0.0, 0.0, 0.0, 0.0, 0.0, 0.0, 0.0, 0.0, 0.0, 0.0, 0.0, 0.0, 0.0, 0.0, 0.0, 0.0, 0.0, 0.0, 0.0, 0.0, 0.0, 0.0, 0.0, 0.0, 0.0], [0.5783514976501465, 0.2505260407924652, 0.011709515005350113, 0.019891012459993362, 0.13952195644378662, 0.0, 0.0, 0.0, 0.0, 0.0, 0.0, 0.0, 0.0, 0.0, 0.0, 0.0, 0.0, 0.0, 0.0, 0.0, 0.0, 0.0, 0.0, 0.0, 0.0, 0.0, 0.0, 0.0, 0.0, 0.0, 0.0, 0.0], [0.26710352301597595, 0.07895377278327942, 0.19363032281398773, 0.020138826221227646, 0.2660161852836609, 0.17415742576122284, 0.0, 0.0, 0.0, 0.0, 0.0, 0.0, 0.0, 0.0, 0.0, 0.0, 0.0, 0.0, 0.0, 0.0, 0.0, 0.0, 0.0, 0.0, 0.0, 0.0, 0.0, 0.0, 0.0, 0.0, 0.0, 0.0], [0.031049195677042007, 0.035585008561611176, 0.08800031989812851, 0.10189993679523468, 0.15367981791496277, 0.29732418060302734, 0.2924615740776062, 0.0, 0.0, 0.0, 0.0, 0.0, 0.0, 0.0, 0.0, 0.0, 0.0, 0.0, 0.0, 0.0, 0.0, 0.0, 0.0, 0.0, 0.0, 0.0, 0.0, 0.0, 0.0, 0.0, 0.0, 0.0], [0.39620092511177063, 0.0883975550532341, 0.007156425155699253, 0.01112905889749527, 0.019331172108650208, 0.003654882777482271, 0.0016363052418455482, 0.4724937081336975, 0.0, 0.0, 0.0, 0.0, 0.0, 0.0, 0.0, 0.0, 0.0, 0.0, 0.0, 0.0, 0.0, 0.0, 0.0, 0.0, 0.0, 0.0, 0.0, 0.0, 0.0, 0.0, 0.0, 0.0], [0.15017695724964142, 0.05239982530474663, 0.009385326877236366, 0.0068602836690843105, 0.016345402225852013, 0.0021392502821981907, 0.0013830518582835793, 0.4289855360984802, 0.3323243260383606, 0.0, 0.0, 0.0, 0.0, 0.0, 0.0, 0.0, 0.0, 0.0, 0.0, 0.0, 0.0, 0.0, 0.0, 0.0, 0.0, 0.0, 0.0, 0.0, 0.0, 0.0, 0.0, 0.0], [0.028132546693086624, 0.1371421366930008, 0.007733475882560015, 0.022070754319429398, 0.04917798563838005, 0.006764532532542944, 0.0020171187352389097, 0.1609216183423996, 0.15432438254356384, 0.4317154586315155, 0.0, 0.0, 0.0, 0.0, 0.0, 0.0, 0.0, 0.0, 0.0, 0.0, 0.0, 0.0, 0.0, 0.0, 0.0, 0.0, 0.0, 0.0, 0.0, 0.0, 0.0, 0.0], [0.019473621621727943, 0.07830823957920074, 0.007339241448789835, 0.004917444661259651, 0.029428822919726372, 0.0006812701467424631, 0.005626813042908907, 0.07508870959281921, 0.1259610801935196, 0.2740464508533478, 0.3791283071041107, 0.0, 0.0, 0.0, 0.0, 0.0, 0.0, 0.0, 0.0, 0.0, 0.0, 0.0, 0.0, 0.0, 0.0, 0.0, 0.0, 0.0, 0.0, 0.0, 0.0, 0.0], [0.004750391468405724, 0.0038853478617966175, 0.02637646347284317, 0.0013094160240143538, 0.18251365423202515, 0.001275835558772087, 0.02591264247894287, 0.021926267072558403, 0.060463279485702515, 0.2814435660839081, 0.3539438247680664, 0.036199308931827545, 0.0, 0.0, 0.0, 0.0, 0.0, 0.0, 0.0, 0.0, 0.0, 0.0, 0.0, 0.0, 0.0, 0.0, 0.0, 0.0, 0.0, 0.0, 0.0, 0.0], [0.031480755656957626, 0.01097081694751978, 0.22339437901973724, 0.0023911278694868088, 0.06770510971546173, 0.03661534935235977, 0.017316149547696114, 0.012611344456672668, 0.04741685092449188, 0.010018053464591503, 0.017056405544281006, 0.08518937230110168, 0.43783432245254517, 0.0, 0.0, 0.0, 0.0, 0.0, 0.0, 0.0, 0.0, 0.0, 0.0, 0.0, 0.0, 0.0, 0.0, 0.0, 0.0, 0.0, 0.0, 0.0], [0.007125315722078085, 0.0006055501871742308, 0.046735670417547226, 0.0005552457296289504, 0.018401628360152245, 0.004153164569288492, 0.00811220332980156, 0.00973200798034668, 0.0029250828083604574, 0.0003122627385891974, 0.001135017373599112, 0.009281282313168049, 0.054588548839092255, 0.8363369703292847, 0.0, 0.0, 0.0, 0.0, 0.0, 0.0, 0.0, 0.0, 0.0, 0.0, 0.0, 0.0, 0.0, 0.0, 0.0, 0.0, 0.0, 0.0], [0.013088732957839966, 0.10027850419282913, 0.07719289511442184, 0.0710190013051033, 0.04884907603263855, 0.01917988993227482, 0.031096918508410454, 0.041057366877794266, 0.01769964210689068, 0.000754871463868767, 0.0011214610422030091, 0.08730289340019226, 0.06259508430957794, 0.044585779309272766, 0.38417792320251465, 0.0, 0.0, 0.0, 0.0, 0.0, 0.0, 0.0, 0.0, 0.0, 0.0, 0.0, 0.0, 0.0, 0.0, 0.0, 0.0, 0.0], [0.004069466609507799, 0.01885182410478592, 0.0645560771226883, 0.011685064993798733, 0.09937752783298492, 0.07472789287567139, 0.056331172585487366, 0.02342752367258072, 0.007559284567832947, 0.00100255711004138, 0.0034073437564074993, 0.027504578232765198, 0.07017382234334946, 0.2106182724237442, 0.06296582520008087, 0.2637418210506439, 0.0, 0.0, 0.0, 0.0, 0.0, 0.0, 0.0, 0.0, 0.0, 0.0, 0.0, 0.0, 0.0, 0.0, 0.0, 0.0], [0.0283212810754776, 0.0733979344367981, 0.002991690766066313, 0.0009590137051418424, 0.012698420323431492, 0.0029228313360363245, 0.0029617894906550646, 0.014626745134592056, 0.005722981411963701, 0.00036796179483644664, 0.0005444202106446028, 0.005493490491062403, 0.03727363795042038, 0.004575322847813368, 0.02071581780910492, 0.12159503251314163, 0.6648316383361816, 0.0, 0.0, 0.0, 0.0, 0.0, 0.0, 0.0, 0.0, 0.0, 0.0, 0.0, 0.0, 0.0, 0.0, 0.0], [0.04100082069635391, 0.029159098863601685, 0.032870110124349594, 0.00034187614801339805, 0.2630595266819, 0.005277012474834919, 0.0287165567278862, 0.036483027040958405, 0.05977512151002884, 0.019291697070002556, 0.03650810196995735, 0.040651753544807434, 0.021307237446308136, 0.036641135811805725, 0.012621881440281868, 0.10705000162124634, 0.054918766021728516, 0.17432628571987152, 0.0, 0.0, 0.0, 0.0, 0.0, 0.0, 0.0, 0.0, 0.0, 0.0, 0.0, 0.0, 0.0, 0.0], [0.003099088091403246, 0.0007178519736044109, 0.00017417373601347208, 1.4109666153672151e-05, 0.0003059057635255158, 2.3775925001245923e-05, 0.00015438150148838758, 0.0022040638141334057, 0.00018025803728960454, 1.7489954188931733e-05, 3.120098699582741e-05, 0.0006661068182438612, 0.0069399564526975155, 0.008269906975328922, 0.001368134981021285, 0.0029472066089510918, 0.0010829214006662369, 0.0009206639952026308, 0.9708828926086426, 0.0, 0.0, 0.0, 0.0, 0.0, 0.0, 0.0, 0.0, 0.0, 0.0, 0.0, 0.0, 0.0], [0.6835508942604065, 0.0045656380243599415, 0.0005114610539749265, 0.0019106864929199219, 0.00047261788859032094, 1.248026546818437e-05, 0.0001907960686367005, 0.0006693118484690785, 0.0006966007058508694, 0.0003840006538666785, 0.00014384514361154288, 6.226911500561982e-05, 0.00356178916990757, 0.00041143150883726776, 0.0003746442380361259, 0.0007401597686111927, 0.0006544754141941667, 0.00015804627037141472, 0.004357862751930952, 0.2965709865093231, 0.0, 0.0, 0.0, 0.0, 0.0, 0.0, 0.0, 0.0, 0.0, 0.0, 0.0, 0.0], [0.13230322301387787, 0.02767227031290531, 0.00756338844075799, 0.007764581590890884, 0.015026239678263664, 0.004093484953045845, 0.007591528352349997, 0.005422508344054222, 0.006445359904319048, 0.00982233602553606, 0.001988745294511318, 0.003969348967075348, 0.002881638938561082, 0.00208518304862082, 0.0021646926179528236, 0.005010100547224283, 0.000898423430044204, 0.009916518814861774, 0.003054418135434389, 0.1334434449672699, 0.6108825206756592, 0.0, 0.0, 0.0, 0.0, 0.0, 0.0, 0.0, 0.0, 0.0, 0.0, 0.0], [0.9608351588249207, 0.003425773698836565, 0.0020559816621243954, 0.00548828300088644, 0.0016561400843784213, 0.00021227734396234155, 0.0003253471222706139, 0.00044660057756118476, 0.00031000401941128075, 9.638177289161831e-05, 0.00010169561574002728, 0.00020526059961412102, 0.0005747972754761577, 0.00020549740293063223, 0.0001980499946512282, 0.00020673262770287693, 0.0005116023239679635, 0.00029323174385353923, 0.00018251729488838464, 0.015890303999185562, 0.003928856458514929, 0.0028493646532297134, 0.0, 0.0, 0.0, 0.0, 0.0, 0.0, 0.0, 0.0, 0.0, 0.0], [0.5225668549537659, 0.019065994769334793, 0.0015592818381264806, 0.014898392371833324, 0.0026023113168776035, 0.0033403346315026283, 0.000989074818789959, 0.0005253753624856472, 0.0015710199950262904, 0.0003558387979865074, 0.00039541852311231196, 0.0002763722150120884, 0.001747702481225133, 0.00020486260473262519, 0.0005631925305351615, 0.0005146258627064526, 0.0020454314071685076, 0.0003155526064801961, 0.00013558527280110866, 0.20485520362854004, 0.0075558763928711414, 0.004281795583665371, 0.20963388681411743, 0.0, 0.0, 0.0, 0.0, 0.0, 0.0, 0.0, 0.0, 0.0], [0.7523631453514099, 0.0068475971929728985, 0.0009329785825684667, 0.00752282002940774, 0.0018886944744735956, 0.0018627222161740065, 0.00012133373820688576, 0.0035656343679875135, 0.009442769922316074, 0.0016260375268757343, 0.00016904051881283522, 8.664494816912338e-05, 0.000963420607149601, 4.155165152042173e-05, 0.0001177346712211147, 9.024982136907056e-05, 0.0004797894798684865, 5.7718636526260525e-05, 0.00013220978144090623, 0.11897280067205429, 0.001760572544299066, 0.0011484004789963365, 0.0711861178278923, 0.01862013153731823, 0.0, 0.0, 0.0, 0.0, 0.0, 0.0, 0.0, 0.0], [0.4093436896800995, 0.006131242960691452, 0.0015020737191662192, 0.005195498000830412, 0.0034543941728770733, 0.0007304727332666516, 0.00020864285761490464, 0.020175915211439133, 0.06173928827047348, 0.004941282328218222, 0.0009334922069683671, 0.003837774507701397, 0.015268860384821892, 0.000538709806278348, 0.0018065721960738301, 0.0001852065761340782, 0.0010744264582172036, 0.0005507656605914235, 0.0007175584323704243, 0.04348953068256378, 0.00206110836006701, 0.006966594140976667, 0.0536298044025898, 0.1165352314710617, 0.23898187279701233, 0.0, 0.0, 0.0, 0.0, 0.0, 0.0, 0.0], [0.02017068862915039, 0.010910083539783955, 0.0009556958102621138, 0.0077271778136491776, 0.01026154961436987, 0.0013032016577199101, 0.00020762448548339307, 0.013513730838894844, 0.02623532898724079, 0.11061158031225204, 0.009983857162296772, 0.003931561950594187, 0.0006174736190587282, 0.00014471029862761497, 0.0005101474234834313, 6.208327977219597e-05, 6.258417124627158e-05, 0.00019333968521095812, 6.409813067875803e-05, 0.04081881418824196, 0.0018288710853084922, 0.01976168155670166, 0.040099408477544785, 0.10494488477706909, 0.09540556371212006, 0.4796742796897888, 0.0, 0.0, 0.0, 0.0, 0.0, 0.0], [0.018010329455137253, 0.013317900709807873, 0.001820386154577136, 0.002487605670467019, 0.01302165538072586, 0.00021536831627599895, 0.0015820111148059368, 0.01600612886250019, 0.04268142580986023, 0.12821146845817566, 0.11617428809404373, 0.02026110142469406, 0.0034708883613348007, 0.0009126154473051429, 0.0004956257180310786, 0.0005651884130202234, 0.00020099285757169127, 0.003544256556779146, 0.0001834999566199258, 0.019852735102176666, 0.00033796674688346684, 0.010301266796886921, 0.008886193856596947, 0.026236720383167267, 0.06353132426738739, 0.2634214758872986, 0.2242695838212967, 0.0, 0.0, 0.0, 0.0, 0.0], [0.0010524863610044122, 0.029690947383642197, 0.01449948363006115, 0.016266627237200737, 0.05742412060499191, 0.004735100548714399, 0.008056677877902985, 0.01269865408539772, 0.023005031049251556, 0.048135336488485336, 0.1012028232216835, 0.04498372972011566, 0.003179643303155899, 0.00784487184137106, 0.003579742042347789, 0.0021014646627008915, 0.0016432683914899826, 0.01896015554666519, 0.0029803344514220953, 0.01424410566687584, 0.01494210958480835, 0.03378399834036827, 0.03607708215713501, 0.05468228831887245, 0.04175389185547829, 0.10875362157821655, 0.21128568053245544, 0.08243662118911743, 0.0, 0.0, 0.0, 0.0], [0.003091254038736224, 0.007280705031007528, 0.04642321914434433, 0.001725315349176526, 0.11305081844329834, 0.004083231091499329, 0.014395209960639477, 0.012598713859915733, 0.019420120865106583, 0.03945228457450867, 0.09105466306209564, 0.04066627845168114, 0.005460742395371199, 0.022816479206085205, 0.0009169732802547514, 0.0037444508634507656, 0.001346365548670292, 0.027552928775548935, 0.0013477246975526214, 0.002065932611003518, 0.0254998579621315, 0.008617918007075787, 0.010290824808180332, 0.03181058168411255, 0.0413227342069149, 0.1061670184135437, 0.21261578798294067, 0.05748019367456436, 0.047701701521873474, 0.0, 0.0, 0.0], [0.0009390181512571871, 0.0002939137048088014, 0.00011684480705298483, 2.2319711206364445e-05, 0.00016712077194824815, 3.061348616029136e-05, 8.443131810054183e-05, 0.0009285067208111286, 8.85721601662226e-05, 1.1169848221470602e-05, 3.4221353416796774e-05, 0.00044182853889651597, 0.0028344294987618923, 0.003898258786648512, 0.0002551404759287834, 0.0002568763738963753, 0.00015532702673226595, 0.00016145386325661093, 0.3020976185798645, 0.0003954053099732846, 1.7343347280984744e-05, 0.00024768905132077634, 0.0008650244562886655, 0.00048347757547162473, 8.805201650829986e-05, 1.6715654055587947e-05, 5.44128124602139e-05, 0.00020632213272619992, 0.0008999190176837146, 0.6839081048965454, 0.0, 0.0], [0.39404216408729553, 0.0030364308040589094, 0.0002490066399332136, 0.001525471336208284, 0.00019758309645112604, 7.374463621090399e-06, 5.219843296799809e-05, 0.000303428852930665, 0.000282173597952351, 0.00026882742531597614, 8.041459659580141e-05, 4.182929114904255e-05, 0.001580829732120037, 0.00013351530651561916, 0.00012139451428083703, 0.00016728845366742462, 0.0002020115643972531, 6.054414188838564e-05, 0.001670301309786737, 0.17969432473182678, 0.00035944482078775764, 0.0001371082616969943, 0.012530170381069183, 0.0012080575106665492, 0.0009185452945530415, 0.0005590565851889551, 0.00014295334403868765, 9.531163959763944e-05, 5.410258745541796e-05, 0.0037768830079585314, 0.39650121331214905, 0.0], [0.0691603273153305, 0.014103586785495281, 0.003074362175539136, 0.003935613203793764, 0.005982499569654465, 0.001924738404341042, 0.00276397867128253, 0.0023871827870607376, 0.00265117478556931, 0.0032264606561511755, 0.0008470822940580547, 0.0017558332765474916, 0.001595385605469346, 0.0009441256406717002, 0.0006694058538414538, 0.001116403378546238, 0.00033380495733581483, 0.0030049269553273916, 0.0019579273648560047, 0.06137682870030403, 0.21297340095043182, 0.01732565276324749, 0.06110290437936783, 0.03198041394352913, 0.010120044462382793, 0.008905341848731041, 0.0022317764814943075, 0.0013790179509669542, 0.005835644900798798, 0.00472728256136179, 0.11815890669822693, 0.342447966337204]], [[1.0, 0.0, 0.0, 0.0, 0.0, 0.0, 0.0, 0.0, 0.0, 0.0, 0.0, 0.0, 0.0, 0.0, 0.0, 0.0, 0.0, 0.0, 0.0, 0.0, 0.0, 0.0, 0.0, 0.0, 0.0, 0.0, 0.0, 0.0, 0.0, 0.0, 0.0, 0.0], [0.1250191628932953, 0.8749808669090271, 0.0, 0.0, 0.0, 0.0, 0.0, 0.0, 0.0, 0.0, 0.0, 0.0, 0.0, 0.0, 0.0, 0.0, 0.0, 0.0, 0.0, 0.0, 0.0, 0.0, 0.0, 0.0, 0.0, 0.0, 0.0, 0.0, 0.0, 0.0, 0.0, 0.0], [0.02729727327823639, 0.16111990809440613, 0.8115827441215515, 0.0, 0.0, 0.0, 0.0, 0.0, 0.0, 0.0, 0.0, 0.0, 0.0, 0.0, 0.0, 0.0, 0.0, 0.0, 0.0, 0.0, 0.0, 0.0, 0.0, 0.0, 0.0, 0.0, 0.0, 0.0, 0.0, 0.0, 0.0, 0.0], [0.0016762386076152325, 0.1255110800266266, 0.5532297492027283, 0.3195829391479492, 0.0, 0.0, 0.0, 0.0, 0.0, 0.0, 0.0, 0.0, 0.0, 0.0, 0.0, 0.0, 0.0, 0.0, 0.0, 0.0, 0.0, 0.0, 0.0, 0.0, 0.0, 0.0, 0.0, 0.0, 0.0, 0.0, 0.0, 0.0], [0.0018082843162119389, 0.0930095687508583, 0.34671613574028015, 0.16808080673217773, 0.3903851807117462, 0.0, 0.0, 0.0, 0.0, 0.0, 0.0, 0.0, 0.0, 0.0, 0.0, 0.0, 0.0, 0.0, 0.0, 0.0, 0.0, 0.0, 0.0, 0.0, 0.0, 0.0, 0.0, 0.0, 0.0, 0.0, 0.0, 0.0], [0.0023493070621043444, 0.06654535979032516, 0.31470516324043274, 0.2524394690990448, 0.30660080909729004, 0.057359885424375534, 0.0, 0.0, 0.0, 0.0, 0.0, 0.0, 0.0, 0.0, 0.0, 0.0, 0.0, 0.0, 0.0, 0.0, 0.0, 0.0, 0.0, 0.0, 0.0, 0.0, 0.0, 0.0, 0.0, 0.0, 0.0, 0.0], [0.0014986093156039715, 0.03995794802904129, 0.2560606598854065, 0.11392928659915924, 0.26254716515541077, 0.050767868757247925, 0.2752385139465332, 0.0, 0.0, 0.0, 0.0, 0.0, 0.0, 0.0, 0.0, 0.0, 0.0, 0.0, 0.0, 0.0, 0.0, 0.0, 0.0, 0.0, 0.0, 0.0, 0.0, 0.0, 0.0, 0.0, 0.0, 0.0], [0.0005685406504198909, 0.0573916994035244, 0.08401333540678024, 0.10131541639566422, 0.2114953100681305, 0.43472298979759216, 0.024638282135128975, 0.08585445582866669, 0.0, 0.0, 0.0, 0.0, 0.0, 0.0, 0.0, 0.0, 0.0, 0.0, 0.0, 0.0, 0.0, 0.0, 0.0, 0.0, 0.0, 0.0, 0.0, 0.0, 0.0, 0.0, 0.0, 0.0], [0.0036257135216146708, 0.04061108082532883, 0.18185825645923615, 0.08389618992805481, 0.3784966766834259, 0.02677249163389206, 0.1109502837061882, 0.043309129774570465, 0.13048015534877777, 0.0, 0.0, 0.0, 0.0, 0.0, 0.0, 0.0, 0.0, 0.0, 0.0, 0.0, 0.0, 0.0, 0.0, 0.0, 0.0, 0.0, 0.0, 0.0, 0.0, 0.0, 0.0, 0.0], [0.003573755035176873, 0.029770344495773315, 0.25333938002586365, 0.12227523326873779, 0.3314817249774933, 0.0297867301851511, 0.11216583102941513, 0.027610452845692635, 0.028743669390678406, 0.06125284358859062, 0.0, 0.0, 0.0, 0.0, 0.0, 0.0, 0.0, 0.0, 0.0, 0.0, 0.0, 0.0, 0.0, 0.0, 0.0, 0.0, 0.0, 0.0, 0.0, 0.0, 0.0, 0.0], [0.00013139807560946792, 0.028755266219377518, 0.20596462488174438, 0.23010236024856567, 0.18637900054454803, 0.09434209764003754, 0.08841387927532196, 0.037999365478754044, 0.014786465093493462, 0.030901925638318062, 0.0822235643863678, 0.0, 0.0, 0.0, 0.0, 0.0, 0.0, 0.0, 0.0, 0.0, 0.0, 0.0, 0.0, 0.0, 0.0, 0.0, 0.0, 0.0, 0.0, 0.0, 0.0, 0.0], [0.0001297254639212042, 0.012124386616051197, 0.08053666353225708, 0.21328911185264587, 0.19837605953216553, 0.08309879153966904, 0.059644296765327454, 0.08338665217161179, 0.037396203726530075, 0.11833076924085617, 0.0858965516090393, 0.027790818363428116, 0.0, 0.0, 0.0, 0.0, 0.0, 0.0, 0.0, 0.0, 0.0, 0.0, 0.0, 0.0, 0.0, 0.0, 0.0, 0.0, 0.0, 0.0, 0.0, 0.0], [0.00137499684933573, 0.03928012773394585, 0.2243288904428482, 0.10088794678449631, 0.2861228585243225, 0.03327508643269539, 0.033457737416028976, 0.04365697503089905, 0.029193352907896042, 0.07096383720636368, 0.05512435734272003, 0.03686748445034027, 0.0454663448035717, 0.0, 0.0, 0.0, 0.0, 0.0, 0.0, 0.0, 0.0, 0.0, 0.0, 0.0, 0.0, 0.0, 0.0, 0.0, 0.0, 0.0, 0.0, 0.0], [0.004935810342431068, 0.0625627189874649, 0.2418569177389145, 0.12759289145469666, 0.13412579894065857, 0.034155286848545074, 0.02788795344531536, 0.050021592527627945, 0.03089660033583641, 0.06195898726582527, 0.07022962719202042, 0.06919068098068237, 0.047149088233709335, 0.037436049431562424, 0.0, 0.0, 0.0, 0.0, 0.0, 0.0, 0.0, 0.0, 0.0, 0.0, 0.0, 0.0, 0.0, 0.0, 0.0, 0.0, 0.0, 0.0], [0.0006156530580483377, 0.05571066960692406, 0.1031021997332573, 0.05953086540102959, 0.11842898279428482, 0.06674107164144516, 0.026390952989459038, 0.09476052969694138, 0.06866201013326645, 0.06555656343698502, 0.05632362887263298, 0.05573282763361931, 0.09702900052070618, 0.050590839236974716, 0.08082419633865356, 0.0, 0.0, 0.0, 0.0, 0.0, 0.0, 0.0, 0.0, 0.0, 0.0, 0.0, 0.0, 0.0, 0.0, 0.0, 0.0, 0.0], [0.013136646710336208, 0.07660423219203949, 0.08036825805902481, 0.08017174899578094, 0.1335158348083496, 0.031280167400836945, 0.018342580646276474, 0.05999091640114784, 0.06915760040283203, 0.08337942510843277, 0.09440002590417862, 0.026671886444091797, 0.04318656027317047, 0.019153522327542305, 0.1349170207977295, 0.03572358563542366, 0.0, 0.0, 0.0, 0.0, 0.0, 0.0, 0.0, 0.0, 0.0, 0.0, 0.0, 0.0, 0.0, 0.0, 0.0, 0.0], [0.0028675077483057976, 0.07297414541244507, 0.026070179417729378, 0.06412698328495026, 0.13230429589748383, 0.08768446743488312, 0.02278800681233406, 0.04956776276230812, 0.0701768770813942, 0.09151943773031235, 0.10173012316226959, 0.018268240615725517, 0.0239617470651865, 0.012596308253705502, 0.05397916957736015, 0.032723039388656616, 0.13666169345378876, 0.0, 0.0, 0.0, 0.0, 0.0, 0.0, 0.0, 0.0, 0.0, 0.0, 0.0, 0.0, 0.0, 0.0, 0.0], [0.004267600830644369, 0.05537138506770134, 0.0361812524497509, 0.06145242974162102, 0.24899178743362427, 0.020568914711475372, 0.03769330307841301, 0.04456358402967453, 0.06669948995113373, 0.20082560181617737, 0.13184010982513428, 0.004514480009675026, 0.012877419590950012, 0.009610054083168507, 0.01075072679668665, 0.024326970800757408, 0.022063646465539932, 0.007401243783533573, 0.0, 0.0, 0.0, 0.0, 0.0, 0.0, 0.0, 0.0, 0.0, 0.0, 0.0, 0.0, 0.0, 0.0], [0.0003048530488740653, 0.11810408532619476, 0.1143508180975914, 0.12173846364021301, 0.10918936133384705, 0.06210171431303024, 0.034874096512794495, 0.04137958958745003, 0.019557839259505272, 0.02530827559530735, 0.05550788715481758, 0.029001474380493164, 0.09806011617183685, 0.01460200548171997, 0.029111012816429138, 0.02976750023663044, 0.03389729931950569, 0.012074162252247334, 0.05106949433684349, 0.0, 0.0, 0.0, 0.0, 0.0, 0.0, 0.0, 0.0, 0.0, 0.0, 0.0, 0.0, 0.0], [0.0051135472021996975, 0.03151163086295128, 0.2751421332359314, 0.11146630346775055, 0.11635250598192215, 0.005284479353576899, 0.1346602439880371, 0.015078348107635975, 0.013691362924873829, 0.020065972581505775, 0.05386510491371155, 0.02607940137386322, 0.059847742319107056, 0.02586369402706623, 0.014341338537633419, 0.028756560757756233, 0.0100089181214571, 0.011530493386089802, 0.027482258155941963, 0.013857905752956867, 0.0, 0.0, 0.0, 0.0, 0.0, 0.0, 0.0, 0.0, 0.0, 0.0, 0.0, 0.0], [0.000573243829421699, 0.03885585442185402, 0.1122424378991127, 0.10246101021766663, 0.1671983301639557, 0.008414731360971928, 0.0832347720861435, 0.014253105036914349, 0.004939562175422907, 0.011040868237614632, 0.026571178808808327, 0.021321160718798637, 0.09333807975053787, 0.043356429785490036, 0.01721671223640442, 0.04520728811621666, 0.0059509011916816235, 0.006784900091588497, 0.05610877647995949, 0.007140509318560362, 0.13379016518592834, 0.0, 0.0, 0.0, 0.0, 0.0, 0.0, 0.0, 0.0, 0.0, 0.0, 0.0], [2.3253756808117032e-05, 0.057183023542165756, 0.2377786487340927, 0.09812561422586441, 0.08333525061607361, 0.009984615258872509, 0.06708396971225739, 0.02371699921786785, 0.005546907894313335, 0.014093542471528053, 0.013372058048844337, 0.02310912124812603, 0.05452301353216171, 0.07695579528808594, 0.007174522615969181, 0.033190034329891205, 0.0027001057751476765, 0.00503378314897418, 0.02883913926780224, 0.044218093156814575, 0.05373825877904892, 0.06027422472834587, 0.0, 0.0, 0.0, 0.0, 0.0, 0.0, 0.0, 0.0, 0.0, 0.0], [0.0007103131501935422, 0.01834341138601303, 0.12726041674613953, 0.08426936715841293, 0.07229626178741455, 0.00879022665321827, 0.08147051185369492, 0.02277025766670704, 0.007733083330094814, 0.020334847271442413, 0.02212914265692234, 0.03399984538555145, 0.06945493072271347, 0.04158258065581322, 0.018481887876987457, 0.03923691064119339, 0.016079960390925407, 0.010467003099620342, 0.03400759771466255, 0.03221067413687706, 0.08495921641588211, 0.03483608365058899, 0.11857541650533676, 0.0, 0.0, 0.0, 0.0, 0.0, 0.0, 0.0, 0.0, 0.0], [4.4614775106310844e-05, 0.02600160427391529, 0.04619083181023598, 0.03230685368180275, 0.06593256443738937, 0.025191912427544594, 0.008098826743662357, 0.015155944973230362, 0.01697293110191822, 0.028696930035948753, 0.029750406742095947, 0.05030621215701103, 0.03843381628394127, 0.008502266369760036, 0.023300087079405785, 0.012876588851213455, 0.025787917897105217, 0.00913862232118845, 0.020090049132704735, 0.09604446589946747, 0.05462265387177467, 0.053456488996744156, 0.16267207264900208, 0.1504252701997757, 0.0, 0.0, 0.0, 0.0, 0.0, 0.0, 0.0, 0.0], [0.0006804586737416685, 0.01880159042775631, 0.07632071524858475, 0.02333644963800907, 0.11005537211894989, 0.005360088311135769, 0.02556830830872059, 0.014022561721503735, 0.018276382237672806, 0.03406152129173279, 0.039615172892808914, 0.03766557574272156, 0.030332613736391068, 0.02423752471804619, 0.00852400902658701, 0.015753604471683502, 0.006245963741093874, 0.01199327502399683, 0.041304707527160645, 0.01937478967010975, 0.18057231605052948, 0.011285791173577309, 0.05142817273736, 0.11386924237012863, 0.08131381869316101, 0.0, 0.0, 0.0, 0.0, 0.0, 0.0, 0.0], [0.00023735799186397344, 0.010715003125369549, 0.0693427324295044, 0.023086760193109512, 0.08950360119342804, 0.0068757738918066025, 0.02311742678284645, 0.010461552068591118, 0.00636922987177968, 0.020554713904857635, 0.020496537908911705, 0.0727405920624733, 0.03702527657151222, 0.02598527818918228, 0.00545757869258523, 0.018303705379366875, 0.006529811304062605, 0.016525141894817352, 0.04866672307252884, 0.004362204577773809, 0.1834922581911087, 0.012439405545592308, 0.02196633070707321, 0.0965602844953537, 0.04336022958159447, 0.12582442164421082, 0.0, 0.0, 0.0, 0.0, 0.0, 0.0], [2.692651833058335e-05, 0.009568948298692703, 0.0518818125128746, 0.04258493334054947, 0.043691910803318024, 0.017696447670459747, 0.02022852562367916, 0.01160635519772768, 0.0027157047297805548, 0.008087903261184692, 0.016062719747424126, 0.11437541246414185, 0.08007391542196274, 0.03184576705098152, 0.01325888093560934, 0.03344512730836868, 0.026944052428007126, 0.023180533200502396, 0.05048450827598572, 0.0036693336442112923, 0.08757147938013077, 0.03506029397249222, 0.018868226557970047, 0.08022487908601761, 0.016666023060679436, 0.0452338270843029, 0.11494555324316025, 0.0, 0.0, 0.0, 0.0, 0.0], [3.127656600554474e-05, 0.0055551957339048386, 0.012266590259969234, 0.024459628388285637, 0.04238438606262207, 0.00942384172230959, 0.013555650599300861, 0.01759890280663967, 0.004193249624222517, 0.015524727292358875, 0.01548284012824297, 0.005465561058372259, 0.045272111892700195, 0.01835888996720314, 0.007319130003452301, 0.029613373801112175, 0.030131513252854347, 0.004148667678236961, 0.03518248349428177, 0.020845826715230942, 0.026860546320676804, 0.01390047837048769, 0.08912699669599533, 0.19163177907466888, 0.032103531062603, 0.11387857049703598, 0.12351327389478683, 0.05217098444700241, 0.0, 0.0, 0.0, 0.0], [3.305221616756171e-05, 0.007492567878216505, 0.012579177506268024, 0.024436425417661667, 0.0587836317718029, 0.012491550296545029, 0.0054365526884794235, 0.012967842631042004, 0.00487455865368247, 0.023576155304908752, 0.011227935552597046, 0.0024858468677848577, 0.013926723040640354, 0.00676213251426816, 0.00681948522105813, 0.01728319562971592, 0.014772784896194935, 0.0014308765530586243, 0.0354304313659668, 0.018854646012187004, 0.017540104687213898, 0.006430099252611399, 0.08809802681207657, 0.2848869264125824, 0.04265671223402023, 0.16135211288928986, 0.07914759963750839, 0.023535942658782005, 0.004686967935413122, 0.0, 0.0, 0.0], [2.0760166080435738e-05, 0.01897096447646618, 0.032303184270858765, 0.032336071133613586, 0.02959180437028408, 0.027587145566940308, 0.007408915553241968, 0.013956132344901562, 0.0040239798836410046, 0.008010604418814182, 0.012416725046932697, 0.01029353216290474, 0.04664892330765724, 0.00901062786579132, 0.009664946235716343, 0.009197683073580265, 0.01494124997407198, 0.0028244033455848694, 0.03736906871199608, 0.024799736216664314, 0.024439385160803795, 0.047497235238552094, 0.08684335649013519, 0.12701043486595154, 0.021796271204948425, 0.04051537439227104, 0.07725076377391815, 0.03793178126215935, 0.015866411849856377, 0.16947253048419952, 0.0, 0.0], [0.0030082978773862123, 0.013256331905722618, 0.11620818823575974, 0.05665900930762291, 0.05481606349349022, 0.003911843057721853, 0.04115043208003044, 0.00793682225048542, 0.004399378318339586, 0.007285001687705517, 0.015222640708088875, 0.009573726914823055, 0.037813685834407806, 0.0135850440710783, 0.011243456043303013, 0.014907751232385635, 0.008069401606917381, 0.0031964764930307865, 0.015034591779112816, 0.017940880730748177, 0.04531575366854668, 0.007288810331374407, 0.042818497866392136, 0.054021626710891724, 0.02333340235054493, 0.0271706972271204, 0.08275392651557922, 0.05199550837278366, 0.025768134742975235, 0.08641733229160309, 0.0978972390294075, 0.0], [0.0002334750461159274, 0.00842590443789959, 0.021697673946619034, 0.02209997922182083, 0.0369255356490612, 0.003604303812608123, 0.013500765897333622, 0.005059109069406986, 0.0012301375390961766, 0.003124093869701028, 0.005156303755939007, 0.0043401471339166164, 0.029461566358804703, 0.011845002882182598, 0.0063845026306807995, 0.00864804070442915, 0.0027868214529007673, 0.001117517938837409, 0.02141096629202366, 0.005656679160892963, 0.02866765484213829, 0.016960259526968002, 0.043925244361162186, 0.08120523393154144, 0.012272322550415993, 0.02778034470975399, 0.058281686156988144, 0.05331270769238472, 0.016108788549900055, 0.2255444973707199, 0.050954949110746384, 0.1722778081893921]], [[1.0, 0.0, 0.0, 0.0, 0.0, 0.0, 0.0, 0.0, 0.0, 0.0, 0.0, 0.0, 0.0, 0.0, 0.0, 0.0, 0.0, 0.0, 0.0, 0.0, 0.0, 0.0, 0.0, 0.0, 0.0, 0.0, 0.0, 0.0, 0.0, 0.0, 0.0, 0.0], [0.6423892974853516, 0.35761070251464844, 0.0, 0.0, 0.0, 0.0, 0.0, 0.0, 0.0, 0.0, 0.0, 0.0, 0.0, 0.0, 0.0, 0.0, 0.0, 0.0, 0.0, 0.0, 0.0, 0.0, 0.0, 0.0, 0.0, 0.0, 0.0, 0.0, 0.0, 0.0, 0.0, 0.0], [0.44238075613975525, 0.14978201687335968, 0.4078371822834015, 0.0, 0.0, 0.0, 0.0, 0.0, 0.0, 0.0, 0.0, 0.0, 0.0, 0.0, 0.0, 0.0, 0.0, 0.0, 0.0, 0.0, 0.0, 0.0, 0.0, 0.0, 0.0, 0.0, 0.0, 0.0, 0.0, 0.0, 0.0, 0.0], [0.09407831728458405, 0.09436681121587753, 0.5016319155693054, 0.3099229037761688, 0.0, 0.0, 0.0, 0.0, 0.0, 0.0, 0.0, 0.0, 0.0, 0.0, 0.0, 0.0, 0.0, 0.0, 0.0, 0.0, 0.0, 0.0, 0.0, 0.0, 0.0, 0.0, 0.0, 0.0, 0.0, 0.0, 0.0, 0.0], [0.2893501818180084, 0.4406985938549042, 0.10961467772722244, 0.04566096141934395, 0.11467555165290833, 0.0, 0.0, 0.0, 0.0, 0.0, 0.0, 0.0, 0.0, 0.0, 0.0, 0.0, 0.0, 0.0, 0.0, 0.0, 0.0, 0.0, 0.0, 0.0, 0.0, 0.0, 0.0, 0.0, 0.0, 0.0, 0.0, 0.0], [0.9962712526321411, 0.0023009974975138903, 9.39201345317997e-05, 0.0008647243375889957, 0.0001612678315723315, 0.0003077793517149985, 0.0, 0.0, 0.0, 0.0, 0.0, 0.0, 0.0, 0.0, 0.0, 0.0, 0.0, 0.0, 0.0, 0.0, 0.0, 0.0, 0.0, 0.0, 0.0, 0.0, 0.0, 0.0, 0.0, 0.0, 0.0, 0.0], [0.3138854205608368, 0.14133703708648682, 0.09224540740251541, 0.06014711409807205, 0.07792501151561737, 0.022047558799386024, 0.2924124300479889, 0.0, 0.0, 0.0, 0.0, 0.0, 0.0, 0.0, 0.0, 0.0, 0.0, 0.0, 0.0, 0.0, 0.0, 0.0, 0.0, 0.0, 0.0, 0.0, 0.0, 0.0, 0.0, 0.0, 0.0, 0.0], [0.3701280951499939, 0.21818818151950836, 0.022286642342805862, 0.04056655988097191, 0.019759884104132652, 0.027208851650357246, 0.02913963422179222, 0.27272215485572815, 0.0, 0.0, 0.0, 0.0, 0.0, 0.0, 0.0, 0.0, 0.0, 0.0, 0.0, 0.0, 0.0, 0.0, 0.0, 0.0, 0.0, 0.0, 0.0, 0.0, 0.0, 0.0, 0.0, 0.0], [0.030112959444522858, 0.10998907685279846, 0.061729446053504944, 0.08788562566041946, 0.05050995200872421, 0.08985389024019241, 0.01642376184463501, 0.1982918381690979, 0.3552035093307495, 0.0, 0.0, 0.0, 0.0, 0.0, 0.0, 0.0, 0.0, 0.0, 0.0, 0.0, 0.0, 0.0, 0.0, 0.0, 0.0, 0.0, 0.0, 0.0, 0.0, 0.0, 0.0, 0.0], [0.15258288383483887, 0.05105077102780342, 0.07781054824590683, 0.027203043922781944, 0.12443651258945465, 0.09645765274763107, 0.051523543894290924, 0.034521106630563736, 0.12732234597206116, 0.2570916414260864, 0.0, 0.0, 0.0, 0.0, 0.0, 0.0, 0.0, 0.0, 0.0, 0.0, 0.0, 0.0, 0.0, 0.0, 0.0, 0.0, 0.0, 0.0, 0.0, 0.0, 0.0, 0.0], [0.015502450056374073, 0.011199184693396091, 0.018874047324061394, 0.005777355749160051, 0.04519949480891228, 0.1009361743927002, 0.01809270866215229, 0.00750005291774869, 0.05930684879422188, 0.2632938027381897, 0.4543178677558899, 0.0, 0.0, 0.0, 0.0, 0.0, 0.0, 0.0, 0.0, 0.0, 0.0, 0.0, 0.0, 0.0, 0.0, 0.0, 0.0, 0.0, 0.0, 0.0, 0.0, 0.0], [0.7631417512893677, 0.021755890920758247, 0.0005573174566961825, 0.0040129502303898335, 0.00136554182972759, 0.014815577305853367, 0.000284967158222571, 0.013312486000359058, 0.007739384658634663, 0.008582508191466331, 0.00936787948012352, 0.15506379306316376, 0.0, 0.0, 0.0, 0.0, 0.0, 0.0, 0.0, 0.0, 0.0, 0.0, 0.0, 0.0, 0.0, 0.0, 0.0, 0.0, 0.0, 0.0, 0.0, 0.0], [0.8840333223342896, 0.03758874163031578, 0.00010979383660014719, 0.004596153739839792, 9.668640996096656e-05, 0.005022314842790365, 1.801666439860128e-05, 0.018651224672794342, 0.0018809065222740173, 0.0003518704033922404, 0.00025464731152169406, 0.023254595696926117, 0.024141807109117508, 0.0, 0.0, 0.0, 0.0, 0.0, 0.0, 0.0, 0.0, 0.0, 0.0, 0.0, 0.0, 0.0, 0.0, 0.0, 0.0, 0.0, 0.0, 0.0], [0.16107520461082458, 0.17985311150550842, 0.009997391141951084, 0.04258202761411667, 0.005157636944204569, 0.056412745267152786, 0.006595239974558353, 0.04549350589513779, 0.016148263588547707, 0.005326773039996624, 0.006266764830797911, 0.18474911153316498, 0.2681913375854492, 0.012150897644460201, 0.0, 0.0, 0.0, 0.0, 0.0, 0.0, 0.0, 0.0, 0.0, 0.0, 0.0, 0.0, 0.0, 0.0, 0.0, 0.0, 0.0, 0.0], [0.9791566133499146, 0.008851908147335052, 2.367365414102096e-05, 0.000871171010658145, 1.19110154628288e-05, 0.0001394712453475222, 1.330097256868612e-05, 0.003955667372792959, 0.0001271673245355487, 2.008478986681439e-05, 1.253304708370706e-05, 0.0004352447867859155, 0.004181239753961563, 2.6689790502132382e-06, 0.002197482855990529, 0.0, 0.0, 0.0, 0.0, 0.0, 0.0, 0.0, 0.0, 0.0, 0.0, 0.0, 0.0, 0.0, 0.0, 0.0, 0.0, 0.0], [0.5039775371551514, 0.03793351724743843, 0.000982004450634122, 0.017943935468792915, 0.001671874662861228, 0.009487386792898178, 0.0007325154729187489, 0.013101985678076744, 0.00909301545470953, 0.0025453444104641676, 0.0010241585550829768, 0.02156590297818184, 0.015504609793424606, 0.0007888652035035193, 0.09318637102842331, 0.2704610824584961, 0.0, 0.0, 0.0, 0.0, 0.0, 0.0, 0.0, 0.0, 0.0, 0.0, 0.0, 0.0, 0.0, 0.0, 0.0, 0.0], [0.6844305396080017, 0.0899481549859047, 0.00010697184916352853, 0.024335533380508423, 0.0001546951534692198, 0.005940024740993977, 8.258444722741842e-05, 0.018323061987757683, 0.0013203397393226624, 0.0003512914991006255, 6.660052895313129e-05, 0.0017972792265936732, 0.011544154956936836, 1.3865481378161348e-05, 0.012066034600138664, 0.12326569855213165, 0.02625315822660923, 0.0, 0.0, 0.0, 0.0, 0.0, 0.0, 0.0, 0.0, 0.0, 0.0, 0.0, 0.0, 0.0, 0.0, 0.0], [0.3565223813056946, 0.05160537734627724, 0.00011508078023325652, 0.017109669744968414, 0.00012345871073193848, 0.02263752743601799, 8.965696906670928e-05, 0.009303928352892399, 0.003525790059939027, 0.0008887925650924444, 0.00038977988879196346, 0.023970695212483406, 0.011128167621791363, 4.500535851548193e-06, 0.03298725560307503, 0.13344351947307587, 0.05441468954086304, 0.281739741563797, 0.0, 0.0, 0.0, 0.0, 0.0, 0.0, 0.0, 0.0, 0.0, 0.0, 0.0, 0.0, 0.0, 0.0], [0.2089076191186905, 0.16875125467777252, 0.00024462526198476553, 0.008527044206857681, 2.8157632186776027e-05, 0.008160497061908245, 0.00010063988884212449, 0.02147059142589569, 0.0030254009179770947, 0.00043767495662905276, 7.947548147058114e-05, 0.038379233330488205, 0.057402241975069046, 6.827508514106739e-06, 0.10330074280500412, 0.10309261828660965, 0.11171797662973404, 0.16635966300964355, 7.723775524937082e-06, 0.0, 0.0, 0.0, 0.0, 0.0, 0.0, 0.0, 0.0, 0.0, 0.0, 0.0, 0.0, 0.0], [0.04055699333548546, 0.01829524338245392, 0.08236832916736603, 0.08865701407194138, 0.021061792969703674, 0.1453418880701065, 0.04361298680305481, 0.008480151183903217, 0.02562117576599121, 0.038775138556957245, 0.01110009104013443, 0.05758855119347572, 0.017143040895462036, 0.008668494410812855, 0.06306689977645874, 0.028937561437487602, 0.06766077876091003, 0.06998638063669205, 0.023956770077347755, 0.1391206979751587, 0.0, 0.0, 0.0, 0.0, 0.0, 0.0, 0.0, 0.0, 0.0, 0.0, 0.0, 0.0], [0.053563959896564484, 0.036271125078201294, 0.04474621266126633, 0.01585279405117035, 0.004917417652904987, 0.014120476320385933, 0.015126293525099754, 0.009724326431751251, 0.011742770671844482, 0.00900049414485693, 0.00541958212852478, 0.07875002920627594, 0.0655812919139862, 0.025423498824238777, 0.08714856207370758, 0.041144222021102905, 0.05812374874949455, 0.12284145504236221, 0.05967387929558754, 0.16371223330497742, 0.07711562514305115, 0.0, 0.0, 0.0, 0.0, 0.0, 0.0, 0.0, 0.0, 0.0, 0.0, 0.0], [0.6226298213005066, 0.058914490044116974, 0.00427599623799324, 0.09412142634391785, 0.001066917204298079, 0.006863338872790337, 0.0009979143505916, 0.012143109925091267, 0.0005334583693183959, 0.00032068745349533856, 0.00021578038285952061, 0.0007738432032056153, 0.010134616866707802, 0.00023063427943270653, 0.006966609042137861, 0.0036922325380146503, 0.0018457210389897227, 0.001328516867943108, 0.0004181831027381122, 0.12638293206691742, 0.007038935087621212, 0.03910490497946739, 0.0, 0.0, 0.0, 0.0, 0.0, 0.0, 0.0, 0.0, 0.0, 0.0], [0.047090183943510056, 0.006620879750698805, 0.11529430001974106, 0.02875210903584957, 0.11218854039907455, 0.004365733824670315, 0.10972314327955246, 0.005294233560562134, 0.021546723321080208, 0.0348113477230072, 0.02567940577864647, 0.021914752200245857, 0.010465552099049091, 0.01967468485236168, 0.01081843115389347, 0.007633758243173361, 0.0009922623867169023, 0.02202492766082287, 0.037795718759298325, 0.010019181296229362, 0.30200034379959106, 0.020199734717607498, 0.025094004347920418, 0.0, 0.0, 0.0, 0.0, 0.0, 0.0, 0.0, 0.0, 0.0], [0.05436559021472931, 0.021622704342007637, 0.025536591187119484, 0.0201057568192482, 0.02231578528881073, 0.004685268271714449, 0.017372947186231613, 0.029036127030849457, 0.02588682621717453, 0.041925638914108276, 0.00791960023343563, 0.12181280553340912, 0.1296907663345337, 0.007055247202515602, 0.033035460859537125, 0.011771554127335548, 0.00014348005061037838, 0.03830303996801376, 0.03229736536741257, 0.08424468338489532, 0.009173432365059853, 0.08135562390089035, 0.10412134230136871, 0.07622233033180237, 0.0, 0.0, 0.0, 0.0, 0.0, 0.0, 0.0, 0.0], [0.006438186392188072, 0.01050600130110979, 0.039553914219141006, 0.046784788370132446, 0.03982017934322357, 0.023547448217868805, 0.009701976552605629, 0.02936108037829399, 0.05066289007663727, 0.027375563979148865, 0.01637781225144863, 0.03074810467660427, 0.04695141315460205, 0.034535810351371765, 0.03192928805947304, 0.007846197113394737, 0.0008151741931214929, 0.006044846959412098, 0.03667481243610382, 0.030218571424484253, 0.05135219544172287, 0.06115967407822609, 0.04222559556365013, 0.09479992836713791, 0.22456857562065125, 0.0, 0.0, 0.0, 0.0, 0.0, 0.0, 0.0], [0.030184868723154068, 0.0028671410400420427, 0.022093063220381737, 0.009847384877502918, 0.08764658868312836, 0.03334836661815643, 0.025914570316672325, 0.004361631814390421, 0.023805834352970123, 0.08389373123645782, 0.031664710491895676, 0.013855408877134323, 0.006310848519206047, 0.01943398267030716, 0.004669161979109049, 0.0011517541715875268, 0.0002703343634493649, 0.0030072208028286695, 0.03178464248776436, 0.0056342170573771, 0.10616352409124374, 0.043851155787706375, 0.010258011519908905, 0.015169787220656872, 0.08790557831525803, 0.2949064373970032, 0.0, 0.0, 0.0, 0.0, 0.0, 0.0], [0.00381122506223619, 0.0009026680490933359, 0.004310791380703449, 0.0021414284128695726, 0.01941562630236149, 0.03504994511604309, 0.009218513034284115, 0.0009202530491165817, 0.011327303014695644, 0.0749492347240448, 0.09522457420825958, 0.013604343868792057, 0.0017536482773721218, 0.00827807653695345, 0.0030780378729104996, 0.0001861393393483013, 0.00010300772555638105, 0.0017969203181564808, 0.011698422022163868, 0.001487544272094965, 0.13366100192070007, 0.01708834245800972, 0.00272980029694736, 0.0015912303933873773, 0.023443087935447693, 0.20397552847862244, 0.31825336813926697, 0.0, 0.0, 0.0, 0.0, 0.0], [0.3493187725543976, 0.021866684779524803, 0.0035470942966639996, 0.016274655237793922, 0.00852140225470066, 0.05642182007431984, 0.003104293020442128, 0.008947624824941158, 0.007294781506061554, 0.01784021034836769, 0.01969113014638424, 0.02695608139038086, 0.016861416399478912, 0.004212262574583292, 0.01600237376987934, 0.004936987068504095, 0.007533901371061802, 0.013993937522172928, 0.002305214758962393, 0.04041710123419762, 0.01941811852157116, 0.03251587599515915, 0.11613503843545914, 0.012758362106978893, 0.014778435230255127, 0.044845450669527054, 0.054258499294519424, 0.05924253165721893, 0.0, 0.0, 0.0, 0.0], [0.8503849506378174, 0.010140870697796345, 3.821793507086113e-05, 0.0008661249303258955, 2.6088553568115458e-05, 0.002285984344780445, 1.5078592696227133e-05, 0.0011849321890622377, 0.00047502611414529383, 0.00014230975648388267, 0.00017120121628977358, 0.011426189914345741, 0.004017217550426722, 6.673127245448995e-06, 0.005163211841136217, 0.0022389714140444994, 0.007920610718429089, 0.017399447038769722, 1.6730615470805787e-06, 0.014475821517407894, 0.00026386952959001064, 0.006689962465316057, 0.007138029206544161, 0.002065455075353384, 0.0009197107283398509, 0.00037862127646803856, 0.0005125748575665057, 0.004674127325415611, 0.04897700995206833, 0.0, 0.0, 0.0], [0.3104607164859772, 0.09087415039539337, 0.00016970465367194265, 0.004810894373804331, 2.0508927264017984e-05, 0.004374697804450989, 5.7050092436838895e-05, 0.012026834301650524, 0.0011866098502650857, 0.00030096806585788727, 9.491837408859283e-05, 0.025540029630064964, 0.022004926577210426, 6.077409125282429e-06, 0.04294951260089874, 0.009107950143516064, 0.035063330084085464, 0.025708451867103577, 4.0381237340625376e-06, 0.25674840807914734, 6.378020043484867e-05, 0.02085191383957863, 0.04046950861811638, 0.00746886758133769, 0.0015312585746869445, 0.0003550476976670325, 0.00011631238885456696, 0.006140050478279591, 0.08148777484893799, 5.72094813833246e-06, 0.0, 0.0], [0.040017567574977875, 0.010755560360848904, 0.04803707078099251, 0.04606376215815544, 0.008808375336229801, 0.07804886251688004, 0.01525343768298626, 0.00451873941347003, 0.009185660630464554, 0.016796277835965157, 0.00541819678619504, 0.029246307909488678, 0.008788731880486012, 0.004870444070547819, 0.037336528301239014, 0.0077270581386983395, 0.037797361612319946, 0.022362908348441124, 0.009248699061572552, 0.0758720338344574, 0.07382118701934814, 0.017325542867183685, 0.012924415990710258, 0.006526866462081671, 0.013879884965717793, 0.01605953462421894, 0.007007582578808069, 0.07101044058799744, 0.06467106193304062, 0.012757820077240467, 0.1878620982170105, 0.0], [0.04469376429915428, 0.02320331148803234, 0.025627877563238144, 0.013039913028478622, 0.0026108145248144865, 0.013064970262348652, 0.00941468495875597, 0.006072876043617725, 0.005241440609097481, 0.005912421736866236, 0.0032832396682351828, 0.042391564697027206, 0.03458274155855179, 0.009032530710101128, 0.05377759039402008, 0.008791375905275345, 0.018935056403279305, 0.03415755182504654, 0.014608634635806084, 0.08971257507801056, 0.03260934352874756, 0.01592404395341873, 0.02620268240571022, 0.008561531081795692, 0.010289241559803486, 0.006244086194783449, 0.005131823942065239, 0.03172506019473076, 0.0929064080119133, 0.02325073629617691, 0.22983485460281372, 0.059165310114622116]], [[1.0, 0.0, 0.0, 0.0, 0.0, 0.0, 0.0, 0.0, 0.0, 0.0, 0.0, 0.0, 0.0, 0.0, 0.0, 0.0, 0.0, 0.0, 0.0, 0.0, 0.0, 0.0, 0.0, 0.0, 0.0, 0.0, 0.0, 0.0, 0.0, 0.0, 0.0, 0.0], [0.6070395708084106, 0.39296045899391174, 0.0, 0.0, 0.0, 0.0, 0.0, 0.0, 0.0, 0.0, 0.0, 0.0, 0.0, 0.0, 0.0, 0.0, 0.0, 0.0, 0.0, 0.0, 0.0, 0.0, 0.0, 0.0, 0.0, 0.0, 0.0, 0.0, 0.0, 0.0, 0.0, 0.0], [0.6242435574531555, 0.23001866042613983, 0.14573779702186584, 0.0, 0.0, 0.0, 0.0, 0.0, 0.0, 0.0, 0.0, 0.0, 0.0, 0.0, 0.0, 0.0, 0.0, 0.0, 0.0, 0.0, 0.0, 0.0, 0.0, 0.0, 0.0, 0.0, 0.0, 0.0, 0.0, 0.0, 0.0, 0.0], [0.6478374600410461, 0.14536091685295105, 0.08224908262491226, 0.12455257028341293, 0.0, 0.0, 0.0, 0.0, 0.0, 0.0, 0.0, 0.0, 0.0, 0.0, 0.0, 0.0, 0.0, 0.0, 0.0, 0.0, 0.0, 0.0, 0.0, 0.0, 0.0, 0.0, 0.0, 0.0, 0.0, 0.0, 0.0, 0.0], [0.32229071855545044, 0.1737990528345108, 0.21219442784786224, 0.09615013003349304, 0.19556573033332825, 0.0, 0.0, 0.0, 0.0, 0.0, 0.0, 0.0, 0.0, 0.0, 0.0, 0.0, 0.0, 0.0, 0.0, 0.0, 0.0, 0.0, 0.0, 0.0, 0.0, 0.0, 0.0, 0.0, 0.0, 0.0, 0.0, 0.0], [0.21756097674369812, 0.07954692095518112, 0.29794514179229736, 0.08298216760158539, 0.23751585185527802, 0.084448903799057, 0.0, 0.0, 0.0, 0.0, 0.0, 0.0, 0.0, 0.0, 0.0, 0.0, 0.0, 0.0, 0.0, 0.0, 0.0, 0.0, 0.0, 0.0, 0.0, 0.0, 0.0, 0.0, 0.0, 0.0, 0.0, 0.0], [0.39600425958633423, 0.08378218859434128, 0.14664453268051147, 0.033110957592725754, 0.20313970744609833, 0.045888058841228485, 0.09143030643463135, 0.0, 0.0, 0.0, 0.0, 0.0, 0.0, 0.0, 0.0, 0.0, 0.0, 0.0, 0.0, 0.0, 0.0, 0.0, 0.0, 0.0, 0.0, 0.0, 0.0, 0.0, 0.0, 0.0, 0.0, 0.0], [0.501900851726532, 0.04636579006910324, 0.12089553475379944, 0.03232652321457863, 0.12849506735801697, 0.0789717584848404, 0.025296280160546303, 0.06574822217226028, 0.0, 0.0, 0.0, 0.0, 0.0, 0.0, 0.0, 0.0, 0.0, 0.0, 0.0, 0.0, 0.0, 0.0, 0.0, 0.0, 0.0, 0.0, 0.0, 0.0, 0.0, 0.0, 0.0, 0.0], [0.5567026734352112, 0.07483377307653427, 0.040052153170108795, 0.022608209401369095, 0.055457670241594315, 0.04669761285185814, 0.023622693493962288, 0.03548694774508476, 0.1445382833480835, 0.0, 0.0, 0.0, 0.0, 0.0, 0.0, 0.0, 0.0, 0.0, 0.0, 0.0, 0.0, 0.0, 0.0, 0.0, 0.0, 0.0, 0.0, 0.0, 0.0, 0.0, 0.0, 0.0], [0.4962192475795746, 0.08235159516334534, 0.0377415306866169, 0.027908260002732277, 0.05199113115668297, 0.048537421971559525, 0.015201281756162643, 0.07164423912763596, 0.07393418997526169, 0.09447105973958969, 0.0, 0.0, 0.0, 0.0, 0.0, 0.0, 0.0, 0.0, 0.0, 0.0, 0.0, 0.0, 0.0, 0.0, 0.0, 0.0, 0.0, 0.0, 0.0, 0.0, 0.0, 0.0], [0.5624908208847046, 0.1433972716331482, 0.034284863620996475, 0.019684499129652977, 0.03360392898321152, 0.01591881364583969, 0.017989588901400566, 0.02727534994482994, 0.03241679072380066, 0.04804104566574097, 0.06489705294370651, 0.0, 0.0, 0.0, 0.0, 0.0, 0.0, 0.0, 0.0, 0.0, 0.0, 0.0, 0.0, 0.0, 0.0, 0.0, 0.0, 0.0, 0.0, 0.0, 0.0, 0.0], [0.039063140749931335, 0.0967831239104271, 0.11089955270290375, 0.1349751055240631, 0.1161414086818695, 0.08238101750612259, 0.0687071830034256, 0.05357583984732628, 0.10095241665840149, 0.0819513350725174, 0.07976844906806946, 0.03480137512087822, 0.0, 0.0, 0.0, 0.0, 0.0, 0.0, 0.0, 0.0, 0.0, 0.0, 0.0, 0.0, 0.0, 0.0, 0.0, 0.0, 0.0, 0.0, 0.0, 0.0], [0.07503994554281235, 0.05713370069861412, 0.05702374503016472, 0.04287968948483467, 0.19535867869853973, 0.03720344975590706, 0.12396732717752457, 0.03333531320095062, 0.11864005029201508, 0.11389847844839096, 0.09481501579284668, 0.02092546410858631, 0.02977916970849037, 0.0, 0.0, 0.0, 0.0, 0.0, 0.0, 0.0, 0.0, 0.0, 0.0, 0.0, 0.0, 0.0, 0.0, 0.0, 0.0, 0.0, 0.0, 0.0], [0.033180054277181625, 0.03919612243771553, 0.08966675400733948, 0.1345505565404892, 0.09999897330999374, 0.1051226407289505, 0.12868593633174896, 0.03324330598115921, 0.07553824037313461, 0.07061757892370224, 0.06288951635360718, 0.04427745193243027, 0.02004769630730152, 0.06298519670963287, 0.0, 0.0, 0.0, 0.0, 0.0, 0.0, 0.0, 0.0, 0.0, 0.0, 0.0, 0.0, 0.0, 0.0, 0.0, 0.0, 0.0, 0.0], [0.10534647852182388, 0.07972745597362518, 0.05764580890536308, 0.1261872798204422, 0.05668669193983078, 0.04905174300074577, 0.10082907229661942, 0.05411001294851303, 0.1207183226943016, 0.07938781380653381, 0.06570906937122345, 0.020895255729556084, 0.02001778595149517, 0.020099928602576256, 0.04358730837702751, 0.0, 0.0, 0.0, 0.0, 0.0, 0.0, 0.0, 0.0, 0.0, 0.0, 0.0, 0.0, 0.0, 0.0, 0.0, 0.0, 0.0], [0.03588154539465904, 0.03777700290083885, 0.10966645181179047, 0.10145961493253708, 0.09232477098703384, 0.05383237823843956, 0.03248206526041031, 0.04254578426480293, 0.09450458735227585, 0.0522284060716629, 0.08388399332761765, 0.026009278371930122, 0.01626734621822834, 0.06362039595842361, 0.12170881778001785, 0.03580750524997711, 0.0, 0.0, 0.0, 0.0, 0.0, 0.0, 0.0, 0.0, 0.0, 0.0, 0.0, 0.0, 0.0, 0.0, 0.0, 0.0], [0.04816880077123642, 0.03993691876530647, 0.07741283625364304, 0.04478529468178749, 0.07147546857595444, 0.029526375234127045, 0.031250301748514175, 0.0459347739815712, 0.09818369150161743, 0.05414387583732605, 0.06640178710222244, 0.02125237137079239, 0.016986338421702385, 0.05439639091491699, 0.09792817384004593, 0.03080933913588524, 0.1714072823524475, 0.0, 0.0, 0.0, 0.0, 0.0, 0.0, 0.0, 0.0, 0.0, 0.0, 0.0, 0.0, 0.0, 0.0, 0.0], [0.01851019449532032, 0.021855667233467102, 0.050879184156656265, 0.03287141025066376, 0.09309250116348267, 0.03356670215725899, 0.03253449127078056, 0.03814201429486275, 0.09813029319047928, 0.09209542721509933, 0.1093844324350357, 0.017415089532732964, 0.013789022341370583, 0.06510632485151291, 0.10189568251371384, 0.02379661425948143, 0.1127588227391243, 0.04417609050869942, 0.0, 0.0, 0.0, 0.0, 0.0, 0.0, 0.0, 0.0, 0.0, 0.0, 0.0, 0.0, 0.0, 0.0], [0.08773994445800781, 0.04553809389472008, 0.03368465229868889, 0.06379133462905884, 0.06007020175457001, 0.06825101375579834, 0.033288147300481796, 0.06413564831018448, 0.10720672458410263, 0.09712773561477661, 0.08738016337156296, 0.028981240466237068, 0.01723945327103138, 0.020778434351086617, 0.05364179238677025, 0.01509906817227602, 0.05406256020069122, 0.01609956845641136, 0.04588422551751137, 0.0, 0.0, 0.0, 0.0, 0.0, 0.0, 0.0, 0.0, 0.0, 0.0, 0.0, 0.0, 0.0], [0.0635271891951561, 0.022778453305363655, 0.028051022440195084, 0.03077920898795128, 0.11681205779314041, 0.023405876010656357, 0.13714885711669922, 0.0395151823759079, 0.0953436866402626, 0.18895161151885986, 0.12667235732078552, 0.01760786771774292, 0.008823278360068798, 0.02116542123258114, 0.01325337216258049, 0.006510079372674227, 0.008237953297793865, 0.006837205495685339, 0.023051243275403976, 0.02152804657816887, 0.0, 0.0, 0.0, 0.0, 0.0, 0.0, 0.0, 0.0, 0.0, 0.0, 0.0, 0.0], [0.06244492530822754, 0.03002568893134594, 0.03375145047903061, 0.034292638301849365, 0.06361997127532959, 0.03347385302186012, 0.037405796349048615, 0.040058866143226624, 0.13235075771808624, 0.12134101986885071, 0.14859521389007568, 0.028582975268363953, 0.013499697670340538, 0.01803329959511757, 0.015484743751585484, 0.0073531875386834145, 0.013197130523622036, 0.01189111452549696, 0.026250183582305908, 0.024592503905296326, 0.10375507175922394, 0.0, 0.0, 0.0, 0.0, 0.0, 0.0, 0.0, 0.0, 0.0, 0.0, 0.0], [0.01276078075170517, 0.0268724262714386, 0.08515811711549759, 0.06261059641838074, 0.13990771770477295, 0.02813299000263214, 0.14383430778980255, 0.027235615998506546, 0.09277784079313278, 0.0806804671883583, 0.09851419925689697, 0.00954625103622675, 0.006988277193158865, 0.0444050095975399, 0.00887877494096756, 0.004353407770395279, 0.00479830801486969, 0.006319961044937372, 0.019510898739099503, 0.004009013529866934, 0.07398870587348938, 0.0187163557857275, 0.0, 0.0, 0.0, 0.0, 0.0, 0.0, 0.0, 0.0, 0.0, 0.0], [0.026042982935905457, 0.012605159543454647, 0.04020880535244942, 0.021387897431850433, 0.1436929851770401, 0.014032638631761074, 0.20268964767456055, 0.01686343364417553, 0.05342063680291176, 0.12286505103111267, 0.11141633987426758, 0.016733653843402863, 0.0040052104741334915, 0.036974359303712845, 0.006999300792813301, 0.004174657631665468, 0.0031584114767611027, 0.004989192355424166, 0.013435293920338154, 0.00326700322329998, 0.11246638000011444, 0.017048243433237076, 0.0115226861089468, 0.0, 0.0, 0.0, 0.0, 0.0, 0.0, 0.0, 0.0, 0.0], [0.08579161763191223, 0.022541221231222153, 0.051183875650167465, 0.029095910489559174, 0.08240747451782227, 0.02657545544207096, 0.04259758070111275, 0.027028553187847137, 0.10182347893714905, 0.13583248853683472, 0.13817617297172546, 0.03676917403936386, 0.0061665307730436325, 0.01593971624970436, 0.010501393117010593, 0.0073327128775417805, 0.013312201015651226, 0.007471336051821709, 0.012851785868406296, 0.005693277809768915, 0.06309374421834946, 0.019843218848109245, 0.008747381158173084, 0.04922370985150337, 0.0, 0.0, 0.0, 0.0, 0.0, 0.0, 0.0, 0.0], [0.09916747361421585, 0.03390870988368988, 0.027988361194729805, 0.022031299769878387, 0.06299733370542526, 0.014455633237957954, 0.058531973510980606, 0.016625864431262016, 0.08318951725959778, 0.1046987771987915, 0.1234048530459404, 0.02270880900323391, 0.009280155412852764, 0.027270380407571793, 0.012929529882967472, 0.008049063384532928, 0.008233947679400444, 0.011492602527141571, 0.0241058561950922, 0.011767441406846046, 0.04522049427032471, 0.02003898099064827, 0.013858877122402191, 0.025982892140746117, 0.11206117272377014, 0.0, 0.0, 0.0, 0.0, 0.0, 0.0, 0.0], [0.13263246417045593, 0.041693661361932755, 0.027848761528730392, 0.023254334926605225, 0.047833140939474106, 0.015284388326108456, 0.023812856525182724, 0.03893941268324852, 0.04266858100891113, 0.07422735542058945, 0.10883601754903793, 0.03178524225950241, 0.015224320814013481, 0.009524248540401459, 0.018806612119078636, 0.005406163167208433, 0.008921599015593529, 0.007976285181939602, 0.011190597899258137, 0.0222527626901865, 0.022825008258223534, 0.026561057195067406, 0.028244992718100548, 0.057199086993932724, 0.04749293252825737, 0.10955804586410522, 0.0, 0.0, 0.0, 0.0, 0.0, 0.0], [0.1624855101108551, 0.07626888155937195, 0.04113524779677391, 0.01938685216009617, 0.039445701986551285, 0.0065327840857207775, 0.030831318348646164, 0.01852317713201046, 0.02606711909174919, 0.04450133442878723, 0.06137184798717499, 0.01808011718094349, 0.011082889512181282, 0.01158494409173727, 0.007728327997028828, 0.0048081884160637856, 0.004686180967837572, 0.007099315524101257, 0.00900231208652258, 0.02969641424715519, 0.0558168850839138, 0.009176015853881836, 0.04305804893374443, 0.0412207767367363, 0.035875480622053146, 0.08211924880743027, 0.102415069937706, 0.0, 0.0, 0.0, 0.0, 0.0], [0.02060995250940323, 0.03214619681239128, 0.06293049454689026, 0.05267598107457161, 0.053590353578329086, 0.015061418525874615, 0.06624796986579895, 0.018111074343323708, 0.0358133465051651, 0.04602038860321045, 0.03662538528442383, 0.016260460019111633, 0.00914112851023674, 0.022921262308955193, 0.010304981842637062, 0.01279097143560648, 0.013197340071201324, 0.014768639579415321, 0.017303641885519028, 0.01136436965316534, 0.06944293528795242, 0.016652975231409073, 0.0062568350695073605, 0.027384016662836075, 0.05975503847002983, 0.1192145049571991, 0.09382712095975876, 0.03958120197057724, 0.0, 0.0, 0.0, 0.0], [0.0032070332672446966, 0.015120613388717175, 0.04112016037106514, 0.06298162043094635, 0.04155225306749344, 0.018846068531274796, 0.07006926089525223, 0.01140603143721819, 0.034393537789583206, 0.04090457409620285, 0.03253430873155594, 0.009767509065568447, 0.00540770823135972, 0.030057771131396294, 0.012928585521876812, 0.012835769914090633, 0.022079307585954666, 0.019481224939227104, 0.037751294672489166, 0.01216592825949192, 0.08002996444702148, 0.022366220131516457, 0.007690573576837778, 0.02017388492822647, 0.05803201347589493, 0.10795353353023529, 0.08966320753097534, 0.0300972368568182, 0.04938274994492531, 0.0, 0.0, 0.0], [0.021717891097068787, 0.02020910009741783, 0.022485854104161263, 0.04118148982524872, 0.03737414628267288, 0.023127594962716103, 0.04555324837565422, 0.021239211782813072, 0.04750382527709007, 0.05380014702677727, 0.04520273953676224, 0.016786623746156693, 0.006472671404480934, 0.014707930386066437, 0.011697703041136265, 0.0071726273745298386, 0.013879156671464443, 0.007002358790487051, 0.012022032402455807, 0.008568422868847847, 0.08460468798875809, 0.02720666490495205, 0.006474659778177738, 0.03583739325404167, 0.0708356648683548, 0.12005460262298584, 0.10095308721065521, 0.02431648224592209, 0.0334693044424057, 0.018542703241109848, 0.0, 0.0], [0.01601540483534336, 0.007767762057483196, 0.012306435033679008, 0.014008559286594391, 0.04305407404899597, 0.00816933624446392, 0.07271028310060501, 0.011682474985718727, 0.03296581283211708, 0.0745285302400589, 0.04617367684841156, 0.008118178695440292, 0.002867460483685136, 0.008468161337077618, 0.002971034264191985, 0.0022025308571755886, 0.002159686991944909, 0.0022473945282399654, 0.005585957318544388, 0.004011104814708233, 0.0925532653927803, 0.007885054685175419, 0.003909565508365631, 0.04138283059000969, 0.0765480175614357, 0.20907606184482574, 0.1418670415878296, 0.01776917465031147, 0.011244144290685654, 0.011533801443874836, 0.008217202499508858, 0.0], [0.01998029835522175, 0.013583446852862835, 0.021341023966670036, 0.01953521929681301, 0.03466934710741043, 0.01460613589733839, 0.025897886604070663, 0.017667291685938835, 0.06405913829803467, 0.06591074913740158, 0.07838946580886841, 0.018988052383065224, 0.006486974656581879, 0.011615890078246593, 0.006084628403186798, 0.003626851364970207, 0.005959439557045698, 0.005789637565612793, 0.009700285270810127, 0.007290566805750132, 0.05585531145334244, 0.006914633326232433, 0.00457414798438549, 0.02754710614681244, 0.08084168285131454, 0.10235117375850677, 0.12956632673740387, 0.017148779705166817, 0.024871669709682465, 0.015382258221507072, 0.012968882918357849, 0.07079565525054932]], [[1.0, 0.0, 0.0, 0.0, 0.0, 0.0, 0.0, 0.0, 0.0, 0.0, 0.0, 0.0, 0.0, 0.0, 0.0, 0.0, 0.0, 0.0, 0.0, 0.0, 0.0, 0.0, 0.0, 0.0, 0.0, 0.0, 0.0, 0.0, 0.0, 0.0, 0.0, 0.0], [0.9089305400848389, 0.09106948971748352, 0.0, 0.0, 0.0, 0.0, 0.0, 0.0, 0.0, 0.0, 0.0, 0.0, 0.0, 0.0, 0.0, 0.0, 0.0, 0.0, 0.0, 0.0, 0.0, 0.0, 0.0, 0.0, 0.0, 0.0, 0.0, 0.0, 0.0, 0.0, 0.0, 0.0], [0.7893624901771545, 0.00957279372960329, 0.20106467604637146, 0.0, 0.0, 0.0, 0.0, 0.0, 0.0, 0.0, 0.0, 0.0, 0.0, 0.0, 0.0, 0.0, 0.0, 0.0, 0.0, 0.0, 0.0, 0.0, 0.0, 0.0, 0.0, 0.0, 0.0, 0.0, 0.0, 0.0, 0.0, 0.0], [0.9611031413078308, 0.013376696035265923, 0.0036918483674526215, 0.02182832732796669, 0.0, 0.0, 0.0, 0.0, 0.0, 0.0, 0.0, 0.0, 0.0, 0.0, 0.0, 0.0, 0.0, 0.0, 0.0, 0.0, 0.0, 0.0, 0.0, 0.0, 0.0, 0.0, 0.0, 0.0, 0.0, 0.0, 0.0, 0.0], [0.9846076369285583, 0.002717324998229742, 0.0011581896105781198, 0.0008795753237791359, 0.01063733734190464, 0.0, 0.0, 0.0, 0.0, 0.0, 0.0, 0.0, 0.0, 0.0, 0.0, 0.0, 0.0, 0.0, 0.0, 0.0, 0.0, 0.0, 0.0, 0.0, 0.0, 0.0, 0.0, 0.0, 0.0, 0.0, 0.0, 0.0], [0.9648037552833557, 0.011997400783002377, 0.004119723569601774, 0.005573268514126539, 0.011688112281262875, 0.0018176960293203592, 0.0, 0.0, 0.0, 0.0, 0.0, 0.0, 0.0, 0.0, 0.0, 0.0, 0.0, 0.0, 0.0, 0.0, 0.0, 0.0, 0.0, 0.0, 0.0, 0.0, 0.0, 0.0, 0.0, 0.0, 0.0, 0.0], [0.9714921116828918, 0.004650630988180637, 0.006849189288914204, 0.0003418249834794551, 0.0114155113697052, 0.003269357606768608, 0.0019814486149698496, 0.0, 0.0, 0.0, 0.0, 0.0, 0.0, 0.0, 0.0, 0.0, 0.0, 0.0, 0.0, 0.0, 0.0, 0.0, 0.0, 0.0, 0.0, 0.0, 0.0, 0.0, 0.0, 0.0, 0.0, 0.0], [0.9949437975883484, 0.0014149202033877373, 0.0028818396385759115, 2.257992309750989e-05, 9.38697576202685e-06, 0.0006976147415116429, 2.1908830603933893e-05, 7.969061698531732e-06, 0.0, 0.0, 0.0, 0.0, 0.0, 0.0, 0.0, 0.0, 0.0, 0.0, 0.0, 0.0, 0.0, 0.0, 0.0, 0.0, 0.0, 0.0, 0.0, 0.0, 0.0, 0.0, 0.0, 0.0], [0.9791772961616516, 0.006815605331212282, 0.002029257360845804, 0.0003284839622210711, 0.0003711314930114895, 0.009609069675207138, 0.0002460177056491375, 0.00015286517736967653, 0.0012703770771622658, 0.0, 0.0, 0.0, 0.0, 0.0, 0.0, 0.0, 0.0, 0.0, 0.0, 0.0, 0.0, 0.0, 0.0, 0.0, 0.0, 0.0, 0.0, 0.0, 0.0, 0.0, 0.0, 0.0], [0.9845452308654785, 0.004332709591835737, 0.0014534955844283104, 0.00015749527665320784, 4.6737553930142894e-05, 0.00019879729370586574, 0.0006719081429764628, 5.2052737373742275e-06, 0.00010884708899538964, 0.008479587733745575, 0.0, 0.0, 0.0, 0.0, 0.0, 0.0, 0.0, 0.0, 0.0, 0.0, 0.0, 0.0, 0.0, 0.0, 0.0, 0.0, 0.0, 0.0, 0.0, 0.0, 0.0, 0.0], [0.9638869762420654, 0.002870888914912939, 0.02466028369963169, 9.40380195970647e-05, 0.00024100836890283972, 0.00042132698581553996, 5.148785930941813e-05, 0.00012875274114776403, 9.433807463210542e-06, 0.0012337598018348217, 0.006402129773050547, 0.0, 0.0, 0.0, 0.0, 0.0, 0.0, 0.0, 0.0, 0.0, 0.0, 0.0, 0.0, 0.0, 0.0, 0.0, 0.0, 0.0, 0.0, 0.0, 0.0, 0.0], [0.9676005244255066, 0.0014602550072595477, 0.02350887469947338, 0.0009959451854228973, 0.0009592048008926213, 0.00021553825354203582, 0.0014042130205780268, 0.0005209282389841974, 0.0009286382119171321, 0.0003687774878926575, 6.569747347384691e-05, 0.0019713810179382563, 0.0, 0.0, 0.0, 0.0, 0.0, 0.0, 0.0, 0.0, 0.0, 0.0, 0.0, 0.0, 0.0, 0.0, 0.0, 0.0, 0.0, 0.0, 0.0, 0.0], [0.953184962272644, 0.004512030631303787, 0.002503747120499611, 0.0005507768946699798, 0.000745696946978569, 0.0018095249542966485, 0.0008889631135389209, 0.0005417933571152389, 0.0026678862050175667, 0.003978937864303589, 0.0005676697473973036, 0.00038799253525212407, 0.027660027146339417, 0.0, 0.0, 0.0, 0.0, 0.0, 0.0, 0.0, 0.0, 0.0, 0.0, 0.0, 0.0, 0.0, 0.0, 0.0, 0.0, 0.0, 0.0, 0.0], [0.9391811490058899, 0.0055907112546265125, 0.033650659024715424, 0.0037345571909099817, 0.0063537899404764175, 0.000472033309051767, 0.0019704336300492287, 0.0027503371238708496, 1.1169053323101252e-05, 0.0005351861473172903, 0.00023409978894051164, 0.0026999423280358315, 0.002268285257741809, 0.0005476403166539967, 0.0, 0.0, 0.0, 0.0, 0.0, 0.0, 0.0, 0.0, 0.0, 0.0, 0.0, 0.0, 0.0, 0.0, 0.0, 0.0, 0.0, 0.0], [0.8384692072868347, 0.005283934064209461, 0.0030750951264053583, 0.01977931708097458, 0.10136421024799347, 0.0016244726721197367, 0.019127169623970985, 0.0002149614883819595, 8.589080243837088e-05, 0.0010952382581308484, 6.785300502087921e-05, 5.465807771543041e-05, 0.0011230908567085862, 0.0011373008601367474, 0.007497579790651798, 0.0, 0.0, 0.0, 0.0, 0.0, 0.0, 0.0, 0.0, 0.0, 0.0, 0.0, 0.0, 0.0, 0.0, 0.0, 0.0, 0.0], [0.9179447889328003, 0.007835582830011845, 0.017943143844604492, 0.0030541352462023497, 0.009728011675179005, 0.002030379604548216, 0.0011737651657313108, 0.004834581632167101, 0.00022942064970266074, 0.0003371399943716824, 0.00014775375893805176, 0.000729474239051342, 0.0013673272915184498, 0.0002825800038408488, 0.026606477797031403, 0.005755444522947073, 0.0, 0.0, 0.0, 0.0, 0.0, 0.0, 0.0, 0.0, 0.0, 0.0, 0.0, 0.0, 0.0, 0.0, 0.0, 0.0], [0.9167890548706055, 0.00765308877453208, 0.005830144975334406, 0.0007890709093771875, 0.002418800024315715, 0.0005974714877083898, 0.0007162571419030428, 0.00022691134654451162, 1.686503856035415e-05, 0.00051514693768695, 7.70270053180866e-05, 0.00020514536299742758, 0.0002952149952761829, 0.00020933458290528506, 0.007421721704304218, 0.002039887709543109, 0.05419882386922836, 0.0, 0.0, 0.0, 0.0, 0.0, 0.0, 0.0, 0.0, 0.0, 0.0, 0.0, 0.0, 0.0, 0.0, 0.0], [0.8942286372184753, 0.008333759382367134, 0.001000851159915328, 0.00030667532701045275, 0.000845290080178529, 0.0009717970970086753, 0.0004514878091868013, 0.001251751440577209, 0.0004244268930051476, 0.00018030178034678102, 8.439573139185086e-05, 0.0003598352777771652, 0.0026158869732171297, 0.0015574413118883967, 0.002521549118682742, 0.0006461265147663653, 0.06807883083820343, 0.01614093780517578, 0.0, 0.0, 0.0, 0.0, 0.0, 0.0, 0.0, 0.0, 0.0, 0.0, 0.0, 0.0, 0.0, 0.0], [0.9658487439155579, 0.006780222989618778, 0.00032468230347149074, 4.1138231608783826e-05, 0.0003243839892093092, 0.0007168168667703867, 0.00031484058126807213, 5.641035386361182e-05, 0.0038961898535490036, 0.00042917131213471293, 0.0003520019818097353, 3.6786223063245416e-05, 0.0004884463851340115, 0.0024532992392778397, 0.00015271113079506904, 9.586330270394683e-05, 0.0002760156348813325, 0.0007687601610086858, 0.016643604263663292, 0.0, 0.0, 0.0, 0.0, 0.0, 0.0, 0.0, 0.0, 0.0, 0.0, 0.0, 0.0, 0.0], [0.9373998045921326, 0.012270623818039894, 0.00756482221186161, 0.00010202954581473023, 0.0009629972628317773, 0.00749015249311924, 0.000998986535705626, 0.001500836107879877, 0.0016924547962844372, 0.014880675822496414, 0.0025425516068935394, 0.0018817943055182695, 0.00028555491007864475, 0.001987107563763857, 0.00033020172850228846, 6.687318091280758e-05, 0.0003092119877692312, 0.00028701694100163877, 0.0012732456671074033, 0.0061730328015983105, 0.0, 0.0, 0.0, 0.0, 0.0, 0.0, 0.0, 0.0, 0.0, 0.0, 0.0, 0.0], [0.9745108485221863, 0.007491669151932001, 0.00017916561046149582, 0.00011569787602638826, 0.0009518159786239266, 5.922278796788305e-05, 0.0011383176315575838, 0.00014655767881777138, 1.4500260476779658e-05, 0.000616569712292403, 0.0002252497070003301, 7.388164522126317e-05, 4.325949339545332e-05, 0.0006129067623987794, 0.00029292184626683593, 9.116590081248432e-05, 4.010222983197309e-05, 0.00021613188437186182, 0.00010861970076803118, 0.0001824679202400148, 0.012888924218714237, 0.0, 0.0, 0.0, 0.0, 0.0, 0.0, 0.0, 0.0, 0.0, 0.0, 0.0], [0.8658058047294617, 0.02228325605392456, 0.004821281414479017, 0.009606252424418926, 0.023587040603160858, 0.0009615377057343721, 0.016304951161146164, 0.00048607218195684254, 0.0001333838445134461, 0.0012488117208704352, 0.0009066404309123755, 0.00020230702648404986, 0.0003364289877936244, 0.0001611591287655756, 0.0007733189850114286, 0.002498600399121642, 0.0006679392536170781, 0.002155654365196824, 0.004822237882763147, 0.00043756322702392936, 0.003663326147943735, 0.03813636675477028, 0.0, 0.0, 0.0, 0.0, 0.0, 0.0, 0.0, 0.0, 0.0, 0.0], [0.8317772150039673, 0.01744057610630989, 0.0067392392084002495, 0.0003491158422548324, 0.0029106074944138527, 0.010522894561290741, 0.0009428420453332365, 0.0032491267193108797, 0.0010277803521603346, 0.002335717435926199, 0.0004391134134493768, 0.0007213206263259053, 0.0002897977246902883, 0.0017337285680696368, 0.0002913309435825795, 9.704031981527805e-05, 0.00030523911118507385, 0.00023716194846201688, 0.0016027404926717281, 0.0028528061229735613, 0.10139024257659912, 0.009178140200674534, 0.0035662273876369, 0.0, 0.0, 0.0, 0.0, 0.0, 0.0, 0.0, 0.0, 0.0], [0.23392827808856964, 0.0006336202495731413, 0.00042782240780070424, 1.3620143363368697e-05, 1.396204993397987e-06, 0.00014167740300763398, 1.010477171803359e-05, 3.017137714778073e-06, 0.7622570991516113, 0.00018609632388688624, 0.00011292212002445012, 3.355130502313841e-06, 3.793666837736964e-05, 0.00027732423041015863, 2.668761453605839e-06, 5.727085294893186e-07, 5.51767561773886e-06, 4.934182470606174e-06, 2.5350102077936754e-05, 0.0015169146936386824, 0.00021786596335005015, 6.214019231265411e-05, 0.00010980604565702379, 1.9938401237595826e-05, 0.0, 0.0, 0.0, 0.0, 0.0, 0.0, 0.0, 0.0], [0.23704224824905396, 0.0026933695189654827, 0.0004867636307608336, 0.00012519102892838418, 7.890934648457915e-05, 0.002899212297052145, 0.00016720329585950822, 5.2920117013854906e-05, 0.00017571619537193328, 0.7454923987388611, 0.006704029627144337, 0.0020926978904753923, 9.725069503474515e-06, 0.00030759742367081344, 3.913212276529521e-05, 3.332564574520802e-06, 4.9113555178337265e-06, 2.5392077077412978e-05, 6.751485216227593e-06, 3.382945942576043e-05, 0.0005220682942308486, 0.0001506869593868032, 4.933718082611449e-05, 2.3974109353730455e-05, 0.0008125623571686447, 0.0, 0.0, 0.0, 0.0, 0.0, 0.0, 0.0], [0.2076670229434967, 0.0011847118148580194, 0.00032413372537121177, 4.177214577794075e-05, 6.586667495867005e-06, 3.334869325044565e-05, 0.00023500049428548664, 8.646347851026803e-07, 1.3640969882544596e-05, 0.001656233100220561, 0.7837569117546082, 0.0016646344447508454, 1.8102732610714156e-06, 4.905979039904196e-06, 2.7104913442599354e-06, 1.4519426940751146e-06, 1.318677050221595e-06, 2.3379283447866328e-05, 3.7603965665766736e-06, 2.335949284315575e-05, 0.00012024476745864376, 4.6366447350010276e-05, 9.728685836307704e-05, 1.4381397477336577e-06, 1.0417681551189162e-05, 0.003076748689636588, 0.0, 0.0, 0.0, 0.0, 0.0, 0.0], [0.33786651492118835, 0.0013464789371937513, 0.008654088713228703, 5.1047481974819675e-05, 8.51418444653973e-05, 0.00019540844368748367, 2.9906872441642918e-05, 5.2249371947254986e-05, 2.36925006902311e-06, 0.0005356691544875503, 0.00295998458750546, 0.6404902935028076, 0.0002184034965466708, 5.695179424947128e-06, 0.0005257547018118203, 6.076789759390522e-06, 0.00011675729183480144, 1.8016184185398743e-05, 0.0001675301173236221, 2.1398645912995562e-05, 0.00042436528019607067, 7.196501246653497e-05, 0.00010995720367645845, 3.017778908542823e-05, 1.5145958514040103e-06, 0.0007947960984893143, 0.005218406207859516, 0.0, 0.0, 0.0, 0.0, 0.0], [0.9439651966094971, 0.0022995651233941317, 0.010635905899107456, 0.0003804683801718056, 0.00043945599463768303, 0.0002547454205341637, 0.0005565637839026749, 0.0006834014784544706, 3.262318205088377e-05, 0.0001643234572838992, 5.9481670177774504e-05, 0.004477398935705423, 0.02391735091805458, 0.0004993485054001212, 0.001631816616281867, 7.618959352839738e-05, 0.0032083014957606792, 0.0005211102543398738, 0.0024073198437690735, 6.692399620078504e-05, 0.0003087188524659723, 0.0004924617242068052, 0.00014051444304641336, 4.780822200700641e-05, 1.2665368558373302e-05, 0.0002202651958214119, 9.239977953257039e-05, 0.0024075459223240614, 0.0, 0.0, 0.0, 0.0], [0.8891251087188721, 0.0018921440932899714, 0.0035043165553361177, 0.0014671690296381712, 0.0008726860396564007, 0.00018124713096767664, 0.001869542757049203, 0.00084064737893641, 6.72936876071617e-05, 5.935475928708911e-05, 5.549550405703485e-05, 0.00039286643732339144, 0.016563525423407555, 0.0022302763536572456, 0.0012661883374676108, 0.00012535694986581802, 0.0025420808233320713, 0.00013463479990605265, 0.053267281502485275, 0.0006906939670443535, 0.0006143182399682701, 0.00020485508139245212, 0.0005390805308707058, 0.00015866654575802386, 4.656023520510644e-05, 8.765224629314616e-05, 9.88323226920329e-05, 0.0004331185482442379, 0.02066905051469803, 0.0, 0.0, 0.0], [0.8904510140419006, 0.003318587550893426, 0.0004022108332719654, 7.293184899026528e-05, 0.00020065128046553582, 0.0004557658394332975, 0.00041071558371186256, 4.817183071281761e-05, 0.0014443793334066868, 0.00025779547286219895, 0.00024511804804205894, 7.390522659989074e-05, 0.0016814423725008965, 0.0020168141927570105, 0.00018314200860913843, 4.445730883162469e-05, 3.9555332477902994e-05, 4.746866034111008e-05, 0.0016509367851540446, 0.07777239382266998, 0.009069511666893959, 0.0004315849510021508, 5.750236232415773e-05, 0.00023721929755993187, 0.0005121648428030312, 0.0002684708742890507, 0.0003846192266792059, 5.6727058108663186e-05, 0.0002071448543574661, 0.007957587018609047, 0.0, 0.0], [0.47850239276885986, 0.003442714223638177, 0.004023294430226088, 6.140038021840155e-05, 0.00034689562744461, 0.0028956588357686996, 0.0004953776951879263, 0.00064541504252702, 0.0004034379089716822, 0.004607277922332287, 0.0008872270118445158, 0.0008661773754283786, 0.00018560478929430246, 0.0008088755421340466, 0.00016070646233856678, 1.7274960555369034e-05, 3.6350847949506715e-05, 2.5754396119737066e-05, 0.00013609154848381877, 0.0021572860423475504, 0.4383871853351593, 0.009626047685742378, 0.00016560080985073, 0.013666448183357716, 0.0018934478284791112, 0.015507698990404606, 0.002300302032381296, 0.0017203427851200104, 0.001949362107552588, 0.001023544231429696, 0.013054887764155865, 0.0], [0.47285109758377075, 0.00302890595048666, 6.20332793914713e-05, 6.557934830198064e-05, 0.0004257855471223593, 3.329108949401416e-05, 0.00043531344272196293, 5.93383374507539e-05, 3.7241024983813986e-06, 0.00018146961519960314, 5.7625293266028166e-05, 3.03262841043761e-05, 2.4560471501899883e-05, 0.00019836363208014518, 0.00018168712267652154, 4.4310443627182394e-05, 8.516722118656617e-06, 3.9676469896221533e-05, 2.2907182938070036e-05, 9.379412949783728e-05, 0.0031884361524134874, 0.5093374848365784, 0.0016730190254747868, 0.0004295965190976858, 3.57108838215936e-05, 0.0009317713556811213, 0.0002139440184691921, 0.00010485506936674938, 0.00037265964783728123, 9.536906873108819e-05, 0.00041325343772768974, 0.005355654750019312]], [[1.0, 0.0, 0.0, 0.0, 0.0, 0.0, 0.0, 0.0, 0.0, 0.0, 0.0, 0.0, 0.0, 0.0, 0.0, 0.0, 0.0, 0.0, 0.0, 0.0, 0.0, 0.0, 0.0, 0.0, 0.0, 0.0, 0.0, 0.0, 0.0, 0.0, 0.0, 0.0], [0.9767147302627563, 0.02328529581427574, 0.0, 0.0, 0.0, 0.0, 0.0, 0.0, 0.0, 0.0, 0.0, 0.0, 0.0, 0.0, 0.0, 0.0, 0.0, 0.0, 0.0, 0.0, 0.0, 0.0, 0.0, 0.0, 0.0, 0.0, 0.0, 0.0, 0.0, 0.0, 0.0, 0.0], [0.07846926152706146, 0.7965531349182129, 0.12497757375240326, 0.0, 0.0, 0.0, 0.0, 0.0, 0.0, 0.0, 0.0, 0.0, 0.0, 0.0, 0.0, 0.0, 0.0, 0.0, 0.0, 0.0, 0.0, 0.0, 0.0, 0.0, 0.0, 0.0, 0.0, 0.0, 0.0, 0.0, 0.0, 0.0], [0.5327318906784058, 0.11980227380990982, 0.03697878122329712, 0.3104870915412903, 0.0, 0.0, 0.0, 0.0, 0.0, 0.0, 0.0, 0.0, 0.0, 0.0, 0.0, 0.0, 0.0, 0.0, 0.0, 0.0, 0.0, 0.0, 0.0, 0.0, 0.0, 0.0, 0.0, 0.0, 0.0, 0.0, 0.0, 0.0], [0.09140422195196152, 0.4553869962692261, 0.07058790326118469, 0.19263716042041779, 0.1899837702512741, 0.0, 0.0, 0.0, 0.0, 0.0, 0.0, 0.0, 0.0, 0.0, 0.0, 0.0, 0.0, 0.0, 0.0, 0.0, 0.0, 0.0, 0.0, 0.0, 0.0, 0.0, 0.0, 0.0, 0.0, 0.0, 0.0, 0.0], [0.07786460220813751, 0.11374182254076004, 0.02775648981332779, 0.37806379795074463, 0.06798321008682251, 0.33458998799324036, 0.0, 0.0, 0.0, 0.0, 0.0, 0.0, 0.0, 0.0, 0.0, 0.0, 0.0, 0.0, 0.0, 0.0, 0.0, 0.0, 0.0, 0.0, 0.0, 0.0, 0.0, 0.0, 0.0, 0.0, 0.0, 0.0], [0.507963240146637, 0.20218893885612488, 0.017982585355639458, 0.1739380955696106, 0.028053423389792442, 0.05713995173573494, 0.012733758427202702, 0.0, 0.0, 0.0, 0.0, 0.0, 0.0, 0.0, 0.0, 0.0, 0.0, 0.0, 0.0, 0.0, 0.0, 0.0, 0.0, 0.0, 0.0, 0.0, 0.0, 0.0, 0.0, 0.0, 0.0, 0.0], [0.27355924248695374, 0.27744007110595703, 0.0012307999422773719, 0.1491377353668213, 0.005247801076620817, 0.19401918351650238, 0.0010509854182600975, 0.09831420332193375, 0.0, 0.0, 0.0, 0.0, 0.0, 0.0, 0.0, 0.0, 0.0, 0.0, 0.0, 0.0, 0.0, 0.0, 0.0, 0.0, 0.0, 0.0, 0.0, 0.0, 0.0, 0.0, 0.0, 0.0], [0.054325442761182785, 0.18841220438480377, 0.02181973122060299, 0.053554635494947433, 0.04235268011689186, 0.13064119219779968, 0.009237927384674549, 0.15433122217655182, 0.34532490372657776, 0.0, 0.0, 0.0, 0.0, 0.0, 0.0, 0.0, 0.0, 0.0, 0.0, 0.0, 0.0, 0.0, 0.0, 0.0, 0.0, 0.0, 0.0, 0.0, 0.0, 0.0, 0.0, 0.0], [0.2024475783109665, 0.14231881499290466, 0.04665490984916687, 0.08213218301534653, 0.10673173516988754, 0.09014340490102768, 0.009395675733685493, 0.1552499234676361, 0.0844067931175232, 0.08051902055740356, 0.0, 0.0, 0.0, 0.0, 0.0, 0.0, 0.0, 0.0, 0.0, 0.0, 0.0, 0.0, 0.0, 0.0, 0.0, 0.0, 0.0, 0.0, 0.0, 0.0, 0.0, 0.0], [0.16320568323135376, 0.0616154745221138, 0.10240907967090607, 0.04694262519478798, 0.1727791577577591, 0.04718053713440895, 0.036989472806453705, 0.0950818881392479, 0.08661697804927826, 0.07600394636392593, 0.11117513477802277, 0.0, 0.0, 0.0, 0.0, 0.0, 0.0, 0.0, 0.0, 0.0, 0.0, 0.0, 0.0, 0.0, 0.0, 0.0, 0.0, 0.0, 0.0, 0.0, 0.0, 0.0], [0.2743869423866272, 0.1274283081293106, 0.007532199844717979, 0.2995116710662842, 0.010930404998362064, 0.10260359197854996, 0.0009581900667399168, 0.08439675718545914, 0.02966250292956829, 0.008467056788504124, 0.003520040772855282, 0.05060230568051338, 0.0, 0.0, 0.0, 0.0, 0.0, 0.0, 0.0, 0.0, 0.0, 0.0, 0.0, 0.0, 0.0, 0.0, 0.0, 0.0, 0.0, 0.0, 0.0, 0.0], [0.020227676257491112, 0.08782702684402466, 0.022900313138961792, 0.16517813503742218, 0.0434473380446434, 0.14998503029346466, 0.0035252149682492018, 0.05949002131819725, 0.044816844165325165, 0.0217294804751873, 0.055483411997556686, 0.06262131780385971, 0.26276805996894836, 0.0, 0.0, 0.0, 0.0, 0.0, 0.0, 0.0, 0.0, 0.0, 0.0, 0.0, 0.0, 0.0, 0.0, 0.0, 0.0, 0.0, 0.0, 0.0], [0.06838410347700119, 0.060606345534324646, 0.047435641288757324, 0.1299060732126236, 0.05112392455339432, 0.01766977645456791, 0.008381173014640808, 0.060628484934568405, 0.021674705669283867, 0.0116621358320117, 0.0172413382679224, 0.01804152876138687, 0.4150317311286926, 0.07221309840679169, 0.0, 0.0, 0.0, 0.0, 0.0, 0.0, 0.0, 0.0, 0.0, 0.0, 0.0, 0.0, 0.0, 0.0, 0.0, 0.0, 0.0, 0.0], [0.19429105520248413, 0.2241062968969345, 0.0023213953245431185, 0.21822191774845123, 0.0041175726801157, 0.052541524171829224, 0.002932347822934389, 0.039903078228235245, 0.016972284764051437, 0.0030131640378385782, 0.0037591636646538973, 0.03501228615641594, 0.09901659190654755, 0.001149616902694106, 0.10264170914888382, 0.0, 0.0, 0.0, 0.0, 0.0, 0.0, 0.0, 0.0, 0.0, 0.0, 0.0, 0.0, 0.0, 0.0, 0.0, 0.0, 0.0], [0.4855450391769409, 0.11309580504894257, 0.007090577390044928, 0.1304009109735489, 0.005288990214467049, 0.02600020542740822, 0.001052561216056347, 0.023947622627019882, 0.003692380618304014, 0.0012074557598680258, 0.0008538675610907376, 0.010187688283622265, 0.0768132209777832, 0.011989768594503403, 0.059242453426122665, 0.04359140247106552, 0.0, 0.0, 0.0, 0.0, 0.0, 0.0, 0.0, 0.0, 0.0, 0.0, 0.0, 0.0, 0.0, 0.0, 0.0, 0.0], [0.9824571013450623, 0.006814074236899614, 0.00010050399578176439, 0.0032204079907387495, 0.0001067046177922748, 0.0013695702655240893, 1.565986531204544e-05, 0.00044804776553064585, 0.0002125536120729521, 1.6596188288531266e-05, 2.5235889552277513e-05, 0.00033384189009666443, 0.0007493727025575936, 1.6028430763981305e-05, 0.0011336382012814283, 0.0006314865895546973, 0.0023490784224122763, 0.0, 0.0, 0.0, 0.0, 0.0, 0.0, 0.0, 0.0, 0.0, 0.0, 0.0, 0.0, 0.0, 0.0, 0.0], [0.20634672045707703, 0.17419740557670593, 0.006981454789638519, 0.14496023952960968, 0.005162329412996769, 0.03431154415011406, 0.0011212185490876436, 0.026686128228902817, 0.013493397273123264, 0.00234207883477211, 0.0021619496401399374, 0.028558235615491867, 0.03081718273460865, 0.0010899450862780213, 0.08308059722185135, 0.05349529907107353, 0.16557781398296356, 0.01961654983460903, 0.0, 0.0, 0.0, 0.0, 0.0, 0.0, 0.0, 0.0, 0.0, 0.0, 0.0, 0.0, 0.0, 0.0], [0.00618809275329113, 0.05393601953983307, 0.13929782807826996, 0.10567080229520798, 0.07946474850177765, 0.011346529237926006, 0.009168076328933239, 0.046149540692567825, 0.017606813460588455, 0.026518642902374268, 0.04164797067642212, 0.01943337917327881, 0.1191658154129982, 0.031948626041412354, 0.01412235852330923, 0.07021445780992508, 0.10980948805809021, 0.085280641913414, 0.013030166737735271, 0.0, 0.0, 0.0, 0.0, 0.0, 0.0, 0.0, 0.0, 0.0, 0.0, 0.0, 0.0, 0.0], [0.013585086911916733, 0.04698909446597099, 0.12357825040817261, 0.07875438779592514, 0.05390738695859909, 0.012363665737211704, 0.0027207147795706987, 0.03855277597904205, 0.008319505490362644, 0.01576303504407406, 0.007139808032661676, 0.04319728538393974, 0.07250072062015533, 0.040545396506786346, 0.04635673761367798, 0.08016092330217361, 0.14792227745056152, 0.04516514390707016, 0.03817079961299896, 0.08430697023868561, 0.0, 0.0, 0.0, 0.0, 0.0, 0.0, 0.0, 0.0, 0.0, 0.0, 0.0, 0.0], [0.021198967471718788, 0.021201271563768387, 0.1074644923210144, 0.04988054558634758, 0.07590287923812866, 0.0051789237186312675, 0.008513038046658039, 0.04728228226304054, 0.0036259896587580442, 0.015437541529536247, 0.005600328557193279, 0.009481243789196014, 0.15548452734947205, 0.1293853372335434, 0.01827757991850376, 0.05055055022239685, 0.0577482171356678, 0.02576821856200695, 0.13415688276290894, 0.017192285507917404, 0.04066886007785797, 0.0, 0.0, 0.0, 0.0, 0.0, 0.0, 0.0, 0.0, 0.0, 0.0, 0.0], [0.019058220088481903, 0.08832009881734848, 0.04285528138279915, 0.27354851365089417, 0.03415655717253685, 0.032377321273088455, 0.027259131893515587, 0.044949401170015335, 0.025337914004921913, 0.020135290920734406, 0.010585103183984756, 0.03547373414039612, 0.059260714799165726, 0.01175124105066061, 0.024117616936564445, 0.02985009364783764, 0.04782520979642868, 0.024556312710046768, 0.0060255988501012325, 0.03521644324064255, 0.006599158514291048, 0.10074099153280258, 0.0, 0.0, 0.0, 0.0, 0.0, 0.0, 0.0, 0.0, 0.0, 0.0], [0.026946930214762688, 0.028942376375198364, 0.0022173584438860416, 0.03777199238538742, 0.00352468085475266, 0.019856709986925125, 0.0009741440881043673, 0.011228921823203564, 0.0018943926552310586, 0.004634386859834194, 0.001948233344592154, 0.012846868485212326, 0.013464557938277721, 0.00043054213165305555, 0.01794765144586563, 0.006296433974057436, 0.01387032400816679, 0.002050351584330201, 0.0002526314347051084, 0.16325703263282776, 0.006392155308276415, 0.03773607686161995, 0.5855152606964111, 0.0, 0.0, 0.0, 0.0, 0.0, 0.0, 0.0, 0.0, 0.0], [0.008181655779480934, 0.008678902871906757, 2.2940812414162792e-05, 0.004382723942399025, 6.425049650715664e-05, 0.0012575025903061032, 4.830114448850509e-06, 0.0013526080874726176, 0.00041291827801615, 0.00028181818197481334, 5.272968701319769e-05, 0.0007320212898775935, 0.0009286432177759707, 1.1874769370479044e-05, 0.0022889182437211275, 0.00046981393825262785, 0.0014652528334408998, 3.827023829217069e-05, 2.520393900340423e-05, 0.16510486602783203, 4.368702138890512e-05, 0.009217961691319942, 0.7789443731307983, 0.016036299988627434, 0.0, 0.0, 0.0, 0.0, 0.0, 0.0, 0.0, 0.0], [0.01265820860862732, 0.04871165379881859, 0.0027209990657866, 0.018698593601584435, 0.0052802301943302155, 0.018451567739248276, 0.0004648740869015455, 0.018640151247382164, 0.01990559510886669, 0.011805844493210316, 0.008288825862109661, 0.013208672404289246, 0.027357563376426697, 0.0015417133690789342, 0.029655246064066887, 0.010330225341022015, 0.029874570667743683, 0.0025425634812563658, 0.0010095156030729413, 0.19599173963069916, 0.009841169230639935, 0.06517118215560913, 0.15174177289009094, 0.15628120303153992, 0.13982628285884857, 0.0, 0.0, 0.0, 0.0, 0.0, 0.0, 0.0], [0.09726239740848541, 0.04558968544006348, 0.0038144406862556934, 0.023306528106331825, 0.011221320368349552, 0.01463597547262907, 0.0006336416117846966, 0.02246369980275631, 0.007672019302845001, 0.009232448413968086, 0.005880333483219147, 0.0212416909635067, 0.037743669003248215, 0.004062616266310215, 0.02832143008708954, 0.013584868982434273, 0.04563888534903526, 0.0015305397100746632, 0.003871181746944785, 0.0540270172059536, 0.0028197148349136114, 0.057392727583646774, 0.21163256466388702, 0.10499286651611328, 0.08310023695230484, 0.08832744508981705, 0.0, 0.0, 0.0, 0.0, 0.0, 0.0], [0.14767153561115265, 0.024462196975946426, 0.018253060057759285, 0.022039348259568214, 0.031400617212057114, 0.008804223500192165, 0.005118584260344505, 0.022526046261191368, 0.01289482694119215, 0.013236382976174355, 0.0197156835347414, 0.02219340018928051, 0.08102887123823166, 0.020318880677223206, 0.02909923531115055, 0.01480028498917818, 0.03962733969092369, 0.004307625815272331, 0.021613335236907005, 0.019854916259646416, 0.009452834725379944, 0.04163303226232529, 0.10499148070812225, 0.0692700669169426, 0.06664738804101944, 0.05708541348576546, 0.07195333391427994, 0.0, 0.0, 0.0, 0.0, 0.0], [0.9790900945663452, 0.003293507033959031, 0.00018800525867845863, 0.002170881722122431, 0.00013996542838867754, 0.00041082085226662457, 2.3905855414341204e-05, 0.00029109269962646067, 0.00014356063911691308, 2.8512087737908587e-05, 5.147204137756489e-05, 0.0003096057625953108, 0.0006630065618082881, 7.876359450165182e-05, 0.0005999726708978415, 0.00039592725806869566, 0.002207866869866848, 6.045134432497434e-05, 5.6591663451399654e-05, 0.001797570614144206, 1.7414751710020937e-05, 0.0005698123131878674, 0.004078005440533161, 0.0007746731280349195, 0.0006182429497130215, 0.0001471295690862462, 0.00020438552019186318, 0.0015888207126408815, 0.0, 0.0, 0.0, 0.0], [0.15168842673301697, 0.037888865917921066, 0.0016281864373013377, 0.0672561451792717, 0.0018242631340399384, 0.008210876025259495, 5.3936764743411914e-05, 0.005601240321993828, 0.000527602038346231, 0.0002083696745103225, 0.00015617049939464778, 0.004934895318001509, 0.015683157369494438, 0.0005158684798516333, 0.01306921523064375, 0.007718393113464117, 0.0199318528175354, 0.0010056147584691644, 0.0002819362562149763, 0.15890806913375854, 0.0001353311527054757, 0.01503599900752306, 0.44587066769599915, 0.01909535750746727, 0.002894114702939987, 0.0009669804130680859, 0.0005829550209455192, 0.014626982621848583, 0.003698506159707904, 0.0, 0.0, 0.0], [0.00798517744988203, 0.042205747216939926, 0.04014462232589722, 0.07365868985652924, 0.030839242041110992, 0.007303777616471052, 0.0014919419772922993, 0.02110549993813038, 0.005831721238791943, 0.009147632867097855, 0.011785580776631832, 0.009329592809081078, 0.07082194089889526, 0.019105983898043633, 0.007650827057659626, 0.026517126709222794, 0.04994230344891548, 0.011876441538333893, 0.015191098675131798, 0.01962682045996189, 0.02039417065680027, 0.013934220187366009, 0.015277236700057983, 0.04314577206969261, 0.023121526464819908, 0.06079680100083351, 0.07080952078104019, 0.08146006613969803, 0.0972583144903183, 0.09224065393209457, 0.0, 0.0], [0.011751529760658741, 0.020904364064335823, 0.043930504471063614, 0.029146211221814156, 0.019267702475190163, 0.004916805308312178, 0.00031688911258243024, 0.011537551879882812, 0.002313353819772601, 0.005167190916836262, 0.0017400470096617937, 0.014651036821305752, 0.025943949818611145, 0.015635233372449875, 0.014133407734334469, 0.0223454050719738, 0.04915687069296837, 0.00949196144938469, 0.026012081652879715, 0.03732025995850563, 0.0029856902547180653, 0.019751766696572304, 0.031727135181427, 0.0285321157425642, 0.010172013193368912, 0.02651025354862213, 0.008466949686408043, 0.08030284941196442, 0.07754960656166077, 0.21581633388996124, 0.13250285387039185, 0.0], [0.008203643374145031, 0.006527441553771496, 0.018108244985342026, 0.014628871344029903, 0.01244383491575718, 0.0010634425561875105, 0.0008758767507970333, 0.01010090671479702, 0.0006863024900667369, 0.002846701769158244, 0.0008462686673738062, 0.0018250922439619899, 0.03139842301607132, 0.030859822407364845, 0.0036432791966944933, 0.009427903220057487, 0.01534782163798809, 0.0026180215645581484, 0.04563283547759056, 0.005593294743448496, 0.007934101857244968, 0.005190692376345396, 0.010425560176372528, 0.028808195143938065, 0.005279327277094126, 0.02819414995610714, 0.0067613194696605206, 0.012370250187814236, 0.042142901569604874, 0.5565853714942932, 0.02896643802523613, 0.04466370865702629]]], \"headLabels\": [\"L1H0\", \"L1H1\", \"L1H2\", \"L1H3\", \"L1H4\", \"L1H5\", \"L1H6\", \"L1H7\", \"L1H8\", \"L1H9\", \"L1H10\", \"L1H11\"]}\n",
              "    )\n",
              "    </script>"
            ]
          },
          "metadata": {}
        }
      ],
      "source": [
        "# YOUR CODE HERE - display the attention patterns stored in `rep_cache`, for each layer\n",
        "# I think L1H4, 6 & 10 are induction heads\n",
        "print(model.cfg.n_layers)\n",
        "for layer in range(model.cfg.n_layers):\n",
        "  attention_pattern = cache[\"pattern\", layer]\n",
        "\n",
        "  # use CircuitVis library\n",
        "  display(\n",
        "      cv.attention.attention_patterns(\n",
        "          attention=attention_pattern,\n",
        "          tokens = rep_str,\n",
        "          attention_head_names=[f\"L{layer}H{i}\" for i in range(12)],\n",
        "      )\n",
        "  )"
      ]
    },
    {
      "cell_type": "markdown",
      "metadata": {
        "id": "iS4w8hmRXlio"
      },
      "source": [
        "<details>\n",
        "<summary>Some observations</summary>\n",
        "\n",
        "The characteristic pattern of induction heads is a diagonal stripe, with the diagonal offset as `seq_len-1` (because the destination token attends to the token *after* the destination token's previous occurrence).\n",
        "\n",
        "You should see that heads 4 and 10 are strongly induction-y, head 6 is very weakly induction-y, and the rest aren't.\n",
        "\n",
        "</details>\n",
        "\n",
        "\n",
        "<details><summary>Solution</summary>\n",
        "\n",
        "```python\n",
        "for layer in range(model.cfg.n_layers):\n",
        "    attention_pattern = rep_cache[\"pattern\", layer]\n",
        "    display(cv.attention.attention_patterns(tokens=rep_str, attention=attention_pattern))\n",
        "```\n",
        "</details>"
      ]
    },
    {
      "cell_type": "markdown",
      "metadata": {
        "id": "t4Eu45PyXlio"
      },
      "source": [
        "### Exercise - make an induction-head detector\n",
        "\n",
        "> ```yaml\n",
        "> Difficulty: 🔴🔴⚪⚪⚪\n",
        "> Importance: 🔵🔵⚪⚪⚪\n",
        ">\n",
        "> You shouldn't spend more than 5-15 minutes on this exercise.\n",
        "> This exercise should be very similar to the earlier detector exercises (the only difference being how you index attention).\n",
        "> ```"
      ]
    },
    {
      "cell_type": "markdown",
      "metadata": {
        "id": "ldrSGao6Xlio"
      },
      "source": [
        "Now, you should make an induction pattern score function, which looks for the average attention paid to the offset diagonal. Do this in the same style as our earlier head scorers, just with a different kind of indexing that is appropriate for detecting the characteristic attention head pattern."
      ]
    },
    {
      "cell_type": "code",
      "execution_count": 22,
      "metadata": {
        "id": "4dXo1YYpXlio",
        "colab": {
          "base_uri": "https://localhost:8080/"
        },
        "outputId": "24e8b2bc-fcbb-40b1-f653-207c13499e87"
      },
      "outputs": [
        {
          "output_type": "stream",
          "name": "stdout",
          "text": [
            "Induction heads =  1.10\n"
          ]
        }
      ],
      "source": [
        "def induction_attn_detector(cache: ActivationCache) -> list[str]:\n",
        "    \"\"\"\n",
        "    Returns a list e.g. [\"0.2\", \"1.4\", \"1.9\"] of \"layer.head\" which you judge to be induction heads\n",
        "\n",
        "    Remember - the tokens used to generate rep_cache are (bos_token, *rand_tokens, *rand_tokens)\n",
        "    \"\"\"\n",
        "    attn_heads = []\n",
        "    for layer in range(model.cfg.n_layers):\n",
        "        for head in range(model.cfg.n_heads):\n",
        "            attention_pattern = cache[\"pattern\", layer][head]\n",
        "            seq_len = (attention_pattern.shape[0] - 1) // 2\n",
        "            score = attention_pattern.diagonal(-seq_len + 1).mean()\n",
        "\n",
        "            if score > 0.3:\n",
        "                attn_heads.append(f\"{layer}.{head}\")\n",
        "    return attn_heads\n",
        "\n",
        "\n",
        "print(\"Induction heads = \", \", \".join(induction_attn_detector(rep_cache)))"
      ]
    },
    {
      "cell_type": "markdown",
      "metadata": {
        "id": "r-t9ApL7Xlio"
      },
      "source": [
        "<details>\n",
        "<summary>Help - I'm not sure what offset to use.</summary>\n",
        "\n",
        "The offset in your diagonal should be `-(seq_len-1)` (where `seq_len` is the length of the random tokens which you repeat twice), because the second instance of random token `T` will attend to the token **after** the first instance of `T`.\n",
        "</details>\n",
        "\n",
        "\n",
        "<details><summary>Solution</summary>\n",
        "\n",
        "```python\n",
        "def induction_attn_detector(cache: ActivationCache) -> list[str]:\n",
        "    \"\"\"\n",
        "    Returns a list e.g. [\"0.2\", \"1.4\", \"1.9\"] of \"layer.head\" which you judge to be induction heads\n",
        "\n",
        "    Remember - the tokens used to generate rep_cache are (bos_token, *rand_tokens, *rand_tokens)\n",
        "    \"\"\"\n",
        "    attn_heads = []\n",
        "    for layer in range(model.cfg.n_layers):\n",
        "        for head in range(model.cfg.n_heads):\n",
        "            attention_pattern = cache[\"pattern\", layer][head]\n",
        "            # take avg of (-seq_len+1)-offset elements\n",
        "            seq_len = (attention_pattern.shape[-1] - 1) // 2\n",
        "            score = attention_pattern.diagonal(-seq_len + 1).mean()\n",
        "            if score > 0.4:\n",
        "                attn_heads.append(f\"{layer}.{head}\")\n",
        "    return attn_heads\n",
        "```\n",
        "</details>"
      ]
    },
    {
      "cell_type": "markdown",
      "metadata": {
        "id": "Q_ZP57aHXlip"
      },
      "source": [
        "If this function works as expected, then you should see output that matches your observations from `circuitsvis` (i.e. the heads which you observed to be induction heads are being classified as induction heads by your function here)."
      ]
    },
    {
      "cell_type": "markdown",
      "metadata": {
        "id": "XNtfDvkRXlip"
      },
      "source": [
        "# 3️⃣ TransformerLens: Hooks\n",
        "\n",
        "> ##### Learning Objectives\n",
        ">\n",
        "> - Understand what hooks are, and how they are used in TransformerLens\n",
        "> - Use hooks to access activations, process the results, and write them to an external tensor\n",
        "> - Build tools to perform attribution, i.e. detecting which components of your model are responsible for performance on a given task\n",
        "> - Understand how hooks can be used to perform basic interventions like **ablation**"
      ]
    },
    {
      "cell_type": "markdown",
      "metadata": {
        "id": "k3uPpWnnXlip"
      },
      "source": [
        "## What are hooks?\n",
        "\n",
        "One of the great things about interpreting neural networks is that we have *full control* over our system. From a computational perspective, we know exactly what operations are going on inside (even if we don't know what they mean!). And we can make precise, surgical edits and see how the model's behaviour and other internals change. This is an extremely powerful tool, because it can let us e.g. set up careful counterfactuals and causal intervention to easily understand model behaviour.\n",
        "\n",
        "Accordingly, being able to do this is a pretty core operation, and this is one of the main things TransformerLens supports! The key feature here is **hook points**. Every activation inside the transformer is surrounded by a hook point, which allows us to edit or intervene on it.\n",
        "\n",
        "We do this by adding a **hook function** to that activation, and then calling `model.run_with_hooks`.\n",
        "\n",
        "*(Terminology note - because basically all the activations in our model have an associated hook point, we'll sometimes use the terms \"hook\" and \"activation\" interchangeably.)*"
      ]
    },
    {
      "cell_type": "markdown",
      "metadata": {
        "id": "MbyG10QMXlip"
      },
      "source": [
        "### Hook functions\n",
        "\n",
        "Hook functions take two arguments: `activation_value` and `hook_point`. The `activation_value` is a tensor representing some activation in the model, just like the values in our `ActivationCache`. The `hook_point` is an object which gives us methods like `hook.layer()` or attributes like `hook.name` that are sometimes useful to call within the function.\n",
        "\n",
        "If we're using hooks to edit activations, then the hook function should return a tensor of the same shape as the activation value. But we can also just have our hook function access the activation, do some processing, and write the results to some external variable (in which case our hook function should just not return anything).\n",
        "\n",
        "An example hook function for changing the attention patterns at a particular layer might look like:"
      ]
    },
    {
      "cell_type": "markdown",
      "metadata": {
        "id": "IbBvM2SkXlip"
      },
      "source": [
        "```python\n",
        "def hook_function(\n",
        "    attn_pattern: Float[Tensor, \"batch heads seq_len seq_len\"],\n",
        "    hook: HookPoint\n",
        ") -> Float[Tensor, \"batch heads seq_len seq_len\"]:\n",
        "\n",
        "    # modify attn_pattern (can be inplace)\n",
        "    return attn_pattern\n",
        "```"
      ]
    },
    {
      "cell_type": "markdown",
      "metadata": {
        "id": "Y2RRGZxnXlip"
      },
      "source": [
        "### Running with hooks\n",
        "\n",
        "Once you've defined a hook function (or functions), you should call `model.run_with_hooks`. A typical call to this function might look like:"
      ]
    },
    {
      "cell_type": "markdown",
      "metadata": {
        "id": "FihmGT9WXliq"
      },
      "source": [
        "```python\n",
        "loss = model.run_with_hooks(\n",
        "    tokens,\n",
        "    return_type=\"loss\",\n",
        "    fwd_hooks=[\n",
        "        ('blocks.1.attn.hook_pattern', hook_function)\n",
        "    ]\n",
        ")\n",
        "```"
      ]
    },
    {
      "cell_type": "markdown",
      "metadata": {
        "id": "rzRA_D29Xliq"
      },
      "source": [
        "Let's break this code down.\n",
        "\n",
        "* `tokens` represents our model's input.\n",
        "* `return_type=\"loss\"` is used here because we're modifying our activations and seeing how this affects the loss.\n",
        "    * We could also return the logits, or just use `return_type=None` if we only want to access the intermediate activations and we don't care about the output.\n",
        "* `fwd_hooks` is a list of 2-tuples of (hook name, hook function).\n",
        "    * The hook name is a string that specifies which activation we want to hook.\n",
        "    * The hook function gets run with the corresponding activation as its first argument.\n",
        "\n",
        "### A bit more about hooks\n",
        "\n",
        "Here are a few extra notes for how to squeeze even more functionality out of hooks. If you'd prefer, you can [jump ahead](#hooks-accessing-activations) to see an actual example of hooks being used, and come back to this section later.\n",
        "\n",
        "<details>\n",
        "<summary>Resetting hooks</summary>\n",
        "\n",
        "`model.run_with_hooks` has the default parameter `reset_hooks_end=True` which resets all hooks at the end of the run (including both those that were added before and during the run). Despite this, it's possible to shoot yourself in the foot with hooks, e.g. if there's an error in one of your hooks so the function never finishes. In this case, you can use `model.reset_hooks()` to reset all hooks.\n",
        "\n",
        "If you don't want to reset hooks (i.e. you want to keep them between forward passes), you can either set `reset_hooks_end=False` in the `run_with_hooks` function, or just add the hooks directly using the `add_hook` method before your forward passes (this way they won't reset automatically).\n",
        "\n",
        "</details>\n",
        "<details>\n",
        "<summary>Adding multiple hooks at once</summary>\n",
        "\n",
        "Including more than one tuple in the `fwd_hooks` list is one way to add multiple hooks:\n",
        "\n",
        "```python\n",
        "loss = model.run_with_hooks(\n",
        "    tokens,\n",
        "    return_type=\"loss\",\n",
        "    fwd_hooks=[\n",
        "        ('blocks.0.attn.hook_pattern', hook_function),\n",
        "        ('blocks.1.attn.hook_pattern', hook_function)\n",
        "    ]\n",
        ")\n",
        "```\n",
        "\n",
        "Another way is to use a **name filter** rather than a single name:\n",
        "\n",
        "```python\n",
        "loss = model.run_with_hooks(\n",
        "    tokens,\n",
        "    return_type=\"loss\",\n",
        "    fwd_hooks=[\n",
        "        (lambda name: name.endswith(\"pattern\"), hook_function)\n",
        "    ]\n",
        ")\n",
        "```\n",
        "</details>\n",
        "<details>\n",
        "<summary><code>utils.get_act_name</code></summary>\n",
        "\n",
        "When we were indexing the cache in the previous section, we found we could use strings like `cache['blocks.0.attn.hook_pattern']`, or use the shorthand of `cache['pattern', 0]`. The reason the second one works is that it calls the function `utils.get_act_name` under the hood, i.e. we have:\n",
        "\n",
        "```python\n",
        "utils.get_act_name('pattern', 0) == 'blocks.0.attn.hook_pattern'\n",
        "```\n",
        "\n",
        "Using `utils.get_act_name` in your forward hooks is often easier than using the full string, since the only thing you need to remember is the activation name (you can refer back to the diagram in the previous section for this).\n",
        "</details>\n",
        "<details>\n",
        "<summary>Using <code>functools.partial</code> to create variations on hooks</summary>\n",
        "\n",
        "A useful trick is to define a hook function with more arguments than it needs, and then use `functools.partial` to fill in the extra arguments. For instance, if you want a hook function which only modifies a particular head, but you want to run it on all heads separately (rather than just adding all the hooks and having them all run on the next forward pass), then you can do something like:\n",
        "\n",
        "```python\n",
        "def hook_all_attention_patterns(\n",
        "    attn_pattern: Float[Tensor, \"batch heads seq_len seq_len\"],\n",
        "    hook: HookPoint,\n",
        "    head_idx: int\n",
        ") -> Float[Tensor, \"batch heads seq_len seq_len\"]:\n",
        "    # modify attn_pattern inplace, at head_idx\n",
        "    return attn_pattern\n",
        "\n",
        "for head_idx in range(12):\n",
        "    temp_hook_fn = functools.partial(hook_all_attention_patterns, head_idx=head_idx)\n",
        "    model.run_with_hooks(tokens, fwd_hooks=[('blocks.1.attn.hook_pattern', temp_hook_fn)])\n",
        "```\n",
        "</details>\n",
        "\n",
        "And here are some points of interest, which aren't vital to understand:\n",
        "\n",
        "<details>\n",
        "<summary>Relationship to PyTorch hooks</summary>\n",
        "\n",
        "[PyTorch hooks](https://blog.paperspace.com/pytorch-hooks-gradient-clipping-debugging/) are a great and underrated, yet incredibly janky, feature. They can act on a layer, and edit the input or output of that layer, or the gradient when applying autodiff. The key difference is that **Hook points** act on *activations* not layers. This means that you can intervene within a layer on each activation, and don't need to care about the precise layer structure of the transformer. And it's immediately clear exactly how the hook's effect is applied. This adjustment was shamelessly inspired by [Garcon's use of ProbePoints](https://transformer-circuits.pub/2021/garcon/index.html).\n",
        "\n",
        "They also come with a range of other quality of life improvements. PyTorch's hooks are global state, which can be a massive pain if you accidentally leave a hook on a model. TransformerLens hooks are also global state, but `run_with_hooks` tries to create an abstraction where these are local state by removing all hooks at the end of the function (and they come with a helpful `model.reset_hooks()` method to remove all hooks).\n",
        "</details>\n",
        "\n",
        "<details>\n",
        "<summary>How are TransformerLens hooks actually implemented?</summary>\n",
        "\n",
        "They are implemented as modules with the identity function as their forward method:\n",
        "\n",
        "```python\n",
        "class HookPoint(nn.Module):\n",
        "    ...\n",
        "    def forward(self, x):\n",
        "        return x\n",
        "```\n",
        "\n",
        "but also with special features for adding and removing hook functions. This is why you see hooks when you print a HookedTransformer model, because all its modules are recursively printed.\n",
        "\n",
        "When you run the model normally, hook modules won't change the model's behaviour (since applying the identity function does nothing). It's only once you add functions to the hook modules (e.g. a function which ablates any inputs into the hook module) that the model's behaviour changes.\n",
        "\n",
        "</details>"
      ]
    },
    {
      "cell_type": "markdown",
      "metadata": {
        "id": "BFlT2hBnXliq"
      },
      "source": [
        "## Hooks: Accessing Activations\n",
        "\n",
        "In later sections, we'll write some code to intervene on hooks, which is really the core feature that makes them so useful for interpretability. But for now, let's just look at how to access them without changing their value. This can be achieved by having the hook function write to a global variable, and return nothing (rather than modifying the activation in place).\n",
        "\n",
        "Why might we want to do this? It turns out to be useful for things like:\n",
        "\n",
        "* Extracting activations for a specific task\n",
        "* Doing some long-running calculation across many inputs, e.g. finding the text that most activates a specific neuron\n",
        "\n",
        "Note that, in theory, this could all be done using the `run_with_cache` function we used in the previous section, combined with post-processing of the cache result. But using hooks can be more intuitive and memory efficient."
      ]
    },
    {
      "cell_type": "markdown",
      "metadata": {
        "id": "d5IEyQ3tXliq"
      },
      "source": [
        "### Exercise - calculate induction scores with hooks\n",
        "\n",
        "> ```yaml\n",
        "> Difficulty: 🔴🔴🔴⚪⚪\n",
        "> Importance: 🔵🔵🔵🔵⚪\n",
        ">\n",
        "> You shouldn't spend more than 15-20 minutes on this exercise.\n",
        "> This is our first exercise with hooks, which are an absolutely vital TransformerLens tool. Use the hints if you're stuck.\n",
        "> ```\n",
        "\n",
        "To start with, we'll look at how hooks can be used to get the same results as from the previous section (where we ran our induction head detector functions on the values in the cache).\n",
        "\n",
        "Most of the code has already been provided for you below; the only thing you need to do is **implement the `induction_score_hook` function**. As mentioned, this function takes two arguments: the activation value (which in this case will be our attention pattern) and the hook object (which gives us some useful methods and attributes that we can access in the function, e.g. `hook.layer()` to return the layer, or `hook.name` to return the name, which is the same as the name in the cache).\n",
        "\n",
        "Your function should do the following:\n",
        "\n",
        "* Calculate the induction score for the attention pattern `pattern`, using the same methodology as you used in the previous section when you wrote your induction head detectors.\n",
        "    * Note that this time, the batch dimension is greater than 1, so you should compute the average attention score over the batch dimension.\n",
        "    * Also note that you are computing the induction score for all heads at once, rather than one at a time. You might find the arguments `dim1` and `dim2` of the `torch.diagonal` function useful.\n",
        "* Write this score to the tensor `induction_score_store`, which is a global variable that we've provided for you. The `[i, j]`th element of this tensor should be the induction score for the `j`th head in the `i`th layer."
      ]
    },
    {
      "cell_type": "code",
      "execution_count": null,
      "metadata": {
        "id": "oeEsPrD1Xliq"
      },
      "outputs": [],
      "source": [
        "seq_len = 50\n",
        "batch_size = 10\n",
        "rep_tokens_10 = generate_repeated_tokens(model, seq_len, batch_size)\n",
        "\n",
        "# We make a tensor to store the induction score for each head.\n",
        "# We put it on the model's device to avoid needing to move things between the GPU and CPU,\n",
        "# which can be slow.\n",
        "induction_score_store = t.zeros(\n",
        "    (model.cfg.n_layers, model.cfg.n_heads), device=model.cfg.device\n",
        ")\n",
        "\n",
        "\n",
        "def induction_score_hook(\n",
        "    pattern: Float[Tensor, \"batch head_index dest_pos source_pos\"], hook: HookPoint\n",
        "):\n",
        "    \"\"\"\n",
        "    Calculates the induction score, and stores it in the [layer, head] position of the\n",
        "    `induction_score_store` tensor.\n",
        "    \"\"\"\n",
        "    score_total = t.diagonal(pattern, dim1=-2, dim2=-1, offset=1-seq_len)\n",
        "    score_average = einops.reduce(score_total, \"batch head_index pos -> head_index\", \"mean\")\n",
        "\n",
        "\n",
        "    induction_score_store[hook.layer(), :] = score_average\n",
        "\n",
        "\n",
        "# We make a boolean filter on activation names, that's true only on attention pattern names\n",
        "pattern_hook_names_filter = lambda name: name.endswith(\"pattern\")\n",
        "\n",
        "# Run with hooks (this is where we write to the `induction_score_store` tensor`)\n",
        "model.run_with_hooks(\n",
        "    rep_tokens_10,\n",
        "    return_type=None,  # For efficiency, we don't need to calculate the logits\n",
        "    fwd_hooks=[(pattern_hook_names_filter, induction_score_hook)],\n",
        ")\n",
        "\n",
        "# Plot the induction scores for each head in each layer\n",
        "imshow(\n",
        "    induction_score_store,\n",
        "    labels={\"x\": \"Head\", \"y\": \"Layer\"},\n",
        "    title=\"Induction Score by Head\",\n",
        "    text_auto=\".2f\",\n",
        "    width=900,\n",
        "    height=350,\n",
        ")"
      ]
    },
    {
      "cell_type": "markdown",
      "metadata": {
        "id": "sbJI3jEwXliq"
      },
      "source": [
        "<details>\n",
        "<summary>Help - I'm not sure how to implement this function.</summary>\n",
        "\n",
        "To get the induction stripe, you can use:\n",
        "\n",
        "```python\n",
        "torch.diagonal(pattern, dim1=-2, dim2=-1, offset=1-seq_len)\n",
        "```\n",
        "\n",
        "since this returns the diagonal of each attention scores matrix, for every element in the batch and every attention head.\n",
        "\n",
        "Once you have this, you can then take the mean over the batch and diagonal dimensions, giving you a tensor of length `n_heads`. You can then write this to the global `induction_score_store` tensor, using the `hook.layer()` method to get the correct row number.\n",
        "</details>\n",
        "\n",
        "<details>\n",
        "<summary>Solution</summary>\n",
        "\n",
        "```python\n",
        "def induction_score_hook(pattern: Float[Tensor, \"batch head_index dest_pos source_pos\"], hook: HookPoint):\n",
        "    \"\"\"\n",
        "    Calculates the induction score, and stores it in the [layer, head] position of the `induction_score_store` tensor.\n",
        "    \"\"\"\n",
        "    # Take the diagonal of attn paid from each dest posn to src posns (seq_len-1) tokens back\n",
        "    # (This only has entries for tokens with index>=seq_len)\n",
        "    induction_stripe = pattern.diagonal(dim1=-2, dim2=-1, offset=1 - seq_len)\n",
        "    # Get an average score per head\n",
        "    induction_score = einops.reduce(induction_stripe, \"batch head_index position -> head_index\", \"mean\")\n",
        "    # Store the result.\n",
        "    induction_score_store[hook.layer(), :] = induction_score\n",
        "```\n",
        "\n",
        "</details>"
      ]
    },
    {
      "cell_type": "markdown",
      "metadata": {
        "id": "ap8dWqIXXlir"
      },
      "source": [
        "If this function has been implemented correctly, you should see a result matching your observations from the previous section: a high induction score (>0.6) for all the heads which you identified as induction heads, and a low score (close to 0) for all others."
      ]
    },
    {
      "cell_type": "markdown",
      "metadata": {
        "id": "cynUjLfHXlir"
      },
      "source": [
        "### Exercise - find induction heads in GPT2-small\n",
        "\n",
        "> ```yaml\n",
        "> Difficulty: 🔴🔴🔴⚪⚪\n",
        "> Importance: 🔵🔵🔵🔵⚪\n",
        ">\n",
        "> You shouldn't spend more than 10-20 minutes on this exercise.\n",
        "> Here, you mostly just need to use previously defined functions and interpret the results, rather than writing new code.\n",
        "> ```\n",
        "\n",
        "*This is your first opportunity to investigate a larger and more extensively trained model, rather than the simple 2-layer model we've been using so far. None of the code required is new (you can copy most of it from previous sections), so these exercises shouldn't take very long.*"
      ]
    },
    {
      "cell_type": "markdown",
      "metadata": {
        "id": "lNSVtakfXlir"
      },
      "source": [
        "Perform the same analysis on your `gpt2_small`. You should observe that some heads, particularly in a couple of the middle layers, have high induction scores. Use CircuitsVis to plot the attention patterns for these heads when run on the repeated token sequences, and verify that they look like induction heads.\n",
        "\n",
        "Note - you can make CircuitsVis plots (and other visualisations) using hooks rather than plotting directly from the cache. For example, we've given you a hook function which will display the attention patterns at a given hook when you include it in a call to `model.run_with_hooks`."
      ]
    },
    {
      "cell_type": "code",
      "execution_count": null,
      "metadata": {
        "id": "IK5P-PyFXlir"
      },
      "outputs": [],
      "source": [
        "def visualize_pattern_hook(\n",
        "    pattern: Float[Tensor, \"batch head_index dest_pos source_pos\"],\n",
        "    hook: HookPoint,\n",
        "):\n",
        "    print(\"Layer: \", hook.layer())\n",
        "    display(\n",
        "        cv.attention.attention_patterns(\n",
        "            tokens=gpt2_small.to_str_tokens(rep_tokens[0]), attention=pattern.mean(0)\n",
        "        )\n",
        "    )\n",
        "\n",
        "\n",
        "# YOUR CODE HERE - find induction heads in gpt2_small\n",
        "\n",
        "def induction_score_hook(\n",
        "    pattern: Float[Tensor, \"batch head_index dest_pos source_pos\"], hook: HookPoint\n",
        "):\n",
        "    \"\"\"\n",
        "    Calculates the induction score, and stores it in the [layer, head] position of the\n",
        "    `induction_score_store` tensor.\n",
        "    \"\"\"\n",
        "    score_total = t.diagonal(pattern, dim1=-2, dim2=-1, offset=1-seq_len)\n",
        "    score_average = einops.reduce(score_total, \"batch head_index pos -> head_index\", \"mean\")\n",
        "\n",
        "\n",
        "    induction_score_store[hook.layer(), :] = score_average\n",
        "\n",
        "\n",
        "model = gpt2_small.to(device)\n",
        "\n",
        "seq_len = 50\n",
        "batch_size = 10\n",
        "rep_tokens_10 = generate_repeated_tokens(model, seq_len, batch_size)\n",
        "\n",
        "induction_score_store = t.zeros(\n",
        "    (model.cfg.n_layers, model.cfg.n_heads), device=model.cfg.device\n",
        ")\n",
        "pattern_hook_names_filter = lambda name: name.endswith(\"pattern\")\n",
        "\n",
        "# Run with hooks (this is where we write to the `induction_score_store` tensor`)\n",
        "model.run_with_hooks(\n",
        "    rep_tokens_10,\n",
        "    return_type=None,  # For efficiency, we don't need to calculate the logits\n",
        "    fwd_hooks=[(pattern_hook_names_filter, induction_score_hook)],\n",
        ")\n",
        "\n",
        "imshow(\n",
        "    induction_score_store,\n",
        "    labels={\"x\": \"Head\", \"y\": \"Layer\"},\n",
        "    title=\"Induction Score by Head\",\n",
        "    text_auto=\".2f\",\n",
        "    width=900,\n",
        "    height=350,\n",
        ")"
      ]
    },
    {
      "cell_type": "markdown",
      "metadata": {
        "id": "Hf5d7dmYXlir"
      },
      "source": [
        "<details><summary>Solution</summary>\n",
        "\n",
        "```python\n",
        "seq_len = 50\n",
        "batch_size = 10\n",
        "rep_tokens_batch = generate_repeated_tokens(gpt2_small, seq_len, batch_size)\n",
        "\n",
        "induction_score_store = t.zeros(\n",
        "    (gpt2_small.cfg.n_layers, gpt2_small.cfg.n_heads), device=gpt2_small.cfg.device\n",
        ")\n",
        "\n",
        "gpt2_small.run_with_hooks(\n",
        "    rep_tokens_batch,\n",
        "    return_type=None,  # For efficiency, we don't need to calculate the logits\n",
        "    fwd_hooks=[(pattern_hook_names_filter, induction_score_hook)],\n",
        ")\n",
        "\n",
        "imshow(\n",
        "    induction_score_store,\n",
        "    labels={\"x\": \"Head\", \"y\": \"Layer\"},\n",
        "    title=\"Induction Score by Head\",\n",
        "    text_auto=\".1f\",\n",
        "    width=700,\n",
        "    height=500,\n",
        ")\n",
        "\n",
        "# Observation: heads 5.1, 5.5, 6.9, 7.2, 7.10 are all strongly induction-y.\n",
        "# Confirm observation by visualizing attn patterns for layers 5 through 7:\n",
        "\n",
        "induction_head_layers = [5, 6, 7]\n",
        "fwd_hooks = [\n",
        "    (utils.get_act_name(\"pattern\", induction_head_layer), visualize_pattern_hook)\n",
        "    for induction_head_layer in induction_head_layers\n",
        "]\n",
        "gpt2_small.run_with_hooks(\n",
        "    rep_tokens,\n",
        "    return_type=None,\n",
        "    fwd_hooks=fwd_hooks,\n",
        ")\n",
        "```\n",
        "</details>"
      ]
    },
    {
      "cell_type": "markdown",
      "metadata": {
        "id": "gaXZR4OBXlir"
      },
      "source": [
        "## Building interpretability tools\n",
        "\n",
        "In order to develop a mechanistic understanding for how transformers perform certain tasks, we need to be able to answer questions like:\n",
        "\n",
        "> *How much of the model's performance on some particular task is attributable to each component of the model?*\n",
        "\n",
        "where \"component\" here might mean, for example, a specific head in a layer.\n",
        "\n",
        "There are many ways to approach a question like this. For example, we might look at how a head interacts with other heads in different layers, or we might perform a causal intervention by seeing how well the model performs if we remove the effect of this head. However, we'll keep things simple for now, and ask the question: **what are the direct contributions of this head to the output logits?**\n",
        "\n",
        "### Direct Logit attribution\n",
        "\n",
        "A consequence of the residual stream is that the output logits are the sum of the contributions of each layer, and thus the sum of the results of each head. This means we can decompose the output logits into a term coming from each head and directly do attribution like this!\n",
        "\n",
        "<details>\n",
        "<summary>A concrete example</summary>\n",
        "\n",
        "Let's say that our model knows that the token Harry is followed by the token Potter, and we want to figure out how it does this. The logits on Harry are `residual @ W_U`. But this is a linear map, and the residual stream is the sum of all previous layers `residual = embed + attn_out_0 + attn_out_1`. So `logits = (embed @ W_U) + (attn_out @ W_U) + (attn_out_1 @ W_U)`\n",
        "\n",
        "We can be even more specific, and *just* look at the logit of the Potter token - this corresponds to a column of `W_U`, and so a direction in the residual stream - our logit is now a single number that is the sum of `(embed @ potter_U) + (attn_out_0 @ potter_U) + (attn_out_1 @ potter_U)`. Even better, we can decompose each attention layer output into the sum of the result of each head, and use this to get many terms.\n",
        "</details>\n",
        "\n",
        "Your mission here is to write a function to look at how much each component contributes to the correct logit. Your components are:\n",
        "\n",
        "* The direct path (i.e. the residual connections from the embedding to unembedding),\n",
        "* Each layer 0 head (via the residual connection and skipping layer 1)\n",
        "* Each layer 1 head\n",
        "\n",
        "To emphasise, these are not paths from the start to the end of the model, these are paths from the output of some component directly to the logits - we make no assumptions about how each path was calculated!\n",
        "\n",
        "A few important notes for this exercise:\n",
        "\n",
        "* Here we are just looking at the DIRECT effect on the logits, i.e. the thing that this component writes / embeds into the residual stream - if heads compose with other heads and affect logits like that, or inhibit logits for other tokens to boost the correct one we will not pick up on this!\n",
        "* By looking at just the logits corresponding to the correct token, our data is much lower dimensional because we can ignore all other tokens other than the correct next one (Dealing with a 50K vocab size is a pain!). But this comes at the cost of missing out on more subtle effects, like a head suppressing other plausible logits, to increase the log prob of the correct one.\n",
        "    * There are other situations where our job might be easier. For instance, in the IOI task (which we'll discuss shortly) we're just comparing the logits of the indirect object to the logits of the direct object, meaning we can use the **difference between these logits**, and ignore all the other logits.\n",
        "* When calculating correct output logits, we will get tensors with a dimension `(position - 1,)`, not `(position,)` - we remove the final element of the output (logits), and the first element of labels (tokens). This is because we're predicting the *next* token, and we don't know the token after the final token, so we ignore it.\n",
        "\n",
        "<details>\n",
        "<summary>Aside - centering <code>W_U</code></summary>\n",
        "\n",
        "While we won't worry about this for this exercise, logit attribution is often more meaningful if we first center `W_U` - i.e. ensure the mean of each row writing to the output logits is zero. Log softmax is invariant when we add a constant to all the logits, so we want to control for a head that just increases all logits by the same amount. We won't do this here for ease of testing.\n",
        "</details>\n",
        "\n",
        "<details>\n",
        "<summary>Question - why don't we do this to the log probs instead?</summary>\n",
        "\n",
        "Because log probs aren't linear, they go through `log_softmax`, a non-linear function.\n",
        "</details>"
      ]
    },
    {
      "cell_type": "markdown",
      "metadata": {
        "id": "ik4pje-fXlir"
      },
      "source": [
        "### Exercise - build logit attribution tool\n",
        "\n",
        "> ```yaml\n",
        "> Difficulty: 🔴🔴🔴⚪⚪\n",
        "> Importance: 🔵🔵🔵🔵⚪\n",
        ">\n",
        "> You shouldn't spend more than 10-15 minutes on this exercise.\n",
        "> This exercise is important, but has quite a few messy einsums, so you might get more value from reading the solution than doing the exercises.\n",
        "> ```\n",
        "\n",
        "You should implement the `logit_attribution` function below. This should return the contribution of each component in the \"correct direction\". We've already given you the unembedding vectors for the correct direction, `W_U_correct_tokens` (note that we take the `[1:]` slice of tokens, for reasons discussed above).\n",
        "\n",
        "The code below this function will check your logit attribution function is working correctly, by taking the sum of logit attributions and comparing it to the actual values in the residual stream at the end of your model."
      ]
    },
    {
      "cell_type": "code",
      "source": [
        "model = HookedTransformer(cfg)"
      ],
      "metadata": {
        "collapsed": true,
        "id": "LnPSkGBqrgFY",
        "outputId": "4df005bb-d299-4b7a-a0ef-f3f3deb1bf67",
        "colab": {
          "base_uri": "https://localhost:8080/"
        }
      },
      "execution_count": 31,
      "outputs": [
        {
          "output_type": "stream",
          "name": "stdout",
          "text": [
            "HookedTransformer(\n",
            "  (embed): Embed()\n",
            "  (hook_embed): HookPoint()\n",
            "  (pos_embed): PosEmbed()\n",
            "  (hook_pos_embed): HookPoint()\n",
            "  (blocks): ModuleList(\n",
            "    (0-1): 2 x TransformerBlock(\n",
            "      (ln1): Identity()\n",
            "      (attn): Attention(\n",
            "        (hook_k): HookPoint()\n",
            "        (hook_q): HookPoint()\n",
            "        (hook_v): HookPoint()\n",
            "        (hook_z): HookPoint()\n",
            "        (hook_attn_scores): HookPoint()\n",
            "        (hook_pattern): HookPoint()\n",
            "        (hook_result): HookPoint()\n",
            "        (hook_attn_input): HookPoint()\n",
            "      )\n",
            "      (hook_attn_in): HookPoint()\n",
            "      (hook_q_input): HookPoint()\n",
            "      (hook_k_input): HookPoint()\n",
            "      (hook_v_input): HookPoint()\n",
            "      (hook_mlp_in): HookPoint()\n",
            "      (hook_attn_out): HookPoint()\n",
            "      (hook_mlp_out): HookPoint()\n",
            "      (hook_resid_pre): HookPoint()\n",
            "      (hook_resid_post): HookPoint()\n",
            "    )\n",
            "  )\n",
            "  (unembed): Unembed()\n",
            ")\n"
          ]
        }
      ]
    },
    {
      "cell_type": "code",
      "execution_count": 33,
      "metadata": {
        "id": "Zg9vtSocXlis",
        "outputId": "fd434a4e-1016-4a29-c0a5-b25b06aa1a8f",
        "colab": {
          "base_uri": "https://localhost:8080/"
        }
      },
      "outputs": [
        {
          "output_type": "stream",
          "name": "stdout",
          "text": [
            "Tests passed!\n"
          ]
        }
      ],
      "source": [
        "def logit_attribution(\n",
        "    embed: Float[Tensor, \"seq d_model\"],\n",
        "    l1_results: Float[Tensor, \"seq nheads d_model\"],\n",
        "    l2_results: Float[Tensor, \"seq nheads d_model\"],\n",
        "    W_U: Float[Tensor, \"d_model d_vocab\"],\n",
        "    tokens: Int[Tensor, \"seq\"],\n",
        ") -> Float[Tensor, \"seq-1 n_components\"]:\n",
        "    \"\"\"\n",
        "    Inputs:\n",
        "        embed: the embeddings of the tokens (i.e. token + position embeddings)\n",
        "        l1_results: the outputs of the attention heads at layer 1 (with head as one of the dims)\n",
        "        l2_results: the outputs of the attention heads at layer 2 (with head as one of the dims)\n",
        "        W_U: the unembedding matrix\n",
        "        tokens: the token ids of the sequence\n",
        "\n",
        "    Returns:\n",
        "        Tensor of shape (seq_len-1, n_components)\n",
        "        represents the concatenation (along dim=-1) of logit attributions from:\n",
        "            the direct path (seq-1,1)\n",
        "            layer 0 logits (seq-1, n_heads)\n",
        "            layer 1 logits (seq-1, n_heads)\n",
        "        so n_components = 1 + 2*n_heads\n",
        "    \"\"\"\n",
        "    W_U_correct_tokens = W_U[:, tokens[1:]]\n",
        "\n",
        "    direct_attributions = einops.einsum(W_U_correct_tokens, embed[:-1], \"emb seq, seq emb -> seq\")\n",
        "    l1_attributions = einops.einsum(W_U_correct_tokens, l1_results[:-1], \"emb seq, seq nhead emb -> seq nhead\")\n",
        "    l2_attributions = einops.einsum(W_U_correct_tokens, l2_results[:-1], \"emb seq, seq nhead emb -> seq nhead\")\n",
        "\n",
        "    return t.concat([direct_attributions.unsqueeze(-1), l1_attributions, l2_attributions], dim=-1)\n",
        "\n",
        "\n",
        "text = \"We think that powerful, significantly superhuman machine intelligence is more likely than not to be created this century. If current machine learning techniques were scaled up to this level, we think they would by default produce systems that are deceptive or manipulative, and that no solid plans are known for how to avoid this.\"\n",
        "logits, cache = model.run_with_cache(text, remove_batch_dim=True)\n",
        "str_tokens = model.to_str_tokens(text)\n",
        "tokens = model.to_tokens(text)\n",
        "\n",
        "with t.inference_mode():\n",
        "    embed = cache[\"embed\"]\n",
        "    l1_results = cache[\"result\", 0]\n",
        "    l2_results = cache[\"result\", 1]\n",
        "    logit_attr = logit_attribution(embed, l1_results, l2_results, model.W_U, tokens[0])\n",
        "    # Uses fancy indexing to get a len(tokens[0])-1 length tensor, where the kth entry is the predicted logit for the correct k+1th token\n",
        "    correct_token_logits = logits[0, t.arange(len(tokens[0]) - 1), tokens[0, 1:]]\n",
        "    t.testing.assert_close(logit_attr.sum(1), correct_token_logits, atol=1e-3, rtol=0)\n",
        "    print(\"Tests passed!\")"
      ]
    },
    {
      "cell_type": "markdown",
      "metadata": {
        "id": "wK4O691wXlis"
      },
      "source": [
        "<details><summary>Solution</summary>\n",
        "\n",
        "```python\n",
        "def logit_attribution(\n",
        "    embed: Float[Tensor, \"seq d_model\"],\n",
        "    l1_results: Float[Tensor, \"seq nheads d_model\"],\n",
        "    l2_results: Float[Tensor, \"seq nheads d_model\"],\n",
        "    W_U: Float[Tensor, \"d_model d_vocab\"],\n",
        "    tokens: Int[Tensor, \"seq\"],\n",
        ") -> Float[Tensor, \"seq-1 n_components\"]:\n",
        "    \"\"\"\n",
        "    Inputs:\n",
        "        embed: the embeddings of the tokens (i.e. token + position embeddings)\n",
        "        l1_results: the outputs of the attention heads at layer 1 (with head as one of the dims)\n",
        "        l2_results: the outputs of the attention heads at layer 2 (with head as one of the dims)\n",
        "        W_U: the unembedding matrix\n",
        "        tokens: the token ids of the sequence\n",
        "\n",
        "    Returns:\n",
        "        Tensor of shape (seq_len-1, n_components)\n",
        "        represents the concatenation (along dim=-1) of logit attributions from:\n",
        "            the direct path (seq-1,1)\n",
        "            layer 0 logits (seq-1, n_heads)\n",
        "            layer 1 logits (seq-1, n_heads)\n",
        "        so n_components = 1 + 2*n_heads\n",
        "    \"\"\"\n",
        "    W_U_correct_tokens = W_U[:, tokens[1:]]\n",
        "\n",
        "    direct_attributions = einops.einsum(W_U_correct_tokens, embed[:-1], \"emb seq, seq emb -> seq\")\n",
        "    l1_attributions = einops.einsum(\n",
        "        W_U_correct_tokens, l1_results[:-1], \"emb seq, seq nhead emb -> seq nhead\"\n",
        "    )\n",
        "    l2_attributions = einops.einsum(\n",
        "        W_U_correct_tokens, l2_results[:-1], \"emb seq, seq nhead emb -> seq nhead\"\n",
        "    )\n",
        "    return t.concat([direct_attributions.unsqueeze(-1), l1_attributions, l2_attributions], dim=-1)\n",
        "```\n",
        "</details>"
      ]
    },
    {
      "cell_type": "markdown",
      "metadata": {
        "id": "_YpixyNmXlis"
      },
      "source": [
        "Once you've got the tests working, you can visualise the logit attributions for each path through the model. We've provided you with the helper function `plot_logit_attribution`, which presents the results in a nice way."
      ]
    },
    {
      "cell_type": "code",
      "execution_count": null,
      "metadata": {
        "id": "VmlPDirXXlis"
      },
      "outputs": [],
      "source": [
        "embed = cache[\"embed\"]\n",
        "l1_results = cache[\"result\", 0]\n",
        "l2_results = cache[\"result\", 1]\n",
        "logit_attr = logit_attribution(embed, l1_results, l2_results, model.W_U, tokens.squeeze())\n",
        "\n",
        "plot_logit_attribution(model, logit_attr, tokens, title=\"Logit attribution (demo prompt)\")"
      ]
    },
    {
      "cell_type": "markdown",
      "metadata": {
        "id": "D8_qy9kXXlis"
      },
      "source": [
        "#### Question - what is the interpretation of this plot?\n",
        "\n",
        "You should find that the most variation in the logit attribution comes from the direct path. In particular, some of the tokens in the direct path have a very high logit attribution (e.g. tokens 7, 12, 24, 38, 46, 58). Can you guess what gives them in particular such a high logit attribution?\n",
        "\n",
        "<details>\n",
        "<summary>Answer - what is special about these tokens?</summary>\n",
        "\n",
        "The tokens with very high logit attribution are the ones which are the first token in common bigrams. For instance, the highest contribution on the direct path comes from `| manip|`, because this is very likely to be followed by `|ulative|` (or presumably a different stem like `| ulation|`). `| super| -> |human|` is another example of a bigram formed when the tokenizer splits one word into multiple tokens.\n",
        "\n",
        "There are also examples that come from two different words, rather than a single word split by the tokenizer. These include:\n",
        "\n",
        "* `| more| -> | likely|` (12)\n",
        "* `| machine| -> | learning|` (24)\n",
        "* `| by| -> | default|` (38)\n",
        "* `| how| -> | to|` (58)\n",
        "\n",
        "See later for a discussion of all the ~infuriating~ fun quirks of tokenization!\n",
        "</details>\n",
        "\n",
        "Another feature of the plot - the heads in layer 1 seem to have much higher contributions than the heads in layer 0. Why do you think this might be?\n",
        "\n",
        "<details>\n",
        "<summary>Hint</summary>\n",
        "\n",
        "Think about what this graph actually represents, in terms of paths through the transformer.\n",
        "</details>\n",
        "\n",
        "<details>\n",
        "<summary>Answer - why might layer-1 heads have higher contributions?</summary>\n",
        "\n",
        "This is because of a point we discussed earlier - this plot doesn't pick up on things like a head's effect in composition with another head. So the attribution for layer-0 heads won't involve any composition, whereas the attributions for layer-1 heads will involve not only the single-head paths through those attention heads, but also the 2-layer compositional paths through heads in layer 0 and layer 1.\n",
        "</details>"
      ]
    },
    {
      "cell_type": "markdown",
      "metadata": {
        "id": "a60f9DHtXlis"
      },
      "source": [
        "### Exercise - interpret logit attribution for the induction heads\n",
        "\n",
        "> ```yaml\n",
        "> Difficulty: 🔴🔴🔴⚪⚪\n",
        "> Importance: 🔵🔵🔵🔵⚪\n",
        ">\n",
        "> You shouldn't spend more than 10-15 minutes on this exercise.\n",
        "> ```\n",
        "\n",
        "*This exercise just involves calling `logit_attribution` and `plot_logit_attribution` with appropriate arguments - the important part is interpreting the results. Please do look at the solutions if you're stuck on the code; this part isn't important.*\n",
        "\n",
        "Perform logit attribution for your attention-only model `model`, on the `rep_cache`. What do you expect to see?\n",
        "\n",
        "<!-- Remember, you'll need to split the sequence in two, with one overlapping token (since predicting the next token involves removing the final token with no label) - your `logit_attr` should both have shape `[seq_len, 2*n_heads + 1]` (ie `[50, 25]` here). -->\n",
        "<!--\n",
        "<details>\n",
        "<summary>Note - the first plot will be pretty meaningless. Can you see why?</summary>\n",
        "\n",
        "Because the first plot shows the logit attribution for the first half of the sequence, i.e. the first occurrence of each of the tokens. Since there is no structure to this sequence (it is purely random), there is no reason to expect the heads to be doing meaningful computation. The structure lies in the second half of the sequence, when the tokens are repeated, and the heads with high logit attributions will be the ones that can perform induction.\n",
        "</details> -->"
      ]
    },
    {
      "cell_type": "code",
      "execution_count": null,
      "metadata": {
        "id": "gmX3vq96Xlit"
      },
      "outputs": [],
      "source": [
        "# YOUR CODE HERE - plot logit attribution for the induction sequence (i.e. using `rep_tokens` and\n",
        "# `rep_cache`), and interpret the results."
      ]
    },
    {
      "cell_type": "markdown",
      "metadata": {
        "id": "5ooWvK1_Xlit"
      },
      "source": [
        "<details><summary>Solution</summary>\n",
        "\n",
        "```python\n",
        "seq_len = 50\n",
        "\n",
        "embed = rep_cache[\"embed\"]\n",
        "l1_results = rep_cache[\"result\", 0]\n",
        "l2_results = rep_cache[\"result\", 1]\n",
        "\n",
        "logit_attr = logit_attribution(embed, l1_results, l2_results, model.W_U, rep_tokens.squeeze())\n",
        "plot_logit_attribution(\n",
        "    model, logit_attr, rep_tokens.squeeze(), title=\"Logit attribution (random induction prompt)\"\n",
        ")\n",
        "```\n",
        "</details>"
      ]
    },
    {
      "cell_type": "markdown",
      "metadata": {
        "id": "u7F1uhq4Xlit"
      },
      "source": [
        "What is the interpretation of this plot, in the context of our induction head circuit?\n",
        "\n",
        "<details>\n",
        "<summary>Answer</summary>\n",
        "\n",
        "The first half of the plot is mostly meaningless, because the sequences here are random and carry no predictable pattern, and so there can't be any part of the model that is doing meaningful computation to make predictions.\n",
        "\n",
        "In the second half, we see that heads `1.4` and `1.10` have a large logit attribution score. This makes sense given our previous observation that these heads seemed to be performing induction (since they both exhibited the characteristic induction pattern), however it's worth emphasizing that this plot gives us a different kind of evidence than looking at attention patterns does, because just observing some head is attending to a particular token doesn't mean it's necessarily using that information to make a concrete prediction. Note that we see head `1.10` has a larger direct effect than `1.4`, which agrees with our attention scores result (where `1.10` also scored higher than `1.4`).\n",
        "\n",
        "</details>"
      ]
    },
    {
      "cell_type": "markdown",
      "metadata": {
        "id": "_7gdg0w0Xlit"
      },
      "source": [
        "## Hooks: Intervening on Activations\n",
        "\n",
        "Now that we've built some tools to decompose our model's output, it's time to start making causal interventions.\n",
        "\n",
        "### Ablations\n",
        "\n",
        "Let's start with a simple example: **ablation**. An ablation is a simple causal intervention on a model - we pick some part of it and set it to zero. This is a crude proxy for how much that part matters. Further, if we have some story about how a specific circuit in the model enables some capability, showing that ablating *other* parts does nothing can be strong evidence of this.\n",
        "\n",
        "As mentioned in [the glossary](https://dynalist.io/d/n2ZWtnoYHrU1s4vnFSAQ519J#z=fh-HJyz1CgUVrXuoiban6bYx), there are many ways to do ablation. We'll focus on the simplest: zero-ablation (even though it's somewhat unprincipled)."
      ]
    },
    {
      "cell_type": "markdown",
      "metadata": {
        "id": "jcKq-FkvXlit"
      },
      "source": [
        "### Exercise - induction head ablation\n",
        "\n",
        "> ```yaml\n",
        "> Difficulty: 🔴🔴⚪⚪⚪\n",
        "> Importance: 🔵🔵🔵🔵⚪\n",
        ">\n",
        "> You should aim to spend 20-35 mins on this exercise.\n",
        "> ```\n",
        "\n",
        "The code below provides a template for performing zero-ablation on the output vectors at a particular head (i.e. the vectors we get when taking a weighted sum of the value vectors according to the attention probabilities, before projecting them up & adding them back to the residual stream). If you're confused about what different activations mean, you can refer back to [the diagram](https://raw.githubusercontent.com/info-arena/ARENA_img/main/misc/small-merm.svg).\n",
        "\n",
        "You need to do 2 things:\n",
        "\n",
        "1. Fill in `head_zero_ablation_hook` so that it performs zero-ablation on the head given by `head_index_to_ablate`.\n",
        "2. Fill in the missing code in the `get_ablation_scores` function (i.e. where you see the `raise NotImplementedError()` line), so that `loss_with_ablation` is computed as the loss of the model after ablating head `head` in layer `layer`.\n",
        "\n",
        "The rest of the `get_ablation_scores` function is designed to return a tensor of shape `(n_layers, n_heads)` containing the increase in loss from ablating each of these heads.\n",
        "\n",
        "A few notes about this function / tips on how to implement it:\n",
        "\n",
        "- You can create a temporary hook function by applying `functools.partial` to the `ablation_function`, fixing the head index to a particular value.\n",
        "- You can use `utils.get_act_name(\"z\", layer)` to get the name of the hook point (to see the full diagram of named hook points and how to get the names, you can refer to the streamlit reference page, which can be found on the left hand sidebar after you navigate to the [homepage](https://arena-chapter1-transformer-interp.streamlit.app/)).\n",
        "- See that `loss_no_ablation` is computed with the `get_log_probs` function, and that we only take the last `seq_len - 1` tokens - this is because we're dealing with sequences of length `2 * seq_len + 1` (a BOS token plus 2 repeated random sequences), and we only care about the loss on the second half of the sequence.\n",
        "- Note that we call `model.reset_hooks()` at the start of the function - this is a useful practice in general, to make sure you've not accidentally left in any hooks that might change your model's behaviour."
      ]
    },
    {
      "cell_type": "code",
      "execution_count": null,
      "metadata": {
        "id": "96YVUVXBXlit"
      },
      "outputs": [],
      "source": [
        "def head_zero_ablation_hook(\n",
        "    z: Float[Tensor, \"batch seq n_heads d_head\"],\n",
        "    hook: HookPoint,\n",
        "    head_index_to_ablate: int,\n",
        ") -> None:\n",
        "    raise NotImplementedError()\n",
        "\n",
        "\n",
        "def get_ablation_scores(\n",
        "    model: HookedTransformer,\n",
        "    tokens: Int[Tensor, \"batch seq\"],\n",
        "    ablation_function: Callable = head_zero_ablation_hook,\n",
        ") -> Float[Tensor, \"n_layers n_heads\"]:\n",
        "    \"\"\"\n",
        "    Returns a tensor of shape (n_layers, n_heads) containing the increase in cross entropy loss\n",
        "    from ablating the output of each head.\n",
        "    \"\"\"\n",
        "    # Initialize an object to store the ablation scores\n",
        "    ablation_scores = t.zeros((model.cfg.n_layers, model.cfg.n_heads), device=model.cfg.device)\n",
        "\n",
        "    # Calculating loss without any ablation, to act as a baseline\n",
        "    model.reset_hooks()\n",
        "    seq_len = (tokens.shape[1] - 1) // 2\n",
        "    logits = model(tokens, return_type=\"logits\")\n",
        "    loss_no_ablation = -get_log_probs(logits, tokens)[:, -(seq_len - 1) :].mean()\n",
        "\n",
        "    for layer in tqdm(range(model.cfg.n_layers)):\n",
        "        for head in range(model.cfg.n_heads):\n",
        "            raise NotImplementedError()\n",
        "\n",
        "    return ablation_scores\n",
        "\n",
        "\n",
        "ablation_scores = get_ablation_scores(model, rep_tokens)\n",
        "tests.test_get_ablation_scores(ablation_scores, model, rep_tokens)"
      ]
    },
    {
      "cell_type": "markdown",
      "metadata": {
        "id": "ZKfiMOznXliu"
      },
      "source": [
        "<details><summary>Solution</summary>\n",
        "\n",
        "```python\n",
        "def head_zero_ablation_hook(\n",
        "    z: Float[Tensor, \"batch seq n_heads d_head\"],\n",
        "    hook: HookPoint,\n",
        "    head_index_to_ablate: int,\n",
        ") -> None:\n",
        "    z[:, :, head_index_to_ablate, :] = 0.0\n",
        "\n",
        "\n",
        "def get_ablation_scores(\n",
        "    model: HookedTransformer,\n",
        "    tokens: Int[Tensor, \"batch seq\"],\n",
        "    ablation_function: Callable = head_zero_ablation_hook,\n",
        ") -> Float[Tensor, \"n_layers n_heads\"]:\n",
        "    \"\"\"\n",
        "    Returns a tensor of shape (n_layers, n_heads) containing the increase in cross entropy loss\n",
        "    from ablating the output of each head.\n",
        "    \"\"\"\n",
        "    # Initialize an object to store the ablation scores\n",
        "    ablation_scores = t.zeros((model.cfg.n_layers, model.cfg.n_heads), device=model.cfg.device)\n",
        "\n",
        "    # Calculating loss without any ablation, to act as a baseline\n",
        "    model.reset_hooks()\n",
        "    seq_len = (tokens.shape[1] - 1) // 2\n",
        "    logits = model(tokens, return_type=\"logits\")\n",
        "    loss_no_ablation = -get_log_probs(logits, tokens)[:, -(seq_len - 1) :].mean()\n",
        "\n",
        "    for layer in tqdm(range(model.cfg.n_layers)):\n",
        "        for head in range(model.cfg.n_heads):\n",
        "            # Use functools.partial to create a temporary hook function with the head number fixed\n",
        "            temp_hook_fn = functools.partial(ablation_function, head_index_to_ablate=head)\n",
        "            # Run the model with the ablation hook\n",
        "            ablated_logits = model.run_with_hooks(\n",
        "                tokens, fwd_hooks=[(utils.get_act_name(\"z\", layer), temp_hook_fn)]\n",
        "            )\n",
        "            # Calculate the loss difference (= neg correct logprobs), only on the last seq_len tokens\n",
        "            loss = -get_log_probs(ablated_logits, tokens)[:, -(seq_len - 1) :].mean()\n",
        "            # Store the result, subtracting the clean loss so that a value of 0 means no loss change\n",
        "            ablation_scores[layer, head] = loss - loss_no_ablation\n",
        "\n",
        "    return ablation_scores\n",
        "```\n",
        "</details>"
      ]
    },
    {
      "cell_type": "markdown",
      "metadata": {
        "id": "Rc4ESWOXXliu"
      },
      "source": [
        "Once you've passed the tests, you can plot the results:"
      ]
    },
    {
      "cell_type": "code",
      "execution_count": null,
      "metadata": {
        "id": "O6rLZkQgXliu"
      },
      "outputs": [],
      "source": [
        "imshow(\n",
        "    ablation_scores,\n",
        "    labels={\"x\": \"Head\", \"y\": \"Layer\", \"color\": \"Logit diff\"},\n",
        "    title=\"Loss Difference After Ablating Heads\",\n",
        "    text_auto=\".2f\",\n",
        "    width=900,\n",
        "    height=350,\n",
        ")"
      ]
    },
    {
      "cell_type": "markdown",
      "metadata": {
        "id": "HehwIn54Xliu"
      },
      "source": [
        "What is your interpretation of these results?\n",
        "\n",
        "<details>\n",
        "<summary>Interpretation</summary>\n",
        "\n",
        "This tells us not just which heads are responsible for writing output to the residual stream that gets us the correct result, but **which heads play an important role in the induction circuit**.\n",
        "\n",
        "This chart tells us that - for sequences of repeated tokens - head `0.7` is by far the most important in layer 0 (which makes sense, since we observed it to be the strongest \"previous token head\"), and heads `1.4`, `1.10` are the most important in layer 1 (which makes sense, since we observed these to be the most induction-y).\n",
        "\n",
        "This is a good illustration of the kind of result which we can get from ablation, but **wouldn't be able to get from something like direct logit attribution**, because it isn't a causal intervention.\n",
        "</details>"
      ]
    },
    {
      "cell_type": "markdown",
      "metadata": {
        "id": "wslBEKOIXliu"
      },
      "source": [
        "### Exercise - mean ablation\n",
        "\n",
        "> ```yaml\n",
        "> Difficulty: 🔴⚪⚪⚪⚪\n",
        "> Importance: 🔵🔵🔵⚪⚪\n",
        ">\n",
        "> You should aim to spend 5-15 mins on this exercise.\n",
        "> ```\n",
        "\n",
        "An alternative to zero-ablation is **mean-ablation**, where rather than setting values to zero, we set them to be their mean across some suitable distribution (commonly we'll use the mean over some batch dimension). This can be more informative, because zero-ablation takes a model out of its normal distribution, and so the results from it aren't necessarily representative of what you'd get if you \"switched off\" the effect from some particular component. Mean ablation on the other hand works slightly better (although it does come with its own set of risks). You can read more [here](https://www.neelnanda.io/mechanistic-interpretability/glossary#:~:text=Ablation%20aka%20Knockout) or [here](https://arxiv.org/html/2404.15255v1).\n",
        "\n",
        "You should fill in the `head_mean_ablation_hook` function below, and run the code (also make sure in your previous `get_ablation_scores` function that you were actually using the `ablation_function` rather than hardcoding the zero ablation function, otherwise your code won't work here). You should see that the results are slightly cleaner, with the unimportant heads having values much closer to zero relative to the important heads."
      ]
    },
    {
      "cell_type": "code",
      "execution_count": null,
      "metadata": {
        "id": "-vItnRB-Xliu"
      },
      "outputs": [],
      "source": [
        "def head_mean_ablation_hook(\n",
        "    z: Float[Tensor, \"batch seq n_heads d_head\"],\n",
        "    hook: HookPoint,\n",
        "    head_index_to_ablate: int,\n",
        ") -> None:\n",
        "    raise NotImplementedError()\n",
        "\n",
        "\n",
        "rep_tokens_batch = run_and_cache_model_repeated_tokens(model, seq_len=50, batch_size=10)[0]\n",
        "mean_ablation_scores = get_ablation_scores(\n",
        "    model, rep_tokens_batch, ablation_function=head_mean_ablation_hook\n",
        ")\n",
        "\n",
        "imshow(\n",
        "    mean_ablation_scores,\n",
        "    labels={\"x\": \"Head\", \"y\": \"Layer\", \"color\": \"Logit diff\"},\n",
        "    title=\"Loss Difference After Ablating Heads\",\n",
        "    text_auto=\".2f\",\n",
        "    width=900,\n",
        "    height=350,\n",
        ")"
      ]
    },
    {
      "cell_type": "markdown",
      "metadata": {
        "id": "LQw_CXNYXliu"
      },
      "source": [
        "<details><summary>Solution</summary>\n",
        "\n",
        "```python\n",
        "def head_mean_ablation_hook(\n",
        "    z: Float[Tensor, \"batch seq n_heads d_head\"],\n",
        "    hook: HookPoint,\n",
        "    head_index_to_ablate: int,\n",
        ") -> None:\n",
        "    z[:, :, head_index_to_ablate, :] = z[:, :, head_index_to_ablate, :].mean(0)\n",
        "\n",
        "\n",
        "rep_tokens_batch = run_and_cache_model_repeated_tokens(model, seq_len=50, batch_size=10)[0]\n",
        "mean_ablation_scores = get_ablation_scores(\n",
        "    model, rep_tokens_batch, ablation_function=head_mean_ablation_hook\n",
        ")\n",
        "\n",
        "imshow(\n",
        "    mean_ablation_scores,\n",
        "    labels={\"x\": \"Head\", \"y\": \"Layer\", \"color\": \"Logit diff\"},\n",
        "    title=\"Loss Difference After Ablating Heads\",\n",
        "    text_auto=\".2f\",\n",
        "    width=900,\n",
        "    height=350,\n",
        ")\n",
        "```\n",
        "</details>"
      ]
    },
    {
      "cell_type": "markdown",
      "metadata": {
        "id": "PxU6sxhxXliu"
      },
      "source": [
        "## Bonus - understand heads 0.4 & 0.11 (very hard!)\n",
        "\n",
        "There are 2 heads which appeared strongly in our induction ablation experiments, but haven't stood out as much in the other analysis we've done in this section `0.4` and `0.11`. Can you construct causal experiments (i.e. targeted ablations) to try and figure out what these heads are doing?\n",
        "\n",
        "> Note - you might want to attempt this once you've made some headway into the next section, as this will give you a more mechanistic understanding of the induction circuit. Even once you've done that, you might still find this bonus exercise challenging, because it ventures outside of the well-defined induction circuit we've been working with and into potentially more ambiguous results. **To restate - the material here is very challenging!**\n",
        "\n",
        "<details>\n",
        "<summary>Here's a hint to get you started</summary>\n",
        "\n",
        "Look at the positions that heads `0.4` and `0.11` are attending to. Can you figure out which source positions are important to attend to for the model to perform well?\n",
        "\n",
        "</details>\n",
        "\n",
        "<details>\n",
        "<summary>Partial answer (and some sample code)</summary>\n",
        "\n",
        "Below is some sample code which plots the effect of ablating the inputs to heads `0.4` and `0.11` at all offset positions minus a few (e.g. the first row shows the effect on loss of mean ablating all inputs to the heads except for those that come from self-attention, and the second row shows the effect when we ablate all inputs except for those that come from the token immediately before it in the sequence).\n",
        "\n",
        "```python\n",
        "def head_z_ablation_hook(\n",
        "    z: Float[Tensor, \"batch seq n_heads d_head\"],\n",
        "    hook: HookPoint,\n",
        "    head_index_to_ablate: int,\n",
        "    seq_posns: list[int],\n",
        "    cache: ActivationCache,\n",
        ") -> None:\n",
        "    \"\"\"\n",
        "    We perform ablation at the z vector, by doing the equivalent of mean ablating all the inputs to this attention head\n",
        "    except for those which come from the tokens `n` positions back, where `n` is in the `seq_posns` list.\n",
        "    \"\"\"\n",
        "    batch, seq = z.shape[:2]\n",
        "    v = cache[\"v\", hook.layer()][:, :, head_index_to_ablate]  # shape [batch seq_K d_head]\n",
        "    pattern = cache[\"pattern\", hook.layer()][:, head_index_to_ablate]  # shape [batch seq_Q seq_K]\n",
        "\n",
        "    # Get a repeated version of v, and mean ablate all but the previous token values\n",
        "    v_repeated = einops.repeat(v, \"b sK h -> b sQ sK h\", sQ=seq)\n",
        "    v_ablated = einops.repeat(v_repeated.mean(0), \"sQ sK h -> b sQ sK h\", b=batch).clone()\n",
        "    for offset in seq_posns:\n",
        "        seqQ_slice = t.arange(offset, seq)\n",
        "        v_ablated[:, seqQ_slice, seqQ_slice - offset] = v_repeated[:, seqQ_slice, seqQ_slice - offset]\n",
        "\n",
        "    # Take weighted sum of this new v, and use it to edit `z` inplace.\n",
        "    z[:, :, head_index_to_ablate] = einops.einsum(v_ablated, pattern, \"b sQ sK h, b sQ sK -> b sQ h\")\n",
        "\n",
        "\n",
        "def get_ablation_scores_cache_assisted(\n",
        "    model: HookedTransformer,\n",
        "    tokens: Int[Tensor, \"batch seq\"],\n",
        "    ablation_function: Callable = head_zero_ablation_hook,\n",
        "    seq_posns: list[int] = [0],\n",
        "    layers: list[int] = [0],\n",
        ") -> Float[Tensor, \"n_layers n_heads\"]:\n",
        "    \"\"\"\n",
        "    Version of `get_ablation_scores` which can use the cache to assist with the ablation.\n",
        "    \"\"\"\n",
        "    ablation_scores = t.zeros((len(layers), model.cfg.n_heads), device=model.cfg.device)\n",
        "\n",
        "    model.reset_hooks()\n",
        "    seq_len = (tokens.shape[1] - 1) // 2\n",
        "    logits, cache = model.run_with_cache(tokens, return_type=\"logits\")\n",
        "    loss_no_ablation = -get_log_probs(logits, tokens)[:, -(seq_len - 1) :].mean()\n",
        "\n",
        "    for layer in layers:\n",
        "        for head in range(model.cfg.n_heads):\n",
        "            temp_hook_fn = functools.partial(ablation_function, head_index_to_ablate=head, cache=cache, seq_posns=seq_posns)\n",
        "            ablated_logits = model.run_with_hooks(tokens, fwd_hooks=[(utils.get_act_name(\"z\", layer), temp_hook_fn)])\n",
        "            loss = -get_log_probs(ablated_logits, tokens)[:, -(seq_len - 1) :].mean()\n",
        "            ablation_scores[layer, head] = loss - loss_no_ablation\n",
        "\n",
        "    return ablation_scores\n",
        "\n",
        "\n",
        "rep_tokens_batch = run_and_cache_model_repeated_tokens(model, seq_len=50, batch_size=50)[0]\n",
        "\n",
        "offsets = [[0], [1], [2], [3], [1, 2], [1, 2, 3]]\n",
        "z_ablation_scores = [\n",
        "    get_ablation_scores_cache_assisted(model, rep_tokens_batch, head_z_ablation_hook, offset).squeeze()\n",
        "    for offset in tqdm(offsets)\n",
        "]\n",
        "\n",
        "imshow(\n",
        "    t.stack(z_ablation_scores),\n",
        "    labels={\"x\": \"Head\", \"y\": \"Position offset\", \"color\": \"Logit diff\"},\n",
        "    title=\"Loss Difference (ablating heads everywhere except for certain offset positions)\",\n",
        "    text_auto=\".2f\",\n",
        "    y=[str(offset) for offset in offsets],\n",
        "    width=900,\n",
        "    height=400,\n",
        ")\n",
        "```\n",
        "\n",
        "\n",
        "Some observations from the result of this code:\n",
        "\n",
        "- **Head `0.7` is truly a previous token head.** The second row shows that mean ablating all its inputs except for those that come from the previous token has no effect on loss, so this is all the information it's using.\n",
        "- **Head `0.11` is only a current token head.** The first row shows that mean ablating all its inputs except for those that come from self-attending (i.e. to the current token) has no effect on loss, so this is all the information it's using.\n",
        "- **Head `0.4` is only using information from positions 1, 2 or 3 tokens back.** This is shown from the 5th row of the plot above - the effect of ablating all inputs except for those that come from tokens 1 or 2 positions back is very small. Note that it's important we draw this conclusion from an ablation experiment, not just from looking at attention patterns - because attending to a token doesn't tell you whether that token is being used for a way that's important in the context of this particular distribution (induction).\n",
        "\n",
        "Starting with `0.11` - we know that there are heads in layer 1 whose job it is to copy tokens - i.e. in sequences `[A][B]...[A][B]`, they attend from the second `[A]` back to the first `[B]` and copy its value to use as a prediction. And if head `0.11` always self-attends, then it actually makes sense to consider `(embedding of B) + (output of head 0.11 when it attends to token B)` as the \"true embedding of `B`\", since this is always the thing that the layer 1 head will be learning to copy. This idea of an **extended embedding** or **effective embedding** will come up again later in the course, when we look at GPT2-Small. As for whether the output of `0.11` is more important in the QK circuit of the layer-1 copying head, or the OV copying head, we'll leave as an exercise to the reader!\n",
        "\n",
        "Next, `0.4` - it's using information from both 1 and 2 tokens back. Using the previous token makes sense, since induction circuits contain previous token heads. But what could it be doing with the information 2 positions back? One theory we might have is that it's also creating an induction circuit, but using 3 tokens rather than 2 tokens! In other words, rather than having sequences like `[A][B]...[A][B]` where the second `[A]` attends back to \"token that came immediately after the value of this token\", we might have sequences like `[Z][A][B]...[Z][A][B]` where the second `[A]` attends back to \"token that came 2 positions after the value of the previous token\". One way to test this would be to construct random induction sequences which have a maximum of 2 repetitions, i.e. they're constructed with the first half being random sequences and the second half being pairs of randomly chosen tokens which appear in the first half adjacent to each other. To illustrate, for vocab size of 10 and half seq len of 10, we might have a sequence like:\n",
        "\n",
        "<pre style=\"white-space:pre;overflow-x:auto;line-height:normal;font-family:Menlo,'DejaVu Sans Mono',consolas,'Courier New',monospace\">0 5 8 3 1 8 2 2 4 6 (5 8) (4 6) (3 1) (2 4) (0 5)</pre>\n",
        "\n",
        "Based on our theory about head `0.4`, we should expect that mean ablating it in this kind of sequence should have nearly zero effect on loss (because it's designed to support induction sequences of length at least 3), even though all the other heads which were identified as important in the induction experiment (`0.7`, `0.11`, `1.4`, `1.10`) should still be important. This is in fact what we find - you can try this for yourself with the code below.\n",
        "\n",
        "```python\n",
        "def generate_repeated_tokens_maxrep(\n",
        "    model: HookedTransformer,\n",
        "    seq_len: int,\n",
        "    batch_size: int = 1,\n",
        "    maxrep: int = 2,\n",
        ") -> Int[Tensor, \"batch_size full_seq_len\"]:\n",
        "    \"\"\"\n",
        "    Same as previous function, but contains a max number of allowed repetitions. For example, maxrep=2 means we can have\n",
        "    sequences like `[A][B]...[A][B]`, but not `[A][B][C]...[A][B][C]`.\n",
        "    \"\"\"\n",
        "    prefix = (t.ones(batch_size, 1) * model.tokenizer.bos_token_id).long()\n",
        "    rep_tokens_half = t.randint(0, model.cfg.d_vocab, (batch_size, seq_len), dtype=t.int64)\n",
        "    rep_tokens = t.cat([prefix, rep_tokens_half], dim=-1)\n",
        "    for _ in range(seq_len // maxrep + 1):\n",
        "        random_start_posn = t.randint(0, seq_len - 2, (batch_size,)).tolist()\n",
        "        rep_tokens_repeated = t.stack([rep_tokens_half[b, s : s + maxrep] for b, s in enumerate(random_start_posn)])\n",
        "        rep_tokens = t.cat([rep_tokens, rep_tokens_repeated], dim=-1)\n",
        "\n",
        "    return rep_tokens[:, : 2 * seq_len + 1].to(device)\n",
        "\n",
        "\n",
        "rep_tokens_max2 = generate_repeated_tokens_maxrep(model, seq_len=50, batch_size=50, maxrep=2)\n",
        "\n",
        "mean_ablation_scores = get_ablation_scores(model, rep_tokens_max2, ablation_fn=head_mean_ablation_hook)\n",
        "\n",
        "imshow(\n",
        "    mean_ablation_scores,\n",
        "    labels={\"x\": \"Head\", \"y\": \"Layer\", \"color\": \"Logit diff\"},\n",
        "    title=\"Loss Difference After Ablating Heads\",\n",
        "    text_auto=\".2f\",\n",
        "    width=900,\n",
        "    height=350,\n",
        ")\n",
        "```\n",
        "\n",
        "\n",
        "</details>"
      ]
    },
    {
      "cell_type": "markdown",
      "metadata": {
        "id": "moLw_C5oXliv"
      },
      "source": [
        "# 4️⃣ Reverse-engineering induction circuits\n",
        "\n",
        "> ##### Learning Objectives\n",
        ">\n",
        "> - Understand the difference between investigating a circuit by looking at activation patterns, and reverse-engineering a circuit by looking directly at the weights\n",
        "> - Use the factored matrix class to inspect the QK and OV circuits within an induction circuit\n",
        "> - Perform further exploration of induction circuits: composition scores, and targeted ablations"
      ]
    },
    {
      "cell_type": "markdown",
      "metadata": {
        "id": "OcRk8WjMXliv"
      },
      "source": [
        "In previous exercises, we looked at the attention patterns and attributions of attention heads to try and identify which ones were important in the induction circuit. This might be a good way to get a feel for the circuit, but it's not a very rigorous way to understand it. It would be better described as **feature analysis**, where we observe *that* a particular head seems to be performing some task on a certain class of inputs, without identifying *why* it does so.\n",
        "\n",
        "Now we're going to do some more rigorous mechanistic analysis - digging into the weights and using them to reverse engineer the induction head algorithm and verify that it is really doing what we think it is."
      ]
    },
    {
      "cell_type": "markdown",
      "metadata": {
        "id": "2vUgPvqaXliv"
      },
      "source": [
        "## Refresher - the induction circuit\n",
        "\n",
        "Before we get into the meat of this section, let's refresh the results we've gotten so far from investigating induction heads. We've found:\n",
        "\n",
        "* When fed repeated sequences of tokens, heads `1.4` and `1.10` have the characteristic induction head attention pattern of a diagonal stripe with offset `seq_len - 1`.\n",
        "    * We saw this both from the CircuitsVis results, and from the fact that these heads had high induction scores by our chosen metric (with all other heads having much lower scores).\n",
        "* We also saw that head `0.7` strongly attends to the previous token in the sequence (even on non-repeated sequences).\n",
        "* We performed **logit attribution** on the model, and found that the values written to the residual stream by heads `1.4` and `1.10` were both important for getting us correct predictions in the second half of the sequence.\n",
        "* We performed **zero-ablation** on the model, and found that heads `0.7`, `1.4` and `1.10` all resulted in a large accuracy degradation on the repeated sequence task when they were ablated.\n",
        "\n",
        "Based on all these observations, try and summarise the induction circuit and how it works, in your own words. You should try and link your explanation to the QK and OV circuits for particular heads, and describe what type (or types) of attention head composition are taking place.\n",
        "\n",
        "You can use the dropdown below to check your understanding.\n",
        "\n",
        "<details>\n",
        "<summary>My summary of the algorithm</summary>\n",
        "\n",
        "* Head `0.7` is a previous token head (the QK-circuit ensures it always attends to the previous token).\n",
        "* The OV circuit of head `0.7` writes a copy of the previous token in a *different* subspace to the one used by the embedding.\n",
        "* The output of head `0.7` is used by the *key* input of head `1.10` via K-Composition to attend to 'the source token whose previous token is the destination token'.\n",
        "* The OV-circuit of head `1.10` copies the *value* of the source token to the same output logit.\n",
        "    * Note that this is copying from the embedding subspace, *not* the `0.7` output subspace - it is not using V-Composition at all.\n",
        "* `1.4` is also performing the same role as `1.10` (so together they can be more accurate - we'll see exactly how later).\n",
        "\n",
        "To emphasise - the sophisticated hard part is computing the *attention* pattern of the induction head - this takes careful composition. The previous token and copying parts are fairly easy. This is a good illustrative example of how the QK circuits and OV circuits act semi-independently, and are often best thought of somewhat separately. And that computing the attention patterns can involve real and sophisticated computation!\n",
        "\n",
        "Below is a diagram of the induction circuit, with the heads indicated in the weight matrices.\n",
        "\n",
        "![kcomp_diagram_3.png](https://raw.githubusercontent.com/info-arena/ARENA_img/main/misc/kcomp_diagram_described_3.png)\n",
        "</details>"
      ]
    },
    {
      "cell_type": "markdown",
      "metadata": {
        "id": "45FKMp6GXliv"
      },
      "source": [
        "## Refresher - QK and OV circuits\n",
        "\n",
        "Before we start, a brief terminology note. I'll refer to weight matrices for a particular layer and head using superscript notation, e.g. $W_Q^{1.4}$ is the query matrix for the 4th head in layer 1, and it has shape `[d_model, d_head]` (remember that we multiply with weight matrices on the right). Similarly, attention patterns will be denoted $A^{1.4}$ (remember that these are **activations**, not parameters, since they're given by the formula $A^h = x W_{QK}^h x^T$, where $x$ is the residual stream (with shape `[seq_len, d_model]`).\n",
        "\n",
        "As a shorthand, I'll often have $A$ denote the one-hot encoding of token `A` (i.e. the vector with zeros everywhere except a one at the index of `A`), so $A^T W_E$ is the embedding vector for `A`.\n",
        "\n",
        "Lastly, I'll refer to special matrix products as follows:\n",
        "\n",
        "* $W_{OV}^{h} := W_V^{h}W_O^{h}$ is the **OV circuit** for head $h$, and $W_E W_{OV}^h W_U$ is the **full OV circuit**.\n",
        "* $W_{QK}^h := W_Q^h (W_K^h)^T$ is the **QK circuit** for head $h$, and $W_E W_{QK}^h W_E^T$ is the **full QK circuit**.\n",
        "\n",
        "Note that the order of these matrices are slightly different from the **Mathematical Frameworks** paper - this is a consequence of the way TransformerLens stores its weight matrices."
      ]
    },
    {
      "cell_type": "markdown",
      "metadata": {
        "id": "2P3IKWlAXliv"
      },
      "source": [
        "#### Question - what is the interpretation of each of the following matrices?\n",
        "\n",
        "*There are quite a lot of questions here, but they are conceptually important. If you're confused, you might want to read the answers to the first few questions and then try the later ones.*\n",
        "\n",
        "In your answers, you should describe the type of input it takes, and what the outputs represent.\n",
        "\n",
        "#### $W_{OV}^{h}$\n",
        "\n",
        "<details>\n",
        "<summary>Answer</summary>\n",
        "\n",
        "$W_{OV}^{h}$ has size $(d_\\text{model}, d_\\text{model})$, it is a linear map describing **what information gets moved from source to destination, in the residual stream.**\n",
        "\n",
        "In other words, if $x$ is a vector in the residual stream, then $x^T W_{OV}^{h}$ is the vector written to the residual stream at the destination position, if the destination token only pays attention to the source token at the position of the vector $x$.\n",
        "</details>\n",
        "\n",
        "#### $W_E W_{OV}^h W_U$\n",
        "\n",
        "<details>\n",
        "<summary>Hint</summary>\n",
        "\n",
        "If $A$ is the one-hot encoding for token `A` (i.e. the vector with zeros everywhere except for a one in the position corresponding to token `A`), then think about what $A^T W_E W_{OV}^h W_U$ represents. You can evaluate this expression from left to right (e.g. start with thinking about what $A^T W_E$ represents, then multiply by the other two matrices).\n",
        "</details>\n",
        "<details>\n",
        "<summary>Answer</summary>\n",
        "\n",
        "$W_E W_{OV}^h W_U$ has size $(d_\\text{vocab}, d_\\text{vocab})$, it is a linear map describing **what information gets moved from source to destination, in a start-to-end sense.**\n",
        "\n",
        "If $A$ is the one-hot encoding for token `A`, then:\n",
        "\n",
        "* $A^T W_E$ is the embedding vector for `A`.\n",
        "* $A^T W_E W_{OV}^h$ is the vector which would get written to the residual stream at the destination position, if the destination token only pays attention to `A`.\n",
        "* $A^T W_E W_{OV}^h W_U$ is the unembedding of this vector, i.e. the thing which gets added to the final logits.\n",
        "\n",
        "</details>\n",
        "\n",
        "#### $W_{QK}^{h}$\n",
        "\n",
        "<details>\n",
        "<summary>Answer</summary>\n",
        "\n",
        "$W_{QK}^{h}$ has size $(d_\\text{model}, d_\\text{model})$, it is a bilinear form describing **where information is moved to and from** in the residual stream (i.e. which residual stream vectors attend to which others).\n",
        "\n",
        "$x_i^T W_{QK}^h x_j = (x_i^T W_Q^h) (x_j^T W_K^h)^T$ is the attention score paid by token $i$ to token $j$.\n",
        "</details>\n",
        "\n",
        "#### $W_E W_{QK}^h W_E^T$\n",
        "\n",
        "<details>\n",
        "<summary>Answer</summary>\n",
        "\n",
        "$W_E W_{QK}^h W_E^T$ has size $(d_\\text{vocab}, d_\\text{vocab})$, it is a bilinear form describing **where information is moved to and from**, among words in our vocabulary (i.e. which tokens pay attention to which others).\n",
        "\n",
        "If $A$ and $B$ are one-hot encodings for tokens `A` and `B`, then $A^T W_E W_{QK}^h W_E^T B$ is the attention score paid by token `A` to token `B`:\n",
        "\n",
        "$$\n",
        "A^T \\, W_E\\, W_{QK}^{h}\\, W_E^T \\, B = \\underbrace{(A^T W_E W_Q^{h})}_{\\text{query for token } A}  \\underbrace{(B^T W_E W_K^{h})^T}_{\\text{key for token }B}\n",
        "$$\n",
        "</details>\n",
        "\n",
        "#### $W_{pos} W_{QK}^h W_{pos}^T$\n",
        "\n",
        "<details>\n",
        "<summary>Answer</summary>\n",
        "\n",
        "$W_{pos} W_{QK}^h W_{pos}^T$ has size $(n_\\text{ctx}, n_\\text{ctx})$, it is a bilinear form describing **where information is moved to and from**, among tokens in our context (i.e. which token positions pay attention to other positions).\n",
        "\n",
        "If $i$ and $j$ are one-hot encodings for positions `i` and `j` (in other words they are just the ith and jth basis vectors), then $i^T W_{pos} W_{QK}^h W_{pos}^T j$ is the attention score paid by the token with position `i` to the token with position `j`:\n",
        "\n",
        "$$\n",
        "i^T \\, W_{pos}\\, W_{QK}^{h}\\, W_{pos}^T \\, j = \\underbrace{(i^T W_{pos} W_Q^{h})}_{\\text{query for i-th token}}  \\underbrace{(j^T W_{pos} W_K^{h})^T}_{\\text{key for j-th token}}\n",
        "$$\n",
        "\n",
        "</details>\n",
        "\n",
        "#### $W_E W_{OV}^{h_1} W_{QK}^{h_2} W_E^T$\n",
        "\n",
        "where $h_1$ is in an earlier layer than $h_2$.\n",
        "\n",
        "<details>\n",
        "<summary>Hint</summary>\n",
        "\n",
        "This matrix is best seen as a bilinear form of size $(d_\\text{vocab}, d_\\text{vocab})$. The $(A, B)$-th element is:\n",
        "\n",
        "$$\n",
        "(A^T W_E W_{OV}^{h_1}) W_{QK}^{h_2} (B^T W_E)^T\n",
        "$$\n",
        "</details>\n",
        "\n",
        "<details>\n",
        "<summary>Answer</summary>\n",
        "\n",
        "$W_E W_{OV}^{h_1} W_{QK}^{h_2} W_E^T$ has size $(d_\\text{vocab}, d_\\text{vocab})$, it is a bilinear form describing where information is moved to and from in head $h_2$, given that the **query-side vector** is formed from the output of head $h_1$. In other words, this is an instance of **Q-composition**.\n",
        "\n",
        "If $A$ and $B$ are one-hot encodings for tokens `A` and `B`, then $A^T W_E W_{OV}^{h_1} W_{QK}^{h_2} W_E^T B$ is the attention score paid **to** token `B`, **by** any token which attended strongly to an `A`-token in head $h_1$.\n",
        "\n",
        "---\n",
        "\n",
        "To further break this down, if it still seems confusing:\n",
        "\n",
        "$$\n",
        "\\begin{aligned}\n",
        "A^T \\, W_E\\, W_{OV}^{h_1} W_{QK}^{h_2}\\, W_E^T \\, B &= \\underbrace{(A^T W_E W_{OV}^{h_1}W_Q^{h_2})}_{\\text{query of token which attended to A}}  \\underbrace{(B^T W_E W_K^{h_2})^T}_\\text{key of token B} \\\\\n",
        "\\end{aligned}\n",
        "$$\n",
        "\n",
        "---\n",
        "\n",
        "Note that the actual attention score will be a sum of multiple terms, not just this one (in fact, we'd have a different term for every combination of query and key input). But this term describes the **particular contribution** to the attention score from this combination of query and key input, and it might be the case that this term is the only one that matters (i.e. all other terms don't much affect the final probabilities). We'll see something exactly like this later on.\n",
        "</details>"
      ]
    },
    {
      "cell_type": "markdown",
      "metadata": {
        "id": "NPwVMSXfXliw"
      },
      "source": [
        "Before we start, there's a problem that we might run into when calculating all these matrices. Some of them are massive, and might not fit on our GPU. For instance, both full circuit matrices have shape $(d_\\text{vocab}, d_\\text{vocab})$, which in our case means $50278\\times 50278 \\approx 2.5\\times 10^{9}$ elements. Even if your GPU can handle this, it still seems inefficient. Is there any way we can meaningfully analyse these matrices, without actually having to calculate them?\n",
        "\n",
        "## Factored Matrix class\n",
        "\n",
        "In transformer interpretability, we often need to analyse low rank factorized matrices - a matrix $M = AB$, where M is `[large, large]`, but A is `[large, small]` and B is `[small, large]`. This is a common structure in transformers.\n",
        "\n",
        "For instance, we can factorise the OV circuit above as $W_{OV}^h = W_V^h W_O^h$, where $W_V^h$ has shape `[768, 64]` and $W_O^h$ has shape `[64, 768]`. For an even more extreme example, the full OV circuit can be written as $(W_E W_V^h) (W_O^h W_U)$, where these two matrices have shape `[50278, 64]` and `[64, 50278]` respectively. Similarly, we can write the full QK circuit as $(W_E W_Q^h) (W_E W_K^h)^T$.\n",
        "\n",
        "The `FactoredMatrix` class is a convenient way to work with these. It implements efficient algorithms for various operations on these, such as computing the trace, eigenvalues, Frobenius norm, singular value decomposition, and products with other matrices. It can (approximately) act as a drop-in replacement for the original matrix.\n",
        "\n",
        "This is all possible because knowing the factorisation of a matrix gives us a much easier way of computing its important properties. Intuitively, since $M=AB$ is a very large matrix that operates on very small subspaces, we shouldn't expect knowing the actual values $M_{ij}$ to be the most efficient way of storing it!"
      ]
    },
    {
      "cell_type": "markdown",
      "metadata": {
        "id": "K7xu_4y0Xliw"
      },
      "source": [
        "### Exercise - deriving properties of a factored matrix\n",
        "\n",
        "> ```yaml\n",
        "> Difficulty: 🔴🔴🔴🔴⚪\n",
        "> Importance: 🔵🔵⚪⚪⚪\n",
        ">\n",
        "> You shouldn't spend more than 10-25 minutes on this exercise.\n",
        ">\n",
        "> If you're less interested in the maths, you can skip these exercises.\n",
        "> ```\n",
        "\n",
        "To give you an idea of what kinds of properties you can easily compute if you have a factored matrix, let's try and derive some ourselves.\n",
        "\n",
        "Suppose we have $M=AB$, where $A$ has shape $(m, n)$, $B$ has shape $(n, m)$, and $m > n$. So $M$ is a size-$(m, m)$ matrix with rank at most $n$.\n",
        "\n",
        "**Question - how can you easily compute the trace of $M$?**\n",
        "\n",
        "<details>\n",
        "<summary>Answer</summary>\n",
        "\n",
        "We have:\n",
        "\n",
        "$$\n",
        "\\text{Tr}(M) = \\text{Tr}(AB)\n",
        "= \\sum_{i=1}^m \\sum_{j=1}^n A_{ij} B_{ji}\n",
        "$$\n",
        "\n",
        "so evaluation of the trace is $O(mn)$.\n",
        "\n",
        "Note that, by cyclicity of the trace, we can also show that $\\text{Tr}(M) = \\text{Tr}(BA)$ (although we don't even need to calculate the product $AB$ to evaluate the trace).\n",
        "</details>\n",
        "\n",
        "**Question - how can you easily compute the eigenvalues of $M$?**\n",
        "\n",
        "(As you'll see in later exercises, eigenvalues are very important for evaluating matrices, for instance we can assess the [copying scores](https://transformer-circuits.pub/2021/framework/index.html#copying-matrix) of an OV circuit by looking at the eigenvalues of $W_{OV}$.)\n",
        "\n",
        "<details>\n",
        "<summary>Hint</summary>\n",
        "\n",
        "It's computationally cheaper to find the eigenvalues of $BA$ rather than $AB$.\n",
        "\n",
        "How are the eigenvalues of $AB$ and $BA$ related?\n",
        "</details>\n",
        "<details>\n",
        "<summary>Answer</summary>\n",
        "\n",
        "The eigenvalues of $AB$ and $BA$ are related as follows: if $\\mathbf{v}$ is an eigenvector of $AB$ with $ABv = \\lambda \\mathbf{v}$, then $B\\mathbf{v}$ is an eigenvector of $BA$ with the same eigenvalue:\n",
        "\n",
        "$$\n",
        "BA(B\\mathbf{v}) = B (AB\\mathbf{v}) = B (\\lambda \\mathbf{v}) = \\lambda (B\\mathbf{v})\n",
        "$$\n",
        "\n",
        "This only fails when $B\\mathbf{v} = \\mathbf{0}$, but in this case $AB\\mathbf{v} = \\mathbf{0}$ so $\\lambda = 0$. Thus, we can conclude that any non-zero eigenvalues of $AB$ are also eigenvalues of $BA$.\n",
        "\n",
        "It's much computationally cheaper to compute the eigenvalues of $BA$ (since it's a much smaller matrix), and this gives us all the non-zero eigenvalues of $AB$.\n",
        "</details>\n",
        "\n",
        "**Question (hard) - how can you easily compute the SVD of $M$?**\n",
        "\n",
        "<details>\n",
        "<summary>Hint</summary>\n",
        "\n",
        "For a size-$(m, n)$ matrix with $m > n$, the [algorithmic complexity of finding SVD](https://en.wikipedia.org/wiki/Singular_value_decomposition#Numerical_approach) is $O(mn^2)$. So it's relatively cheap to find the SVD of $A$ and $B$ (complexity $mn^2$ vs $m^3$). Can you use that to find the SVD of $M$?\n",
        "</details>\n",
        "\n",
        "\n",
        "<details>\n",
        "<summary>Answer</summary>\n",
        "\n",
        "It's much cheaper to compute the SVD of the small matrices $A$ and $B$. Denote these SVDs by:\n",
        "\n",
        "$$\n",
        "\\begin{aligned}\n",
        "A &= U_A S_A V_A^T \\\\\n",
        "B &= U_B S_B V_B^T\n",
        "\\end{aligned}\n",
        "$$\n",
        "\n",
        "where $U_A$ and $V_B$ are $(m, n)$, and the other matrices are $(n, n)$.\n",
        "\n",
        "Then we have:\n",
        "\n",
        "$$\n",
        "\\begin{aligned}\n",
        "\\quad\\quad\\quad\\quad M &= AB \\\\\n",
        "&= U_A (S_A V_A^T U_B S_B) V_B^T\n",
        "\\end{aligned}\n",
        "$$\n",
        "\n",
        "Note that the matrix in the middle has size $(n, n)$ (i.e. small), so we can compute its SVD cheaply:\n",
        "\n",
        "$$\n",
        "\\begin{aligned}\n",
        "\\; S_A V_A^T U_B S_B &= U' S' {V'}^T \\quad\\quad\\quad\\quad\\quad\n",
        "\\end{aligned}\n",
        "$$\n",
        "\n",
        "and finally, this gives us the SVD of $M$:\n",
        "\n",
        "$$\n",
        "\\begin{aligned}\n",
        "\\quad\\quad M &= U_A U' S' {V'}^T V_B^T \\\\\n",
        "&= U S {V'}^T\n",
        "\\end{aligned}\n",
        "$$\n",
        "\n",
        "where $U = U_A U'$, $V = V_B V'$, and $S = S'$.\n",
        "\n",
        "All our SVD calculations and matrix multiplications had complexity at most $O(mn^2)$, which is much better than $O(m^3)$ (remember that we don't need to compute all the values of $U = U_A U'$, only the ones which correspond to non-zero singular values).\n",
        "</details>\n",
        "\n",
        "If you're curious, you can go to the `FactoredMatrix` documentation to see the implementation of the SVD calculation, as well as other properties and operations."
      ]
    },
    {
      "cell_type": "markdown",
      "metadata": {
        "id": "ghk607t7Xliw"
      },
      "source": [
        "Now that we've discussed some of the motivations behind having a `FactoredMatrix` class, let's see it in action.\n",
        "\n",
        "### Basic Examples\n",
        "\n",
        "We can use the basic class directly - let's make a factored matrix directly and look at the basic operations:"
      ]
    },
    {
      "cell_type": "code",
      "execution_count": null,
      "metadata": {
        "id": "26YFZr7_Xlix"
      },
      "outputs": [],
      "source": [
        "A = t.randn(5, 2)\n",
        "B = t.randn(2, 5)\n",
        "AB = A @ B\n",
        "AB_factor = FactoredMatrix(A, B)\n",
        "print(\"Norms:\")\n",
        "print(AB.norm())\n",
        "print(AB_factor.norm())\n",
        "\n",
        "print(f\"Right dim: {AB_factor.rdim}, Left dim: {AB_factor.ldim}, Hidden dim: {AB_factor.mdim}\")"
      ]
    },
    {
      "cell_type": "markdown",
      "metadata": {
        "id": "-eksVruoXlix"
      },
      "source": [
        "We can also look at the eigenvalues and singular values of the matrix. Note that, because the matrix is rank 2 but 5 by 5, the final 3 eigenvalues and singular values are zero - the factored class omits the zeros."
      ]
    },
    {
      "cell_type": "code",
      "execution_count": null,
      "metadata": {
        "id": "6U9b8LhHXlix"
      },
      "outputs": [],
      "source": [
        "print(\"Eigenvalues:\")\n",
        "print(t.linalg.eig(AB).eigenvalues)\n",
        "print(AB_factor.eigenvalues)\n",
        "\n",
        "print(\"\\nSingular Values:\")\n",
        "print(t.linalg.svd(AB).S)\n",
        "print(AB_factor.S)\n",
        "\n",
        "print(\"\\nFull SVD:\")\n",
        "print(AB_factor.svd())"
      ]
    },
    {
      "cell_type": "markdown",
      "metadata": {
        "id": "mZkGEcjBXlix"
      },
      "source": [
        "<details>\n",
        "<summary>Aside - the sizes of objects returned by the SVD method.</summary>\n",
        "\n",
        "If $M = USV^T$, and `M.shape = (m, n)` and the rank is `r`, then the SVD method returns the matrices $U, S, V$. They have shape `(m, r)`, `(r,)`, and `(n, r)` respectively, because:\n",
        "\n",
        "* We don't bother storing the off-diagonal entries of $S$, since they're all zero.\n",
        "* We don't bother storing the columns of $U$ and $V$ which correspond to zero singular values, since these won't affect the value of $USV^T$.\n",
        "</details>\n",
        "\n",
        "We can multiply a factored matrix with an unfactored matrix to get another factored matrix (as in example below). We can also multiply two factored matrices together to get another factored matrix."
      ]
    },
    {
      "cell_type": "code",
      "execution_count": null,
      "metadata": {
        "id": "zgPJoaBlXliy"
      },
      "outputs": [],
      "source": [
        "C = t.randn(5, 300)\n",
        "ABC = AB @ C\n",
        "ABC_factor = AB_factor @ C\n",
        "\n",
        "print(f\"Unfactored: shape={ABC.shape}, norm={ABC.norm()}\")\n",
        "print(f\"Factored: shape={ABC_factor.shape}, norm={ABC_factor.norm()}\")\n",
        "print(f\"\\nRight dim: {ABC_factor.rdim}, Left dim: {ABC_factor.ldim}, Hidden dim: {ABC_factor.mdim}\")"
      ]
    },
    {
      "cell_type": "markdown",
      "metadata": {
        "id": "GB0lwpDZXliy"
      },
      "source": [
        "If we want to collapse this back to an unfactored matrix, we can use the `AB` property to get the product:"
      ]
    },
    {
      "cell_type": "code",
      "execution_count": null,
      "metadata": {
        "id": "-3cEmcS8Xliy"
      },
      "outputs": [],
      "source": [
        "AB_unfactored = AB_factor.AB\n",
        "t.testing.assert_close(AB_unfactored, AB)"
      ]
    },
    {
      "cell_type": "markdown",
      "metadata": {
        "id": "p79U-1kvXliy"
      },
      "source": [
        "## Reverse-engineering circuits\n",
        "\n",
        "Within our induction circuit, we have four individual circuits: the OV and QK circuits in our previous token head, and the OV and QK circuits in our induction head. In the following sections of the exercise, we'll reverse-engineer each of these circuits in turn.\n",
        "\n",
        "* In the section **OV copying circuit**, we'll look at the layer-1 OV circuit.\n",
        "* In the section **QK prev-token circuit**, we'll look at the layer-0 QK circuit.\n",
        "* The third section (**K-composition**) is a bit trickier, because it involves looking at the composition of the layer-0 OV circuit **and** layer-1 QK circuit. We will have to do two things:\n",
        "    1. Show that these two circuits are composing (i.e. that the output of the layer-0 OV circuit is the main determinant of the key vectors in the layer-1 QK circuit).\n",
        "    2. Show that the joint operation of these two circuits is \"make the second instance of a token attend to the token *following* an earlier instance.\n",
        "\n",
        "The dropdown below contains a diagram explaining how the three sections relate to the different components of the induction circuit. You might have to open it in a new tab to see it clearly.\n",
        "\n",
        "<details>\n",
        "<summary>Diagram</summary>\n",
        "\n",
        "![kcomp](https://raw.githubusercontent.com/info-arena/ARENA_img/main/misc/kcomp_diagram_described_2_new.png)\n",
        "</details>\n",
        "\n",
        "After this, we'll have a look at composition scores, which are a more mathematically justified way of showing that two attention heads are composing (without having to look at their behaviour on any particular class of inputs, since it is a property of the actual model weights)."
      ]
    },
    {
      "cell_type": "markdown",
      "metadata": {
        "id": "Tuc72ilFXliy"
      },
      "source": [
        "## [1] OV copying circuit\n",
        "\n",
        "Let's start with an easy parts of the circuit - the copying OV circuit of `1.4` and `1.10`. Let's start with head 4. The only interpretable (read: **privileged basis**) things here are the input tokens and output logits, so we want to study the matrix:\n",
        "\n",
        "$$\n",
        "W_E W_{OV}^{1.4} W_U\n",
        "$$\n",
        "\n",
        "(and same for `1.10`). This is the $(d_\\text{vocab}, d_\\text{vocab})$-shape matrix that combines with the attention pattern to get us from input to output.\n",
        "\n",
        "We want to calculate this matrix, and inspect it. We should find that its diagonal values are very high, and its non-diagonal values are much lower.\n",
        "\n",
        "**Question - why should we expect this observation?** (you may find it helpful to refer back to the previous section, where you described what the interpretation of different matrices was.)\n",
        "\n",
        "<details>\n",
        "<summary>Hint</summary>\n",
        "\n",
        "Suppose our repeating sequence is `A B ... A B`. Let $A$, $B$ be the corresponding one-hot encoded tokens. The `B`-th row of this matrix is:\n",
        "\n",
        "$$\n",
        "B^T W_E W_{OV}^{1.4} W_U\n",
        "$$\n",
        "\n",
        "What is the interpretation of this expression, in the context of our attention head?\n",
        "</details>\n",
        "\n",
        "<details>\n",
        "<summary>Answer</summary>\n",
        "\n",
        "If our repeating sequence is `A B ... A B`, then:\n",
        "\n",
        "$$\n",
        "B^T W_E W_{OV}^{1.4} W_U\n",
        "$$\n",
        "\n",
        "is the **vector of logits which gets moved from the first `B` token to the second `A` token, to be used as the prediction for the token following the second `A` token**. It should result in a high prediction for `B`, and a low prediction for everything else. In other words, the `(B, X)`-th element of this matrix should be highest for `X=B`, which is exactly what we claimed.\n",
        "\n",
        "If this still seems confusing, the diagram below might help:\n",
        "\n",
        "<img src=\"https://raw.githubusercontent.com/info-arena/ARENA_img/main/misc/kcomp_diagram_described-OV-v3.png\" width=\"750\">\n",
        "\n",
        "</details>"
      ]
    },
    {
      "cell_type": "markdown",
      "metadata": {
        "id": "G5bE9uQ0Xliy"
      },
      "source": [
        "### Exercise - compute OV circuit for `1.4`\n",
        "\n",
        "> ```yaml\n",
        "> Difficulty: 🔴🔴⚪⚪⚪\n",
        "> Importance: 🔵🔵🔵⚪⚪\n",
        ">\n",
        "> You should spend up to ~10 minutes on this exercise.\n",
        "> ```\n",
        "\n",
        "*This is the first of several similar exercises where you calculate a circuit by multiplying matrices. This exercise is pretty important (in particular, you should make sure you understand what this matrix represents and why we're interested in it), but the actual calculation shouldn't take very long.*"
      ]
    },
    {
      "cell_type": "markdown",
      "metadata": {
        "id": "Cm9Xy6cqXliz"
      },
      "source": [
        "You should compute it as a `FactoredMatrix` object.\n",
        "\n",
        "Remember, you can access the model's weights directly e.g. using `model.W_E` or `model.W_Q` (the latter gives you all the `W_Q` matrices, indexed by layer and head)."
      ]
    },
    {
      "cell_type": "code",
      "execution_count": null,
      "metadata": {
        "id": "6SabcHRAXliz"
      },
      "outputs": [],
      "source": [
        "head_index = 4\n",
        "layer = 1\n",
        "\n",
        "# YOUR CODE HERE - complete the `full_OV_circuit` object\n",
        "\n",
        "tests.test_full_OV_circuit(full_OV_circuit, model, layer, head_index)"
      ]
    },
    {
      "cell_type": "markdown",
      "metadata": {
        "id": "JHiyeWc-Xliz"
      },
      "source": [
        "<details>\n",
        "<summary>Help - I'm not sure how to use this class to compute a product of more than 2 matrices.</summary>\n",
        "\n",
        "You can compute it directly, as:\n",
        "\n",
        "```python\n",
        "full_OV_circuit = FactoredMatrix(W_E @ W_V, W_O @ W_U)\n",
        "```\n",
        "\n",
        "Alternatively, another nice feature about the `FactoredMatrix` class is that you can chain together matrix multiplications. The following code defines exactly the same `FactoredMatrix` object:\n",
        "\n",
        "```python\n",
        "OV_circuit = FactoredMatrix(W_V, W_O)\n",
        "full_OV_circuit = W_E @ OV_circuit @ W_U\n",
        "```\n",
        "</details>\n",
        "\n",
        "\n",
        "<details><summary>Solution</summary>\n",
        "\n",
        "```python\n",
        "head_index = 4\n",
        "layer = 1\n",
        "\n",
        "W_O = model.W_O[layer, head_index]\n",
        "W_V = model.W_V[layer, head_index]\n",
        "W_E = model.W_E\n",
        "W_U = model.W_U\n",
        "\n",
        "OV_circuit = FactoredMatrix(W_V, W_O)\n",
        "full_OV_circuit = W_E @ OV_circuit @ W_U\n",
        "```\n",
        "</details>"
      ]
    },
    {
      "cell_type": "markdown",
      "metadata": {
        "id": "Kox2Ey6QXliz"
      },
      "source": [
        "Now we want to check that this matrix is the identity. Since it's in factored matrix form, this is a bit tricky, but there are still things we can do.\n",
        "\n",
        "First, to validate that it looks diagonal-ish, let's pick 200 random rows and columns and visualise that - it should at least look identity-ish here! We're using the indexing method of the `FactoredMatrix` class - you can index into it before returning the actual `.AB` value, to avoid having to compute the whole thing (we take advantage of the fact that `A[left_indices, :] @ B[:, right_indices]` is the same as `(A @ B)[left_indices, right_indices]`)."
      ]
    },
    {
      "cell_type": "code",
      "execution_count": null,
      "metadata": {
        "id": "5pYosM_6Xliz"
      },
      "outputs": [],
      "source": [
        "indices = t.randint(0, model.cfg.d_vocab, (200,))\n",
        "full_OV_circuit_sample = full_OV_circuit[indices, indices].AB\n",
        "\n",
        "imshow(\n",
        "    full_OV_circuit_sample,\n",
        "    labels={\"x\": \"Logits on output token\", \"y\": \"Input token\"},\n",
        "    title=\"Full OV circuit for copying head\",\n",
        "    width=700,\n",
        "    height=600,\n",
        ")"
      ]
    },
    {
      "cell_type": "markdown",
      "metadata": {
        "id": "7IY8eTODXliz"
      },
      "source": [
        "<details>\n",
        "<summary>Aside - indexing factored matrices</summary>\n",
        "\n",
        "Yet another nice thing about factored matrices is that you can evaluate small submatrices without having to compute the entire matrix. This is based on the fact that the `[i, j]`-th element of matrix `AB` is `A[i, :] @ B[:, j]`.\n",
        "</details>"
      ]
    },
    {
      "cell_type": "markdown",
      "metadata": {
        "id": "YCBMIzkdXliz"
      },
      "source": [
        "### Exercise - compute circuit accuracy\n",
        "\n",
        "> ```yaml\n",
        "> Difficulty: 🔴🔴⚪⚪⚪\n",
        "> Importance: 🔵🔵⚪⚪⚪\n",
        ">\n",
        "> You should spend approximately 10-15 minutes on this exercise.\n",
        "> ```\n",
        "\n",
        "When you index a factored matrix, you get back another factored matrix. So rather than explicitly calculating `A[left_indices, :] @ B[:, left_indices]`, we can just write `AB[left_indices, left_indices]`.\n",
        "\n",
        "You should observe a pretty distinct diagonal pattern here, which is a good sign. However, the matrix is pretty noisy so it probably won't be exactly the identity. Instead, we should come up with a summary statistic to capture a rough sense of \"closeness to the identity\".\n",
        "\n",
        "**Accuracy** is a good summary statistic - what fraction of the time is the largest logit on the diagonal? Even if there's lots of noise, you'd probably still expect the largest logit to be on the diagonal a good deal of the time.\n",
        "\n",
        "If you're on a Colab or have a powerful GPU, you should be able to compute the full matrix and perform this test. However, it's better practice to iterate through this matrix when we can, so that we avoid CUDA issues. We've given you a `batch_size` argument in the function below, and you should try to only explicitly calculate matrices of size `batch_size * d_vocab` rather than the massive matrix of `d_vocab * d_vocab`."
      ]
    },
    {
      "cell_type": "code",
      "execution_count": null,
      "metadata": {
        "id": "-jkTHvDiXliz"
      },
      "outputs": [],
      "source": [
        "def top_1_acc(full_OV_circuit: FactoredMatrix, batch_size: int = 1000) -> float:\n",
        "    \"\"\"\n",
        "    Return the fraction of the time that the maximum value is on the circuit diagonal.\n",
        "    \"\"\"\n",
        "    raise NotImplementedError()\n",
        "\n",
        "\n",
        "print(f\"Fraction of time that the best logit is on diagonal: {top_1_acc(full_OV_circuit):.4f}\")"
      ]
    },
    {
      "cell_type": "markdown",
      "metadata": {
        "id": "fQKl4xaeXli0"
      },
      "source": [
        "<details>\n",
        "<summary>Help - I'm not sure whether to take the argmax over rows or columns.</summary>\n",
        "\n",
        "The OV circuit is defined as `W_E @ W_OV @ W_U`. We can see the i-th row `W_E[i] @ W_OV @ W_U` as the vector representing **the logit vector added at any token which attends to the `i`-th token**, via the attention head with OV matrix `W_OV`.\n",
        "\n",
        "So we want to take the argmax over rows (i.e. over `dim=1`), because we're interested in the number of tokens `tok` in the vocabulary such that when `tok` is attended to, it is also the top prediction.\n",
        "\n",
        "</details>\n",
        "\n",
        "<details>\n",
        "<summary>Solution</summary>\n",
        "\n",
        "```python\n",
        "def top_1_acc(full_OV_circuit: FactoredMatrix, batch_size: int = 1000) -> float:\n",
        "    \"\"\"\n",
        "    Return the fraction of the time that the maximum value is on the circuit diagonal.\n",
        "    \"\"\"\n",
        "    total = 0\n",
        "\n",
        "    for indices in t.split(t.arange(full_OV_circuit.shape[0], device=device), batch_size):\n",
        "        AB_slice = full_OV_circuit[indices].AB\n",
        "        total += (t.argmax(AB_slice, dim=1) == indices).float().sum().item()\n",
        "\n",
        "    return total / full_OV_circuit.shape[0]\n",
        "```\n",
        "\n",
        "</details>"
      ]
    },
    {
      "cell_type": "markdown",
      "metadata": {
        "id": "49pYKmxIXli0"
      },
      "source": [
        "This should return about 30.79% - pretty underwhelming. It goes up to 47.73% for top-5, but still not great. What's up with that?"
      ]
    },
    {
      "cell_type": "markdown",
      "metadata": {
        "id": "ooM7hjoEXli0"
      },
      "source": [
        "### Exercise - compute effective circuit\n",
        "\n",
        "> ```yaml\n",
        "> Difficulty: 🔴🔴⚪⚪⚪\n",
        "> Importance: 🔵🔵🔵⚪⚪\n",
        ">\n",
        "> You shouldn't spend more than 5-10 minutes on this exercise.\n",
        "> This exercise should be very short; it only requires 2 lines of code. Understanding it conceptually is more important than the actual coding.\n",
        "> ```"
      ]
    },
    {
      "cell_type": "markdown",
      "metadata": {
        "id": "envvI7vzXli0"
      },
      "source": [
        "Now we return to why we have *two* induction heads. If both have the same attention pattern, the effective OV circuit is actually $W_E(W_V^{1.4}W_O^{1.4}+W_V^{1.10}W_O^{1.10})W_U$, and this is what matters. So let's re-run our analysis on this!\n",
        "\n",
        "<img src=\"https://raw.githubusercontent.com/info-arena/ARENA_img/main/misc/effective_ov_circuit.png\" width=\"650\">"
      ]
    },
    {
      "cell_type": "markdown",
      "metadata": {
        "id": "UnBF3P6LXli0"
      },
      "source": [
        "<details>\n",
        "<summary>Question - why might the model want to split the circuit across two heads?</summary>\n",
        "\n",
        "Because $W_V W_O$ is a rank 64 matrix. The sum of two is a rank 128 matrix. This can be a significantly better approximation to the desired 50K x 50K matrix!\n",
        "</details>"
      ]
    },
    {
      "cell_type": "code",
      "execution_count": null,
      "metadata": {
        "id": "PhQYerVEXli0"
      },
      "outputs": [],
      "source": [
        "# YOUR CODE HERE - compute the effective OV circuit, and run `top_1_acc` on it"
      ]
    },
    {
      "cell_type": "markdown",
      "metadata": {
        "id": "JSC2e3idXli0"
      },
      "source": [
        "<details>\n",
        "<summary>Expected output</summary>\n",
        "\n",
        "You should get an accuracy of 95.6% for top-1 - much better!\n",
        "\n",
        "Note that you can also try top 5 accuracy, which improves your result to 98%.\n",
        "\n",
        "</details>\n",
        "\n",
        "\n",
        "<details><summary>Solution</summary>\n",
        "\n",
        "```python\n",
        "W_O_both = einops.rearrange(model.W_O[1, [4, 10]], \"head d_head d_model -> (head d_head) d_model\")\n",
        "W_V_both = einops.rearrange(model.W_V[1, [4, 10]], \"head d_model d_head -> d_model (head d_head)\")\n",
        "\n",
        "W_OV_eff = W_E @ FactoredMatrix(W_V_both, W_O_both) @ W_U\n",
        "\n",
        "print(f\"Fraction of the time that the best logit is on the diagonal: {top_1_acc(W_OV_eff):.4f}\")\n",
        "```\n",
        "</details>"
      ]
    },
    {
      "cell_type": "markdown",
      "metadata": {
        "id": "0KZ_QGc7Xli0"
      },
      "source": [
        "## [2] QK prev-token circuit\n",
        "\n",
        "The other easy circuit is the QK-circuit of L0H7 - how does it know to be a previous token circuit?\n",
        "\n",
        "We can multiply out the full QK circuit via the positional embeddings:\n",
        "\n",
        "$$\n",
        "W_\\text{pos} W_Q^{0.7} (W_K^{0.7})^T W_\\text{pos}^T\n",
        "$$\n",
        "\n",
        "to get a matrix `pos_by_pos` of shape `[max_ctx, max_ctx]` (max ctx = max context length, i.e. maximum length of a sequence we're allowing, which is set by our choice of dimensions in $W_\\text{pos}$).\n",
        "\n",
        "Note that in this case, our max context window is 2048 (we can check this via `model.cfg.n_ctx`). This is much smaller than the 50k-size matrices we were working with in the previous section, so we shouldn't need to use the factored matrix class here."
      ]
    },
    {
      "cell_type": "markdown",
      "metadata": {
        "id": "yfLXaIiPXli1"
      },
      "source": [
        "### Exercise - interpret full QK-circuit for `0.7`\n",
        "\n",
        "> ```yaml\n",
        "> Difficulty: 🔴🔴🔴⚪⚪\n",
        "> Importance: 🔵🔵🔵⚪⚪\n",
        ">\n",
        "> You shouldn't spend more than 10-15 minutes on this exercise.\n",
        "> ```\n",
        "\n",
        "The code below plots the full QK circuit for head `0.7` (including a scaling and softmax step, which is meant to mirror how the QK bilinear form will be used in actual attention layers). You should run the code, and interpret the results in the context of the induction circuit."
      ]
    },
    {
      "cell_type": "code",
      "execution_count": null,
      "metadata": {
        "id": "XfVtVJ10Xli1"
      },
      "outputs": [],
      "source": [
        "layer = 0\n",
        "head_index = 7\n",
        "\n",
        "# Compute full QK matrix (for positional embeddings)\n",
        "W_pos = model.W_pos\n",
        "W_QK = model.W_Q[layer, head_index] @ model.W_K[layer, head_index].T\n",
        "pos_by_pos_scores = W_pos @ W_QK @ W_pos.T\n",
        "\n",
        "# Mask, scale and softmax the scores\n",
        "mask = t.tril(t.ones_like(pos_by_pos_scores)).bool()\n",
        "pos_by_pos_pattern = t.where(mask, pos_by_pos_scores / model.cfg.d_head**0.5, -1.0e6).softmax(-1)\n",
        "\n",
        "# Plot the results\n",
        "print(f\"Avg lower-diagonal value: {pos_by_pos_pattern.diag(-1).mean():.4f}\")\n",
        "imshow(\n",
        "    utils.to_numpy(pos_by_pos_pattern[:200, :200]),\n",
        "    labels={\"x\": \"Key\", \"y\": \"Query\"},\n",
        "    title=\"Attention patterns for prev-token QK circuit, first 100 indices\",\n",
        "    width=700,\n",
        "    height=600,\n",
        ")"
      ]
    },
    {
      "cell_type": "markdown",
      "metadata": {
        "id": "bXfTINUlXli1"
      },
      "source": [
        "## [3] K-composition circuit\n",
        "\n",
        "We now dig into the hard part of the circuit - demonstrating the K-Composition between the previous token head and the induction head.\n",
        "\n",
        "#### Splitting activations\n",
        "\n",
        "We can repeat the trick from the logit attribution scores. The QK-input for layer 1 is the sum of 14 terms (2+n_heads) - the token embedding, the positional embedding, and the results of each layer 0 head. So for each head $\\text{H}$ in layer 1, the query tensor (ditto key) corresponding to sequence position $i$ is:\n",
        "\n",
        "$$\n",
        "\\begin{align*}\n",
        "x W^\\text{1.H}_Q &= (e + pe + \\sum_{h=0}^{11} x^\\text{0.h}) W^\\text{1.H}_Q \\\\\n",
        "&= e W^\\text{1.H}_Q + pe W^\\text{1.H}_Q + \\sum_{h=0}^{11} x^\\text{0.h} W^\\text{1.H}_Q\n",
        "\\end{align*}\n",
        "$$\n",
        "\n",
        "where $e$ stands for the token embedding, $pe$ for the positional embedding, and $x^\\text{0.h}$ for the output of head $h$ in layer 0 (and the sum of these tensors equals the residual stream $x$). All these tensors have shape `[seq, d_model]`. So we can treat the expression above as a sum of matrix multiplications `[seq, d_model] @ [d_model, d_head] -> [seq, d_head]`.\n",
        "\n",
        "For ease of notation, I'll refer to the 14 inputs as $(y_0, y_1, ..., y_{13})$ rather than $(e, pe, x^\\text{0.h}, ..., x^{h.11})$. So we have:\n",
        "\n",
        "$$\n",
        "x W^h_Q = \\sum_{i=0}^{13} y_i W^h_Q\n",
        "$$\n",
        "\n",
        "with each $y_i$ having shape `[seq, d_model]`, and the sum of $y_i$s being the full residual stream $x$. Here is a diagram to illustrate:\n",
        "\n",
        "<img src=\"https://raw.githubusercontent.com/info-arena/ARENA_img/main/misc/components.png\" width=\"520\">"
      ]
    },
    {
      "cell_type": "markdown",
      "metadata": {
        "id": "dmtLjxvPXli1"
      },
      "source": [
        "### Exercise - analyse the relative importance\n",
        "\n",
        "> ```yaml\n",
        "> Difficulty: 🔴🔴🔴🔴⚪\n",
        "> Importance: 🔵🔵🔵🔵⚪\n",
        ">\n",
        "> You shouldn't spend more than 15-25 minutes on these exercises.\n",
        "> Most of these functions just involve indexing and einsums, but conceptual understanding / figuring out exactly what the question is asking for is the hard part!\n",
        "> ```\n",
        "\n",
        "We can now analyse the relative importance of these 14 terms! A very crude measure is to take the norm of each term (by component and position).\n",
        "\n",
        "Note that this is a pretty dodgy metric - q and k are not inherently interpretable! But it can be a good and easy-to-compute proxy.\n",
        "\n",
        "<details>\n",
        "<summary>Question - why are Q and K not inherently interpretable? Why might the norm be a good metric in spite of this?</summary>\n",
        "\n",
        "They are not inherently interpretable because they operate on the residual stream, which doesn't have a **privileged basis**. You could stick a rotation matrix $R$ after all of the $Q$, $K$ and $V$ weights (and stick a rotation matrix before everything that writes to the residual stream), and the model would still behave exactly the same.\n",
        "\n",
        "The reason taking the norm is still a reasonable thing to do is that, despite the individual elements of these vectors not being inherently interpretable, it's still a safe bet that if they are larger than they will have a greater overall effect on the residual stream. So looking at the norm doesn't tell us how they work, but it does indicate which ones are more important.\n",
        "</details>\n",
        "\n",
        "Fill in the functions below:"
      ]
    },
    {
      "cell_type": "code",
      "execution_count": null,
      "metadata": {
        "id": "FC8X4sxXXli1"
      },
      "outputs": [],
      "source": [
        "def decompose_qk_input(cache: ActivationCache) -> Float[Tensor, \"n_heads+2 posn d_model\"]:\n",
        "    \"\"\"\n",
        "    Retrieves all the input tensors to the first attention layer, and concatenates them along the\n",
        "    0th dim.\n",
        "\n",
        "    The [i, :, :]th element is y_i (from notation above). The sum of these tensors along the 0th\n",
        "    dim should be the input to the first attention layer.\n",
        "    \"\"\"\n",
        "    raise NotImplementedError()\n",
        "\n",
        "\n",
        "def decompose_q(\n",
        "    decomposed_qk_input: Float[Tensor, \"n_heads+2 posn d_model\"],\n",
        "    ind_head_index: int,\n",
        "    model: HookedTransformer,\n",
        ") -> Float[Tensor, \"n_heads+2 posn d_head\"]:\n",
        "    \"\"\"\n",
        "    Computes the tensor of query vectors for each decomposed QK input.\n",
        "\n",
        "    The [i, :, :]th element is y_i @ W_Q (so the sum along axis 0 is just the q-values).\n",
        "    \"\"\"\n",
        "    raise NotImplementedError()\n",
        "\n",
        "\n",
        "def decompose_k(\n",
        "    decomposed_qk_input: Float[Tensor, \"n_heads+2 posn d_model\"],\n",
        "    ind_head_index: int,\n",
        "    model: HookedTransformer,\n",
        ") -> Float[Tensor, \"n_heads+2 posn d_head\"]:\n",
        "    \"\"\"\n",
        "    Computes the tensor of key vectors for each decomposed QK input.\n",
        "\n",
        "    The [i, :, :]th element is y_i @ W_K(so the sum along axis 0 is just the k-values)\n",
        "    \"\"\"\n",
        "    raise NotImplementedError()\n",
        "\n",
        "\n",
        "# Recompute rep tokens/logits/cache, if we haven't already\n",
        "seq_len = 50\n",
        "batch_size = 1\n",
        "(rep_tokens, rep_logits, rep_cache) = run_and_cache_model_repeated_tokens(\n",
        "    model, seq_len, batch_size\n",
        ")\n",
        "rep_cache.remove_batch_dim()\n",
        "\n",
        "ind_head_index = 4\n",
        "\n",
        "# First we get decomposed q and k input, and check they're what we expect\n",
        "decomposed_qk_input = decompose_qk_input(rep_cache)\n",
        "decomposed_q = decompose_q(decomposed_qk_input, ind_head_index, model)\n",
        "decomposed_k = decompose_k(decomposed_qk_input, ind_head_index, model)\n",
        "t.testing.assert_close(\n",
        "    decomposed_qk_input.sum(0),\n",
        "    rep_cache[\"resid_pre\", 1] + rep_cache[\"pos_embed\"],\n",
        "    rtol=0.01,\n",
        "    atol=1e-05,\n",
        ")\n",
        "t.testing.assert_close(\n",
        "    decomposed_q.sum(0), rep_cache[\"q\", 1][:, ind_head_index], rtol=0.01, atol=0.001\n",
        ")\n",
        "t.testing.assert_close(\n",
        "    decomposed_k.sum(0), rep_cache[\"k\", 1][:, ind_head_index], rtol=0.01, atol=0.01\n",
        ")\n",
        "\n",
        "# Second, we plot our results\n",
        "component_labels = [\"Embed\", \"PosEmbed\"] + [f\"0.{h}\" for h in range(model.cfg.n_heads)]\n",
        "for decomposed_input, name in [(decomposed_q, \"query\"), (decomposed_k, \"key\")]:\n",
        "    imshow(\n",
        "        utils.to_numpy(decomposed_input.pow(2).sum([-1])),\n",
        "        labels={\"x\": \"Position\", \"y\": \"Component\"},\n",
        "        title=f\"Norms of components of {name}\",\n",
        "        y=component_labels,\n",
        "        width=800,\n",
        "        height=400,\n",
        "    )"
      ]
    },
    {
      "cell_type": "markdown",
      "metadata": {
        "id": "c-KEnQuMXli1"
      },
      "source": [
        "<details>\n",
        "<summary>What you should see</summary>\n",
        "\n",
        "\n",
        "You should see that the most important query components are the token and positional embeddings. The most important key components are those from $y_9$, which is $x_7$, i.e. from head `0.7`.\n",
        "\n",
        "</details>\n",
        "\n",
        "<details>\n",
        "<summary>A technical note on the positional embeddings - optional, feel free to skip this.</summary>\n",
        "\n",
        "You might be wondering why the tests compare the decomposed qk sum with the sum of the `resid_pre + pos_embed`, rather than just `resid_pre`. The answer lies in how we defined the transformer, specifically in this line from the config:\n",
        "\n",
        "```python\n",
        "positional_embedding_type=\"shortformer\"\n",
        "```\n",
        "\n",
        "The result of this is that the positional embedding isn't added to the residual stream. Instead, it's added as inputs to the Q and K calculation (i.e. we calculate `(resid_pre + pos_embed) @ W_Q` and same for `W_K`), but **not** as inputs to the V calculation (i.e. we just calculate `resid_pre @ W_V`). This isn't actually how attention works in general, but for our purposes it makes the analysis of induction heads cleaner because we don't have positional embeddings interfering with the OV circuit.\n",
        "\n",
        "**Question - this type of embedding actually makes it impossible for attention heads to form via Q-composition. Can you see why?**\n",
        "\n",
        "</details>\n",
        "\n",
        "\n",
        "<details><summary>Solution</summary>\n",
        "\n",
        "```python\n",
        "def decompose_qk_input(cache: ActivationCache) -> Float[Tensor, \"n_heads+2 posn d_model\"]:\n",
        "    \"\"\"\n",
        "    Retrieves all the input tensors to the first attention layer, and concatenates them along the\n",
        "    0th dim.\n",
        "\n",
        "    The [i, :, :]th element is y_i (from notation above). The sum of these tensors along the 0th\n",
        "    dim should be the input to the first attention layer.\n",
        "    \"\"\"\n",
        "    y0 = cache[\"embed\"].unsqueeze(0)  # shape (1, seq, d_model)\n",
        "    y1 = cache[\"pos_embed\"].unsqueeze(0)  # shape (1, seq, d_model)\n",
        "    y_rest = cache[\"result\", 0].transpose(0, 1)  # shape (12, seq, d_model)\n",
        "\n",
        "    return t.concat([y0, y1, y_rest], dim=0)\n",
        "\n",
        "\n",
        "def decompose_q(\n",
        "    decomposed_qk_input: Float[Tensor, \"n_heads+2 posn d_model\"],\n",
        "    ind_head_index: int,\n",
        "    model: HookedTransformer,\n",
        ") -> Float[Tensor, \"n_heads+2 posn d_head\"]:\n",
        "    \"\"\"\n",
        "    Computes the tensor of query vectors for each decomposed QK input.\n",
        "\n",
        "    The [i, :, :]th element is y_i @ W_Q (so the sum along axis 0 is just the q-values).\n",
        "    \"\"\"\n",
        "    W_Q = model.W_Q[1, ind_head_index]\n",
        "\n",
        "    return einops.einsum(decomposed_qk_input, W_Q, \"n seq d_model, d_model d_head -> n seq d_head\")\n",
        "\n",
        "\n",
        "def decompose_k(\n",
        "    decomposed_qk_input: Float[Tensor, \"n_heads+2 posn d_model\"],\n",
        "    ind_head_index: int,\n",
        "    model: HookedTransformer,\n",
        ") -> Float[Tensor, \"n_heads+2 posn d_head\"]:\n",
        "    \"\"\"\n",
        "    Computes the tensor of key vectors for each decomposed QK input.\n",
        "\n",
        "    The [i, :, :]th element is y_i @ W_K(so the sum along axis 0 is just the k-values)\n",
        "    \"\"\"\n",
        "    W_K = model.W_K[1, ind_head_index]\n",
        "\n",
        "    return einops.einsum(decomposed_qk_input, W_K, \"n seq d_model, d_model d_head -> n seq d_head\")\n",
        "\n",
        "\n",
        "# Recompute rep tokens/logits/cache, if we haven't already\n",
        "seq_len = 50\n",
        "batch_size = 1\n",
        "(rep_tokens, rep_logits, rep_cache) = run_and_cache_model_repeated_tokens(\n",
        "    model, seq_len, batch_size\n",
        ")\n",
        "rep_cache.remove_batch_dim()\n",
        "\n",
        "ind_head_index = 4\n",
        "\n",
        "# First we get decomposed q and k input, and check they're what we expect\n",
        "decomposed_qk_input = decompose_qk_input(rep_cache)\n",
        "decomposed_q = decompose_q(decomposed_qk_input, ind_head_index, model)\n",
        "decomposed_k = decompose_k(decomposed_qk_input, ind_head_index, model)\n",
        "t.testing.assert_close(\n",
        "    decomposed_qk_input.sum(0),\n",
        "    rep_cache[\"resid_pre\", 1] + rep_cache[\"pos_embed\"],\n",
        "    rtol=0.01,\n",
        "    atol=1e-05,\n",
        ")\n",
        "t.testing.assert_close(\n",
        "    decomposed_q.sum(0), rep_cache[\"q\", 1][:, ind_head_index], rtol=0.01, atol=0.001\n",
        ")\n",
        "t.testing.assert_close(\n",
        "    decomposed_k.sum(0), rep_cache[\"k\", 1][:, ind_head_index], rtol=0.01, atol=0.01\n",
        ")\n",
        "\n",
        "# Second, we plot our results\n",
        "component_labels = [\"Embed\", \"PosEmbed\"] + [f\"0.{h}\" for h in range(model.cfg.n_heads)]\n",
        "for decomposed_input, name in [(decomposed_q, \"query\"), (decomposed_k, \"key\")]:\n",
        "    imshow(\n",
        "        utils.to_numpy(decomposed_input.pow(2).sum([-1])),\n",
        "        labels={\"x\": \"Position\", \"y\": \"Component\"},\n",
        "        title=f\"Norms of components of {name}\",\n",
        "        y=component_labels,\n",
        "        width=800,\n",
        "        height=400,\n",
        "    )\n",
        "```\n",
        "</details>"
      ]
    },
    {
      "cell_type": "markdown",
      "metadata": {
        "id": "1dgzp4spXli1"
      },
      "source": [
        "This tells us which heads are probably important, but we can do better than that. Rather than looking at the query and key components separately, we can see how they combine together - i.e. take the decomposed attention scores.\n",
        "\n",
        "This is a bilinear function of q and k, and so we will end up with a `decomposed_scores` tensor with shape `[query_component, key_component, query_pos, key_pos]`, where summing along BOTH of the first axes will give us the original attention scores (pre-mask)."
      ]
    },
    {
      "cell_type": "markdown",
      "metadata": {
        "id": "oylQH7aJXli2"
      },
      "source": [
        "### Exercise - decompose attention scores\n",
        "\n",
        "> ```yaml\n",
        "> Difficulty: 🔴🔴⚪⚪⚪\n",
        "> Importance: 🔵🔵🔵🔵⚪\n",
        ">\n",
        "> You shouldn't spend more than 5-10 minutes on this exercise.\n",
        "> Having already done the previous exercises, this one should be easier.\n",
        "> ```\n",
        "\n",
        "Implement the function giving the decomposed scores (remember to scale by `sqrt(d_head)`!) For now, don't mask it.\n",
        "\n",
        "<details>\n",
        "<summary>Question - why do I focus on the attention scores, not the attention pattern? (i.e. pre softmax not post softmax)</summary>\n",
        "\n",
        "Because the decomposition trick *only* works for things that are linear - softmax isn't linear and so we can no longer consider each component independently.\n",
        "</details>\n",
        "\n",
        "<details>\n",
        "<summary>Help - I'm confused about what we're doing / why we're doing it.</summary>\n",
        "\n",
        "Remember that each of our components writes to the residual stream separately. So after layer 0, we have:\n",
        "\n",
        "<img src=\"https://raw.githubusercontent.com/info-arena/ARENA_img/main/misc/components.png\" width=\"650\">\n",
        "\n",
        "We're particularly interested in the attention scores computed in head `1.4`, and how they depend on the inputs into that head. We've already decomposed the residual stream value $x$ into its terms $e$, $pe$, and $x^ 0$ through $x^{11}$ (which we've labelled $y_0, ..., y_{13}$ for simplicity), and we've done the same for key and query terms. We can picture these terms being passed into head `1.4` as:\n",
        "\n",
        "<img src=\"https://raw.githubusercontent.com/info-arena/ARENA_img/main/misc/components-2.png\" width=\"650\">\n",
        "\n",
        "So when we expand `attn_scores` out in full, they are a sum of $14^2 = 196$ terms - one for each combination of `(query_component, key_component)`.\n",
        "\n",
        "---\n",
        "\n",
        "#### Why is this decomposition useful?\n",
        "\n",
        "We have a theory about a particular circuit in our model. We think that head `1.4` is an induction head, and the most important components that feed into this head are the prev token head `0.7` (as key) and the token embedding (as query). This is already supported by the evidence of our magnitude plots above (because we saw that `0.7` as key and token embeddings as query were large), but we still don't know how this particular key and query work **together**; we've only looked at them separately.\n",
        "\n",
        "By decomposing `attn_scores` like this, we can check whether the contribution from combination `(query=tok_emb, key=0.7)` is indeed producing the characteristic induction head pattern which we've observed (and the other 195 terms don't really matter).\n",
        "</details>"
      ]
    },
    {
      "cell_type": "code",
      "execution_count": null,
      "metadata": {
        "id": "Glifzl4AXli2"
      },
      "outputs": [],
      "source": [
        "def decompose_attn_scores(\n",
        "    decomposed_q: Float[Tensor, \"q_comp q_pos d_head\"],\n",
        "    decomposed_k: Float[Tensor, \"k_comp k_pos d_head\"],\n",
        "    model: HookedTransformer,\n",
        ") -> Float[Tensor, \"q_comp k_comp q_pos k_pos\"]:\n",
        "    \"\"\"\n",
        "    Output is decomposed_scores with shape [query_component, key_component, query_pos, key_pos]\n",
        "\n",
        "    The [i, j, 0, 0]th element is y_i @ W_QK @ y_j^T (so the sum along both first axes are the\n",
        "    attention scores)\n",
        "    \"\"\"\n",
        "    raise NotImplementedError()\n",
        "\n",
        "\n",
        "tests.test_decompose_attn_scores(decompose_attn_scores, decomposed_q, decomposed_k, model)"
      ]
    },
    {
      "cell_type": "markdown",
      "metadata": {
        "id": "r7s98QvSXli2"
      },
      "source": [
        "<details><summary>Solution</summary>\n",
        "\n",
        "```python\n",
        "def decompose_attn_scores(\n",
        "    decomposed_q: Float[Tensor, \"q_comp q_pos d_head\"],\n",
        "    decomposed_k: Float[Tensor, \"k_comp k_pos d_head\"],\n",
        "    model: HookedTransformer,\n",
        ") -> Float[Tensor, \"q_comp k_comp q_pos k_pos\"]:\n",
        "    \"\"\"\n",
        "    Output is decomposed_scores with shape [query_component, key_component, query_pos, key_pos]\n",
        "\n",
        "    The [i, j, 0, 0]th element is y_i @ W_QK @ y_j^T (so the sum along both first axes are the\n",
        "    attention scores)\n",
        "    \"\"\"\n",
        "    return einops.einsum(\n",
        "        decomposed_q,\n",
        "        decomposed_k,\n",
        "        \"q_comp q_pos d_head, k_comp k_pos d_head -> q_comp k_comp q_pos k_pos\",\n",
        "    ) / (model.cfg.d_head**0.5)\n",
        "```\n",
        "</details>"
      ]
    },
    {
      "cell_type": "markdown",
      "metadata": {
        "id": "GCJNhpIgXli2"
      },
      "source": [
        "Once these tests have passed, you can plot the results:"
      ]
    },
    {
      "cell_type": "code",
      "execution_count": null,
      "metadata": {
        "id": "SLJd0p2UXli2"
      },
      "outputs": [],
      "source": [
        "# First plot: attention score contribution from (query_component, key_component) = (Embed, L0H7), you can replace this\n",
        "# with any other pair and see that the values are generally much smaller, i.e. this pair dominates the attention score\n",
        "# calculation\n",
        "decomposed_scores = decompose_attn_scores(decomposed_q, decomposed_k, model)\n",
        "\n",
        "q_label = \"Embed\"\n",
        "k_label = \"0.7\"\n",
        "decomposed_scores_from_pair = decomposed_scores[\n",
        "    component_labels.index(q_label), component_labels.index(k_label)\n",
        "]\n",
        "\n",
        "imshow(\n",
        "    utils.to_numpy(t.tril(decomposed_scores_from_pair)),\n",
        "    title=f\"Attention score contributions from query = {q_label}, key = {k_label}<br>(by query & key sequence positions)\",\n",
        "    width=700,\n",
        ")\n",
        "\n",
        "\n",
        "# Second plot: std dev over query and key positions, shown by component. This shows us that the other pairs of\n",
        "# (query_component, key_component) are much less important, without us having to look at each one individually like we\n",
        "# did in the first plot!\n",
        "decomposed_stds = einops.reduce(\n",
        "    decomposed_scores, \"query_decomp key_decomp query_pos key_pos -> query_decomp key_decomp\", t.std\n",
        ")\n",
        "imshow(\n",
        "    utils.to_numpy(decomposed_stds),\n",
        "    labels={\"x\": \"Key Component\", \"y\": \"Query Component\"},\n",
        "    title=\"Std dev of attn score contributions across sequence positions<br>(by query & key comp)\",\n",
        "    x=component_labels,\n",
        "    y=component_labels,\n",
        "    width=700,\n",
        ")"
      ]
    },
    {
      "cell_type": "markdown",
      "metadata": {
        "id": "KP7PBngTXli2"
      },
      "source": [
        "<details>\n",
        "<summary>Help - I don't understand the interpretation of these plots.</summary>\n",
        "\n",
        "The first plot tells you that the term $e W_{QK}^{1.4} (x^{0.7})^T$ (i.e. the component of the attention scores for head `1.4` where the query is supplied by the token embeddings and the key is supplied by the output of head `0.7`) produces the distinctive attention pattern we see in the induction head: a strong diagonal stripe.\n",
        "\n",
        "Although this tells us that this this component would probably be sufficient to implement the induction mechanism, it doesn't tell us the whole story. Ideally, we'd like to show that the other 195 terms are unimportant. Taking the standard deviation across the attention scores for a particular pair of components is a decent proxy for how important this term is in the overall attention pattern. The second plot shows us that the standard deviation is very small for all the other components, so we can be confident that the other components are unimportant.\n",
        "\n",
        "To summarise:\n",
        "\n",
        "* The first plot tells us that the pair `(q_component=tok_emb, k_component=0.7)` produces the characteristic induction-head pattern we see in attention head `1.4`.\n",
        "* The second plot confirms that this pair is the only important one for influencing the attention pattern in `1.4`; all other pairs have very small contributions.\n",
        "</details>\n",
        "\n",
        "Note that plots like the ones above are often the most concise way of presenting a summary of the important information, and understanding what to plot is a valuable skill in any model internals-based work. However, if you want to see the \"full plot\" which the two plots above are both simplifications of in some sense, you can run the code below, which gives you the matrix of every single pair of components' contribution to the attention scores. So the first plot above is just a slice of the full plot below, and the second plot above is just the plot below after reducing over each slice with the standard deviation operation.\n",
        "\n",
        "(Note - the plot you'll generate below is pretty big, so you'll want to clear it after you're done with it. If your machine is still working slowly when rendering it, you can use `fig.show(config={\"staticPlot\": True})` to display a non-interactive version of it.)"
      ]
    },
    {
      "cell_type": "code",
      "execution_count": null,
      "metadata": {
        "id": "sUXZTeLKXli2"
      },
      "outputs": [],
      "source": [
        "decomposed_scores_centered = t.tril(\n",
        "    decomposed_scores - decomposed_scores.mean(dim=-1, keepdim=True)\n",
        ")\n",
        "\n",
        "decomposed_scores_reshaped = einops.rearrange(\n",
        "    decomposed_scores_centered,\n",
        "    \"q_comp k_comp q_token k_token -> (q_comp q_token) (k_comp k_token)\",\n",
        ")\n",
        "\n",
        "fig = imshow(\n",
        "    decomposed_scores_reshaped,\n",
        "    title=\"Attention score contributions from all pairs of (key, query) components\",\n",
        "    width=1200,\n",
        "    height=1200,\n",
        "    return_fig=True,\n",
        ")\n",
        "full_seq_len = seq_len * 2 + 1\n",
        "for i in range(0, full_seq_len * len(component_labels), full_seq_len):\n",
        "    fig.add_hline(y=i, line_color=\"black\", line_width=1)\n",
        "    fig.add_vline(x=i, line_color=\"black\", line_width=1)\n",
        "\n",
        "fig.show(config={\"staticPlot\": True})"
      ]
    },
    {
      "cell_type": "markdown",
      "metadata": {
        "id": "ffWZ8iplXli2"
      },
      "source": [
        "### Interpreting the full circuit\n",
        "\n",
        "Now we know that head `1.4` is composing with head `0.7` via K composition, we can multiply through to create a full circuit:\n",
        "\n",
        "$$\n",
        "W_E\\, W_{QK}^{1.4}\\, (W_{OV}^{0.7})^T\\, W_E^T\n",
        "$$\n",
        "\n",
        "and verify that it's the identity. (Note, when we say identity here, we're again thinking about it as a distribution over logits, so this should be taken to mean \"high diagonal values\", and we'll be using our previous metric of `top_1_acc`.)\n",
        "\n",
        "#### Question - why should this be the identity?\n",
        "\n",
        "<details>\n",
        "<summary>Answer</summary>\n",
        "\n",
        "This matrix is a bilinear form. Its diagonal elements $(A, A)$ are:\n",
        "\n",
        "$$\n",
        "A^T \\, W_E\\, W_{QK}^{1.4}\\, W_{OV}^{0.7}\\, W_E^T \\, A = \\underbrace{(A^T W_E W_Q^{1.4})}_{\\text{query}} \\underbrace{(A^T W_E W_{OV}^{0.7} W_K^{1.4})^T}_{\\text{key}}\n",
        "$$\n",
        "\n",
        "Intuitively, the query is saying **\"I'm looking for a token which followed $A$\"**, and the key is saying **\"I *am* a token which folllowed $A$\"** (recall that $A^T W_E W_{OV}^{0.7}$ is the vector which gets moved one position forward by our prev token head `0.7`).\n",
        "\n",
        "Now, consider the off-diagonal elements $(A, X)$ (for $X \\neq A$). We expect these to be small, because the key doesn't match the query:\n",
        "\n",
        "$$\n",
        "A^T \\, W_E\\, W_{QK}^{1.4}\\, W_{OV}^{0.7}\\, W_E^T \\, X = \\underbrace{(\\text{I'm looking for a token which followed A})}_\\text{query} \\boldsymbol{\\cdot} \\underbrace{(\\text{I am a token which followed X})}_{\\text{key}}\n",
        "$$\n",
        "\n",
        "\n",
        "Hence, we expect this to be the identity.\n",
        "\n",
        "An illustration:\n",
        "\n",
        "<img src=\"https://raw.githubusercontent.com/info-arena/ARENA_img/main/misc/kcomp_diagram_described-K-last.png\" width=\"700\">\n",
        "\n",
        "<!-- ![kcomp_diagram_described-K.png](https://raw.githubusercontent.com/info-arena/ARENA_img/main/misc/kcomp_diagram_described-K.png) -->\n",
        "</details>"
      ]
    },
    {
      "cell_type": "markdown",
      "metadata": {
        "id": "zDlDUOkRXli3"
      },
      "source": [
        "### Exercise - compute the K-comp circuit\n",
        "\n",
        "> ```yaml\n",
        "> Difficulty: 🔴🔴🔴⚪⚪\n",
        "> Importance: 🔵🔵🔵🔵⚪\n",
        ">\n",
        "> You shouldn't spend more than 10-20 minutes on this exercise.\n",
        "> ```\n",
        "\n",
        "Calculate the matrix above, as a `FactoredMatrix` object.\n",
        "\n",
        "<details>\n",
        "<summary>Aside about multiplying FactoredMatrix objects together.</summary>\n",
        "\n",
        "If  `M1 = A1 @ B1` and `M2 = A2 @ B2` are factored matrices, then `M = M1 @ M2` returns a new factored matrix. This might be:\n",
        "\n",
        "```python\n",
        "FactoredMatrix(M1.AB @ M2.A, M2.B)\n",
        "```\n",
        "\n",
        "or it might be:\n",
        "\n",
        "```python\n",
        "FactoredMatrix(M1.A, M1.B @ M2.AB)\n",
        "```\n",
        "\n",
        "with these two objects corresponding to the factorisations $M = (A_1 B_1 A_2) (B_2)$ and $M = (A_1) (B_1 A_2 B_2)$ respectively.\n",
        "\n",
        "Which one gets returned depends on the size of the hidden dimension, e.g. `M1.mdim < M2.mdim` then the factorisation used will be $M = A_1 B_1 (A_2 B_2)$.\n",
        "\n",
        "Remember that both these factorisations are valid, and will give you the exact same SVD. The only reason to prefer one over the other is for computational efficiency (we prefer a smaller bottleneck dimension, because this determines the computational complexity of operations like finding SVD).\n",
        "</details>"
      ]
    },
    {
      "cell_type": "code",
      "execution_count": null,
      "metadata": {
        "id": "aKjjc4B3Xli3"
      },
      "outputs": [],
      "source": [
        "def find_K_comp_full_circuit(\n",
        "    model: HookedTransformer, prev_token_head_index: int, ind_head_index: int\n",
        ") -> FactoredMatrix:\n",
        "    \"\"\"\n",
        "    Returns a (vocab, vocab)-size FactoredMatrix, with the first dimension being the query side\n",
        "    (direct from token embeddings) and the second dimension being the key side (going via the\n",
        "    previous token head).\n",
        "    \"\"\"\n",
        "    raise NotImplementedError()\n",
        "\n",
        "\n",
        "prev_token_head_index = 7\n",
        "ind_head_index = 4\n",
        "K_comp_circuit = find_K_comp_full_circuit(model, prev_token_head_index, ind_head_index)\n",
        "\n",
        "tests.test_find_K_comp_full_circuit(find_K_comp_full_circuit, model)\n",
        "\n",
        "print(f\"Token frac where max-activating key = same token: {top_1_acc(K_comp_circuit.T):.4f}\")"
      ]
    },
    {
      "cell_type": "markdown",
      "metadata": {
        "id": "y6M8KYXOXli3"
      },
      "source": [
        "<details><summary>Solution</summary>\n",
        "\n",
        "```python\n",
        "def find_K_comp_full_circuit(\n",
        "    model: HookedTransformer, prev_token_head_index: int, ind_head_index: int\n",
        ") -> FactoredMatrix:\n",
        "    \"\"\"\n",
        "    Returns a (vocab, vocab)-size FactoredMatrix, with the first dimension being the query side\n",
        "    (direct from token embeddings) and the second dimension being the key side (going via the\n",
        "    previous token head).\n",
        "    \"\"\"\n",
        "    W_E = model.W_E\n",
        "    W_Q = model.W_Q[1, ind_head_index]\n",
        "    W_K = model.W_K[1, ind_head_index]\n",
        "    W_O = model.W_O[0, prev_token_head_index]\n",
        "    W_V = model.W_V[0, prev_token_head_index]\n",
        "\n",
        "    Q = W_E @ W_Q\n",
        "    K = W_E @ W_V @ W_O @ W_K\n",
        "    return FactoredMatrix(Q, K.T)\n",
        "```\n",
        "</details>"
      ]
    },
    {
      "cell_type": "markdown",
      "metadata": {
        "id": "leUEDSuEXli3"
      },
      "source": [
        "You can also try this out for our other induction head `ind_head_index=10`, which should also return a relatively high result. Is it higher than for head `1.4` ?\n",
        "\n",
        "<details>\n",
        "<summary>Note - unlike last time, it doesn't make sense to consider the \"effective circuit\" formed by adding together the weight matrices for heads <code>1.4</code> and <code>1.10</code>. Can you see why?</summary>\n",
        "\n",
        "Because the weight matrices we're dealing with here are from the QK circuit, not the OV circuit. These don't get combined in a linear way; instead we take softmax over each head's QK-circuit output individually.\n",
        "</details>\n",
        "\n",
        "## Further Exploration of Induction Circuits\n",
        "\n",
        "I now consider us to have fully reverse engineered an induction circuit - by both interpreting the features and by reverse engineering the circuit from the weights. But there's a bunch more ideas that we can apply for finding circuits in networks that are fun to practice on induction heads, so here's some bonus content - feel free to skip to the later bonus ideas though.\n",
        "\n",
        "### Composition scores\n",
        "\n",
        "A particularly cool idea in the paper is the idea of [virtual weights](https://transformer-circuits.pub/2021/framework/index.html#residual-comms), or compositional scores. (Though I came up with it, so I'm deeply biased!). This is used [to identify induction heads](https://transformer-circuits.pub/2021/framework/index.html#analyzing-a-two-layer-model).\n",
        "\n",
        "The key idea of compositional scores is that the residual stream is a large space, and each head is reading and writing from small subspaces. By default, any two heads will have little overlap between their subspaces (in the same way that any two random vectors have almost zero dot product in a large vector space). But if two heads are deliberately composing, then they will likely want to ensure they write and read from similar subspaces, so that minimal information is lost. As a result, we can just directly look at \"how much overlap there is\" between the output space of the earlier head and the K, Q, or V input space of the later head.\n",
        "\n",
        "We represent the **output space** with $W_{OV}=W_V W_O$. Call matrices like this $W_A$.\n",
        "\n",
        "We represent the **input space** with $W_{QK}=W_Q W_K^T$ (for Q-composition), $W_{QK}^T=W_K  W_Q^T$ (for K-Composition) or $W_{OV}=W_V W_O$ (for V-Composition, of the later head). Call matrices like these $W_B$ (we've used this notation so that $W_B$ refers to a later head, and $W_A$ to an earlier head).\n",
        "\n",
        "<details>\n",
        "<summary>Help - I don't understand what motivates these definitions.</summary>\n",
        "\n",
        "Recall that we can view each head as having three input wires (keys, queries and values), and one output wire (the outputs). The different forms of composition come from the fact that keys, queries and values can all be supplied from the output of a different head.\n",
        "\n",
        "Here is an illustration which shows the three different cases, and should also explain why we use this terminology. You might have to open it in a new tab to see it clearly.\n",
        "\n",
        "![composition](https://raw.githubusercontent.com/info-arena/ARENA_img/main/misc/composition_new.png)\n",
        "\n",
        "</details>\n",
        "\n",
        "How do we formalise overlap? This is basically an open question, but a surprisingly good metric is $\\frac{\\|W_AW_B\\|_F}{\\|W_B\\|_F\\|W_A\\|_F}$ where $\\|W\\|_F=\\sqrt{\\sum_{i,j}W_{i,j}^2}$ is the Frobenius norm, the square root of the sum of squared elements. (If you're dying of curiosity as to what makes this a good metric, you can jump to the section immediately after the exercises below.)"
      ]
    },
    {
      "cell_type": "markdown",
      "metadata": {
        "id": "U9wcx0oIXli3"
      },
      "source": [
        "### Exercise - calculate composition scores\n",
        "\n",
        "> ```yaml\n",
        "> Difficulty: 🔴🔴🔴⚪⚪\n",
        "> Importance: 🔵🔵🔵⚪⚪\n",
        ">\n",
        "> You shouldn't spend more than 15-25 minutes on these exercises.\n",
        "> Writing a composition score function should be fairly easy. The harder part is getting the right weight matrices in the exercises that come after.\n",
        "> ```\n",
        "\n",
        "Let's calculate this metric for all pairs of heads in layer 0 and layer 1 for each of K, Q and V composition and plot it.\n",
        "\n",
        "We'll start by implementing this using plain old tensors (later on we'll see how this can be sped up using the `FactoredMatrix` class). We also won't worry about batching our calculations yet; we'll just do one matrix at a time.\n",
        "\n",
        "We've given you tensors `q_comp_scores` etc. to hold the composition scores for each of Q, K and V composition (i.e. the `[i, j]`th element of `q_comp_scores` is the Q-composition score between the output from the `i`th head in layer 0 and the input to the `j`th head in layer 1). You should complete the function `get_comp_score`, and then fill in each of these tensors."
      ]
    },
    {
      "cell_type": "code",
      "execution_count": null,
      "metadata": {
        "id": "sTeGW5XFXli3"
      },
      "outputs": [],
      "source": [
        "def get_comp_score(W_A: Float[Tensor, \"in_A out_A\"], W_B: Float[Tensor, \"out_A out_B\"]) -> float:\n",
        "    \"\"\"\n",
        "    Return the composition score between W_A and W_B.\n",
        "    \"\"\"\n",
        "    raise NotImplementedError()\n",
        "\n",
        "\n",
        "tests.test_get_comp_score(get_comp_score)"
      ]
    },
    {
      "cell_type": "markdown",
      "metadata": {
        "id": "3K6mh57FXli3"
      },
      "source": [
        "<details><summary>Solution</summary>\n",
        "\n",
        "```python\n",
        "def get_comp_score(W_A: Float[Tensor, \"in_A out_A\"], W_B: Float[Tensor, \"out_A out_B\"]) -> float:\n",
        "    \"\"\"\n",
        "    Return the composition score between W_A and W_B.\n",
        "    \"\"\"\n",
        "    W_A_norm = W_A.pow(2).sum().sqrt()\n",
        "    W_B_norm = W_B.pow(2).sum().sqrt()\n",
        "    W_AB_norm = (W_A @ W_B).pow(2).sum().sqrt()\n",
        "\n",
        "    return (W_AB_norm / (W_A_norm * W_B_norm)).item()\n",
        "```\n",
        "</details>"
      ]
    },
    {
      "cell_type": "markdown",
      "metadata": {
        "id": "JeMP1d4MXli3"
      },
      "source": [
        "Once you've passed the tests, you can fill in all the composition scores. Here you should just use a for loop, iterating over all possible pairs of `W_A` in layer 0 and `W_B` in layer 1, for each type of composition. Later on, we'll look at ways to batch this computation."
      ]
    },
    {
      "cell_type": "code",
      "execution_count": null,
      "metadata": {
        "id": "ZUmWPvRYXli4"
      },
      "outputs": [],
      "source": [
        "# Get all QK and OV matrices\n",
        "W_QK = model.W_Q @ model.W_K.transpose(-1, -2)\n",
        "W_OV = model.W_V @ model.W_O\n",
        "\n",
        "# Define tensors to hold the composition scores\n",
        "composition_scores = {\n",
        "    \"Q\": t.zeros(model.cfg.n_heads, model.cfg.n_heads).to(device),\n",
        "    \"K\": t.zeros(model.cfg.n_heads, model.cfg.n_heads).to(device),\n",
        "    \"V\": t.zeros(model.cfg.n_heads, model.cfg.n_heads).to(device),\n",
        "}\n",
        "\n",
        "# YOUR CODE HERE - fill in values of the `composition_scores` dict, using `get_comp_score`\n",
        "\n",
        "# Plot the composition scores\n",
        "for comp_type in [\"Q\", \"K\", \"V\"]:\n",
        "    plot_comp_scores(model, composition_scores[comp_type], f\"{comp_type} Composition Scores\")"
      ]
    },
    {
      "cell_type": "markdown",
      "metadata": {
        "id": "GqDjWonhXli4"
      },
      "source": [
        "<details><summary>Solution</summary>\n",
        "\n",
        "```python\n",
        "for i in tqdm(range(model.cfg.n_heads)):\n",
        "    for j in range(model.cfg.n_heads):\n",
        "        composition_scores[\"Q\"][i, j] = get_comp_score(W_OV[0, i], W_QK[1, j])\n",
        "        composition_scores[\"K\"][i, j] = get_comp_score(W_OV[0, i], W_QK[1, j].T)\n",
        "        composition_scores[\"V\"][i, j] = get_comp_score(W_OV[0, i], W_OV[1, j])\n",
        "```\n",
        "</details>"
      ]
    },
    {
      "cell_type": "markdown",
      "metadata": {
        "id": "LcPfx9YJXli4"
      },
      "source": [
        "### Exercise - Setting a Baseline\n",
        "\n",
        "> ```yaml\n",
        "> Difficulty: 🔴🔴⚪⚪⚪\n",
        "> Importance: 🔵🔵⚪⚪⚪\n",
        ">\n",
        "> You shouldn't spend more than ~10 minutes on this exercise.\n",
        "> ```\n",
        "\n",
        "To interpret the above graphs we need a baseline! A good one is what the scores look like at initialisation. Make a function that randomly generates a composition score 200 times and tries this. Remember to generate 4 `[d_head, d_model]` matrices, not 2 `[d_model, d_model]` matrices! This model was initialised with **Kaiming Uniform Initialisation**:\n",
        "\n",
        "```python\n",
        "W = t.empty(shape)\n",
        "nn.init.kaiming_uniform_(W, a=np.sqrt(5))\n",
        "```\n",
        "\n",
        "(Ideally we'd do a more efficient generation involving batching, and more samples, but we won't worry about that yet.)"
      ]
    },
    {
      "cell_type": "code",
      "execution_count": null,
      "metadata": {
        "id": "wgHQYhPvXli4"
      },
      "outputs": [],
      "source": [
        "def generate_single_random_comp_score() -> float:\n",
        "    \"\"\"\n",
        "    Write a function which generates a single composition score for random matrices\n",
        "    \"\"\"\n",
        "    raise NotImplementedError()\n",
        "\n",
        "\n",
        "n_samples = 300\n",
        "comp_scores_baseline = np.zeros(n_samples)\n",
        "for i in tqdm(range(n_samples)):\n",
        "    comp_scores_baseline[i] = generate_single_random_comp_score()\n",
        "\n",
        "print(\"\\nMean:\", comp_scores_baseline.mean())\n",
        "print(\"Std:\", comp_scores_baseline.std())\n",
        "\n",
        "hist(\n",
        "    comp_scores_baseline,\n",
        "    nbins=50,\n",
        "    width=800,\n",
        "    labels={\"x\": \"Composition score\"},\n",
        "    title=\"Random composition scores\",\n",
        ")"
      ]
    },
    {
      "cell_type": "markdown",
      "metadata": {
        "id": "bsISkKDmXli4"
      },
      "source": [
        "<details><summary>Solution</summary>\n",
        "\n",
        "```python\n",
        "def generate_single_random_comp_score() -> float:\n",
        "    \"\"\"\n",
        "    Write a function which generates a single composition score for random matrices\n",
        "    \"\"\"\n",
        "    W_A_left = t.empty(model.cfg.d_model, model.cfg.d_head)\n",
        "    W_B_left = t.empty(model.cfg.d_model, model.cfg.d_head)\n",
        "    W_A_right = t.empty(model.cfg.d_model, model.cfg.d_head)\n",
        "    W_B_right = t.empty(model.cfg.d_model, model.cfg.d_head)\n",
        "\n",
        "    for W in [W_A_left, W_B_left, W_A_right, W_B_right]:\n",
        "        nn.init.kaiming_uniform_(W, a=np.sqrt(5))\n",
        "\n",
        "    W_A = W_A_left @ W_A_right.T\n",
        "    W_B = W_B_left @ W_B_right.T\n",
        "\n",
        "    return get_comp_score(W_A, W_B)\n",
        "```\n",
        "</details>"
      ]
    },
    {
      "cell_type": "markdown",
      "metadata": {
        "id": "hNt2QIHrXli4"
      },
      "source": [
        "We can re-plot our above graphs with this baseline set to white. Look for interesting things in this graph!"
      ]
    },
    {
      "cell_type": "code",
      "execution_count": null,
      "metadata": {
        "id": "xzmF-Th4Xli5"
      },
      "outputs": [],
      "source": [
        "baseline = comp_scores_baseline.mean()\n",
        "for comp_type, comp_scores in composition_scores.items():\n",
        "    plot_comp_scores(model, comp_scores, f\"{comp_type} Composition Scores\", baseline=baseline)"
      ]
    },
    {
      "cell_type": "markdown",
      "metadata": {
        "id": "owzoSCZmXli5"
      },
      "source": [
        "<details>\n",
        "<summary>Some interesting things to observe:</summary>\n",
        "\n",
        "The most obvious thing that jumps out (when considered in the context of all the analysis we've done so far) is the K-composition scores. `0.7` (the prev token head) is strongly composing with `1.4` and `1.10` (the two attention heads). This is what we expect, and is a good indication that our composition scores are working as intended.\n",
        "\n",
        "Another interesting thing to note is that the V-composition scores for heads `1.4` and `1.10` with all other heads in layer 0 are very low. In the context of the induction circuit, this is a good thing - the OV circuits of our induction heads should be operating on the **embeddings**, rather than the outputs of the layer-0 heads. (If our repeating sequence is `A B ... A B`, then it's the QK circuit's job to make sure the second `A` attends to the first `B`, and it's the OV circuit's job to project the residual vector at that position onto the **embedding space** in order to extract the `B`-information, while hopefully ignoring anything else that has been written to that position by the heads in layer 0). So once again, this is a good sign for our composition scores.\n",
        "\n",
        "<img src=\"https://raw.githubusercontent.com/info-arena/ARENA_img/main/misc/small_comp_diagram_last.png\" width=\"900\">\n",
        "\n",
        "</details>"
      ]
    },
    {
      "cell_type": "markdown",
      "metadata": {
        "id": "iU8EISVkXli5"
      },
      "source": [
        "#### Theory + Efficient Implementation\n",
        "\n",
        "So, what's up with that metric? The key is a cute linear algebra result that the squared Frobenius norm is equal to the sum of the squared singular values.\n",
        "\n",
        "<details>\n",
        "<summary>Proof</summary>\n",
        "\n",
        "We'll give three different proofs:\n",
        "\n",
        "---\n",
        "\n",
        "##### Short sketch of proof\n",
        "\n",
        "Clearly $\\|M\\|_F^2$ equals the sum of squared singular values when $M$ is diagonal. The singular values of $M$ don't change when we multiply it by an orthogonal matrix (only the matrices $U$ and $V$ will change, not $S$), so it remains to show that the Frobenius norm also won't change when we multiply $M$ by an orthogonal matrix. But this follows from the fact that the Frobenius norm is the sum of the squared $l_2$ norms of the column vectors of $M$, and orthogonal matrices preserve $l_2$ norms. (If we're right-multiplying $M$ by an orthogonal matrix, then we instead view this as performing orthogonal operations on the row vectors of $M$, and the same argument holds.)\n",
        "\n",
        "---\n",
        "\n",
        "##### Long proof\n",
        "\n",
        "$$\n",
        "\\begin{aligned}\n",
        "\\|M\\|_F^2 &= \\sum_{ij}M_{ij}^2 \\\\\n",
        "&= \\sum_{ij}((USV^T)_{ij})^2 \\\\\n",
        "&= \\sum_{ij}\\bigg(\\sum_k U_{ik}S_{kk}V_{jk}\\bigg)^2 \\\\\n",
        "&= \\sum_{ijk_1 k_2}S_{k_1 k_1} S_{k_2 k_2} U_{i k_1} U_{i k_2} V_{j k_2} V_{j k_2} \\\\\n",
        "&= \\sum_{k_1 k_2}S_{k_1 k_1} S_{k_2 k_2} \\bigg(\\sum_i U_{i k_1} U_{i k_2}\\bigg)\\bigg(\\sum_j V_{j k_2} V_{j k_2}\\bigg) \\\\\n",
        "\\end{aligned}\n",
        "$$\n",
        "\n",
        "Each of the terms in large brackets is actually the dot product of columns of $U$ and $V$ respectively. Since these are orthogonal matrices, these terms evaluate to 1 when $k_1=k_2$ and 0 otherwise. So we are left with:\n",
        "\n",
        "$$\n",
        "\\|M\\|_F^2 = \\sum_{k}S_{k k}^2\n",
        "$$\n",
        "\n",
        "---\n",
        "\n",
        "##### Cute proof which uses the fact that the squared Frobenius norm $|M|^2$ is the same as the trace of $MM^T$\n",
        "\n",
        "$$\n",
        "\\|M\\|_F^2 = \\text{Tr}(MM^T) = \\text{Tr}(USV^TVSU^T) = \\text{Tr}(US^2U^T) = \\text{Tr}(S^2 U^T U) = \\text{Tr}(S^2) = \\|S\\|_F^2\n",
        "$$\n",
        "\n",
        "where we used the cyclicity of trace, and the fact that $U$ is orthogonal so $U^TU=I$ (and same for $V$). We finish by observing that $\\|S\\|_F^2$ is precisely the sum of the squared singular values.\n",
        "</details>"
      ]
    },
    {
      "cell_type": "markdown",
      "metadata": {
        "id": "h9XrccVxXli5"
      },
      "source": [
        "So if $W_A=U_AS_AV_A^T$, $W_B=U_BS_BV_B^T$, then $\\|W_A\\|_F=\\|S_A\\|_F$, $\\|W_B\\|_F=\\|S_B\\|_F$ and $\\|W_AW_B\\|_F=\\|S_AV_A^TU_BS_B\\|_F$. In some sense, $V_A^TU_B$ represents how aligned the subspaces written to and read from are, and the $S_A$ and $S_B$ terms weights by the importance of those subspaces.\n",
        "\n",
        "<details>\n",
        "<summary>Click here, if this explanation still seems confusing.</summary>\n",
        "\n",
        "$U_B$ is a matrix of shape `[d_model, d_head]`. It represents **the subspace being read from**, i.e. our later head reads from the residual stream by projecting it onto the `d_head` columns of this matrix.\n",
        "\n",
        "$V_A$ is a matrix of shape `[d_model, d_head]`. It represents **the subspace being written to**, i.e. the thing written to the residual stream by our earlier head is a linear combination of the `d_head` column-vectors of $V_A$.\n",
        "\n",
        "$V_A^T U_B$ is a matrix of shape `[d_head, d_head]`. Each element of this matrix is formed by taking the dot product of two vectors of length `d_model`:\n",
        "\n",
        "* $v_i^A$, a column of $V_A$ (one of the vectors our earlier head embeds into the residual stream)\n",
        "* $u_j^B$, a column of $U_B$ (one of the vectors our later head projects the residual stream onto)\n",
        "\n",
        "Let the singular values of $S_A$ be $\\sigma_1^A, ..., \\sigma_k^A$ and similarly for $S_B$. Then:\n",
        "\n",
        "$$\n",
        "\\|S_A V_A^T U_B S_B\\|_F^2 = \\sum_{i,j=1}^k (\\sigma_i^A \\sigma_j^B)^2 \\|v^A_i \\cdot u^B_j\\|_F^2\n",
        "$$\n",
        "\n",
        "This is a weighted sum of the squared cosine similarity of the columns of $V_A$ and $U_B$ (i.e. the output directions of the earlier head and the input directions of the later head). The weights in this sum are given by the singular values of both $S_A$ and $S_B$ - i.e. if $v^A_i$ is an important output direction, **and** $u_B^i$ is an important input direction, then the composition score will be much higher when these two directions are aligned with each other.\n",
        "\n",
        "---\n",
        "\n",
        "To build intuition, let's consider a couple of extreme examples.\n",
        "\n",
        "* If there was no overlap between the spaces being written to and read from, then $V_A^T U_B$ would be a matrix of zeros (since every $v_i^A \\cdot u_j^B$ would be zero). This would mean that the composition score would be zero.\n",
        "* If there was perfect overlap, i.e. the span of the $v_i^A$ vectors and $u_j^B$ vectors is the same, then the composition score is large. It is as large as possible when the most important input directions and most important output directions line up (i.e. when the singular values $\\sigma_i^A$ and $\\sigma_j^B$ are in the same order).\n",
        "* If our matrices $W_A$ and $W_B$ were just rank 1 (i.e. $W_A = \\sigma_A u_A v_A^T$, and $W_B = \\sigma_B u_B v_B^T$), then the composition score is $|v_A^T u_B|$, in other words just the cosine similarity of the single output direction of $W_A$ and the single input direction of $W_B$.\n",
        "</details>"
      ]
    },
    {
      "cell_type": "markdown",
      "metadata": {
        "id": "kEaVHdwNXli5"
      },
      "source": [
        "### Exercise - batching, and using the `FactoredMatrix` class\n",
        "\n",
        "> ```yaml\n",
        "> Difficulty: 🔴🔴🔴🔴⚪\n",
        "> Importance: 🔵⚪⚪⚪⚪\n",
        ">\n",
        "> This exercise is optional, and not a super important part of this section conceptually.\n",
        "> It's also quite messy to rearrange our tensors in the right way! You are invited to skip it if you want.\n",
        "> ```"
      ]
    },
    {
      "cell_type": "markdown",
      "metadata": {
        "id": "kCSfdCyNXli5"
      },
      "source": [
        "We can also use this insight to write a more efficient way to calculate composition scores - this is extremely useful if you want to do this analysis at scale! The key is that we know that our matrices have a low rank factorisation, and it's much cheaper to calculate the SVD of a narrow matrix than one that's large in both dimensions. See the [algorithm described at the end of the paper](https://transformer-circuits.pub/2021/framework/index.html#induction-heads:~:text=Working%20with%20Low%2DRank%20Matrices) (search for SVD).\n",
        "\n",
        "So we can work with the `FactoredMatrix` class. This also provides the method `.norm()` which returns the Frobenium norm. This is also a good opportunity to bring back batching - this will sometimes be useful in our analysis. In the function below, `W_As` and `W_Bs` are both >2D factored matrices (e.g. they might represent the OV circuits for all heads in a particular layer, or across multiple layers), and the function's output should be a tensor of composition scores for each pair of matrices `(W_A, W_B)` in the >2D tensors `(W_As, W_Bs)`."
      ]
    },
    {
      "cell_type": "code",
      "execution_count": null,
      "metadata": {
        "id": "-jgSlRSSXli5"
      },
      "outputs": [],
      "source": [
        "def get_batched_comp_scores(W_As: FactoredMatrix, W_Bs: FactoredMatrix) -> Tensor:\n",
        "    \"\"\"\n",
        "    Computes the compositional scores from indexed factored matrices W_As and W_Bs.\n",
        "\n",
        "    Each of W_As and W_Bs is a FactoredMatrix object which is indexed by all but its last 2\n",
        "    dimensions, i.e.:\n",
        "        W_As.shape == (*A_idx, A_in, A_out)\n",
        "        W_Bs.shape == (*B_idx, B_in, B_out)\n",
        "        A_out == B_in\n",
        "\n",
        "    Return: tensor of shape (*A_idx, *B_idx) where the [*a_idx, *b_idx]th element is the\n",
        "    compositional score from W_As[*a_idx] to W_Bs[*b_idx].\n",
        "    \"\"\"\n",
        "    raise NotImplementedError()\n",
        "\n",
        "\n",
        "W_QK = FactoredMatrix(model.W_Q, model.W_K.transpose(-1, -2))\n",
        "W_OV = FactoredMatrix(model.W_V, model.W_O)\n",
        "\n",
        "composition_scores_batched = dict()\n",
        "composition_scores_batched[\"Q\"] = get_batched_comp_scores(W_OV[0], W_QK[1])\n",
        "composition_scores_batched[\"K\"] = get_batched_comp_scores(\n",
        "    W_OV[0], W_QK[1].T\n",
        ")  # Factored matrix: .T is interpreted as transpose of the last two axes\n",
        "composition_scores_batched[\"V\"] = get_batched_comp_scores(W_OV[0], W_OV[1])\n",
        "\n",
        "t.testing.assert_close(composition_scores_batched[\"Q\"], composition_scores[\"Q\"])\n",
        "t.testing.assert_close(composition_scores_batched[\"K\"], composition_scores[\"K\"])\n",
        "t.testing.assert_close(composition_scores_batched[\"V\"], composition_scores[\"V\"])\n",
        "print(\"Tests passed - your `get_batched_comp_scores` function is working!\")"
      ]
    },
    {
      "cell_type": "markdown",
      "metadata": {
        "id": "_JYGoJL2Xli5"
      },
      "source": [
        "<details>\n",
        "<summary>Hint</summary>\n",
        "\n",
        "Suppose `W_As` has shape `(A1, A2, ..., Am, A_in, A_out)` and `W_Bs` has shape `(B1, B2, ..., Bn, B_in, B_out)` (where `A_out == B_in`).\n",
        "\n",
        "It will be helpful to reshape these two tensors so that:\n",
        "\n",
        "```python\n",
        "W_As.shape == (A1*A2*...*Am, 1, A_in, A_out)\n",
        "W_Bs.shape == (1, B1*B2*...*Bn, B_in, B_out)\n",
        "```\n",
        "\n",
        "since we can then multiply them together as `W_As @ W_Bs` (broadcasting will take care of this for us!).\n",
        "\n",
        "To do the reshaping, the easiest way is to reshape `W_As.A` and `W_As.B`, and define a new `FactoredMatrix` from these reshaped tensors (and same for `W_Bs`).\n",
        "</details>\n",
        "\n",
        "\n",
        "<details><summary>Solution</summary>\n",
        "\n",
        "```python\n",
        "def get_batched_comp_scores(W_As: FactoredMatrix, W_Bs: FactoredMatrix) -> Tensor:\n",
        "    \"\"\"\n",
        "    Computes the compositional scores from indexed factored matrices W_As and W_Bs.\n",
        "\n",
        "    Each of W_As and W_Bs is a FactoredMatrix object which is indexed by all but its last 2\n",
        "    dimensions, i.e.:\n",
        "        W_As.shape == (*A_idx, A_in, A_out)\n",
        "        W_Bs.shape == (*B_idx, B_in, B_out)\n",
        "        A_out == B_in\n",
        "\n",
        "    Return: tensor of shape (*A_idx, *B_idx) where the [*a_idx, *b_idx]th element is the\n",
        "    compositional score from W_As[*a_idx] to W_Bs[*b_idx].\n",
        "    \"\"\"\n",
        "    # Flatten W_As into (single_A_idx, 1, A_in, A_out)\n",
        "    W_As = FactoredMatrix(\n",
        "        W_As.A.reshape(-1, 1, *W_As.A.shape[-2:]),\n",
        "        W_As.B.reshape(-1, 1, *W_As.B.shape[-2:]),\n",
        "    )\n",
        "    # Flatten W_Bs into (1, single_B_idx, B_in(=A_out), B_out)\n",
        "    W_Bs = FactoredMatrix(\n",
        "        W_Bs.A.reshape(1, -1, *W_Bs.A.shape[-2:]),\n",
        "        W_Bs.B.reshape(1, -1, *W_Bs.B.shape[-2:]),\n",
        "    )\n",
        "\n",
        "    # Compute the product, with shape (single_A_idx, single_B_idx, A_in, B_out)\n",
        "    W_ABs = W_As @ W_Bs\n",
        "\n",
        "    # Compute the norms, and return the metric\n",
        "    return W_ABs.norm() / (W_As.norm() * W_Bs.norm())\n",
        "```\n",
        "</details>"
      ]
    },
    {
      "cell_type": "markdown",
      "metadata": {
        "id": "aWWnvVE5Xli6"
      },
      "source": [
        "### Targeted Ablations\n",
        "\n",
        "We can refine the ablation technique to detect composition by looking at the effect of the ablation on the attention pattern of an induction head, rather than the loss. Let's implement this!\n",
        "\n",
        "Gotcha - by default, `run_with_hooks` removes any existing hooks when it runs. If you want to use caching, set the `reset_hooks_start` flag to False."
      ]
    },
    {
      "cell_type": "code",
      "execution_count": null,
      "metadata": {
        "id": "UBS8uYNkXli6"
      },
      "outputs": [],
      "source": [
        "seq_len = 50\n",
        "\n",
        "\n",
        "def ablation_induction_score(prev_head_index: int | None, ind_head_index: int) -> float:\n",
        "    \"\"\"\n",
        "    Takes as input the index of the L0 head and the index of the L1 head, and then runs with the\n",
        "    previous token head ablated and returns the induction score for the ind_head_index now.\n",
        "    \"\"\"\n",
        "\n",
        "    def ablation_hook(v, hook):\n",
        "        if prev_head_index is not None:\n",
        "            v[:, :, prev_head_index] = 0.0\n",
        "        return v\n",
        "\n",
        "    def induction_pattern_hook(attn, hook):\n",
        "        hook.ctx[prev_head_index] = attn[0, ind_head_index].diag(-(seq_len - 1)).mean()\n",
        "\n",
        "    model.run_with_hooks(\n",
        "        rep_tokens,\n",
        "        fwd_hooks=[\n",
        "            (utils.get_act_name(\"v\", 0), ablation_hook),\n",
        "            (utils.get_act_name(\"pattern\", 1), induction_pattern_hook),\n",
        "        ],\n",
        "    )\n",
        "    return model.blocks[1].attn.hook_pattern.ctx[prev_head_index].item()\n",
        "\n",
        "\n",
        "baseline_induction_score = ablation_induction_score(None, 4)\n",
        "print(f\"Induction score for no ablations: {baseline_induction_score:.5f}\\n\")\n",
        "for i in range(model.cfg.n_heads):\n",
        "    new_induction_score = ablation_induction_score(i, 4)\n",
        "    induction_score_change = new_induction_score - baseline_induction_score\n",
        "    print(f\"Ablation score change for head {i:02}: {induction_score_change:+.5f}\")"
      ]
    },
    {
      "cell_type": "markdown",
      "metadata": {
        "id": "EV4HBSecXli6"
      },
      "source": [
        "<details>\n",
        "<summary>Question - what is the interpretation of the results you're getting?</summary>\n",
        "\n",
        "You should have found that the induction score without any ablations is about 0.68, and that most other heads don't change the induction score by much when they are ablated, except for head 7 which reduces the induction score to nearly zero.\n",
        "\n",
        "This is another strong piece of evidence that head `0.7` is the prev token head in this induction circuit.\n",
        "</details>"
      ]
    },
    {
      "cell_type": "markdown",
      "metadata": {
        "id": "h3-CQkj5Xli6"
      },
      "source": [
        "## Bonus\n",
        "\n",
        "### Looking for Circuits in Real LLMs\n",
        "\n",
        "A particularly cool application of these techniques is looking for real examples of circuits in large language models. Fortunately, there's a bunch of open source ones you can play around with in the `TransformerLens` library! Many of the techniques we've been using for our 2L transformer carry over to ones with more layers.\n",
        "\n",
        "This library should make it moderately easy to play around with these models - I recommend going wild and looking for interesting circuits!\n",
        "\n",
        "Some fun things you might want to try:\n",
        "\n",
        "- Look for induction heads - try repeating all of the steps from above. Do they follow the same algorithm?\n",
        "- Look for neurons that erase info\n",
        "    - i.e. having a high negative cosine similarity between the input and output weights\n",
        "- Try to interpret a position embedding.\n",
        "\n",
        "<details>\n",
        "<summary>Positional Embedding Hint</summary>\n",
        "\n",
        "Look at the singular value decomposition `t.svd` and plot the principal components over position space. High ones tend to be sine and cosine waves of different frequencies.\n",
        "</details>\n",
        "\n",
        "- Look for heads with interpretable attention patterns: e.g. heads that attend to the same word (or subsequent word) when given text in different languages, or the most recent proper noun, or the most recent full-stop, or the subject of the sentence, etc.\n",
        "    - Pick a head, ablate it, and run the model on a load of text with and without the head. Look for tokens with the largest difference in loss, and try to interpret what the head is doing.\n",
        "- Try replicating some of Kevin's work on indirect object identification.\n",
        "- Inspired by the [ROME paper](https://rome.baulab.info/), use the causal tracing technique of patching in the residual stream - can you analyse how the network answers different facts?\n",
        "\n",
        "Note: I apply several simplifications to the resulting transformer - these leave the model mathematically equivalent and doesn't change the output log probs, but does somewhat change the structure of the model and one change translates the output logits by a constant.\n",
        "\n",
        "<details>\n",
        "<summary>Model simplifications</summary>\n",
        "\n",
        "#### Centering $W_U$\n",
        "\n",
        "The output of $W_U$ is a $d_{vocab}$ vector (or tensor with that as the final dimension) which is fed into a softmax\n",
        "\n",
        "#### LayerNorm Folding\n",
        "\n",
        "LayerNorm is only applied at the start of a linear layer reading from the residual stream (eg query, key, value, mlp_in or unembed calculations)\n",
        "\n",
        "Each LayerNorm has the functional form $LN:\\mathbb{R}^n\\to\\mathbb{R}^n$,\n",
        "$LN(x)=s(x) * w_{ln} + b_{ln}$, where $*$ is element-wise multiply and $s(x)=\\frac{x-\\bar{x}}{|x-\\bar{x}|}$, and $w_{ln},b_{ln}$ are both vectors in $\\mathbb{R}^n$\n",
        "\n",
        "The linear layer has form $l:\\mathbb{R}^n\\to\\mathbb{R}^m$, $l(y)=Wy+b$ where $W\\in \\mathbb{R}^{m\\times n},b\\in \\mathbb{R}^m,y\\in\\mathbb{R}^n$\n",
        "\n",
        "So $f(LN(x))=W(w_{ln} * s(x)+b_{ln})+b=(W * w_{ln})s(x)+(Wb_{ln}+b)=W_{eff}s(x)+b_{eff}$, where $W_{eff}$ is the elementwise product of $W$ and $w_{ln}$ (showing that elementwise multiplication commutes like this is left as an exercise) and $b_{eff}=Wb_{ln}+b\\in \\mathbb{R}^m$.\n",
        "\n",
        "From the perspective of interpretability, it's much nicer to interpret the folded layer $W_{eff},b_{eff}$ - fundamentally, this is the computation being done, and there's no reason to expect $W$ or $w_{ln}$ to be meaningful on their own.\n",
        "</details>"
      ]
    },
    {
      "cell_type": "markdown",
      "metadata": {
        "id": "fw-r0yXlXli6"
      },
      "source": [
        "### Training Your Own Toy Models\n",
        "\n",
        "A fun exercise is training models on the minimal task that'll produce induction heads - predicting the next token in a sequence of random tokens with repeated subsequences. You can get a small 2L Attention-Only model to do this.\n",
        "\n",
        "<details>\n",
        "<summary>Tips</summary>\n",
        "\n",
        "* Make sure to randomise the positions that are repeated! Otherwise the model can just learn the boring algorithm of attending to fixed positions\n",
        "* It works better if you *only* evaluate loss on the repeated tokens, this makes the task less noisy.\n",
        "* It works best with several repeats of the same sequence rather than just one.\n",
        "* If you do things right, and give it finite data + weight decay, you *should* be able to get it to grok - this may take some hyper-parameter tuning though.\n",
        "* When I've done this I get weird franken-induction heads, where each head has 1/3 of an induction stripe, and together cover all tokens.\n",
        "* It'll work better if you only let the queries and keys access the positional embeddings, but *should* work either way.\n",
        "</details>"
      ]
    },
    {
      "cell_type": "markdown",
      "metadata": {
        "id": "WrItaCHcXli6"
      },
      "source": [
        "### Interpreting Induction Heads During Training\n",
        "\n",
        "A particularly striking result about induction heads is that they consistently [form very abruptly in training as a phase change](https://transformer-circuits.pub/2022/in-context-learning-and-induction-heads/index.html#argument-phase-change), and are such an important capability that there is a [visible non-convex bump in the loss curve](https://wandb.ai/mechanistic-interpretability/attn-only/reports/loss_ewma-22-08-24-22-08-00---VmlldzoyNTI2MDM0?accessToken=r6v951q0e1l4q4o70wb2q67wopdyo3v69kz54siuw7lwb4jz6u732vo56h6dr7c2) (in this model, approx 2B to 4B tokens). I have a bunch of checkpoints for this model, you can try re-running the induction head detection techniques on intermediate checkpoints and see what happens. (Bonus points if you have good ideas for how to efficiently send a bunch of 300MB checkpoints from Wandb lol)"
      ]
    },
    {
      "cell_type": "markdown",
      "metadata": {
        "id": "FO8aqwx8Xli6"
      },
      "source": [
        "### Further discussion / investigation\n",
        "\n",
        "Anthropic has written a post on [In-context Learning and Induction Heads](https://transformer-circuits.pub/2022/in-context-learning-and-induction-heads/index.html) which goes into much deeper discussion on induction heads. The post is structured around six different points of evidence for the hypothesis that **induction heads are the main source of in-context learning in transformer models**, even large ones. Briefly, these are:\n",
        "\n",
        "1. Transformers undergo a \"phase change\" where they suddenly become much better at in-context learning, and this is around the same time induction heads appear.\n",
        "2. When we change the transformer's architecture to make it easier for induction heads to form, we get a corresponding improvement in in-context learning.\n",
        "3. When we ablate induction heads at runtime, in-context learning gets worse.\n",
        "4. We have specific examples of induction heads performing more complex in-context learning algorithms (you'll have the opportunity to investigate one of these later - **indirect object identification**).\n",
        "5. We have a mechanistic explanation of induction heads, which suggests natural extensions to more general forms of in-context learning.\n",
        "6. In-context learning-related behaviour is generally smoothly continuous between small and large models, suggesting that the underlying mechanism is also the same.\n",
        "\n",
        "Here are a few questions for you:\n",
        "\n",
        "* How compelling do you find this evidence? Discuss with your partner.\n",
        "    * Which points do you find most compelling?\n",
        "    * Which do you find least compelling?\n",
        "    * Are there any subset of these which would be enough to convince you of the hypothesis, in the absence of others?\n",
        "* In point 3, the paper observes that in-context learning performance degrades when you ablate induction heads. While we measured this by testing the model's ability to copy a duplicated random sequence, the paper used **in-context learning score** (the loss of the 500th token in the context, minus the loss on the 50th token).\n",
        "    * Can you see why this is a reasonable metric?\n",
        "    * Can you replicate these results (maybe on a larger model than the 2-layer one we've been using)?\n",
        "* In point 4 (more complex forms of in-context learning), the paper suggests the natural extension of \"fuzzy induction heads\", which match patterns like `[A*][B*]...[A][B]` rather than `[A][B]...[A][B]` (where the `*` indicates some form of linguistic similarity, not necessarily being the same token).\n",
        "    * Can you think of any forms this might take, i.e. any kinds of similarity which induction heads might pick up on? Can you generate examples?"
      ]
    }
  ],
  "metadata": {
    "language_info": {
      "name": "python"
    },
    "colab": {
      "provenance": [],
      "include_colab_link": true
    },
    "kernelspec": {
      "name": "python3",
      "display_name": "Python 3"
    }
  },
  "nbformat": 4,
  "nbformat_minor": 0
}