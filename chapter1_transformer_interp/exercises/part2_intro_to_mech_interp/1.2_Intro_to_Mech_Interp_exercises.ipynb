{
  "cells": [
    {
      "cell_type": "markdown",
      "metadata": {
        "id": "view-in-github",
        "colab_type": "text"
      },
      "source": [
        "<a href=\"https://colab.research.google.com/github/sc22lg/ML-Notebooks/blob/TransformerLens_Intro/chapter1_transformer_interp/exercises/part2_intro_to_mech_interp/1.2_Intro_to_Mech_Interp_exercises.ipynb\" target=\"_parent\"><img src=\"https://colab.research.google.com/assets/colab-badge.svg\" alt=\"Open In Colab\"/></a>"
      ]
    },
    {
      "cell_type": "markdown",
      "metadata": {
        "id": "Kell8QXsXliP"
      },
      "source": [
        "# [1.2] Intro to Mechanistic Interpretability: TransformerLens & induction circuits (exercises)\n",
        "\n",
        "> **ARENA [Streamlit Page](https://arena-chapter1-transformer-interp.streamlit.app/02_[1.2]_Intro_to_Mech_Interp)**\n",
        ">\n",
        "> **Colab: [exercises](https://colab.research.google.com/github/callummcdougall/ARENA_3.0/blob/main/chapter1_transformer_interp/exercises/part2_intro_to_mech_interp/1.2_Intro_to_Mech_Interp_exercises.ipynb?t=20250731) | [solutions](https://colab.research.google.com/github/callummcdougall/ARENA_3.0/blob/main/chapter1_transformer_interp/exercises/part2_intro_to_mech_interp/1.2_Intro_to_Mech_Interp_solutions.ipynb?t=20250731)**\n",
        "\n",
        "Please send any problems / bugs on the `#errata` channel in the [Slack group](https://join.slack.com/t/arena-uk/shared_invite/zt-3afdmdhye-Mdb3Sv~ss_V_mEaXEbkABA), and ask any questions on the dedicated channels for this chapter of material.\n",
        "\n",
        "You can collapse each section so only the headers are visible, by clicking the arrow symbol on the left hand side of the markdown header cells.\n",
        "\n",
        "Links to all other chapters: [(0) Fundamentals](https://arena-chapter0-fundamentals.streamlit.app/), [(1) Transformer Interpretability](https://arena-chapter1-transformer-interp.streamlit.app/), [(2) RL](https://arena-chapter2-rl.streamlit.app/)."
      ]
    },
    {
      "cell_type": "markdown",
      "metadata": {
        "id": "IvjjONMbXliT"
      },
      "source": [
        "<img src=\"https://raw.githubusercontent.com/info-arena/ARENA_img/main/misc/headers/header-12.png\" width=\"350\">"
      ]
    },
    {
      "cell_type": "markdown",
      "metadata": {
        "id": "-TXNIa8iXliT"
      },
      "source": [
        "# Introduction"
      ]
    },
    {
      "cell_type": "markdown",
      "metadata": {
        "id": "0GJ40_XrXliT"
      },
      "source": [
        "These pages are designed to get you introduced to the core concepts of mechanistic interpretability, via Neel Nanda's **TransformerLens** library.\n",
        "\n",
        "Most of the sections are constructed in the following way:\n",
        "\n",
        "1. A particular feature of TransformerLens is introduced.\n",
        "2. You are given an exercise, in which you have to apply the feature.\n",
        "\n",
        "The running theme of the exercises is **induction circuits**. Induction circuits are a particular type of circuit in a transformer, which can perform basic in-context learning. You should read the [corresponding section of Neel's glossary](https://dynalist.io/d/n2ZWtnoYHrU1s4vnFSAQ519J#z=_Jzi6YHRHKP1JziwdE02qdYZ), before continuing. This [LessWrong post](https://www.lesswrong.com/posts/TvrfY4c9eaGLeyDkE/induction-heads-illustrated) might also help; it contains some diagrams (like the one below) which walk through the induction mechanism step by step.\n",
        "\n",
        "Each exercise will have a difficulty and importance rating out of 5, as well as an estimated maximum time you should spend on these exercises and sometimes a short annotation. You should interpret the ratings & time estimates relatively (e.g. if you find yourself spending about 50% longer on the exercises than the time estimates, adjust accordingly). Please do skip exercises / look at solutions if you don't feel like they're important enough to be worth doing, and you'd rather get to the good stuff!\n",
        "\n",
        "For a lecture on the material today, which provides some high-level understanding before you dive into the material, watch the video below:\n",
        "\n",
        "<iframe width=\"540\" height=\"304\" src=\"https://www.youtube.com/embed/lfwT79Hgytc\" frameborder=\"0\" allow=\"accelerometer; autoplay; encrypted-media; gyroscope; picture-in-picture\" allowfullscreen></iframe>"
      ]
    },
    {
      "cell_type": "markdown",
      "metadata": {
        "id": "Ye9QFNIvXliU"
      },
      "source": [
        "<img src=\"https://raw.githubusercontent.com/info-arena/ARENA_img/main/misc/kcomp_diagram.png\" width=\"1000\">"
      ]
    },
    {
      "cell_type": "markdown",
      "metadata": {
        "id": "ZfYqUQoFXliU"
      },
      "source": [
        "## Content & Learning Objectives\n",
        "\n",
        "### 1️⃣ TransformerLens: Introduction\n",
        "\n",
        "This section is designed to get you up to speed with the TransformerLens library. You'll learn how to load and run models, and learn about the shared architecture template for all of these models (the latter of which should be familiar to you if you've already done the exercises that come before these, since many of the same design principles are followed).\n",
        "\n",
        "> ##### Learning Objectives\n",
        ">\n",
        "> - Load and run a `HookedTransformer` model\n",
        "> - Understand the basic architecture of these models\n",
        "> - Use the model's tokenizer to convert text to tokens, and vice versa\n",
        "> - Know how to cache activations, and to access activations from the cache\n",
        "> - Use `circuitsvis` to visualise attention heads\n",
        "\n",
        "### 2️⃣ Finding induction heads\n",
        "\n",
        "Here, you'll learn about induction heads, how they work and why they are important. You'll also learn how to identify them from the characteristic induction head stripe in their attention patterns when the model input is a repeating sequence.\n",
        "\n",
        "> ##### Learning Objectives\n",
        ">\n",
        "> - Understand what induction heads are, and the algorithm they are implementing\n",
        "> - Inspect activation patterns to identify basic attention head patterns, and write your own functions to detect attention heads for you\n",
        "> - Identify induction heads by looking at the attention patterns produced from a repeating random sequence\n",
        "\n",
        "### 3️⃣ TransformerLens: Hooks\n",
        "\n",
        "Next, you'll learn about hooks, which are a great feature of TransformerLens allowing you to access and intervene on activations within the model. We will mainly focus on the basics of hooks and using them to access activations (we'll mainly save the causal interventions for the later IOI exercises). You will also build some tools to perform logit attribution within your model, so you can identify which components are responsible for your model's performance on certain tasks.\n",
        "\n",
        "> ##### Learning Objectives\n",
        ">\n",
        "> - Understand what hooks are, and how they are used in TransformerLens\n",
        "> - Use hooks to access activations, process the results, and write them to an external tensor\n",
        "> - Build tools to perform attribution, i.e. detecting which components of your model are responsible for performance on a given task\n",
        "> - Understand how hooks can be used to perform basic interventions like **ablation**\n",
        "\n",
        "### 4️⃣ Reverse-engineering induction circuits\n",
        "\n",
        "Lastly, these exercises show you how you can reverse-engineer a circuit by looking directly at a transformer's weights (which can be considered a \"gold standard\" of interpretability; something not possible in every situation). You'll examine QK and OV circuits by multiplying through matrices (and learn how the FactoredMatrix class makes matrices like these much easier to analyse). You'll also look for evidence of composition between two induction heads, and once you've found it then you'll investigate the functionality of the full circuit formed from this composition.\n",
        "\n",
        "> ##### Learning Objectives\n",
        ">\n",
        "> - Understand the difference between investigating a circuit by looking at activation patterns, and reverse-engineering a circuit by looking directly at the weights\n",
        "> - Use the factored matrix class to inspect the QK and OV circuits within an induction circuit\n",
        "> - Perform further exploration of induction circuits: composition scores, and targeted ablations"
      ]
    },
    {
      "cell_type": "markdown",
      "metadata": {
        "id": "adOZjk36XliV"
      },
      "source": [
        "## Setup code"
      ]
    },
    {
      "cell_type": "code",
      "execution_count": 1,
      "metadata": {
        "colab": {
          "base_uri": "https://localhost:8080/"
        },
        "id": "jWsyjDXQXliV",
        "outputId": "d47d88df-8993-44b5-a08e-6b74f93fc63b",
        "collapsed": true
      },
      "outputs": [
        {
          "output_type": "stream",
          "name": "stderr",
          "text": [
            "/tmp/ipython-input-3198469199.py:5: DeprecationWarning: pkg_resources is deprecated as an API. See https://setuptools.pypa.io/en/latest/pkg_resources.html\n",
            "  import pkg_resources\n"
          ]
        },
        {
          "output_type": "stream",
          "name": "stdout",
          "text": [
            "--2025-08-12 12:55:16--  https://github.com/callummcdougall/ARENA_3.0/archive/refs/heads/main.zip\n",
            "Resolving github.com (github.com)... 20.27.177.113\n",
            "Connecting to github.com (github.com)|20.27.177.113|:443... connected.\n",
            "HTTP request sent, awaiting response... 302 Found\n",
            "Location: https://codeload.github.com/callummcdougall/ARENA_3.0/zip/refs/heads/main [following]\n",
            "--2025-08-12 12:55:17--  https://codeload.github.com/callummcdougall/ARENA_3.0/zip/refs/heads/main\n",
            "Resolving codeload.github.com (codeload.github.com)... 20.27.177.114\n",
            "Connecting to codeload.github.com (codeload.github.com)|20.27.177.114|:443... connected.\n",
            "HTTP request sent, awaiting response... 200 OK\n",
            "Length: unspecified [application/zip]\n",
            "Saving to: ‘/content/main.zip’\n",
            "\n",
            "main.zip                [          <=>       ]  21.16M  9.38MB/s    in 2.3s    \n",
            "\n",
            "2025-08-12 12:55:19 (9.38 MB/s) - ‘/content/main.zip’ saved [22184063]\n",
            "\n",
            "Archive:  /content/main.zip\n",
            "62f10d24a1df88d4d472e9c7ebf312d0f3fbd194\n",
            "   creating: /content/ARENA_3.0-main/chapter1_transformer_interp/exercises/\n",
            "   creating: /content/ARENA_3.0-main/chapter1_transformer_interp/exercises/monthly_algorithmic_problems/\n",
            "   creating: /content/ARENA_3.0-main/chapter1_transformer_interp/exercises/monthly_algorithmic_problems/august23_unique_char/\n",
            "  inflating: /content/ARENA_3.0-main/chapter1_transformer_interp/exercises/monthly_algorithmic_problems/august23_unique_char/dataset.py  \n",
            "  inflating: /content/ARENA_3.0-main/chapter1_transformer_interp/exercises/monthly_algorithmic_problems/august23_unique_char/first_unique_char_model.pt  \n",
            "  inflating: /content/ARENA_3.0-main/chapter1_transformer_interp/exercises/monthly_algorithmic_problems/august23_unique_char/model.py  \n",
            "  inflating: /content/ARENA_3.0-main/chapter1_transformer_interp/exercises/monthly_algorithmic_problems/august23_unique_char/training.py  \n",
            "  inflating: /content/ARENA_3.0-main/chapter1_transformer_interp/exercises/monthly_algorithmic_problems/august23_unique_char/training_model.ipynb  \n",
            "   creating: /content/ARENA_3.0-main/chapter1_transformer_interp/exercises/monthly_algorithmic_problems/january24_caesar_cipher/\n",
            "  inflating: /content/ARENA_3.0-main/chapter1_transformer_interp/exercises/monthly_algorithmic_problems/january24_caesar_cipher/caesar_cipher_model_easy.pt  \n",
            "  inflating: /content/ARENA_3.0-main/chapter1_transformer_interp/exercises/monthly_algorithmic_problems/january24_caesar_cipher/caesar_cipher_model_hard.pt  \n",
            "  inflating: /content/ARENA_3.0-main/chapter1_transformer_interp/exercises/monthly_algorithmic_problems/january24_caesar_cipher/caesar_cipher_model_medium.pt  \n",
            "  inflating: /content/ARENA_3.0-main/chapter1_transformer_interp/exercises/monthly_algorithmic_problems/january24_caesar_cipher/dataset.py  \n",
            "  inflating: /content/ARENA_3.0-main/chapter1_transformer_interp/exercises/monthly_algorithmic_problems/january24_caesar_cipher/hitchhikers.txt  \n",
            "  inflating: /content/ARENA_3.0-main/chapter1_transformer_interp/exercises/monthly_algorithmic_problems/january24_caesar_cipher/model.py  \n",
            "  inflating: /content/ARENA_3.0-main/chapter1_transformer_interp/exercises/monthly_algorithmic_problems/january24_caesar_cipher/training.py  \n",
            "  inflating: /content/ARENA_3.0-main/chapter1_transformer_interp/exercises/monthly_algorithmic_problems/january24_caesar_cipher/training_model.ipynb  \n",
            "   creating: /content/ARENA_3.0-main/chapter1_transformer_interp/exercises/monthly_algorithmic_problems/july23_palindromes/\n",
            "  inflating: /content/ARENA_3.0-main/chapter1_transformer_interp/exercises/monthly_algorithmic_problems/july23_palindromes/dataset.py  \n",
            "  inflating: /content/ARENA_3.0-main/chapter1_transformer_interp/exercises/monthly_algorithmic_problems/july23_palindromes/model.py  \n",
            "  inflating: /content/ARENA_3.0-main/chapter1_transformer_interp/exercises/monthly_algorithmic_problems/july23_palindromes/palindrome_classifier.pt  \n",
            "  inflating: /content/ARENA_3.0-main/chapter1_transformer_interp/exercises/monthly_algorithmic_problems/july23_palindromes/training.py  \n",
            "  inflating: /content/ARENA_3.0-main/chapter1_transformer_interp/exercises/monthly_algorithmic_problems/july23_palindromes/training_model.ipynb  \n",
            "   creating: /content/ARENA_3.0-main/chapter1_transformer_interp/exercises/monthly_algorithmic_problems/november23_cumsum/\n",
            "  inflating: /content/ARENA_3.0-main/chapter1_transformer_interp/exercises/monthly_algorithmic_problems/november23_cumsum/cumsum_model.pt  \n",
            "  inflating: /content/ARENA_3.0-main/chapter1_transformer_interp/exercises/monthly_algorithmic_problems/november23_cumsum/dataset.py  \n",
            "  inflating: /content/ARENA_3.0-main/chapter1_transformer_interp/exercises/monthly_algorithmic_problems/november23_cumsum/model.py  \n",
            "  inflating: /content/ARENA_3.0-main/chapter1_transformer_interp/exercises/monthly_algorithmic_problems/november23_cumsum/training.py  \n",
            "  inflating: /content/ARENA_3.0-main/chapter1_transformer_interp/exercises/monthly_algorithmic_problems/november23_cumsum/training_model.ipynb  \n",
            "   creating: /content/ARENA_3.0-main/chapter1_transformer_interp/exercises/monthly_algorithmic_problems/november24_trigrams/\n",
            "  inflating: /content/ARENA_3.0-main/chapter1_transformer_interp/exercises/monthly_algorithmic_problems/november24_trigrams/dataset.py  \n",
            "  inflating: /content/ARENA_3.0-main/chapter1_transformer_interp/exercises/monthly_algorithmic_problems/november24_trigrams/model.py  \n",
            "  inflating: /content/ARENA_3.0-main/chapter1_transformer_interp/exercises/monthly_algorithmic_problems/november24_trigrams/test_dataset.py  \n",
            "  inflating: /content/ARENA_3.0-main/chapter1_transformer_interp/exercises/monthly_algorithmic_problems/november24_trigrams/training.py  \n",
            "  inflating: /content/ARENA_3.0-main/chapter1_transformer_interp/exercises/monthly_algorithmic_problems/november24_trigrams/training_model.ipynb  \n",
            "  inflating: /content/ARENA_3.0-main/chapter1_transformer_interp/exercises/monthly_algorithmic_problems/november24_trigrams/trigram_model.pt  \n",
            "   creating: /content/ARENA_3.0-main/chapter1_transformer_interp/exercises/monthly_algorithmic_problems/october23_sorted_list/\n",
            "  inflating: /content/ARENA_3.0-main/chapter1_transformer_interp/exercises/monthly_algorithmic_problems/october23_sorted_list/dataset.py  \n",
            "  inflating: /content/ARENA_3.0-main/chapter1_transformer_interp/exercises/monthly_algorithmic_problems/october23_sorted_list/model.py  \n",
            "  inflating: /content/ARENA_3.0-main/chapter1_transformer_interp/exercises/monthly_algorithmic_problems/october23_sorted_list/sorted_list_model.pt  \n",
            "  inflating: /content/ARENA_3.0-main/chapter1_transformer_interp/exercises/monthly_algorithmic_problems/october23_sorted_list/training.py  \n",
            "  inflating: /content/ARENA_3.0-main/chapter1_transformer_interp/exercises/monthly_algorithmic_problems/october23_sorted_list/training_model.ipynb  \n",
            "   creating: /content/ARENA_3.0-main/chapter1_transformer_interp/exercises/monthly_algorithmic_problems/september23_sum/\n",
            "  inflating: /content/ARENA_3.0-main/chapter1_transformer_interp/exercises/monthly_algorithmic_problems/september23_sum/dataset.py  \n",
            "  inflating: /content/ARENA_3.0-main/chapter1_transformer_interp/exercises/monthly_algorithmic_problems/september23_sum/model.py  \n",
            "  inflating: /content/ARENA_3.0-main/chapter1_transformer_interp/exercises/monthly_algorithmic_problems/september23_sum/sum_model.pt  \n",
            "  inflating: /content/ARENA_3.0-main/chapter1_transformer_interp/exercises/monthly_algorithmic_problems/september23_sum/training.py  \n",
            "  inflating: /content/ARENA_3.0-main/chapter1_transformer_interp/exercises/monthly_algorithmic_problems/september23_sum/training_model.ipynb  \n",
            "   creating: /content/ARENA_3.0-main/chapter1_transformer_interp/exercises/part1_transformer_from_scratch/\n",
            "  inflating: /content/ARENA_3.0-main/chapter1_transformer_interp/exercises/part1_transformer_from_scratch/1.1_Transformer_from_Scratch_exercises.ipynb  \n",
            "  inflating: /content/ARENA_3.0-main/chapter1_transformer_interp/exercises/part1_transformer_from_scratch/1.1_Transformer_from_Scratch_solutions.ipynb  \n",
            "  inflating: /content/ARENA_3.0-main/chapter1_transformer_interp/exercises/part1_transformer_from_scratch/solutions.py  \n",
            "  inflating: /content/ARENA_3.0-main/chapter1_transformer_interp/exercises/part1_transformer_from_scratch/tests.py  \n",
            "   creating: /content/ARENA_3.0-main/chapter1_transformer_interp/exercises/part2_intro_to_mech_interp/\n",
            "  inflating: /content/ARENA_3.0-main/chapter1_transformer_interp/exercises/part2_intro_to_mech_interp/1.2_Intro_to_Mech_Interp_exercises.ipynb  \n",
            "  inflating: /content/ARENA_3.0-main/chapter1_transformer_interp/exercises/part2_intro_to_mech_interp/1.2_Intro_to_Mech_Interp_solutions.ipynb  \n",
            "  inflating: /content/ARENA_3.0-main/chapter1_transformer_interp/exercises/part2_intro_to_mech_interp/solutions.py  \n",
            "  inflating: /content/ARENA_3.0-main/chapter1_transformer_interp/exercises/part2_intro_to_mech_interp/tests.py  \n",
            "   creating: /content/ARENA_3.0-main/chapter1_transformer_interp/exercises/part31_superposition_and_saes/\n",
            "  inflating: /content/ARENA_3.0-main/chapter1_transformer_interp/exercises/part31_superposition_and_saes/1.3.1_Toy_Models_of_Superposition_&_SAEs_exercises.ipynb  \n",
            "  inflating: /content/ARENA_3.0-main/chapter1_transformer_interp/exercises/part31_superposition_and_saes/1.3.1_Toy_Models_of_Superposition_&_SAEs_solutions.ipynb  \n",
            "  inflating: /content/ARENA_3.0-main/chapter1_transformer_interp/exercises/part31_superposition_and_saes/solutions.py  \n",
            "  inflating: /content/ARENA_3.0-main/chapter1_transformer_interp/exercises/part31_superposition_and_saes/tests.py  \n",
            "  inflating: /content/ARENA_3.0-main/chapter1_transformer_interp/exercises/part31_superposition_and_saes/utils.py  \n",
            "   creating: /content/ARENA_3.0-main/chapter1_transformer_interp/exercises/part32_interp_with_saes/\n",
            "  inflating: /content/ARENA_3.0-main/chapter1_transformer_interp/exercises/part32_interp_with_saes/1.3.2_Interpretability_with_SAEs_exercises.ipynb  \n",
            "  inflating: /content/ARENA_3.0-main/chapter1_transformer_interp/exercises/part32_interp_with_saes/1.3.2_Interpretability_with_SAEs_solutions.ipynb  \n",
            "  inflating: /content/ARENA_3.0-main/chapter1_transformer_interp/exercises/part32_interp_with_saes/solutions.py  \n",
            "   creating: /content/ARENA_3.0-main/chapter1_transformer_interp/exercises/part41_indirect_object_identification/\n",
            "  inflating: /content/ARENA_3.0-main/chapter1_transformer_interp/exercises/part41_indirect_object_identification/1.4.1_Indirect_Object_Identification_exercises.ipynb  \n",
            "  inflating: /content/ARENA_3.0-main/chapter1_transformer_interp/exercises/part41_indirect_object_identification/1.4.1_Indirect_Object_Identification_solutions.ipynb  \n",
            "  inflating: /content/ARENA_3.0-main/chapter1_transformer_interp/exercises/part41_indirect_object_identification/ioi_circuit_extraction.py  \n",
            "  inflating: /content/ARENA_3.0-main/chapter1_transformer_interp/exercises/part41_indirect_object_identification/ioi_dataset.py  \n",
            "  inflating: /content/ARENA_3.0-main/chapter1_transformer_interp/exercises/part41_indirect_object_identification/solutions.py  \n",
            "  inflating: /content/ARENA_3.0-main/chapter1_transformer_interp/exercises/part41_indirect_object_identification/tests.py  \n",
            "   creating: /content/ARENA_3.0-main/chapter1_transformer_interp/exercises/part42_function_vectors_and_model_steering/\n",
            "  inflating: /content/ARENA_3.0-main/chapter1_transformer_interp/exercises/part42_function_vectors_and_model_steering/1.4.2_Function_Vectors_&_Model_Steering_exercises.ipynb  \n",
            "  inflating: /content/ARENA_3.0-main/chapter1_transformer_interp/exercises/part42_function_vectors_and_model_steering/1.4.2_Function_Vectors_&_Model_Steering_solutions.ipynb  \n",
            "   creating: /content/ARENA_3.0-main/chapter1_transformer_interp/exercises/part42_function_vectors_and_model_steering/data/\n",
            "  inflating: /content/ARENA_3.0-main/chapter1_transformer_interp/exercises/part42_function_vectors_and_model_steering/data/antonym_pairs.txt  \n",
            "  inflating: /content/ARENA_3.0-main/chapter1_transformer_interp/exercises/part42_function_vectors_and_model_steering/data/country_capital_pairs.txt  \n",
            "  inflating: /content/ARENA_3.0-main/chapter1_transformer_interp/exercises/part42_function_vectors_and_model_steering/data/test_fn_vector.pt  \n",
            "  inflating: /content/ARENA_3.0-main/chapter1_transformer_interp/exercises/part42_function_vectors_and_model_steering/data/test_fn_vector_1.pt  \n",
            "  inflating: /content/ARENA_3.0-main/chapter1_transformer_interp/exercises/part42_function_vectors_and_model_steering/data/test_fn_vector_2.pt  \n",
            "  inflating: /content/ARENA_3.0-main/chapter1_transformer_interp/exercises/part42_function_vectors_and_model_steering/data/test_h.pt  \n",
            "  inflating: /content/ARENA_3.0-main/chapter1_transformer_interp/exercises/part42_function_vectors_and_model_steering/solutions.py  \n",
            "  inflating: /content/ARENA_3.0-main/chapter1_transformer_interp/exercises/part42_function_vectors_and_model_steering/tests.py  \n",
            "   creating: /content/ARENA_3.0-main/chapter1_transformer_interp/exercises/part51_balanced_bracket_classifier/\n",
            "  inflating: /content/ARENA_3.0-main/chapter1_transformer_interp/exercises/part51_balanced_bracket_classifier/1.5.1_Balanced_Bracket_Classifier_exercises.ipynb  \n",
            "  inflating: /content/ARENA_3.0-main/chapter1_transformer_interp/exercises/part51_balanced_bracket_classifier/1.5.1_Balanced_Bracket_Classifier_solutions.ipynb  \n",
            "  inflating: /content/ARENA_3.0-main/chapter1_transformer_interp/exercises/part51_balanced_bracket_classifier/brackets_data.json  \n",
            "  inflating: /content/ARENA_3.0-main/chapter1_transformer_interp/exercises/part51_balanced_bracket_classifier/brackets_datasets.py  \n",
            "  inflating: /content/ARENA_3.0-main/chapter1_transformer_interp/exercises/part51_balanced_bracket_classifier/brackets_model_state_dict.pt  \n",
            "  inflating: /content/ARENA_3.0-main/chapter1_transformer_interp/exercises/part51_balanced_bracket_classifier/solutions.py  \n",
            "  inflating: /content/ARENA_3.0-main/chapter1_transformer_interp/exercises/part51_balanced_bracket_classifier/tests.py  \n",
            "   creating: /content/ARENA_3.0-main/chapter1_transformer_interp/exercises/part52_grokking_and_modular_arithmetic/\n",
            "  inflating: /content/ARENA_3.0-main/chapter1_transformer_interp/exercises/part52_grokking_and_modular_arithmetic/1.5.2_Grokking_&_Modular_Arithmetic_exercises.ipynb  \n",
            "  inflating: /content/ARENA_3.0-main/chapter1_transformer_interp/exercises/part52_grokking_and_modular_arithmetic/1.5.2_Grokking_&_Modular_Arithmetic_solutions.ipynb  \n",
            "   creating: /content/ARENA_3.0-main/chapter1_transformer_interp/exercises/part52_grokking_and_modular_arithmetic/Grokking/\n",
            "  inflating: /content/ARENA_3.0-main/chapter1_transformer_interp/exercises/part52_grokking_and_modular_arithmetic/solutions.py  \n",
            "  inflating: /content/ARENA_3.0-main/chapter1_transformer_interp/exercises/part52_grokking_and_modular_arithmetic/tests.py  \n",
            "  inflating: /content/ARENA_3.0-main/chapter1_transformer_interp/exercises/part52_grokking_and_modular_arithmetic/utils.py  \n",
            "   creating: /content/ARENA_3.0-main/chapter1_transformer_interp/exercises/part53_othellogpt/\n",
            "  inflating: /content/ARENA_3.0-main/chapter1_transformer_interp/exercises/part53_othellogpt/1.5.3_OthelloGPT_exercises.ipynb  \n",
            "  inflating: /content/ARENA_3.0-main/chapter1_transformer_interp/exercises/part53_othellogpt/1.5.3_OthelloGPT_solutions.ipynb  \n",
            "  inflating: /content/ARENA_3.0-main/chapter1_transformer_interp/exercises/part53_othellogpt/board_seqs_id_small.npy  \n",
            "  inflating: /content/ARENA_3.0-main/chapter1_transformer_interp/exercises/part53_othellogpt/board_seqs_square_small.npy  \n",
            "  inflating: /content/ARENA_3.0-main/chapter1_transformer_interp/exercises/part53_othellogpt/main_linear_probe.pth  \n",
            "  inflating: /content/ARENA_3.0-main/chapter1_transformer_interp/exercises/part53_othellogpt/solutions.py  \n",
            "  inflating: /content/ARENA_3.0-main/chapter1_transformer_interp/exercises/part53_othellogpt/tests.py  \n",
            "  inflating: /content/ARENA_3.0-main/chapter1_transformer_interp/exercises/part53_othellogpt/utils.py  \n",
            "  inflating: /content/ARENA_3.0-main/chapter1_transformer_interp/exercises/plotly_utils.py  \n"
          ]
        }
      ],
      "source": [
        "import os\n",
        "import sys\n",
        "from pathlib import Path\n",
        "\n",
        "import pkg_resources\n",
        "\n",
        "IN_COLAB = \"google.colab\" in sys.modules\n",
        "\n",
        "chapter = \"chapter1_transformer_interp\"\n",
        "repo = \"ARENA_3.0\"\n",
        "branch = \"main\"\n",
        "\n",
        "# Install dependencies\n",
        "installed_packages = [pkg.key for pkg in pkg_resources.working_set]\n",
        "if \"transformer-lens\" not in installed_packages:\n",
        "    %pip install transformer_lens==2.11.0 einops eindex-callum jaxtyping git+https://github.com/callummcdougall/CircuitsVis.git#subdirectory=python\n",
        "\n",
        "# Get root directory, handling 3 different cases: (1) Colab, (2) notebook not in ARENA repo, (3) notebook in ARENA repo\n",
        "root = (\n",
        "    \"/content\"\n",
        "    if IN_COLAB\n",
        "    else \"/root\"\n",
        "    if repo not in os.getcwd()\n",
        "    else str(next(p for p in Path.cwd().parents if p.name == repo))\n",
        ")\n",
        "\n",
        "if Path(root).exists() and not Path(f\"{root}/{chapter}\").exists():\n",
        "    if not IN_COLAB:\n",
        "        !sudo apt-get install unzip\n",
        "        %pip install jupyter ipython --upgrade\n",
        "\n",
        "    if not os.path.exists(f\"{root}/{chapter}\"):\n",
        "        !wget -P {root} https://github.com/callummcdougall/ARENA_3.0/archive/refs/heads/{branch}.zip\n",
        "        !unzip {root}/{branch}.zip '{repo}-{branch}/{chapter}/exercises/*' -d {root}\n",
        "        !mv {root}/{repo}-{branch}/{chapter} {root}/{chapter}\n",
        "        !rm {root}/{branch}.zip\n",
        "        !rmdir {root}/ARENA_3.0-{branch}\n",
        "\n",
        "\n",
        "if f\"{root}/{chapter}/exercises\" not in sys.path:\n",
        "    sys.path.append(f\"{root}/{chapter}/exercises\")\n",
        "\n",
        "os.chdir(f\"{root}/{chapter}/exercises\")"
      ]
    },
    {
      "cell_type": "code",
      "execution_count": 2,
      "metadata": {
        "id": "SS3PjTn0XliW"
      },
      "outputs": [],
      "source": [
        "import functools\n",
        "import sys\n",
        "from pathlib import Path\n",
        "from typing import Callable\n",
        "\n",
        "import circuitsvis as cv\n",
        "import einops\n",
        "import numpy as np\n",
        "import torch as t\n",
        "import torch.nn as nn\n",
        "import torch.nn.functional as F\n",
        "from eindex import eindex\n",
        "from IPython.display import display\n",
        "from jaxtyping import Float, Int\n",
        "from torch import Tensor\n",
        "from tqdm import tqdm\n",
        "from transformer_lens import (\n",
        "    ActivationCache,\n",
        "    FactoredMatrix,\n",
        "    HookedTransformer,\n",
        "    HookedTransformerConfig,\n",
        "    utils,\n",
        ")\n",
        "from transformer_lens.hook_points import HookPoint\n",
        "\n",
        "device = t.device(\n",
        "    \"mps\" if t.backends.mps.is_available() else \"cuda\" if t.cuda.is_available() else \"cpu\"\n",
        ")\n",
        "\n",
        "# Make sure exercises are in the path\n",
        "chapter = \"chapter1_transformer_interp\"\n",
        "section = \"part2_intro_to_mech_interp\"\n",
        "root_dir = next(p for p in Path.cwd().parents if (p / chapter).exists())\n",
        "exercises_dir = root_dir / chapter / \"exercises\"\n",
        "section_dir = exercises_dir / section\n",
        "\n",
        "import part2_intro_to_mech_interp.tests as tests\n",
        "from plotly_utils import (\n",
        "    hist,\n",
        "    imshow,\n",
        "    plot_comp_scores,\n",
        "    plot_logit_attribution,\n",
        "    plot_loss_difference,\n",
        ")\n",
        "\n",
        "# Saves computation time, since we don't need it for the contents of this notebook\n",
        "t.set_grad_enabled(False)\n",
        "\n",
        "MAIN = __name__ == \"__main__\""
      ]
    },
    {
      "cell_type": "markdown",
      "metadata": {
        "id": "ssFLQrq2XliX"
      },
      "source": [
        "# 1️⃣ TransformerLens: Introduction\n",
        "\n",
        "> ##### Learning Objectives\n",
        ">\n",
        "> - Load and run a `HookedTransformer` model\n",
        "> - Understand the basic architecture of these models\n",
        "> - Use the model's tokenizer to convert text to tokens, and vice versa\n",
        "> - Know how to cache activations, and to access activations from the cache\n",
        "> - Use `circuitsvis` to visualise attention heads"
      ]
    },
    {
      "cell_type": "markdown",
      "metadata": {
        "id": "2zXZiVgYXliX"
      },
      "source": [
        "## Introduction\n",
        "\n",
        "*Note - most of this is written from the POV of Neel Nanda.*\n",
        "\n",
        "This is a demo notebook for [TransformerLens](https://github.com/neelnanda-io/TransformerLens), **a library I ([Neel Nanda](neelnanda.io)) wrote for doing [mechanistic interpretability](https://distill.pub/2020/circuits/zoom-in/) of GPT-2 Style language models.** The goal of mechanistic interpretability is to take a trained model and reverse engineer the algorithms the model learned during training from its weights. It is a fact about the world today that we have computer programs that can essentially speak English at a human level (GPT-3, PaLM, etc), yet we have no idea how they work nor how to write one ourselves. This offends me greatly, and I would like to solve this! Mechanistic interpretability is a very young and small field, and there are a *lot* of open problems - if you would like to help, please try working on one! **Check out my [list of concrete open problems](https://docs.google.com/document/d/1WONBzNqfKIxERejrrPlQMyKqg7jSFW92x5UMXNrMdPo/edit#) to figure out where to start.**\n",
        "\n",
        "I wrote this library because after I left the Anthropic interpretability team and started doing independent research, I got extremely frustrated by the state of open source tooling. There's a lot of excellent infrastructure like HuggingFace and DeepSpeed to *use* or *train* models, but very little to dig into their internals and reverse engineer how they work. **This library tries to solve that**, and to make it easy to get into the field even if you don't work at an industry org with real infrastructure! The core features were heavily inspired by [Anthropic's excellent Garcon tool](https://transformer-circuits.pub/2021/garcon/index.html). Credit to Nelson Elhage and Chris Olah for building Garcon and showing me the value of good infrastructure for accelerating exploratory research!\n",
        "\n",
        "The core design principle I've followed is to enable exploratory analysis - one of the most fun parts of mechanistic interpretability compared to normal ML is the extremely short feedback loops! The point of this library is to keep the gap between having an experiment idea and seeing the results as small as possible, to make it easy for **research to feel like play** and to enter a flow state. This notebook demonstrates how the library works and how to use it, but if you want to see how well it works for exploratory research, check out [my notebook analysing Indirect Objection Identification](https://github.com/neelnanda-io/TransformerLens/blob/main/Exploratory_Analysis_Demo.ipynb) or [my recording of myself doing research](https://www.youtube.com/watch?v=yo4QvDn-vsU)!"
      ]
    },
    {
      "cell_type": "markdown",
      "metadata": {
        "id": "UI5qhY7LXliX"
      },
      "source": [
        "## Loading and Running Models\n",
        "\n",
        "TransformerLens comes loaded with >40 open source GPT-style models. You can load any of them in with `HookedTransformer.from_pretrained(MODEL_NAME)`. For this demo notebook we'll look at GPT-2 Small, an 80M parameter model, see the Available Models section for info on the rest."
      ]
    },
    {
      "cell_type": "code",
      "execution_count": null,
      "metadata": {
        "id": "1_jELonXXliX"
      },
      "outputs": [],
      "source": [
        "gpt2_small: HookedTransformer = HookedTransformer.from_pretrained(\"gpt2-small\")"
      ]
    },
    {
      "cell_type": "markdown",
      "metadata": {
        "id": "XF7C8fUTXliX"
      },
      "source": [
        "### HookedTransformerConfig\n",
        "\n",
        "Alternatively, you can define a config object, then call `HookedTransformer.from_config(cfg)` to define your model. This is particularly useful when you want to have finer control over the architecture of your model. We'll see an example of this in the next section, when we define an attention-only model to study induction heads.\n",
        "\n",
        "Even if you don't define your model in this way, you can still access the config object through the `cfg` attribute of the model."
      ]
    },
    {
      "cell_type": "markdown",
      "metadata": {
        "id": "Q7ytkkpQXliY"
      },
      "source": [
        "### Exercise - inspect your model\n",
        "\n",
        "> ```yaml\n",
        "> Difficulty: 🔴⚪⚪⚪⚪\n",
        "> Importance: 🔵🔵🔵⚪⚪\n",
        "> ```\n",
        "\n",
        "Use `gpt2_small.cfg` to find the following, for your GPT-2 Small model:\n",
        "\n",
        "* Number of layers\n",
        "* Number of heads per layer\n",
        "* Maximum context window\n",
        "\n",
        "You might have to check out the documentation page for some of these. If you're in VSCode then you can reach it by right-clicking on `HookedTransformerConfig` and choosing \"Go to definition\". If you're in Colab, then you can read the [GitHub page](https://github.com/neelnanda-io/TransformerLens).\n",
        "\n",
        "<details>\n",
        "<summary>Answer</summary>\n",
        "\n",
        "The following parameters in the config object give you the answers:\n",
        "\n",
        "```\n",
        "cfg.n_layers == 12\n",
        "cfg.n_heads == 12\n",
        "cfg.n_ctx == 1024\n",
        "```\n",
        "\n",
        "</details>"
      ]
    },
    {
      "cell_type": "code",
      "source": [
        "print(gpt2_small.cfg)\n",
        "print(f'Number of layers: {gpt2_small.cfg.n_layers}\\nNumber of heads per layer: {gpt2_small.cfg.n_heads}\\nMaximum context window: {gpt2_small.cfg.n_ctx}')"
      ],
      "metadata": {
        "colab": {
          "base_uri": "https://localhost:8080/"
        },
        "id": "8hdzv-3Oau3k",
        "outputId": "3584b82c-110c-4e34-960b-224dbfdefe41"
      },
      "execution_count": 4,
      "outputs": [
        {
          "output_type": "stream",
          "name": "stdout",
          "text": [
            "HookedTransformerConfig:\n",
            "{'NTK_by_parts_factor': 8.0,\n",
            " 'NTK_by_parts_high_freq_factor': 4.0,\n",
            " 'NTK_by_parts_low_freq_factor': 1.0,\n",
            " 'act_fn': 'gelu_new',\n",
            " 'attention_dir': 'causal',\n",
            " 'attn_only': False,\n",
            " 'attn_scale': 8.0,\n",
            " 'attn_scores_soft_cap': -1.0,\n",
            " 'attn_types': None,\n",
            " 'checkpoint_index': None,\n",
            " 'checkpoint_label_type': None,\n",
            " 'checkpoint_value': None,\n",
            " 'd_head': 64,\n",
            " 'd_mlp': 3072,\n",
            " 'd_model': 768,\n",
            " 'd_vocab': 50257,\n",
            " 'd_vocab_out': 50257,\n",
            " 'decoder_start_token_id': None,\n",
            " 'default_prepend_bos': True,\n",
            " 'device': device(type='cpu'),\n",
            " 'dtype': torch.float32,\n",
            " 'eps': 1e-05,\n",
            " 'experts_per_token': None,\n",
            " 'final_rms': False,\n",
            " 'from_checkpoint': False,\n",
            " 'gated_mlp': False,\n",
            " 'init_mode': 'gpt2',\n",
            " 'init_weights': False,\n",
            " 'initializer_range': 0.02886751345948129,\n",
            " 'load_in_4bit': False,\n",
            " 'model_name': 'gpt2',\n",
            " 'n_ctx': 1024,\n",
            " 'n_devices': 1,\n",
            " 'n_heads': 12,\n",
            " 'n_key_value_heads': None,\n",
            " 'n_layers': 12,\n",
            " 'n_params': 84934656,\n",
            " 'normalization_type': 'LNPre',\n",
            " 'num_experts': None,\n",
            " 'original_architecture': 'GPT2LMHeadModel',\n",
            " 'output_logits_soft_cap': -1.0,\n",
            " 'parallel_attn_mlp': False,\n",
            " 'positional_embedding_type': 'standard',\n",
            " 'post_embedding_ln': False,\n",
            " 'relative_attention_max_distance': None,\n",
            " 'relative_attention_num_buckets': None,\n",
            " 'rotary_adjacent_pairs': False,\n",
            " 'rotary_base': 10000,\n",
            " 'rotary_dim': None,\n",
            " 'scale_attn_by_inverse_layer_idx': False,\n",
            " 'seed': None,\n",
            " 'tie_word_embeddings': False,\n",
            " 'tokenizer_name': 'gpt2',\n",
            " 'tokenizer_prepends_bos': False,\n",
            " 'trust_remote_code': False,\n",
            " 'ungroup_grouped_query_attention': False,\n",
            " 'use_NTK_by_parts_rope': False,\n",
            " 'use_attn_in': False,\n",
            " 'use_attn_result': False,\n",
            " 'use_attn_scale': True,\n",
            " 'use_hook_mlp_in': False,\n",
            " 'use_hook_tokens': False,\n",
            " 'use_local_attn': False,\n",
            " 'use_normalization_before_and_after': False,\n",
            " 'use_split_qkv_input': False,\n",
            " 'window_size': None}\n",
            "Number of layers: 12\n",
            "Number of heads per layer: 12\n",
            "Maximum context window: 1024\n"
          ]
        }
      ]
    },
    {
      "cell_type": "markdown",
      "metadata": {
        "id": "IJ4i__fbXliY"
      },
      "source": [
        "### Running your model\n",
        "\n",
        "Models can be run on a single string or a tensor of tokens (shape: `[batch, position]`, all integers). The possible return types are:\n",
        "\n",
        "* `\"logits\"` (shape `[batch, position, d_vocab]`, floats),\n",
        "* `\"loss\"` (the cross-entropy loss when predicting the next token),\n",
        "* `\"both\"` (a tuple of `(logits, loss)`)\n",
        "* `None` (run the model, but don't calculate the logits - this is faster when we only want to use intermediate activations)"
      ]
    },
    {
      "cell_type": "code",
      "execution_count": 5,
      "metadata": {
        "colab": {
          "base_uri": "https://localhost:8080/",
          "height": 192
        },
        "id": "Ww3nbpfFXliY",
        "outputId": "81bd11d4-a5ca-49ee-d062-fa150f9d3d29"
      },
      "outputs": [
        {
          "output_type": "stream",
          "name": "stdout",
          "text": [
            "Model loss: tensor(4.3443)\n",
            "Model logits: tensor([[[ 7.5261, 11.1214,  7.8919,  ..., -3.1299, -3.3873,  8.5934],\n",
            "         [ 6.4374,  6.6423,  7.9894,  ..., -3.1102, -3.3172,  6.9129],\n",
            "         [ 9.9369,  5.4857,  4.5168,  ...,  0.8547, -1.9129,  8.6622],\n",
            "         ...,\n",
            "         [ 5.8265,  3.7776,  2.6125,  ..., -1.4690, -1.6947,  5.3947],\n",
            "         [11.2830,  6.5782,  6.8157,  ..., -1.9103, -1.2812, 10.0311],\n",
            "         [ 6.6811,  4.1927,  8.6574,  ..., -3.2836, -2.3790, 12.7244]]])\n"
          ]
        },
        {
          "output_type": "execute_result",
          "data": {
            "text/plain": [
              "\"\\n\\n...\\n\\n##uge onformer\\n with with all100 models models modelsIM modelsbased models.\\n can use them of these from your thehookedTransformer`.load`modelend_modelULE_NAME,`.\\n model has a with the ` `TransTransformer.. and to be used and easy and easyable-free.\\n\\n## example tutorial,, will use at thePT-style., Medium openxbized with\\n load out model, following is, you's use the `less the model:\\n\""
            ],
            "application/vnd.google.colaboratory.intrinsic+json": {
              "type": "string"
            }
          },
          "metadata": {},
          "execution_count": 5
        }
      ],
      "source": [
        "model_description_text = \"\"\"## Loading Models\n",
        "\n",
        "HookedTransformer comes loaded with >40 open source GPT-style models. You can load any of them in with `HookedTransformer.from_pretrained(MODEL_NAME)`. Each model is loaded into the consistent HookedTransformer architecture, designed to be clean, consistent and interpretability-friendly.\n",
        "\n",
        "For this demo notebook we'll look at GPT-2 Small, an 80M parameter model. To try the model the model out, let's find the loss on this paragraph!\"\"\"\n",
        "\n",
        "logits, loss = gpt2_small(model_description_text, return_type=\"both\")\n",
        "print(\"Model loss:\", loss)\n",
        "print(\"Model logits:\", logits)\n",
        "gpt2_small.to_string(logits.argmax(dim=-1).squeeze())"
      ]
    },
    {
      "cell_type": "markdown",
      "metadata": {
        "id": "uWsSookZXliY"
      },
      "source": [
        "<pre style=\"white-space:pre;overflow-x:auto;line-height:normal;font-family:Menlo,'DejaVu Sans Mono',consolas,'Courier New',monospace\">Model loss: tensor(4.3443, device='cuda:0')</pre>"
      ]
    },
    {
      "cell_type": "markdown",
      "metadata": {
        "id": "Mq0hLE5dXliY"
      },
      "source": [
        "## Transformer architecture\n",
        "\n",
        "HookedTransformer is a somewhat adapted GPT-2 architecture, but is computationally identical. The most significant changes are to the internal structure of the attention heads:\n",
        "\n",
        "* The weights `W_K`, `W_Q`, `W_V` mapping the residual stream to queries, keys and values are 3 separate matrices, rather than big concatenated one.\n",
        "* The weight matrices `W_K`, `W_Q`, `W_V`, `W_O` and activations have separate `head_index` and `d_head` axes, rather than flattening them into one big axis.\n",
        "    * The activations all have shape `[batch, position, head_index, d_head]`.\n",
        "    * `W_K`, `W_Q`, `W_V` have shape `[head_index, d_model, d_head]` and `W_O` has shape `[head_index, d_head, d_model]`\n",
        "* **Important - we generally follow the convention that weight matrices multiply on the right rather than the left.** In other words, they have shape `[input, output]`, and we have `new_activation = old_activation @ weights + bias`.\n",
        "    * Click the dropdown below for examples of this, if it seems unintuitive.\n",
        "\n",
        "<details>\n",
        "<summary>Examples of matrix multiplication in our model</summary>\n",
        "\n",
        "* **Query matrices**\n",
        "    * Each query matrix `W_Q` for a particular layer and head has shape `[d_model, d_head]`.\n",
        "    * So if a vector `x` in the residual stream has length `d_model`, then the corresponding query vector is `x @ W_Q`, which has length `d_head`.\n",
        "* **Embedding matrix**\n",
        "    * The embedding matrix `W_E` has shape `[d_vocab, d_model]`.\n",
        "    * So if `A` is a one-hot-encoded vector of length `d_vocab` corresponding to a particular token, then the embedding vector for this token is `A @ W_E`, which has length `d_model`.\n",
        "\n",
        "</details>\n",
        "\n",
        "The actual code is a bit of a mess, as there's a variety of Boolean flags to make it consistent with the various different model families in TransformerLens - to understand it and the internal structure, I instead recommend reading the code in [CleanTransformerDemo](https://colab.research.google.com/github/neelnanda-io/TransformerLens/blob/clean-transformer-demo/Clean_Transformer_Demo.ipynb)."
      ]
    },
    {
      "cell_type": "markdown",
      "metadata": {
        "id": "Uysu6PKKXliY"
      },
      "source": [
        "### Parameters and Activations\n",
        "\n",
        "It's important to distinguish between parameters and activations in the model.\n",
        "\n",
        "* **Parameters** are the weights and biases that are learned during training.\n",
        "    * These don't change when the model input changes.\n",
        "    * They can be accessed directly from the model, e.g. `model.W_E` for the embedding matrix.\n",
        "* **Activations** are temporary numbers calculated during a forward pass, that are functions of the input.\n",
        "    * We can think of these values as only existing for the duration of a single forward pass, and disappearing afterwards.\n",
        "    * We can use hooks to access these values during a forward pass (more on hooks later), but it doesn't make sense to talk about a model's activations outside the context of some particular input.\n",
        "    * Attention scores and patterns are activations (this is slightly non-intuitve because they're used in a matrix multiplication with another activation).\n",
        "\n",
        "The link below shows a diagram of a single layer (called a `TransformerBlock`) for an attention-only model with no biases. Each box corresponds to an **activation** (and also tells you the name of the corresponding hook point, which we will eventually use to access those activations). The red text below each box tells you the shape of the activation (ignoring the batch dimension). Each arrow corresponds to an operation on an activation; where there are **parameters** involved these are labelled on the arrows.\n",
        "\n",
        "[Link to diagram](https://raw.githubusercontent.com/info-arena/ARENA_img/main/misc/small-merm.svg)\n",
        "\n",
        "The next link is to a diagram of a `TransformerBlock` with full features (including biases, layernorms, and MLPs). Don't worry if not all of this makes sense at first - we'll return to some of the details later. As we work with these transformers, we'll get more comfortable with their architecture.\n",
        "\n",
        "[Link to diagram](https://raw.githubusercontent.com/info-arena/ARENA_img/main/misc/full-merm.svg)"
      ]
    },
    {
      "cell_type": "markdown",
      "metadata": {
        "id": "KI1aaJHXXliZ"
      },
      "source": [
        "A few shortcuts to make your lives easier when using these models:\n",
        "\n",
        "* You can index weights like `W_Q` directly from the model via e.g. `model.blocks[0].attn.W_Q` (which gives you the `[nheads, d_model, d_head]` query weights for all heads in layer 0).\n",
        "    * But an easier way is just to index with `model.W_Q`, which gives you the `[nlayers, nheads, d_model, d_head]` tensor containing **every** query weight in the model.\n",
        "* Similarly, there exist shortcuts `model.W_E`, `model.W_U` and `model.W_pos` for the embeddings, unembeddings and positional embeddings respectively.\n",
        "* With models containing MLP layers, you also have `model.W_in` and `model.W_out` for the linear layers.\n",
        "* The same is true for all biases (e.g. `model.b_Q` for all query biases)."
      ]
    },
    {
      "cell_type": "markdown",
      "metadata": {
        "id": "P6DXGdsfXliZ"
      },
      "source": [
        "## Tokenization\n",
        "\n",
        "The tokenizer is stored inside the model, and you can access it using `model.tokenizer`. There are also a few helper methods that call the tokenizer under the hood, for instance:\n",
        "\n",
        "* `model.to_str_tokens(text)` converts a string into a list of tokens-as-strings (or a list of strings into a list of lists of tokens-as-strings).\n",
        "* `model.to_tokens(text)` converts a string into a tensor of tokens.\n",
        "* `model.to_string(tokens)` converts a tensor of tokens into a string.\n",
        "\n",
        "Examples of use:"
      ]
    },
    {
      "cell_type": "code",
      "execution_count": 6,
      "metadata": {
        "colab": {
          "base_uri": "https://localhost:8080/"
        },
        "id": "7CGxTYtaXliZ",
        "outputId": "64185567-bb7e-4c56-c344-6bb527fd7503"
      },
      "outputs": [
        {
          "output_type": "stream",
          "name": "stdout",
          "text": [
            "['<|endoftext|>', 'g', 'pt', '2']\n",
            "[['<|endoftext|>', 'g', 'pt', '2'], ['<|endoftext|>', 'g', 'pt', '2']]\n",
            "tensor([[50256,    70,   457,    17]])\n",
            "<|endoftext|>gpt2\n",
            "tensor([[50256,  3123,    78, 39451]])\n",
            "['<|endoftext|>', 'Le', 'o', ' Gott']\n"
          ]
        }
      ],
      "source": [
        "print(gpt2_small.to_str_tokens(\"gpt2\"))\n",
        "print(gpt2_small.to_str_tokens([\"gpt2\", \"gpt2\"]))\n",
        "print(gpt2_small.to_tokens(\"gpt2\"))\n",
        "print(gpt2_small.to_string([50256, 70, 457, 17]))\n",
        "\n",
        "print(gpt2_small.to_tokens(\"Leo Gott\"))\n",
        "print(gpt2_small.to_str_tokens(\"Leo Gott\"))"
      ]
    },
    {
      "cell_type": "markdown",
      "metadata": {
        "id": "4MYUvWj2XliZ"
      },
      "source": [
        "<pre style=\"white-space:pre;overflow-x:auto;line-height:normal;font-family:Menlo,'DejaVu Sans Mono',consolas,'Courier New',monospace\">['<|endoftext|>', 'g', 'pt', '2']\n",
        "[['<|endoftext|>', 'g', 'pt', '2'], ['<|endoftext|>', 'g', 'pt', '2']]\n",
        "tensor([[50256,    70,   457,    17]], device='cuda:0')\n",
        "<|endoftext|>gpt2</pre>"
      ]
    },
    {
      "cell_type": "markdown",
      "metadata": {
        "id": "-pzfagBRXliZ"
      },
      "source": [
        "<details>\n",
        "<summary>Aside - <code><|endoftext|></code></summary>\n",
        "\n",
        "A weirdness you may have noticed in the above is that `to_tokens` and `to_str_tokens` added a weird `<|endoftext|>` to the start of each prompt. We encountered this in the previous set of exercises, and noted that this was the **Beginning of Sequence (BOS)** token (which for GPT-2 is also the same as the EOS and PAD tokens - index `50256`.\n",
        "\n",
        "TransformerLens appends this token by default, and it can easily trip up new users. Notably, **this includes** `model.forward` (which is what's implicitly used when you do eg `model(\"Hello World\")`). You can disable this behaviour by setting the flag `prepend_bos=False` in `to_tokens`, `to_str_tokens`, `model.forward` and any other function that converts strings to multi-token tensors.\n",
        "\n",
        "`prepend_bos` is a bit of a hack, and I've gone back and forth on what the correct default here is. The reason I do this is that transformers tend to treat the first token weirdly - this doesn't really matter in training (where all inputs are >1000 tokens), but this can be a big issue when investigating short prompts! The reason for this is that attention patterns are a probability distribution and so need to add up to one, so to simulate being \"off\" they normally look at the first token. Giving them a BOS token lets the heads rest by looking at that, preserving the information in the first \"real\" token.\n",
        "\n",
        "Further, *some* models are trained to need a BOS token (OPT and my interpretability-friendly models are, GPT-2 and GPT-Neo are not). But despite GPT-2 not being trained with this, empirically it seems to make interpretability easier.\n",
        "\n",
        "</details>"
      ]
    },
    {
      "cell_type": "markdown",
      "metadata": {
        "id": "YPmT8Z9KXliZ"
      },
      "source": [
        "### Exercise - how many tokens does your model guess correctly?\n",
        "\n",
        "> ```yaml\n",
        "> Difficulty: 🔴🔴⚪⚪⚪\n",
        "> Importance: 🔵🔵🔵⚪⚪\n",
        ">\n",
        "> You should spend up to ~10 minutes on this exercise.\n",
        "> ```\n",
        "\n",
        "Consider the `model_description_text` you fed into your model above. How many tokens did your model guess correctly? Which tokens were correct?"
      ]
    },
    {
      "cell_type": "code",
      "execution_count": 7,
      "metadata": {
        "colab": {
          "base_uri": "https://localhost:8080/"
        },
        "id": "0DwdgXGaXliZ",
        "outputId": "cef817db-54c0-4bb2-9a61-3d56957e3ead"
      },
      "outputs": [
        {
          "output_type": "stream",
          "name": "stdout",
          "text": [
            "## Loading Models\n",
            "\n",
            "HookedTransformer comes loaded with >40 open source GPT-style models. You can load any of them in with `HookedTransformer.from_pretrained(MODEL_NAME)`. Each model is loaded into the consistent HookedTransformer architecture, designed to be clean, consistent and interpretability-friendly.\n",
            "\n",
            "For this demo notebook we'll look at GPT-2 Small, an 80M parameter model. To try the model the model out, let's find the loss on this paragraph!\n",
            "tensor([  198,   198,   986,   198,   198,  2235,  2217,   319, 16354,   198,\n",
            "          351,   351,   477,  3064,  4981,  4981,  4981,  3955,  4981,  3106,\n",
            "         4981,    13,   198,   460,   779,   606,   286,   777,   422,   534,\n",
            "          262,    71, 46288,  8291, 16354, 44646,  2220,    63, 19849,   437,\n",
            "           62, 19849, 24212,    62, 20608,    11, 44646,   198,  2746,   468,\n",
            "          257,   351,   262,  4600,  4600,  8291,  8291, 16354,    13,    13,\n",
            "          290,   284,   307,   973,   290,  2562,   290,  2562,   540,    12,\n",
            "         5787,    13,   198,   198,  2235,  1672, 11808,    11,    11,   481,\n",
            "          779,   379,   262, 11571,    12,  7635,    13,    11, 13398,  1280,\n",
            "           87,    65,  1143,   351,   198,  3440,   503,  2746,    11,  1708,\n",
            "          318,    11,   345,   338,   779,   262,  4600,  1203,   262,  2746,\n",
            "           25])\n",
            "tensor([50256,  2235, 12320, 32329,   198,   198,    39, 46288,  8291, 16354,\n",
            "         2058,  9639,   351,  1875,  1821,  1280,  2723,   402, 11571,    12,\n",
            "         7635,  4981,    13,   921,   460,  3440,   597,   286,   606,   287,\n",
            "          351,  4600,    39, 46288,  8291, 16354,    13,  6738,    62,  5310,\n",
            "        13363,     7, 33365,  3698,    62, 20608,     8, 44646,  5501,  2746,\n",
            "          318,  9639,   656,   262,  6414, 18531,   276,  8291, 16354, 10959,\n",
            "           11,  3562,   284,   307,  3424,    11,  6414,   290,  6179,  1799,\n",
            "           12, 13120,    13,   198,   198,  1890,   428, 13605, 20922,   356,\n",
            "         1183,   804,   379,   402, 11571,    12,    17, 10452,    11,   281,\n",
            "         4019,    44, 11507,  2746,    13,  1675,  1949,   262,  2746,   262,\n",
            "         2746,   503,    11,  1309,   338,  1064,   262,  2994,   319,   428,\n",
            "         7322,     0])\n",
            "Model accuracy: 33/111\n",
            "Correct tokens: [3, tensor(198), 4, tensor(198), 8, tensor(16354), 11, tensor(351), 20, tensor(4981), 21, tensor(13), 23, tensor(460), 26, tensor(286), 32, tensor(46288), 33, tensor(8291), 34, tensor(16354), 43, tensor(62), 44, tensor(20608), 46, tensor(44646), 48, tensor(2746), 52, tensor(262), 56, tensor(8291), 57, tensor(16354), 61, tensor(284), 62, tensor(307), 66, tensor(290), 69, tensor(12), 71, tensor(13), 72, tensor(198), 73, tensor(198), 81, tensor(379), 83, tensor(11571), 84, tensor(12), 87, tensor(11), 97, tensor(2746), 101, tensor(11), 103, tensor(338), 105, tensor(262)]\n"
          ]
        }
      ],
      "source": [
        "logits: Tensor = gpt2_small(model_description_text, return_type=\"logits\")\n",
        "prediction = logits.argmax(dim=-1).squeeze()[:-1]\n",
        "\n",
        "# YOUR CODE HERE - get the model's prediction on the text\n",
        "print(model_description_text)\n",
        "print(prediction)\n",
        "\n",
        "tokenised_input = gpt2_small.to_tokens(model_description_text).squeeze()\n",
        "print(tokenised_input)\n",
        "\n",
        "correct_counter = 0\n",
        "correct_tokens = []\n",
        "for i in range(len(prediction)-1):\n",
        "  if prediction[i] == tokenised_input[i+1]:\n",
        "    correct_counter += 1\n",
        "    correct_tokens += (i, prediction[i])\n",
        "\n",
        "print(f\"Model accuracy: {correct_counter}/{len(prediction)}\")\n",
        "print(f\"Correct tokens: {correct_tokens}\")"
      ]
    },
    {
      "cell_type": "markdown",
      "metadata": {
        "id": "AEDXVFZsXliZ"
      },
      "source": [
        "<details>\n",
        "<summary>Hint</summary>\n",
        "\n",
        "Use `return_type=\"logits\"` to get the model's predictions, then take argmax across the vocab dimension. Then, compare these predictions with the actual tokens, derived from the `model_description_text`.\n",
        "\n",
        "Remember, you should be comparing the `[:-1]`th elements of this tensor of predictions with the `[1:]`th elements of the input tokens (because your model's output represents a probability distribution over the *next* token, not the current one).\n",
        "\n",
        "Also, remember to handle the batch dimension (since `logits`, and the output of `to_tokens`, will both have batch dimensions by default).\n",
        "\n",
        "</details>\n",
        "\n",
        "<details>\n",
        "<summary>Answer - what you should see</summary>\n",
        "\n",
        "<pre style=\"white-space:pre;overflow-x:auto;line-height:normal;font-family:Menlo,'DejaVu Sans Mono',consolas,'Courier New',monospace\">Model accuracy: 33/111\n",
        "Correct tokens: ['\\n', '\\n', 'former', ' with', ' models', '.', ' can', ' of', 'ooked', 'Trans', 'former', '_', 'NAME', '`.', ' model', ' the', 'Trans', 'former', ' to', ' be', ' and', '-', '.', '\\n', '\\n', ' at', 'PT', '-', ',', ' model', ',', \"'s\", ' the']\n",
        "</pre>\n",
        "\n",
        "So the model got 33 out of 111 tokens correct. Not too bad!\n",
        "\n",
        "</details>\n",
        "\n",
        "\n",
        "<details><summary>Solution</summary>\n",
        "\n",
        "```python\n",
        "logits: Tensor = gpt2_small(model_description_text, return_type=\"logits\")\n",
        "prediction = logits.argmax(dim=-1).squeeze()[:-1]\n",
        "\n",
        "true_tokens = gpt2_small.to_tokens(model_description_text).squeeze()[1:]\n",
        "is_correct = prediction == true_tokens\n",
        "\n",
        "print(f\"Model accuracy: {is_correct.sum()}/{len(true_tokens)}\")\n",
        "print(f\"Correct tokens: {gpt2_small.to_str_tokens(prediction[is_correct])}\")\n",
        "```\n",
        "</details>"
      ]
    },
    {
      "cell_type": "markdown",
      "metadata": {
        "id": "-Wif7unsXlia"
      },
      "source": [
        "**Induction heads** are a special kind of attention head which we'll examine a lot more in coming exercises. They allow a model to perform in-context learning of a specific form: generalising from one observation that token `B` follows token `A`, to predict that token `B` will follow `A` in future occurrences of `A`, even if these two tokens had never appeared together in the model's training data.\n",
        "\n",
        "**Can you see evidence of any induction heads at work, on this text?**\n",
        "\n",
        "<details>\n",
        "<summary>Evidence of induction heads</summary>\n",
        "\n",
        "The evidence for induction heads comes from the fact that the model successfully predicted `'ooked', 'Trans', 'former'` following the token `'H'`. This is because it's the second time that `HookedTransformer` had appeared in this text string, and the model predicted it the second time but not the first. (The model did predict `former` the first time, but we can reasonably assume that `Transformer` is a word this model had already been exposed to during training, so this prediction wouldn't require the induction capability, unlike `HookedTransformer`.)\n",
        "\n",
        "```python\n",
        "print(gpt2_small.to_str_tokens(\"HookedTransformer\", prepend_bos=False))     # --> ['H', 'ooked', 'Trans', 'former']\n",
        "```\n",
        "</details>"
      ]
    },
    {
      "cell_type": "markdown",
      "metadata": {
        "id": "F3kZViG3Xlia"
      },
      "source": [
        "## Caching all Activations\n",
        "\n",
        "The first basic operation when doing mechanistic interpretability is to break open the black box of the model and look at all of the internal activations of a model. This can be done with `logits, cache = model.run_with_cache(tokens)`. Let's try this out, on the first sentence from the GPT-2 paper.\n",
        "\n",
        "<details>\n",
        "<summary>Aside - a note on <code>remove_batch_dim</code></summary>\n",
        "\n",
        "Every activation inside the model begins with a batch dimension. Here, because we only entered a single batch dimension, that dimension is always length 1 and kinda annoying, so passing in the `remove_batch_dim=True` keyword removes it.\n",
        "\n",
        "`gpt2_cache_no_batch_dim = gpt2_cache.remove_batch_dim()` would have achieved the same effect.\n",
        "</details>"
      ]
    },
    {
      "cell_type": "code",
      "execution_count": 8,
      "metadata": {
        "colab": {
          "base_uri": "https://localhost:8080/"
        },
        "id": "HQPlSfPxXlia",
        "outputId": "f374249d-4ef6-4e40-d141-bc1bd7ad3f7e"
      },
      "outputs": [
        {
          "output_type": "stream",
          "name": "stdout",
          "text": [
            "<class 'torch.Tensor'> <class 'transformer_lens.ActivationCache.ActivationCache'>\n"
          ]
        }
      ],
      "source": [
        "gpt2_text = \"Natural language processing tasks, such as question answering, machine translation, reading comprehension, and summarization, are typically approached with supervised learning on task-specific datasets.\"\n",
        "gpt2_tokens = gpt2_small.to_tokens(gpt2_text)\n",
        "gpt2_logits, gpt2_cache = gpt2_small.run_with_cache(gpt2_tokens, remove_batch_dim=True)\n",
        "\n",
        "print(type(gpt2_logits), type(gpt2_cache))"
      ]
    },
    {
      "cell_type": "markdown",
      "metadata": {
        "id": "21DC1PJ1Xlia"
      },
      "source": [
        "If you inspect the `gpt2_cache` object, you should see that it contains a very large number of keys, each one corresponding to a different activation in the model. You can access the keys by indexing the cache directly, or by a more convenient indexing shorthand. For instance, here are 2 ways to extract the attention patterns for layer 0:"
      ]
    },
    {
      "cell_type": "code",
      "execution_count": 9,
      "metadata": {
        "id": "Fn70QBEZXlia"
      },
      "outputs": [],
      "source": [
        "attn_patterns_from_shorthand = gpt2_cache[\"pattern\", 0]\n",
        "attn_patterns_from_full_name = gpt2_cache[\"blocks.0.attn.hook_pattern\"]\n",
        "\n",
        "t.testing.assert_close(attn_patterns_from_shorthand, attn_patterns_from_full_name)"
      ]
    },
    {
      "cell_type": "markdown",
      "metadata": {
        "id": "nC_IrgewXlia"
      },
      "source": [
        "<details>\n",
        "<summary>Aside: <code>utils.get_act_name</code></summary>\n",
        "\n",
        "The reason these are the same is that, under the hood, the first example actually indexes by `utils.get_act_name(\"pattern\", 0)`, which evaluates to `\"blocks.0.attn.hook_pattern\"`.\n",
        "\n",
        "In general, `utils.get_act_name` is a useful function for getting the full name of an activation, given its short name and layer number.\n",
        "\n",
        "You can use the diagram from the **Transformer Architecture** section to help you find activation names.\n",
        "</details>"
      ]
    },
    {
      "cell_type": "markdown",
      "metadata": {
        "id": "mmz9Yf5iXlib"
      },
      "source": [
        "### Exercise - verify activations\n",
        "\n",
        "> ```yaml\n",
        "> Difficulty: 🔴🔴🔴⚪⚪\n",
        "> Importance: 🔵🔵🔵⚪⚪\n",
        ">\n",
        "> You should spend up to 10-15 minutes on this exercise.\n",
        ">\n",
        "> If you're already comfortable implementing things like attention calculations (e.g. having gone through Neel's transformer walkthrough) you can skip this exercise. However, it might serve as a useful refresher.\n",
        "> ```\n",
        "\n",
        "Verify that `hook_q`, `hook_k` and `hook_pattern` are related to each other in the way implied by the diagram. Do this by computing `layer0_pattern_from_cache` (the attention pattern taken directly from the cache, for layer 0) and `layer0_pattern_from_q_and_k` (the attention pattern calculated from `hook_q` and `hook_k`, for layer 0). Remember that attention pattern is the probabilities, so you'll need to scale and softmax appropriately."
      ]
    },
    {
      "cell_type": "code",
      "execution_count": 10,
      "metadata": {
        "colab": {
          "base_uri": "https://localhost:8080/"
        },
        "id": "ct9Rf8xTXlib",
        "outputId": "37900f23-c671-459b-f475-d36356fa03d2"
      },
      "outputs": [
        {
          "output_type": "stream",
          "name": "stdout",
          "text": [
            "torch.Size([33, 12, 64])\n",
            "torch.Size([33, 12, 64])\n",
            "torch.Size([33, 12, 64])\n",
            "torch.Size([12, 33, 33])\n",
            "Tests passed!\n"
          ]
        }
      ],
      "source": [
        "layer0_pattern_from_cache = gpt2_cache[\"pattern\", 0]\n",
        "\n",
        "# YOUR CODE HERE - define `layer0_pattern_from_q_and_k` manually, by manually performing the\n",
        "# steps of the attention calculation (dot product, masking, scaling, softmax)\n",
        "\n",
        "key_from_cache = gpt2_cache[\"k\", 0]\n",
        "query_from_cache = gpt2_cache[\"q\", 0]\n",
        "value_from_cache = gpt2_cache[\"v\", 0]\n",
        "\n",
        "print(key_from_cache.shape)\n",
        "print(query_from_cache.shape)\n",
        "print(value_from_cache.shape)\n",
        "\n",
        "# combine key and query matricies\n",
        "attn_scores = einops.einsum(query_from_cache, key_from_cache, \"Q_pos n_heads d_head, K_pos n_heads d_head -> n_heads Q_pos K_pos\")\n",
        "attn_scores = attn_scores / (query_from_cache.shape[-1] ** 0.5) # apply some normalisation\n",
        "\n",
        "# create and apply mask\n",
        "mask = t.triu(t.ones((query_from_cache.shape[0], key_from_cache.shape[0]), dtype=t.bool), diagonal=1).to(device)\n",
        "masked_attn_scores = attn_scores.masked_fill_(mask, -1e9)\n",
        "\n",
        "# apply softmax along key dimension\n",
        "attention_pattern = masked_attn_scores.softmax(dim=-1)\n",
        "print(attention_pattern.shape)\n",
        "\n",
        "layer0_pattern_from_q_and_k = attention_pattern\n",
        "t.testing.assert_close(layer0_pattern_from_cache, layer0_pattern_from_q_and_k)\n",
        "print(\"Tests passed!\")"
      ]
    },
    {
      "cell_type": "markdown",
      "metadata": {
        "id": "ZZP6Dk9qXlib"
      },
      "source": [
        "<details>\n",
        "<summary>Hint</summary>\n",
        "\n",
        "You'll need to use three different cache indexes in all:\n",
        "\n",
        "* `gpt2_cache[\"pattern\", 0]` to get the attention patterns, which have shape `[nhead, seqQ, seqK]`\n",
        "* `gpt2_cache[\"q\", 0]` to get the query vectors, which have shape `[seqQ, nhead, headsize]`\n",
        "* `gpt2_cache[\"k\", 0]` to get the key vectors, which have shape `[seqK, nhead, headsize]`\n",
        "\n",
        "</details>\n",
        "\n",
        "\n",
        "<details><summary>Solution</summary>\n",
        "\n",
        "```python\n",
        "layer0_pattern_from_cache = gpt2_cache[\"pattern\", 0]\n",
        "\n",
        "q, k = gpt2_cache[\"q\", 0], gpt2_cache[\"k\", 0]\n",
        "seq, nhead, headsize = q.shape\n",
        "layer0_attn_scores = einops.einsum(q, k, \"seqQ n h, seqK n h -> n seqQ seqK\")\n",
        "mask = t.triu(t.ones((seq, seq), dtype=t.bool), diagonal=1).to(device)\n",
        "layer0_attn_scores.masked_fill_(mask, -1e9)\n",
        "layer0_pattern_from_q_and_k = (layer0_attn_scores / headsize**0.5).softmax(-1)\n",
        "```\n",
        "</details>"
      ]
    },
    {
      "cell_type": "markdown",
      "metadata": {
        "id": "r91d3_nbXlib"
      },
      "source": [
        "## Visualising Attention Heads\n",
        "\n",
        "A key insight from the Mathematical Frameworks paper is that we should focus on interpreting the parts of the model that are intrinsically interpretable - the input tokens, the output logits and the attention patterns. Everything else (the residual stream, keys, queries, values, etc) are compressed intermediate states when calculating meaningful things. So a natural place to start is classifying heads by their attention patterns on various texts.\n",
        "\n",
        "When doing interpretability, it's always good to begin by visualising your data, rather than taking summary statistics. Summary statistics can be super misleading! But now that we have visualised the attention patterns, we can create some basic summary statistics and use our visualisations to validate them! (Accordingly, being good at web dev/data visualisation is a surprisingly useful skillset! Neural networks are very high-dimensional object.)\n",
        "\n",
        "Let's visualize the attention pattern of all the heads in layer 0, using [Alan Cooney's CircuitsVis library](https://github.com/alan-cooney/CircuitsVis) (based on Anthropic's PySvelte library). If you did the previous set of exercises, you'll have seen this library before.\n",
        "\n",
        "We will use the function `cv.attention.attention_patterns`, which takes two important arguments:\n",
        "\n",
        "* `attention`: the attention head patterns, of shape `[n_heads, seq_len, seq_len]`. This consists of the stacked grid of attention probabilities for each head, i.e. `attention[head, d, s]` is the attention probability from destination position `d` to source position `s` in attention head `head`.\n",
        "* `tokens`: List of tokens, which should have the same length as the `seq_len` dimension of `attention`. Make sure you're not accidentally passing in a list with a dummy dimension, or that differs from `seq_len` because of the BOS token!\n",
        "\n",
        "This visualization is interactive! Try hovering over a token or head, and click to lock. The grid on the top left and for each head is the attention pattern as a destination position by source position grid. It's lower triangular because GPT-2 has **causal attention**, attention can only look backwards, so information can only move forwards in the network.\n",
        "\n",
        "> Note - you can also use the `cv.attention.attention_heads` function, which presents the data in a different way (the syntax is exactly the same as `attention_patterns`). Note, if you display this in VSCode then it may exhibit a bug where the main plot continually shrinks in size - if this happens, you should instead save the HTML (i.e. with `html = cv.attention.attention_heads(...); with open(\"attn_heads.html\", \"w\") as f: f.write(str(html))`) and open the plot in your browser."
      ]
    },
    {
      "cell_type": "code",
      "execution_count": null,
      "metadata": {
        "id": "SqfzpIl0Xlib"
      },
      "outputs": [],
      "source": [
        "print(type(gpt2_cache))\n",
        "attention_pattern = gpt2_cache[\"pattern\", 0]\n",
        "print(attention_pattern.shape)\n",
        "gpt2_str_tokens = gpt2_small.to_str_tokens(gpt2_text)\n",
        "\n",
        "print(\"Layer 0 Head Attention Patterns:\")\n",
        "display(\n",
        "    cv.attention.attention_patterns(\n",
        "        tokens=gpt2_str_tokens,\n",
        "        attention=attention_pattern,\n",
        "        attention_head_names=[f\"L0H{i}\" for i in range(12)],\n",
        "    )\n",
        ")"
      ]
    },
    {
      "cell_type": "markdown",
      "metadata": {
        "id": "4CyX4AjoXlif"
      },
      "source": [
        "Hover over heads to see the attention patterns; click on a head to lock it. Hover over each token to see which other tokens it attends to (or which other tokens attend to it - you can see this by changing the dropdown to `Destination <- Source`)."
      ]
    },
    {
      "cell_type": "markdown",
      "metadata": {
        "id": "8xLjqBXRXlif"
      },
      "source": [
        "<details>\n",
        "<summary>Other circuitsvis functions - neuron activations</summary>\n",
        "\n",
        "The `circuitsvis` library also has a number of cool visualisations for **neuron activations**. Here are some more of them (you don't have to understand them all now, but you can come back to them later).\n",
        "\n",
        "The function below visualises neuron activations. The example shows just one sequence, but it can also show multiple sequences (if `tokens` is a list of lists of strings, and `activations` is a list of tensors).\n",
        "\n",
        "```python\n",
        "neuron_activations_for_all_layers = t.stack([\n",
        "    gpt2_cache[\"post\", layer] for layer in range(gpt2_small.cfg.n_layers)\n",
        "], dim=1)\n",
        "# shape = (seq_pos, layers, neurons)\n",
        "\n",
        "cv.activations.text_neuron_activations(\n",
        "    tokens=gpt2_str_tokens,\n",
        "    activations=neuron_activations_for_all_layers\n",
        ")\n",
        "```\n",
        "\n",
        "The next function shows which words each of the neurons activates most / least on (note that it requires some weird indexing to work correctly).\n",
        "\n",
        "```python\n",
        "neuron_activations_for_all_layers_rearranged = utils.to_numpy(einops.rearrange(neuron_activations_for_all_layers, \"seq layers neurons -> 1 layers seq neurons\"))\n",
        "\n",
        "cv.topk_tokens.topk_tokens(\n",
        "    # Some weird indexing required here ¯\\_(ツ)_/¯\n",
        "    tokens=[gpt2_str_tokens],\n",
        "    activations=neuron_activations_for_all_layers_rearranged,\n",
        "    max_k=7,\n",
        "    first_dimension_name=\"Layer\",\n",
        "    third_dimension_name=\"Neuron\",\n",
        "    first_dimension_labels=list(range(12))\n",
        ")\n",
        "```\n",
        "</details>"
      ]
    },
    {
      "cell_type": "code",
      "source": [
        "neuron_activations_for_all_layers = t.stack([\n",
        "    gpt2_cache[\"post\", layer] for layer in range(gpt2_small.cfg.n_layers)\n",
        "], dim=1)\n",
        "# shape = (seq_pos, layers, neurons)\n",
        "\n",
        "cv.activations.text_neuron_activations(\n",
        "    tokens=gpt2_str_tokens,\n",
        "    activations=neuron_activations_for_all_layers\n",
        ")"
      ],
      "metadata": {
        "id": "UGNprY1AEhXY"
      },
      "execution_count": null,
      "outputs": []
    },
    {
      "cell_type": "code",
      "source": [
        "neuron_activations_for_all_layers_rearranged = utils.to_numpy(einops.rearrange(neuron_activations_for_all_layers, \"seq layers neurons -> 1 layers seq neurons\"))\n",
        "\n",
        "cv.topk_tokens.topk_tokens(\n",
        "    # Some weird indexing required here ¯\\_(ツ)_/¯\n",
        "    tokens=[gpt2_str_tokens],\n",
        "    activations=neuron_activations_for_all_layers_rearranged,\n",
        "    max_k=7,\n",
        "    first_dimension_name=\"Layer\",\n",
        "    third_dimension_name=\"Neuron\",\n",
        "    first_dimension_labels=list(range(12))\n",
        ")"
      ],
      "metadata": {
        "id": "AFL2l5iyFUtP"
      },
      "execution_count": null,
      "outputs": []
    },
    {
      "cell_type": "markdown",
      "metadata": {
        "id": "C5fjzFcRXlig"
      },
      "source": [
        "# 2️⃣ Finding induction heads\n",
        "\n",
        "> ##### Learning Objectives\n",
        ">\n",
        "> - Understand what induction heads are, and the algorithm they are implementing\n",
        "> - Inspect activation patterns to identify basic attention head patterns, and write your own functions to detect attention heads for you\n",
        "> - Identify induction heads by looking at the attention patterns produced from a repeating random sequence"
      ]
    },
    {
      "cell_type": "markdown",
      "metadata": {
        "id": "sL7q0CZFXlig"
      },
      "source": [
        "## Introducing Our Toy Attention-Only Model\n",
        "\n",
        "Here we introduce a toy 2L attention-only transformer trained specifically for today. Some changes to make them easier to interpret:\n",
        "- It has only attention blocks.\n",
        "- The positional embeddings are only added to the residual stream before calculating each key and query vector in the attention layers as opposed to the token embeddings - i.e. we compute queries as `Q = (resid + pos_embed) @ W_Q + b_Q` and same for keys, but values as `V = resid @ W_V + b_V`. This means that **the residual stream can't directly encode positional information**.\n",
        "    - This turns out to make it *way* easier for induction heads to form, it happens 2-3x times earlier - [see the comparison of two training runs](https://wandb.ai/mechanistic-interpretability/attn-only/reports/loss_ewma-22-08-24-11-08-83---VmlldzoyNTI0MDMz?accessToken=8ap8ir6y072uqa4f9uinotdtrwmoa8d8k2je4ec0lyasf1jcm3mtdh37ouijgdbm) here. (The bump in each curve is the formation of induction heads.)\n",
        "    - The argument that does this below is `positional_embedding_type=\"shortformer\"`.\n",
        "- It has no MLP layers, no LayerNorms, and no biases.\n",
        "- There are separate embed and unembed matrices (i.e. the weights are not tied).\n",
        "\n",
        "We now define our model with a `HookedTransformerConfig` object. This is similar to the `Config` object we used in the previous set of exercises, although it has a lot more features. You can look at the documentation page (Right-click, \"Go to Definition\" in VSCode) to seee what the different arguments do."
      ]
    },
    {
      "cell_type": "code",
      "execution_count": 13,
      "metadata": {
        "id": "8ykgzWFwXlig"
      },
      "outputs": [],
      "source": [
        "cfg = HookedTransformerConfig(\n",
        "    d_model=768,\n",
        "    d_head=64,\n",
        "    n_heads=12,\n",
        "    n_layers=2,\n",
        "    n_ctx=2048,\n",
        "    d_vocab=50278,\n",
        "    attention_dir=\"causal\",\n",
        "    attn_only=True,  # defaults to False\n",
        "    tokenizer_name=\"EleutherAI/gpt-neox-20b\",\n",
        "    seed=398,\n",
        "    use_attn_result=True,\n",
        "    normalization_type=None,  # defaults to \"LN\", i.e. layernorm with weights & biases\n",
        "    positional_embedding_type=\"shortformer\",\n",
        ")"
      ]
    },
    {
      "cell_type": "markdown",
      "metadata": {
        "id": "Jh1DlSovXlig"
      },
      "source": [
        "Note that in the last section we had to define a tokenizer explicitly, and passed it into our model. But here, we just pass a tokenizer name, and the model will automatically create a tokenizer for us (under the hood, it calls `AutoTokenizer.from_pretrained(tokenizer_name)`).\n",
        "\n",
        "Below, you'll load in your weights, with some boilerplate code to download your state dict from HuggingFace (you can do this for any model you've uploaded to HuggingFace yourself):"
      ]
    },
    {
      "cell_type": "code",
      "execution_count": null,
      "metadata": {
        "id": "GQDBdffdXlih"
      },
      "outputs": [],
      "source": [
        "from huggingface_hub import hf_hub_download\n",
        "\n",
        "REPO_ID = \"callummcdougall/attn_only_2L_half\"\n",
        "FILENAME = \"attn_only_2L_half.pth\"\n",
        "\n",
        "weights_path = hf_hub_download(repo_id=REPO_ID, filename=FILENAME)"
      ]
    },
    {
      "cell_type": "markdown",
      "metadata": {
        "id": "b9cKUh0lXlih"
      },
      "source": [
        "Finally, we'll create our model and load in the weights:"
      ]
    },
    {
      "cell_type": "code",
      "execution_count": null,
      "metadata": {
        "id": "CP_0dNHDXlih",
        "collapsed": true
      },
      "outputs": [],
      "source": [
        "model = HookedTransformer(cfg)\n",
        "pretrained_weights = t.load(weights_path, map_location=device, weights_only=True)\n",
        "model.load_state_dict(pretrained_weights)"
      ]
    },
    {
      "cell_type": "markdown",
      "metadata": {
        "id": "MyVsDVifXlih"
      },
      "source": [
        "Use the [diagram at this link](https://raw.githubusercontent.com/info-arena/ARENA_img/main/misc/small-merm.svg) to remind yourself of the relevant hook names."
      ]
    },
    {
      "cell_type": "markdown",
      "metadata": {
        "id": "reoQVSxhXlih"
      },
      "source": [
        "### Exercise - visualise & inspect attention patterns\n",
        "\n",
        "> ```yaml\n",
        "> Difficulty: 🔴🔴⚪⚪⚪\n",
        "> Importance: 🔵🔵🔵⚪⚪\n",
        ">\n",
        "> You should spend up to ~10 minutes on this exercise.\n",
        ">\n",
        "> It's important to be comfortable using circuitsvis, and the cache object.\n",
        "> ```\n",
        "\n",
        "*This exercise should be very quick - you can reuse code from the previous section. You should look at the solution if you're still stuck after 5-10 minutes.*\n",
        "\n",
        "Visualise the attention patterns for both layers of your model, on the following prompt:"
      ]
    },
    {
      "cell_type": "code",
      "execution_count": 27,
      "metadata": {
        "id": "sYKI3ctfXlii"
      },
      "outputs": [],
      "source": [
        "text = \"We think that powerful, significantly superhuman machine intelligence is more likely than not to be created this century. If current machine learning techniques were scaled up to this level, we think they would by default produce systems that are deceptive or manipulative, and that no solid plans are known for how to avoid this.\"\n",
        "# text = \"Except as otherwise noted, the content of this page is licensed under the Creative Commons Attribution 4.0 License, and code samples are licensed under the Apache 2.0 License.\"\n",
        "text = \"We think that powerful, significantly superhuman machine intelligence is more likely than not to be created this century. This superhuman machine intelligence will be created this century\"\n",
        "logits, cache = model.run_with_cache(text, remove_batch_dim=True)"
      ]
    },
    {
      "cell_type": "markdown",
      "metadata": {
        "id": "aIqOdAXUXlii"
      },
      "source": [
        "*(Note that we've run the model on the string `text`, rather than on tokens like we did previously when creating a cache - this is something that `HookedTransformer` allows.)*\n",
        "\n",
        "Inspect the attention patterns. What do you notice about the attention heads?\n",
        "\n",
        "You should spot three relatively distinctive basic patterns, which occur in multiple heads. What are these patterns, and can you guess why they might be present?"
      ]
    },
    {
      "cell_type": "code",
      "execution_count": null,
      "metadata": {
        "id": "LP3rojAtXlii"
      },
      "outputs": [],
      "source": [
        "# YOUR CODE HERE - visualize attention\n",
        "for layer in range(model.cfg.n_layers):\n",
        "  attention_pattern = cache[\"pattern\", layer]\n",
        "\n",
        "  # use CircuitVis library\n",
        "  display(\n",
        "      cv.attention.attention_patterns(\n",
        "          attention=attention_pattern,\n",
        "          tokens = model.to_str_tokens(text),\n",
        "          attention_head_names=[f\"L{layer}H{i}\" for i in range(12)],\n",
        "      )\n",
        "  )"
      ]
    },
    {
      "cell_type": "markdown",
      "metadata": {
        "id": "HnDP03CEXlii"
      },
      "source": [
        "<details>\n",
        "<summary>Aside - what to do if your plots won't show up</summary>\n",
        "\n",
        "A common mistake is to fail to pass the tokens in as arguments. If you do this, your attention patterns won't render.\n",
        "\n",
        "If this isn't the problem, then it might be an issue with the Circuitsvis library.Rather than plotting inline, you can do the following, and then open in your browser from the left-hand file explorer menu of VSCode:\n",
        "</details>\n",
        "\n",
        "<details>\n",
        "<summary>Discussion of results </summary>\n",
        "\n",
        "We notice that there are three basic patterns which repeat quite frequently:\n",
        "\n",
        "* `prev_token_heads`, which attend mainly to the previous token (e.g. head `0.7`)\n",
        "* `current_token_heads`, which attend mainly to the current token (e.g. head `1.6`)\n",
        "* `first_token_heads`, which attend mainly to the first token (e.g. heads `0.3` or `1.4`, although these are a bit less clear-cut than the other two)\n",
        "\n",
        "The `prev_token_heads` and `current_token_heads` are perhaps unsurprising, because words that are close together in a sequence probably have a lot more mutual information (i.e. we could get quite far using bigram or trigram prediction).\n",
        "\n",
        "The `first_token_heads` are a bit more surprising. The basic intuition here is that the first token in a sequence is often used as a resting or null position for heads that only sometimes activate (since our attention probabilities always have to add up to 1).\n",
        "</details>\n",
        "\n",
        "\n",
        "<details><summary>Solution</summary>\n",
        "\n",
        "```python\n",
        "str_tokens = model.to_str_tokens(text)\n",
        "for layer in range(model.cfg.n_layers):\n",
        "    attention_pattern = cache[\"pattern\", layer]\n",
        "    display(cv.attention.attention_patterns(tokens=str_tokens, attention=attention_pattern))\n",
        "```\n",
        "</details>"
      ]
    },
    {
      "cell_type": "markdown",
      "source": [
        "### Recognised patterns:\n",
        "- Previous word attention heads\n",
        "  - LOH4, LOH7, LOH9\n",
        "- Start of sentence heads\n",
        "  - LOH1, LOH2, LOH10, LOH5\n",
        "- Self Attention heads:\n",
        " - LOH11\n",
        "- Attends from first word in context:\n",
        "  - LOH3, LOH6"
      ],
      "metadata": {
        "id": "ZhogbfZvQPpn"
      }
    },
    {
      "cell_type": "markdown",
      "metadata": {
        "id": "0Mb5oKp3Xlii"
      },
      "source": [
        "Now that we've observed our three basic attention patterns, it's time to make detectors for those patterns!"
      ]
    },
    {
      "cell_type": "markdown",
      "metadata": {
        "id": "q8sABEYnXlii"
      },
      "source": [
        "### Exercise - write your own detectors\n",
        "\n",
        "> ```yaml\n",
        "> Difficulty: 🔴🔴⚪⚪⚪\n",
        "> Importance: 🔵🔵🔵⚪⚪\n",
        ">\n",
        "> You shouldn't spend more than 10-25 minutes on these exercises.\n",
        "> These exercises aren't meant to be too challenging, just to get you thinking about how to characterize head behaviour.\n",
        "> Use the hints if you're stuck.\n",
        "> ```\n",
        "\n",
        "You should fill in the functions below, which act as detectors for particular types of heads. Validate your detectors by comparing these results to the visual attention patterns above - summary statistics on their own can be dodgy, but are much more reliable if you can validate it by directly playing with the data.\n",
        "\n",
        "Tasks like this are useful, because we need to be able to take our observations / intuitions about what a model is doing, and translate these into quantitative measures. As the exercises proceed, we'll be creating some much more interesting tools and detectors!\n",
        "\n",
        "Note - there's no objectively correct answer for which heads are doing which tasks, and which detectors can spot them. You should just try and come up with something plausible-seeming, which identifies the kind of behaviour you're looking for. **Don't spend too much time here looking for a perfect solution, just one that seems to roughly match up with your visual inspection of the attention patterns.**"
      ]
    },
    {
      "cell_type": "code",
      "execution_count": 18,
      "metadata": {
        "id": "m88N4Kq9Xlii",
        "colab": {
          "base_uri": "https://localhost:8080/"
        },
        "outputId": "3c770094-2c90-461d-cb89-a7a9a948efa0"
      },
      "outputs": [
        {
          "output_type": "stream",
          "name": "stdout",
          "text": [
            "Heads attending to current token  =  0.9, 1.6\n",
            "Heads attending to previous token =  0.7, 0.9\n",
            "Heads attending to first token    =  0.2, 0.3, 0.6, 1.0, 1.3, 1.4, 1.10\n"
          ]
        }
      ],
      "source": [
        "def current_attn_detector(cache: ActivationCache) -> list[str]:\n",
        "    \"\"\"\n",
        "    Returns a list e.g. [\"0.2\", \"1.4\", \"1.9\"] of \"layer.head\" which you judge to be current-token heads\n",
        "    Goal heads: 0.11, 0.9, 1.6\n",
        "    \"\"\"\n",
        "    attn_heads = []\n",
        "    for layer in range(model.cfg.n_layers):\n",
        "        for head in range(model.cfg.n_heads):\n",
        "            attention_pattern = cache[\"pattern\", layer][head]\n",
        "            # take avg of diagonal elements\n",
        "            score = attention_pattern.diagonal().mean()\n",
        "            if score > 0.3:\n",
        "                attn_heads.append(f\"{layer}.{head}\")\n",
        "    return attn_heads\n",
        "\n",
        "\n",
        "def prev_attn_detector(cache: ActivationCache) -> list[str]:\n",
        "    \"\"\"\n",
        "    Returns a list e.g. [\"0.2\", \"1.4\", \"1.9\"] of \"layer.head\" which you judge to be prev-token heads\n",
        "    \"\"\"\n",
        "    attn_heads = []\n",
        "    for layer in range(model.cfg.n_layers):\n",
        "        for head in range(model.cfg.n_heads):\n",
        "            attention_pattern = cache[\"pattern\", layer][head]\n",
        "            # take average of previous token elements\n",
        "            score = attention_pattern.diagonal(-1).mean()\n",
        "            if score > 0.3:\n",
        "               attn_heads.append(f\"{layer}.{head}\")\n",
        "    return attn_heads\n",
        "\n",
        "\n",
        "def first_attn_detector(cache: ActivationCache) -> list[str]:\n",
        "    \"\"\"\n",
        "    Returns a list e.g. [\"0.2\", \"1.4\", \"1.9\"] of \"layer.head\" which you judge to be first-token heads\n",
        "    \"\"\"\n",
        "    attn_heads = []\n",
        "    for layer in range(model.cfg.n_layers):\n",
        "        for head in range(model.cfg.n_heads):\n",
        "          attention_pattern = cache[\"pattern\", layer][head]\n",
        "          #take average of first element\n",
        "          score = attention_pattern[:, 0].mean()\n",
        "          if score > 0.4:\n",
        "            attn_heads.append(f\"{layer}.{head}\")\n",
        "    return attn_heads\n",
        "\n",
        "\n",
        "print(\"Heads attending to current token  = \", \", \".join(current_attn_detector(cache)))\n",
        "print(\"Heads attending to previous token = \", \", \".join(prev_attn_detector(cache)))\n",
        "print(\"Heads attending to first token    = \", \", \".join(first_attn_detector(cache)))"
      ]
    },
    {
      "cell_type": "markdown",
      "metadata": {
        "id": "KWZOZQt4Xlij"
      },
      "source": [
        "<details>\n",
        "<summary>Hint</summary>\n",
        "\n",
        "Try and compute the average attention probability along the relevant tokens. For instance, you can get the tokens just below the diagonal by using `t.diagonal` with appropriate `offset` parameter:\n",
        "\n",
        "```python\n",
        ">>> arr = t.arange(9).reshape(3, 3)\n",
        ">>> arr\n",
        "tensor([[0, 1, 2],\n",
        "        [3, 4, 5],\n",
        "        [6, 7, 8]])\n",
        "\n",
        ">>> arr.diagonal()\n",
        "tensor([0, 4, 8])\n",
        "\n",
        ">>> arr.diagonal(-1)\n",
        "tensor([3, 7])\n",
        "```\n",
        "\n",
        "Remember that you should be using `cache[\"pattern\", layer]` to get all the attention probabilities for a given layer, and then indexing on the 0th dimension to get the correct head.\n",
        "</details>\n",
        "\n",
        "<details>\n",
        "<summary>Expected output (yours might vary slightly depending on method)</summary>\n",
        "\n",
        "<pre style=\"white-space:pre;overflow-x:auto;line-height:normal;font-family:Menlo,'DejaVu Sans Mono',consolas,'Courier New',monospace\">Heads attending to current token  =  0.9\n",
        "Heads attending to previous token =  0.7\n",
        "Heads attending to first token    =  0.3, 1.4, 1.10\n",
        "</pre>\n",
        "\n",
        "</details>\n",
        "\n",
        "<details>\n",
        "<summary>Solution (one possible method)</summary>\n",
        "\n",
        "Note - choosing `score=0.4` as a threshold in the code below is a bit arbitrary, but it seems to work well enough. In this particular case, a threshold of `0.5` results in no head being classified as a current-token head.\n",
        "\n",
        "```python\n",
        "def current_attn_detector(cache: ActivationCache) -> list[str]:\n",
        "    \"\"\"\n",
        "    Returns a list e.g. [\"0.2\", \"1.4\", \"1.9\"] of \"layer.head\" which you judge to be current-token heads\n",
        "    \"\"\"\n",
        "    attn_heads = []\n",
        "    for layer in range(model.cfg.n_layers):\n",
        "        for head in range(model.cfg.n_heads):\n",
        "            attention_pattern = cache[\"pattern\", layer][head]\n",
        "            # take avg of diagonal elements\n",
        "            score = attention_pattern.diagonal().mean()\n",
        "            if score > 0.4:\n",
        "                attn_heads.append(f\"{layer}.{head}\")\n",
        "    return attn_heads\n",
        "\n",
        "\n",
        "def prev_attn_detector(cache: ActivationCache) -> list[str]:\n",
        "    \"\"\"\n",
        "    Returns a list e.g. [\"0.2\", \"1.4\", \"1.9\"] of \"layer.head\" which you judge to be prev-token heads\n",
        "    \"\"\"\n",
        "    attn_heads = []\n",
        "    for layer in range(model.cfg.n_layers):\n",
        "        for head in range(model.cfg.n_heads):\n",
        "            attention_pattern = cache[\"pattern\", layer][head]\n",
        "            # take avg of sub-diagonal elements\n",
        "            score = attention_pattern.diagonal(-1).mean()\n",
        "            if score > 0.4:\n",
        "                attn_heads.append(f\"{layer}.{head}\")\n",
        "    return attn_heads\n",
        "\n",
        "\n",
        "def first_attn_detector(cache: ActivationCache) -> list[str]:\n",
        "    \"\"\"\n",
        "    Returns a list e.g. [\"0.2\", \"1.4\", \"1.9\"] of \"layer.head\" which you judge to be first-token heads\n",
        "    \"\"\"\n",
        "    attn_heads = []\n",
        "    for layer in range(model.cfg.n_layers):\n",
        "        for head in range(model.cfg.n_heads):\n",
        "            attention_pattern = cache[\"pattern\", layer][head]\n",
        "            # take avg of 0th elements\n",
        "            score = attention_pattern[:, 0].mean()\n",
        "            if score > 0.4:\n",
        "                attn_heads.append(f\"{layer}.{head}\")\n",
        "    return attn_heads\n",
        "```\n",
        "\n",
        "</details>"
      ]
    },
    {
      "cell_type": "markdown",
      "metadata": {
        "id": "cGItZ3BPXlij"
      },
      "source": [
        "Compare the printouts to your attention visualisations above. Do they seem to make sense? As a bonus exercise, try inputting different text, and see how stable your results are. Do certain heads always get classified the same way?"
      ]
    },
    {
      "cell_type": "markdown",
      "source": [
        "### Results of new text input\n",
        "- L1H8 appears to attend to multi-word names/titles, and attends to the first token when none present"
      ],
      "metadata": {
        "id": "ZRYea7MAhLQa"
      }
    },
    {
      "cell_type": "markdown",
      "metadata": {
        "id": "VwRP2MdIXlij"
      },
      "source": [
        "Now, it's time to turn our attention to induction heads.\n",
        "\n",
        "## What are induction heads?\n",
        "\n",
        "(Note: I use induction **head** to refer to the head in the second layer which attends to the 'token immediately after the copy of the current token', and induction **circuit** to refer to the circuit consisting of the composition of a **previous token head** in layer 0 and an **induction head** in layer 1)\n",
        "\n",
        "[Induction heads](https://transformer-circuits.pub/2021/framework/index.html#induction-heads) are the first sophisticated circuit we see in transformers! And are sufficiently interesting that we wrote [another paper just about them](https://transformer-circuits.pub/2022/in-context-learning-and-induction-heads/index.html).\n",
        "\n",
        "<details>\n",
        "<summary>An aside on why induction heads are a big deal</summary>\n",
        "\n",
        "There's a few particularly striking things about induction heads:\n",
        "\n",
        "* They develop fairly suddenly in a phase change - from about 2B to 4B tokens we go from no induction heads to pretty well developed ones. This is a striking divergence from a 1L model [see the comparison of in context learning performance curves curves for models with different layers](https://transformer-circuits.pub/2022/in-context-learning-and-induction-heads/index.html#:~:text=Our%20first%20observation) and can be observed in much larger models (eg a 13B one)\n",
        "    * Phase changes are particularly interesting (and depressing) from an alignment perspective, because the prospect of a sharp left turn, or emergent capabilities like deception or situational awareness seems like worlds where alignment may be harder, and we get caught by surprise without warning shots or simpler but analogous models to test our techniques on.\n",
        "* They are responsible for a significant loss decrease - so much so that there's a visible bump in the loss curve when they develop (this change in loss can be pretty comparable to the increase in loss from major increases in model size, though this is hard to make an apples-to-apples comparison)\n",
        "* They seem to be responsible for the vast majority of in-context learning - the ability to use far back tokens in the context to predict the next token. This is a significant way in which transformers outperform older architectures like RNNs or LSTMs, and induction heads seem to be a big part of this.\n",
        "* The same core circuit seems to be used in a bunch of more sophisticated settings, such as translation or few-shot learning - there are heads that seem clearly responsible for those *and* which double as induction heads.\n",
        "\n",
        "</details>\n",
        "\n",
        "Again, you are strongly recommended to read the [corresponding section of the glossary](https://dynalist.io/d/n2ZWtnoYHrU1s4vnFSAQ519J#z=_Jzi6YHRHKP1JziwdE02qdYZ), before continuing (or [this LessWrong post](https://www.lesswrong.com/posts/TvrfY4c9eaGLeyDkE/induction-heads-illustrated)). In brief, however, the induction circuit consists of a previous token head in layer 0 and an induction head in layer 1, where the induction head learns to attend to the token immediately *after* copies of the current token via K-Composition with the previous token head.\n",
        "\n",
        "##### Question - why couldn't an induction head form in a 1L model?\n",
        "\n",
        "<details>\n",
        "<summary>Answer</summary>\n",
        "\n",
        "Because this would require a head which attends a key position based on the *value of the token before it*. Attention scores are just a function of the key token and the query token, and are not a function of other tokens.\n",
        "\n",
        "(The attention pattern *does* in fact include effects from other tokens because of softmax - if another key token has a high attention score, softmax inhibits this pair. But this inhibition is symmetric across positions, so can't systematically favour the token *next* to the relevant one.)\n",
        "\n",
        "Note that a key detail is that the value of adjacent tokens are (approximately) unrelated - if the model wanted to attend based on relative *position* this is easy.\n",
        "</details>"
      ]
    },
    {
      "cell_type": "markdown",
      "metadata": {
        "id": "wy6Bw0juXlij"
      },
      "source": [
        "## Checking for the induction capability\n",
        "\n",
        "A striking thing about models with induction heads is that, given a repeated sequence of random tokens, they can predict the repeated half of the sequence. This is nothing like it's training data, so this is kind of wild! The ability to predict this kind of out of distribution generalisation is a strong point of evidence that you've really understood a circuit.\n",
        "\n",
        "To check that this model has induction heads, we're going to run it on exactly that, and compare performance on the two halves - you should see a striking difference in the per token losses.\n",
        "\n",
        "Note - we're using small sequences (and just one sequence), since the results are very obvious and this makes it easier to visualise. In practice we'd obviously use larger ones on more subtle tasks. But it's often easiest to iterate and debug on small tasks."
      ]
    },
    {
      "cell_type": "markdown",
      "metadata": {
        "id": "-18NT5z_Xlij"
      },
      "source": [
        "### Exercise - plot per-token loss on repeated sequence\n",
        "\n",
        "> ```yaml\n",
        "> Difficulty: 🔴🔴⚪⚪⚪\n",
        "> Importance: 🔵🔵⚪⚪⚪\n",
        ">\n",
        "> You shouldn't spend more than 10-15 minutes on these exercises.\n",
        "> ```\n",
        "\n",
        "You should fill in the functions below. We've given you the first line of the first function, which defines a prefix (remember we need the BOS token for GPT-2, since it was trained to have one). We've also given you the `get_log_probs` function from the previous set of exercises."
      ]
    },
    {
      "cell_type": "code",
      "execution_count": null,
      "metadata": {
        "id": "dP8MOyy-Xlik"
      },
      "outputs": [],
      "source": [
        "def generate_repeated_tokens(\n",
        "    model: HookedTransformer, seq_len: int, batch_size: int = 1\n",
        ") -> Int[Tensor, \"batch_size full_seq_len\"]:\n",
        "    \"\"\"\n",
        "    Generates a sequence of repeated random tokens\n",
        "\n",
        "    Outputs are:\n",
        "        rep_tokens: [batch_size, 1+2*seq_len]\n",
        "    \"\"\"\n",
        "    t.manual_seed(0)  # for reproducibility\n",
        "    prefix = (t.ones(batch_size, 1) * model.tokenizer.bos_token_id).long()\n",
        "    rep_tokens_half = t.randint(1, 10, (batch_size, seq_len))\n",
        "    return t.concat([prefix, rep_tokens_half, rep_tokens_half], axis=1)\n",
        "\n",
        "\n",
        "def run_and_cache_model_repeated_tokens(\n",
        "    model: HookedTransformer, seq_len: int, batch_size: int = 1\n",
        ") -> tuple[Tensor, Tensor, ActivationCache]:\n",
        "    \"\"\"\n",
        "    Generates a sequence of repeated random tokens, and runs the model on it, returning (tokens,\n",
        "    logits, cache). This function should use the `generate_repeated_tokens` function above.\n",
        "\n",
        "    Outputs are:\n",
        "        rep_tokens: [batch_size, 1+2*seq_len]\n",
        "        rep_logits: [batch_size, 1+2*seq_len, d_vocab]\n",
        "        rep_cache: The cache of the model run on rep_tokens\n",
        "    \"\"\"\n",
        "    model = HookedTransformer(cfg)\n",
        "    pretrained_weights = t.load(weights_path, map_location=device, weights_only=True)\n",
        "    model.load_state_dict(pretrained_weights)\n",
        "\n",
        "    token_sequence = generate_repeated_tokens(model, seq_len, batch_size)\n",
        "    rep_logits, rep_cache = model.run_with_cache(token_sequence, remove_batch_dim = True)\n",
        "\n",
        "    return token_sequence, rep_logits, rep_cache\n",
        "\n",
        "\n",
        "def get_log_probs(\n",
        "    logits: Float[Tensor, \"batch posn d_vocab\"], tokens: Int[Tensor, \"batch posn\"]\n",
        ") -> Float[Tensor, \"batch posn-1\"]:\n",
        "    logprobs = logits.log_softmax(dim=-1)\n",
        "    # We want to get logprobs[b, s, tokens[b, s+1]], in eindex syntax this looks like:\n",
        "    correct_logprobs = eindex(logprobs, tokens, \"b s [b s+1]\")\n",
        "    return correct_logprobs\n",
        "\n",
        "\n",
        "seq_len = 50\n",
        "batch_size = 1\n",
        "(rep_tokens, rep_logits, rep_cache) = run_and_cache_model_repeated_tokens(\n",
        "    model, seq_len, batch_size\n",
        ")\n",
        "rep_cache.remove_batch_dim()\n",
        "rep_str = model.to_str_tokens(rep_tokens)\n",
        "model.reset_hooks()\n",
        "log_probs = get_log_probs(rep_logits, rep_tokens).squeeze()\n",
        "\n",
        "print(f\"Performance on the first half: {log_probs[:seq_len].mean():.3f}\")\n",
        "print(f\"Performance on the second half: {log_probs[seq_len:].mean():.3f}\")\n",
        "\n",
        "plot_loss_difference(log_probs, rep_str, seq_len)"
      ]
    },
    {
      "cell_type": "markdown",
      "metadata": {
        "id": "-xam6BjfXlik"
      },
      "source": [
        "<details>\n",
        "<summary>Hint</summary>\n",
        "\n",
        "You can define the first half of the repeated tokens using `t.randint(low, high, shape)`. Also remember to specify `dtype=t.long`.\n",
        "\n",
        "Then you can concatenate together your prefix and two copies of the repeated tokens, using `t.concat`.\n",
        "</details>\n",
        "\n",
        "\n",
        "<details><summary>Solution</summary>\n",
        "\n",
        "```python\n",
        "def generate_repeated_tokens(\n",
        "    model: HookedTransformer, seq_len: int, batch_size: int = 1\n",
        ") -> Int[Tensor, \"batch_size full_seq_len\"]:\n",
        "    \"\"\"\n",
        "    Generates a sequence of repeated random tokens\n",
        "\n",
        "    Outputs are:\n",
        "        rep_tokens: [batch_size, 1+2*seq_len]\n",
        "    \"\"\"\n",
        "    t.manual_seed(0)  # for reproducibility\n",
        "    prefix = (t.ones(batch_size, 1) * model.tokenizer.bos_token_id).long()\n",
        "    rep_tokens_half = t.randint(0, model.cfg.d_vocab, (batch_size, seq_len), dtype=t.int64)\n",
        "    rep_tokens = t.cat([prefix, rep_tokens_half, rep_tokens_half], dim=-1).to(device)\n",
        "    return rep_tokens\n",
        "\n",
        "\n",
        "def run_and_cache_model_repeated_tokens(\n",
        "    model: HookedTransformer, seq_len: int, batch_size: int = 1\n",
        ") -> tuple[Tensor, Tensor, ActivationCache]:\n",
        "    \"\"\"\n",
        "    Generates a sequence of repeated random tokens, and runs the model on it, returning (tokens,\n",
        "    logits, cache). This function should use the `generate_repeated_tokens` function above.\n",
        "\n",
        "    Outputs are:\n",
        "        rep_tokens: [batch_size, 1+2*seq_len]\n",
        "        rep_logits: [batch_size, 1+2*seq_len, d_vocab]\n",
        "        rep_cache: The cache of the model run on rep_tokens\n",
        "    \"\"\"\n",
        "    rep_tokens = generate_repeated_tokens(model, seq_len, batch_size)\n",
        "    rep_logits, rep_cache = model.run_with_cache(rep_tokens)\n",
        "    return rep_tokens, rep_logits, rep_cache\n",
        "```\n",
        "</details>"
      ]
    },
    {
      "cell_type": "markdown",
      "metadata": {
        "id": "eaNHt4xmXlik"
      },
      "source": [
        "### Looking for Induction Attention Patterns\n",
        "\n",
        "The next natural thing to check for is the induction attention pattern.\n",
        "\n",
        "First, go back to the attention patterns visualisation code from earlier (i.e. `cv.attention.attention_heads` or `attention_patterns`) and manually check for likely heads in the second layer. Which ones do you think might be serving as induction heads?\n",
        "\n",
        "Note - above, we defined the `rep_str` object for you, so you can use it in your `circuitsvis` functions."
      ]
    },
    {
      "cell_type": "code",
      "execution_count": 38,
      "metadata": {
        "id": "FnQT3XGqXlio",
        "colab": {
          "base_uri": "https://localhost:8080/",
          "height": 49
        },
        "outputId": "4e90d12a-2172-4f32-dc02-a26b74ab33c9"
      },
      "outputs": [
        {
          "output_type": "stream",
          "name": "stdout",
          "text": [
            "2\n"
          ]
        },
        {
          "output_type": "display_data",
          "data": {
            "text/plain": [
              "<circuitsvis.utils.render.RenderedHTML at 0x7c0de07aa650>"
            ],
            "text/html": [
              "<div id=\"circuits-vis-616734fc-c8ac\" style=\"margin: 15px 0;\"/>\n",
              "    <script crossorigin type=\"module\">\n",
              "    import { render, AttentionPatterns } from \"https://unpkg.com/circuitsvis@1.41.0/dist/cdn/esm.js\";\n",
              "    render(\n",
              "      \"circuits-vis-616734fc-c8ac\",\n",
              "      AttentionPatterns,\n",
              "      {\"tokens\": [\"<|endoftext|>\", \"(\", \"<|padding|>\", \"\\\"\", \"&\", \"'\", \"&\", \"'\", \"!\", \"!\", \"<|padding|>\", \"(\", \"\\\"\", \"&\", \"#\", \"!\", \"\\\"\", \"<|padding|>\", \"<|padding|>\", \"%\", \"#\", \"(\", \"\\\"\", \"(\", \"\\\"\", \"(\", \"%\", \"'\", \"(\", \"&\", \"<|padding|>\", \"!\", \"<|padding|>\", \"(\", \"&\", \"!\", \"&\", \"!\", \"(\", \"(\", \"'\", \"\\\"\", \"#\", \"'\", \"'\", \"!\", \"%\", \"$\", \"'\", \"%\", \"'\", \"(\", \"<|padding|>\", \"\\\"\", \"&\", \"'\", \"&\", \"'\", \"!\", \"!\", \"<|padding|>\", \"(\", \"\\\"\", \"&\", \"#\", \"!\", \"\\\"\", \"<|padding|>\", \"<|padding|>\", \"%\", \"#\", \"(\", \"\\\"\", \"(\", \"\\\"\", \"(\", \"%\", \"'\", \"(\", \"&\", \"<|padding|>\", \"!\", \"<|padding|>\", \"(\", \"&\", \"!\", \"&\", \"!\", \"(\", \"(\", \"'\", \"\\\"\", \"#\", \"'\", \"'\", \"!\", \"%\", \"$\", \"'\", \"%\", \"'\"], \"attention\": [[[1.0, 0.0, 0.0, 0.0, 0.0, 0.0, 0.0, 0.0, 0.0, 0.0, 0.0, 0.0, 0.0, 0.0, 0.0, 0.0, 0.0, 0.0, 0.0, 0.0, 0.0, 0.0, 0.0, 0.0, 0.0, 0.0, 0.0, 0.0, 0.0, 0.0, 0.0, 0.0], [0.911715030670166, 0.08828490972518921, 0.0, 0.0, 0.0, 0.0, 0.0, 0.0, 0.0, 0.0, 0.0, 0.0, 0.0, 0.0, 0.0, 0.0, 0.0, 0.0, 0.0, 0.0, 0.0, 0.0, 0.0, 0.0, 0.0, 0.0, 0.0, 0.0, 0.0, 0.0, 0.0, 0.0], [0.7586267590522766, 0.1905537247657776, 0.050819505006074905, 0.0, 0.0, 0.0, 0.0, 0.0, 0.0, 0.0, 0.0, 0.0, 0.0, 0.0, 0.0, 0.0, 0.0, 0.0, 0.0, 0.0, 0.0, 0.0, 0.0, 0.0, 0.0, 0.0, 0.0, 0.0, 0.0, 0.0, 0.0, 0.0], [0.45267751812934875, 0.02356713078916073, 0.51188063621521, 0.011874744668602943, 0.0, 0.0, 0.0, 0.0, 0.0, 0.0, 0.0, 0.0, 0.0, 0.0, 0.0, 0.0, 0.0, 0.0, 0.0, 0.0, 0.0, 0.0, 0.0, 0.0, 0.0, 0.0, 0.0, 0.0, 0.0, 0.0, 0.0, 0.0], [0.7285254597663879, 0.12587599456310272, 0.03791874647140503, 0.06425879895687103, 0.04342092201113701, 0.0, 0.0, 0.0, 0.0, 0.0, 0.0, 0.0, 0.0, 0.0, 0.0, 0.0, 0.0, 0.0, 0.0, 0.0, 0.0, 0.0, 0.0, 0.0, 0.0, 0.0, 0.0, 0.0, 0.0, 0.0, 0.0, 0.0], [0.23100148141384125, 0.20740002393722534, 0.1806115359067917, 0.02584725245833397, 0.3496801257133484, 0.005459538195282221, 0.0, 0.0, 0.0, 0.0, 0.0, 0.0, 0.0, 0.0, 0.0, 0.0, 0.0, 0.0, 0.0, 0.0, 0.0, 0.0, 0.0, 0.0, 0.0, 0.0, 0.0, 0.0, 0.0, 0.0, 0.0, 0.0], [0.5995336771011353, 0.03500837832689285, 0.04405522346496582, 0.045588742941617966, 0.07754392176866531, 0.1194862499833107, 0.07878384739160538, 0.0, 0.0, 0.0, 0.0, 0.0, 0.0, 0.0, 0.0, 0.0, 0.0, 0.0, 0.0, 0.0, 0.0, 0.0, 0.0, 0.0, 0.0, 0.0, 0.0, 0.0, 0.0, 0.0, 0.0, 0.0], [0.45623430609703064, 0.06956848502159119, 0.03143444284796715, 0.029351556673645973, 0.04350433871150017, 0.08336438983678818, 0.14937284588813782, 0.13716953992843628, 0.0, 0.0, 0.0, 0.0, 0.0, 0.0, 0.0, 0.0, 0.0, 0.0, 0.0, 0.0, 0.0, 0.0, 0.0, 0.0, 0.0, 0.0, 0.0, 0.0, 0.0, 0.0, 0.0, 0.0], [0.5736039876937866, 0.03352554515004158, 0.014305063523352146, 0.04590103402733803, 0.02201821096241474, 0.09280773997306824, 0.049396876245737076, 0.10171309858560562, 0.06672846525907516, 0.0, 0.0, 0.0, 0.0, 0.0, 0.0, 0.0, 0.0, 0.0, 0.0, 0.0, 0.0, 0.0, 0.0, 0.0, 0.0, 0.0, 0.0, 0.0, 0.0, 0.0, 0.0, 0.0], [0.37267568707466125, 0.03348895162343979, 0.03849643096327782, 0.02252359315752983, 0.04794798046350479, 0.043860696256160736, 0.1772596389055252, 0.06309276074171066, 0.12463705241680145, 0.07601713389158249, 0.0, 0.0, 0.0, 0.0, 0.0, 0.0, 0.0, 0.0, 0.0, 0.0, 0.0, 0.0, 0.0, 0.0, 0.0, 0.0, 0.0, 0.0, 0.0, 0.0, 0.0, 0.0], [0.576324462890625, 0.012373088859021664, 0.013835322111845016, 0.024665752425789833, 0.027093255892395973, 0.036683090031147, 0.11631480604410172, 0.041630860418081284, 0.05044353008270264, 0.025202183052897453, 0.0754336565732956, 0.0, 0.0, 0.0, 0.0, 0.0, 0.0, 0.0, 0.0, 0.0, 0.0, 0.0, 0.0, 0.0, 0.0, 0.0, 0.0, 0.0, 0.0, 0.0, 0.0, 0.0], [0.33303117752075195, 0.04929724335670471, 0.019584568217396736, 0.1876918077468872, 0.013775168918073177, 0.20436470210552216, 0.03102118894457817, 0.012706907466053963, 0.017610730603337288, 0.013503064401447773, 0.04859960824251175, 0.06881380081176758, 0.0, 0.0, 0.0, 0.0, 0.0, 0.0, 0.0, 0.0, 0.0, 0.0, 0.0, 0.0, 0.0, 0.0, 0.0, 0.0, 0.0, 0.0, 0.0, 0.0], [0.3963589072227478, 0.05455345660448074, 0.03737897425889969, 0.051253512501716614, 0.03155195713043213, 0.04770873486995697, 0.08573456853628159, 0.024092700332403183, 0.03386429324746132, 0.0416894368827343, 0.07806980609893799, 0.07713937014341354, 0.04060433804988861, 0.0, 0.0, 0.0, 0.0, 0.0, 0.0, 0.0, 0.0, 0.0, 0.0, 0.0, 0.0, 0.0, 0.0, 0.0, 0.0, 0.0, 0.0, 0.0], [0.39604416489601135, 0.016063056886196136, 0.014684741385281086, 0.022615596652030945, 0.039572589099407196, 0.04209722951054573, 0.1006195917725563, 0.019244754686951637, 0.033746425062417984, 0.03402508422732353, 0.06701559573411942, 0.06025390326976776, 0.053125523030757904, 0.10089182108640671, 0.0, 0.0, 0.0, 0.0, 0.0, 0.0, 0.0, 0.0, 0.0, 0.0, 0.0, 0.0, 0.0, 0.0, 0.0, 0.0, 0.0, 0.0], [0.3132553696632385, 0.037470363080501556, 0.0259820818901062, 0.039798345416784286, 0.027239063754677773, 0.04974314197897911, 0.02198387123644352, 0.01745515875518322, 0.02907319739460945, 0.036492783576250076, 0.04566141963005066, 0.06785815209150314, 0.061487939208745956, 0.14522701501846313, 0.08127205818891525, 0.0, 0.0, 0.0, 0.0, 0.0, 0.0, 0.0, 0.0, 0.0, 0.0, 0.0, 0.0, 0.0, 0.0, 0.0, 0.0, 0.0], [0.20642361044883728, 0.021272864192724228, 0.004047730006277561, 0.03683611750602722, 0.01605057343840599, 0.032187916338443756, 0.020205287262797356, 0.006327558774501085, 0.015434845350682735, 0.017792442813515663, 0.0289299339056015, 0.034878794103860855, 0.04064597934484482, 0.07039007544517517, 0.24768966436386108, 0.200886532664299, 0.0, 0.0, 0.0, 0.0, 0.0, 0.0, 0.0, 0.0, 0.0, 0.0, 0.0, 0.0, 0.0, 0.0, 0.0, 0.0], [0.1521407812833786, 0.00919192936271429, 0.004513748921453953, 0.03166696056723595, 0.002445641439408064, 0.027421705424785614, 0.02151913195848465, 0.013300660066306591, 0.004710937850177288, 0.006210004910826683, 0.006869399454444647, 0.10991321504116058, 0.008775067515671253, 0.020539848133921623, 0.23338745534420013, 0.20802122354507446, 0.13937224447727203, 0.0, 0.0, 0.0, 0.0, 0.0, 0.0, 0.0, 0.0, 0.0, 0.0, 0.0, 0.0, 0.0, 0.0, 0.0], [0.08647950738668442, 0.007992416620254517, 0.002907593036070466, 0.04150892049074173, 0.0015596328303217888, 0.02856699377298355, 0.008329269476234913, 0.0030508008785545826, 0.0021661289501935244, 0.0015149383107200265, 0.005371870938688517, 0.03523837402462959, 0.0062901354394853115, 0.029986072331666946, 0.22317880392074585, 0.26638785004615784, 0.20146572589874268, 0.04800496622920036, 0.0, 0.0, 0.0, 0.0, 0.0, 0.0, 0.0, 0.0, 0.0, 0.0, 0.0, 0.0, 0.0, 0.0], [0.2629539966583252, 0.009550852701067924, 0.007052391767501831, 0.01635989174246788, 0.006230763625353575, 0.020883634686470032, 0.015984635800123215, 0.004678795579820871, 0.0055497572757303715, 0.003985475283116102, 0.010810021311044693, 0.02518223039805889, 0.021963326260447502, 0.062266793102025986, 0.14940162003040314, 0.12864604592323303, 0.14171592891216278, 0.08605799823999405, 0.020725838840007782, 0.0, 0.0, 0.0, 0.0, 0.0, 0.0, 0.0, 0.0, 0.0, 0.0, 0.0, 0.0, 0.0], [0.1888464093208313, 0.017786148935556412, 0.018755324184894562, 0.022665588185191154, 0.00512212747707963, 0.02263793721795082, 0.015232070349156857, 0.006826380733400583, 0.003695101011544466, 0.00608748709782958, 0.010226698592305183, 0.05636347830295563, 0.009769092313945293, 0.04994489252567291, 0.17304939031600952, 0.06328552216291428, 0.1041327714920044, 0.09260356426239014, 0.0498698353767395, 0.08310022205114365, 0.0, 0.0, 0.0, 0.0, 0.0, 0.0, 0.0, 0.0, 0.0, 0.0, 0.0, 0.0], [0.38214486837387085, 0.007263469975441694, 0.008141894824802876, 0.005458578001707792, 0.012512588873505592, 0.007048595231026411, 0.03821443021297455, 0.005482864566147327, 0.01697148010134697, 0.013889061287045479, 0.021215179935097694, 0.011355581693351269, 0.01610131748020649, 0.03020278550684452, 0.020502422004938126, 0.022151201963424683, 0.016941936686635017, 0.0530521422624588, 0.051383428275585175, 0.0797496885061264, 0.18021650612354279, 0.0, 0.0, 0.0, 0.0, 0.0, 0.0, 0.0, 0.0, 0.0, 0.0, 0.0], [0.11538945883512497, 0.00984716322273016, 0.028505560010671616, 0.004711788147687912, 0.017698796465992928, 0.004212573636323214, 0.042653750628232956, 0.005836242809891701, 0.02237747237086296, 0.031705256551504135, 0.022136030718684196, 0.02814832143485546, 0.01166743878275156, 0.01824467070400715, 0.0036953880917280912, 0.007935866713523865, 0.003936294466257095, 0.060416869819164276, 0.1703682690858841, 0.007349317893385887, 0.3583068251609802, 0.02485663630068302, 0.0, 0.0, 0.0, 0.0, 0.0, 0.0, 0.0, 0.0, 0.0, 0.0], [0.16676191985607147, 0.011956745758652687, 0.007238127291202545, 0.007108161225914955, 0.0068358322605490685, 0.020945552736520767, 0.020680297166109085, 0.008763406425714493, 0.005095456726849079, 0.009511471726000309, 0.009627160616219044, 0.02556285634636879, 0.007351101841777563, 0.033673372119665146, 0.05676751211285591, 0.02911931648850441, 0.027588579803705215, 0.030916549265384674, 0.03225889801979065, 0.023705532774329185, 0.04008862003684044, 0.3604699969291687, 0.05797361955046654, 0.0, 0.0, 0.0, 0.0, 0.0, 0.0, 0.0, 0.0, 0.0], [0.19683177769184113, 0.013054926879703999, 0.004685019608587027, 0.004092352464795113, 0.005925176199525595, 0.009242174215614796, 0.02135572023689747, 0.02011888287961483, 0.01618657074868679, 0.014316074550151825, 0.014122769236564636, 0.0086674764752388, 0.006313859485089779, 0.017999690026044846, 0.015962498262524605, 0.014924116432666779, 0.02316777966916561, 0.020109444856643677, 0.03540080785751343, 0.051763150840997696, 0.07779240608215332, 0.14334025979042053, 0.09384767711162567, 0.17077939212322235, 0.0, 0.0, 0.0, 0.0, 0.0, 0.0, 0.0, 0.0], [0.22817136347293854, 0.006316909566521645, 0.002052301075309515, 0.005956037901341915, 0.0027630478143692017, 0.009748215787112713, 0.005994971841573715, 0.010998042300343513, 0.007694503292441368, 0.005550849251449108, 0.005961562041193247, 0.0068073756992816925, 0.004184374585747719, 0.00968092679977417, 0.01817089505493641, 0.0257427878677845, 0.023502374067902565, 0.026575127616524696, 0.011993608437478542, 0.037143148481845856, 0.05196874216198921, 0.20953163504600525, 0.08959846943616867, 0.12464869767427444, 0.06924405694007874, 0.0, 0.0, 0.0, 0.0, 0.0, 0.0, 0.0], [0.16245073080062866, 0.008225840516388416, 0.008008246310055256, 0.003522058017551899, 0.006758885458111763, 0.005408969707787037, 0.02408694475889206, 0.006863234099000692, 0.014616272412240505, 0.009074428118765354, 0.018253708258271217, 0.013051196932792664, 0.0097566032782197, 0.017683548852801323, 0.011921594850718975, 0.01697639934718609, 0.018305832520127296, 0.030081644654273987, 0.02354259602725506, 0.0518389530479908, 0.1096029132604599, 0.04024459421634674, 0.11865511536598206, 0.06811093538999557, 0.1317838877439499, 0.07117491215467453, 0.0, 0.0, 0.0, 0.0, 0.0, 0.0], [0.3143715560436249, 0.003868337022140622, 0.004180500283837318, 0.006088453810662031, 0.004679322708398104, 0.0057932110503315926, 0.018974440172314644, 0.006351630203425884, 0.0065978639759123325, 0.0033307834528386593, 0.009421882219612598, 0.018436510115861893, 0.009617127478122711, 0.018427720293402672, 0.022839946672320366, 0.02685132622718811, 0.03104701265692711, 0.03084288351237774, 0.0072387452237308025, 0.026185626164078712, 0.04069444164633751, 0.04658970609307289, 0.09942816197872162, 0.05764605849981308, 0.06071577966213226, 0.032181236892938614, 0.0875997245311737, 0.0, 0.0, 0.0, 0.0, 0.0], [0.129629448056221, 0.003155309706926346, 0.0017621786100789905, 0.0062097348272800446, 0.0012918872525915504, 0.007691428065299988, 0.0025158552452921867, 0.0009459485299885273, 0.0016141739906743169, 0.0013885566731914878, 0.0035555188078433275, 0.007326016668230295, 0.003367003984749317, 0.009698991663753986, 0.048333633691072464, 0.024561850354075432, 0.007299535907804966, 0.01651548035442829, 0.00654218252748251, 0.058861956000328064, 0.020684808492660522, 0.14158964157104492, 0.34421002864837646, 0.011416854336857796, 0.020130306482315063, 0.016752714291214943, 0.04500655457377434, 0.05794231593608856, 0.0, 0.0, 0.0, 0.0], [0.0847991332411766, 0.002747028134763241, 0.0013074472080916166, 0.016774039715528488, 0.0005312584107741714, 0.010554000735282898, 0.0034156814217567444, 0.0011573688825592399, 0.0009040836594067514, 0.00056577188661322, 0.002181445946916938, 0.01407759077847004, 0.0022145353723317385, 0.009539083577692509, 0.05926881730556488, 0.07381527870893478, 0.051541492342948914, 0.012797554023563862, 0.001845755847170949, 0.030462918803095818, 0.011296139098703861, 0.12501713633537292, 0.18954846262931824, 0.013769200071692467, 0.011062311939895153, 0.006798979360610247, 0.025940774008631706, 0.16866444051265717, 0.06740233302116394, 0.0, 0.0, 0.0], [0.2211504876613617, 0.002569920616224408, 0.002874923637136817, 0.006170777138322592, 0.0021471793297678232, 0.006414359901100397, 0.006533422041684389, 0.0018260625656694174, 0.002329489914700389, 0.0014386598486453295, 0.004782926756888628, 0.009851173497736454, 0.008297253400087357, 0.019262166693806648, 0.03542304039001465, 0.030950697138905525, 0.032556451857089996, 0.019773095846176147, 0.004902957938611507, 0.03180716931819916, 0.02017141319811344, 0.06528162211179733, 0.13113859295845032, 0.013459475710988045, 0.01829628273844719, 0.012876295484602451, 0.04592373967170715, 0.10527186840772629, 0.11167171597480774, 0.02484677918255329, 0.0, 0.0], [0.1629551351070404, 0.005411837249994278, 0.00789389107376337, 0.009733283892273903, 0.0019816786516457796, 0.008131959475576878, 0.00722494488582015, 0.0033246458042412996, 0.001891560386866331, 0.0026586411986500025, 0.005180797539651394, 0.027013318613171577, 0.004487507976591587, 0.02039237506687641, 0.04977672919631004, 0.01713034324347973, 0.02413739077746868, 0.021387867629528046, 0.012119391933083534, 0.022768111899495125, 0.018299806863069534, 0.03834046795964241, 0.044599831104278564, 0.019401060417294502, 0.011152413673698902, 0.017476674169301987, 0.034005433320999146, 0.07207117974758148, 0.12387305498123169, 0.07477668672800064, 0.13040202856063843, 0.0], [0.2714165151119232, 0.0021293589379638433, 0.002728691091760993, 0.0023036422207951546, 0.00454835407435894, 0.002292462857440114, 0.015181031078100204, 0.0022164371330291033, 0.007100848946720362, 0.004882683511823416, 0.008458700031042099, 0.00440933695062995, 0.006247942801564932, 0.010117638856172562, 0.00555926188826561, 0.005655160639435053, 0.003499471116811037, 0.009812244214117527, 0.009479403495788574, 0.0158188845962286, 0.03948166221380234, 0.020641280338168144, 0.049989718943834305, 0.00939440168440342, 0.035297662019729614, 0.028007961809635162, 0.05325469374656677, 0.019650867208838463, 0.04765763878822327, 0.0556330569088459, 0.08174839615821838, 0.1653846800327301]], [[1.0, 0.0, 0.0, 0.0, 0.0, 0.0, 0.0, 0.0, 0.0, 0.0, 0.0, 0.0, 0.0, 0.0, 0.0, 0.0, 0.0, 0.0, 0.0, 0.0, 0.0, 0.0, 0.0, 0.0, 0.0, 0.0, 0.0, 0.0, 0.0, 0.0, 0.0, 0.0], [0.9507848024368286, 0.04921519383788109, 0.0, 0.0, 0.0, 0.0, 0.0, 0.0, 0.0, 0.0, 0.0, 0.0, 0.0, 0.0, 0.0, 0.0, 0.0, 0.0, 0.0, 0.0, 0.0, 0.0, 0.0, 0.0, 0.0, 0.0, 0.0, 0.0, 0.0, 0.0, 0.0, 0.0], [0.8253860473632812, 0.11625620722770691, 0.05835782736539841, 0.0, 0.0, 0.0, 0.0, 0.0, 0.0, 0.0, 0.0, 0.0, 0.0, 0.0, 0.0, 0.0, 0.0, 0.0, 0.0, 0.0, 0.0, 0.0, 0.0, 0.0, 0.0, 0.0, 0.0, 0.0, 0.0, 0.0, 0.0, 0.0], [0.7130882740020752, 0.1435311883687973, 0.07766081392765045, 0.06571970134973526, 0.0, 0.0, 0.0, 0.0, 0.0, 0.0, 0.0, 0.0, 0.0, 0.0, 0.0, 0.0, 0.0, 0.0, 0.0, 0.0, 0.0, 0.0, 0.0, 0.0, 0.0, 0.0, 0.0, 0.0, 0.0, 0.0, 0.0, 0.0], [0.7373332381248474, 0.09197795391082764, 0.06147481128573418, 0.045911479741334915, 0.06330247223377228, 0.0, 0.0, 0.0, 0.0, 0.0, 0.0, 0.0, 0.0, 0.0, 0.0, 0.0, 0.0, 0.0, 0.0, 0.0, 0.0, 0.0, 0.0, 0.0, 0.0, 0.0, 0.0, 0.0, 0.0, 0.0, 0.0, 0.0], [0.6348984837532043, 0.026265038177371025, 0.07419194281101227, 0.10832624137401581, 0.025537677109241486, 0.13078071177005768, 0.0, 0.0, 0.0, 0.0, 0.0, 0.0, 0.0, 0.0, 0.0, 0.0, 0.0, 0.0, 0.0, 0.0, 0.0, 0.0, 0.0, 0.0, 0.0, 0.0, 0.0, 0.0, 0.0, 0.0, 0.0, 0.0], [0.4449959397315979, 0.12301786988973618, 0.1002483069896698, 0.08696195483207703, 0.11523083597421646, 0.05067902430891991, 0.07886600494384766, 0.0, 0.0, 0.0, 0.0, 0.0, 0.0, 0.0, 0.0, 0.0, 0.0, 0.0, 0.0, 0.0, 0.0, 0.0, 0.0, 0.0, 0.0, 0.0, 0.0, 0.0, 0.0, 0.0, 0.0, 0.0], [0.6408796906471252, 0.05841835215687752, 0.02383996546268463, 0.02175375260412693, 0.05597667023539543, 0.03971228748559952, 0.05293777957558632, 0.10648157447576523, 0.0, 0.0, 0.0, 0.0, 0.0, 0.0, 0.0, 0.0, 0.0, 0.0, 0.0, 0.0, 0.0, 0.0, 0.0, 0.0, 0.0, 0.0, 0.0, 0.0, 0.0, 0.0, 0.0, 0.0], [0.6170547008514404, 0.042758576571941376, 0.023711375892162323, 0.01437905803322792, 0.02773732878267765, 0.03535905480384827, 0.05396566167473793, 0.14108899235725403, 0.043945252895355225, 0.0, 0.0, 0.0, 0.0, 0.0, 0.0, 0.0, 0.0, 0.0, 0.0, 0.0, 0.0, 0.0, 0.0, 0.0, 0.0, 0.0, 0.0, 0.0, 0.0, 0.0, 0.0, 0.0], [0.5905019640922546, 0.07982834428548813, 0.05129684880375862, 0.045745089650154114, 0.03145846351981163, 0.05054415762424469, 0.06739436089992523, 0.027319887652993202, 0.011440482921898365, 0.04447033256292343, 0.0, 0.0, 0.0, 0.0, 0.0, 0.0, 0.0, 0.0, 0.0, 0.0, 0.0, 0.0, 0.0, 0.0, 0.0, 0.0, 0.0, 0.0, 0.0, 0.0, 0.0, 0.0], [0.5453328490257263, 0.0699911117553711, 0.030395489186048508, 0.026853667572140694, 0.038123611360788345, 0.04408705234527588, 0.059596218168735504, 0.027538632974028587, 0.016968389973044395, 0.07225584983825684, 0.0688571184873581, 0.0, 0.0, 0.0, 0.0, 0.0, 0.0, 0.0, 0.0, 0.0, 0.0, 0.0, 0.0, 0.0, 0.0, 0.0, 0.0, 0.0, 0.0, 0.0, 0.0, 0.0], [0.4641231894493103, 0.08181463181972504, 0.11783846467733383, 0.0942227691411972, 0.03679685667157173, 0.020510617643594742, 0.06593655794858932, 0.01462290994822979, 0.008178463205695152, 0.019398996606469154, 0.03409721702337265, 0.04245932400226593, 0.0, 0.0, 0.0, 0.0, 0.0, 0.0, 0.0, 0.0, 0.0, 0.0, 0.0, 0.0, 0.0, 0.0, 0.0, 0.0, 0.0, 0.0, 0.0, 0.0], [0.49445003271102905, 0.04163888841867447, 0.01786048151552677, 0.01866147853434086, 0.03984879329800606, 0.01001692097634077, 0.07093874365091324, 0.026560772210359573, 0.0137861967086792, 0.09657979011535645, 0.059383392333984375, 0.06595253944396973, 0.04432191699743271, 0.0, 0.0, 0.0, 0.0, 0.0, 0.0, 0.0, 0.0, 0.0, 0.0, 0.0, 0.0, 0.0, 0.0, 0.0, 0.0, 0.0, 0.0, 0.0], [0.49404147267341614, 0.056259870529174805, 0.03094601258635521, 0.028298361226916313, 0.026828913018107414, 0.016907667741179466, 0.03656737133860588, 0.02033071033656597, 0.012362862005829811, 0.044710781425237656, 0.03759600222110748, 0.08526800572872162, 0.01669475995004177, 0.09318722784519196, 0.0, 0.0, 0.0, 0.0, 0.0, 0.0, 0.0, 0.0, 0.0, 0.0, 0.0, 0.0, 0.0, 0.0, 0.0, 0.0, 0.0, 0.0], [0.49575161933898926, 0.028285449370741844, 0.02327943779528141, 0.02746102772653103, 0.02090129256248474, 0.01652824506163597, 0.025175755843520164, 0.031220953911542892, 0.02497600018978119, 0.041769009083509445, 0.05609873682260513, 0.03599484637379646, 0.02953142486512661, 0.061594314873218536, 0.08143191039562225, 0.0, 0.0, 0.0, 0.0, 0.0, 0.0, 0.0, 0.0, 0.0, 0.0, 0.0, 0.0, 0.0, 0.0, 0.0, 0.0, 0.0], [0.30587923526763916, 0.0459950715303421, 0.043365444988012314, 0.05721193552017212, 0.019570734351873398, 0.009910741820931435, 0.03293938562273979, 0.014868083409965038, 0.00643053837120533, 0.015735112130641937, 0.029859542846679688, 0.05618481710553169, 0.01886737532913685, 0.1675570160150528, 0.08005938678979874, 0.095565564930439, 0.0, 0.0, 0.0, 0.0, 0.0, 0.0, 0.0, 0.0, 0.0, 0.0, 0.0, 0.0, 0.0, 0.0, 0.0, 0.0], [0.4614524245262146, 0.010533899068832397, 0.01651586964726448, 0.011949307285249233, 0.017032373696565628, 0.009341244585812092, 0.024768609553575516, 0.018259797245264053, 0.010727708227932453, 0.033238042145967484, 0.056810442358255386, 0.03467854484915733, 0.015813738107681274, 0.10864794254302979, 0.05827602744102478, 0.06426914781332016, 0.047684818506240845, 0.0, 0.0, 0.0, 0.0, 0.0, 0.0, 0.0, 0.0, 0.0, 0.0, 0.0, 0.0, 0.0, 0.0, 0.0], [0.14033254981040955, 0.009064720012247562, 0.0343872494995594, 0.012739589437842369, 0.018473785370588303, 0.0031071635894477367, 0.013254620134830475, 0.01378442533314228, 0.0031097426544874907, 0.009245418943464756, 0.023284535855054855, 0.021664468571543694, 0.0062688966281712055, 0.4351518154144287, 0.035733453929424286, 0.06388769298791885, 0.13816282153129578, 0.018347054719924927, 0.0, 0.0, 0.0, 0.0, 0.0, 0.0, 0.0, 0.0, 0.0, 0.0, 0.0, 0.0, 0.0, 0.0], [0.4196637272834778, 0.033093880861997604, 0.017530277371406555, 0.01294742152094841, 0.01541176252067089, 0.019787508994340897, 0.021864397451281548, 0.011675388552248478, 0.0050476654432713985, 0.02169097773730755, 0.025399718433618546, 0.023925676941871643, 0.015358604490756989, 0.04242078587412834, 0.03927305340766907, 0.05130155012011528, 0.032234445214271545, 0.030271699652075768, 0.1611015349626541, 0.0, 0.0, 0.0, 0.0, 0.0, 0.0, 0.0, 0.0, 0.0, 0.0, 0.0, 0.0, 0.0], [0.31659120321273804, 0.029168585315346718, 0.009115557186305523, 0.007782870903611183, 0.010859092697501183, 0.007592401001602411, 0.02198927477002144, 0.013511678203940392, 0.0061140963807702065, 0.03156207874417305, 0.024546392261981964, 0.03407454863190651, 0.016527263447642326, 0.0340418703854084, 0.029096294194459915, 0.05052059516310692, 0.008671893738210201, 0.06499431282281876, 0.14716534316539764, 0.1360747367143631, 0.0, 0.0, 0.0, 0.0, 0.0, 0.0, 0.0, 0.0, 0.0, 0.0, 0.0, 0.0], [0.3676280677318573, 0.04198157787322998, 0.009963181801140308, 0.008036897517740726, 0.00905166007578373, 0.010576107539236546, 0.021969277411699295, 0.003404289484024048, 0.0016113162273541093, 0.013040969148278236, 0.011943715624511242, 0.03639070317149162, 0.008059333078563213, 0.0216619111597538, 0.022638682276010513, 0.05729353800415993, 0.0037831738591194153, 0.06161525100469589, 0.11807714402675629, 0.08533342182636261, 0.08593973517417908, 0.0, 0.0, 0.0, 0.0, 0.0, 0.0, 0.0, 0.0, 0.0, 0.0, 0.0], [0.2956782281398773, 0.007869427092373371, 0.0017699601594358683, 0.007118838373571634, 0.0009686860721558332, 0.004663348663598299, 0.005260568577796221, 0.0016217287629842758, 0.0011571882059797645, 0.0017591549549251795, 0.0030998012516647577, 0.042521074414253235, 0.008157594129443169, 0.004252235405147076, 0.025584828108549118, 0.03159163147211075, 0.017299462109804153, 0.04692934453487396, 0.02274821698665619, 0.1200905442237854, 0.01946697197854519, 0.3303912580013275, 0.0, 0.0, 0.0, 0.0, 0.0, 0.0, 0.0, 0.0, 0.0, 0.0], [0.15414071083068848, 0.01535568293184042, 0.0016495316522195935, 0.0020641041919589043, 0.002206868724897504, 0.0024464905727654696, 0.005107138771563768, 0.004597610794007778, 0.002019663108512759, 0.006550501566380262, 0.0036604171618819237, 0.011525964364409447, 0.009171124547719955, 0.0048623098991811275, 0.006480487063527107, 0.013275036588311195, 0.0037860488519072533, 0.028044939041137695, 0.028722165152430534, 0.0816260501742363, 0.049577780067920685, 0.22776632010936737, 0.33536297082901, 0.0, 0.0, 0.0, 0.0, 0.0, 0.0, 0.0, 0.0, 0.0], [0.21125610172748566, 0.007974199950695038, 0.002288251183927059, 0.001818743534386158, 0.005226073786616325, 0.003882910357788205, 0.006259529385715723, 0.009903782047331333, 0.0052275387570261955, 0.016609711572527885, 0.009274782612919807, 0.010609623976051807, 0.005905668716877699, 0.007002455648034811, 0.011008154600858688, 0.015124352648854256, 0.006577884312719107, 0.024306129664182663, 0.056217264384031296, 0.044015154242515564, 0.07562248408794403, 0.24376259744167328, 0.1201845034956932, 0.0999421775341034, 0.0, 0.0, 0.0, 0.0, 0.0, 0.0, 0.0, 0.0], [0.16209465265274048, 0.004437157418578863, 0.0017503508133813739, 0.0009812586940824986, 0.002013387158513069, 0.0026119952090084553, 0.004394216928631067, 0.008925789035856724, 0.0028720605187118053, 0.01125440001487732, 0.006715875584632158, 0.005351136438548565, 0.002022665459662676, 0.0035184556618332863, 0.005291401874274015, 0.009146925993263721, 0.0017634163377806544, 0.015241730026900768, 0.03494080901145935, 0.03567616641521454, 0.05866951495409012, 0.3335193395614624, 0.11960958689451218, 0.1305309683084488, 0.03666671738028526, 0.0, 0.0, 0.0, 0.0, 0.0, 0.0, 0.0], [0.135484978556633, 0.008537749759852886, 0.0044855657033622265, 0.003198860678821802, 0.00255588605068624, 0.003997367341071367, 0.005262855440378189, 0.0017636630218476057, 0.0007312345551326871, 0.0033139463048428297, 0.003878222079947591, 0.006496249232441187, 0.0013254198711365461, 0.005716901272535324, 0.005867266096174717, 0.010909123346209526, 0.001912047853693366, 0.00899855513125658, 0.027391057461500168, 0.023051485419273376, 0.023915866389870644, 0.4176209270954132, 0.2219734787940979, 0.02668984793126583, 0.008876628242433071, 0.03604478761553764, 0.0, 0.0, 0.0, 0.0, 0.0, 0.0], [0.1295849084854126, 0.008018712513148785, 0.002887328155338764, 0.0019563527312129736, 0.002812361577525735, 0.00325904437340796, 0.004475812893360853, 0.001709579722955823, 0.0010574373882263899, 0.005044602323323488, 0.004368842579424381, 0.007048201281577349, 0.0017579899867996573, 0.005085171665996313, 0.004961024969816208, 0.011097676120698452, 0.002277819439768791, 0.011198420077562332, 0.031546302139759064, 0.02225114405155182, 0.029682328924536705, 0.3021940588951111, 0.24185648560523987, 0.029138466343283653, 0.014812720939517021, 0.06625395268201828, 0.05366324260830879, 0.0, 0.0, 0.0, 0.0, 0.0], [0.16533613204956055, 0.010831438936293125, 0.007354340050369501, 0.00455108005553484, 0.0026520504616200924, 0.001639126450754702, 0.004803191404789686, 0.0016857024747878313, 0.0008563108276575804, 0.0026183025911450386, 0.003016810864210129, 0.0050060926005244255, 0.0016399582382291555, 0.012647640891373158, 0.004055522847920656, 0.00942239724099636, 0.004883164074271917, 0.005392740480601788, 0.021877873688936234, 0.020566165447235107, 0.017302120104432106, 0.25597360730171204, 0.26899585127830505, 0.02993703819811344, 0.012648630887269974, 0.033575791865587234, 0.0418381430208683, 0.048892758786678314, 0.0, 0.0, 0.0, 0.0], [0.036866847425699234, 0.0009255392360500991, 0.0039861141704022884, 0.0011798617197200656, 0.0016715965466573834, 0.00029632836231030524, 0.0012306224089115858, 0.0011711198603734374, 0.0003040622978005558, 0.0008624563924968243, 0.0018718154169619083, 0.001468776143155992, 0.0003675959014799446, 0.03043765388429165, 0.0022155744954943657, 0.004564609844237566, 0.01029203087091446, 0.001392763340845704, 0.031334832310676575, 0.002675423165783286, 0.010556566528975964, 0.07848607748746872, 0.02656194567680359, 0.022172054275870323, 0.005076470319181681, 0.013018823228776455, 0.0369824543595314, 0.6636497974395752, 0.008380219340324402, 0.0, 0.0, 0.0], [0.15076416730880737, 0.0046796961687505245, 0.0030404904391616583, 0.0018341338727623224, 0.002015226287767291, 0.002681736834347248, 0.0031932422425597906, 0.0016765613108873367, 0.0008378718630410731, 0.0030336317140609026, 0.003167549381032586, 0.0023006312549114227, 0.0013630841858685017, 0.003852167399600148, 0.0029845326207578182, 0.0042678373865783215, 0.002919215941801667, 0.0029281103052198887, 0.017600324004888535, 0.01466958038508892, 0.018450293689966202, 0.2870955467224121, 0.19435641169548035, 0.025837808847427368, 0.011357977986335754, 0.03992133587598801, 0.04678935185074806, 0.030187733471393585, 0.02237648144364357, 0.093817338347435, 0.0, 0.0], [0.1499185860157013, 0.004574458580464125, 0.0017961582634598017, 0.0012272800086066127, 0.001742457621730864, 0.0013502988731488585, 0.004470524378120899, 0.002455631038174033, 0.0011167798656970263, 0.005015586502850056, 0.003920585848391056, 0.004817089531570673, 0.0017681968165561557, 0.0036827544681727886, 0.0025694940704852343, 0.004991655703634024, 0.000760608003474772, 0.007736493833363056, 0.020038826391100883, 0.017405735328793526, 0.029003679752349854, 0.12644726037979126, 0.13370147347450256, 0.03156246989965439, 0.013649883680045605, 0.06185704842209816, 0.05156293138861656, 0.023188233375549316, 0.061095479875802994, 0.1198781430721283, 0.10669415444135666, 0.0], [0.15923945605754852, 0.006504529155790806, 0.0018380701076239347, 0.001293863169848919, 0.0014767731772735715, 0.0018775180215016007, 0.004859371110796928, 0.0006723019178025424, 0.0003090564568992704, 0.0020377621985971928, 0.001847567385993898, 0.0051882765255868435, 0.0009628240950405598, 0.002234482439234853, 0.001981991808861494, 0.005265177693217993, 0.0003321242402307689, 0.006966890301555395, 0.013341349549591541, 0.009849882684648037, 0.013133282773196697, 0.18972273170948029, 0.15886659920215607, 0.008593744598329067, 0.004100454039871693, 0.02702183648943901, 0.02652052603662014, 0.013233828358352184, 0.0667973980307579, 0.09494540095329285, 0.08419031649827957, 0.08479464799165726]], [[1.0, 0.0, 0.0, 0.0, 0.0, 0.0, 0.0, 0.0, 0.0, 0.0, 0.0, 0.0, 0.0, 0.0, 0.0, 0.0, 0.0, 0.0, 0.0, 0.0, 0.0, 0.0, 0.0, 0.0, 0.0, 0.0, 0.0, 0.0, 0.0, 0.0, 0.0, 0.0], [0.9748935699462891, 0.02510647289454937, 0.0, 0.0, 0.0, 0.0, 0.0, 0.0, 0.0, 0.0, 0.0, 0.0, 0.0, 0.0, 0.0, 0.0, 0.0, 0.0, 0.0, 0.0, 0.0, 0.0, 0.0, 0.0, 0.0, 0.0, 0.0, 0.0, 0.0, 0.0, 0.0, 0.0], [0.9375593662261963, 0.029095854610204697, 0.033344775438308716, 0.0, 0.0, 0.0, 0.0, 0.0, 0.0, 0.0, 0.0, 0.0, 0.0, 0.0, 0.0, 0.0, 0.0, 0.0, 0.0, 0.0, 0.0, 0.0, 0.0, 0.0, 0.0, 0.0, 0.0, 0.0, 0.0, 0.0, 0.0, 0.0], [0.8151788711547852, 0.05286300927400589, 0.11625124514102936, 0.01570684090256691, 0.0, 0.0, 0.0, 0.0, 0.0, 0.0, 0.0, 0.0, 0.0, 0.0, 0.0, 0.0, 0.0, 0.0, 0.0, 0.0, 0.0, 0.0, 0.0, 0.0, 0.0, 0.0, 0.0, 0.0, 0.0, 0.0, 0.0, 0.0], [0.8972122669219971, 0.02099972404539585, 0.03337117284536362, 0.03375580906867981, 0.014661065302789211, 0.0, 0.0, 0.0, 0.0, 0.0, 0.0, 0.0, 0.0, 0.0, 0.0, 0.0, 0.0, 0.0, 0.0, 0.0, 0.0, 0.0, 0.0, 0.0, 0.0, 0.0, 0.0, 0.0, 0.0, 0.0, 0.0, 0.0], [0.661294162273407, 0.05436446890234947, 0.09762963652610779, 0.08005142211914062, 0.10111597180366516, 0.00554434210062027, 0.0, 0.0, 0.0, 0.0, 0.0, 0.0, 0.0, 0.0, 0.0, 0.0, 0.0, 0.0, 0.0, 0.0, 0.0, 0.0, 0.0, 0.0, 0.0, 0.0, 0.0, 0.0, 0.0, 0.0, 0.0, 0.0], [0.7680426836013794, 0.02941710501909256, 0.0152047760784626, 0.0697350949048996, 0.02049539051949978, 0.09158490598201752, 0.00552006671205163, 0.0, 0.0, 0.0, 0.0, 0.0, 0.0, 0.0, 0.0, 0.0, 0.0, 0.0, 0.0, 0.0, 0.0, 0.0, 0.0, 0.0, 0.0, 0.0, 0.0, 0.0, 0.0, 0.0, 0.0, 0.0], [0.7376888394355774, 0.01726387068629265, 0.028870372101664543, 0.03234289214015007, 0.032025255262851715, 0.06660796701908112, 0.019038258120417595, 0.0661625862121582, 0.0, 0.0, 0.0, 0.0, 0.0, 0.0, 0.0, 0.0, 0.0, 0.0, 0.0, 0.0, 0.0, 0.0, 0.0, 0.0, 0.0, 0.0, 0.0, 0.0, 0.0, 0.0, 0.0, 0.0], [0.822395384311676, 0.010085398331284523, 0.01199088990688324, 0.03276045620441437, 0.01004923228174448, 0.0396868996322155, 0.0056815072894096375, 0.044692449271678925, 0.02265789359807968, 0.0, 0.0, 0.0, 0.0, 0.0, 0.0, 0.0, 0.0, 0.0, 0.0, 0.0, 0.0, 0.0, 0.0, 0.0, 0.0, 0.0, 0.0, 0.0, 0.0, 0.0, 0.0, 0.0], [0.7194886803627014, 0.025224147364497185, 0.011629246175289154, 0.09923703223466873, 0.011933784931898117, 0.06904225796461105, 0.008016320876777172, 0.02770085074007511, 0.019188879057765007, 0.00853878352791071, 0.0, 0.0, 0.0, 0.0, 0.0, 0.0, 0.0, 0.0, 0.0, 0.0, 0.0, 0.0, 0.0, 0.0, 0.0, 0.0, 0.0, 0.0, 0.0, 0.0, 0.0, 0.0], [0.7772552967071533, 0.01299375481903553, 0.005039674695581198, 0.061522725969552994, 0.00357622466981411, 0.10706210136413574, 0.0013423984637483954, 0.014984273351728916, 0.005249571055173874, 0.0029818988405168056, 0.007992023602128029, 0.0, 0.0, 0.0, 0.0, 0.0, 0.0, 0.0, 0.0, 0.0, 0.0, 0.0, 0.0, 0.0, 0.0, 0.0, 0.0, 0.0, 0.0, 0.0, 0.0, 0.0], [0.29682207107543945, 0.021393440663814545, 0.06385233253240585, 0.010416610166430473, 0.07655388116836548, 0.0029128037858754396, 0.16534258425235748, 0.03510933741927147, 0.08411327749490738, 0.08748877048492432, 0.13645227253437042, 0.019542669877409935, 0.0, 0.0, 0.0, 0.0, 0.0, 0.0, 0.0, 0.0, 0.0, 0.0, 0.0, 0.0, 0.0, 0.0, 0.0, 0.0, 0.0, 0.0, 0.0, 0.0], [0.2898499071598053, 0.016143180429935455, 0.03955192491412163, 0.018205789849162102, 0.0707600861787796, 0.011945492587983608, 0.0698670819401741, 0.07645519822835922, 0.08348814398050308, 0.0780949518084526, 0.17858998477458954, 0.01060289517045021, 0.05644537881016731, 0.0, 0.0, 0.0, 0.0, 0.0, 0.0, 0.0, 0.0, 0.0, 0.0, 0.0, 0.0, 0.0, 0.0, 0.0, 0.0, 0.0, 0.0, 0.0], [0.5707874894142151, 0.025526490062475204, 0.027529357001185417, 0.0432543009519577, 0.025613190606236458, 0.01777847670018673, 0.027173103764653206, 0.032519590109586716, 0.02608996070921421, 0.01923440396785736, 0.05404254049062729, 0.0618947297334671, 0.014209391549229622, 0.0543469600379467, 0.0, 0.0, 0.0, 0.0, 0.0, 0.0, 0.0, 0.0, 0.0, 0.0, 0.0, 0.0, 0.0, 0.0, 0.0, 0.0, 0.0, 0.0], [0.11094137281179428, 0.011568980291485786, 0.03978976979851723, 0.004057224374264479, 0.06590628623962402, 0.0010816967114806175, 0.23178118467330933, 0.031578149646520615, 0.07574131339788437, 0.04004913941025734, 0.1538712978363037, 0.005255353637039661, 0.09987924247980118, 0.12578488886356354, 0.002714048372581601, 0.0, 0.0, 0.0, 0.0, 0.0, 0.0, 0.0, 0.0, 0.0, 0.0, 0.0, 0.0, 0.0, 0.0, 0.0, 0.0, 0.0], [0.22433048486709595, 0.020093556493520737, 0.03973958641290665, 0.022637730464339256, 0.06780469417572021, 0.006939453538507223, 0.09101992100477219, 0.032604798674583435, 0.06170662119984627, 0.05187810957431793, 0.13196471333503723, 0.0352630689740181, 0.030538052320480347, 0.13259257376194, 0.019150836393237114, 0.03173581138253212, 0.0, 0.0, 0.0, 0.0, 0.0, 0.0, 0.0, 0.0, 0.0, 0.0, 0.0, 0.0, 0.0, 0.0, 0.0, 0.0], [0.1624956578016281, 0.02045603282749653, 0.03831563517451286, 0.012362606823444366, 0.07122331857681274, 0.00341851357370615, 0.10863102227449417, 0.03431713581085205, 0.1070912778377533, 0.07663839310407639, 0.17336183786392212, 0.007679650094360113, 0.02349691465497017, 0.14054232835769653, 0.006212471518665552, 0.008808658458292484, 0.004948575980961323, 0.0, 0.0, 0.0, 0.0, 0.0, 0.0, 0.0, 0.0, 0.0, 0.0, 0.0, 0.0, 0.0, 0.0, 0.0], [0.36289942264556885, 0.014566613361239433, 0.03263060748577118, 0.011451504193246365, 0.0463736429810524, 0.0066520897671580315, 0.05412008985877037, 0.031646523624658585, 0.07188345491886139, 0.05084230750799179, 0.1267835646867752, 0.018608734011650085, 0.013176591135561466, 0.11023186147212982, 0.01827012188732624, 0.01132428739219904, 0.011016417294740677, 0.007522193714976311, 0.0, 0.0, 0.0, 0.0, 0.0, 0.0, 0.0, 0.0, 0.0, 0.0, 0.0, 0.0, 0.0, 0.0], [0.2924647331237793, 0.027575725689530373, 0.00895586609840393, 0.07514776289463043, 0.015145568177103996, 0.01535476092249155, 0.009475477039813995, 0.017311204224824905, 0.012317088432610035, 0.007875760085880756, 0.028262339532375336, 0.14114536345005035, 0.005567743442952633, 0.028573786839842796, 0.020093819126486778, 0.012971417047083378, 0.03390549123287201, 0.22479525208473206, 0.02306080237030983, 0.0, 0.0, 0.0, 0.0, 0.0, 0.0, 0.0, 0.0, 0.0, 0.0, 0.0, 0.0, 0.0], [0.18114323914051056, 0.013290907256305218, 0.04544598236680031, 0.006001980043947697, 0.05499182268977165, 0.0033015338703989983, 0.10316180437803268, 0.03244152292609215, 0.07502924650907516, 0.0673336610198021, 0.13053208589553833, 0.00616768142208457, 0.030358392745256424, 0.1101999506354332, 0.010667589493095875, 0.021226849406957626, 0.00758579233661294, 0.003630438121035695, 0.08182979375123978, 0.01565972901880741, 0.0, 0.0, 0.0, 0.0, 0.0, 0.0, 0.0, 0.0, 0.0, 0.0, 0.0, 0.0], [0.4430793523788452, 0.017495807260274887, 0.003947802819311619, 0.10138052701950073, 0.005393701605498791, 0.04695768281817436, 0.002538299886509776, 0.016274014487862587, 0.006683283485472202, 0.004588865675032139, 0.009956277906894684, 0.047621481120586395, 0.0011226885253563523, 0.016258224844932556, 0.06594881415367126, 0.004584010224789381, 0.08083245903253555, 0.06229092553257942, 0.014961103908717632, 0.028061460703611374, 0.02002326026558876, 0.0, 0.0, 0.0, 0.0, 0.0, 0.0, 0.0, 0.0, 0.0, 0.0, 0.0], [0.10584570467472076, 0.020390834659337997, 0.019462861120700836, 0.011822937987744808, 0.03183110058307648, 0.0018693194724619389, 0.1419091671705246, 0.012696481309831142, 0.042971063405275345, 0.02299860492348671, 0.05612356215715408, 0.004635884892195463, 0.015743792057037354, 0.0868682786822319, 0.0028612767346203327, 0.0687294751405716, 0.00680107856169343, 0.0065894047729671, 0.11737652122974396, 0.04347888007760048, 0.17590726912021637, 0.003086448647081852, 0.0, 0.0, 0.0, 0.0, 0.0, 0.0, 0.0, 0.0, 0.0, 0.0], [0.10349734127521515, 0.009644083678722382, 0.041093457490205765, 0.0026386298704892397, 0.050110504031181335, 0.0007943332311697304, 0.12230946123600006, 0.016690710559487343, 0.05580618605017662, 0.04081665724515915, 0.08810020983219147, 0.002837677486240864, 0.03711984306573868, 0.09493602067232132, 0.004330940078943968, 0.02219090238213539, 0.002936867531388998, 0.0020102153066545725, 0.07200954854488373, 0.009820902720093727, 0.19775763154029846, 0.002674523973837495, 0.019873449578881264, 0.0, 0.0, 0.0, 0.0, 0.0, 0.0, 0.0, 0.0, 0.0], [0.25193020701408386, 0.007240807171911001, 0.009257879108190536, 0.013883591629564762, 0.013186187483370304, 0.02122953161597252, 0.0069137513637542725, 0.024507613852620125, 0.03285129740834236, 0.023516200482845306, 0.04043089598417282, 0.004738510586321354, 0.0037626661360263824, 0.02292349934577942, 0.02718806080520153, 0.0016104974783957005, 0.030013613402843475, 0.003219391917809844, 0.02309691719710827, 0.018582414835691452, 0.09876633435487747, 0.2315586507320404, 0.03067408688366413, 0.058917414397001266, 0.0, 0.0, 0.0, 0.0, 0.0, 0.0, 0.0, 0.0], [0.4182743430137634, 0.005748963914811611, 0.005536844488233328, 0.018804483115673065, 0.006038569379597902, 0.016965428367257118, 0.0031684425193816423, 0.023684946820139885, 0.011679934337735176, 0.006199327763170004, 0.021082811057567596, 0.006028074771165848, 0.001998900668695569, 0.012016679160296917, 0.03064580447971821, 0.0015892005758360028, 0.04299654811620712, 0.0067300451919436455, 0.01207472663372755, 0.01198760699480772, 0.05741870775818825, 0.14644458889961243, 0.0320671908557415, 0.06969108432531357, 0.031126772984862328, 0.0, 0.0, 0.0, 0.0, 0.0, 0.0, 0.0], [0.30644237995147705, 0.011936770752072334, 0.004092572722584009, 0.04539984464645386, 0.0051711732521653175, 0.025879107415676117, 0.0029263810720294714, 0.011533964425325394, 0.007510556373745203, 0.0027943968307226896, 0.00952073559165001, 0.012303956784307957, 0.0015493499813601375, 0.011706339195370674, 0.029390830546617508, 0.003010277869179845, 0.04292222112417221, 0.016048502177000046, 0.013507558032870293, 0.025180604308843613, 0.041006699204444885, 0.2335948795080185, 0.06101897731423378, 0.04124201089143753, 0.02518274076282978, 0.009127223864197731, 0.0, 0.0, 0.0, 0.0, 0.0, 0.0], [0.29576435685157776, 0.00539015606045723, 0.0016751964576542377, 0.022943638265132904, 0.001371365156956017, 0.033508338034152985, 0.000469241727842018, 0.005208146758377552, 0.0018545706989243627, 0.0008728098473511636, 0.002299913903698325, 0.0070534055121243, 0.00035947587457485497, 0.003845692379400134, 0.03188089281320572, 0.002100688172504306, 0.03580498322844505, 0.00976927112787962, 0.004561336245387793, 0.006808684207499027, 0.013260510750114918, 0.4513886868953705, 0.02267618477344513, 0.021484393626451492, 0.006338322535157204, 0.003018590621650219, 0.008291136473417282, 0.0, 0.0, 0.0, 0.0, 0.0], [0.11446546763181686, 0.012398676946759224, 0.024005087092518806, 0.006245434284210205, 0.03180157393217087, 0.0013464824296534061, 0.032948531210422516, 0.010110341012477875, 0.028755325824022293, 0.02334628812968731, 0.039521556347608566, 0.008486502803862095, 0.011792617850005627, 0.05050108954310417, 0.004180082120001316, 0.014283125288784504, 0.003154743928462267, 0.005031372420489788, 0.05350811406970024, 0.01809081993997097, 0.12238327413797379, 0.0065770139917731285, 0.08075305819511414, 0.026742080226540565, 0.07489220052957535, 0.06278429180383682, 0.10804319381713867, 0.023851726204156876, 0.0, 0.0, 0.0, 0.0], [0.18031682074069977, 0.00626930920407176, 0.014837125316262245, 0.004776111338287592, 0.02160121314227581, 0.0025565950199961662, 0.022187408059835434, 0.012504172511398792, 0.030955856665968895, 0.019117530435323715, 0.04784096032381058, 0.005831357557326555, 0.004939691163599491, 0.04228707402944565, 0.006706962827593088, 0.004409953951835632, 0.00444616936147213, 0.00285799871198833, 0.03595167398452759, 0.014887087978422642, 0.09749387949705124, 0.01035669818520546, 0.0715995654463768, 0.034527599811553955, 0.08381453901529312, 0.05409734323620796, 0.1443505436182022, 0.013862112537026405, 0.004616644699126482, 0.0, 0.0, 0.0], [0.1366182118654251, 0.010280604474246502, 0.0035175529774278402, 0.028988778591156006, 0.005910149775445461, 0.005810868926346302, 0.003316492075100541, 0.006411376409232616, 0.004643479827791452, 0.0024220047052949667, 0.00937393493950367, 0.047718584537506104, 0.0019258576212450862, 0.009199581108987331, 0.00697392039000988, 0.004803456366062164, 0.013424121774733067, 0.09477628022432327, 0.008542532101273537, 0.017435990273952484, 0.020498957484960556, 0.04414590448141098, 0.08113806694746017, 0.02303614839911461, 0.017471810802817345, 0.009401393122971058, 0.04301458224654198, 0.10831359028816223, 0.21342241764068604, 0.01746341586112976, 0.0, 0.0], [0.10736233741044998, 0.005989934783428907, 0.02106594853103161, 0.002940262435004115, 0.027400562539696693, 0.0014695064164698124, 0.04826934635639191, 0.014804532751441002, 0.03487584739923477, 0.025270085781812668, 0.054516252130270004, 0.002400813391432166, 0.010988467372953892, 0.041329603642225266, 0.004042452201247215, 0.008504711091518402, 0.003295653499662876, 0.0015942140016704798, 0.03813348710536957, 0.007008638698607683, 0.13123293220996857, 0.004349441733211279, 0.0196126326918602, 0.031908806413412094, 0.07391033321619034, 0.05700608715415001, 0.12762156128883362, 0.01073361188173294, 0.002671563997864723, 0.0682828426361084, 0.011407542042434216, 0.0], [0.25781434774398804, 0.006801168899983168, 0.001696986029855907, 0.045206569135189056, 0.002433585003018379, 0.019701223820447922, 0.0010670225601643324, 0.007336256094276905, 0.0028142184019088745, 0.001595591427758336, 0.0038592349737882614, 0.01681612804532051, 0.00037224972038529813, 0.00516549265012145, 0.02231336571276188, 0.0014909926103428006, 0.030244560912251472, 0.024492349475622177, 0.006137603893876076, 0.011105458252131939, 0.008392862044274807, 0.22666101157665253, 0.03778739273548126, 0.027404766529798508, 0.010205627419054508, 0.005990996491163969, 0.01572532206773758, 0.08491767197847366, 0.05685693398118019, 0.013412254862487316, 0.026043565943837166, 0.01813710853457451]], [[1.0, 0.0, 0.0, 0.0, 0.0, 0.0, 0.0, 0.0, 0.0, 0.0, 0.0, 0.0, 0.0, 0.0, 0.0, 0.0, 0.0, 0.0, 0.0, 0.0, 0.0, 0.0, 0.0, 0.0, 0.0, 0.0, 0.0, 0.0, 0.0, 0.0, 0.0, 0.0], [0.9973666071891785, 0.0026333967689424753, 0.0, 0.0, 0.0, 0.0, 0.0, 0.0, 0.0, 0.0, 0.0, 0.0, 0.0, 0.0, 0.0, 0.0, 0.0, 0.0, 0.0, 0.0, 0.0, 0.0, 0.0, 0.0, 0.0, 0.0, 0.0, 0.0, 0.0, 0.0, 0.0, 0.0], [0.9894182085990906, 0.0025154517497867346, 0.008066308684647083, 0.0, 0.0, 0.0, 0.0, 0.0, 0.0, 0.0, 0.0, 0.0, 0.0, 0.0, 0.0, 0.0, 0.0, 0.0, 0.0, 0.0, 0.0, 0.0, 0.0, 0.0, 0.0, 0.0, 0.0, 0.0, 0.0, 0.0, 0.0, 0.0], [0.9859943389892578, 0.0015265560941770673, 0.0057945046573877335, 0.0066846078261733055, 0.0, 0.0, 0.0, 0.0, 0.0, 0.0, 0.0, 0.0, 0.0, 0.0, 0.0, 0.0, 0.0, 0.0, 0.0, 0.0, 0.0, 0.0, 0.0, 0.0, 0.0, 0.0, 0.0, 0.0, 0.0, 0.0, 0.0, 0.0], [0.9891934990882874, 0.0012269628932699561, 0.0043141962960362434, 0.0032654094975441694, 0.0020000236108899117, 0.0, 0.0, 0.0, 0.0, 0.0, 0.0, 0.0, 0.0, 0.0, 0.0, 0.0, 0.0, 0.0, 0.0, 0.0, 0.0, 0.0, 0.0, 0.0, 0.0, 0.0, 0.0, 0.0, 0.0, 0.0, 0.0, 0.0], [0.9434327483177185, 0.002444160170853138, 0.007474003825336695, 0.006221005227416754, 0.004280664958059788, 0.03614738583564758, 0.0, 0.0, 0.0, 0.0, 0.0, 0.0, 0.0, 0.0, 0.0, 0.0, 0.0, 0.0, 0.0, 0.0, 0.0, 0.0, 0.0, 0.0, 0.0, 0.0, 0.0, 0.0, 0.0, 0.0, 0.0, 0.0], [0.9657812714576721, 0.003441035049036145, 0.006938825361430645, 0.005929748527705669, 0.003234539180994034, 0.010471944697201252, 0.00420265831053257, 0.0, 0.0, 0.0, 0.0, 0.0, 0.0, 0.0, 0.0, 0.0, 0.0, 0.0, 0.0, 0.0, 0.0, 0.0, 0.0, 0.0, 0.0, 0.0, 0.0, 0.0, 0.0, 0.0, 0.0, 0.0], [0.9708122611045837, 0.0021068959031254053, 0.006619448307901621, 0.0036918804980814457, 0.0034690690226852894, 0.006174566689878702, 0.003836036892607808, 0.0032898515928536654, 0.0, 0.0, 0.0, 0.0, 0.0, 0.0, 0.0, 0.0, 0.0, 0.0, 0.0, 0.0, 0.0, 0.0, 0.0, 0.0, 0.0, 0.0, 0.0, 0.0, 0.0, 0.0, 0.0, 0.0], [0.9678450226783752, 0.0012552454136312008, 0.004922770895063877, 0.003995061386376619, 0.002692759968340397, 0.010262269526720047, 0.002659570425748825, 0.002985124010592699, 0.0033822241239249706, 0.0, 0.0, 0.0, 0.0, 0.0, 0.0, 0.0, 0.0, 0.0, 0.0, 0.0, 0.0, 0.0, 0.0, 0.0, 0.0, 0.0, 0.0, 0.0, 0.0, 0.0, 0.0, 0.0], [0.9694236516952515, 0.001507952343672514, 0.004122478887438774, 0.003402364207431674, 0.0020375470630824566, 0.007918530143797398, 0.00207798951305449, 0.0029443884268403053, 0.002655714051797986, 0.003909440245479345, 0.0, 0.0, 0.0, 0.0, 0.0, 0.0, 0.0, 0.0, 0.0, 0.0, 0.0, 0.0, 0.0, 0.0, 0.0, 0.0, 0.0, 0.0, 0.0, 0.0, 0.0, 0.0], [0.9645799994468689, 0.0017632948001846671, 0.0037354128435254097, 0.0032683531753718853, 0.0015957987634465098, 0.008139306679368019, 0.0019664193969219923, 0.0028079310432076454, 0.0025083899963647127, 0.0049059391021728516, 0.004729111213237047, 0.0, 0.0, 0.0, 0.0, 0.0, 0.0, 0.0, 0.0, 0.0, 0.0, 0.0, 0.0, 0.0, 0.0, 0.0, 0.0, 0.0, 0.0, 0.0, 0.0, 0.0], [0.9445419311523438, 0.0036534385289996862, 0.005546467378735542, 0.0058945403434336185, 0.0030396755319088697, 0.008151787333190441, 0.003655301406979561, 0.005318051669746637, 0.0035907463170588017, 0.006736079230904579, 0.00737584987655282, 0.0024961470626294613, 0.0, 0.0, 0.0, 0.0, 0.0, 0.0, 0.0, 0.0, 0.0, 0.0, 0.0, 0.0, 0.0, 0.0, 0.0, 0.0, 0.0, 0.0, 0.0, 0.0], [0.9089175462722778, 0.004224114585667849, 0.009782315231859684, 0.005848946515470743, 0.004479007795453072, 0.012888222932815552, 0.004264138173311949, 0.007470741868019104, 0.005514988210052252, 0.012687822803854942, 0.011117714457213879, 0.004081731662154198, 0.00872277095913887, 0.0, 0.0, 0.0, 0.0, 0.0, 0.0, 0.0, 0.0, 0.0, 0.0, 0.0, 0.0, 0.0, 0.0, 0.0, 0.0, 0.0, 0.0, 0.0], [0.9299942851066589, 0.0025570488069206476, 0.0068308282643556595, 0.005235025659203529, 0.003422969253733754, 0.009752866812050343, 0.004360483027994633, 0.004930965602397919, 0.0036808180157095194, 0.005779470782727003, 0.0070427474565804005, 0.002722844248637557, 0.006823038216680288, 0.006866578012704849, 0.0, 0.0, 0.0, 0.0, 0.0, 0.0, 0.0, 0.0, 0.0, 0.0, 0.0, 0.0, 0.0, 0.0, 0.0, 0.0, 0.0, 0.0], [0.9106050729751587, 0.00288446806371212, 0.007578087970614433, 0.005513567943125963, 0.004729752894490957, 0.012404102832078934, 0.003716715844348073, 0.005222344305366278, 0.004645779728889465, 0.009001746773719788, 0.009083646349608898, 0.004205169156193733, 0.005368838552385569, 0.007286393083631992, 0.007754250429570675, 0.0, 0.0, 0.0, 0.0, 0.0, 0.0, 0.0, 0.0, 0.0, 0.0, 0.0, 0.0, 0.0, 0.0, 0.0, 0.0, 0.0], [0.9133710265159607, 0.004963260143995285, 0.007568703964352608, 0.006276231724768877, 0.0034942820202559233, 0.011124961078166962, 0.0041209119372069836, 0.006862068083137274, 0.003599063493311405, 0.005602643825113773, 0.007628131192177534, 0.0031649477314203978, 0.004296396858990192, 0.0064614079892635345, 0.008034591563045979, 0.003431356279179454, 0.0, 0.0, 0.0, 0.0, 0.0, 0.0, 0.0, 0.0, 0.0, 0.0, 0.0, 0.0, 0.0, 0.0, 0.0, 0.0], [0.9023541212081909, 0.002774403663352132, 0.0059594628401100636, 0.005749890580773354, 0.0035123699344694614, 0.009411578066647053, 0.0035622469149529934, 0.005325016565620899, 0.004004005808383226, 0.006367608904838562, 0.007105762138962746, 0.0026634898968040943, 0.004923499189317226, 0.006724829785525799, 0.00804243702441454, 0.002614011522382498, 0.01890529692173004, 0.0, 0.0, 0.0, 0.0, 0.0, 0.0, 0.0, 0.0, 0.0, 0.0, 0.0, 0.0, 0.0, 0.0, 0.0], [0.9021815657615662, 0.004108758177608252, 0.0046679009683430195, 0.00440262584015727, 0.0025138799101114273, 0.0073426938615739346, 0.0025638039223849773, 0.00482396874576807, 0.003215109696611762, 0.005494024138897657, 0.006317696999758482, 0.0027228211984038353, 0.0025732286740094423, 0.00468482356518507, 0.008690578863024712, 0.0016468308167532086, 0.025588735938072205, 0.006460868287831545, 0.0, 0.0, 0.0, 0.0, 0.0, 0.0, 0.0, 0.0, 0.0, 0.0, 0.0, 0.0, 0.0, 0.0], [0.9273940324783325, 0.002319156192243099, 0.003710618009790778, 0.0034876582212746143, 0.002059926511719823, 0.006637147162109613, 0.002412214642390609, 0.003481853986158967, 0.002562158042564988, 0.003636041423305869, 0.0046658809296786785, 0.0016670047771185637, 0.003339562565088272, 0.00438343221321702, 0.00518814567476511, 0.0014821946388110518, 0.012288417667150497, 0.004576167091727257, 0.004708502907305956, 0.0, 0.0, 0.0, 0.0, 0.0, 0.0, 0.0, 0.0, 0.0, 0.0, 0.0, 0.0, 0.0], [0.9042530059814453, 0.00197052164003253, 0.005534423515200615, 0.005320058669894934, 0.0032378605101257563, 0.007616283372044563, 0.0028704353608191013, 0.0036137206479907036, 0.003000785131007433, 0.006753978785127401, 0.005734764039516449, 0.00230981083586812, 0.004577499348670244, 0.005614872556179762, 0.005271677393466234, 0.0020316734444350004, 0.008113556541502476, 0.004862045869231224, 0.006205212790518999, 0.011107729747891426, 0.0, 0.0, 0.0, 0.0, 0.0, 0.0, 0.0, 0.0, 0.0, 0.0, 0.0, 0.0], [0.9389152526855469, 0.0009971677791327238, 0.0030268689151853323, 0.0025953231379389763, 0.001755883451551199, 0.005942136514931917, 0.002124103484675288, 0.001498196623288095, 0.0019416887080296874, 0.003343974705785513, 0.0032593279611319304, 0.0012939013540744781, 0.0031285921577364206, 0.002865872345864773, 0.0026159542612731457, 0.0015041357837617397, 0.004409773740917444, 0.004027944523841143, 0.0031148262787610292, 0.006275175139307976, 0.005363752134144306, 0.0, 0.0, 0.0, 0.0, 0.0, 0.0, 0.0, 0.0, 0.0, 0.0, 0.0], [0.9114602208137512, 0.0012208460830152035, 0.003338881302624941, 0.003585485275834799, 0.0029695264529436827, 0.0056115505285561085, 0.00465152645483613, 0.0021342982072383165, 0.0025086894165724516, 0.002826330717653036, 0.0036054980009794235, 0.001636431785300374, 0.005203955806791782, 0.005555289331823587, 0.002871357835829258, 0.0022466385271400213, 0.005613578949123621, 0.0030945255421102047, 0.0037378272973001003, 0.009082773700356483, 0.011188358068466187, 0.0058564855717122555, 0.0, 0.0, 0.0, 0.0, 0.0, 0.0, 0.0, 0.0, 0.0, 0.0], [0.8865542411804199, 0.0019361400045454502, 0.003921906463801861, 0.005009922198951244, 0.003370473627001047, 0.006983943749219179, 0.002706497209146619, 0.0026222290471196175, 0.002932376228272915, 0.005330802407115698, 0.00458261976018548, 0.0019371863454580307, 0.0036273158621042967, 0.005905504338443279, 0.005220336839556694, 0.0021220832131803036, 0.007711589336395264, 0.003325128462165594, 0.004928024020045996, 0.008902558125555515, 0.007807206828147173, 0.010167322121560574, 0.012394764460623264, 0.0, 0.0, 0.0, 0.0, 0.0, 0.0, 0.0, 0.0, 0.0], [0.877013623714447, 0.002417387440800667, 0.0061527942307293415, 0.003466719761490822, 0.0033548485953360796, 0.005780227482318878, 0.0037376354448497295, 0.0031642087269574404, 0.0031046338845044374, 0.0077981967478990555, 0.005416824482381344, 0.002576953498646617, 0.005690819583833218, 0.004052259959280491, 0.0028543053194880486, 0.0012967861257493496, 0.003034617519006133, 0.006419673562049866, 0.00562290521338582, 0.011371089145541191, 0.01053011603653431, 0.0106057645753026, 0.010542178526520729, 0.003995409235358238, 0.0, 0.0, 0.0, 0.0, 0.0, 0.0, 0.0, 0.0], [0.8725889921188354, 0.0014457288198173046, 0.004736482631415129, 0.0037814390379935503, 0.0026608079206198454, 0.009461444802582264, 0.0027108993381261826, 0.0028199998196214437, 0.003196978010237217, 0.005818599369376898, 0.005291517358273268, 0.0018748012371361256, 0.003751716809347272, 0.005079319234937429, 0.0043938057497143745, 0.0017530320910736918, 0.0071906764060258865, 0.004738382529467344, 0.005459771957248449, 0.008697832934558392, 0.00985617097467184, 0.014419849030673504, 0.010914156213402748, 0.003764847293496132, 0.003592738416045904, 0.0, 0.0, 0.0, 0.0, 0.0, 0.0, 0.0], [0.8721479177474976, 0.0018197979079559445, 0.004275351297110319, 0.0034687677398324013, 0.0022178897634148598, 0.008046687580645084, 0.0022718184627592564, 0.003012506291270256, 0.00276909489184618, 0.0038633104413747787, 0.004649856127798557, 0.0017203681636601686, 0.002762023825198412, 0.0045741950161755085, 0.006396949756890535, 0.0016000322066247463, 0.014488935470581055, 0.004213264677673578, 0.005017600953578949, 0.006728223990648985, 0.00762188108637929, 0.014349580742418766, 0.010713906027376652, 0.0037365814205259085, 0.0029045226983726025, 0.004628904163837433, 0.0, 0.0, 0.0, 0.0, 0.0, 0.0], [0.8783643841743469, 0.001985481008887291, 0.0035717738792300224, 0.003014290938153863, 0.0015914180548861623, 0.007636355701833963, 0.0019339659484103322, 0.0026747984811663628, 0.002403094433248043, 0.00448534544557333, 0.004493132699280977, 0.0016312797088176012, 0.0019714790396392345, 0.0034745316952466965, 0.005892126355320215, 0.0014980888227000833, 0.01406405121088028, 0.004414825700223446, 0.004791402257978916, 0.00491531053557992, 0.005441733635962009, 0.014850066974759102, 0.008449048735201359, 0.0034709335304796696, 0.002553428988903761, 0.005566914100199938, 0.0048606847412884235, 0.0, 0.0, 0.0, 0.0, 0.0], [0.8257879018783569, 0.00357422255910933, 0.005945000797510147, 0.005368382204324007, 0.003178780898451805, 0.0077321031130850315, 0.003945627249777317, 0.0041079712100327015, 0.0035636969842016697, 0.005923398770391941, 0.006544404663145542, 0.0023742306511849165, 0.004203410353511572, 0.005383413750678301, 0.006561196409165859, 0.0025567372795194387, 0.011556337587535381, 0.0058223712258040905, 0.00639271829277277, 0.01007556077092886, 0.009026292711496353, 0.01706821285188198, 0.012797561474144459, 0.00513303279876709, 0.00383647414855659, 0.006794867571443319, 0.006867794319987297, 0.007878324948251247, 0.0, 0.0, 0.0, 0.0], [0.8346273899078369, 0.0036263116635382175, 0.004104440100491047, 0.0038889155257493258, 0.002196904271841049, 0.006515643559396267, 0.0022759013809263706, 0.00411768164485693, 0.002854855265468359, 0.004909954033792019, 0.0055984631180763245, 0.002495202701538801, 0.002269806107506156, 0.004064800217747688, 0.007318353746086359, 0.001401676912792027, 0.021288787946105003, 0.005699248984456062, 0.005543247796595097, 0.006148125510662794, 0.008115359582006931, 0.015652889385819435, 0.012161772698163986, 0.005234815180301666, 0.0029366500675678253, 0.005915442947298288, 0.005956524517387152, 0.007070229854434729, 0.006010632496327162, 0.0, 0.0, 0.0], [0.8389232158660889, 0.002573639852926135, 0.004289708565920591, 0.0036501730792224407, 0.0023277977015823126, 0.007067055441439152, 0.0027598936576396227, 0.003931556362658739, 0.002888222923502326, 0.003957482520490885, 0.005314220674335957, 0.0019758138805627823, 0.003770009381696582, 0.004694629926234484, 0.005466862116008997, 0.0016593546606600285, 0.012606321834027767, 0.005372941959649324, 0.005182389169931412, 0.009303508326411247, 0.009222813881933689, 0.015098679810762405, 0.012581530958414078, 0.005211837124079466, 0.0031186367850750685, 0.004573494661599398, 0.005712933838367462, 0.005424033850431442, 0.005794189404696226, 0.0055470773950219154, 0.0, 0.0], [0.8468518853187561, 0.001694297301582992, 0.004728579428046942, 0.004348482005298138, 0.0028422605246305466, 0.006100177299231291, 0.0025637871585786343, 0.002986262086778879, 0.002573572564870119, 0.005563087295740843, 0.004822838120162487, 0.0019512877333909273, 0.0039372071623802185, 0.004760934505611658, 0.004133095033466816, 0.0016928380355238914, 0.006188796833157539, 0.003971714060753584, 0.0051812403835356236, 0.009478535503149033, 0.008076217956840992, 0.010783211328089237, 0.010546385310590267, 0.0037851908709853888, 0.0028450198005884886, 0.006469103042036295, 0.005152451805770397, 0.004950962029397488, 0.004335758741945028, 0.005279875360429287, 0.01140504702925682, 0.0], [0.8836299777030945, 0.0009980890899896622, 0.0030349791049957275, 0.0026467253919690847, 0.0018471562070772052, 0.005874610040336847, 0.0022259815596044064, 0.0015984365018084645, 0.0020152400247752666, 0.003550819354131818, 0.00342566124163568, 0.0013730473583564162, 0.003326289588585496, 0.002898846287280321, 0.0026002207305282354, 0.0015355668729171157, 0.0042998939752578735, 0.0040399120189249516, 0.0032193479128181934, 0.006695857737213373, 0.005915247835218906, 0.007877735421061516, 0.006818379275500774, 0.0021134039852768183, 0.002278900472447276, 0.0041130464524030685, 0.0037896991707384586, 0.0031452171970158815, 0.004338396713137627, 0.003337498288601637, 0.008161111734807491, 0.007274748291820288]], [[1.0, 0.0, 0.0, 0.0, 0.0, 0.0, 0.0, 0.0, 0.0, 0.0, 0.0, 0.0, 0.0, 0.0, 0.0, 0.0, 0.0, 0.0, 0.0, 0.0, 0.0, 0.0, 0.0, 0.0, 0.0, 0.0, 0.0, 0.0, 0.0, 0.0, 0.0, 0.0], [0.9630289077758789, 0.03697109594941139, 0.0, 0.0, 0.0, 0.0, 0.0, 0.0, 0.0, 0.0, 0.0, 0.0, 0.0, 0.0, 0.0, 0.0, 0.0, 0.0, 0.0, 0.0, 0.0, 0.0, 0.0, 0.0, 0.0, 0.0, 0.0, 0.0, 0.0, 0.0, 0.0, 0.0], [0.6484466195106506, 0.26222658157348633, 0.08932667225599289, 0.0, 0.0, 0.0, 0.0, 0.0, 0.0, 0.0, 0.0, 0.0, 0.0, 0.0, 0.0, 0.0, 0.0, 0.0, 0.0, 0.0, 0.0, 0.0, 0.0, 0.0, 0.0, 0.0, 0.0, 0.0, 0.0, 0.0, 0.0, 0.0], [0.48596739768981934, 0.26091909408569336, 0.14470313489437103, 0.10841032862663269, 0.0, 0.0, 0.0, 0.0, 0.0, 0.0, 0.0, 0.0, 0.0, 0.0, 0.0, 0.0, 0.0, 0.0, 0.0, 0.0, 0.0, 0.0, 0.0, 0.0, 0.0, 0.0, 0.0, 0.0, 0.0, 0.0, 0.0, 0.0], [0.25202134251594543, 0.19155336916446686, 0.291084885597229, 0.18232762813568115, 0.08301281929016113, 0.0, 0.0, 0.0, 0.0, 0.0, 0.0, 0.0, 0.0, 0.0, 0.0, 0.0, 0.0, 0.0, 0.0, 0.0, 0.0, 0.0, 0.0, 0.0, 0.0, 0.0, 0.0, 0.0, 0.0, 0.0, 0.0, 0.0], [0.22716791927814484, 0.0878002867102623, 0.1403079330921173, 0.23840153217315674, 0.25331786274909973, 0.0530044324696064, 0.0, 0.0, 0.0, 0.0, 0.0, 0.0, 0.0, 0.0, 0.0, 0.0, 0.0, 0.0, 0.0, 0.0, 0.0, 0.0, 0.0, 0.0, 0.0, 0.0, 0.0, 0.0, 0.0, 0.0, 0.0, 0.0], [0.15647414326667786, 0.02638215199112892, 0.07721028476953506, 0.17041711509227753, 0.37536412477493286, 0.1279291957616806, 0.06622299551963806, 0.0, 0.0, 0.0, 0.0, 0.0, 0.0, 0.0, 0.0, 0.0, 0.0, 0.0, 0.0, 0.0, 0.0, 0.0, 0.0, 0.0, 0.0, 0.0, 0.0, 0.0, 0.0, 0.0, 0.0, 0.0], [0.22356371581554413, 0.016243185847997665, 0.029892053455114365, 0.061249006539583206, 0.18187125027179718, 0.18408724665641785, 0.1915130466222763, 0.11158054322004318, 0.0, 0.0, 0.0, 0.0, 0.0, 0.0, 0.0, 0.0, 0.0, 0.0, 0.0, 0.0, 0.0, 0.0, 0.0, 0.0, 0.0, 0.0, 0.0, 0.0, 0.0, 0.0, 0.0, 0.0], [0.10669614374637604, 0.005925686098635197, 0.011317705735564232, 0.021654309704899788, 0.07326848059892654, 0.11282385885715485, 0.2974182963371277, 0.3007798492908478, 0.07011564821004868, 0.0, 0.0, 0.0, 0.0, 0.0, 0.0, 0.0, 0.0, 0.0, 0.0, 0.0, 0.0, 0.0, 0.0, 0.0, 0.0, 0.0, 0.0, 0.0, 0.0, 0.0, 0.0, 0.0], [0.15362027287483215, 0.004785284399986267, 0.005597691051661968, 0.007312814239412546, 0.02864680252969265, 0.0530642606317997, 0.15412653982639313, 0.31170350313186646, 0.19018597900867462, 0.09095677733421326, 0.0, 0.0, 0.0, 0.0, 0.0, 0.0, 0.0, 0.0, 0.0, 0.0, 0.0, 0.0, 0.0, 0.0, 0.0, 0.0, 0.0, 0.0, 0.0, 0.0, 0.0, 0.0], [0.12682780623435974, 0.0022533931769430637, 0.001351956627331674, 0.0031752551440149546, 0.009603430517017841, 0.015738805755972862, 0.058046068996191025, 0.17092101275920868, 0.2533193528652191, 0.2684042155742645, 0.09035864472389221, 0.0, 0.0, 0.0, 0.0, 0.0, 0.0, 0.0, 0.0, 0.0, 0.0, 0.0, 0.0, 0.0, 0.0, 0.0, 0.0, 0.0, 0.0, 0.0, 0.0, 0.0], [0.15279580652713776, 0.002299722284078598, 0.0010013434803113341, 0.00036632776027545333, 0.00521021569147706, 0.009152665734291077, 0.016933312639594078, 0.033053841441869736, 0.13871751725673676, 0.3204987049102783, 0.26627373695373535, 0.053696829825639725, 0.0, 0.0, 0.0, 0.0, 0.0, 0.0, 0.0, 0.0, 0.0, 0.0, 0.0, 0.0, 0.0, 0.0, 0.0, 0.0, 0.0, 0.0, 0.0, 0.0], [0.14279291033744812, 0.005270672030746937, 0.0017375380266457796, 0.0007363432087004185, 0.0031150009017437696, 0.004059419501572847, 0.009129960089921951, 0.020338160917162895, 0.04678439721465111, 0.17844417691230774, 0.40441450476646423, 0.1537831574678421, 0.029393741860985756, 0.0, 0.0, 0.0, 0.0, 0.0, 0.0, 0.0, 0.0, 0.0, 0.0, 0.0, 0.0, 0.0, 0.0, 0.0, 0.0, 0.0, 0.0, 0.0], [0.0938665121793747, 0.010687812231481075, 0.005217972211539745, 0.0017573151271790266, 0.002107772743329406, 0.002691013738512993, 0.006660624407231808, 0.013352862559258938, 0.01669679582118988, 0.05865020677447319, 0.2505703568458557, 0.4097483456134796, 0.0729101374745369, 0.05508223921060562, 0.0, 0.0, 0.0, 0.0, 0.0, 0.0, 0.0, 0.0, 0.0, 0.0, 0.0, 0.0, 0.0, 0.0, 0.0, 0.0, 0.0, 0.0], [0.11395492404699326, 0.010473332367837429, 0.004927823320031166, 0.0022587592247873545, 0.002246341435238719, 0.0011279996251687407, 0.003117808373644948, 0.013650084845721722, 0.012686051428318024, 0.0295646283775568, 0.11971687525510788, 0.24043679237365723, 0.12600065767765045, 0.2357165664434433, 0.08412132412195206, 0.0, 0.0, 0.0, 0.0, 0.0, 0.0, 0.0, 0.0, 0.0, 0.0, 0.0, 0.0, 0.0, 0.0, 0.0, 0.0, 0.0], [0.13812871277332306, 0.014267588965594769, 0.004612781573086977, 0.0027705486863851547, 0.002928124973550439, 0.0008828555000945926, 0.0013943389058113098, 0.008660240098834038, 0.01509132981300354, 0.02292807027697563, 0.04161147400736809, 0.029862787574529648, 0.09508778899908066, 0.3480881154537201, 0.23401622474193573, 0.03966900706291199, 0.0, 0.0, 0.0, 0.0, 0.0, 0.0, 0.0, 0.0, 0.0, 0.0, 0.0, 0.0, 0.0, 0.0, 0.0, 0.0], [0.13450999557971954, 0.008774783462285995, 0.002588980831205845, 0.002442363416776061, 0.003923582844436169, 0.0013999748043715954, 0.0010607579024508595, 0.0038814458530396223, 0.00831384863704443, 0.02129637636244297, 0.03681298345327377, 0.025085236877202988, 0.030589012429118156, 0.20278328657150269, 0.33164262771606445, 0.12442708015441895, 0.0604676716029644, 0.0, 0.0, 0.0, 0.0, 0.0, 0.0, 0.0, 0.0, 0.0, 0.0, 0.0, 0.0, 0.0, 0.0, 0.0], [0.17554160952568054, 0.011392027139663696, 0.00428979704156518, 0.0006763187702745199, 0.005164982285350561, 0.00145289720967412, 0.0008428345900028944, 0.001601500902324915, 0.0060132695361971855, 0.021186744794249535, 0.04968727380037308, 0.015421557240188122, 0.03517654165625572, 0.07387852668762207, 0.3274729251861572, 0.15719449520111084, 0.08656870573759079, 0.026438096538186073, 0.0, 0.0, 0.0, 0.0, 0.0, 0.0, 0.0, 0.0, 0.0, 0.0, 0.0, 0.0, 0.0, 0.0], [0.11316271126270294, 0.016760636121034622, 0.004126289859414101, 0.0012999101309105754, 0.004438408184796572, 0.002318969462066889, 0.0017247949726879597, 0.0019663870334625244, 0.006339320447295904, 0.0196041502058506, 0.025257423520088196, 0.022328756749629974, 0.010294787585735321, 0.030607759952545166, 0.12315436452627182, 0.08820157498121262, 0.1530279666185379, 0.22598479688167572, 0.14940106868743896, 0.0, 0.0, 0.0, 0.0, 0.0, 0.0, 0.0, 0.0, 0.0, 0.0, 0.0, 0.0, 0.0], [0.10660461336374283, 0.014832403510808945, 0.006914160680025816, 0.004290629643946886, 0.0048501272685825825, 0.006166853941977024, 0.004036233760416508, 0.0036177996080368757, 0.00326498132199049, 0.00714684696868062, 0.013005423359572887, 0.009438971988856792, 0.005822496023029089, 0.01177673228085041, 0.052576374262571335, 0.04913344234228134, 0.09349056333303452, 0.1860869973897934, 0.3409808874130249, 0.07596343010663986, 0.0, 0.0, 0.0, 0.0, 0.0, 0.0, 0.0, 0.0, 0.0, 0.0, 0.0, 0.0], [0.06683407723903656, 0.010644346475601196, 0.007929209619760513, 0.00466588931158185, 0.0054689268581569195, 0.0059764692559838295, 0.004748292732983828, 0.0024338176008313894, 0.0015651659341529012, 0.003697375999763608, 0.004591153468936682, 0.009870178066194057, 0.0026820036582648754, 0.003332046326249838, 0.003746950998902321, 0.009282716549932957, 0.031112026423215866, 0.15310609340667725, 0.3687170147895813, 0.19851116836071014, 0.10108505934476852, 0.0, 0.0, 0.0, 0.0, 0.0, 0.0, 0.0, 0.0, 0.0, 0.0, 0.0], [0.07005743682384491, 0.006617405451834202, 0.0022492483258247375, 0.0013649356551468372, 0.002912640105932951, 0.004045308567583561, 0.004535121377557516, 0.008530108258128166, 0.0037315923254936934, 0.0029997085221111774, 0.002906421897932887, 0.004566712770611048, 0.0034618552308529615, 0.00276511674746871, 0.003475388279184699, 0.002744872821494937, 0.007680652663111687, 0.035287950187921524, 0.166892871260643, 0.26588836312294006, 0.3286125957965851, 0.06867367029190063, 0.0, 0.0, 0.0, 0.0, 0.0, 0.0, 0.0, 0.0, 0.0, 0.0], [0.12521076202392578, 0.007494605146348476, 0.0013946164399385452, 0.0014025671407580376, 0.0012935930863022804, 0.0015358221717178822, 0.003295816481113434, 0.007086029276251793, 0.003751056268811226, 0.0023036960046738386, 0.001479970058426261, 0.0008636550046503544, 0.0017112564528360963, 0.0023927411530166864, 0.0023674913682043552, 0.0004517147899605334, 0.0011029167799279094, 0.0038267886266112328, 0.0343087874352932, 0.09339501708745956, 0.23932945728302002, 0.38601770997047424, 0.07798389345407486, 0.0, 0.0, 0.0, 0.0, 0.0, 0.0, 0.0, 0.0, 0.0], [0.14930500090122223, 0.0062135676853358746, 0.0014124400913715363, 0.0007688103942200541, 0.0011817888589575887, 0.001064890413545072, 0.0020638261921703815, 0.006809553597122431, 0.007291973102837801, 0.005410418845713139, 0.0021769492886960506, 0.0016253768699243665, 0.0015731651801615953, 0.004053701646625996, 0.004084739368408918, 0.0017570072086527944, 0.004477732814848423, 0.006858155597001314, 0.025224562734365463, 0.03838885575532913, 0.25334370136260986, 0.17926956713199615, 0.2071848064661026, 0.08845943957567215, 0.0, 0.0, 0.0, 0.0, 0.0, 0.0, 0.0, 0.0], [0.05844853073358536, 0.00243620784021914, 0.0006499401642940938, 0.00036705375532619655, 0.0006782482960261405, 0.0008747435640543699, 0.0010133219184353948, 0.0023976603988558054, 0.0020538633689284325, 0.003115573897957802, 0.001008619787171483, 0.0008568367920815945, 0.0002649339148774743, 0.0010095196776092052, 0.0019086378160864115, 0.004252628423273563, 0.009456045925617218, 0.015051248483359814, 0.015919163823127747, 0.013864854350686073, 0.06958232820034027, 0.09409942477941513, 0.3803521692752838, 0.2605641186237335, 0.059774260967969894, 0.0, 0.0, 0.0, 0.0, 0.0, 0.0, 0.0], [0.06788310408592224, 0.0026085898280143738, 0.0007690112688578665, 0.00018310196173842996, 0.0003437135892454535, 0.0009182160720229149, 0.0009599559125490487, 0.0012222517980262637, 0.0015268198912963271, 0.002809792058542371, 0.0019152656896039844, 0.0010918800253421068, 0.0002386822598055005, 0.0003069903759751469, 0.0010672631906345487, 0.0019996592309325933, 0.004524012096226215, 0.007956230081617832, 0.013592755421996117, 0.00687909871339798, 0.03455198556184769, 0.0389060340821743, 0.18855959177017212, 0.290903776884079, 0.23458395898342133, 0.09369837492704391, 0.0, 0.0, 0.0, 0.0, 0.0, 0.0], [0.07136327773332596, 0.0032700092997401953, 0.0013542111264541745, 0.0004969938891008496, 0.0002752866130322218, 0.0004026510869152844, 0.0006954367854632437, 0.0007133904728107154, 0.0005096568493172526, 0.001297866110689938, 0.0015630086418241262, 0.001425274764187634, 0.00028472428675740957, 0.00027503809542395175, 0.0005044272402301431, 0.0013057072646915913, 0.002605560002848506, 0.004783294629305601, 0.017336472868919373, 0.006501273717731237, 0.013331766240298748, 0.008815702050924301, 0.060649383813142776, 0.16246218979358673, 0.290839821100235, 0.2690776586532593, 0.07785990834236145, 0.0, 0.0, 0.0, 0.0, 0.0], [0.14248748123645782, 0.002048371359705925, 0.0011307209497317672, 0.0001416967570548877, 0.00025015114806592464, 0.00032290793024003506, 0.0007956495392136276, 0.0010126180713996291, 0.0007807266083545983, 0.0015047126216813922, 0.002963137347251177, 0.00408569723367691, 0.0013023128267377615, 0.0008525062003172934, 0.0014443444088101387, 0.000984423910267651, 0.0012823803117498755, 0.0025960528291761875, 0.009873174130916595, 0.005387940909713507, 0.015199901536107063, 0.012034585699439049, 0.024219436571002007, 0.06078365817666054, 0.16184879839420319, 0.30928942561149597, 0.1835227608680725, 0.05185440555214882, 0.0, 0.0, 0.0, 0.0], [0.07708095759153366, 0.0007922330405563116, 0.0003548945824149996, 2.4387267330894247e-05, 0.0001377005100948736, 0.00010521719377720729, 0.00031319158733822405, 0.0005172069068066776, 0.0007396377623081207, 0.0020570862106978893, 0.0078038438223302364, 0.004002537578344345, 0.0037294519133865833, 0.0013084056554362178, 0.0015758200315758586, 0.0007378243608400226, 0.0007206673617474735, 0.0006580438348464668, 0.003646517638117075, 0.00245039165019989, 0.00597774563357234, 0.005123480223119259, 0.011488774791359901, 0.01608780212700367, 0.06573084741830826, 0.2193344533443451, 0.4343746304512024, 0.11844892054796219, 0.014677315019071102, 0.0, 0.0, 0.0], [0.05804067105054855, 0.0011781026842072606, 0.0004237591347191483, 8.700178295839578e-05, 0.00015221076318994164, 0.00012238003546372056, 0.00046141145867295563, 0.0008056327351368964, 0.0010681748390197754, 0.0029269482474774122, 0.009381754323840141, 0.01902000606060028, 0.00630455557256937, 0.003807745175436139, 0.002792431740090251, 0.0008809077553451061, 0.0014603018062189221, 0.0032390672713518143, 0.00607112655416131, 0.0050301318988204, 0.010231527499854565, 0.0049328734166920185, 0.007830193266272545, 0.007075441535562277, 0.021956386044621468, 0.12574754655361176, 0.23944243788719177, 0.1744888722896576, 0.18203282356262207, 0.10300761461257935, 0.0, 0.0], [0.07714875042438507, 0.0013582370011135936, 0.0008400845690630376, 0.0006208003615029156, 0.00037320004776120186, 0.00039044691948220134, 0.0009939935989677906, 0.0030206136871129274, 0.001751302508637309, 0.002255217870697379, 0.005494505167007446, 0.006989655084908009, 0.009075518697500229, 0.01055326871573925, 0.009873796254396439, 0.0009136110311374068, 0.0010227723978459835, 0.0014774544397369027, 0.005860662553459406, 0.005447734612971544, 0.01563066989183426, 0.007421399466693401, 0.005612329579889774, 0.0037729740142822266, 0.003677781904116273, 0.024569539353251457, 0.0745164081454277, 0.10804948955774307, 0.1710604876279831, 0.3702259063720703, 0.07000141590833664, 0.0], [0.05390282720327377, 0.0016573092434555292, 0.0013380480231717229, 0.0011663774494081736, 0.0006868619238957763, 0.00037224279367364943, 0.0006903509492985904, 0.0017082897247746587, 0.0013112984597682953, 0.0018355275969952345, 0.0019751866348087788, 0.005022699944674969, 0.004968858789652586, 0.010373367927968502, 0.004256421700119972, 0.0007005566731095314, 0.0006986664957366884, 0.0010450953850522637, 0.0028901423793286085, 0.005697091110050678, 0.012513136491179466, 0.0067704650573432446, 0.00609026663005352, 0.0011770017445087433, 0.0011268429225310683, 0.013131174258887768, 0.029964938759803772, 0.06792810559272766, 0.15023046731948853, 0.36172497272491455, 0.17521393299102783, 0.07183147221803665]], [[1.0, 0.0, 0.0, 0.0, 0.0, 0.0, 0.0, 0.0, 0.0, 0.0, 0.0, 0.0, 0.0, 0.0, 0.0, 0.0, 0.0, 0.0, 0.0, 0.0, 0.0, 0.0, 0.0, 0.0, 0.0, 0.0, 0.0, 0.0, 0.0, 0.0, 0.0, 0.0], [0.726279616355896, 0.2737203538417816, 0.0, 0.0, 0.0, 0.0, 0.0, 0.0, 0.0, 0.0, 0.0, 0.0, 0.0, 0.0, 0.0, 0.0, 0.0, 0.0, 0.0, 0.0, 0.0, 0.0, 0.0, 0.0, 0.0, 0.0, 0.0, 0.0, 0.0, 0.0, 0.0, 0.0], [0.6243199110031128, 0.03774431347846985, 0.33793574571609497, 0.0, 0.0, 0.0, 0.0, 0.0, 0.0, 0.0, 0.0, 0.0, 0.0, 0.0, 0.0, 0.0, 0.0, 0.0, 0.0, 0.0, 0.0, 0.0, 0.0, 0.0, 0.0, 0.0, 0.0, 0.0, 0.0, 0.0, 0.0, 0.0], [0.7881168723106384, 0.18725468218326569, 0.000503558199852705, 0.024124860763549805, 0.0, 0.0, 0.0, 0.0, 0.0, 0.0, 0.0, 0.0, 0.0, 0.0, 0.0, 0.0, 0.0, 0.0, 0.0, 0.0, 0.0, 0.0, 0.0, 0.0, 0.0, 0.0, 0.0, 0.0, 0.0, 0.0, 0.0, 0.0], [0.3439514636993408, 0.008476469665765762, 0.5517817139625549, 0.02786164917051792, 0.06792871654033661, 0.0, 0.0, 0.0, 0.0, 0.0, 0.0, 0.0, 0.0, 0.0, 0.0, 0.0, 0.0, 0.0, 0.0, 0.0, 0.0, 0.0, 0.0, 0.0, 0.0, 0.0, 0.0, 0.0, 0.0, 0.0, 0.0, 0.0], [0.5007545948028564, 0.43827158212661743, 0.0010861775372177362, 0.04854315519332886, 0.011293873190879822, 5.066089579486288e-05, 0.0, 0.0, 0.0, 0.0, 0.0, 0.0, 0.0, 0.0, 0.0, 0.0, 0.0, 0.0, 0.0, 0.0, 0.0, 0.0, 0.0, 0.0, 0.0, 0.0, 0.0, 0.0, 0.0, 0.0, 0.0, 0.0], [0.4467826187610626, 0.08610506355762482, 0.13386182487010956, 0.07884252816438675, 0.09555311501026154, 0.029473988339304924, 0.12938092648983002, 0.0, 0.0, 0.0, 0.0, 0.0, 0.0, 0.0, 0.0, 0.0, 0.0, 0.0, 0.0, 0.0, 0.0, 0.0, 0.0, 0.0, 0.0, 0.0, 0.0, 0.0, 0.0, 0.0, 0.0, 0.0], [0.5964309573173523, 0.09791555255651474, 0.060900937765836716, 0.08292083442211151, 0.060177046805620193, 0.0028137515764683485, 0.052157893776893616, 0.04668301343917847, 0.0, 0.0, 0.0, 0.0, 0.0, 0.0, 0.0, 0.0, 0.0, 0.0, 0.0, 0.0, 0.0, 0.0, 0.0, 0.0, 0.0, 0.0, 0.0, 0.0, 0.0, 0.0, 0.0, 0.0], [0.2414315789937973, 0.1028098538517952, 0.06954184174537659, 0.19907893240451813, 0.08703877031803131, 0.0004203447315376252, 0.08685475587844849, 0.11072808504104614, 0.10209576785564423, 0.0, 0.0, 0.0, 0.0, 0.0, 0.0, 0.0, 0.0, 0.0, 0.0, 0.0, 0.0, 0.0, 0.0, 0.0, 0.0, 0.0, 0.0, 0.0, 0.0, 0.0, 0.0, 0.0], [0.06005648523569107, 0.0723152905702591, 0.12193846702575684, 0.06697913259267807, 0.20428544282913208, 0.00031633180333301425, 0.17139007151126862, 0.0631677582859993, 0.18389074504375458, 0.05566030368208885, 0.0, 0.0, 0.0, 0.0, 0.0, 0.0, 0.0, 0.0, 0.0, 0.0, 0.0, 0.0, 0.0, 0.0, 0.0, 0.0, 0.0, 0.0, 0.0, 0.0, 0.0, 0.0], [0.05738425254821777, 0.04283629730343819, 0.11781302094459534, 0.0504164844751358, 0.1427917331457138, 0.00015210156561806798, 0.18529252707958221, 0.051876578480005264, 0.1470184624195099, 0.040418244898319244, 0.16400031745433807, 0.0, 0.0, 0.0, 0.0, 0.0, 0.0, 0.0, 0.0, 0.0, 0.0, 0.0, 0.0, 0.0, 0.0, 0.0, 0.0, 0.0, 0.0, 0.0, 0.0, 0.0], [0.3462902307510376, 0.1851508766412735, 0.046662233769893646, 0.10192833840847015, 0.08512590825557709, 0.004370743874460459, 0.04227111488580704, 0.048995617777109146, 0.03528638184070587, 0.013812600634992123, 0.03292762115597725, 0.057178251445293427, 0.0, 0.0, 0.0, 0.0, 0.0, 0.0, 0.0, 0.0, 0.0, 0.0, 0.0, 0.0, 0.0, 0.0, 0.0, 0.0, 0.0, 0.0, 0.0, 0.0], [0.47429773211479187, 0.10327186435461044, 0.028608260676264763, 0.0362413227558136, 0.03884071856737137, 0.023103171959519386, 0.04176326468586922, 0.03561662882566452, 0.03369070589542389, 0.022586943581700325, 0.03470554202795029, 0.07261257618665695, 0.05466132238507271, 0.0, 0.0, 0.0, 0.0, 0.0, 0.0, 0.0, 0.0, 0.0, 0.0, 0.0, 0.0, 0.0, 0.0, 0.0, 0.0, 0.0, 0.0, 0.0], [0.05332346260547638, 0.00371685647405684, 0.041283342987298965, 0.007212244439870119, 0.007693323772400618, 0.773786723613739, 0.008713879622519016, 0.004678071476519108, 0.010056843981146812, 0.00948818027973175, 0.014593864791095257, 0.030348598957061768, 0.003993208520114422, 0.031111406162381172, 0.0, 0.0, 0.0, 0.0, 0.0, 0.0, 0.0, 0.0, 0.0, 0.0, 0.0, 0.0, 0.0, 0.0, 0.0, 0.0, 0.0, 0.0], [0.5500724911689758, 0.271014004945755, 0.0009471020312048495, 0.014281591400504112, 0.004426614847034216, 0.0004887725808657706, 0.003589037572965026, 0.0113689498975873, 0.001486414228565991, 0.00045989867066964507, 0.0010320903966203332, 0.01733051985502243, 0.10636872798204422, 0.009525655768811703, 0.007608005777001381, 0.0, 0.0, 0.0, 0.0, 0.0, 0.0, 0.0, 0.0, 0.0, 0.0, 0.0, 0.0, 0.0, 0.0, 0.0, 0.0, 0.0], [0.4676109850406647, 0.19005849957466125, 0.0041809421963989735, 0.028465401381254196, 0.015551559627056122, 0.0008451499743387103, 0.015834424644708633, 0.027468740940093994, 0.007830681279301643, 0.004195736721158028, 0.006356307305395603, 0.025767656043171883, 0.064275823533535, 0.039340101182460785, 0.013193592429161072, 0.08902444690465927, 0.0, 0.0, 0.0, 0.0, 0.0, 0.0, 0.0, 0.0, 0.0, 0.0, 0.0, 0.0, 0.0, 0.0, 0.0, 0.0], [0.5127249956130981, 0.29900407791137695, 0.0006209489074535668, 0.017206760123372078, 0.0026358396280556917, 3.496326826279983e-05, 0.0015966743230819702, 0.008279231376945972, 0.0016239044489338994, 0.0006617194158025086, 0.0011935954680666327, 0.007453927770256996, 0.03293329477310181, 0.007693702820688486, 0.0033982209861278534, 0.02959042601287365, 0.07334762811660767, 0.0, 0.0, 0.0, 0.0, 0.0, 0.0, 0.0, 0.0, 0.0, 0.0, 0.0, 0.0, 0.0, 0.0, 0.0], [0.19186712801456451, 0.12053592503070831, 0.0233153123408556, 0.04854979366064072, 0.04465426504611969, 0.0014008585130795836, 0.01793058030307293, 0.0245523639023304, 0.02217232808470726, 0.009059363044798374, 0.0223099235445261, 0.03807160630822182, 0.02408372424542904, 0.09685390442609787, 0.04526214301586151, 0.05868113785982132, 0.12018067389726639, 0.09051897376775742, 0.0, 0.0, 0.0, 0.0, 0.0, 0.0, 0.0, 0.0, 0.0, 0.0, 0.0, 0.0, 0.0, 0.0], [0.001136675477027893, 4.472723594517447e-05, 0.0050143892876803875, 8.518634422216564e-05, 0.0007514912285842001, 0.9609103202819824, 0.00031538837356492877, 5.460240208776668e-05, 0.0007500931969843805, 0.0005347569822333753, 0.001325970166362822, 0.0008721620542928576, 6.47322231088765e-05, 0.0017828886630013585, 0.014786990359425545, 0.00042574244434945285, 0.0001065057804225944, 5.198727376409806e-05, 0.01098531112074852, 0.0, 0.0, 0.0, 0.0, 0.0, 0.0, 0.0, 0.0, 0.0, 0.0, 0.0, 0.0, 0.0], [0.5348114371299744, 0.11527957022190094, 0.0025817384012043476, 0.018661823123693466, 0.008799530565738678, 0.00015596312005072832, 0.007991650141775608, 0.012300867587327957, 0.004634749609977007, 0.0024634860455989838, 0.004414128605276346, 0.011383268982172012, 0.027068788185715675, 0.014778886921703815, 0.006095605436712503, 0.03743286430835724, 0.06169026345014572, 0.04008542373776436, 0.005960570648312569, 0.08340930938720703, 0.0, 0.0, 0.0, 0.0, 0.0, 0.0, 0.0, 0.0, 0.0, 0.0, 0.0, 0.0], [0.02924676612019539, 0.011049235239624977, 0.09568186849355698, 0.008235719986259937, 0.036768388003110886, 0.00864804070442915, 0.033680450171232224, 0.005687203258275986, 0.023678993806242943, 0.007852030918002129, 0.029831912368535995, 0.06622059643268585, 0.0032309326343238354, 0.11209346354007721, 0.050110410898923874, 0.04894993081688881, 0.018687108531594276, 0.015352549962699413, 0.10679958760738373, 0.010465656407177448, 0.2777291536331177, 0.0, 0.0, 0.0, 0.0, 0.0, 0.0, 0.0, 0.0, 0.0, 0.0, 0.0], [0.1322774887084961, 0.5847139358520508, 0.0001626320881769061, 0.007737824227660894, 0.0032700577285140753, 1.6947209360296256e-06, 0.0013337369309738278, 0.006487657781690359, 0.0006067996146157384, 0.0002619285078253597, 0.0005489987670443952, 0.004697629250586033, 0.037810590118169785, 0.0028160721994936466, 0.000940488709602505, 0.021408729255199432, 0.04704589769244194, 0.0625576376914978, 0.0002495906956028193, 0.08251600712537766, 0.0025387818459421396, 1.5740211892989464e-05, 0.0, 0.0, 0.0, 0.0, 0.0, 0.0, 0.0, 0.0, 0.0, 0.0], [0.570652425289154, 0.1401824802160263, 0.0008976187673397362, 0.008566555567085743, 0.0039525446482002735, 3.465584450168535e-05, 0.002874580677598715, 0.005766328889876604, 0.0012607095995917916, 0.0006465804763138294, 0.0010918660555034876, 0.005542632658034563, 0.011667916551232338, 0.005219738464802504, 0.00255923205986619, 0.02580161951482296, 0.033155474811792374, 0.020353127270936966, 0.0014272964326664805, 0.04450172185897827, 0.006389004644006491, 0.0002063102147076279, 0.10724961757659912, 0.0, 0.0, 0.0, 0.0, 0.0, 0.0, 0.0, 0.0, 0.0], [0.26587995886802673, 0.043599408119916916, 0.029308410361409187, 0.023931141942739487, 0.027115648612380028, 0.0014874995686113834, 0.025390852242708206, 0.01589864119887352, 0.026818161830306053, 0.012526453472673893, 0.02846391871571541, 0.023263808339834213, 0.009855402633547783, 0.04605909064412117, 0.02038055658340454, 0.029722604900598526, 0.05310310423374176, 0.029039038345217705, 0.05268872156739235, 0.03711019828915596, 0.10407809913158417, 0.007745814975351095, 0.0513514019548893, 0.03518211841583252, 0.0, 0.0, 0.0, 0.0, 0.0, 0.0, 0.0, 0.0], [0.08782581984996796, 0.034867629408836365, 0.018426893278956413, 0.03660746291279793, 0.02248452417552471, 0.00013428875536192209, 0.021352943032979965, 0.022750508040189743, 0.02083110809326172, 0.007494280114769936, 0.016355810686945915, 0.03382733464241028, 0.010854301042854786, 0.049340393394231796, 0.014834762550890446, 0.04928483068943024, 0.14226385951042175, 0.0720953717827797, 0.021080035716295242, 0.04229092597961426, 0.09043910354375839, 0.0009438158595003188, 0.0814640000462532, 0.05544903129339218, 0.04670098051428795, 0.0, 0.0, 0.0, 0.0, 0.0, 0.0, 0.0], [0.015973063185811043, 0.021971216425299644, 0.028836365789175034, 0.01170828565955162, 0.04779142513871193, 8.767511462792754e-05, 0.03917614370584488, 0.012179846875369549, 0.035677842795848846, 0.009965562261641026, 0.034579258412122726, 0.03705308213829994, 0.005625460296869278, 0.0865638479590416, 0.00668164761736989, 0.018074581399559975, 0.020478254184126854, 0.03716697171330452, 0.038120564073324203, 0.018140703439712524, 0.27749109268188477, 0.0009870856301859021, 0.038561418652534485, 0.03336761146783829, 0.0972394198179245, 0.02650161273777485, 0.0, 0.0, 0.0, 0.0, 0.0, 0.0], [0.016891945153474808, 0.014804769307374954, 0.031188858672976494, 0.00953838974237442, 0.031864844262599945, 4.8246227379422635e-05, 0.04127626121044159, 0.009786288253962994, 0.02941467985510826, 0.007253061514347792, 0.029773730784654617, 0.035337090492248535, 0.003817381104454398, 0.08497931808233261, 0.004842143971472979, 0.023746585473418236, 0.018583903089165688, 0.028369762003421783, 0.035267870873212814, 0.011190744116902351, 0.2598247528076172, 0.0005221556639298797, 0.025057652965188026, 0.028949756175279617, 0.0899890884757042, 0.02071431279182434, 0.10696644335985184, 0.0, 0.0, 0.0, 0.0, 0.0], [0.1643783450126648, 0.06944906711578369, 0.013159769587218761, 0.016993748024106026, 0.015059172175824642, 0.0002949486079160124, 0.010212134569883347, 0.008893975056707859, 0.00887325219810009, 0.002683168277144432, 0.0072586629539728165, 0.022015295922756195, 0.006740674842149019, 0.03415572643280029, 0.012941693887114525, 0.03892635181546211, 0.05077486112713814, 0.033443231135606766, 0.014999418519437313, 0.04872680455446243, 0.06023818626999855, 0.003208925947546959, 0.18839600682258606, 0.032933250069618225, 0.031207438558340073, 0.009231246076524258, 0.02736111544072628, 0.06744355708360672, 0.0, 0.0, 0.0, 0.0], [0.0832027941942215, 0.046576716005802155, 0.008753274567425251, 0.015915492549538612, 0.015100465156137943, 0.000436827220255509, 0.006747146602720022, 0.008237139321863651, 0.007661809679120779, 0.002680734032765031, 0.00695595471188426, 0.012320255860686302, 0.0070313881151378155, 0.029076499864459038, 0.012185074388980865, 0.019895846024155617, 0.03775964304804802, 0.03353211283683777, 0.012310462072491646, 0.06976965814828873, 0.038198184221982956, 0.0049958727322518826, 0.30192694067955017, 0.030090978369116783, 0.028291024267673492, 0.010186128318309784, 0.02717508189380169, 0.05491544306278229, 0.06807107478380203, 0.0, 0.0, 0.0], [0.0002719625481404364, 6.92094499754603e-06, 0.0012517760042101145, 1.6482223145430908e-05, 0.0001527257263660431, 0.2587900459766388, 7.659738912479952e-05, 1.1400788935134187e-05, 0.00017936342919711024, 0.00011548458132892847, 0.0003058757574763149, 0.00018314088811166584, 1.152167624240974e-05, 0.00035247605410404503, 0.002728892955929041, 8.175941911758855e-05, 1.864525256678462e-05, 1.0547847523412202e-05, 0.00250797881744802, 4.170072134002112e-05, 0.0007884216611273587, 0.7248874306678772, 0.00010045442468253896, 3.800458580371924e-05, 0.0005628771032206714, 0.00026951113250106573, 0.0008328536641784012, 0.0009651633445173502, 2.2455426005763002e-05, 0.004417645279318094, 0.0, 0.0], [0.4652591347694397, 0.05925231799483299, 0.001458156737498939, 0.008997895754873753, 0.004994923248887062, 7.954442844493315e-05, 0.005217325408011675, 0.006844519637525082, 0.0025939554907381535, 0.0011719848262146115, 0.0023213091772049665, 0.006311013828963041, 0.014258485287427902, 0.008029191754758358, 0.0024580983445048332, 0.018927868455648422, 0.02525462582707405, 0.02041454240679741, 0.0028595183975994587, 0.04398218169808388, 0.010400102473795414, 0.0003928039222955704, 0.11167459189891815, 0.01619437336921692, 0.006093235220760107, 0.0032934739720076323, 0.006732540670782328, 0.015934592112898827, 0.040775831788778305, 0.005094804335385561, 0.0827270895242691, 0.0], [0.01979249157011509, 0.0036442538257688284, 0.043523453176021576, 0.002780949929729104, 0.01636982150375843, 0.004270751029253006, 0.016253385692834854, 0.0023150835186243057, 0.010056264698505402, 0.0029935704078525305, 0.011651950888335705, 0.027617160230875015, 0.0011691449908539653, 0.04934850335121155, 0.016541646793484688, 0.016886169090867043, 0.005180186126381159, 0.005198804661631584, 0.04053397476673126, 0.003508346388116479, 0.12702354788780212, 0.029585687443614006, 0.011385410092771053, 0.007030494511127472, 0.03213643655180931, 0.00893900915980339, 0.046223234385252, 0.09086738526821136, 0.011462895199656487, 0.08393982797861099, 0.00817976426333189, 0.2435903549194336]], [[1.0, 0.0, 0.0, 0.0, 0.0, 0.0, 0.0, 0.0, 0.0, 0.0, 0.0, 0.0, 0.0, 0.0, 0.0, 0.0, 0.0, 0.0, 0.0, 0.0, 0.0, 0.0, 0.0, 0.0, 0.0, 0.0, 0.0, 0.0, 0.0, 0.0, 0.0, 0.0], [0.6306540369987488, 0.36934593319892883, 0.0, 0.0, 0.0, 0.0, 0.0, 0.0, 0.0, 0.0, 0.0, 0.0, 0.0, 0.0, 0.0, 0.0, 0.0, 0.0, 0.0, 0.0, 0.0, 0.0, 0.0, 0.0, 0.0, 0.0, 0.0, 0.0, 0.0, 0.0, 0.0, 0.0], [0.8540881872177124, 0.0920879915356636, 0.05382382869720459, 0.0, 0.0, 0.0, 0.0, 0.0, 0.0, 0.0, 0.0, 0.0, 0.0, 0.0, 0.0, 0.0, 0.0, 0.0, 0.0, 0.0, 0.0, 0.0, 0.0, 0.0, 0.0, 0.0, 0.0, 0.0, 0.0, 0.0, 0.0, 0.0], [0.8603088855743408, 0.04775992035865784, 0.05647234991192818, 0.03545879200100899, 0.0, 0.0, 0.0, 0.0, 0.0, 0.0, 0.0, 0.0, 0.0, 0.0, 0.0, 0.0, 0.0, 0.0, 0.0, 0.0, 0.0, 0.0, 0.0, 0.0, 0.0, 0.0, 0.0, 0.0, 0.0, 0.0, 0.0, 0.0], [0.832524299621582, 0.028114788234233856, 0.02703282982110977, 0.01567378081381321, 0.09665422886610031, 0.0, 0.0, 0.0, 0.0, 0.0, 0.0, 0.0, 0.0, 0.0, 0.0, 0.0, 0.0, 0.0, 0.0, 0.0, 0.0, 0.0, 0.0, 0.0, 0.0, 0.0, 0.0, 0.0, 0.0, 0.0, 0.0, 0.0], [0.8019688129425049, 0.010280164889991283, 0.030390214174985886, 0.029632752761244774, 0.10340499877929688, 0.024323096498847008, 0.0, 0.0, 0.0, 0.0, 0.0, 0.0, 0.0, 0.0, 0.0, 0.0, 0.0, 0.0, 0.0, 0.0, 0.0, 0.0, 0.0, 0.0, 0.0, 0.0, 0.0, 0.0, 0.0, 0.0, 0.0, 0.0], [0.7744812965393066, 0.04780302569270134, 0.03863868862390518, 0.031203364953398705, 0.02141769789159298, 0.0366208516061306, 0.04983500391244888, 0.0, 0.0, 0.0, 0.0, 0.0, 0.0, 0.0, 0.0, 0.0, 0.0, 0.0, 0.0, 0.0, 0.0, 0.0, 0.0, 0.0, 0.0, 0.0, 0.0, 0.0, 0.0, 0.0, 0.0, 0.0], [0.8699086308479309, 0.02560955099761486, 0.013338228687644005, 0.01309638936072588, 0.00639557559043169, 0.032683297991752625, 0.004355486948043108, 0.03461286053061485, 0.0, 0.0, 0.0, 0.0, 0.0, 0.0, 0.0, 0.0, 0.0, 0.0, 0.0, 0.0, 0.0, 0.0, 0.0, 0.0, 0.0, 0.0, 0.0, 0.0, 0.0, 0.0, 0.0, 0.0], [0.7326204776763916, 0.010952708311378956, 0.01380202081054449, 0.00920427031815052, 0.031435590237379074, 0.031539835035800934, 0.02083556167781353, 0.013682140037417412, 0.13592742383480072, 0.0, 0.0, 0.0, 0.0, 0.0, 0.0, 0.0, 0.0, 0.0, 0.0, 0.0, 0.0, 0.0, 0.0, 0.0, 0.0, 0.0, 0.0, 0.0, 0.0, 0.0, 0.0, 0.0], [0.6469839811325073, 0.011533213779330254, 0.011730492115020752, 0.016059700399637222, 0.02891778200864792, 0.03115108236670494, 0.025515174493193626, 0.009233827702701092, 0.020365919917821884, 0.19850876927375793, 0.0, 0.0, 0.0, 0.0, 0.0, 0.0, 0.0, 0.0, 0.0, 0.0, 0.0, 0.0, 0.0, 0.0, 0.0, 0.0, 0.0, 0.0, 0.0, 0.0, 0.0, 0.0], [0.5850639939308167, 0.019476622343063354, 0.01211734302341938, 0.010004788637161255, 0.03809699788689613, 0.019742153584957123, 0.032711297273635864, 0.004719991236925125, 0.0311114601790905, 0.059796158224344254, 0.1871591955423355, 0.0, 0.0, 0.0, 0.0, 0.0, 0.0, 0.0, 0.0, 0.0, 0.0, 0.0, 0.0, 0.0, 0.0, 0.0, 0.0, 0.0, 0.0, 0.0, 0.0, 0.0], [0.44653579592704773, 0.046672970056533813, 0.05944380909204483, 0.02088984102010727, 0.0699034258723259, 0.016033431515097618, 0.11247506737709045, 0.012347371317446232, 0.03601408749818802, 0.04911918193101883, 0.06199563294649124, 0.06856933981180191, 0.0, 0.0, 0.0, 0.0, 0.0, 0.0, 0.0, 0.0, 0.0, 0.0, 0.0, 0.0, 0.0, 0.0, 0.0, 0.0, 0.0, 0.0, 0.0, 0.0], [0.5386839509010315, 0.049318332225084305, 0.04221874848008156, 0.023909546434879303, 0.04639865830540657, 0.026849130168557167, 0.06763651967048645, 0.013095703907310963, 0.03250829875469208, 0.028918739408254623, 0.042770810425281525, 0.06385144591331482, 0.02384018339216709, 0.0, 0.0, 0.0, 0.0, 0.0, 0.0, 0.0, 0.0, 0.0, 0.0, 0.0, 0.0, 0.0, 0.0, 0.0, 0.0, 0.0, 0.0, 0.0], [0.5528542995452881, 0.04440215602517128, 0.023740647360682487, 0.017464090138673782, 0.04140370339155197, 0.031910382211208344, 0.057406093925237656, 0.008456870913505554, 0.036294709891080856, 0.027469538152217865, 0.05832531675696373, 0.04376779496669769, 0.009243312291800976, 0.04726112633943558, 0.0, 0.0, 0.0, 0.0, 0.0, 0.0, 0.0, 0.0, 0.0, 0.0, 0.0, 0.0, 0.0, 0.0, 0.0, 0.0, 0.0, 0.0], [0.39004087448120117, 0.03728759288787842, 0.05579560995101929, 0.03326279670000076, 0.05361097678542137, 0.028353339061141014, 0.08016125112771988, 0.012584317475557327, 0.05685098096728325, 0.03192013502120972, 0.05548670515418053, 0.06643126159906387, 0.019014738500118256, 0.053076643496751785, 0.026122812181711197, 0.0, 0.0, 0.0, 0.0, 0.0, 0.0, 0.0, 0.0, 0.0, 0.0, 0.0, 0.0, 0.0, 0.0, 0.0, 0.0, 0.0], [0.4580621123313904, 0.07956811785697937, 0.04989553987979889, 0.017160849645733833, 0.03378983587026596, 0.01973552070558071, 0.061425987631082535, 0.011119945906102657, 0.035352692008018494, 0.024100808426737785, 0.03483051434159279, 0.06331969052553177, 0.018147062510252, 0.0425756573677063, 0.017882205545902252, 0.03303340822458267, 0.0, 0.0, 0.0, 0.0, 0.0, 0.0, 0.0, 0.0, 0.0, 0.0, 0.0, 0.0, 0.0, 0.0, 0.0, 0.0], [0.3796212673187256, 0.0410129614174366, 0.040767852216959, 0.020314866676926613, 0.05459614843130112, 0.022014081478118896, 0.05762866139411926, 0.014587106183171272, 0.05464673042297363, 0.06380866467952728, 0.0780872106552124, 0.058630410581827164, 0.016350803896784782, 0.04375274479389191, 0.01328892633318901, 0.018408721312880516, 0.022482840344309807, 0.0, 0.0, 0.0, 0.0, 0.0, 0.0, 0.0, 0.0, 0.0, 0.0, 0.0, 0.0, 0.0, 0.0, 0.0], [0.35943037271499634, 0.04514352232217789, 0.04710540920495987, 0.014627178199589252, 0.050501272082328796, 0.011822500266134739, 0.08849689364433289, 0.009368587285280228, 0.03205806761980057, 0.044747211039066315, 0.07776890695095062, 0.06533300131559372, 0.017667628824710846, 0.06028788536787033, 0.009546731598675251, 0.027961887419223785, 0.012707361951470375, 0.025425558909773827, 0.0, 0.0, 0.0, 0.0, 0.0, 0.0, 0.0, 0.0, 0.0, 0.0, 0.0, 0.0, 0.0, 0.0], [0.4464394152164459, 0.040994297713041306, 0.026916174218058586, 0.01942998170852661, 0.031921565532684326, 0.020301269367337227, 0.0361759252846241, 0.008117090910673141, 0.018082844093441963, 0.04892904311418533, 0.04367528483271599, 0.048116154968738556, 0.012889678589999676, 0.028488216921687126, 0.012631392106413841, 0.017041023820638657, 0.013281641528010368, 0.01658122055232525, 0.10998788475990295, 0.0, 0.0, 0.0, 0.0, 0.0, 0.0, 0.0, 0.0, 0.0, 0.0, 0.0, 0.0, 0.0], [0.40306606888771057, 0.022810988128185272, 0.025901662185788155, 0.017516085878014565, 0.03604021295905113, 0.018132278695702553, 0.03344681113958359, 0.010914497077465057, 0.019132472574710846, 0.0660206601023674, 0.040669191628694534, 0.04119034484028816, 0.012773898430168629, 0.0225746538490057, 0.014476648531854153, 0.01787627302110195, 0.01561643648892641, 0.013942917808890343, 0.09775615483522415, 0.07014168053865433, 0.0, 0.0, 0.0, 0.0, 0.0, 0.0, 0.0, 0.0, 0.0, 0.0, 0.0, 0.0], [0.48848584294319153, 0.004439939744770527, 0.012058835476636887, 0.023788003250956535, 0.019313016906380653, 0.023362010717391968, 0.0285797081887722, 0.004186628852039576, 0.014734101481735706, 0.0067566861398518085, 0.016055908054113388, 0.023046353831887245, 0.009530526585876942, 0.013574065640568733, 0.008370582014322281, 0.010082762688398361, 0.02436009980738163, 0.008839697577059269, 0.028083140030503273, 0.016472259536385536, 0.21587984263896942, 0.0, 0.0, 0.0, 0.0, 0.0, 0.0, 0.0, 0.0, 0.0, 0.0, 0.0], [0.3052918314933777, 0.00874535832554102, 0.01906646601855755, 0.03849315643310547, 0.023509779945015907, 0.032891660928726196, 0.04914432018995285, 0.006159527227282524, 0.00979783944785595, 0.01407068781554699, 0.010473133996129036, 0.041329044848680496, 0.004288008436560631, 0.019678838551044464, 0.015736166387796402, 0.012343534268438816, 0.0403112918138504, 0.014600152149796486, 0.055848296731710434, 0.026189640164375305, 0.06500408798456192, 0.18702715635299683, 0.0, 0.0, 0.0, 0.0, 0.0, 0.0, 0.0, 0.0, 0.0, 0.0], [0.4295268654823303, 0.01599801704287529, 0.01786220632493496, 0.016768112778663635, 0.02958848886191845, 0.021005114540457726, 0.026195641607046127, 0.010184010490775108, 0.016686968505382538, 0.0476086251437664, 0.032590147107839584, 0.0268520787358284, 0.011682146228849888, 0.014714210294187069, 0.012194652110338211, 0.015239042229950428, 0.013401382602751255, 0.011667593382298946, 0.05119889974594116, 0.06291528791189194, 0.03372674807906151, 0.009551864117383957, 0.07284200936555862, 0.0, 0.0, 0.0, 0.0, 0.0, 0.0, 0.0, 0.0, 0.0], [0.5957319140434265, 0.01839020662009716, 0.01326562650501728, 0.013186266645789146, 0.007872083224356174, 0.029908159747719765, 0.0056951516307890415, 0.0318770594894886, 0.026130033656954765, 0.010541412979364395, 0.005941732320934534, 0.027983803302049637, 0.009860268794000149, 0.0028069487307220697, 0.016819702461361885, 0.008787971921265125, 0.03377829119563103, 0.023685116320848465, 0.012445696629583836, 0.02026466466486454, 0.012939810752868652, 0.015373100526630878, 0.023359624668955803, 0.03335537016391754, 0.0, 0.0, 0.0, 0.0, 0.0, 0.0, 0.0, 0.0], [0.44148603081703186, 0.00787997804582119, 0.013646342791616917, 0.008748363703489304, 0.032256148755550385, 0.02437955141067505, 0.02378869615495205, 0.010719181969761848, 0.11598493903875351, 0.014889680780470371, 0.04120325669646263, 0.023132847622036934, 0.0052324761636555195, 0.012904837727546692, 0.004046746529638767, 0.00605579512193799, 0.01828877441585064, 0.010246435180306435, 0.02225358970463276, 0.010083491913974285, 0.040044356137514114, 0.0066862222738564014, 0.00949287973344326, 0.00921451486647129, 0.08733490854501724, 0.0, 0.0, 0.0, 0.0, 0.0, 0.0, 0.0], [0.2983493208885193, 0.008139966987073421, 0.009087898768484592, 0.012133722193539143, 0.022500300779938698, 0.019961006939411163, 0.020837342366576195, 0.006340023595839739, 0.013303011655807495, 0.14503496885299683, 0.07632819563150406, 0.019351521506905556, 0.0052079809829592705, 0.012967259623110294, 0.005185915622860193, 0.00827319361269474, 0.005326453130692244, 0.0065068029798567295, 0.05179418995976448, 0.04039944335818291, 0.015315761789679527, 0.004545085597783327, 0.046652037650346756, 0.007166014518588781, 0.011626221239566803, 0.12766635417938232, 0.0, 0.0, 0.0, 0.0, 0.0, 0.0], [0.292981892824173, 0.013590149581432343, 0.009934979490935802, 0.007342997007071972, 0.03391113132238388, 0.012727396562695503, 0.030869977548718452, 0.0032043589744716883, 0.022760847583413124, 0.046539194881916046, 0.16187141835689545, 0.015683289617300034, 0.005228981841355562, 0.027305947616696358, 0.00266066612675786, 0.010068959556519985, 0.002616114681586623, 0.006487909704446793, 0.028869934380054474, 0.015979347750544548, 0.017955880612134933, 0.002714671427384019, 0.01915849931538105, 0.003241470782086253, 0.019389761611819267, 0.040924735367298126, 0.1459794044494629, 0.0, 0.0, 0.0, 0.0, 0.0], [0.3091268241405487, 0.04270501434803009, 0.028328154236078262, 0.017130021005868912, 0.025276508182287216, 0.015301274135708809, 0.03995111212134361, 0.005559505894780159, 0.01774813048541546, 0.029524879530072212, 0.03713004291057587, 0.03883054852485657, 0.008919126354157925, 0.027888663113117218, 0.011695554479956627, 0.018661586567759514, 0.012734552845358849, 0.017034953460097313, 0.06649672240018845, 0.023617064580321312, 0.030769914388656616, 0.009363919496536255, 0.0303949061781168, 0.00760418176651001, 0.01894194819033146, 0.031055549159646034, 0.04294433444738388, 0.035265032202005386, 0.0, 0.0, 0.0, 0.0], [0.19271181523799896, 0.027603628113865852, 0.029623523354530334, 0.009687358513474464, 0.03560015931725502, 0.0076746889390051365, 0.06534487754106522, 0.005921466741710901, 0.019527429714798927, 0.03053196705877781, 0.05314375460147858, 0.04005083814263344, 0.01009530108422041, 0.03896651417016983, 0.005564364138990641, 0.018122825771570206, 0.008938288316130638, 0.016287459060549736, 0.09309852868318558, 0.02340574376285076, 0.05375230312347412, 0.005074651446193457, 0.03490334376692772, 0.008948138915002346, 0.022027960047125816, 0.03480282798409462, 0.06245877966284752, 0.0304105281829834, 0.015720956027507782, 0.0, 0.0, 0.0], [0.25021877884864807, 0.025664426386356354, 0.016672400757670403, 0.012061741203069687, 0.023149533197283745, 0.013430626131594181, 0.02611074410378933, 0.00592475151643157, 0.012128608301281929, 0.03444906324148178, 0.03218813240528107, 0.03150380030274391, 0.008743259124457836, 0.01910809427499771, 0.007987071759998798, 0.012035071849822998, 0.009434151463210583, 0.01244957186281681, 0.0882527083158493, 0.02961733005940914, 0.036889512091875076, 0.008190324530005455, 0.045555878430604935, 0.008436217904090881, 0.013444921001791954, 0.04016834497451782, 0.03820400312542915, 0.02187078632414341, 0.01330943126231432, 0.10280071198940277, 0.0, 0.0], [0.24761760234832764, 0.013064680621027946, 0.0151016591116786, 0.009949013590812683, 0.022707659751176834, 0.010896509513258934, 0.023824503645300865, 0.00663355179131031, 0.011856159195303917, 0.04144645109772682, 0.026276834309101105, 0.025938626378774643, 0.007395379710942507, 0.014344270341098309, 0.007894146256148815, 0.010765956714749336, 0.009517147205770016, 0.009181155823171139, 0.07066694647073746, 0.04886459559202194, 0.03283454105257988, 0.005487431306391954, 0.057395413517951965, 0.010185190476477146, 0.013286786153912544, 0.05028735473752022, 0.034745991230010986, 0.014893194660544395, 0.009809575974941254, 0.08540628105401993, 0.051725417375564575, 0.0], [0.30539366602897644, 0.0028788787312805653, 0.00809557270258665, 0.01598682440817356, 0.013893150724470615, 0.016090691089630127, 0.022205393761396408, 0.003046215046197176, 0.010663504712283611, 0.005298776086419821, 0.012057135812938213, 0.01644272357225418, 0.0070487516932189465, 0.010345062240958214, 0.005757071077823639, 0.007157308980822563, 0.01689235307276249, 0.006314556580036879, 0.021960187703371048, 0.014014734886586666, 0.1734054982662201, 0.008953306823968887, 0.021336622536182404, 0.004007356241345406, 0.011255143210291862, 0.006758710369467735, 0.01449199765920639, 0.015144316479563713, 0.006831916514784098, 0.02529158629477024, 0.014068815857172012, 0.17691214382648468]], [[1.0, 0.0, 0.0, 0.0, 0.0, 0.0, 0.0, 0.0, 0.0, 0.0, 0.0, 0.0, 0.0, 0.0, 0.0, 0.0, 0.0, 0.0, 0.0, 0.0, 0.0, 0.0, 0.0, 0.0, 0.0, 0.0, 0.0, 0.0, 0.0, 0.0, 0.0, 0.0], [0.9999022483825684, 9.773786587174982e-05, 0.0, 0.0, 0.0, 0.0, 0.0, 0.0, 0.0, 0.0, 0.0, 0.0, 0.0, 0.0, 0.0, 0.0, 0.0, 0.0, 0.0, 0.0, 0.0, 0.0, 0.0, 0.0, 0.0, 0.0, 0.0, 0.0, 0.0, 0.0, 0.0, 0.0], [9.872941154753789e-05, 0.9997879862785339, 0.00011330334382364526, 0.0, 0.0, 0.0, 0.0, 0.0, 0.0, 0.0, 0.0, 0.0, 0.0, 0.0, 0.0, 0.0, 0.0, 0.0, 0.0, 0.0, 0.0, 0.0, 0.0, 0.0, 0.0, 0.0, 0.0, 0.0, 0.0, 0.0, 0.0, 0.0], [4.04835219569577e-07, 0.0010697185061872005, 0.9982153177261353, 0.0007145759300328791, 0.0, 0.0, 0.0, 0.0, 0.0, 0.0, 0.0, 0.0, 0.0, 0.0, 0.0, 0.0, 0.0, 0.0, 0.0, 0.0, 0.0, 0.0, 0.0, 0.0, 0.0, 0.0, 0.0, 0.0, 0.0, 0.0, 0.0, 0.0], [1.5805619035802465e-09, 5.183812845643843e-07, 0.00010473507427377626, 0.9998801946640015, 1.459827853977913e-05, 0.0, 0.0, 0.0, 0.0, 0.0, 0.0, 0.0, 0.0, 0.0, 0.0, 0.0, 0.0, 0.0, 0.0, 0.0, 0.0, 0.0, 0.0, 0.0, 0.0, 0.0, 0.0, 0.0, 0.0, 0.0, 0.0, 0.0], [4.9893419173940856e-08, 1.593032727953414e-08, 1.3669475265487563e-05, 0.0003272739995736629, 0.9990684390068054, 0.000590550946071744, 0.0, 0.0, 0.0, 0.0, 0.0, 0.0, 0.0, 0.0, 0.0, 0.0, 0.0, 0.0, 0.0, 0.0, 0.0, 0.0, 0.0, 0.0, 0.0, 0.0, 0.0, 0.0, 0.0, 0.0, 0.0, 0.0], [2.696697265491821e-06, 6.025068888249052e-09, 5.230895161467686e-10, 2.924183206687303e-07, 3.7582599361485336e-06, 0.999962568283081, 3.069124431931414e-05, 0.0, 0.0, 0.0, 0.0, 0.0, 0.0, 0.0, 0.0, 0.0, 0.0, 0.0, 0.0, 0.0, 0.0, 0.0, 0.0, 0.0, 0.0, 0.0, 0.0, 0.0, 0.0, 0.0, 0.0, 0.0], [0.002619281644001603, 2.856428704678393e-10, 1.0469373812327376e-08, 6.079858283492001e-10, 1.990488453884609e-05, 0.000651107111480087, 0.9966310858726501, 7.857548189349473e-05, 0.0, 0.0, 0.0, 0.0, 0.0, 0.0, 0.0, 0.0, 0.0, 0.0, 0.0, 0.0, 0.0, 0.0, 0.0, 0.0, 0.0, 0.0, 0.0, 0.0, 0.0, 0.0, 0.0, 0.0], [0.00031168205896392465, 1.410283890536379e-12, 8.05454810379018e-14, 7.080656200253443e-11, 4.975546730179303e-08, 1.3462205970427021e-05, 0.004545609932392836, 0.9950450658798218, 8.422541577601805e-05, 0.0, 0.0, 0.0, 0.0, 0.0, 0.0, 0.0, 0.0, 0.0, 0.0, 0.0, 0.0, 0.0, 0.0, 0.0, 0.0, 0.0, 0.0, 0.0, 0.0, 0.0, 0.0, 0.0], [9.290828529628925e-06, 4.1265042598215285e-12, 5.1030950027741023e-14, 2.569790951215123e-12, 1.0019726204291146e-07, 7.223906095532584e-08, 1.3424617009150097e-06, 0.00033144690678454936, 0.9970366954803467, 0.00262111215852201, 0.0, 0.0, 0.0, 0.0, 0.0, 0.0, 0.0, 0.0, 0.0, 0.0, 0.0, 0.0, 0.0, 0.0, 0.0, 0.0, 0.0, 0.0, 0.0, 0.0, 0.0, 0.0], [6.78270953358151e-05, 2.5983388773909155e-09, 1.1527510930689169e-16, 1.2377455553699656e-16, 4.964095456173661e-15, 1.1437046622264635e-11, 6.616023701111473e-12, 2.1983963094385217e-08, 0.0004636971279978752, 0.9983506202697754, 0.0011178558925166726, 0.0, 0.0, 0.0, 0.0, 0.0, 0.0, 0.0, 0.0, 0.0, 0.0, 0.0, 0.0, 0.0, 0.0, 0.0, 0.0, 0.0, 0.0, 0.0, 0.0, 0.0], [1.0780531312093444e-07, 1.3139079234336659e-11, 6.259921557811042e-17, 2.501318896097336e-22, 1.0732149521288128e-19, 2.693673629237287e-17, 1.3232213176735119e-14, 7.353522460818839e-15, 1.563907198187664e-10, 6.078408205212327e-06, 0.9999821186065674, 1.1727516721293796e-05, 0.0, 0.0, 0.0, 0.0, 0.0, 0.0, 0.0, 0.0, 0.0, 0.0, 0.0, 0.0, 0.0, 0.0, 0.0, 0.0, 0.0, 0.0, 0.0, 0.0], [2.5798774004215375e-05, 6.151755549410609e-09, 3.9837640869770045e-15, 7.916722820967521e-19, 7.203197341567163e-20, 6.834295075800216e-15, 1.3099216806741754e-13, 3.239531212728686e-11, 2.382754583918345e-12, 1.2360980683467915e-08, 0.0001231878122780472, 0.9998494386672974, 1.5186168411673862e-06, 0.0, 0.0, 0.0, 0.0, 0.0, 0.0, 0.0, 0.0, 0.0, 0.0, 0.0, 0.0, 0.0, 0.0, 0.0, 0.0, 0.0, 0.0, 0.0], [1.8988981764778146e-06, 1.3062279258235776e-08, 1.888658500426299e-11, 6.971821123885613e-14, 3.202398470101425e-13, 1.230511054379005e-13, 6.107721273185263e-11, 6.965486250010144e-07, 5.085573562269019e-08, 1.3601435533416861e-09, 6.16076420101308e-07, 0.02438833937048912, 0.9755842685699463, 2.4161705368896946e-05, 0.0, 0.0, 0.0, 0.0, 0.0, 0.0, 0.0, 0.0, 0.0, 0.0, 0.0, 0.0, 0.0, 0.0, 0.0, 0.0, 0.0, 0.0], [7.723892705979729e-12, 9.744120441079751e-12, 1.5869731472949872e-14, 2.884280271217565e-13, 2.3912070782651507e-13, 4.419084441180176e-16, 6.83363351659863e-17, 1.3353641803437455e-10, 1.0710517805989639e-08, 1.1055117932201597e-09, 5.779552947338118e-10, 1.0325801014232638e-07, 0.0006785027217119932, 0.993886411190033, 0.005434939172118902, 0.0, 0.0, 0.0, 0.0, 0.0, 0.0, 0.0, 0.0, 0.0, 0.0, 0.0, 0.0, 0.0, 0.0, 0.0, 0.0, 0.0], [1.9553052550019302e-15, 1.3365151270861714e-13, 2.8457228062981222e-15, 4.141369072252889e-16, 1.001426010063976e-16, 5.59078399628732e-19, 1.80188932154393e-22, 3.9421853766174034e-19, 2.9550498333030806e-12, 2.6053489921018524e-10, 2.724913003571139e-11, 8.459386077915021e-13, 2.1542045491179662e-13, 4.777175490744412e-07, 0.9999988079071045, 7.443380809490918e-07, 0.0, 0.0, 0.0, 0.0, 0.0, 0.0, 0.0, 0.0, 0.0, 0.0, 0.0, 0.0, 0.0, 0.0, 0.0, 0.0], [7.240695456406376e-12, 1.3195022331713435e-11, 1.6235671729020358e-14, 1.4804112634226865e-17, 4.702407168218287e-16, 2.423529874590616e-16, 1.5246552984016486e-19, 6.43922315058296e-19, 1.5732446812313783e-12, 5.572501393658058e-08, 9.133282219409011e-07, 7.684666097906856e-11, 2.8558943404588533e-12, 4.257795183093549e-08, 0.005728859920054674, 0.9942699670791626, 8.66437517288432e-08, 0.0, 0.0, 0.0, 0.0, 0.0, 0.0, 0.0, 0.0, 0.0, 0.0, 0.0, 0.0, 0.0, 0.0, 0.0], [0.00017394984024576843, 3.3291946976987674e-08, 1.3913795246164873e-12, 2.1491387499922993e-14, 4.664023074002488e-13, 7.416484648636867e-10, 1.747959936515553e-11, 2.8336405444306934e-10, 2.3002484361711595e-09, 1.1064761338275275e-06, 8.323991096403915e-06, 8.840614214022935e-07, 6.343489289406534e-09, 3.2805666516644294e-10, 2.87069667592732e-07, 8.95697230589576e-05, 0.999312162399292, 0.0004137319338042289, 0.0, 0.0, 0.0, 0.0, 0.0, 0.0, 0.0, 0.0, 0.0, 0.0, 0.0, 0.0, 0.0, 0.0], [2.6814174144962344e-11, 2.952220334861977e-08, 3.134130663871339e-14, 6.528148685347591e-19, 1.1968649990958394e-17, 1.9310455961178566e-16, 8.562950540091791e-17, 3.1258659040011384e-19, 4.742314463783683e-17, 1.8900468213081667e-13, 4.743156534203763e-09, 6.163167753925336e-10, 6.394625768572221e-14, 4.135952952095833e-19, 6.518411163483964e-14, 1.3485117023037674e-08, 4.523203824646771e-05, 0.999954342842102, 3.752060138140223e-07, 0.0, 0.0, 0.0, 0.0, 0.0, 0.0, 0.0, 0.0, 0.0, 0.0, 0.0, 0.0, 0.0], [2.4625110199849587e-06, 1.9982035581733726e-08, 9.277335843993484e-12, 2.579131298720977e-14, 4.4578524086100885e-14, 4.0720182781228687e-10, 1.0400955097189524e-10, 6.379680637935703e-12, 6.049397924457649e-15, 6.126163758137654e-14, 5.911504792621702e-12, 2.0255143340364157e-07, 1.821120143574717e-09, 3.263665326676306e-16, 2.789857330597116e-16, 2.49991460908941e-13, 1.7130045307567343e-05, 0.0010494205635040998, 0.9976010918617249, 0.0013296514516696334, 0.0, 0.0, 0.0, 0.0, 0.0, 0.0, 0.0, 0.0, 0.0, 0.0, 0.0, 0.0], [7.643862772965804e-06, 1.1978975103521528e-11, 4.359550481031205e-12, 5.132963823949177e-13, 5.5565878287477943e-11, 1.1279891687365762e-08, 1.0264984666719101e-06, 2.3321167930134834e-07, 2.25975596741812e-12, 2.7063240530696402e-15, 3.5748202328722133e-16, 5.268864858298805e-11, 1.5687229293348537e-10, 9.042324469076728e-16, 1.8113445957321346e-19, 8.45983151659394e-19, 9.375767939800994e-10, 8.814394547584925e-09, 0.0006415279931388795, 0.9969577789306641, 0.002391772111877799, 0.0, 0.0, 0.0, 0.0, 0.0, 0.0, 0.0, 0.0, 0.0, 0.0, 0.0], [1.9145662008668296e-05, 5.353617533012181e-14, 7.561143894597143e-16, 2.1758097846222638e-14, 1.4712413232143007e-10, 1.1055472093346452e-09, 2.305752104803105e-07, 4.8848585720406845e-05, 5.681656389810996e-08, 4.349344235460295e-12, 7.704335343726074e-16, 1.8668931418136525e-13, 7.509579763587126e-11, 1.00608531922175e-11, 9.647605319338705e-15, 5.57415111056865e-17, 8.229993943287273e-12, 7.97647484087477e-13, 1.3455119241001512e-09, 0.00014610779180657119, 0.9997381567955017, 4.743479803437367e-05, 0.0, 0.0, 0.0, 0.0, 0.0, 0.0, 0.0, 0.0, 0.0, 0.0], [9.511266398476437e-06, 9.305732183093052e-13, 4.4959337552510887e-17, 5.432699917099632e-16, 2.2069255399396505e-14, 5.21321701085764e-13, 3.629623728310105e-13, 4.43486847245822e-09, 1.0825830010219306e-08, 2.3003405846822034e-09, 2.118950495752156e-13, 4.5073626363419106e-13, 7.409652058587568e-11, 5.6444817708722894e-09, 2.3313940999969418e-08, 7.935217760657309e-11, 3.58417118206944e-09, 5.135174512178875e-13, 7.198075685846406e-13, 8.739534790302983e-11, 0.00018987861403729767, 0.9932485818862915, 0.006551968399435282, 0.0, 0.0, 0.0, 0.0, 0.0, 0.0, 0.0, 0.0, 0.0], [1.4341569381723374e-12, 6.265750179985929e-13, 1.2663996211843945e-16, 6.829513976202357e-20, 1.6679099265517911e-18, 2.1302304766895695e-19, 3.523762913846902e-20, 6.997174014987284e-22, 8.51779550484124e-15, 3.3642335878908414e-12, 8.271630776157668e-12, 6.373984867372878e-16, 1.0180421164239206e-17, 4.046581659707983e-14, 1.1753416018223106e-08, 5.259963131720724e-07, 6.02096289492593e-11, 3.870871179145752e-09, 1.1557083762553572e-15, 1.8326732410316613e-17, 1.6138321148190249e-12, 2.372509158021785e-07, 0.9999990463256836, 2.2959102352615446e-07, 0.0, 0.0, 0.0, 0.0, 0.0, 0.0, 0.0, 0.0], [3.2521387804962387e-09, 6.209645292539964e-14, 1.7896440293496888e-21, 1.5594589902328651e-24, 4.708213445349568e-23, 3.801407766660945e-18, 9.141219271437812e-18, 1.7899541186818196e-18, 4.3040911117761313e-19, 5.0499077711369314e-14, 5.923089218396035e-15, 2.09781897189394e-15, 9.640283391180349e-20, 6.00284071859389e-22, 2.857611851735651e-18, 5.3555458678911094e-12, 4.616159898773731e-09, 3.711336446499125e-11, 2.6636260471585294e-12, 1.3516258899333271e-14, 7.022110757454181e-12, 1.652999344514683e-05, 0.006070543546229601, 0.9934374690055847, 0.0004753338871523738, 0.0, 0.0, 0.0, 0.0, 0.0, 0.0, 0.0], [2.57475651910255e-10, 2.5923284108523778e-14, 8.063237703953859e-20, 4.048704412084029e-26, 4.065141746528748e-25, 4.20925839268275e-21, 1.7687148088884487e-18, 1.1779067270832886e-20, 3.144757521735306e-21, 2.6214915328801947e-17, 8.533156820034193e-13, 4.5260535770641486e-12, 4.1652772389336315e-17, 2.6824527195331154e-23, 6.047587433492922e-22, 5.713258828570411e-15, 6.638753782817197e-12, 1.4349722521345143e-09, 1.4116766089422583e-10, 1.2259361108462718e-14, 1.201660315984553e-14, 4.945043072940303e-12, 3.7651496143098484e-08, 0.0001227348402608186, 0.999686598777771, 0.000190654638572596, 0.0, 0.0, 0.0, 0.0, 0.0, 0.0], [1.961348061740864e-06, 2.564218639939525e-13, 1.170310847071662e-18, 2.114230428729707e-21, 4.965881291632442e-23, 3.7359910150978014e-18, 2.8346495445786667e-15, 4.363580352086116e-13, 5.7219044276885864e-18, 2.2610393091540874e-16, 1.600451707298937e-15, 1.3048358837863816e-08, 7.495628466872017e-13, 2.360785462345223e-18, 1.9312429462497265e-22, 7.039562921828274e-19, 9.650349096224087e-13, 6.612270410030763e-13, 9.452957305811083e-10, 1.652047387779021e-10, 1.4744933052313058e-10, 1.4621825972227498e-09, 3.734052303472346e-11, 1.960383087862283e-06, 0.00021305892732925713, 0.9997621178627014, 2.0863841200480238e-05, 0.0, 0.0, 0.0, 0.0, 0.0], [2.5587424540285397e-11, 5.12640327425182e-16, 5.65879297679384e-20, 1.9184483875621198e-24, 2.026425577787373e-23, 1.9470555999860093e-23, 6.709893190622562e-19, 3.530344915092054e-16, 2.145661510337231e-16, 5.171499837759231e-16, 4.7186064083826196e-11, 1.658673198789984e-10, 1.0679831463633604e-09, 9.996703172285987e-15, 6.6235144208868905e-16, 5.276175110589733e-16, 6.64674959342126e-16, 2.30191723565561e-14, 1.686772279088251e-16, 6.195620798625685e-15, 7.519105780715019e-13, 4.256541733665964e-12, 1.9614676549650767e-10, 1.4706477147186092e-09, 3.2882853702176362e-06, 0.0001718865823931992, 0.9998146891593933, 1.0094678145833313e-05, 0.0, 0.0, 0.0, 0.0], [2.9506159293646306e-08, 3.7049827270855976e-16, 1.1792900735666842e-20, 3.3738540377214252e-21, 2.3175644767344122e-23, 1.49296562139383e-19, 4.794123349807778e-18, 4.2470894856538877e-11, 3.210169760223258e-13, 1.4214542086790627e-12, 4.80615491849079e-10, 1.068954247784859e-06, 6.435843857843793e-08, 3.753532484829236e-10, 9.020878526588491e-14, 1.02327128094124e-15, 2.0761955522863307e-12, 6.996971909075802e-17, 1.4191644007958276e-13, 1.1416234168941386e-13, 1.2129239279623505e-10, 2.1050068632622043e-10, 1.6838631454896974e-13, 1.4358404742953468e-10, 3.2819483242185754e-10, 0.00013227546878624707, 0.006475554779171944, 0.9931135773658752, 0.0002775082248263061, 0.0, 0.0, 0.0], [7.499233439095532e-13, 2.2797730309693923e-16, 1.6355360160810263e-19, 1.226296469800214e-20, 4.398748491197871e-19, 7.231362356748453e-21, 9.971337367782138e-17, 8.262132297764957e-13, 4.4073780540963836e-13, 8.573042805309428e-16, 3.447507849942827e-13, 1.5015900745041222e-09, 2.135026591076894e-07, 1.0039664412320182e-11, 1.133208788308207e-13, 1.8263201837345244e-19, 2.030921580269216e-14, 3.753219252316392e-14, 6.775518701892799e-18, 2.824411277774219e-12, 4.3412797662290004e-11, 1.1338011692701988e-13, 4.196905052137413e-16, 9.440199567942041e-18, 1.915825472846881e-16, 6.019652137867482e-11, 2.2261369849729817e-06, 4.817077933694236e-05, 0.9999492168426514, 1.2032556639951508e-07, 0.0, 0.0], [2.1016059725820213e-10, 1.9517083031216352e-16, 1.3625418311646978e-18, 2.6779376496665437e-15, 1.3658120400855895e-15, 4.909761257222613e-15, 2.6298410013390764e-15, 1.217487355376079e-08, 1.0140324135932133e-09, 2.0064651979831427e-13, 1.1824350980076478e-16, 1.6361261304109753e-11, 1.0559777763319289e-07, 2.617501024815283e-07, 1.862879628333758e-09, 9.37690081233734e-19, 2.97922900542244e-14, 1.7302697804624567e-19, 1.0841573723835286e-16, 8.065114839807177e-15, 2.4182060798239036e-09, 3.4661126746549087e-10, 4.436360895749289e-15, 6.936771027583172e-16, 9.237086480053593e-20, 1.341206198835973e-13, 9.542856956035184e-12, 1.1478599844849668e-05, 9.59864046308212e-05, 0.999710738658905, 0.00018146703951060772, 0.0], [1.4147149578997245e-15, 3.073277069377467e-18, 1.826518319340625e-19, 1.3110496395099248e-16, 7.231692017949359e-17, 1.918202372201149e-19, 5.751517984756474e-20, 2.7252095843649168e-14, 2.1979041850417325e-12, 4.095315785031554e-15, 4.976368195955768e-19, 1.7190080369550346e-17, 4.1591930637421837e-13, 2.3202499477292804e-08, 2.6961973986772136e-08, 1.107393616943972e-15, 8.137885584357942e-17, 2.1082171376867118e-22, 2.874727783305512e-23, 2.0013436203503036e-20, 4.900143198106541e-15, 4.727819247207776e-10, 3.55385724104193e-13, 4.102252114675562e-18, 6.633163742821655e-24, 4.0052476231904e-20, 5.4813717007982845e-15, 5.181373663454281e-10, 4.0212648855231237e-07, 0.0005507210735231638, 0.9994055032730103, 4.334192635724321e-05]], [[1.0, 0.0, 0.0, 0.0, 0.0, 0.0, 0.0, 0.0, 0.0, 0.0, 0.0, 0.0, 0.0, 0.0, 0.0, 0.0, 0.0, 0.0, 0.0, 0.0, 0.0, 0.0, 0.0, 0.0, 0.0, 0.0, 0.0, 0.0, 0.0, 0.0, 0.0, 0.0], [0.9864429235458374, 0.013557130470871925, 0.0, 0.0, 0.0, 0.0, 0.0, 0.0, 0.0, 0.0, 0.0, 0.0, 0.0, 0.0, 0.0, 0.0, 0.0, 0.0, 0.0, 0.0, 0.0, 0.0, 0.0, 0.0, 0.0, 0.0, 0.0, 0.0, 0.0, 0.0, 0.0, 0.0], [0.6932669878005981, 0.048144228756427765, 0.2585887610912323, 0.0, 0.0, 0.0, 0.0, 0.0, 0.0, 0.0, 0.0, 0.0, 0.0, 0.0, 0.0, 0.0, 0.0, 0.0, 0.0, 0.0, 0.0, 0.0, 0.0, 0.0, 0.0, 0.0, 0.0, 0.0, 0.0, 0.0, 0.0, 0.0], [0.45400580763816833, 0.036761652678251266, 0.3720433712005615, 0.13718919456005096, 0.0, 0.0, 0.0, 0.0, 0.0, 0.0, 0.0, 0.0, 0.0, 0.0, 0.0, 0.0, 0.0, 0.0, 0.0, 0.0, 0.0, 0.0, 0.0, 0.0, 0.0, 0.0, 0.0, 0.0, 0.0, 0.0, 0.0, 0.0], [0.5257108211517334, 0.06767012178897858, 0.2517397701740265, 0.036224108189344406, 0.11865513771772385, 0.0, 0.0, 0.0, 0.0, 0.0, 0.0, 0.0, 0.0, 0.0, 0.0, 0.0, 0.0, 0.0, 0.0, 0.0, 0.0, 0.0, 0.0, 0.0, 0.0, 0.0, 0.0, 0.0, 0.0, 0.0, 0.0, 0.0], [0.38353604078292847, 0.044768910855054855, 0.18124675750732422, 0.1431814283132553, 0.028279850259423256, 0.21898695826530457, 0.0, 0.0, 0.0, 0.0, 0.0, 0.0, 0.0, 0.0, 0.0, 0.0, 0.0, 0.0, 0.0, 0.0, 0.0, 0.0, 0.0, 0.0, 0.0, 0.0, 0.0, 0.0, 0.0, 0.0, 0.0, 0.0], [0.2603915333747864, 0.08713163435459137, 0.20899149775505066, 0.02046600915491581, 0.08692530542612076, 0.013148455880582333, 0.3229455053806305, 0.0, 0.0, 0.0, 0.0, 0.0, 0.0, 0.0, 0.0, 0.0, 0.0, 0.0, 0.0, 0.0, 0.0, 0.0, 0.0, 0.0, 0.0, 0.0, 0.0, 0.0, 0.0, 0.0, 0.0, 0.0], [0.5625491738319397, 0.02702304534614086, 0.15378247201442719, 0.03524039313197136, 0.09162644296884537, 0.028814012184739113, 0.06526566296815872, 0.03569881618022919, 0.0, 0.0, 0.0, 0.0, 0.0, 0.0, 0.0, 0.0, 0.0, 0.0, 0.0, 0.0, 0.0, 0.0, 0.0, 0.0, 0.0, 0.0, 0.0, 0.0, 0.0, 0.0, 0.0, 0.0], [0.47628912329673767, 0.029592731967568398, 0.12543144822120667, 0.01795400120317936, 0.08031816780567169, 0.008563181385397911, 0.1048726886510849, 0.04596250504255295, 0.11101608723402023, 0.0, 0.0, 0.0, 0.0, 0.0, 0.0, 0.0, 0.0, 0.0, 0.0, 0.0, 0.0, 0.0, 0.0, 0.0, 0.0, 0.0, 0.0, 0.0, 0.0, 0.0, 0.0, 0.0], [0.32270655035972595, 0.07701388746500015, 0.14857473969459534, 0.018309855833649635, 0.11650537699460983, 0.014061023481190205, 0.10782351344823837, 0.03130047395825386, 0.048334792256355286, 0.11536984145641327, 0.0, 0.0, 0.0, 0.0, 0.0, 0.0, 0.0, 0.0, 0.0, 0.0, 0.0, 0.0, 0.0, 0.0, 0.0, 0.0, 0.0, 0.0, 0.0, 0.0, 0.0, 0.0], [0.2624054551124573, 0.06456426531076431, 0.11347578465938568, 0.018990857526659966, 0.1140381470322609, 0.008084086701273918, 0.1186605840921402, 0.030233537778258324, 0.06739377975463867, 0.09739761799573898, 0.10475592315196991, 0.0, 0.0, 0.0, 0.0, 0.0, 0.0, 0.0, 0.0, 0.0, 0.0, 0.0, 0.0, 0.0, 0.0, 0.0, 0.0, 0.0, 0.0, 0.0, 0.0, 0.0], [0.1767524629831314, 0.06996674835681915, 0.14877493679523468, 0.011048629879951477, 0.0800970196723938, 0.007613488472998142, 0.14674806594848633, 0.04542122036218643, 0.050679925829172134, 0.08180394023656845, 0.14092276990413666, 0.04017089679837227, 0.0, 0.0, 0.0, 0.0, 0.0, 0.0, 0.0, 0.0, 0.0, 0.0, 0.0, 0.0, 0.0, 0.0, 0.0, 0.0, 0.0, 0.0, 0.0, 0.0], [0.2200499325990677, 0.07511278986930847, 0.1377701610326767, 0.06467261165380478, 0.036266133189201355, 0.06377287209033966, 0.08486118167638779, 0.03620816022157669, 0.03784508630633354, 0.0812627375125885, 0.07186418771743774, 0.060305602848529816, 0.030008459463715553, 0.0, 0.0, 0.0, 0.0, 0.0, 0.0, 0.0, 0.0, 0.0, 0.0, 0.0, 0.0, 0.0, 0.0, 0.0, 0.0, 0.0, 0.0, 0.0], [0.2010927051305771, 0.07750996202230453, 0.11608276516199112, 0.019471386447548866, 0.048411328345537186, 0.011089473962783813, 0.10988320410251617, 0.03220628947019577, 0.049216657876968384, 0.08177871257066727, 0.11760164052248001, 0.03205612674355507, 0.033872224390506744, 0.06972750276327133, 0.0, 0.0, 0.0, 0.0, 0.0, 0.0, 0.0, 0.0, 0.0, 0.0, 0.0, 0.0, 0.0, 0.0, 0.0, 0.0, 0.0, 0.0], [0.19610564410686493, 0.06936335563659668, 0.1938539296388626, 0.05784989893436432, 0.03738275542855263, 0.021595971658825874, 0.09016623347997665, 0.030941471457481384, 0.026924364268779755, 0.05017571151256561, 0.06162945181131363, 0.057894106954336166, 0.022618865594267845, 0.05566626042127609, 0.027831977233290672, 0.0, 0.0, 0.0, 0.0, 0.0, 0.0, 0.0, 0.0, 0.0, 0.0, 0.0, 0.0, 0.0, 0.0, 0.0, 0.0, 0.0], [0.14348459243774414, 0.055615607649087906, 0.16808350384235382, 0.016991470009088516, 0.05719307065010071, 0.00704578123986721, 0.12836547195911407, 0.03670869767665863, 0.04117731750011444, 0.06719500571489334, 0.11366045475006104, 0.029704581946134567, 0.022304266691207886, 0.07414883375167847, 0.013303227722644806, 0.025018122047185898, 0.0, 0.0, 0.0, 0.0, 0.0, 0.0, 0.0, 0.0, 0.0, 0.0, 0.0, 0.0, 0.0, 0.0, 0.0, 0.0], [0.16335216164588928, 0.026623742654919624, 0.13931190967559814, 0.03689616918563843, 0.04143824428319931, 0.01922575570642948, 0.06933411955833435, 0.02878413535654545, 0.03472893685102463, 0.06721346080303192, 0.08094462007284164, 0.05181720107793808, 0.03612438589334488, 0.07196195423603058, 0.026935197412967682, 0.045559339225292206, 0.0597485788166523, 0.0, 0.0, 0.0, 0.0, 0.0, 0.0, 0.0, 0.0, 0.0, 0.0, 0.0, 0.0, 0.0, 0.0, 0.0], [0.1706848293542862, 0.053270306438207626, 0.12035025656223297, 0.00905522145330906, 0.046025391668081284, 0.004124365281313658, 0.13424524664878845, 0.03108287788927555, 0.03846742585301399, 0.04889080673456192, 0.12675398588180542, 0.026239661499857903, 0.033340029418468475, 0.07500141113996506, 0.010175187140703201, 0.03944234922528267, 0.01216037105768919, 0.02069021202623844, 0.0, 0.0, 0.0, 0.0, 0.0, 0.0, 0.0, 0.0, 0.0, 0.0, 0.0, 0.0, 0.0, 0.0], [0.11147670447826385, 0.08385702967643738, 0.12246678024530411, 0.006554802414029837, 0.08895409852266312, 0.0033194306306540966, 0.10796014964580536, 0.02158488519489765, 0.03675927221775055, 0.08469283580780029, 0.1127227395772934, 0.013300827704370022, 0.016557203605771065, 0.10776793956756592, 0.012521965429186821, 0.016567138954997063, 0.006462152116000652, 0.009245701134204865, 0.03722831606864929, 0.0, 0.0, 0.0, 0.0, 0.0, 0.0, 0.0, 0.0, 0.0, 0.0, 0.0, 0.0, 0.0], [0.16885481774806976, 0.028144093230366707, 0.03902266547083855, 0.07713563740253448, 0.01614130660891533, 0.07326294481754303, 0.027183352038264275, 0.01551019586622715, 0.013016905635595322, 0.033868301659822464, 0.017441125586628914, 0.07053639739751816, 0.021492596715688705, 0.03285788744688034, 0.05493824928998947, 0.026119332760572433, 0.18524733185768127, 0.020071616396307945, 0.024272451177239418, 0.054882898926734924, 0.0, 0.0, 0.0, 0.0, 0.0, 0.0, 0.0, 0.0, 0.0, 0.0, 0.0, 0.0], [0.19921687245368958, 0.06773127615451813, 0.05034426972270012, 0.02739034965634346, 0.026763353496789932, 0.0104391323402524, 0.04744329676032066, 0.013825865462422371, 0.024572225287556648, 0.025703247636556625, 0.030021511018276215, 0.026773963123559952, 0.04907885938882828, 0.059735625982284546, 0.012684985995292664, 0.04791680723428726, 0.015857767313718796, 0.025115542113780975, 0.021930789574980736, 0.10556673258543015, 0.11188756674528122, 0.0, 0.0, 0.0, 0.0, 0.0, 0.0, 0.0, 0.0, 0.0, 0.0, 0.0], [0.2295992523431778, 0.09463345259428024, 0.056331999599933624, 0.025144286453723907, 0.01868152990937233, 0.012124800123274326, 0.08328521996736526, 0.01743737980723381, 0.011240202933549881, 0.018754737451672554, 0.02841942571103573, 0.046763885766267776, 0.01237853430211544, 0.05419674143195152, 0.021862074732780457, 0.018737539649009705, 0.06825663149356842, 0.02233273908495903, 0.022501265630126, 0.02187350206077099, 0.09952737390995026, 0.015917424112558365, 0.0, 0.0, 0.0, 0.0, 0.0, 0.0, 0.0, 0.0, 0.0, 0.0], [0.19813989102840424, 0.02462080307304859, 0.028418144211173058, 0.06909788399934769, 0.01129134465008974, 0.05748805031180382, 0.022028248757123947, 0.010018824599683285, 0.007852118462324142, 0.02050074189901352, 0.009874400682747364, 0.04826667532324791, 0.01124853640794754, 0.02173793874680996, 0.03475991263985634, 0.013565277680754662, 0.17434564232826233, 0.01421747449785471, 0.017838304862380028, 0.037728916853666306, 0.025644592940807343, 0.054430123418569565, 0.08688614517450333, 0.0, 0.0, 0.0, 0.0, 0.0, 0.0, 0.0, 0.0, 0.0], [0.2629464268684387, 0.020447151735424995, 0.05616091191768646, 0.01724424958229065, 0.0411967895925045, 0.013625026680529118, 0.03310545161366463, 0.011808853596448898, 0.01978098414838314, 0.06013727933168411, 0.03234872967004776, 0.02160654030740261, 0.005978566128760576, 0.0357404425740242, 0.04143311455845833, 0.0052204192616045475, 0.049519143998622894, 0.006033178884536028, 0.03425751253962517, 0.021108560264110565, 0.11910248547792435, 0.008471888490021229, 0.06276287138462067, 0.01996343955397606, 0.0, 0.0, 0.0, 0.0, 0.0, 0.0, 0.0, 0.0], [0.17333926260471344, 0.01631477288901806, 0.03712338209152222, 0.006377269513905048, 0.027977699413895607, 0.002947848057374358, 0.041478317230939865, 0.013108432292938232, 0.027839498594403267, 0.0301459152251482, 0.048234015703201294, 0.011822395958006382, 0.030657578259706497, 0.04697563871741295, 0.005330649204552174, 0.030924899503588676, 0.005183590576052666, 0.0184542965143919, 0.03166114538908005, 0.07252255082130432, 0.1638694852590561, 0.004217381123453379, 0.06163923069834709, 0.02553842030465603, 0.06631629914045334, 0.0, 0.0, 0.0, 0.0, 0.0, 0.0, 0.0], [0.12835785746574402, 0.05134532228112221, 0.056678853929042816, 0.008157314732670784, 0.04966268688440323, 0.00594870513305068, 0.04882587119936943, 0.011930638924241066, 0.01651611365377903, 0.03830049932003021, 0.029287757351994514, 0.013750583864748478, 0.008026168681681156, 0.052207913249731064, 0.013756775297224522, 0.009534730575978756, 0.010350917465984821, 0.008446553722023964, 0.0332878902554512, 0.030167780816555023, 0.16253195703029633, 0.004088297486305237, 0.08209553360939026, 0.021907607093453407, 0.029183300212025642, 0.07565238326787949, 0.0, 0.0, 0.0, 0.0, 0.0, 0.0], [0.0865665003657341, 0.03996121510863304, 0.041906341910362244, 0.006390158087015152, 0.04248205944895744, 0.002463028533384204, 0.050080977380275726, 0.010196044109761715, 0.02161257527768612, 0.028602058067917824, 0.0303503405302763, 0.009210268966853619, 0.019366100430488586, 0.055247992277145386, 0.005059989169239998, 0.018546288833022118, 0.003120893845334649, 0.010272020474076271, 0.024836571887135506, 0.05628127604722977, 0.16837036609649658, 0.0021970109082758427, 0.08191744238138199, 0.020513880997896194, 0.04553006961941719, 0.05868392065167427, 0.060234565287828445, 0.0, 0.0, 0.0, 0.0, 0.0], [0.09728778153657913, 0.02799719199538231, 0.050385911017656326, 0.0062017557211220264, 0.023937540128827095, 0.004429222550243139, 0.03190139681100845, 0.011736590415239334, 0.01314773689955473, 0.025890996679663658, 0.03417111560702324, 0.013945065438747406, 0.013462517410516739, 0.03217344358563423, 0.006751712877303362, 0.028260916471481323, 0.01407722756266594, 0.016883525997400284, 0.028769174590706825, 0.029357627034187317, 0.13789765536785126, 0.0057025630958378315, 0.04671406000852585, 0.030008915811777115, 0.03553396463394165, 0.06823144853115082, 0.08741558343172073, 0.07772737741470337, 0.0, 0.0, 0.0, 0.0], [0.09475027769804001, 0.03318087384104729, 0.06013129651546478, 0.003998751286417246, 0.021495303139090538, 0.0017634712858125567, 0.06144023314118385, 0.012486252002418041, 0.016333701089024544, 0.01893671415746212, 0.04739394038915634, 0.008978761732578278, 0.01117058377712965, 0.027980510145425797, 0.0033959264401346445, 0.016399413347244263, 0.004938156343996525, 0.010658547282218933, 0.01935533992946148, 0.01856943406164646, 0.17681705951690674, 0.0012089579831808805, 0.032560549676418304, 0.028529437258839607, 0.04349464923143387, 0.04625558853149414, 0.11603036522865295, 0.04740134999155998, 0.014344544149935246, 0.0, 0.0, 0.0], [0.05091632530093193, 0.03828170523047447, 0.05098673328757286, 0.00249399128369987, 0.0333644300699234, 0.001244138227775693, 0.042717162519693375, 0.007899024523794651, 0.014482866041362286, 0.028667980805039406, 0.04034467786550522, 0.004131183959543705, 0.005143298301845789, 0.032394617795944214, 0.0034236374776810408, 0.006201694719493389, 0.0021858015097677708, 0.004214400425553322, 0.017256280407309532, 0.014536457136273384, 0.2280932366847992, 0.0009028788190335035, 0.04036272317171097, 0.017812665551900864, 0.03692422807216644, 0.0792047455906868, 0.11579448729753494, 0.045355331152677536, 0.007293847389519215, 0.02736940048635006, 0.0, 0.0], [0.11539740115404129, 0.017443398013710976, 0.020543420687317848, 0.03811182081699371, 0.0073795923963189125, 0.036931950598955154, 0.014465229585766792, 0.006886091083288193, 0.005741042084991932, 0.013316909782588482, 0.006948268041014671, 0.028733832761645317, 0.007177254650741816, 0.011906100437045097, 0.018086513504385948, 0.009012077935039997, 0.07906244695186615, 0.009650579653680325, 0.013221899047493935, 0.026846464723348618, 0.01765168271958828, 0.04547645151615143, 0.06751079857349396, 0.018409086391329765, 0.01615031622350216, 0.0383010171353817, 0.017917614430189133, 0.20934294164180756, 0.017260650172829628, 0.02019367180764675, 0.04492347314953804, 0.0], [0.14143727719783783, 0.040647029876708984, 0.02684665657579899, 0.013780985958874226, 0.012904707342386246, 0.005513716489076614, 0.024482782930135727, 0.006410012952983379, 0.011098780669271946, 0.011042202822864056, 0.012462188489735126, 0.01167116966098547, 0.0184852983802557, 0.024286672472953796, 0.004458199720829725, 0.018047142773866653, 0.006831594742834568, 0.012848684564232826, 0.012570463120937347, 0.0581972561776638, 0.05846187472343445, 0.005708000157028437, 0.06969867646694183, 0.014746480621397495, 0.03110233135521412, 0.02955145388841629, 0.03044038824737072, 0.08901917189359665, 0.021611906588077545, 0.018253855407238007, 0.0773896649479866, 0.07999330759048462]], [[1.0, 0.0, 0.0, 0.0, 0.0, 0.0, 0.0, 0.0, 0.0, 0.0, 0.0, 0.0, 0.0, 0.0, 0.0, 0.0, 0.0, 0.0, 0.0, 0.0, 0.0, 0.0, 0.0, 0.0, 0.0, 0.0, 0.0, 0.0, 0.0, 0.0, 0.0, 0.0], [0.7060514092445374, 0.29394859075546265, 0.0, 0.0, 0.0, 0.0, 0.0, 0.0, 0.0, 0.0, 0.0, 0.0, 0.0, 0.0, 0.0, 0.0, 0.0, 0.0, 0.0, 0.0, 0.0, 0.0, 0.0, 0.0, 0.0, 0.0, 0.0, 0.0, 0.0, 0.0, 0.0, 0.0], [0.5568602681159973, 0.11883646249771118, 0.3243032991886139, 0.0, 0.0, 0.0, 0.0, 0.0, 0.0, 0.0, 0.0, 0.0, 0.0, 0.0, 0.0, 0.0, 0.0, 0.0, 0.0, 0.0, 0.0, 0.0, 0.0, 0.0, 0.0, 0.0, 0.0, 0.0, 0.0, 0.0, 0.0, 0.0], [0.3494352698326111, 0.09275238960981369, 0.3840203583240509, 0.17379198968410492, 0.0, 0.0, 0.0, 0.0, 0.0, 0.0, 0.0, 0.0, 0.0, 0.0, 0.0, 0.0, 0.0, 0.0, 0.0, 0.0, 0.0, 0.0, 0.0, 0.0, 0.0, 0.0, 0.0, 0.0, 0.0, 0.0, 0.0, 0.0], [0.26286786794662476, 0.04025813564658165, 0.09161403030157089, 0.2180880308151245, 0.38717201352119446, 0.0, 0.0, 0.0, 0.0, 0.0, 0.0, 0.0, 0.0, 0.0, 0.0, 0.0, 0.0, 0.0, 0.0, 0.0, 0.0, 0.0, 0.0, 0.0, 0.0, 0.0, 0.0, 0.0, 0.0, 0.0, 0.0, 0.0], [0.2717580795288086, 0.023270029574632645, 0.007276351563632488, 0.2424030900001526, 0.010128086432814598, 0.4451643228530884, 0.0, 0.0, 0.0, 0.0, 0.0, 0.0, 0.0, 0.0, 0.0, 0.0, 0.0, 0.0, 0.0, 0.0, 0.0, 0.0, 0.0, 0.0, 0.0, 0.0, 0.0, 0.0, 0.0, 0.0, 0.0, 0.0], [0.44180503487586975, 0.030268795788288116, 0.030624836683273315, 0.020553268492221832, 0.06320977210998535, 0.24826034903526306, 0.1652778685092926, 0.0, 0.0, 0.0, 0.0, 0.0, 0.0, 0.0, 0.0, 0.0, 0.0, 0.0, 0.0, 0.0, 0.0, 0.0, 0.0, 0.0, 0.0, 0.0, 0.0, 0.0, 0.0, 0.0, 0.0, 0.0], [0.06718789786100388, 0.004876494873315096, 0.003752616699784994, 0.004009188152849674, 0.021902643144130707, 0.02453290857374668, 0.0604182705283165, 0.8133199214935303, 0.0, 0.0, 0.0, 0.0, 0.0, 0.0, 0.0, 0.0, 0.0, 0.0, 0.0, 0.0, 0.0, 0.0, 0.0, 0.0, 0.0, 0.0, 0.0, 0.0, 0.0, 0.0, 0.0, 0.0], [0.11202457547187805, 0.00271191680803895, 0.000607713358476758, 0.001375503372400999, 0.016590701416134834, 0.003863928373903036, 0.019140321761369705, 0.4532065689563751, 0.3904787600040436, 0.0, 0.0, 0.0, 0.0, 0.0, 0.0, 0.0, 0.0, 0.0, 0.0, 0.0, 0.0, 0.0, 0.0, 0.0, 0.0, 0.0, 0.0, 0.0, 0.0, 0.0, 0.0, 0.0], [0.15623217821121216, 0.00035548178129829466, 0.00028252453193999827, 0.0013615941861644387, 0.004993902985006571, 0.0008263859199360013, 0.008922027423977852, 0.07560283690690994, 0.28259211778640747, 0.46883097290992737, 0.0, 0.0, 0.0, 0.0, 0.0, 0.0, 0.0, 0.0, 0.0, 0.0, 0.0, 0.0, 0.0, 0.0, 0.0, 0.0, 0.0, 0.0, 0.0, 0.0, 0.0, 0.0], [0.18052510917186737, 0.00022839047596789896, 6.16353572695516e-05, 9.781250992091373e-05, 0.0011448180302977562, 6.483597098849714e-05, 0.001337265595793724, 0.0055409884080290794, 0.04169183596968651, 0.42120587825775146, 0.34810134768486023, 0.0, 0.0, 0.0, 0.0, 0.0, 0.0, 0.0, 0.0, 0.0, 0.0, 0.0, 0.0, 0.0, 0.0, 0.0, 0.0, 0.0, 0.0, 0.0, 0.0, 0.0], [0.09753900021314621, 0.0018298315117135644, 0.0007843587663955986, 0.0011752719292417169, 0.001184041379019618, 0.0012156707234680653, 0.004638356156647205, 0.006600350607186556, 0.044952888041734695, 0.14479082822799683, 0.3715800344944, 0.3237094283103943, 0.0, 0.0, 0.0, 0.0, 0.0, 0.0, 0.0, 0.0, 0.0, 0.0, 0.0, 0.0, 0.0, 0.0, 0.0, 0.0, 0.0, 0.0, 0.0, 0.0], [0.05210816115140915, 0.016035029664635658, 0.006040356121957302, 0.0013133527245372534, 0.00038884623791091144, 0.002325225155800581, 0.0012290807208046317, 0.003372841514647007, 0.0030791775789111853, 0.020976321771740913, 0.06631291657686234, 0.7280608415603638, 0.09875791519880295, 0.0, 0.0, 0.0, 0.0, 0.0, 0.0, 0.0, 0.0, 0.0, 0.0, 0.0, 0.0, 0.0, 0.0, 0.0, 0.0, 0.0, 0.0, 0.0], [0.18879763782024384, 0.020189832895994186, 0.011581922881305218, 0.0026738832239061594, 0.001193180214613676, 0.001024026656523347, 0.0007934237946756184, 0.005179741885513067, 0.009824174456298351, 0.05356142297387123, 0.12602639198303223, 0.16611118614673615, 0.1828572303056717, 0.23018594086170197, 0.0, 0.0, 0.0, 0.0, 0.0, 0.0, 0.0, 0.0, 0.0, 0.0, 0.0, 0.0, 0.0, 0.0, 0.0, 0.0, 0.0, 0.0], [0.09571775048971176, 0.002239957684651017, 0.0008804369135759771, 0.0007044949452392757, 0.006009038537740707, 0.00028982575167901814, 0.003188865026459098, 0.0018573594279587269, 0.0055135018192231655, 0.003919323440641165, 0.029364805668592453, 0.04168647900223732, 0.13746199011802673, 0.6034212112426758, 0.06774504482746124, 0.0, 0.0, 0.0, 0.0, 0.0, 0.0, 0.0, 0.0, 0.0, 0.0, 0.0, 0.0, 0.0, 0.0, 0.0, 0.0, 0.0], [0.13390813767910004, 0.04627149924635887, 0.011575490236282349, 0.0016795617993921041, 0.0014541551936417818, 0.001770355855114758, 0.0002148203639080748, 0.0020810554269701242, 0.006531089544296265, 0.017591077834367752, 0.034241095185279846, 0.07332706451416016, 0.026629887521266937, 0.15333622694015503, 0.1771744340658188, 0.3122139871120453, 0.0, 0.0, 0.0, 0.0, 0.0, 0.0, 0.0, 0.0, 0.0, 0.0, 0.0, 0.0, 0.0, 0.0, 0.0, 0.0], [0.11730636656284332, 0.008373511955142021, 0.00042488487088121474, 0.0009386222809553146, 0.0009801210835576057, 0.00019889924442395568, 0.0004543139657471329, 0.0002726182865444571, 0.004993128590285778, 0.005239319987595081, 0.011208182200789452, 0.01132955588400364, 0.0019624605774879456, 0.00582100311294198, 0.12020359188318253, 0.3700803220272064, 0.34021303057670593, 0.0, 0.0, 0.0, 0.0, 0.0, 0.0, 0.0, 0.0, 0.0, 0.0, 0.0, 0.0, 0.0, 0.0, 0.0], [0.29721570014953613, 0.06339292228221893, 0.00546085461974144, 0.0025661159306764603, 0.002549399621784687, 0.0014433700125664473, 0.00032442223164252937, 0.0016063872026279569, 0.007814766839146614, 0.014939934015274048, 0.024437282234430313, 0.010785653255879879, 0.0014172587543725967, 0.010970045812427998, 0.007198477163910866, 0.07397140562534332, 0.2775183618068695, 0.19638754427433014, 0.0, 0.0, 0.0, 0.0, 0.0, 0.0, 0.0, 0.0, 0.0, 0.0, 0.0, 0.0, 0.0, 0.0], [0.11112640053033829, 0.007348851300776005, 0.0013165960554033518, 0.00036929233465343714, 0.0011843275278806686, 0.0012193808797746897, 0.0003732639888767153, 0.00046505004866048694, 0.001186786568723619, 0.003950317390263081, 0.008803189732134342, 0.00249738828279078, 0.0015908601926639676, 0.001429446041584015, 0.0019764553289860487, 0.009385812096297741, 0.13828866183757782, 0.18722890317440033, 0.5202590227127075, 0.0, 0.0, 0.0, 0.0, 0.0, 0.0, 0.0, 0.0, 0.0, 0.0, 0.0, 0.0, 0.0], [0.08141138404607773, 0.0028334553353488445, 0.004611964337527752, 0.0021039191633462906, 0.0013536346377804875, 0.0015595327131450176, 0.0006393940420821309, 0.0006377576501108706, 0.0005068559548817575, 0.0007972100283950567, 0.0011264636414125562, 0.0035652436781674623, 0.0009721684618853033, 0.0020574978552758694, 0.0002536573156248778, 0.003456676611676812, 0.027176275849342346, 0.09475917369127274, 0.4148736000061035, 0.3553042411804199, 0.0, 0.0, 0.0, 0.0, 0.0, 0.0, 0.0, 0.0, 0.0, 0.0, 0.0, 0.0], [0.06984522193670273, 0.0002263905043946579, 0.00046528485836461186, 0.001496821641921997, 0.0012346099829301238, 0.00031680113170295954, 0.0012673762394115329, 0.00046089591342024505, 0.0013852620031684637, 0.0014962820569053292, 0.0007563072140328586, 0.0003362330317031592, 0.00019848991360049695, 0.0006275630439631641, 0.0004432667337823659, 0.0002728476538322866, 0.004854787606745958, 0.008989558555185795, 0.1648889034986496, 0.11141703277826309, 0.6290200352668762, 0.0, 0.0, 0.0, 0.0, 0.0, 0.0, 0.0, 0.0, 0.0, 0.0, 0.0], [0.18229298293590546, 0.006018379703164101, 0.0003673038736451417, 0.00022754752717446536, 0.00017374545859638602, 0.0015781603287905455, 0.0002464668359607458, 0.004615613725036383, 0.002502255607396364, 0.0007619420066475868, 0.00027144260820932686, 0.0009161249618045986, 0.0003947290242649615, 0.0005967994220554829, 0.0008105665328912437, 0.0005118033150210977, 0.00199941941536963, 0.006612217053771019, 0.00759384548291564, 0.038354530930519104, 0.22213581204414368, 0.5210182666778564, 0.0, 0.0, 0.0, 0.0, 0.0, 0.0, 0.0, 0.0, 0.0, 0.0], [0.05971350893378258, 0.001431016717106104, 0.000381532940082252, 0.0001901177311083302, 3.732268305611797e-05, 0.0002778619236778468, 3.913607361027971e-05, 0.00033150779199786484, 0.00037460579187609255, 0.0006653767195530236, 0.0002431832836009562, 0.00017910395399667323, 0.00022697327949572355, 0.0005877648945897818, 0.00036500583519227803, 0.00083709298633039, 0.0009093857952393591, 0.0006100700120441616, 0.002422534627839923, 0.01197449117898941, 0.03357410058379173, 0.1018570214509964, 0.7827712297439575, 0.0, 0.0, 0.0, 0.0, 0.0, 0.0, 0.0, 0.0, 0.0], [0.029171211645007133, 0.0019688548054546118, 0.00015378717216663063, 3.463329267106019e-05, 8.49047937663272e-05, 3.2136424124473706e-05, 2.9362496206886135e-05, 0.0010386848589405417, 0.0010114230681210756, 0.001759088016115129, 0.0006994613213464618, 0.00017651906819082797, 4.9281985411653295e-05, 0.00015322514809668064, 0.0005536403623409569, 0.0004464516823645681, 0.0030213745776563883, 0.0021918381098657846, 0.005625335965305567, 0.008757942356169224, 0.013600395992398262, 0.014700906351208687, 0.38501906394958496, 0.5297204256057739, 0.0, 0.0, 0.0, 0.0, 0.0, 0.0, 0.0, 0.0], [0.027286989614367485, 0.0007356029818765819, 3.0425817385548726e-05, 9.705274351290427e-06, 4.356302451924421e-05, 9.192923243972473e-06, 1.3604800187749788e-05, 0.00018084151088260114, 0.00019949789566453546, 0.0008053425117395818, 0.0005931255873292685, 0.0001418176107108593, 2.660304198798258e-05, 2.4354143533855677e-05, 0.00010812533582793549, 0.00014743689098395407, 0.0013446749653667212, 0.0011621344601735473, 0.008362166583538055, 0.010287602432072163, 0.0046853721141815186, 0.0019188461592420936, 0.370371013879776, 0.28363147377967834, 0.28788048028945923, 0.0, 0.0, 0.0, 0.0, 0.0, 0.0, 0.0], [0.08599147200584412, 0.00029423224623315036, 0.00014401282533071935, 9.634801972424611e-05, 5.463546403916553e-05, 8.549114681954961e-06, 6.979211320867762e-05, 0.00024199769541155547, 0.00022448196250479668, 0.0008444467675872147, 0.00116310256998986, 0.0001183901185868308, 6.931208190508187e-05, 9.008852794067934e-05, 2.43918602791382e-05, 5.5328800954157487e-05, 0.00017648894572630525, 0.0003022800083272159, 0.005974947474896908, 0.009507657960057259, 0.0051477039232850075, 0.0014696272555738688, 0.025747675448656082, 0.06410863995552063, 0.2530061602592468, 0.5450682044029236, 0.0, 0.0, 0.0, 0.0, 0.0, 0.0], [0.1091528981924057, 0.00011556354002095759, 3.9872156776255e-05, 2.0721772671095096e-05, 3.353018837515265e-05, 8.903152775019407e-07, 2.322282671229914e-05, 8.557637920603156e-05, 9.947096259566024e-05, 0.00047536176862195134, 0.0009439634741283953, 6.311378820100799e-05, 0.00016883666103240103, 0.0001928269921336323, 1.7152187865576707e-05, 1.8104679838870652e-05, 4.317709317547269e-05, 3.925534474547021e-05, 0.0016497198957949877, 0.004419154953211546, 0.0026800616178661585, 0.00011092586646554992, 0.005782455205917358, 0.005835284944623709, 0.04155554249882698, 0.5080136060714722, 0.3184196352958679, 0.0, 0.0, 0.0, 0.0, 0.0], [0.02683854289352894, 0.0004604631394613534, 2.3009339201962575e-05, 6.189549822011031e-06, 4.9335531002725475e-06, 6.093914635130204e-06, 1.4222983736544847e-05, 3.676706546684727e-05, 0.00020823476370424032, 0.0004511803563218564, 0.0010609652381390333, 0.0005824952968396246, 0.00035020936047658324, 0.00051257194718346, 7.118209759937599e-05, 0.00012263438838999718, 0.00024832639610394835, 0.00022670053294859827, 0.0005822231760248542, 0.0007218606187961996, 0.0020130472257733345, 0.0005432778270915151, 0.0038196167442947626, 0.002148361410945654, 0.03048030473291874, 0.2121732234954834, 0.3475157618522644, 0.3687775731086731, 0.0, 0.0, 0.0, 0.0], [0.06541144847869873, 0.0019233248895034194, 0.00019036285812035203, 7.060667121550068e-05, 2.5914665457094088e-05, 1.0643962014000863e-05, 1.289423835260095e-05, 0.0002737996110226959, 0.001051196944899857, 0.0010832702973857522, 0.0028830484952777624, 0.0030316205229610205, 0.0006661072839051485, 0.003352639963850379, 0.0003427296469453722, 0.0003737838414963335, 0.0006247939891181886, 0.0003375554515514523, 0.002523434581235051, 0.00759574119001627, 0.003125594463199377, 0.00034435500856488943, 0.02266882359981537, 0.005831909831613302, 0.028979545459151268, 0.13731469213962555, 0.3432893753051758, 0.21988198161125183, 0.14677880704402924, 0.0, 0.0, 0.0], [0.05032091960310936, 0.00025396188721060753, 6.57833952573128e-05, 2.566595321695786e-05, 4.460373747861013e-05, 2.4909055355237797e-05, 3.2149273465620354e-05, 0.00022855427232570946, 0.0007301749428734183, 0.0014918497763574123, 0.003961211070418358, 0.0018014118541032076, 0.003728733863681555, 0.0034366860054433346, 0.0012170076370239258, 0.00031595281325280666, 0.0013895402662456036, 0.0006571433041244745, 0.001692537683993578, 0.0029703688342124224, 0.00442842859774828, 0.0009450454381294549, 0.002564550144597888, 0.001040755189023912, 0.002394820563495159, 0.025276152417063713, 0.0940549373626709, 0.09777961671352386, 0.19443221390247345, 0.502694308757782, 0.0, 0.0], [0.04169449210166931, 0.00012065240298397839, 0.0001783313200576231, 0.0001724580506561324, 8.57187042129226e-05, 4.5163433242123574e-05, 3.4708213206613436e-05, 0.0002072969073196873, 0.000486513803480193, 0.0007474473095498979, 0.0008016300853341818, 0.0016522824298590422, 0.001189878792501986, 0.007467244751751423, 0.0007571845781058073, 0.0006430801004171371, 0.0008146546897478402, 0.00037802784936502576, 0.0006203657248988748, 0.0010123131796717644, 0.0025189851876348257, 0.0013058804906904697, 0.0042169657535851, 0.0004051425203215331, 0.0002880467800423503, 0.0019693495705723763, 0.006682101637125015, 0.01524797547608614, 0.08575812727212906, 0.4490172564983368, 0.3734806776046753, 0.0], [0.024944212287664413, 1.4513263522530906e-05, 3.692699465318583e-05, 0.00026500862441025674, 0.00021566366194747388, 2.054810647678096e-05, 5.2090708777541295e-05, 4.415988951222971e-05, 0.0004648713511414826, 0.0009754492784850299, 0.00059974764008075, 0.0001451855932828039, 0.00013075399328954518, 0.0014699854655191302, 0.0027828195597976446, 0.00035976985236629844, 0.0007240936392918229, 0.00013491832942236215, 0.0003238300560042262, 0.00012216575851198286, 0.0021926918998360634, 0.0005784418899565935, 0.0005595468683168292, 0.0001298152783419937, 0.00022009495296515524, 0.0008602893212810159, 0.002635868964716792, 0.002353835618123412, 0.012945170514285564, 0.19534549117088318, 0.1489996463060379, 0.5993523597717285]], [[1.0, 0.0, 0.0, 0.0, 0.0, 0.0, 0.0, 0.0, 0.0, 0.0, 0.0, 0.0, 0.0, 0.0, 0.0, 0.0, 0.0, 0.0, 0.0, 0.0, 0.0, 0.0, 0.0, 0.0, 0.0, 0.0, 0.0, 0.0, 0.0, 0.0, 0.0, 0.0], [0.9308944344520569, 0.06910556554794312, 0.0, 0.0, 0.0, 0.0, 0.0, 0.0, 0.0, 0.0, 0.0, 0.0, 0.0, 0.0, 0.0, 0.0, 0.0, 0.0, 0.0, 0.0, 0.0, 0.0, 0.0, 0.0, 0.0, 0.0, 0.0, 0.0, 0.0, 0.0, 0.0, 0.0], [0.7291266918182373, 0.17664039134979248, 0.09423291683197021, 0.0, 0.0, 0.0, 0.0, 0.0, 0.0, 0.0, 0.0, 0.0, 0.0, 0.0, 0.0, 0.0, 0.0, 0.0, 0.0, 0.0, 0.0, 0.0, 0.0, 0.0, 0.0, 0.0, 0.0, 0.0, 0.0, 0.0, 0.0, 0.0], [0.47600945830345154, 0.20028646290302277, 0.18636052310466766, 0.1373436003923416, 0.0, 0.0, 0.0, 0.0, 0.0, 0.0, 0.0, 0.0, 0.0, 0.0, 0.0, 0.0, 0.0, 0.0, 0.0, 0.0, 0.0, 0.0, 0.0, 0.0, 0.0, 0.0, 0.0, 0.0, 0.0, 0.0, 0.0, 0.0], [0.4380291998386383, 0.20662495493888855, 0.13603883981704712, 0.18860915303230286, 0.03069782629609108, 0.0, 0.0, 0.0, 0.0, 0.0, 0.0, 0.0, 0.0, 0.0, 0.0, 0.0, 0.0, 0.0, 0.0, 0.0, 0.0, 0.0, 0.0, 0.0, 0.0, 0.0, 0.0, 0.0, 0.0, 0.0, 0.0, 0.0], [0.2755725383758545, 0.19002142548561096, 0.12586507201194763, 0.2958502471446991, 0.06861577928066254, 0.0440748929977417, 0.0, 0.0, 0.0, 0.0, 0.0, 0.0, 0.0, 0.0, 0.0, 0.0, 0.0, 0.0, 0.0, 0.0, 0.0, 0.0, 0.0, 0.0, 0.0, 0.0, 0.0, 0.0, 0.0, 0.0, 0.0, 0.0], [0.2978724539279938, 0.19770127534866333, 0.10871727764606476, 0.1739204078912735, 0.04657089337706566, 0.040499452501535416, 0.13471819460391998, 0.0, 0.0, 0.0, 0.0, 0.0, 0.0, 0.0, 0.0, 0.0, 0.0, 0.0, 0.0, 0.0, 0.0, 0.0, 0.0, 0.0, 0.0, 0.0, 0.0, 0.0, 0.0, 0.0, 0.0, 0.0], [0.32429471611976624, 0.0926910862326622, 0.1451156735420227, 0.17137235403060913, 0.05823070928454399, 0.07092481106519699, 0.09476394206285477, 0.04260668158531189, 0.0, 0.0, 0.0, 0.0, 0.0, 0.0, 0.0, 0.0, 0.0, 0.0, 0.0, 0.0, 0.0, 0.0, 0.0, 0.0, 0.0, 0.0, 0.0, 0.0, 0.0, 0.0, 0.0, 0.0], [0.27194157242774963, 0.06537686288356781, 0.11176840960979462, 0.1550818681716919, 0.06383445858955383, 0.11313196271657944, 0.10367473214864731, 0.08670216053724289, 0.02848793938755989, 0.0, 0.0, 0.0, 0.0, 0.0, 0.0, 0.0, 0.0, 0.0, 0.0, 0.0, 0.0, 0.0, 0.0, 0.0, 0.0, 0.0, 0.0, 0.0, 0.0, 0.0, 0.0, 0.0], [0.2971765995025635, 0.09799844026565552, 0.12230976670980453, 0.09821091592311859, 0.047138746827840805, 0.06814780086278915, 0.20030687749385834, 0.03043137490749359, 0.012724663130939007, 0.02555484138429165, 0.0, 0.0, 0.0, 0.0, 0.0, 0.0, 0.0, 0.0, 0.0, 0.0, 0.0, 0.0, 0.0, 0.0, 0.0, 0.0, 0.0, 0.0, 0.0, 0.0, 0.0, 0.0], [0.25815534591674805, 0.05225592479109764, 0.09301784634590149, 0.10429433733224869, 0.05208546668291092, 0.07478722184896469, 0.23321501910686493, 0.049202241003513336, 0.016827035695314407, 0.04698856920003891, 0.01917102374136448, 0.0, 0.0, 0.0, 0.0, 0.0, 0.0, 0.0, 0.0, 0.0, 0.0, 0.0, 0.0, 0.0, 0.0, 0.0, 0.0, 0.0, 0.0, 0.0, 0.0, 0.0], [0.43002015352249146, 0.047741662710905075, 0.06690958142280579, 0.08895016461610794, 0.028712285682559013, 0.045444902032613754, 0.04439781606197357, 0.020007094368338585, 0.030682800337672234, 0.015131357125937939, 0.035465653985738754, 0.14653648436069489, 0.0, 0.0, 0.0, 0.0, 0.0, 0.0, 0.0, 0.0, 0.0, 0.0, 0.0, 0.0, 0.0, 0.0, 0.0, 0.0, 0.0, 0.0, 0.0, 0.0], [0.28077754378318787, 0.06472945213317871, 0.044176843017339706, 0.11800180375576019, 0.006198036018759012, 0.024750802665948868, 0.021241145208477974, 0.02923670783638954, 0.012233935296535492, 0.027993232011795044, 0.0348515622317791, 0.32577139139175415, 0.010037587024271488, 0.0, 0.0, 0.0, 0.0, 0.0, 0.0, 0.0, 0.0, 0.0, 0.0, 0.0, 0.0, 0.0, 0.0, 0.0, 0.0, 0.0, 0.0, 0.0], [0.22128377854824066, 0.05904841423034668, 0.018886685371398926, 0.05447005107998848, 0.006746696773916483, 0.01895052008330822, 0.01952643319964409, 0.014095150865614414, 0.011336836963891983, 0.012003688141703606, 0.011931505985558033, 0.23726868629455566, 0.20095950365066528, 0.11349199712276459, 0.0, 0.0, 0.0, 0.0, 0.0, 0.0, 0.0, 0.0, 0.0, 0.0, 0.0, 0.0, 0.0, 0.0, 0.0, 0.0, 0.0, 0.0], [0.16770751774311066, 0.015707053244113922, 0.02315814048051834, 0.03901821747422218, 0.0065072886645793915, 0.0173012837767601, 0.018813950940966606, 0.007922200486063957, 0.006843691226094961, 0.021056529134511948, 0.06802229583263397, 0.2895571291446686, 0.09212908893823624, 0.07205642014741898, 0.15419918298721313, 0.0, 0.0, 0.0, 0.0, 0.0, 0.0, 0.0, 0.0, 0.0, 0.0, 0.0, 0.0, 0.0, 0.0, 0.0, 0.0, 0.0], [0.12809006869792938, 0.020545674487948418, 0.014275791123509407, 0.04204779118299484, 0.004128062631934881, 0.009411959908902645, 0.017238350585103035, 0.006544746924191713, 0.004284534603357315, 0.007668276317417622, 0.005698832217603922, 0.21420663595199585, 0.19046923518180847, 0.13634318113327026, 0.11621049791574478, 0.08283630758523941, 0.0, 0.0, 0.0, 0.0, 0.0, 0.0, 0.0, 0.0, 0.0, 0.0, 0.0, 0.0, 0.0, 0.0, 0.0, 0.0], [0.08101072162389755, 0.019868573173880577, 0.0069693224504590034, 0.012615907937288284, 0.0056167300790548325, 0.0037740592379122972, 0.02025192603468895, 0.0019576051272451878, 0.003142806701362133, 0.0038835585583001375, 0.005253481213003397, 0.06851670891046524, 0.1050422191619873, 0.1748196929693222, 0.15241332352161407, 0.2830389440059662, 0.05182446539402008, 0.0, 0.0, 0.0, 0.0, 0.0, 0.0, 0.0, 0.0, 0.0, 0.0, 0.0, 0.0, 0.0, 0.0, 0.0], [0.06504374742507935, 0.01478861179202795, 0.00953205581754446, 0.011622552759945393, 0.00320531171746552, 0.0029589124023914337, 0.005594862625002861, 0.001604200922884047, 0.0018587505910545588, 0.0015536086866632104, 0.0015272191958501935, 0.035165365785360336, 0.13144618272781372, 0.09311230480670929, 0.2748827040195465, 0.23373860120773315, 0.07232426106929779, 0.04004067927598953, 0.0, 0.0, 0.0, 0.0, 0.0, 0.0, 0.0, 0.0, 0.0, 0.0, 0.0, 0.0, 0.0, 0.0], [0.053038738667964935, 0.0171444620937109, 0.00567645113915205, 0.009483175352215767, 0.0034136853646486998, 0.0017677720170468092, 0.010403908789157867, 0.001703797373920679, 0.0016177123179659247, 0.003138072555884719, 0.003500963095575571, 0.03676590323448181, 0.08408349007368088, 0.08766532689332962, 0.0932294949889183, 0.2642577588558197, 0.1382756531238556, 0.09961304068565369, 0.0852205753326416, 0.0, 0.0, 0.0, 0.0, 0.0, 0.0, 0.0, 0.0, 0.0, 0.0, 0.0, 0.0, 0.0], [0.27977731823921204, 0.020253876224160194, 0.011576714925467968, 0.013349051587283611, 0.0028657419607043266, 0.0034658932127058506, 0.009741907007992268, 0.0018984383204951882, 0.0024129250086843967, 0.006368096452206373, 0.007529174443334341, 0.028234923258423805, 0.04581625759601593, 0.049559615552425385, 0.120171919465065, 0.09245659410953522, 0.10851938277482986, 0.05740409716963768, 0.11343276500701904, 0.025165272876620293, 0.0, 0.0, 0.0, 0.0, 0.0, 0.0, 0.0, 0.0, 0.0, 0.0, 0.0, 0.0], [0.05848078429698944, 0.009885447099804878, 0.00597754493355751, 0.006983814295381308, 0.0011176607804372907, 0.0016235106159001589, 0.007593832910060883, 0.0008257863228209317, 0.00028174123144708574, 0.0004568116273730993, 0.0010790660744532943, 0.04484788328409195, 0.07089211791753769, 0.04305216297507286, 0.05879613012075424, 0.1329105645418167, 0.11415942013263702, 0.1149793267250061, 0.22925300896167755, 0.07606173306703568, 0.02074153535068035, 0.0, 0.0, 0.0, 0.0, 0.0, 0.0, 0.0, 0.0, 0.0, 0.0, 0.0], [0.08457688242197037, 0.00462007150053978, 0.007316845469176769, 0.010235930792987347, 0.0028962555807083845, 0.005083173979073763, 0.006294848397374153, 0.002556858118623495, 0.003310158383101225, 0.005825631786137819, 0.006966738495975733, 0.03115074895322323, 0.034114208072423935, 0.033683791756629944, 0.05839245766401291, 0.0880829468369484, 0.19224998354911804, 0.09834927320480347, 0.09829793870449066, 0.04763871803879738, 0.13073571026325226, 0.04762091115117073, 0.0, 0.0, 0.0, 0.0, 0.0, 0.0, 0.0, 0.0, 0.0, 0.0], [0.3272233307361603, 0.015501686371862888, 0.0044164196588099, 0.00686472887173295, 0.0013935321476310492, 0.005179930943995714, 0.0020043940749019384, 0.001591518404893577, 0.0018744802800938487, 0.0030761000234633684, 0.0059750196523964405, 0.011758185923099518, 0.006423484068363905, 0.010829469189047813, 0.024349255487322807, 0.014032575301826, 0.04208560287952423, 0.017253786325454712, 0.03805137425661087, 0.02405940368771553, 0.0517219677567482, 0.19696861505508423, 0.18736504018306732, 0.0, 0.0, 0.0, 0.0, 0.0, 0.0, 0.0, 0.0, 0.0], [0.11172721534967422, 0.006981322541832924, 0.005689068231731653, 0.005241645034402609, 0.001957716653123498, 0.0022690340410917997, 0.004365464206784964, 0.0019041296327486634, 0.0008300877525471151, 0.0028198082000017166, 0.002105220453813672, 0.015872523188591003, 0.023050155490636826, 0.01627330668270588, 0.027364281937479973, 0.0358857586979866, 0.033492423593997955, 0.03825658932328224, 0.0683886930346489, 0.06972204148769379, 0.09662105143070221, 0.054823875427246094, 0.3367188572883606, 0.03763970732688904, 0.0, 0.0, 0.0, 0.0, 0.0, 0.0, 0.0, 0.0], [0.07229097187519073, 0.0034359467681497335, 0.003051942680031061, 0.0035560298711061478, 0.0014882439281791449, 0.0023777938913553953, 0.002404760802164674, 0.0021244436502456665, 0.0006126174121163785, 0.0017760992050170898, 0.0012615802697837353, 0.012691616080701351, 0.024712735787034035, 0.011681878007948399, 0.018540360033512115, 0.02645687200129032, 0.03285522013902664, 0.03872121870517731, 0.06517629325389862, 0.10019048303365707, 0.08969265222549438, 0.03546765074133873, 0.36063674092292786, 0.07191723585128784, 0.016878614202141762, 0.0, 0.0, 0.0, 0.0, 0.0, 0.0, 0.0], [0.08221721649169922, 0.006469012703746557, 0.004602496512234211, 0.002875050762668252, 0.0013392955297604203, 0.0017581270076334476, 0.00437130406498909, 0.000775764521677047, 0.0003233587194699794, 0.0007266743341460824, 0.00047742901369929314, 0.012881631031632423, 0.018722493201494217, 0.015113561414182186, 0.0278931874781847, 0.042834844440221786, 0.037332721054553986, 0.03000148944556713, 0.04446420073509216, 0.04082965850830078, 0.046217866241931915, 0.037162572145462036, 0.4860714375972748, 0.02757498063147068, 0.008497892878949642, 0.018465815111994743, 0.0, 0.0, 0.0, 0.0, 0.0, 0.0], [0.0844576433300972, 0.004485389217734337, 0.0047839428298175335, 0.0035666637122631073, 0.001440695603378117, 0.00177578569855541, 0.0047251880168914795, 0.0009738942026160657, 0.0003657840716186911, 0.0010658316314220428, 0.00042130646761506796, 0.011789634823799133, 0.028291411697864532, 0.016079671680927277, 0.02710133045911789, 0.05883735790848732, 0.0320332795381546, 0.027124008163809776, 0.0628834143280983, 0.045628659427165985, 0.05890428274869919, 0.03758777678012848, 0.3671616315841675, 0.051361601799726486, 0.014263703487813473, 0.03816928341984749, 0.014720861800014973, 0.0, 0.0, 0.0, 0.0, 0.0], [0.2782610058784485, 0.007098409812897444, 0.0040800911374390125, 0.0048124948516488075, 0.0008872631005942822, 0.0017811453435570002, 0.0019497593166306615, 0.0006048035575076938, 0.0010818364098668098, 0.0007674683583900332, 0.0010771768866106868, 0.00893080048263073, 0.01267214398831129, 0.014800628647208214, 0.032237742096185684, 0.028461050242185593, 0.019226092845201492, 0.008527405560016632, 0.012273546308279037, 0.009066484868526459, 0.026098430156707764, 0.05628276243805885, 0.14793017506599426, 0.019021183252334595, 0.029339082539081573, 0.019770611077547073, 0.027523403987288475, 0.22543694078922272, 0.0, 0.0, 0.0, 0.0], [0.12350799143314362, 0.004825278650969267, 0.004096653312444687, 0.0036447925958782434, 0.0008125506574288011, 0.0009517135331407189, 0.002181589836254716, 0.0005516648525372148, 0.0007311300141736865, 0.0005728293908759952, 0.000525181763805449, 0.010453679598867893, 0.025933964177966118, 0.015722913667559624, 0.048668887466192245, 0.045472875237464905, 0.016250578686594963, 0.009374461136758327, 0.011653807014226913, 0.008564973250031471, 0.020003236830234528, 0.02170906588435173, 0.08498526364564896, 0.01827791891992092, 0.022699076682329178, 0.016170330345630646, 0.01666462980210781, 0.3646444082260132, 0.1003485769033432, 0.0, 0.0, 0.0], [0.06370250135660172, 0.002656012773513794, 0.0012337161460891366, 0.0016160572413355112, 0.0005132707883603871, 0.00033905007876455784, 0.002451397478580475, 0.00039622036274522543, 0.000404477323172614, 0.0006917465361766517, 0.0008614205289632082, 0.007286055013537407, 0.009658163413405418, 0.008425494655966759, 0.008200475946068764, 0.02360706590116024, 0.01358793955296278, 0.010065069422125816, 0.010033988393843174, 0.011827156879007816, 0.02519286796450615, 0.008505241014063358, 0.08107229322195053, 0.011249413713812828, 0.012799540534615517, 0.019904296845197678, 0.02705490030348301, 0.3832254707813263, 0.1472255289554596, 0.10621321201324463, 0.0, 0.0], [0.2747495472431183, 0.002589593408629298, 0.0024225665256381035, 0.002240764442831278, 0.00043572383583523333, 0.000575945305172354, 0.0025917922612279654, 0.00042088140617124736, 0.0004884927184320986, 0.0012200194178149104, 0.0017427538987249136, 0.006644866429269314, 0.00749333668500185, 0.005998855922371149, 0.011861388571560383, 0.00806144904345274, 0.009020975790917873, 0.005008456762880087, 0.01194059755653143, 0.003236692165955901, 0.018741250038146973, 0.011536650359630585, 0.029001004993915558, 0.006449786014854908, 0.009105133824050426, 0.023813411593437195, 0.03548531234264374, 0.2239634245634079, 0.0827256515622139, 0.16913031041622162, 0.031303394585847855, 0.0], [0.03837837651371956, 0.0010526836849749088, 0.0009355729562230408, 0.0010071195429190993, 0.00015559964231215417, 0.0002481287519913167, 0.001610600738786161, 0.00017298934108112007, 4.961278318660334e-05, 7.205714064184576e-05, 0.00020987600146327168, 0.008706243708729744, 0.009919221512973309, 0.004279047716408968, 0.00442466652020812, 0.007732114754617214, 0.006511279847472906, 0.007329127751290798, 0.015417909249663353, 0.00600790698081255, 0.0017944705905392766, 0.003206405555829406, 0.03759991005063057, 0.0030780464876443148, 0.0013582940446212888, 0.0022626458667218685, 0.007605766411870718, 0.26716864109039307, 0.1628015637397766, 0.29010921716690063, 0.0892123207449913, 0.01958262361586094]], [[1.0, 0.0, 0.0, 0.0, 0.0, 0.0, 0.0, 0.0, 0.0, 0.0, 0.0, 0.0, 0.0, 0.0, 0.0, 0.0, 0.0, 0.0, 0.0, 0.0, 0.0, 0.0, 0.0, 0.0, 0.0, 0.0, 0.0, 0.0, 0.0, 0.0, 0.0, 0.0], [0.9864069819450378, 0.013593015260994434, 0.0, 0.0, 0.0, 0.0, 0.0, 0.0, 0.0, 0.0, 0.0, 0.0, 0.0, 0.0, 0.0, 0.0, 0.0, 0.0, 0.0, 0.0, 0.0, 0.0, 0.0, 0.0, 0.0, 0.0, 0.0, 0.0, 0.0, 0.0, 0.0, 0.0], [0.8913042545318604, 0.03884054347872734, 0.06985516101121902, 0.0, 0.0, 0.0, 0.0, 0.0, 0.0, 0.0, 0.0, 0.0, 0.0, 0.0, 0.0, 0.0, 0.0, 0.0, 0.0, 0.0, 0.0, 0.0, 0.0, 0.0, 0.0, 0.0, 0.0, 0.0, 0.0, 0.0, 0.0, 0.0], [0.9362483024597168, 0.008636794053018093, 0.04235289990901947, 0.012762011960148811, 0.0, 0.0, 0.0, 0.0, 0.0, 0.0, 0.0, 0.0, 0.0, 0.0, 0.0, 0.0, 0.0, 0.0, 0.0, 0.0, 0.0, 0.0, 0.0, 0.0, 0.0, 0.0, 0.0, 0.0, 0.0, 0.0, 0.0, 0.0], [0.5109453201293945, 0.027638375759124756, 0.08851921558380127, 0.008091042749583721, 0.36480599641799927, 0.0, 0.0, 0.0, 0.0, 0.0, 0.0, 0.0, 0.0, 0.0, 0.0, 0.0, 0.0, 0.0, 0.0, 0.0, 0.0, 0.0, 0.0, 0.0, 0.0, 0.0, 0.0, 0.0, 0.0, 0.0, 0.0, 0.0], [0.3031323552131653, 0.04981511831283569, 0.07713795453310013, 0.14355780184268951, 0.1795354038476944, 0.24682143330574036, 0.0, 0.0, 0.0, 0.0, 0.0, 0.0, 0.0, 0.0, 0.0, 0.0, 0.0, 0.0, 0.0, 0.0, 0.0, 0.0, 0.0, 0.0, 0.0, 0.0, 0.0, 0.0, 0.0, 0.0, 0.0, 0.0], [0.13908565044403076, 0.017116686329245567, 0.03332929313182831, 0.005769366864115, 0.11116642504930496, 0.013252186588943005, 0.6802804470062256, 0.0, 0.0, 0.0, 0.0, 0.0, 0.0, 0.0, 0.0, 0.0, 0.0, 0.0, 0.0, 0.0, 0.0, 0.0, 0.0, 0.0, 0.0, 0.0, 0.0, 0.0, 0.0, 0.0, 0.0, 0.0], [0.6732416152954102, 0.033711232244968414, 0.019566884264349937, 0.001308912644162774, 0.05852022394537926, 0.10276661813259125, 0.006473466753959656, 0.1044110655784607, 0.0, 0.0, 0.0, 0.0, 0.0, 0.0, 0.0, 0.0, 0.0, 0.0, 0.0, 0.0, 0.0, 0.0, 0.0, 0.0, 0.0, 0.0, 0.0, 0.0, 0.0, 0.0, 0.0, 0.0], [0.16618958115577698, 0.0009019157150760293, 0.002819724613800645, 0.00022080809867475182, 0.011625138111412525, 0.001422231667675078, 0.003987572155892849, 0.026240937411785126, 0.7865921258926392, 0.0, 0.0, 0.0, 0.0, 0.0, 0.0, 0.0, 0.0, 0.0, 0.0, 0.0, 0.0, 0.0, 0.0, 0.0, 0.0, 0.0, 0.0, 0.0, 0.0, 0.0, 0.0, 0.0], [0.19736216962337494, 0.0007315733819268644, 0.002303137443959713, 0.00316623761318624, 0.03482936695218086, 0.0037301736883819103, 0.00047367450315505266, 0.00401621637865901, 0.05304066091775894, 0.7003467679023743, 0.0, 0.0, 0.0, 0.0, 0.0, 0.0, 0.0, 0.0, 0.0, 0.0, 0.0, 0.0, 0.0, 0.0, 0.0, 0.0, 0.0, 0.0, 0.0, 0.0, 0.0, 0.0], [0.20220692455768585, 0.0012385082663968205, 0.00038105889689177275, 0.000507261254824698, 0.019026421010494232, 0.0006986623047851026, 0.00015450608043465763, 0.013084021396934986, 0.0434407964348793, 0.022087369114160538, 0.6971744298934937, 0.0, 0.0, 0.0, 0.0, 0.0, 0.0, 0.0, 0.0, 0.0, 0.0, 0.0, 0.0, 0.0, 0.0, 0.0, 0.0, 0.0, 0.0, 0.0, 0.0, 0.0], [0.18465900421142578, 0.002939873607829213, 0.05877487733960152, 0.033832523971796036, 0.004140579607337713, 0.0039683920331299305, 0.020702246576547623, 0.024098718538880348, 0.042569294571876526, 0.140255868434906, 0.2680067718029022, 0.21605177223682404, 0.0, 0.0, 0.0, 0.0, 0.0, 0.0, 0.0, 0.0, 0.0, 0.0, 0.0, 0.0, 0.0, 0.0, 0.0, 0.0, 0.0, 0.0, 0.0, 0.0], [0.39880234003067017, 0.034100912511348724, 0.045124784111976624, 0.0013421950861811638, 0.012567835859954357, 0.005856286734342575, 0.014953226782381535, 0.0009700873633846641, 0.011759363114833832, 0.019574403762817383, 0.04414168745279312, 0.16140447556972504, 0.24940232932567596, 0.0, 0.0, 0.0, 0.0, 0.0, 0.0, 0.0, 0.0, 0.0, 0.0, 0.0, 0.0, 0.0, 0.0, 0.0, 0.0, 0.0, 0.0, 0.0], [0.19539056718349457, 0.10720394551753998, 0.023641571402549744, 0.046712517738342285, 0.019671477377414703, 0.0011882735416293144, 0.0015914267860352993, 0.002140824915841222, 0.014719940721988678, 0.018694622442126274, 0.02936377003788948, 0.2607112526893616, 0.04531623050570488, 0.2336534857749939, 0.0, 0.0, 0.0, 0.0, 0.0, 0.0, 0.0, 0.0, 0.0, 0.0, 0.0, 0.0, 0.0, 0.0, 0.0, 0.0, 0.0, 0.0], [0.33017492294311523, 0.13448449969291687, 0.06294535845518112, 0.007164270617067814, 0.026393884792923927, 0.006600318942219019, 0.003792341100051999, 0.0017301114276051521, 0.03838956728577614, 0.009646194986999035, 0.0052952212281525135, 0.010062637738883495, 0.0902927964925766, 0.15710756182670593, 0.11592032760381699, 0.0, 0.0, 0.0, 0.0, 0.0, 0.0, 0.0, 0.0, 0.0, 0.0, 0.0, 0.0, 0.0, 0.0, 0.0, 0.0, 0.0], [0.0795799195766449, 0.02812403440475464, 0.08037544041872025, 0.01832488179206848, 0.025156641378998756, 0.0007063992088660598, 0.003771418472751975, 0.0008976187091320753, 0.012938542291522026, 0.047439515590667725, 0.02185644768178463, 0.10711938142776489, 0.02527078613638878, 0.16032472252845764, 0.21621011197566986, 0.17190411686897278, 0.0, 0.0, 0.0, 0.0, 0.0, 0.0, 0.0, 0.0, 0.0, 0.0, 0.0, 0.0, 0.0, 0.0, 0.0, 0.0], [0.1250254213809967, 0.011560550890862942, 0.003934795036911964, 2.6706829885370098e-05, 0.028934182599186897, 0.00044431607238948345, 0.0005162283196114004, 1.7781016140361317e-05, 0.0010515983449295163, 0.007833443582057953, 0.0013536467449739575, 0.0014427507994696498, 0.0104741919785738, 0.5455529689788818, 0.011020535603165627, 0.14272797107696533, 0.10808291286230087, 0.0, 0.0, 0.0, 0.0, 0.0, 0.0, 0.0, 0.0, 0.0, 0.0, 0.0, 0.0, 0.0, 0.0, 0.0], [0.1897064596414566, 0.010251463390886784, 0.01712186075747013, 0.016105391085147858, 0.016280991956591606, 0.0023577262181788683, 0.004184184595942497, 0.005337799433618784, 0.009755333885550499, 0.04474453628063202, 0.04304858297109604, 0.012110041454434395, 0.03540748730301857, 0.003373250598087907, 0.374107301235199, 0.01144308689981699, 0.016039252281188965, 0.1886252909898758, 0.0, 0.0, 0.0, 0.0, 0.0, 0.0, 0.0, 0.0, 0.0, 0.0, 0.0, 0.0, 0.0, 0.0], [0.42198747396469116, 0.002340315841138363, 0.00648277485743165, 0.002255943836644292, 0.03601110726594925, 0.007020622491836548, 0.0017005031695589423, 0.002174107823520899, 0.013729764148592949, 0.05132283270359039, 0.05232847109436989, 0.004265972413122654, 0.016817936673760414, 0.004565732087939978, 0.005592617206275463, 0.0071435291320085526, 0.021177878603339195, 0.014673828147351742, 0.32840868830680847, 0.0, 0.0, 0.0, 0.0, 0.0, 0.0, 0.0, 0.0, 0.0, 0.0, 0.0, 0.0, 0.0], [0.5127825140953064, 0.0013326307525858283, 0.005511971190571785, 0.0004565207345876843, 0.00901103112846613, 0.03029794804751873, 0.009126031771302223, 0.0010987564455717802, 0.0025425106287002563, 0.0027190488763153553, 0.002679348224774003, 0.01187530905008316, 0.004684485495090485, 0.0076681096106767654, 0.0037810029461979866, 0.008820958435535431, 0.02834567427635193, 0.05646485090255737, 0.2667684555053711, 0.03403281420469284, 0.0, 0.0, 0.0, 0.0, 0.0, 0.0, 0.0, 0.0, 0.0, 0.0, 0.0, 0.0], [0.026191532611846924, 0.00028498395113274455, 0.0008133626542985439, 0.00463245389983058, 0.0038928715512156487, 7.612977060489357e-05, 0.0004008364921901375, 0.0013230802724137902, 0.0005065139848738909, 0.0005610861699096859, 0.002542542526498437, 0.0007257975521497428, 0.0002259549655718729, 0.0012350059114396572, 0.009414630010724068, 5.231937757343985e-05, 0.0015075678238645196, 0.0016900472110137343, 0.0190877765417099, 0.0777692049741745, 0.8470662236213684, 0.0, 0.0, 0.0, 0.0, 0.0, 0.0, 0.0, 0.0, 0.0, 0.0, 0.0], [0.056448571383953094, 0.0015599883627146482, 6.536446744576097e-05, 0.0007018796750344336, 0.00043501221807673573, 0.002715548500418663, 6.0691516409860924e-05, 0.0004256725369486958, 0.0007006076630204916, 0.0010462264763191342, 9.940349991666153e-05, 0.010641265660524368, 0.004186993930488825, 0.0016742903972044587, 0.011746769770979881, 0.012145917862653732, 0.012990837916731834, 0.03653035685420036, 0.0045039053075015545, 0.011838652193546295, 0.0018207456450909376, 0.827661395072937, 0.0, 0.0, 0.0, 0.0, 0.0, 0.0, 0.0, 0.0, 0.0, 0.0], [0.5348107814788818, 0.0018006553873419762, 0.0032489350996911526, 0.000427471095463261, 0.005124846938997507, 0.01467418298125267, 0.001615662476979196, 0.0019343384774401784, 0.003868367290124297, 0.008286668919026852, 0.00301357707940042, 0.0065541756339371204, 0.003413774771615863, 0.004714443348348141, 0.009852783754467964, 0.0011286254739388824, 0.00765877915546298, 0.013672851026058197, 0.010625782422721386, 0.0030829478055238724, 0.021381640806794167, 0.31295260787010193, 0.026156065985560417, 0.0, 0.0, 0.0, 0.0, 0.0, 0.0, 0.0, 0.0, 0.0], [0.4492042064666748, 0.034869998693466187, 0.009411455132067204, 0.00031016094726510346, 0.013853568583726883, 0.0048048291355371475, 0.0003531617112457752, 0.005646247882395983, 0.008754642680287361, 0.016165457665920258, 0.012537033297121525, 0.0004244667070452124, 0.004004195798188448, 0.0012286275159567595, 0.0019745382014662027, 0.010378560051321983, 0.010494261980056763, 0.013834957964718342, 0.03282956779003143, 0.002857970306649804, 0.017182456329464912, 0.14522525668144226, 0.034847360104322433, 0.16880714893341064, 0.0, 0.0, 0.0, 0.0, 0.0, 0.0, 0.0, 0.0], [0.04814045503735542, 0.0003416825202293694, 0.0005603686440736055, 2.2635682398686185e-05, 0.001242858706973493, 8.93669348442927e-05, 0.00015169981634244323, 0.0006370595074258745, 0.02033190056681633, 0.0009123898926191032, 0.0009139243047684431, 0.00017150002531707287, 0.0007921297219581902, 0.0003308275481685996, 1.9375251213205047e-05, 0.00040118038305081427, 0.0003703941183630377, 0.0004944995744153857, 0.008039018139243126, 0.0003615880268625915, 0.003559758421033621, 0.001343454816378653, 0.0032359000761061907, 0.031145788729190826, 0.8763902187347412, 0.0, 0.0, 0.0, 0.0, 0.0, 0.0, 0.0], [0.0791766345500946, 0.0005044261924922466, 0.0012508038198575377, 0.0008040852262638509, 0.006001596804708242, 0.0003532235277816653, 5.4054591601016e-05, 0.00036524084862321615, 0.002181640127673745, 0.03286155313253403, 0.016318093985319138, 0.0022063234355300665, 0.0026586728636175394, 0.0003654321189969778, 0.00010084118548547849, 0.00039872355409897864, 0.0006284771370701492, 0.0016515350434929132, 0.013514937832951546, 0.002563801594078541, 0.00045250201947055757, 0.0035533844493329525, 0.003159038256853819, 0.004448927007615566, 0.07124266773462296, 0.7531833052635193, 0.0, 0.0, 0.0, 0.0, 0.0, 0.0], [0.079981230199337, 0.000683237740304321, 0.00033574042026884854, 0.0003217276243958622, 0.0063403150998055935, 9.082267933990806e-05, 3.098525485256687e-05, 0.00282178889028728, 0.004035938065499067, 0.001044836943037808, 0.03647143393754959, 0.0007354347035288811, 0.006267491262406111, 0.0006653070449829102, 0.0001687698531895876, 0.00018597165762912482, 0.00033578879083506763, 0.0005045350990258157, 0.008222240954637527, 0.0099562406539917, 0.004430009517818689, 0.0005237416480667889, 0.020056918263435364, 0.018160197883844376, 0.06190721318125725, 0.028829194605350494, 0.7068928480148315, 0.0, 0.0, 0.0, 0.0, 0.0], [0.13085287809371948, 0.05456744506955147, 0.018826082348823547, 0.0028100479394197464, 0.0026239631697535515, 0.0020613446831703186, 0.0004901000065729022, 0.0005495789228007197, 0.0020424923859536648, 0.0011745188385248184, 0.001463780994527042, 0.00798863172531128, 0.007050702814012766, 0.0074424115009605885, 0.03339807689189911, 0.0010597887448966503, 0.03284113109111786, 0.014655965380370617, 0.003415498184040189, 0.009054222144186497, 0.015430541709065437, 0.01919633150100708, 0.03757486492395401, 0.0038018932100385427, 0.017675071954727173, 0.015247883275151253, 0.03176727518439293, 0.5249375700950623, 0.0, 0.0, 0.0, 0.0], [0.05577191710472107, 0.001468154601752758, 0.004041553009301424, 0.002503471914678812, 0.0013158997753635049, 0.00010397791629657149, 0.00044155458454042673, 0.0013236124068498611, 0.0028476042207330465, 0.008405730128288269, 0.009048079140484333, 0.0036101879086345434, 0.015245681628584862, 0.0014016927452757955, 0.05139783024787903, 0.0005545745370909572, 0.00047276573604904115, 0.005316576454788446, 0.0266205295920372, 0.07593224197626114, 0.02284199744462967, 0.0023401426151394844, 0.17099066078662872, 0.010784055106341839, 0.0217798613011837, 0.14782436192035675, 0.1937282383441925, 0.014866207726299763, 0.1470208764076233, 0.0, 0.0, 0.0], [0.19897952675819397, 0.00038472391315735877, 0.0021446282044053078, 0.0007853923016227782, 0.00883514154702425, 0.0006817755638621747, 0.0003278582589700818, 0.0014109814073890448, 0.0076388088054955006, 0.0220068097114563, 0.02016550488770008, 0.0018971661338582635, 0.014178884215652943, 0.003658114932477474, 0.0023549851030111313, 0.0007873898139223456, 0.0014178769197314978, 0.0007333560497500002, 0.022683382034301758, 0.013270911760628223, 0.005197935272008181, 0.015821456909179688, 0.005426925607025623, 0.003251085290685296, 0.020172588527202606, 0.1461738795042038, 0.11381033062934875, 0.009128212928771973, 0.010358774103224277, 0.3463156223297119, 0.0, 0.0], [0.4131663739681244, 0.00041731185046955943, 0.00264190137386322, 0.0002603713364806026, 0.0038651744835078716, 0.007604172918945551, 0.0030383646953850985, 0.0008951554773375392, 0.0028334329836070538, 0.0026958934031426907, 0.001897607697173953, 0.006879801396280527, 0.0036764179822057486, 0.0102388896048069, 0.003770574927330017, 0.003042680909857154, 0.005810625851154327, 0.005650538485497236, 0.01863453909754753, 0.003151430981233716, 0.01002193707972765, 0.061841126531362534, 0.0030613176058977842, 0.002037325408309698, 0.004586289171129465, 0.009267675690352917, 0.008440403267741203, 0.015054888091981411, 0.04345196858048439, 0.30137383937835693, 0.04069190099835396, 0.0], [0.005959173198789358, 2.7979029255220667e-05, 0.0001160999818239361, 0.0008251291583292186, 0.0007401476614177227, 8.467765837849583e-06, 4.069713395438157e-05, 0.00017064111307263374, 0.00010133801697520539, 0.00017740721523296088, 0.0008166843326762319, 0.00013179962115827948, 3.2399275369243696e-05, 0.0003564547805581242, 0.0033017820678651333, 1.508005789219169e-05, 0.0001600040413904935, 0.00011076774535467848, 0.0005480663967318833, 0.0013679249677807093, 0.022846024483442307, 3.2436066248919815e-05, 0.007403562311083078, 0.001074769301339984, 0.00027824018616229296, 0.00044918348430655897, 0.004253823775798082, 0.0013186519499868155, 0.0017323684878647327, 0.014578083530068398, 0.06632369756698608, 0.8647012114524841]]], \"headLabels\": [\"L0H0\", \"L0H1\", \"L0H2\", \"L0H3\", \"L0H4\", \"L0H5\", \"L0H6\", \"L0H7\", \"L0H8\", \"L0H9\", \"L0H10\", \"L0H11\"]}\n",
              "    )\n",
              "    </script>"
            ]
          },
          "metadata": {}
        },
        {
          "output_type": "display_data",
          "data": {
            "text/plain": [
              "<circuitsvis.utils.render.RenderedHTML at 0x7c0de1bce990>"
            ],
            "text/html": [
              "<div id=\"circuits-vis-98496aeb-f674\" style=\"margin: 15px 0;\"/>\n",
              "    <script crossorigin type=\"module\">\n",
              "    import { render, AttentionPatterns } from \"https://unpkg.com/circuitsvis@1.41.0/dist/cdn/esm.js\";\n",
              "    render(\n",
              "      \"circuits-vis-98496aeb-f674\",\n",
              "      AttentionPatterns,\n",
              "      {\"tokens\": [\"<|endoftext|>\", \"(\", \"<|padding|>\", \"\\\"\", \"&\", \"'\", \"&\", \"'\", \"!\", \"!\", \"<|padding|>\", \"(\", \"\\\"\", \"&\", \"#\", \"!\", \"\\\"\", \"<|padding|>\", \"<|padding|>\", \"%\", \"#\", \"(\", \"\\\"\", \"(\", \"\\\"\", \"(\", \"%\", \"'\", \"(\", \"&\", \"<|padding|>\", \"!\", \"<|padding|>\", \"(\", \"&\", \"!\", \"&\", \"!\", \"(\", \"(\", \"'\", \"\\\"\", \"#\", \"'\", \"'\", \"!\", \"%\", \"$\", \"'\", \"%\", \"'\", \"(\", \"<|padding|>\", \"\\\"\", \"&\", \"'\", \"&\", \"'\", \"!\", \"!\", \"<|padding|>\", \"(\", \"\\\"\", \"&\", \"#\", \"!\", \"\\\"\", \"<|padding|>\", \"<|padding|>\", \"%\", \"#\", \"(\", \"\\\"\", \"(\", \"\\\"\", \"(\", \"%\", \"'\", \"(\", \"&\", \"<|padding|>\", \"!\", \"<|padding|>\", \"(\", \"&\", \"!\", \"&\", \"!\", \"(\", \"(\", \"'\", \"\\\"\", \"#\", \"'\", \"'\", \"!\", \"%\", \"$\", \"'\", \"%\", \"'\"], \"attention\": [[[1.0, 0.0, 0.0, 0.0, 0.0, 0.0, 0.0, 0.0, 0.0, 0.0, 0.0, 0.0, 0.0, 0.0, 0.0, 0.0, 0.0, 0.0, 0.0, 0.0, 0.0, 0.0, 0.0, 0.0, 0.0, 0.0, 0.0, 0.0, 0.0, 0.0, 0.0, 0.0], [0.7369102835655212, 0.26308971643447876, 0.0, 0.0, 0.0, 0.0, 0.0, 0.0, 0.0, 0.0, 0.0, 0.0, 0.0, 0.0, 0.0, 0.0, 0.0, 0.0, 0.0, 0.0, 0.0, 0.0, 0.0, 0.0, 0.0, 0.0, 0.0, 0.0, 0.0, 0.0, 0.0, 0.0], [0.8448434472084045, 0.1315683275461197, 0.02358826994895935, 0.0, 0.0, 0.0, 0.0, 0.0, 0.0, 0.0, 0.0, 0.0, 0.0, 0.0, 0.0, 0.0, 0.0, 0.0, 0.0, 0.0, 0.0, 0.0, 0.0, 0.0, 0.0, 0.0, 0.0, 0.0, 0.0, 0.0, 0.0, 0.0], [0.7984013557434082, 0.100694939494133, 0.013046184554696083, 0.08785751461982727, 0.0, 0.0, 0.0, 0.0, 0.0, 0.0, 0.0, 0.0, 0.0, 0.0, 0.0, 0.0, 0.0, 0.0, 0.0, 0.0, 0.0, 0.0, 0.0, 0.0, 0.0, 0.0, 0.0, 0.0, 0.0, 0.0, 0.0, 0.0], [0.6945023536682129, 0.1339072734117508, 0.03150511160492897, 0.07931802421808243, 0.06076723337173462, 0.0, 0.0, 0.0, 0.0, 0.0, 0.0, 0.0, 0.0, 0.0, 0.0, 0.0, 0.0, 0.0, 0.0, 0.0, 0.0, 0.0, 0.0, 0.0, 0.0, 0.0, 0.0, 0.0, 0.0, 0.0, 0.0, 0.0], [0.6278273463249207, 0.1198464035987854, 0.03550650551915169, 0.08169354498386383, 0.08441733568906784, 0.05070893093943596, 0.0, 0.0, 0.0, 0.0, 0.0, 0.0, 0.0, 0.0, 0.0, 0.0, 0.0, 0.0, 0.0, 0.0, 0.0, 0.0, 0.0, 0.0, 0.0, 0.0, 0.0, 0.0, 0.0, 0.0, 0.0, 0.0], [0.49485209584236145, 0.11405252665281296, 0.05793940648436546, 0.061864446848630905, 0.0679893046617508, 0.05131490156054497, 0.1519872397184372, 0.0, 0.0, 0.0, 0.0, 0.0, 0.0, 0.0, 0.0, 0.0, 0.0, 0.0, 0.0, 0.0, 0.0, 0.0, 0.0, 0.0, 0.0, 0.0, 0.0, 0.0, 0.0, 0.0, 0.0, 0.0], [0.02768865041434765, 0.007317102514207363, 0.16835010051727295, 0.035725418478250504, 0.15054798126220703, 0.24375298619270325, 0.3311518728733063, 0.03546589985489845, 0.0, 0.0, 0.0, 0.0, 0.0, 0.0, 0.0, 0.0, 0.0, 0.0, 0.0, 0.0, 0.0, 0.0, 0.0, 0.0, 0.0, 0.0, 0.0, 0.0, 0.0, 0.0, 0.0, 0.0], [0.07152602076530457, 0.042588889598846436, 0.06192106753587723, 0.15232770144939423, 0.06184833124279976, 0.43041136860847473, 0.029938217252492905, 0.07393047958612442, 0.07550788670778275, 0.0, 0.0, 0.0, 0.0, 0.0, 0.0, 0.0, 0.0, 0.0, 0.0, 0.0, 0.0, 0.0, 0.0, 0.0, 0.0, 0.0, 0.0, 0.0, 0.0, 0.0, 0.0, 0.0], [0.45479583740234375, 0.07553043961524963, 0.02808905392885208, 0.12205785512924194, 0.03813009709119797, 0.16857540607452393, 0.024939941242337227, 0.0402742400765419, 0.021740134805440903, 0.02586699090898037, 0.0, 0.0, 0.0, 0.0, 0.0, 0.0, 0.0, 0.0, 0.0, 0.0, 0.0, 0.0, 0.0, 0.0, 0.0, 0.0, 0.0, 0.0, 0.0, 0.0, 0.0, 0.0], [0.7272345423698425, 0.07039568573236465, 0.017474576830863953, 0.05600450932979584, 0.015735579654574394, 0.07326453179121017, 0.003560689277946949, 0.011324332095682621, 0.004813575651496649, 0.007564552593976259, 0.012627460062503815, 0.0, 0.0, 0.0, 0.0, 0.0, 0.0, 0.0, 0.0, 0.0, 0.0, 0.0, 0.0, 0.0, 0.0, 0.0, 0.0, 0.0, 0.0, 0.0, 0.0, 0.0], [0.07775778323411942, 0.010725611820816994, 0.22180673480033875, 0.014782525599002838, 0.09049170464277267, 0.01110170129686594, 0.10837480425834656, 0.02285829372704029, 0.053710002452135086, 0.07824106514453888, 0.06722800433635712, 0.242921844124794, 0.0, 0.0, 0.0, 0.0, 0.0, 0.0, 0.0, 0.0, 0.0, 0.0, 0.0, 0.0, 0.0, 0.0, 0.0, 0.0, 0.0, 0.0, 0.0, 0.0], [0.031899355351924896, 0.006882422138005495, 0.19520682096481323, 0.010594204068183899, 0.062362190335989, 0.010605636984109879, 0.16200153529644012, 0.01930774375796318, 0.051697682589292526, 0.03626544773578644, 0.021912159398198128, 0.14750105142593384, 0.243763729929924, 0.0, 0.0, 0.0, 0.0, 0.0, 0.0, 0.0, 0.0, 0.0, 0.0, 0.0, 0.0, 0.0, 0.0, 0.0, 0.0, 0.0, 0.0, 0.0], [0.1789783537387848, 0.06827841699123383, 0.12596170604228973, 0.051841508597135544, 0.09589769691228867, 0.020853528752923012, 0.06678420305252075, 0.02921627089381218, 0.01860426366329193, 0.02438434027135372, 0.03282438963651657, 0.04756522923707962, 0.031187226995825768, 0.20762278139591217, 0.0, 0.0, 0.0, 0.0, 0.0, 0.0, 0.0, 0.0, 0.0, 0.0, 0.0, 0.0, 0.0, 0.0, 0.0, 0.0, 0.0, 0.0], [0.22561407089233398, 0.08704254776239395, 0.047271233052015305, 0.09939078241586685, 0.12046872079372406, 0.021218152716755867, 0.030840197578072548, 0.08357527107000351, 0.03497474640607834, 0.028533171862363815, 0.026137815788388252, 0.020249873399734497, 0.06101164221763611, 0.06588877737522125, 0.04778295382857323, 0.0, 0.0, 0.0, 0.0, 0.0, 0.0, 0.0, 0.0, 0.0, 0.0, 0.0, 0.0, 0.0, 0.0, 0.0, 0.0, 0.0], [0.09814401715993881, 0.052753228694200516, 0.07855887711048126, 0.0803847387433052, 0.0936545878648758, 0.03507561981678009, 0.05915811285376549, 0.04399596154689789, 0.05446097254753113, 0.0787746012210846, 0.056199077516794205, 0.04476546868681908, 0.04729476943612099, 0.03839769959449768, 0.04705939441919327, 0.09132277220487595, 0.0, 0.0, 0.0, 0.0, 0.0, 0.0, 0.0, 0.0, 0.0, 0.0, 0.0, 0.0, 0.0, 0.0, 0.0, 0.0], [0.06504681706428528, 0.023179104551672935, 0.012230422347784042, 0.051698099821805954, 0.014712424948811531, 0.052850015461444855, 0.004630853421986103, 0.03313477709889412, 0.024576731026172638, 0.019909383729100227, 0.006145066116005182, 0.02735322341322899, 0.03549845889210701, 0.004721049219369888, 0.046341702342033386, 0.10324642807245255, 0.4747253656387329, 0.0, 0.0, 0.0, 0.0, 0.0, 0.0, 0.0, 0.0, 0.0, 0.0, 0.0, 0.0, 0.0, 0.0, 0.0], [0.04626037925481796, 0.011026500724256039, 0.07772552967071533, 0.0064734104089438915, 0.05194910988211632, 0.0045115770772099495, 0.05246048420667648, 0.021832337602972984, 0.07157063484191895, 0.09605605900287628, 0.05452418699860573, 0.07250190526247025, 0.02546936832368374, 0.04552053287625313, 0.009271997958421707, 0.047713685780763626, 0.03326910734176636, 0.2718632221221924, 0.0, 0.0, 0.0, 0.0, 0.0, 0.0, 0.0, 0.0, 0.0, 0.0, 0.0, 0.0, 0.0, 0.0], [0.28951796889305115, 0.07714340835809708, 0.08737947046756744, 0.02266012132167816, 0.06570644676685333, 0.00962133426219225, 0.0492083840072155, 0.03011338971555233, 0.040619414299726486, 0.04986425116658211, 0.05702667683362961, 0.04661976173520088, 0.011023552156984806, 0.027081381529569626, 0.01871691830456257, 0.02153589203953743, 0.020447129383683205, 0.0379219688475132, 0.037792522460222244, 0.0, 0.0, 0.0, 0.0, 0.0, 0.0, 0.0, 0.0, 0.0, 0.0, 0.0, 0.0, 0.0], [0.3891123831272125, 0.08155743032693863, 0.010513057000935078, 0.04558059945702553, 0.01749357022345066, 0.007823321036994457, 0.014690476469695568, 0.04145257920026779, 0.033106353133916855, 0.04428480565547943, 0.022584419697523117, 0.016486825421452522, 0.01771262101829052, 0.0016895427834242582, 0.017948197200894356, 0.014312033541500568, 0.0262890737503767, 0.00439918227493763, 0.001214361866004765, 0.1917491853237152, 0.0, 0.0, 0.0, 0.0, 0.0, 0.0, 0.0, 0.0, 0.0, 0.0, 0.0, 0.0], [0.3122992515563965, 0.04566493257880211, 0.041323911398649216, 0.059901099652051926, 0.04304036870598793, 0.06323535740375519, 0.0342257097363472, 0.02212805114686489, 0.015733979642391205, 0.015523099340498447, 0.026196004822850227, 0.020000802353024483, 0.010828274302184582, 0.02940153330564499, 0.024725375697016716, 0.015815291553735733, 0.020233236253261566, 0.004023656249046326, 0.016544997692108154, 0.07181704044342041, 0.1073380783200264, 0.0, 0.0, 0.0, 0.0, 0.0, 0.0, 0.0, 0.0, 0.0, 0.0, 0.0], [0.7316960692405701, 0.0740460529923439, 0.0028341878205537796, 0.02076500467956066, 0.0064221215434372425, 0.001977119129151106, 0.003768267808482051, 0.010051311925053596, 0.0016623690025880933, 0.0019247237360104918, 0.0024969708174467087, 0.0009695796179585159, 0.006334835197776556, 0.0004248649056535214, 0.0026796443853527308, 0.0022196099162101746, 0.003528717439621687, 0.0012606880627572536, 0.0008884983253665268, 0.08182381838560104, 0.012094153091311455, 0.030131442472338676, 0.0, 0.0, 0.0, 0.0, 0.0, 0.0, 0.0, 0.0, 0.0, 0.0], [0.24264179170131683, 0.04806780070066452, 0.006871648132801056, 0.053609699010849, 0.008226992562413216, 0.010976297780871391, 0.00973255094140768, 0.044951535761356354, 0.028910253196954727, 0.015630248934030533, 0.007406323682516813, 0.004824012517929077, 0.016282230615615845, 0.0004954055184498429, 0.010004646144807339, 0.012495853006839752, 0.015950882807374, 0.002985461615025997, 0.0004187936137896031, 0.10005896538496017, 0.08570294827222824, 0.08903384208679199, 0.18472184240818024, 0.0, 0.0, 0.0, 0.0, 0.0, 0.0, 0.0, 0.0, 0.0], [0.06607924401760101, 0.019694888964295387, 0.044416654855012894, 0.043676670640707016, 0.05486398562788963, 0.03761044144630432, 0.07479579746723175, 0.02911239117383957, 0.10211193561553955, 0.048911675810813904, 0.035575028508901596, 0.013334084302186966, 0.037353310734033585, 0.012974618934094906, 0.012761557474732399, 0.04001953825354576, 0.08902285248041153, 0.008776801638305187, 0.004456515423953533, 0.016543205827474594, 0.09472403675317764, 0.026207339018583298, 0.018620029091835022, 0.06835751980543137, 0.0, 0.0, 0.0, 0.0, 0.0, 0.0, 0.0, 0.0], [0.02323201484978199, 0.023313837125897408, 0.01340473908931017, 0.08669520914554596, 0.015444696880877018, 0.0716012492775917, 0.007768380921334028, 0.03276023641228676, 0.02079903334379196, 0.02231510542333126, 0.015417405404150486, 0.012416727840900421, 0.028909731656312943, 0.0012134496355429292, 0.01972106099128723, 0.02770012617111206, 0.14240267872810364, 0.004925237037241459, 0.0002069047768600285, 0.03844644874334335, 0.05696438252925873, 0.07697929441928864, 0.033688683062791824, 0.14721426367759705, 0.0764591321349144, 0.0, 0.0, 0.0, 0.0, 0.0, 0.0, 0.0], [0.12407127022743225, 0.04532051458954811, 0.011168074794113636, 0.08268940448760986, 0.017386380583047867, 0.06831173598766327, 0.012081494554877281, 0.025086889043450356, 0.009610043838620186, 0.011178416199982166, 0.013211083598434925, 0.010005271062254906, 0.014031542465090752, 0.003637331072241068, 0.016625067219138145, 0.01005006954073906, 0.02502874657511711, 0.002113969763740897, 0.0009656755137257278, 0.05166976898908615, 0.0526035837829113, 0.15532413125038147, 0.09127308428287506, 0.08833983540534973, 0.02645808644592762, 0.03175849840044975, 0.0, 0.0, 0.0, 0.0, 0.0, 0.0], [0.315521240234375, 0.049756091088056564, 0.008984622545540333, 0.04755363240838051, 0.010031705722212791, 0.040491148829460144, 0.002234918298199773, 0.008991029113531113, 0.00279389601200819, 0.004157215356826782, 0.005715157836675644, 0.012935726903378963, 0.0033743686508387327, 0.0010726507753133774, 0.008076041005551815, 0.0021000502165406942, 0.007680228911340237, 0.0010411301627755165, 0.0006082195905037224, 0.040996160358190536, 0.026914658024907112, 0.20337961614131927, 0.1172608882188797, 0.046474963426589966, 0.008556862361729145, 0.010141833685338497, 0.013155949302017689, 0.0, 0.0, 0.0, 0.0, 0.0], [0.22683915495872498, 0.059808142483234406, 0.03968745842576027, 0.05165768042206764, 0.033830199390649796, 0.014208354987204075, 0.00874356459826231, 0.01590016484260559, 0.00881173275411129, 0.013836175203323364, 0.014574775472283363, 0.014069613069295883, 0.020154308527708054, 0.0024407259188592434, 0.009354193694889545, 0.015291336923837662, 0.03329145163297653, 0.00495107751339674, 0.001289590261876583, 0.03957265615463257, 0.04430568590760231, 0.07642403244972229, 0.07420092821121216, 0.04849803447723389, 0.020682649686932564, 0.022841766476631165, 0.023650823161005974, 0.06108373776078224, 0.0, 0.0, 0.0, 0.0], [0.04540544003248215, 0.011726806871592999, 0.10572905093431473, 0.006273543927818537, 0.04093654826283455, 0.003073024097830057, 0.03314387425780296, 0.010631564073264599, 0.018094196915626526, 0.026405705139040947, 0.026211410760879517, 0.018271878361701965, 0.030205538496375084, 0.061582256108522415, 0.0019983509555459023, 0.022917862981557846, 0.015181970782577991, 0.027822624891996384, 0.04751789942383766, 0.009496811777353287, 0.07857111841440201, 0.009389384649693966, 0.010796360671520233, 0.028057599440217018, 0.035318247973918915, 0.047749392688274384, 0.049660369753837585, 0.04235538840293884, 0.13547579944133759, 0.0, 0.0, 0.0], [0.20063146948814392, 0.05013378709554672, 0.0642833411693573, 0.012754492461681366, 0.05022408813238144, 0.005690290592610836, 0.030342457816004753, 0.02277333475649357, 0.018941262736916542, 0.026169920340180397, 0.03503439202904701, 0.017402520403265953, 0.011014087125658989, 0.012739547528326511, 0.004965933971107006, 0.008738523349165916, 0.008191167376935482, 0.00880991667509079, 0.016304783523082733, 0.027900569140911102, 0.051514413207769394, 0.036636870354413986, 0.03912517428398132, 0.03603876382112503, 0.027710162103176117, 0.029377315193414688, 0.045649271458387375, 0.04373772814869881, 0.027306899428367615, 0.02985747531056404, 0.0, 0.0], [0.1741403192281723, 0.031204478815197945, 0.004710881505161524, 0.017043469473719597, 0.008036607876420021, 0.0037572181317955256, 0.004245211370289326, 0.017098113894462585, 0.010361019521951675, 0.01442515105009079, 0.008297713473439217, 0.005383018869906664, 0.009931748732924461, 0.0009405953460372984, 0.00404344080016017, 0.005362456664443016, 0.012679915875196457, 0.0011295047588646412, 0.0006653530872426927, 0.062458403408527374, 0.07026239484548569, 0.03229096904397011, 0.07781581580638885, 0.16638825833797455, 0.04147149994969368, 0.04223856329917908, 0.024331221356987953, 0.014560663141310215, 0.003912474028766155, 0.0014171421062201262, 0.12939639389514923, 0.0], [0.1529054194688797, 0.022262856364250183, 0.02133970335125923, 0.0269464198499918, 0.022642221301794052, 0.027416612952947617, 0.016361046582460403, 0.015399799682199955, 0.007953955791890621, 0.00855919811874628, 0.010901051573455334, 0.009342188015580177, 0.009330538101494312, 0.01550481840968132, 0.007976170629262924, 0.009109456092119217, 0.011769123375415802, 0.0016099609201774001, 0.009349305182695389, 0.0302469190210104, 0.041712433099746704, 0.21839557588100433, 0.03376877307891846, 0.031133143231272697, 0.022054798901081085, 0.019449107348918915, 0.025153273716568947, 0.025204911828041077, 0.008585825562477112, 0.022206980735063553, 0.06619137525558472, 0.04921708256006241]], [[1.0, 0.0, 0.0, 0.0, 0.0, 0.0, 0.0, 0.0, 0.0, 0.0, 0.0, 0.0, 0.0, 0.0, 0.0, 0.0, 0.0, 0.0, 0.0, 0.0, 0.0, 0.0, 0.0, 0.0, 0.0, 0.0, 0.0, 0.0, 0.0, 0.0, 0.0, 0.0], [0.313954621553421, 0.6860454082489014, 0.0, 0.0, 0.0, 0.0, 0.0, 0.0, 0.0, 0.0, 0.0, 0.0, 0.0, 0.0, 0.0, 0.0, 0.0, 0.0, 0.0, 0.0, 0.0, 0.0, 0.0, 0.0, 0.0, 0.0, 0.0, 0.0, 0.0, 0.0, 0.0, 0.0], [0.6711946129798889, 0.20939138531684875, 0.11941398680210114, 0.0, 0.0, 0.0, 0.0, 0.0, 0.0, 0.0, 0.0, 0.0, 0.0, 0.0, 0.0, 0.0, 0.0, 0.0, 0.0, 0.0, 0.0, 0.0, 0.0, 0.0, 0.0, 0.0, 0.0, 0.0, 0.0, 0.0, 0.0, 0.0], [0.6922852993011475, 0.1437108963727951, 0.10683949291706085, 0.05716434866189957, 0.0, 0.0, 0.0, 0.0, 0.0, 0.0, 0.0, 0.0, 0.0, 0.0, 0.0, 0.0, 0.0, 0.0, 0.0, 0.0, 0.0, 0.0, 0.0, 0.0, 0.0, 0.0, 0.0, 0.0, 0.0, 0.0, 0.0, 0.0], [0.6487100124359131, 0.1267171949148178, 0.09636320918798447, 0.0343484990298748, 0.09386109560728073, 0.0, 0.0, 0.0, 0.0, 0.0, 0.0, 0.0, 0.0, 0.0, 0.0, 0.0, 0.0, 0.0, 0.0, 0.0, 0.0, 0.0, 0.0, 0.0, 0.0, 0.0, 0.0, 0.0, 0.0, 0.0, 0.0, 0.0], [0.26469501852989197, 0.044498469680547714, 0.010644430294632912, 0.01981969363987446, 0.019067157059907913, 0.6412752866744995, 0.0, 0.0, 0.0, 0.0, 0.0, 0.0, 0.0, 0.0, 0.0, 0.0, 0.0, 0.0, 0.0, 0.0, 0.0, 0.0, 0.0, 0.0, 0.0, 0.0, 0.0, 0.0, 0.0, 0.0, 0.0, 0.0], [0.1797017753124237, 0.05994974076747894, 0.01383423712104559, 0.015969103202223778, 0.014984340406954288, 0.7048678398132324, 0.010692880488932133, 0.0, 0.0, 0.0, 0.0, 0.0, 0.0, 0.0, 0.0, 0.0, 0.0, 0.0, 0.0, 0.0, 0.0, 0.0, 0.0, 0.0, 0.0, 0.0, 0.0, 0.0, 0.0, 0.0, 0.0, 0.0], [0.29217711091041565, 0.2303648740053177, 0.013364652171730995, 0.026612265035510063, 0.03884240612387657, 0.30171525478363037, 0.027620041742920876, 0.06930340081453323, 0.0, 0.0, 0.0, 0.0, 0.0, 0.0, 0.0, 0.0, 0.0, 0.0, 0.0, 0.0, 0.0, 0.0, 0.0, 0.0, 0.0, 0.0, 0.0, 0.0, 0.0, 0.0, 0.0, 0.0], [0.10091317445039749, 0.10582021623849869, 0.03085324726998806, 0.060940150171518326, 0.035088472068309784, 0.330800324678421, 0.05959950387477875, 0.05218162015080452, 0.22380337119102478, 0.0, 0.0, 0.0, 0.0, 0.0, 0.0, 0.0, 0.0, 0.0, 0.0, 0.0, 0.0, 0.0, 0.0, 0.0, 0.0, 0.0, 0.0, 0.0, 0.0, 0.0, 0.0, 0.0], [0.6140519380569458, 0.1184455081820488, 0.036598555743694305, 0.05184817686676979, 0.014476306736469269, 0.06798996776342392, 0.005113947670906782, 0.02944459766149521, 0.02237432822585106, 0.039656609296798706, 0.0, 0.0, 0.0, 0.0, 0.0, 0.0, 0.0, 0.0, 0.0, 0.0, 0.0, 0.0, 0.0, 0.0, 0.0, 0.0, 0.0, 0.0, 0.0, 0.0, 0.0, 0.0], [0.8045052886009216, 0.04798400402069092, 0.0252620168030262, 0.026415111497044563, 0.0046748933382332325, 0.040337320417165756, 0.0016609671292826533, 0.007467466406524181, 0.011365712620317936, 0.014015467837452888, 0.01631174609065056, 0.0, 0.0, 0.0, 0.0, 0.0, 0.0, 0.0, 0.0, 0.0, 0.0, 0.0, 0.0, 0.0, 0.0, 0.0, 0.0, 0.0, 0.0, 0.0, 0.0, 0.0], [0.5010560154914856, 0.17769891023635864, 0.06217370182275772, 0.06270216405391693, 0.026934579014778137, 0.03009111061692238, 0.009385835379362106, 0.017851753160357475, 0.02094927430152893, 0.022826794534921646, 0.02822791039943695, 0.040101855993270874, 0.0, 0.0, 0.0, 0.0, 0.0, 0.0, 0.0, 0.0, 0.0, 0.0, 0.0, 0.0, 0.0, 0.0, 0.0, 0.0, 0.0, 0.0, 0.0, 0.0], [0.5277490019798279, 0.06021557375788689, 0.05159187689423561, 0.03128068521618843, 0.031232545152306557, 0.04328615218400955, 0.02891954593360424, 0.02349620684981346, 0.04569442570209503, 0.03707863762974739, 0.03316330164670944, 0.023427069187164307, 0.06286504864692688, 0.0, 0.0, 0.0, 0.0, 0.0, 0.0, 0.0, 0.0, 0.0, 0.0, 0.0, 0.0, 0.0, 0.0, 0.0, 0.0, 0.0, 0.0, 0.0], [0.8108289837837219, 0.03913071006536484, 0.018572796136140823, 0.01514940895140171, 0.014617932960391045, 0.01478306669741869, 0.0037516974844038486, 0.011381798423826694, 0.008034884929656982, 0.008650264702737331, 0.005368777085095644, 0.0028729375917464495, 0.018067732453346252, 0.028788913041353226, 0.0, 0.0, 0.0, 0.0, 0.0, 0.0, 0.0, 0.0, 0.0, 0.0, 0.0, 0.0, 0.0, 0.0, 0.0, 0.0, 0.0, 0.0], [0.24009749293327332, 0.11525288969278336, 0.045340847223997116, 0.04378246143460274, 0.0664331242442131, 0.011311541311442852, 0.0358724519610405, 0.05913003161549568, 0.09810692816972733, 0.07395371049642563, 0.053504474461078644, 0.0246222335845232, 0.0392397940158844, 0.004168043378740549, 0.08918394148349762, 0.0, 0.0, 0.0, 0.0, 0.0, 0.0, 0.0, 0.0, 0.0, 0.0, 0.0, 0.0, 0.0, 0.0, 0.0, 0.0, 0.0], [0.7515540719032288, 0.042045958340168, 0.014303717762231827, 0.009787521325051785, 0.012394960969686508, 0.010526175610721111, 0.003537067212164402, 0.01112927682697773, 0.032365888357162476, 0.020721863955259323, 0.008714613504707813, 0.003143635578453541, 0.0064690206199884415, 0.0075690229423344135, 0.049597982317209244, 0.01613921858370304, 0.0, 0.0, 0.0, 0.0, 0.0, 0.0, 0.0, 0.0, 0.0, 0.0, 0.0, 0.0, 0.0, 0.0, 0.0, 0.0], [0.309232234954834, 0.30544671416282654, 0.028771046549081802, 0.021213985979557037, 0.039138756692409515, 0.009231269359588623, 0.010142684914171696, 0.01691531203687191, 0.03357727825641632, 0.051048725843429565, 0.027233868837356567, 0.004966218024492264, 0.028791017830371857, 0.017076432704925537, 0.016253851354122162, 0.02196154184639454, 0.05899912863969803, 0.0, 0.0, 0.0, 0.0, 0.0, 0.0, 0.0, 0.0, 0.0, 0.0, 0.0, 0.0, 0.0, 0.0, 0.0], [0.3816082179546356, 0.09483574330806732, 0.02725292555987835, 0.04060836881399155, 0.03468725457787514, 0.010583736933767796, 0.014705812558531761, 0.017821842804551125, 0.03500216081738472, 0.05547036975622177, 0.03746343404054642, 0.0068007055670022964, 0.030109932646155357, 0.017490185797214508, 0.0831671953201294, 0.02474583499133587, 0.06326513737440109, 0.024381162598729134, 0.0, 0.0, 0.0, 0.0, 0.0, 0.0, 0.0, 0.0, 0.0, 0.0, 0.0, 0.0, 0.0, 0.0], [0.2415900081396103, 0.02418970875442028, 0.09129870682954788, 0.04251392185688019, 0.052205316722393036, 0.03795195370912552, 0.03222021833062172, 0.01973549835383892, 0.05488898977637291, 0.03606652468442917, 0.04317318648099899, 0.039940245449543, 0.039380867034196854, 0.010395661927759647, 0.10872281342744827, 0.030138101428747177, 0.03581111878156662, 0.046793196350336075, 0.012983923777937889, 0.0, 0.0, 0.0, 0.0, 0.0, 0.0, 0.0, 0.0, 0.0, 0.0, 0.0, 0.0, 0.0], [0.5527023673057556, 0.05517301708459854, 0.03282106667757034, 0.04444181174039841, 0.023025738075375557, 0.007863612845540047, 0.017370648682117462, 0.03240220621228218, 0.01971946656703949, 0.06609630584716797, 0.01829579658806324, 0.018373869359493256, 0.01178271509706974, 0.0008650423842482269, 0.020108168944716454, 0.016843101009726524, 0.01254130806773901, 0.011736320331692696, 0.00040920788887888193, 0.03742825239896774, 0.0, 0.0, 0.0, 0.0, 0.0, 0.0, 0.0, 0.0, 0.0, 0.0, 0.0, 0.0], [0.5067295432090759, 0.014765244908630848, 0.06961148977279663, 0.021995745599269867, 0.02460796944797039, 0.012486699968576431, 0.020465681329369545, 0.018893592059612274, 0.06283927708864212, 0.043797824531793594, 0.03444540128111839, 0.027268700301647186, 0.012614012695848942, 0.006193260662257671, 0.01836308464407921, 0.01635303720831871, 0.015758059918880463, 0.01200942974537611, 0.0032057976350188255, 0.011578382924199104, 0.046017710119485855, 0.0, 0.0, 0.0, 0.0, 0.0, 0.0, 0.0, 0.0, 0.0, 0.0, 0.0], [0.3119945824146271, 0.09901455789804459, 0.05667629465460777, 0.04765322431921959, 0.044457145035266876, 0.04223601892590523, 0.023748133331537247, 0.08712790906429291, 0.023074425756931305, 0.04107091203331947, 0.036120593547821045, 0.043582137674093246, 0.033318307250738144, 0.001381422858685255, 0.01370005402714014, 0.022483423352241516, 0.0072424812242388725, 0.01957813836634159, 0.0006722175166942179, 0.017516855150461197, 0.012988589704036713, 0.014362463727593422, 0.0, 0.0, 0.0, 0.0, 0.0, 0.0, 0.0, 0.0, 0.0, 0.0], [0.40955084562301636, 0.06371600180864334, 0.01940731890499592, 0.03562859073281288, 0.027969656512141228, 0.011516256257891655, 0.0135135343298316, 0.049330759793519974, 0.01487587857991457, 0.07444340735673904, 0.019848404452204704, 0.023916665464639664, 0.013665944337844849, 0.000753020285628736, 0.015077277086675167, 0.020724575966596603, 0.014873752370476723, 0.009243384934961796, 0.00035063407267443836, 0.04076463356614113, 0.05777280777692795, 0.018120983615517616, 0.04493570327758789, 0.0, 0.0, 0.0, 0.0, 0.0, 0.0, 0.0, 0.0, 0.0], [0.13557490706443787, 0.09216161072254181, 0.00889019388705492, 0.022025883197784424, 0.024420036002993584, 0.029446972534060478, 0.015067750588059425, 0.03458266332745552, 0.06881379336118698, 0.11922994256019592, 0.04406531900167465, 0.006393133196979761, 0.018038155511021614, 0.002519880188629031, 0.003838827833533287, 0.004851215519011021, 0.004702855832874775, 0.004068760201334953, 0.012201502919197083, 0.07044330984354019, 0.11226747184991837, 0.015799181535840034, 0.0787515938282013, 0.07184511423110962, 0.0, 0.0, 0.0, 0.0, 0.0, 0.0, 0.0, 0.0], [0.09693768620491028, 0.0469980463385582, 0.012536141090095043, 0.04445121809840202, 0.018859706819057465, 0.0821518674492836, 0.025908565148711205, 0.03312649950385094, 0.056427352130413055, 0.05583661049604416, 0.03795364871621132, 0.03838272765278816, 0.031926363706588745, 0.004158615134656429, 0.029518358409404755, 0.013833735138177872, 0.030603567138314247, 0.010007739998400211, 0.014456597156822681, 0.06086846813559532, 0.016199856996536255, 0.05192296579480171, 0.035767629742622375, 0.04747025668621063, 0.10369575023651123, 0.0, 0.0, 0.0, 0.0, 0.0, 0.0, 0.0], [0.4769233167171478, 0.05323237553238869, 0.013902077451348305, 0.0432443805038929, 0.009300190955400467, 0.03497690707445145, 0.002394485054537654, 0.021453537046909332, 0.006708522327244282, 0.021559473127126694, 0.020551318302750587, 0.04617573320865631, 0.008434191346168518, 0.001493660849519074, 0.02739001251757145, 0.005678222514688969, 0.006936731748282909, 0.004014989826828241, 0.000979183823801577, 0.026107769459486008, 0.011685819365084171, 0.03896564245223999, 0.020086700096726418, 0.04666760191321373, 0.010261508636176586, 0.040875621140003204, 0.0, 0.0, 0.0, 0.0, 0.0, 0.0], [0.6063437461853027, 0.028211083263158798, 0.010844113305211067, 0.025474367663264275, 0.003156361635774374, 0.018000943586230278, 0.0007451134151779115, 0.00578771997243166, 0.003511561546474695, 0.008218488655984402, 0.008434899151325226, 0.11233217269182205, 0.008511114865541458, 0.00028773045050911605, 0.0406499058008194, 0.004608532413840294, 0.010190016590058804, 0.005049328785389662, 0.00013128385762684047, 0.016275964677333832, 0.00243272609077394, 0.03797832876443863, 0.005429934710264206, 0.009595055133104324, 0.003842319594696164, 0.011105618439614773, 0.012851531617343426, 0.0, 0.0, 0.0, 0.0, 0.0], [0.03627500683069229, 0.056345608085393906, 0.002222242532297969, 0.009196198545396328, 0.0020176356192678213, 0.0026318796444684267, 0.00045314012095332146, 0.0029734312556684017, 0.0007789019146002829, 0.0015486731426790357, 0.002113470109179616, 0.002998883370310068, 0.007925475016236305, 0.0006874575046822429, 0.0018962539033964276, 0.0014095720835030079, 0.004751298576593399, 0.0012216269969940186, 0.0012004774762317538, 0.04401271417737007, 0.0017543964786455035, 0.005769379436969757, 0.7918748259544373, 0.0065594748593866825, 0.0014504509745165706, 0.0021926932968199253, 0.0034874535631388426, 0.004251380451023579, 0.0, 0.0, 0.0, 0.0], [0.46132731437683105, 0.04933036491274834, 0.012307945638895035, 0.028819238767027855, 0.009200037457048893, 0.008943574503064156, 0.0017565989401191473, 0.009515429846942425, 0.008042532950639725, 0.007924542762339115, 0.005598972085863352, 0.00395798496901989, 0.02021930366754532, 0.00896400399506092, 0.039655812084674835, 0.006884072441607714, 0.027150282636284828, 0.005830477457493544, 0.025533709675073624, 0.08388488739728928, 0.019322551786899567, 0.07420415431261063, 0.03533127158880234, 0.01315239816904068, 0.007768300827592611, 0.009026209823787212, 0.007875707000494003, 0.004070185590535402, 0.004402135498821735, 0.0, 0.0, 0.0], [0.3181608319282532, 0.016982004046440125, 0.05606408789753914, 0.03245939686894417, 0.032638583332300186, 0.03482257202267647, 0.007603352423757315, 0.013729553669691086, 0.01695120520889759, 0.011262303218245506, 0.017148125916719437, 0.03093150071799755, 0.030738167464733124, 0.007754793856292963, 0.06491022557020187, 0.012356946244835854, 0.02251267619431019, 0.014951727353036404, 0.0080282436683774, 0.017081450670957565, 0.014202400110661983, 0.06503448635339737, 0.001299798022955656, 0.015817727893590927, 0.016781317070126534, 0.013471166603267193, 0.02560698240995407, 0.027027903124690056, 0.039204806089401245, 0.014465689659118652, 0.0, 0.0], [0.4667683243751526, 0.03515768051147461, 0.013160362839698792, 0.025745222344994545, 0.01022460125386715, 0.00790003314614296, 0.004846818279474974, 0.01872333325445652, 0.00774494931101799, 0.024819400161504745, 0.0066673122346401215, 0.010149001143872738, 0.008318759500980377, 0.0004397225275170058, 0.009904987178742886, 0.007132967934012413, 0.008162405341863632, 0.0042196158319711685, 0.00020558301184792072, 0.025002649053931236, 0.027697311714291573, 0.023837441578507423, 0.014974852092564106, 0.07045121490955353, 0.01619354449212551, 0.051409780979156494, 0.015600218437612057, 0.018842920660972595, 0.013749510049819946, 0.000568424875382334, 0.05138108506798744, 0.0], [0.43141502141952515, 0.00926987174898386, 0.04666973277926445, 0.016330743208527565, 0.016983285546302795, 0.015181898139417171, 0.009320932440459728, 0.01271230261772871, 0.02799556404352188, 0.01794627495110035, 0.015269775874912739, 0.020986324176192284, 0.010198901407420635, 0.005295805167406797, 0.017065715044736862, 0.01062855776399374, 0.013914423994719982, 0.007038050796836615, 0.0024518552236258984, 0.007146695628762245, 0.018836425617337227, 0.048278626054525375, 0.0013161536771804094, 0.034031257033348083, 0.043120771646499634, 0.028239136561751366, 0.026894906535744667, 0.021752923727035522, 0.017808960750699043, 0.004578026477247477, 0.01443228218704462, 0.02688884176313877]], [[1.0, 0.0, 0.0, 0.0, 0.0, 0.0, 0.0, 0.0, 0.0, 0.0, 0.0, 0.0, 0.0, 0.0, 0.0, 0.0, 0.0, 0.0, 0.0, 0.0, 0.0, 0.0, 0.0, 0.0, 0.0, 0.0, 0.0, 0.0, 0.0, 0.0, 0.0, 0.0], [0.601432740688324, 0.398567259311676, 0.0, 0.0, 0.0, 0.0, 0.0, 0.0, 0.0, 0.0, 0.0, 0.0, 0.0, 0.0, 0.0, 0.0, 0.0, 0.0, 0.0, 0.0, 0.0, 0.0, 0.0, 0.0, 0.0, 0.0, 0.0, 0.0, 0.0, 0.0, 0.0, 0.0], [0.20038829743862152, 0.16651412844657898, 0.6330975294113159, 0.0, 0.0, 0.0, 0.0, 0.0, 0.0, 0.0, 0.0, 0.0, 0.0, 0.0, 0.0, 0.0, 0.0, 0.0, 0.0, 0.0, 0.0, 0.0, 0.0, 0.0, 0.0, 0.0, 0.0, 0.0, 0.0, 0.0, 0.0, 0.0], [0.12858986854553223, 0.2981332242488861, 0.09814266115427017, 0.4751341938972473, 0.0, 0.0, 0.0, 0.0, 0.0, 0.0, 0.0, 0.0, 0.0, 0.0, 0.0, 0.0, 0.0, 0.0, 0.0, 0.0, 0.0, 0.0, 0.0, 0.0, 0.0, 0.0, 0.0, 0.0, 0.0, 0.0, 0.0, 0.0], [0.5311858654022217, 0.214739128947258, 0.012567218393087387, 0.18684960901737213, 0.05465817078948021, 0.0, 0.0, 0.0, 0.0, 0.0, 0.0, 0.0, 0.0, 0.0, 0.0, 0.0, 0.0, 0.0, 0.0, 0.0, 0.0, 0.0, 0.0, 0.0, 0.0, 0.0, 0.0, 0.0, 0.0, 0.0, 0.0, 0.0], [0.09020140022039413, 0.027809852734208107, 0.016907960176467896, 0.0286373570561409, 0.07480879873037338, 0.7616347074508667, 0.0, 0.0, 0.0, 0.0, 0.0, 0.0, 0.0, 0.0, 0.0, 0.0, 0.0, 0.0, 0.0, 0.0, 0.0, 0.0, 0.0, 0.0, 0.0, 0.0, 0.0, 0.0, 0.0, 0.0, 0.0, 0.0], [0.020114045590162277, 0.05894245207309723, 0.12920869886875153, 0.1618112176656723, 0.22889938950538635, 0.11035434156656265, 0.29066988825798035, 0.0, 0.0, 0.0, 0.0, 0.0, 0.0, 0.0, 0.0, 0.0, 0.0, 0.0, 0.0, 0.0, 0.0, 0.0, 0.0, 0.0, 0.0, 0.0, 0.0, 0.0, 0.0, 0.0, 0.0, 0.0], [0.6501829624176025, 0.060473378747701645, 0.022724194452166557, 0.07898487895727158, 0.029961971566081047, 0.11947765201330185, 0.00047966610873118043, 0.03771534189581871, 0.0, 0.0, 0.0, 0.0, 0.0, 0.0, 0.0, 0.0, 0.0, 0.0, 0.0, 0.0, 0.0, 0.0, 0.0, 0.0, 0.0, 0.0, 0.0, 0.0, 0.0, 0.0, 0.0, 0.0], [0.7895325422286987, 0.027709543704986572, 0.0008363100932911038, 0.07706276327371597, 0.004545027390122414, 0.02164880745112896, 0.0031088560353964567, 0.03140806034207344, 0.04414800927042961, 0.0, 0.0, 0.0, 0.0, 0.0, 0.0, 0.0, 0.0, 0.0, 0.0, 0.0, 0.0, 0.0, 0.0, 0.0, 0.0, 0.0, 0.0, 0.0, 0.0, 0.0, 0.0, 0.0], [0.6596907377243042, 0.08244168013334274, 0.003206251421943307, 0.14396964013576508, 0.008792277425527573, 0.03252397105097771, 0.0007917209295555949, 0.050540100783109665, 0.008383139967918396, 0.009660448879003525, 0.0, 0.0, 0.0, 0.0, 0.0, 0.0, 0.0, 0.0, 0.0, 0.0, 0.0, 0.0, 0.0, 0.0, 0.0, 0.0, 0.0, 0.0, 0.0, 0.0, 0.0, 0.0], [0.5541903376579285, 0.11156708747148514, 0.012597927823662758, 0.06273383647203445, 0.04433024674654007, 0.011092469096183777, 0.005697138607501984, 0.05460185930132866, 0.04378041252493858, 0.02485114149749279, 0.07455755025148392, 0.0, 0.0, 0.0, 0.0, 0.0, 0.0, 0.0, 0.0, 0.0, 0.0, 0.0, 0.0, 0.0, 0.0, 0.0, 0.0, 0.0, 0.0, 0.0, 0.0, 0.0], [0.08709556609392166, 0.016044287011027336, 0.24029982089996338, 0.003273587441071868, 0.17031283676624298, 0.004499435890465975, 0.014192910864949226, 0.01966814510524273, 0.076125368475914, 0.04134751483798027, 0.07710748165845871, 0.25003305077552795, 0.0, 0.0, 0.0, 0.0, 0.0, 0.0, 0.0, 0.0, 0.0, 0.0, 0.0, 0.0, 0.0, 0.0, 0.0, 0.0, 0.0, 0.0, 0.0, 0.0], [0.38642632961273193, 0.012375456281006336, 0.007106349337846041, 0.008521761745214462, 0.004008799325674772, 0.015749400481581688, 0.0004969791625626385, 0.013774093240499496, 0.023177707567811012, 0.0013364811893552542, 0.003370736725628376, 0.22468595206737518, 0.2989698648452759, 0.0, 0.0, 0.0, 0.0, 0.0, 0.0, 0.0, 0.0, 0.0, 0.0, 0.0, 0.0, 0.0, 0.0, 0.0, 0.0, 0.0, 0.0, 0.0], [0.13694535195827484, 0.036519113928079605, 0.03567153215408325, 0.006475760601460934, 0.017897283658385277, 0.031218599528074265, 0.005374283064156771, 0.04232503101229668, 0.02942037396132946, 0.01513952948153019, 0.011334464885294437, 0.07772877812385559, 0.48204267024993896, 0.07190724462270737, 0.0, 0.0, 0.0, 0.0, 0.0, 0.0, 0.0, 0.0, 0.0, 0.0, 0.0, 0.0, 0.0, 0.0, 0.0, 0.0, 0.0, 0.0], [0.04883371666073799, 0.016765927895903587, 0.20895275473594666, 0.002980586374178529, 0.09854047745466232, 0.025238018482923508, 0.07008445262908936, 0.017153635621070862, 0.10535048693418503, 0.01962920092046261, 0.02718290686607361, 0.026710327714681625, 0.07398592680692673, 0.20389190316200256, 0.054699670523405075, 0.0, 0.0, 0.0, 0.0, 0.0, 0.0, 0.0, 0.0, 0.0, 0.0, 0.0, 0.0, 0.0, 0.0, 0.0, 0.0, 0.0], [0.02993270754814148, 0.004253489896655083, 0.11609579622745514, 0.0015903105959296227, 0.15095284581184387, 0.0026550665497779846, 0.02075745165348053, 0.008083523251116276, 0.05412331223487854, 0.015093736350536346, 0.05680007487535477, 0.024391740560531616, 0.046359047293663025, 0.395828515291214, 0.007308134809136391, 0.06577415764331818, 0.0, 0.0, 0.0, 0.0, 0.0, 0.0, 0.0, 0.0, 0.0, 0.0, 0.0, 0.0, 0.0, 0.0, 0.0, 0.0], [0.12552335858345032, 0.004958110861480236, 0.12128620594739914, 0.008545909076929092, 0.1148262768983841, 0.0038043807726353407, 0.029253486543893814, 0.014470328576862812, 0.048221852630376816, 0.013141321018338203, 0.028676729649305344, 0.019364558160305023, 0.046684630215168, 0.2110396921634674, 0.02382049337029457, 0.10993344336748123, 0.07644926011562347, 0.0, 0.0, 0.0, 0.0, 0.0, 0.0, 0.0, 0.0, 0.0, 0.0, 0.0, 0.0, 0.0, 0.0, 0.0], [0.043524082750082016, 0.005579174030572176, 0.15194548666477203, 0.002700279699638486, 0.12214379757642746, 0.001383465132676065, 0.024834157899022102, 0.015182062052190304, 0.07872190326452255, 0.0512964203953743, 0.058943845331668854, 0.012615572661161423, 0.03405974060297012, 0.2093239724636078, 0.006314488593488932, 0.0366860069334507, 0.011843889951705933, 0.1329016238451004, 0.0, 0.0, 0.0, 0.0, 0.0, 0.0, 0.0, 0.0, 0.0, 0.0, 0.0, 0.0, 0.0, 0.0], [0.42200300097465515, 0.02697102352976799, 0.016016274690628052, 0.006962704472243786, 0.01842113956809044, 0.007691133301705122, 0.002496870467439294, 0.025508463382720947, 0.04928191378712654, 0.017309142276644707, 0.034080442041158676, 0.043458469212055206, 0.07121089845895767, 0.009133987128734589, 0.06790725886821747, 0.014749501831829548, 0.1111871674656868, 0.042472343891859055, 0.013138254173099995, 0.0, 0.0, 0.0, 0.0, 0.0, 0.0, 0.0, 0.0, 0.0, 0.0, 0.0, 0.0, 0.0], [0.022640611976385117, 0.0031459317542612553, 0.0005697676097042859, 0.003604823723435402, 0.0005572222289629281, 0.0017349402187392116, 1.7430073057767004e-05, 0.0008351246360689402, 0.0002926817105617374, 0.0001975004270207137, 0.00038831401616334915, 0.0007472688448615372, 0.000870788935571909, 0.00017884261615108699, 0.003689667209982872, 0.0004994898336008191, 0.0016593853943049908, 0.00031225706334225833, 9.275534830521792e-05, 0.9579651951789856, 0.0, 0.0, 0.0, 0.0, 0.0, 0.0, 0.0, 0.0, 0.0, 0.0, 0.0, 0.0], [0.3461497724056244, 0.005483540706336498, 0.0004943684907630086, 0.012854688800871372, 0.003367641707882285, 0.010241040959954262, 0.00025987764820456505, 0.0055172862485051155, 0.007474233396351337, 0.001209887326695025, 0.0022483898792415857, 0.005310386884957552, 0.003508057212457061, 0.00039975508116185665, 0.024187244474887848, 0.003973482176661491, 0.035692524164915085, 0.002779858885332942, 0.00031870283419266343, 0.5141057968139648, 0.01442344207316637, 0.0, 0.0, 0.0, 0.0, 0.0, 0.0, 0.0, 0.0, 0.0, 0.0, 0.0], [0.05680475011467934, 0.021273480728268623, 0.09154808521270752, 0.00555306626483798, 0.18160685896873474, 0.0027458190452307463, 0.05258314684033394, 0.013140133582055569, 0.03682931885123253, 0.046523042023181915, 0.0610872283577919, 0.022426992654800415, 0.027783039957284927, 0.11620383709669113, 0.0015549754025414586, 0.006048618815839291, 0.0006028807838447392, 0.011220540851354599, 0.11922740191221237, 0.006125807296484709, 0.1076183095574379, 0.011492764577269554, 0.0, 0.0, 0.0, 0.0, 0.0, 0.0, 0.0, 0.0, 0.0, 0.0], [0.027121221646666527, 0.0248427651822567, 0.0011734252329915762, 0.01598983071744442, 0.0030815014615654945, 0.017371036112308502, 0.0004535629996098578, 0.00506593519821763, 0.0011434211628511548, 0.0013172079343348742, 0.0009702618699520826, 0.0042761401273310184, 0.0026798490434885025, 0.0005638521979562938, 0.003211123635992408, 0.0009286804124712944, 0.002020694548264146, 0.0011927898740395904, 0.0003699360531754792, 0.3954586386680603, 0.011892806738615036, 0.012224440462887287, 0.46665090322494507, 0.0, 0.0, 0.0, 0.0, 0.0, 0.0, 0.0, 0.0, 0.0], [0.0751364529132843, 0.003306247293949127, 7.413129060296342e-05, 0.003845576662570238, 0.00046727765584364533, 0.0021748694125562906, 3.1049321478349157e-06, 0.0014550263294950128, 5.7916815421776846e-05, 6.294681952567771e-05, 3.393181395949796e-05, 0.00019058372708968818, 8.282445196527988e-05, 1.1430716767790727e-05, 0.0025726009625941515, 9.257039346266538e-05, 0.0014321759808808565, 4.8832185711944476e-05, 1.227003667736426e-05, 0.5330359935760498, 9.810849587665871e-05, 0.0016864216886460781, 0.3641558289527893, 0.009962866082787514, 0.0, 0.0, 0.0, 0.0, 0.0, 0.0, 0.0, 0.0], [0.07110735028982162, 0.002030367497354746, 1.131521821662318e-05, 0.0059763905592262745, 0.00016781032900325954, 0.0012813815847039223, 6.282747199293226e-05, 0.001772503019310534, 0.0008051436161622405, 7.33041888452135e-05, 9.487769420957193e-05, 0.00023342827626038343, 0.000343333522323519, 9.283930921810679e-06, 0.005529793445020914, 0.00024195978767238557, 0.0019302652217447758, 6.02273503318429e-05, 8.847912795317825e-06, 0.6891705989837646, 2.6123036150238477e-05, 0.0010423397179692984, 0.20919585227966309, 0.005678265821188688, 0.0031465294305235147, 0.0, 0.0, 0.0, 0.0, 0.0, 0.0, 0.0], [0.05870528519153595, 0.004121133126318455, 6.710977322654799e-05, 0.008469618856906891, 0.00041104722185991704, 0.0019331551156938076, 3.72635513485875e-05, 0.0025610376615077257, 0.00015881664876360446, 0.0002824690018314868, 0.0001238653640029952, 0.0014588908525183797, 0.0011278489837422967, 1.8163384083891287e-05, 0.017064403742551804, 0.00048205905477516353, 0.0069121611304581165, 0.00036513039958663285, 2.913216121669393e-05, 0.5905221700668335, 3.3688516850816086e-05, 0.004651469644159079, 0.2927442491054535, 0.0064916471019387245, 0.000599776569288224, 0.0006283560651354492, 0.0, 0.0, 0.0, 0.0, 0.0, 0.0], [0.16603992879390717, 0.018140563741326332, 0.0012479900615289807, 0.011706715449690819, 0.007702757138758898, 0.0017673418624326587, 0.0009985615033656359, 0.009239347651600838, 0.0038029346615076065, 0.002623969689011574, 0.006712655071169138, 0.021198326721787453, 0.007911927066743374, 0.00044939553481526673, 0.03671758621931076, 0.0033757826313376427, 0.011979516595602036, 0.0038418350741267204, 0.0006109045934863389, 0.39872777462005615, 0.001526587293483317, 0.01012504007667303, 0.20364277064800262, 0.032984018325805664, 0.014387920498847961, 0.006128918845206499, 0.01640891842544079, 0.0, 0.0, 0.0, 0.0, 0.0], [0.16968750953674316, 0.00471227103844285, 0.038217805325984955, 0.0017804711824283004, 0.07365497946739197, 0.0004544680705294013, 0.0021269209682941437, 0.004617774859070778, 0.00646577775478363, 0.005507057067006826, 0.02089652232825756, 0.12552525103092194, 0.021991433575749397, 0.04401150345802307, 0.008191265165805817, 0.016407525166869164, 0.010179456323385239, 0.02964692935347557, 0.045645445585250854, 0.011018753051757812, 0.0173431895673275, 0.004145076498389244, 0.0025010909885168076, 0.017824988812208176, 0.020547717809677124, 0.014023441821336746, 0.05054707080125809, 0.23232822120189667, 0.0, 0.0, 0.0, 0.0], [0.049772996455430984, 0.004980533383786678, 0.05713878199458122, 0.000770094629842788, 0.06297151744365692, 0.0002858394291251898, 0.0060963756404817104, 0.006125716492533684, 0.015284198336303234, 0.011371957138180733, 0.026286093518137932, 0.04003973305225372, 0.021524686366319656, 0.12735848128795624, 0.004329502582550049, 0.015070216730237007, 0.00835465919226408, 0.041256748139858246, 0.1525508165359497, 0.0008361402433365583, 0.02275775745511055, 0.012028541415929794, 0.0011740849586203694, 0.01368549931794405, 0.033709775656461716, 0.024270113557577133, 0.07064949721097946, 0.0966634526848793, 0.07265610992908478, 0.0, 0.0, 0.0], [0.26801586151123047, 0.01698237843811512, 0.00789057556539774, 0.0020391943398863077, 0.011172102764248848, 0.004038941115140915, 0.001389313256368041, 0.01089170016348362, 0.011821774765849113, 0.005880104843527079, 0.014743061736226082, 0.08645139634609222, 0.059510406106710434, 0.008116990327835083, 0.04489791765809059, 0.007658212445676327, 0.059270229190588, 0.01953110471367836, 0.011672602966427803, 0.01136622205376625, 0.008630909025669098, 0.050018057227134705, 0.005069059319794178, 0.014773399569094181, 0.021270986646413803, 0.010837665759027004, 0.030211806297302246, 0.04232621565461159, 0.10912728309631348, 0.04439452663064003, 0.0, 0.0], [0.008066094480454922, 0.0008805482648313046, 0.00011588997585931793, 0.0006305754650384188, 0.00011884624836966395, 0.0004782105388585478, 2.0215347831253894e-06, 0.00020902531105093658, 4.041801003040746e-05, 3.211427974747494e-05, 6.135126750450581e-05, 0.00030937461997382343, 0.000308495742501691, 5.42529123777058e-05, 0.0011929667089134455, 0.00012185888044768944, 0.00060018349904567, 6.362461135722697e-05, 2.6689185688155703e-05, 0.3102836012840271, 0.0012670502765104175, 0.0007993960753083229, 0.010760743170976639, 0.0015097535215318203, 0.00015109209925867617, 6.076652425690554e-05, 0.00011898573575308546, 0.001530116074718535, 0.0002303163055330515, 7.804465712979436e-05, 0.6598975658416748, 0.0], [0.2445094734430313, 0.0030812493059784174, 0.00031198200304061174, 0.0050460658967494965, 0.001759858918376267, 0.007196663413196802, 0.00012858260015491396, 0.0027238987386226654, 0.0025294837541878223, 0.0004576598294079304, 0.0007765920599922538, 0.0042104520834982395, 0.0030156990978866816, 0.0003183234657626599, 0.015290130861103535, 0.002248094417154789, 0.024623656645417213, 0.0012792664347216487, 0.00020342065545264632, 0.2183210253715515, 0.006373865529894829, 0.012329359538853168, 0.01359084527939558, 0.009651998989284039, 0.0052021825686097145, 0.0006352916825562716, 0.0013626859290525317, 0.005019310861825943, 0.0029881857335567474, 0.00040128070395439863, 0.391351580619812, 0.013061820529401302]], [[1.0, 0.0, 0.0, 0.0, 0.0, 0.0, 0.0, 0.0, 0.0, 0.0, 0.0, 0.0, 0.0, 0.0, 0.0, 0.0, 0.0, 0.0, 0.0, 0.0, 0.0, 0.0, 0.0, 0.0, 0.0, 0.0, 0.0, 0.0, 0.0, 0.0, 0.0, 0.0], [0.40846627950668335, 0.5915337204933167, 0.0, 0.0, 0.0, 0.0, 0.0, 0.0, 0.0, 0.0, 0.0, 0.0, 0.0, 0.0, 0.0, 0.0, 0.0, 0.0, 0.0, 0.0, 0.0, 0.0, 0.0, 0.0, 0.0, 0.0, 0.0, 0.0, 0.0, 0.0, 0.0, 0.0], [0.4328307509422302, 0.3957368731498718, 0.1714322865009308, 0.0, 0.0, 0.0, 0.0, 0.0, 0.0, 0.0, 0.0, 0.0, 0.0, 0.0, 0.0, 0.0, 0.0, 0.0, 0.0, 0.0, 0.0, 0.0, 0.0, 0.0, 0.0, 0.0, 0.0, 0.0, 0.0, 0.0, 0.0, 0.0], [0.5658494830131531, 0.30984121561050415, 0.06650805473327637, 0.05780122056603432, 0.0, 0.0, 0.0, 0.0, 0.0, 0.0, 0.0, 0.0, 0.0, 0.0, 0.0, 0.0, 0.0, 0.0, 0.0, 0.0, 0.0, 0.0, 0.0, 0.0, 0.0, 0.0, 0.0, 0.0, 0.0, 0.0, 0.0, 0.0], [0.32958582043647766, 0.3291608989238739, 0.07736247777938843, 0.08531300723552704, 0.17857778072357178, 0.0, 0.0, 0.0, 0.0, 0.0, 0.0, 0.0, 0.0, 0.0, 0.0, 0.0, 0.0, 0.0, 0.0, 0.0, 0.0, 0.0, 0.0, 0.0, 0.0, 0.0, 0.0, 0.0, 0.0, 0.0, 0.0, 0.0], [0.29362261295318604, 0.21800757944583893, 0.11865010857582092, 0.045439790934324265, 0.29547813534736633, 0.02880171872675419, 0.0, 0.0, 0.0, 0.0, 0.0, 0.0, 0.0, 0.0, 0.0, 0.0, 0.0, 0.0, 0.0, 0.0, 0.0, 0.0, 0.0, 0.0, 0.0, 0.0, 0.0, 0.0, 0.0, 0.0, 0.0, 0.0], [0.4618198871612549, 0.25745105743408203, 0.0440935380756855, 0.05529627203941345, 0.05496378242969513, 0.04368450865149498, 0.0826910212635994, 0.0, 0.0, 0.0, 0.0, 0.0, 0.0, 0.0, 0.0, 0.0, 0.0, 0.0, 0.0, 0.0, 0.0, 0.0, 0.0, 0.0, 0.0, 0.0, 0.0, 0.0, 0.0, 0.0, 0.0, 0.0], [0.3575729429721832, 0.05968494340777397, 0.09850981831550598, 0.01701158657670021, 0.19096076488494873, 0.056369271129369736, 0.18002940714359283, 0.03986126929521561, 0.0, 0.0, 0.0, 0.0, 0.0, 0.0, 0.0, 0.0, 0.0, 0.0, 0.0, 0.0, 0.0, 0.0, 0.0, 0.0, 0.0, 0.0, 0.0, 0.0, 0.0, 0.0, 0.0, 0.0], [0.5839278101921082, 0.1798172891139984, 0.032518163323402405, 0.013543782755732536, 0.050686441361904144, 0.029914256185293198, 0.006524030119180679, 0.05075652897357941, 0.05231165885925293, 0.0, 0.0, 0.0, 0.0, 0.0, 0.0, 0.0, 0.0, 0.0, 0.0, 0.0, 0.0, 0.0, 0.0, 0.0, 0.0, 0.0, 0.0, 0.0, 0.0, 0.0, 0.0, 0.0], [0.2286800593137741, 0.24847713112831116, 0.07261662930250168, 0.050513312220573425, 0.1196342334151268, 0.05200372636318207, 0.06074296683073044, 0.04247244819998741, 0.05254151299595833, 0.07231789827346802, 0.0, 0.0, 0.0, 0.0, 0.0, 0.0, 0.0, 0.0, 0.0, 0.0, 0.0, 0.0, 0.0, 0.0, 0.0, 0.0, 0.0, 0.0, 0.0, 0.0, 0.0, 0.0], [0.40367722511291504, 0.23070013523101807, 0.047840505838394165, 0.016984783113002777, 0.07709988951683044, 0.03248369321227074, 0.015560664236545563, 0.02725052647292614, 0.03136909753084183, 0.05036153271794319, 0.0666719302535057, 0.0, 0.0, 0.0, 0.0, 0.0, 0.0, 0.0, 0.0, 0.0, 0.0, 0.0, 0.0, 0.0, 0.0, 0.0, 0.0, 0.0, 0.0, 0.0, 0.0, 0.0], [0.7239344716072083, 0.07708733528852463, 0.04149444401264191, 0.007151497062295675, 0.04666408896446228, 0.027044644579291344, 0.005678648594766855, 0.013338323682546616, 0.015513860620558262, 0.01966230385005474, 0.013376124203205109, 0.009054304100573063, 0.0, 0.0, 0.0, 0.0, 0.0, 0.0, 0.0, 0.0, 0.0, 0.0, 0.0, 0.0, 0.0, 0.0, 0.0, 0.0, 0.0, 0.0, 0.0, 0.0], [0.889397919178009, 0.028760654851794243, 0.012436976656317711, 0.005367370788007975, 0.013094644993543625, 0.019251706078648567, 0.0033790492452681065, 0.003889315528795123, 0.0030383614357560873, 0.002873476594686508, 0.001680824556387961, 0.0017760293558239937, 0.01505383849143982, 0.0, 0.0, 0.0, 0.0, 0.0, 0.0, 0.0, 0.0, 0.0, 0.0, 0.0, 0.0, 0.0, 0.0, 0.0, 0.0, 0.0, 0.0, 0.0], [0.6150133013725281, 0.14700470864772797, 0.03906198963522911, 0.013938252814114094, 0.025948410853743553, 0.021001137793064117, 0.011471336707472801, 0.009419956244528294, 0.011283434927463531, 0.016986364498734474, 0.010568318888545036, 0.01943953149020672, 0.04782626032829285, 0.011036979965865612, 0.0, 0.0, 0.0, 0.0, 0.0, 0.0, 0.0, 0.0, 0.0, 0.0, 0.0, 0.0, 0.0, 0.0, 0.0, 0.0, 0.0, 0.0], [0.5940761566162109, 0.034774959087371826, 0.0030593660194426775, 0.02213612012565136, 0.003843278158456087, 0.05886106938123703, 0.0010515443282201886, 0.009697651490569115, 0.012341262772679329, 0.001905045355670154, 0.0006091443356126547, 0.007160416338592768, 0.054644398391246796, 0.00019176426576450467, 0.19564786553382874, 0.0, 0.0, 0.0, 0.0, 0.0, 0.0, 0.0, 0.0, 0.0, 0.0, 0.0, 0.0, 0.0, 0.0, 0.0, 0.0, 0.0], [0.4779098331928253, 0.07305936515331268, 0.018448013812303543, 0.018651265650987625, 0.02645411714911461, 0.0890810489654541, 0.004279341548681259, 0.015830958262085915, 0.017527960240840912, 0.019084837287664413, 0.007366027683019638, 0.016630154103040695, 0.036923572421073914, 0.003442678600549698, 0.09317345917224884, 0.08213736861944199, 0.0, 0.0, 0.0, 0.0, 0.0, 0.0, 0.0, 0.0, 0.0, 0.0, 0.0, 0.0, 0.0, 0.0, 0.0, 0.0], [0.23169007897377014, 0.04170245677232742, 0.05826672911643982, 0.022539597004652023, 0.0699073001742363, 0.07998714596033096, 0.007206633687019348, 0.021300362423062325, 0.02301419898867607, 0.022031981498003006, 0.00942923128604889, 0.012808329425752163, 0.06177394464612007, 0.0801619365811348, 0.09443162381649017, 0.07009881734848022, 0.09364955872297287, 0.0, 0.0, 0.0, 0.0, 0.0, 0.0, 0.0, 0.0, 0.0, 0.0, 0.0, 0.0, 0.0, 0.0, 0.0], [0.581060528755188, 0.04265983775258064, 0.03945845365524292, 0.005098738707602024, 0.06350777298212051, 0.03782368823885918, 0.010521134361624718, 0.010073252953588963, 0.024927832186222076, 0.03977507725358009, 0.019002636894583702, 0.004997602663934231, 0.037895284593105316, 0.00901179388165474, 0.011477682739496231, 0.020289631560444832, 0.022729942575097084, 0.019689058884978294, 0.0, 0.0, 0.0, 0.0, 0.0, 0.0, 0.0, 0.0, 0.0, 0.0, 0.0, 0.0, 0.0, 0.0], [0.5281687378883362, 0.1107044517993927, 0.03181029483675957, 0.0129185039550066, 0.03621997684240341, 0.02835666760802269, 0.0069186012260615826, 0.014243378303945065, 0.015440516173839569, 0.0225522518157959, 0.017038801684975624, 0.009415509179234505, 0.04949573054909706, 0.010189278051257133, 0.025727419182658195, 0.024327274411916733, 0.018812568858265877, 0.014390372671186924, 0.023269744589924812, 0.0, 0.0, 0.0, 0.0, 0.0, 0.0, 0.0, 0.0, 0.0, 0.0, 0.0, 0.0, 0.0], [0.6107320189476013, 0.06528318673372269, 0.012018389999866486, 0.01065283827483654, 0.007281424477696419, 0.046469174325466156, 0.003729061456397176, 0.006451679393649101, 0.009977972134947777, 0.0046950154937803745, 0.003107234137132764, 0.009606467559933662, 0.02769911289215088, 0.0016956728650256991, 0.025448283180594444, 0.013769438490271568, 0.01567409187555313, 0.008179206401109695, 0.002048831433057785, 0.11548097431659698, 0.0, 0.0, 0.0, 0.0, 0.0, 0.0, 0.0, 0.0, 0.0, 0.0, 0.0, 0.0], [0.5235276818275452, 0.09391647577285767, 0.024881061166524887, 0.01922236569225788, 0.01771591603755951, 0.01679093763232231, 0.009577831253409386, 0.004783719312399626, 0.004660594277083874, 0.006463917437940836, 0.005222525913268328, 0.007824903354048729, 0.023560194298624992, 0.011316747404634953, 0.03811538964509964, 0.016753043979406357, 0.01203253772109747, 0.004328238312155008, 0.008739526383578777, 0.07685632258653641, 0.07371001690626144, 0.0, 0.0, 0.0, 0.0, 0.0, 0.0, 0.0, 0.0, 0.0, 0.0, 0.0], [0.3689897358417511, 0.1595829725265503, 0.03159305080771446, 0.03469829633831978, 0.015240948647260666, 0.03148747608065605, 0.018289990723133087, 0.0185743048787117, 0.0072232638485729694, 0.011485938914120197, 0.0029520303942263126, 0.0070226164534688, 0.03431402146816254, 0.0006409255438484251, 0.012288580648601055, 0.02857905440032482, 0.030759138986468315, 0.01701410487294197, 0.00045922581921331584, 0.031723782420158386, 0.040728550404310226, 0.09635201841592789, 0.0, 0.0, 0.0, 0.0, 0.0, 0.0, 0.0, 0.0, 0.0, 0.0], [0.5076150894165039, 0.03476640209555626, 0.005933653563261032, 0.017801471054553986, 0.008933352306485176, 0.05606948956847191, 0.0026047269348055124, 0.018277479335665703, 0.011184575036168098, 0.0016817267751321197, 0.0007928305421955884, 0.0030503892339766026, 0.024013692513108253, 0.0031275523360818624, 0.008485465310513973, 0.004736729897558689, 0.009786519221961498, 0.002823882270604372, 0.0062955874018371105, 0.06244157254695892, 0.017291350290179253, 0.02856302447617054, 0.16372355818748474, 0.0, 0.0, 0.0, 0.0, 0.0, 0.0, 0.0, 0.0, 0.0], [0.11884939670562744, 0.027938172221183777, 0.0379946269094944, 0.019933510571718216, 0.045838844031095505, 0.10383090376853943, 0.07143913209438324, 0.012079215608537197, 0.06434077769517899, 0.07625051587820053, 0.019625116139650345, 0.004061434417963028, 0.006279285531491041, 0.0027734036557376385, 0.006825583986938, 0.007907605729997158, 0.007627444341778755, 0.01080539170652628, 0.0008148233755491674, 0.00604958925396204, 0.20246873795986176, 0.02780943363904953, 0.028746798634529114, 0.08971019089221954, 0.0, 0.0, 0.0, 0.0, 0.0, 0.0, 0.0, 0.0], [0.3788397014141083, 0.07404877245426178, 0.011620509438216686, 0.011165820993483067, 0.01709912344813347, 0.05818073824048042, 0.0030902321450412273, 0.02278601936995983, 0.02246139757335186, 0.01590128242969513, 0.003763603512197733, 0.007895000278949738, 0.014217120595276356, 0.0015405326848849654, 0.013005140237510204, 0.00868088286370039, 0.01971842348575592, 0.006611467804759741, 0.0005479178507812321, 0.039419986307621, 0.021906496956944466, 0.04335435479879379, 0.06788704544305801, 0.08521158993244171, 0.05104688182473183, 0.0, 0.0, 0.0, 0.0, 0.0, 0.0, 0.0], [0.07626568526029587, 0.07990147918462753, 0.025201674550771713, 0.0341067910194397, 0.05360282585024834, 0.05702674016356468, 0.031458381563425064, 0.019985126331448555, 0.016973396763205528, 0.017635298892855644, 0.011981953866779804, 0.011726250872015953, 0.047451600432395935, 0.01338470634073019, 0.018970049917697906, 0.019993579015135765, 0.013915801420807838, 0.011966297402977943, 0.006167284213006496, 0.028750134631991386, 0.08638501912355423, 0.11997710168361664, 0.0650375634431839, 0.05749204009771347, 0.03538685664534569, 0.03925638645887375, 0.0, 0.0, 0.0, 0.0, 0.0, 0.0], [0.16463197767734528, 0.11900763213634491, 0.023980198428034782, 0.016335539519786835, 0.04842042177915573, 0.041792843490839005, 0.01091017760336399, 0.015690628439188004, 0.011764224618673325, 0.014725075103342533, 0.013290994800627232, 0.039648447185754776, 0.04688075929880142, 0.016115296632051468, 0.031226743012666702, 0.013724748976528645, 0.0187211986631155, 0.013627140782773495, 0.007645444944500923, 0.034016337245702744, 0.05598461255431175, 0.08324618637561798, 0.056987129151821136, 0.03844079002737999, 0.018369466066360474, 0.02350790426135063, 0.02130809985101223, 0.0, 0.0, 0.0, 0.0, 0.0], [0.1668902039527893, 0.0677710697054863, 0.05124461650848389, 0.016230350360274315, 0.06529954075813293, 0.026158161461353302, 0.01683877594769001, 0.013948364183306694, 0.00822369009256363, 0.017560284584760666, 0.00883923377841711, 0.004968132823705673, 0.04153323546051979, 0.018363704904913902, 0.013607829809188843, 0.013058478012681007, 0.011107288300991058, 0.011325225234031677, 0.016512226313352585, 0.03603151813149452, 0.12184154242277145, 0.0830172449350357, 0.05368304252624512, 0.032515525817871094, 0.01627422869205475, 0.028430704027414322, 0.015422273427248001, 0.023303521797060966, 0.0, 0.0, 0.0, 0.0], [0.7142623066902161, 0.031371109187603, 0.014778113923966885, 0.003695681458339095, 0.023553093895316124, 0.012541205622255802, 0.004167607985436916, 0.0042476044036448, 0.004512092098593712, 0.005966009106487036, 0.0039155143313109875, 0.0012131299590691924, 0.026037244126200676, 0.0027462493162602186, 0.0027456101961433887, 0.0036728589329868555, 0.0023594899103045464, 0.002290193922817707, 0.003978214226663113, 0.014902527444064617, 0.027404066175222397, 0.03647145256400108, 0.018979372456669807, 0.011654446832835674, 0.007084876298904419, 0.004908170085400343, 0.00399702088907361, 0.002607799833640456, 0.003936867695301771, 0.0, 0.0, 0.0], [0.39925476908683777, 0.05064240097999573, 0.011808455921709538, 0.009305407293140888, 0.017208652570843697, 0.01625681482255459, 0.0035724532790482044, 0.010053545236587524, 0.005835316143929958, 0.006522859446704388, 0.004609459079802036, 0.0032712279353290796, 0.027239004150032997, 0.0056830840185284615, 0.011077244766056538, 0.006350519135594368, 0.004769384395331144, 0.0031933330465108156, 0.010516188107430935, 0.11152349412441254, 0.04902096092700958, 0.08326288312673569, 0.07397353649139404, 0.018262863159179688, 0.009342014789581299, 0.006027497351169586, 0.005197239574044943, 0.006025991402566433, 0.006575915962457657, 0.023617440834641457, 0.0, 0.0], [0.5539246201515198, 0.03182081878185272, 0.005181403364986181, 0.006524203345179558, 0.0035700760781764984, 0.023212814703583717, 0.0013954503228887916, 0.0033536257687956095, 0.0036920644342899323, 0.001423635520040989, 0.0009272824390791357, 0.0031219429802149534, 0.01611137203872204, 0.000986834755167365, 0.010722308419644833, 0.0052366009913384914, 0.006226341240108013, 0.002566687297075987, 0.0011803579982370138, 0.05900772288441658, 0.012507067993283272, 0.06210789829492569, 0.04433434084057808, 0.009244644083082676, 0.008315658196806908, 0.0016580702504143119, 0.0012173829600214958, 0.004074286203831434, 0.007558207958936691, 0.0023735894355922937, 0.10642271488904953, 0.0], [0.3947283625602722, 0.04003274440765381, 0.007900201715528965, 0.00906161218881607, 0.007609293796122074, 0.010264882817864418, 0.0030615143477916718, 0.0028772924561053514, 0.0016914431471377611, 0.0017785108648240566, 0.001080185640603304, 0.002655654214322567, 0.01262925285845995, 0.005948054138571024, 0.020772716030478477, 0.005235264077782631, 0.005056554451584816, 0.0012349720345810056, 0.005575376097112894, 0.04086523503065109, 0.021889835596084595, 0.16102594137191772, 0.04531633481383324, 0.007356077432632446, 0.004608436021953821, 0.0025623783003538847, 0.0019048581598326564, 0.005728250835090876, 0.006310827098786831, 0.01606648415327072, 0.09605804830789566, 0.05111321806907654]], [[1.0, 0.0, 0.0, 0.0, 0.0, 0.0, 0.0, 0.0, 0.0, 0.0, 0.0, 0.0, 0.0, 0.0, 0.0, 0.0, 0.0, 0.0, 0.0, 0.0, 0.0, 0.0, 0.0, 0.0, 0.0, 0.0, 0.0, 0.0, 0.0, 0.0, 0.0, 0.0], [0.9386780261993408, 0.06132199615240097, 0.0, 0.0, 0.0, 0.0, 0.0, 0.0, 0.0, 0.0, 0.0, 0.0, 0.0, 0.0, 0.0, 0.0, 0.0, 0.0, 0.0, 0.0, 0.0, 0.0, 0.0, 0.0, 0.0, 0.0, 0.0, 0.0, 0.0, 0.0, 0.0, 0.0], [0.9342515468597412, 0.024045327678322792, 0.04170318320393562, 0.0, 0.0, 0.0, 0.0, 0.0, 0.0, 0.0, 0.0, 0.0, 0.0, 0.0, 0.0, 0.0, 0.0, 0.0, 0.0, 0.0, 0.0, 0.0, 0.0, 0.0, 0.0, 0.0, 0.0, 0.0, 0.0, 0.0, 0.0, 0.0], [0.9436221122741699, 0.02420814521610737, 0.0007664254517294466, 0.03140335530042648, 0.0, 0.0, 0.0, 0.0, 0.0, 0.0, 0.0, 0.0, 0.0, 0.0, 0.0, 0.0, 0.0, 0.0, 0.0, 0.0, 0.0, 0.0, 0.0, 0.0, 0.0, 0.0, 0.0, 0.0, 0.0, 0.0, 0.0, 0.0], [0.9855784177780151, 0.008315393701195717, 0.0007500126375816762, 0.001195358345285058, 0.004160784650593996, 0.0, 0.0, 0.0, 0.0, 0.0, 0.0, 0.0, 0.0, 0.0, 0.0, 0.0, 0.0, 0.0, 0.0, 0.0, 0.0, 0.0, 0.0, 0.0, 0.0, 0.0, 0.0, 0.0, 0.0, 0.0, 0.0, 0.0], [0.956812858581543, 0.020079370588064194, 0.0006168034160509706, 0.0024299060460180044, 0.005045825149863958, 0.015015178360044956, 0.0, 0.0, 0.0, 0.0, 0.0, 0.0, 0.0, 0.0, 0.0, 0.0, 0.0, 0.0, 0.0, 0.0, 0.0, 0.0, 0.0, 0.0, 0.0, 0.0, 0.0, 0.0, 0.0, 0.0, 0.0, 0.0], [0.9192488193511963, 0.00451125530526042, 0.004803475458174944, 0.003348900005221367, 0.0034524172078818083, 0.063186414539814, 0.001448723953217268, 0.0, 0.0, 0.0, 0.0, 0.0, 0.0, 0.0, 0.0, 0.0, 0.0, 0.0, 0.0, 0.0, 0.0, 0.0, 0.0, 0.0, 0.0, 0.0, 0.0, 0.0, 0.0, 0.0, 0.0, 0.0], [0.9847152233123779, 0.007456264458596706, 0.005249768495559692, 8.989918569568545e-06, 5.030888132750988e-06, 0.0022457712329924107, 4.185013040114427e-06, 0.00031476913136430085, 0.0, 0.0, 0.0, 0.0, 0.0, 0.0, 0.0, 0.0, 0.0, 0.0, 0.0, 0.0, 0.0, 0.0, 0.0, 0.0, 0.0, 0.0, 0.0, 0.0, 0.0, 0.0, 0.0, 0.0], [0.9622516632080078, 0.01703241467475891, 0.0005807127454318106, 0.00021296224440447986, 0.00010209098400082439, 0.016886109486222267, 3.8649792259093374e-05, 0.0023757133167237043, 0.0005197509308345616, 0.0, 0.0, 0.0, 0.0, 0.0, 0.0, 0.0, 0.0, 0.0, 0.0, 0.0, 0.0, 0.0, 0.0, 0.0, 0.0, 0.0, 0.0, 0.0, 0.0, 0.0, 0.0, 0.0], [0.9897952675819397, 0.008428079076111317, 0.0010184262646362185, 5.941566269029863e-05, 1.3866607332602143e-05, 0.00023385623353533447, 6.464633042924106e-05, 9.468436473980546e-05, 6.66909254505299e-05, 0.00022505376546178013, 0.0, 0.0, 0.0, 0.0, 0.0, 0.0, 0.0, 0.0, 0.0, 0.0, 0.0, 0.0, 0.0, 0.0, 0.0, 0.0, 0.0, 0.0, 0.0, 0.0, 0.0, 0.0], [0.9813442230224609, 0.0036334432661533356, 0.007715399377048016, 0.0001061787479557097, 6.840792775619775e-05, 0.0008669739472679794, 1.5092271496541798e-05, 0.004668994341045618, 4.24060744990129e-05, 0.0001236391835846007, 0.0014153136871755123, 0.0, 0.0, 0.0, 0.0, 0.0, 0.0, 0.0, 0.0, 0.0, 0.0, 0.0, 0.0, 0.0, 0.0, 0.0, 0.0, 0.0, 0.0, 0.0, 0.0, 0.0], [0.9774494767189026, 0.005932540167123079, 0.012141501531004906, 0.0006750471657142043, 0.00021243277296889573, 0.00023504882119596004, 0.0001994696503970772, 0.002506457269191742, 0.0005371536244638264, 1.1557277503015939e-05, 1.5702172504461487e-06, 9.786833834368736e-05, 0.0, 0.0, 0.0, 0.0, 0.0, 0.0, 0.0, 0.0, 0.0, 0.0, 0.0, 0.0, 0.0, 0.0, 0.0, 0.0, 0.0, 0.0, 0.0, 0.0], [0.8848060369491577, 0.006183813791722059, 0.0016367303906008601, 0.0008604329777881503, 0.00018036583787761629, 0.004296742379665375, 0.0003381452988833189, 0.012392503209412098, 0.0014979093102738261, 0.0009557745652273297, 4.429194814292714e-05, 0.00011829503637272865, 0.08668900281190872, 0.0, 0.0, 0.0, 0.0, 0.0, 0.0, 0.0, 0.0, 0.0, 0.0, 0.0, 0.0, 0.0, 0.0, 0.0, 0.0, 0.0, 0.0, 0.0], [0.912982165813446, 0.0034953767899423838, 0.004075934644788504, 0.005324405152350664, 0.000685433333273977, 0.0009363158023916185, 0.0007882427307777107, 0.055862393230199814, 1.1916431503777858e-05, 5.022390541853383e-05, 8.561860340705607e-06, 0.00043183815432712436, 0.012629768811166286, 0.002717463066801429, 0.0, 0.0, 0.0, 0.0, 0.0, 0.0, 0.0, 0.0, 0.0, 0.0, 0.0, 0.0, 0.0, 0.0, 0.0, 0.0, 0.0, 0.0], [0.8933647871017456, 0.01679682731628418, 0.0005719167529605329, 0.030599167570471764, 0.02387227490544319, 0.0009778087260201573, 0.0152601832523942, 0.0019008873496204615, 7.339620424318127e-06, 3.3760708902264014e-05, 1.7192452332892572e-06, 6.085913810238708e-06, 0.008112262934446335, 0.0006064746412448585, 0.007888481952250004, 0.0, 0.0, 0.0, 0.0, 0.0, 0.0, 0.0, 0.0, 0.0, 0.0, 0.0, 0.0, 0.0, 0.0, 0.0, 0.0, 0.0], [0.8450633883476257, 0.017048686742782593, 0.0033036409877240658, 0.0032642262522131205, 0.0017033165786415339, 0.0014174494426697493, 0.00035547258448787034, 0.10036882758140564, 2.3394430172629654e-05, 4.109924702788703e-05, 3.538338660291629e-06, 0.00018974779231939465, 0.00646318681538105, 0.0004059674683958292, 0.006999743636697531, 0.013348273932933807, 0.0, 0.0, 0.0, 0.0, 0.0, 0.0, 0.0, 0.0, 0.0, 0.0, 0.0, 0.0, 0.0, 0.0, 0.0, 0.0], [0.8031017184257507, 0.019724464043974876, 0.00256681558676064, 0.0009882338345050812, 0.0015943596372380853, 0.00047696803812868893, 0.0007896361057646573, 0.003932009916752577, 3.839829332719091e-06, 6.233838212210685e-05, 5.881253855477553e-06, 2.9021410227869637e-05, 0.0019045181106776, 0.0002525012823753059, 0.0023780404590070248, 0.012108312919735909, 0.15008126199245453, 0.0, 0.0, 0.0, 0.0, 0.0, 0.0, 0.0, 0.0, 0.0, 0.0, 0.0, 0.0, 0.0, 0.0, 0.0], [0.6015154719352722, 0.021765515208244324, 0.0010430689435452223, 0.0003511160903144628, 0.0003803170402534306, 0.0002599573927000165, 0.00010033926810137928, 0.010581493377685547, 3.774611832341179e-05, 9.256376870325767e-06, 3.870281489071203e-06, 0.00010759464203147218, 0.012474299408495426, 0.00022610629093833268, 0.00024337132344953716, 0.0006622502696700394, 0.33680760860443115, 0.013430561870336533, 0.0, 0.0, 0.0, 0.0, 0.0, 0.0, 0.0, 0.0, 0.0, 0.0, 0.0, 0.0, 0.0, 0.0], [0.9283294081687927, 0.017743516713380814, 0.00048541391151957214, 0.00012044757750118151, 0.00011171698133694008, 0.0017498440574854612, 0.00011901740799658, 0.0026667637284845114, 0.0002190660743508488, 1.0044139344245195e-05, 1.722514753055293e-05, 3.60122139682062e-05, 0.0034873292315751314, 0.0023687754292041063, 0.00031470978865399957, 0.0006373433279804885, 0.003137459047138691, 0.0017553555080667138, 0.036690421402454376, 0.0, 0.0, 0.0, 0.0, 0.0, 0.0, 0.0, 0.0, 0.0, 0.0, 0.0, 0.0, 0.0], [0.9416065812110901, 0.0199153833091259, 0.0019853245466947556, 3.879710493492894e-05, 0.0003331138868816197, 0.01169520989060402, 0.00017308951646555215, 0.011355002410709858, 0.0003387288306839764, 0.00035185314482077956, 3.731938704731874e-05, 9.930759551934898e-05, 0.0011023770784959197, 0.0007230506162159145, 9.366072481498122e-05, 9.025785402627662e-05, 0.0004873471043538302, 0.0001592733315192163, 0.0005945781012997031, 0.008819643408060074, 0.0, 0.0, 0.0, 0.0, 0.0, 0.0, 0.0, 0.0, 0.0, 0.0, 0.0, 0.0], [0.9780300855636597, 0.007139837834984064, 0.0003711174358613789, 0.00010521327931201085, 0.0005174266407266259, 0.0004999146331101656, 0.0006042080349288881, 0.0021316646598279476, 2.4979097361210734e-05, 0.00012180883641121909, 0.00013483149814419448, 0.0001653750950936228, 0.0003011521475855261, 0.00021473765082191676, 0.00041403569048270583, 0.0004554488114081323, 0.0001285333710256964, 0.000363239087164402, 6.531121471198276e-05, 0.000626161287073046, 0.007585006766021252, 0.0, 0.0, 0.0, 0.0, 0.0, 0.0, 0.0, 0.0, 0.0, 0.0, 0.0], [0.9760138988494873, 0.012417993508279324, 0.0010618719970807433, 0.0006666139233857393, 0.002063386607915163, 0.0003231135196983814, 0.0022639231756329536, 0.00020521448459476233, 3.444345566094853e-05, 1.445673933631042e-05, 1.7824539099819958e-05, 9.034785762196407e-06, 0.0007531185983680189, 2.3245851480169222e-05, 4.866142990067601e-05, 0.0008830580627545714, 0.00013361025776248425, 0.00011797002662206069, 0.00033065510797314346, 8.628657815279439e-05, 0.0004976716008968651, 0.002033977070823312, 0.0, 0.0, 0.0, 0.0, 0.0, 0.0, 0.0, 0.0, 0.0, 0.0], [0.8059937953948975, 0.017298487946391106, 0.0024344066623598337, 0.00016278011025860906, 0.0006851296056993306, 0.03964098170399666, 0.00023769763356540352, 0.018642110750079155, 0.0004994590417481959, 0.00018271045701112598, 1.3744418538408354e-05, 0.00016623939154669642, 0.002269055927172303, 0.0006070128292776644, 0.00013589274021796882, 0.0001848477841122076, 0.0005444342968985438, 0.0001797858567442745, 0.00040094213909469545, 0.004438700154423714, 0.1023063063621521, 0.0018640642520040274, 0.001111433608457446, 0.0, 0.0, 0.0, 0.0, 0.0, 0.0, 0.0, 0.0, 0.0], [0.7896925210952759, 0.005709601566195488, 0.00206760480068624, 2.577392251623678e-06, 9.744231874719844e-07, 0.0015354154165834188, 1.613443032510986e-06, 0.00015716010238975286, 0.19764523208141327, 4.9186641263077036e-05, 5.464710557134822e-05, 3.1389108698931523e-06, 0.00019026061636395752, 0.0007387723308056593, 9.550941513225553e-07, 8.714429782230582e-07, 3.103631797785056e-06, 3.11560961563373e-06, 2.0180536012048833e-05, 0.0007880689227022231, 0.0005762293003499508, 0.00015752158651594073, 6.65830448269844e-05, 0.0005347106489352882, 0.0, 0.0, 0.0, 0.0, 0.0, 0.0, 0.0, 0.0], [0.9129877090454102, 0.015853513032197952, 0.0005078075337223709, 0.00011368817649781704, 7.620066025992855e-05, 0.03015834093093872, 5.3453553846338764e-05, 0.0015515045961365104, 0.0003503063344396651, 0.02923741191625595, 0.0008566069882363081, 0.00026429587160237134, 7.399629976134747e-05, 0.0003816471726167947, 1.1960781193920411e-05, 1.079918638424715e-05, 4.9914815463125706e-06, 1.556569623062387e-05, 8.469493877782952e-06, 9.710151061881334e-05, 0.0008805792895145714, 0.00016788183711469173, 0.00025507318787276745, 0.001720939064398408, 0.0043599712662398815, 0.0, 0.0, 0.0, 0.0, 0.0, 0.0, 0.0], [0.8261051774024963, 0.005455557722598314, 0.0008761166827753186, 3.084068885073066e-05, 6.843053142802091e-06, 0.00021441435092128813, 4.818890374735929e-05, 4.449185871635564e-05, 3.1007286452222615e-05, 0.00018800656835082918, 0.16518786549568176, 0.0008564114104956388, 3.155826925649308e-05, 1.0852470040845219e-05, 3.2115683552547125e-06, 4.945557975588599e-06, 1.5294871218429762e-06, 2.5801211450016126e-05, 3.266688963776687e-06, 1.735232217470184e-05, 4.8696714657125995e-05, 2.2653246560366824e-05, 0.00027143029728904366, 4.542700480669737e-05, 2.7257856345386244e-05, 0.00044116645585745573, 0.0, 0.0, 0.0, 0.0, 0.0, 0.0], [0.9205945730209351, 0.0026740694884210825, 0.006232143845409155, 7.287135667866096e-05, 5.0991842726944014e-05, 0.0009132230770774186, 1.5110423191799782e-05, 0.0026861003134399652, 2.0510271497187205e-05, 0.00011159385030623525, 0.0012383694993332028, 0.05182909592986107, 0.006553627084940672, 4.1263512684963644e-05, 0.0006578178727068007, 1.849864020186942e-05, 0.0003070085367653519, 2.4835209842422046e-05, 0.00010963663225993514, 7.48652164475061e-05, 0.0008082028361968696, 0.00016568567662034184, 0.00013850607501808554, 0.0011252730619162321, 1.8875854948419146e-05, 0.0002577907289378345, 0.0032593102660030127, 0.0, 0.0, 0.0, 0.0, 0.0], [0.9283011555671692, 0.0012219410855323076, 0.0023990280460566282, 9.457962005399168e-05, 5.6068161939037964e-05, 0.00025932234711945057, 3.634717359091155e-05, 0.0019395395647734404, 1.8220591300632805e-05, 5.3763128562422935e-06, 3.0692756354255835e-06, 0.0001709339121589437, 0.061431318521499634, 0.00029069712036289275, 0.00040171793079935014, 3.123697388218716e-05, 0.0012744484702125192, 7.590059976791963e-05, 0.0005285525694489479, 4.898506449535489e-05, 6.967587978579104e-05, 8.757493196753785e-05, 0.0001820564502850175, 0.00022368866484612226, 2.067654531856533e-05, 1.498153324064333e-05, 8.459805030724965e-06, 0.0008044682326726615, 0.0, 0.0, 0.0, 0.0], [0.731559157371521, 0.0021346488501876593, 0.0011179358698427677, 0.0005875532515347004, 0.00018046922923531383, 0.00048500101547688246, 0.00016748812049627304, 0.002110667061060667, 2.562333429523278e-05, 4.152302608417813e-06, 1.7008965187415015e-06, 0.00012957163562532514, 0.19091132283210754, 0.000815412204246968, 0.0003509570087771863, 0.0002526009629946202, 0.008224720135331154, 6.442946323659271e-05, 0.04581046849489212, 0.00034406024497002363, 0.00030428680474869907, 2.446283178869635e-05, 0.00020518021483439952, 0.0009887941414490342, 2.500307346053887e-05, 8.297515705635305e-06, 4.107501354155829e-06, 0.00045223304186947644, 0.01270959060639143, 0.0, 0.0, 0.0], [0.9037880301475525, 0.00457109184935689, 0.00039594751433469355, 7.382842886727303e-05, 3.433235906413756e-05, 0.001869542640633881, 6.862475856905803e-05, 0.000620122067630291, 0.0001661241112742573, 4.7525527406833135e-06, 1.0407521585875656e-05, 3.359906258992851e-05, 0.007024575024843216, 0.002593297977000475, 0.00022300421551335603, 0.00014469069719780236, 0.00014984251174610108, 3.676460255519487e-05, 0.0012707137502729893, 0.06211463361978531, 0.002110961824655533, 0.00012719588994514197, 2.8673533961409703e-05, 0.0013140365481376648, 0.00016426420188508928, 8.836716915539e-06, 2.172051063098479e-05, 0.00010470124834682792, 0.0003386022581253201, 0.010587029159069061, 0.0, 0.0], [0.5875563621520996, 0.005011628847569227, 0.0009276236523874104, 1.582789445819799e-05, 9.457142004976049e-05, 0.011432399041950703, 8.892808546079323e-05, 0.0026274200063198805, 0.00014904998533893377, 0.0001384694332955405, 1.837089075706899e-05, 6.515581480925903e-05, 0.0008377557387575507, 0.0005012928741052747, 5.544355008169077e-05, 2.248048986075446e-05, 4.118855213164352e-05, 9.923621291818563e-06, 4.330282172304578e-05, 0.002151473192498088, 0.2875889837741852, 0.002893048105761409, 0.00013412433327175677, 0.08219416439533234, 0.0016655509825795889, 0.0005665455246344209, 4.852920392295346e-05, 0.0002814061299432069, 0.0003024326579179615, 0.0003400065761525184, 0.012196555733680725, 0.0], [0.7558217644691467, 0.0032876438926905394, 0.0001921516377478838, 5.7677327276906e-05, 0.0002320659696124494, 0.0005121722933836281, 0.00036281999200582504, 0.0007155238999985158, 1.0187869520450477e-05, 4.474432353163138e-05, 5.2812880312558264e-05, 0.00010214083158643916, 0.00022496876772493124, 0.0001518301578471437, 0.00033926291507668793, 0.00023401060025207698, 2.3436916308128275e-05, 4.652904317481443e-05, 1.205483749799896e-05, 0.0002695332805160433, 0.002783744363114238, 0.21712836623191833, 0.0015203439397737384, 0.0052507370710372925, 0.00016604599659331143, 0.0003249584697186947, 0.00024448742624372244, 0.0008827556157484651, 0.0009816045640036464, 8.037918451009318e-05, 0.0015330970054492354, 0.006410160567611456]], [[1.0, 0.0, 0.0, 0.0, 0.0, 0.0, 0.0, 0.0, 0.0, 0.0, 0.0, 0.0, 0.0, 0.0, 0.0, 0.0, 0.0, 0.0, 0.0, 0.0, 0.0, 0.0, 0.0, 0.0, 0.0, 0.0, 0.0, 0.0, 0.0, 0.0, 0.0, 0.0], [0.1323574036359787, 0.8676425814628601, 0.0, 0.0, 0.0, 0.0, 0.0, 0.0, 0.0, 0.0, 0.0, 0.0, 0.0, 0.0, 0.0, 0.0, 0.0, 0.0, 0.0, 0.0, 0.0, 0.0, 0.0, 0.0, 0.0, 0.0, 0.0, 0.0, 0.0, 0.0, 0.0, 0.0], [0.22232143580913544, 0.5766925811767578, 0.20098596811294556, 0.0, 0.0, 0.0, 0.0, 0.0, 0.0, 0.0, 0.0, 0.0, 0.0, 0.0, 0.0, 0.0, 0.0, 0.0, 0.0, 0.0, 0.0, 0.0, 0.0, 0.0, 0.0, 0.0, 0.0, 0.0, 0.0, 0.0, 0.0, 0.0], [0.012696986086666584, 0.06229333579540253, 0.29310446977615356, 0.6319052577018738, 0.0, 0.0, 0.0, 0.0, 0.0, 0.0, 0.0, 0.0, 0.0, 0.0, 0.0, 0.0, 0.0, 0.0, 0.0, 0.0, 0.0, 0.0, 0.0, 0.0, 0.0, 0.0, 0.0, 0.0, 0.0, 0.0, 0.0, 0.0], [0.04200834408402443, 0.22873425483703613, 0.14418543875217438, 0.3109256625175476, 0.27414625883102417, 0.0, 0.0, 0.0, 0.0, 0.0, 0.0, 0.0, 0.0, 0.0, 0.0, 0.0, 0.0, 0.0, 0.0, 0.0, 0.0, 0.0, 0.0, 0.0, 0.0, 0.0, 0.0, 0.0, 0.0, 0.0, 0.0, 0.0], [0.05250239372253418, 0.32653573155403137, 0.07831063121557236, 0.2098960429430008, 0.21423448622226715, 0.11852072924375534, 0.0, 0.0, 0.0, 0.0, 0.0, 0.0, 0.0, 0.0, 0.0, 0.0, 0.0, 0.0, 0.0, 0.0, 0.0, 0.0, 0.0, 0.0, 0.0, 0.0, 0.0, 0.0, 0.0, 0.0, 0.0, 0.0], [0.014228595420718193, 0.012897239997982979, 0.1575816124677658, 0.07524070888757706, 0.15158197283744812, 0.14030730724334717, 0.4481625556945801, 0.0, 0.0, 0.0, 0.0, 0.0, 0.0, 0.0, 0.0, 0.0, 0.0, 0.0, 0.0, 0.0, 0.0, 0.0, 0.0, 0.0, 0.0, 0.0, 0.0, 0.0, 0.0, 0.0, 0.0, 0.0], [0.26162824034690857, 0.15780115127563477, 0.27331793308258057, 0.032878533005714417, 0.2228555679321289, 0.0060669737868011, 0.007876844145357609, 0.03757474198937416, 0.0, 0.0, 0.0, 0.0, 0.0, 0.0, 0.0, 0.0, 0.0, 0.0, 0.0, 0.0, 0.0, 0.0, 0.0, 0.0, 0.0, 0.0, 0.0, 0.0, 0.0, 0.0, 0.0, 0.0], [0.023896679282188416, 0.09449748694896698, 0.1223599910736084, 0.08202441036701202, 0.22111253440380096, 0.04221705347299576, 0.042868174612522125, 0.046898264437913895, 0.3241253197193146, 0.0, 0.0, 0.0, 0.0, 0.0, 0.0, 0.0, 0.0, 0.0, 0.0, 0.0, 0.0, 0.0, 0.0, 0.0, 0.0, 0.0, 0.0, 0.0, 0.0, 0.0, 0.0, 0.0], [0.028098110109567642, 0.13520370423793793, 0.14968432486057281, 0.136011004447937, 0.14692747592926025, 0.022490818053483963, 0.04761223867535591, 0.051780182868242264, 0.17429949343204498, 0.1078927218914032, 0.0, 0.0, 0.0, 0.0, 0.0, 0.0, 0.0, 0.0, 0.0, 0.0, 0.0, 0.0, 0.0, 0.0, 0.0, 0.0, 0.0, 0.0, 0.0, 0.0, 0.0, 0.0], [0.008017380721867085, 0.08559742569923401, 0.11147551238536835, 0.211412250995636, 0.061090875416994095, 0.07194462418556213, 0.08784619718790054, 0.024807240813970566, 0.10241564363241196, 0.06568370759487152, 0.16970911622047424, 0.0, 0.0, 0.0, 0.0, 0.0, 0.0, 0.0, 0.0, 0.0, 0.0, 0.0, 0.0, 0.0, 0.0, 0.0, 0.0, 0.0, 0.0, 0.0, 0.0, 0.0], [0.016104305163025856, 0.1306850165128708, 0.2465546578168869, 0.06259574741125107, 0.15039794147014618, 0.011121422052383423, 0.0338863842189312, 0.02341470494866371, 0.19291873276233673, 0.01348100509494543, 0.06479880213737488, 0.05404127389192581, 0.0, 0.0, 0.0, 0.0, 0.0, 0.0, 0.0, 0.0, 0.0, 0.0, 0.0, 0.0, 0.0, 0.0, 0.0, 0.0, 0.0, 0.0, 0.0, 0.0], [0.05365539714694023, 0.024564530700445175, 0.3178192973136902, 0.03009015880525112, 0.21450088918209076, 0.06244013085961342, 0.02632269635796547, 0.0036673443391919136, 0.1349332183599472, 0.014195210300385952, 0.04925142601132393, 0.027005720883607864, 0.04155399277806282, 0.0, 0.0, 0.0, 0.0, 0.0, 0.0, 0.0, 0.0, 0.0, 0.0, 0.0, 0.0, 0.0, 0.0, 0.0, 0.0, 0.0, 0.0, 0.0], [0.003339282004162669, 0.02437307871878147, 0.1208387017250061, 0.05741504579782486, 0.1191042810678482, 0.022839142009615898, 0.1280505657196045, 0.004906339570879936, 0.10537683963775635, 0.03318581357598305, 0.07494660466909409, 0.037409886717796326, 0.05987020209431648, 0.2083442062139511, 0.0, 0.0, 0.0, 0.0, 0.0, 0.0, 0.0, 0.0, 0.0, 0.0, 0.0, 0.0, 0.0, 0.0, 0.0, 0.0, 0.0, 0.0], [0.019826071336865425, 0.050040725618600845, 0.16564947366714478, 0.05074643716216087, 0.16756980121135712, 0.017842357978224754, 0.04257826507091522, 0.02911243587732315, 0.196729376912117, 0.021858088672161102, 0.07184380292892456, 0.029733221977949142, 0.04273747280240059, 0.028856750577688217, 0.0648757666349411, 0.0, 0.0, 0.0, 0.0, 0.0, 0.0, 0.0, 0.0, 0.0, 0.0, 0.0, 0.0, 0.0, 0.0, 0.0, 0.0, 0.0], [0.00034644955303519964, 0.005013075191527605, 0.1598113626241684, 0.058316003531217575, 0.15169444680213928, 0.024934275075793266, 0.032035499811172485, 0.012800872325897217, 0.0930684506893158, 0.02170543745160103, 0.09929095208644867, 0.028512943536043167, 0.01933758147060871, 0.19216130673885345, 0.05005365237593651, 0.05091772601008415, 0.0, 0.0, 0.0, 0.0, 0.0, 0.0, 0.0, 0.0, 0.0, 0.0, 0.0, 0.0, 0.0, 0.0, 0.0, 0.0], [0.0031048974487930536, 0.019357671961188316, 0.28740087151527405, 0.08280140906572342, 0.15254336595535278, 0.004731333814561367, 0.04481160640716553, 0.031207647174596786, 0.10501954704523087, 0.013655479066073895, 0.06755827367305756, 0.017164919525384903, 0.013447104953229427, 0.029357902705669403, 0.033287327736616135, 0.04149654135107994, 0.05305416136980057, 0.0, 0.0, 0.0, 0.0, 0.0, 0.0, 0.0, 0.0, 0.0, 0.0, 0.0, 0.0, 0.0, 0.0, 0.0], [0.015095369890332222, 0.03783130273222923, 0.1550731360912323, 0.06650770455598831, 0.10769958794116974, 0.01841851696372032, 0.01823212392628193, 0.026942942291498184, 0.0761985331773758, 0.015561675652861595, 0.04206503927707672, 0.02524607814848423, 0.020184075459837914, 0.09111720323562622, 0.04941478744149208, 0.05650688707828522, 0.12607741355895996, 0.051827628165483475, 0.0, 0.0, 0.0, 0.0, 0.0, 0.0, 0.0, 0.0, 0.0, 0.0, 0.0, 0.0, 0.0, 0.0], [0.036594975739717484, 0.07291371375322342, 0.06037525832653046, 0.08876310288906097, 0.1322283297777176, 0.02845870517194271, 0.02081681415438652, 0.03144168481230736, 0.08887957781553268, 0.03968198597431183, 0.07681802660226822, 0.02504454366862774, 0.028489772230386734, 0.05085102841258049, 0.0570368729531765, 0.029083408415317535, 0.0408468022942543, 0.010680582374334335, 0.08099476248025894, 0.0, 0.0, 0.0, 0.0, 0.0, 0.0, 0.0, 0.0, 0.0, 0.0, 0.0, 0.0, 0.0], [0.004423815291374922, 0.013544687069952488, 0.10224495828151703, 0.049905356019735336, 0.11396702378988266, 0.04802306368947029, 0.025976018980145454, 0.01819484867155552, 0.1847856491804123, 0.05379348620772362, 0.1140158399939537, 0.04099173843860626, 0.020007997751235962, 0.05054666846990585, 0.03371499106287956, 0.01778971217572689, 0.029057182371616364, 0.008045007474720478, 0.04236159846186638, 0.02861032262444496, 0.0, 0.0, 0.0, 0.0, 0.0, 0.0, 0.0, 0.0, 0.0, 0.0, 0.0, 0.0], [0.06331253051757812, 0.06334780156612396, 0.022876644507050514, 0.1141403391957283, 0.03935243934392929, 0.058150649070739746, 0.012577326036989689, 0.007167263887822628, 0.0313669890165329, 0.005942080169916153, 0.014397907070815563, 0.026476098224520683, 0.02624804526567459, 0.024515969678759575, 0.025814592838287354, 0.029599130153656006, 0.08771727234125137, 0.022043444216251373, 0.0454849898815155, 0.07990439236164093, 0.19956400990486145, 0.0, 0.0, 0.0, 0.0, 0.0, 0.0, 0.0, 0.0, 0.0, 0.0, 0.0], [0.9951350092887878, 0.0017170850187540054, 0.00021111856040079147, 0.00021151940745767206, 0.0001896671747090295, 0.0001374294952256605, 1.0498862138774712e-05, 0.00027293062885291874, 0.00021521764574572444, 9.854208474280313e-05, 9.110542305279523e-05, 4.593172707245685e-05, 5.341966971172951e-05, 8.967598660092335e-06, 2.297827450092882e-05, 2.2603482648264617e-05, 0.000158598180860281, 2.087619577650912e-05, 1.720223735901527e-05, 0.00014953409845475107, 0.00041169262840412557, 0.0007980162627063692, 0.0, 0.0, 0.0, 0.0, 0.0, 0.0, 0.0, 0.0, 0.0, 0.0], [0.006235875189304352, 0.013748676516115665, 0.03965410217642784, 0.06470703333616257, 0.05769585445523262, 0.03499488905072212, 0.05066485330462456, 0.017209727317094803, 0.07170233875513077, 0.029862431809306145, 0.03682343289256096, 0.0721665695309639, 0.015820886939764023, 0.027336616069078445, 0.01810256764292717, 0.014026733115315437, 0.01254880428314209, 0.011196030303835869, 0.009139292873442173, 0.009957565926015377, 0.20876772701740265, 0.17244037985801697, 0.005197578575462103, 0.0, 0.0, 0.0, 0.0, 0.0, 0.0, 0.0, 0.0, 0.0], [0.1316394805908203, 0.09697909653186798, 0.08367238938808441, 0.02961147017776966, 0.10248833149671555, 0.003980245441198349, 0.003370640566572547, 0.03217712789773941, 0.08945919573307037, 0.0215756893157959, 0.035241320729255676, 0.043414998799562454, 0.019791357219219208, 0.0015099471202120185, 0.00801266822963953, 0.013372423127293587, 0.03173868730664253, 0.009130996651947498, 0.00162015319801867, 0.046253498643636703, 0.03400908410549164, 0.013305706903338432, 0.04648029804229736, 0.10116518288850784, 0.0, 0.0, 0.0, 0.0, 0.0, 0.0, 0.0, 0.0], [0.00833712238818407, 0.020133664831519127, 0.03490569442510605, 0.024570737034082413, 0.08752557635307312, 0.010720978491008282, 0.013451230712234974, 0.012320186011493206, 0.08742096275091171, 0.011363832280039787, 0.05707544460892677, 0.03484102338552475, 0.020433012396097183, 0.02554311789572239, 0.02211020514369011, 0.021356845274567604, 0.01644638366997242, 0.009206943213939667, 0.00821731612086296, 0.0484125129878521, 0.14565469324588776, 0.018627451732754707, 0.04740831255912781, 0.03650686517357826, 0.1774097979068756, 0.0, 0.0, 0.0, 0.0, 0.0, 0.0, 0.0], [0.012117999605834484, 0.033792197704315186, 0.051489271223545074, 0.05058671534061432, 0.07857325673103333, 0.004055456258356571, 0.020121650770306587, 0.02031065709888935, 0.059430696070194244, 0.041816890239715576, 0.05846097692847252, 0.1393744796514511, 0.033571042120456696, 0.005326654762029648, 0.01725681498646736, 0.018211547285318375, 0.013691282831132412, 0.012996147386729717, 0.0014593544183298945, 0.01893598400056362, 0.03107447177171707, 0.02348792739212513, 0.02142869122326374, 0.05101097747683525, 0.09373075515031815, 0.08768812566995621, 0.0, 0.0, 0.0, 0.0, 0.0, 0.0], [0.0026836975011974573, 0.01869097910821438, 0.04561743885278702, 0.07414571195840836, 0.037259362637996674, 0.013632873073220253, 0.04187958315014839, 0.008225246332585812, 0.03542773053050041, 0.02504388615489006, 0.05400945246219635, 0.10652734339237213, 0.02740813046693802, 0.012374629266560078, 0.024757402017712593, 0.015397992916405201, 0.01888318732380867, 0.010198189876973629, 0.002589461160823703, 0.005199695471674204, 0.0688970610499382, 0.0719805359840393, 0.005495022516697645, 0.014580522663891315, 0.04191706329584122, 0.057368602603673935, 0.15980923175811768, 0.0, 0.0, 0.0, 0.0, 0.0], [0.006127829197794199, 0.026418855413794518, 0.07064727693796158, 0.046233367174863815, 0.08159533888101578, 0.005278968717902899, 0.021308710798621178, 0.00898232962936163, 0.03655952960252762, 0.014295094646513462, 0.04670023173093796, 0.026124367490410805, 0.018303794786334038, 0.037615664303302765, 0.010291173122823238, 0.012464194558560848, 0.012618854641914368, 0.010393012315034866, 0.00914356205612421, 0.006969215348362923, 0.08221812546253204, 0.11442261934280396, 0.0077478946186602116, 0.01958629861474037, 0.04668395593762398, 0.028046365827322006, 0.11186335235834122, 0.0813600942492485, 0.0, 0.0, 0.0, 0.0], [0.053493328392505646, 0.06478498131036758, 0.11415752023458481, 0.039341848343610764, 0.09333117306232452, 0.007926267571747303, 0.013217836618423462, 0.006274004001170397, 0.03434421494603157, 0.005375980399549007, 0.018282750621438026, 0.023736150935292244, 0.02142472378909588, 0.05104446783661842, 0.014716356061398983, 0.02510927803814411, 0.06376489251852036, 0.017450273036956787, 0.03372611105442047, 0.010071637108922005, 0.047915223985910416, 0.04215235263109207, 0.013304485939443111, 0.01103010680526495, 0.03147391229867935, 0.006206204183399677, 0.031218158081173897, 0.0743253156542778, 0.030800404027104378, 0.0, 0.0, 0.0], [0.04133021458983421, 0.03675719350576401, 0.0326872393488884, 0.03899660333991051, 0.08162599056959152, 0.012678297236561775, 0.013183941133320332, 0.007744539529085159, 0.043842803686857224, 0.01649049110710621, 0.032918259501457214, 0.019671518355607986, 0.014383811503648758, 0.04272682964801788, 0.017699088901281357, 0.009209269657731056, 0.014968305826187134, 0.003818765515461564, 0.028440020978450775, 0.015346784144639969, 0.0763840526342392, 0.03909977525472641, 0.01114244107156992, 0.01973535865545273, 0.07244960963726044, 0.04089910537004471, 0.09794871509075165, 0.02772343158721924, 0.012142065912485123, 0.0779554694890976, 0.0, 0.0], [0.002709136577323079, 0.005066520068794489, 0.041419222950935364, 0.018311697989702225, 0.05794629827141762, 0.016562506556510925, 0.008218775503337383, 0.004372126422822475, 0.0676068663597107, 0.016766222193837166, 0.03756605088710785, 0.01889481209218502, 0.007032268214970827, 0.034230515360832214, 0.009669351391494274, 0.004996921867132187, 0.010836809873580933, 0.002298190491273999, 0.017389925196766853, 0.008391792885959148, 0.14323338866233826, 0.030134044587612152, 0.0012447780463844538, 0.011720196343958378, 0.13828037679195404, 0.05121588334441185, 0.13201949000358582, 0.032346196472644806, 0.00881499145179987, 0.04139110818505287, 0.019313525408506393, 0.0], [0.04713781177997589, 0.03676697239279747, 0.013505300506949425, 0.05736731365323067, 0.028555376455187798, 0.029805073514580727, 0.007129020523279905, 0.003075715620070696, 0.019582608714699745, 0.0028951072599738836, 0.0062607210129499435, 0.01435407530516386, 0.011735247448086739, 0.0185941644012928, 0.010408039204776287, 0.010543753392994404, 0.04136655479669571, 0.007653845939785242, 0.01870071515440941, 0.037482038140296936, 0.09922142326831818, 0.07020262628793716, 0.03382289037108421, 0.014249375090003014, 0.043184224516153336, 0.006633568089455366, 0.017174402251839638, 0.024897906929254532, 0.010421045124530792, 0.03096579760313034, 0.07398321479558945, 0.15232403576374054]], [[1.0, 0.0, 0.0, 0.0, 0.0, 0.0, 0.0, 0.0, 0.0, 0.0, 0.0, 0.0, 0.0, 0.0, 0.0, 0.0, 0.0, 0.0, 0.0, 0.0, 0.0, 0.0, 0.0, 0.0, 0.0, 0.0, 0.0, 0.0, 0.0, 0.0, 0.0, 0.0], [0.2615148723125458, 0.7384851574897766, 0.0, 0.0, 0.0, 0.0, 0.0, 0.0, 0.0, 0.0, 0.0, 0.0, 0.0, 0.0, 0.0, 0.0, 0.0, 0.0, 0.0, 0.0, 0.0, 0.0, 0.0, 0.0, 0.0, 0.0, 0.0, 0.0, 0.0, 0.0, 0.0, 0.0], [0.03417056053876877, 0.30242547392845154, 0.6634039282798767, 0.0, 0.0, 0.0, 0.0, 0.0, 0.0, 0.0, 0.0, 0.0, 0.0, 0.0, 0.0, 0.0, 0.0, 0.0, 0.0, 0.0, 0.0, 0.0, 0.0, 0.0, 0.0, 0.0, 0.0, 0.0, 0.0, 0.0, 0.0, 0.0], [0.0255139023065567, 0.004607466049492359, 0.015058737248182297, 0.9548198580741882, 0.0, 0.0, 0.0, 0.0, 0.0, 0.0, 0.0, 0.0, 0.0, 0.0, 0.0, 0.0, 0.0, 0.0, 0.0, 0.0, 0.0, 0.0, 0.0, 0.0, 0.0, 0.0, 0.0, 0.0, 0.0, 0.0, 0.0, 0.0], [0.5783513784408569, 0.25052618980407715, 0.011709521524608135, 0.019891032949090004, 0.13952183723449707, 0.0, 0.0, 0.0, 0.0, 0.0, 0.0, 0.0, 0.0, 0.0, 0.0, 0.0, 0.0, 0.0, 0.0, 0.0, 0.0, 0.0, 0.0, 0.0, 0.0, 0.0, 0.0, 0.0, 0.0, 0.0, 0.0, 0.0], [0.26710382103919983, 0.07895374298095703, 0.19363030791282654, 0.020138869062066078, 0.26601606607437134, 0.17415715754032135, 0.0, 0.0, 0.0, 0.0, 0.0, 0.0, 0.0, 0.0, 0.0, 0.0, 0.0, 0.0, 0.0, 0.0, 0.0, 0.0, 0.0, 0.0, 0.0, 0.0, 0.0, 0.0, 0.0, 0.0, 0.0, 0.0], [0.031049147248268127, 0.03558497130870819, 0.08800044655799866, 0.10189997404813766, 0.15367944538593292, 0.29732435941696167, 0.29246169328689575, 0.0, 0.0, 0.0, 0.0, 0.0, 0.0, 0.0, 0.0, 0.0, 0.0, 0.0, 0.0, 0.0, 0.0, 0.0, 0.0, 0.0, 0.0, 0.0, 0.0, 0.0, 0.0, 0.0, 0.0, 0.0], [0.3962007164955139, 0.0883975401520729, 0.007156427018344402, 0.011129080317914486, 0.019331183284521103, 0.003654897678643465, 0.0016363057075068355, 0.47249382734298706, 0.0, 0.0, 0.0, 0.0, 0.0, 0.0, 0.0, 0.0, 0.0, 0.0, 0.0, 0.0, 0.0, 0.0, 0.0, 0.0, 0.0, 0.0, 0.0, 0.0, 0.0, 0.0, 0.0, 0.0], [0.15017683804035187, 0.05239975452423096, 0.009385345503687859, 0.006860267370939255, 0.016345418989658356, 0.002139256801456213, 0.001383050694130361, 0.42898598313331604, 0.3323240578174591, 0.0, 0.0, 0.0, 0.0, 0.0, 0.0, 0.0, 0.0, 0.0, 0.0, 0.0, 0.0, 0.0, 0.0, 0.0, 0.0, 0.0, 0.0, 0.0, 0.0, 0.0, 0.0, 0.0], [0.028132522478699684, 0.1371420919895172, 0.007733498699963093, 0.022070785984396935, 0.04917801171541214, 0.006764558609575033, 0.0020171208307147026, 0.1609218567609787, 0.1543244868516922, 0.43171507120132446, 0.0, 0.0, 0.0, 0.0, 0.0, 0.0, 0.0, 0.0, 0.0, 0.0, 0.0, 0.0, 0.0, 0.0, 0.0, 0.0, 0.0, 0.0, 0.0, 0.0, 0.0, 0.0], [0.01947362720966339, 0.07830815017223358, 0.00733924750238657, 0.004917440470308065, 0.029428819194436073, 0.000681270903442055, 0.005626813508570194, 0.07508869469165802, 0.12596113979816437, 0.2740463316440582, 0.37912851572036743, 0.0, 0.0, 0.0, 0.0, 0.0, 0.0, 0.0, 0.0, 0.0, 0.0, 0.0, 0.0, 0.0, 0.0, 0.0, 0.0, 0.0, 0.0, 0.0, 0.0, 0.0], [0.004750389140099287, 0.003885349491611123, 0.026376524940133095, 0.0013094153255224228, 0.18251365423202515, 0.0012758373050019145, 0.025912662968039513, 0.021926242858171463, 0.06046324223279953, 0.28144317865371704, 0.3539443016052246, 0.03619921952486038, 0.0, 0.0, 0.0, 0.0, 0.0, 0.0, 0.0, 0.0, 0.0, 0.0, 0.0, 0.0, 0.0, 0.0, 0.0, 0.0, 0.0, 0.0, 0.0, 0.0], [0.03148079290986061, 0.010970834642648697, 0.22339454293251038, 0.0023911274038255215, 0.06770513206720352, 0.03661544620990753, 0.017316104844212532, 0.012611341662704945, 0.04741695150732994, 0.010018042288720608, 0.017056431621313095, 0.08518946170806885, 0.4378338158130646, 0.0, 0.0, 0.0, 0.0, 0.0, 0.0, 0.0, 0.0, 0.0, 0.0, 0.0, 0.0, 0.0, 0.0, 0.0, 0.0, 0.0, 0.0, 0.0], [0.007125309202820063, 0.0006055481499060988, 0.04673554003238678, 0.0005552438669838011, 0.01840158924460411, 0.004153145011514425, 0.008112180046737194, 0.009731980040669441, 0.0029250746592879295, 0.00031226183637045324, 0.0011350152781233191, 0.00928125623613596, 0.05458841845393181, 0.8363373875617981, 0.0, 0.0, 0.0, 0.0, 0.0, 0.0, 0.0, 0.0, 0.0, 0.0, 0.0, 0.0, 0.0, 0.0, 0.0, 0.0, 0.0, 0.0], [0.013088742271065712, 0.10027837753295898, 0.07719298452138901, 0.0710190162062645, 0.048849012702703476, 0.019179940223693848, 0.03109687939286232, 0.04105733707547188, 0.01769963651895523, 0.0007548739085905254, 0.0011214598780497909, 0.08730291575193405, 0.06259511411190033, 0.04458578675985336, 0.38417789340019226, 0.0, 0.0, 0.0, 0.0, 0.0, 0.0, 0.0, 0.0, 0.0, 0.0, 0.0, 0.0, 0.0, 0.0, 0.0, 0.0, 0.0], [0.004069468937814236, 0.018851839005947113, 0.06455618143081665, 0.011685063131153584, 0.09937753528356552, 0.07472783327102661, 0.056331243366003036, 0.02342752180993557, 0.007559298072010279, 0.0010025586234405637, 0.0034073488786816597, 0.0275045745074749, 0.07017361372709274, 0.21061864495277405, 0.06296587735414505, 0.2637413442134857, 0.0, 0.0, 0.0, 0.0, 0.0, 0.0, 0.0, 0.0, 0.0, 0.0, 0.0, 0.0, 0.0, 0.0, 0.0, 0.0], [0.02832130156457424, 0.07339782267808914, 0.002991694724187255, 0.0009590164409019053, 0.012698440812528133, 0.0029228385537862778, 0.002961802063509822, 0.014626762829720974, 0.005722983740270138, 0.0003679622896015644, 0.0005444206763058901, 0.005493497941643, 0.03727366030216217, 0.0045753419399261475, 0.02071579173207283, 0.12159527838230133, 0.664831280708313, 0.0, 0.0, 0.0, 0.0, 0.0, 0.0, 0.0, 0.0, 0.0, 0.0, 0.0, 0.0, 0.0, 0.0, 0.0], [0.04100078344345093, 0.029159070923924446, 0.03287014365196228, 0.00034187547862529755, 0.2630600333213806, 0.005277007352560759, 0.028716571629047394, 0.03648298978805542, 0.05977515131235123, 0.019291698932647705, 0.03650810196995735, 0.04065169394016266, 0.021307218819856644, 0.03664112091064453, 0.01262185163795948, 0.10704994946718216, 0.05491871386766434, 0.17432604730129242, 0.0, 0.0, 0.0, 0.0, 0.0, 0.0, 0.0, 0.0, 0.0, 0.0, 0.0, 0.0, 0.0, 0.0], [0.0030990822706371546, 0.0007178509840741754, 0.00017417356139048934, 1.4109693438513204e-05, 0.00030590605456382036, 2.3775901354383677e-05, 0.00015438134141732007, 0.002204061718657613, 0.0001802578626666218, 1.7489954188931733e-05, 3.120095425401814e-05, 0.0006661068182438612, 0.006939923390746117, 0.008269895799458027, 0.001368133700452745, 0.002947203814983368, 0.0010829203529283404, 0.0009206644608639181, 0.9708828926086426, 0.0, 0.0, 0.0, 0.0, 0.0, 0.0, 0.0, 0.0, 0.0, 0.0, 0.0, 0.0, 0.0], [0.6835504174232483, 0.00456563476473093, 0.0005114609957672656, 0.0019106861436739564, 0.00047261800500564277, 1.2480256373237353e-05, 0.00019079593766946346, 0.0006693117320537567, 0.0006966011715121567, 0.00038399998447857797, 0.0001438453036826104, 6.226895493455231e-05, 0.0035617814864963293, 0.00041143101407215, 0.0003746443544514477, 0.000740158895496279, 0.0006544740172103047, 0.00015804616850800812, 0.004357880912721157, 0.29657137393951416, 0.0, 0.0, 0.0, 0.0, 0.0, 0.0, 0.0, 0.0, 0.0, 0.0, 0.0, 0.0], [0.13230320811271667, 0.02767222560942173, 0.007563381921499968, 0.007764578331261873, 0.015026229433715343, 0.004093483556061983, 0.007591514382511377, 0.005422493442893028, 0.0064453608356416225, 0.009822333231568336, 0.0019887492526322603, 0.003969345707446337, 0.002881630789488554, 0.002085181185975671, 0.0021646898239851, 0.0050101010128855705, 0.0008984218002296984, 0.009916529059410095, 0.0030544199980795383, 0.13344354927539825, 0.610882580280304, 0.0, 0.0, 0.0, 0.0, 0.0, 0.0, 0.0, 0.0, 0.0, 0.0, 0.0], [0.9608351588249207, 0.0034257653169333935, 0.002055975841358304, 0.005488293711096048, 0.001656136941164732, 0.00021227671822998673, 0.0003253472677897662, 0.00044659909326583147, 0.0003100043104495853, 9.638148912927136e-05, 0.00010169551387662068, 0.00020526020671240985, 0.0005747958784922957, 0.0002054968208540231, 0.00019804904877673835, 0.00020673243852797896, 0.0005116000538691878, 0.0002932311617769301, 0.0001825171202654019, 0.015890296548604965, 0.003928856458514929, 0.002849361626431346, 0.0, 0.0, 0.0, 0.0, 0.0, 0.0, 0.0, 0.0, 0.0, 0.0], [0.5225669145584106, 0.01906600035727024, 0.0015592850977554917, 0.0148983895778656, 0.002602310385555029, 0.003340336726978421, 0.0009890758665278554, 0.0005253759445622563, 0.0015710246516391635, 0.00035583783756010234, 0.0003954181738663465, 0.00027637273888103664, 0.0017476992215961218, 0.00020486224093474448, 0.0005631925887428224, 0.0005146261537447572, 0.002045427681878209, 0.0003155529557261616, 0.00013558541832026094, 0.20485521852970123, 0.0075558810494840145, 0.00428179232403636, 0.20963378250598907, 0.0, 0.0, 0.0, 0.0, 0.0, 0.0, 0.0, 0.0, 0.0], [0.7523629665374756, 0.006847586017102003, 0.0009329787571914494, 0.007522832602262497, 0.0018886957550421357, 0.001862725242972374, 0.00012133381824241951, 0.003565633436664939, 0.009442768059670925, 0.0016260379925370216, 0.00016904047515708953, 8.664501365274191e-05, 0.0009634208399802446, 4.1551604226697236e-05, 0.00011773475125664845, 9.024987957673147e-05, 0.0004797893634531647, 5.7718734751688316e-05, 0.00013220998516771942, 0.11897288262844086, 0.0017605721950531006, 0.0011483997805044055, 0.07118606567382812, 0.018620138987898827, 0.0, 0.0, 0.0, 0.0, 0.0, 0.0, 0.0, 0.0], [0.4093441665172577, 0.006131238769739866, 0.0015020748833194375, 0.0051954942755401134, 0.003454389749094844, 0.0007304745959118009, 0.00020864259568043053, 0.020175876095891, 0.061739251017570496, 0.004941274411976337, 0.0009334883070550859, 0.0038377607706934214, 0.015268789604306221, 0.0005387093406170607, 0.0018065683543682098, 0.0001852056448115036, 0.0010744236642494798, 0.0005507649620994925, 0.0007175575010478497, 0.04348953813314438, 0.0020611057989299297, 0.006966609042137861, 0.05362975224852562, 0.11653520166873932, 0.23898166418075562, 0.0, 0.0, 0.0, 0.0, 0.0, 0.0, 0.0], [0.020170679315924644, 0.01091007236391306, 0.0009556967997923493, 0.007727186195552349, 0.010261578485369682, 0.0013032049173489213, 0.0002076248056255281, 0.013513748534023762, 0.026235343888401985, 0.11061156541109085, 0.009983879514038563, 0.003931558690965176, 0.0006174733862280846, 0.0001447103131795302, 0.0005101477727293968, 6.20834034634754e-05, 6.258411303861067e-05, 0.00019334035459905863, 6.409813795471564e-05, 0.04081880673766136, 0.0018288686405867338, 0.019761735573410988, 0.04009934514760971, 0.1049448773264885, 0.0954054594039917, 0.4796743392944336, 0.0, 0.0, 0.0, 0.0, 0.0, 0.0], [0.01801033318042755, 0.013317889533936977, 0.0018203891813755035, 0.0024876075331121683, 0.013021663762629032, 0.00021536846179515123, 0.0015820128610357642, 0.016006123274564743, 0.04268134385347366, 0.1282113939523697, 0.11617448180913925, 0.020261075347661972, 0.0034708839375525713, 0.0009126138756982982, 0.0004956264747306705, 0.0005651889950968325, 0.00020099298853892833, 0.003544257255271077, 0.00018349973834119737, 0.01985275000333786, 0.00033796628122217953, 0.01030126865953207, 0.00888618640601635, 0.0262367632240057, 0.0635312870144844, 0.26342126727104187, 0.22426971793174744, 0.0, 0.0, 0.0, 0.0, 0.0], [0.0010524888057261705, 0.029690975323319435, 0.014499525539577007, 0.01626666821539402, 0.057424142956733704, 0.004735111724585295, 0.008056689985096455, 0.012698696926236153, 0.023004984483122826, 0.04813535511493683, 0.10120287537574768, 0.04498368874192238, 0.003179641906172037, 0.00784488208591938, 0.0035797469317913055, 0.002101465594023466, 0.0016432636184617877, 0.0189601369202137, 0.00298035005107522, 0.014244125224649906, 0.014942102134227753, 0.03378408029675484, 0.036077048629522324, 0.05468226224184036, 0.041753873229026794, 0.10875352472066879, 0.2112855762243271, 0.0824366956949234, 0.0, 0.0, 0.0, 0.0], [0.0030912563670426607, 0.007280705031007528, 0.04642323777079582, 0.0017253132537007332, 0.1130509078502655, 0.004083225503563881, 0.014395189471542835, 0.012598732486367226, 0.019420113414525986, 0.039452169090509415, 0.09105466306209564, 0.040666237473487854, 0.005460737273097038, 0.022816544398665428, 0.0009169739787466824, 0.003744453424587846, 0.0013463625218719244, 0.02755291759967804, 0.001347726909443736, 0.002065932145342231, 0.0254998579621315, 0.008617918007075787, 0.010290805250406265, 0.03181059658527374, 0.041322674602270126, 0.1061667650938034, 0.21261604130268097, 0.05748018994927406, 0.04770174250006676, 0.0, 0.0, 0.0], [0.0009390187915414572, 0.0002939136466011405, 0.00011684483615681529, 2.2319716663332656e-05, 0.00016712081560399383, 3.0613464332418516e-05, 8.443158003501594e-05, 0.0009285056148655713, 8.857234934112057e-05, 1.1169840036018286e-05, 3.4221426176372916e-05, 0.00044182781130075455, 0.002834422281011939, 0.0038982615806162357, 0.00025514033040963113, 0.0002568758500274271, 0.00015532661927863955, 0.00016145345580298454, 0.3020974099636078, 0.00039540542638860643, 1.7343352737952955e-05, 0.0002476893423590809, 0.0008650246891193092, 0.00048347795382142067, 8.805219840724021e-05, 1.671567588346079e-05, 5.4412881581811234e-05, 0.00020632179803214967, 0.0008999158162623644, 0.6839082837104797, 0.0, 0.0], [0.39404189586639404, 0.0030364315025508404, 0.0002490065817255527, 0.0015254768077284098, 0.0001975831255549565, 7.374483175226487e-06, 5.219827653490938e-05, 0.0003034284745808691, 0.00028217380167916417, 0.00026882733800448477, 8.041450200835243e-05, 4.1829203837551177e-05, 0.0015808292664587498, 0.00013351510278880596, 0.0001213946015923284, 0.0001672883372521028, 0.00020201114239171147, 6.0544072766788304e-05, 0.0016703010769560933, 0.17969433963298798, 0.00035944441333413124, 0.00013710847997572273, 0.01253017969429493, 0.0012080600718036294, 0.0009185437811538577, 0.0005590554210357368, 0.00014295324217528105, 9.531143587082624e-05, 5.4102420108392835e-05, 0.0037769039627164602, 0.3965015113353729, 0.0], [0.06916054338216782, 0.014103609137237072, 0.0030743684619665146, 0.003935613669455051, 0.005982517264783382, 0.001924740383401513, 0.002763980533927679, 0.0023871830198913813, 0.002651177579537034, 0.0032264580950140953, 0.0008470824104733765, 0.0017558342078700662, 0.0015953826950863004, 0.0009441266302019358, 0.0006694069015793502, 0.0011164051247760653, 0.00033380516106262803, 0.0030049316119402647, 0.0019579350482672453, 0.06137693300843239, 0.21297332644462585, 0.01732567884027958, 0.061102960258722305, 0.031980402767658234, 0.010120040737092495, 0.008905342780053616, 0.002231778809800744, 0.001379020162858069, 0.005835648160427809, 0.00472729466855526, 0.1181589663028717, 0.34244751930236816]], [[1.0, 0.0, 0.0, 0.0, 0.0, 0.0, 0.0, 0.0, 0.0, 0.0, 0.0, 0.0, 0.0, 0.0, 0.0, 0.0, 0.0, 0.0, 0.0, 0.0, 0.0, 0.0, 0.0, 0.0, 0.0, 0.0, 0.0, 0.0, 0.0, 0.0, 0.0, 0.0], [0.12501925230026245, 0.8749806880950928, 0.0, 0.0, 0.0, 0.0, 0.0, 0.0, 0.0, 0.0, 0.0, 0.0, 0.0, 0.0, 0.0, 0.0, 0.0, 0.0, 0.0, 0.0, 0.0, 0.0, 0.0, 0.0, 0.0, 0.0, 0.0, 0.0, 0.0, 0.0, 0.0, 0.0], [0.027297286316752434, 0.16111953556537628, 0.8115831613540649, 0.0, 0.0, 0.0, 0.0, 0.0, 0.0, 0.0, 0.0, 0.0, 0.0, 0.0, 0.0, 0.0, 0.0, 0.0, 0.0, 0.0, 0.0, 0.0, 0.0, 0.0, 0.0, 0.0, 0.0, 0.0, 0.0, 0.0, 0.0, 0.0], [0.0016762411687523127, 0.12551115453243256, 0.553229808807373, 0.3195827901363373, 0.0, 0.0, 0.0, 0.0, 0.0, 0.0, 0.0, 0.0, 0.0, 0.0, 0.0, 0.0, 0.0, 0.0, 0.0, 0.0, 0.0, 0.0, 0.0, 0.0, 0.0, 0.0, 0.0, 0.0, 0.0, 0.0, 0.0, 0.0], [0.0018082846654579043, 0.09300949424505234, 0.346716046333313, 0.16808092594146729, 0.3903852701187134, 0.0, 0.0, 0.0, 0.0, 0.0, 0.0, 0.0, 0.0, 0.0, 0.0, 0.0, 0.0, 0.0, 0.0, 0.0, 0.0, 0.0, 0.0, 0.0, 0.0, 0.0, 0.0, 0.0, 0.0, 0.0, 0.0, 0.0], [0.0023492940235882998, 0.06654536724090576, 0.3147047758102417, 0.2524392902851105, 0.3066014349460602, 0.05735989660024643, 0.0, 0.0, 0.0, 0.0, 0.0, 0.0, 0.0, 0.0, 0.0, 0.0, 0.0, 0.0, 0.0, 0.0, 0.0, 0.0, 0.0, 0.0, 0.0, 0.0, 0.0, 0.0, 0.0, 0.0, 0.0, 0.0], [0.0014986080350354314, 0.03995802253484726, 0.25606057047843933, 0.11392929404973984, 0.26254692673683167, 0.0507679209113121, 0.27523866295814514, 0.0, 0.0, 0.0, 0.0, 0.0, 0.0, 0.0, 0.0, 0.0, 0.0, 0.0, 0.0, 0.0, 0.0, 0.0, 0.0, 0.0, 0.0, 0.0, 0.0, 0.0, 0.0, 0.0, 0.0, 0.0], [0.0005685411742888391, 0.05739174783229828, 0.08401316404342651, 0.1013154536485672, 0.21149520576000214, 0.4347231686115265, 0.024638304486870766, 0.0858544111251831, 0.0, 0.0, 0.0, 0.0, 0.0, 0.0, 0.0, 0.0, 0.0, 0.0, 0.0, 0.0, 0.0, 0.0, 0.0, 0.0, 0.0, 0.0, 0.0, 0.0, 0.0, 0.0, 0.0, 0.0], [0.0036257177125662565, 0.04061093553900719, 0.1818581074476242, 0.08389604091644287, 0.378496378660202, 0.026772521436214447, 0.11095061153173447, 0.04330909624695778, 0.1304805427789688, 0.0, 0.0, 0.0, 0.0, 0.0, 0.0, 0.0, 0.0, 0.0, 0.0, 0.0, 0.0, 0.0, 0.0, 0.0, 0.0, 0.0, 0.0, 0.0, 0.0, 0.0, 0.0, 0.0], [0.0035737326834350824, 0.02977030538022518, 0.2533392608165741, 0.12227540463209152, 0.3314819037914276, 0.029786746948957443, 0.11216578632593155, 0.02761046774685383, 0.028743712231516838, 0.0612526461482048, 0.0, 0.0, 0.0, 0.0, 0.0, 0.0, 0.0, 0.0, 0.0, 0.0, 0.0, 0.0, 0.0, 0.0, 0.0, 0.0, 0.0, 0.0, 0.0, 0.0, 0.0, 0.0], [0.00013139830844011158, 0.028755374252796173, 0.2059648185968399, 0.23010191321372986, 0.1863793581724167, 0.09434199333190918, 0.08841404318809509, 0.037999436259269714, 0.01478647906333208, 0.030901838093996048, 0.08222340792417526, 0.0, 0.0, 0.0, 0.0, 0.0, 0.0, 0.0, 0.0, 0.0, 0.0, 0.0, 0.0, 0.0, 0.0, 0.0, 0.0, 0.0, 0.0, 0.0, 0.0, 0.0], [0.00012972495460417122, 0.012124362401664257, 0.08053658157587051, 0.21328848600387573, 0.19837623834609985, 0.08309902995824814, 0.05964435264468193, 0.08338672667741776, 0.03739623725414276, 0.11833065748214722, 0.08589679002761841, 0.027790816500782967, 0.0, 0.0, 0.0, 0.0, 0.0, 0.0, 0.0, 0.0, 0.0, 0.0, 0.0, 0.0, 0.0, 0.0, 0.0, 0.0, 0.0, 0.0, 0.0, 0.0], [0.0013749967329204082, 0.03928016126155853, 0.224328875541687, 0.10088784247636795, 0.2861228287220001, 0.033275146037340164, 0.033457767218351364, 0.04365701228380203, 0.029193434864282608, 0.07096362859010696, 0.05512440577149391, 0.036867547780275345, 0.0454663410782814, 0.0, 0.0, 0.0, 0.0, 0.0, 0.0, 0.0, 0.0, 0.0, 0.0, 0.0, 0.0, 0.0, 0.0, 0.0, 0.0, 0.0, 0.0, 0.0], [0.0049357907846570015, 0.06256259977817535, 0.2418571412563324, 0.12759265303611755, 0.13412593305110931, 0.03415532037615776, 0.027887927368283272, 0.050021637231111526, 0.030896658077836037, 0.0619589239358902, 0.07022955268621445, 0.06919068098068237, 0.0471491739153862, 0.03743597865104675, 0.0, 0.0, 0.0, 0.0, 0.0, 0.0, 0.0, 0.0, 0.0, 0.0, 0.0, 0.0, 0.0, 0.0, 0.0, 0.0, 0.0, 0.0], [0.0006156492745503783, 0.05571064352989197, 0.10310205817222595, 0.0595308393239975, 0.11842915415763855, 0.06674116849899292, 0.026391014456748962, 0.09476058185100555, 0.06866191327571869, 0.06555647403001785, 0.05632365494966507, 0.055732909590005875, 0.097028948366642, 0.05059086158871651, 0.08082407712936401, 0.0, 0.0, 0.0, 0.0, 0.0, 0.0, 0.0, 0.0, 0.0, 0.0, 0.0, 0.0, 0.0, 0.0, 0.0, 0.0, 0.0], [0.013136644847691059, 0.07660393416881561, 0.08036825060844421, 0.08017189800739288, 0.133516326546669, 0.031280163675546646, 0.018342647701501846, 0.059991080313920975, 0.06915745139122009, 0.0833793357014656, 0.09440001845359802, 0.026671933010220528, 0.04318659380078316, 0.019153539091348648, 0.13491661846637726, 0.03572357818484306, 0.0, 0.0, 0.0, 0.0, 0.0, 0.0, 0.0, 0.0, 0.0, 0.0, 0.0, 0.0, 0.0, 0.0, 0.0, 0.0], [0.002867497270926833, 0.0729740783572197, 0.026070183143019676, 0.06412705034017563, 0.13230417668819427, 0.08768481016159058, 0.022788096219301224, 0.04956791177392006, 0.07017688453197479, 0.09151953458786011, 0.10173022747039795, 0.01826827973127365, 0.0239617507904768, 0.01259629800915718, 0.053978972136974335, 0.0327230729162693, 0.13666118681430817, 0.0, 0.0, 0.0, 0.0, 0.0, 0.0, 0.0, 0.0, 0.0, 0.0, 0.0, 0.0, 0.0, 0.0, 0.0], [0.004267588723450899, 0.055371228605508804, 0.036181360483169556, 0.061452604830265045, 0.24899154901504517, 0.02056889422237873, 0.037693411111831665, 0.04456380009651184, 0.06669916957616806, 0.20082542300224304, 0.13184049725532532, 0.0045144581235945225, 0.012877431698143482, 0.009610027074813843, 0.010750716552138329, 0.0243269931524992, 0.022063540294766426, 0.007401264738291502, 0.0, 0.0, 0.0, 0.0, 0.0, 0.0, 0.0, 0.0, 0.0, 0.0, 0.0, 0.0, 0.0, 0.0], [0.0003048512153327465, 0.11810415983200073, 0.11435067653656006, 0.12173819541931152, 0.10918943583965302, 0.062101811170578, 0.034874189645051956, 0.0413796566426754, 0.019557852298021317, 0.025308195501565933, 0.055507976561784744, 0.02900143712759018, 0.09806008636951447, 0.014601986855268478, 0.02911103144288063, 0.029767435044050217, 0.03389735147356987, 0.01207416970282793, 0.05106952786445618, 0.0, 0.0, 0.0, 0.0, 0.0, 0.0, 0.0, 0.0, 0.0, 0.0, 0.0, 0.0, 0.0], [0.005113533232361078, 0.03151160478591919, 0.27514269948005676, 0.11146622151136398, 0.1163526326417923, 0.005284464918076992, 0.13466013967990875, 0.015078350901603699, 0.0136913126334548, 0.020065918564796448, 0.05386505648493767, 0.026079406961798668, 0.05984775349497795, 0.02586364932358265, 0.01434128638356924, 0.028756538406014442, 0.010008891113102436, 0.011530505493283272, 0.027482157573103905, 0.013857841491699219, 0.0, 0.0, 0.0, 0.0, 0.0, 0.0, 0.0, 0.0, 0.0, 0.0, 0.0, 0.0], [0.0005732412100769579, 0.03885582461953163, 0.11224278807640076, 0.10246072709560394, 0.1671985238790512, 0.008414757438004017, 0.08323486894369125, 0.014253068715333939, 0.004939558450132608, 0.01104085985571146, 0.026571160182356834, 0.02132122777402401, 0.0933380126953125, 0.04335639625787735, 0.01721673086285591, 0.04520716890692711, 0.005950897000730038, 0.006784881930798292, 0.0561087392270565, 0.0071404906921088696, 0.13379007577896118, 0.0, 0.0, 0.0, 0.0, 0.0, 0.0, 0.0, 0.0, 0.0, 0.0, 0.0], [2.325370951439254e-05, 0.05718318372964859, 0.2377779632806778, 0.09812607616186142, 0.08333516120910645, 0.009984596632421017, 0.06708415597677231, 0.02371699921786785, 0.005546907894313335, 0.014093488454818726, 0.013372083194553852, 0.023109029978513718, 0.05452301353216171, 0.07695572823286057, 0.007174522615969181, 0.03318997099995613, 0.002700110897421837, 0.005033792462199926, 0.02883908338844776, 0.04421817511320114, 0.05373835563659668, 0.060274288058280945, 0.0, 0.0, 0.0, 0.0, 0.0, 0.0, 0.0, 0.0, 0.0, 0.0], [0.0007103121024556458, 0.018343456089496613, 0.12726059556007385, 0.08426948636770248, 0.07229609042406082, 0.008790230378508568, 0.0814705491065979, 0.022770244628190994, 0.007733087055385113, 0.02033485658466816, 0.022129153832793236, 0.03399970009922981, 0.0694550946354866, 0.04158271849155426, 0.01848193071782589, 0.039236851036548615, 0.016080044209957123, 0.010466967709362507, 0.03400760889053345, 0.032210659235715866, 0.08495933562517166, 0.0348360650241375, 0.11857501417398453, 0.0, 0.0, 0.0, 0.0, 0.0, 0.0, 0.0, 0.0, 0.0], [4.461465505301021e-05, 0.02600158378481865, 0.046190839260816574, 0.03230692073702812, 0.06593251973390579, 0.025191962718963623, 0.008098835125565529, 0.015155918896198273, 0.016972918063402176, 0.028696823865175247, 0.029750412330031395, 0.05030626431107521, 0.03843378648161888, 0.008502218872308731, 0.0233000461012125, 0.012876591645181179, 0.025787921622395515, 0.00913859810680151, 0.020090071484446526, 0.09604457020759583, 0.05462261289358139, 0.05345650017261505, 0.1626717895269394, 0.15042556822299957, 0.0, 0.0, 0.0, 0.0, 0.0, 0.0, 0.0, 0.0], [0.0006804595468565822, 0.018801596015691757, 0.07632066309452057, 0.02333643287420273, 0.11005519330501556, 0.005360100418329239, 0.025568438693881035, 0.014022566378116608, 0.018276406452059746, 0.034061431884765625, 0.03961526229977608, 0.03766555339097977, 0.0303325355052948, 0.024237554520368576, 0.00852397084236145, 0.015753595158457756, 0.0062459539622068405, 0.011993254534900188, 0.04130471870303154, 0.01937481388449669, 0.18057185411453247, 0.011285826563835144, 0.05142823979258537, 0.11386959999799728, 0.08131392300128937, 0.0, 0.0, 0.0, 0.0, 0.0, 0.0, 0.0], [0.00023735675495117903, 0.010714998468756676, 0.06934269517660141, 0.02308676950633526, 0.08950372785329819, 0.006875783670693636, 0.023117484524846077, 0.010461545549333096, 0.006369220558553934, 0.020554665476083755, 0.020496508106589317, 0.07274062186479568, 0.03702525794506073, 0.025985216721892357, 0.005457581020891666, 0.018303677439689636, 0.006529801990836859, 0.016525212675333023, 0.048666466027498245, 0.004362206440418959, 0.18349198997020721, 0.012439398095011711, 0.021966341882944107, 0.09656088054180145, 0.04336028918623924, 0.1258242428302765, 0.0, 0.0, 0.0, 0.0, 0.0, 0.0], [2.692654015845619e-05, 0.0095689557492733, 0.05188170447945595, 0.04258488118648529, 0.043692026287317276, 0.017696477472782135, 0.020228581503033638, 0.011606363579630852, 0.0027157170698046684, 0.008087879046797752, 0.016062716022133827, 0.11437517404556274, 0.08007390797138214, 0.031845640391111374, 0.013258840888738632, 0.033445026725530624, 0.026944072917103767, 0.02318061701953411, 0.05048459395766258, 0.0036693294532597065, 0.08757146447896957, 0.035060252994298935, 0.01886824145913124, 0.08022494614124298, 0.016666051000356674, 0.04523368924856186, 0.11494597047567368, 0.0, 0.0, 0.0, 0.0, 0.0], [3.127652598777786e-05, 0.005555188748985529, 0.012266621924936771, 0.0244595967233181, 0.04238441213965416, 0.009423811919987202, 0.013555685058236122, 0.01759893074631691, 0.004193252418190241, 0.015524663962423801, 0.015482834540307522, 0.005465564783662558, 0.04527205601334572, 0.0183588657528162, 0.007319099735468626, 0.02961316704750061, 0.030131617560982704, 0.0041486662812530994, 0.03518250584602356, 0.02084588073194027, 0.02686048485338688, 0.013900446705520153, 0.08912704885005951, 0.19163189828395844, 0.03210355341434479, 0.11387854069471359, 0.1235133558511734, 0.0521710179746151, 0.0, 0.0, 0.0, 0.0], [3.305219433968887e-05, 0.007492563221603632, 0.012579146772623062, 0.024436362087726593, 0.05878381431102753, 0.012491517700254917, 0.005436570383608341, 0.012967835180461407, 0.0048745558597147465, 0.02357613854110241, 0.011227886192500591, 0.002485845237970352, 0.013926686719059944, 0.006762088742107153, 0.006819533184170723, 0.0172831192612648, 0.014772746711969376, 0.0014308756217360497, 0.03543047606945038, 0.01885463483631611, 0.017540059983730316, 0.006430057808756828, 0.08809830993413925, 0.28488701581954956, 0.042656850069761276, 0.16135169565677643, 0.07914769649505615, 0.023535925894975662, 0.004686947446316481, 0.0, 0.0, 0.0], [2.0760158804478124e-05, 0.01897095888853073, 0.03230326622724533, 0.0323360301554203, 0.029591793194413185, 0.02758719027042389, 0.007408898789435625, 0.013956142589449883, 0.004023974761366844, 0.008010594174265862, 0.012416709214448929, 0.010293538682162762, 0.046648867428302765, 0.009010590612888336, 0.009664942510426044, 0.00919767189770937, 0.014941259287297726, 0.0028243970591574907, 0.0373690240085125, 0.024799752980470657, 0.024439401924610138, 0.0474972203373909, 0.08684325218200684, 0.1270110011100769, 0.02179630659520626, 0.040515363216400146, 0.0772508904337883, 0.03793180733919144, 0.015866393223404884, 0.16947199404239655, 0.0, 0.0], [0.003008288098499179, 0.01325630210340023, 0.11620792746543884, 0.05665899068117142, 0.05481599271297455, 0.003911853302270174, 0.04115041717886925, 0.007936850190162659, 0.004399368539452553, 0.00728499935939908, 0.015222592279314995, 0.009573732502758503, 0.03781367838382721, 0.013585013337433338, 0.01124346349388361, 0.014907673932611942, 0.008069398812949657, 0.0031964783556759357, 0.015034601092338562, 0.01794087328016758, 0.04531582444906235, 0.00728881498798728, 0.04281844571232796, 0.05402166023850441, 0.023333394899964333, 0.02717076614499092, 0.0827542096376419, 0.051995594054460526, 0.025768103078007698, 0.08641746640205383, 0.09789720922708511, 0.0], [0.0002334756136406213, 0.00842589233070612, 0.021697603166103363, 0.022099949419498444, 0.03692576289176941, 0.0036043059080839157, 0.013500797562301159, 0.0050591216422617435, 0.0012301405658945441, 0.003124083625152707, 0.005156306549906731, 0.004340124316513538, 0.02946152538061142, 0.011844986118376255, 0.006384494248777628, 0.008647995069622993, 0.002786812372505665, 0.0011175228282809258, 0.021410977467894554, 0.0056566717103123665, 0.02866756170988083, 0.016960298642516136, 0.043925266712903976, 0.0812055841088295, 0.01227235235273838, 0.027780359610915184, 0.058281607925891876, 0.053312838077545166, 0.016108796000480652, 0.22554461658000946, 0.05095487833023071, 0.17227724194526672]], [[1.0, 0.0, 0.0, 0.0, 0.0, 0.0, 0.0, 0.0, 0.0, 0.0, 0.0, 0.0, 0.0, 0.0, 0.0, 0.0, 0.0, 0.0, 0.0, 0.0, 0.0, 0.0, 0.0, 0.0, 0.0, 0.0, 0.0, 0.0, 0.0, 0.0, 0.0, 0.0], [0.6423894762992859, 0.3576105833053589, 0.0, 0.0, 0.0, 0.0, 0.0, 0.0, 0.0, 0.0, 0.0, 0.0, 0.0, 0.0, 0.0, 0.0, 0.0, 0.0, 0.0, 0.0, 0.0, 0.0, 0.0, 0.0, 0.0, 0.0, 0.0, 0.0, 0.0, 0.0, 0.0, 0.0], [0.44238027930259705, 0.14978207647800446, 0.40783753991127014, 0.0, 0.0, 0.0, 0.0, 0.0, 0.0, 0.0, 0.0, 0.0, 0.0, 0.0, 0.0, 0.0, 0.0, 0.0, 0.0, 0.0, 0.0, 0.0, 0.0, 0.0, 0.0, 0.0, 0.0, 0.0, 0.0, 0.0, 0.0, 0.0], [0.09407829493284225, 0.09436682611703873, 0.5016320943832397, 0.3099227845668793, 0.0, 0.0, 0.0, 0.0, 0.0, 0.0, 0.0, 0.0, 0.0, 0.0, 0.0, 0.0, 0.0, 0.0, 0.0, 0.0, 0.0, 0.0, 0.0, 0.0, 0.0, 0.0, 0.0, 0.0, 0.0, 0.0, 0.0, 0.0], [0.2893499433994293, 0.4406988024711609, 0.10961467772722244, 0.04566093906760216, 0.11467576026916504, 0.0, 0.0, 0.0, 0.0, 0.0, 0.0, 0.0, 0.0, 0.0, 0.0, 0.0, 0.0, 0.0, 0.0, 0.0, 0.0, 0.0, 0.0, 0.0, 0.0, 0.0, 0.0, 0.0, 0.0, 0.0, 0.0, 0.0], [0.9962712526321411, 0.002300999825820327, 9.39201345317997e-05, 0.0008647243375889957, 0.0001612682972336188, 0.0003077793517149985, 0.0, 0.0, 0.0, 0.0, 0.0, 0.0, 0.0, 0.0, 0.0, 0.0, 0.0, 0.0, 0.0, 0.0, 0.0, 0.0, 0.0, 0.0, 0.0, 0.0, 0.0, 0.0, 0.0, 0.0, 0.0, 0.0], [0.31388550996780396, 0.1413370817899704, 0.09224530309438705, 0.060147013515233994, 0.07792489230632782, 0.02204752340912819, 0.292412668466568, 0.0, 0.0, 0.0, 0.0, 0.0, 0.0, 0.0, 0.0, 0.0, 0.0, 0.0, 0.0, 0.0, 0.0, 0.0, 0.0, 0.0, 0.0, 0.0, 0.0, 0.0, 0.0, 0.0, 0.0, 0.0], [0.3701280355453491, 0.2181880921125412, 0.022286633029580116, 0.04056648537516594, 0.019759904593229294, 0.027208881452679634, 0.029139621183276176, 0.2727223336696625, 0.0, 0.0, 0.0, 0.0, 0.0, 0.0, 0.0, 0.0, 0.0, 0.0, 0.0, 0.0, 0.0, 0.0, 0.0, 0.0, 0.0, 0.0, 0.0, 0.0, 0.0, 0.0, 0.0, 0.0], [0.030112966895103455, 0.10998930782079697, 0.061729274690151215, 0.08788555860519409, 0.05050984397530556, 0.08985386043787003, 0.016423726454377174, 0.19829215109348297, 0.3552033305168152, 0.0, 0.0, 0.0, 0.0, 0.0, 0.0, 0.0, 0.0, 0.0, 0.0, 0.0, 0.0, 0.0, 0.0, 0.0, 0.0, 0.0, 0.0, 0.0, 0.0, 0.0, 0.0, 0.0], [0.15258295834064484, 0.05105074495077133, 0.07781058549880981, 0.02720305509865284, 0.12443627417087555, 0.09645769745111465, 0.051523614674806595, 0.03452114388346672, 0.1273222118616104, 0.257091760635376, 0.0, 0.0, 0.0, 0.0, 0.0, 0.0, 0.0, 0.0, 0.0, 0.0, 0.0, 0.0, 0.0, 0.0, 0.0, 0.0, 0.0, 0.0, 0.0, 0.0, 0.0, 0.0], [0.015502468682825565, 0.011199213564395905, 0.018874062225222588, 0.00577736459672451, 0.04519946873188019, 0.100936159491539, 0.018092723563313484, 0.007500053383409977, 0.059306927025318146, 0.26329389214515686, 0.45431768894195557, 0.0, 0.0, 0.0, 0.0, 0.0, 0.0, 0.0, 0.0, 0.0, 0.0, 0.0, 0.0, 0.0, 0.0, 0.0, 0.0, 0.0, 0.0, 0.0, 0.0, 0.0], [0.763141930103302, 0.02175591140985489, 0.0005573157104663551, 0.004012945108115673, 0.0013655415968969464, 0.014815563336014748, 0.000284966838080436, 0.013312483206391335, 0.007739378605037928, 0.008582505397498608, 0.009367873892188072, 0.15506356954574585, 0.0, 0.0, 0.0, 0.0, 0.0, 0.0, 0.0, 0.0, 0.0, 0.0, 0.0, 0.0, 0.0, 0.0, 0.0, 0.0, 0.0, 0.0, 0.0, 0.0], [0.8840331435203552, 0.03758881241083145, 0.00010979381477227435, 0.004596168175339699, 9.668667189544067e-05, 0.005022323690354824, 1.801669532142114e-05, 0.018651248887181282, 0.0018809079192578793, 0.00035187118919566274, 0.00025464798090979457, 0.023254642263054848, 0.024141795933246613, 0.0, 0.0, 0.0, 0.0, 0.0, 0.0, 0.0, 0.0, 0.0, 0.0, 0.0, 0.0, 0.0, 0.0, 0.0, 0.0, 0.0, 0.0, 0.0], [0.1610751897096634, 0.17985321581363678, 0.00999736413359642, 0.04258197546005249, 0.005157617852091789, 0.05641278624534607, 0.00659522507339716, 0.0454934723675251, 0.01614825241267681, 0.005326776299625635, 0.0062667569145560265, 0.1847492903470993, 0.2681911289691925, 0.01215091161429882, 0.0, 0.0, 0.0, 0.0, 0.0, 0.0, 0.0, 0.0, 0.0, 0.0, 0.0, 0.0, 0.0, 0.0, 0.0, 0.0, 0.0, 0.0], [0.9791566133499146, 0.008851916529238224, 2.3673701434745453e-05, 0.0008711742702871561, 1.1911083674931433e-05, 0.00013947152183391154, 1.3301010767463595e-05, 0.003955667372792959, 0.00012716757191810757, 2.0084808056708425e-05, 1.2533070730569307e-05, 0.00043524603825062513, 0.004181237891316414, 2.6689842798077734e-06, 0.002197488909587264, 0.0, 0.0, 0.0, 0.0, 0.0, 0.0, 0.0, 0.0, 0.0, 0.0, 0.0, 0.0, 0.0, 0.0, 0.0, 0.0, 0.0], [0.5039768218994141, 0.037933606654405594, 0.0009820025879889727, 0.017943942919373512, 0.0016718737315386534, 0.009487418457865715, 0.0007325154729187489, 0.013101967051625252, 0.009093019179999828, 0.002545349532738328, 0.0010241590207442641, 0.021565943956375122, 0.015504580922424793, 0.0007888637483119965, 0.09318647533655167, 0.27046141028404236, 0.0, 0.0, 0.0, 0.0, 0.0, 0.0, 0.0, 0.0, 0.0, 0.0, 0.0, 0.0, 0.0, 0.0, 0.0, 0.0], [0.6844300627708435, 0.08994826674461365, 0.00010697207471821457, 0.024335544556379318, 0.00015469503705389798, 0.005940034985542297, 8.258438901975751e-05, 0.018323078751564026, 0.0013203395064920187, 0.00035129074240103364, 6.66004852973856e-05, 0.0017972839996218681, 0.011544162407517433, 1.3865484106645454e-05, 0.012066065333783627, 0.12326601147651672, 0.02625321038067341, 0.0, 0.0, 0.0, 0.0, 0.0, 0.0, 0.0, 0.0, 0.0, 0.0, 0.0, 0.0, 0.0, 0.0, 0.0], [0.35652226209640503, 0.05160542204976082, 0.00011508085299283266, 0.01710965670645237, 0.00012345860886853188, 0.022637557238340378, 8.965685992734507e-05, 0.009303919970989227, 0.0035257970448583364, 0.0008887905278243124, 0.0003897799178957939, 0.02397066541016102, 0.011128148064017296, 4.5005299398326315e-06, 0.03298727795481682, 0.13344357907772064, 0.054414793848991394, 0.28173962235450745, 0.0, 0.0, 0.0, 0.0, 0.0, 0.0, 0.0, 0.0, 0.0, 0.0, 0.0, 0.0, 0.0, 0.0], [0.20890741050243378, 0.16875147819519043, 0.000244625611230731, 0.008527044206857681, 2.815771040332038e-05, 0.008160499855875969, 0.00010063983791042119, 0.0214705690741539, 0.0030254037119448185, 0.00043767428724095225, 7.947505946503952e-05, 0.038379233330488205, 0.057402074337005615, 6.827488050475949e-06, 0.10330072790384293, 0.10309267789125443, 0.11171791702508926, 0.1663598120212555, 7.723803719272837e-06, 0.0, 0.0, 0.0, 0.0, 0.0, 0.0, 0.0, 0.0, 0.0, 0.0, 0.0, 0.0, 0.0], [0.04055700823664665, 0.018295248970389366, 0.082368403673172, 0.08865691721439362, 0.021061791107058525, 0.1453416645526886, 0.04361295700073242, 0.0084801334887743, 0.025621211156249046, 0.038775186985731125, 0.011100079864263535, 0.05758843570947647, 0.01714303158223629, 0.008668518625199795, 0.06306695193052292, 0.02893754467368126, 0.06766073405742645, 0.06998653709888458, 0.023956824094057083, 0.13912087678909302, 0.0, 0.0, 0.0, 0.0, 0.0, 0.0, 0.0, 0.0, 0.0, 0.0, 0.0, 0.0], [0.05356389656662941, 0.03627108410000801, 0.04474613815546036, 0.015852775424718857, 0.004917404148727655, 0.014120507054030895, 0.015126252546906471, 0.009724314324557781, 0.011742773465812206, 0.00900049228221178, 0.005419562105089426, 0.07874985784292221, 0.06558127701282501, 0.025423528626561165, 0.0871487408876419, 0.04114420711994171, 0.05812390521168709, 0.12284142524003983, 0.05967380851507187, 0.16371242702007294, 0.07711564749479294, 0.0, 0.0, 0.0, 0.0, 0.0, 0.0, 0.0, 0.0, 0.0, 0.0, 0.0], [0.6226298213005066, 0.058914490044116974, 0.004276016261428595, 0.09412142634391785, 0.001066917204298079, 0.006863331887871027, 0.000997916329652071, 0.012143109925091267, 0.0005334593588486314, 0.0003206877445336431, 0.00021577994630206376, 0.0007738439599052072, 0.01013459637761116, 0.00023063516709953547, 0.006966602057218552, 0.003692218568176031, 0.0018457192927598953, 0.001328515587374568, 0.0004181835101917386, 0.12638287246227264, 0.007038928102701902, 0.03910497948527336, 0.0, 0.0, 0.0, 0.0, 0.0, 0.0, 0.0, 0.0, 0.0, 0.0], [0.04709011688828468, 0.006620882544666529, 0.11529413610696793, 0.02875208482146263, 0.11218854784965515, 0.004365736152976751, 0.10972314327955246, 0.0052942316979169846, 0.021546753123402596, 0.03481144458055496, 0.025679394602775574, 0.02191470004618168, 0.01046556793153286, 0.019674640148878098, 0.010818425565958023, 0.00763374799862504, 0.0009922647150233388, 0.022024961188435555, 0.03779570385813713, 0.01001917663961649, 0.30200064182281494, 0.02019970677793026, 0.025094004347920418, 0.0, 0.0, 0.0, 0.0, 0.0, 0.0, 0.0, 0.0, 0.0], [0.05436564236879349, 0.021622713655233383, 0.025536591187119484, 0.020105736330151558, 0.022315753623843193, 0.004685263615101576, 0.017372939735651016, 0.02903609909117222, 0.02588677778840065, 0.04192560166120529, 0.007919589057564735, 0.12181280553340912, 0.1296907663345337, 0.007055257447063923, 0.033035460859537125, 0.011771537363529205, 0.00014347991964314133, 0.038303080946207047, 0.032297439873218536, 0.08424472063779831, 0.009173449128866196, 0.08135554939508438, 0.10412144660949707, 0.07622236758470535, 0.0, 0.0, 0.0, 0.0, 0.0, 0.0, 0.0, 0.0], [0.006438191048800945, 0.010506004095077515, 0.039553944021463394, 0.04678470641374588, 0.039820075035095215, 0.023547397926449776, 0.009701988659799099, 0.029361046850681305, 0.05066292732954025, 0.027375558391213417, 0.01637779176235199, 0.03074812702834606, 0.046951428055763245, 0.03453588858246803, 0.03192923590540886, 0.007846175692975521, 0.0008151740184985101, 0.006044836714863777, 0.03667489439249039, 0.03021850623190403, 0.051352161914110184, 0.061159659177064896, 0.04222562909126282, 0.0947999581694603, 0.22456873953342438, 0.0, 0.0, 0.0, 0.0, 0.0, 0.0, 0.0], [0.030184872448444366, 0.002867146860808134, 0.02209303341805935, 0.00984738115221262, 0.08764659613370895, 0.033348292112350464, 0.025914596393704414, 0.00436164066195488, 0.023805838078260422, 0.08389350026845932, 0.031664684414863586, 0.013855391182005405, 0.006310867145657539, 0.019433973357081413, 0.004669167101383209, 0.0011517542880028486, 0.00027033465448766947, 0.003007221268489957, 0.031784720718860626, 0.005634233821183443, 0.10616389662027359, 0.04385120049118996, 0.010258061811327934, 0.015169802121818066, 0.08790567517280579, 0.29490604996681213, 0.0, 0.0, 0.0, 0.0, 0.0, 0.0], [0.003811222268268466, 0.000902666593901813, 0.004310788586735725, 0.0021414291113615036, 0.019415585324168205, 0.03504985570907593, 0.009218519553542137, 0.0009202524088323116, 0.011327262036502361, 0.07494928687810898, 0.09522456675767899, 0.013604334555566311, 0.0017536471132189035, 0.008278102613985538, 0.0030780385714024305, 0.0001861393975559622, 0.00010300736903445795, 0.00179692090023309, 0.011698441579937935, 0.0014875447377562523, 0.13366122543811798, 0.01708832196891308, 0.0027297998312860727, 0.0015912322560325265, 0.023443050682544708, 0.20397524535655975, 0.31825345754623413, 0.0, 0.0, 0.0, 0.0, 0.0], [0.34931883215904236, 0.02186671458184719, 0.00354708987288177, 0.01627466082572937, 0.00852138176560402, 0.056421734392642975, 0.0031042920891195536, 0.008947615511715412, 0.007294788025319576, 0.017840208485722542, 0.01969112828373909, 0.026956068351864815, 0.016861390322446823, 0.004212265368551016, 0.016002386808395386, 0.00493696890771389, 0.007533907424658537, 0.01399390958249569, 0.002305210568010807, 0.04041710123419762, 0.01941811665892601, 0.032515909522771835, 0.11613507568836212, 0.012758373282849789, 0.014778421260416508, 0.04484538361430168, 0.054258570075035095, 0.05924255773425102, 0.0, 0.0, 0.0, 0.0], [0.8503849506378174, 0.010140890255570412, 3.821778955170885e-05, 0.0008661253377795219, 2.6088478989549913e-05, 0.0022859887685626745, 1.5078521755640395e-05, 0.001184933353215456, 0.0004750258813146502, 0.00014230947999749333, 0.0001712004013825208, 0.011426184326410294, 0.004017213359475136, 6.6731586230162065e-06, 0.0051632169634103775, 0.0022389746736735106, 0.007920606061816216, 0.017399447038769722, 1.6730615470805787e-06, 0.014475864358246326, 0.0002638690348248929, 0.006689937319606543, 0.007138032466173172, 0.002065452979877591, 0.000919709331355989, 0.0003786203742492944, 0.000512574624735862, 0.004674127325415611, 0.04897705465555191, 0.0, 0.0, 0.0], [0.3104603588581085, 0.09087426960468292, 0.0001697045227047056, 0.004810909740626812, 2.050894545391202e-05, 0.00437468895688653, 5.705002695322037e-05, 0.012026832439005375, 0.0011866118293255568, 0.00030096786213107407, 9.491817763773724e-05, 0.02554001286625862, 0.022004902362823486, 6.077413218008587e-06, 0.04294953495264053, 0.009107931517064571, 0.03506333753466606, 0.025708414614200592, 4.038126917293994e-06, 0.2567484378814697, 6.378025136655197e-05, 0.020851928740739822, 0.040469639003276825, 0.0074688768945634365, 0.0015312605537474155, 0.0003550469409674406, 0.00011631241795839742, 0.0061400518752634525, 0.08148786425590515, 5.72096359974239e-06, 0.0, 0.0], [0.04001767188310623, 0.010755563154816628, 0.048037007451057434, 0.046063750982284546, 0.00880836509168148, 0.0780486911535263, 0.015253432095050812, 0.004518755245953798, 0.00918564572930336, 0.016796275973320007, 0.0054181949235498905, 0.02924630045890808, 0.008788754232227802, 0.004870447795838118, 0.037336573004722595, 0.007727027405053377, 0.03779727965593338, 0.02236287109553814, 0.009248697198927402, 0.0758720114827156, 0.07382123172283173, 0.017325539141893387, 0.012924442999064922, 0.0065268767066299915, 0.013879881240427494, 0.01605953834950924, 0.007007594220340252, 0.07101055234670639, 0.06467120349407196, 0.012757828459143639, 0.18786214292049408, 0.0], [0.04469384253025055, 0.02320333756506443, 0.025627823546528816, 0.013039927929639816, 0.0026108045130968094, 0.013064960949122906, 0.009414692409336567, 0.0060728685930371284, 0.0052414448000490665, 0.005912414286285639, 0.003283238038420677, 0.042391516268253326, 0.03458273410797119, 0.009032524190843105, 0.053777579218149185, 0.008791347965598106, 0.01893499679863453, 0.03415752574801445, 0.014608630910515785, 0.08971263468265533, 0.03260932117700577, 0.01592404767870903, 0.026202712208032608, 0.008561532944440842, 0.010289208963513374, 0.006244078744202852, 0.005131825339049101, 0.031725067645311356, 0.09290656447410583, 0.023250676691532135, 0.22983495891094208, 0.059165239334106445]], [[1.0, 0.0, 0.0, 0.0, 0.0, 0.0, 0.0, 0.0, 0.0, 0.0, 0.0, 0.0, 0.0, 0.0, 0.0, 0.0, 0.0, 0.0, 0.0, 0.0, 0.0, 0.0, 0.0, 0.0, 0.0, 0.0, 0.0, 0.0, 0.0, 0.0, 0.0, 0.0], [0.6070399284362793, 0.3929601013660431, 0.0, 0.0, 0.0, 0.0, 0.0, 0.0, 0.0, 0.0, 0.0, 0.0, 0.0, 0.0, 0.0, 0.0, 0.0, 0.0, 0.0, 0.0, 0.0, 0.0, 0.0, 0.0, 0.0, 0.0, 0.0, 0.0, 0.0, 0.0, 0.0, 0.0], [0.6242436170578003, 0.23001857101917267, 0.14573781192302704, 0.0, 0.0, 0.0, 0.0, 0.0, 0.0, 0.0, 0.0, 0.0, 0.0, 0.0, 0.0, 0.0, 0.0, 0.0, 0.0, 0.0, 0.0, 0.0, 0.0, 0.0, 0.0, 0.0, 0.0, 0.0, 0.0, 0.0, 0.0, 0.0], [0.6478375196456909, 0.14536108076572418, 0.08224909007549286, 0.12455228716135025, 0.0, 0.0, 0.0, 0.0, 0.0, 0.0, 0.0, 0.0, 0.0, 0.0, 0.0, 0.0, 0.0, 0.0, 0.0, 0.0, 0.0, 0.0, 0.0, 0.0, 0.0, 0.0, 0.0, 0.0, 0.0, 0.0, 0.0, 0.0], [0.32229083776474, 0.17379912734031677, 0.21219418942928314, 0.09614988416433334, 0.19556589424610138, 0.0, 0.0, 0.0, 0.0, 0.0, 0.0, 0.0, 0.0, 0.0, 0.0, 0.0, 0.0, 0.0, 0.0, 0.0, 0.0, 0.0, 0.0, 0.0, 0.0, 0.0, 0.0, 0.0, 0.0, 0.0, 0.0, 0.0], [0.21756067872047424, 0.07954685389995575, 0.2979453206062317, 0.0829821452498436, 0.2375161051750183, 0.08444887399673462, 0.0, 0.0, 0.0, 0.0, 0.0, 0.0, 0.0, 0.0, 0.0, 0.0, 0.0, 0.0, 0.0, 0.0, 0.0, 0.0, 0.0, 0.0, 0.0, 0.0, 0.0, 0.0, 0.0, 0.0, 0.0, 0.0], [0.3960045278072357, 0.08378208428621292, 0.14664462208747864, 0.03311089798808098, 0.2031395584344864, 0.04588808864355087, 0.09143023937940598, 0.0, 0.0, 0.0, 0.0, 0.0, 0.0, 0.0, 0.0, 0.0, 0.0, 0.0, 0.0, 0.0, 0.0, 0.0, 0.0, 0.0, 0.0, 0.0, 0.0, 0.0, 0.0, 0.0, 0.0, 0.0], [0.5019003748893738, 0.04636576771736145, 0.1208958849310875, 0.03232647478580475, 0.12849511206150055, 0.07897183299064636, 0.025296291336417198, 0.06574825942516327, 0.0, 0.0, 0.0, 0.0, 0.0, 0.0, 0.0, 0.0, 0.0, 0.0, 0.0, 0.0, 0.0, 0.0, 0.0, 0.0, 0.0, 0.0, 0.0, 0.0, 0.0, 0.0, 0.0, 0.0], [0.556702733039856, 0.07483356446027756, 0.04005219787359238, 0.02260812558233738, 0.05545772984623909, 0.0466977059841156, 0.023622652515769005, 0.03548692166805267, 0.14453837275505066, 0.0, 0.0, 0.0, 0.0, 0.0, 0.0, 0.0, 0.0, 0.0, 0.0, 0.0, 0.0, 0.0, 0.0, 0.0, 0.0, 0.0, 0.0, 0.0, 0.0, 0.0, 0.0, 0.0], [0.4962190091609955, 0.08235151320695877, 0.037741709500551224, 0.02790829911828041, 0.05199117958545685, 0.048537496477365494, 0.015201259404420853, 0.07164430618286133, 0.07393423467874527, 0.09447097033262253, 0.0, 0.0, 0.0, 0.0, 0.0, 0.0, 0.0, 0.0, 0.0, 0.0, 0.0, 0.0, 0.0, 0.0, 0.0, 0.0, 0.0, 0.0, 0.0, 0.0, 0.0, 0.0], [0.5624908208847046, 0.1433972716331482, 0.03428494557738304, 0.019684506580233574, 0.033603910356760025, 0.015918850898742676, 0.017989562824368477, 0.02727534994482994, 0.03241676092147827, 0.048041000962257385, 0.06489695608615875, 0.0, 0.0, 0.0, 0.0, 0.0, 0.0, 0.0, 0.0, 0.0, 0.0, 0.0, 0.0, 0.0, 0.0, 0.0, 0.0, 0.0, 0.0, 0.0, 0.0, 0.0], [0.03906308114528656, 0.09678302705287933, 0.11089976131916046, 0.13497497141361237, 0.11614156514406204, 0.08238109201192856, 0.068707175552845, 0.05357586219906807, 0.10095246136188507, 0.08195129036903381, 0.07976844161748886, 0.03480129316449165, 0.0, 0.0, 0.0, 0.0, 0.0, 0.0, 0.0, 0.0, 0.0, 0.0, 0.0, 0.0, 0.0, 0.0, 0.0, 0.0, 0.0, 0.0, 0.0, 0.0], [0.07503993809223175, 0.05713358893990517, 0.05702371522784233, 0.04287966713309288, 0.1953587532043457, 0.03720342367887497, 0.12396743148565292, 0.03333532437682152, 0.1186399906873703, 0.11389852315187454, 0.09481505304574966, 0.020925430580973625, 0.029779206961393356, 0.0, 0.0, 0.0, 0.0, 0.0, 0.0, 0.0, 0.0, 0.0, 0.0, 0.0, 0.0, 0.0, 0.0, 0.0, 0.0, 0.0, 0.0, 0.0], [0.03318005055189133, 0.03919607773423195, 0.08966687321662903, 0.13455040752887726, 0.09999904781579971, 0.10512273013591766, 0.12868566811084747, 0.0332433320581913, 0.0755382552742958, 0.07061749696731567, 0.06288959830999374, 0.04427739977836609, 0.02004777081310749, 0.06298527121543884, 0.0, 0.0, 0.0, 0.0, 0.0, 0.0, 0.0, 0.0, 0.0, 0.0, 0.0, 0.0, 0.0, 0.0, 0.0, 0.0, 0.0, 0.0], [0.10534641146659851, 0.07972759753465652, 0.057645827531814575, 0.12618732452392578, 0.05668671429157257, 0.04905180633068085, 0.1008291095495224, 0.05411003157496452, 0.12071835994720459, 0.07938764989376068, 0.06570896506309509, 0.020895224064588547, 0.020017793402075768, 0.020099954679608345, 0.043587278574705124, 0.0, 0.0, 0.0, 0.0, 0.0, 0.0, 0.0, 0.0, 0.0, 0.0, 0.0, 0.0, 0.0, 0.0, 0.0, 0.0, 0.0], [0.03588161990046501, 0.037777047604322433, 0.10966652631759644, 0.10145959258079529, 0.09232461452484131, 0.05383249744772911, 0.03248201310634613, 0.04254579544067383, 0.09450465440750122, 0.05222846567630768, 0.08388397097587585, 0.02600921131670475, 0.01626734994351864, 0.06362032145261765, 0.12170878797769547, 0.03580750897526741, 0.0, 0.0, 0.0, 0.0, 0.0, 0.0, 0.0, 0.0, 0.0, 0.0, 0.0, 0.0, 0.0, 0.0, 0.0, 0.0], [0.048168838024139404, 0.03993687406182289, 0.07741289585828781, 0.044785309582948685, 0.07147549837827682, 0.029526399448513985, 0.0312502346932888, 0.04593472182750702, 0.09818363189697266, 0.054143812507390976, 0.0664016529917717, 0.021252358332276344, 0.016986344009637833, 0.054396435618400574, 0.09792830049991608, 0.030809378251433372, 0.17140734195709229, 0.0, 0.0, 0.0, 0.0, 0.0, 0.0, 0.0, 0.0, 0.0, 0.0, 0.0, 0.0, 0.0, 0.0, 0.0], [0.01851021498441696, 0.02185569331049919, 0.05087916925549507, 0.03287135437130928, 0.09309256821870804, 0.033566802740097046, 0.03253449499607086, 0.03814198449254036, 0.09813026338815689, 0.09209547936916351, 0.10938413441181183, 0.01741507463157177, 0.013789024204015732, 0.06510642170906067, 0.10189583897590637, 0.02379666268825531, 0.11275878548622131, 0.04417603462934494, 0.0, 0.0, 0.0, 0.0, 0.0, 0.0, 0.0, 0.0, 0.0, 0.0, 0.0, 0.0, 0.0, 0.0], [0.08773987740278244, 0.0455380380153656, 0.033684708178043365, 0.06379128992557526, 0.060070302337408066, 0.0682510957121849, 0.03328810632228851, 0.06413572281599045, 0.10720690339803696, 0.0971277579665184, 0.08738018572330475, 0.028981178998947144, 0.017239447683095932, 0.02077842876315117, 0.053641729056835175, 0.015099049545824528, 0.05406249687075615, 0.01609950326383114, 0.04588421434164047, 0.0, 0.0, 0.0, 0.0, 0.0, 0.0, 0.0, 0.0, 0.0, 0.0, 0.0, 0.0, 0.0], [0.06352710723876953, 0.022778423503041267, 0.028051119297742844, 0.030779199674725533, 0.11681236326694489, 0.023405935615301132, 0.1371486783027649, 0.03951509669423103, 0.09534374624490738, 0.1889515519142151, 0.12667231261730194, 0.017607828602194786, 0.008823275566101074, 0.02116539515554905, 0.013253380544483662, 0.0065100775100290775, 0.008237943053245544, 0.006837190594524145, 0.02305125817656517, 0.021528039127588272, 0.0, 0.0, 0.0, 0.0, 0.0, 0.0, 0.0, 0.0, 0.0, 0.0, 0.0, 0.0], [0.06244488060474396, 0.030025741085410118, 0.033751506358385086, 0.03429259732365608, 0.06361998617649078, 0.03347381204366684, 0.03740575164556503, 0.04005889594554901, 0.13235072791576385, 0.12134099006652832, 0.14859510958194733, 0.028582969680428505, 0.013499720953404903, 0.018033208325505257, 0.015484754927456379, 0.0073531921952962875, 0.013197127729654312, 0.01189110055565834, 0.02625020407140255, 0.024592546746134758, 0.10375510156154633, 0.0, 0.0, 0.0, 0.0, 0.0, 0.0, 0.0, 0.0, 0.0, 0.0, 0.0], [0.012760775163769722, 0.026872415095567703, 0.08515816181898117, 0.06261038780212402, 0.13990798592567444, 0.028132976964116096, 0.14383438229560852, 0.02723560482263565, 0.09277771413326263, 0.08068058639764786, 0.0985141471028328, 0.009546229615807533, 0.006988287903368473, 0.04440499097108841, 0.008878745138645172, 0.004353401716798544, 0.004798291716724634, 0.006319952197372913, 0.019510870799422264, 0.004009004216641188, 0.0739886611700058, 0.018716365098953247, 0.0, 0.0, 0.0, 0.0, 0.0, 0.0, 0.0, 0.0, 0.0, 0.0], [0.026042994111776352, 0.01260520052164793, 0.040208786725997925, 0.02138788439333439, 0.14369317889213562, 0.014032658189535141, 0.2026897370815277, 0.01686340942978859, 0.05342065915465355, 0.1228649914264679, 0.1114162802696228, 0.016733597964048386, 0.004005216062068939, 0.036974307149648666, 0.006999284029006958, 0.0041746473871171474, 0.003158397739753127, 0.004989180248230696, 0.013435274362564087, 0.0032669983338564634, 0.11246632039546967, 0.017048267647624016, 0.011522723361849785, 0.0, 0.0, 0.0, 0.0, 0.0, 0.0, 0.0, 0.0, 0.0], [0.08579163998365402, 0.0225412305444479, 0.0511840395629406, 0.02909589186310768, 0.08240766078233719, 0.026575541123747826, 0.04259755462408066, 0.027028538286685944, 0.10182332247495651, 0.13583248853683472, 0.13817615807056427, 0.0367690809071064, 0.006166520994156599, 0.01593972183763981, 0.010501406155526638, 0.007332708220928907, 0.013312192633748055, 0.0074713388457894325, 0.012851802632212639, 0.005693274550139904, 0.06309370696544647, 0.0198432058095932, 0.008747375570237637, 0.049223680049180984, 0.0, 0.0, 0.0, 0.0, 0.0, 0.0, 0.0, 0.0], [0.09916751086711884, 0.03390868753194809, 0.02798842452466488, 0.02203126810491085, 0.06299741566181183, 0.014455651864409447, 0.05853213742375374, 0.016625870019197464, 0.0831894725561142, 0.1046987771987915, 0.1234046071767807, 0.022708773612976074, 0.009280150756239891, 0.02727038972079754, 0.01292947307229042, 0.008049105294048786, 0.008233943954110146, 0.011492584832012653, 0.024105912074446678, 0.011767434887588024, 0.04522053152322769, 0.020038988441228867, 0.013858882710337639, 0.025982903316617012, 0.11206110566854477, 0.0, 0.0, 0.0, 0.0, 0.0, 0.0, 0.0], [0.13263262808322906, 0.04169363155961037, 0.027848809957504272, 0.023254329338669777, 0.04783317819237709, 0.015284429304301739, 0.023812852799892426, 0.038939423859119415, 0.04266861453652382, 0.07422716170549393, 0.10883598774671555, 0.03178517520427704, 0.015224318020045757, 0.009524245746433735, 0.018806660547852516, 0.005406167358160019, 0.008921623229980469, 0.007976275868713856, 0.011190584860742092, 0.02225273661315441, 0.022825002670288086, 0.026561053469777107, 0.028245041146874428, 0.057199183851480484, 0.047492992132902145, 0.1095578745007515, 0.0, 0.0, 0.0, 0.0, 0.0, 0.0], [0.16248558461666107, 0.07626880705356598, 0.04113532602787018, 0.01938685029745102, 0.03944572061300278, 0.0065327780321240425, 0.030831361189484596, 0.018523160368204117, 0.02606711909174919, 0.04450128972530365, 0.0613718181848526, 0.018080100417137146, 0.011082857847213745, 0.01158494409173727, 0.007728321012109518, 0.0048081884160637856, 0.004686176311224699, 0.007099315524101257, 0.009002311155200005, 0.029696397483348846, 0.05581691116094589, 0.009176014922559261, 0.043058112263679504, 0.04122071713209152, 0.035875480622053146, 0.08211920410394669, 0.10241511464118958, 0.0, 0.0, 0.0, 0.0, 0.0], [0.020609963685274124, 0.03214618191123009, 0.06293061375617981, 0.05267598479986191, 0.05359043553471565, 0.015061440877616405, 0.06624787300825119, 0.018111050128936768, 0.035813331604003906, 0.046020347625017166, 0.03662540018558502, 0.01626042276620865, 0.009141108952462673, 0.02292134054005146, 0.01030498743057251, 0.012790978886187077, 0.013197310268878937, 0.014768633060157299, 0.017303651198744774, 0.011364376172423363, 0.06944277882575989, 0.016652951017022133, 0.006256815046072006, 0.027384057641029358, 0.059755098074674606, 0.11921440064907074, 0.09382721781730652, 0.03958122432231903, 0.0, 0.0, 0.0, 0.0], [0.003207030240446329, 0.01512059848755598, 0.04112020134925842, 0.06298159062862396, 0.04155225306749344, 0.018846049904823303, 0.07006926089525223, 0.011406010016798973, 0.034393537789583206, 0.04090457409620285, 0.03253430873155594, 0.009767500683665276, 0.00540770310908556, 0.030057771131396294, 0.012928561307489872, 0.012835794128477573, 0.022079331800341606, 0.019481204450130463, 0.037751294672489166, 0.01216589380055666, 0.08002981543540955, 0.022366197779774666, 0.007690581027418375, 0.020173944532871246, 0.05803201347589493, 0.10795353353023529, 0.08966333419084549, 0.030097266659140587, 0.04938274994492531, 0.0, 0.0, 0.0], [0.0217178612947464, 0.020209109410643578, 0.022485842928290367, 0.041181471198797226, 0.037374235689640045, 0.02312764897942543, 0.045553311705589294, 0.021239260211586952, 0.04750384762883186, 0.05380014702677727, 0.04520275816321373, 0.01678658276796341, 0.006472668144851923, 0.01470792293548584, 0.011697686277329922, 0.007172644138336182, 0.01387919019907713, 0.00700235553085804, 0.012022026814520359, 0.008568409830331802, 0.0846046432852745, 0.027206625789403915, 0.006474649999290705, 0.035837408155202866, 0.0708356648683548, 0.12005448341369629, 0.10095308721065521, 0.024316448718309402, 0.03346925228834152, 0.01854274608194828, 0.0, 0.0], [0.016015464439988136, 0.007767776492983103, 0.012306447140872478, 0.014008530415594578, 0.04305419698357582, 0.008169351145625114, 0.07271035015583038, 0.011682474054396152, 0.032965872436761856, 0.07452838867902756, 0.04617367684841156, 0.00811816193163395, 0.0028674656059592962, 0.008468185551464558, 0.0029710368253290653, 0.0022025287616997957, 0.0021596846636384726, 0.0022473856806755066, 0.00558594660833478, 0.004011108539998531, 0.0925532653927803, 0.007885061204433441, 0.003909572493284941, 0.041382867842912674, 0.0765480175614357, 0.2090754508972168, 0.14186729490756989, 0.01776924356818199, 0.011244154535233974, 0.011533834040164948, 0.008217201568186283, 0.0], [0.019980307668447495, 0.013583427295088768, 0.02134101651608944, 0.019535209983587265, 0.03466944769024849, 0.014606158249080181, 0.025897875428199768, 0.017667334526777267, 0.06405898928642273, 0.06591074913740158, 0.07838958501815796, 0.018988007679581642, 0.0064869713969528675, 0.011615895666182041, 0.006084625609219074, 0.0036268497351557016, 0.005959437228739262, 0.005789634771645069, 0.009700289927423, 0.007290556561201811, 0.05585523322224617, 0.006914644036442041, 0.004574159625917673, 0.027547171339392662, 0.08084176480770111, 0.10235103964805603, 0.12956658005714417, 0.017148803919553757, 0.02487165667116642, 0.015382281504571438, 0.012968865223228931, 0.07079548388719559]], [[1.0, 0.0, 0.0, 0.0, 0.0, 0.0, 0.0, 0.0, 0.0, 0.0, 0.0, 0.0, 0.0, 0.0, 0.0, 0.0, 0.0, 0.0, 0.0, 0.0, 0.0, 0.0, 0.0, 0.0, 0.0, 0.0, 0.0, 0.0, 0.0, 0.0, 0.0, 0.0], [0.9089304208755493, 0.09106958657503128, 0.0, 0.0, 0.0, 0.0, 0.0, 0.0, 0.0, 0.0, 0.0, 0.0, 0.0, 0.0, 0.0, 0.0, 0.0, 0.0, 0.0, 0.0, 0.0, 0.0, 0.0, 0.0, 0.0, 0.0, 0.0, 0.0, 0.0, 0.0, 0.0, 0.0], [0.7893624901771545, 0.00957279372960329, 0.20106472074985504, 0.0, 0.0, 0.0, 0.0, 0.0, 0.0, 0.0, 0.0, 0.0, 0.0, 0.0, 0.0, 0.0, 0.0, 0.0, 0.0, 0.0, 0.0, 0.0, 0.0, 0.0, 0.0, 0.0, 0.0, 0.0, 0.0, 0.0, 0.0, 0.0], [0.9611031413078308, 0.013376683928072453, 0.003691841149702668, 0.0218283012509346, 0.0, 0.0, 0.0, 0.0, 0.0, 0.0, 0.0, 0.0, 0.0, 0.0, 0.0, 0.0, 0.0, 0.0, 0.0, 0.0, 0.0, 0.0, 0.0, 0.0, 0.0, 0.0, 0.0, 0.0, 0.0, 0.0, 0.0, 0.0], [0.9846076369285583, 0.002717324998229742, 0.0011581872822716832, 0.0008795732283033431, 0.01063733734190464, 0.0, 0.0, 0.0, 0.0, 0.0, 0.0, 0.0, 0.0, 0.0, 0.0, 0.0, 0.0, 0.0, 0.0, 0.0, 0.0, 0.0, 0.0, 0.0, 0.0, 0.0, 0.0, 0.0, 0.0, 0.0, 0.0, 0.0], [0.9648036360740662, 0.011997421272099018, 0.004119731020182371, 0.005573273170739412, 0.011688127182424068, 0.0018176957964897156, 0.0, 0.0, 0.0, 0.0, 0.0, 0.0, 0.0, 0.0, 0.0, 0.0, 0.0, 0.0, 0.0, 0.0, 0.0, 0.0, 0.0, 0.0, 0.0, 0.0, 0.0, 0.0, 0.0, 0.0, 0.0, 0.0], [0.9714921116828918, 0.004650630988180637, 0.006849172990769148, 0.00034182463423348963, 0.011415522545576096, 0.003269357606768608, 0.0019814458210021257, 0.0, 0.0, 0.0, 0.0, 0.0, 0.0, 0.0, 0.0, 0.0, 0.0, 0.0, 0.0, 0.0, 0.0, 0.0, 0.0, 0.0, 0.0, 0.0, 0.0, 0.0, 0.0, 0.0, 0.0, 0.0], [0.9949437975883484, 0.0014149162452667952, 0.002881832653656602, 2.2579879441764206e-05, 9.386948477185797e-06, 0.0006976124132052064, 2.190880877606105e-05, 7.969031685206573e-06, 0.0, 0.0, 0.0, 0.0, 0.0, 0.0, 0.0, 0.0, 0.0, 0.0, 0.0, 0.0, 0.0, 0.0, 0.0, 0.0, 0.0, 0.0, 0.0, 0.0, 0.0, 0.0, 0.0, 0.0], [0.9791772961616516, 0.006815599277615547, 0.0020292613189667463, 0.0003284836420789361, 0.00037113131838850677, 0.009609069675207138, 0.0002460179675836116, 0.0001528654684079811, 0.0012703770771622658, 0.0, 0.0, 0.0, 0.0, 0.0, 0.0, 0.0, 0.0, 0.0, 0.0, 0.0, 0.0, 0.0, 0.0, 0.0, 0.0, 0.0, 0.0, 0.0, 0.0, 0.0, 0.0, 0.0], [0.9845453500747681, 0.004332703538239002, 0.0014534957008436322, 0.000157495160237886, 4.673747025663033e-05, 0.00019879692990798503, 0.0006719084922224283, 5.205279194342438e-06, 0.00010884679068112746, 0.00847957655787468, 0.0, 0.0, 0.0, 0.0, 0.0, 0.0, 0.0, 0.0, 0.0, 0.0, 0.0, 0.0, 0.0, 0.0, 0.0, 0.0, 0.0, 0.0, 0.0, 0.0, 0.0, 0.0], [0.9638869762420654, 0.002870892873033881, 0.02466025948524475, 9.403810690855607e-05, 0.00024100791779346764, 0.00042132739326916635, 5.148795753484592e-05, 0.0001287529885303229, 9.43378108786419e-06, 0.0012337598018348217, 0.006402114871889353, 0.0, 0.0, 0.0, 0.0, 0.0, 0.0, 0.0, 0.0, 0.0, 0.0, 0.0, 0.0, 0.0, 0.0, 0.0, 0.0, 0.0, 0.0, 0.0, 0.0, 0.0], [0.967600405216217, 0.0014602611772716045, 0.023508911952376366, 0.0009959478629752994, 0.0009592051501385868, 0.00021553863189183176, 0.001404212904162705, 0.0005209287046454847, 0.0009286380955018103, 0.0003687774296849966, 6.569752440555021e-05, 0.001971375197172165, 0.0, 0.0, 0.0, 0.0, 0.0, 0.0, 0.0, 0.0, 0.0, 0.0, 0.0, 0.0, 0.0, 0.0, 0.0, 0.0, 0.0, 0.0, 0.0, 0.0], [0.953184962272644, 0.004512030631303787, 0.002503745025023818, 0.0005507766036316752, 0.0007456951425410807, 0.001809523208066821, 0.0008889605524018407, 0.0005417935899458826, 0.0026678801514208317, 0.003978941589593887, 0.0005676702712662518, 0.0003879923315253109, 0.027660027146339417, 0.0, 0.0, 0.0, 0.0, 0.0, 0.0, 0.0, 0.0, 0.0, 0.0, 0.0, 0.0, 0.0, 0.0, 0.0, 0.0, 0.0, 0.0, 0.0], [0.9391812086105347, 0.005590714514255524, 0.03365064784884453, 0.0037345539312809706, 0.006353787612169981, 0.0004720331053249538, 0.0019704317674040794, 0.002750338753685355, 1.1169033314217813e-05, 0.0005351867293938994, 0.0002341000217711553, 0.002699941163882613, 0.0022682775743305683, 0.0005476411315612495, 0.0, 0.0, 0.0, 0.0, 0.0, 0.0, 0.0, 0.0, 0.0, 0.0, 0.0, 0.0, 0.0, 0.0, 0.0, 0.0, 0.0, 0.0], [0.838469386100769, 0.005283925216645002, 0.0030750927980989218, 0.019779330119490623, 0.10136405378580093, 0.0016244660364463925, 0.019127152860164642, 0.0002149615465896204, 8.589040953665972e-05, 0.0010952374432235956, 6.785283039789647e-05, 5.465798676596023e-05, 0.0011230915552005172, 0.001137298415414989, 0.007497577462345362, 0.0, 0.0, 0.0, 0.0, 0.0, 0.0, 0.0, 0.0, 0.0, 0.0, 0.0, 0.0, 0.0, 0.0, 0.0, 0.0, 0.0], [0.9179448485374451, 0.007835586555302143, 0.01794312335550785, 0.0030541338492184877, 0.00972799863666296, 0.002030374016612768, 0.0011737652821466327, 0.004834567662328482, 0.00022941977658774704, 0.00033713970333337784, 0.00014775361341889948, 0.000729472900275141, 0.0013673248467966914, 0.00028257921803742647, 0.026606431230902672, 0.005755431018769741, 0.0, 0.0, 0.0, 0.0, 0.0, 0.0, 0.0, 0.0, 0.0, 0.0, 0.0, 0.0, 0.0, 0.0, 0.0, 0.0], [0.916789174079895, 0.00765309389680624, 0.005830148234963417, 0.000789072597399354, 0.002418797928839922, 0.0005974727682769299, 0.0007162572583183646, 0.0002269117976538837, 1.686497671471443e-05, 0.0005151475197635591, 7.702693983446807e-05, 0.00020514556672424078, 0.00029521528631448746, 0.00020933520863763988, 0.007421754766255617, 0.0020398900378495455, 0.05419877916574478, 0.0, 0.0, 0.0, 0.0, 0.0, 0.0, 0.0, 0.0, 0.0, 0.0, 0.0, 0.0, 0.0, 0.0, 0.0], [0.8942288756370544, 0.008333762176334858, 0.0010008499957621098, 0.00030667585087940097, 0.0008452898473478854, 0.0009717983193695545, 0.00045148836215958, 0.0012517498107627034, 0.0004244259907864034, 0.00018030132923740894, 8.439567318418995e-05, 0.00035983521956950426, 0.0026158876717090607, 0.001557442476041615, 0.002521549817174673, 0.0006461282609961927, 0.0680786520242691, 0.016140958294272423, 0.0, 0.0, 0.0, 0.0, 0.0, 0.0, 0.0, 0.0, 0.0, 0.0, 0.0, 0.0, 0.0, 0.0], [0.9658486247062683, 0.006780222058296204, 0.0003246819833293557, 4.113834074814804e-05, 0.0003243848623242229, 0.0007168177980929613, 0.00031484055216424167, 5.64103975193575e-05, 0.003896185662597418, 0.00042917224345728755, 0.0003520024474710226, 3.678625216707587e-05, 0.0004884456284344196, 0.002453297609463334, 0.00015271110169123858, 9.586365922586992e-05, 0.00027601508190855384, 0.0007687601028010249, 0.016643600538372993, 0.0, 0.0, 0.0, 0.0, 0.0, 0.0, 0.0, 0.0, 0.0, 0.0, 0.0, 0.0, 0.0], [0.9373999238014221, 0.012270607985556126, 0.007564826402813196, 0.00010202965495409444, 0.0009629978449083865, 0.007490153424441814, 0.0009989871177822351, 0.0015008369227871299, 0.0016924494411796331, 0.014880657196044922, 0.0025425520725548267, 0.0018817945383489132, 0.0002855549391824752, 0.001987104071304202, 0.00033020161208696663, 6.687326094834134e-05, 0.0003092114347964525, 0.0002870172611437738, 0.001273246482014656, 0.006173033267259598, 0.0, 0.0, 0.0, 0.0, 0.0, 0.0, 0.0, 0.0, 0.0, 0.0, 0.0, 0.0], [0.9745108485221863, 0.007491654716432095, 0.00017916561046149582, 0.00011569775961106643, 0.0009518168517388403, 5.922278796788305e-05, 0.001138318795710802, 0.00014655782433692366, 1.4500246834359132e-05, 0.000616570352576673, 0.0002252497070003301, 7.388157246168703e-05, 4.325949339545332e-05, 0.0006129061803221703, 0.0002929221373051405, 9.116590081248432e-05, 4.0102113416651264e-05, 0.00021613188437186182, 0.00010861959890462458, 0.00018246774561703205, 0.012888900004327297, 0.0, 0.0, 0.0, 0.0, 0.0, 0.0, 0.0, 0.0, 0.0, 0.0, 0.0], [0.8658058643341064, 0.022283248603343964, 0.004821275360882282, 0.0096062533557415, 0.023587075993418694, 0.0009615322342142463, 0.016304971650242805, 0.0004860717453993857, 0.00013338310236576945, 0.001248811255209148, 0.0009066404891200364, 0.00020230626978445798, 0.00033642855123616755, 0.00016115899779833853, 0.000773318693973124, 0.002498595742508769, 0.0006679367506876588, 0.0021556552965193987, 0.004822236020117998, 0.00043756241211667657, 0.0036633280105888844, 0.038136422634124756, 0.0, 0.0, 0.0, 0.0, 0.0, 0.0, 0.0, 0.0, 0.0, 0.0], [0.8317775726318359, 0.0174405500292778, 0.006739235948771238, 0.0003491153474897146, 0.002910604467615485, 0.010522888973355293, 0.0009428407065570354, 0.0032491248566657305, 0.0010277748806402087, 0.002335712779313326, 0.00043911358807235956, 0.0007213198696263134, 0.00028979743365198374, 0.0017337244935333729, 0.00029133091447874904, 9.704017429612577e-05, 0.00030523823807016015, 0.00023716183204669505, 0.001602735836058855, 0.0028528019320219755, 0.10139011591672897, 0.00917813926935196, 0.0035662269219756126, 0.0, 0.0, 0.0, 0.0, 0.0, 0.0, 0.0, 0.0, 0.0], [0.23392805457115173, 0.0006336186197586358, 0.00042782232048921287, 1.3620120626001153e-05, 1.3962066987005528e-06, 0.00014167731569614261, 1.0104775356012397e-05, 3.0171327125572134e-06, 0.7622573375701904, 0.00018609566905070096, 0.00011292203998891637, 3.3551218621141743e-06, 3.7936752050882205e-05, 0.00027732431772165, 2.668759861990111e-06, 5.727087000195752e-07, 5.517666977539193e-06, 4.934179742122069e-06, 2.5350060241180472e-05, 0.0015169158577919006, 0.0002178658323828131, 6.214009772520512e-05, 0.00010980587103404105, 1.9938370314775966e-05, 0.0, 0.0, 0.0, 0.0, 0.0, 0.0, 0.0, 0.0], [0.23704221844673157, 0.002693364629521966, 0.00048676368896849453, 0.0001251906796824187, 7.8909273725003e-05, 0.0028992125298827887, 0.00016720315034035593, 5.292022615321912e-05, 0.00017571603530086577, 0.7454924583435059, 0.0067040142603218555, 0.0020926950965076685, 9.725070412969217e-06, 0.0003075973072554916, 3.9132090023485944e-05, 3.3325648018944776e-06, 4.911337327939691e-06, 2.5391982489963993e-05, 6.751472938049119e-06, 3.3829430321929976e-05, 0.0005220678285695612, 0.00015068711945787072, 4.93372353957966e-05, 2.3974089344847016e-05, 0.0008125631720758975, 0.0, 0.0, 0.0, 0.0, 0.0, 0.0, 0.0], [0.20766735076904297, 0.0011847122805193067, 0.00032413474400527775, 4.1772200347622856e-05, 6.586669314856408e-06, 3.3348736906191334e-05, 0.0002350010327063501, 8.646391620459326e-07, 1.3641012628795579e-05, 0.0016562354285269976, 0.78375643491745, 0.001664632698521018, 1.8102721242030384e-06, 4.905989953840617e-06, 2.710495209612418e-06, 1.4519473552354611e-06, 1.3186787555241608e-06, 2.3379312551696785e-05, 3.7604015687975334e-06, 2.3359521946986206e-05, 0.00012024492752971128, 4.636655285139568e-05, 9.728708391776308e-05, 1.4381444088940043e-06, 1.0417695193609688e-05, 0.0030767512507736683, 0.0, 0.0, 0.0, 0.0, 0.0, 0.0], [0.33786651492118835, 0.0013464801013469696, 0.00865408405661583, 5.104743831907399e-05, 8.514160435879603e-05, 0.00019540880748536438, 2.9906872441642918e-05, 5.224956839811057e-05, 2.3692432478128467e-06, 0.0005356696783564985, 0.002959980396553874, 0.6404902935028076, 0.00021840307454112917, 5.695173513231566e-06, 0.0005257549346424639, 6.07677839070675e-06, 0.0001167570662801154, 1.8016149624600075e-05, 0.00016752997180446982, 2.139860407623928e-05, 0.0004243648727424443, 7.196488149929792e-05, 0.00010995710181305185, 3.017778908542823e-05, 1.5145958514040103e-06, 0.0007947965059429407, 0.00521840387955308, 0.0, 0.0, 0.0, 0.0, 0.0], [0.9439651966094971, 0.0022995704784989357, 0.010635916143655777, 0.0003804681764449924, 0.00043945558718405664, 0.0002547454205341637, 0.0005565627361647785, 0.0006834024679847062, 3.2623149309074506e-05, 0.0001643231516936794, 5.9481957578100264e-05, 0.004477398935705423, 0.023917343467473984, 0.0004993482143618166, 0.001631817314773798, 7.618967356393114e-05, 0.003208290785551071, 0.0005211099633015692, 0.002407314255833626, 6.692399620078504e-05, 0.0003087194636464119, 0.0004924617242068052, 0.00014051416656002402, 4.7808174713281915e-05, 1.2665380381804425e-05, 0.0002202651958214119, 9.239996143151075e-05, 0.0024075426626950502, 0.0, 0.0, 0.0, 0.0], [0.8891251683235168, 0.0018921452574431896, 0.0035043100360780954, 0.0014671676326543093, 0.0008726835949346423, 0.00018124697089660913, 0.0018695401959121227, 0.0008406470296904445, 6.72934329486452e-05, 5.9354762925067917e-05, 5.549562047235668e-05, 0.00039286570972763, 0.01656351611018181, 0.00223027216270566, 0.0012661865912377834, 0.00012535660061985254, 0.002542068948969245, 0.00013463455252349377, 0.053267184644937515, 0.0006906920461915433, 0.0006143177160993218, 0.00020485468849074095, 0.0005390800652094185, 0.00015866626927163452, 4.656010423786938e-05, 8.765232632867992e-05, 9.883214806905016e-05, 0.00043311816989444196, 0.02066907286643982, 0.0, 0.0, 0.0], [0.8904511332511902, 0.0033185849897563457, 0.0004022104840259999, 7.293192902579904e-05, 0.00020065093121957034, 0.00045576441334560513, 0.000410715612815693, 4.8171747039305046e-05, 0.0014443753752857447, 0.00025779474526643753, 0.00024511784431524575, 7.390502287307754e-05, 0.0016814369009807706, 0.0020168086048215628, 0.00018314149929210544, 4.44573161075823e-05, 3.955499778385274e-05, 4.7468529373873025e-05, 0.0016509282868355513, 0.07777225971221924, 0.009069491177797318, 0.00043158335029147565, 5.7502369600115344e-05, 0.00023721865727566183, 0.0005121643771417439, 0.00026847090339288116, 0.0003846183535642922, 5.672685438184999e-05, 0.0002071444905595854, 0.007957554422318935, 0.0, 0.0], [0.47850337624549866, 0.0034427130594849586, 0.004023304209113121, 6.140038749435917e-05, 0.0003468953655101359, 0.0028956537134945393, 0.0004953772877342999, 0.0006454148096963763, 0.0004034369776491076, 0.004607271868735552, 0.0008872262551449239, 0.000866177084390074, 0.0001856048038462177, 0.0008088740869425237, 0.00016070686979219317, 1.727496419334784e-05, 3.635071334429085e-05, 2.575435246399138e-05, 0.00013609131565317512, 0.0021572846453636885, 0.4383862018585205, 0.009626044891774654, 0.0001656009117141366, 0.013666403479874134, 0.001893447944894433, 0.015507700853049755, 0.002300298074260354, 0.001720342319458723, 0.0019493651343509555, 0.001023544929921627, 0.013054889626801014, 0.0], [0.4728514850139618, 0.003028901992365718, 6.203346856636927e-05, 6.557934830198064e-05, 0.0004257851978763938, 3.329106402816251e-05, 0.0004353137337602675, 5.933834472671151e-05, 3.724081580003258e-06, 0.00018146973161492497, 5.762530054198578e-05, 3.0326287742354907e-05, 2.4560498786740936e-05, 0.00019836347200907767, 0.00018168722453992814, 4.4310454541118816e-05, 8.516714842699002e-06, 3.967650991398841e-05, 2.2907164748176e-05, 9.379423136124387e-05, 0.0031884321942925453, 0.5093370676040649, 0.0016730192583054304, 0.0004295951803214848, 3.5710923839360476e-05, 0.0009317732765339315, 0.00021394384384620935, 0.00010485498933121562, 0.00037266022991389036, 9.536908328300342e-05, 0.0004132538742851466, 0.005355652887374163]], [[1.0, 0.0, 0.0, 0.0, 0.0, 0.0, 0.0, 0.0, 0.0, 0.0, 0.0, 0.0, 0.0, 0.0, 0.0, 0.0, 0.0, 0.0, 0.0, 0.0, 0.0, 0.0, 0.0, 0.0, 0.0, 0.0, 0.0, 0.0, 0.0, 0.0, 0.0, 0.0], [0.9767147302627563, 0.023285292088985443, 0.0, 0.0, 0.0, 0.0, 0.0, 0.0, 0.0, 0.0, 0.0, 0.0, 0.0, 0.0, 0.0, 0.0, 0.0, 0.0, 0.0, 0.0, 0.0, 0.0, 0.0, 0.0, 0.0, 0.0, 0.0, 0.0, 0.0, 0.0, 0.0, 0.0], [0.07846932858228683, 0.7965527176856995, 0.12497792392969131, 0.0, 0.0, 0.0, 0.0, 0.0, 0.0, 0.0, 0.0, 0.0, 0.0, 0.0, 0.0, 0.0, 0.0, 0.0, 0.0, 0.0, 0.0, 0.0, 0.0, 0.0, 0.0, 0.0, 0.0, 0.0, 0.0, 0.0, 0.0, 0.0], [0.5327314138412476, 0.11980205774307251, 0.03697890415787697, 0.31048768758773804, 0.0, 0.0, 0.0, 0.0, 0.0, 0.0, 0.0, 0.0, 0.0, 0.0, 0.0, 0.0, 0.0, 0.0, 0.0, 0.0, 0.0, 0.0, 0.0, 0.0, 0.0, 0.0, 0.0, 0.0, 0.0, 0.0, 0.0, 0.0], [0.09140428900718689, 0.4553871154785156, 0.07058785110712051, 0.19263720512390137, 0.1899835616350174, 0.0, 0.0, 0.0, 0.0, 0.0, 0.0, 0.0, 0.0, 0.0, 0.0, 0.0, 0.0, 0.0, 0.0, 0.0, 0.0, 0.0, 0.0, 0.0, 0.0, 0.0, 0.0, 0.0, 0.0, 0.0, 0.0, 0.0], [0.07786435633897781, 0.11374200880527496, 0.027756454423069954, 0.3780633211135864, 0.06798332184553146, 0.33459052443504333, 0.0, 0.0, 0.0, 0.0, 0.0, 0.0, 0.0, 0.0, 0.0, 0.0, 0.0, 0.0, 0.0, 0.0, 0.0, 0.0, 0.0, 0.0, 0.0, 0.0, 0.0, 0.0, 0.0, 0.0, 0.0, 0.0], [0.5079635381698608, 0.2021886706352234, 0.01798255182802677, 0.17393803596496582, 0.02805345319211483, 0.05714006721973419, 0.01273373607546091, 0.0, 0.0, 0.0, 0.0, 0.0, 0.0, 0.0, 0.0, 0.0, 0.0, 0.0, 0.0, 0.0, 0.0, 0.0, 0.0, 0.0, 0.0, 0.0, 0.0, 0.0, 0.0, 0.0, 0.0, 0.0], [0.27355876564979553, 0.27743998169898987, 0.0012307984288781881, 0.14913789927959442, 0.005247808992862701, 0.19401949644088745, 0.0010509841376915574, 0.09831421822309494, 0.0, 0.0, 0.0, 0.0, 0.0, 0.0, 0.0, 0.0, 0.0, 0.0, 0.0, 0.0, 0.0, 0.0, 0.0, 0.0, 0.0, 0.0, 0.0, 0.0, 0.0, 0.0, 0.0, 0.0], [0.054325442761182785, 0.18841193616390228, 0.02181975170969963, 0.053554635494947433, 0.042352642863988876, 0.13064150512218475, 0.009237909689545631, 0.1543309986591339, 0.345325231552124, 0.0, 0.0, 0.0, 0.0, 0.0, 0.0, 0.0, 0.0, 0.0, 0.0, 0.0, 0.0, 0.0, 0.0, 0.0, 0.0, 0.0, 0.0, 0.0, 0.0, 0.0, 0.0, 0.0], [0.2024478167295456, 0.1423187106847763, 0.04665496200323105, 0.08213219791650772, 0.10673186182975769, 0.0901435986161232, 0.00939565896987915, 0.1552496701478958, 0.08440672606229782, 0.08051881194114685, 0.0, 0.0, 0.0, 0.0, 0.0, 0.0, 0.0, 0.0, 0.0, 0.0, 0.0, 0.0, 0.0, 0.0, 0.0, 0.0, 0.0, 0.0, 0.0, 0.0, 0.0, 0.0], [0.16320548951625824, 0.06161528453230858, 0.10240934789180756, 0.0469425693154335, 0.1727791279554367, 0.0471806637942791, 0.03698936104774475, 0.09508196264505386, 0.08661704510450363, 0.07600386440753937, 0.11117523163557053, 0.0, 0.0, 0.0, 0.0, 0.0, 0.0, 0.0, 0.0, 0.0, 0.0, 0.0, 0.0, 0.0, 0.0, 0.0, 0.0, 0.0, 0.0, 0.0, 0.0, 0.0], [0.27438706159591675, 0.1274281144142151, 0.007532220799475908, 0.2995113730430603, 0.01093040406703949, 0.1026039719581604, 0.0009581900085322559, 0.08439667522907257, 0.029662499204277992, 0.008467056788504124, 0.003520037280395627, 0.05060232803225517, 0.0, 0.0, 0.0, 0.0, 0.0, 0.0, 0.0, 0.0, 0.0, 0.0, 0.0, 0.0, 0.0, 0.0, 0.0, 0.0, 0.0, 0.0, 0.0, 0.0], [0.0202277023345232, 0.08782697468996048, 0.02290038764476776, 0.16517797112464905, 0.043447498232126236, 0.14998552203178406, 0.003525219624862075, 0.05949001759290695, 0.04481690004467964, 0.021729467436671257, 0.05548345670104027, 0.06262139976024628, 0.26276740431785583, 0.0, 0.0, 0.0, 0.0, 0.0, 0.0, 0.0, 0.0, 0.0, 0.0, 0.0, 0.0, 0.0, 0.0, 0.0, 0.0, 0.0, 0.0, 0.0], [0.06838405132293701, 0.06060627102851868, 0.04743567481637001, 0.1299057900905609, 0.0511239618062973, 0.017669804394245148, 0.008381186984479427, 0.060628585517406464, 0.02167470008134842, 0.011662154458463192, 0.01724136620759964, 0.01804155856370926, 0.4150318205356598, 0.07221304625272751, 0.0, 0.0, 0.0, 0.0, 0.0, 0.0, 0.0, 0.0, 0.0, 0.0, 0.0, 0.0, 0.0, 0.0, 0.0, 0.0, 0.0, 0.0], [0.1942909210920334, 0.22410625219345093, 0.002321394858881831, 0.21822187304496765, 0.004117575474083424, 0.0525415875017643, 0.002932341769337654, 0.03990313038229942, 0.01697228103876114, 0.003013160778209567, 0.0037591629661619663, 0.03501232713460922, 0.09901666641235352, 0.0011496166698634624, 0.10264173150062561, 0.0, 0.0, 0.0, 0.0, 0.0, 0.0, 0.0, 0.0, 0.0, 0.0, 0.0, 0.0, 0.0, 0.0, 0.0, 0.0, 0.0], [0.4855441153049469, 0.11309583485126495, 0.0070906043983995914, 0.1304011195898056, 0.0052890051156282425, 0.026000285521149635, 0.0010525642428547144, 0.023947661742568016, 0.003692405065521598, 0.0012074580881744623, 0.0008538708207197487, 0.010187733918428421, 0.07681335508823395, 0.011989782564342022, 0.05924263596534729, 0.043591517955064774, 0.0, 0.0, 0.0, 0.0, 0.0, 0.0, 0.0, 0.0, 0.0, 0.0, 0.0, 0.0, 0.0, 0.0, 0.0, 0.0], [0.9824571013450623, 0.00681406119838357, 0.00010050419223261997, 0.003220404963940382, 0.0001067047196556814, 0.0013695723609998822, 1.565978891449049e-05, 0.000448047328973189, 0.0002125532046193257, 1.6596110071986914e-05, 2.523584225855302e-05, 0.00033384267590008676, 0.0007493747980333865, 1.6028490790631622e-05, 0.0011336392490193248, 0.0006314868805930018, 0.002349079353734851, 0.0, 0.0, 0.0, 0.0, 0.0, 0.0, 0.0, 0.0, 0.0, 0.0, 0.0, 0.0, 0.0, 0.0, 0.0], [0.20634642243385315, 0.17419715225696564, 0.006981457583606243, 0.14496009051799774, 0.005162336397916079, 0.034311678260564804, 0.001121216919273138, 0.026686115190386772, 0.013493390753865242, 0.0023420799989253283, 0.002161948475986719, 0.02855827473104, 0.030817152932286263, 0.0010899424087256193, 0.0830807164311409, 0.053495343774557114, 0.16557805240154266, 0.01961654983460903, 0.0, 0.0, 0.0, 0.0, 0.0, 0.0, 0.0, 0.0, 0.0, 0.0, 0.0, 0.0, 0.0, 0.0], [0.006188094615936279, 0.053935881704092026, 0.1392979472875595, 0.1056707426905632, 0.07946477830410004, 0.011346555314958096, 0.009168071672320366, 0.0461496040225029, 0.01760680228471756, 0.026518628001213074, 0.0416480228304863, 0.01943342387676239, 0.11916586011648178, 0.03194864094257355, 0.01412235014140606, 0.07021428644657135, 0.10980958491563797, 0.08528058975934982, 0.01303017232567072, 0.0, 0.0, 0.0, 0.0, 0.0, 0.0, 0.0, 0.0, 0.0, 0.0, 0.0, 0.0, 0.0], [0.01358510460704565, 0.0469890721142292, 0.12357841432094574, 0.07875434309244156, 0.05390740931034088, 0.012363682501018047, 0.002720713149756193, 0.03855282813310623, 0.008319524116814137, 0.01576300896704197, 0.0071398108266294, 0.0431973822414875, 0.07250075042247772, 0.040545329451560974, 0.04635680094361305, 0.08016064018011093, 0.14792226254940033, 0.04516511783003807, 0.038170814514160156, 0.08430688083171844, 0.0, 0.0, 0.0, 0.0, 0.0, 0.0, 0.0, 0.0, 0.0, 0.0, 0.0, 0.0], [0.02119896560907364, 0.021201269701123238, 0.10746458917856216, 0.0498804897069931, 0.07590280473232269, 0.0051789432764053345, 0.008513045497238636, 0.04728236794471741, 0.003625995945185423, 0.015437585301697254, 0.005600344389677048, 0.009481261484324932, 0.1554846614599228, 0.1293853372335434, 0.018277613446116447, 0.05055035278201103, 0.05774826928973198, 0.02576821856200695, 0.13415662944316864, 0.017192233353853226, 0.04066893458366394, 0.0, 0.0, 0.0, 0.0, 0.0, 0.0, 0.0, 0.0, 0.0, 0.0, 0.0], [0.01905819959938526, 0.08831984549760818, 0.04285527765750885, 0.27354875206947327, 0.03415658697485924, 0.032377347350120544, 0.027259182184934616, 0.044949524104595184, 0.025337912142276764, 0.020135287195444107, 0.010585102252662182, 0.035473763942718506, 0.05926081910729408, 0.01175122894346714, 0.024117592722177505, 0.029850061982870102, 0.04782507196068764, 0.02455628477036953, 0.006025627255439758, 0.03521640971302986, 0.006599170155823231, 0.10074088722467422, 0.0, 0.0, 0.0, 0.0, 0.0, 0.0, 0.0, 0.0, 0.0, 0.0], [0.02694695070385933, 0.02894243784248829, 0.0022173631004989147, 0.0377720408141613, 0.0035246850457042456, 0.0198567733168602, 0.0009741452522575855, 0.011228945106267929, 0.0018943985924124718, 0.004634401295334101, 0.0019482375355437398, 0.012846896424889565, 0.013464599847793579, 0.0004305422189645469, 0.017947671934962273, 0.006296441424638033, 0.013870327733457088, 0.0020503541454672813, 0.00025263175484724343, 0.16325707733631134, 0.006392181385308504, 0.037736065685749054, 0.5855148434638977, 0.0, 0.0, 0.0, 0.0, 0.0, 0.0, 0.0, 0.0, 0.0], [0.008181648328900337, 0.008678894490003586, 2.2940812414162792e-05, 0.004382728133350611, 6.425043102353811e-05, 0.0012575025903061032, 4.830118996324018e-06, 0.0013526080874726176, 0.0004129184817429632, 0.00028181792004033923, 5.272963608149439e-05, 0.0007320212898775935, 0.0009286440326832235, 1.1874769370479044e-05, 0.002288917312398553, 0.00046981367631815374, 0.0014652528334408998, 3.827023829217069e-05, 2.5203917175531387e-05, 0.16510480642318726, 4.368702138890512e-05, 0.009217966347932816, 0.7789443731307983, 0.016036299988627434, 0.0, 0.0, 0.0, 0.0, 0.0, 0.0, 0.0, 0.0], [0.012658202089369297, 0.04871157929301262, 0.0027210013940930367, 0.018698619678616524, 0.005280229728668928, 0.01845160312950611, 0.0004648740869015455, 0.018640151247382164, 0.019905593246221542, 0.011805850081145763, 0.008288837969303131, 0.013208684511482716, 0.027357598766684532, 0.0015417132526636124, 0.029655244201421738, 0.01033021416515112, 0.029874566942453384, 0.0025425583589822054, 0.0010095136240124702, 0.19599135220050812, 0.009841172955930233, 0.06517111510038376, 0.15174177289009094, 0.15628133714199066, 0.13982653617858887, 0.0, 0.0, 0.0, 0.0, 0.0, 0.0, 0.0], [0.09726233035326004, 0.0455896332859993, 0.003814443713054061, 0.02330654487013817, 0.011221338994801044, 0.014635985717177391, 0.0006336408550851047, 0.02246367372572422, 0.00767201092094183, 0.00923243723809719, 0.005880332086235285, 0.02124168537557125, 0.037743695080280304, 0.004062611609697342, 0.02832145057618618, 0.013584841042757034, 0.04563900828361511, 0.0015305349370464683, 0.0038711735978722572, 0.054027002304792404, 0.0028197141364216805, 0.057392604649066925, 0.21163241565227509, 0.10499298572540283, 0.08310046046972275, 0.08832750469446182, 0.0, 0.0, 0.0, 0.0, 0.0, 0.0], [0.14767158031463623, 0.024462144821882248, 0.018253056332468987, 0.022039342671632767, 0.03140060976147652, 0.008804247714579105, 0.005118588451296091, 0.02252602018415928, 0.012894836254417896, 0.013236355036497116, 0.01971566118299961, 0.02219339646399021, 0.0810287818312645, 0.020318858325481415, 0.02909925766289234, 0.0148002402856946, 0.03962741047143936, 0.004307624883949757, 0.021613311022520065, 0.019854852929711342, 0.00945284217596054, 0.04163298383355141, 0.10499156266450882, 0.06927012652158737, 0.0666474997997284, 0.05708540230989456, 0.07195346057415009, 0.0, 0.0, 0.0, 0.0, 0.0], [0.9790900945663452, 0.003293507033959031, 0.00018800562247633934, 0.002170881722122431, 0.00013996529742144048, 0.00041082201641984284, 2.3905855414341204e-05, 0.000291092466795817, 0.00014356063911691308, 2.8512060453067534e-05, 5.147204137756489e-05, 0.0003096060536336154, 0.0006630068528465927, 7.876367453718558e-05, 0.0005999732529744506, 0.0003959262976422906, 0.0022078680340200663, 6.045128247933462e-05, 5.659160888171755e-05, 0.0017975697992369533, 1.74147335201269e-05, 0.0005698131280951202, 0.00407800916582346, 0.0007746738847345114, 0.0006182438228279352, 0.00014712943811900914, 0.00020438589854165912, 0.0015888236230239272, 0.0, 0.0, 0.0, 0.0], [0.15168802440166473, 0.037888821214437485, 0.0016281871357932687, 0.06725619733333588, 0.0018242624355480075, 0.00821088906377554, 5.393679020926356e-05, 0.005601248238235712, 0.0005276027950458229, 0.00020836958719883114, 0.00015617058670613915, 0.004934902302920818, 0.015683144330978394, 0.000515868712682277, 0.013069230131804943, 0.00771838566288352, 0.019931865856051445, 0.0010056161554530263, 0.0002819358487613499, 0.15890781581401825, 0.0001353314728476107, 0.015036001801490784, 0.4458712935447693, 0.019095368683338165, 0.0028941240161657333, 0.0009669817518442869, 0.0005829552537761629, 0.014627000316977501, 0.0036985112819820642, 0.0, 0.0, 0.0], [0.007985174655914307, 0.04220569506287575, 0.040144652128219604, 0.07365856319665909, 0.030839266255497932, 0.007303796708583832, 0.0014919402310624719, 0.021105514839291573, 0.005831724964082241, 0.009147612378001213, 0.011785577982664108, 0.009329607710242271, 0.07082192599773407, 0.019105924293398857, 0.007650839164853096, 0.026517070829868317, 0.049942344427108765, 0.011876405216753483, 0.015191037207841873, 0.019626779481768608, 0.020394185557961464, 0.013934257440268993, 0.015277232974767685, 0.043145801872015, 0.023121610283851624, 0.06079687178134918, 0.07080969959497452, 0.0814601257443428, 0.09725833684206009, 0.09224050492048264, 0.0, 0.0], [0.011751541867852211, 0.020904365926980972, 0.043930526822805405, 0.029146157205104828, 0.019267665222287178, 0.004916819278150797, 0.00031688885064795613, 0.011537563987076283, 0.0023133561480790377, 0.005167185794562101, 0.0017400503857061267, 0.014651023782789707, 0.025943927466869354, 0.0156351737678051, 0.014133421704173088, 0.022345364093780518, 0.04915684834122658, 0.0094919353723526, 0.026012033224105835, 0.03732024505734444, 0.002985690487548709, 0.019751766696572304, 0.03172707557678223, 0.02853216975927353, 0.010172042064368725, 0.02651025354862213, 0.008466974832117558, 0.08030296862125397, 0.07754986733198166, 0.215815931558609, 0.13250324130058289, 0.0], [0.008203679695725441, 0.006527445744723082, 0.0181083083152771, 0.01462886668741703, 0.01244384329766035, 0.0010634453501552343, 0.0008758773328736424, 0.010100885294377804, 0.0006863029557280242, 0.002846695249900222, 0.0008462740224786103, 0.0018250882858410478, 0.03139835223555565, 0.03085978515446186, 0.0036432889755815268, 0.009427864104509354, 0.015347831882536411, 0.002618013182654977, 0.045632779598236084, 0.005593298003077507, 0.007934076711535454, 0.005190701223909855, 0.010425557382404804, 0.02880818583071232, 0.005279335658997297, 0.028194088488817215, 0.006761324126273394, 0.012370247393846512, 0.042143091559410095, 0.5565854907035828, 0.028966456651687622, 0.04466357082128525]]], \"headLabels\": [\"L1H0\", \"L1H1\", \"L1H2\", \"L1H3\", \"L1H4\", \"L1H5\", \"L1H6\", \"L1H7\", \"L1H8\", \"L1H9\", \"L1H10\", \"L1H11\"]}\n",
              "    )\n",
              "    </script>"
            ]
          },
          "metadata": {}
        }
      ],
      "source": [
        "# YOUR CODE HERE - display the attention patterns stored in `rep_cache`, for each layer\n",
        "# I think L1H4, 6 & 10 are induction heads\n",
        "print(model.cfg.n_layers)\n",
        "for layer in range(model.cfg.n_layers):\n",
        "  attention_pattern = cache[\"pattern\", layer]\n",
        "\n",
        "  # use CircuitVis library\n",
        "  display(\n",
        "      cv.attention.attention_patterns(\n",
        "          attention=attention_pattern,\n",
        "          tokens = rep_str,\n",
        "          attention_head_names=[f\"L{layer}H{i}\" for i in range(12)],\n",
        "      )\n",
        "  )"
      ]
    },
    {
      "cell_type": "markdown",
      "metadata": {
        "id": "iS4w8hmRXlio"
      },
      "source": [
        "<details>\n",
        "<summary>Some observations</summary>\n",
        "\n",
        "The characteristic pattern of induction heads is a diagonal stripe, with the diagonal offset as `seq_len-1` (because the destination token attends to the token *after* the destination token's previous occurrence).\n",
        "\n",
        "You should see that heads 4 and 10 are strongly induction-y, head 6 is very weakly induction-y, and the rest aren't.\n",
        "\n",
        "</details>\n",
        "\n",
        "\n",
        "<details><summary>Solution</summary>\n",
        "\n",
        "```python\n",
        "for layer in range(model.cfg.n_layers):\n",
        "    attention_pattern = rep_cache[\"pattern\", layer]\n",
        "    display(cv.attention.attention_patterns(tokens=rep_str, attention=attention_pattern))\n",
        "```\n",
        "</details>"
      ]
    },
    {
      "cell_type": "markdown",
      "metadata": {
        "id": "t4Eu45PyXlio"
      },
      "source": [
        "### Exercise - make an induction-head detector\n",
        "\n",
        "> ```yaml\n",
        "> Difficulty: 🔴🔴⚪⚪⚪\n",
        "> Importance: 🔵🔵⚪⚪⚪\n",
        ">\n",
        "> You shouldn't spend more than 5-15 minutes on this exercise.\n",
        "> This exercise should be very similar to the earlier detector exercises (the only difference being how you index attention).\n",
        "> ```"
      ]
    },
    {
      "cell_type": "markdown",
      "metadata": {
        "id": "ldrSGao6Xlio"
      },
      "source": [
        "Now, you should make an induction pattern score function, which looks for the average attention paid to the offset diagonal. Do this in the same style as our earlier head scorers, just with a different kind of indexing that is appropriate for detecting the characteristic attention head pattern."
      ]
    },
    {
      "cell_type": "code",
      "execution_count": 51,
      "metadata": {
        "id": "4dXo1YYpXlio",
        "colab": {
          "base_uri": "https://localhost:8080/"
        },
        "outputId": "0f511547-8580-4b63-e88e-e2999c77780a"
      },
      "outputs": [
        {
          "output_type": "stream",
          "name": "stdout",
          "text": [
            "Induction heads =  1.10\n"
          ]
        }
      ],
      "source": [
        "def induction_attn_detector(cache: ActivationCache) -> list[str]:\n",
        "    \"\"\"\n",
        "    Returns a list e.g. [\"0.2\", \"1.4\", \"1.9\"] of \"layer.head\" which you judge to be induction heads\n",
        "\n",
        "    Remember - the tokens used to generate rep_cache are (bos_token, *rand_tokens, *rand_tokens)\n",
        "    \"\"\"\n",
        "    attn_heads = []\n",
        "    for layer in range(model.cfg.n_layers):\n",
        "        for head in range(model.cfg.n_heads):\n",
        "            attention_pattern = cache[\"pattern\", layer][head]\n",
        "            seq_len = (attention_pattern.shape[0] - 1) // 2\n",
        "            score = attention_pattern.diagonal(-seq_len + 1).mean()\n",
        "\n",
        "            if score > 0.3:\n",
        "                attn_heads.append(f\"{layer}.{head}\")\n",
        "    return attn_heads\n",
        "\n",
        "\n",
        "print(\"Induction heads = \", \", \".join(induction_attn_detector(rep_cache)))"
      ]
    },
    {
      "cell_type": "markdown",
      "metadata": {
        "id": "r-t9ApL7Xlio"
      },
      "source": [
        "<details>\n",
        "<summary>Help - I'm not sure what offset to use.</summary>\n",
        "\n",
        "The offset in your diagonal should be `-(seq_len-1)` (where `seq_len` is the length of the random tokens which you repeat twice), because the second instance of random token `T` will attend to the token **after** the first instance of `T`.\n",
        "</details>\n",
        "\n",
        "\n",
        "<details><summary>Solution</summary>\n",
        "\n",
        "```python\n",
        "def induction_attn_detector(cache: ActivationCache) -> list[str]:\n",
        "    \"\"\"\n",
        "    Returns a list e.g. [\"0.2\", \"1.4\", \"1.9\"] of \"layer.head\" which you judge to be induction heads\n",
        "\n",
        "    Remember - the tokens used to generate rep_cache are (bos_token, *rand_tokens, *rand_tokens)\n",
        "    \"\"\"\n",
        "    attn_heads = []\n",
        "    for layer in range(model.cfg.n_layers):\n",
        "        for head in range(model.cfg.n_heads):\n",
        "            attention_pattern = cache[\"pattern\", layer][head]\n",
        "            # take avg of (-seq_len+1)-offset elements\n",
        "            seq_len = (attention_pattern.shape[-1] - 1) // 2\n",
        "            score = attention_pattern.diagonal(-seq_len + 1).mean()\n",
        "            if score > 0.4:\n",
        "                attn_heads.append(f\"{layer}.{head}\")\n",
        "    return attn_heads\n",
        "```\n",
        "</details>"
      ]
    },
    {
      "cell_type": "markdown",
      "metadata": {
        "id": "Q_ZP57aHXlip"
      },
      "source": [
        "If this function works as expected, then you should see output that matches your observations from `circuitsvis` (i.e. the heads which you observed to be induction heads are being classified as induction heads by your function here)."
      ]
    },
    {
      "cell_type": "markdown",
      "metadata": {
        "id": "XNtfDvkRXlip"
      },
      "source": [
        "# 3️⃣ TransformerLens: Hooks\n",
        "\n",
        "> ##### Learning Objectives\n",
        ">\n",
        "> - Understand what hooks are, and how they are used in TransformerLens\n",
        "> - Use hooks to access activations, process the results, and write them to an external tensor\n",
        "> - Build tools to perform attribution, i.e. detecting which components of your model are responsible for performance on a given task\n",
        "> - Understand how hooks can be used to perform basic interventions like **ablation**"
      ]
    },
    {
      "cell_type": "markdown",
      "metadata": {
        "id": "k3uPpWnnXlip"
      },
      "source": [
        "## What are hooks?\n",
        "\n",
        "One of the great things about interpreting neural networks is that we have *full control* over our system. From a computational perspective, we know exactly what operations are going on inside (even if we don't know what they mean!). And we can make precise, surgical edits and see how the model's behaviour and other internals change. This is an extremely powerful tool, because it can let us e.g. set up careful counterfactuals and causal intervention to easily understand model behaviour.\n",
        "\n",
        "Accordingly, being able to do this is a pretty core operation, and this is one of the main things TransformerLens supports! The key feature here is **hook points**. Every activation inside the transformer is surrounded by a hook point, which allows us to edit or intervene on it.\n",
        "\n",
        "We do this by adding a **hook function** to that activation, and then calling `model.run_with_hooks`.\n",
        "\n",
        "*(Terminology note - because basically all the activations in our model have an associated hook point, we'll sometimes use the terms \"hook\" and \"activation\" interchangeably.)*"
      ]
    },
    {
      "cell_type": "markdown",
      "metadata": {
        "id": "MbyG10QMXlip"
      },
      "source": [
        "### Hook functions\n",
        "\n",
        "Hook functions take two arguments: `activation_value` and `hook_point`. The `activation_value` is a tensor representing some activation in the model, just like the values in our `ActivationCache`. The `hook_point` is an object which gives us methods like `hook.layer()` or attributes like `hook.name` that are sometimes useful to call within the function.\n",
        "\n",
        "If we're using hooks to edit activations, then the hook function should return a tensor of the same shape as the activation value. But we can also just have our hook function access the activation, do some processing, and write the results to some external variable (in which case our hook function should just not return anything).\n",
        "\n",
        "An example hook function for changing the attention patterns at a particular layer might look like:"
      ]
    },
    {
      "cell_type": "markdown",
      "metadata": {
        "id": "IbBvM2SkXlip"
      },
      "source": [
        "```python\n",
        "def hook_function(\n",
        "    attn_pattern: Float[Tensor, \"batch heads seq_len seq_len\"],\n",
        "    hook: HookPoint\n",
        ") -> Float[Tensor, \"batch heads seq_len seq_len\"]:\n",
        "\n",
        "    # modify attn_pattern (can be inplace)\n",
        "    return attn_pattern\n",
        "```"
      ]
    },
    {
      "cell_type": "markdown",
      "metadata": {
        "id": "Y2RRGZxnXlip"
      },
      "source": [
        "### Running with hooks\n",
        "\n",
        "Once you've defined a hook function (or functions), you should call `model.run_with_hooks`. A typical call to this function might look like:"
      ]
    },
    {
      "cell_type": "markdown",
      "metadata": {
        "id": "FihmGT9WXliq"
      },
      "source": [
        "```python\n",
        "loss = model.run_with_hooks(\n",
        "    tokens,\n",
        "    return_type=\"loss\",\n",
        "    fwd_hooks=[\n",
        "        ('blocks.1.attn.hook_pattern', hook_function)\n",
        "    ]\n",
        ")\n",
        "```"
      ]
    },
    {
      "cell_type": "markdown",
      "metadata": {
        "id": "rzRA_D29Xliq"
      },
      "source": [
        "Let's break this code down.\n",
        "\n",
        "* `tokens` represents our model's input.\n",
        "* `return_type=\"loss\"` is used here because we're modifying our activations and seeing how this affects the loss.\n",
        "    * We could also return the logits, or just use `return_type=None` if we only want to access the intermediate activations and we don't care about the output.\n",
        "* `fwd_hooks` is a list of 2-tuples of (hook name, hook function).\n",
        "    * The hook name is a string that specifies which activation we want to hook.\n",
        "    * The hook function gets run with the corresponding activation as its first argument.\n",
        "\n",
        "### A bit more about hooks\n",
        "\n",
        "Here are a few extra notes for how to squeeze even more functionality out of hooks. If you'd prefer, you can [jump ahead](#hooks-accessing-activations) to see an actual example of hooks being used, and come back to this section later.\n",
        "\n",
        "<details>\n",
        "<summary>Resetting hooks</summary>\n",
        "\n",
        "`model.run_with_hooks` has the default parameter `reset_hooks_end=True` which resets all hooks at the end of the run (including both those that were added before and during the run). Despite this, it's possible to shoot yourself in the foot with hooks, e.g. if there's an error in one of your hooks so the function never finishes. In this case, you can use `model.reset_hooks()` to reset all hooks.\n",
        "\n",
        "If you don't want to reset hooks (i.e. you want to keep them between forward passes), you can either set `reset_hooks_end=False` in the `run_with_hooks` function, or just add the hooks directly using the `add_hook` method before your forward passes (this way they won't reset automatically).\n",
        "\n",
        "</details>\n",
        "<details>\n",
        "<summary>Adding multiple hooks at once</summary>\n",
        "\n",
        "Including more than one tuple in the `fwd_hooks` list is one way to add multiple hooks:\n",
        "\n",
        "```python\n",
        "loss = model.run_with_hooks(\n",
        "    tokens,\n",
        "    return_type=\"loss\",\n",
        "    fwd_hooks=[\n",
        "        ('blocks.0.attn.hook_pattern', hook_function),\n",
        "        ('blocks.1.attn.hook_pattern', hook_function)\n",
        "    ]\n",
        ")\n",
        "```\n",
        "\n",
        "Another way is to use a **name filter** rather than a single name:\n",
        "\n",
        "```python\n",
        "loss = model.run_with_hooks(\n",
        "    tokens,\n",
        "    return_type=\"loss\",\n",
        "    fwd_hooks=[\n",
        "        (lambda name: name.endswith(\"pattern\"), hook_function)\n",
        "    ]\n",
        ")\n",
        "```\n",
        "</details>\n",
        "<details>\n",
        "<summary><code>utils.get_act_name</code></summary>\n",
        "\n",
        "When we were indexing the cache in the previous section, we found we could use strings like `cache['blocks.0.attn.hook_pattern']`, or use the shorthand of `cache['pattern', 0]`. The reason the second one works is that it calls the function `utils.get_act_name` under the hood, i.e. we have:\n",
        "\n",
        "```python\n",
        "utils.get_act_name('pattern', 0) == 'blocks.0.attn.hook_pattern'\n",
        "```\n",
        "\n",
        "Using `utils.get_act_name` in your forward hooks is often easier than using the full string, since the only thing you need to remember is the activation name (you can refer back to the diagram in the previous section for this).\n",
        "</details>\n",
        "<details>\n",
        "<summary>Using <code>functools.partial</code> to create variations on hooks</summary>\n",
        "\n",
        "A useful trick is to define a hook function with more arguments than it needs, and then use `functools.partial` to fill in the extra arguments. For instance, if you want a hook function which only modifies a particular head, but you want to run it on all heads separately (rather than just adding all the hooks and having them all run on the next forward pass), then you can do something like:\n",
        "\n",
        "```python\n",
        "def hook_all_attention_patterns(\n",
        "    attn_pattern: Float[Tensor, \"batch heads seq_len seq_len\"],\n",
        "    hook: HookPoint,\n",
        "    head_idx: int\n",
        ") -> Float[Tensor, \"batch heads seq_len seq_len\"]:\n",
        "    # modify attn_pattern inplace, at head_idx\n",
        "    return attn_pattern\n",
        "\n",
        "for head_idx in range(12):\n",
        "    temp_hook_fn = functools.partial(hook_all_attention_patterns, head_idx=head_idx)\n",
        "    model.run_with_hooks(tokens, fwd_hooks=[('blocks.1.attn.hook_pattern', temp_hook_fn)])\n",
        "```\n",
        "</details>\n",
        "\n",
        "And here are some points of interest, which aren't vital to understand:\n",
        "\n",
        "<details>\n",
        "<summary>Relationship to PyTorch hooks</summary>\n",
        "\n",
        "[PyTorch hooks](https://blog.paperspace.com/pytorch-hooks-gradient-clipping-debugging/) are a great and underrated, yet incredibly janky, feature. They can act on a layer, and edit the input or output of that layer, or the gradient when applying autodiff. The key difference is that **Hook points** act on *activations* not layers. This means that you can intervene within a layer on each activation, and don't need to care about the precise layer structure of the transformer. And it's immediately clear exactly how the hook's effect is applied. This adjustment was shamelessly inspired by [Garcon's use of ProbePoints](https://transformer-circuits.pub/2021/garcon/index.html).\n",
        "\n",
        "They also come with a range of other quality of life improvements. PyTorch's hooks are global state, which can be a massive pain if you accidentally leave a hook on a model. TransformerLens hooks are also global state, but `run_with_hooks` tries to create an abstraction where these are local state by removing all hooks at the end of the function (and they come with a helpful `model.reset_hooks()` method to remove all hooks).\n",
        "</details>\n",
        "\n",
        "<details>\n",
        "<summary>How are TransformerLens hooks actually implemented?</summary>\n",
        "\n",
        "They are implemented as modules with the identity function as their forward method:\n",
        "\n",
        "```python\n",
        "class HookPoint(nn.Module):\n",
        "    ...\n",
        "    def forward(self, x):\n",
        "        return x\n",
        "```\n",
        "\n",
        "but also with special features for adding and removing hook functions. This is why you see hooks when you print a HookedTransformer model, because all its modules are recursively printed.\n",
        "\n",
        "When you run the model normally, hook modules won't change the model's behaviour (since applying the identity function does nothing). It's only once you add functions to the hook modules (e.g. a function which ablates any inputs into the hook module) that the model's behaviour changes.\n",
        "\n",
        "</details>"
      ]
    },
    {
      "cell_type": "markdown",
      "metadata": {
        "id": "BFlT2hBnXliq"
      },
      "source": [
        "## Hooks: Accessing Activations\n",
        "\n",
        "In later sections, we'll write some code to intervene on hooks, which is really the core feature that makes them so useful for interpretability. But for now, let's just look at how to access them without changing their value. This can be achieved by having the hook function write to a global variable, and return nothing (rather than modifying the activation in place).\n",
        "\n",
        "Why might we want to do this? It turns out to be useful for things like:\n",
        "\n",
        "* Extracting activations for a specific task\n",
        "* Doing some long-running calculation across many inputs, e.g. finding the text that most activates a specific neuron\n",
        "\n",
        "Note that, in theory, this could all be done using the `run_with_cache` function we used in the previous section, combined with post-processing of the cache result. But using hooks can be more intuitive and memory efficient."
      ]
    },
    {
      "cell_type": "markdown",
      "metadata": {
        "id": "d5IEyQ3tXliq"
      },
      "source": [
        "### Exercise - calculate induction scores with hooks\n",
        "\n",
        "> ```yaml\n",
        "> Difficulty: 🔴🔴🔴⚪⚪\n",
        "> Importance: 🔵🔵🔵🔵⚪\n",
        ">\n",
        "> You shouldn't spend more than 15-20 minutes on this exercise.\n",
        "> This is our first exercise with hooks, which are an absolutely vital TransformerLens tool. Use the hints if you're stuck.\n",
        "> ```\n",
        "\n",
        "To start with, we'll look at how hooks can be used to get the same results as from the previous section (where we ran our induction head detector functions on the values in the cache).\n",
        "\n",
        "Most of the code has already been provided for you below; the only thing you need to do is **implement the `induction_score_hook` function**. As mentioned, this function takes two arguments: the activation value (which in this case will be our attention pattern) and the hook object (which gives us some useful methods and attributes that we can access in the function, e.g. `hook.layer()` to return the layer, or `hook.name` to return the name, which is the same as the name in the cache).\n",
        "\n",
        "Your function should do the following:\n",
        "\n",
        "* Calculate the induction score for the attention pattern `pattern`, using the same methodology as you used in the previous section when you wrote your induction head detectors.\n",
        "    * Note that this time, the batch dimension is greater than 1, so you should compute the average attention score over the batch dimension.\n",
        "    * Also note that you are computing the induction score for all heads at once, rather than one at a time. You might find the arguments `dim1` and `dim2` of the `torch.diagonal` function useful.\n",
        "* Write this score to the tensor `induction_score_store`, which is a global variable that we've provided for you. The `[i, j]`th element of this tensor should be the induction score for the `j`th head in the `i`th layer."
      ]
    },
    {
      "cell_type": "code",
      "execution_count": null,
      "metadata": {
        "id": "oeEsPrD1Xliq"
      },
      "outputs": [],
      "source": [
        "seq_len = 50\n",
        "batch_size = 10\n",
        "rep_tokens_10 = generate_repeated_tokens(model, seq_len, batch_size)\n",
        "\n",
        "# We make a tensor to store the induction score for each head.\n",
        "# We put it on the model's device to avoid needing to move things between the GPU and CPU,\n",
        "# which can be slow.\n",
        "induction_score_store = t.zeros(\n",
        "    (model.cfg.n_layers, model.cfg.n_heads), device=model.cfg.device\n",
        ")\n",
        "\n",
        "\n",
        "def induction_score_hook(\n",
        "    pattern: Float[Tensor, \"batch head_index dest_pos source_pos\"], hook: HookPoint\n",
        "):\n",
        "    \"\"\"\n",
        "    Calculates the induction score, and stores it in the [layer, head] position of the\n",
        "    `induction_score_store` tensor.\n",
        "    \"\"\"\n",
        "    raise NotImplementedError()\n",
        "\n",
        "\n",
        "# We make a boolean filter on activation names, that's true only on attention pattern names\n",
        "pattern_hook_names_filter = lambda name: name.endswith(\"pattern\")\n",
        "\n",
        "# Run with hooks (this is where we write to the `induction_score_store` tensor`)\n",
        "model.run_with_hooks(\n",
        "    rep_tokens_10,\n",
        "    return_type=None,  # For efficiency, we don't need to calculate the logits\n",
        "    fwd_hooks=[(pattern_hook_names_filter, induction_score_hook)],\n",
        ")\n",
        "\n",
        "# Plot the induction scores for each head in each layer\n",
        "imshow(\n",
        "    induction_score_store,\n",
        "    labels={\"x\": \"Head\", \"y\": \"Layer\"},\n",
        "    title=\"Induction Score by Head\",\n",
        "    text_auto=\".2f\",\n",
        "    width=900,\n",
        "    height=350,\n",
        ")"
      ]
    },
    {
      "cell_type": "markdown",
      "metadata": {
        "id": "sbJI3jEwXliq"
      },
      "source": [
        "<details>\n",
        "<summary>Help - I'm not sure how to implement this function.</summary>\n",
        "\n",
        "To get the induction stripe, you can use:\n",
        "\n",
        "```python\n",
        "torch.diagonal(pattern, dim1=-2, dim2=-1, offset=1-seq_len)\n",
        "```\n",
        "\n",
        "since this returns the diagonal of each attention scores matrix, for every element in the batch and every attention head.\n",
        "\n",
        "Once you have this, you can then take the mean over the batch and diagonal dimensions, giving you a tensor of length `n_heads`. You can then write this to the global `induction_score_store` tensor, using the `hook.layer()` method to get the correct row number.\n",
        "</details>\n",
        "\n",
        "<details>\n",
        "<summary>Solution</summary>\n",
        "\n",
        "```python\n",
        "def induction_score_hook(pattern: Float[Tensor, \"batch head_index dest_pos source_pos\"], hook: HookPoint):\n",
        "    \"\"\"\n",
        "    Calculates the induction score, and stores it in the [layer, head] position of the `induction_score_store` tensor.\n",
        "    \"\"\"\n",
        "    # Take the diagonal of attn paid from each dest posn to src posns (seq_len-1) tokens back\n",
        "    # (This only has entries for tokens with index>=seq_len)\n",
        "    induction_stripe = pattern.diagonal(dim1=-2, dim2=-1, offset=1 - seq_len)\n",
        "    # Get an average score per head\n",
        "    induction_score = einops.reduce(induction_stripe, \"batch head_index position -> head_index\", \"mean\")\n",
        "    # Store the result.\n",
        "    induction_score_store[hook.layer(), :] = induction_score\n",
        "```\n",
        "\n",
        "</details>"
      ]
    },
    {
      "cell_type": "markdown",
      "metadata": {
        "id": "ap8dWqIXXlir"
      },
      "source": [
        "If this function has been implemented correctly, you should see a result matching your observations from the previous section: a high induction score (>0.6) for all the heads which you identified as induction heads, and a low score (close to 0) for all others."
      ]
    },
    {
      "cell_type": "markdown",
      "metadata": {
        "id": "cynUjLfHXlir"
      },
      "source": [
        "### Exercise - find induction heads in GPT2-small\n",
        "\n",
        "> ```yaml\n",
        "> Difficulty: 🔴🔴🔴⚪⚪\n",
        "> Importance: 🔵🔵🔵🔵⚪\n",
        ">\n",
        "> You shouldn't spend more than 10-20 minutes on this exercise.\n",
        "> Here, you mostly just need to use previously defined functions and interpret the results, rather than writing new code.\n",
        "> ```\n",
        "\n",
        "*This is your first opportunity to investigate a larger and more extensively trained model, rather than the simple 2-layer model we've been using so far. None of the code required is new (you can copy most of it from previous sections), so these exercises shouldn't take very long.*"
      ]
    },
    {
      "cell_type": "markdown",
      "metadata": {
        "id": "lNSVtakfXlir"
      },
      "source": [
        "Perform the same analysis on your `gpt2_small`. You should observe that some heads, particularly in a couple of the middle layers, have high induction scores. Use CircuitsVis to plot the attention patterns for these heads when run on the repeated token sequences, and verify that they look like induction heads.\n",
        "\n",
        "Note - you can make CircuitsVis plots (and other visualisations) using hooks rather than plotting directly from the cache. For example, we've given you a hook function which will display the attention patterns at a given hook when you include it in a call to `model.run_with_hooks`."
      ]
    },
    {
      "cell_type": "code",
      "execution_count": null,
      "metadata": {
        "id": "IK5P-PyFXlir"
      },
      "outputs": [],
      "source": [
        "def visualize_pattern_hook(\n",
        "    pattern: Float[Tensor, \"batch head_index dest_pos source_pos\"],\n",
        "    hook: HookPoint,\n",
        "):\n",
        "    print(\"Layer: \", hook.layer())\n",
        "    display(\n",
        "        cv.attention.attention_patterns(\n",
        "            tokens=gpt2_small.to_str_tokens(rep_tokens[0]), attention=pattern.mean(0)\n",
        "        )\n",
        "    )\n",
        "\n",
        "\n",
        "# YOUR CODE HERE - find induction heads in gpt2_small"
      ]
    },
    {
      "cell_type": "markdown",
      "metadata": {
        "id": "Hf5d7dmYXlir"
      },
      "source": [
        "<details><summary>Solution</summary>\n",
        "\n",
        "```python\n",
        "seq_len = 50\n",
        "batch_size = 10\n",
        "rep_tokens_batch = generate_repeated_tokens(gpt2_small, seq_len, batch_size)\n",
        "\n",
        "induction_score_store = t.zeros(\n",
        "    (gpt2_small.cfg.n_layers, gpt2_small.cfg.n_heads), device=gpt2_small.cfg.device\n",
        ")\n",
        "\n",
        "gpt2_small.run_with_hooks(\n",
        "    rep_tokens_batch,\n",
        "    return_type=None,  # For efficiency, we don't need to calculate the logits\n",
        "    fwd_hooks=[(pattern_hook_names_filter, induction_score_hook)],\n",
        ")\n",
        "\n",
        "imshow(\n",
        "    induction_score_store,\n",
        "    labels={\"x\": \"Head\", \"y\": \"Layer\"},\n",
        "    title=\"Induction Score by Head\",\n",
        "    text_auto=\".1f\",\n",
        "    width=700,\n",
        "    height=500,\n",
        ")\n",
        "\n",
        "# Observation: heads 5.1, 5.5, 6.9, 7.2, 7.10 are all strongly induction-y.\n",
        "# Confirm observation by visualizing attn patterns for layers 5 through 7:\n",
        "\n",
        "induction_head_layers = [5, 6, 7]\n",
        "fwd_hooks = [\n",
        "    (utils.get_act_name(\"pattern\", induction_head_layer), visualize_pattern_hook)\n",
        "    for induction_head_layer in induction_head_layers\n",
        "]\n",
        "gpt2_small.run_with_hooks(\n",
        "    rep_tokens,\n",
        "    return_type=None,\n",
        "    fwd_hooks=fwd_hooks,\n",
        ")\n",
        "```\n",
        "</details>"
      ]
    },
    {
      "cell_type": "markdown",
      "metadata": {
        "id": "gaXZR4OBXlir"
      },
      "source": [
        "## Building interpretability tools\n",
        "\n",
        "In order to develop a mechanistic understanding for how transformers perform certain tasks, we need to be able to answer questions like:\n",
        "\n",
        "> *How much of the model's performance on some particular task is attributable to each component of the model?*\n",
        "\n",
        "where \"component\" here might mean, for example, a specific head in a layer.\n",
        "\n",
        "There are many ways to approach a question like this. For example, we might look at how a head interacts with other heads in different layers, or we might perform a causal intervention by seeing how well the model performs if we remove the effect of this head. However, we'll keep things simple for now, and ask the question: **what are the direct contributions of this head to the output logits?**\n",
        "\n",
        "### Direct Logit attribution\n",
        "\n",
        "A consequence of the residual stream is that the output logits are the sum of the contributions of each layer, and thus the sum of the results of each head. This means we can decompose the output logits into a term coming from each head and directly do attribution like this!\n",
        "\n",
        "<details>\n",
        "<summary>A concrete example</summary>\n",
        "\n",
        "Let's say that our model knows that the token Harry is followed by the token Potter, and we want to figure out how it does this. The logits on Harry are `residual @ W_U`. But this is a linear map, and the residual stream is the sum of all previous layers `residual = embed + attn_out_0 + attn_out_1`. So `logits = (embed @ W_U) + (attn_out @ W_U) + (attn_out_1 @ W_U)`\n",
        "\n",
        "We can be even more specific, and *just* look at the logit of the Potter token - this corresponds to a column of `W_U`, and so a direction in the residual stream - our logit is now a single number that is the sum of `(embed @ potter_U) + (attn_out_0 @ potter_U) + (attn_out_1 @ potter_U)`. Even better, we can decompose each attention layer output into the sum of the result of each head, and use this to get many terms.\n",
        "</details>\n",
        "\n",
        "Your mission here is to write a function to look at how much each component contributes to the correct logit. Your components are:\n",
        "\n",
        "* The direct path (i.e. the residual connections from the embedding to unembedding),\n",
        "* Each layer 0 head (via the residual connection and skipping layer 1)\n",
        "* Each layer 1 head\n",
        "\n",
        "To emphasise, these are not paths from the start to the end of the model, these are paths from the output of some component directly to the logits - we make no assumptions about how each path was calculated!\n",
        "\n",
        "A few important notes for this exercise:\n",
        "\n",
        "* Here we are just looking at the DIRECT effect on the logits, i.e. the thing that this component writes / embeds into the residual stream - if heads compose with other heads and affect logits like that, or inhibit logits for other tokens to boost the correct one we will not pick up on this!\n",
        "* By looking at just the logits corresponding to the correct token, our data is much lower dimensional because we can ignore all other tokens other than the correct next one (Dealing with a 50K vocab size is a pain!). But this comes at the cost of missing out on more subtle effects, like a head suppressing other plausible logits, to increase the log prob of the correct one.\n",
        "    * There are other situations where our job might be easier. For instance, in the IOI task (which we'll discuss shortly) we're just comparing the logits of the indirect object to the logits of the direct object, meaning we can use the **difference between these logits**, and ignore all the other logits.\n",
        "* When calculating correct output logits, we will get tensors with a dimension `(position - 1,)`, not `(position,)` - we remove the final element of the output (logits), and the first element of labels (tokens). This is because we're predicting the *next* token, and we don't know the token after the final token, so we ignore it.\n",
        "\n",
        "<details>\n",
        "<summary>Aside - centering <code>W_U</code></summary>\n",
        "\n",
        "While we won't worry about this for this exercise, logit attribution is often more meaningful if we first center `W_U` - i.e. ensure the mean of each row writing to the output logits is zero. Log softmax is invariant when we add a constant to all the logits, so we want to control for a head that just increases all logits by the same amount. We won't do this here for ease of testing.\n",
        "</details>\n",
        "\n",
        "<details>\n",
        "<summary>Question - why don't we do this to the log probs instead?</summary>\n",
        "\n",
        "Because log probs aren't linear, they go through `log_softmax`, a non-linear function.\n",
        "</details>"
      ]
    },
    {
      "cell_type": "markdown",
      "metadata": {
        "id": "ik4pje-fXlir"
      },
      "source": [
        "### Exercise - build logit attribution tool\n",
        "\n",
        "> ```yaml\n",
        "> Difficulty: 🔴🔴🔴⚪⚪\n",
        "> Importance: 🔵🔵🔵🔵⚪\n",
        ">\n",
        "> You shouldn't spend more than 10-15 minutes on this exercise.\n",
        "> This exercise is important, but has quite a few messy einsums, so you might get more value from reading the solution than doing the exercises.\n",
        "> ```\n",
        "\n",
        "You should implement the `logit_attribution` function below. This should return the contribution of each component in the \"correct direction\". We've already given you the unembedding vectors for the correct direction, `W_U_correct_tokens` (note that we take the `[1:]` slice of tokens, for reasons discussed above).\n",
        "\n",
        "The code below this function will check your logit attribution function is working correctly, by taking the sum of logit attributions and comparing it to the actual values in the residual stream at the end of your model."
      ]
    },
    {
      "cell_type": "code",
      "execution_count": null,
      "metadata": {
        "id": "Zg9vtSocXlis"
      },
      "outputs": [],
      "source": [
        "def logit_attribution(\n",
        "    embed: Float[Tensor, \"seq d_model\"],\n",
        "    l1_results: Float[Tensor, \"seq nheads d_model\"],\n",
        "    l2_results: Float[Tensor, \"seq nheads d_model\"],\n",
        "    W_U: Float[Tensor, \"d_model d_vocab\"],\n",
        "    tokens: Int[Tensor, \"seq\"],\n",
        ") -> Float[Tensor, \"seq-1 n_components\"]:\n",
        "    \"\"\"\n",
        "    Inputs:\n",
        "        embed: the embeddings of the tokens (i.e. token + position embeddings)\n",
        "        l1_results: the outputs of the attention heads at layer 1 (with head as one of the dims)\n",
        "        l2_results: the outputs of the attention heads at layer 2 (with head as one of the dims)\n",
        "        W_U: the unembedding matrix\n",
        "        tokens: the token ids of the sequence\n",
        "\n",
        "    Returns:\n",
        "        Tensor of shape (seq_len-1, n_components)\n",
        "        represents the concatenation (along dim=-1) of logit attributions from:\n",
        "            the direct path (seq-1,1)\n",
        "            layer 0 logits (seq-1, n_heads)\n",
        "            layer 1 logits (seq-1, n_heads)\n",
        "        so n_components = 1 + 2*n_heads\n",
        "    \"\"\"\n",
        "    W_U_correct_tokens = W_U[:, tokens[1:]]\n",
        "\n",
        "    raise NotImplementedError()\n",
        "\n",
        "\n",
        "text = \"We think that powerful, significantly superhuman machine intelligence is more likely than not to be created this century. If current machine learning techniques were scaled up to this level, we think they would by default produce systems that are deceptive or manipulative, and that no solid plans are known for how to avoid this.\"\n",
        "logits, cache = model.run_with_cache(text, remove_batch_dim=True)\n",
        "str_tokens = model.to_str_tokens(text)\n",
        "tokens = model.to_tokens(text)\n",
        "\n",
        "with t.inference_mode():\n",
        "    embed = cache[\"embed\"]\n",
        "    l1_results = cache[\"result\", 0]\n",
        "    l2_results = cache[\"result\", 1]\n",
        "    logit_attr = logit_attribution(embed, l1_results, l2_results, model.W_U, tokens[0])\n",
        "    # Uses fancy indexing to get a len(tokens[0])-1 length tensor, where the kth entry is the predicted logit for the correct k+1th token\n",
        "    correct_token_logits = logits[0, t.arange(len(tokens[0]) - 1), tokens[0, 1:]]\n",
        "    t.testing.assert_close(logit_attr.sum(1), correct_token_logits, atol=1e-3, rtol=0)\n",
        "    print(\"Tests passed!\")"
      ]
    },
    {
      "cell_type": "markdown",
      "metadata": {
        "id": "wK4O691wXlis"
      },
      "source": [
        "<details><summary>Solution</summary>\n",
        "\n",
        "```python\n",
        "def logit_attribution(\n",
        "    embed: Float[Tensor, \"seq d_model\"],\n",
        "    l1_results: Float[Tensor, \"seq nheads d_model\"],\n",
        "    l2_results: Float[Tensor, \"seq nheads d_model\"],\n",
        "    W_U: Float[Tensor, \"d_model d_vocab\"],\n",
        "    tokens: Int[Tensor, \"seq\"],\n",
        ") -> Float[Tensor, \"seq-1 n_components\"]:\n",
        "    \"\"\"\n",
        "    Inputs:\n",
        "        embed: the embeddings of the tokens (i.e. token + position embeddings)\n",
        "        l1_results: the outputs of the attention heads at layer 1 (with head as one of the dims)\n",
        "        l2_results: the outputs of the attention heads at layer 2 (with head as one of the dims)\n",
        "        W_U: the unembedding matrix\n",
        "        tokens: the token ids of the sequence\n",
        "\n",
        "    Returns:\n",
        "        Tensor of shape (seq_len-1, n_components)\n",
        "        represents the concatenation (along dim=-1) of logit attributions from:\n",
        "            the direct path (seq-1,1)\n",
        "            layer 0 logits (seq-1, n_heads)\n",
        "            layer 1 logits (seq-1, n_heads)\n",
        "        so n_components = 1 + 2*n_heads\n",
        "    \"\"\"\n",
        "    W_U_correct_tokens = W_U[:, tokens[1:]]\n",
        "\n",
        "    direct_attributions = einops.einsum(W_U_correct_tokens, embed[:-1], \"emb seq, seq emb -> seq\")\n",
        "    l1_attributions = einops.einsum(\n",
        "        W_U_correct_tokens, l1_results[:-1], \"emb seq, seq nhead emb -> seq nhead\"\n",
        "    )\n",
        "    l2_attributions = einops.einsum(\n",
        "        W_U_correct_tokens, l2_results[:-1], \"emb seq, seq nhead emb -> seq nhead\"\n",
        "    )\n",
        "    return t.concat([direct_attributions.unsqueeze(-1), l1_attributions, l2_attributions], dim=-1)\n",
        "```\n",
        "</details>"
      ]
    },
    {
      "cell_type": "markdown",
      "metadata": {
        "id": "_YpixyNmXlis"
      },
      "source": [
        "Once you've got the tests working, you can visualise the logit attributions for each path through the model. We've provided you with the helper function `plot_logit_attribution`, which presents the results in a nice way."
      ]
    },
    {
      "cell_type": "code",
      "execution_count": null,
      "metadata": {
        "id": "VmlPDirXXlis"
      },
      "outputs": [],
      "source": [
        "embed = cache[\"embed\"]\n",
        "l1_results = cache[\"result\", 0]\n",
        "l2_results = cache[\"result\", 1]\n",
        "logit_attr = logit_attribution(embed, l1_results, l2_results, model.W_U, tokens.squeeze())\n",
        "\n",
        "plot_logit_attribution(model, logit_attr, tokens, title=\"Logit attribution (demo prompt)\")"
      ]
    },
    {
      "cell_type": "markdown",
      "metadata": {
        "id": "D8_qy9kXXlis"
      },
      "source": [
        "#### Question - what is the interpretation of this plot?\n",
        "\n",
        "You should find that the most variation in the logit attribution comes from the direct path. In particular, some of the tokens in the direct path have a very high logit attribution (e.g. tokens 7, 12, 24, 38, 46, 58). Can you guess what gives them in particular such a high logit attribution?\n",
        "\n",
        "<details>\n",
        "<summary>Answer - what is special about these tokens?</summary>\n",
        "\n",
        "The tokens with very high logit attribution are the ones which are the first token in common bigrams. For instance, the highest contribution on the direct path comes from `| manip|`, because this is very likely to be followed by `|ulative|` (or presumably a different stem like `| ulation|`). `| super| -> |human|` is another example of a bigram formed when the tokenizer splits one word into multiple tokens.\n",
        "\n",
        "There are also examples that come from two different words, rather than a single word split by the tokenizer. These include:\n",
        "\n",
        "* `| more| -> | likely|` (12)\n",
        "* `| machine| -> | learning|` (24)\n",
        "* `| by| -> | default|` (38)\n",
        "* `| how| -> | to|` (58)\n",
        "\n",
        "See later for a discussion of all the ~infuriating~ fun quirks of tokenization!\n",
        "</details>\n",
        "\n",
        "Another feature of the plot - the heads in layer 1 seem to have much higher contributions than the heads in layer 0. Why do you think this might be?\n",
        "\n",
        "<details>\n",
        "<summary>Hint</summary>\n",
        "\n",
        "Think about what this graph actually represents, in terms of paths through the transformer.\n",
        "</details>\n",
        "\n",
        "<details>\n",
        "<summary>Answer - why might layer-1 heads have higher contributions?</summary>\n",
        "\n",
        "This is because of a point we discussed earlier - this plot doesn't pick up on things like a head's effect in composition with another head. So the attribution for layer-0 heads won't involve any composition, whereas the attributions for layer-1 heads will involve not only the single-head paths through those attention heads, but also the 2-layer compositional paths through heads in layer 0 and layer 1.\n",
        "</details>"
      ]
    },
    {
      "cell_type": "markdown",
      "metadata": {
        "id": "a60f9DHtXlis"
      },
      "source": [
        "### Exercise - interpret logit attribution for the induction heads\n",
        "\n",
        "> ```yaml\n",
        "> Difficulty: 🔴🔴🔴⚪⚪\n",
        "> Importance: 🔵🔵🔵🔵⚪\n",
        ">\n",
        "> You shouldn't spend more than 10-15 minutes on this exercise.\n",
        "> ```\n",
        "\n",
        "*This exercise just involves calling `logit_attribution` and `plot_logit_attribution` with appropriate arguments - the important part is interpreting the results. Please do look at the solutions if you're stuck on the code; this part isn't important.*\n",
        "\n",
        "Perform logit attribution for your attention-only model `model`, on the `rep_cache`. What do you expect to see?\n",
        "\n",
        "<!-- Remember, you'll need to split the sequence in two, with one overlapping token (since predicting the next token involves removing the final token with no label) - your `logit_attr` should both have shape `[seq_len, 2*n_heads + 1]` (ie `[50, 25]` here). -->\n",
        "<!--\n",
        "<details>\n",
        "<summary>Note - the first plot will be pretty meaningless. Can you see why?</summary>\n",
        "\n",
        "Because the first plot shows the logit attribution for the first half of the sequence, i.e. the first occurrence of each of the tokens. Since there is no structure to this sequence (it is purely random), there is no reason to expect the heads to be doing meaningful computation. The structure lies in the second half of the sequence, when the tokens are repeated, and the heads with high logit attributions will be the ones that can perform induction.\n",
        "</details> -->"
      ]
    },
    {
      "cell_type": "code",
      "execution_count": null,
      "metadata": {
        "id": "gmX3vq96Xlit"
      },
      "outputs": [],
      "source": [
        "# YOUR CODE HERE - plot logit attribution for the induction sequence (i.e. using `rep_tokens` and\n",
        "# `rep_cache`), and interpret the results."
      ]
    },
    {
      "cell_type": "markdown",
      "metadata": {
        "id": "5ooWvK1_Xlit"
      },
      "source": [
        "<details><summary>Solution</summary>\n",
        "\n",
        "```python\n",
        "seq_len = 50\n",
        "\n",
        "embed = rep_cache[\"embed\"]\n",
        "l1_results = rep_cache[\"result\", 0]\n",
        "l2_results = rep_cache[\"result\", 1]\n",
        "\n",
        "logit_attr = logit_attribution(embed, l1_results, l2_results, model.W_U, rep_tokens.squeeze())\n",
        "plot_logit_attribution(\n",
        "    model, logit_attr, rep_tokens.squeeze(), title=\"Logit attribution (random induction prompt)\"\n",
        ")\n",
        "```\n",
        "</details>"
      ]
    },
    {
      "cell_type": "markdown",
      "metadata": {
        "id": "u7F1uhq4Xlit"
      },
      "source": [
        "What is the interpretation of this plot, in the context of our induction head circuit?\n",
        "\n",
        "<details>\n",
        "<summary>Answer</summary>\n",
        "\n",
        "The first half of the plot is mostly meaningless, because the sequences here are random and carry no predictable pattern, and so there can't be any part of the model that is doing meaningful computation to make predictions.\n",
        "\n",
        "In the second half, we see that heads `1.4` and `1.10` have a large logit attribution score. This makes sense given our previous observation that these heads seemed to be performing induction (since they both exhibited the characteristic induction pattern), however it's worth emphasizing that this plot gives us a different kind of evidence than looking at attention patterns does, because just observing some head is attending to a particular token doesn't mean it's necessarily using that information to make a concrete prediction. Note that we see head `1.10` has a larger direct effect than `1.4`, which agrees with our attention scores result (where `1.10` also scored higher than `1.4`).\n",
        "\n",
        "</details>"
      ]
    },
    {
      "cell_type": "markdown",
      "metadata": {
        "id": "_7gdg0w0Xlit"
      },
      "source": [
        "## Hooks: Intervening on Activations\n",
        "\n",
        "Now that we've built some tools to decompose our model's output, it's time to start making causal interventions.\n",
        "\n",
        "### Ablations\n",
        "\n",
        "Let's start with a simple example: **ablation**. An ablation is a simple causal intervention on a model - we pick some part of it and set it to zero. This is a crude proxy for how much that part matters. Further, if we have some story about how a specific circuit in the model enables some capability, showing that ablating *other* parts does nothing can be strong evidence of this.\n",
        "\n",
        "As mentioned in [the glossary](https://dynalist.io/d/n2ZWtnoYHrU1s4vnFSAQ519J#z=fh-HJyz1CgUVrXuoiban6bYx), there are many ways to do ablation. We'll focus on the simplest: zero-ablation (even though it's somewhat unprincipled)."
      ]
    },
    {
      "cell_type": "markdown",
      "metadata": {
        "id": "jcKq-FkvXlit"
      },
      "source": [
        "### Exercise - induction head ablation\n",
        "\n",
        "> ```yaml\n",
        "> Difficulty: 🔴🔴⚪⚪⚪\n",
        "> Importance: 🔵🔵🔵🔵⚪\n",
        ">\n",
        "> You should aim to spend 20-35 mins on this exercise.\n",
        "> ```\n",
        "\n",
        "The code below provides a template for performing zero-ablation on the output vectors at a particular head (i.e. the vectors we get when taking a weighted sum of the value vectors according to the attention probabilities, before projecting them up & adding them back to the residual stream). If you're confused about what different activations mean, you can refer back to [the diagram](https://raw.githubusercontent.com/info-arena/ARENA_img/main/misc/small-merm.svg).\n",
        "\n",
        "You need to do 2 things:\n",
        "\n",
        "1. Fill in `head_zero_ablation_hook` so that it performs zero-ablation on the head given by `head_index_to_ablate`.\n",
        "2. Fill in the missing code in the `get_ablation_scores` function (i.e. where you see the `raise NotImplementedError()` line), so that `loss_with_ablation` is computed as the loss of the model after ablating head `head` in layer `layer`.\n",
        "\n",
        "The rest of the `get_ablation_scores` function is designed to return a tensor of shape `(n_layers, n_heads)` containing the increase in loss from ablating each of these heads.\n",
        "\n",
        "A few notes about this function / tips on how to implement it:\n",
        "\n",
        "- You can create a temporary hook function by applying `functools.partial` to the `ablation_function`, fixing the head index to a particular value.\n",
        "- You can use `utils.get_act_name(\"z\", layer)` to get the name of the hook point (to see the full diagram of named hook points and how to get the names, you can refer to the streamlit reference page, which can be found on the left hand sidebar after you navigate to the [homepage](https://arena-chapter1-transformer-interp.streamlit.app/)).\n",
        "- See that `loss_no_ablation` is computed with the `get_log_probs` function, and that we only take the last `seq_len - 1` tokens - this is because we're dealing with sequences of length `2 * seq_len + 1` (a BOS token plus 2 repeated random sequences), and we only care about the loss on the second half of the sequence.\n",
        "- Note that we call `model.reset_hooks()` at the start of the function - this is a useful practice in general, to make sure you've not accidentally left in any hooks that might change your model's behaviour."
      ]
    },
    {
      "cell_type": "code",
      "execution_count": null,
      "metadata": {
        "id": "96YVUVXBXlit"
      },
      "outputs": [],
      "source": [
        "def head_zero_ablation_hook(\n",
        "    z: Float[Tensor, \"batch seq n_heads d_head\"],\n",
        "    hook: HookPoint,\n",
        "    head_index_to_ablate: int,\n",
        ") -> None:\n",
        "    raise NotImplementedError()\n",
        "\n",
        "\n",
        "def get_ablation_scores(\n",
        "    model: HookedTransformer,\n",
        "    tokens: Int[Tensor, \"batch seq\"],\n",
        "    ablation_function: Callable = head_zero_ablation_hook,\n",
        ") -> Float[Tensor, \"n_layers n_heads\"]:\n",
        "    \"\"\"\n",
        "    Returns a tensor of shape (n_layers, n_heads) containing the increase in cross entropy loss\n",
        "    from ablating the output of each head.\n",
        "    \"\"\"\n",
        "    # Initialize an object to store the ablation scores\n",
        "    ablation_scores = t.zeros((model.cfg.n_layers, model.cfg.n_heads), device=model.cfg.device)\n",
        "\n",
        "    # Calculating loss without any ablation, to act as a baseline\n",
        "    model.reset_hooks()\n",
        "    seq_len = (tokens.shape[1] - 1) // 2\n",
        "    logits = model(tokens, return_type=\"logits\")\n",
        "    loss_no_ablation = -get_log_probs(logits, tokens)[:, -(seq_len - 1) :].mean()\n",
        "\n",
        "    for layer in tqdm(range(model.cfg.n_layers)):\n",
        "        for head in range(model.cfg.n_heads):\n",
        "            raise NotImplementedError()\n",
        "\n",
        "    return ablation_scores\n",
        "\n",
        "\n",
        "ablation_scores = get_ablation_scores(model, rep_tokens)\n",
        "tests.test_get_ablation_scores(ablation_scores, model, rep_tokens)"
      ]
    },
    {
      "cell_type": "markdown",
      "metadata": {
        "id": "ZKfiMOznXliu"
      },
      "source": [
        "<details><summary>Solution</summary>\n",
        "\n",
        "```python\n",
        "def head_zero_ablation_hook(\n",
        "    z: Float[Tensor, \"batch seq n_heads d_head\"],\n",
        "    hook: HookPoint,\n",
        "    head_index_to_ablate: int,\n",
        ") -> None:\n",
        "    z[:, :, head_index_to_ablate, :] = 0.0\n",
        "\n",
        "\n",
        "def get_ablation_scores(\n",
        "    model: HookedTransformer,\n",
        "    tokens: Int[Tensor, \"batch seq\"],\n",
        "    ablation_function: Callable = head_zero_ablation_hook,\n",
        ") -> Float[Tensor, \"n_layers n_heads\"]:\n",
        "    \"\"\"\n",
        "    Returns a tensor of shape (n_layers, n_heads) containing the increase in cross entropy loss\n",
        "    from ablating the output of each head.\n",
        "    \"\"\"\n",
        "    # Initialize an object to store the ablation scores\n",
        "    ablation_scores = t.zeros((model.cfg.n_layers, model.cfg.n_heads), device=model.cfg.device)\n",
        "\n",
        "    # Calculating loss without any ablation, to act as a baseline\n",
        "    model.reset_hooks()\n",
        "    seq_len = (tokens.shape[1] - 1) // 2\n",
        "    logits = model(tokens, return_type=\"logits\")\n",
        "    loss_no_ablation = -get_log_probs(logits, tokens)[:, -(seq_len - 1) :].mean()\n",
        "\n",
        "    for layer in tqdm(range(model.cfg.n_layers)):\n",
        "        for head in range(model.cfg.n_heads):\n",
        "            # Use functools.partial to create a temporary hook function with the head number fixed\n",
        "            temp_hook_fn = functools.partial(ablation_function, head_index_to_ablate=head)\n",
        "            # Run the model with the ablation hook\n",
        "            ablated_logits = model.run_with_hooks(\n",
        "                tokens, fwd_hooks=[(utils.get_act_name(\"z\", layer), temp_hook_fn)]\n",
        "            )\n",
        "            # Calculate the loss difference (= neg correct logprobs), only on the last seq_len tokens\n",
        "            loss = -get_log_probs(ablated_logits, tokens)[:, -(seq_len - 1) :].mean()\n",
        "            # Store the result, subtracting the clean loss so that a value of 0 means no loss change\n",
        "            ablation_scores[layer, head] = loss - loss_no_ablation\n",
        "\n",
        "    return ablation_scores\n",
        "```\n",
        "</details>"
      ]
    },
    {
      "cell_type": "markdown",
      "metadata": {
        "id": "Rc4ESWOXXliu"
      },
      "source": [
        "Once you've passed the tests, you can plot the results:"
      ]
    },
    {
      "cell_type": "code",
      "execution_count": null,
      "metadata": {
        "id": "O6rLZkQgXliu"
      },
      "outputs": [],
      "source": [
        "imshow(\n",
        "    ablation_scores,\n",
        "    labels={\"x\": \"Head\", \"y\": \"Layer\", \"color\": \"Logit diff\"},\n",
        "    title=\"Loss Difference After Ablating Heads\",\n",
        "    text_auto=\".2f\",\n",
        "    width=900,\n",
        "    height=350,\n",
        ")"
      ]
    },
    {
      "cell_type": "markdown",
      "metadata": {
        "id": "HehwIn54Xliu"
      },
      "source": [
        "What is your interpretation of these results?\n",
        "\n",
        "<details>\n",
        "<summary>Interpretation</summary>\n",
        "\n",
        "This tells us not just which heads are responsible for writing output to the residual stream that gets us the correct result, but **which heads play an important role in the induction circuit**.\n",
        "\n",
        "This chart tells us that - for sequences of repeated tokens - head `0.7` is by far the most important in layer 0 (which makes sense, since we observed it to be the strongest \"previous token head\"), and heads `1.4`, `1.10` are the most important in layer 1 (which makes sense, since we observed these to be the most induction-y).\n",
        "\n",
        "This is a good illustration of the kind of result which we can get from ablation, but **wouldn't be able to get from something like direct logit attribution**, because it isn't a causal intervention.\n",
        "</details>"
      ]
    },
    {
      "cell_type": "markdown",
      "metadata": {
        "id": "wslBEKOIXliu"
      },
      "source": [
        "### Exercise - mean ablation\n",
        "\n",
        "> ```yaml\n",
        "> Difficulty: 🔴⚪⚪⚪⚪\n",
        "> Importance: 🔵🔵🔵⚪⚪\n",
        ">\n",
        "> You should aim to spend 5-15 mins on this exercise.\n",
        "> ```\n",
        "\n",
        "An alternative to zero-ablation is **mean-ablation**, where rather than setting values to zero, we set them to be their mean across some suitable distribution (commonly we'll use the mean over some batch dimension). This can be more informative, because zero-ablation takes a model out of its normal distribution, and so the results from it aren't necessarily representative of what you'd get if you \"switched off\" the effect from some particular component. Mean ablation on the other hand works slightly better (although it does come with its own set of risks). You can read more [here](https://www.neelnanda.io/mechanistic-interpretability/glossary#:~:text=Ablation%20aka%20Knockout) or [here](https://arxiv.org/html/2404.15255v1).\n",
        "\n",
        "You should fill in the `head_mean_ablation_hook` function below, and run the code (also make sure in your previous `get_ablation_scores` function that you were actually using the `ablation_function` rather than hardcoding the zero ablation function, otherwise your code won't work here). You should see that the results are slightly cleaner, with the unimportant heads having values much closer to zero relative to the important heads."
      ]
    },
    {
      "cell_type": "code",
      "execution_count": null,
      "metadata": {
        "id": "-vItnRB-Xliu"
      },
      "outputs": [],
      "source": [
        "def head_mean_ablation_hook(\n",
        "    z: Float[Tensor, \"batch seq n_heads d_head\"],\n",
        "    hook: HookPoint,\n",
        "    head_index_to_ablate: int,\n",
        ") -> None:\n",
        "    raise NotImplementedError()\n",
        "\n",
        "\n",
        "rep_tokens_batch = run_and_cache_model_repeated_tokens(model, seq_len=50, batch_size=10)[0]\n",
        "mean_ablation_scores = get_ablation_scores(\n",
        "    model, rep_tokens_batch, ablation_function=head_mean_ablation_hook\n",
        ")\n",
        "\n",
        "imshow(\n",
        "    mean_ablation_scores,\n",
        "    labels={\"x\": \"Head\", \"y\": \"Layer\", \"color\": \"Logit diff\"},\n",
        "    title=\"Loss Difference After Ablating Heads\",\n",
        "    text_auto=\".2f\",\n",
        "    width=900,\n",
        "    height=350,\n",
        ")"
      ]
    },
    {
      "cell_type": "markdown",
      "metadata": {
        "id": "LQw_CXNYXliu"
      },
      "source": [
        "<details><summary>Solution</summary>\n",
        "\n",
        "```python\n",
        "def head_mean_ablation_hook(\n",
        "    z: Float[Tensor, \"batch seq n_heads d_head\"],\n",
        "    hook: HookPoint,\n",
        "    head_index_to_ablate: int,\n",
        ") -> None:\n",
        "    z[:, :, head_index_to_ablate, :] = z[:, :, head_index_to_ablate, :].mean(0)\n",
        "\n",
        "\n",
        "rep_tokens_batch = run_and_cache_model_repeated_tokens(model, seq_len=50, batch_size=10)[0]\n",
        "mean_ablation_scores = get_ablation_scores(\n",
        "    model, rep_tokens_batch, ablation_function=head_mean_ablation_hook\n",
        ")\n",
        "\n",
        "imshow(\n",
        "    mean_ablation_scores,\n",
        "    labels={\"x\": \"Head\", \"y\": \"Layer\", \"color\": \"Logit diff\"},\n",
        "    title=\"Loss Difference After Ablating Heads\",\n",
        "    text_auto=\".2f\",\n",
        "    width=900,\n",
        "    height=350,\n",
        ")\n",
        "```\n",
        "</details>"
      ]
    },
    {
      "cell_type": "markdown",
      "metadata": {
        "id": "PxU6sxhxXliu"
      },
      "source": [
        "## Bonus - understand heads 0.4 & 0.11 (very hard!)\n",
        "\n",
        "There are 2 heads which appeared strongly in our induction ablation experiments, but haven't stood out as much in the other analysis we've done in this section `0.4` and `0.11`. Can you construct causal experiments (i.e. targeted ablations) to try and figure out what these heads are doing?\n",
        "\n",
        "> Note - you might want to attempt this once you've made some headway into the next section, as this will give you a more mechanistic understanding of the induction circuit. Even once you've done that, you might still find this bonus exercise challenging, because it ventures outside of the well-defined induction circuit we've been working with and into potentially more ambiguous results. **To restate - the material here is very challenging!**\n",
        "\n",
        "<details>\n",
        "<summary>Here's a hint to get you started</summary>\n",
        "\n",
        "Look at the positions that heads `0.4` and `0.11` are attending to. Can you figure out which source positions are important to attend to for the model to perform well?\n",
        "\n",
        "</details>\n",
        "\n",
        "<details>\n",
        "<summary>Partial answer (and some sample code)</summary>\n",
        "\n",
        "Below is some sample code which plots the effect of ablating the inputs to heads `0.4` and `0.11` at all offset positions minus a few (e.g. the first row shows the effect on loss of mean ablating all inputs to the heads except for those that come from self-attention, and the second row shows the effect when we ablate all inputs except for those that come from the token immediately before it in the sequence).\n",
        "\n",
        "```python\n",
        "def head_z_ablation_hook(\n",
        "    z: Float[Tensor, \"batch seq n_heads d_head\"],\n",
        "    hook: HookPoint,\n",
        "    head_index_to_ablate: int,\n",
        "    seq_posns: list[int],\n",
        "    cache: ActivationCache,\n",
        ") -> None:\n",
        "    \"\"\"\n",
        "    We perform ablation at the z vector, by doing the equivalent of mean ablating all the inputs to this attention head\n",
        "    except for those which come from the tokens `n` positions back, where `n` is in the `seq_posns` list.\n",
        "    \"\"\"\n",
        "    batch, seq = z.shape[:2]\n",
        "    v = cache[\"v\", hook.layer()][:, :, head_index_to_ablate]  # shape [batch seq_K d_head]\n",
        "    pattern = cache[\"pattern\", hook.layer()][:, head_index_to_ablate]  # shape [batch seq_Q seq_K]\n",
        "\n",
        "    # Get a repeated version of v, and mean ablate all but the previous token values\n",
        "    v_repeated = einops.repeat(v, \"b sK h -> b sQ sK h\", sQ=seq)\n",
        "    v_ablated = einops.repeat(v_repeated.mean(0), \"sQ sK h -> b sQ sK h\", b=batch).clone()\n",
        "    for offset in seq_posns:\n",
        "        seqQ_slice = t.arange(offset, seq)\n",
        "        v_ablated[:, seqQ_slice, seqQ_slice - offset] = v_repeated[:, seqQ_slice, seqQ_slice - offset]\n",
        "\n",
        "    # Take weighted sum of this new v, and use it to edit `z` inplace.\n",
        "    z[:, :, head_index_to_ablate] = einops.einsum(v_ablated, pattern, \"b sQ sK h, b sQ sK -> b sQ h\")\n",
        "\n",
        "\n",
        "def get_ablation_scores_cache_assisted(\n",
        "    model: HookedTransformer,\n",
        "    tokens: Int[Tensor, \"batch seq\"],\n",
        "    ablation_function: Callable = head_zero_ablation_hook,\n",
        "    seq_posns: list[int] = [0],\n",
        "    layers: list[int] = [0],\n",
        ") -> Float[Tensor, \"n_layers n_heads\"]:\n",
        "    \"\"\"\n",
        "    Version of `get_ablation_scores` which can use the cache to assist with the ablation.\n",
        "    \"\"\"\n",
        "    ablation_scores = t.zeros((len(layers), model.cfg.n_heads), device=model.cfg.device)\n",
        "\n",
        "    model.reset_hooks()\n",
        "    seq_len = (tokens.shape[1] - 1) // 2\n",
        "    logits, cache = model.run_with_cache(tokens, return_type=\"logits\")\n",
        "    loss_no_ablation = -get_log_probs(logits, tokens)[:, -(seq_len - 1) :].mean()\n",
        "\n",
        "    for layer in layers:\n",
        "        for head in range(model.cfg.n_heads):\n",
        "            temp_hook_fn = functools.partial(ablation_function, head_index_to_ablate=head, cache=cache, seq_posns=seq_posns)\n",
        "            ablated_logits = model.run_with_hooks(tokens, fwd_hooks=[(utils.get_act_name(\"z\", layer), temp_hook_fn)])\n",
        "            loss = -get_log_probs(ablated_logits, tokens)[:, -(seq_len - 1) :].mean()\n",
        "            ablation_scores[layer, head] = loss - loss_no_ablation\n",
        "\n",
        "    return ablation_scores\n",
        "\n",
        "\n",
        "rep_tokens_batch = run_and_cache_model_repeated_tokens(model, seq_len=50, batch_size=50)[0]\n",
        "\n",
        "offsets = [[0], [1], [2], [3], [1, 2], [1, 2, 3]]\n",
        "z_ablation_scores = [\n",
        "    get_ablation_scores_cache_assisted(model, rep_tokens_batch, head_z_ablation_hook, offset).squeeze()\n",
        "    for offset in tqdm(offsets)\n",
        "]\n",
        "\n",
        "imshow(\n",
        "    t.stack(z_ablation_scores),\n",
        "    labels={\"x\": \"Head\", \"y\": \"Position offset\", \"color\": \"Logit diff\"},\n",
        "    title=\"Loss Difference (ablating heads everywhere except for certain offset positions)\",\n",
        "    text_auto=\".2f\",\n",
        "    y=[str(offset) for offset in offsets],\n",
        "    width=900,\n",
        "    height=400,\n",
        ")\n",
        "```\n",
        "\n",
        "\n",
        "Some observations from the result of this code:\n",
        "\n",
        "- **Head `0.7` is truly a previous token head.** The second row shows that mean ablating all its inputs except for those that come from the previous token has no effect on loss, so this is all the information it's using.\n",
        "- **Head `0.11` is only a current token head.** The first row shows that mean ablating all its inputs except for those that come from self-attending (i.e. to the current token) has no effect on loss, so this is all the information it's using.\n",
        "- **Head `0.4` is only using information from positions 1, 2 or 3 tokens back.** This is shown from the 5th row of the plot above - the effect of ablating all inputs except for those that come from tokens 1 or 2 positions back is very small. Note that it's important we draw this conclusion from an ablation experiment, not just from looking at attention patterns - because attending to a token doesn't tell you whether that token is being used for a way that's important in the context of this particular distribution (induction).\n",
        "\n",
        "Starting with `0.11` - we know that there are heads in layer 1 whose job it is to copy tokens - i.e. in sequences `[A][B]...[A][B]`, they attend from the second `[A]` back to the first `[B]` and copy its value to use as a prediction. And if head `0.11` always self-attends, then it actually makes sense to consider `(embedding of B) + (output of head 0.11 when it attends to token B)` as the \"true embedding of `B`\", since this is always the thing that the layer 1 head will be learning to copy. This idea of an **extended embedding** or **effective embedding** will come up again later in the course, when we look at GPT2-Small. As for whether the output of `0.11` is more important in the QK circuit of the layer-1 copying head, or the OV copying head, we'll leave as an exercise to the reader!\n",
        "\n",
        "Next, `0.4` - it's using information from both 1 and 2 tokens back. Using the previous token makes sense, since induction circuits contain previous token heads. But what could it be doing with the information 2 positions back? One theory we might have is that it's also creating an induction circuit, but using 3 tokens rather than 2 tokens! In other words, rather than having sequences like `[A][B]...[A][B]` where the second `[A]` attends back to \"token that came immediately after the value of this token\", we might have sequences like `[Z][A][B]...[Z][A][B]` where the second `[A]` attends back to \"token that came 2 positions after the value of the previous token\". One way to test this would be to construct random induction sequences which have a maximum of 2 repetitions, i.e. they're constructed with the first half being random sequences and the second half being pairs of randomly chosen tokens which appear in the first half adjacent to each other. To illustrate, for vocab size of 10 and half seq len of 10, we might have a sequence like:\n",
        "\n",
        "<pre style=\"white-space:pre;overflow-x:auto;line-height:normal;font-family:Menlo,'DejaVu Sans Mono',consolas,'Courier New',monospace\">0 5 8 3 1 8 2 2 4 6 (5 8) (4 6) (3 1) (2 4) (0 5)</pre>\n",
        "\n",
        "Based on our theory about head `0.4`, we should expect that mean ablating it in this kind of sequence should have nearly zero effect on loss (because it's designed to support induction sequences of length at least 3), even though all the other heads which were identified as important in the induction experiment (`0.7`, `0.11`, `1.4`, `1.10`) should still be important. This is in fact what we find - you can try this for yourself with the code below.\n",
        "\n",
        "```python\n",
        "def generate_repeated_tokens_maxrep(\n",
        "    model: HookedTransformer,\n",
        "    seq_len: int,\n",
        "    batch_size: int = 1,\n",
        "    maxrep: int = 2,\n",
        ") -> Int[Tensor, \"batch_size full_seq_len\"]:\n",
        "    \"\"\"\n",
        "    Same as previous function, but contains a max number of allowed repetitions. For example, maxrep=2 means we can have\n",
        "    sequences like `[A][B]...[A][B]`, but not `[A][B][C]...[A][B][C]`.\n",
        "    \"\"\"\n",
        "    prefix = (t.ones(batch_size, 1) * model.tokenizer.bos_token_id).long()\n",
        "    rep_tokens_half = t.randint(0, model.cfg.d_vocab, (batch_size, seq_len), dtype=t.int64)\n",
        "    rep_tokens = t.cat([prefix, rep_tokens_half], dim=-1)\n",
        "    for _ in range(seq_len // maxrep + 1):\n",
        "        random_start_posn = t.randint(0, seq_len - 2, (batch_size,)).tolist()\n",
        "        rep_tokens_repeated = t.stack([rep_tokens_half[b, s : s + maxrep] for b, s in enumerate(random_start_posn)])\n",
        "        rep_tokens = t.cat([rep_tokens, rep_tokens_repeated], dim=-1)\n",
        "\n",
        "    return rep_tokens[:, : 2 * seq_len + 1].to(device)\n",
        "\n",
        "\n",
        "rep_tokens_max2 = generate_repeated_tokens_maxrep(model, seq_len=50, batch_size=50, maxrep=2)\n",
        "\n",
        "mean_ablation_scores = get_ablation_scores(model, rep_tokens_max2, ablation_fn=head_mean_ablation_hook)\n",
        "\n",
        "imshow(\n",
        "    mean_ablation_scores,\n",
        "    labels={\"x\": \"Head\", \"y\": \"Layer\", \"color\": \"Logit diff\"},\n",
        "    title=\"Loss Difference After Ablating Heads\",\n",
        "    text_auto=\".2f\",\n",
        "    width=900,\n",
        "    height=350,\n",
        ")\n",
        "```\n",
        "\n",
        "\n",
        "</details>"
      ]
    },
    {
      "cell_type": "markdown",
      "metadata": {
        "id": "moLw_C5oXliv"
      },
      "source": [
        "# 4️⃣ Reverse-engineering induction circuits\n",
        "\n",
        "> ##### Learning Objectives\n",
        ">\n",
        "> - Understand the difference between investigating a circuit by looking at activation patterns, and reverse-engineering a circuit by looking directly at the weights\n",
        "> - Use the factored matrix class to inspect the QK and OV circuits within an induction circuit\n",
        "> - Perform further exploration of induction circuits: composition scores, and targeted ablations"
      ]
    },
    {
      "cell_type": "markdown",
      "metadata": {
        "id": "OcRk8WjMXliv"
      },
      "source": [
        "In previous exercises, we looked at the attention patterns and attributions of attention heads to try and identify which ones were important in the induction circuit. This might be a good way to get a feel for the circuit, but it's not a very rigorous way to understand it. It would be better described as **feature analysis**, where we observe *that* a particular head seems to be performing some task on a certain class of inputs, without identifying *why* it does so.\n",
        "\n",
        "Now we're going to do some more rigorous mechanistic analysis - digging into the weights and using them to reverse engineer the induction head algorithm and verify that it is really doing what we think it is."
      ]
    },
    {
      "cell_type": "markdown",
      "metadata": {
        "id": "2vUgPvqaXliv"
      },
      "source": [
        "## Refresher - the induction circuit\n",
        "\n",
        "Before we get into the meat of this section, let's refresh the results we've gotten so far from investigating induction heads. We've found:\n",
        "\n",
        "* When fed repeated sequences of tokens, heads `1.4` and `1.10` have the characteristic induction head attention pattern of a diagonal stripe with offset `seq_len - 1`.\n",
        "    * We saw this both from the CircuitsVis results, and from the fact that these heads had high induction scores by our chosen metric (with all other heads having much lower scores).\n",
        "* We also saw that head `0.7` strongly attends to the previous token in the sequence (even on non-repeated sequences).\n",
        "* We performed **logit attribution** on the model, and found that the values written to the residual stream by heads `1.4` and `1.10` were both important for getting us correct predictions in the second half of the sequence.\n",
        "* We performed **zero-ablation** on the model, and found that heads `0.7`, `1.4` and `1.10` all resulted in a large accuracy degradation on the repeated sequence task when they were ablated.\n",
        "\n",
        "Based on all these observations, try and summarise the induction circuit and how it works, in your own words. You should try and link your explanation to the QK and OV circuits for particular heads, and describe what type (or types) of attention head composition are taking place.\n",
        "\n",
        "You can use the dropdown below to check your understanding.\n",
        "\n",
        "<details>\n",
        "<summary>My summary of the algorithm</summary>\n",
        "\n",
        "* Head `0.7` is a previous token head (the QK-circuit ensures it always attends to the previous token).\n",
        "* The OV circuit of head `0.7` writes a copy of the previous token in a *different* subspace to the one used by the embedding.\n",
        "* The output of head `0.7` is used by the *key* input of head `1.10` via K-Composition to attend to 'the source token whose previous token is the destination token'.\n",
        "* The OV-circuit of head `1.10` copies the *value* of the source token to the same output logit.\n",
        "    * Note that this is copying from the embedding subspace, *not* the `0.7` output subspace - it is not using V-Composition at all.\n",
        "* `1.4` is also performing the same role as `1.10` (so together they can be more accurate - we'll see exactly how later).\n",
        "\n",
        "To emphasise - the sophisticated hard part is computing the *attention* pattern of the induction head - this takes careful composition. The previous token and copying parts are fairly easy. This is a good illustrative example of how the QK circuits and OV circuits act semi-independently, and are often best thought of somewhat separately. And that computing the attention patterns can involve real and sophisticated computation!\n",
        "\n",
        "Below is a diagram of the induction circuit, with the heads indicated in the weight matrices.\n",
        "\n",
        "![kcomp_diagram_3.png](https://raw.githubusercontent.com/info-arena/ARENA_img/main/misc/kcomp_diagram_described_3.png)\n",
        "</details>"
      ]
    },
    {
      "cell_type": "markdown",
      "metadata": {
        "id": "45FKMp6GXliv"
      },
      "source": [
        "## Refresher - QK and OV circuits\n",
        "\n",
        "Before we start, a brief terminology note. I'll refer to weight matrices for a particular layer and head using superscript notation, e.g. $W_Q^{1.4}$ is the query matrix for the 4th head in layer 1, and it has shape `[d_model, d_head]` (remember that we multiply with weight matrices on the right). Similarly, attention patterns will be denoted $A^{1.4}$ (remember that these are **activations**, not parameters, since they're given by the formula $A^h = x W_{QK}^h x^T$, where $x$ is the residual stream (with shape `[seq_len, d_model]`).\n",
        "\n",
        "As a shorthand, I'll often have $A$ denote the one-hot encoding of token `A` (i.e. the vector with zeros everywhere except a one at the index of `A`), so $A^T W_E$ is the embedding vector for `A`.\n",
        "\n",
        "Lastly, I'll refer to special matrix products as follows:\n",
        "\n",
        "* $W_{OV}^{h} := W_V^{h}W_O^{h}$ is the **OV circuit** for head $h$, and $W_E W_{OV}^h W_U$ is the **full OV circuit**.\n",
        "* $W_{QK}^h := W_Q^h (W_K^h)^T$ is the **QK circuit** for head $h$, and $W_E W_{QK}^h W_E^T$ is the **full QK circuit**.\n",
        "\n",
        "Note that the order of these matrices are slightly different from the **Mathematical Frameworks** paper - this is a consequence of the way TransformerLens stores its weight matrices."
      ]
    },
    {
      "cell_type": "markdown",
      "metadata": {
        "id": "2P3IKWlAXliv"
      },
      "source": [
        "#### Question - what is the interpretation of each of the following matrices?\n",
        "\n",
        "*There are quite a lot of questions here, but they are conceptually important. If you're confused, you might want to read the answers to the first few questions and then try the later ones.*\n",
        "\n",
        "In your answers, you should describe the type of input it takes, and what the outputs represent.\n",
        "\n",
        "#### $W_{OV}^{h}$\n",
        "\n",
        "<details>\n",
        "<summary>Answer</summary>\n",
        "\n",
        "$W_{OV}^{h}$ has size $(d_\\text{model}, d_\\text{model})$, it is a linear map describing **what information gets moved from source to destination, in the residual stream.**\n",
        "\n",
        "In other words, if $x$ is a vector in the residual stream, then $x^T W_{OV}^{h}$ is the vector written to the residual stream at the destination position, if the destination token only pays attention to the source token at the position of the vector $x$.\n",
        "</details>\n",
        "\n",
        "#### $W_E W_{OV}^h W_U$\n",
        "\n",
        "<details>\n",
        "<summary>Hint</summary>\n",
        "\n",
        "If $A$ is the one-hot encoding for token `A` (i.e. the vector with zeros everywhere except for a one in the position corresponding to token `A`), then think about what $A^T W_E W_{OV}^h W_U$ represents. You can evaluate this expression from left to right (e.g. start with thinking about what $A^T W_E$ represents, then multiply by the other two matrices).\n",
        "</details>\n",
        "<details>\n",
        "<summary>Answer</summary>\n",
        "\n",
        "$W_E W_{OV}^h W_U$ has size $(d_\\text{vocab}, d_\\text{vocab})$, it is a linear map describing **what information gets moved from source to destination, in a start-to-end sense.**\n",
        "\n",
        "If $A$ is the one-hot encoding for token `A`, then:\n",
        "\n",
        "* $A^T W_E$ is the embedding vector for `A`.\n",
        "* $A^T W_E W_{OV}^h$ is the vector which would get written to the residual stream at the destination position, if the destination token only pays attention to `A`.\n",
        "* $A^T W_E W_{OV}^h W_U$ is the unembedding of this vector, i.e. the thing which gets added to the final logits.\n",
        "\n",
        "</details>\n",
        "\n",
        "#### $W_{QK}^{h}$\n",
        "\n",
        "<details>\n",
        "<summary>Answer</summary>\n",
        "\n",
        "$W_{QK}^{h}$ has size $(d_\\text{model}, d_\\text{model})$, it is a bilinear form describing **where information is moved to and from** in the residual stream (i.e. which residual stream vectors attend to which others).\n",
        "\n",
        "$x_i^T W_{QK}^h x_j = (x_i^T W_Q^h) (x_j^T W_K^h)^T$ is the attention score paid by token $i$ to token $j$.\n",
        "</details>\n",
        "\n",
        "#### $W_E W_{QK}^h W_E^T$\n",
        "\n",
        "<details>\n",
        "<summary>Answer</summary>\n",
        "\n",
        "$W_E W_{QK}^h W_E^T$ has size $(d_\\text{vocab}, d_\\text{vocab})$, it is a bilinear form describing **where information is moved to and from**, among words in our vocabulary (i.e. which tokens pay attention to which others).\n",
        "\n",
        "If $A$ and $B$ are one-hot encodings for tokens `A` and `B`, then $A^T W_E W_{QK}^h W_E^T B$ is the attention score paid by token `A` to token `B`:\n",
        "\n",
        "$$\n",
        "A^T \\, W_E\\, W_{QK}^{h}\\, W_E^T \\, B = \\underbrace{(A^T W_E W_Q^{h})}_{\\text{query for token } A}  \\underbrace{(B^T W_E W_K^{h})^T}_{\\text{key for token }B}\n",
        "$$\n",
        "</details>\n",
        "\n",
        "#### $W_{pos} W_{QK}^h W_{pos}^T$\n",
        "\n",
        "<details>\n",
        "<summary>Answer</summary>\n",
        "\n",
        "$W_{pos} W_{QK}^h W_{pos}^T$ has size $(n_\\text{ctx}, n_\\text{ctx})$, it is a bilinear form describing **where information is moved to and from**, among tokens in our context (i.e. which token positions pay attention to other positions).\n",
        "\n",
        "If $i$ and $j$ are one-hot encodings for positions `i` and `j` (in other words they are just the ith and jth basis vectors), then $i^T W_{pos} W_{QK}^h W_{pos}^T j$ is the attention score paid by the token with position `i` to the token with position `j`:\n",
        "\n",
        "$$\n",
        "i^T \\, W_{pos}\\, W_{QK}^{h}\\, W_{pos}^T \\, j = \\underbrace{(i^T W_{pos} W_Q^{h})}_{\\text{query for i-th token}}  \\underbrace{(j^T W_{pos} W_K^{h})^T}_{\\text{key for j-th token}}\n",
        "$$\n",
        "\n",
        "</details>\n",
        "\n",
        "#### $W_E W_{OV}^{h_1} W_{QK}^{h_2} W_E^T$\n",
        "\n",
        "where $h_1$ is in an earlier layer than $h_2$.\n",
        "\n",
        "<details>\n",
        "<summary>Hint</summary>\n",
        "\n",
        "This matrix is best seen as a bilinear form of size $(d_\\text{vocab}, d_\\text{vocab})$. The $(A, B)$-th element is:\n",
        "\n",
        "$$\n",
        "(A^T W_E W_{OV}^{h_1}) W_{QK}^{h_2} (B^T W_E)^T\n",
        "$$\n",
        "</details>\n",
        "\n",
        "<details>\n",
        "<summary>Answer</summary>\n",
        "\n",
        "$W_E W_{OV}^{h_1} W_{QK}^{h_2} W_E^T$ has size $(d_\\text{vocab}, d_\\text{vocab})$, it is a bilinear form describing where information is moved to and from in head $h_2$, given that the **query-side vector** is formed from the output of head $h_1$. In other words, this is an instance of **Q-composition**.\n",
        "\n",
        "If $A$ and $B$ are one-hot encodings for tokens `A` and `B`, then $A^T W_E W_{OV}^{h_1} W_{QK}^{h_2} W_E^T B$ is the attention score paid **to** token `B`, **by** any token which attended strongly to an `A`-token in head $h_1$.\n",
        "\n",
        "---\n",
        "\n",
        "To further break this down, if it still seems confusing:\n",
        "\n",
        "$$\n",
        "\\begin{aligned}\n",
        "A^T \\, W_E\\, W_{OV}^{h_1} W_{QK}^{h_2}\\, W_E^T \\, B &= \\underbrace{(A^T W_E W_{OV}^{h_1}W_Q^{h_2})}_{\\text{query of token which attended to A}}  \\underbrace{(B^T W_E W_K^{h_2})^T}_\\text{key of token B} \\\\\n",
        "\\end{aligned}\n",
        "$$\n",
        "\n",
        "---\n",
        "\n",
        "Note that the actual attention score will be a sum of multiple terms, not just this one (in fact, we'd have a different term for every combination of query and key input). But this term describes the **particular contribution** to the attention score from this combination of query and key input, and it might be the case that this term is the only one that matters (i.e. all other terms don't much affect the final probabilities). We'll see something exactly like this later on.\n",
        "</details>"
      ]
    },
    {
      "cell_type": "markdown",
      "metadata": {
        "id": "NPwVMSXfXliw"
      },
      "source": [
        "Before we start, there's a problem that we might run into when calculating all these matrices. Some of them are massive, and might not fit on our GPU. For instance, both full circuit matrices have shape $(d_\\text{vocab}, d_\\text{vocab})$, which in our case means $50278\\times 50278 \\approx 2.5\\times 10^{9}$ elements. Even if your GPU can handle this, it still seems inefficient. Is there any way we can meaningfully analyse these matrices, without actually having to calculate them?\n",
        "\n",
        "## Factored Matrix class\n",
        "\n",
        "In transformer interpretability, we often need to analyse low rank factorized matrices - a matrix $M = AB$, where M is `[large, large]`, but A is `[large, small]` and B is `[small, large]`. This is a common structure in transformers.\n",
        "\n",
        "For instance, we can factorise the OV circuit above as $W_{OV}^h = W_V^h W_O^h$, where $W_V^h$ has shape `[768, 64]` and $W_O^h$ has shape `[64, 768]`. For an even more extreme example, the full OV circuit can be written as $(W_E W_V^h) (W_O^h W_U)$, where these two matrices have shape `[50278, 64]` and `[64, 50278]` respectively. Similarly, we can write the full QK circuit as $(W_E W_Q^h) (W_E W_K^h)^T$.\n",
        "\n",
        "The `FactoredMatrix` class is a convenient way to work with these. It implements efficient algorithms for various operations on these, such as computing the trace, eigenvalues, Frobenius norm, singular value decomposition, and products with other matrices. It can (approximately) act as a drop-in replacement for the original matrix.\n",
        "\n",
        "This is all possible because knowing the factorisation of a matrix gives us a much easier way of computing its important properties. Intuitively, since $M=AB$ is a very large matrix that operates on very small subspaces, we shouldn't expect knowing the actual values $M_{ij}$ to be the most efficient way of storing it!"
      ]
    },
    {
      "cell_type": "markdown",
      "metadata": {
        "id": "K7xu_4y0Xliw"
      },
      "source": [
        "### Exercise - deriving properties of a factored matrix\n",
        "\n",
        "> ```yaml\n",
        "> Difficulty: 🔴🔴🔴🔴⚪\n",
        "> Importance: 🔵🔵⚪⚪⚪\n",
        ">\n",
        "> You shouldn't spend more than 10-25 minutes on this exercise.\n",
        ">\n",
        "> If you're less interested in the maths, you can skip these exercises.\n",
        "> ```\n",
        "\n",
        "To give you an idea of what kinds of properties you can easily compute if you have a factored matrix, let's try and derive some ourselves.\n",
        "\n",
        "Suppose we have $M=AB$, where $A$ has shape $(m, n)$, $B$ has shape $(n, m)$, and $m > n$. So $M$ is a size-$(m, m)$ matrix with rank at most $n$.\n",
        "\n",
        "**Question - how can you easily compute the trace of $M$?**\n",
        "\n",
        "<details>\n",
        "<summary>Answer</summary>\n",
        "\n",
        "We have:\n",
        "\n",
        "$$\n",
        "\\text{Tr}(M) = \\text{Tr}(AB)\n",
        "= \\sum_{i=1}^m \\sum_{j=1}^n A_{ij} B_{ji}\n",
        "$$\n",
        "\n",
        "so evaluation of the trace is $O(mn)$.\n",
        "\n",
        "Note that, by cyclicity of the trace, we can also show that $\\text{Tr}(M) = \\text{Tr}(BA)$ (although we don't even need to calculate the product $AB$ to evaluate the trace).\n",
        "</details>\n",
        "\n",
        "**Question - how can you easily compute the eigenvalues of $M$?**\n",
        "\n",
        "(As you'll see in later exercises, eigenvalues are very important for evaluating matrices, for instance we can assess the [copying scores](https://transformer-circuits.pub/2021/framework/index.html#copying-matrix) of an OV circuit by looking at the eigenvalues of $W_{OV}$.)\n",
        "\n",
        "<details>\n",
        "<summary>Hint</summary>\n",
        "\n",
        "It's computationally cheaper to find the eigenvalues of $BA$ rather than $AB$.\n",
        "\n",
        "How are the eigenvalues of $AB$ and $BA$ related?\n",
        "</details>\n",
        "<details>\n",
        "<summary>Answer</summary>\n",
        "\n",
        "The eigenvalues of $AB$ and $BA$ are related as follows: if $\\mathbf{v}$ is an eigenvector of $AB$ with $ABv = \\lambda \\mathbf{v}$, then $B\\mathbf{v}$ is an eigenvector of $BA$ with the same eigenvalue:\n",
        "\n",
        "$$\n",
        "BA(B\\mathbf{v}) = B (AB\\mathbf{v}) = B (\\lambda \\mathbf{v}) = \\lambda (B\\mathbf{v})\n",
        "$$\n",
        "\n",
        "This only fails when $B\\mathbf{v} = \\mathbf{0}$, but in this case $AB\\mathbf{v} = \\mathbf{0}$ so $\\lambda = 0$. Thus, we can conclude that any non-zero eigenvalues of $AB$ are also eigenvalues of $BA$.\n",
        "\n",
        "It's much computationally cheaper to compute the eigenvalues of $BA$ (since it's a much smaller matrix), and this gives us all the non-zero eigenvalues of $AB$.\n",
        "</details>\n",
        "\n",
        "**Question (hard) - how can you easily compute the SVD of $M$?**\n",
        "\n",
        "<details>\n",
        "<summary>Hint</summary>\n",
        "\n",
        "For a size-$(m, n)$ matrix with $m > n$, the [algorithmic complexity of finding SVD](https://en.wikipedia.org/wiki/Singular_value_decomposition#Numerical_approach) is $O(mn^2)$. So it's relatively cheap to find the SVD of $A$ and $B$ (complexity $mn^2$ vs $m^3$). Can you use that to find the SVD of $M$?\n",
        "</details>\n",
        "\n",
        "\n",
        "<details>\n",
        "<summary>Answer</summary>\n",
        "\n",
        "It's much cheaper to compute the SVD of the small matrices $A$ and $B$. Denote these SVDs by:\n",
        "\n",
        "$$\n",
        "\\begin{aligned}\n",
        "A &= U_A S_A V_A^T \\\\\n",
        "B &= U_B S_B V_B^T\n",
        "\\end{aligned}\n",
        "$$\n",
        "\n",
        "where $U_A$ and $V_B$ are $(m, n)$, and the other matrices are $(n, n)$.\n",
        "\n",
        "Then we have:\n",
        "\n",
        "$$\n",
        "\\begin{aligned}\n",
        "\\quad\\quad\\quad\\quad M &= AB \\\\\n",
        "&= U_A (S_A V_A^T U_B S_B) V_B^T\n",
        "\\end{aligned}\n",
        "$$\n",
        "\n",
        "Note that the matrix in the middle has size $(n, n)$ (i.e. small), so we can compute its SVD cheaply:\n",
        "\n",
        "$$\n",
        "\\begin{aligned}\n",
        "\\; S_A V_A^T U_B S_B &= U' S' {V'}^T \\quad\\quad\\quad\\quad\\quad\n",
        "\\end{aligned}\n",
        "$$\n",
        "\n",
        "and finally, this gives us the SVD of $M$:\n",
        "\n",
        "$$\n",
        "\\begin{aligned}\n",
        "\\quad\\quad M &= U_A U' S' {V'}^T V_B^T \\\\\n",
        "&= U S {V'}^T\n",
        "\\end{aligned}\n",
        "$$\n",
        "\n",
        "where $U = U_A U'$, $V = V_B V'$, and $S = S'$.\n",
        "\n",
        "All our SVD calculations and matrix multiplications had complexity at most $O(mn^2)$, which is much better than $O(m^3)$ (remember that we don't need to compute all the values of $U = U_A U'$, only the ones which correspond to non-zero singular values).\n",
        "</details>\n",
        "\n",
        "If you're curious, you can go to the `FactoredMatrix` documentation to see the implementation of the SVD calculation, as well as other properties and operations."
      ]
    },
    {
      "cell_type": "markdown",
      "metadata": {
        "id": "ghk607t7Xliw"
      },
      "source": [
        "Now that we've discussed some of the motivations behind having a `FactoredMatrix` class, let's see it in action.\n",
        "\n",
        "### Basic Examples\n",
        "\n",
        "We can use the basic class directly - let's make a factored matrix directly and look at the basic operations:"
      ]
    },
    {
      "cell_type": "code",
      "execution_count": null,
      "metadata": {
        "id": "26YFZr7_Xlix"
      },
      "outputs": [],
      "source": [
        "A = t.randn(5, 2)\n",
        "B = t.randn(2, 5)\n",
        "AB = A @ B\n",
        "AB_factor = FactoredMatrix(A, B)\n",
        "print(\"Norms:\")\n",
        "print(AB.norm())\n",
        "print(AB_factor.norm())\n",
        "\n",
        "print(f\"Right dim: {AB_factor.rdim}, Left dim: {AB_factor.ldim}, Hidden dim: {AB_factor.mdim}\")"
      ]
    },
    {
      "cell_type": "markdown",
      "metadata": {
        "id": "-eksVruoXlix"
      },
      "source": [
        "We can also look at the eigenvalues and singular values of the matrix. Note that, because the matrix is rank 2 but 5 by 5, the final 3 eigenvalues and singular values are zero - the factored class omits the zeros."
      ]
    },
    {
      "cell_type": "code",
      "execution_count": null,
      "metadata": {
        "id": "6U9b8LhHXlix"
      },
      "outputs": [],
      "source": [
        "print(\"Eigenvalues:\")\n",
        "print(t.linalg.eig(AB).eigenvalues)\n",
        "print(AB_factor.eigenvalues)\n",
        "\n",
        "print(\"\\nSingular Values:\")\n",
        "print(t.linalg.svd(AB).S)\n",
        "print(AB_factor.S)\n",
        "\n",
        "print(\"\\nFull SVD:\")\n",
        "print(AB_factor.svd())"
      ]
    },
    {
      "cell_type": "markdown",
      "metadata": {
        "id": "mZkGEcjBXlix"
      },
      "source": [
        "<details>\n",
        "<summary>Aside - the sizes of objects returned by the SVD method.</summary>\n",
        "\n",
        "If $M = USV^T$, and `M.shape = (m, n)` and the rank is `r`, then the SVD method returns the matrices $U, S, V$. They have shape `(m, r)`, `(r,)`, and `(n, r)` respectively, because:\n",
        "\n",
        "* We don't bother storing the off-diagonal entries of $S$, since they're all zero.\n",
        "* We don't bother storing the columns of $U$ and $V$ which correspond to zero singular values, since these won't affect the value of $USV^T$.\n",
        "</details>\n",
        "\n",
        "We can multiply a factored matrix with an unfactored matrix to get another factored matrix (as in example below). We can also multiply two factored matrices together to get another factored matrix."
      ]
    },
    {
      "cell_type": "code",
      "execution_count": null,
      "metadata": {
        "id": "zgPJoaBlXliy"
      },
      "outputs": [],
      "source": [
        "C = t.randn(5, 300)\n",
        "ABC = AB @ C\n",
        "ABC_factor = AB_factor @ C\n",
        "\n",
        "print(f\"Unfactored: shape={ABC.shape}, norm={ABC.norm()}\")\n",
        "print(f\"Factored: shape={ABC_factor.shape}, norm={ABC_factor.norm()}\")\n",
        "print(f\"\\nRight dim: {ABC_factor.rdim}, Left dim: {ABC_factor.ldim}, Hidden dim: {ABC_factor.mdim}\")"
      ]
    },
    {
      "cell_type": "markdown",
      "metadata": {
        "id": "GB0lwpDZXliy"
      },
      "source": [
        "If we want to collapse this back to an unfactored matrix, we can use the `AB` property to get the product:"
      ]
    },
    {
      "cell_type": "code",
      "execution_count": null,
      "metadata": {
        "id": "-3cEmcS8Xliy"
      },
      "outputs": [],
      "source": [
        "AB_unfactored = AB_factor.AB\n",
        "t.testing.assert_close(AB_unfactored, AB)"
      ]
    },
    {
      "cell_type": "markdown",
      "metadata": {
        "id": "p79U-1kvXliy"
      },
      "source": [
        "## Reverse-engineering circuits\n",
        "\n",
        "Within our induction circuit, we have four individual circuits: the OV and QK circuits in our previous token head, and the OV and QK circuits in our induction head. In the following sections of the exercise, we'll reverse-engineer each of these circuits in turn.\n",
        "\n",
        "* In the section **OV copying circuit**, we'll look at the layer-1 OV circuit.\n",
        "* In the section **QK prev-token circuit**, we'll look at the layer-0 QK circuit.\n",
        "* The third section (**K-composition**) is a bit trickier, because it involves looking at the composition of the layer-0 OV circuit **and** layer-1 QK circuit. We will have to do two things:\n",
        "    1. Show that these two circuits are composing (i.e. that the output of the layer-0 OV circuit is the main determinant of the key vectors in the layer-1 QK circuit).\n",
        "    2. Show that the joint operation of these two circuits is \"make the second instance of a token attend to the token *following* an earlier instance.\n",
        "\n",
        "The dropdown below contains a diagram explaining how the three sections relate to the different components of the induction circuit. You might have to open it in a new tab to see it clearly.\n",
        "\n",
        "<details>\n",
        "<summary>Diagram</summary>\n",
        "\n",
        "![kcomp](https://raw.githubusercontent.com/info-arena/ARENA_img/main/misc/kcomp_diagram_described_2_new.png)\n",
        "</details>\n",
        "\n",
        "After this, we'll have a look at composition scores, which are a more mathematically justified way of showing that two attention heads are composing (without having to look at their behaviour on any particular class of inputs, since it is a property of the actual model weights)."
      ]
    },
    {
      "cell_type": "markdown",
      "metadata": {
        "id": "Tuc72ilFXliy"
      },
      "source": [
        "## [1] OV copying circuit\n",
        "\n",
        "Let's start with an easy parts of the circuit - the copying OV circuit of `1.4` and `1.10`. Let's start with head 4. The only interpretable (read: **privileged basis**) things here are the input tokens and output logits, so we want to study the matrix:\n",
        "\n",
        "$$\n",
        "W_E W_{OV}^{1.4} W_U\n",
        "$$\n",
        "\n",
        "(and same for `1.10`). This is the $(d_\\text{vocab}, d_\\text{vocab})$-shape matrix that combines with the attention pattern to get us from input to output.\n",
        "\n",
        "We want to calculate this matrix, and inspect it. We should find that its diagonal values are very high, and its non-diagonal values are much lower.\n",
        "\n",
        "**Question - why should we expect this observation?** (you may find it helpful to refer back to the previous section, where you described what the interpretation of different matrices was.)\n",
        "\n",
        "<details>\n",
        "<summary>Hint</summary>\n",
        "\n",
        "Suppose our repeating sequence is `A B ... A B`. Let $A$, $B$ be the corresponding one-hot encoded tokens. The `B`-th row of this matrix is:\n",
        "\n",
        "$$\n",
        "B^T W_E W_{OV}^{1.4} W_U\n",
        "$$\n",
        "\n",
        "What is the interpretation of this expression, in the context of our attention head?\n",
        "</details>\n",
        "\n",
        "<details>\n",
        "<summary>Answer</summary>\n",
        "\n",
        "If our repeating sequence is `A B ... A B`, then:\n",
        "\n",
        "$$\n",
        "B^T W_E W_{OV}^{1.4} W_U\n",
        "$$\n",
        "\n",
        "is the **vector of logits which gets moved from the first `B` token to the second `A` token, to be used as the prediction for the token following the second `A` token**. It should result in a high prediction for `B`, and a low prediction for everything else. In other words, the `(B, X)`-th element of this matrix should be highest for `X=B`, which is exactly what we claimed.\n",
        "\n",
        "If this still seems confusing, the diagram below might help:\n",
        "\n",
        "<img src=\"https://raw.githubusercontent.com/info-arena/ARENA_img/main/misc/kcomp_diagram_described-OV-v3.png\" width=\"750\">\n",
        "\n",
        "</details>"
      ]
    },
    {
      "cell_type": "markdown",
      "metadata": {
        "id": "G5bE9uQ0Xliy"
      },
      "source": [
        "### Exercise - compute OV circuit for `1.4`\n",
        "\n",
        "> ```yaml\n",
        "> Difficulty: 🔴🔴⚪⚪⚪\n",
        "> Importance: 🔵🔵🔵⚪⚪\n",
        ">\n",
        "> You should spend up to ~10 minutes on this exercise.\n",
        "> ```\n",
        "\n",
        "*This is the first of several similar exercises where you calculate a circuit by multiplying matrices. This exercise is pretty important (in particular, you should make sure you understand what this matrix represents and why we're interested in it), but the actual calculation shouldn't take very long.*"
      ]
    },
    {
      "cell_type": "markdown",
      "metadata": {
        "id": "Cm9Xy6cqXliz"
      },
      "source": [
        "You should compute it as a `FactoredMatrix` object.\n",
        "\n",
        "Remember, you can access the model's weights directly e.g. using `model.W_E` or `model.W_Q` (the latter gives you all the `W_Q` matrices, indexed by layer and head)."
      ]
    },
    {
      "cell_type": "code",
      "execution_count": null,
      "metadata": {
        "id": "6SabcHRAXliz"
      },
      "outputs": [],
      "source": [
        "head_index = 4\n",
        "layer = 1\n",
        "\n",
        "# YOUR CODE HERE - complete the `full_OV_circuit` object\n",
        "\n",
        "tests.test_full_OV_circuit(full_OV_circuit, model, layer, head_index)"
      ]
    },
    {
      "cell_type": "markdown",
      "metadata": {
        "id": "JHiyeWc-Xliz"
      },
      "source": [
        "<details>\n",
        "<summary>Help - I'm not sure how to use this class to compute a product of more than 2 matrices.</summary>\n",
        "\n",
        "You can compute it directly, as:\n",
        "\n",
        "```python\n",
        "full_OV_circuit = FactoredMatrix(W_E @ W_V, W_O @ W_U)\n",
        "```\n",
        "\n",
        "Alternatively, another nice feature about the `FactoredMatrix` class is that you can chain together matrix multiplications. The following code defines exactly the same `FactoredMatrix` object:\n",
        "\n",
        "```python\n",
        "OV_circuit = FactoredMatrix(W_V, W_O)\n",
        "full_OV_circuit = W_E @ OV_circuit @ W_U\n",
        "```\n",
        "</details>\n",
        "\n",
        "\n",
        "<details><summary>Solution</summary>\n",
        "\n",
        "```python\n",
        "head_index = 4\n",
        "layer = 1\n",
        "\n",
        "W_O = model.W_O[layer, head_index]\n",
        "W_V = model.W_V[layer, head_index]\n",
        "W_E = model.W_E\n",
        "W_U = model.W_U\n",
        "\n",
        "OV_circuit = FactoredMatrix(W_V, W_O)\n",
        "full_OV_circuit = W_E @ OV_circuit @ W_U\n",
        "```\n",
        "</details>"
      ]
    },
    {
      "cell_type": "markdown",
      "metadata": {
        "id": "Kox2Ey6QXliz"
      },
      "source": [
        "Now we want to check that this matrix is the identity. Since it's in factored matrix form, this is a bit tricky, but there are still things we can do.\n",
        "\n",
        "First, to validate that it looks diagonal-ish, let's pick 200 random rows and columns and visualise that - it should at least look identity-ish here! We're using the indexing method of the `FactoredMatrix` class - you can index into it before returning the actual `.AB` value, to avoid having to compute the whole thing (we take advantage of the fact that `A[left_indices, :] @ B[:, right_indices]` is the same as `(A @ B)[left_indices, right_indices]`)."
      ]
    },
    {
      "cell_type": "code",
      "execution_count": null,
      "metadata": {
        "id": "5pYosM_6Xliz"
      },
      "outputs": [],
      "source": [
        "indices = t.randint(0, model.cfg.d_vocab, (200,))\n",
        "full_OV_circuit_sample = full_OV_circuit[indices, indices].AB\n",
        "\n",
        "imshow(\n",
        "    full_OV_circuit_sample,\n",
        "    labels={\"x\": \"Logits on output token\", \"y\": \"Input token\"},\n",
        "    title=\"Full OV circuit for copying head\",\n",
        "    width=700,\n",
        "    height=600,\n",
        ")"
      ]
    },
    {
      "cell_type": "markdown",
      "metadata": {
        "id": "7IY8eTODXliz"
      },
      "source": [
        "<details>\n",
        "<summary>Aside - indexing factored matrices</summary>\n",
        "\n",
        "Yet another nice thing about factored matrices is that you can evaluate small submatrices without having to compute the entire matrix. This is based on the fact that the `[i, j]`-th element of matrix `AB` is `A[i, :] @ B[:, j]`.\n",
        "</details>"
      ]
    },
    {
      "cell_type": "markdown",
      "metadata": {
        "id": "YCBMIzkdXliz"
      },
      "source": [
        "### Exercise - compute circuit accuracy\n",
        "\n",
        "> ```yaml\n",
        "> Difficulty: 🔴🔴⚪⚪⚪\n",
        "> Importance: 🔵🔵⚪⚪⚪\n",
        ">\n",
        "> You should spend approximately 10-15 minutes on this exercise.\n",
        "> ```\n",
        "\n",
        "When you index a factored matrix, you get back another factored matrix. So rather than explicitly calculating `A[left_indices, :] @ B[:, left_indices]`, we can just write `AB[left_indices, left_indices]`.\n",
        "\n",
        "You should observe a pretty distinct diagonal pattern here, which is a good sign. However, the matrix is pretty noisy so it probably won't be exactly the identity. Instead, we should come up with a summary statistic to capture a rough sense of \"closeness to the identity\".\n",
        "\n",
        "**Accuracy** is a good summary statistic - what fraction of the time is the largest logit on the diagonal? Even if there's lots of noise, you'd probably still expect the largest logit to be on the diagonal a good deal of the time.\n",
        "\n",
        "If you're on a Colab or have a powerful GPU, you should be able to compute the full matrix and perform this test. However, it's better practice to iterate through this matrix when we can, so that we avoid CUDA issues. We've given you a `batch_size` argument in the function below, and you should try to only explicitly calculate matrices of size `batch_size * d_vocab` rather than the massive matrix of `d_vocab * d_vocab`."
      ]
    },
    {
      "cell_type": "code",
      "execution_count": null,
      "metadata": {
        "id": "-jkTHvDiXliz"
      },
      "outputs": [],
      "source": [
        "def top_1_acc(full_OV_circuit: FactoredMatrix, batch_size: int = 1000) -> float:\n",
        "    \"\"\"\n",
        "    Return the fraction of the time that the maximum value is on the circuit diagonal.\n",
        "    \"\"\"\n",
        "    raise NotImplementedError()\n",
        "\n",
        "\n",
        "print(f\"Fraction of time that the best logit is on diagonal: {top_1_acc(full_OV_circuit):.4f}\")"
      ]
    },
    {
      "cell_type": "markdown",
      "metadata": {
        "id": "fQKl4xaeXli0"
      },
      "source": [
        "<details>\n",
        "<summary>Help - I'm not sure whether to take the argmax over rows or columns.</summary>\n",
        "\n",
        "The OV circuit is defined as `W_E @ W_OV @ W_U`. We can see the i-th row `W_E[i] @ W_OV @ W_U` as the vector representing **the logit vector added at any token which attends to the `i`-th token**, via the attention head with OV matrix `W_OV`.\n",
        "\n",
        "So we want to take the argmax over rows (i.e. over `dim=1`), because we're interested in the number of tokens `tok` in the vocabulary such that when `tok` is attended to, it is also the top prediction.\n",
        "\n",
        "</details>\n",
        "\n",
        "<details>\n",
        "<summary>Solution</summary>\n",
        "\n",
        "```python\n",
        "def top_1_acc(full_OV_circuit: FactoredMatrix, batch_size: int = 1000) -> float:\n",
        "    \"\"\"\n",
        "    Return the fraction of the time that the maximum value is on the circuit diagonal.\n",
        "    \"\"\"\n",
        "    total = 0\n",
        "\n",
        "    for indices in t.split(t.arange(full_OV_circuit.shape[0], device=device), batch_size):\n",
        "        AB_slice = full_OV_circuit[indices].AB\n",
        "        total += (t.argmax(AB_slice, dim=1) == indices).float().sum().item()\n",
        "\n",
        "    return total / full_OV_circuit.shape[0]\n",
        "```\n",
        "\n",
        "</details>"
      ]
    },
    {
      "cell_type": "markdown",
      "metadata": {
        "id": "49pYKmxIXli0"
      },
      "source": [
        "This should return about 30.79% - pretty underwhelming. It goes up to 47.73% for top-5, but still not great. What's up with that?"
      ]
    },
    {
      "cell_type": "markdown",
      "metadata": {
        "id": "ooM7hjoEXli0"
      },
      "source": [
        "### Exercise - compute effective circuit\n",
        "\n",
        "> ```yaml\n",
        "> Difficulty: 🔴🔴⚪⚪⚪\n",
        "> Importance: 🔵🔵🔵⚪⚪\n",
        ">\n",
        "> You shouldn't spend more than 5-10 minutes on this exercise.\n",
        "> This exercise should be very short; it only requires 2 lines of code. Understanding it conceptually is more important than the actual coding.\n",
        "> ```"
      ]
    },
    {
      "cell_type": "markdown",
      "metadata": {
        "id": "envvI7vzXli0"
      },
      "source": [
        "Now we return to why we have *two* induction heads. If both have the same attention pattern, the effective OV circuit is actually $W_E(W_V^{1.4}W_O^{1.4}+W_V^{1.10}W_O^{1.10})W_U$, and this is what matters. So let's re-run our analysis on this!\n",
        "\n",
        "<img src=\"https://raw.githubusercontent.com/info-arena/ARENA_img/main/misc/effective_ov_circuit.png\" width=\"650\">"
      ]
    },
    {
      "cell_type": "markdown",
      "metadata": {
        "id": "UnBF3P6LXli0"
      },
      "source": [
        "<details>\n",
        "<summary>Question - why might the model want to split the circuit across two heads?</summary>\n",
        "\n",
        "Because $W_V W_O$ is a rank 64 matrix. The sum of two is a rank 128 matrix. This can be a significantly better approximation to the desired 50K x 50K matrix!\n",
        "</details>"
      ]
    },
    {
      "cell_type": "code",
      "execution_count": null,
      "metadata": {
        "id": "PhQYerVEXli0"
      },
      "outputs": [],
      "source": [
        "# YOUR CODE HERE - compute the effective OV circuit, and run `top_1_acc` on it"
      ]
    },
    {
      "cell_type": "markdown",
      "metadata": {
        "id": "JSC2e3idXli0"
      },
      "source": [
        "<details>\n",
        "<summary>Expected output</summary>\n",
        "\n",
        "You should get an accuracy of 95.6% for top-1 - much better!\n",
        "\n",
        "Note that you can also try top 5 accuracy, which improves your result to 98%.\n",
        "\n",
        "</details>\n",
        "\n",
        "\n",
        "<details><summary>Solution</summary>\n",
        "\n",
        "```python\n",
        "W_O_both = einops.rearrange(model.W_O[1, [4, 10]], \"head d_head d_model -> (head d_head) d_model\")\n",
        "W_V_both = einops.rearrange(model.W_V[1, [4, 10]], \"head d_model d_head -> d_model (head d_head)\")\n",
        "\n",
        "W_OV_eff = W_E @ FactoredMatrix(W_V_both, W_O_both) @ W_U\n",
        "\n",
        "print(f\"Fraction of the time that the best logit is on the diagonal: {top_1_acc(W_OV_eff):.4f}\")\n",
        "```\n",
        "</details>"
      ]
    },
    {
      "cell_type": "markdown",
      "metadata": {
        "id": "0KZ_QGc7Xli0"
      },
      "source": [
        "## [2] QK prev-token circuit\n",
        "\n",
        "The other easy circuit is the QK-circuit of L0H7 - how does it know to be a previous token circuit?\n",
        "\n",
        "We can multiply out the full QK circuit via the positional embeddings:\n",
        "\n",
        "$$\n",
        "W_\\text{pos} W_Q^{0.7} (W_K^{0.7})^T W_\\text{pos}^T\n",
        "$$\n",
        "\n",
        "to get a matrix `pos_by_pos` of shape `[max_ctx, max_ctx]` (max ctx = max context length, i.e. maximum length of a sequence we're allowing, which is set by our choice of dimensions in $W_\\text{pos}$).\n",
        "\n",
        "Note that in this case, our max context window is 2048 (we can check this via `model.cfg.n_ctx`). This is much smaller than the 50k-size matrices we were working with in the previous section, so we shouldn't need to use the factored matrix class here."
      ]
    },
    {
      "cell_type": "markdown",
      "metadata": {
        "id": "yfLXaIiPXli1"
      },
      "source": [
        "### Exercise - interpret full QK-circuit for `0.7`\n",
        "\n",
        "> ```yaml\n",
        "> Difficulty: 🔴🔴🔴⚪⚪\n",
        "> Importance: 🔵🔵🔵⚪⚪\n",
        ">\n",
        "> You shouldn't spend more than 10-15 minutes on this exercise.\n",
        "> ```\n",
        "\n",
        "The code below plots the full QK circuit for head `0.7` (including a scaling and softmax step, which is meant to mirror how the QK bilinear form will be used in actual attention layers). You should run the code, and interpret the results in the context of the induction circuit."
      ]
    },
    {
      "cell_type": "code",
      "execution_count": null,
      "metadata": {
        "id": "XfVtVJ10Xli1"
      },
      "outputs": [],
      "source": [
        "layer = 0\n",
        "head_index = 7\n",
        "\n",
        "# Compute full QK matrix (for positional embeddings)\n",
        "W_pos = model.W_pos\n",
        "W_QK = model.W_Q[layer, head_index] @ model.W_K[layer, head_index].T\n",
        "pos_by_pos_scores = W_pos @ W_QK @ W_pos.T\n",
        "\n",
        "# Mask, scale and softmax the scores\n",
        "mask = t.tril(t.ones_like(pos_by_pos_scores)).bool()\n",
        "pos_by_pos_pattern = t.where(mask, pos_by_pos_scores / model.cfg.d_head**0.5, -1.0e6).softmax(-1)\n",
        "\n",
        "# Plot the results\n",
        "print(f\"Avg lower-diagonal value: {pos_by_pos_pattern.diag(-1).mean():.4f}\")\n",
        "imshow(\n",
        "    utils.to_numpy(pos_by_pos_pattern[:200, :200]),\n",
        "    labels={\"x\": \"Key\", \"y\": \"Query\"},\n",
        "    title=\"Attention patterns for prev-token QK circuit, first 100 indices\",\n",
        "    width=700,\n",
        "    height=600,\n",
        ")"
      ]
    },
    {
      "cell_type": "markdown",
      "metadata": {
        "id": "bXfTINUlXli1"
      },
      "source": [
        "## [3] K-composition circuit\n",
        "\n",
        "We now dig into the hard part of the circuit - demonstrating the K-Composition between the previous token head and the induction head.\n",
        "\n",
        "#### Splitting activations\n",
        "\n",
        "We can repeat the trick from the logit attribution scores. The QK-input for layer 1 is the sum of 14 terms (2+n_heads) - the token embedding, the positional embedding, and the results of each layer 0 head. So for each head $\\text{H}$ in layer 1, the query tensor (ditto key) corresponding to sequence position $i$ is:\n",
        "\n",
        "$$\n",
        "\\begin{align*}\n",
        "x W^\\text{1.H}_Q &= (e + pe + \\sum_{h=0}^{11} x^\\text{0.h}) W^\\text{1.H}_Q \\\\\n",
        "&= e W^\\text{1.H}_Q + pe W^\\text{1.H}_Q + \\sum_{h=0}^{11} x^\\text{0.h} W^\\text{1.H}_Q\n",
        "\\end{align*}\n",
        "$$\n",
        "\n",
        "where $e$ stands for the token embedding, $pe$ for the positional embedding, and $x^\\text{0.h}$ for the output of head $h$ in layer 0 (and the sum of these tensors equals the residual stream $x$). All these tensors have shape `[seq, d_model]`. So we can treat the expression above as a sum of matrix multiplications `[seq, d_model] @ [d_model, d_head] -> [seq, d_head]`.\n",
        "\n",
        "For ease of notation, I'll refer to the 14 inputs as $(y_0, y_1, ..., y_{13})$ rather than $(e, pe, x^\\text{0.h}, ..., x^{h.11})$. So we have:\n",
        "\n",
        "$$\n",
        "x W^h_Q = \\sum_{i=0}^{13} y_i W^h_Q\n",
        "$$\n",
        "\n",
        "with each $y_i$ having shape `[seq, d_model]`, and the sum of $y_i$s being the full residual stream $x$. Here is a diagram to illustrate:\n",
        "\n",
        "<img src=\"https://raw.githubusercontent.com/info-arena/ARENA_img/main/misc/components.png\" width=\"520\">"
      ]
    },
    {
      "cell_type": "markdown",
      "metadata": {
        "id": "dmtLjxvPXli1"
      },
      "source": [
        "### Exercise - analyse the relative importance\n",
        "\n",
        "> ```yaml\n",
        "> Difficulty: 🔴🔴🔴🔴⚪\n",
        "> Importance: 🔵🔵🔵🔵⚪\n",
        ">\n",
        "> You shouldn't spend more than 15-25 minutes on these exercises.\n",
        "> Most of these functions just involve indexing and einsums, but conceptual understanding / figuring out exactly what the question is asking for is the hard part!\n",
        "> ```\n",
        "\n",
        "We can now analyse the relative importance of these 14 terms! A very crude measure is to take the norm of each term (by component and position).\n",
        "\n",
        "Note that this is a pretty dodgy metric - q and k are not inherently interpretable! But it can be a good and easy-to-compute proxy.\n",
        "\n",
        "<details>\n",
        "<summary>Question - why are Q and K not inherently interpretable? Why might the norm be a good metric in spite of this?</summary>\n",
        "\n",
        "They are not inherently interpretable because they operate on the residual stream, which doesn't have a **privileged basis**. You could stick a rotation matrix $R$ after all of the $Q$, $K$ and $V$ weights (and stick a rotation matrix before everything that writes to the residual stream), and the model would still behave exactly the same.\n",
        "\n",
        "The reason taking the norm is still a reasonable thing to do is that, despite the individual elements of these vectors not being inherently interpretable, it's still a safe bet that if they are larger than they will have a greater overall effect on the residual stream. So looking at the norm doesn't tell us how they work, but it does indicate which ones are more important.\n",
        "</details>\n",
        "\n",
        "Fill in the functions below:"
      ]
    },
    {
      "cell_type": "code",
      "execution_count": null,
      "metadata": {
        "id": "FC8X4sxXXli1"
      },
      "outputs": [],
      "source": [
        "def decompose_qk_input(cache: ActivationCache) -> Float[Tensor, \"n_heads+2 posn d_model\"]:\n",
        "    \"\"\"\n",
        "    Retrieves all the input tensors to the first attention layer, and concatenates them along the\n",
        "    0th dim.\n",
        "\n",
        "    The [i, :, :]th element is y_i (from notation above). The sum of these tensors along the 0th\n",
        "    dim should be the input to the first attention layer.\n",
        "    \"\"\"\n",
        "    raise NotImplementedError()\n",
        "\n",
        "\n",
        "def decompose_q(\n",
        "    decomposed_qk_input: Float[Tensor, \"n_heads+2 posn d_model\"],\n",
        "    ind_head_index: int,\n",
        "    model: HookedTransformer,\n",
        ") -> Float[Tensor, \"n_heads+2 posn d_head\"]:\n",
        "    \"\"\"\n",
        "    Computes the tensor of query vectors for each decomposed QK input.\n",
        "\n",
        "    The [i, :, :]th element is y_i @ W_Q (so the sum along axis 0 is just the q-values).\n",
        "    \"\"\"\n",
        "    raise NotImplementedError()\n",
        "\n",
        "\n",
        "def decompose_k(\n",
        "    decomposed_qk_input: Float[Tensor, \"n_heads+2 posn d_model\"],\n",
        "    ind_head_index: int,\n",
        "    model: HookedTransformer,\n",
        ") -> Float[Tensor, \"n_heads+2 posn d_head\"]:\n",
        "    \"\"\"\n",
        "    Computes the tensor of key vectors for each decomposed QK input.\n",
        "\n",
        "    The [i, :, :]th element is y_i @ W_K(so the sum along axis 0 is just the k-values)\n",
        "    \"\"\"\n",
        "    raise NotImplementedError()\n",
        "\n",
        "\n",
        "# Recompute rep tokens/logits/cache, if we haven't already\n",
        "seq_len = 50\n",
        "batch_size = 1\n",
        "(rep_tokens, rep_logits, rep_cache) = run_and_cache_model_repeated_tokens(\n",
        "    model, seq_len, batch_size\n",
        ")\n",
        "rep_cache.remove_batch_dim()\n",
        "\n",
        "ind_head_index = 4\n",
        "\n",
        "# First we get decomposed q and k input, and check they're what we expect\n",
        "decomposed_qk_input = decompose_qk_input(rep_cache)\n",
        "decomposed_q = decompose_q(decomposed_qk_input, ind_head_index, model)\n",
        "decomposed_k = decompose_k(decomposed_qk_input, ind_head_index, model)\n",
        "t.testing.assert_close(\n",
        "    decomposed_qk_input.sum(0),\n",
        "    rep_cache[\"resid_pre\", 1] + rep_cache[\"pos_embed\"],\n",
        "    rtol=0.01,\n",
        "    atol=1e-05,\n",
        ")\n",
        "t.testing.assert_close(\n",
        "    decomposed_q.sum(0), rep_cache[\"q\", 1][:, ind_head_index], rtol=0.01, atol=0.001\n",
        ")\n",
        "t.testing.assert_close(\n",
        "    decomposed_k.sum(0), rep_cache[\"k\", 1][:, ind_head_index], rtol=0.01, atol=0.01\n",
        ")\n",
        "\n",
        "# Second, we plot our results\n",
        "component_labels = [\"Embed\", \"PosEmbed\"] + [f\"0.{h}\" for h in range(model.cfg.n_heads)]\n",
        "for decomposed_input, name in [(decomposed_q, \"query\"), (decomposed_k, \"key\")]:\n",
        "    imshow(\n",
        "        utils.to_numpy(decomposed_input.pow(2).sum([-1])),\n",
        "        labels={\"x\": \"Position\", \"y\": \"Component\"},\n",
        "        title=f\"Norms of components of {name}\",\n",
        "        y=component_labels,\n",
        "        width=800,\n",
        "        height=400,\n",
        "    )"
      ]
    },
    {
      "cell_type": "markdown",
      "metadata": {
        "id": "c-KEnQuMXli1"
      },
      "source": [
        "<details>\n",
        "<summary>What you should see</summary>\n",
        "\n",
        "\n",
        "You should see that the most important query components are the token and positional embeddings. The most important key components are those from $y_9$, which is $x_7$, i.e. from head `0.7`.\n",
        "\n",
        "</details>\n",
        "\n",
        "<details>\n",
        "<summary>A technical note on the positional embeddings - optional, feel free to skip this.</summary>\n",
        "\n",
        "You might be wondering why the tests compare the decomposed qk sum with the sum of the `resid_pre + pos_embed`, rather than just `resid_pre`. The answer lies in how we defined the transformer, specifically in this line from the config:\n",
        "\n",
        "```python\n",
        "positional_embedding_type=\"shortformer\"\n",
        "```\n",
        "\n",
        "The result of this is that the positional embedding isn't added to the residual stream. Instead, it's added as inputs to the Q and K calculation (i.e. we calculate `(resid_pre + pos_embed) @ W_Q` and same for `W_K`), but **not** as inputs to the V calculation (i.e. we just calculate `resid_pre @ W_V`). This isn't actually how attention works in general, but for our purposes it makes the analysis of induction heads cleaner because we don't have positional embeddings interfering with the OV circuit.\n",
        "\n",
        "**Question - this type of embedding actually makes it impossible for attention heads to form via Q-composition. Can you see why?**\n",
        "\n",
        "</details>\n",
        "\n",
        "\n",
        "<details><summary>Solution</summary>\n",
        "\n",
        "```python\n",
        "def decompose_qk_input(cache: ActivationCache) -> Float[Tensor, \"n_heads+2 posn d_model\"]:\n",
        "    \"\"\"\n",
        "    Retrieves all the input tensors to the first attention layer, and concatenates them along the\n",
        "    0th dim.\n",
        "\n",
        "    The [i, :, :]th element is y_i (from notation above). The sum of these tensors along the 0th\n",
        "    dim should be the input to the first attention layer.\n",
        "    \"\"\"\n",
        "    y0 = cache[\"embed\"].unsqueeze(0)  # shape (1, seq, d_model)\n",
        "    y1 = cache[\"pos_embed\"].unsqueeze(0)  # shape (1, seq, d_model)\n",
        "    y_rest = cache[\"result\", 0].transpose(0, 1)  # shape (12, seq, d_model)\n",
        "\n",
        "    return t.concat([y0, y1, y_rest], dim=0)\n",
        "\n",
        "\n",
        "def decompose_q(\n",
        "    decomposed_qk_input: Float[Tensor, \"n_heads+2 posn d_model\"],\n",
        "    ind_head_index: int,\n",
        "    model: HookedTransformer,\n",
        ") -> Float[Tensor, \"n_heads+2 posn d_head\"]:\n",
        "    \"\"\"\n",
        "    Computes the tensor of query vectors for each decomposed QK input.\n",
        "\n",
        "    The [i, :, :]th element is y_i @ W_Q (so the sum along axis 0 is just the q-values).\n",
        "    \"\"\"\n",
        "    W_Q = model.W_Q[1, ind_head_index]\n",
        "\n",
        "    return einops.einsum(decomposed_qk_input, W_Q, \"n seq d_model, d_model d_head -> n seq d_head\")\n",
        "\n",
        "\n",
        "def decompose_k(\n",
        "    decomposed_qk_input: Float[Tensor, \"n_heads+2 posn d_model\"],\n",
        "    ind_head_index: int,\n",
        "    model: HookedTransformer,\n",
        ") -> Float[Tensor, \"n_heads+2 posn d_head\"]:\n",
        "    \"\"\"\n",
        "    Computes the tensor of key vectors for each decomposed QK input.\n",
        "\n",
        "    The [i, :, :]th element is y_i @ W_K(so the sum along axis 0 is just the k-values)\n",
        "    \"\"\"\n",
        "    W_K = model.W_K[1, ind_head_index]\n",
        "\n",
        "    return einops.einsum(decomposed_qk_input, W_K, \"n seq d_model, d_model d_head -> n seq d_head\")\n",
        "\n",
        "\n",
        "# Recompute rep tokens/logits/cache, if we haven't already\n",
        "seq_len = 50\n",
        "batch_size = 1\n",
        "(rep_tokens, rep_logits, rep_cache) = run_and_cache_model_repeated_tokens(\n",
        "    model, seq_len, batch_size\n",
        ")\n",
        "rep_cache.remove_batch_dim()\n",
        "\n",
        "ind_head_index = 4\n",
        "\n",
        "# First we get decomposed q and k input, and check they're what we expect\n",
        "decomposed_qk_input = decompose_qk_input(rep_cache)\n",
        "decomposed_q = decompose_q(decomposed_qk_input, ind_head_index, model)\n",
        "decomposed_k = decompose_k(decomposed_qk_input, ind_head_index, model)\n",
        "t.testing.assert_close(\n",
        "    decomposed_qk_input.sum(0),\n",
        "    rep_cache[\"resid_pre\", 1] + rep_cache[\"pos_embed\"],\n",
        "    rtol=0.01,\n",
        "    atol=1e-05,\n",
        ")\n",
        "t.testing.assert_close(\n",
        "    decomposed_q.sum(0), rep_cache[\"q\", 1][:, ind_head_index], rtol=0.01, atol=0.001\n",
        ")\n",
        "t.testing.assert_close(\n",
        "    decomposed_k.sum(0), rep_cache[\"k\", 1][:, ind_head_index], rtol=0.01, atol=0.01\n",
        ")\n",
        "\n",
        "# Second, we plot our results\n",
        "component_labels = [\"Embed\", \"PosEmbed\"] + [f\"0.{h}\" for h in range(model.cfg.n_heads)]\n",
        "for decomposed_input, name in [(decomposed_q, \"query\"), (decomposed_k, \"key\")]:\n",
        "    imshow(\n",
        "        utils.to_numpy(decomposed_input.pow(2).sum([-1])),\n",
        "        labels={\"x\": \"Position\", \"y\": \"Component\"},\n",
        "        title=f\"Norms of components of {name}\",\n",
        "        y=component_labels,\n",
        "        width=800,\n",
        "        height=400,\n",
        "    )\n",
        "```\n",
        "</details>"
      ]
    },
    {
      "cell_type": "markdown",
      "metadata": {
        "id": "1dgzp4spXli1"
      },
      "source": [
        "This tells us which heads are probably important, but we can do better than that. Rather than looking at the query and key components separately, we can see how they combine together - i.e. take the decomposed attention scores.\n",
        "\n",
        "This is a bilinear function of q and k, and so we will end up with a `decomposed_scores` tensor with shape `[query_component, key_component, query_pos, key_pos]`, where summing along BOTH of the first axes will give us the original attention scores (pre-mask)."
      ]
    },
    {
      "cell_type": "markdown",
      "metadata": {
        "id": "oylQH7aJXli2"
      },
      "source": [
        "### Exercise - decompose attention scores\n",
        "\n",
        "> ```yaml\n",
        "> Difficulty: 🔴🔴⚪⚪⚪\n",
        "> Importance: 🔵🔵🔵🔵⚪\n",
        ">\n",
        "> You shouldn't spend more than 5-10 minutes on this exercise.\n",
        "> Having already done the previous exercises, this one should be easier.\n",
        "> ```\n",
        "\n",
        "Implement the function giving the decomposed scores (remember to scale by `sqrt(d_head)`!) For now, don't mask it.\n",
        "\n",
        "<details>\n",
        "<summary>Question - why do I focus on the attention scores, not the attention pattern? (i.e. pre softmax not post softmax)</summary>\n",
        "\n",
        "Because the decomposition trick *only* works for things that are linear - softmax isn't linear and so we can no longer consider each component independently.\n",
        "</details>\n",
        "\n",
        "<details>\n",
        "<summary>Help - I'm confused about what we're doing / why we're doing it.</summary>\n",
        "\n",
        "Remember that each of our components writes to the residual stream separately. So after layer 0, we have:\n",
        "\n",
        "<img src=\"https://raw.githubusercontent.com/info-arena/ARENA_img/main/misc/components.png\" width=\"650\">\n",
        "\n",
        "We're particularly interested in the attention scores computed in head `1.4`, and how they depend on the inputs into that head. We've already decomposed the residual stream value $x$ into its terms $e$, $pe$, and $x^ 0$ through $x^{11}$ (which we've labelled $y_0, ..., y_{13}$ for simplicity), and we've done the same for key and query terms. We can picture these terms being passed into head `1.4` as:\n",
        "\n",
        "<img src=\"https://raw.githubusercontent.com/info-arena/ARENA_img/main/misc/components-2.png\" width=\"650\">\n",
        "\n",
        "So when we expand `attn_scores` out in full, they are a sum of $14^2 = 196$ terms - one for each combination of `(query_component, key_component)`.\n",
        "\n",
        "---\n",
        "\n",
        "#### Why is this decomposition useful?\n",
        "\n",
        "We have a theory about a particular circuit in our model. We think that head `1.4` is an induction head, and the most important components that feed into this head are the prev token head `0.7` (as key) and the token embedding (as query). This is already supported by the evidence of our magnitude plots above (because we saw that `0.7` as key and token embeddings as query were large), but we still don't know how this particular key and query work **together**; we've only looked at them separately.\n",
        "\n",
        "By decomposing `attn_scores` like this, we can check whether the contribution from combination `(query=tok_emb, key=0.7)` is indeed producing the characteristic induction head pattern which we've observed (and the other 195 terms don't really matter).\n",
        "</details>"
      ]
    },
    {
      "cell_type": "code",
      "execution_count": null,
      "metadata": {
        "id": "Glifzl4AXli2"
      },
      "outputs": [],
      "source": [
        "def decompose_attn_scores(\n",
        "    decomposed_q: Float[Tensor, \"q_comp q_pos d_head\"],\n",
        "    decomposed_k: Float[Tensor, \"k_comp k_pos d_head\"],\n",
        "    model: HookedTransformer,\n",
        ") -> Float[Tensor, \"q_comp k_comp q_pos k_pos\"]:\n",
        "    \"\"\"\n",
        "    Output is decomposed_scores with shape [query_component, key_component, query_pos, key_pos]\n",
        "\n",
        "    The [i, j, 0, 0]th element is y_i @ W_QK @ y_j^T (so the sum along both first axes are the\n",
        "    attention scores)\n",
        "    \"\"\"\n",
        "    raise NotImplementedError()\n",
        "\n",
        "\n",
        "tests.test_decompose_attn_scores(decompose_attn_scores, decomposed_q, decomposed_k, model)"
      ]
    },
    {
      "cell_type": "markdown",
      "metadata": {
        "id": "r7s98QvSXli2"
      },
      "source": [
        "<details><summary>Solution</summary>\n",
        "\n",
        "```python\n",
        "def decompose_attn_scores(\n",
        "    decomposed_q: Float[Tensor, \"q_comp q_pos d_head\"],\n",
        "    decomposed_k: Float[Tensor, \"k_comp k_pos d_head\"],\n",
        "    model: HookedTransformer,\n",
        ") -> Float[Tensor, \"q_comp k_comp q_pos k_pos\"]:\n",
        "    \"\"\"\n",
        "    Output is decomposed_scores with shape [query_component, key_component, query_pos, key_pos]\n",
        "\n",
        "    The [i, j, 0, 0]th element is y_i @ W_QK @ y_j^T (so the sum along both first axes are the\n",
        "    attention scores)\n",
        "    \"\"\"\n",
        "    return einops.einsum(\n",
        "        decomposed_q,\n",
        "        decomposed_k,\n",
        "        \"q_comp q_pos d_head, k_comp k_pos d_head -> q_comp k_comp q_pos k_pos\",\n",
        "    ) / (model.cfg.d_head**0.5)\n",
        "```\n",
        "</details>"
      ]
    },
    {
      "cell_type": "markdown",
      "metadata": {
        "id": "GCJNhpIgXli2"
      },
      "source": [
        "Once these tests have passed, you can plot the results:"
      ]
    },
    {
      "cell_type": "code",
      "execution_count": null,
      "metadata": {
        "id": "SLJd0p2UXli2"
      },
      "outputs": [],
      "source": [
        "# First plot: attention score contribution from (query_component, key_component) = (Embed, L0H7), you can replace this\n",
        "# with any other pair and see that the values are generally much smaller, i.e. this pair dominates the attention score\n",
        "# calculation\n",
        "decomposed_scores = decompose_attn_scores(decomposed_q, decomposed_k, model)\n",
        "\n",
        "q_label = \"Embed\"\n",
        "k_label = \"0.7\"\n",
        "decomposed_scores_from_pair = decomposed_scores[\n",
        "    component_labels.index(q_label), component_labels.index(k_label)\n",
        "]\n",
        "\n",
        "imshow(\n",
        "    utils.to_numpy(t.tril(decomposed_scores_from_pair)),\n",
        "    title=f\"Attention score contributions from query = {q_label}, key = {k_label}<br>(by query & key sequence positions)\",\n",
        "    width=700,\n",
        ")\n",
        "\n",
        "\n",
        "# Second plot: std dev over query and key positions, shown by component. This shows us that the other pairs of\n",
        "# (query_component, key_component) are much less important, without us having to look at each one individually like we\n",
        "# did in the first plot!\n",
        "decomposed_stds = einops.reduce(\n",
        "    decomposed_scores, \"query_decomp key_decomp query_pos key_pos -> query_decomp key_decomp\", t.std\n",
        ")\n",
        "imshow(\n",
        "    utils.to_numpy(decomposed_stds),\n",
        "    labels={\"x\": \"Key Component\", \"y\": \"Query Component\"},\n",
        "    title=\"Std dev of attn score contributions across sequence positions<br>(by query & key comp)\",\n",
        "    x=component_labels,\n",
        "    y=component_labels,\n",
        "    width=700,\n",
        ")"
      ]
    },
    {
      "cell_type": "markdown",
      "metadata": {
        "id": "KP7PBngTXli2"
      },
      "source": [
        "<details>\n",
        "<summary>Help - I don't understand the interpretation of these plots.</summary>\n",
        "\n",
        "The first plot tells you that the term $e W_{QK}^{1.4} (x^{0.7})^T$ (i.e. the component of the attention scores for head `1.4` where the query is supplied by the token embeddings and the key is supplied by the output of head `0.7`) produces the distinctive attention pattern we see in the induction head: a strong diagonal stripe.\n",
        "\n",
        "Although this tells us that this this component would probably be sufficient to implement the induction mechanism, it doesn't tell us the whole story. Ideally, we'd like to show that the other 195 terms are unimportant. Taking the standard deviation across the attention scores for a particular pair of components is a decent proxy for how important this term is in the overall attention pattern. The second plot shows us that the standard deviation is very small for all the other components, so we can be confident that the other components are unimportant.\n",
        "\n",
        "To summarise:\n",
        "\n",
        "* The first plot tells us that the pair `(q_component=tok_emb, k_component=0.7)` produces the characteristic induction-head pattern we see in attention head `1.4`.\n",
        "* The second plot confirms that this pair is the only important one for influencing the attention pattern in `1.4`; all other pairs have very small contributions.\n",
        "</details>\n",
        "\n",
        "Note that plots like the ones above are often the most concise way of presenting a summary of the important information, and understanding what to plot is a valuable skill in any model internals-based work. However, if you want to see the \"full plot\" which the two plots above are both simplifications of in some sense, you can run the code below, which gives you the matrix of every single pair of components' contribution to the attention scores. So the first plot above is just a slice of the full plot below, and the second plot above is just the plot below after reducing over each slice with the standard deviation operation.\n",
        "\n",
        "(Note - the plot you'll generate below is pretty big, so you'll want to clear it after you're done with it. If your machine is still working slowly when rendering it, you can use `fig.show(config={\"staticPlot\": True})` to display a non-interactive version of it.)"
      ]
    },
    {
      "cell_type": "code",
      "execution_count": null,
      "metadata": {
        "id": "sUXZTeLKXli2"
      },
      "outputs": [],
      "source": [
        "decomposed_scores_centered = t.tril(\n",
        "    decomposed_scores - decomposed_scores.mean(dim=-1, keepdim=True)\n",
        ")\n",
        "\n",
        "decomposed_scores_reshaped = einops.rearrange(\n",
        "    decomposed_scores_centered,\n",
        "    \"q_comp k_comp q_token k_token -> (q_comp q_token) (k_comp k_token)\",\n",
        ")\n",
        "\n",
        "fig = imshow(\n",
        "    decomposed_scores_reshaped,\n",
        "    title=\"Attention score contributions from all pairs of (key, query) components\",\n",
        "    width=1200,\n",
        "    height=1200,\n",
        "    return_fig=True,\n",
        ")\n",
        "full_seq_len = seq_len * 2 + 1\n",
        "for i in range(0, full_seq_len * len(component_labels), full_seq_len):\n",
        "    fig.add_hline(y=i, line_color=\"black\", line_width=1)\n",
        "    fig.add_vline(x=i, line_color=\"black\", line_width=1)\n",
        "\n",
        "fig.show(config={\"staticPlot\": True})"
      ]
    },
    {
      "cell_type": "markdown",
      "metadata": {
        "id": "ffWZ8iplXli2"
      },
      "source": [
        "### Interpreting the full circuit\n",
        "\n",
        "Now we know that head `1.4` is composing with head `0.7` via K composition, we can multiply through to create a full circuit:\n",
        "\n",
        "$$\n",
        "W_E\\, W_{QK}^{1.4}\\, (W_{OV}^{0.7})^T\\, W_E^T\n",
        "$$\n",
        "\n",
        "and verify that it's the identity. (Note, when we say identity here, we're again thinking about it as a distribution over logits, so this should be taken to mean \"high diagonal values\", and we'll be using our previous metric of `top_1_acc`.)\n",
        "\n",
        "#### Question - why should this be the identity?\n",
        "\n",
        "<details>\n",
        "<summary>Answer</summary>\n",
        "\n",
        "This matrix is a bilinear form. Its diagonal elements $(A, A)$ are:\n",
        "\n",
        "$$\n",
        "A^T \\, W_E\\, W_{QK}^{1.4}\\, W_{OV}^{0.7}\\, W_E^T \\, A = \\underbrace{(A^T W_E W_Q^{1.4})}_{\\text{query}} \\underbrace{(A^T W_E W_{OV}^{0.7} W_K^{1.4})^T}_{\\text{key}}\n",
        "$$\n",
        "\n",
        "Intuitively, the query is saying **\"I'm looking for a token which followed $A$\"**, and the key is saying **\"I *am* a token which folllowed $A$\"** (recall that $A^T W_E W_{OV}^{0.7}$ is the vector which gets moved one position forward by our prev token head `0.7`).\n",
        "\n",
        "Now, consider the off-diagonal elements $(A, X)$ (for $X \\neq A$). We expect these to be small, because the key doesn't match the query:\n",
        "\n",
        "$$\n",
        "A^T \\, W_E\\, W_{QK}^{1.4}\\, W_{OV}^{0.7}\\, W_E^T \\, X = \\underbrace{(\\text{I'm looking for a token which followed A})}_\\text{query} \\boldsymbol{\\cdot} \\underbrace{(\\text{I am a token which followed X})}_{\\text{key}}\n",
        "$$\n",
        "\n",
        "\n",
        "Hence, we expect this to be the identity.\n",
        "\n",
        "An illustration:\n",
        "\n",
        "<img src=\"https://raw.githubusercontent.com/info-arena/ARENA_img/main/misc/kcomp_diagram_described-K-last.png\" width=\"700\">\n",
        "\n",
        "<!-- ![kcomp_diagram_described-K.png](https://raw.githubusercontent.com/info-arena/ARENA_img/main/misc/kcomp_diagram_described-K.png) -->\n",
        "</details>"
      ]
    },
    {
      "cell_type": "markdown",
      "metadata": {
        "id": "zDlDUOkRXli3"
      },
      "source": [
        "### Exercise - compute the K-comp circuit\n",
        "\n",
        "> ```yaml\n",
        "> Difficulty: 🔴🔴🔴⚪⚪\n",
        "> Importance: 🔵🔵🔵🔵⚪\n",
        ">\n",
        "> You shouldn't spend more than 10-20 minutes on this exercise.\n",
        "> ```\n",
        "\n",
        "Calculate the matrix above, as a `FactoredMatrix` object.\n",
        "\n",
        "<details>\n",
        "<summary>Aside about multiplying FactoredMatrix objects together.</summary>\n",
        "\n",
        "If  `M1 = A1 @ B1` and `M2 = A2 @ B2` are factored matrices, then `M = M1 @ M2` returns a new factored matrix. This might be:\n",
        "\n",
        "```python\n",
        "FactoredMatrix(M1.AB @ M2.A, M2.B)\n",
        "```\n",
        "\n",
        "or it might be:\n",
        "\n",
        "```python\n",
        "FactoredMatrix(M1.A, M1.B @ M2.AB)\n",
        "```\n",
        "\n",
        "with these two objects corresponding to the factorisations $M = (A_1 B_1 A_2) (B_2)$ and $M = (A_1) (B_1 A_2 B_2)$ respectively.\n",
        "\n",
        "Which one gets returned depends on the size of the hidden dimension, e.g. `M1.mdim < M2.mdim` then the factorisation used will be $M = A_1 B_1 (A_2 B_2)$.\n",
        "\n",
        "Remember that both these factorisations are valid, and will give you the exact same SVD. The only reason to prefer one over the other is for computational efficiency (we prefer a smaller bottleneck dimension, because this determines the computational complexity of operations like finding SVD).\n",
        "</details>"
      ]
    },
    {
      "cell_type": "code",
      "execution_count": null,
      "metadata": {
        "id": "aKjjc4B3Xli3"
      },
      "outputs": [],
      "source": [
        "def find_K_comp_full_circuit(\n",
        "    model: HookedTransformer, prev_token_head_index: int, ind_head_index: int\n",
        ") -> FactoredMatrix:\n",
        "    \"\"\"\n",
        "    Returns a (vocab, vocab)-size FactoredMatrix, with the first dimension being the query side\n",
        "    (direct from token embeddings) and the second dimension being the key side (going via the\n",
        "    previous token head).\n",
        "    \"\"\"\n",
        "    raise NotImplementedError()\n",
        "\n",
        "\n",
        "prev_token_head_index = 7\n",
        "ind_head_index = 4\n",
        "K_comp_circuit = find_K_comp_full_circuit(model, prev_token_head_index, ind_head_index)\n",
        "\n",
        "tests.test_find_K_comp_full_circuit(find_K_comp_full_circuit, model)\n",
        "\n",
        "print(f\"Token frac where max-activating key = same token: {top_1_acc(K_comp_circuit.T):.4f}\")"
      ]
    },
    {
      "cell_type": "markdown",
      "metadata": {
        "id": "y6M8KYXOXli3"
      },
      "source": [
        "<details><summary>Solution</summary>\n",
        "\n",
        "```python\n",
        "def find_K_comp_full_circuit(\n",
        "    model: HookedTransformer, prev_token_head_index: int, ind_head_index: int\n",
        ") -> FactoredMatrix:\n",
        "    \"\"\"\n",
        "    Returns a (vocab, vocab)-size FactoredMatrix, with the first dimension being the query side\n",
        "    (direct from token embeddings) and the second dimension being the key side (going via the\n",
        "    previous token head).\n",
        "    \"\"\"\n",
        "    W_E = model.W_E\n",
        "    W_Q = model.W_Q[1, ind_head_index]\n",
        "    W_K = model.W_K[1, ind_head_index]\n",
        "    W_O = model.W_O[0, prev_token_head_index]\n",
        "    W_V = model.W_V[0, prev_token_head_index]\n",
        "\n",
        "    Q = W_E @ W_Q\n",
        "    K = W_E @ W_V @ W_O @ W_K\n",
        "    return FactoredMatrix(Q, K.T)\n",
        "```\n",
        "</details>"
      ]
    },
    {
      "cell_type": "markdown",
      "metadata": {
        "id": "leUEDSuEXli3"
      },
      "source": [
        "You can also try this out for our other induction head `ind_head_index=10`, which should also return a relatively high result. Is it higher than for head `1.4` ?\n",
        "\n",
        "<details>\n",
        "<summary>Note - unlike last time, it doesn't make sense to consider the \"effective circuit\" formed by adding together the weight matrices for heads <code>1.4</code> and <code>1.10</code>. Can you see why?</summary>\n",
        "\n",
        "Because the weight matrices we're dealing with here are from the QK circuit, not the OV circuit. These don't get combined in a linear way; instead we take softmax over each head's QK-circuit output individually.\n",
        "</details>\n",
        "\n",
        "## Further Exploration of Induction Circuits\n",
        "\n",
        "I now consider us to have fully reverse engineered an induction circuit - by both interpreting the features and by reverse engineering the circuit from the weights. But there's a bunch more ideas that we can apply for finding circuits in networks that are fun to practice on induction heads, so here's some bonus content - feel free to skip to the later bonus ideas though.\n",
        "\n",
        "### Composition scores\n",
        "\n",
        "A particularly cool idea in the paper is the idea of [virtual weights](https://transformer-circuits.pub/2021/framework/index.html#residual-comms), or compositional scores. (Though I came up with it, so I'm deeply biased!). This is used [to identify induction heads](https://transformer-circuits.pub/2021/framework/index.html#analyzing-a-two-layer-model).\n",
        "\n",
        "The key idea of compositional scores is that the residual stream is a large space, and each head is reading and writing from small subspaces. By default, any two heads will have little overlap between their subspaces (in the same way that any two random vectors have almost zero dot product in a large vector space). But if two heads are deliberately composing, then they will likely want to ensure they write and read from similar subspaces, so that minimal information is lost. As a result, we can just directly look at \"how much overlap there is\" between the output space of the earlier head and the K, Q, or V input space of the later head.\n",
        "\n",
        "We represent the **output space** with $W_{OV}=W_V W_O$. Call matrices like this $W_A$.\n",
        "\n",
        "We represent the **input space** with $W_{QK}=W_Q W_K^T$ (for Q-composition), $W_{QK}^T=W_K  W_Q^T$ (for K-Composition) or $W_{OV}=W_V W_O$ (for V-Composition, of the later head). Call matrices like these $W_B$ (we've used this notation so that $W_B$ refers to a later head, and $W_A$ to an earlier head).\n",
        "\n",
        "<details>\n",
        "<summary>Help - I don't understand what motivates these definitions.</summary>\n",
        "\n",
        "Recall that we can view each head as having three input wires (keys, queries and values), and one output wire (the outputs). The different forms of composition come from the fact that keys, queries and values can all be supplied from the output of a different head.\n",
        "\n",
        "Here is an illustration which shows the three different cases, and should also explain why we use this terminology. You might have to open it in a new tab to see it clearly.\n",
        "\n",
        "![composition](https://raw.githubusercontent.com/info-arena/ARENA_img/main/misc/composition_new.png)\n",
        "\n",
        "</details>\n",
        "\n",
        "How do we formalise overlap? This is basically an open question, but a surprisingly good metric is $\\frac{\\|W_AW_B\\|_F}{\\|W_B\\|_F\\|W_A\\|_F}$ where $\\|W\\|_F=\\sqrt{\\sum_{i,j}W_{i,j}^2}$ is the Frobenius norm, the square root of the sum of squared elements. (If you're dying of curiosity as to what makes this a good metric, you can jump to the section immediately after the exercises below.)"
      ]
    },
    {
      "cell_type": "markdown",
      "metadata": {
        "id": "U9wcx0oIXli3"
      },
      "source": [
        "### Exercise - calculate composition scores\n",
        "\n",
        "> ```yaml\n",
        "> Difficulty: 🔴🔴🔴⚪⚪\n",
        "> Importance: 🔵🔵🔵⚪⚪\n",
        ">\n",
        "> You shouldn't spend more than 15-25 minutes on these exercises.\n",
        "> Writing a composition score function should be fairly easy. The harder part is getting the right weight matrices in the exercises that come after.\n",
        "> ```\n",
        "\n",
        "Let's calculate this metric for all pairs of heads in layer 0 and layer 1 for each of K, Q and V composition and plot it.\n",
        "\n",
        "We'll start by implementing this using plain old tensors (later on we'll see how this can be sped up using the `FactoredMatrix` class). We also won't worry about batching our calculations yet; we'll just do one matrix at a time.\n",
        "\n",
        "We've given you tensors `q_comp_scores` etc. to hold the composition scores for each of Q, K and V composition (i.e. the `[i, j]`th element of `q_comp_scores` is the Q-composition score between the output from the `i`th head in layer 0 and the input to the `j`th head in layer 1). You should complete the function `get_comp_score`, and then fill in each of these tensors."
      ]
    },
    {
      "cell_type": "code",
      "execution_count": null,
      "metadata": {
        "id": "sTeGW5XFXli3"
      },
      "outputs": [],
      "source": [
        "def get_comp_score(W_A: Float[Tensor, \"in_A out_A\"], W_B: Float[Tensor, \"out_A out_B\"]) -> float:\n",
        "    \"\"\"\n",
        "    Return the composition score between W_A and W_B.\n",
        "    \"\"\"\n",
        "    raise NotImplementedError()\n",
        "\n",
        "\n",
        "tests.test_get_comp_score(get_comp_score)"
      ]
    },
    {
      "cell_type": "markdown",
      "metadata": {
        "id": "3K6mh57FXli3"
      },
      "source": [
        "<details><summary>Solution</summary>\n",
        "\n",
        "```python\n",
        "def get_comp_score(W_A: Float[Tensor, \"in_A out_A\"], W_B: Float[Tensor, \"out_A out_B\"]) -> float:\n",
        "    \"\"\"\n",
        "    Return the composition score between W_A and W_B.\n",
        "    \"\"\"\n",
        "    W_A_norm = W_A.pow(2).sum().sqrt()\n",
        "    W_B_norm = W_B.pow(2).sum().sqrt()\n",
        "    W_AB_norm = (W_A @ W_B).pow(2).sum().sqrt()\n",
        "\n",
        "    return (W_AB_norm / (W_A_norm * W_B_norm)).item()\n",
        "```\n",
        "</details>"
      ]
    },
    {
      "cell_type": "markdown",
      "metadata": {
        "id": "JeMP1d4MXli3"
      },
      "source": [
        "Once you've passed the tests, you can fill in all the composition scores. Here you should just use a for loop, iterating over all possible pairs of `W_A` in layer 0 and `W_B` in layer 1, for each type of composition. Later on, we'll look at ways to batch this computation."
      ]
    },
    {
      "cell_type": "code",
      "execution_count": null,
      "metadata": {
        "id": "ZUmWPvRYXli4"
      },
      "outputs": [],
      "source": [
        "# Get all QK and OV matrices\n",
        "W_QK = model.W_Q @ model.W_K.transpose(-1, -2)\n",
        "W_OV = model.W_V @ model.W_O\n",
        "\n",
        "# Define tensors to hold the composition scores\n",
        "composition_scores = {\n",
        "    \"Q\": t.zeros(model.cfg.n_heads, model.cfg.n_heads).to(device),\n",
        "    \"K\": t.zeros(model.cfg.n_heads, model.cfg.n_heads).to(device),\n",
        "    \"V\": t.zeros(model.cfg.n_heads, model.cfg.n_heads).to(device),\n",
        "}\n",
        "\n",
        "# YOUR CODE HERE - fill in values of the `composition_scores` dict, using `get_comp_score`\n",
        "\n",
        "# Plot the composition scores\n",
        "for comp_type in [\"Q\", \"K\", \"V\"]:\n",
        "    plot_comp_scores(model, composition_scores[comp_type], f\"{comp_type} Composition Scores\")"
      ]
    },
    {
      "cell_type": "markdown",
      "metadata": {
        "id": "GqDjWonhXli4"
      },
      "source": [
        "<details><summary>Solution</summary>\n",
        "\n",
        "```python\n",
        "for i in tqdm(range(model.cfg.n_heads)):\n",
        "    for j in range(model.cfg.n_heads):\n",
        "        composition_scores[\"Q\"][i, j] = get_comp_score(W_OV[0, i], W_QK[1, j])\n",
        "        composition_scores[\"K\"][i, j] = get_comp_score(W_OV[0, i], W_QK[1, j].T)\n",
        "        composition_scores[\"V\"][i, j] = get_comp_score(W_OV[0, i], W_OV[1, j])\n",
        "```\n",
        "</details>"
      ]
    },
    {
      "cell_type": "markdown",
      "metadata": {
        "id": "LcPfx9YJXli4"
      },
      "source": [
        "### Exercise - Setting a Baseline\n",
        "\n",
        "> ```yaml\n",
        "> Difficulty: 🔴🔴⚪⚪⚪\n",
        "> Importance: 🔵🔵⚪⚪⚪\n",
        ">\n",
        "> You shouldn't spend more than ~10 minutes on this exercise.\n",
        "> ```\n",
        "\n",
        "To interpret the above graphs we need a baseline! A good one is what the scores look like at initialisation. Make a function that randomly generates a composition score 200 times and tries this. Remember to generate 4 `[d_head, d_model]` matrices, not 2 `[d_model, d_model]` matrices! This model was initialised with **Kaiming Uniform Initialisation**:\n",
        "\n",
        "```python\n",
        "W = t.empty(shape)\n",
        "nn.init.kaiming_uniform_(W, a=np.sqrt(5))\n",
        "```\n",
        "\n",
        "(Ideally we'd do a more efficient generation involving batching, and more samples, but we won't worry about that yet.)"
      ]
    },
    {
      "cell_type": "code",
      "execution_count": null,
      "metadata": {
        "id": "wgHQYhPvXli4"
      },
      "outputs": [],
      "source": [
        "def generate_single_random_comp_score() -> float:\n",
        "    \"\"\"\n",
        "    Write a function which generates a single composition score for random matrices\n",
        "    \"\"\"\n",
        "    raise NotImplementedError()\n",
        "\n",
        "\n",
        "n_samples = 300\n",
        "comp_scores_baseline = np.zeros(n_samples)\n",
        "for i in tqdm(range(n_samples)):\n",
        "    comp_scores_baseline[i] = generate_single_random_comp_score()\n",
        "\n",
        "print(\"\\nMean:\", comp_scores_baseline.mean())\n",
        "print(\"Std:\", comp_scores_baseline.std())\n",
        "\n",
        "hist(\n",
        "    comp_scores_baseline,\n",
        "    nbins=50,\n",
        "    width=800,\n",
        "    labels={\"x\": \"Composition score\"},\n",
        "    title=\"Random composition scores\",\n",
        ")"
      ]
    },
    {
      "cell_type": "markdown",
      "metadata": {
        "id": "bsISkKDmXli4"
      },
      "source": [
        "<details><summary>Solution</summary>\n",
        "\n",
        "```python\n",
        "def generate_single_random_comp_score() -> float:\n",
        "    \"\"\"\n",
        "    Write a function which generates a single composition score for random matrices\n",
        "    \"\"\"\n",
        "    W_A_left = t.empty(model.cfg.d_model, model.cfg.d_head)\n",
        "    W_B_left = t.empty(model.cfg.d_model, model.cfg.d_head)\n",
        "    W_A_right = t.empty(model.cfg.d_model, model.cfg.d_head)\n",
        "    W_B_right = t.empty(model.cfg.d_model, model.cfg.d_head)\n",
        "\n",
        "    for W in [W_A_left, W_B_left, W_A_right, W_B_right]:\n",
        "        nn.init.kaiming_uniform_(W, a=np.sqrt(5))\n",
        "\n",
        "    W_A = W_A_left @ W_A_right.T\n",
        "    W_B = W_B_left @ W_B_right.T\n",
        "\n",
        "    return get_comp_score(W_A, W_B)\n",
        "```\n",
        "</details>"
      ]
    },
    {
      "cell_type": "markdown",
      "metadata": {
        "id": "hNt2QIHrXli4"
      },
      "source": [
        "We can re-plot our above graphs with this baseline set to white. Look for interesting things in this graph!"
      ]
    },
    {
      "cell_type": "code",
      "execution_count": null,
      "metadata": {
        "id": "xzmF-Th4Xli5"
      },
      "outputs": [],
      "source": [
        "baseline = comp_scores_baseline.mean()\n",
        "for comp_type, comp_scores in composition_scores.items():\n",
        "    plot_comp_scores(model, comp_scores, f\"{comp_type} Composition Scores\", baseline=baseline)"
      ]
    },
    {
      "cell_type": "markdown",
      "metadata": {
        "id": "owzoSCZmXli5"
      },
      "source": [
        "<details>\n",
        "<summary>Some interesting things to observe:</summary>\n",
        "\n",
        "The most obvious thing that jumps out (when considered in the context of all the analysis we've done so far) is the K-composition scores. `0.7` (the prev token head) is strongly composing with `1.4` and `1.10` (the two attention heads). This is what we expect, and is a good indication that our composition scores are working as intended.\n",
        "\n",
        "Another interesting thing to note is that the V-composition scores for heads `1.4` and `1.10` with all other heads in layer 0 are very low. In the context of the induction circuit, this is a good thing - the OV circuits of our induction heads should be operating on the **embeddings**, rather than the outputs of the layer-0 heads. (If our repeating sequence is `A B ... A B`, then it's the QK circuit's job to make sure the second `A` attends to the first `B`, and it's the OV circuit's job to project the residual vector at that position onto the **embedding space** in order to extract the `B`-information, while hopefully ignoring anything else that has been written to that position by the heads in layer 0). So once again, this is a good sign for our composition scores.\n",
        "\n",
        "<img src=\"https://raw.githubusercontent.com/info-arena/ARENA_img/main/misc/small_comp_diagram_last.png\" width=\"900\">\n",
        "\n",
        "</details>"
      ]
    },
    {
      "cell_type": "markdown",
      "metadata": {
        "id": "iU8EISVkXli5"
      },
      "source": [
        "#### Theory + Efficient Implementation\n",
        "\n",
        "So, what's up with that metric? The key is a cute linear algebra result that the squared Frobenius norm is equal to the sum of the squared singular values.\n",
        "\n",
        "<details>\n",
        "<summary>Proof</summary>\n",
        "\n",
        "We'll give three different proofs:\n",
        "\n",
        "---\n",
        "\n",
        "##### Short sketch of proof\n",
        "\n",
        "Clearly $\\|M\\|_F^2$ equals the sum of squared singular values when $M$ is diagonal. The singular values of $M$ don't change when we multiply it by an orthogonal matrix (only the matrices $U$ and $V$ will change, not $S$), so it remains to show that the Frobenius norm also won't change when we multiply $M$ by an orthogonal matrix. But this follows from the fact that the Frobenius norm is the sum of the squared $l_2$ norms of the column vectors of $M$, and orthogonal matrices preserve $l_2$ norms. (If we're right-multiplying $M$ by an orthogonal matrix, then we instead view this as performing orthogonal operations on the row vectors of $M$, and the same argument holds.)\n",
        "\n",
        "---\n",
        "\n",
        "##### Long proof\n",
        "\n",
        "$$\n",
        "\\begin{aligned}\n",
        "\\|M\\|_F^2 &= \\sum_{ij}M_{ij}^2 \\\\\n",
        "&= \\sum_{ij}((USV^T)_{ij})^2 \\\\\n",
        "&= \\sum_{ij}\\bigg(\\sum_k U_{ik}S_{kk}V_{jk}\\bigg)^2 \\\\\n",
        "&= \\sum_{ijk_1 k_2}S_{k_1 k_1} S_{k_2 k_2} U_{i k_1} U_{i k_2} V_{j k_2} V_{j k_2} \\\\\n",
        "&= \\sum_{k_1 k_2}S_{k_1 k_1} S_{k_2 k_2} \\bigg(\\sum_i U_{i k_1} U_{i k_2}\\bigg)\\bigg(\\sum_j V_{j k_2} V_{j k_2}\\bigg) \\\\\n",
        "\\end{aligned}\n",
        "$$\n",
        "\n",
        "Each of the terms in large brackets is actually the dot product of columns of $U$ and $V$ respectively. Since these are orthogonal matrices, these terms evaluate to 1 when $k_1=k_2$ and 0 otherwise. So we are left with:\n",
        "\n",
        "$$\n",
        "\\|M\\|_F^2 = \\sum_{k}S_{k k}^2\n",
        "$$\n",
        "\n",
        "---\n",
        "\n",
        "##### Cute proof which uses the fact that the squared Frobenius norm $|M|^2$ is the same as the trace of $MM^T$\n",
        "\n",
        "$$\n",
        "\\|M\\|_F^2 = \\text{Tr}(MM^T) = \\text{Tr}(USV^TVSU^T) = \\text{Tr}(US^2U^T) = \\text{Tr}(S^2 U^T U) = \\text{Tr}(S^2) = \\|S\\|_F^2\n",
        "$$\n",
        "\n",
        "where we used the cyclicity of trace, and the fact that $U$ is orthogonal so $U^TU=I$ (and same for $V$). We finish by observing that $\\|S\\|_F^2$ is precisely the sum of the squared singular values.\n",
        "</details>"
      ]
    },
    {
      "cell_type": "markdown",
      "metadata": {
        "id": "h9XrccVxXli5"
      },
      "source": [
        "So if $W_A=U_AS_AV_A^T$, $W_B=U_BS_BV_B^T$, then $\\|W_A\\|_F=\\|S_A\\|_F$, $\\|W_B\\|_F=\\|S_B\\|_F$ and $\\|W_AW_B\\|_F=\\|S_AV_A^TU_BS_B\\|_F$. In some sense, $V_A^TU_B$ represents how aligned the subspaces written to and read from are, and the $S_A$ and $S_B$ terms weights by the importance of those subspaces.\n",
        "\n",
        "<details>\n",
        "<summary>Click here, if this explanation still seems confusing.</summary>\n",
        "\n",
        "$U_B$ is a matrix of shape `[d_model, d_head]`. It represents **the subspace being read from**, i.e. our later head reads from the residual stream by projecting it onto the `d_head` columns of this matrix.\n",
        "\n",
        "$V_A$ is a matrix of shape `[d_model, d_head]`. It represents **the subspace being written to**, i.e. the thing written to the residual stream by our earlier head is a linear combination of the `d_head` column-vectors of $V_A$.\n",
        "\n",
        "$V_A^T U_B$ is a matrix of shape `[d_head, d_head]`. Each element of this matrix is formed by taking the dot product of two vectors of length `d_model`:\n",
        "\n",
        "* $v_i^A$, a column of $V_A$ (one of the vectors our earlier head embeds into the residual stream)\n",
        "* $u_j^B$, a column of $U_B$ (one of the vectors our later head projects the residual stream onto)\n",
        "\n",
        "Let the singular values of $S_A$ be $\\sigma_1^A, ..., \\sigma_k^A$ and similarly for $S_B$. Then:\n",
        "\n",
        "$$\n",
        "\\|S_A V_A^T U_B S_B\\|_F^2 = \\sum_{i,j=1}^k (\\sigma_i^A \\sigma_j^B)^2 \\|v^A_i \\cdot u^B_j\\|_F^2\n",
        "$$\n",
        "\n",
        "This is a weighted sum of the squared cosine similarity of the columns of $V_A$ and $U_B$ (i.e. the output directions of the earlier head and the input directions of the later head). The weights in this sum are given by the singular values of both $S_A$ and $S_B$ - i.e. if $v^A_i$ is an important output direction, **and** $u_B^i$ is an important input direction, then the composition score will be much higher when these two directions are aligned with each other.\n",
        "\n",
        "---\n",
        "\n",
        "To build intuition, let's consider a couple of extreme examples.\n",
        "\n",
        "* If there was no overlap between the spaces being written to and read from, then $V_A^T U_B$ would be a matrix of zeros (since every $v_i^A \\cdot u_j^B$ would be zero). This would mean that the composition score would be zero.\n",
        "* If there was perfect overlap, i.e. the span of the $v_i^A$ vectors and $u_j^B$ vectors is the same, then the composition score is large. It is as large as possible when the most important input directions and most important output directions line up (i.e. when the singular values $\\sigma_i^A$ and $\\sigma_j^B$ are in the same order).\n",
        "* If our matrices $W_A$ and $W_B$ were just rank 1 (i.e. $W_A = \\sigma_A u_A v_A^T$, and $W_B = \\sigma_B u_B v_B^T$), then the composition score is $|v_A^T u_B|$, in other words just the cosine similarity of the single output direction of $W_A$ and the single input direction of $W_B$.\n",
        "</details>"
      ]
    },
    {
      "cell_type": "markdown",
      "metadata": {
        "id": "kEaVHdwNXli5"
      },
      "source": [
        "### Exercise - batching, and using the `FactoredMatrix` class\n",
        "\n",
        "> ```yaml\n",
        "> Difficulty: 🔴🔴🔴🔴⚪\n",
        "> Importance: 🔵⚪⚪⚪⚪\n",
        ">\n",
        "> This exercise is optional, and not a super important part of this section conceptually.\n",
        "> It's also quite messy to rearrange our tensors in the right way! You are invited to skip it if you want.\n",
        "> ```"
      ]
    },
    {
      "cell_type": "markdown",
      "metadata": {
        "id": "kCSfdCyNXli5"
      },
      "source": [
        "We can also use this insight to write a more efficient way to calculate composition scores - this is extremely useful if you want to do this analysis at scale! The key is that we know that our matrices have a low rank factorisation, and it's much cheaper to calculate the SVD of a narrow matrix than one that's large in both dimensions. See the [algorithm described at the end of the paper](https://transformer-circuits.pub/2021/framework/index.html#induction-heads:~:text=Working%20with%20Low%2DRank%20Matrices) (search for SVD).\n",
        "\n",
        "So we can work with the `FactoredMatrix` class. This also provides the method `.norm()` which returns the Frobenium norm. This is also a good opportunity to bring back batching - this will sometimes be useful in our analysis. In the function below, `W_As` and `W_Bs` are both >2D factored matrices (e.g. they might represent the OV circuits for all heads in a particular layer, or across multiple layers), and the function's output should be a tensor of composition scores for each pair of matrices `(W_A, W_B)` in the >2D tensors `(W_As, W_Bs)`."
      ]
    },
    {
      "cell_type": "code",
      "execution_count": null,
      "metadata": {
        "id": "-jgSlRSSXli5"
      },
      "outputs": [],
      "source": [
        "def get_batched_comp_scores(W_As: FactoredMatrix, W_Bs: FactoredMatrix) -> Tensor:\n",
        "    \"\"\"\n",
        "    Computes the compositional scores from indexed factored matrices W_As and W_Bs.\n",
        "\n",
        "    Each of W_As and W_Bs is a FactoredMatrix object which is indexed by all but its last 2\n",
        "    dimensions, i.e.:\n",
        "        W_As.shape == (*A_idx, A_in, A_out)\n",
        "        W_Bs.shape == (*B_idx, B_in, B_out)\n",
        "        A_out == B_in\n",
        "\n",
        "    Return: tensor of shape (*A_idx, *B_idx) where the [*a_idx, *b_idx]th element is the\n",
        "    compositional score from W_As[*a_idx] to W_Bs[*b_idx].\n",
        "    \"\"\"\n",
        "    raise NotImplementedError()\n",
        "\n",
        "\n",
        "W_QK = FactoredMatrix(model.W_Q, model.W_K.transpose(-1, -2))\n",
        "W_OV = FactoredMatrix(model.W_V, model.W_O)\n",
        "\n",
        "composition_scores_batched = dict()\n",
        "composition_scores_batched[\"Q\"] = get_batched_comp_scores(W_OV[0], W_QK[1])\n",
        "composition_scores_batched[\"K\"] = get_batched_comp_scores(\n",
        "    W_OV[0], W_QK[1].T\n",
        ")  # Factored matrix: .T is interpreted as transpose of the last two axes\n",
        "composition_scores_batched[\"V\"] = get_batched_comp_scores(W_OV[0], W_OV[1])\n",
        "\n",
        "t.testing.assert_close(composition_scores_batched[\"Q\"], composition_scores[\"Q\"])\n",
        "t.testing.assert_close(composition_scores_batched[\"K\"], composition_scores[\"K\"])\n",
        "t.testing.assert_close(composition_scores_batched[\"V\"], composition_scores[\"V\"])\n",
        "print(\"Tests passed - your `get_batched_comp_scores` function is working!\")"
      ]
    },
    {
      "cell_type": "markdown",
      "metadata": {
        "id": "_JYGoJL2Xli5"
      },
      "source": [
        "<details>\n",
        "<summary>Hint</summary>\n",
        "\n",
        "Suppose `W_As` has shape `(A1, A2, ..., Am, A_in, A_out)` and `W_Bs` has shape `(B1, B2, ..., Bn, B_in, B_out)` (where `A_out == B_in`).\n",
        "\n",
        "It will be helpful to reshape these two tensors so that:\n",
        "\n",
        "```python\n",
        "W_As.shape == (A1*A2*...*Am, 1, A_in, A_out)\n",
        "W_Bs.shape == (1, B1*B2*...*Bn, B_in, B_out)\n",
        "```\n",
        "\n",
        "since we can then multiply them together as `W_As @ W_Bs` (broadcasting will take care of this for us!).\n",
        "\n",
        "To do the reshaping, the easiest way is to reshape `W_As.A` and `W_As.B`, and define a new `FactoredMatrix` from these reshaped tensors (and same for `W_Bs`).\n",
        "</details>\n",
        "\n",
        "\n",
        "<details><summary>Solution</summary>\n",
        "\n",
        "```python\n",
        "def get_batched_comp_scores(W_As: FactoredMatrix, W_Bs: FactoredMatrix) -> Tensor:\n",
        "    \"\"\"\n",
        "    Computes the compositional scores from indexed factored matrices W_As and W_Bs.\n",
        "\n",
        "    Each of W_As and W_Bs is a FactoredMatrix object which is indexed by all but its last 2\n",
        "    dimensions, i.e.:\n",
        "        W_As.shape == (*A_idx, A_in, A_out)\n",
        "        W_Bs.shape == (*B_idx, B_in, B_out)\n",
        "        A_out == B_in\n",
        "\n",
        "    Return: tensor of shape (*A_idx, *B_idx) where the [*a_idx, *b_idx]th element is the\n",
        "    compositional score from W_As[*a_idx] to W_Bs[*b_idx].\n",
        "    \"\"\"\n",
        "    # Flatten W_As into (single_A_idx, 1, A_in, A_out)\n",
        "    W_As = FactoredMatrix(\n",
        "        W_As.A.reshape(-1, 1, *W_As.A.shape[-2:]),\n",
        "        W_As.B.reshape(-1, 1, *W_As.B.shape[-2:]),\n",
        "    )\n",
        "    # Flatten W_Bs into (1, single_B_idx, B_in(=A_out), B_out)\n",
        "    W_Bs = FactoredMatrix(\n",
        "        W_Bs.A.reshape(1, -1, *W_Bs.A.shape[-2:]),\n",
        "        W_Bs.B.reshape(1, -1, *W_Bs.B.shape[-2:]),\n",
        "    )\n",
        "\n",
        "    # Compute the product, with shape (single_A_idx, single_B_idx, A_in, B_out)\n",
        "    W_ABs = W_As @ W_Bs\n",
        "\n",
        "    # Compute the norms, and return the metric\n",
        "    return W_ABs.norm() / (W_As.norm() * W_Bs.norm())\n",
        "```\n",
        "</details>"
      ]
    },
    {
      "cell_type": "markdown",
      "metadata": {
        "id": "aWWnvVE5Xli6"
      },
      "source": [
        "### Targeted Ablations\n",
        "\n",
        "We can refine the ablation technique to detect composition by looking at the effect of the ablation on the attention pattern of an induction head, rather than the loss. Let's implement this!\n",
        "\n",
        "Gotcha - by default, `run_with_hooks` removes any existing hooks when it runs. If you want to use caching, set the `reset_hooks_start` flag to False."
      ]
    },
    {
      "cell_type": "code",
      "execution_count": null,
      "metadata": {
        "id": "UBS8uYNkXli6"
      },
      "outputs": [],
      "source": [
        "seq_len = 50\n",
        "\n",
        "\n",
        "def ablation_induction_score(prev_head_index: int | None, ind_head_index: int) -> float:\n",
        "    \"\"\"\n",
        "    Takes as input the index of the L0 head and the index of the L1 head, and then runs with the\n",
        "    previous token head ablated and returns the induction score for the ind_head_index now.\n",
        "    \"\"\"\n",
        "\n",
        "    def ablation_hook(v, hook):\n",
        "        if prev_head_index is not None:\n",
        "            v[:, :, prev_head_index] = 0.0\n",
        "        return v\n",
        "\n",
        "    def induction_pattern_hook(attn, hook):\n",
        "        hook.ctx[prev_head_index] = attn[0, ind_head_index].diag(-(seq_len - 1)).mean()\n",
        "\n",
        "    model.run_with_hooks(\n",
        "        rep_tokens,\n",
        "        fwd_hooks=[\n",
        "            (utils.get_act_name(\"v\", 0), ablation_hook),\n",
        "            (utils.get_act_name(\"pattern\", 1), induction_pattern_hook),\n",
        "        ],\n",
        "    )\n",
        "    return model.blocks[1].attn.hook_pattern.ctx[prev_head_index].item()\n",
        "\n",
        "\n",
        "baseline_induction_score = ablation_induction_score(None, 4)\n",
        "print(f\"Induction score for no ablations: {baseline_induction_score:.5f}\\n\")\n",
        "for i in range(model.cfg.n_heads):\n",
        "    new_induction_score = ablation_induction_score(i, 4)\n",
        "    induction_score_change = new_induction_score - baseline_induction_score\n",
        "    print(f\"Ablation score change for head {i:02}: {induction_score_change:+.5f}\")"
      ]
    },
    {
      "cell_type": "markdown",
      "metadata": {
        "id": "EV4HBSecXli6"
      },
      "source": [
        "<details>\n",
        "<summary>Question - what is the interpretation of the results you're getting?</summary>\n",
        "\n",
        "You should have found that the induction score without any ablations is about 0.68, and that most other heads don't change the induction score by much when they are ablated, except for head 7 which reduces the induction score to nearly zero.\n",
        "\n",
        "This is another strong piece of evidence that head `0.7` is the prev token head in this induction circuit.\n",
        "</details>"
      ]
    },
    {
      "cell_type": "markdown",
      "metadata": {
        "id": "h3-CQkj5Xli6"
      },
      "source": [
        "## Bonus\n",
        "\n",
        "### Looking for Circuits in Real LLMs\n",
        "\n",
        "A particularly cool application of these techniques is looking for real examples of circuits in large language models. Fortunately, there's a bunch of open source ones you can play around with in the `TransformerLens` library! Many of the techniques we've been using for our 2L transformer carry over to ones with more layers.\n",
        "\n",
        "This library should make it moderately easy to play around with these models - I recommend going wild and looking for interesting circuits!\n",
        "\n",
        "Some fun things you might want to try:\n",
        "\n",
        "- Look for induction heads - try repeating all of the steps from above. Do they follow the same algorithm?\n",
        "- Look for neurons that erase info\n",
        "    - i.e. having a high negative cosine similarity between the input and output weights\n",
        "- Try to interpret a position embedding.\n",
        "\n",
        "<details>\n",
        "<summary>Positional Embedding Hint</summary>\n",
        "\n",
        "Look at the singular value decomposition `t.svd` and plot the principal components over position space. High ones tend to be sine and cosine waves of different frequencies.\n",
        "</details>\n",
        "\n",
        "- Look for heads with interpretable attention patterns: e.g. heads that attend to the same word (or subsequent word) when given text in different languages, or the most recent proper noun, or the most recent full-stop, or the subject of the sentence, etc.\n",
        "    - Pick a head, ablate it, and run the model on a load of text with and without the head. Look for tokens with the largest difference in loss, and try to interpret what the head is doing.\n",
        "- Try replicating some of Kevin's work on indirect object identification.\n",
        "- Inspired by the [ROME paper](https://rome.baulab.info/), use the causal tracing technique of patching in the residual stream - can you analyse how the network answers different facts?\n",
        "\n",
        "Note: I apply several simplifications to the resulting transformer - these leave the model mathematically equivalent and doesn't change the output log probs, but does somewhat change the structure of the model and one change translates the output logits by a constant.\n",
        "\n",
        "<details>\n",
        "<summary>Model simplifications</summary>\n",
        "\n",
        "#### Centering $W_U$\n",
        "\n",
        "The output of $W_U$ is a $d_{vocab}$ vector (or tensor with that as the final dimension) which is fed into a softmax\n",
        "\n",
        "#### LayerNorm Folding\n",
        "\n",
        "LayerNorm is only applied at the start of a linear layer reading from the residual stream (eg query, key, value, mlp_in or unembed calculations)\n",
        "\n",
        "Each LayerNorm has the functional form $LN:\\mathbb{R}^n\\to\\mathbb{R}^n$,\n",
        "$LN(x)=s(x) * w_{ln} + b_{ln}$, where $*$ is element-wise multiply and $s(x)=\\frac{x-\\bar{x}}{|x-\\bar{x}|}$, and $w_{ln},b_{ln}$ are both vectors in $\\mathbb{R}^n$\n",
        "\n",
        "The linear layer has form $l:\\mathbb{R}^n\\to\\mathbb{R}^m$, $l(y)=Wy+b$ where $W\\in \\mathbb{R}^{m\\times n},b\\in \\mathbb{R}^m,y\\in\\mathbb{R}^n$\n",
        "\n",
        "So $f(LN(x))=W(w_{ln} * s(x)+b_{ln})+b=(W * w_{ln})s(x)+(Wb_{ln}+b)=W_{eff}s(x)+b_{eff}$, where $W_{eff}$ is the elementwise product of $W$ and $w_{ln}$ (showing that elementwise multiplication commutes like this is left as an exercise) and $b_{eff}=Wb_{ln}+b\\in \\mathbb{R}^m$.\n",
        "\n",
        "From the perspective of interpretability, it's much nicer to interpret the folded layer $W_{eff},b_{eff}$ - fundamentally, this is the computation being done, and there's no reason to expect $W$ or $w_{ln}$ to be meaningful on their own.\n",
        "</details>"
      ]
    },
    {
      "cell_type": "markdown",
      "metadata": {
        "id": "fw-r0yXlXli6"
      },
      "source": [
        "### Training Your Own Toy Models\n",
        "\n",
        "A fun exercise is training models on the minimal task that'll produce induction heads - predicting the next token in a sequence of random tokens with repeated subsequences. You can get a small 2L Attention-Only model to do this.\n",
        "\n",
        "<details>\n",
        "<summary>Tips</summary>\n",
        "\n",
        "* Make sure to randomise the positions that are repeated! Otherwise the model can just learn the boring algorithm of attending to fixed positions\n",
        "* It works better if you *only* evaluate loss on the repeated tokens, this makes the task less noisy.\n",
        "* It works best with several repeats of the same sequence rather than just one.\n",
        "* If you do things right, and give it finite data + weight decay, you *should* be able to get it to grok - this may take some hyper-parameter tuning though.\n",
        "* When I've done this I get weird franken-induction heads, where each head has 1/3 of an induction stripe, and together cover all tokens.\n",
        "* It'll work better if you only let the queries and keys access the positional embeddings, but *should* work either way.\n",
        "</details>"
      ]
    },
    {
      "cell_type": "markdown",
      "metadata": {
        "id": "WrItaCHcXli6"
      },
      "source": [
        "### Interpreting Induction Heads During Training\n",
        "\n",
        "A particularly striking result about induction heads is that they consistently [form very abruptly in training as a phase change](https://transformer-circuits.pub/2022/in-context-learning-and-induction-heads/index.html#argument-phase-change), and are such an important capability that there is a [visible non-convex bump in the loss curve](https://wandb.ai/mechanistic-interpretability/attn-only/reports/loss_ewma-22-08-24-22-08-00---VmlldzoyNTI2MDM0?accessToken=r6v951q0e1l4q4o70wb2q67wopdyo3v69kz54siuw7lwb4jz6u732vo56h6dr7c2) (in this model, approx 2B to 4B tokens). I have a bunch of checkpoints for this model, you can try re-running the induction head detection techniques on intermediate checkpoints and see what happens. (Bonus points if you have good ideas for how to efficiently send a bunch of 300MB checkpoints from Wandb lol)"
      ]
    },
    {
      "cell_type": "markdown",
      "metadata": {
        "id": "FO8aqwx8Xli6"
      },
      "source": [
        "### Further discussion / investigation\n",
        "\n",
        "Anthropic has written a post on [In-context Learning and Induction Heads](https://transformer-circuits.pub/2022/in-context-learning-and-induction-heads/index.html) which goes into much deeper discussion on induction heads. The post is structured around six different points of evidence for the hypothesis that **induction heads are the main source of in-context learning in transformer models**, even large ones. Briefly, these are:\n",
        "\n",
        "1. Transformers undergo a \"phase change\" where they suddenly become much better at in-context learning, and this is around the same time induction heads appear.\n",
        "2. When we change the transformer's architecture to make it easier for induction heads to form, we get a corresponding improvement in in-context learning.\n",
        "3. When we ablate induction heads at runtime, in-context learning gets worse.\n",
        "4. We have specific examples of induction heads performing more complex in-context learning algorithms (you'll have the opportunity to investigate one of these later - **indirect object identification**).\n",
        "5. We have a mechanistic explanation of induction heads, which suggests natural extensions to more general forms of in-context learning.\n",
        "6. In-context learning-related behaviour is generally smoothly continuous between small and large models, suggesting that the underlying mechanism is also the same.\n",
        "\n",
        "Here are a few questions for you:\n",
        "\n",
        "* How compelling do you find this evidence? Discuss with your partner.\n",
        "    * Which points do you find most compelling?\n",
        "    * Which do you find least compelling?\n",
        "    * Are there any subset of these which would be enough to convince you of the hypothesis, in the absence of others?\n",
        "* In point 3, the paper observes that in-context learning performance degrades when you ablate induction heads. While we measured this by testing the model's ability to copy a duplicated random sequence, the paper used **in-context learning score** (the loss of the 500th token in the context, minus the loss on the 50th token).\n",
        "    * Can you see why this is a reasonable metric?\n",
        "    * Can you replicate these results (maybe on a larger model than the 2-layer one we've been using)?\n",
        "* In point 4 (more complex forms of in-context learning), the paper suggests the natural extension of \"fuzzy induction heads\", which match patterns like `[A*][B*]...[A][B]` rather than `[A][B]...[A][B]` (where the `*` indicates some form of linguistic similarity, not necessarily being the same token).\n",
        "    * Can you think of any forms this might take, i.e. any kinds of similarity which induction heads might pick up on? Can you generate examples?"
      ]
    }
  ],
  "metadata": {
    "language_info": {
      "name": "python"
    },
    "colab": {
      "provenance": [],
      "include_colab_link": true
    },
    "kernelspec": {
      "name": "python3",
      "display_name": "Python 3"
    }
  },
  "nbformat": 4,
  "nbformat_minor": 0
}