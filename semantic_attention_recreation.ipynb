{
  "nbformat": 4,
  "nbformat_minor": 0,
  "metadata": {
    "colab": {
      "provenance": [],
      "authorship_tag": "ABX9TyMAPwBLj3emPo1xhxBwECXS",
      "include_colab_link": true
    },
    "kernelspec": {
      "name": "python3",
      "display_name": "Python 3"
    },
    "language_info": {
      "name": "python"
    }
  },
  "cells": [
    {
      "cell_type": "markdown",
      "metadata": {
        "id": "view-in-github",
        "colab_type": "text"
      },
      "source": [
        "<a href=\"https://colab.research.google.com/github/sc22lg/ML-Notebooks/blob/gpt2-small-paper-recreation/semantic_attention_recreation.ipynb\" target=\"_parent\"><img src=\"https://colab.research.google.com/assets/colab-badge.svg\" alt=\"Open In Colab\"/></a>"
      ]
    },
    {
      "cell_type": "markdown",
      "source": [
        "## A Recreation of the Results of: The Self-Hating Attention Head: A Deep Dive in GPT-2 - Matteo Migliarini July 2025\n",
        "by Leo Gott\n",
        "\n",
        "Original publication can be found [here](https://www.lesswrong.com/posts/wxPvdBwWeaneAsWRB/the-self-hating-attention-head-a-deep-dive-in-gpt-2-1)"
      ],
      "metadata": {
        "id": "GvOoVJ01k5Ru"
      }
    },
    {
      "cell_type": "markdown",
      "source": [
        "### Overall idea:\n",
        "\"gpt2-small's head L1H5 directs attention to semantically similar tokens and actively suppresses self-attention\"\n",
        "### Results to re-create:\n",
        "- Create inputs to ellicit expected behaviour\n",
        "- Use inputs to identify heads performing behaviour in gpt2-small (expected head L1H5)\n",
        "- Perform mean-ablation of preceding components to find which components effect L1H5"
      ],
      "metadata": {
        "id": "BkQK5fgbl0_9"
      }
    },
    {
      "cell_type": "markdown",
      "source": [
        "### Setup:"
      ],
      "metadata": {
        "id": "tDwZTA1Tr4F-"
      }
    },
    {
      "cell_type": "code",
      "source": [
        "import os\n",
        "import sys\n",
        "from pathlib import Path\n",
        "\n",
        "import pkg_resources\n",
        "\n",
        "installed_packages = [pkg.key for pkg in pkg_resources.working_set]\n",
        "if \"transformer-lens\" not in installed_packages:\n",
        "    %pip install transformer_lens==2.11.0 einops eindex-callum jaxtyping git+https://github.com/callummcdougall/CircuitsVis.git#subdirectory=python\n",
        "\n",
        "import pandas as pd\n",
        "import circuitsvis as cv\n",
        "import einops\n",
        "import numpy as np\n",
        "import torch as t\n",
        "import torch.nn as nn\n",
        "import torch.nn.functional as F\n",
        "from torch import Tensor\n",
        "from transformer_lens import (\n",
        "    ActivationCache,\n",
        "    FactoredMatrix,\n",
        "    HookedTransformer,\n",
        "    HookedTransformerConfig,\n",
        "    utils,\n",
        ")\n",
        "from transformer_lens.hook_points import HookPoint"
      ],
      "metadata": {
        "colab": {
          "base_uri": "https://localhost:8080/"
        },
        "id": "oUuoGz1ur6Ct",
        "outputId": "11edb74d-6449-445d-a2e8-2f9ead878a5f"
      },
      "execution_count": 1,
      "outputs": [
        {
          "output_type": "stream",
          "name": "stderr",
          "text": [
            "/tmp/ipython-input-3825944965.py:5: DeprecationWarning: pkg_resources is deprecated as an API. See https://setuptools.pypa.io/en/latest/pkg_resources.html\n",
            "  import pkg_resources\n"
          ]
        }
      ]
    },
    {
      "cell_type": "code",
      "source": [
        "import random as rand\n",
        "import plotly.express as px\n",
        "from IPython.display import display"
      ],
      "metadata": {
        "id": "ZDpjg9KCMx3P"
      },
      "execution_count": 75,
      "outputs": []
    },
    {
      "cell_type": "markdown",
      "source": [
        "### 1.1 Generate input prompt"
      ],
      "metadata": {
        "id": "a63A0WEToMzV"
      }
    },
    {
      "cell_type": "code",
      "execution_count": 57,
      "metadata": {
        "colab": {
          "base_uri": "https://localhost:8080/"
        },
        "id": "zNsmbpepkrtX",
        "outputId": "72fc11b1-2150-4ae6-98c6-ff2590affaef"
      },
      "outputs": [
        {
          "output_type": "stream",
          "name": "stdout",
          "text": [
            "         0           1          2          3           4           5\n",
            "0   Monday     Tuesday  Wednesday   Thursday      Friday    Saturday\n",
            "1      red        blue      green     silver       white        Blue\n",
            "2     1918        1920       1930       1943        1998        2000\n",
            "3      You          He        his        she         her       their\n",
            "4    Italy     Iceland    Austria     Mexico       Spain      France\n",
            "5      dog         cat      horse    hamster        fish      lizard\n",
            "6       60          65         69         70          71          90\n",
            "7    angry       happy        sad    excited       bored    stressed\n",
            "8      car         bus        van      truck   motorbike   aeroplane\n",
            "9     rose       tulip       lily      daisy      orchid   sunflower\n",
            "10  guitar       piano     violin       drum       flute     trumpet\n",
            "11  soccer  basketball     tennis   baseball       rugby      hockey\n",
            "12  circle      square   triangle  rectangle     hexagon     octagon\n",
            "13   chair       table       sofa       desk         bed       shelf\n",
            "14   river        lake      ocean        sea        pond      stream\n",
            "15  doctor       nurse    surgeon    dentist  pharmacist   therapist\n",
            "16  python        java        c++       ruby       swift  javascript\n"
          ]
        }
      ],
      "source": [
        "semantic_words_file = pd.read_csv('semantic_words.csv', header=None)\n",
        "print(semantic_words_file.to_string())"
      ]
    },
    {
      "cell_type": "code",
      "source": [
        "# Create shuffled list of tokens\n",
        "n_sequences = 30\n",
        "n_tokens = 16\n",
        "n_rows = semantic_words_file.shape[0]\n",
        "\n",
        "inputs = np.empty((n_sequences, n_tokens), dtype=tuple)\n",
        "\n",
        "for i in range(n_sequences):\n",
        "  subset = semantic_words_file.sample(4)\n",
        "  for j in range(n_tokens):\n",
        "    category_list = subset.sample(1)\n",
        "    category = category_list.index[0]\n",
        "    token = category_list.iloc[0].sample(1).values[0]\n",
        "    inputs[i, j] = (category, token)\n",
        "# print(inputs)"
      ],
      "metadata": {
        "id": "kPTOFv_Hu2IW",
        "collapsed": true
      },
      "execution_count": 58,
      "outputs": []
    },
    {
      "cell_type": "code",
      "source": [
        "#create masks representing where tokens in an input share a category\n",
        "masks = np.zeros((n_sequences, n_tokens, n_tokens))\n",
        "\n",
        "for seq in range(n_sequences):\n",
        "  for i in range(n_tokens):\n",
        "    for j in range(n_tokens):\n",
        "      if inputs[seq, i][0] == inputs[seq, j][0] and inputs[seq, i][1] != inputs[seq, j][1] and i > j: # ensures upper triangle is 0s\n",
        "        masks[seq, i, j] = 1"
      ],
      "metadata": {
        "id": "6zq_q0WrXRfg"
      },
      "execution_count": 59,
      "outputs": []
    },
    {
      "cell_type": "code",
      "source": [
        "show_mask = 1\n",
        "fig = px.imshow(masks[show_mask], labels=dict(x=\"Token Index\", y=\"Token Index\", color=\"Same Category\")) # Added labels dictionary\n",
        "fig.update_layout(xaxis = dict(\n",
        "        tickmode = 'array',\n",
        "        tickvals = list(range(n_tokens)),\n",
        "        ticktext = [inputs[show_mask, i][1] for i in range(n_tokens)] # Use tokens from inputs for x-axis\n",
        "    ),\n",
        "    yaxis = dict(\n",
        "        tickmode = 'array',\n",
        "        tickvals = list(range(n_tokens)),\n",
        "        ticktext = [inputs[show_mask, i][1] for i in range(n_tokens)] # Use tokens from inputs for y-axis\n",
        "    )\n",
        ")\n",
        "fig.show()"
      ],
      "metadata": {
        "colab": {
          "base_uri": "https://localhost:8080/",
          "height": 542
        },
        "id": "2qn3t2CVass-",
        "outputId": "5fdf999c-23ca-4810-917e-0ee1e4d0cb5d"
      },
      "execution_count": 115,
      "outputs": [
        {
          "output_type": "display_data",
          "data": {
            "text/html": [
              "<html>\n",
              "<head><meta charset=\"utf-8\" /></head>\n",
              "<body>\n",
              "    <div>            <script src=\"https://cdnjs.cloudflare.com/ajax/libs/mathjax/2.7.5/MathJax.js?config=TeX-AMS-MML_SVG\"></script><script type=\"text/javascript\">if (window.MathJax && window.MathJax.Hub && window.MathJax.Hub.Config) {window.MathJax.Hub.Config({SVG: {font: \"STIX-Web\"}});}</script>                <script type=\"text/javascript\">window.PlotlyConfig = {MathJaxConfig: 'local'};</script>\n",
              "        <script charset=\"utf-8\" src=\"https://cdn.plot.ly/plotly-2.35.2.min.js\"></script>                <div id=\"383c41b6-7d4e-4de9-a9cb-f3ece6b1a77c\" class=\"plotly-graph-div\" style=\"height:525px; width:100%;\"></div>            <script type=\"text/javascript\">                                    window.PLOTLYENV=window.PLOTLYENV || {};                                    if (document.getElementById(\"383c41b6-7d4e-4de9-a9cb-f3ece6b1a77c\")) {                    Plotly.newPlot(                        \"383c41b6-7d4e-4de9-a9cb-f3ece6b1a77c\",                        [{\"coloraxis\":\"coloraxis\",\"name\":\"0\",\"z\":[[0.0,0.0,0.0,0.0,0.0,0.0,0.0,0.0,0.0,0.0,0.0,0.0,0.0,0.0,0.0,0.0],[0.0,0.0,0.0,0.0,0.0,0.0,0.0,0.0,0.0,0.0,0.0,0.0,0.0,0.0,0.0,0.0],[0.0,1.0,0.0,0.0,0.0,0.0,0.0,0.0,0.0,0.0,0.0,0.0,0.0,0.0,0.0,0.0],[1.0,0.0,0.0,0.0,0.0,0.0,0.0,0.0,0.0,0.0,0.0,0.0,0.0,0.0,0.0,0.0],[0.0,0.0,0.0,0.0,0.0,0.0,0.0,0.0,0.0,0.0,0.0,0.0,0.0,0.0,0.0,0.0],[0.0,1.0,1.0,0.0,0.0,0.0,0.0,0.0,0.0,0.0,0.0,0.0,0.0,0.0,0.0,0.0],[1.0,0.0,0.0,0.0,0.0,0.0,0.0,0.0,0.0,0.0,0.0,0.0,0.0,0.0,0.0,0.0],[1.0,0.0,0.0,1.0,0.0,0.0,1.0,0.0,0.0,0.0,0.0,0.0,0.0,0.0,0.0,0.0],[0.0,1.0,1.0,0.0,0.0,1.0,0.0,0.0,0.0,0.0,0.0,0.0,0.0,0.0,0.0,0.0],[0.0,0.0,0.0,0.0,1.0,0.0,0.0,0.0,0.0,0.0,0.0,0.0,0.0,0.0,0.0,0.0],[0.0,1.0,1.0,0.0,0.0,1.0,0.0,0.0,1.0,0.0,0.0,0.0,0.0,0.0,0.0,0.0],[0.0,0.0,0.0,0.0,1.0,0.0,0.0,0.0,0.0,1.0,0.0,0.0,0.0,0.0,0.0,0.0],[0.0,0.0,0.0,0.0,1.0,0.0,0.0,0.0,0.0,1.0,0.0,1.0,0.0,0.0,0.0,0.0],[0.0,0.0,0.0,0.0,0.0,0.0,0.0,0.0,0.0,0.0,0.0,0.0,0.0,0.0,0.0,0.0],[0.0,0.0,0.0,0.0,1.0,0.0,0.0,0.0,0.0,1.0,0.0,1.0,1.0,0.0,0.0,0.0],[0.0,0.0,1.0,0.0,0.0,1.0,0.0,0.0,1.0,0.0,1.0,0.0,0.0,0.0,0.0,0.0]],\"type\":\"heatmap\",\"xaxis\":\"x\",\"yaxis\":\"y\",\"hovertemplate\":\"Token Index: %{x}\\u003cbr\\u003eToken Index: %{y}\\u003cbr\\u003eSame Category: %{z}\\u003cextra\\u003e\\u003c\\u002fextra\\u003e\"}],                        {\"template\":{\"data\":{\"histogram2dcontour\":[{\"type\":\"histogram2dcontour\",\"colorbar\":{\"outlinewidth\":0,\"ticks\":\"\"},\"colorscale\":[[0.0,\"#0d0887\"],[0.1111111111111111,\"#46039f\"],[0.2222222222222222,\"#7201a8\"],[0.3333333333333333,\"#9c179e\"],[0.4444444444444444,\"#bd3786\"],[0.5555555555555556,\"#d8576b\"],[0.6666666666666666,\"#ed7953\"],[0.7777777777777778,\"#fb9f3a\"],[0.8888888888888888,\"#fdca26\"],[1.0,\"#f0f921\"]]}],\"choropleth\":[{\"type\":\"choropleth\",\"colorbar\":{\"outlinewidth\":0,\"ticks\":\"\"}}],\"histogram2d\":[{\"type\":\"histogram2d\",\"colorbar\":{\"outlinewidth\":0,\"ticks\":\"\"},\"colorscale\":[[0.0,\"#0d0887\"],[0.1111111111111111,\"#46039f\"],[0.2222222222222222,\"#7201a8\"],[0.3333333333333333,\"#9c179e\"],[0.4444444444444444,\"#bd3786\"],[0.5555555555555556,\"#d8576b\"],[0.6666666666666666,\"#ed7953\"],[0.7777777777777778,\"#fb9f3a\"],[0.8888888888888888,\"#fdca26\"],[1.0,\"#f0f921\"]]}],\"heatmap\":[{\"type\":\"heatmap\",\"colorbar\":{\"outlinewidth\":0,\"ticks\":\"\"},\"colorscale\":[[0.0,\"#0d0887\"],[0.1111111111111111,\"#46039f\"],[0.2222222222222222,\"#7201a8\"],[0.3333333333333333,\"#9c179e\"],[0.4444444444444444,\"#bd3786\"],[0.5555555555555556,\"#d8576b\"],[0.6666666666666666,\"#ed7953\"],[0.7777777777777778,\"#fb9f3a\"],[0.8888888888888888,\"#fdca26\"],[1.0,\"#f0f921\"]]}],\"heatmapgl\":[{\"type\":\"heatmapgl\",\"colorbar\":{\"outlinewidth\":0,\"ticks\":\"\"},\"colorscale\":[[0.0,\"#0d0887\"],[0.1111111111111111,\"#46039f\"],[0.2222222222222222,\"#7201a8\"],[0.3333333333333333,\"#9c179e\"],[0.4444444444444444,\"#bd3786\"],[0.5555555555555556,\"#d8576b\"],[0.6666666666666666,\"#ed7953\"],[0.7777777777777778,\"#fb9f3a\"],[0.8888888888888888,\"#fdca26\"],[1.0,\"#f0f921\"]]}],\"contourcarpet\":[{\"type\":\"contourcarpet\",\"colorbar\":{\"outlinewidth\":0,\"ticks\":\"\"}}],\"contour\":[{\"type\":\"contour\",\"colorbar\":{\"outlinewidth\":0,\"ticks\":\"\"},\"colorscale\":[[0.0,\"#0d0887\"],[0.1111111111111111,\"#46039f\"],[0.2222222222222222,\"#7201a8\"],[0.3333333333333333,\"#9c179e\"],[0.4444444444444444,\"#bd3786\"],[0.5555555555555556,\"#d8576b\"],[0.6666666666666666,\"#ed7953\"],[0.7777777777777778,\"#fb9f3a\"],[0.8888888888888888,\"#fdca26\"],[1.0,\"#f0f921\"]]}],\"surface\":[{\"type\":\"surface\",\"colorbar\":{\"outlinewidth\":0,\"ticks\":\"\"},\"colorscale\":[[0.0,\"#0d0887\"],[0.1111111111111111,\"#46039f\"],[0.2222222222222222,\"#7201a8\"],[0.3333333333333333,\"#9c179e\"],[0.4444444444444444,\"#bd3786\"],[0.5555555555555556,\"#d8576b\"],[0.6666666666666666,\"#ed7953\"],[0.7777777777777778,\"#fb9f3a\"],[0.8888888888888888,\"#fdca26\"],[1.0,\"#f0f921\"]]}],\"mesh3d\":[{\"type\":\"mesh3d\",\"colorbar\":{\"outlinewidth\":0,\"ticks\":\"\"}}],\"scatter\":[{\"fillpattern\":{\"fillmode\":\"overlay\",\"size\":10,\"solidity\":0.2},\"type\":\"scatter\"}],\"parcoords\":[{\"type\":\"parcoords\",\"line\":{\"colorbar\":{\"outlinewidth\":0,\"ticks\":\"\"}}}],\"scatterpolargl\":[{\"type\":\"scatterpolargl\",\"marker\":{\"colorbar\":{\"outlinewidth\":0,\"ticks\":\"\"}}}],\"bar\":[{\"error_x\":{\"color\":\"#2a3f5f\"},\"error_y\":{\"color\":\"#2a3f5f\"},\"marker\":{\"line\":{\"color\":\"#E5ECF6\",\"width\":0.5},\"pattern\":{\"fillmode\":\"overlay\",\"size\":10,\"solidity\":0.2}},\"type\":\"bar\"}],\"scattergeo\":[{\"type\":\"scattergeo\",\"marker\":{\"colorbar\":{\"outlinewidth\":0,\"ticks\":\"\"}}}],\"scatterpolar\":[{\"type\":\"scatterpolar\",\"marker\":{\"colorbar\":{\"outlinewidth\":0,\"ticks\":\"\"}}}],\"histogram\":[{\"marker\":{\"pattern\":{\"fillmode\":\"overlay\",\"size\":10,\"solidity\":0.2}},\"type\":\"histogram\"}],\"scattergl\":[{\"type\":\"scattergl\",\"marker\":{\"colorbar\":{\"outlinewidth\":0,\"ticks\":\"\"}}}],\"scatter3d\":[{\"type\":\"scatter3d\",\"line\":{\"colorbar\":{\"outlinewidth\":0,\"ticks\":\"\"}},\"marker\":{\"colorbar\":{\"outlinewidth\":0,\"ticks\":\"\"}}}],\"scattermapbox\":[{\"type\":\"scattermapbox\",\"marker\":{\"colorbar\":{\"outlinewidth\":0,\"ticks\":\"\"}}}],\"scatterternary\":[{\"type\":\"scatterternary\",\"marker\":{\"colorbar\":{\"outlinewidth\":0,\"ticks\":\"\"}}}],\"scattercarpet\":[{\"type\":\"scattercarpet\",\"marker\":{\"colorbar\":{\"outlinewidth\":0,\"ticks\":\"\"}}}],\"carpet\":[{\"aaxis\":{\"endlinecolor\":\"#2a3f5f\",\"gridcolor\":\"white\",\"linecolor\":\"white\",\"minorgridcolor\":\"white\",\"startlinecolor\":\"#2a3f5f\"},\"baxis\":{\"endlinecolor\":\"#2a3f5f\",\"gridcolor\":\"white\",\"linecolor\":\"white\",\"minorgridcolor\":\"white\",\"startlinecolor\":\"#2a3f5f\"},\"type\":\"carpet\"}],\"table\":[{\"cells\":{\"fill\":{\"color\":\"#EBF0F8\"},\"line\":{\"color\":\"white\"}},\"header\":{\"fill\":{\"color\":\"#C8D4E3\"},\"line\":{\"color\":\"white\"}},\"type\":\"table\"}],\"barpolar\":[{\"marker\":{\"line\":{\"color\":\"#E5ECF6\",\"width\":0.5},\"pattern\":{\"fillmode\":\"overlay\",\"size\":10,\"solidity\":0.2}},\"type\":\"barpolar\"}],\"pie\":[{\"automargin\":true,\"type\":\"pie\"}]},\"layout\":{\"autotypenumbers\":\"strict\",\"colorway\":[\"#636efa\",\"#EF553B\",\"#00cc96\",\"#ab63fa\",\"#FFA15A\",\"#19d3f3\",\"#FF6692\",\"#B6E880\",\"#FF97FF\",\"#FECB52\"],\"font\":{\"color\":\"#2a3f5f\"},\"hovermode\":\"closest\",\"hoverlabel\":{\"align\":\"left\"},\"paper_bgcolor\":\"white\",\"plot_bgcolor\":\"#E5ECF6\",\"polar\":{\"bgcolor\":\"#E5ECF6\",\"angularaxis\":{\"gridcolor\":\"white\",\"linecolor\":\"white\",\"ticks\":\"\"},\"radialaxis\":{\"gridcolor\":\"white\",\"linecolor\":\"white\",\"ticks\":\"\"}},\"ternary\":{\"bgcolor\":\"#E5ECF6\",\"aaxis\":{\"gridcolor\":\"white\",\"linecolor\":\"white\",\"ticks\":\"\"},\"baxis\":{\"gridcolor\":\"white\",\"linecolor\":\"white\",\"ticks\":\"\"},\"caxis\":{\"gridcolor\":\"white\",\"linecolor\":\"white\",\"ticks\":\"\"}},\"coloraxis\":{\"colorbar\":{\"outlinewidth\":0,\"ticks\":\"\"}},\"colorscale\":{\"sequential\":[[0.0,\"#0d0887\"],[0.1111111111111111,\"#46039f\"],[0.2222222222222222,\"#7201a8\"],[0.3333333333333333,\"#9c179e\"],[0.4444444444444444,\"#bd3786\"],[0.5555555555555556,\"#d8576b\"],[0.6666666666666666,\"#ed7953\"],[0.7777777777777778,\"#fb9f3a\"],[0.8888888888888888,\"#fdca26\"],[1.0,\"#f0f921\"]],\"sequentialminus\":[[0.0,\"#0d0887\"],[0.1111111111111111,\"#46039f\"],[0.2222222222222222,\"#7201a8\"],[0.3333333333333333,\"#9c179e\"],[0.4444444444444444,\"#bd3786\"],[0.5555555555555556,\"#d8576b\"],[0.6666666666666666,\"#ed7953\"],[0.7777777777777778,\"#fb9f3a\"],[0.8888888888888888,\"#fdca26\"],[1.0,\"#f0f921\"]],\"diverging\":[[0,\"#8e0152\"],[0.1,\"#c51b7d\"],[0.2,\"#de77ae\"],[0.3,\"#f1b6da\"],[0.4,\"#fde0ef\"],[0.5,\"#f7f7f7\"],[0.6,\"#e6f5d0\"],[0.7,\"#b8e186\"],[0.8,\"#7fbc41\"],[0.9,\"#4d9221\"],[1,\"#276419\"]]},\"xaxis\":{\"gridcolor\":\"white\",\"linecolor\":\"white\",\"ticks\":\"\",\"title\":{\"standoff\":15},\"zerolinecolor\":\"white\",\"automargin\":true,\"zerolinewidth\":2},\"yaxis\":{\"gridcolor\":\"white\",\"linecolor\":\"white\",\"ticks\":\"\",\"title\":{\"standoff\":15},\"zerolinecolor\":\"white\",\"automargin\":true,\"zerolinewidth\":2},\"scene\":{\"xaxis\":{\"backgroundcolor\":\"#E5ECF6\",\"gridcolor\":\"white\",\"linecolor\":\"white\",\"showbackground\":true,\"ticks\":\"\",\"zerolinecolor\":\"white\",\"gridwidth\":2},\"yaxis\":{\"backgroundcolor\":\"#E5ECF6\",\"gridcolor\":\"white\",\"linecolor\":\"white\",\"showbackground\":true,\"ticks\":\"\",\"zerolinecolor\":\"white\",\"gridwidth\":2},\"zaxis\":{\"backgroundcolor\":\"#E5ECF6\",\"gridcolor\":\"white\",\"linecolor\":\"white\",\"showbackground\":true,\"ticks\":\"\",\"zerolinecolor\":\"white\",\"gridwidth\":2}},\"shapedefaults\":{\"line\":{\"color\":\"#2a3f5f\"}},\"annotationdefaults\":{\"arrowcolor\":\"#2a3f5f\",\"arrowhead\":0,\"arrowwidth\":1},\"geo\":{\"bgcolor\":\"white\",\"landcolor\":\"#E5ECF6\",\"subunitcolor\":\"white\",\"showland\":true,\"showlakes\":true,\"lakecolor\":\"white\"},\"title\":{\"x\":0.05},\"mapbox\":{\"style\":\"light\"}}},\"xaxis\":{\"anchor\":\"y\",\"domain\":[0.0,1.0],\"scaleanchor\":\"y\",\"constrain\":\"domain\",\"title\":{\"text\":\"Token Index\"},\"tickmode\":\"array\",\"tickvals\":[0,1,2,3,4,5,6,7,8,9,10,11,12,13,14,15],\"ticktext\":[\"1998\",\"Tuesday\",\"Saturday\",\"1920\",\"ruby\",\"Thursday\",\"1920\",\"1930\",\"Wednesday\",\"javascript\",\"Friday\",\"python\",\"swift\",\"65\",\"java\",\"Tuesday\"]},\"yaxis\":{\"anchor\":\"x\",\"domain\":[0.0,1.0],\"autorange\":\"reversed\",\"constrain\":\"domain\",\"title\":{\"text\":\"Token Index\"},\"tickmode\":\"array\",\"tickvals\":[0,1,2,3,4,5,6,7,8,9,10,11,12,13,14,15],\"ticktext\":[\"1998\",\"Tuesday\",\"Saturday\",\"1920\",\"ruby\",\"Thursday\",\"1920\",\"1930\",\"Wednesday\",\"javascript\",\"Friday\",\"python\",\"swift\",\"65\",\"java\",\"Tuesday\"]},\"coloraxis\":{\"colorbar\":{\"title\":{\"text\":\"Same Category\"}},\"colorscale\":[[0.0,\"#0d0887\"],[0.1111111111111111,\"#46039f\"],[0.2222222222222222,\"#7201a8\"],[0.3333333333333333,\"#9c179e\"],[0.4444444444444444,\"#bd3786\"],[0.5555555555555556,\"#d8576b\"],[0.6666666666666666,\"#ed7953\"],[0.7777777777777778,\"#fb9f3a\"],[0.8888888888888888,\"#fdca26\"],[1.0,\"#f0f921\"]]},\"margin\":{\"t\":60}},                        {\"responsive\": true}                    ).then(function(){\n",
              "                            \n",
              "var gd = document.getElementById('383c41b6-7d4e-4de9-a9cb-f3ece6b1a77c');\n",
              "var x = new MutationObserver(function (mutations, observer) {{\n",
              "        var display = window.getComputedStyle(gd).display;\n",
              "        if (!display || display === 'none') {{\n",
              "            console.log([gd, 'removed!']);\n",
              "            Plotly.purge(gd);\n",
              "            observer.disconnect();\n",
              "        }}\n",
              "}});\n",
              "\n",
              "// Listen for the removal of the full notebook cells\n",
              "var notebookContainer = gd.closest('#notebook-container');\n",
              "if (notebookContainer) {{\n",
              "    x.observe(notebookContainer, {childList: true});\n",
              "}}\n",
              "\n",
              "// Listen for the clearing of the current output cell\n",
              "var outputEl = gd.closest('.output');\n",
              "if (outputEl) {{\n",
              "    x.observe(outputEl, {childList: true});\n",
              "}}\n",
              "\n",
              "                        })                };                            </script>        </div>\n",
              "</body>\n",
              "</html>"
            ]
          },
          "metadata": {}
        }
      ]
    },
    {
      "cell_type": "markdown",
      "source": [
        "### Load & test gpt2-small:"
      ],
      "metadata": {
        "id": "QvvWExRYkTdI"
      }
    },
    {
      "cell_type": "code",
      "source": [
        "model = HookedTransformer.from_pretrained(\"gpt2-small\", device=\"cpu\")\n",
        "print(model.cfg)"
      ],
      "metadata": {
        "colab": {
          "base_uri": "https://localhost:8080/"
        },
        "id": "TlwpExqFkZ9w",
        "outputId": "d721cbe6-1ce2-4dfe-c714-85f6af44eeda"
      },
      "execution_count": 82,
      "outputs": [
        {
          "output_type": "stream",
          "name": "stdout",
          "text": [
            "Loaded pretrained model gpt2-small into HookedTransformer\n",
            "HookedTransformerConfig:\n",
            "{'NTK_by_parts_factor': 8.0,\n",
            " 'NTK_by_parts_high_freq_factor': 4.0,\n",
            " 'NTK_by_parts_low_freq_factor': 1.0,\n",
            " 'act_fn': 'gelu_new',\n",
            " 'attention_dir': 'causal',\n",
            " 'attn_only': False,\n",
            " 'attn_scale': 8.0,\n",
            " 'attn_scores_soft_cap': -1.0,\n",
            " 'attn_types': None,\n",
            " 'checkpoint_index': None,\n",
            " 'checkpoint_label_type': None,\n",
            " 'checkpoint_value': None,\n",
            " 'd_head': 64,\n",
            " 'd_mlp': 3072,\n",
            " 'd_model': 768,\n",
            " 'd_vocab': 50257,\n",
            " 'd_vocab_out': 50257,\n",
            " 'decoder_start_token_id': None,\n",
            " 'default_prepend_bos': True,\n",
            " 'device': 'cpu',\n",
            " 'dtype': torch.float32,\n",
            " 'eps': 1e-05,\n",
            " 'experts_per_token': None,\n",
            " 'final_rms': False,\n",
            " 'from_checkpoint': False,\n",
            " 'gated_mlp': False,\n",
            " 'init_mode': 'gpt2',\n",
            " 'init_weights': False,\n",
            " 'initializer_range': 0.02886751345948129,\n",
            " 'load_in_4bit': False,\n",
            " 'model_name': 'gpt2',\n",
            " 'n_ctx': 1024,\n",
            " 'n_devices': 1,\n",
            " 'n_heads': 12,\n",
            " 'n_key_value_heads': None,\n",
            " 'n_layers': 12,\n",
            " 'n_params': 84934656,\n",
            " 'normalization_type': 'LNPre',\n",
            " 'num_experts': None,\n",
            " 'original_architecture': 'GPT2LMHeadModel',\n",
            " 'output_logits_soft_cap': -1.0,\n",
            " 'parallel_attn_mlp': False,\n",
            " 'positional_embedding_type': 'standard',\n",
            " 'post_embedding_ln': False,\n",
            " 'relative_attention_max_distance': None,\n",
            " 'relative_attention_num_buckets': None,\n",
            " 'rotary_adjacent_pairs': False,\n",
            " 'rotary_base': 10000,\n",
            " 'rotary_dim': None,\n",
            " 'scale_attn_by_inverse_layer_idx': False,\n",
            " 'seed': None,\n",
            " 'tie_word_embeddings': False,\n",
            " 'tokenizer_name': 'gpt2',\n",
            " 'tokenizer_prepends_bos': False,\n",
            " 'trust_remote_code': False,\n",
            " 'ungroup_grouped_query_attention': False,\n",
            " 'use_NTK_by_parts_rope': False,\n",
            " 'use_attn_in': False,\n",
            " 'use_attn_result': False,\n",
            " 'use_attn_scale': True,\n",
            " 'use_hook_mlp_in': False,\n",
            " 'use_hook_tokens': False,\n",
            " 'use_local_attn': False,\n",
            " 'use_normalization_before_and_after': False,\n",
            " 'use_split_qkv_input': False,\n",
            " 'window_size': None}\n"
          ]
        }
      ]
    },
    {
      "cell_type": "code",
      "source": [
        "# run model on selected sequence & cache activation\n",
        "sequence_index = 1\n",
        "test_input = ' '.join([inputs[sequence_index, i][1] for i in range(n_tokens)])\n",
        "print(\"input: \" + test_input)\n",
        "input_tokens = model.to_tokens(test_input)\n",
        "logits, cache = model.run_with_cache(input_tokens)"
      ],
      "metadata": {
        "colab": {
          "base_uri": "https://localhost:8080/"
        },
        "id": "yub7MsEKlDa4",
        "outputId": "1e37aa9b-03ec-4c52-d965-5ecb1599de24"
      },
      "execution_count": 113,
      "outputs": [
        {
          "output_type": "stream",
          "name": "stdout",
          "text": [
            "input: 1998 Tuesday Saturday 1920 ruby Thursday 1920 1930 Wednesday javascript Friday python swift 65 java Tuesday\n"
          ]
        }
      ]
    },
    {
      "cell_type": "code",
      "source": [
        "layer1_patterns = cache[\"pattern\", 1]\n",
        "print(layer1_patterns.shape)\n",
        "print(input_tokens.shape)\n",
        "print(input_tokens.squeeze())\n",
        "str_tokens = model.to_str_tokens(input_tokens.squeeze())\n",
        "\n",
        "display(\n",
        "    cv.attention.attention_patterns(\n",
        "        tokens=str_tokens,\n",
        "        attention=layer1_patterns.squeeze(),\n",
        "        attention_head_names=[f\"L1H{i}\" for i in range(12)],\n",
        "    )\n",
        ")"
      ],
      "metadata": {
        "colab": {
          "base_uri": "https://localhost:8080/",
          "height": 428
        },
        "id": "WtbV05XCm252",
        "outputId": "d9b9b9a5-6be8-45a1-c2ab-9b46fd530d54"
      },
      "execution_count": 114,
      "outputs": [
        {
          "output_type": "stream",
          "name": "stdout",
          "text": [
            "torch.Size([1, 12, 17, 17])\n",
            "torch.Size([1, 17])\n",
            "tensor([50256, 21113,  3431,  3909, 14062, 43506,  3635, 14062, 15533,  3583,\n",
            "        44575,  3217, 21015, 14622,  6135, 20129,  3431])\n"
          ]
        },
        {
          "output_type": "display_data",
          "data": {
            "text/plain": [
              "<circuitsvis.utils.render.RenderedHTML at 0x7f2dc08d4910>"
            ],
            "text/html": [
              "<div id=\"circuits-vis-f57714af-68f1\" style=\"margin: 15px 0;\"/>\n",
              "    <script crossorigin type=\"module\">\n",
              "    import { render, AttentionPatterns } from \"https://unpkg.com/circuitsvis@1.41.0/dist/cdn/esm.js\";\n",
              "    render(\n",
              "      \"circuits-vis-f57714af-68f1\",\n",
              "      AttentionPatterns,\n",
              "      {\"tokens\": [\"<|endoftext|>\", \"1998\", \" Tuesday\", \" Saturday\", \" 1920\", \" ruby\", \" Thursday\", \" 1920\", \" 1930\", \" Wednesday\", \" javascript\", \" Friday\", \" python\", \" swift\", \" 65\", \" java\", \" Tuesday\"], \"attention\": [[[1.0, 0.0, 0.0, 0.0, 0.0, 0.0, 0.0, 0.0, 0.0, 0.0, 0.0, 0.0, 0.0, 0.0, 0.0, 0.0, 0.0], [0.9728808999061584, 0.02711915597319603, 0.0, 0.0, 0.0, 0.0, 0.0, 0.0, 0.0, 0.0, 0.0, 0.0, 0.0, 0.0, 0.0, 0.0, 0.0], [0.4993797540664673, 0.22046969830989838, 0.2801505923271179, 0.0, 0.0, 0.0, 0.0, 0.0, 0.0, 0.0, 0.0, 0.0, 0.0, 0.0, 0.0, 0.0, 0.0], [0.27256321907043457, 0.13459216058254242, 0.4251747727394104, 0.16766995191574097, 0.0, 0.0, 0.0, 0.0, 0.0, 0.0, 0.0, 0.0, 0.0, 0.0, 0.0, 0.0, 0.0], [0.12231192737817764, 0.08131127804517746, 0.3083876371383667, 0.37652844190597534, 0.11146076768636703, 0.0, 0.0, 0.0, 0.0, 0.0, 0.0, 0.0, 0.0, 0.0, 0.0, 0.0, 0.0], [0.10798442363739014, 0.0757376104593277, 0.13280829787254333, 0.15917545557022095, 0.2041407972574234, 0.3201533854007721, 0.0, 0.0, 0.0, 0.0, 0.0, 0.0, 0.0, 0.0, 0.0, 0.0, 0.0], [0.13278399407863617, 0.04892326146364212, 0.18230889737606049, 0.13713788986206055, 0.1934872269630432, 0.13782824575901031, 0.16753046214580536, 0.0, 0.0, 0.0, 0.0, 0.0, 0.0, 0.0, 0.0, 0.0, 0.0], [0.04167955741286278, 0.025153763592243195, 0.12341896444559097, 0.15445120632648468, 0.043968167155981064, 0.05286291986703873, 0.4719262421131134, 0.08653923869132996, 0.0, 0.0, 0.0, 0.0, 0.0, 0.0, 0.0, 0.0, 0.0], [0.05019567534327507, 0.018310250714421272, 0.15600603818893433, 0.12370279431343079, 0.04590216651558876, 0.04697885364294052, 0.3524630665779114, 0.08733108639717102, 0.11911004781723022, 0.0, 0.0, 0.0, 0.0, 0.0, 0.0, 0.0, 0.0], [0.05140843242406845, 0.015997648239135742, 0.05550755560398102, 0.07023994624614716, 0.04886721819639206, 0.04230868071317673, 0.0999726951122284, 0.09481284767389297, 0.2698482275009155, 0.25103679299354553, 0.0, 0.0, 0.0, 0.0, 0.0, 0.0, 0.0], [0.027591805905103683, 0.014379441738128662, 0.048184141516685486, 0.03664233535528183, 0.04154963791370392, 0.10760144889354706, 0.06806467473506927, 0.0713338553905487, 0.07807941734790802, 0.17972883582115173, 0.3268444538116455, 0.0, 0.0, 0.0, 0.0, 0.0, 0.0], [0.02591458521783352, 0.008766976185142994, 0.03340134769678116, 0.02413650043308735, 0.03971133381128311, 0.017016761004924774, 0.04706942290067673, 0.07538127154111862, 0.17528343200683594, 0.1830635815858841, 0.13805519044399261, 0.2321995496749878, 0.0, 0.0, 0.0, 0.0, 0.0], [0.013541274704039097, 0.007795627694576979, 0.018062284216284752, 0.018868857994675636, 0.02411877177655697, 0.04505064710974693, 0.036034874618053436, 0.03973861411213875, 0.0663721039891243, 0.0908282920718193, 0.24813374876976013, 0.14722761511802673, 0.24422724545001984, 0.0, 0.0, 0.0, 0.0], [0.01907954178750515, 0.0040463292971253395, 0.007172714453190565, 0.007955897599458694, 0.029695207253098488, 0.02494063787162304, 0.01099479477852583, 0.04795112833380699, 0.04831038787961006, 0.03209056332707405, 0.16296926140785217, 0.061454903334379196, 0.28332918882369995, 0.26000937819480896, 0.0, 0.0, 0.0], [0.013787278905510902, 0.004287818446755409, 0.011481231078505516, 0.011691800318658352, 0.027714695781469345, 0.010929839685559273, 0.01981285959482193, 0.04523512348532677, 0.04917559027671814, 0.04525630921125412, 0.07752140611410141, 0.12559521198272705, 0.1350938379764557, 0.14881594479084015, 0.2736010253429413, 0.0, 0.0], [0.02505231834948063, 0.0029744752682745457, 0.005944200791418552, 0.005824395455420017, 0.006787309423089027, 0.02422982268035412, 0.008180731907486916, 0.010380362160503864, 0.009416584856808186, 0.016956893727183342, 0.100540891289711, 0.04215477779507637, 0.2048301100730896, 0.18159805238246918, 0.06006895378232002, 0.2950601875782013, 0.0], [0.016489624977111816, 0.003288063919171691, 0.006093029864132404, 0.015045353211462498, 0.006295179948210716, 0.003453758778050542, 0.020366640761494637, 0.01129155419766903, 0.037662506103515625, 0.034180283546447754, 0.024986131116747856, 0.08331833779811859, 0.033422376960515976, 0.07619710266590118, 0.14790943264961243, 0.23297519981861115, 0.24702543020248413]], [[1.0, 0.0, 0.0, 0.0, 0.0, 0.0, 0.0, 0.0, 0.0, 0.0, 0.0, 0.0, 0.0, 0.0, 0.0, 0.0, 0.0], [0.9616016745567322, 0.0383983850479126, 0.0, 0.0, 0.0, 0.0, 0.0, 0.0, 0.0, 0.0, 0.0, 0.0, 0.0, 0.0, 0.0, 0.0, 0.0], [0.7382210493087769, 0.1654294729232788, 0.09634954482316971, 0.0, 0.0, 0.0, 0.0, 0.0, 0.0, 0.0, 0.0, 0.0, 0.0, 0.0, 0.0, 0.0, 0.0], [0.5363062620162964, 0.19454528391361237, 0.12089952081441879, 0.14824895560741425, 0.0, 0.0, 0.0, 0.0, 0.0, 0.0, 0.0, 0.0, 0.0, 0.0, 0.0, 0.0, 0.0], [0.4206998944282532, 0.08057375997304916, 0.16434858739376068, 0.19859781861305237, 0.1357799470424652, 0.0, 0.0, 0.0, 0.0, 0.0, 0.0, 0.0, 0.0, 0.0, 0.0, 0.0, 0.0], [0.35873010754585266, 0.09483969956636429, 0.10540319234132767, 0.12603002786636353, 0.17163801193237305, 0.14335884153842926, 0.0, 0.0, 0.0, 0.0, 0.0, 0.0, 0.0, 0.0, 0.0, 0.0, 0.0], [0.3565056622028351, 0.07529029995203018, 0.06154341623187065, 0.09258858114480972, 0.1476995199918747, 0.14233575761318207, 0.12403679639101028, 0.0, 0.0, 0.0, 0.0, 0.0, 0.0, 0.0, 0.0, 0.0, 0.0], [0.22496220469474792, 0.03283151611685753, 0.08846312761306763, 0.10726703703403473, 0.05975043773651123, 0.12760362029075623, 0.22768935561180115, 0.13143262267112732, 0.0, 0.0, 0.0, 0.0, 0.0, 0.0, 0.0, 0.0, 0.0], [0.20723126828670502, 0.023296670988202095, 0.06996112316846848, 0.08984774351119995, 0.051036395132541656, 0.0981561690568924, 0.16477741301059723, 0.11670268326997757, 0.17899055778980255, 0.0, 0.0, 0.0, 0.0, 0.0, 0.0, 0.0, 0.0], [0.18308818340301514, 0.032292697578668594, 0.028040336444973946, 0.04545871540904045, 0.0690741315484047, 0.06272190064191818, 0.06196465715765953, 0.15170474350452423, 0.22237321734428406, 0.143281489610672, 0.0, 0.0, 0.0, 0.0, 0.0, 0.0, 0.0], [0.13252763450145721, 0.02750902809202671, 0.03372926637530327, 0.03671590983867645, 0.04792468249797821, 0.04354875534772873, 0.0737275779247284, 0.09683986753225327, 0.1786322295665741, 0.17668603360652924, 0.1521589607000351, 0.0, 0.0, 0.0, 0.0, 0.0, 0.0], [0.086058609187603, 0.016159839928150177, 0.01715606264770031, 0.022796785458922386, 0.03305237367749214, 0.04016689583659172, 0.038162097334861755, 0.0745861679315567, 0.12906892597675323, 0.10261954367160797, 0.2771097719669342, 0.16306287050247192, 0.0, 0.0, 0.0, 0.0, 0.0], [0.06399045139551163, 0.012998336926102638, 0.021157652139663696, 0.024603862315416336, 0.025881478562951088, 0.0184344295412302, 0.04831823334097862, 0.054372768849134445, 0.09509755671024323, 0.12676028907299042, 0.13421088457107544, 0.22521650791168213, 0.1489575207233429, 0.0, 0.0, 0.0, 0.0], [0.08175612986087799, 0.011722343973815441, 0.027254853397607803, 0.027529597282409668, 0.018375404179096222, 0.015029712580144405, 0.05342444032430649, 0.03658687695860863, 0.06721953302621841, 0.1250852346420288, 0.1000814214348793, 0.1954103261232376, 0.13507652282714844, 0.10544760525226593, 0.0, 0.0, 0.0], [0.07335607707500458, 0.005556803196668625, 0.014731756411492825, 0.01788795366883278, 0.014916123822331429, 0.015988070517778397, 0.03146330639719963, 0.030097588896751404, 0.04667069390416145, 0.07512273639440536, 0.10360149294137955, 0.1306593120098114, 0.10931865870952606, 0.13853511214256287, 0.19209431111812592, 0.0, 0.0], [0.06984671205282211, 0.009036685340106487, 0.0137607017531991, 0.013394658453762531, 0.019118694588541985, 0.012438870966434479, 0.02233976125717163, 0.034621234983205795, 0.0474562831223011, 0.04809621348977089, 0.07128077000379562, 0.08123653382062912, 0.08720528334379196, 0.08774185925722122, 0.22017773985862732, 0.16224801540374756, 0.0], [0.06278393417596817, 0.005074614193290472, 0.006538576912134886, 0.009711629711091518, 0.0096766147762537, 0.009263522922992706, 0.012238769792020321, 0.017802102491259575, 0.02394060231745243, 0.026362771168351173, 0.062312569469213486, 0.0493999645113945, 0.06364176422357559, 0.07502254843711853, 0.10418958961963654, 0.2701464891433716, 0.19189393520355225]], [[1.0, 0.0, 0.0, 0.0, 0.0, 0.0, 0.0, 0.0, 0.0, 0.0, 0.0, 0.0, 0.0, 0.0, 0.0, 0.0, 0.0], [0.980755090713501, 0.01924494095146656, 0.0, 0.0, 0.0, 0.0, 0.0, 0.0, 0.0, 0.0, 0.0, 0.0, 0.0, 0.0, 0.0, 0.0, 0.0], [0.8252890706062317, 0.039438627660274506, 0.1352723091840744, 0.0, 0.0, 0.0, 0.0, 0.0, 0.0, 0.0, 0.0, 0.0, 0.0, 0.0, 0.0, 0.0, 0.0], [0.6708371043205261, 0.0414043553173542, 0.13114997744560242, 0.15660850703716278, 0.0, 0.0, 0.0, 0.0, 0.0, 0.0, 0.0, 0.0, 0.0, 0.0, 0.0, 0.0, 0.0], [0.4803084433078766, 0.04450542852282524, 0.12343098223209381, 0.14214780926704407, 0.20960725843906403, 0.0, 0.0, 0.0, 0.0, 0.0, 0.0, 0.0, 0.0, 0.0, 0.0, 0.0, 0.0], [0.37803736329078674, 0.034627754241228104, 0.09733523428440094, 0.11586985737085342, 0.1759527325630188, 0.19817708432674408, 0.0, 0.0, 0.0, 0.0, 0.0, 0.0, 0.0, 0.0, 0.0, 0.0, 0.0], [0.3251064717769623, 0.03087194636464119, 0.0855403020977974, 0.09908425062894821, 0.14593864977359772, 0.1719430834054947, 0.14151525497436523, 0.0, 0.0, 0.0, 0.0, 0.0, 0.0, 0.0, 0.0, 0.0, 0.0], [0.23731325566768646, 0.03148945793509483, 0.07736172527074814, 0.08677337318658829, 0.12931866943836212, 0.14613613486289978, 0.11803938448429108, 0.1735679805278778, 0.0, 0.0, 0.0, 0.0, 0.0, 0.0, 0.0, 0.0, 0.0], [0.19873806834220886, 0.027324458584189415, 0.0656268447637558, 0.07416422665119171, 0.11317035555839539, 0.12536920607089996, 0.10246462374925613, 0.1546436846256256, 0.13849854469299316, 0.0, 0.0, 0.0, 0.0, 0.0, 0.0, 0.0, 0.0], [0.17422416806221008, 0.023447951301932335, 0.05806095898151398, 0.06593812257051468, 0.09656421095132828, 0.11165248602628708, 0.09298821538686752, 0.13383512198925018, 0.12076541781425476, 0.12252330780029297, 0.0, 0.0, 0.0, 0.0, 0.0, 0.0, 0.0], [0.14851434528827667, 0.02257874421775341, 0.05202972888946533, 0.057697512209415436, 0.08312545716762543, 0.09265846759080887, 0.07952342182397842, 0.11050122231245041, 0.10115853697061539, 0.10315407812595367, 0.1490584760904312, 0.0, 0.0, 0.0, 0.0, 0.0, 0.0], [0.12052913755178452, 0.020499402657151222, 0.045870743691921234, 0.05086086690425873, 0.07409325987100601, 0.08520744740962982, 0.07095988094806671, 0.10073407739400864, 0.09076394140720367, 0.09433399140834808, 0.13782458007335663, 0.10832267999649048, 0.0, 0.0, 0.0, 0.0, 0.0], [0.09686487913131714, 0.01847180351614952, 0.03966134041547775, 0.04375365376472473, 0.06434477865695953, 0.07030235975980759, 0.06098107993602753, 0.08594080060720444, 0.0797509253025055, 0.0805896446108818, 0.11887304484844208, 0.09483117610216141, 0.1456344574689865, 0.0, 0.0, 0.0, 0.0], [0.08368448168039322, 0.017884379252791405, 0.03624363988637924, 0.039627641439437866, 0.058698128908872604, 0.06406768411397934, 0.05436333641409874, 0.07709389179944992, 0.06978555768728256, 0.07197368890047073, 0.10715705156326294, 0.08464039117097855, 0.13080140948295593, 0.10397867858409882, 0.0, 0.0, 0.0], [0.0745043158531189, 0.018489032983779907, 0.034183453768491745, 0.03624258562922478, 0.05469946935772896, 0.05710095539689064, 0.04915115609765053, 0.07001116126775742, 0.0633213073015213, 0.06374446302652359, 0.09043346345424652, 0.07296130061149597, 0.10819054394960403, 0.08440568298101425, 0.12256117165088654, 0.0, 0.0], [0.05961934104561806, 0.016262851655483246, 0.02940148301422596, 0.03179890662431717, 0.04603545740246773, 0.04872281104326248, 0.0418420247733593, 0.05788310989737511, 0.052053555846214294, 0.053673628717660904, 0.07490361481904984, 0.06358953565359116, 0.095130056142807, 0.07803868502378464, 0.11203734576702118, 0.13900762796401978, 0.0], [0.0537077970802784, 0.016274090856313705, 0.028228087350726128, 0.02957676537334919, 0.04144877940416336, 0.04430098831653595, 0.038733676075935364, 0.0516718365252018, 0.04673681780695915, 0.04959072172641754, 0.0691843181848526, 0.056783515959978104, 0.08242835849523544, 0.06653547286987305, 0.09290139377117157, 0.12177295982837677, 0.11012441664934158]], [[1.0, 0.0, 0.0, 0.0, 0.0, 0.0, 0.0, 0.0, 0.0, 0.0, 0.0, 0.0, 0.0, 0.0, 0.0, 0.0, 0.0], [0.626272976398468, 0.3737269937992096, 0.0, 0.0, 0.0, 0.0, 0.0, 0.0, 0.0, 0.0, 0.0, 0.0, 0.0, 0.0, 0.0, 0.0, 0.0], [0.5979521870613098, 0.18365684151649475, 0.21839094161987305, 0.0, 0.0, 0.0, 0.0, 0.0, 0.0, 0.0, 0.0, 0.0, 0.0, 0.0, 0.0, 0.0, 0.0], [0.5428294539451599, 0.13195063173770905, 0.16484159231185913, 0.1603783518075943, 0.0, 0.0, 0.0, 0.0, 0.0, 0.0, 0.0, 0.0, 0.0, 0.0, 0.0, 0.0, 0.0], [0.5222815275192261, 0.09619885683059692, 0.12626250088214874, 0.12735839188098907, 0.1278986781835556, 0.0, 0.0, 0.0, 0.0, 0.0, 0.0, 0.0, 0.0, 0.0, 0.0, 0.0, 0.0], [0.525511622428894, 0.06891626119613647, 0.09764768183231354, 0.09985139966011047, 0.10613372921943665, 0.10193929076194763, 0.0, 0.0, 0.0, 0.0, 0.0, 0.0, 0.0, 0.0, 0.0, 0.0, 0.0], [0.4826032519340515, 0.06411615759134293, 0.0852835476398468, 0.0848773941397667, 0.08906309306621552, 0.09045735001564026, 0.10359921306371689, 0.0, 0.0, 0.0, 0.0, 0.0, 0.0, 0.0, 0.0, 0.0, 0.0], [0.48455798625946045, 0.04941127821803093, 0.07004217803478241, 0.07167205214500427, 0.07410911470651627, 0.07601964473724365, 0.09073389321565628, 0.08345377445220947, 0.0, 0.0, 0.0, 0.0, 0.0, 0.0, 0.0, 0.0, 0.0], [0.4801449179649353, 0.04222063720226288, 0.05982138216495514, 0.06101677194237709, 0.06456753611564636, 0.06539976596832275, 0.07807095348834991, 0.07362844049930573, 0.07512949407100677, 0.0, 0.0, 0.0, 0.0, 0.0, 0.0, 0.0, 0.0], [0.4802582263946533, 0.0365184061229229, 0.051540784537792206, 0.051705438643693924, 0.05573190376162529, 0.05562272295355797, 0.0665913000702858, 0.06267835199832916, 0.06353553384542465, 0.0758173018693924, 0.0, 0.0, 0.0, 0.0, 0.0, 0.0, 0.0], [0.48825013637542725, 0.02915343828499317, 0.0431213453412056, 0.042787883430719376, 0.04749023914337158, 0.04557693377137184, 0.05809086188673973, 0.05477951839566231, 0.054779063910245895, 0.06926445662975311, 0.06670618802309036, 0.0, 0.0, 0.0, 0.0, 0.0, 0.0], [0.49370652437210083, 0.025760646909475327, 0.03732196241617203, 0.037208423018455505, 0.04068310558795929, 0.040211271494627, 0.04925396293401718, 0.046093232929706573, 0.04737822338938713, 0.05769095942378044, 0.06135149672627449, 0.0633402094244957, 0.0, 0.0, 0.0, 0.0, 0.0], [0.475781112909317, 0.02214961126446724, 0.033580977469682693, 0.03407888114452362, 0.03732564300298691, 0.03597511723637581, 0.045770563185214996, 0.04306313768029213, 0.04411576688289642, 0.05472204089164734, 0.053392767906188965, 0.06055429205298424, 0.05949012190103531, 0.0, 0.0, 0.0, 0.0], [0.4910220503807068, 0.01921011321246624, 0.03017459064722061, 0.02983686700463295, 0.03246423974633217, 0.030476797372102737, 0.04030269756913185, 0.03725790977478027, 0.037928804755210876, 0.04876966401934624, 0.04830806329846382, 0.05523965135216713, 0.055104441940784454, 0.04390410706400871, 0.0, 0.0, 0.0], [0.5180655717849731, 0.01571563445031643, 0.024805208668112755, 0.025399446487426758, 0.027569996193051338, 0.026522886008024216, 0.03394748643040657, 0.03091093897819519, 0.03197600692510605, 0.03948988392949104, 0.04077370464801788, 0.04347890987992287, 0.046224214136600494, 0.03951820358633995, 0.055601898580789566, 0.0, 0.0], [0.5362389087677002, 0.013858867809176445, 0.02135155163705349, 0.021329693496227264, 0.022943267598748207, 0.02117091603577137, 0.028884107246994972, 0.02610747329890728, 0.02684125117957592, 0.03490595892071724, 0.03344400227069855, 0.039113063365221024, 0.03768415004014969, 0.033960405737161636, 0.05175215005874634, 0.05041422322392464, 0.0], [0.5499548316001892, 0.012614957988262177, 0.018854491412639618, 0.01821817271411419, 0.01955275982618332, 0.01840779185295105, 0.02464442513883114, 0.02155214548110962, 0.021892914548516273, 0.028753792867064476, 0.029852252453565598, 0.03187350183725357, 0.03325645625591278, 0.028289195150136948, 0.04306637495756149, 0.04481780156493187, 0.05439826101064682]], [[1.0, 0.0, 0.0, 0.0, 0.0, 0.0, 0.0, 0.0, 0.0, 0.0, 0.0, 0.0, 0.0, 0.0, 0.0, 0.0, 0.0], [0.8826436996459961, 0.1173563152551651, 0.0, 0.0, 0.0, 0.0, 0.0, 0.0, 0.0, 0.0, 0.0, 0.0, 0.0, 0.0, 0.0, 0.0, 0.0], [0.7754335999488831, 0.11451937258243561, 0.11004702746868134, 0.0, 0.0, 0.0, 0.0, 0.0, 0.0, 0.0, 0.0, 0.0, 0.0, 0.0, 0.0, 0.0, 0.0], [0.7029154896736145, 0.09807491302490234, 0.0909060463309288, 0.10810355097055435, 0.0, 0.0, 0.0, 0.0, 0.0, 0.0, 0.0, 0.0, 0.0, 0.0, 0.0, 0.0, 0.0], [0.608788251876831, 0.10029228776693344, 0.08098414540290833, 0.09105318784713745, 0.11888204514980316, 0.0, 0.0, 0.0, 0.0, 0.0, 0.0, 0.0, 0.0, 0.0, 0.0, 0.0, 0.0], [0.5812461376190186, 0.0673387348651886, 0.05942632630467415, 0.06932276487350464, 0.08491820096969604, 0.1377478390932083, 0.0, 0.0, 0.0, 0.0, 0.0, 0.0, 0.0, 0.0, 0.0, 0.0, 0.0], [0.46399104595184326, 0.06677897274494171, 0.06716826558113098, 0.07953914999961853, 0.09317538887262344, 0.13732652366161346, 0.09202060103416443, 0.0, 0.0, 0.0, 0.0, 0.0, 0.0, 0.0, 0.0, 0.0, 0.0], [0.45960715413093567, 0.06773671507835388, 0.056012388318777084, 0.06233831122517586, 0.0814826563000679, 0.11267467588186264, 0.06806808710098267, 0.09208006411790848, 0.0, 0.0, 0.0, 0.0, 0.0, 0.0, 0.0, 0.0, 0.0], [0.4397842288017273, 0.058944039046764374, 0.047961488366127014, 0.05358700826764107, 0.07247544080018997, 0.10545211285352707, 0.059900496155023575, 0.08397307246923447, 0.0779220312833786, 0.0, 0.0, 0.0, 0.0, 0.0, 0.0, 0.0, 0.0], [0.365962415933609, 0.04871237277984619, 0.04889686405658722, 0.058075450360774994, 0.06727348268032074, 0.09960080683231354, 0.0678151324391365, 0.08045744150876999, 0.07833603024482727, 0.08486998826265335, 0.0, 0.0, 0.0, 0.0, 0.0, 0.0, 0.0], [0.39326706528663635, 0.04594630375504494, 0.040852900594472885, 0.04571041464805603, 0.05613680183887482, 0.08147157728672028, 0.05170522257685661, 0.06470327079296112, 0.062107086181640625, 0.06378171592950821, 0.09431774169206619, 0.0, 0.0, 0.0, 0.0, 0.0, 0.0], [0.32839861512184143, 0.03800444304943085, 0.036990322172641754, 0.043534424155950546, 0.051728326827287674, 0.07674615830183029, 0.05209171772003174, 0.06269778311252594, 0.061716463416814804, 0.06700176000595093, 0.09835655242204666, 0.0827333927154541, 0.0, 0.0, 0.0, 0.0, 0.0], [0.32243379950523376, 0.03679806366562843, 0.033831045031547546, 0.0390084907412529, 0.046197861433029175, 0.0681564062833786, 0.044054675847291946, 0.05362436920404434, 0.050907034426927567, 0.05426871404051781, 0.07810062170028687, 0.0674402266740799, 0.10517865419387817, 0.0, 0.0, 0.0, 0.0], [0.3072530925273895, 0.029424533247947693, 0.02960297465324402, 0.033456698060035706, 0.0399223193526268, 0.05804331228137016, 0.03915264457464218, 0.04737083986401558, 0.04589264467358589, 0.04913017898797989, 0.06821044534444809, 0.06148910149931908, 0.09653303772211075, 0.09451819211244583, 0.0, 0.0, 0.0], [0.24400684237480164, 0.037439487874507904, 0.030999181792140007, 0.03282024338841438, 0.04568864777684212, 0.057838600128889084, 0.03693479672074318, 0.05185279995203018, 0.04819628223776817, 0.04612760618329048, 0.06495951116085052, 0.053481075912714005, 0.08392675966024399, 0.08292383700609207, 0.08280425518751144, 0.0, 0.0], [0.2699122130870819, 0.030635569244623184, 0.027631964534521103, 0.030225438997149467, 0.037067294120788574, 0.04664212837815285, 0.03316286951303482, 0.041817449033260345, 0.038962073624134064, 0.040515393018722534, 0.050020843744277954, 0.04970341920852661, 0.07045741379261017, 0.07010381668806076, 0.07176945358514786, 0.09137260168790817, 0.0], [0.22819343209266663, 0.027203189209103584, 0.026769837364554405, 0.029407912865281105, 0.03451460599899292, 0.04490763694047928, 0.033420413732528687, 0.03870633617043495, 0.03670172393321991, 0.04059617221355438, 0.055327385663986206, 0.0483606718480587, 0.06972821801900864, 0.06532976031303406, 0.06061587482690811, 0.09033496677875519, 0.0698818638920784]], [[1.0, 0.0, 0.0, 0.0, 0.0, 0.0, 0.0, 0.0, 0.0, 0.0, 0.0, 0.0, 0.0, 0.0, 0.0, 0.0, 0.0], [0.7548932433128357, 0.24510669708251953, 0.0, 0.0, 0.0, 0.0, 0.0, 0.0, 0.0, 0.0, 0.0, 0.0, 0.0, 0.0, 0.0, 0.0, 0.0], [0.6743594408035278, 0.02455735206604004, 0.3010832369327545, 0.0, 0.0, 0.0, 0.0, 0.0, 0.0, 0.0, 0.0, 0.0, 0.0, 0.0, 0.0, 0.0, 0.0], [0.17075379192829132, 0.0085500068962574, 0.7788219451904297, 0.041874196380376816, 0.0, 0.0, 0.0, 0.0, 0.0, 0.0, 0.0, 0.0, 0.0, 0.0, 0.0, 0.0, 0.0], [0.38583770394325256, 0.48360496759414673, 0.007147261872887611, 0.014622188173234463, 0.10878782719373703, 0.0, 0.0, 0.0, 0.0, 0.0, 0.0, 0.0, 0.0, 0.0, 0.0, 0.0, 0.0], [0.8151012659072876, 0.027215177193284035, 0.027277212589979172, 0.019593698903918266, 0.0122650982812047, 0.09854757785797119, 0.0, 0.0, 0.0, 0.0, 0.0, 0.0, 0.0, 0.0, 0.0, 0.0, 0.0], [0.15810926258563995, 0.005141940433532, 0.7075581550598145, 0.07205231487751007, 0.002042544772848487, 0.0021820871625095606, 0.05291372537612915, 0.0, 0.0, 0.0, 0.0, 0.0, 0.0, 0.0, 0.0, 0.0, 0.0], [0.252645879983902, 0.42970767617225647, 0.007473333738744259, 0.015936361625790596, 0.1356058269739151, 0.026004480198025703, 0.011157320812344551, 0.12146912515163422, 0.0, 0.0, 0.0, 0.0, 0.0, 0.0, 0.0, 0.0, 0.0], [0.1975088119506836, 0.4203924536705017, 0.02146916836500168, 0.006292408797889948, 0.14022910594940186, 0.0194055438041687, 0.006077529862523079, 0.12302368879318237, 0.06560123711824417, 0.0, 0.0, 0.0, 0.0, 0.0, 0.0, 0.0, 0.0], [0.14311911165714264, 0.0030578202567994595, 0.5037254691123962, 0.14939790964126587, 0.002431535394862294, 0.001574679627083242, 0.14685620367527008, 0.001747809466905892, 0.001081703114323318, 0.04700770974159241, 0.0, 0.0, 0.0, 0.0, 0.0, 0.0, 0.0], [0.657694935798645, 0.03444388508796692, 0.027043238282203674, 0.016165250912308693, 0.01625518873333931, 0.09717410057783127, 0.011132979765534401, 0.010813870467245579, 0.015310382470488548, 0.014167224988341331, 0.09979905188083649, 0.0, 0.0, 0.0, 0.0, 0.0, 0.0], [0.07182741910219193, 0.002119768178090453, 0.23809371888637543, 0.09983710944652557, 0.0010730302892625332, 0.0013110102154314518, 0.1787647008895874, 0.0008149560890160501, 0.0011715764412656426, 0.37509670853614807, 0.0019764790777117014, 0.027913564816117287, 0.0, 0.0, 0.0, 0.0, 0.0], [0.26908615231513977, 0.012020856142044067, 0.009795687161386013, 0.017245877534151077, 0.004505968652665615, 0.10226332396268845, 0.011722488328814507, 0.002753528067842126, 0.011060621589422226, 0.006612105295062065, 0.38885003328323364, 0.008350632153451443, 0.15573275089263916, 0.0, 0.0, 0.0, 0.0], [0.4366081953048706, 0.01954410783946514, 0.024379722774028778, 0.007125084288418293, 0.006464433390647173, 0.06329364329576492, 0.010401873849332333, 0.004070505034178495, 0.006235464941710234, 0.019610486924648285, 0.13479800522327423, 0.005464997608214617, 0.2300914078950882, 0.03191210702061653, 0.0, 0.0, 0.0], [0.3970952332019806, 0.11732478439807892, 0.010320930741727352, 0.001598197384737432, 0.033107493072748184, 0.01989530585706234, 0.004449998494237661, 0.025466863065958023, 0.04307159036397934, 0.004524282645434141, 0.013814207166433334, 0.007818968035280704, 0.027735503390431404, 0.01998293772339821, 0.2737937271595001, 0.0, 0.0], [0.1391032636165619, 0.013409405015408993, 0.00866689532995224, 0.004992329515516758, 0.006233580410480499, 0.0345366969704628, 0.004640293773263693, 0.004206561483442783, 0.00905302818864584, 0.0038708762731403112, 0.3807460069656372, 0.007470271084457636, 0.2763712704181671, 0.048569921404123306, 0.006924416869878769, 0.051205236464738846, 0.0], [0.0487062931060791, 0.0025618085637688637, 0.04533786326646805, 0.17291800677776337, 0.001888382830657065, 0.001996805891394615, 0.3599780797958374, 0.0016198053490370512, 0.003245376516133547, 0.09083416312932968, 0.002860231092199683, 0.22681665420532227, 0.0014561645220965147, 0.010718591511249542, 0.0007290288922376931, 0.00204323697835207, 0.02628960832953453]], [[1.0, 0.0, 0.0, 0.0, 0.0, 0.0, 0.0, 0.0, 0.0, 0.0, 0.0, 0.0, 0.0, 0.0, 0.0, 0.0, 0.0], [0.9639371633529663, 0.0360628180205822, 0.0, 0.0, 0.0, 0.0, 0.0, 0.0, 0.0, 0.0, 0.0, 0.0, 0.0, 0.0, 0.0, 0.0, 0.0], [0.8051199316978455, 0.153706893324852, 0.041173260658979416, 0.0, 0.0, 0.0, 0.0, 0.0, 0.0, 0.0, 0.0, 0.0, 0.0, 0.0, 0.0, 0.0, 0.0], [0.8186480402946472, 0.11250344663858414, 0.027300313115119934, 0.04154812544584274, 0.0, 0.0, 0.0, 0.0, 0.0, 0.0, 0.0, 0.0, 0.0, 0.0, 0.0, 0.0, 0.0], [0.771049976348877, 0.09601885825395584, 0.04100244119763374, 0.05841783061623573, 0.03351091966032982, 0.0, 0.0, 0.0, 0.0, 0.0, 0.0, 0.0, 0.0, 0.0, 0.0, 0.0, 0.0], [0.7980316877365112, 0.0635094940662384, 0.021197279915213585, 0.017774447798728943, 0.010259293019771576, 0.08922775834798813, 0.0, 0.0, 0.0, 0.0, 0.0, 0.0, 0.0, 0.0, 0.0, 0.0, 0.0], [0.7214320302009583, 0.09363402426242828, 0.04980993643403053, 0.06423729658126831, 0.02940092794597149, 0.008167477324604988, 0.03331834450364113, 0.0, 0.0, 0.0, 0.0, 0.0, 0.0, 0.0, 0.0, 0.0, 0.0], [0.7182998061180115, 0.07440219074487686, 0.03464251011610031, 0.05596490949392319, 0.036998994648456573, 0.018092621117830276, 0.038796715438365936, 0.02280229702591896, 0.0, 0.0, 0.0, 0.0, 0.0, 0.0, 0.0, 0.0, 0.0], [0.6491914391517639, 0.11444992572069168, 0.035967011004686356, 0.06127036362886429, 0.04581465944647789, 0.013602043502032757, 0.030312824994325638, 0.02342076413333416, 0.025970924645662308, 0.0, 0.0, 0.0, 0.0, 0.0, 0.0, 0.0, 0.0], [0.6469150185585022, 0.08997857570648193, 0.05648781359195709, 0.06451292335987091, 0.030287472531199455, 0.00824300292879343, 0.04259057343006134, 0.01639946736395359, 0.01985904574394226, 0.024726156145334244, 0.0, 0.0, 0.0, 0.0, 0.0, 0.0, 0.0], [0.7042528390884399, 0.0378558374941349, 0.012861732393503189, 0.011910011060535908, 0.007759295403957367, 0.05894762650132179, 0.009611125104129314, 0.0048135132528841496, 0.0020365980453789234, 0.006584847811609507, 0.1433664858341217, 0.0, 0.0, 0.0, 0.0, 0.0, 0.0], [0.6790503859519958, 0.06251812726259232, 0.038287945091724396, 0.058852020651102066, 0.02081899344921112, 0.004154814872890711, 0.03486524522304535, 0.011944864876568317, 0.015353917144238949, 0.025723136961460114, 0.0047162482514977455, 0.043714310973882675, 0.0, 0.0, 0.0, 0.0, 0.0], [0.612274706363678, 0.019735895097255707, 0.0034393121022731066, 0.006155797280371189, 0.004250322002917528, 0.055520206689834595, 0.0032521274406462908, 0.002562661189585924, 0.0029005168471485376, 0.002679742407053709, 0.044434402137994766, 0.003272463334724307, 0.2395218461751938, 0.0, 0.0, 0.0, 0.0], [0.7098289728164673, 0.017553286626935005, 0.009131209924817085, 0.02864154800772667, 0.006722512189298868, 0.02664436399936676, 0.01162624265998602, 0.0035914515610784292, 0.006462887395173311, 0.007351414300501347, 0.06622204184532166, 0.0108644375577569, 0.06352267414331436, 0.03183695673942566, 0.0, 0.0, 0.0], [0.5793716311454773, 0.0796002671122551, 0.017990123480558395, 0.017895514145493507, 0.08148259669542313, 0.018996957689523697, 0.009653855115175247, 0.0540858656167984, 0.016553575173020363, 0.007867795415222645, 0.01681062951683998, 0.008981697261333466, 0.014470038935542107, 0.007905809208750725, 0.0683337152004242, 0.0, 0.0], [0.5885325074195862, 0.019868655130267143, 0.0070998999290168285, 0.00686032697558403, 0.007659975904971361, 0.02887919917702675, 0.006081214174628258, 0.004832450300455093, 0.003549025859683752, 0.003395591164007783, 0.025403648614883423, 0.004529768135398626, 0.08339282870292664, 0.0374525748193264, 0.04348286986351013, 0.12897944450378418, 0.0], [0.47529172897338867, 0.07232312858104706, 0.04193904623389244, 0.06857974827289581, 0.0237784031778574, 0.007898708805441856, 0.04669785872101784, 0.015082226134836674, 0.023767344653606415, 0.041367512196302414, 0.006067859940230846, 0.05762380734086037, 0.012609046883881092, 0.014237628318369389, 0.04156506806612015, 0.03138474002480507, 0.01978614367544651]], [[1.0, 0.0, 0.0, 0.0, 0.0, 0.0, 0.0, 0.0, 0.0, 0.0, 0.0, 0.0, 0.0, 0.0, 0.0, 0.0, 0.0], [0.9537059664726257, 0.04629398509860039, 0.0, 0.0, 0.0, 0.0, 0.0, 0.0, 0.0, 0.0, 0.0, 0.0, 0.0, 0.0, 0.0, 0.0, 0.0], [0.7911595702171326, 0.15658089518547058, 0.052259571850299835, 0.0, 0.0, 0.0, 0.0, 0.0, 0.0, 0.0, 0.0, 0.0, 0.0, 0.0, 0.0, 0.0, 0.0], [0.6479939818382263, 0.20948664844036102, 0.0761602520942688, 0.06635910272598267, 0.0, 0.0, 0.0, 0.0, 0.0, 0.0, 0.0, 0.0, 0.0, 0.0, 0.0, 0.0, 0.0], [0.4951738119125366, 0.10722872614860535, 0.17368365824222565, 0.1976379156112671, 0.02627585642039776, 0.0, 0.0, 0.0, 0.0, 0.0, 0.0, 0.0, 0.0, 0.0, 0.0, 0.0, 0.0], [0.42786604166030884, 0.14071840047836304, 0.10982277244329453, 0.11199721693992615, 0.16708260774612427, 0.0425129197537899, 0.0, 0.0, 0.0, 0.0, 0.0, 0.0, 0.0, 0.0, 0.0, 0.0, 0.0], [0.4461013674736023, 0.11321983486413956, 0.047563228756189346, 0.043444227427244186, 0.10603506863117218, 0.19665461778640747, 0.046981580555438995, 0.0, 0.0, 0.0, 0.0, 0.0, 0.0, 0.0, 0.0, 0.0, 0.0], [0.3640647530555725, 0.0663631483912468, 0.13215872645378113, 0.14416314661502838, 0.017306562513113022, 0.1168183758854866, 0.14571134746074677, 0.013413984328508377, 0.0, 0.0, 0.0, 0.0, 0.0, 0.0, 0.0, 0.0, 0.0], [0.5203810930252075, 0.060408350080251694, 0.08399191498756409, 0.0864831730723381, 0.023448020219802856, 0.09684528410434723, 0.08658382296562195, 0.01802106387913227, 0.023837339133024216, 0.0, 0.0, 0.0, 0.0, 0.0, 0.0, 0.0, 0.0], [0.4149148762226105, 0.08761697262525558, 0.03826746344566345, 0.0357598215341568, 0.07769311219453812, 0.15472613275051117, 0.03898996114730835, 0.06394366174936295, 0.04920879006385803, 0.038879141211509705, 0.0, 0.0, 0.0, 0.0, 0.0, 0.0, 0.0], [0.26198986172676086, 0.10541904717683792, 0.09281350672245026, 0.09280069917440414, 0.0712084099650383, 0.06419240683317184, 0.08128776401281357, 0.04725724458694458, 0.05489596351981163, 0.07157617807388306, 0.056558966636657715, 0.0, 0.0, 0.0, 0.0, 0.0, 0.0], [0.39196285605430603, 0.07757937163114548, 0.035343002527952194, 0.02934652753174305, 0.06591378152370453, 0.11476898193359375, 0.03331579267978668, 0.051056768745183945, 0.03852030262351036, 0.03338652104139328, 0.10445228219032288, 0.024353796616196632, 0.0, 0.0, 0.0, 0.0, 0.0], [0.31279656291007996, 0.07091937959194183, 0.05622964724898338, 0.057981137186288834, 0.08174018561840057, 0.07142818719148636, 0.054630160331726074, 0.0522887147963047, 0.04407917335629463, 0.041932106018066406, 0.08143101632595062, 0.043191246688365936, 0.03135248273611069, 0.0, 0.0, 0.0, 0.0], [0.3060811758041382, 0.041572291404008865, 0.05576886236667633, 0.05224507674574852, 0.07812371850013733, 0.06789349019527435, 0.06349843740463257, 0.051291707903146744, 0.04355158656835556, 0.047969967126846313, 0.07783973217010498, 0.0474521778523922, 0.04329802840948105, 0.023413745686411858, 0.0, 0.0, 0.0], [0.2989700734615326, 0.05734027549624443, 0.047305017709732056, 0.05444805324077606, 0.03147296607494354, 0.06801795959472656, 0.047629233449697495, 0.022701488807797432, 0.025469211861491203, 0.040041398257017136, 0.07626054435968399, 0.04133652150630951, 0.08907852321863174, 0.06682861596345901, 0.033100150525569916, 0.0, 0.0], [0.19863949716091156, 0.06598535180091858, 0.07189477235078812, 0.06348108500242233, 0.07553806900978088, 0.04175657778978348, 0.06222045049071312, 0.04580240696668625, 0.04404408857226372, 0.04830736666917801, 0.08632715046405792, 0.04652823880314827, 0.054318081587553024, 0.03713228553533554, 0.028737368062138557, 0.029287174344062805, 0.0], [0.25205275416374207, 0.0538635291159153, 0.02766302414238453, 0.02606111206114292, 0.05214378237724304, 0.0660734623670578, 0.028647903352975845, 0.03822011500597, 0.026916321367025375, 0.0257289819419384, 0.05869871750473976, 0.021806353703141212, 0.0877513661980629, 0.10391923785209656, 0.02563563548028469, 0.09216732531785965, 0.01265034917742014]], [[1.0, 0.0, 0.0, 0.0, 0.0, 0.0, 0.0, 0.0, 0.0, 0.0, 0.0, 0.0, 0.0, 0.0, 0.0, 0.0, 0.0], [0.8883665204048157, 0.11163350194692612, 0.0, 0.0, 0.0, 0.0, 0.0, 0.0, 0.0, 0.0, 0.0, 0.0, 0.0, 0.0, 0.0, 0.0, 0.0], [0.8393746018409729, 0.08291395753622055, 0.07771144062280655, 0.0, 0.0, 0.0, 0.0, 0.0, 0.0, 0.0, 0.0, 0.0, 0.0, 0.0, 0.0, 0.0, 0.0], [0.7125586867332458, 0.10589443892240524, 0.0989532619714737, 0.08259357511997223, 0.0, 0.0, 0.0, 0.0, 0.0, 0.0, 0.0, 0.0, 0.0, 0.0, 0.0, 0.0, 0.0], [0.6431626081466675, 0.08835667371749878, 0.10244432091712952, 0.08485832065343857, 0.08117804676294327, 0.0, 0.0, 0.0, 0.0, 0.0, 0.0, 0.0, 0.0, 0.0, 0.0, 0.0, 0.0], [0.6201689839363098, 0.096421018242836, 0.0642203837633133, 0.06262653321027756, 0.08292418718338013, 0.07363881170749664, 0.0, 0.0, 0.0, 0.0, 0.0, 0.0, 0.0, 0.0, 0.0, 0.0, 0.0], [0.5807151794433594, 0.07256070524454117, 0.0668831393122673, 0.061369698494672775, 0.05595438554883003, 0.09336502104997635, 0.0691518634557724, 0.0, 0.0, 0.0, 0.0, 0.0, 0.0, 0.0, 0.0, 0.0, 0.0], [0.5278375148773193, 0.06264696270227432, 0.07570644468069077, 0.06666523963212967, 0.05517471954226494, 0.07707672566175461, 0.0756613090634346, 0.059231050312519073, 0.0, 0.0, 0.0, 0.0, 0.0, 0.0, 0.0, 0.0, 0.0], [0.5006231665611267, 0.06065691262483597, 0.06821268796920776, 0.06078384816646576, 0.04809292405843735, 0.07934039831161499, 0.07091453671455383, 0.05129249021410942, 0.0600830540060997, 0.0, 0.0, 0.0, 0.0, 0.0, 0.0, 0.0, 0.0], [0.49621230363845825, 0.05531863123178482, 0.05144815891981125, 0.05135062336921692, 0.04398676007986069, 0.06951426714658737, 0.058490555733442307, 0.047853969037532806, 0.0559622086584568, 0.06986241787672043, 0.0, 0.0, 0.0, 0.0, 0.0, 0.0, 0.0], [0.41484159231185913, 0.0650831013917923, 0.050882235169410706, 0.048136647790670395, 0.05402633175253868, 0.05588194355368614, 0.04749606177210808, 0.0572558268904686, 0.07568001747131348, 0.061503276228904724, 0.06921296566724777, 0.0, 0.0, 0.0, 0.0, 0.0, 0.0], [0.4001505970954895, 0.04890153557062149, 0.04605977237224579, 0.04553234204649925, 0.03717058524489403, 0.07657455652952194, 0.04957059025764465, 0.04100283980369568, 0.05068919435143471, 0.061883583664894104, 0.08823289722204208, 0.05423152074217796, 0.0, 0.0, 0.0, 0.0, 0.0], [0.3708042800426483, 0.04894094914197922, 0.0328284353017807, 0.03339270502328873, 0.049004826694726944, 0.05803270265460014, 0.033358167856931686, 0.05733729526400566, 0.05602162331342697, 0.042796988040208817, 0.08472826331853867, 0.03999688848853111, 0.09275686740875244, 0.0, 0.0, 0.0, 0.0], [0.3277648687362671, 0.048107147216796875, 0.033305779099464417, 0.03295861557126045, 0.03971618041396141, 0.058574073016643524, 0.033517468720674515, 0.04493441432714462, 0.04344606399536133, 0.043782614171504974, 0.09406743198633194, 0.04215057194232941, 0.10004477202892303, 0.0576300285756588, 0.0, 0.0, 0.0], [0.3877052068710327, 0.028437210246920586, 0.03198491781949997, 0.03650802746415138, 0.03560003265738487, 0.04835927113890648, 0.04083527997136116, 0.04142246022820473, 0.03999640420079231, 0.04829541593790054, 0.0696595311164856, 0.042692989110946655, 0.06401828676462173, 0.03586287796497345, 0.04862205311655998, 0.0, 0.0], [0.2967545688152313, 0.04238399490714073, 0.032573290169239044, 0.03244929388165474, 0.0385126918554306, 0.04087601229548454, 0.03555568307638168, 0.04496869444847107, 0.0439353883266449, 0.04628392681479454, 0.06889689713716507, 0.04229029268026352, 0.07785551995038986, 0.042726125568151474, 0.05562321096658707, 0.05831443518400192, 0.0], [0.36385130882263184, 0.025886010378599167, 0.025245675817131996, 0.02750319242477417, 0.02346568927168846, 0.04960348829627037, 0.03053109161555767, 0.0276316050440073, 0.027794310823082924, 0.040152519941329956, 0.07726921141147614, 0.03591794893145561, 0.06875206530094147, 0.03151171654462814, 0.05595327168703079, 0.054414622485637665, 0.03451632708311081]], [[1.0, 0.0, 0.0, 0.0, 0.0, 0.0, 0.0, 0.0, 0.0, 0.0, 0.0, 0.0, 0.0, 0.0, 0.0, 0.0, 0.0], [0.9323650598526001, 0.0676349326968193, 0.0, 0.0, 0.0, 0.0, 0.0, 0.0, 0.0, 0.0, 0.0, 0.0, 0.0, 0.0, 0.0, 0.0, 0.0], [0.8904862999916077, 0.059227969497442245, 0.05028571933507919, 0.0, 0.0, 0.0, 0.0, 0.0, 0.0, 0.0, 0.0, 0.0, 0.0, 0.0, 0.0, 0.0, 0.0], [0.8702348470687866, 0.05400322377681732, 0.04528806731104851, 0.03047385811805725, 0.0, 0.0, 0.0, 0.0, 0.0, 0.0, 0.0, 0.0, 0.0, 0.0, 0.0, 0.0, 0.0], [0.7005237936973572, 0.0996309220790863, 0.08827492594718933, 0.06953759491443634, 0.04203270748257637, 0.0, 0.0, 0.0, 0.0, 0.0, 0.0, 0.0, 0.0, 0.0, 0.0, 0.0, 0.0], [0.7034651041030884, 0.07798963040113449, 0.10015367716550827, 0.07063838839530945, 0.03480013459920883, 0.012953135184943676, 0.0, 0.0, 0.0, 0.0, 0.0, 0.0, 0.0, 0.0, 0.0, 0.0, 0.0], [0.6954172849655151, 0.06416884064674377, 0.06502021104097366, 0.05043664202094078, 0.030309168621897697, 0.01718379370868206, 0.07746407389640808, 0.0, 0.0, 0.0, 0.0, 0.0, 0.0, 0.0, 0.0, 0.0, 0.0], [0.5214889645576477, 0.09000597149133682, 0.08925919979810715, 0.07429647445678711, 0.04270372912287712, 0.030404623597860336, 0.10514809191226959, 0.04669290408492088, 0.0, 0.0, 0.0, 0.0, 0.0, 0.0, 0.0, 0.0, 0.0], [0.5134501457214355, 0.07587100565433502, 0.07825248688459396, 0.062370285391807556, 0.04077504202723503, 0.031050819903612137, 0.09626702964305878, 0.04604472219944, 0.055918511003255844, 0.0, 0.0, 0.0, 0.0, 0.0, 0.0, 0.0, 0.0], [0.5235399603843689, 0.0631474182009697, 0.06664445251226425, 0.05743543431162834, 0.03411353379487991, 0.0195241067558527, 0.08109398931264877, 0.034561991691589355, 0.04306696727871895, 0.07687221467494965, 0.0, 0.0, 0.0, 0.0, 0.0, 0.0, 0.0], [0.3810545802116394, 0.06742478162050247, 0.10808312892913818, 0.06994088739156723, 0.03241780772805214, 0.022264530882239342, 0.1034977063536644, 0.02952595241367817, 0.04047282040119171, 0.10597816854715347, 0.03933963179588318, 0.0, 0.0, 0.0, 0.0, 0.0, 0.0], [0.47663432359695435, 0.05356398969888687, 0.06040624529123306, 0.047794293612241745, 0.02730545587837696, 0.01868916116654873, 0.07426384836435318, 0.02781534567475319, 0.036314573138952255, 0.07759759575128555, 0.03620220348238945, 0.06341290473937988, 0.0, 0.0, 0.0, 0.0, 0.0], [0.35405033826828003, 0.053026098757982254, 0.08470551669597626, 0.05701844394207001, 0.03263876959681511, 0.019857237115502357, 0.07902880758047104, 0.030588706955313683, 0.04471137002110481, 0.08334112167358398, 0.04312577471137047, 0.0615202859044075, 0.05638756603002548, 0.0, 0.0, 0.0, 0.0], [0.44932618737220764, 0.042480360716581345, 0.06164095178246498, 0.043253567069768906, 0.028024261817336082, 0.014086646027863026, 0.06312056630849838, 0.025798602029681206, 0.0387972891330719, 0.0711817741394043, 0.037051767110824585, 0.05286011844873428, 0.042337533086538315, 0.030040370300412178, 0.0, 0.0, 0.0], [0.25245052576065063, 0.049913693219423294, 0.06517612934112549, 0.0550227127969265, 0.040408480912446976, 0.02514212764799595, 0.08378110826015472, 0.042483363300561905, 0.04191116988658905, 0.08717252314090729, 0.04333570972084999, 0.07033931463956833, 0.03724116459488869, 0.05639500916004181, 0.04922707378864288, 0.0, 0.0], [0.2590593695640564, 0.04455691948533058, 0.08253668993711472, 0.0477728471159935, 0.026776574552059174, 0.018751205876469612, 0.08488643914461136, 0.024764709174633026, 0.04274528846144676, 0.09204867482185364, 0.050232451409101486, 0.05918443202972412, 0.043109580874443054, 0.03522128239274025, 0.044322337955236435, 0.044031158089637756, 0.0], [0.27073392271995544, 0.04986562579870224, 0.05486415699124336, 0.050575148314237595, 0.02958570420742035, 0.022222017869353294, 0.07634903490543365, 0.028148557990789413, 0.033874496817588806, 0.07074335962533951, 0.04602828621864319, 0.0640423446893692, 0.03610248491168022, 0.04793490096926689, 0.04370952025055885, 0.037538766860961914, 0.03768160939216614]], [[1.0, 0.0, 0.0, 0.0, 0.0, 0.0, 0.0, 0.0, 0.0, 0.0, 0.0, 0.0, 0.0, 0.0, 0.0, 0.0, 0.0], [0.0005433204933069646, 0.9994567036628723, 0.0, 0.0, 0.0, 0.0, 0.0, 0.0, 0.0, 0.0, 0.0, 0.0, 0.0, 0.0, 0.0, 0.0, 0.0], [0.0009665854158811271, 0.4698900282382965, 0.5291433334350586, 0.0, 0.0, 0.0, 0.0, 0.0, 0.0, 0.0, 0.0, 0.0, 0.0, 0.0, 0.0, 0.0, 0.0], [0.000878353719599545, 0.30656173825263977, 0.35625138878822327, 0.3363085389137268, 0.0, 0.0, 0.0, 0.0, 0.0, 0.0, 0.0, 0.0, 0.0, 0.0, 0.0, 0.0, 0.0], [0.0012244204990565777, 0.2105681449174881, 0.25960326194763184, 0.2503069043159485, 0.2782973051071167, 0.0, 0.0, 0.0, 0.0, 0.0, 0.0, 0.0, 0.0, 0.0, 0.0, 0.0, 0.0], [0.001295453985221684, 0.15222644805908203, 0.19761976599693298, 0.19565854966640472, 0.21846643090248108, 0.23473331332206726, 0.0, 0.0, 0.0, 0.0, 0.0, 0.0, 0.0, 0.0, 0.0, 0.0, 0.0], [0.0011068070307374, 0.12159784138202667, 0.1557753086090088, 0.15306356549263, 0.1828266978263855, 0.20035314559936523, 0.18527664244174957, 0.0, 0.0, 0.0, 0.0, 0.0, 0.0, 0.0, 0.0, 0.0, 0.0], [0.0015385148581117392, 0.09757797420024872, 0.12998710572719574, 0.12930113077163696, 0.1491326540708542, 0.1598711460828781, 0.1581055223941803, 0.17448602616786957, 0.0, 0.0, 0.0, 0.0, 0.0, 0.0, 0.0, 0.0, 0.0], [0.0016700060805305839, 0.07884099334478378, 0.10858417302370071, 0.109940305352211, 0.1270342320203781, 0.13692913949489594, 0.1367557793855667, 0.15152141451835632, 0.14872391521930695, 0.0, 0.0, 0.0, 0.0, 0.0, 0.0, 0.0, 0.0], [0.0015553169650956988, 0.06726142019033432, 0.08956929296255112, 0.09026699513196945, 0.11095556616783142, 0.12205569446086884, 0.11534488201141357, 0.1326199322938919, 0.12867698073387146, 0.14169400930404663, 0.0, 0.0, 0.0, 0.0, 0.0, 0.0, 0.0], [0.0017630856018513441, 0.05724112316966057, 0.08100809901952744, 0.08086337149143219, 0.09247582405805588, 0.0968438908457756, 0.10459547489881516, 0.1099872887134552, 0.10878682881593704, 0.12876206636428833, 0.13767285645008087, 0.0, 0.0, 0.0, 0.0, 0.0, 0.0], [0.0017883072141557932, 0.048806190490722656, 0.06630219519138336, 0.0663398951292038, 0.08217393606901169, 0.09013119339942932, 0.08612681925296783, 0.09923862665891647, 0.09569551050662994, 0.10771562159061432, 0.130756214261055, 0.12492549419403076, 0.0, 0.0, 0.0, 0.0, 0.0], [0.0019000655738636851, 0.04231762886047363, 0.059032753109931946, 0.05932037904858589, 0.06941114366054535, 0.07389931380748749, 0.0784272700548172, 0.08460960537195206, 0.08364901691675186, 0.09887825697660446, 0.10940638929605484, 0.11526502668857574, 0.12388312071561813, 0.0, 0.0, 0.0, 0.0], [0.0017217068234458566, 0.03554338961839676, 0.051412858068943024, 0.05202481523156166, 0.06226698309183121, 0.06468424201011658, 0.0700966939330101, 0.07625531405210495, 0.07456086575984955, 0.08890639990568161, 0.10342284291982651, 0.10491763800382614, 0.11671136319637299, 0.0974748432636261, 0.0, 0.0, 0.0], [0.0033837631344795227, 0.03167285770177841, 0.046333201229572296, 0.04700367525219917, 0.05593408644199371, 0.05679556727409363, 0.0622415654361248, 0.06714402884244919, 0.06552308052778244, 0.07751929014921188, 0.08695205301046371, 0.09052397310733795, 0.09498956054449081, 0.08346155285835266, 0.1305217742919922, 0.0, 0.0], [0.002816768828779459, 0.027401436120271683, 0.039512716233730316, 0.040732163935899734, 0.04864247888326645, 0.04895507171750069, 0.05388729274272919, 0.05899646133184433, 0.058688685297966, 0.06748785078525543, 0.07467826455831528, 0.08114883303642273, 0.08688158541917801, 0.07811599224805832, 0.12095960974693298, 0.11109480261802673, 0.0], [0.0033159733284264803, 0.02354179508984089, 0.03314196690917015, 0.03404807671904564, 0.04274405539035797, 0.045118968933820724, 0.04612813889980316, 0.051769502460956573, 0.049987368285655975, 0.0573965422809124, 0.0680856853723526, 0.06869735568761826, 0.07896395772695541, 0.06697529554367065, 0.10611358284950256, 0.10525742173194885, 0.11871430277824402]], [[1.0, 0.0, 0.0, 0.0, 0.0, 0.0, 0.0, 0.0, 0.0, 0.0, 0.0, 0.0, 0.0, 0.0, 0.0, 0.0, 0.0], [0.3644537925720215, 0.6355461478233337, 0.0, 0.0, 0.0, 0.0, 0.0, 0.0, 0.0, 0.0, 0.0, 0.0, 0.0, 0.0, 0.0, 0.0, 0.0], [0.11447081714868546, 0.01490921713411808, 0.8706199526786804, 0.0, 0.0, 0.0, 0.0, 0.0, 0.0, 0.0, 0.0, 0.0, 0.0, 0.0, 0.0, 0.0, 0.0], [0.055960047990083694, 0.00764951016753912, 0.08536931872367859, 0.8510211110115051, 0.0, 0.0, 0.0, 0.0, 0.0, 0.0, 0.0, 0.0, 0.0, 0.0, 0.0, 0.0, 0.0], [0.12241280823945999, 0.07458404451608658, 0.03884094953536987, 0.021120799705386162, 0.743041455745697, 0.0, 0.0, 0.0, 0.0, 0.0, 0.0, 0.0, 0.0, 0.0, 0.0, 0.0, 0.0], [0.07704667747020721, 0.004740806296467781, 0.002450719941407442, 0.007506233174353838, 0.00916916411370039, 0.8990864753723145, 0.0, 0.0, 0.0, 0.0, 0.0, 0.0, 0.0, 0.0, 0.0, 0.0, 0.0], [0.07999715954065323, 0.009655860252678394, 0.11385973542928696, 0.1518869251012802, 0.0033684088848531246, 0.0007194469217211008, 0.6405124664306641, 0.0, 0.0, 0.0, 0.0, 0.0, 0.0, 0.0, 0.0, 0.0, 0.0], [0.058928973972797394, 0.0552198700606823, 0.02946341224014759, 0.01701960526406765, 0.5212916135787964, 0.010054484941065311, 0.00954973790794611, 0.2984723150730133, 0.0, 0.0, 0.0, 0.0, 0.0, 0.0, 0.0, 0.0, 0.0], [0.0996573343873024, 0.06839431077241898, 0.012213915586471558, 0.01697693020105362, 0.09606832265853882, 0.007078681141138077, 0.017705025151371956, 0.04701953008770943, 0.6348860263824463, 0.0, 0.0, 0.0, 0.0, 0.0, 0.0, 0.0, 0.0], [0.05842318385839462, 0.015000030398368835, 0.25449085235595703, 0.07100281864404678, 0.005505496636033058, 0.0005907082231715322, 0.23336844146251678, 0.00262457225471735, 0.005553404334932566, 0.353440523147583, 0.0, 0.0, 0.0, 0.0, 0.0, 0.0, 0.0], [0.0522073432803154, 0.005074607208371162, 0.002805116819217801, 0.0029842492658644915, 0.006924936082214117, 0.013466127216815948, 0.00305288378149271, 0.0035627447068691254, 0.006050684954971075, 0.001787757151760161, 0.9020835757255554, 0.0, 0.0, 0.0, 0.0, 0.0, 0.0], [0.04392768815159798, 0.006844095420092344, 0.11496496945619583, 0.14663384854793549, 0.0032702975440770388, 0.0006662883097305894, 0.1753465086221695, 0.0016044300282374024, 0.0038779990281909704, 0.0396832711994648, 0.0009934334084391594, 0.46218714118003845, 0.0, 0.0, 0.0, 0.0, 0.0], [0.05662147328257561, 0.002308277878910303, 0.0020931747276335955, 0.0035385305527597666, 0.0012644719099625945, 0.020809747278690338, 0.0013051581336185336, 0.0007346308557316661, 0.0015334608033299446, 0.0011244595516473055, 0.03558905050158501, 0.0019100467907264829, 0.8711674213409424, 0.0, 0.0, 0.0, 0.0], [0.027759501710534096, 0.002056978875771165, 0.0037021120078861713, 0.00645218463614583, 0.004348515998572111, 0.005135427229106426, 0.00991169922053814, 0.0022952707950025797, 0.00441144872456789, 0.0032563258428126574, 0.02549091912806034, 0.012399410828948021, 0.023409944027662277, 0.8693702816963196, 0.0, 0.0, 0.0], [0.04341547563672066, 0.009990331716835499, 0.0007497037295252085, 0.0018404967850074172, 0.0014838974457234144, 0.0006997363525442779, 0.0009928735671564937, 0.0006185168167576194, 0.0031559295020997524, 0.00036292843287810683, 0.00038876186590641737, 0.001200839877128601, 0.0011154238600283861, 0.0006255338084883988, 0.9333596229553223, 0.0, 0.0], [0.04528496041893959, 0.0018245292594656348, 0.0022079467307776213, 0.004937182646244764, 0.0034496949519962072, 0.020358966663479805, 0.0021136507857590914, 0.0023259983863681555, 0.006081688217818737, 0.0011948005994781852, 0.039863280951976776, 0.0028232219628989697, 0.09689204394817352, 0.017538363113999367, 0.0015730210579931736, 0.7515307068824768, 0.0], [0.01843123883008957, 0.004324559587985277, 0.31696900725364685, 0.015481475740671158, 0.0027224943041801453, 0.00033081427682191133, 0.034114155918359756, 0.0016840607859194279, 0.0010879006003960967, 0.0761515200138092, 0.0007952004671096802, 0.035475730895996094, 0.0009109078673645854, 0.00114341895096004, 0.00011523978901095688, 0.0006224862881936133, 0.4896397888660431]]], \"headLabels\": [\"L1H0\", \"L1H1\", \"L1H2\", \"L1H3\", \"L1H4\", \"L1H5\", \"L1H6\", \"L1H7\", \"L1H8\", \"L1H9\", \"L1H10\", \"L1H11\"]}\n",
              "    )\n",
              "    </script>"
            ]
          },
          "metadata": {}
        }
      ]
    }
  ]
}