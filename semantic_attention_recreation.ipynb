{
  "nbformat": 4,
  "nbformat_minor": 0,
  "metadata": {
    "colab": {
      "provenance": [],
      "authorship_tag": "ABX9TyNMM8tIN3nrt3MRHSg3wFmD",
      "include_colab_link": true
    },
    "kernelspec": {
      "name": "python3",
      "display_name": "Python 3"
    },
    "language_info": {
      "name": "python"
    }
  },
  "cells": [
    {
      "cell_type": "markdown",
      "metadata": {
        "id": "view-in-github",
        "colab_type": "text"
      },
      "source": [
        "<a href=\"https://colab.research.google.com/github/sc22lg/ML-Notebooks/blob/gpt2-small-paper-recreation/semantic_attention_recreation.ipynb\" target=\"_parent\"><img src=\"https://colab.research.google.com/assets/colab-badge.svg\" alt=\"Open In Colab\"/></a>"
      ]
    },
    {
      "cell_type": "markdown",
      "source": [
        "## A Recreation of the Results of: The Self-Hating Attention Head: A Deep Dive in GPT-2 - Matteo Migliarini July 2025\n",
        "by Leo Gott\n",
        "\n",
        "Original publication can be found [here](https://www.lesswrong.com/posts/wxPvdBwWeaneAsWRB/the-self-hating-attention-head-a-deep-dive-in-gpt-2-1)"
      ],
      "metadata": {
        "id": "GvOoVJ01k5Ru"
      }
    },
    {
      "cell_type": "markdown",
      "source": [
        "### Overall idea:\n",
        "\"gpt2-small's head L1H5 directs attention to semantically similar tokens and actively suppresses self-attention\"\n",
        "### Results to re-create:\n",
        "- Create inputs to ellicit expected behaviour\n",
        "- Use inputs to identify heads performing behaviour in gpt2-small (expected head L1H5)\n",
        "- Perform mean-ablation of preceding components to find which components effect L1H5"
      ],
      "metadata": {
        "id": "BkQK5fgbl0_9"
      }
    },
    {
      "cell_type": "markdown",
      "source": [
        "### Setup:"
      ],
      "metadata": {
        "id": "tDwZTA1Tr4F-"
      }
    },
    {
      "cell_type": "code",
      "source": [
        "import os\n",
        "import sys\n",
        "from pathlib import Path\n",
        "\n",
        "import pkg_resources\n",
        "\n",
        "installed_packages = [pkg.key for pkg in pkg_resources.working_set]\n",
        "if \"transformer-lens\" not in installed_packages:\n",
        "    %pip install transformer_lens==2.11.0 einops eindex-callum jaxtyping git+https://github.com/callummcdougall/CircuitsVis.git#subdirectory=python\n",
        "\n",
        "import pandas as pd\n",
        "import circuitsvis as cv\n",
        "import einops\n",
        "import numpy as np\n",
        "import torch as t\n",
        "import torch.nn as nn\n",
        "import torch.nn.functional as F\n",
        "from torch import Tensor\n",
        "from transformer_lens import (\n",
        "    ActivationCache,\n",
        "    FactoredMatrix,\n",
        "    HookedTransformer,\n",
        "    HookedTransformerConfig,\n",
        "    utils,\n",
        ")\n",
        "from transformer_lens.hook_points import HookPoint"
      ],
      "metadata": {
        "colab": {
          "base_uri": "https://localhost:8080/"
        },
        "id": "oUuoGz1ur6Ct",
        "outputId": "11edb74d-6449-445d-a2e8-2f9ead878a5f"
      },
      "execution_count": 1,
      "outputs": [
        {
          "output_type": "stream",
          "name": "stderr",
          "text": [
            "/tmp/ipython-input-3825944965.py:5: DeprecationWarning: pkg_resources is deprecated as an API. See https://setuptools.pypa.io/en/latest/pkg_resources.html\n",
            "  import pkg_resources\n"
          ]
        }
      ]
    },
    {
      "cell_type": "code",
      "source": [
        "import random as rand"
      ],
      "metadata": {
        "id": "ZDpjg9KCMx3P"
      },
      "execution_count": 5,
      "outputs": []
    },
    {
      "cell_type": "markdown",
      "source": [
        "### 1.1 Generate input prompt"
      ],
      "metadata": {
        "id": "a63A0WEToMzV"
      }
    },
    {
      "cell_type": "code",
      "execution_count": 4,
      "metadata": {
        "colab": {
          "base_uri": "https://localhost:8080/"
        },
        "id": "zNsmbpepkrtX",
        "outputId": "64ef58f9-cbf6-48f9-9915-a0f224e9a2ba"
      },
      "outputs": [
        {
          "output_type": "stream",
          "name": "stdout",
          "text": [
            "         0           1           2          3           4           5\n",
            "0   Monday     Tuesday   Wednesday   Thursday      Friday    Saturday\n",
            "1      red        blue       green     silver       white        Blue\n",
            "2     1918        1920        1930       1943        1998        2000\n",
            "3      You          He         his        she         her       their\n",
            "4    Italy     Iceland     Austria     Mexico       Spain      France\n",
            "5      dog         cat       horse    hamster        fish      lizard\n",
            "6       60          65          69         70          71          90\n",
            "7    angry       happy         sad    excited       bored    stressed\n",
            "8      car         bus         van      truck   motorbike   aeroplane\n",
            "9     rose       tulip        lily      daisy      orchid   sunflower\n",
            "10  guitar       piano      violin       drum       flute     trumpet\n",
            "11  soccer  basketball      tennis   baseball       rugby      hockey\n",
            "12  circle      square    triangle  rectangle     hexagon     octagon\n",
            "13   chair       table        sofa       desk         bed       shelf\n",
            "14   river        lake       ocean        sea        pond      stream\n",
            "15  doctor       nurse     surgeon    dentist  pharmacist   therapist\n",
            "16  python        java         c++       ruby       swift  javascript\n"
          ]
        }
      ],
      "source": [
        "semantic_words_file = pd.read_csv('semantic_words.csv', header=None)\n",
        "print(semantic_words_file.to_string())"
      ]
    },
    {
      "cell_type": "code",
      "source": [
        "# Create shuffled list of tokens\n",
        "n_sequences = 30\n",
        "n_tokens = 16\n",
        "n_rows = semantic_words_file.shape[0]\n",
        "\n",
        "inputs = np.empty((n_sequences, n_tokens), dtype=tuple)\n",
        "\n",
        "for i in range(n_sequences):\n",
        "  subset = semantic_words_file.sample(4)\n",
        "  for j in range(n_tokens):\n",
        "    category_list = subset.sample(1)\n",
        "    category = category_list.index[0]\n",
        "    token = category_list.iloc[0].sample(1).values[0]\n",
        "    inputs[i, j] = (category, token)\n",
        "print(inputs)"
      ],
      "metadata": {
        "id": "kPTOFv_Hu2IW",
        "collapsed": true,
        "outputId": "0c1b3404-85eb-4b21-f718-4b31edd31e5f",
        "colab": {
          "base_uri": "https://localhost:8080/"
        }
      },
      "execution_count": 37,
      "outputs": [
        {
          "output_type": "stream",
          "name": "stdout",
          "text": [
            "[[(11, 'soccer') (15, 'dentist') (15, 'surgeon') (2, ' 2000')\n",
            "  (2, ' 2000') (2, '1918') (7, ' stressed') (2, ' 1920') (11, 'soccer')\n",
            "  (7, ' happy') (11, 'rugby') (7, ' bored') (11, 'soccer')\n",
            "  (11, 'basketball') (7, ' happy') (7, ' excited')]\n",
            " [(6, ' 65') (3, ' she') (6, ' 71') (6, ' 69') (6, '60') (14, 'lake')\n",
            "  (12, 'circle') (3, 'You') (12, 'square') (12, 'rectangle') (14, 'lake')\n",
            "  (14, 'river') (12, 'octagon') (3, 'You') (3, ' she') (6, ' 71')]\n",
            " [(6, ' 65') (12, 'square') (12, 'rectangle') (9, 'orchid') (13, 'chair')\n",
            "  (12, 'triangle') (9, 'lily') (13, 'bed') (6, ' 71') (12, 'rectangle')\n",
            "  (12, 'triangle') (6, ' 69') (6, ' 70') (12, 'rectangle') (9, 'orchid')\n",
            "  (9, 'rose')]\n",
            " [(16, 'javascript') (1, ' silver') (13, 'shelf') (13, 'shelf')\n",
            "  (6, ' 90') (13, 'shelf') (1, ' white') (1, ' blue') (1, ' silver')\n",
            "  (13, 'shelf') (16, 'ruby') (16, 'java') (6, ' 71') (13, 'chair')\n",
            "  (13, 'desk') (16, 'java')]\n",
            " [(10, 'violin') (16, 'javascript') (6, ' 65') (16, 'java') (6, '60')\n",
            "  (11, 'baseball') (6, ' 90') (10, 'piano') (10, 'drum') (11, 'soccer')\n",
            "  (16, 'javascript') (10, 'violin') (16, 'java') (16, 'python')\n",
            "  (11, 'rugby') (16, 'ruby')]\n",
            " [(12, 'hexagon') (11, 'soccer') (11, 'baseball') (7, ' bored')\n",
            "  (11, 'hockey') (11, 'soccer') (14, 'lake') (12, 'square')\n",
            "  (12, 'hexagon') (11, 'rugby') (14, 'lake') (7, ' stressed')\n",
            "  (14, 'river') (12, 'octagon') (12, 'hexagon') (7, ' excited')]\n",
            " [(4, ' Mexico') (3, 'You') (4, ' Austria') (4, ' Iceland')\n",
            "  (4, ' France') (4, ' France') (13, 'table') (13, 'table') (3, ' she')\n",
            "  (4, 'Italy') (14, 'river') (3, ' their') (13, 'chair') (4, ' Austria')\n",
            "  (14, 'river') (13, 'desk')]\n",
            " [(4, ' Iceland') (4, ' France') (4, ' Mexico') (5, ' cat')\n",
            "  (7, ' stressed') (5, ' fish') (7, ' excited') (5, ' cat')\n",
            "  (4, ' France') (7, 'angry') (4, ' Iceland') (4, 'Italy')\n",
            "  (7, ' excited') (7, ' bored') (7, ' happy') (7, ' happy')]\n",
            " [(16, 'swift') (1, ' silver') (15, 'pharmacist') (3, 'You')\n",
            "  (1, ' white') (15, 'therapist') (3, 'You') (3, 'You') (16, 'c++')\n",
            "  (15, 'surgeon') (3, 'You') (16, 'javascript') (1, ' blue') (3, ' his')\n",
            "  (16, 'javascript') (15, 'therapist')]\n",
            " [(16, 'javascript') (13, 'sofa') (16, 'javascript') (15, 'therapist')\n",
            "  (5, ' cat') (16, 'ruby') (5, ' fish') (5, ' lizard') (15, 'surgeon')\n",
            "  (15, 'dentist') (13, 'chair') (13, 'chair') (15, 'therapist')\n",
            "  (16, 'ruby') (13, 'chair') (5, 'dog')]\n",
            " [(9, 'orchid') (6, ' 69') (11, 'tennis') (11, 'hockey') (6, '60')\n",
            "  (11, 'hockey') (3, ' their') (6, ' 90') (9, 'daisy') (9, 'rose')\n",
            "  (11, 'soccer') (9, 'daisy') (6, ' 65') (6, ' 69') (9, 'rose')\n",
            "  (6, ' 90')]\n",
            " [(9, 'daisy') (9, 'rose') (4, ' Spain') (9, 'tulip') (16, 'swift')\n",
            "  (4, ' Mexico') (16, 'python') (16, 'java') (4, 'Italy') (15, 'doctor')\n",
            "  (4, ' Austria') (15, 'dentist') (4, ' France') (9, 'rose') (9, 'lily')\n",
            "  (16, 'python')]\n",
            " [(16, 'javascript') (0, ' Tuesday') (16, 'python') (16, 'java')\n",
            "  (6, ' 70') (16, 'java') (10, 'piano') (6, ' 90') (10, 'piano')\n",
            "  (6, ' 69') (6, '60') (0, ' Tuesday') (10, 'flute') (10, 'guitar')\n",
            "  (16, 'javascript') (0, 'Monday')]\n",
            " [(2, ' 1920') (2, ' 1998') (2, ' 2000') (15, 'pharmacist') (16, 'swift')\n",
            "  (2, ' 2000') (15, 'nurse') (7, ' stressed') (16, 'c++')\n",
            "  (7, ' stressed') (7, ' happy') (16, 'javascript') (2, ' 1943')\n",
            "  (15, 'surgeon') (2, ' 1930') (16, 'ruby')]\n",
            " [(10, 'flute') (6, ' 90') (4, ' Mexico') (10, 'guitar') (10, 'guitar')\n",
            "  (4, ' Mexico') (6, ' 71') (8, ' bus') (8, ' truck') (8, ' motorbike')\n",
            "  (10, 'trumpet') (4, ' Austria') (8, ' bus') (4, ' Iceland') (8, ' van')\n",
            "  (6, ' 71')]\n",
            " [(3, 'You') (4, ' Spain') (4, ' France') (13, 'bed') (3, ' she')\n",
            "  (4, ' Iceland') (3, 'You') (8, ' motorbike') (13, 'desk') (3, ' their')\n",
            "  (4, ' Spain') (13, 'shelf') (4, ' Spain') (8, ' van') (8, ' aeroplane')\n",
            "  (8, 'car')]\n",
            " [(16, 'c++') (4, ' Iceland') (4, ' Spain') (15, 'surgeon') (8, 'car')\n",
            "  (4, ' Iceland') (16, 'javascript') (4, ' Spain') (4, 'Italy')\n",
            "  (8, 'car') (4, ' Austria') (4, 'Italy') (8, ' aeroplane')\n",
            "  (16, 'javascript') (16, 'c++') (8, ' van')]\n",
            " [(9, 'daisy') (1, ' blue') (5, ' hamster') (1, ' silver') (6, ' 69')\n",
            "  (9, 'lily') (6, ' 71') (6, '60') (1, ' silver') (1, ' blue')\n",
            "  (1, ' silver') (5, 'dog') (6, ' 71') (9, 'tulip') (9, 'daisy')\n",
            "  (9, 'lily')]\n",
            " [(13, 'shelf') (12, 'square') (14, 'river') (13, 'chair')\n",
            "  (8, ' motorbike') (13, 'chair') (13, 'desk') (13, 'sofa') (13, 'shelf')\n",
            "  (14, 'lake') (8, ' van') (14, 'pond') (12, 'square') (8, ' truck')\n",
            "  (8, ' bus') (14, 'pond')]\n",
            " [(7, ' bored') (16, 'c++') (16, 'c++') (12, 'hexagon') (12, 'rectangle')\n",
            "  (12, 'circle') (7, 'angry') (4, ' France') (4, ' France')\n",
            "  (12, 'rectangle') (16, 'java') (16, 'python') (12, 'octagon')\n",
            "  (4, ' Austria') (7, ' sad') (7, ' bored')]\n",
            " [(11, 'hockey') (5, ' fish') (5, ' cat') (11, 'tennis')\n",
            "  (11, 'basketball') (3, ' her') (1, ' green') (1, ' white') (3, 'You')\n",
            "  (11, 'rugby') (11, 'soccer') (11, 'rugby') (1, ' blue') (5, ' hamster')\n",
            "  (3, ' He') (3, ' she')]\n",
            " [(1, ' green') (0, ' Thursday') (9, 'tulip') (9, 'orchid') (5, ' fish')\n",
            "  (0, ' Wednesday') (9, 'orchid') (5, ' horse') (1, 'red') (1, ' blue')\n",
            "  (9, 'sunflower') (5, ' fish') (0, 'Monday') (0, ' Friday')\n",
            "  (5, ' hamster') (0, ' Thursday')]\n",
            " [(3, ' their') (11, 'rugby') (10, 'trumpet') (3, ' their')\n",
            "  (11, 'basketball') (8, 'car') (3, ' He') (11, 'rugby') (8, ' truck')\n",
            "  (11, 'basketball') (11, 'baseball') (8, ' bus') (11, 'rugby')\n",
            "  (3, ' He') (10, 'trumpet') (11, 'rugby')]\n",
            " [(4, ' France') (4, 'Italy') (7, ' stressed') (7, ' happy') (8, 'car')\n",
            "  (8, 'car') (8, ' bus') (8, ' truck') (8, ' van') (4, ' Austria')\n",
            "  (7, 'angry') (4, ' Spain') (7, ' sad') (4, 'Italy') (2, ' 1920')\n",
            "  (4, ' France')]\n",
            " [(11, 'tennis') (0, ' Thursday') (8, ' bus') (0, ' Thursday')\n",
            "  (8, ' van') (12, 'hexagon') (0, ' Friday') (12, 'hexagon')\n",
            "  (11, 'baseball') (12, 'circle') (11, 'basketball') (8, ' aeroplane')\n",
            "  (11, 'soccer') (8, ' aeroplane') (0, ' Friday') (0, ' Friday')]\n",
            " [(3, 'You') (3, ' his') (4, 'Italy') (4, ' Austria') (3, ' He')\n",
            "  (14, 'sea') (3, ' his') (4, ' France') (10, 'piano') (10, 'drum')\n",
            "  (4, ' France') (14, 'ocean') (3, ' she') (14, 'stream') (10, 'drum')\n",
            "  (14, 'sea')]\n",
            " [(13, 'bed') (10, 'guitar') (9, 'tulip') (10, 'piano') (5, ' hamster')\n",
            "  (10, 'guitar') (13, 'desk') (9, 'sunflower') (13, 'sofa') (5, ' cat')\n",
            "  (9, 'lily') (9, 'rose') (13, 'chair') (10, 'drum') (10, 'guitar')\n",
            "  (9, 'orchid')]\n",
            " [(5, ' hamster') (6, ' 90') (2, ' 1920') (2, ' 1998') (2, ' 1930')\n",
            "  (5, 'dog') (5, ' lizard') (6, ' 65') (5, ' cat') (6, ' 69') (5, 'dog')\n",
            "  (5, ' fish') (6, ' 70') (2, ' 2000') (2, ' 1930') (6, ' 70')]\n",
            " [(3, 'You') (12, 'rectangle') (2, ' 1998') (12, 'hexagon') (3, ' their')\n",
            "  (2, ' 1930') (3, ' she') (3, ' her') (2, ' 1920') (2, ' 1930')\n",
            "  (2, '1918') (2, ' 1920') (15, 'therapist') (3, ' she') (15, 'surgeon')\n",
            "  (12, 'rectangle')]\n",
            " [(2, ' 1920') (12, 'octagon') (7, ' bored') (7, ' stressed') (7, ' sad')\n",
            "  (7, ' stressed') (2, '1918') (7, ' happy') (12, 'triangle')\n",
            "  (12, 'square') (7, 'angry') (14, 'pond') (7, ' happy') (7, ' stressed')\n",
            "  (12, 'hexagon') (7, 'angry')]]\n"
          ]
        }
      ]
    }
  ]
}