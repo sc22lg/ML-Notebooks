{
  "nbformat": 4,
  "nbformat_minor": 0,
  "metadata": {
    "colab": {
      "provenance": [],
      "authorship_tag": "ABX9TyNqTOYM8H3fivsE+qXYqDl4",
      "include_colab_link": true
    },
    "kernelspec": {
      "name": "python3",
      "display_name": "Python 3"
    },
    "language_info": {
      "name": "python"
    }
  },
  "cells": [
    {
      "cell_type": "markdown",
      "metadata": {
        "id": "view-in-github",
        "colab_type": "text"
      },
      "source": [
        "<a href=\"https://colab.research.google.com/github/sc22lg/ML-Notebooks/blob/gpt2-small-paper-recreation/semantic_attention_recreation.ipynb\" target=\"_parent\"><img src=\"https://colab.research.google.com/assets/colab-badge.svg\" alt=\"Open In Colab\"/></a>"
      ]
    },
    {
      "cell_type": "markdown",
      "source": [
        "## A Recreation of the Results of: The Self-Hating Attention Head: A Deep Dive in GPT-2 - Matteo Migliarini July 2025\n",
        "by Leo Gott\n",
        "\n",
        "Original publication can be found [here](https://www.lesswrong.com/posts/wxPvdBwWeaneAsWRB/the-self-hating-attention-head-a-deep-dive-in-gpt-2-1)"
      ],
      "metadata": {
        "id": "GvOoVJ01k5Ru"
      }
    },
    {
      "cell_type": "markdown",
      "source": [
        "### Overall idea:\n",
        "\"gpt2-small's head L1H5 directs attention to semantically similar tokens and actively suppresses self-attention\"\n",
        "### Results to re-create:\n",
        "- Create inputs to ellicit expected behaviour\n",
        "- Use inputs to identify heads performing behaviour in gpt2-small (expected head L1H5)\n",
        "- Perform mean-ablation of preceding components to find which components effect L1H5"
      ],
      "metadata": {
        "id": "BkQK5fgbl0_9"
      }
    },
    {
      "cell_type": "markdown",
      "source": [
        "### Setup:"
      ],
      "metadata": {
        "id": "tDwZTA1Tr4F-"
      }
    },
    {
      "cell_type": "code",
      "source": [
        "import os\n",
        "import sys\n",
        "from pathlib import Path\n",
        "\n",
        "import pkg_resources\n",
        "\n",
        "installed_packages = [pkg.key for pkg in pkg_resources.working_set]\n",
        "if \"transformer-lens\" not in installed_packages:\n",
        "    %pip install transformer_lens==2.11.0 einops eindex-callum jaxtyping git+https://github.com/callummcdougall/CircuitsVis.git#subdirectory=python\n",
        "\n",
        "import pandas as pd\n",
        "import circuitsvis as cv\n",
        "import einops\n",
        "import numpy as np\n",
        "import torch as t\n",
        "import torch.nn as nn\n",
        "import torch.nn.functional as F\n",
        "from torch import Tensor\n",
        "from transformer_lens import (\n",
        "    ActivationCache,\n",
        "    FactoredMatrix,\n",
        "    HookedTransformer,\n",
        "    HookedTransformerConfig,\n",
        "    utils,\n",
        ")\n",
        "from transformer_lens.hook_points import HookPoint"
      ],
      "metadata": {
        "id": "oUuoGz1ur6Ct"
      },
      "execution_count": 99,
      "outputs": []
    },
    {
      "cell_type": "code",
      "source": [
        "import random as rand\n",
        "import plotly.express as px\n",
        "from IPython.display import display"
      ],
      "metadata": {
        "id": "ZDpjg9KCMx3P"
      },
      "execution_count": 100,
      "outputs": []
    },
    {
      "cell_type": "markdown",
      "source": [
        "### 1.1 Generate input prompt"
      ],
      "metadata": {
        "id": "a63A0WEToMzV"
      }
    },
    {
      "cell_type": "code",
      "execution_count": 101,
      "metadata": {
        "colab": {
          "base_uri": "https://localhost:8080/"
        },
        "id": "zNsmbpepkrtX",
        "outputId": "16e5b2cf-163b-4719-cc12-1b874b35f1d0"
      },
      "outputs": [
        {
          "output_type": "stream",
          "name": "stdout",
          "text": [
            "        0        1          2         3       4         5\n",
            "0     dog      cat       fish       rat     bat     horse\n",
            "1     red     blue      green      pink    gray      cyan\n",
            "2     you       he        his       she     her     their\n",
            "3     car      bus        van      taxi    jeep      tram\n",
            "4   Italy  Iceland    Austria    Mexico   Spain    France\n",
            "5     sad      mad       glad     angry    calm     happy\n",
            "6  Monday  Tuesday  Wednesday  Thursday  Friday  Saturday\n",
            "7      69       72         88        68      90        57\n",
            "8    1800     2025       1275      1945    1600      2100\n"
          ]
        }
      ],
      "source": [
        "semantic_words_file = pd.read_csv('semantic_words.csv', header=None)\n",
        "print(semantic_words_file.to_string())"
      ]
    },
    {
      "cell_type": "code",
      "source": [
        "# Create shuffled list of tokens\n",
        "n_sequences = 30\n",
        "n_tokens = 12\n",
        "n_rows = semantic_words_file.shape[0]\n",
        "\n",
        "inputs = np.empty((n_sequences, n_tokens), dtype=tuple)\n",
        "\n",
        "for i in range(n_sequences):\n",
        "  subset = semantic_words_file.sample(4)\n",
        "  for j in range(n_tokens):\n",
        "    category_list = subset.sample(1)\n",
        "    category = category_list.index[0]\n",
        "    token = category_list.iloc[0].sample(1).values[0]\n",
        "    inputs[i, j] = (category, token)\n",
        "# print(inputs)"
      ],
      "metadata": {
        "id": "kPTOFv_Hu2IW",
        "collapsed": true
      },
      "execution_count": 102,
      "outputs": []
    },
    {
      "cell_type": "code",
      "source": [
        "#create masks representing where tokens in an input share a category\n",
        "masks = np.zeros((n_sequences, n_tokens, n_tokens))\n",
        "\n",
        "for seq in range(n_sequences):\n",
        "  for i in range(n_tokens):\n",
        "    for j in range(n_tokens):\n",
        "      if inputs[seq, i][0] == inputs[seq, j][0] and inputs[seq, i][1] != inputs[seq, j][1] and i > j: # ensures upper triangle is 0s\n",
        "        masks[seq, i, j] = 1"
      ],
      "metadata": {
        "id": "6zq_q0WrXRfg"
      },
      "execution_count": 103,
      "outputs": []
    },
    {
      "cell_type": "code",
      "source": [
        "show_mask = 1\n",
        "fig = px.imshow(masks[show_mask], labels=dict(x=\"Token Index\", y=\"Token Index\", color=\"Same Category\")) # Added labels dictionary\n",
        "fig.update_layout(xaxis = dict(\n",
        "        tickmode = 'array',\n",
        "        tickvals = list(range(n_tokens)),\n",
        "        ticktext = [inputs[show_mask, i][1] for i in range(n_tokens)] # Use tokens from inputs for x-axis\n",
        "    ),\n",
        "    yaxis = dict(\n",
        "        tickmode = 'array',\n",
        "        tickvals = list(range(n_tokens)),\n",
        "        ticktext = [inputs[show_mask, i][1] for i in range(n_tokens)] # Use tokens from inputs for y-axis\n",
        "    )\n",
        ")\n",
        "fig.show()"
      ],
      "metadata": {
        "id": "2qn3t2CVass-"
      },
      "execution_count": null,
      "outputs": []
    },
    {
      "cell_type": "markdown",
      "source": [
        "### Load & test gpt2-small:"
      ],
      "metadata": {
        "id": "QvvWExRYkTdI"
      }
    },
    {
      "cell_type": "code",
      "source": [
        "model = HookedTransformer.from_pretrained(\"gpt2-small\", device=\"cpu\")\n",
        "print(model.cfg)"
      ],
      "metadata": {
        "id": "TlwpExqFkZ9w",
        "colab": {
          "base_uri": "https://localhost:8080/"
        },
        "outputId": "dd3fd534-c8c0-4191-b5cc-8fbb30da135f"
      },
      "execution_count": 113,
      "outputs": [
        {
          "output_type": "stream",
          "name": "stdout",
          "text": [
            "Loaded pretrained model gpt2-small into HookedTransformer\n",
            "HookedTransformerConfig:\n",
            "{'NTK_by_parts_factor': 8.0,\n",
            " 'NTK_by_parts_high_freq_factor': 4.0,\n",
            " 'NTK_by_parts_low_freq_factor': 1.0,\n",
            " 'act_fn': 'gelu_new',\n",
            " 'attention_dir': 'causal',\n",
            " 'attn_only': False,\n",
            " 'attn_scale': 8.0,\n",
            " 'attn_scores_soft_cap': -1.0,\n",
            " 'attn_types': None,\n",
            " 'checkpoint_index': None,\n",
            " 'checkpoint_label_type': None,\n",
            " 'checkpoint_value': None,\n",
            " 'd_head': 64,\n",
            " 'd_mlp': 3072,\n",
            " 'd_model': 768,\n",
            " 'd_vocab': 50257,\n",
            " 'd_vocab_out': 50257,\n",
            " 'decoder_start_token_id': None,\n",
            " 'default_prepend_bos': True,\n",
            " 'device': 'cpu',\n",
            " 'dtype': torch.float32,\n",
            " 'eps': 1e-05,\n",
            " 'experts_per_token': None,\n",
            " 'final_rms': False,\n",
            " 'from_checkpoint': False,\n",
            " 'gated_mlp': False,\n",
            " 'init_mode': 'gpt2',\n",
            " 'init_weights': False,\n",
            " 'initializer_range': 0.02886751345948129,\n",
            " 'load_in_4bit': False,\n",
            " 'model_name': 'gpt2',\n",
            " 'n_ctx': 1024,\n",
            " 'n_devices': 1,\n",
            " 'n_heads': 12,\n",
            " 'n_key_value_heads': None,\n",
            " 'n_layers': 12,\n",
            " 'n_params': 84934656,\n",
            " 'normalization_type': 'LNPre',\n",
            " 'num_experts': None,\n",
            " 'original_architecture': 'GPT2LMHeadModel',\n",
            " 'output_logits_soft_cap': -1.0,\n",
            " 'parallel_attn_mlp': False,\n",
            " 'positional_embedding_type': 'standard',\n",
            " 'post_embedding_ln': False,\n",
            " 'relative_attention_max_distance': None,\n",
            " 'relative_attention_num_buckets': None,\n",
            " 'rotary_adjacent_pairs': False,\n",
            " 'rotary_base': 10000,\n",
            " 'rotary_dim': None,\n",
            " 'scale_attn_by_inverse_layer_idx': False,\n",
            " 'seed': None,\n",
            " 'tie_word_embeddings': False,\n",
            " 'tokenizer_name': 'gpt2',\n",
            " 'tokenizer_prepends_bos': False,\n",
            " 'trust_remote_code': False,\n",
            " 'ungroup_grouped_query_attention': False,\n",
            " 'use_NTK_by_parts_rope': False,\n",
            " 'use_attn_in': False,\n",
            " 'use_attn_result': False,\n",
            " 'use_attn_scale': True,\n",
            " 'use_hook_mlp_in': False,\n",
            " 'use_hook_tokens': False,\n",
            " 'use_local_attn': False,\n",
            " 'use_normalization_before_and_after': False,\n",
            " 'use_split_qkv_input': False,\n",
            " 'window_size': None}\n"
          ]
        }
      ]
    },
    {
      "cell_type": "code",
      "source": [
        "# run model on selected sequence & cache activation\n",
        "sequence_index = show_mask\n",
        "test_input = ' '.join([inputs[sequence_index, i][1] for i in range(n_tokens)])\n",
        "print(\"input: \" + test_input)\n",
        "input_tokens = model.to_tokens(test_input)\n",
        "logits, cache = model.run_with_cache(input_tokens)"
      ],
      "metadata": {
        "colab": {
          "base_uri": "https://localhost:8080/"
        },
        "id": "yub7MsEKlDa4",
        "outputId": "8d773346-b405-46b4-c144-7e07dcba569e"
      },
      "execution_count": 106,
      "outputs": [
        {
          "output_type": "stream",
          "name": "stdout",
          "text": [
            "input: France 1945 dog cat Iceland France rat Spain angry Italy sad rat\n"
          ]
        }
      ]
    },
    {
      "cell_type": "code",
      "source": [
        "layer_number = 1\n",
        "layer1_patterns = cache[\"pattern\", layer_number]\n",
        "print(layer1_patterns.shape)\n",
        "print(input_tokens.shape)\n",
        "print(input_tokens.squeeze())\n",
        "str_tokens = model.to_str_tokens(input_tokens.squeeze())\n",
        "\n",
        "display(\n",
        "    cv.attention.attention_patterns(\n",
        "        tokens=str_tokens,\n",
        "        attention=layer1_patterns.squeeze(),\n",
        "        attention_head_names=[f\"L{layer_number}H{i}\" for i in range(12)],\n",
        "    )\n",
        ")"
      ],
      "metadata": {
        "id": "WtbV05XCm252"
      },
      "execution_count": null,
      "outputs": []
    },
    {
      "cell_type": "markdown",
      "source": [
        "### Pattern detector:"
      ],
      "metadata": {
        "id": "HW1HJh0ITDjE"
      }
    },
    {
      "cell_type": "code",
      "source": [
        "print(f\"layers: {model.cfg.n_layers}\")\n",
        "print(f\"heads per layer: {model.cfg.n_heads}\")"
      ],
      "metadata": {
        "colab": {
          "base_uri": "https://localhost:8080/"
        },
        "id": "kmgi9TYtTesU",
        "outputId": "0df6bfd5-5512-43d6-a815-36f4d1e6e198"
      },
      "execution_count": 108,
      "outputs": [
        {
          "output_type": "stream",
          "name": "stdout",
          "text": [
            "layers: 12\n",
            "heads per layer: 12\n"
          ]
        }
      ]
    },
    {
      "cell_type": "code",
      "source": [
        "def evaluate_semantic_head(cache: ActivationCache, layer:int, head:int):\n",
        "  attention_pattern = cache[\"pattern\", layer].squeeze()[head]\n",
        "  expected_attention = attention_pattern[1:,1:][t.from_numpy(masks[sequence_index]).bool()] # slice attention to ignore |endoftext| and then apply mask\n",
        "  return t.mean(expected_attention)\n",
        "\n",
        "def semantic_head_detector(cache: ActivationCache):\n",
        "  scores = np.zeros((model.cfg.n_layers, model.cfg.n_heads))\n",
        "\n",
        "  # calculate attention score for current input for each attention head\n",
        "  for layer in range(model.cfg.n_layers):\n",
        "    for head in range(model.cfg.n_heads):\n",
        "      scores[layer, head] = evaluate_semantic_head(cache, layer, head)\n",
        "  return scores\n"
      ],
      "metadata": {
        "id": "iIuPQ2N2TQPE"
      },
      "execution_count": 111,
      "outputs": []
    },
    {
      "cell_type": "code",
      "source": [
        "attn_head_scores = semantic_head_detector(cache)\n",
        "fig = px.imshow(attn_head_scores, labels=dict(x=\"Head\", y=\"Layer\", color=\"Attention Score\"))\n",
        "fig.show()"
      ],
      "metadata": {
        "id": "zWL-cDBZZYaJ"
      },
      "execution_count": null,
      "outputs": []
    },
    {
      "cell_type": "markdown",
      "source": [
        "## Measuring Component importance:\n",
        "In order to measure which components are contributing to the function of L1H5, we perform a mean ablation study. We replace each previous compenent of the network with its mean and re-measure the attention score of our metric for L1H5 to see if it was impacted by the ablation of that component. The components which when ablated has the most effect on the performance of L1H5 are the components which contribute to its function."
      ],
      "metadata": {
        "id": "e0RW1Cvj2Jzc"
      }
    },
    {
      "cell_type": "code",
      "source": [
        "pos_embed_name = utils.get_act_name(\"pos\")\n",
        "print(model.W_pos.size())"
      ],
      "metadata": {
        "id": "ABM3-pPL_6NS",
        "outputId": "a6a3be37-41cf-4999-824b-73c8ebadb90f",
        "colab": {
          "base_uri": "https://localhost:8080/"
        }
      },
      "execution_count": 121,
      "outputs": [
        {
          "output_type": "stream",
          "name": "stdout",
          "text": [
            "torch.Size([1024, 768])\n"
          ]
        }
      ]
    },
    {
      "cell_type": "code",
      "source": [
        "#perform mean ablation on positional embedding\n",
        "def positional_embedding_ablation_hook(\n",
        "    pos_embed: float[t.Tensor, \"n_ctx d_model\"],\n",
        "    hook: HookPoint,\n",
        "):\n",
        "  print(pos_embed)"
      ],
      "metadata": {
        "id": "mOfOpkjC21An"
      },
      "execution_count": null,
      "outputs": []
    }
  ]
}